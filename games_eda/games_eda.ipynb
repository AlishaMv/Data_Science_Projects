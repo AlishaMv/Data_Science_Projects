{
 "cells": [
  {
   "cell_type": "markdown",
   "metadata": {},
   "source": [
    "# Выявление закономерностей, определяющих успешность компьютерных игр\n",
    "\n",
    "\n",
    "Заказчик — интернет-магазин «Стримчик», который продаёт по всему миру компьютерные игры. В данном проекте нам необходимо будет выявить определяющие успешность игры закономерности. Это позволит сделать ставку на потенциально популярный продукт и спланировать рекламные кампании.\n",
    "\n",
    "Входные данные от интернет-магазина — историческая информация о продажах игр, оценки пользователей и экспертов, жанры и платформы (например, Xbox или PlayStation), собранная из открытых источников.\n",
    "Нужно помочь интернет-магазину «Стримчик» спрогнозировать по предоставленным данным рекламную компанию на 2017 год и отработать на этом примере общий принцип работы с данными.\n",
    "\n",
    "*В наборе данных попадается аббревиатура ESRB (Entertainment Software Rating Board) — это ассоциация, определяющая возрастной рейтинг компьютерных игр. ESRB оценивает игровой контент и присваивает ему подходящую возрастную категорию, например, «Для взрослых», «Для детей младшего возраста» или «Для подростков».*\n",
    "\n",
    "Для начала,  \n",
    "* импортируем библиотеку pandas, необходимую для обработки и анализа данных;  \n",
    "* модуль .pyplot из библиотеки matplotlib для создания графиков и гистограмм;  \n",
    "* библиотеку warnings, которая позволяет игнорировать предупреждения от указанного модуля;  \n",
    "* библиотеку высокоуровневых математических функций numpy;  \n",
    "* пакет scipy.stats, содержащий статистические распределения и функции"
   ]
  },
  {
   "cell_type": "code",
   "execution_count": 1,
   "metadata": {},
   "outputs": [],
   "source": [
    "import pandas as pd\n",
    "import matplotlib.pyplot as plt\n",
    "import warnings\n",
    "warnings.filterwarnings('ignore')\n",
    "import numpy as np\n",
    "from scipy import stats as st\n",
    "import plotly.express as px"
   ]
  },
  {
   "cell_type": "markdown",
   "metadata": {},
   "source": [
    "<a id='MENU'></a>\n",
    "# Оглавление\n",
    "1. [Загрузка и первичный осмотр данных](#open_data) <br>\n",
    "    1.1 [Загрузка таблицы](#read_file) <br>\n",
    "    1.2 [Описание данных](#describe) <br>\n",
    "    1.3 [Первичный осмотр данных](#data_inspection) <br>\n",
    "    1.4 [Выводы](#conclusion_1) <br>\n",
    "2. [Предобработка данных](#data_preparation) <br>\n",
    "    2.1 [Правка названий столбцов](#columns_names) <br>\n",
    "    2.2 [Преобразование данных в нужные типы](#data_types) <br>\n",
    "    2.3 [Анализ и обработка пропусков](#missing_values) <br>\n",
    "    2.4 [Подсчет суммарных продаж по всем регионам](#total_sales) <br>\n",
    "    2.5 [Устранение смыслового дубликата](#dublicate) <br>\n",
    "    2.6 [Вывод](#conclusion_2) <br>\n",
    "3. [Исследовательский анализ данных](#data_analysis)<br>\n",
    "    3.1 [Количество игр по периодам](#game_count)<br>\n",
    "    3.2 [Распределение суммарных продаж по популярным платформам](#total_sales_distribution)<br>\n",
    "    3.3 [Диаграмма размаха по глобальным продажам игр](#total_sales_box_plot)<br>\n",
    "    3.4 [Влияние отзывов пользователей и критиков на продажи одной платформы](#reviews_to_sales)<br>\n",
    "    3.5 [Общее распределение игр по жанрам](#game_distribution_by_genre)<br>\n",
    "    3.6 [Вывод](#conclusion_3) <br>\n",
    "4. [Формирование портрета пользователя каждого региона](#user_portrait)<br>\n",
    "    4.1 [Топ-5 самых популярных платформ](#top_5_platforms)<br>\n",
    "    4.2 [Топ-5 самых популярных жанров](#top_5_genres)<br>\n",
    "    4.3 [Определение влияния рейтинга ESRB на продажи в отдельном регионе](#esrb_to_sales)<br>\n",
    "    4.4 [Вывод](#conclusion_4) <br>\n",
    "5. [Проверка гипотез](#hypotheses_testing)<br>\n",
    "    5.1 [Гипотеза №1](#hypothesis_1)<br>\n",
    "    5.2 [Гипотеза №2](#hypothesis_2)<br>\n",
    "6. [Общий вывод](#general_conclusion)<br>"
   ]
  },
  {
   "cell_type": "markdown",
   "metadata": {},
   "source": [
    "<a id='open_data'></a>\n",
    "## Загрузка и первичный осмотр данных\n",
    "\n",
    "<a id='read_file'></a>\n",
    "### Загрузка таблицы\n",
    "\n",
    "Прочитаем csv-файл методом .read_csv и просмотрим первые 10 строк датафрейма"
   ]
  },
  {
   "cell_type": "code",
   "execution_count": 2,
   "metadata": {},
   "outputs": [
    {
     "data": {
      "text/html": [
       "<div>\n",
       "<style scoped>\n",
       "    .dataframe tbody tr th:only-of-type {\n",
       "        vertical-align: middle;\n",
       "    }\n",
       "\n",
       "    .dataframe tbody tr th {\n",
       "        vertical-align: top;\n",
       "    }\n",
       "\n",
       "    .dataframe thead th {\n",
       "        text-align: right;\n",
       "    }\n",
       "</style>\n",
       "<table border=\"1\" class=\"dataframe\">\n",
       "  <thead>\n",
       "    <tr style=\"text-align: right;\">\n",
       "      <th></th>\n",
       "      <th>Name</th>\n",
       "      <th>Platform</th>\n",
       "      <th>Year_of_Release</th>\n",
       "      <th>Genre</th>\n",
       "      <th>NA_sales</th>\n",
       "      <th>EU_sales</th>\n",
       "      <th>JP_sales</th>\n",
       "      <th>Other_sales</th>\n",
       "      <th>Critic_Score</th>\n",
       "      <th>User_Score</th>\n",
       "      <th>Rating</th>\n",
       "    </tr>\n",
       "  </thead>\n",
       "  <tbody>\n",
       "    <tr>\n",
       "      <td>0</td>\n",
       "      <td>Wii Sports</td>\n",
       "      <td>Wii</td>\n",
       "      <td>2006.0</td>\n",
       "      <td>Sports</td>\n",
       "      <td>41.36</td>\n",
       "      <td>28.96</td>\n",
       "      <td>3.77</td>\n",
       "      <td>8.45</td>\n",
       "      <td>76.0</td>\n",
       "      <td>8</td>\n",
       "      <td>E</td>\n",
       "    </tr>\n",
       "    <tr>\n",
       "      <td>1</td>\n",
       "      <td>Super Mario Bros.</td>\n",
       "      <td>NES</td>\n",
       "      <td>1985.0</td>\n",
       "      <td>Platform</td>\n",
       "      <td>29.08</td>\n",
       "      <td>3.58</td>\n",
       "      <td>6.81</td>\n",
       "      <td>0.77</td>\n",
       "      <td>NaN</td>\n",
       "      <td>NaN</td>\n",
       "      <td>NaN</td>\n",
       "    </tr>\n",
       "    <tr>\n",
       "      <td>2</td>\n",
       "      <td>Mario Kart Wii</td>\n",
       "      <td>Wii</td>\n",
       "      <td>2008.0</td>\n",
       "      <td>Racing</td>\n",
       "      <td>15.68</td>\n",
       "      <td>12.76</td>\n",
       "      <td>3.79</td>\n",
       "      <td>3.29</td>\n",
       "      <td>82.0</td>\n",
       "      <td>8.3</td>\n",
       "      <td>E</td>\n",
       "    </tr>\n",
       "    <tr>\n",
       "      <td>3</td>\n",
       "      <td>Wii Sports Resort</td>\n",
       "      <td>Wii</td>\n",
       "      <td>2009.0</td>\n",
       "      <td>Sports</td>\n",
       "      <td>15.61</td>\n",
       "      <td>10.93</td>\n",
       "      <td>3.28</td>\n",
       "      <td>2.95</td>\n",
       "      <td>80.0</td>\n",
       "      <td>8</td>\n",
       "      <td>E</td>\n",
       "    </tr>\n",
       "    <tr>\n",
       "      <td>4</td>\n",
       "      <td>Pokemon Red/Pokemon Blue</td>\n",
       "      <td>GB</td>\n",
       "      <td>1996.0</td>\n",
       "      <td>Role-Playing</td>\n",
       "      <td>11.27</td>\n",
       "      <td>8.89</td>\n",
       "      <td>10.22</td>\n",
       "      <td>1.00</td>\n",
       "      <td>NaN</td>\n",
       "      <td>NaN</td>\n",
       "      <td>NaN</td>\n",
       "    </tr>\n",
       "    <tr>\n",
       "      <td>5</td>\n",
       "      <td>Tetris</td>\n",
       "      <td>GB</td>\n",
       "      <td>1989.0</td>\n",
       "      <td>Puzzle</td>\n",
       "      <td>23.20</td>\n",
       "      <td>2.26</td>\n",
       "      <td>4.22</td>\n",
       "      <td>0.58</td>\n",
       "      <td>NaN</td>\n",
       "      <td>NaN</td>\n",
       "      <td>NaN</td>\n",
       "    </tr>\n",
       "    <tr>\n",
       "      <td>6</td>\n",
       "      <td>New Super Mario Bros.</td>\n",
       "      <td>DS</td>\n",
       "      <td>2006.0</td>\n",
       "      <td>Platform</td>\n",
       "      <td>11.28</td>\n",
       "      <td>9.14</td>\n",
       "      <td>6.50</td>\n",
       "      <td>2.88</td>\n",
       "      <td>89.0</td>\n",
       "      <td>8.5</td>\n",
       "      <td>E</td>\n",
       "    </tr>\n",
       "    <tr>\n",
       "      <td>7</td>\n",
       "      <td>Wii Play</td>\n",
       "      <td>Wii</td>\n",
       "      <td>2006.0</td>\n",
       "      <td>Misc</td>\n",
       "      <td>13.96</td>\n",
       "      <td>9.18</td>\n",
       "      <td>2.93</td>\n",
       "      <td>2.84</td>\n",
       "      <td>58.0</td>\n",
       "      <td>6.6</td>\n",
       "      <td>E</td>\n",
       "    </tr>\n",
       "    <tr>\n",
       "      <td>8</td>\n",
       "      <td>New Super Mario Bros. Wii</td>\n",
       "      <td>Wii</td>\n",
       "      <td>2009.0</td>\n",
       "      <td>Platform</td>\n",
       "      <td>14.44</td>\n",
       "      <td>6.94</td>\n",
       "      <td>4.70</td>\n",
       "      <td>2.24</td>\n",
       "      <td>87.0</td>\n",
       "      <td>8.4</td>\n",
       "      <td>E</td>\n",
       "    </tr>\n",
       "    <tr>\n",
       "      <td>9</td>\n",
       "      <td>Duck Hunt</td>\n",
       "      <td>NES</td>\n",
       "      <td>1984.0</td>\n",
       "      <td>Shooter</td>\n",
       "      <td>26.93</td>\n",
       "      <td>0.63</td>\n",
       "      <td>0.28</td>\n",
       "      <td>0.47</td>\n",
       "      <td>NaN</td>\n",
       "      <td>NaN</td>\n",
       "      <td>NaN</td>\n",
       "    </tr>\n",
       "  </tbody>\n",
       "</table>\n",
       "</div>"
      ],
      "text/plain": [
       "                        Name Platform  Year_of_Release         Genre  \\\n",
       "0                 Wii Sports      Wii           2006.0        Sports   \n",
       "1          Super Mario Bros.      NES           1985.0      Platform   \n",
       "2             Mario Kart Wii      Wii           2008.0        Racing   \n",
       "3          Wii Sports Resort      Wii           2009.0        Sports   \n",
       "4   Pokemon Red/Pokemon Blue       GB           1996.0  Role-Playing   \n",
       "5                     Tetris       GB           1989.0        Puzzle   \n",
       "6      New Super Mario Bros.       DS           2006.0      Platform   \n",
       "7                   Wii Play      Wii           2006.0          Misc   \n",
       "8  New Super Mario Bros. Wii      Wii           2009.0      Platform   \n",
       "9                  Duck Hunt      NES           1984.0       Shooter   \n",
       "\n",
       "   NA_sales  EU_sales  JP_sales  Other_sales  Critic_Score User_Score Rating  \n",
       "0     41.36     28.96      3.77         8.45          76.0          8      E  \n",
       "1     29.08      3.58      6.81         0.77           NaN        NaN    NaN  \n",
       "2     15.68     12.76      3.79         3.29          82.0        8.3      E  \n",
       "3     15.61     10.93      3.28         2.95          80.0          8      E  \n",
       "4     11.27      8.89     10.22         1.00           NaN        NaN    NaN  \n",
       "5     23.20      2.26      4.22         0.58           NaN        NaN    NaN  \n",
       "6     11.28      9.14      6.50         2.88          89.0        8.5      E  \n",
       "7     13.96      9.18      2.93         2.84          58.0        6.6      E  \n",
       "8     14.44      6.94      4.70         2.24          87.0        8.4      E  \n",
       "9     26.93      0.63      0.28         0.47           NaN        NaN    NaN  "
      ]
     },
     "execution_count": 2,
     "metadata": {},
     "output_type": "execute_result"
    }
   ],
   "source": [
    "df = pd.read_csv('/datasets/games.csv')\n",
    "\n",
    "df.head(10)"
   ]
  },
  {
   "cell_type": "markdown",
   "metadata": {},
   "source": [
    "<a id='describe'></a>\n",
    "### Описание данных\n",
    "\n",
    "* Name — название игры\n",
    "* Platform — платформа\n",
    "* Year_of_Release — год выпуска\n",
    "* Genre — жанр игры\n",
    "* NA_sales — продажи в Северной Америке (миллионы проданных копий)\n",
    "* EU_sales — продажи в Европе (миллионы проданных копий)\n",
    "* JP_sales — продажи в Японии (миллионы проданных копий)\n",
    "* Other_sales — продажи в других странах (миллионы проданных копий)\n",
    "* Critic_Score — оценка критиков (максимум 100)\n",
    "* User_Score — оценка пользователей (максимум 10)\n",
    "* Rating — рейтинг от организации ESRB (англ. Entertainment Software Rating Board). Эта ассоциация определяет рейтинг компьютерных игр и присваивает им подходящую возрастную категорию."
   ]
  },
  {
   "cell_type": "markdown",
   "metadata": {},
   "source": [
    "<a id='data_inspection'></a>\n",
    "### Первичный осмотр данных \n",
    "\n",
    "Получим общую информацию о данных из таблицы df"
   ]
  },
  {
   "cell_type": "code",
   "execution_count": 3,
   "metadata": {},
   "outputs": [
    {
     "name": "stdout",
     "output_type": "stream",
     "text": [
      "<class 'pandas.core.frame.DataFrame'>\n",
      "RangeIndex: 16715 entries, 0 to 16714\n",
      "Data columns (total 11 columns):\n",
      "Name               16713 non-null object\n",
      "Platform           16715 non-null object\n",
      "Year_of_Release    16446 non-null float64\n",
      "Genre              16713 non-null object\n",
      "NA_sales           16715 non-null float64\n",
      "EU_sales           16715 non-null float64\n",
      "JP_sales           16715 non-null float64\n",
      "Other_sales        16715 non-null float64\n",
      "Critic_Score       8137 non-null float64\n",
      "User_Score         10014 non-null object\n",
      "Rating             9949 non-null object\n",
      "dtypes: float64(6), object(5)\n",
      "memory usage: 1.4+ MB\n"
     ]
    }
   ],
   "source": [
    "df.info()"
   ]
  },
  {
   "cell_type": "markdown",
   "metadata": {},
   "source": [
    "Рассмотрим подробнее полученную информацию.\n",
    "\n",
    "Всего в таблице 11 столбцов.  \n",
    "Типы данных столбцов: < float64 > и < object >.  \n",
    "Количество значений в столбцах различается. Это говорит о том, что в данных есть пропуски.  \n",
    "\n",
    "Изучим статистические метрики по столбцам с числовым типом данных:"
   ]
  },
  {
   "cell_type": "code",
   "execution_count": 4,
   "metadata": {},
   "outputs": [
    {
     "data": {
      "text/html": [
       "<div>\n",
       "<style scoped>\n",
       "    .dataframe tbody tr th:only-of-type {\n",
       "        vertical-align: middle;\n",
       "    }\n",
       "\n",
       "    .dataframe tbody tr th {\n",
       "        vertical-align: top;\n",
       "    }\n",
       "\n",
       "    .dataframe thead th {\n",
       "        text-align: right;\n",
       "    }\n",
       "</style>\n",
       "<table border=\"1\" class=\"dataframe\">\n",
       "  <thead>\n",
       "    <tr style=\"text-align: right;\">\n",
       "      <th></th>\n",
       "      <th>Year_of_Release</th>\n",
       "      <th>NA_sales</th>\n",
       "      <th>EU_sales</th>\n",
       "      <th>JP_sales</th>\n",
       "      <th>Other_sales</th>\n",
       "      <th>Critic_Score</th>\n",
       "    </tr>\n",
       "  </thead>\n",
       "  <tbody>\n",
       "    <tr>\n",
       "      <td>count</td>\n",
       "      <td>16446.000000</td>\n",
       "      <td>16715.000000</td>\n",
       "      <td>16715.000000</td>\n",
       "      <td>16715.000000</td>\n",
       "      <td>16715.000000</td>\n",
       "      <td>8137.000000</td>\n",
       "    </tr>\n",
       "    <tr>\n",
       "      <td>mean</td>\n",
       "      <td>2006.484616</td>\n",
       "      <td>0.263377</td>\n",
       "      <td>0.145060</td>\n",
       "      <td>0.077617</td>\n",
       "      <td>0.047342</td>\n",
       "      <td>68.967679</td>\n",
       "    </tr>\n",
       "    <tr>\n",
       "      <td>std</td>\n",
       "      <td>5.877050</td>\n",
       "      <td>0.813604</td>\n",
       "      <td>0.503339</td>\n",
       "      <td>0.308853</td>\n",
       "      <td>0.186731</td>\n",
       "      <td>13.938165</td>\n",
       "    </tr>\n",
       "    <tr>\n",
       "      <td>min</td>\n",
       "      <td>1980.000000</td>\n",
       "      <td>0.000000</td>\n",
       "      <td>0.000000</td>\n",
       "      <td>0.000000</td>\n",
       "      <td>0.000000</td>\n",
       "      <td>13.000000</td>\n",
       "    </tr>\n",
       "    <tr>\n",
       "      <td>25%</td>\n",
       "      <td>2003.000000</td>\n",
       "      <td>0.000000</td>\n",
       "      <td>0.000000</td>\n",
       "      <td>0.000000</td>\n",
       "      <td>0.000000</td>\n",
       "      <td>60.000000</td>\n",
       "    </tr>\n",
       "    <tr>\n",
       "      <td>50%</td>\n",
       "      <td>2007.000000</td>\n",
       "      <td>0.080000</td>\n",
       "      <td>0.020000</td>\n",
       "      <td>0.000000</td>\n",
       "      <td>0.010000</td>\n",
       "      <td>71.000000</td>\n",
       "    </tr>\n",
       "    <tr>\n",
       "      <td>75%</td>\n",
       "      <td>2010.000000</td>\n",
       "      <td>0.240000</td>\n",
       "      <td>0.110000</td>\n",
       "      <td>0.040000</td>\n",
       "      <td>0.030000</td>\n",
       "      <td>79.000000</td>\n",
       "    </tr>\n",
       "    <tr>\n",
       "      <td>max</td>\n",
       "      <td>2016.000000</td>\n",
       "      <td>41.360000</td>\n",
       "      <td>28.960000</td>\n",
       "      <td>10.220000</td>\n",
       "      <td>10.570000</td>\n",
       "      <td>98.000000</td>\n",
       "    </tr>\n",
       "  </tbody>\n",
       "</table>\n",
       "</div>"
      ],
      "text/plain": [
       "       Year_of_Release      NA_sales      EU_sales      JP_sales  \\\n",
       "count     16446.000000  16715.000000  16715.000000  16715.000000   \n",
       "mean       2006.484616      0.263377      0.145060      0.077617   \n",
       "std           5.877050      0.813604      0.503339      0.308853   \n",
       "min        1980.000000      0.000000      0.000000      0.000000   \n",
       "25%        2003.000000      0.000000      0.000000      0.000000   \n",
       "50%        2007.000000      0.080000      0.020000      0.000000   \n",
       "75%        2010.000000      0.240000      0.110000      0.040000   \n",
       "max        2016.000000     41.360000     28.960000     10.220000   \n",
       "\n",
       "        Other_sales  Critic_Score  \n",
       "count  16715.000000   8137.000000  \n",
       "mean       0.047342     68.967679  \n",
       "std        0.186731     13.938165  \n",
       "min        0.000000     13.000000  \n",
       "25%        0.000000     60.000000  \n",
       "50%        0.010000     71.000000  \n",
       "75%        0.030000     79.000000  \n",
       "max       10.570000     98.000000  "
      ]
     },
     "execution_count": 4,
     "metadata": {},
     "output_type": "execute_result"
    }
   ],
   "source": [
    "df.describe()"
   ]
  },
  {
   "cell_type": "code",
   "execution_count": 5,
   "metadata": {},
   "outputs": [
    {
     "data": {
      "text/plain": [
       "11559"
      ]
     },
     "execution_count": 5,
     "metadata": {},
     "output_type": "execute_result"
    }
   ],
   "source": [
    "df.Name.nunique()"
   ]
  },
  {
   "cell_type": "markdown",
   "metadata": {},
   "source": [
    "<a id='conclusion_1'></a>\n",
    "### Выводы\n",
    "\n",
    "Каждая строка таблицы df хранит информацию об одной компьютерной игре: название, платформа, год выпуска, жанр, продажи в разных странах в млн копий, оценки критиков и пользователей, а также рейтинг от организации ESRB.\n",
    "\n",
    "1. Наименования всех столбцов сформулированы некорректно, т.к. записаны в разном регистре, что осложняет доступ к ним  \n",
    "2. 6 столбцов из  11 содержат пропущенные значения  \n",
    "3. Некоторые столбцы имеют некорректный тип данных: User_Score (имеет строковый тип вместо вещественного), Year_of_Release (вещественный вместо целочисленного)  \n",
    "4. Информация по играм собрана с 1980 по 2016г включительно  \n",
    "5. Слишком больших значений в столбцах мы не обнаружили, но можно отметить что во всех столбцах с продажами имеются нули, которые можно объяснить тем, что продаж не было вовсе, т.к. игра не приобрела популярность или продаж было так мало, что это число ближе к нулю, чем к 0.01 от млн копий  \n",
    "\n",
    "[Назад к оглавлению](#MENU)"
   ]
  },
  {
   "cell_type": "markdown",
   "metadata": {},
   "source": [
    "<a id='data_preparation'></a>\n",
    "## Предобработка данных\n",
    "<a id='columns_names'></a>\n",
    "### Правка названий столбцов\n",
    "\n",
    "Заменим названия столбцов на корректные (имеющие одинаковый регистр букв) при помощи присваивания:"
   ]
  },
  {
   "cell_type": "code",
   "execution_count": 6,
   "metadata": {},
   "outputs": [
    {
     "data": {
      "text/plain": [
       "Index(['Name', 'Platform', 'Year_of_Release', 'Genre', 'NA_sales', 'EU_sales',\n",
       "       'JP_sales', 'Other_sales', 'Critic_Score', 'User_Score', 'Rating'],\n",
       "      dtype='object')"
      ]
     },
     "execution_count": 6,
     "metadata": {},
     "output_type": "execute_result"
    }
   ],
   "source": [
    "df.columns"
   ]
  },
  {
   "cell_type": "code",
   "execution_count": 7,
   "metadata": {},
   "outputs": [
    {
     "data": {
      "text/plain": [
       "Index(['name', 'platform', 'year_of_release', 'genre', 'na_sales', 'eu_sales',\n",
       "       'jp_sales', 'other_sales', 'critic_score', 'user_score', 'rating'],\n",
       "      dtype='object')"
      ]
     },
     "execution_count": 7,
     "metadata": {},
     "output_type": "execute_result"
    }
   ],
   "source": [
    "df.columns = df.columns.str.lower()\n",
    "df.columns"
   ]
  },
  {
   "cell_type": "markdown",
   "metadata": {},
   "source": [
    "Теперь к столбцам будет удобно обращаться по их названию\n",
    "\n",
    "<a id='data_types'></a>\n",
    "### Преобразование данных в нужные типы \n",
    "\n",
    "Посмотрим на типы данных в столбцах еще раз:"
   ]
  },
  {
   "cell_type": "code",
   "execution_count": 8,
   "metadata": {},
   "outputs": [
    {
     "data": {
      "text/plain": [
       "name                object\n",
       "platform            object\n",
       "year_of_release    float64\n",
       "genre               object\n",
       "na_sales           float64\n",
       "eu_sales           float64\n",
       "jp_sales           float64\n",
       "other_sales        float64\n",
       "critic_score       float64\n",
       "user_score          object\n",
       "rating              object\n",
       "dtype: object"
      ]
     },
     "execution_count": 8,
     "metadata": {},
     "output_type": "execute_result"
    }
   ],
   "source": [
    "df.dtypes"
   ]
  },
  {
   "cell_type": "markdown",
   "metadata": {},
   "source": [
    "1. Столбец year_of_release имеет вещественный тип данных, который необходимо заменить на целочисленнй, т.к. год релиза это целое число:"
   ]
  },
  {
   "cell_type": "code",
   "execution_count": 9,
   "metadata": {},
   "outputs": [
    {
     "data": {
      "text/plain": [
       "269"
      ]
     },
     "execution_count": 9,
     "metadata": {},
     "output_type": "execute_result"
    }
   ],
   "source": [
    "df.year_of_release.isna().sum()"
   ]
  },
  {
   "cell_type": "markdown",
   "metadata": {},
   "source": [
    "т.к. в данном столбце присутствуют пропущенные значения, целесообразно будет оставить тип вещественным и, возможно, осуществить замену уже после замены пропусков (если после анализа, мы решим их заменить)\n",
    "\n",
    "2. Столбец user_score имеет строковый тип, который необходимо заменить на вещественный, т.к. оценка пользователей давалась в численном виде и поэтому должна быть числом с плавающей запятой, а не строкой.\n",
    "\n",
    "Посмотрим на все уникальные значения столбца user_score, чтобы определить какие есть строки и решить как их интерпретировать и что с ними делать дальше."
   ]
  },
  {
   "cell_type": "code",
   "execution_count": 10,
   "metadata": {},
   "outputs": [
    {
     "data": {
      "text/plain": [
       "array(['8', nan, '8.3', '8.5', '6.6', '8.4', '8.6', '7.7', '6.3', '7.4',\n",
       "       '8.2', '9', '7.9', '8.1', '8.7', '7.1', '3.4', '5.3', '4.8', '3.2',\n",
       "       '8.9', '6.4', '7.8', '7.5', '2.6', '7.2', '9.2', '7', '7.3', '4.3',\n",
       "       '7.6', '5.7', '5', '9.1', '6.5', 'tbd', '8.8', '6.9', '9.4', '6.8',\n",
       "       '6.1', '6.7', '5.4', '4', '4.9', '4.5', '9.3', '6.2', '4.2', '6',\n",
       "       '3.7', '4.1', '5.8', '5.6', '5.5', '4.4', '4.6', '5.9', '3.9',\n",
       "       '3.1', '2.9', '5.2', '3.3', '4.7', '5.1', '3.5', '2.5', '1.9', '3',\n",
       "       '2.7', '2.2', '2', '9.5', '2.1', '3.6', '2.8', '1.8', '3.8', '0',\n",
       "       '1.6', '9.6', '2.4', '1.7', '1.1', '0.3', '1.5', '0.7', '1.2',\n",
       "       '2.3', '0.5', '1.3', '0.2', '0.6', '1.4', '0.9', '1', '9.7'],\n",
       "      dtype=object)"
      ]
     },
     "execution_count": 10,
     "metadata": {},
     "output_type": "execute_result"
    }
   ],
   "source": [
    "df.user_score.unique()"
   ]
  },
  {
   "cell_type": "code",
   "execution_count": 11,
   "metadata": {},
   "outputs": [
    {
     "name": "stdout",
     "output_type": "stream",
     "text": [
      "Количество значений tbd: 2424\n",
      "Занимают 14.50% от 100% всего столбца\n"
     ]
    }
   ],
   "source": [
    "print('Количество значений tbd:', df.query('user_score == \"tbd\"').user_score.count())\n",
    "print('Занимают {:.2%} от 100% всего столбца'.format(df.query('user_score == \"tbd\"').user_score.count()/(len(df.user_score))))"
   ]
  },
  {
   "cell_type": "code",
   "execution_count": 12,
   "metadata": {},
   "outputs": [
    {
     "data": {
      "text/plain": [
       "2009.0    405\n",
       "2010.0    331\n",
       "2008.0    326\n",
       "2011.0    217\n",
       "2002.0    192\n",
       "2007.0    192\n",
       "2006.0    124\n",
       "2005.0    121\n",
       "2004.0    107\n",
       "2003.0     95\n",
       "2001.0     82\n",
       "2000.0     43\n",
       "2015.0     38\n",
       "2016.0     34\n",
       "2012.0     24\n",
       "2014.0     21\n",
       "2013.0     15\n",
       "1999.0      8\n",
       "1997.0      1\n",
       "Name: year_of_release, dtype: int64"
      ]
     },
     "execution_count": 12,
     "metadata": {},
     "output_type": "execute_result"
    }
   ],
   "source": [
    "df.query('user_score == \"tbd\"').year_of_release.value_counts()"
   ]
  },
  {
   "cell_type": "markdown",
   "metadata": {},
   "source": [
    "В столбце user_score присутствует единственное уникальное значение строкового типа: 'tbd', которое занимает 14,5% от выборки.  \n",
    "\n",
    "Как известно в игровом сообществе, \"TBD\" (расшифровка: to be determined) означает \"будет определено позже\", и используется для отображения рейтинга, который еще не был определен. Такое может быть из-за того что игра еще не дожила до релиза, либо, в отношении уже вышедших в свет игр, если у игры готовится к релизу какое-либо дополнение, однако пока не известно, когда именно оно будет выпущено.  \n",
    "\n",
    "В нашем случае значения tbd раскиданы от лохматого 1997 вплоть до 2016 года (год сбора данных для нашей таблицы, который считается самым актуальнейшим). Старые значения tbd могут сказать нам о том, что игра (или ее дополнение) так и не увидела релиз.  \n",
    "\n",
    "Заменять такие значения на нули будет несправедливо. \n",
    "\n",
    "Заменим их на Nan, т.к. мы не имеем оснований заменять их на какие-либо другие значения, т.к. ни у нас, ни у кого-либо нет никакой информации о рейтинге пользователей в этих позициях."
   ]
  },
  {
   "cell_type": "code",
   "execution_count": 13,
   "metadata": {},
   "outputs": [
    {
     "data": {
      "text/plain": [
       "dtype('float64')"
      ]
     },
     "execution_count": 13,
     "metadata": {},
     "output_type": "execute_result"
    }
   ],
   "source": [
    "df['user_score'].where(df.user_score != \"tbd\", np.nan, inplace=True)\n",
    "df.user_score = pd.to_numeric(df.user_score)\n",
    "df.user_score.dtype"
   ]
  },
  {
   "cell_type": "code",
   "execution_count": 14,
   "metadata": {},
   "outputs": [
    {
     "data": {
      "text/plain": [
       "array([8. , nan, 8.3, 8.5, 6.6, 8.4, 8.6, 7.7, 6.3, 7.4, 8.2, 9. , 7.9,\n",
       "       8.1, 8.7, 7.1, 3.4, 5.3, 4.8, 3.2, 8.9, 6.4, 7.8, 7.5, 2.6, 7.2,\n",
       "       9.2, 7. , 7.3, 4.3, 7.6, 5.7, 5. , 9.1, 6.5, 8.8, 6.9, 9.4, 6.8,\n",
       "       6.1, 6.7, 5.4, 4. , 4.9, 4.5, 9.3, 6.2, 4.2, 6. , 3.7, 4.1, 5.8,\n",
       "       5.6, 5.5, 4.4, 4.6, 5.9, 3.9, 3.1, 2.9, 5.2, 3.3, 4.7, 5.1, 3.5,\n",
       "       2.5, 1.9, 3. , 2.7, 2.2, 2. , 9.5, 2.1, 3.6, 2.8, 1.8, 3.8, 0. ,\n",
       "       1.6, 9.6, 2.4, 1.7, 1.1, 0.3, 1.5, 0.7, 1.2, 2.3, 0.5, 1.3, 0.2,\n",
       "       0.6, 1.4, 0.9, 1. , 9.7])"
      ]
     },
     "execution_count": 14,
     "metadata": {},
     "output_type": "execute_result"
    }
   ],
   "source": [
    "df.user_score.unique()"
   ]
  },
  {
   "cell_type": "markdown",
   "metadata": {},
   "source": [
    "Тип столбца user_score успешно изменен на float64\n",
    "\n",
    "<a id='missing_values'></a>\n",
    "### Анализ и обработка пропусков \n",
    "Посмотрим на количество пропусков в столбцах:"
   ]
  },
  {
   "cell_type": "code",
   "execution_count": 15,
   "metadata": {},
   "outputs": [
    {
     "data": {
      "text/plain": [
       "name                  2\n",
       "platform              0\n",
       "year_of_release     269\n",
       "genre                 2\n",
       "na_sales              0\n",
       "eu_sales              0\n",
       "jp_sales              0\n",
       "other_sales           0\n",
       "critic_score       8578\n",
       "user_score         9125\n",
       "rating             6766\n",
       "dtype: int64"
      ]
     },
     "execution_count": 15,
     "metadata": {},
     "output_type": "execute_result"
    }
   ],
   "source": [
    "df.isna().sum()"
   ]
  },
  {
   "cell_type": "code",
   "execution_count": 16,
   "metadata": {},
   "outputs": [
    {
     "name": "stdout",
     "output_type": "stream",
     "text": [
      "Количество строк датафрейма: 16715\n"
     ]
    }
   ],
   "source": [
    "print('Количество строк датафрейма:', len(df.index))"
   ]
  },
  {
   "cell_type": "markdown",
   "metadata": {},
   "source": [
    "В столбце name есть всего 2 пропуска, которые не повлияют ни на что, если мы удалим строки с ними:"
   ]
  },
  {
   "cell_type": "code",
   "execution_count": 17,
   "metadata": {},
   "outputs": [
    {
     "data": {
      "text/plain": [
       "0"
      ]
     },
     "execution_count": 17,
     "metadata": {},
     "output_type": "execute_result"
    }
   ],
   "source": [
    "df.dropna(subset=['name'], inplace = True)\n",
    "df.name.isna().sum()"
   ]
  },
  {
   "cell_type": "markdown",
   "metadata": {},
   "source": [
    "Посмотрим на количество строк, в которых все данные по всем рейтингам являются пропущенными:"
   ]
  },
  {
   "cell_type": "code",
   "execution_count": 18,
   "metadata": {},
   "outputs": [
    {
     "data": {
      "text/plain": [
       "6665"
      ]
     },
     "execution_count": 18,
     "metadata": {},
     "output_type": "execute_result"
    }
   ],
   "source": [
    "df.query('critic_score.isna() == True & user_score.isna() == True & rating.isna() == True').name.count()"
   ]
  },
  {
   "cell_type": "markdown",
   "metadata": {},
   "source": [
    "У нас имеется достаточно большой процент пропусков в столбцах с рейтингами, и очень много строк с пропущенным рейтингом сразу в трех столбцах, которые нецелесообразно заменять ни на среднее значение, ни на что-либо другое, т.к. это может негативно повлиять на дальнейший анализ данных с участием упоминаемых столбцов, исказив его.\n",
    "\n",
    "Но т.к. в столбце rating (рейтинг ESRB) у нас не числовые баллы, а категориальные данные типа object, и пропусков по нему достаточно много, можно создать дополнительную категорию undefined (неопределено) и использовать ее в дальнейшем анализе данных"
   ]
  },
  {
   "cell_type": "code",
   "execution_count": 19,
   "metadata": {},
   "outputs": [
    {
     "name": "stdout",
     "output_type": "stream",
     "text": [
      "Пропусков в столбце rating: 0\n",
      "Уникальные значения столбца rating: ['E' 'undefined' 'M' 'T' 'E10+' 'K-A' 'AO' 'EC' 'RP']\n"
     ]
    }
   ],
   "source": [
    "df.rating.fillna('undefined', inplace=True)\n",
    "print('Пропусков в столбце rating:', df.rating.isna().sum())\n",
    "print('Уникальные значения столбца rating:', df.rating.unique())"
   ]
  },
  {
   "cell_type": "code",
   "execution_count": 20,
   "metadata": {},
   "outputs": [
    {
     "data": {
      "text/plain": [
       "(16713, 11)"
      ]
     },
     "execution_count": 20,
     "metadata": {},
     "output_type": "execute_result"
    }
   ],
   "source": [
    "# КОД РЕВЬЮВЕРА\n",
    "\n",
    "df.shape"
   ]
  },
  {
   "cell_type": "markdown",
   "metadata": {},
   "source": [
    "Пропуски в столбце с годом релиза заменить не имеем права, т.к. нет никакой дополнительной информации откуда его взять. И т.к. мы оставляем пропуски в данном столбце, то тип также остается не целочисленным (float), т.к. nan не могут содержаться в столбце с целочисленным типом данных.\n",
    "\n",
    "\n",
    "### Подсчет суммарных продаж по всем регионам \n",
    "Посчитаем суммарные продажи во всех регионах и запишем их в отдельный столбец методом присваивания.  \n",
    "Выведем первые 5 строк таблицы, чтобы убедиться что столбец добавлен корректно:"
   ]
  },
  {
   "cell_type": "code",
   "execution_count": 21,
   "metadata": {},
   "outputs": [
    {
     "data": {
      "text/plain": [
       "Index(['name', 'platform', 'year_of_release', 'genre', 'na_sales', 'eu_sales',\n",
       "       'jp_sales', 'other_sales', 'critic_score', 'user_score', 'rating'],\n",
       "      dtype='object')"
      ]
     },
     "execution_count": 21,
     "metadata": {},
     "output_type": "execute_result"
    }
   ],
   "source": [
    "df.columns"
   ]
  },
  {
   "cell_type": "code",
   "execution_count": 22,
   "metadata": {},
   "outputs": [
    {
     "data": {
      "text/html": [
       "<div>\n",
       "<style scoped>\n",
       "    .dataframe tbody tr th:only-of-type {\n",
       "        vertical-align: middle;\n",
       "    }\n",
       "\n",
       "    .dataframe tbody tr th {\n",
       "        vertical-align: top;\n",
       "    }\n",
       "\n",
       "    .dataframe thead th {\n",
       "        text-align: right;\n",
       "    }\n",
       "</style>\n",
       "<table border=\"1\" class=\"dataframe\">\n",
       "  <thead>\n",
       "    <tr style=\"text-align: right;\">\n",
       "      <th></th>\n",
       "      <th>name</th>\n",
       "      <th>platform</th>\n",
       "      <th>year_of_release</th>\n",
       "      <th>genre</th>\n",
       "      <th>na_sales</th>\n",
       "      <th>eu_sales</th>\n",
       "      <th>jp_sales</th>\n",
       "      <th>other_sales</th>\n",
       "      <th>critic_score</th>\n",
       "      <th>user_score</th>\n",
       "      <th>rating</th>\n",
       "      <th>total_sales</th>\n",
       "    </tr>\n",
       "  </thead>\n",
       "  <tbody>\n",
       "    <tr>\n",
       "      <td>0</td>\n",
       "      <td>Wii Sports</td>\n",
       "      <td>Wii</td>\n",
       "      <td>2006.0</td>\n",
       "      <td>Sports</td>\n",
       "      <td>41.36</td>\n",
       "      <td>28.96</td>\n",
       "      <td>3.77</td>\n",
       "      <td>8.45</td>\n",
       "      <td>76.0</td>\n",
       "      <td>8.0</td>\n",
       "      <td>E</td>\n",
       "      <td>82.54</td>\n",
       "    </tr>\n",
       "    <tr>\n",
       "      <td>1</td>\n",
       "      <td>Super Mario Bros.</td>\n",
       "      <td>NES</td>\n",
       "      <td>1985.0</td>\n",
       "      <td>Platform</td>\n",
       "      <td>29.08</td>\n",
       "      <td>3.58</td>\n",
       "      <td>6.81</td>\n",
       "      <td>0.77</td>\n",
       "      <td>NaN</td>\n",
       "      <td>NaN</td>\n",
       "      <td>undefined</td>\n",
       "      <td>40.24</td>\n",
       "    </tr>\n",
       "    <tr>\n",
       "      <td>2</td>\n",
       "      <td>Mario Kart Wii</td>\n",
       "      <td>Wii</td>\n",
       "      <td>2008.0</td>\n",
       "      <td>Racing</td>\n",
       "      <td>15.68</td>\n",
       "      <td>12.76</td>\n",
       "      <td>3.79</td>\n",
       "      <td>3.29</td>\n",
       "      <td>82.0</td>\n",
       "      <td>8.3</td>\n",
       "      <td>E</td>\n",
       "      <td>35.52</td>\n",
       "    </tr>\n",
       "    <tr>\n",
       "      <td>3</td>\n",
       "      <td>Wii Sports Resort</td>\n",
       "      <td>Wii</td>\n",
       "      <td>2009.0</td>\n",
       "      <td>Sports</td>\n",
       "      <td>15.61</td>\n",
       "      <td>10.93</td>\n",
       "      <td>3.28</td>\n",
       "      <td>2.95</td>\n",
       "      <td>80.0</td>\n",
       "      <td>8.0</td>\n",
       "      <td>E</td>\n",
       "      <td>32.77</td>\n",
       "    </tr>\n",
       "    <tr>\n",
       "      <td>4</td>\n",
       "      <td>Pokemon Red/Pokemon Blue</td>\n",
       "      <td>GB</td>\n",
       "      <td>1996.0</td>\n",
       "      <td>Role-Playing</td>\n",
       "      <td>11.27</td>\n",
       "      <td>8.89</td>\n",
       "      <td>10.22</td>\n",
       "      <td>1.00</td>\n",
       "      <td>NaN</td>\n",
       "      <td>NaN</td>\n",
       "      <td>undefined</td>\n",
       "      <td>31.38</td>\n",
       "    </tr>\n",
       "  </tbody>\n",
       "</table>\n",
       "</div>"
      ],
      "text/plain": [
       "                       name platform  year_of_release         genre  na_sales  \\\n",
       "0                Wii Sports      Wii           2006.0        Sports     41.36   \n",
       "1         Super Mario Bros.      NES           1985.0      Platform     29.08   \n",
       "2            Mario Kart Wii      Wii           2008.0        Racing     15.68   \n",
       "3         Wii Sports Resort      Wii           2009.0        Sports     15.61   \n",
       "4  Pokemon Red/Pokemon Blue       GB           1996.0  Role-Playing     11.27   \n",
       "\n",
       "   eu_sales  jp_sales  other_sales  critic_score  user_score     rating  \\\n",
       "0     28.96      3.77         8.45          76.0         8.0          E   \n",
       "1      3.58      6.81         0.77           NaN         NaN  undefined   \n",
       "2     12.76      3.79         3.29          82.0         8.3          E   \n",
       "3     10.93      3.28         2.95          80.0         8.0          E   \n",
       "4      8.89     10.22         1.00           NaN         NaN  undefined   \n",
       "\n",
       "   total_sales  \n",
       "0        82.54  \n",
       "1        40.24  \n",
       "2        35.52  \n",
       "3        32.77  \n",
       "4        31.38  "
      ]
     },
     "execution_count": 22,
     "metadata": {},
     "output_type": "execute_result"
    }
   ],
   "source": [
    "df['total_sales'] = df.na_sales + df.eu_sales + df.jp_sales + df.other_sales\n",
    "df.head()"
   ]
  },
  {
   "cell_type": "code",
   "execution_count": 23,
   "metadata": {},
   "outputs": [
    {
     "data": {
      "text/plain": [
       "(16713, 12)"
      ]
     },
     "execution_count": 23,
     "metadata": {},
     "output_type": "execute_result"
    }
   ],
   "source": [
    "df.shape"
   ]
  },
  {
   "cell_type": "markdown",
   "metadata": {},
   "source": [
    "<a id='dublicate'></a>\n",
    "### Устранение смыслового дубликата\n",
    "Рассмотрим дополнительно столбец с рейтингом."
   ]
  },
  {
   "cell_type": "code",
   "execution_count": 24,
   "metadata": {},
   "outputs": [
    {
     "data": {
      "text/plain": [
       "array(['E', 'undefined', 'M', 'T', 'E10+', 'K-A', 'AO', 'EC', 'RP'],\n",
       "      dtype=object)"
      ]
     },
     "execution_count": 24,
     "metadata": {},
     "output_type": "execute_result"
    }
   ],
   "source": [
    "df.rating.unique()"
   ]
  },
  {
   "cell_type": "markdown",
   "metadata": {},
   "source": [
    "Обозначения (<a href=\"https://ru.wikipedia.org/wiki/Entertainment_Software_Rating_Board#:~:text=%D0%9F%D0%B5%D1%80%D0%B2%D0%BE%D0%BD%D0%B0%D1%87%D0%B0%D0%BB%D1%8C%D0%BD%D0%BE%20%22K%2DA%22%20(%22Kids%20to%20Adults%22)&text=%C2%ABE10%2B%C2%BB%20(%C2%ABEveryone%2010,ESRB%202%20%D0%BC%D0%B0%D1%80%D1%82%D0%B0%202005%20%D0%B3%D0%BE%D0%B4%D0%B0.\">источник</a>) :\n",
    "* E («Everyone») — «Для всех». **Первоначально K-A** (\"Kids to Adults\") \n",
    "* M («Mature») — «Для взрослых» \n",
    "* T («Teen») — «Подросткам»\n",
    "* E10+ («Everyone 10 and older») — «Для всех от 10 лет и старше»\n",
    "* EC («Early childhood») — «Для детей младшего возраста»\n",
    "* AO («Adults Only 18+») — «Только для взрослых»\n",
    "* RP («Rating Pending») — «Рейтинг ожидается»\n",
    "\n",
    "\n",
    "Необходимо отметить, что в столбце рейтинга есть 2 значения (E, K-A), несущие одинаковый смысл.  \n",
    "Объединим их в одно 'E', актуальное на данный момент, чтобы в пунктах с анализом, с участием этого столбца, не возникло путаницы."
   ]
  },
  {
   "cell_type": "code",
   "execution_count": 25,
   "metadata": {},
   "outputs": [
    {
     "data": {
      "text/plain": [
       "array(['E', 'undefined', 'M', 'T', 'E10+', 'AO', 'EC', 'RP'], dtype=object)"
      ]
     },
     "execution_count": 25,
     "metadata": {},
     "output_type": "execute_result"
    }
   ],
   "source": [
    "df.rating.replace('K-A', 'E', inplace=True)\n",
    "df.rating.unique()"
   ]
  },
  {
   "cell_type": "markdown",
   "metadata": {},
   "source": [
    "<a id='conclusion_2'></a>\n",
    "### Вывод \n",
    "\n",
    "В данном пункте мы произвели следующие действия:\n",
    "\n",
    "* произвели правку названий столбцов, сделав регистр символов одинаковым\n",
    "* поменяли тип данных столбца с оценкой пользователей (user_score) со строкового на вещественный  \n",
    "* выяснили, что тип данных столбца с годом релиза в данной ситуации невозможно поменять с вещественного на целочисленный, т.к. он содержит пропуски, которые мы решили не удалять\n",
    "* удалили 2 строки с пропущенными названиями игр и 2 строки с пропусками и нулями по всем столбцам с рейтингом и продажами, полагая что они не обладают ценностью для дальнейшего анализа\n",
    "* выяснили что удалять пропуски в столбцах с рейтингами нецелесообразно, т.к. это негативно скажется на дальнейшем анализе данных\n",
    "* добавили столбец с суммарными продажами по всем регионам\n",
    "\n",
    "[Назад к оглавлению](#MENU)"
   ]
  },
  {
   "cell_type": "markdown",
   "metadata": {},
   "source": [
    "<a id='data_analysis'></a>\n",
    "## Исследовательский анализ данных \n",
    "<a id='game_count'></a>\n",
    "### Количество игр по периодам\n",
    "\n",
    "Посмотрим сколько игр выпускалось в разные годы."
   ]
  },
  {
   "cell_type": "code",
   "execution_count": 26,
   "metadata": {},
   "outputs": [
    {
     "data": {
      "text/html": [
       "<div>\n",
       "<style scoped>\n",
       "    .dataframe tbody tr th:only-of-type {\n",
       "        vertical-align: middle;\n",
       "    }\n",
       "\n",
       "    .dataframe tbody tr th {\n",
       "        vertical-align: top;\n",
       "    }\n",
       "\n",
       "    .dataframe thead th {\n",
       "        text-align: right;\n",
       "    }\n",
       "</style>\n",
       "<table border=\"1\" class=\"dataframe\">\n",
       "  <thead>\n",
       "    <tr style=\"text-align: right;\">\n",
       "      <th></th>\n",
       "      <th>year_of_release</th>\n",
       "      <th>game_count</th>\n",
       "    </tr>\n",
       "  </thead>\n",
       "  <tbody>\n",
       "    <tr>\n",
       "      <td>0</td>\n",
       "      <td>1980.0</td>\n",
       "      <td>9</td>\n",
       "    </tr>\n",
       "    <tr>\n",
       "      <td>1</td>\n",
       "      <td>1981.0</td>\n",
       "      <td>46</td>\n",
       "    </tr>\n",
       "    <tr>\n",
       "      <td>2</td>\n",
       "      <td>1982.0</td>\n",
       "      <td>36</td>\n",
       "    </tr>\n",
       "    <tr>\n",
       "      <td>3</td>\n",
       "      <td>1983.0</td>\n",
       "      <td>17</td>\n",
       "    </tr>\n",
       "    <tr>\n",
       "      <td>4</td>\n",
       "      <td>1984.0</td>\n",
       "      <td>14</td>\n",
       "    </tr>\n",
       "    <tr>\n",
       "      <td>5</td>\n",
       "      <td>1985.0</td>\n",
       "      <td>14</td>\n",
       "    </tr>\n",
       "    <tr>\n",
       "      <td>6</td>\n",
       "      <td>1986.0</td>\n",
       "      <td>21</td>\n",
       "    </tr>\n",
       "    <tr>\n",
       "      <td>7</td>\n",
       "      <td>1987.0</td>\n",
       "      <td>16</td>\n",
       "    </tr>\n",
       "    <tr>\n",
       "      <td>8</td>\n",
       "      <td>1988.0</td>\n",
       "      <td>15</td>\n",
       "    </tr>\n",
       "    <tr>\n",
       "      <td>9</td>\n",
       "      <td>1989.0</td>\n",
       "      <td>17</td>\n",
       "    </tr>\n",
       "    <tr>\n",
       "      <td>10</td>\n",
       "      <td>1990.0</td>\n",
       "      <td>16</td>\n",
       "    </tr>\n",
       "    <tr>\n",
       "      <td>11</td>\n",
       "      <td>1991.0</td>\n",
       "      <td>41</td>\n",
       "    </tr>\n",
       "    <tr>\n",
       "      <td>12</td>\n",
       "      <td>1992.0</td>\n",
       "      <td>43</td>\n",
       "    </tr>\n",
       "    <tr>\n",
       "      <td>13</td>\n",
       "      <td>1993.0</td>\n",
       "      <td>60</td>\n",
       "    </tr>\n",
       "    <tr>\n",
       "      <td>14</td>\n",
       "      <td>1994.0</td>\n",
       "      <td>121</td>\n",
       "    </tr>\n",
       "    <tr>\n",
       "      <td>15</td>\n",
       "      <td>1995.0</td>\n",
       "      <td>219</td>\n",
       "    </tr>\n",
       "    <tr>\n",
       "      <td>16</td>\n",
       "      <td>1996.0</td>\n",
       "      <td>263</td>\n",
       "    </tr>\n",
       "    <tr>\n",
       "      <td>17</td>\n",
       "      <td>1997.0</td>\n",
       "      <td>289</td>\n",
       "    </tr>\n",
       "    <tr>\n",
       "      <td>18</td>\n",
       "      <td>1998.0</td>\n",
       "      <td>379</td>\n",
       "    </tr>\n",
       "    <tr>\n",
       "      <td>19</td>\n",
       "      <td>1999.0</td>\n",
       "      <td>338</td>\n",
       "    </tr>\n",
       "    <tr>\n",
       "      <td>20</td>\n",
       "      <td>2000.0</td>\n",
       "      <td>350</td>\n",
       "    </tr>\n",
       "    <tr>\n",
       "      <td>21</td>\n",
       "      <td>2001.0</td>\n",
       "      <td>482</td>\n",
       "    </tr>\n",
       "    <tr>\n",
       "      <td>22</td>\n",
       "      <td>2002.0</td>\n",
       "      <td>829</td>\n",
       "    </tr>\n",
       "    <tr>\n",
       "      <td>23</td>\n",
       "      <td>2003.0</td>\n",
       "      <td>775</td>\n",
       "    </tr>\n",
       "    <tr>\n",
       "      <td>24</td>\n",
       "      <td>2004.0</td>\n",
       "      <td>762</td>\n",
       "    </tr>\n",
       "    <tr>\n",
       "      <td>25</td>\n",
       "      <td>2005.0</td>\n",
       "      <td>939</td>\n",
       "    </tr>\n",
       "    <tr>\n",
       "      <td>26</td>\n",
       "      <td>2006.0</td>\n",
       "      <td>1006</td>\n",
       "    </tr>\n",
       "    <tr>\n",
       "      <td>27</td>\n",
       "      <td>2007.0</td>\n",
       "      <td>1197</td>\n",
       "    </tr>\n",
       "    <tr>\n",
       "      <td>28</td>\n",
       "      <td>2008.0</td>\n",
       "      <td>1427</td>\n",
       "    </tr>\n",
       "    <tr>\n",
       "      <td>29</td>\n",
       "      <td>2009.0</td>\n",
       "      <td>1426</td>\n",
       "    </tr>\n",
       "    <tr>\n",
       "      <td>30</td>\n",
       "      <td>2010.0</td>\n",
       "      <td>1255</td>\n",
       "    </tr>\n",
       "    <tr>\n",
       "      <td>31</td>\n",
       "      <td>2011.0</td>\n",
       "      <td>1136</td>\n",
       "    </tr>\n",
       "    <tr>\n",
       "      <td>32</td>\n",
       "      <td>2012.0</td>\n",
       "      <td>653</td>\n",
       "    </tr>\n",
       "    <tr>\n",
       "      <td>33</td>\n",
       "      <td>2013.0</td>\n",
       "      <td>544</td>\n",
       "    </tr>\n",
       "    <tr>\n",
       "      <td>34</td>\n",
       "      <td>2014.0</td>\n",
       "      <td>581</td>\n",
       "    </tr>\n",
       "    <tr>\n",
       "      <td>35</td>\n",
       "      <td>2015.0</td>\n",
       "      <td>606</td>\n",
       "    </tr>\n",
       "    <tr>\n",
       "      <td>36</td>\n",
       "      <td>2016.0</td>\n",
       "      <td>502</td>\n",
       "    </tr>\n",
       "  </tbody>\n",
       "</table>\n",
       "</div>"
      ],
      "text/plain": [
       "    year_of_release  game_count\n",
       "0            1980.0           9\n",
       "1            1981.0          46\n",
       "2            1982.0          36\n",
       "3            1983.0          17\n",
       "4            1984.0          14\n",
       "5            1985.0          14\n",
       "6            1986.0          21\n",
       "7            1987.0          16\n",
       "8            1988.0          15\n",
       "9            1989.0          17\n",
       "10           1990.0          16\n",
       "11           1991.0          41\n",
       "12           1992.0          43\n",
       "13           1993.0          60\n",
       "14           1994.0         121\n",
       "15           1995.0         219\n",
       "16           1996.0         263\n",
       "17           1997.0         289\n",
       "18           1998.0         379\n",
       "19           1999.0         338\n",
       "20           2000.0         350\n",
       "21           2001.0         482\n",
       "22           2002.0         829\n",
       "23           2003.0         775\n",
       "24           2004.0         762\n",
       "25           2005.0         939\n",
       "26           2006.0        1006\n",
       "27           2007.0        1197\n",
       "28           2008.0        1427\n",
       "29           2009.0        1426\n",
       "30           2010.0        1255\n",
       "31           2011.0        1136\n",
       "32           2012.0         653\n",
       "33           2013.0         544\n",
       "34           2014.0         581\n",
       "35           2015.0         606\n",
       "36           2016.0         502"
      ]
     },
     "execution_count": 26,
     "metadata": {},
     "output_type": "execute_result"
    }
   ],
   "source": [
    "games_by_year = df.groupby('year_of_release').name.count().reset_index()\n",
    "games_by_year.columns = ['year_of_release', 'game_count']\n",
    "games_by_year"
   ]
  },
  {
   "cell_type": "markdown",
   "metadata": {},
   "source": [
    "Построим для наглядности гистограмму распределения частот по признаку года:"
   ]
  },
  {
   "cell_type": "code",
   "execution_count": 27,
   "metadata": {},
   "outputs": [
    {
     "data": {
      "image/png": "[encoded data removed]",
      "text/plain": [
       "<Figure size 720x360 with 1 Axes>"
      ]
     },
     "metadata": {
      "needs_background": "light"
     },
     "output_type": "display_data"
    }
   ],
   "source": [
    "games_by_year.plot(x='year_of_release', y='game_count', kind='bar', title='Распределение количества игр по годам:', figsize=(10, 5), grid=True)\n",
    "plt.xlabel('Год релиза игры')\n",
    "plt.ylabel('Количество игр')\n",
    "plt.show()"
   ]
  },
  {
   "cell_type": "markdown",
   "metadata": {},
   "source": [
    "Можно с уверенностью сказать, что если рассматривать успешность игр только со стороны количества выпусков, наиболее важны были бы данные за период 2002-2016гг (выпуск: более 500 игр в год)    \n",
    "Наименее важен период 1980-2001, т.к. в это время выпускалось в принципе очень мало игр (менее 500 шт в год)"
   ]
  },
  {
   "cell_type": "markdown",
   "metadata": {},
   "source": [
    "<a id='total_sales_distribution'></a>\n",
    "### Распределение суммарных продаж по популярным платформам\n",
    "\n",
    "Определим суммарные продажи по платформам при помощи группировки:"
   ]
  },
  {
   "cell_type": "code",
   "execution_count": 28,
   "metadata": {},
   "outputs": [
    {
     "data": {
      "text/plain": [
       "platform\n",
       "PS2     1255.77\n",
       "X360     971.42\n",
       "PS3      939.65\n",
       "Wii      907.51\n",
       "DS       806.12\n",
       "PS       730.86\n",
       "GBA      317.85\n",
       "PS4      314.14\n",
       "PSP      294.05\n",
       "PC       259.52\n",
       "3DS      259.00\n",
       "XB       257.74\n",
       "GB       255.46\n",
       "NES      251.05\n",
       "N64      218.68\n",
       "SNES     200.04\n",
       "GC       198.93\n",
       "XOne     159.32\n",
       "2600      96.98\n",
       "WiiU      82.19\n",
       "PSV       54.07\n",
       "SAT       33.59\n",
       "GEN       28.35\n",
       "DC        15.95\n",
       "SCD        1.86\n",
       "NG         1.44\n",
       "WS         1.42\n",
       "TG16       0.16\n",
       "3DO        0.10\n",
       "GG         0.04\n",
       "PCFX       0.03\n",
       "Name: total_sales, dtype: float64"
      ]
     },
     "execution_count": 28,
     "metadata": {},
     "output_type": "execute_result"
    }
   ],
   "source": [
    "df.groupby('platform').total_sales.sum().sort_values(ascending=False)"
   ]
  },
  {
   "cell_type": "markdown",
   "metadata": {},
   "source": [
    "Наибольшие суммарные продажи (более 500) определены у верхних 6 штук\n",
    "\n",
    "Однако, нужно учесть, что в предыдущем пункте мы признали период 1980-2001 наименее важным, поэтому выбросим его из учета и пересчитаем:"
   ]
  },
  {
   "cell_type": "code",
   "execution_count": 29,
   "metadata": {},
   "outputs": [
    {
     "data": {
      "text/html": [
       "<div>\n",
       "<style scoped>\n",
       "    .dataframe tbody tr th:only-of-type {\n",
       "        vertical-align: middle;\n",
       "    }\n",
       "\n",
       "    .dataframe tbody tr th {\n",
       "        vertical-align: top;\n",
       "    }\n",
       "\n",
       "    .dataframe thead th {\n",
       "        text-align: right;\n",
       "    }\n",
       "</style>\n",
       "<table border=\"1\" class=\"dataframe\">\n",
       "  <thead>\n",
       "    <tr style=\"text-align: right;\">\n",
       "      <th></th>\n",
       "      <th>platform</th>\n",
       "      <th>total_sales</th>\n",
       "    </tr>\n",
       "  </thead>\n",
       "  <tbody>\n",
       "    <tr>\n",
       "      <td>0</td>\n",
       "      <td>PS2</td>\n",
       "      <td>1027.96</td>\n",
       "    </tr>\n",
       "    <tr>\n",
       "      <td>1</td>\n",
       "      <td>X360</td>\n",
       "      <td>961.24</td>\n",
       "    </tr>\n",
       "    <tr>\n",
       "      <td>2</td>\n",
       "      <td>PS3</td>\n",
       "      <td>931.34</td>\n",
       "    </tr>\n",
       "    <tr>\n",
       "      <td>3</td>\n",
       "      <td>Wii</td>\n",
       "      <td>891.18</td>\n",
       "    </tr>\n",
       "    <tr>\n",
       "      <td>4</td>\n",
       "      <td>DS</td>\n",
       "      <td>802.76</td>\n",
       "    </tr>\n",
       "    <tr>\n",
       "      <td>5</td>\n",
       "      <td>PS4</td>\n",
       "      <td>314.14</td>\n",
       "    </tr>\n",
       "    <tr>\n",
       "      <td>6</td>\n",
       "      <td>PSP</td>\n",
       "      <td>289.53</td>\n",
       "    </tr>\n",
       "    <tr>\n",
       "      <td>7</td>\n",
       "      <td>3DS</td>\n",
       "      <td>257.81</td>\n",
       "    </tr>\n",
       "    <tr>\n",
       "      <td>8</td>\n",
       "      <td>GBA</td>\n",
       "      <td>251.28</td>\n",
       "    </tr>\n",
       "    <tr>\n",
       "      <td>9</td>\n",
       "      <td>XB</td>\n",
       "      <td>228.32</td>\n",
       "    </tr>\n",
       "    <tr>\n",
       "      <td>10</td>\n",
       "      <td>PC</td>\n",
       "      <td>195.59</td>\n",
       "    </tr>\n",
       "    <tr>\n",
       "      <td>11</td>\n",
       "      <td>GC</td>\n",
       "      <td>170.39</td>\n",
       "    </tr>\n",
       "    <tr>\n",
       "      <td>12</td>\n",
       "      <td>XOne</td>\n",
       "      <td>159.32</td>\n",
       "    </tr>\n",
       "    <tr>\n",
       "      <td>13</td>\n",
       "      <td>WiiU</td>\n",
       "      <td>82.19</td>\n",
       "    </tr>\n",
       "    <tr>\n",
       "      <td>14</td>\n",
       "      <td>PSV</td>\n",
       "      <td>53.81</td>\n",
       "    </tr>\n",
       "    <tr>\n",
       "      <td>15</td>\n",
       "      <td>PS</td>\n",
       "      <td>8.74</td>\n",
       "    </tr>\n",
       "    <tr>\n",
       "      <td>16</td>\n",
       "      <td>DC</td>\n",
       "      <td>0.35</td>\n",
       "    </tr>\n",
       "    <tr>\n",
       "      <td>17</td>\n",
       "      <td>N64</td>\n",
       "      <td>0.08</td>\n",
       "    </tr>\n",
       "  </tbody>\n",
       "</table>\n",
       "</div>"
      ],
      "text/plain": [
       "   platform  total_sales\n",
       "0       PS2      1027.96\n",
       "1      X360       961.24\n",
       "2       PS3       931.34\n",
       "3       Wii       891.18\n",
       "4        DS       802.76\n",
       "5       PS4       314.14\n",
       "6       PSP       289.53\n",
       "7       3DS       257.81\n",
       "8       GBA       251.28\n",
       "9        XB       228.32\n",
       "10       PC       195.59\n",
       "11       GC       170.39\n",
       "12     XOne       159.32\n",
       "13     WiiU        82.19\n",
       "14      PSV        53.81\n",
       "15       PS         8.74\n",
       "16       DC         0.35\n",
       "17      N64         0.08"
      ]
     },
     "execution_count": 29,
     "metadata": {},
     "output_type": "execute_result"
    }
   ],
   "source": [
    "df.query('year_of_release > 2001').groupby('platform').total_sales.sum().sort_values(ascending=False).reset_index()"
   ]
  },
  {
   "cell_type": "markdown",
   "metadata": {},
   "source": [
    "построим распределение по годам:"
   ]
  },
  {
   "cell_type": "code",
   "execution_count": 30,
   "metadata": {},
   "outputs": [
    {
     "data": {
      "image/png": "[encoded data removed]",
      "text/plain": [
       "<Figure size 1152x432 with 1 Axes>"
      ]
     },
     "metadata": {
      "needs_background": "light"
     },
     "output_type": "display_data"
    }
   ],
   "source": [
    "df_best_years = df.query('year_of_release > 2001')\n",
    "\n",
    "(df_best_years\n",
    " .pivot_table(index='platform', columns='year_of_release', values='total_sales', aggfunc = 'sum')\n",
    " .T\n",
    " .plot(kind='bar', legend=True, alpha=0.5, title='Распределение продаж игр со всех платформ по годам:', figsize=(16, 6), width=1)\n",
    ")\n",
    "plt.xlabel('Год релиза игры')\n",
    "plt.ylabel('Продажи (в млн проданных копий)')\n",
    "plt.legend(bbox_to_anchor=(1.1,1), loc='upper right', ncol=1)\n",
    "plt.show()"
   ]
  },
  {
   "cell_type": "code",
   "execution_count": 31,
   "metadata": {},
   "outputs": [
    {
     "data": {
      "text/html": [
       "<div>\n",
       "<style scoped>\n",
       "    .dataframe tbody tr th:only-of-type {\n",
       "        vertical-align: middle;\n",
       "    }\n",
       "\n",
       "    .dataframe tbody tr th {\n",
       "        vertical-align: top;\n",
       "    }\n",
       "\n",
       "    .dataframe thead th {\n",
       "        text-align: right;\n",
       "    }\n",
       "</style>\n",
       "<table border=\"1\" class=\"dataframe\">\n",
       "  <thead>\n",
       "    <tr style=\"text-align: right;\">\n",
       "      <th>platform</th>\n",
       "      <th>3DS</th>\n",
       "      <th>DC</th>\n",
       "      <th>DS</th>\n",
       "      <th>GBA</th>\n",
       "      <th>GC</th>\n",
       "      <th>N64</th>\n",
       "      <th>PC</th>\n",
       "      <th>PS</th>\n",
       "      <th>PS2</th>\n",
       "      <th>PS3</th>\n",
       "      <th>PS4</th>\n",
       "      <th>PSP</th>\n",
       "      <th>PSV</th>\n",
       "      <th>Wii</th>\n",
       "      <th>WiiU</th>\n",
       "      <th>X360</th>\n",
       "      <th>XB</th>\n",
       "      <th>XOne</th>\n",
       "    </tr>\n",
       "    <tr>\n",
       "      <th>year_of_release</th>\n",
       "      <th></th>\n",
       "      <th></th>\n",
       "      <th></th>\n",
       "      <th></th>\n",
       "      <th></th>\n",
       "      <th></th>\n",
       "      <th></th>\n",
       "      <th></th>\n",
       "      <th></th>\n",
       "      <th></th>\n",
       "      <th></th>\n",
       "      <th></th>\n",
       "      <th></th>\n",
       "      <th></th>\n",
       "      <th></th>\n",
       "      <th></th>\n",
       "      <th></th>\n",
       "      <th></th>\n",
       "    </tr>\n",
       "  </thead>\n",
       "  <tbody>\n",
       "    <tr>\n",
       "      <td>2002.0</td>\n",
       "      <td>NaN</td>\n",
       "      <td>0.29</td>\n",
       "      <td>NaN</td>\n",
       "      <td>74.16</td>\n",
       "      <td>51.81</td>\n",
       "      <td>0.08</td>\n",
       "      <td>8.57</td>\n",
       "      <td>6.67</td>\n",
       "      <td>205.38</td>\n",
       "      <td>NaN</td>\n",
       "      <td>NaN</td>\n",
       "      <td>NaN</td>\n",
       "      <td>NaN</td>\n",
       "      <td>NaN</td>\n",
       "      <td>NaN</td>\n",
       "      <td>NaN</td>\n",
       "      <td>48.01</td>\n",
       "      <td>NaN</td>\n",
       "    </tr>\n",
       "    <tr>\n",
       "      <td>2003.0</td>\n",
       "      <td>NaN</td>\n",
       "      <td>NaN</td>\n",
       "      <td>NaN</td>\n",
       "      <td>56.67</td>\n",
       "      <td>50.61</td>\n",
       "      <td>NaN</td>\n",
       "      <td>8.84</td>\n",
       "      <td>2.07</td>\n",
       "      <td>184.31</td>\n",
       "      <td>NaN</td>\n",
       "      <td>NaN</td>\n",
       "      <td>NaN</td>\n",
       "      <td>NaN</td>\n",
       "      <td>NaN</td>\n",
       "      <td>NaN</td>\n",
       "      <td>NaN</td>\n",
       "      <td>55.04</td>\n",
       "      <td>NaN</td>\n",
       "    </tr>\n",
       "    <tr>\n",
       "      <td>2004.0</td>\n",
       "      <td>NaN</td>\n",
       "      <td>NaN</td>\n",
       "      <td>17.27</td>\n",
       "      <td>77.91</td>\n",
       "      <td>28.82</td>\n",
       "      <td>NaN</td>\n",
       "      <td>10.39</td>\n",
       "      <td>NaN</td>\n",
       "      <td>211.81</td>\n",
       "      <td>NaN</td>\n",
       "      <td>NaN</td>\n",
       "      <td>7.06</td>\n",
       "      <td>NaN</td>\n",
       "      <td>NaN</td>\n",
       "      <td>NaN</td>\n",
       "      <td>NaN</td>\n",
       "      <td>65.42</td>\n",
       "      <td>NaN</td>\n",
       "    </tr>\n",
       "    <tr>\n",
       "      <td>2005.0</td>\n",
       "      <td>NaN</td>\n",
       "      <td>NaN</td>\n",
       "      <td>130.14</td>\n",
       "      <td>33.86</td>\n",
       "      <td>27.62</td>\n",
       "      <td>NaN</td>\n",
       "      <td>4.37</td>\n",
       "      <td>NaN</td>\n",
       "      <td>160.66</td>\n",
       "      <td>NaN</td>\n",
       "      <td>NaN</td>\n",
       "      <td>43.84</td>\n",
       "      <td>NaN</td>\n",
       "      <td>NaN</td>\n",
       "      <td>NaN</td>\n",
       "      <td>8.25</td>\n",
       "      <td>49.08</td>\n",
       "      <td>NaN</td>\n",
       "    </tr>\n",
       "    <tr>\n",
       "      <td>2006.0</td>\n",
       "      <td>NaN</td>\n",
       "      <td>NaN</td>\n",
       "      <td>119.81</td>\n",
       "      <td>5.28</td>\n",
       "      <td>11.26</td>\n",
       "      <td>NaN</td>\n",
       "      <td>2.85</td>\n",
       "      <td>NaN</td>\n",
       "      <td>103.42</td>\n",
       "      <td>20.96</td>\n",
       "      <td>NaN</td>\n",
       "      <td>55.32</td>\n",
       "      <td>NaN</td>\n",
       "      <td>137.15</td>\n",
       "      <td>NaN</td>\n",
       "      <td>51.62</td>\n",
       "      <td>10.04</td>\n",
       "      <td>NaN</td>\n",
       "    </tr>\n",
       "    <tr>\n",
       "      <td>2007.0</td>\n",
       "      <td>NaN</td>\n",
       "      <td>0.02</td>\n",
       "      <td>146.94</td>\n",
       "      <td>3.40</td>\n",
       "      <td>0.27</td>\n",
       "      <td>NaN</td>\n",
       "      <td>9.28</td>\n",
       "      <td>NaN</td>\n",
       "      <td>75.99</td>\n",
       "      <td>73.19</td>\n",
       "      <td>NaN</td>\n",
       "      <td>46.93</td>\n",
       "      <td>NaN</td>\n",
       "      <td>152.77</td>\n",
       "      <td>NaN</td>\n",
       "      <td>95.41</td>\n",
       "      <td>0.55</td>\n",
       "      <td>NaN</td>\n",
       "    </tr>\n",
       "    <tr>\n",
       "      <td>2008.0</td>\n",
       "      <td>NaN</td>\n",
       "      <td>0.04</td>\n",
       "      <td>145.31</td>\n",
       "      <td>NaN</td>\n",
       "      <td>NaN</td>\n",
       "      <td>NaN</td>\n",
       "      <td>12.42</td>\n",
       "      <td>NaN</td>\n",
       "      <td>53.90</td>\n",
       "      <td>118.52</td>\n",
       "      <td>NaN</td>\n",
       "      <td>34.55</td>\n",
       "      <td>NaN</td>\n",
       "      <td>171.32</td>\n",
       "      <td>NaN</td>\n",
       "      <td>135.26</td>\n",
       "      <td>0.18</td>\n",
       "      <td>NaN</td>\n",
       "    </tr>\n",
       "    <tr>\n",
       "      <td>2009.0</td>\n",
       "      <td>NaN</td>\n",
       "      <td>NaN</td>\n",
       "      <td>119.54</td>\n",
       "      <td>NaN</td>\n",
       "      <td>NaN</td>\n",
       "      <td>NaN</td>\n",
       "      <td>16.91</td>\n",
       "      <td>NaN</td>\n",
       "      <td>26.40</td>\n",
       "      <td>130.93</td>\n",
       "      <td>NaN</td>\n",
       "      <td>37.78</td>\n",
       "      <td>NaN</td>\n",
       "      <td>206.97</td>\n",
       "      <td>NaN</td>\n",
       "      <td>120.29</td>\n",
       "      <td>NaN</td>\n",
       "      <td>NaN</td>\n",
       "    </tr>\n",
       "    <tr>\n",
       "      <td>2010.0</td>\n",
       "      <td>NaN</td>\n",
       "      <td>NaN</td>\n",
       "      <td>85.02</td>\n",
       "      <td>NaN</td>\n",
       "      <td>NaN</td>\n",
       "      <td>NaN</td>\n",
       "      <td>24.28</td>\n",
       "      <td>NaN</td>\n",
       "      <td>5.64</td>\n",
       "      <td>142.17</td>\n",
       "      <td>NaN</td>\n",
       "      <td>35.04</td>\n",
       "      <td>NaN</td>\n",
       "      <td>127.95</td>\n",
       "      <td>NaN</td>\n",
       "      <td>170.03</td>\n",
       "      <td>NaN</td>\n",
       "      <td>NaN</td>\n",
       "    </tr>\n",
       "    <tr>\n",
       "      <td>2011.0</td>\n",
       "      <td>63.20</td>\n",
       "      <td>NaN</td>\n",
       "      <td>26.18</td>\n",
       "      <td>NaN</td>\n",
       "      <td>NaN</td>\n",
       "      <td>NaN</td>\n",
       "      <td>35.03</td>\n",
       "      <td>NaN</td>\n",
       "      <td>0.45</td>\n",
       "      <td>156.78</td>\n",
       "      <td>NaN</td>\n",
       "      <td>17.82</td>\n",
       "      <td>4.63</td>\n",
       "      <td>59.65</td>\n",
       "      <td>NaN</td>\n",
       "      <td>143.84</td>\n",
       "      <td>NaN</td>\n",
       "      <td>NaN</td>\n",
       "    </tr>\n",
       "    <tr>\n",
       "      <td>2012.0</td>\n",
       "      <td>51.36</td>\n",
       "      <td>NaN</td>\n",
       "      <td>11.01</td>\n",
       "      <td>NaN</td>\n",
       "      <td>NaN</td>\n",
       "      <td>NaN</td>\n",
       "      <td>23.22</td>\n",
       "      <td>NaN</td>\n",
       "      <td>NaN</td>\n",
       "      <td>107.36</td>\n",
       "      <td>NaN</td>\n",
       "      <td>7.69</td>\n",
       "      <td>16.19</td>\n",
       "      <td>21.71</td>\n",
       "      <td>17.56</td>\n",
       "      <td>99.74</td>\n",
       "      <td>NaN</td>\n",
       "      <td>NaN</td>\n",
       "    </tr>\n",
       "    <tr>\n",
       "      <td>2013.0</td>\n",
       "      <td>56.57</td>\n",
       "      <td>NaN</td>\n",
       "      <td>1.54</td>\n",
       "      <td>NaN</td>\n",
       "      <td>NaN</td>\n",
       "      <td>NaN</td>\n",
       "      <td>12.38</td>\n",
       "      <td>NaN</td>\n",
       "      <td>NaN</td>\n",
       "      <td>113.25</td>\n",
       "      <td>25.99</td>\n",
       "      <td>3.14</td>\n",
       "      <td>10.59</td>\n",
       "      <td>8.59</td>\n",
       "      <td>21.65</td>\n",
       "      <td>88.58</td>\n",
       "      <td>NaN</td>\n",
       "      <td>18.96</td>\n",
       "    </tr>\n",
       "    <tr>\n",
       "      <td>2014.0</td>\n",
       "      <td>43.76</td>\n",
       "      <td>NaN</td>\n",
       "      <td>NaN</td>\n",
       "      <td>NaN</td>\n",
       "      <td>NaN</td>\n",
       "      <td>NaN</td>\n",
       "      <td>13.28</td>\n",
       "      <td>NaN</td>\n",
       "      <td>NaN</td>\n",
       "      <td>47.76</td>\n",
       "      <td>100.00</td>\n",
       "      <td>0.24</td>\n",
       "      <td>11.90</td>\n",
       "      <td>3.75</td>\n",
       "      <td>22.03</td>\n",
       "      <td>34.74</td>\n",
       "      <td>NaN</td>\n",
       "      <td>54.07</td>\n",
       "    </tr>\n",
       "    <tr>\n",
       "      <td>2015.0</td>\n",
       "      <td>27.78</td>\n",
       "      <td>NaN</td>\n",
       "      <td>NaN</td>\n",
       "      <td>NaN</td>\n",
       "      <td>NaN</td>\n",
       "      <td>NaN</td>\n",
       "      <td>8.52</td>\n",
       "      <td>NaN</td>\n",
       "      <td>NaN</td>\n",
       "      <td>16.82</td>\n",
       "      <td>118.90</td>\n",
       "      <td>0.12</td>\n",
       "      <td>6.25</td>\n",
       "      <td>1.14</td>\n",
       "      <td>16.35</td>\n",
       "      <td>11.96</td>\n",
       "      <td>NaN</td>\n",
       "      <td>60.14</td>\n",
       "    </tr>\n",
       "    <tr>\n",
       "      <td>2016.0</td>\n",
       "      <td>15.14</td>\n",
       "      <td>NaN</td>\n",
       "      <td>NaN</td>\n",
       "      <td>NaN</td>\n",
       "      <td>NaN</td>\n",
       "      <td>NaN</td>\n",
       "      <td>5.25</td>\n",
       "      <td>NaN</td>\n",
       "      <td>NaN</td>\n",
       "      <td>3.60</td>\n",
       "      <td>69.25</td>\n",
       "      <td>NaN</td>\n",
       "      <td>4.25</td>\n",
       "      <td>0.18</td>\n",
       "      <td>4.60</td>\n",
       "      <td>1.52</td>\n",
       "      <td>NaN</td>\n",
       "      <td>26.15</td>\n",
       "    </tr>\n",
       "  </tbody>\n",
       "</table>\n",
       "</div>"
      ],
      "text/plain": [
       "platform           3DS    DC      DS    GBA     GC   N64     PC    PS     PS2  \\\n",
       "year_of_release                                                                 \n",
       "2002.0             NaN  0.29     NaN  74.16  51.81  0.08   8.57  6.67  205.38   \n",
       "2003.0             NaN   NaN     NaN  56.67  50.61   NaN   8.84  2.07  184.31   \n",
       "2004.0             NaN   NaN   17.27  77.91  28.82   NaN  10.39   NaN  211.81   \n",
       "2005.0             NaN   NaN  130.14  33.86  27.62   NaN   4.37   NaN  160.66   \n",
       "2006.0             NaN   NaN  119.81   5.28  11.26   NaN   2.85   NaN  103.42   \n",
       "2007.0             NaN  0.02  146.94   3.40   0.27   NaN   9.28   NaN   75.99   \n",
       "2008.0             NaN  0.04  145.31    NaN    NaN   NaN  12.42   NaN   53.90   \n",
       "2009.0             NaN   NaN  119.54    NaN    NaN   NaN  16.91   NaN   26.40   \n",
       "2010.0             NaN   NaN   85.02    NaN    NaN   NaN  24.28   NaN    5.64   \n",
       "2011.0           63.20   NaN   26.18    NaN    NaN   NaN  35.03   NaN    0.45   \n",
       "2012.0           51.36   NaN   11.01    NaN    NaN   NaN  23.22   NaN     NaN   \n",
       "2013.0           56.57   NaN    1.54    NaN    NaN   NaN  12.38   NaN     NaN   \n",
       "2014.0           43.76   NaN     NaN    NaN    NaN   NaN  13.28   NaN     NaN   \n",
       "2015.0           27.78   NaN     NaN    NaN    NaN   NaN   8.52   NaN     NaN   \n",
       "2016.0           15.14   NaN     NaN    NaN    NaN   NaN   5.25   NaN     NaN   \n",
       "\n",
       "platform            PS3     PS4    PSP    PSV     Wii   WiiU    X360     XB  \\\n",
       "year_of_release                                                               \n",
       "2002.0              NaN     NaN    NaN    NaN     NaN    NaN     NaN  48.01   \n",
       "2003.0              NaN     NaN    NaN    NaN     NaN    NaN     NaN  55.04   \n",
       "2004.0              NaN     NaN   7.06    NaN     NaN    NaN     NaN  65.42   \n",
       "2005.0              NaN     NaN  43.84    NaN     NaN    NaN    8.25  49.08   \n",
       "2006.0            20.96     NaN  55.32    NaN  137.15    NaN   51.62  10.04   \n",
       "2007.0            73.19     NaN  46.93    NaN  152.77    NaN   95.41   0.55   \n",
       "2008.0           118.52     NaN  34.55    NaN  171.32    NaN  135.26   0.18   \n",
       "2009.0           130.93     NaN  37.78    NaN  206.97    NaN  120.29    NaN   \n",
       "2010.0           142.17     NaN  35.04    NaN  127.95    NaN  170.03    NaN   \n",
       "2011.0           156.78     NaN  17.82   4.63   59.65    NaN  143.84    NaN   \n",
       "2012.0           107.36     NaN   7.69  16.19   21.71  17.56   99.74    NaN   \n",
       "2013.0           113.25   25.99   3.14  10.59    8.59  21.65   88.58    NaN   \n",
       "2014.0            47.76  100.00   0.24  11.90    3.75  22.03   34.74    NaN   \n",
       "2015.0            16.82  118.90   0.12   6.25    1.14  16.35   11.96    NaN   \n",
       "2016.0             3.60   69.25    NaN   4.25    0.18   4.60    1.52    NaN   \n",
       "\n",
       "platform          XOne  \n",
       "year_of_release         \n",
       "2002.0             NaN  \n",
       "2003.0             NaN  \n",
       "2004.0             NaN  \n",
       "2005.0             NaN  \n",
       "2006.0             NaN  \n",
       "2007.0             NaN  \n",
       "2008.0             NaN  \n",
       "2009.0             NaN  \n",
       "2010.0             NaN  \n",
       "2011.0             NaN  \n",
       "2012.0             NaN  \n",
       "2013.0           18.96  \n",
       "2014.0           54.07  \n",
       "2015.0           60.14  \n",
       "2016.0           26.15  "
      ]
     },
     "execution_count": 31,
     "metadata": {},
     "output_type": "execute_result"
    }
   ],
   "source": [
    "df_best_years.pivot_table(index='platform', columns='year_of_release', values='total_sales', aggfunc = 'sum').T"
   ]
  },
  {
   "cell_type": "markdown",
   "metadata": {},
   "source": [
    "По графику и сводной таблице можно проследить как исчезают старые платформы, и появляются новые:  \n",
    "* например, в 2004 появилась платформа DS, которая существовала на протяжении 10ти лет до 2013года\n",
    "* более новая платформа Wii имела активные продажи в течение 7-8 лет (с 2006 до 2012) и за следующие 3 года плавно сошла на нет  \n",
    "* в ее ряду возникла также PS3 (судя по названию, 3я версия PS), которая прожила 11 лет: с 2006 до 2016 (возможно она еще существует в 2017, но продажи уже в 2016 были на минимуме)   \n",
    "* X360, возникшая в 2005, просуществовала 11 лет вплоть до 2015, в 2016 ее продажи также скатились на дно, что возможно приведет к ее исчезновению    \n",
    "* до 2015-2016 дошли 9 платформ, среди которых есть достаточно успешные (с продажами выше 15 млн копий за 2016 год) - это **PS4** (существует 4 года - с 2013г), **3DS**, возникшая в 2011 (к моменту сбора данных существует 6 лет) и **XOne** (существует 4 года)\n",
    "\n",
    "Судя по графику, подкрепленному сводной таблицей, рост продаж к своему пику происходит обычно с появления за пару-тройку лет, а потом начинает постепенно падать. Исключением является платформа Wii, которая с самого появления опередила все существующие на тот момент платформы по количеству продаж за год (в 2006 - продано более 137 млн игр), но потом резко упала. \n",
    "\n",
    "Таким образом, по графику распределения можно сделать вывод о том, что **платформы проходят свой жизненный цикл (от взлета до падения продаж и исчезновения) в течение примерно 8-10 лет**.\n",
    "\n",
    "Если учесть срок жизни платформ, можно взять его половину (8/2) и отступив ее от 2017 назад, определить **период 2013-2016 как актуальный**. Таким образом, мы захватим окончания периодов существования старых (предпоследних) платформ, и период возникновения и развития новых, еще существующих и активно развивающихся платформ."
   ]
  },
  {
   "cell_type": "code",
   "execution_count": 32,
   "metadata": {},
   "outputs": [
    {
     "data": {
      "image/png": "[encoded data removed]",
      "text/plain": [
       "<Figure size 864x504 with 1 Axes>"
      ]
     },
     "metadata": {
      "needs_background": "light"
     },
     "output_type": "display_data"
    }
   ],
   "source": [
    "df_best_years = df_best_years.query('year_of_release > 2013')\n",
    "\n",
    "(df_best_years\n",
    " .pivot_table(index='platform', columns='year_of_release', values='total_sales', aggfunc = 'sum')\n",
    " .T\n",
    " .plot(kind='bar', legend=True, alpha=0.5, title='Распределение продаж игр со всех платформ по годам:', figsize=(12, 7))\n",
    ")\n",
    "plt.xlabel('Год релиза игры')\n",
    "plt.ylabel('Продажи (в млн проданных копий)')\n",
    "plt.show()"
   ]
  },
  {
   "cell_type": "code",
   "execution_count": 33,
   "metadata": {},
   "outputs": [
    {
     "data": {
      "text/plain": [
       "platform\n",
       "PS4     288.15\n",
       "XOne    140.36\n",
       "3DS      86.68\n",
       "PS3      68.18\n",
       "X360     48.22\n",
       "WiiU     42.98\n",
       "PC       27.05\n",
       "PSV      22.40\n",
       "Wii       5.07\n",
       "PSP       0.36\n",
       "Name: total_sales, dtype: float64"
      ]
     },
     "execution_count": 33,
     "metadata": {},
     "output_type": "execute_result"
    }
   ],
   "source": [
    "df_best_years.groupby('platform').total_sales.sum().sort_values(ascending=False)"
   ]
  },
  {
   "cell_type": "markdown",
   "metadata": {},
   "source": [
    "По новому срезу, можно определить как **потенциально прибыльные следующие 3 платформы: PS4, XOne и 3DS**, не только потому что они самые новые и только развиваются, но и потому что их продажи, в сравнении со всеми новыми платформами, выше.   \n",
    "\n",
    "Отдельно стоит рассмотреть платформу для игр PC (персональный компьютер), которая существовала на протяжении всего времени существования компьютерных игр. Посмотрим по годам, становится ли она популярнее в этом плане, или же наоборот:"
   ]
  },
  {
   "cell_type": "code",
   "execution_count": 34,
   "metadata": {},
   "outputs": [
    {
     "data": {
      "image/png": "[encoded data removed]",
      "text/plain": [
       "<Figure size 432x288 with 1 Axes>"
      ]
     },
     "metadata": {
      "needs_background": "light"
     },
     "output_type": "display_data"
    }
   ],
   "source": [
    "df.query('platform == \"PC\"').groupby('year_of_release').total_sales.sum().plot(grid=True, legend=True, alpha=0.5, title='Распределение продаж игр c платформы PC по годам:')\n",
    "plt.xlabel('Год релиза игры')\n",
    "plt.ylabel('Продажи (в млн проданных копий)')\n",
    "plt.show()"
   ]
  },
  {
   "cell_type": "markdown",
   "metadata": {},
   "source": [
    "Популярность игр на PC имела резкий скачок популярности в 2011 году, но затем продажи стремительно упали, и падают вплоть до 2016 года.  \n",
    "Хоть PC и не собирается исчезать из жизни людей, но перспективной мы ее назвать в актуальном периоде 2013-2016 не можем, т.к. продажи очень низкие в сравнении с другими выделенными нами платформами, и продолжают падать."
   ]
  },
  {
   "cell_type": "markdown",
   "metadata": {},
   "source": [
    "<a id='total_sales_box_plot'></a>\n",
    "### Диаграмма размаха по глобальным продажам игр \n",
    "Построим график «ящик с усами» по глобальным продажам игр в разбивке по платформам:"
   ]
  },
  {
   "cell_type": "code",
   "execution_count": 36,
   "metadata": {},
   "outputs": [
    {
     "data": {
      "image/png": "[encoded data removed]",
      "text/plain": [
       "<Figure size 1152x432 with 1 Axes>"
      ]
     },
     "metadata": {
      "needs_background": "light"
     },
     "output_type": "display_data"
    }
   ],
   "source": [
    "(df_best_years\n",
    " .pivot_table(index='platform', columns='year_of_release', values='total_sales', aggfunc = 'sum')\n",
    " .T\n",
    " .plot(kind='box', legend=True, title='Распределение продаж игр с платформ по годам только актуального периода (2013-2016):', vert=False, figsize=(16, 6))\n",
    ")\n",
    "plt.ylabel('Платформа')\n",
    "plt.xlabel('Продажи (в млн проданных копий)')\n",
    "plt.show()\n"
   ]
  },
  {
   "cell_type": "markdown",
   "metadata": {},
   "source": [
    "По графику видим, что самые крупные продажи у PS4 и XOne, на втором месте 2 другие платформы: X360 и PS3  \n",
    "Самые маленькие продажи у PSP и Wii (т.к. они уже заканчивают свой жизненный цикл)"
   ]
  },
  {
   "cell_type": "markdown",
   "metadata": {},
   "source": [
    "<a id='reviews_to_sales'></a>\n",
    "### Влияние отзывов пользователей и критиков на продажи одной платформы\n",
    "\n",
    "Посмотрим, как влияют на продажи внутри одной популярной платформы отзывы пользователей и критиков.  \n",
    "\n",
    "#### Возьмем в качестве популярной платформу XOne  \n",
    "\n",
    "Построим диаграмму рассеяния:"
   ]
  },
  {
   "cell_type": "code",
   "execution_count": 38,
   "metadata": {},
   "outputs": [
    {
     "data": {
      "image/png": "[encoded data removed]",
      "text/plain": [
       "<Figure size 432x288 with 1 Axes>"
      ]
     },
     "metadata": {
      "needs_background": "light"
     },
     "output_type": "display_data"
    }
   ],
   "source": [
    "df_xone = df.query('platform == \"XOne\"')\n",
    "df_xone['critic_score'] = df_xone['critic_score']/10\n",
    "\n",
    "plt.scatter(df_xone.critic_score, df_xone.total_sales, color='g', alpha=0.15)\n",
    "plt.scatter(df_xone.user_score, df_xone.total_sales, color='r', alpha=0.15)\n",
    "\n",
    "plt.xlabel('Отзывы пользователей (красный) и критиков (зеленый)')\n",
    "plt.ylabel('Продажи (в млн проданных копий)')\n",
    "plt.title('Зависимость продаж от отзывов пользователей и критиков внутри одной платформы XOne')\n",
    "\n",
    "plt.show()"
   ]
  },
  {
   "cell_type": "markdown",
   "metadata": {},
   "source": [
    "По графику видим, что в основном продажи совершались у игр с отзывами от 6 до 9 баллов по 10тибальной шкале - по обеим группам отзывов, но при этом продаж очень мало, а некоторые имеющиеся выбивающиеся значения по обеим группам отзывов тоже особо не различаются: сходные выбросы есть и в той, и в другой группе.\n",
    "\n",
    "Посчитаем корреляцию между отзывами и продажами:"
   ]
  },
  {
   "cell_type": "code",
   "execution_count": 39,
   "metadata": {},
   "outputs": [
    {
     "name": "stdout",
     "output_type": "stream",
     "text": [
      "Коээфициент корреляции между отзывами критиков и продажами = 0.42\n",
      "Коээфициент корреляции между отзывами пользователей и продажами = -0.07\n"
     ]
    }
   ],
   "source": [
    "print('Коээфициент корреляции между отзывами критиков и продажами = {:.2f}'.format(df_xone.query('critic_score != \"NaN\"')['critic_score'].corr(df_xone.query('critic_score != \"NaN\"')['total_sales'])))\n",
    "print('Коээфициент корреляции между отзывами пользователей и продажами = {:.2f}'.format(df_xone.query('user_score != \"NaN\"')['total_sales'].corr(df_xone.query('user_score != \"NaN\"')['user_score'])))"
   ]
  },
  {
   "cell_type": "markdown",
   "metadata": {},
   "source": [
    "Учитывая коэффициент корреляции между отзывами критиков и продажами, можно с уверенностью сказать о том, что между рассматриваемыми величинами присутствует прямая линейная связь: чем выше рейтинг критика, тем выше продажи игры.  \n",
    "В то же время, по близкому к нулю коэффициенту корреляции между отзывами пользователей и продажами, сделаем вывод о том, что связь отсутствует: продажи не зависят от отзывов пользователей.\n",
    "\n",
    "#### Возьмем в качестве популярной еще одну платформу: PS4, \n",
    "имеющую наибольшие продажи игр, и проделаем с ней все те же самые действия, чтобы до конца убедиться в правильности нашего вывода."
   ]
  },
  {
   "cell_type": "code",
   "execution_count": 40,
   "metadata": {},
   "outputs": [
    {
     "data": {
      "image/png": "[encoded data removed]",
      "text/plain": [
       "<Figure size 432x288 with 1 Axes>"
      ]
     },
     "metadata": {
      "needs_background": "light"
     },
     "output_type": "display_data"
    }
   ],
   "source": [
    "df_ps4 = df.query('platform == \"PS4\"')\n",
    "df_ps4['critic_score'] = df_ps4['critic_score']/10\n",
    "\n",
    "plt.scatter(df_ps4.critic_score, df_ps4.total_sales, color='g', alpha=0.15)\n",
    "plt.scatter(df_ps4.user_score, df_ps4.total_sales, color='r', alpha=0.15)\n",
    "\n",
    "plt.xlabel('Отзывы пользователей (красный) и критиков (зеленый)')\n",
    "plt.ylabel('Продажи (в млн проданных копий)')\n",
    "plt.title('Зависимость продаж от отзывов пользователей и критиков внутри одной платформы PS3')\n",
    "\n",
    "plt.show()"
   ]
  },
  {
   "cell_type": "markdown",
   "metadata": {},
   "source": [
    "По графику видим, что в основном продажи также совершались у игр с отзывами от 6 до 9 баллов по 10тибальной шкале - по обеим группам отзывов, но при этом с ростом рейтинга, продаж становилось больше. В основном такая зависимость сильнее прослеживается между отзывами критиков и продажами: чем лучше отзыв, тем больше продаж (можно предположить здесь прямую линейную связь). В то время как между отзывами пользователей и продажами вообще сложно проследить какую-либо связь по графику.\n",
    "\n",
    "Посчитаем корреляцию между отзывами и продажами:"
   ]
  },
  {
   "cell_type": "code",
   "execution_count": 41,
   "metadata": {},
   "outputs": [
    {
     "name": "stdout",
     "output_type": "stream",
     "text": [
      "Коээфициент корреляции между отзывами критиков и продажами = 0.41\n",
      "Коээфициент корреляции между отзывами пользователей и продажами = -0.03\n"
     ]
    }
   ],
   "source": [
    "print('Коээфициент корреляции между отзывами критиков и продажами = {:.2f}'.format(df_ps4.query('critic_score != \"NaN\"')['critic_score'].corr(df_ps4.query('critic_score != \"NaN\"')['total_sales'])))\n",
    "print('Коээфициент корреляции между отзывами пользователей и продажами = {:.2f}'.format(df_ps4.query('user_score != \"NaN\"')['total_sales'].corr(df_ps4.query('user_score != \"NaN\"')['user_score'])))"
   ]
  },
  {
   "cell_type": "markdown",
   "metadata": {},
   "source": [
    "На основании полученных коэффициентов корреляции, можно сделать вывод о том, что наши предположения на счет наличия прямой связи между продажами и отзывами критиков подтвердились.  \n",
    "Также мы убедились в том, что между отзывами пользователей и продажами нет никакой взаимосвязи, т.к. коэффициент корреляции близок к нулю.\n",
    "\n",
    "#### Посмотрим на корреляцию по датафрейму актуального периода, чтобы понять общий тренд"
   ]
  },
  {
   "cell_type": "code",
   "execution_count": 42,
   "metadata": {},
   "outputs": [
    {
     "data": {
      "image/png": "[encoded data removed]",
      "text/plain": [
       "<Figure size 432x288 with 1 Axes>"
      ]
     },
     "metadata": {
      "needs_background": "light"
     },
     "output_type": "display_data"
    }
   ],
   "source": [
    "df_best_years['critic_score_new'] = df_best_years['critic_score']/10\n",
    "\n",
    "plt.scatter(df_best_years.critic_score_new, df_best_years.total_sales, color='g', alpha=0.15)\n",
    "plt.scatter(df_best_years.user_score, df_best_years.total_sales, color='r', alpha=0.15)\n",
    "\n",
    "plt.xlabel('Отзывы пользователей (красный) и критиков (зеленый)')\n",
    "plt.ylabel('Продажи (в млн проданных копий)')\n",
    "plt.title('Зависимость продаж от отзывов пользователей и критиков по всем платформам')\n",
    "\n",
    "plt.show()"
   ]
  },
  {
   "cell_type": "code",
   "execution_count": 43,
   "metadata": {},
   "outputs": [
    {
     "name": "stdout",
     "output_type": "stream",
     "text": [
      "Коээфициент корреляции между отзывами критиков и продажами = 0.33\n",
      "Коээфициент корреляции между отзывами пользователей и продажами = -0.01\n"
     ]
    }
   ],
   "source": [
    "print('Коээфициент корреляции между отзывами критиков и продажами = {:.2f}'.format(df_best_years.query('critic_score != \"NaN\"')['critic_score'].corr(df_best_years.query('critic_score != \"NaN\"')['total_sales'])))\n",
    "print('Коээфициент корреляции между отзывами пользователей и продажами = {:.2f}'.format(df_best_years.query('user_score != \"NaN\"')['total_sales'].corr(df_best_years.query('user_score != \"NaN\"')['user_score'])))"
   ]
  },
  {
   "cell_type": "markdown",
   "metadata": {},
   "source": [
    "По графику и коэффициентам корреляции видим, что общая тенденция сохраняется:  \n",
    "* основные продажи приходятся на 6-9 баллов рейтинга\n",
    "* присутствует прямая линейная взаимосвязь двух величин: продажи и отзывы критиков\n",
    "* отстуствует взаимосвязь между отзывами пользователей и продажами"
   ]
  },
  {
   "cell_type": "markdown",
   "metadata": {},
   "source": [
    "<a id='game_distribution_by_genre'></a>\n",
    "### Общее распределение игр по жанрам\n",
    "#### Посмотрим на общее распределение игр по жанрам в связке со средними продажами. "
   ]
  },
  {
   "cell_type": "code",
   "execution_count": 44,
   "metadata": {},
   "outputs": [
    {
     "data": {
      "text/plain": [
       "11559"
      ]
     },
     "execution_count": 44,
     "metadata": {},
     "output_type": "execute_result"
    }
   ],
   "source": [
    "df.name.nunique()"
   ]
  },
  {
   "cell_type": "code",
   "execution_count": 45,
   "metadata": {},
   "outputs": [
    {
     "data": {
      "image/png": "[encoded data removed]",
      "text/plain": [
       "<Figure size 720x360 with 1 Axes>"
      ]
     },
     "metadata": {
      "needs_background": "light"
     },
     "output_type": "display_data"
    }
   ],
   "source": [
    "(df\n",
    " .pivot_table(index='genre', values='total_sales').sort_values(by='total_sales')\n",
    " .plot(kind='bar', legend=True, title='Распределение средних продаж игр по жанрам:', figsize=(10, 5), grid=True)\n",
    ")\n",
    "plt.xlabel('Жанры игр')\n",
    "plt.ylabel('Продажи (в млн проданных копий)')\n",
    "plt.show()"
   ]
  },
  {
   "cell_type": "markdown",
   "metadata": {},
   "source": [
    "По графику можно сказать, что самыми прибыльными жанрами игр (с продажами выше 2х млн копий) являются: \n",
    "* Role-Playing\n",
    "* Shooter\n",
    "* Platform (самые высокие продажи)\n",
    "\n",
    "Самыми непопулярными по продажам являются игры жанра Advenrure\n",
    "\n",
    "#### Также посмотрим на топ по суммарным продажам в жанре:"
   ]
  },
  {
   "cell_type": "code",
   "execution_count": 46,
   "metadata": {},
   "outputs": [
    {
     "data": {
      "image/png": "[encoded data removed]",
      "text/plain": [
       "<Figure size 720x360 with 1 Axes>"
      ]
     },
     "metadata": {
      "needs_background": "light"
     },
     "output_type": "display_data"
    }
   ],
   "source": [
    "(df\n",
    " .pivot_table(index='genre', values='total_sales', aggfunc = 'sum').sort_values(by='total_sales')\n",
    " .plot(kind='bar', legend=True, title='Распределение суммарных продаж игр по жанрам:', figsize=(10, 5), grid=True)\n",
    ")\n",
    "plt.xlabel('Жанры игр')\n",
    "plt.ylabel('Продажи (в млн проданных копий)')\n",
    "plt.show()"
   ]
  },
  {
   "cell_type": "markdown",
   "metadata": {},
   "source": [
    "В разрезе суммарных продаж по жанрам, популярные жанры немного сместились.\n",
    "\n",
    "По графику можно сказать, что самыми прибыльными жанрами игр (с продажами выше 1000 млн копий) являются: \n",
    "* Shooter\n",
    "* Sports\n",
    "* Action (самые высокие продажи)\n",
    "\n",
    "Самыми непопулярными по продажам являются игры жанра Strategy"
   ]
  },
  {
   "cell_type": "markdown",
   "metadata": {},
   "source": [
    "#### Посмотрим на топ по количеству игр в жанре:"
   ]
  },
  {
   "cell_type": "code",
   "execution_count": 47,
   "metadata": {},
   "outputs": [
    {
     "data": {
      "image/png": "[encoded data removed]",
      "text/plain": [
       "<Figure size 720x360 with 1 Axes>"
      ]
     },
     "metadata": {
      "needs_background": "light"
     },
     "output_type": "display_data"
    }
   ],
   "source": [
    "df.groupby('genre').name.count().sort_values().plot(kind='bar', legend=True, title='Распределение количества игр по жанрам:', figsize=(10, 5), grid=True)\n",
    "\n",
    "plt.xlabel('Жанры игр')\n",
    "plt.ylabel('Количество игр в жанре')\n",
    "plt.show()"
   ]
  },
  {
   "cell_type": "markdown",
   "metadata": {},
   "source": [
    "Больше всего было выпущено игр жанра Action и меньше всего - жанра Puzzle"
   ]
  },
  {
   "cell_type": "markdown",
   "metadata": {},
   "source": [
    "<a id='conclusion_3'></a>\n",
    "### Вывод\n",
    "\n",
    "В данном пункте мы:\n",
    "* на основе построенных графиков и их анализа, мы выяснили, что платформы \"живут\" в среднем 8-10 лет, выделили потенциально прибыльные платформы (3DS, PS4, XOne) и определили актуальный период: 2013-2016гг\n",
    "\n",
    "* «ящик с усами» по глобальным продажам игр в разбивке по платформам показал нам у каких платформ есть выбросы в данных по продажам\n",
    "\n",
    "* мы выяснили что отзывы пользователей никак не влияют на продажи игр, в то время как отзывы критиков в прямой линейной связи с продажами: чем лучше отзыв об игре, тем выше ее продажи\n",
    "\n",
    "* общее распределение игр по жанрам в связке с продажами позволило нам выделить наиболее популярные жанры, имеющие большое количество продаж. Мы определили что самыми продаваемыми и выпускаемыми являются игры с жанрами Action и Sports, а самым непопулярным жанром является Стратегия и Пазл.\n",
    "\n",
    "[Назад к оглавлению](#MENU)"
   ]
  },
  {
   "cell_type": "markdown",
   "metadata": {},
   "source": [
    "<a id='user_portrait'></a>\n",
    "## Формирование портрета пользователя каждого региона \n",
    "<a id='top_5_platforms'></a>\n",
    "### Топ-5 самых популярных платформ \n",
    "\n",
    "Определим для пользователя каждого региона (NA, EU, JP) Топ-5 самых популярных платформ.  \n",
    "Учтем при этом только актуальный период: 2013-2016гг"
   ]
  },
  {
   "cell_type": "code",
   "execution_count": 48,
   "metadata": {},
   "outputs": [
    {
     "data": {
      "text/plain": [
       "Index(['name', 'platform', 'year_of_release', 'genre', 'na_sales', 'eu_sales',\n",
       "       'jp_sales', 'other_sales', 'critic_score', 'user_score', 'rating',\n",
       "       'total_sales'],\n",
       "      dtype='object')"
      ]
     },
     "execution_count": 48,
     "metadata": {},
     "output_type": "execute_result"
    }
   ],
   "source": [
    "df.columns"
   ]
  },
  {
   "cell_type": "markdown",
   "metadata": {},
   "source": [
    "Сначала сформируем сводную таблицу с необходимыми данными по продажам регионов, сгруппированным по платформам:"
   ]
  },
  {
   "cell_type": "code",
   "execution_count": 49,
   "metadata": {},
   "outputs": [
    {
     "data": {
      "text/html": [
       "<div>\n",
       "<style scoped>\n",
       "    .dataframe tbody tr th:only-of-type {\n",
       "        vertical-align: middle;\n",
       "    }\n",
       "\n",
       "    .dataframe tbody tr th {\n",
       "        vertical-align: top;\n",
       "    }\n",
       "\n",
       "    .dataframe thead th {\n",
       "        text-align: right;\n",
       "    }\n",
       "</style>\n",
       "<table border=\"1\" class=\"dataframe\">\n",
       "  <thead>\n",
       "    <tr style=\"text-align: right;\">\n",
       "      <th></th>\n",
       "      <th>platform</th>\n",
       "      <th>eu_sales</th>\n",
       "      <th>jp_sales</th>\n",
       "      <th>na_sales</th>\n",
       "    </tr>\n",
       "  </thead>\n",
       "  <tbody>\n",
       "    <tr>\n",
       "      <td>0</td>\n",
       "      <td>3DS</td>\n",
       "      <td>16.12</td>\n",
       "      <td>44.24</td>\n",
       "      <td>22.64</td>\n",
       "    </tr>\n",
       "    <tr>\n",
       "      <td>1</td>\n",
       "      <td>PC</td>\n",
       "      <td>17.97</td>\n",
       "      <td>0.00</td>\n",
       "      <td>7.23</td>\n",
       "    </tr>\n",
       "    <tr>\n",
       "      <td>2</td>\n",
       "      <td>PS3</td>\n",
       "      <td>25.54</td>\n",
       "      <td>11.22</td>\n",
       "      <td>22.05</td>\n",
       "    </tr>\n",
       "    <tr>\n",
       "      <td>3</td>\n",
       "      <td>PS4</td>\n",
       "      <td>130.04</td>\n",
       "      <td>15.02</td>\n",
       "      <td>98.61</td>\n",
       "    </tr>\n",
       "    <tr>\n",
       "      <td>4</td>\n",
       "      <td>PSP</td>\n",
       "      <td>0.00</td>\n",
       "      <td>0.36</td>\n",
       "      <td>0.00</td>\n",
       "    </tr>\n",
       "    <tr>\n",
       "      <td>5</td>\n",
       "      <td>PSV</td>\n",
       "      <td>3.53</td>\n",
       "      <td>14.54</td>\n",
       "      <td>2.52</td>\n",
       "    </tr>\n",
       "    <tr>\n",
       "      <td>6</td>\n",
       "      <td>Wii</td>\n",
       "      <td>2.59</td>\n",
       "      <td>0.00</td>\n",
       "      <td>2.08</td>\n",
       "    </tr>\n",
       "    <tr>\n",
       "      <td>7</td>\n",
       "      <td>WiiU</td>\n",
       "      <td>13.15</td>\n",
       "      <td>7.31</td>\n",
       "      <td>19.36</td>\n",
       "    </tr>\n",
       "    <tr>\n",
       "      <td>8</td>\n",
       "      <td>X360</td>\n",
       "      <td>15.49</td>\n",
       "      <td>0.08</td>\n",
       "      <td>28.30</td>\n",
       "    </tr>\n",
       "    <tr>\n",
       "      <td>9</td>\n",
       "      <td>XOne</td>\n",
       "      <td>46.25</td>\n",
       "      <td>0.32</td>\n",
       "      <td>81.27</td>\n",
       "    </tr>\n",
       "  </tbody>\n",
       "</table>\n",
       "</div>"
      ],
      "text/plain": [
       "  platform  eu_sales  jp_sales  na_sales\n",
       "0      3DS     16.12     44.24     22.64\n",
       "1       PC     17.97      0.00      7.23\n",
       "2      PS3     25.54     11.22     22.05\n",
       "3      PS4    130.04     15.02     98.61\n",
       "4      PSP      0.00      0.36      0.00\n",
       "5      PSV      3.53     14.54      2.52\n",
       "6      Wii      2.59      0.00      2.08\n",
       "7     WiiU     13.15      7.31     19.36\n",
       "8     X360     15.49      0.08     28.30\n",
       "9     XOne     46.25      0.32     81.27"
      ]
     },
     "execution_count": 49,
     "metadata": {},
     "output_type": "execute_result"
    }
   ],
   "source": [
    "df_platform = df_best_years.pivot_table(index='platform', values=['na_sales', 'eu_sales', 'jp_sales'], aggfunc = 'sum').reset_index()\n",
    "df_platform"
   ]
  },
  {
   "cell_type": "markdown",
   "metadata": {},
   "source": [
    "#### Топ-5 самых популярных платформ в Северной Америке:"
   ]
  },
  {
   "cell_type": "code",
   "execution_count": 50,
   "metadata": {},
   "outputs": [
    {
     "data": {
      "text/plain": [
       "0     PS4\n",
       "1    XOne\n",
       "2    X360\n",
       "3     3DS\n",
       "4     PS3\n",
       "Name: platform, dtype: object"
      ]
     },
     "execution_count": 50,
     "metadata": {},
     "output_type": "execute_result"
    }
   ],
   "source": [
    "df_na_platform = df_platform.sort_values(by='na_sales', ascending=False).reset_index(drop= True)\n",
    "df_na_platform.platform.head()"
   ]
  },
  {
   "cell_type": "markdown",
   "metadata": {},
   "source": [
    "Удостоверимся в этом с помощью графика:"
   ]
  },
  {
   "cell_type": "code",
   "execution_count": 51,
   "metadata": {},
   "outputs": [
    {
     "data": {
      "image/png": "[encoded data removed]",
      "text/plain": [
       "<Figure size 432x288 with 1 Axes>"
      ]
     },
     "metadata": {
      "needs_background": "light"
     },
     "output_type": "display_data"
    }
   ],
   "source": [
    "df_na_platform.plot(x='platform', y='na_sales', kind='bar', legend=True, title='Количество продаж по платформам в Северной Америке:')\n",
    "plt.xlabel('Платформа')\n",
    "plt.ylabel('Продажи (в млн проданных копий)')\n",
    "plt.show()"
   ]
  },
  {
   "cell_type": "markdown",
   "metadata": {},
   "source": [
    "Из существующих на 2016 год успешных платформ, PS4 в Северной Америке дала продаж больше всех.  \n",
    "XOne совсем немного отсает от нее и также имеет очень высокие продажи\n",
    "\n",
    "#### Топ-5 самых популярных платформ в Европе:"
   ]
  },
  {
   "cell_type": "code",
   "execution_count": 52,
   "metadata": {},
   "outputs": [
    {
     "data": {
      "text/plain": [
       "0     PS4\n",
       "1    XOne\n",
       "2     PS3\n",
       "3      PC\n",
       "4     3DS\n",
       "Name: platform, dtype: object"
      ]
     },
     "execution_count": 52,
     "metadata": {},
     "output_type": "execute_result"
    }
   ],
   "source": [
    "df_eu_platform = df_platform.sort_values(by='eu_sales', ascending=False).reset_index(drop= True)\n",
    "df_eu_platform.platform.head()"
   ]
  },
  {
   "cell_type": "markdown",
   "metadata": {},
   "source": [
    "Удостоверимся в этом с помощью графика:"
   ]
  },
  {
   "cell_type": "code",
   "execution_count": 53,
   "metadata": {},
   "outputs": [
    {
     "data": {
      "image/png": "[encoded data removed]",
      "text/plain": [
       "<Figure size 432x288 with 1 Axes>"
      ]
     },
     "metadata": {
      "needs_background": "light"
     },
     "output_type": "display_data"
    }
   ],
   "source": [
    "df_eu_platform.plot(x='platform', y='eu_sales', kind='bar', legend=True, title='Количество продаж по платформам в Европе:')\n",
    "plt.xlabel('Платформа')\n",
    "plt.ylabel('Продажи (в млн проданных копий)')\n",
    "plt.show()"
   ]
  },
  {
   "cell_type": "markdown",
   "metadata": {},
   "source": [
    "PS4 далеко впереди всех по продажам в Европе и дала продаж в 3 раза больше чем вторая за ней по количеству продаж платформа XOne.  \n",
    "3DS - в аутсайдерах, у нее совсем мало продаж по Европе.\n",
    "\n",
    "#### Топ-5 самых популярных платформ в Японии:"
   ]
  },
  {
   "cell_type": "code",
   "execution_count": 54,
   "metadata": {},
   "outputs": [
    {
     "data": {
      "text/plain": [
       "0     3DS\n",
       "1     PS4\n",
       "2     PSV\n",
       "3     PS3\n",
       "4    WiiU\n",
       "Name: platform, dtype: object"
      ]
     },
     "execution_count": 54,
     "metadata": {},
     "output_type": "execute_result"
    }
   ],
   "source": [
    "df_jp_platform = df_platform.sort_values(by='jp_sales', ascending=False).reset_index(drop= True)\n",
    "df_jp_platform.platform.head()"
   ]
  },
  {
   "cell_type": "markdown",
   "metadata": {},
   "source": [
    "Удостоверимся в этом с помощью графика:"
   ]
  },
  {
   "cell_type": "code",
   "execution_count": 55,
   "metadata": {},
   "outputs": [
    {
     "data": {
      "image/png": "[encoded data removed]",
      "text/plain": [
       "<Figure size 432x288 with 1 Axes>"
      ]
     },
     "metadata": {
      "needs_background": "light"
     },
     "output_type": "display_data"
    }
   ],
   "source": [
    "df_jp_platform.plot(x='platform', y='jp_sales', kind='bar', legend=True, title='Количество продаж по платформам в Японии:')\n",
    "plt.xlabel('Платформа')\n",
    "plt.ylabel('Продажи (в млн проданных копий)')\n",
    "plt.show()"
   ]
  },
  {
   "cell_type": "markdown",
   "metadata": {},
   "source": [
    "В Японии лидирует по продажам 3DS (продаж больше чем у PS4 в 3 раза) - абсолютный лидер среди всех платформ   \n",
    "XOne здесь совсем не популярна и набрала совсем микроскопические продажи.\n",
    "\n",
    "#### Посмотрим на продажи по всем трем регионам в сравнении:"
   ]
  },
  {
   "cell_type": "code",
   "execution_count": 56,
   "metadata": {},
   "outputs": [
    {
     "data": {
      "image/png": "[encoded data removed]",
      "text/plain": [
       "<Figure size 432x288 with 1 Axes>"
      ]
     },
     "metadata": {
      "needs_background": "light"
     },
     "output_type": "display_data"
    }
   ],
   "source": [
    "df_platform.set_index('platform').plot(kind='bar', legend=True, title='Количество продаж по платформам в 3х регионах:')\n",
    "plt.xlabel('Платформа')\n",
    "plt.ylabel('Продажи (в млн проданных копий)')\n",
    "plt.show()"
   ]
  },
  {
   "cell_type": "markdown",
   "metadata": {},
   "source": [
    "Можно отметить, что самые большие продажи наблюдаются в Северной Америке, а самые малые - в Японии.\n",
    "\n",
    "Сформируем таблицы по топам-5 трех рассматриваемых регионов и построим по ним столбчатую диаграмму, чтобы увидеть продажи по регионам в сравнении:"
   ]
  },
  {
   "cell_type": "code",
   "execution_count": 57,
   "metadata": {},
   "outputs": [
    {
     "data": {
      "text/html": [
       "<div>\n",
       "<style scoped>\n",
       "    .dataframe tbody tr th:only-of-type {\n",
       "        vertical-align: middle;\n",
       "    }\n",
       "\n",
       "    .dataframe tbody tr th {\n",
       "        vertical-align: top;\n",
       "    }\n",
       "\n",
       "    .dataframe thead th {\n",
       "        text-align: right;\n",
       "    }\n",
       "</style>\n",
       "<table border=\"1\" class=\"dataframe\">\n",
       "  <thead>\n",
       "    <tr style=\"text-align: right;\">\n",
       "      <th></th>\n",
       "      <th>na_sales</th>\n",
       "      <th>eu_sales</th>\n",
       "      <th>jp_sales</th>\n",
       "    </tr>\n",
       "  </thead>\n",
       "  <tbody>\n",
       "    <tr>\n",
       "      <td>0</td>\n",
       "      <td>98.61</td>\n",
       "      <td>130.04</td>\n",
       "      <td>44.24</td>\n",
       "    </tr>\n",
       "    <tr>\n",
       "      <td>1</td>\n",
       "      <td>81.27</td>\n",
       "      <td>46.25</td>\n",
       "      <td>15.02</td>\n",
       "    </tr>\n",
       "    <tr>\n",
       "      <td>2</td>\n",
       "      <td>28.30</td>\n",
       "      <td>25.54</td>\n",
       "      <td>14.54</td>\n",
       "    </tr>\n",
       "    <tr>\n",
       "      <td>3</td>\n",
       "      <td>22.64</td>\n",
       "      <td>17.97</td>\n",
       "      <td>11.22</td>\n",
       "    </tr>\n",
       "    <tr>\n",
       "      <td>4</td>\n",
       "      <td>22.05</td>\n",
       "      <td>16.12</td>\n",
       "      <td>7.31</td>\n",
       "    </tr>\n",
       "  </tbody>\n",
       "</table>\n",
       "</div>"
      ],
      "text/plain": [
       "   na_sales  eu_sales  jp_sales\n",
       "0     98.61    130.04     44.24\n",
       "1     81.27     46.25     15.02\n",
       "2     28.30     25.54     14.54\n",
       "3     22.64     17.97     11.22\n",
       "4     22.05     16.12      7.31"
      ]
     },
     "execution_count": 57,
     "metadata": {},
     "output_type": "execute_result"
    }
   ],
   "source": [
    "na = df_na_platform.na_sales.head()\n",
    "eu = df_eu_platform.eu_sales.head()\n",
    "jp = df_jp_platform.jp_sales.head()\n",
    "\n",
    "list_of_series = [na, eu, jp]\n",
    "top_platporms_sales = pd.DataFrame(list_of_series).T\n",
    "top_platporms_sales"
   ]
  },
  {
   "cell_type": "code",
   "execution_count": 58,
   "metadata": {},
   "outputs": [
    {
     "data": {
      "image/png": "[encoded data removed]",
      "text/plain": [
       "<Figure size 432x288 with 1 Axes>"
      ]
     },
     "metadata": {
      "needs_background": "light"
     },
     "output_type": "display_data"
    }
   ],
   "source": [
    "top_platporms_sales.plot(kind='bar', legend=True, title='Количество продаж по топ-5 платформам в каждом из 3х регионов:')\n",
    "plt.xlabel('Платформы из топ-5 по каждому региону')\n",
    "plt.ylabel('Продажи (в млн проданных копий)')\n",
    "plt.show()"
   ]
  },
  {
   "cell_type": "markdown",
   "metadata": {},
   "source": [
    "Продажи в Японии в среднем меньше примерно в 3 раза чем продажи в Северной Америке.  \n",
    "Европа занимает промежуточную позицию по количеству продаж своих со своих топ-5ти платформ.  \n",
    "Однако по продажам с самой лидирующей платформы, вперед всех выходит как раз Европа: в 3 раза больше продаж чем в Японии и намного выше чем в СА   "
   ]
  },
  {
   "cell_type": "markdown",
   "metadata": {},
   "source": [
    "<a id='top_5_genres'></a>\n",
    "### Топ-5 самых популярных жанров "
   ]
  },
  {
   "cell_type": "markdown",
   "metadata": {},
   "source": [
    "Определим для пользователя каждого региона (NA, EU, JP) Топ-5 самых популярных жанров.  \n",
    "Учтем при этом только актуальный период: 2013-2016гг."
   ]
  },
  {
   "cell_type": "code",
   "execution_count": 59,
   "metadata": {},
   "outputs": [
    {
     "data": {
      "text/html": [
       "<div>\n",
       "<style scoped>\n",
       "    .dataframe tbody tr th:only-of-type {\n",
       "        vertical-align: middle;\n",
       "    }\n",
       "\n",
       "    .dataframe tbody tr th {\n",
       "        vertical-align: top;\n",
       "    }\n",
       "\n",
       "    .dataframe thead th {\n",
       "        text-align: right;\n",
       "    }\n",
       "</style>\n",
       "<table border=\"1\" class=\"dataframe\">\n",
       "  <thead>\n",
       "    <tr style=\"text-align: right;\">\n",
       "      <th></th>\n",
       "      <th>genre</th>\n",
       "      <th>eu_sales</th>\n",
       "      <th>jp_sales</th>\n",
       "      <th>na_sales</th>\n",
       "    </tr>\n",
       "  </thead>\n",
       "  <tbody>\n",
       "    <tr>\n",
       "      <td>0</td>\n",
       "      <td>Action</td>\n",
       "      <td>74.68</td>\n",
       "      <td>29.58</td>\n",
       "      <td>72.53</td>\n",
       "    </tr>\n",
       "    <tr>\n",
       "      <td>1</td>\n",
       "      <td>Adventure</td>\n",
       "      <td>6.49</td>\n",
       "      <td>3.60</td>\n",
       "      <td>5.64</td>\n",
       "    </tr>\n",
       "    <tr>\n",
       "      <td>2</td>\n",
       "      <td>Fighting</td>\n",
       "      <td>6.69</td>\n",
       "      <td>6.37</td>\n",
       "      <td>12.43</td>\n",
       "    </tr>\n",
       "    <tr>\n",
       "      <td>3</td>\n",
       "      <td>Misc</td>\n",
       "      <td>12.86</td>\n",
       "      <td>5.61</td>\n",
       "      <td>15.05</td>\n",
       "    </tr>\n",
       "    <tr>\n",
       "      <td>4</td>\n",
       "      <td>Platform</td>\n",
       "      <td>6.80</td>\n",
       "      <td>2.69</td>\n",
       "      <td>6.79</td>\n",
       "    </tr>\n",
       "    <tr>\n",
       "      <td>5</td>\n",
       "      <td>Puzzle</td>\n",
       "      <td>0.52</td>\n",
       "      <td>0.93</td>\n",
       "      <td>0.65</td>\n",
       "    </tr>\n",
       "    <tr>\n",
       "      <td>6</td>\n",
       "      <td>Racing</td>\n",
       "      <td>14.13</td>\n",
       "      <td>1.76</td>\n",
       "      <td>8.74</td>\n",
       "    </tr>\n",
       "    <tr>\n",
       "      <td>7</td>\n",
       "      <td>Role-Playing</td>\n",
       "      <td>28.17</td>\n",
       "      <td>31.16</td>\n",
       "      <td>33.47</td>\n",
       "    </tr>\n",
       "    <tr>\n",
       "      <td>8</td>\n",
       "      <td>Shooter</td>\n",
       "      <td>65.52</td>\n",
       "      <td>4.87</td>\n",
       "      <td>79.02</td>\n",
       "    </tr>\n",
       "    <tr>\n",
       "      <td>9</td>\n",
       "      <td>Simulation</td>\n",
       "      <td>7.30</td>\n",
       "      <td>2.31</td>\n",
       "      <td>2.63</td>\n",
       "    </tr>\n",
       "    <tr>\n",
       "      <td>10</td>\n",
       "      <td>Sports</td>\n",
       "      <td>45.73</td>\n",
       "      <td>3.26</td>\n",
       "      <td>46.13</td>\n",
       "    </tr>\n",
       "    <tr>\n",
       "      <td>11</td>\n",
       "      <td>Strategy</td>\n",
       "      <td>1.79</td>\n",
       "      <td>0.95</td>\n",
       "      <td>0.98</td>\n",
       "    </tr>\n",
       "  </tbody>\n",
       "</table>\n",
       "</div>"
      ],
      "text/plain": [
       "           genre  eu_sales  jp_sales  na_sales\n",
       "0         Action     74.68     29.58     72.53\n",
       "1      Adventure      6.49      3.60      5.64\n",
       "2       Fighting      6.69      6.37     12.43\n",
       "3           Misc     12.86      5.61     15.05\n",
       "4       Platform      6.80      2.69      6.79\n",
       "5         Puzzle      0.52      0.93      0.65\n",
       "6         Racing     14.13      1.76      8.74\n",
       "7   Role-Playing     28.17     31.16     33.47\n",
       "8        Shooter     65.52      4.87     79.02\n",
       "9     Simulation      7.30      2.31      2.63\n",
       "10        Sports     45.73      3.26     46.13\n",
       "11      Strategy      1.79      0.95      0.98"
      ]
     },
     "execution_count": 59,
     "metadata": {},
     "output_type": "execute_result"
    }
   ],
   "source": [
    "df_genre = df_best_years.pivot_table(index='genre', values=['na_sales', 'eu_sales', 'jp_sales'], aggfunc='sum').reset_index()\n",
    "df_genre"
   ]
  },
  {
   "cell_type": "markdown",
   "metadata": {},
   "source": [
    "#### Топ-5 самых популярных жанров в Северной Америке:"
   ]
  },
  {
   "cell_type": "code",
   "execution_count": 60,
   "metadata": {},
   "outputs": [
    {
     "data": {
      "text/plain": [
       "0         Shooter\n",
       "1          Action\n",
       "2          Sports\n",
       "3    Role-Playing\n",
       "4            Misc\n",
       "Name: genre, dtype: object"
      ]
     },
     "execution_count": 60,
     "metadata": {},
     "output_type": "execute_result"
    }
   ],
   "source": [
    "df_na_genre = df_genre.sort_values(by='na_sales', ascending=False).reset_index(drop= True)\n",
    "df_na_genre.genre.head()"
   ]
  },
  {
   "cell_type": "markdown",
   "metadata": {},
   "source": [
    "Удостоверимся в этом с помощью графика:"
   ]
  },
  {
   "cell_type": "code",
   "execution_count": 61,
   "metadata": {},
   "outputs": [
    {
     "data": {
      "image/png": "[encoded data removed]",
      "text/plain": [
       "<Figure size 432x288 with 1 Axes>"
      ]
     },
     "metadata": {
      "needs_background": "light"
     },
     "output_type": "display_data"
    }
   ],
   "source": [
    "df_na_genre.plot(x='genre', y='na_sales', kind='bar', legend=True, title='Количество продаж по жанрам в Северной Америке:')\n",
    "plt.xlabel('Жанр игры')\n",
    "plt.ylabel('Продажи (в млн проданных копий)')\n",
    "plt.show()"
   ]
  },
  {
   "cell_type": "markdown",
   "metadata": {},
   "source": [
    "#### Топ-5 самых популярных жанров в Европе:"
   ]
  },
  {
   "cell_type": "code",
   "execution_count": 62,
   "metadata": {},
   "outputs": [
    {
     "data": {
      "text/plain": [
       "0          Action\n",
       "1         Shooter\n",
       "2          Sports\n",
       "3    Role-Playing\n",
       "4          Racing\n",
       "Name: genre, dtype: object"
      ]
     },
     "execution_count": 62,
     "metadata": {},
     "output_type": "execute_result"
    }
   ],
   "source": [
    "df_eu_genre = df_genre.sort_values(by='eu_sales', ascending=False).reset_index(drop= True)\n",
    "df_eu_genre.genre.head()"
   ]
  },
  {
   "cell_type": "markdown",
   "metadata": {},
   "source": [
    "Удостоверимся в этом с помощью графика:"
   ]
  },
  {
   "cell_type": "code",
   "execution_count": 63,
   "metadata": {},
   "outputs": [
    {
     "data": {
      "image/png": "[encoded data removed]",
      "text/plain": [
       "<Figure size 432x288 with 1 Axes>"
      ]
     },
     "metadata": {
      "needs_background": "light"
     },
     "output_type": "display_data"
    }
   ],
   "source": [
    "df_eu_genre.plot(x='genre', y='eu_sales', kind='bar', legend=True, title='Количество продаж по жанрам в Европе:')\n",
    "plt.xlabel('Жанр игры')\n",
    "plt.ylabel('Продажи (в млн проданных копий)')\n",
    "plt.show()"
   ]
  },
  {
   "cell_type": "markdown",
   "metadata": {},
   "source": [
    "#### Топ-5 самых популярных жанров в Японии:"
   ]
  },
  {
   "cell_type": "code",
   "execution_count": 64,
   "metadata": {},
   "outputs": [
    {
     "data": {
      "text/plain": [
       "0    Role-Playing\n",
       "1          Action\n",
       "2        Fighting\n",
       "3            Misc\n",
       "4         Shooter\n",
       "Name: genre, dtype: object"
      ]
     },
     "execution_count": 64,
     "metadata": {},
     "output_type": "execute_result"
    }
   ],
   "source": [
    "df_jp_genre = df_genre.sort_values(by='jp_sales', ascending=False).reset_index(drop= True)\n",
    "df_jp_genre.genre.head()"
   ]
  },
  {
   "cell_type": "markdown",
   "metadata": {},
   "source": [
    "Удостоверимся в этом с помощью графика:"
   ]
  },
  {
   "cell_type": "code",
   "execution_count": 65,
   "metadata": {
    "scrolled": true
   },
   "outputs": [
    {
     "data": {
      "image/png": "[encoded data removed]",
      "text/plain": [
       "<Figure size 432x288 with 1 Axes>"
      ]
     },
     "metadata": {
      "needs_background": "light"
     },
     "output_type": "display_data"
    }
   ],
   "source": [
    "df_jp_genre.plot(x='genre', y='jp_sales', kind='bar', legend=True, title='Количество продаж по жанрам в Японии:')\n",
    "plt.xlabel('Жанр игры')\n",
    "plt.ylabel('Продажи (в млн проданных копий)')\n",
    "plt.show()"
   ]
  },
  {
   "cell_type": "markdown",
   "metadata": {},
   "source": [
    "Во всех трех регионах популярными являются разные жанры:\n",
    "В СА и Европе лидируют по продажам 2 самых популярных там жанра: Action и Shooter, а в Японии: Action и Role-Playing\n",
    "\n",
    "#### Посмотрим на продажи по всем трем регионам в сравнении:"
   ]
  },
  {
   "cell_type": "code",
   "execution_count": 66,
   "metadata": {},
   "outputs": [
    {
     "data": {
      "image/png": "[encoded data removed]",
      "text/plain": [
       "<Figure size 432x288 with 1 Axes>"
      ]
     },
     "metadata": {
      "needs_background": "light"
     },
     "output_type": "display_data"
    }
   ],
   "source": [
    "df_genre.set_index('genre').plot(kind='bar', legend=True, title='Количество продаж по жанрам в 3х регионах:')\n",
    "plt.xlabel('Жанр игры')\n",
    "plt.ylabel('Продажи (в млн проданных копий)')\n",
    "plt.show()"
   ]
  },
  {
   "cell_type": "markdown",
   "metadata": {},
   "source": [
    "Можно отметить, что самые большие продажи опять наблюдаются в Северной Америке, а самые малые - в Японии.\n",
    "\n",
    "Сформируем таблицы по топам-5 трех рассматриваемых регионов и построим по ним столбчатую диаграмму, чтобы увидеть продажи по регионам в сравнении:"
   ]
  },
  {
   "cell_type": "code",
   "execution_count": 67,
   "metadata": {},
   "outputs": [
    {
     "data": {
      "text/html": [
       "<div>\n",
       "<style scoped>\n",
       "    .dataframe tbody tr th:only-of-type {\n",
       "        vertical-align: middle;\n",
       "    }\n",
       "\n",
       "    .dataframe tbody tr th {\n",
       "        vertical-align: top;\n",
       "    }\n",
       "\n",
       "    .dataframe thead th {\n",
       "        text-align: right;\n",
       "    }\n",
       "</style>\n",
       "<table border=\"1\" class=\"dataframe\">\n",
       "  <thead>\n",
       "    <tr style=\"text-align: right;\">\n",
       "      <th></th>\n",
       "      <th>na_sales</th>\n",
       "      <th>eu_sales</th>\n",
       "      <th>jp_sales</th>\n",
       "    </tr>\n",
       "  </thead>\n",
       "  <tbody>\n",
       "    <tr>\n",
       "      <td>0</td>\n",
       "      <td>79.02</td>\n",
       "      <td>74.68</td>\n",
       "      <td>31.16</td>\n",
       "    </tr>\n",
       "    <tr>\n",
       "      <td>1</td>\n",
       "      <td>72.53</td>\n",
       "      <td>65.52</td>\n",
       "      <td>29.58</td>\n",
       "    </tr>\n",
       "    <tr>\n",
       "      <td>2</td>\n",
       "      <td>46.13</td>\n",
       "      <td>45.73</td>\n",
       "      <td>6.37</td>\n",
       "    </tr>\n",
       "    <tr>\n",
       "      <td>3</td>\n",
       "      <td>33.47</td>\n",
       "      <td>28.17</td>\n",
       "      <td>5.61</td>\n",
       "    </tr>\n",
       "    <tr>\n",
       "      <td>4</td>\n",
       "      <td>15.05</td>\n",
       "      <td>14.13</td>\n",
       "      <td>4.87</td>\n",
       "    </tr>\n",
       "  </tbody>\n",
       "</table>\n",
       "</div>"
      ],
      "text/plain": [
       "   na_sales  eu_sales  jp_sales\n",
       "0     79.02     74.68     31.16\n",
       "1     72.53     65.52     29.58\n",
       "2     46.13     45.73      6.37\n",
       "3     33.47     28.17      5.61\n",
       "4     15.05     14.13      4.87"
      ]
     },
     "execution_count": 67,
     "metadata": {},
     "output_type": "execute_result"
    }
   ],
   "source": [
    "na = df_na_genre.na_sales.head()\n",
    "eu = df_eu_genre.eu_sales.head()\n",
    "jp = df_jp_genre.jp_sales.head()\n",
    "\n",
    "list_of_series = [na, eu, jp]\n",
    "top_genres_sales = pd.DataFrame(list_of_series).T\n",
    "top_genres_sales"
   ]
  },
  {
   "cell_type": "code",
   "execution_count": 68,
   "metadata": {},
   "outputs": [
    {
     "data": {
      "image/png": "[encoded data removed]",
      "text/plain": [
       "<Figure size 432x288 with 1 Axes>"
      ]
     },
     "metadata": {
      "needs_background": "light"
     },
     "output_type": "display_data"
    }
   ],
   "source": [
    "top_genres_sales.plot(kind='bar', legend=True, title='Количество продаж по топ-5 жанрам в каждом из 3х регионов:')\n",
    "plt.xlabel('Жанры из топ-5 по каждому региону')\n",
    "plt.ylabel('Продажи (в млн проданных копий)')\n",
    "plt.show()"
   ]
  },
  {
   "cell_type": "markdown",
   "metadata": {},
   "source": [
    "В сравнении продаж популярных жанров, лидирует СА,  \n",
    "Европа снова занимает промежуточную позицию по количеству продаж со своих топ-5ти платформ,   \n",
    "однако по самому популярному жанру она практически догнала Северную Америку в количестве продаж (топ-5 популярных жанров у всех разные, поэтому оси подписаны цифрами)"
   ]
  },
  {
   "cell_type": "markdown",
   "metadata": {},
   "source": [
    "<a id='esrb_to_sales'></a>\n",
    "### Определение влияния рейтинга ESRB на продажи в отдельном регионе "
   ]
  },
  {
   "cell_type": "markdown",
   "metadata": {},
   "source": [
    "Обозначения (<a href=\"https://ru.wikipedia.org/wiki/Entertainment_Software_Rating_Board#:~:text=%D0%9F%D0%B5%D1%80%D0%B2%D0%BE%D0%BD%D0%B0%D1%87%D0%B0%D0%BB%D1%8C%D0%BD%D0%BE%20%22K%2DA%22%20(%22Kids%20to%20Adults%22)&text=%C2%ABE10%2B%C2%BB%20(%C2%ABEveryone%2010,ESRB%202%20%D0%BC%D0%B0%D1%80%D1%82%D0%B0%202005%20%D0%B3%D0%BE%D0%B4%D0%B0.\">источник</a>) :\n",
    "* E («Everyone») — «Для всех»\n",
    "* M («Mature») — «Для взрослых» \n",
    "* T («Teen») — «Подросткам»\n",
    "* E10+ («Everyone 10 and older») — «Для всех от 10 лет и старше»\n",
    "* EC («Early childhood») — «Для детей младшего возраста»\n",
    "* AO («Adults Only 18+») — «Только для взрослых»\n",
    "* RP («Rating Pending») — «Рейтинг ожидается»\n",
    "\n",
    "Определим для пользователя каждого региона (NA, EU, JP) влияние рейтинга ESRB (столбец rating) на продажи компьютерных игр.\n",
    "\n",
    "#### Северная Америка"
   ]
  },
  {
   "cell_type": "code",
   "execution_count": 69,
   "metadata": {},
   "outputs": [
    {
     "data": {
      "text/html": [
       "<div>\n",
       "<style scoped>\n",
       "    .dataframe tbody tr th:only-of-type {\n",
       "        vertical-align: middle;\n",
       "    }\n",
       "\n",
       "    .dataframe tbody tr th {\n",
       "        vertical-align: top;\n",
       "    }\n",
       "\n",
       "    .dataframe thead th {\n",
       "        text-align: right;\n",
       "    }\n",
       "</style>\n",
       "<table border=\"1\" class=\"dataframe\">\n",
       "  <thead>\n",
       "    <tr style=\"text-align: right;\">\n",
       "      <th></th>\n",
       "      <th>rating</th>\n",
       "      <th>na_sales</th>\n",
       "    </tr>\n",
       "  </thead>\n",
       "  <tbody>\n",
       "    <tr>\n",
       "      <td>0</td>\n",
       "      <td>M</td>\n",
       "      <td>96.42</td>\n",
       "    </tr>\n",
       "    <tr>\n",
       "      <td>1</td>\n",
       "      <td>undefined</td>\n",
       "      <td>64.72</td>\n",
       "    </tr>\n",
       "    <tr>\n",
       "      <td>2</td>\n",
       "      <td>E</td>\n",
       "      <td>50.74</td>\n",
       "    </tr>\n",
       "    <tr>\n",
       "      <td>3</td>\n",
       "      <td>T</td>\n",
       "      <td>38.95</td>\n",
       "    </tr>\n",
       "    <tr>\n",
       "      <td>4</td>\n",
       "      <td>E10+</td>\n",
       "      <td>33.23</td>\n",
       "    </tr>\n",
       "  </tbody>\n",
       "</table>\n",
       "</div>"
      ],
      "text/plain": [
       "      rating  na_sales\n",
       "0          M     96.42\n",
       "1  undefined     64.72\n",
       "2          E     50.74\n",
       "3          T     38.95\n",
       "4       E10+     33.23"
      ]
     },
     "execution_count": 69,
     "metadata": {},
     "output_type": "execute_result"
    }
   ],
   "source": [
    "df_na_rating = pd.DataFrame(data = df_best_years.groupby('rating').na_sales.sum().sort_values(ascending=False).reset_index())\n",
    "df_na_rating"
   ]
  },
  {
   "cell_type": "code",
   "execution_count": 70,
   "metadata": {},
   "outputs": [
    {
     "data": {
      "image/png": "[encoded data removed]",
      "text/plain": [
       "<Figure size 432x288 with 1 Axes>"
      ]
     },
     "metadata": {
      "needs_background": "light"
     },
     "output_type": "display_data"
    }
   ],
   "source": [
    "df_na_rating.plot(kind='bar', x='rating', y='na_sales', legend=True, title='Продажи в Северной Америке по рейтингу ESRB')\n",
    "plt.xlabel('Рейтинг ESRB')\n",
    "plt.ylabel('Продажи (в млн проданных копий)')\n",
    "plt.show()"
   ]
  },
  {
   "cell_type": "markdown",
   "metadata": {},
   "source": [
    "В Северной Америке у игр «Для взрослых» (M) продажи значительно выше остальных.  \n",
    "У игр «Для всех от 10 лет и старше» - самые низкие продажи.\n",
    "\n",
    "#### Европа"
   ]
  },
  {
   "cell_type": "code",
   "execution_count": 71,
   "metadata": {},
   "outputs": [
    {
     "data": {
      "text/html": [
       "<div>\n",
       "<style scoped>\n",
       "    .dataframe tbody tr th:only-of-type {\n",
       "        vertical-align: middle;\n",
       "    }\n",
       "\n",
       "    .dataframe tbody tr th {\n",
       "        vertical-align: top;\n",
       "    }\n",
       "\n",
       "    .dataframe thead th {\n",
       "        text-align: right;\n",
       "    }\n",
       "</style>\n",
       "<table border=\"1\" class=\"dataframe\">\n",
       "  <thead>\n",
       "    <tr style=\"text-align: right;\">\n",
       "      <th></th>\n",
       "      <th>rating</th>\n",
       "      <th>eu_sales</th>\n",
       "    </tr>\n",
       "  </thead>\n",
       "  <tbody>\n",
       "    <tr>\n",
       "      <td>0</td>\n",
       "      <td>M</td>\n",
       "      <td>93.44</td>\n",
       "    </tr>\n",
       "    <tr>\n",
       "      <td>1</td>\n",
       "      <td>undefined</td>\n",
       "      <td>58.95</td>\n",
       "    </tr>\n",
       "    <tr>\n",
       "      <td>2</td>\n",
       "      <td>E</td>\n",
       "      <td>58.06</td>\n",
       "    </tr>\n",
       "    <tr>\n",
       "      <td>3</td>\n",
       "      <td>T</td>\n",
       "      <td>34.07</td>\n",
       "    </tr>\n",
       "    <tr>\n",
       "      <td>4</td>\n",
       "      <td>E10+</td>\n",
       "      <td>26.16</td>\n",
       "    </tr>\n",
       "  </tbody>\n",
       "</table>\n",
       "</div>"
      ],
      "text/plain": [
       "      rating  eu_sales\n",
       "0          M     93.44\n",
       "1  undefined     58.95\n",
       "2          E     58.06\n",
       "3          T     34.07\n",
       "4       E10+     26.16"
      ]
     },
     "execution_count": 71,
     "metadata": {},
     "output_type": "execute_result"
    }
   ],
   "source": [
    "df_eu_rating = pd.DataFrame(data = df_best_years.groupby('rating').eu_sales.sum().sort_values(ascending=False).reset_index())\n",
    "df_eu_rating"
   ]
  },
  {
   "cell_type": "code",
   "execution_count": 72,
   "metadata": {},
   "outputs": [
    {
     "data": {
      "image/png": "[encoded data removed]",
      "text/plain": [
       "<Figure size 432x288 with 1 Axes>"
      ]
     },
     "metadata": {
      "needs_background": "light"
     },
     "output_type": "display_data"
    }
   ],
   "source": [
    "df_eu_rating.plot(kind='bar', x='rating', y='eu_sales', legend=True, title='Продажи в Европе по рейтингу ESRB')\n",
    "plt.xlabel('Рейтинг ESRB')\n",
    "plt.ylabel('Продажи (в млн проданных копий)')\n",
    "plt.show()"
   ]
  },
  {
   "cell_type": "markdown",
   "metadata": {},
   "source": [
    "В Европе та же картина, что в СА:  \n",
    "у игр «Для всех» - самые высокие продажи,  \n",
    "а у игр «Для всех от 10 лет и старше» - самые низкие.\n",
    "\n",
    "#### Япония"
   ]
  },
  {
   "cell_type": "code",
   "execution_count": 73,
   "metadata": {},
   "outputs": [
    {
     "data": {
      "text/html": [
       "<div>\n",
       "<style scoped>\n",
       "    .dataframe tbody tr th:only-of-type {\n",
       "        vertical-align: middle;\n",
       "    }\n",
       "\n",
       "    .dataframe tbody tr th {\n",
       "        vertical-align: top;\n",
       "    }\n",
       "\n",
       "    .dataframe thead th {\n",
       "        text-align: right;\n",
       "    }\n",
       "</style>\n",
       "<table border=\"1\" class=\"dataframe\">\n",
       "  <thead>\n",
       "    <tr style=\"text-align: right;\">\n",
       "      <th></th>\n",
       "      <th>rating</th>\n",
       "      <th>jp_sales</th>\n",
       "    </tr>\n",
       "  </thead>\n",
       "  <tbody>\n",
       "    <tr>\n",
       "      <td>0</td>\n",
       "      <td>undefined</td>\n",
       "      <td>56.90</td>\n",
       "    </tr>\n",
       "    <tr>\n",
       "      <td>1</td>\n",
       "      <td>T</td>\n",
       "      <td>14.78</td>\n",
       "    </tr>\n",
       "    <tr>\n",
       "      <td>2</td>\n",
       "      <td>E</td>\n",
       "      <td>8.94</td>\n",
       "    </tr>\n",
       "    <tr>\n",
       "      <td>3</td>\n",
       "      <td>M</td>\n",
       "      <td>8.01</td>\n",
       "    </tr>\n",
       "    <tr>\n",
       "      <td>4</td>\n",
       "      <td>E10+</td>\n",
       "      <td>4.46</td>\n",
       "    </tr>\n",
       "  </tbody>\n",
       "</table>\n",
       "</div>"
      ],
      "text/plain": [
       "      rating  jp_sales\n",
       "0  undefined     56.90\n",
       "1          T     14.78\n",
       "2          E      8.94\n",
       "3          M      8.01\n",
       "4       E10+      4.46"
      ]
     },
     "execution_count": 73,
     "metadata": {},
     "output_type": "execute_result"
    }
   ],
   "source": [
    "df_jp_rating = pd.DataFrame(data = df_best_years.groupby('rating').jp_sales.sum().sort_values(ascending=False).reset_index())\n",
    "df_jp_rating"
   ]
  },
  {
   "cell_type": "code",
   "execution_count": 74,
   "metadata": {},
   "outputs": [
    {
     "data": {
      "image/png": "[encoded data removed]",
      "text/plain": [
       "<Figure size 432x288 with 1 Axes>"
      ]
     },
     "metadata": {
      "needs_background": "light"
     },
     "output_type": "display_data"
    }
   ],
   "source": [
    "df_jp_rating.plot(kind='bar', x='rating', y='jp_sales', legend=True, title='Продажи в Японии по рейтингу ESRB')\n",
    "plt.xlabel('Рейтинг ESRB')\n",
    "plt.ylabel('Продажи (в млн проданных копий)')\n",
    "plt.show()"
   ]
  },
  {
   "cell_type": "markdown",
   "metadata": {},
   "source": [
    "В Японии на первую лидирующую позицию вышла \"неопределенная\" категория. Можно предположить, при записи данных возникли какие-то грубые ошибки и что, как и в других регионах, больше всего здесь продано игр с пометкой «Для всех»  \n",
    "На вторую позицию по продажам вышли игры «Подросткам»  \n",
    "Меньше всего в Японии продано игр с пометкой «Для всех от 10 лет и старше»  \n",
    "\n",
    "Сведем продажи во всех трех регионах по рейтингу в одну таблицу:"
   ]
  },
  {
   "cell_type": "code",
   "execution_count": 75,
   "metadata": {},
   "outputs": [
    {
     "data": {
      "text/html": [
       "<div>\n",
       "<style scoped>\n",
       "    .dataframe tbody tr th:only-of-type {\n",
       "        vertical-align: middle;\n",
       "    }\n",
       "\n",
       "    .dataframe tbody tr th {\n",
       "        vertical-align: top;\n",
       "    }\n",
       "\n",
       "    .dataframe thead th {\n",
       "        text-align: right;\n",
       "    }\n",
       "</style>\n",
       "<table border=\"1\" class=\"dataframe\">\n",
       "  <thead>\n",
       "    <tr style=\"text-align: right;\">\n",
       "      <th></th>\n",
       "      <th>na_sales</th>\n",
       "      <th>eu_sales</th>\n",
       "      <th>jp_sales</th>\n",
       "    </tr>\n",
       "    <tr>\n",
       "      <th>rating</th>\n",
       "      <th></th>\n",
       "      <th></th>\n",
       "      <th></th>\n",
       "    </tr>\n",
       "  </thead>\n",
       "  <tbody>\n",
       "    <tr>\n",
       "      <td>M</td>\n",
       "      <td>96.42</td>\n",
       "      <td>93.44</td>\n",
       "      <td>8.01</td>\n",
       "    </tr>\n",
       "    <tr>\n",
       "      <td>undefined</td>\n",
       "      <td>64.72</td>\n",
       "      <td>58.95</td>\n",
       "      <td>56.90</td>\n",
       "    </tr>\n",
       "    <tr>\n",
       "      <td>E</td>\n",
       "      <td>50.74</td>\n",
       "      <td>58.06</td>\n",
       "      <td>8.94</td>\n",
       "    </tr>\n",
       "    <tr>\n",
       "      <td>T</td>\n",
       "      <td>38.95</td>\n",
       "      <td>34.07</td>\n",
       "      <td>14.78</td>\n",
       "    </tr>\n",
       "    <tr>\n",
       "      <td>E10+</td>\n",
       "      <td>33.23</td>\n",
       "      <td>26.16</td>\n",
       "      <td>4.46</td>\n",
       "    </tr>\n",
       "  </tbody>\n",
       "</table>\n",
       "</div>"
      ],
      "text/plain": [
       "           na_sales  eu_sales  jp_sales\n",
       "rating                                 \n",
       "M             96.42     93.44      8.01\n",
       "undefined     64.72     58.95     56.90\n",
       "E             50.74     58.06      8.94\n",
       "T             38.95     34.07     14.78\n",
       "E10+          33.23     26.16      4.46"
      ]
     },
     "execution_count": 75,
     "metadata": {},
     "output_type": "execute_result"
    }
   ],
   "source": [
    "df_merged_ratings = df_na_rating.merge(df_eu_rating, on='rating', how='outer').merge(df_jp_rating, on='rating', how='outer').set_index('rating')\n",
    "df_merged_ratings"
   ]
  },
  {
   "cell_type": "markdown",
   "metadata": {},
   "source": [
    "Для наглядности построим график, на котором отобразим продажи в зависимости от рейтинга, по всем регионам сразу:"
   ]
  },
  {
   "cell_type": "code",
   "execution_count": 76,
   "metadata": {},
   "outputs": [
    {
     "data": {
      "image/png": "[encoded data removed]",
      "text/plain": [
       "<Figure size 432x288 with 1 Axes>"
      ]
     },
     "metadata": {
      "needs_background": "light"
     },
     "output_type": "display_data"
    }
   ],
   "source": [
    "df_merged_ratings.plot(kind='bar', legend=True, title='Продажи во всех регионах по рейтингу ESRB')\n",
    "plt.xlabel('Рейтинг ESRB')\n",
    "plt.ylabel('Продажи (в млн проданных копий)')\n",
    "plt.show()"
   ]
  },
  {
   "cell_type": "markdown",
   "metadata": {},
   "source": [
    "<a id='conclusion_4'></a>\n",
    "### Вывод \n",
    "\n",
    "В данном пункте, мы определили топ-5 самых популярных платформ и жанров по каждому региону: Япония, Северная Америка и Европа, учитывая количество продаж.  \n",
    "Мы установили, что жанры и платформы по топам-5 различаются по данным регионам. И сравнили продажи по регионам между собой: самые высокие продажи происходят в Северной Америке, а самые низкие - в Японии.  \n",
    "Мы провели исследование зависимости продаж от рейтинга ESRB по тем же регионам и выяснили, что почти во всех регионах самые большие продажи собирают игры из категории E («Для всех»), и самые низкие у категории E10+ («Для всех от 10 лет и старше»).\n",
    "\n",
    "[Назад к оглавлению](#MENU)"
   ]
  },
  {
   "cell_type": "markdown",
   "metadata": {},
   "source": [
    "<a id='hypotheses_testing'></a>\n",
    "##  Проверка гипотез \n",
    "\n",
    "\n",
    "### Гипотеза №1 \n",
    "**Средние пользовательские рейтинги платформ Xbox One и PС одинаковые**\n",
    "\n",
    "Сформулируем гипотезы о равенстве средних для двух выборок:  \n",
    "\n",
    "**H0 (нулевая гипотеза):** средний пользовательский рейтинг платформы Xbox One **РАВЕН** среднему пользовательскому рейтингу платформы PС    \n",
    "**H1 (альтернативная гипотеза):** средний пользовательский рейтинг платформы Xbox One **НЕ РАВЕН** среднему пользовательскому рейтингу платформы PС\n",
    "\n",
    "\n",
    "\n",
    "Для проверки гипотезы используем метод ttest_ind из пакета scipy.stats, который мы экспортировали в самом начале проекта.  \n",
    "Данный метод используется для проверки гипотезы о равенстве среднего двух генеральных совокупностей по взятым из них выборкам и поэтому нам подходит.\n",
    "\n",
    "Методу передадим 2 массива данных:   \n",
    "* пользовательский рейтинг платформы Xbox One  \n",
    "* пользовательский рейтинг платформы PC \n",
    "* а также уровень значимости alpha.\n",
    "\n",
    "Критический уровень статистической значимости зададим стандартным значением 0.05."
   ]
  },
  {
   "cell_type": "code",
   "execution_count": 77,
   "metadata": {},
   "outputs": [
    {
     "data": {
      "text/plain": [
       "Index(['name', 'platform', 'year_of_release', 'genre', 'na_sales', 'eu_sales',\n",
       "       'jp_sales', 'other_sales', 'critic_score', 'user_score', 'rating',\n",
       "       'total_sales', 'critic_score_new'],\n",
       "      dtype='object')"
      ]
     },
     "execution_count": 77,
     "metadata": {},
     "output_type": "execute_result"
    }
   ],
   "source": [
    "df_best_years.columns"
   ]
  },
  {
   "cell_type": "code",
   "execution_count": 78,
   "metadata": {},
   "outputs": [
    {
     "data": {
      "text/plain": [
       "array(['PS4', '3DS', 'XOne', 'WiiU', 'PS3', 'X360', 'PC', 'Wii', 'PSV',\n",
       "       'PSP'], dtype=object)"
      ]
     },
     "execution_count": 78,
     "metadata": {},
     "output_type": "execute_result"
    }
   ],
   "source": [
    "df_best_years.platform.unique()"
   ]
  },
  {
   "cell_type": "code",
   "execution_count": 101,
   "metadata": {},
   "outputs": [
    {
     "name": "stdout",
     "output_type": "stream",
     "text": [
      "p-значение: 0.11601398086668985\n"
     ]
    }
   ],
   "source": [
    "user_score_xone = df_best_years.query('platform==\"XOne\"').user_score.values\n",
    "user_score_pс = df_best_years.query('platform==\"PC\"').user_score.values\n",
    "\n",
    "alpha = 0.05\n",
    "\n",
    "results = st.ttest_ind(user_score_xone, user_score_pс, equal_var = False, nan_policy='omit') \n",
    "\n",
    "print('p-значение:', results.pvalue)"
   ]
  },
  {
   "cell_type": "markdown",
   "metadata": {},
   "source": [
    "сравним получившееся p-значение с заданным уровнем статистической значимости:"
   ]
  },
  {
   "cell_type": "code",
   "execution_count": 102,
   "metadata": {},
   "outputs": [
    {
     "name": "stdout",
     "output_type": "stream",
     "text": [
      "Не получилось отвергнуть нулевую гипотезу.\n"
     ]
    }
   ],
   "source": [
    "if (results.pvalue < alpha):\n",
    "    print(\"Отвергаем нулевую гипотезу.\")\n",
    "else:\n",
    "    print(\"Не получилось отвергнуть нулевую гипотезу.\")"
   ]
  },
  {
   "cell_type": "code",
   "execution_count": 126,
   "metadata": {},
   "outputs": [
    {
     "name": "stdout",
     "output_type": "stream",
     "text": [
      "Средний пользовательский рейтинг платформы Xbox One:\t6.59 из 10\n",
      "Средний пользовательский рейтинг платформы PС:\t\t6.30 из 10\n"
     ]
    }
   ],
   "source": [
    "print('Средний пользовательский рейтинг платформы Xbox One:\\t{:.2f} из 10'.format(df_best_years.query('platform==\"XOne\"').user_score.mean()))\n",
    "print('Средний пользовательский рейтинг платформы PС:\\t\\t{:.2f} из 10'.format(df_best_years.query('platform==\"PC\"').user_score.mean()))"
   ]
  },
  {
   "cell_type": "markdown",
   "metadata": {},
   "source": [
    "Полученное значение p-value говорит о том, что хотя средний рейтинг игровых платформ PC и XOne неодинаков, с вероятностью почти 12% такое или большее различие можно получить случайно. Это явно слишком большая вероятность, чтобы делать вывод о значимом различии между средним рейтингом поклонников персонального компьютера и средним рейтингом поклонников платформы XOne."
   ]
  },
  {
   "cell_type": "markdown",
   "metadata": {},
   "source": [
    "<a id='hypothesis_2'></a>\n",
    "### Гипотеза №2 \n",
    "**Средние пользовательские рейтинги жанров Action (англ. «действие», экшен-игры) и Sports (англ. «спортивные соревнования») разные.**\n",
    "\n",
    "Сформулируем гипотезы о равенстве средних для двух выборок:  \n",
    "\n",
    "**H0 (нулевая гипотеза):** средний пользовательский рейтинг жанра Action **РАВЕН** среднему пользовательскому рейтингу жанра Sports       \n",
    "**H1 (альтернативная гипотеза):** средний пользовательский рейтинг жанра Action **НЕ РАВЕН** среднему пользовательскому рейтингу жанра Sports\n",
    "\n",
    "Для проверки гипотезы используем метод ttest_ind из пакета scipy.stats, который мы экспортировали в самом начале проекта.  \n",
    "Данный метод используется для проверки гипотезы о равенстве среднего двух генеральных совокупностей по взятым из них выборкам и поэтому нам подходит.\n",
    "\n",
    "Методу передадим 2 массива данных:   \n",
    "* пользовательский рейтинг жанра Action  \n",
    "* пользовательский рейтинг жанра Sports   \n",
    "* а также уровень значимости alpha.\n",
    "\n",
    "Критический уровень статистической значимости зададим стандартным значением 0.05."
   ]
  },
  {
   "cell_type": "code",
   "execution_count": 82,
   "metadata": {},
   "outputs": [
    {
     "data": {
      "text/plain": [
       "array(['Shooter', 'Action', 'Role-Playing', 'Sports', 'Fighting',\n",
       "       'Racing', 'Misc', 'Platform', 'Simulation', 'Adventure', 'Puzzle',\n",
       "       'Strategy'], dtype=object)"
      ]
     },
     "execution_count": 82,
     "metadata": {},
     "output_type": "execute_result"
    }
   ],
   "source": [
    "df_best_years.genre.unique()"
   ]
  },
  {
   "cell_type": "code",
   "execution_count": 88,
   "metadata": {},
   "outputs": [
    {
     "name": "stdout",
     "output_type": "stream",
     "text": [
      "p-значение: 1.1825550382644845e-14\n"
     ]
    }
   ],
   "source": [
    "user_score_action = df_best_years.query('genre==\"Action\"').user_score.values\n",
    "user_score_sports = df_best_years.query('genre==\"Sports\"').user_score.values\n",
    "\n",
    "alpha = 0.05\n",
    "\n",
    "results = st.ttest_ind(user_score_action, user_score_sports, equal_var = False, nan_policy='omit') \n",
    "\n",
    "print('p-значение:', results.pvalue)"
   ]
  },
  {
   "cell_type": "markdown",
   "metadata": {},
   "source": [
    "сравним получившееся p-значение с заданным уровнем статистической значимости:"
   ]
  },
  {
   "cell_type": "code",
   "execution_count": 89,
   "metadata": {},
   "outputs": [
    {
     "name": "stdout",
     "output_type": "stream",
     "text": [
      "Отвергаем нулевую гипотезу.\n"
     ]
    }
   ],
   "source": [
    "if (results.pvalue < alpha):\n",
    "    print(\"Отвергаем нулевую гипотезу.\")\n",
    "else:\n",
    "    print(\"Не получилось отвергнуть нулевую гипотезу.\")"
   ]
  },
  {
   "cell_type": "code",
   "execution_count": 92,
   "metadata": {},
   "outputs": [
    {
     "name": "stdout",
     "output_type": "stream",
     "text": [
      "Средний пользовательский рейтинг жанра Action:\t6.76 из 10\n",
      "Средний пользовательский рейтинг жанра Sports:\t5.23 из 10\n"
     ]
    }
   ],
   "source": [
    "print('Средний пользовательский рейтинг жанра Action:\\t{:.2f} из 10'.format(df_best_years.query('genre==\"Action\"').user_score.mean()))\n",
    "print('Средний пользовательский рейтинг жанра Sports:\\t{:.2f} из 10'.format(df_best_years.query('genre==\"Sports\"').user_score.mean()))"
   ]
  },
  {
   "cell_type": "markdown",
   "metadata": {},
   "source": [
    "Полученное значение p-value говорит о том, что существует очень маленькая близкая к нулю вероятность того, что средний пользовательский рейтинг по двум рассматриваемым жанрам может оказаться равным. Поэтому на основе полученных результатов можно сделать смелое предположение о том, что пользовательский рейтинг по двум жанрам (Action и Sports) с очень большой вероятностью будет различаться."
   ]
  },
  {
   "cell_type": "markdown",
   "metadata": {},
   "source": [
    "<a id='general_conclusion'></a>\n",
    "## Общий вывод  \n",
    "\n",
    "В данном проекте мы проделали большую работу над данными о продажах копьютерных игр, предоставленными компанией \"Стримчик\".  \n",
    "Цель проекта было выявить определяющие успешность игры закономерности, что позволило бы сделать ставку на потенциально популярный продукт и спланировать рекламные кампании.\n",
    "\n",
    "Используя данные анализа популярных жанров и платформ, можно сформулировать вывод о том, что пользователи в разных регионах склонны выбирать разные платформы и жанры в качестве лучших, но преимущество отдают некоторым:\n",
    "* например, для США идеальная игра имеет жанр Misc,\n",
    "* для Японии - это Platform\n",
    "* а для Европы - Sports\n",
    "\n",
    "При этом пользователи во всех регионах чаще других избирают для покупки игры с одинаковым возрастным рейтингом ESRB - «Для всех» (E)  \n",
    "\n",
    "Больше всех продаж в Северной Америке и Европе дала платформа Wii, а в Японии - DS, но т.к. на 2016 год их уже не существует следует рассматривать 2 самые успешные на этот момент платформы: 3DS и PS4:  \n",
    "Среди существующих на 2016г самых успешных платформ в Японии 3DS дала в 4 раза больше продаж, чем PS4. В Северной Америке и Европе, ситуация обратная: PS4 лидирует по продажам, а 3DS отстает.\n",
    "\n",
    "Из всего вышеперечисленного, следует выделить важный момент: при планировании рекламной компании компьютерных игр обязательно нужно ориентироваться на регион, в котором она будет запущена, т.к. предпочтения по жанрам и платформам сильно разнятся. \n",
    "\n",
    "[Назад к оглавлению](#MENU)"
   ]
  }
 ],
 "metadata": {
  "kernelspec": {
   "display_name": "Python 3",
   "language": "python",
   "name": "python3"
  },
  "language_info": {
   "codemirror_mode": {
    "name": "ipython",
    "version": 3
   },
   "file_extension": ".py",
   "mimetype": "text/x-python",
   "name": "python",
   "nbconvert_exporter": "python",
   "pygments_lexer": "ipython3",
   "version": "3.8.3"
  },
  "toc": {
   "base_numbering": 1,
   "nav_menu": {},
   "number_sections": true,
   "sideBar": true,
   "skip_h1_title": true,
   "title_cell": "Table of Contents",
   "title_sidebar": "Contents",
   "toc_cell": false,
   "toc_position": {},
   "toc_section_display": true,
   "toc_window_display": false
  }
 },
 "nbformat": 4,
 "nbformat_minor": 2
}
