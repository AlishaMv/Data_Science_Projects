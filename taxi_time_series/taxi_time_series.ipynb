{
 "cells": [
  {
   "cell_type": "markdown",
   "metadata": {
    "toc": true
   },
   "source": [
    "<h1>Содержание<span class=\"tocSkip\"></span></h1>\n",
    "<div class=\"toc\"><ul class=\"toc-item\"><li><span><a href=\"#Подготовка\" data-toc-modified-id=\"Подготовка-1\"><span class=\"toc-item-num\">1&nbsp;&nbsp;</span>Подготовка</a></span></li><li><span><a href=\"#Анализ\" data-toc-modified-id=\"Анализ-2\"><span class=\"toc-item-num\">2&nbsp;&nbsp;</span>Анализ</a></span></li><li><span><a href=\"#Обучение\" data-toc-modified-id=\"Обучение-3\"><span class=\"toc-item-num\">3&nbsp;&nbsp;</span>Обучение</a></span><ul class=\"toc-item\"><li><span><a href=\"#Создание-признаков\" data-toc-modified-id=\"Создание-признаков-3.1\"><span class=\"toc-item-num\">3.1&nbsp;&nbsp;</span>Создание признаков</a></span></li><li><span><a href=\"#Деление-датасета\" data-toc-modified-id=\"Деление-датасета-3.2\"><span class=\"toc-item-num\">3.2&nbsp;&nbsp;</span>Деление датасета</a></span></li><li><span><a href=\"#Catboost\" data-toc-modified-id=\"Catboost-3.3\"><span class=\"toc-item-num\">3.3&nbsp;&nbsp;</span>Catboost</a></span></li><li><span><a href=\"#LightGBM\" data-toc-modified-id=\"LightGBM-3.4\"><span class=\"toc-item-num\">3.4&nbsp;&nbsp;</span>LightGBM</a></span></li><li><span><a href=\"#Линейная-регрессия-(LinearRegression)\" data-toc-modified-id=\"Линейная-регрессия-(LinearRegression)-3.5\"><span class=\"toc-item-num\">3.5&nbsp;&nbsp;</span>Линейная регрессия (LinearRegression)</a></span></li><li><span><a href=\"#Дерево-решений-(DecisionTree)\" data-toc-modified-id=\"Дерево-решений-(DecisionTree)-3.6\"><span class=\"toc-item-num\">3.6&nbsp;&nbsp;</span>Дерево решений (DecisionTree)</a></span></li><li><span><a href=\"#Случайный-лес-(RandomForest)\" data-toc-modified-id=\"Случайный-лес-(RandomForest)-3.7\"><span class=\"toc-item-num\">3.7&nbsp;&nbsp;</span>Случайный лес (RandomForest)</a></span></li></ul></li><li><span><a href=\"#Тестирование\" data-toc-modified-id=\"Тестирование-4\"><span class=\"toc-item-num\">4&nbsp;&nbsp;</span>Тестирование</a></span><ul class=\"toc-item\"><li><span><a href=\"#CatBoost\" data-toc-modified-id=\"CatBoost-4.1\"><span class=\"toc-item-num\">4.1&nbsp;&nbsp;</span>CatBoost</a></span></li><li><span><a href=\"#LightGBM\" data-toc-modified-id=\"LightGBM-4.2\"><span class=\"toc-item-num\">4.2&nbsp;&nbsp;</span>LightGBM</a></span></li><li><span><a href=\"#Линейная-регрессия\" data-toc-modified-id=\"Линейная-регрессия-4.3\"><span class=\"toc-item-num\">4.3&nbsp;&nbsp;</span>Линейная регрессия</a></span></li><li><span><a href=\"#Дерево-решений\" data-toc-modified-id=\"Дерево-решений-4.4\"><span class=\"toc-item-num\">4.4&nbsp;&nbsp;</span>Дерево решений</a></span></li><li><span><a href=\"#Случайный-лес-(RandomForest)\" data-toc-modified-id=\"Случайный-лес-(RandomForest)-4.5\"><span class=\"toc-item-num\">4.5&nbsp;&nbsp;</span>Случайный лес (RandomForest)</a></span></li><li><span><a href=\"#Сводная-таблица-результатов\" data-toc-modified-id=\"Сводная-таблица-результатов-4.6\"><span class=\"toc-item-num\">4.6&nbsp;&nbsp;</span>Сводная таблица результатов</a></span></li><li><span><a href=\"#Dummy\" data-toc-modified-id=\"Dummy-4.7\"><span class=\"toc-item-num\">4.7&nbsp;&nbsp;</span>Dummy</a></span></li></ul></li><li><span><a href=\"#Чек-лист-проверки\" data-toc-modified-id=\"Чек-лист-проверки-5\"><span class=\"toc-item-num\">5&nbsp;&nbsp;</span>Чек-лист проверки</a></span></li></ul></div>"
   ]
  },
  {
   "cell_type": "markdown",
   "metadata": {},
   "source": [
    "#  Прогнозирование количества заказов такси"
   ]
  },
  {
   "cell_type": "markdown",
   "metadata": {},
   "source": [
    "Компания «Чётенькое такси» собрала исторические данные о заказах такси в аэропортах. Чтобы привлекать больше водителей в период пиковой нагрузки, нужно спрогнозировать количество заказов такси на следующий час. Нам предстоит построить модель для такого предсказания (значение метрики *RMSE* на тестовой выборке должно быть не больше 48).\n",
    "\n",
    "Нам нужно:\n",
    "\n",
    "1. Загрузить данные и выполнить их ресемплирование по одному часу.\n",
    "2. Проанализировать данные.\n",
    "3. Обучить разные модели с различными гиперпараметрами. Сделать тестовую выборку размером 10% от исходных данных.\n",
    "4. Проверить данные на тестовой выборке и сделать выводы.\n",
    "\n",
    "\n",
    "Данные лежат в файле `taxi.csv`.  \n",
    "Количество заказов находится в столбце `num_orders` (от англ. *number of orders*, «число заказов»)."
   ]
  },
  {
   "cell_type": "markdown",
   "metadata": {},
   "source": [
    "## Подготовка"
   ]
  },
  {
   "cell_type": "markdown",
   "metadata": {},
   "source": [
    "Произведем импорт всех необходимых бибилиотек:"
   ]
  },
  {
   "cell_type": "code",
   "execution_count": 267,
   "metadata": {},
   "outputs": [],
   "source": [
    "# библиотеки работы с данными\n",
    "import pandas as pd\n",
    "import numpy as np\n",
    "import lightgbm as lgb\n",
    "import sklearn\n",
    "import datetime as dt\n",
    "\n",
    "# откючаем предупреждения\n",
    "import warnings\n",
    "warnings.filterwarnings('ignore')\n",
    "\n",
    "# установка настроек для отображения всех колонок при печати\n",
    "pd.set_option('display.max_columns', None)\n",
    "\n",
    "# разделение на выборки\n",
    "from sklearn.model_selection import train_test_split \n",
    "\n",
    "# графики\n",
    "import matplotlib.pyplot as plt \n",
    "\n",
    "# модели\n",
    "from catboost import CatBoostRegressor, Pool\n",
    "from sklearn.linear_model import LinearRegression\n",
    "import lightgbm as lgb\n",
    "from sklearn.tree import DecisionTreeRegressor\n",
    "from sklearn.ensemble import RandomForestRegressor\n",
    "from sklearn.model_selection import GridSearchCV, RandomizedSearchCV, TimeSeriesSplit\n",
    "from sklearn.dummy import DummyRegressor\n",
    "from statsmodels.tsa.seasonal import seasonal_decompose\n",
    "\n",
    "# стандартизация признаков\n",
    "from sklearn.preprocessing import StandardScaler, MinMaxScaler\n",
    "from sklearn.preprocessing import OrdinalEncoder\n",
    "\n",
    "# метрики\n",
    "from sklearn.metrics import mean_squared_error, r2_score, make_scorer\n",
    "from math import sqrt"
   ]
  },
  {
   "cell_type": "markdown",
   "metadata": {},
   "source": [
    "Прочитаем датафрейм, сразу определив столбец datetime как тип datetime:"
   ]
  },
  {
   "cell_type": "code",
   "execution_count": 268,
   "metadata": {},
   "outputs": [
    {
     "data": {
      "text/html": [
       "<div>\n",
       "<style scoped>\n",
       "    .dataframe tbody tr th:only-of-type {\n",
       "        vertical-align: middle;\n",
       "    }\n",
       "\n",
       "    .dataframe tbody tr th {\n",
       "        vertical-align: top;\n",
       "    }\n",
       "\n",
       "    .dataframe thead th {\n",
       "        text-align: right;\n",
       "    }\n",
       "</style>\n",
       "<table border=\"1\" class=\"dataframe\">\n",
       "  <thead>\n",
       "    <tr style=\"text-align: right;\">\n",
       "      <th></th>\n",
       "      <th>datetime</th>\n",
       "      <th>num_orders</th>\n",
       "    </tr>\n",
       "  </thead>\n",
       "  <tbody>\n",
       "    <tr>\n",
       "      <td>0</td>\n",
       "      <td>2018-03-01 00:00:00</td>\n",
       "      <td>9</td>\n",
       "    </tr>\n",
       "    <tr>\n",
       "      <td>1</td>\n",
       "      <td>2018-03-01 00:10:00</td>\n",
       "      <td>14</td>\n",
       "    </tr>\n",
       "    <tr>\n",
       "      <td>2</td>\n",
       "      <td>2018-03-01 00:20:00</td>\n",
       "      <td>28</td>\n",
       "    </tr>\n",
       "    <tr>\n",
       "      <td>3</td>\n",
       "      <td>2018-03-01 00:30:00</td>\n",
       "      <td>20</td>\n",
       "    </tr>\n",
       "    <tr>\n",
       "      <td>4</td>\n",
       "      <td>2018-03-01 00:40:00</td>\n",
       "      <td>32</td>\n",
       "    </tr>\n",
       "  </tbody>\n",
       "</table>\n",
       "</div>"
      ],
      "text/plain": [
       "             datetime  num_orders\n",
       "0 2018-03-01 00:00:00           9\n",
       "1 2018-03-01 00:10:00          14\n",
       "2 2018-03-01 00:20:00          28\n",
       "3 2018-03-01 00:30:00          20\n",
       "4 2018-03-01 00:40:00          32"
      ]
     },
     "execution_count": 268,
     "metadata": {},
     "output_type": "execute_result"
    }
   ],
   "source": [
    "df = pd.read_csv('/datasets/taxi.csv', parse_dates=[0])\n",
    "\n",
    "df.head()"
   ]
  },
  {
   "cell_type": "markdown",
   "metadata": {},
   "source": [
    "Можно проследить, что количество заказов подсчитывалось за каждые прошедшие 10 минут"
   ]
  },
  {
   "cell_type": "code",
   "execution_count": 269,
   "metadata": {},
   "outputs": [
    {
     "name": "stdout",
     "output_type": "stream",
     "text": [
      "<class 'pandas.core.frame.DataFrame'>\n",
      "RangeIndex: 26496 entries, 0 to 26495\n",
      "Data columns (total 2 columns):\n",
      "datetime      26496 non-null datetime64[ns]\n",
      "num_orders    26496 non-null int64\n",
      "dtypes: datetime64[ns](1), int64(1)\n",
      "memory usage: 414.1 KB\n"
     ]
    }
   ],
   "source": [
    "df.info()"
   ]
  },
  {
   "cell_type": "code",
   "execution_count": 270,
   "metadata": {},
   "outputs": [
    {
     "data": {
      "text/plain": [
       "datetime      0\n",
       "num_orders    0\n",
       "dtype: int64"
      ]
     },
     "execution_count": 270,
     "metadata": {},
     "output_type": "execute_result"
    }
   ],
   "source": [
    "df.isna().sum()"
   ]
  },
  {
   "cell_type": "markdown",
   "metadata": {},
   "source": [
    "В таблице 2 столбца:  \n",
    "datetime - показывает даты и время (тип datetime64 мы установили при импорте датасета, изначально он был object)\n",
    "num_orders - отображает количество заказов такси (целочисленный тип)\n",
    "\n",
    "26496 строк и ни одного пропущенного значения"
   ]
  },
  {
   "cell_type": "code",
   "execution_count": 271,
   "metadata": {},
   "outputs": [
    {
     "data": {
      "text/html": [
       "<div>\n",
       "<style scoped>\n",
       "    .dataframe tbody tr th:only-of-type {\n",
       "        vertical-align: middle;\n",
       "    }\n",
       "\n",
       "    .dataframe tbody tr th {\n",
       "        vertical-align: top;\n",
       "    }\n",
       "\n",
       "    .dataframe thead th {\n",
       "        text-align: right;\n",
       "    }\n",
       "</style>\n",
       "<table border=\"1\" class=\"dataframe\">\n",
       "  <thead>\n",
       "    <tr style=\"text-align: right;\">\n",
       "      <th></th>\n",
       "      <th>num_orders</th>\n",
       "    </tr>\n",
       "  </thead>\n",
       "  <tbody>\n",
       "    <tr>\n",
       "      <td>count</td>\n",
       "      <td>26496.000000</td>\n",
       "    </tr>\n",
       "    <tr>\n",
       "      <td>mean</td>\n",
       "      <td>14.070463</td>\n",
       "    </tr>\n",
       "    <tr>\n",
       "      <td>std</td>\n",
       "      <td>9.211330</td>\n",
       "    </tr>\n",
       "    <tr>\n",
       "      <td>min</td>\n",
       "      <td>0.000000</td>\n",
       "    </tr>\n",
       "    <tr>\n",
       "      <td>25%</td>\n",
       "      <td>8.000000</td>\n",
       "    </tr>\n",
       "    <tr>\n",
       "      <td>50%</td>\n",
       "      <td>13.000000</td>\n",
       "    </tr>\n",
       "    <tr>\n",
       "      <td>75%</td>\n",
       "      <td>19.000000</td>\n",
       "    </tr>\n",
       "    <tr>\n",
       "      <td>max</td>\n",
       "      <td>119.000000</td>\n",
       "    </tr>\n",
       "  </tbody>\n",
       "</table>\n",
       "</div>"
      ],
      "text/plain": [
       "         num_orders\n",
       "count  26496.000000\n",
       "mean      14.070463\n",
       "std        9.211330\n",
       "min        0.000000\n",
       "25%        8.000000\n",
       "50%       13.000000\n",
       "75%       19.000000\n",
       "max      119.000000"
      ]
     },
     "execution_count": 271,
     "metadata": {},
     "output_type": "execute_result"
    }
   ],
   "source": [
    "df.describe()"
   ]
  },
  {
   "cell_type": "code",
   "execution_count": 272,
   "metadata": {},
   "outputs": [
    {
     "data": {
      "text/plain": [
       "537"
      ]
     },
     "execution_count": 272,
     "metadata": {},
     "output_type": "execute_result"
    }
   ],
   "source": [
    "df.num_orders[df.num_orders == 0].count()"
   ]
  },
  {
   "cell_type": "markdown",
   "metadata": {},
   "source": [
    "Видим, что присутствует 537 нулевых значений в столбце с заказами. Нули здесь не являются ошибкой, т.к. могут означать, что заказов такси не было в соответствующий нулю промежуток времени  \n",
    "\n",
    "Больше половины значений имеют значение выше 12ти заказов в 10 мин.  \n",
    "Максимальное количество заказов в 10 мин равно 119\n",
    "\n",
    "Проверим наличие дубликатов:"
   ]
  },
  {
   "cell_type": "code",
   "execution_count": 273,
   "metadata": {},
   "outputs": [
    {
     "data": {
      "text/plain": [
       "0"
      ]
     },
     "execution_count": 273,
     "metadata": {},
     "output_type": "execute_result"
    }
   ],
   "source": [
    "df.duplicated().sum()"
   ]
  },
  {
   "cell_type": "markdown",
   "metadata": {},
   "source": [
    "Дубликатов не найдено"
   ]
  },
  {
   "cell_type": "markdown",
   "metadata": {},
   "source": [
    "После того как мы провели проверку, перезапишем датасет заново с установкой дат в качестве индексов:"
   ]
  },
  {
   "cell_type": "code",
   "execution_count": 274,
   "metadata": {},
   "outputs": [
    {
     "data": {
      "text/html": [
       "<div>\n",
       "<style scoped>\n",
       "    .dataframe tbody tr th:only-of-type {\n",
       "        vertical-align: middle;\n",
       "    }\n",
       "\n",
       "    .dataframe tbody tr th {\n",
       "        vertical-align: top;\n",
       "    }\n",
       "\n",
       "    .dataframe thead th {\n",
       "        text-align: right;\n",
       "    }\n",
       "</style>\n",
       "<table border=\"1\" class=\"dataframe\">\n",
       "  <thead>\n",
       "    <tr style=\"text-align: right;\">\n",
       "      <th></th>\n",
       "      <th>num_orders</th>\n",
       "    </tr>\n",
       "    <tr>\n",
       "      <th>datetime</th>\n",
       "      <th></th>\n",
       "    </tr>\n",
       "  </thead>\n",
       "  <tbody>\n",
       "    <tr>\n",
       "      <td>2018-03-01 00:00:00</td>\n",
       "      <td>9</td>\n",
       "    </tr>\n",
       "    <tr>\n",
       "      <td>2018-03-01 00:10:00</td>\n",
       "      <td>14</td>\n",
       "    </tr>\n",
       "    <tr>\n",
       "      <td>2018-03-01 00:20:00</td>\n",
       "      <td>28</td>\n",
       "    </tr>\n",
       "    <tr>\n",
       "      <td>2018-03-01 00:30:00</td>\n",
       "      <td>20</td>\n",
       "    </tr>\n",
       "    <tr>\n",
       "      <td>2018-03-01 00:40:00</td>\n",
       "      <td>32</td>\n",
       "    </tr>\n",
       "  </tbody>\n",
       "</table>\n",
       "</div>"
      ],
      "text/plain": [
       "                     num_orders\n",
       "datetime                       \n",
       "2018-03-01 00:00:00           9\n",
       "2018-03-01 00:10:00          14\n",
       "2018-03-01 00:20:00          28\n",
       "2018-03-01 00:30:00          20\n",
       "2018-03-01 00:40:00          32"
      ]
     },
     "execution_count": 274,
     "metadata": {},
     "output_type": "execute_result"
    }
   ],
   "source": [
    "df = pd.read_csv('/datasets/taxi.csv', index_col=[0], parse_dates=[0])\n",
    "\n",
    "df.head()"
   ]
  },
  {
   "cell_type": "markdown",
   "metadata": {},
   "source": [
    "Проверим отсортированы ли индексы:"
   ]
  },
  {
   "cell_type": "code",
   "execution_count": 275,
   "metadata": {},
   "outputs": [
    {
     "data": {
      "text/plain": [
       "True"
      ]
     },
     "execution_count": 275,
     "metadata": {},
     "output_type": "execute_result"
    }
   ],
   "source": [
    "df.index.is_monotonic"
   ]
  },
  {
   "cell_type": "markdown",
   "metadata": {},
   "source": [
    "Выполним ресемплирование данных по одному часу:"
   ]
  },
  {
   "cell_type": "code",
   "execution_count": 276,
   "metadata": {},
   "outputs": [
    {
     "data": {
      "text/html": [
       "<div>\n",
       "<style scoped>\n",
       "    .dataframe tbody tr th:only-of-type {\n",
       "        vertical-align: middle;\n",
       "    }\n",
       "\n",
       "    .dataframe tbody tr th {\n",
       "        vertical-align: top;\n",
       "    }\n",
       "\n",
       "    .dataframe thead th {\n",
       "        text-align: right;\n",
       "    }\n",
       "</style>\n",
       "<table border=\"1\" class=\"dataframe\">\n",
       "  <thead>\n",
       "    <tr style=\"text-align: right;\">\n",
       "      <th></th>\n",
       "      <th>num_orders</th>\n",
       "    </tr>\n",
       "    <tr>\n",
       "      <th>datetime</th>\n",
       "      <th></th>\n",
       "    </tr>\n",
       "  </thead>\n",
       "  <tbody>\n",
       "    <tr>\n",
       "      <td>2018-03-01 00:00:00</td>\n",
       "      <td>124</td>\n",
       "    </tr>\n",
       "    <tr>\n",
       "      <td>2018-03-01 01:00:00</td>\n",
       "      <td>85</td>\n",
       "    </tr>\n",
       "    <tr>\n",
       "      <td>2018-03-01 02:00:00</td>\n",
       "      <td>71</td>\n",
       "    </tr>\n",
       "    <tr>\n",
       "      <td>2018-03-01 03:00:00</td>\n",
       "      <td>66</td>\n",
       "    </tr>\n",
       "    <tr>\n",
       "      <td>2018-03-01 04:00:00</td>\n",
       "      <td>43</td>\n",
       "    </tr>\n",
       "  </tbody>\n",
       "</table>\n",
       "</div>"
      ],
      "text/plain": [
       "                     num_orders\n",
       "datetime                       \n",
       "2018-03-01 00:00:00         124\n",
       "2018-03-01 01:00:00          85\n",
       "2018-03-01 02:00:00          71\n",
       "2018-03-01 03:00:00          66\n",
       "2018-03-01 04:00:00          43"
      ]
     },
     "execution_count": 276,
     "metadata": {},
     "output_type": "execute_result"
    }
   ],
   "source": [
    "df = df.resample('1H').sum()\n",
    "df.head()"
   ]
  },
  {
   "cell_type": "markdown",
   "metadata": {},
   "source": [
    "**Вывод**\n",
    "\n",
    "В рамках данной главы мы произвели выгрузку библиотек, загрузили и просмотрели данные таблицы, содержащей историческую информацию о заказах такси в аэропорт. После первичного анализа загруженных данных на адекватность (отсутствие дубликатов и пропущенных значений), мы произвели повторную загрузку датасета с автоматической установкой даты индексом и ресеплирование по одному часу, согласно заданию."
   ]
  },
  {
   "cell_type": "markdown",
   "metadata": {},
   "source": [
    "## Анализ"
   ]
  },
  {
   "cell_type": "markdown",
   "metadata": {},
   "source": [
    "Посмотрим на информацию о заказах по часам:"
   ]
  },
  {
   "cell_type": "code",
   "execution_count": 277,
   "metadata": {},
   "outputs": [
    {
     "data": {
      "text/html": [
       "<div>\n",
       "<style scoped>\n",
       "    .dataframe tbody tr th:only-of-type {\n",
       "        vertical-align: middle;\n",
       "    }\n",
       "\n",
       "    .dataframe tbody tr th {\n",
       "        vertical-align: top;\n",
       "    }\n",
       "\n",
       "    .dataframe thead th {\n",
       "        text-align: right;\n",
       "    }\n",
       "</style>\n",
       "<table border=\"1\" class=\"dataframe\">\n",
       "  <thead>\n",
       "    <tr style=\"text-align: right;\">\n",
       "      <th></th>\n",
       "      <th>num_orders</th>\n",
       "    </tr>\n",
       "  </thead>\n",
       "  <tbody>\n",
       "    <tr>\n",
       "      <td>count</td>\n",
       "      <td>4416.000000</td>\n",
       "    </tr>\n",
       "    <tr>\n",
       "      <td>mean</td>\n",
       "      <td>84.422781</td>\n",
       "    </tr>\n",
       "    <tr>\n",
       "      <td>std</td>\n",
       "      <td>45.023853</td>\n",
       "    </tr>\n",
       "    <tr>\n",
       "      <td>min</td>\n",
       "      <td>0.000000</td>\n",
       "    </tr>\n",
       "    <tr>\n",
       "      <td>25%</td>\n",
       "      <td>54.000000</td>\n",
       "    </tr>\n",
       "    <tr>\n",
       "      <td>50%</td>\n",
       "      <td>78.000000</td>\n",
       "    </tr>\n",
       "    <tr>\n",
       "      <td>75%</td>\n",
       "      <td>107.000000</td>\n",
       "    </tr>\n",
       "    <tr>\n",
       "      <td>max</td>\n",
       "      <td>462.000000</td>\n",
       "    </tr>\n",
       "  </tbody>\n",
       "</table>\n",
       "</div>"
      ],
      "text/plain": [
       "        num_orders\n",
       "count  4416.000000\n",
       "mean     84.422781\n",
       "std      45.023853\n",
       "min       0.000000\n",
       "25%      54.000000\n",
       "50%      78.000000\n",
       "75%     107.000000\n",
       "max     462.000000"
      ]
     },
     "execution_count": 277,
     "metadata": {},
     "output_type": "execute_result"
    }
   ],
   "source": [
    "df.describe()"
   ]
  },
  {
   "cell_type": "markdown",
   "metadata": {},
   "source": [
    "Видим, что в среднем за час поступало примерно 85 заказов такси  \n",
    "Стандартное отклонение равно 45 заказам\n",
    "\n",
    "Построим гистограмму распределения количества заказов по часам:"
   ]
  },
  {
   "cell_type": "code",
   "execution_count": 278,
   "metadata": {},
   "outputs": [
    {
     "data": {
      "image/png": "[encoded data removed]",
      "text/plain": [
       "<Figure size 720x432 with 1 Axes>"
      ]
     },
     "metadata": {
      "needs_background": "light"
     },
     "output_type": "display_data"
    }
   ],
   "source": [
    "df.plot(kind='hist', bins = 50, grid = True, figsize = (10,6), xlim = (0,300), \n",
    "        title='Распределение количества заказов по часам')\n",
    "\n",
    "plt.show()"
   ]
  },
  {
   "cell_type": "markdown",
   "metadata": {},
   "source": [
    "По гистограмме видим, что в основном за 1 час происходит от 0 до 200 заказов. Очень редко заказов бывает более 200.  \n",
    "По таблице describe мы видим, что максимум за час бывало 462, но такие случаи очень редки:"
   ]
  },
  {
   "cell_type": "code",
   "execution_count": 279,
   "metadata": {},
   "outputs": [
    {
     "data": {
      "text/plain": [
       "num_orders    81\n",
       "dtype: int64"
      ]
     },
     "execution_count": 279,
     "metadata": {},
     "output_type": "execute_result"
    }
   ],
   "source": [
    "df[df > 200].count()"
   ]
  },
  {
   "cell_type": "markdown",
   "metadata": {},
   "source": [
    "При помощи функции seasonal_decompose() разложим наш временной ряд на три составляющие: \n",
    "* тренд (decomposed.trend)\n",
    "* сезонность (decomposed.seasonal)\n",
    "* остаток (decomposed.resid)\n",
    "\n",
    "И построим графики по каждой из них:"
   ]
  },
  {
   "cell_type": "code",
   "execution_count": 280,
   "metadata": {},
   "outputs": [
    {
     "data": {
      "text/plain": [
       "(None, <matplotlib.legend.Legend at 0x7f414c354e10>)"
      ]
     },
     "execution_count": 280,
     "metadata": {},
     "output_type": "execute_result"
    },
    {
     "data": {
      "image/png": "[encoded data removed]",
      "text/plain": [
       "<Figure size 864x720 with 3 Axes>"
      ]
     },
     "metadata": {
      "needs_background": "light"
     },
     "output_type": "display_data"
    }
   ],
   "source": [
    "decomposed = seasonal_decompose(df)\n",
    "\n",
    "fig , ax = plt.subplots(1, 3, figsize=(12, 10))\n",
    "\n",
    "plt.subplot(3,1,1)\n",
    "plt.plot(decomposed.trend, label = 'Trend', color = 'r')\n",
    "plt.legend(), plt.grid()\n",
    "\n",
    "\n",
    "plt.subplot(3,1,2)\n",
    "plt.plot(decomposed.seasonal['2018-03-11':'2018-03-15'], label = 'Season', color = 'b')\n",
    "plt.grid(), plt.legend()\n",
    "\n",
    "\n",
    "plt.subplot(3,1,3)\n",
    "plt.plot(decomposed.resid , label = 'Residual', color = 'g')\n",
    "plt.grid(), plt.legend()"
   ]
  },
  {
   "cell_type": "markdown",
   "metadata": {},
   "source": [
    "По графикам результатов декомпозиции можно отметить следующие важные моменты:\n",
    "* тренд показывает нам, что количество заказов постепенно увеличивается\n",
    "* сезоность указывает на высокий спрос на такси в ночное время (можно отметить, что это логично, т.к. общественный транспорт не работает ночью)\n",
    "* остатки не поддаются анализу, т.к. являются просто шумом"
   ]
  },
  {
   "cell_type": "markdown",
   "metadata": {},
   "source": [
    "## Обучение\n",
    "\n",
    "### Создание признаков"
   ]
  },
  {
   "cell_type": "markdown",
   "metadata": {},
   "source": [
    "Для обучения модели, нам очень мало будет одного столбца с индексами.  \n",
    "Поэтому напишем функцию, чтобы вытащить из индекса (дата-время) информацию: месяц, год, день и день недели.  \n",
    "Чтобы скользящее среднее в моменте t не учитывало текущее значение ряда x(t), вычислим его вызвав предварительно метод .shift. Так вычисление скользящего среднего не будет включать в себя текущее значение ряда.  \n",
    "Запишем всё в новые столбцы."
   ]
  },
  {
   "cell_type": "code",
   "execution_count": 281,
   "metadata": {},
   "outputs": [],
   "source": [
    "def make_features(data, max_lag, rolling_sum_size):\n",
    "    \n",
    "    data['year'] = data.index.year\n",
    "    data['month'] = data.index.month\n",
    "    data['day'] = data.index.day\n",
    "    data['dayofweek'] = data.index.dayofweek\n",
    "    \n",
    "    for lag in range(1, max_lag + 1):\n",
    "        data['lag_{}'.format(lag)] = data['num_orders'].shift(lag)\n",
    "\n",
    "    data['rolling_mean'] = data['num_orders'].shift().rolling(rolling_sum_size).sum()"
   ]
  },
  {
   "cell_type": "markdown",
   "metadata": {},
   "source": [
    "Применим функцию на датасете:"
   ]
  },
  {
   "cell_type": "code",
   "execution_count": 282,
   "metadata": {},
   "outputs": [
    {
     "data": {
      "text/plain": [
       "(4416, 1)"
      ]
     },
     "execution_count": 282,
     "metadata": {},
     "output_type": "execute_result"
    }
   ],
   "source": [
    "df.shape"
   ]
  },
  {
   "cell_type": "code",
   "execution_count": 283,
   "metadata": {},
   "outputs": [
    {
     "data": {
      "text/plain": [
       "(4416, 30)"
      ]
     },
     "execution_count": 283,
     "metadata": {},
     "output_type": "execute_result"
    }
   ],
   "source": [
    "make_features(df, 24, 8)\n",
    "df.shape"
   ]
  },
  {
   "cell_type": "code",
   "execution_count": 284,
   "metadata": {},
   "outputs": [
    {
     "data": {
      "text/html": [
       "<div>\n",
       "<style scoped>\n",
       "    .dataframe tbody tr th:only-of-type {\n",
       "        vertical-align: middle;\n",
       "    }\n",
       "\n",
       "    .dataframe tbody tr th {\n",
       "        vertical-align: top;\n",
       "    }\n",
       "\n",
       "    .dataframe thead th {\n",
       "        text-align: right;\n",
       "    }\n",
       "</style>\n",
       "<table border=\"1\" class=\"dataframe\">\n",
       "  <thead>\n",
       "    <tr style=\"text-align: right;\">\n",
       "      <th></th>\n",
       "      <th>num_orders</th>\n",
       "      <th>year</th>\n",
       "      <th>month</th>\n",
       "      <th>day</th>\n",
       "      <th>dayofweek</th>\n",
       "      <th>lag_1</th>\n",
       "      <th>lag_2</th>\n",
       "      <th>lag_3</th>\n",
       "      <th>lag_4</th>\n",
       "      <th>lag_5</th>\n",
       "      <th>lag_6</th>\n",
       "      <th>lag_7</th>\n",
       "      <th>lag_8</th>\n",
       "      <th>lag_9</th>\n",
       "      <th>lag_10</th>\n",
       "      <th>lag_11</th>\n",
       "      <th>lag_12</th>\n",
       "      <th>lag_13</th>\n",
       "      <th>lag_14</th>\n",
       "      <th>lag_15</th>\n",
       "      <th>lag_16</th>\n",
       "      <th>lag_17</th>\n",
       "      <th>lag_18</th>\n",
       "      <th>lag_19</th>\n",
       "      <th>lag_20</th>\n",
       "      <th>lag_21</th>\n",
       "      <th>lag_22</th>\n",
       "      <th>lag_23</th>\n",
       "      <th>lag_24</th>\n",
       "      <th>rolling_mean</th>\n",
       "    </tr>\n",
       "    <tr>\n",
       "      <th>datetime</th>\n",
       "      <th></th>\n",
       "      <th></th>\n",
       "      <th></th>\n",
       "      <th></th>\n",
       "      <th></th>\n",
       "      <th></th>\n",
       "      <th></th>\n",
       "      <th></th>\n",
       "      <th></th>\n",
       "      <th></th>\n",
       "      <th></th>\n",
       "      <th></th>\n",
       "      <th></th>\n",
       "      <th></th>\n",
       "      <th></th>\n",
       "      <th></th>\n",
       "      <th></th>\n",
       "      <th></th>\n",
       "      <th></th>\n",
       "      <th></th>\n",
       "      <th></th>\n",
       "      <th></th>\n",
       "      <th></th>\n",
       "      <th></th>\n",
       "      <th></th>\n",
       "      <th></th>\n",
       "      <th></th>\n",
       "      <th></th>\n",
       "      <th></th>\n",
       "      <th></th>\n",
       "    </tr>\n",
       "  </thead>\n",
       "  <tbody>\n",
       "    <tr>\n",
       "      <td>2018-03-01 00:00:00</td>\n",
       "      <td>124</td>\n",
       "      <td>2018</td>\n",
       "      <td>3</td>\n",
       "      <td>1</td>\n",
       "      <td>3</td>\n",
       "      <td>NaN</td>\n",
       "      <td>NaN</td>\n",
       "      <td>NaN</td>\n",
       "      <td>NaN</td>\n",
       "      <td>NaN</td>\n",
       "      <td>NaN</td>\n",
       "      <td>NaN</td>\n",
       "      <td>NaN</td>\n",
       "      <td>NaN</td>\n",
       "      <td>NaN</td>\n",
       "      <td>NaN</td>\n",
       "      <td>NaN</td>\n",
       "      <td>NaN</td>\n",
       "      <td>NaN</td>\n",
       "      <td>NaN</td>\n",
       "      <td>NaN</td>\n",
       "      <td>NaN</td>\n",
       "      <td>NaN</td>\n",
       "      <td>NaN</td>\n",
       "      <td>NaN</td>\n",
       "      <td>NaN</td>\n",
       "      <td>NaN</td>\n",
       "      <td>NaN</td>\n",
       "      <td>NaN</td>\n",
       "      <td>NaN</td>\n",
       "    </tr>\n",
       "    <tr>\n",
       "      <td>2018-03-01 01:00:00</td>\n",
       "      <td>85</td>\n",
       "      <td>2018</td>\n",
       "      <td>3</td>\n",
       "      <td>1</td>\n",
       "      <td>3</td>\n",
       "      <td>124.0</td>\n",
       "      <td>NaN</td>\n",
       "      <td>NaN</td>\n",
       "      <td>NaN</td>\n",
       "      <td>NaN</td>\n",
       "      <td>NaN</td>\n",
       "      <td>NaN</td>\n",
       "      <td>NaN</td>\n",
       "      <td>NaN</td>\n",
       "      <td>NaN</td>\n",
       "      <td>NaN</td>\n",
       "      <td>NaN</td>\n",
       "      <td>NaN</td>\n",
       "      <td>NaN</td>\n",
       "      <td>NaN</td>\n",
       "      <td>NaN</td>\n",
       "      <td>NaN</td>\n",
       "      <td>NaN</td>\n",
       "      <td>NaN</td>\n",
       "      <td>NaN</td>\n",
       "      <td>NaN</td>\n",
       "      <td>NaN</td>\n",
       "      <td>NaN</td>\n",
       "      <td>NaN</td>\n",
       "      <td>NaN</td>\n",
       "    </tr>\n",
       "    <tr>\n",
       "      <td>2018-03-01 02:00:00</td>\n",
       "      <td>71</td>\n",
       "      <td>2018</td>\n",
       "      <td>3</td>\n",
       "      <td>1</td>\n",
       "      <td>3</td>\n",
       "      <td>85.0</td>\n",
       "      <td>124.0</td>\n",
       "      <td>NaN</td>\n",
       "      <td>NaN</td>\n",
       "      <td>NaN</td>\n",
       "      <td>NaN</td>\n",
       "      <td>NaN</td>\n",
       "      <td>NaN</td>\n",
       "      <td>NaN</td>\n",
       "      <td>NaN</td>\n",
       "      <td>NaN</td>\n",
       "      <td>NaN</td>\n",
       "      <td>NaN</td>\n",
       "      <td>NaN</td>\n",
       "      <td>NaN</td>\n",
       "      <td>NaN</td>\n",
       "      <td>NaN</td>\n",
       "      <td>NaN</td>\n",
       "      <td>NaN</td>\n",
       "      <td>NaN</td>\n",
       "      <td>NaN</td>\n",
       "      <td>NaN</td>\n",
       "      <td>NaN</td>\n",
       "      <td>NaN</td>\n",
       "      <td>NaN</td>\n",
       "    </tr>\n",
       "    <tr>\n",
       "      <td>2018-03-01 03:00:00</td>\n",
       "      <td>66</td>\n",
       "      <td>2018</td>\n",
       "      <td>3</td>\n",
       "      <td>1</td>\n",
       "      <td>3</td>\n",
       "      <td>71.0</td>\n",
       "      <td>85.0</td>\n",
       "      <td>124.0</td>\n",
       "      <td>NaN</td>\n",
       "      <td>NaN</td>\n",
       "      <td>NaN</td>\n",
       "      <td>NaN</td>\n",
       "      <td>NaN</td>\n",
       "      <td>NaN</td>\n",
       "      <td>NaN</td>\n",
       "      <td>NaN</td>\n",
       "      <td>NaN</td>\n",
       "      <td>NaN</td>\n",
       "      <td>NaN</td>\n",
       "      <td>NaN</td>\n",
       "      <td>NaN</td>\n",
       "      <td>NaN</td>\n",
       "      <td>NaN</td>\n",
       "      <td>NaN</td>\n",
       "      <td>NaN</td>\n",
       "      <td>NaN</td>\n",
       "      <td>NaN</td>\n",
       "      <td>NaN</td>\n",
       "      <td>NaN</td>\n",
       "      <td>NaN</td>\n",
       "    </tr>\n",
       "    <tr>\n",
       "      <td>2018-03-01 04:00:00</td>\n",
       "      <td>43</td>\n",
       "      <td>2018</td>\n",
       "      <td>3</td>\n",
       "      <td>1</td>\n",
       "      <td>3</td>\n",
       "      <td>66.0</td>\n",
       "      <td>71.0</td>\n",
       "      <td>85.0</td>\n",
       "      <td>124.0</td>\n",
       "      <td>NaN</td>\n",
       "      <td>NaN</td>\n",
       "      <td>NaN</td>\n",
       "      <td>NaN</td>\n",
       "      <td>NaN</td>\n",
       "      <td>NaN</td>\n",
       "      <td>NaN</td>\n",
       "      <td>NaN</td>\n",
       "      <td>NaN</td>\n",
       "      <td>NaN</td>\n",
       "      <td>NaN</td>\n",
       "      <td>NaN</td>\n",
       "      <td>NaN</td>\n",
       "      <td>NaN</td>\n",
       "      <td>NaN</td>\n",
       "      <td>NaN</td>\n",
       "      <td>NaN</td>\n",
       "      <td>NaN</td>\n",
       "      <td>NaN</td>\n",
       "      <td>NaN</td>\n",
       "      <td>NaN</td>\n",
       "    </tr>\n",
       "  </tbody>\n",
       "</table>\n",
       "</div>"
      ],
      "text/plain": [
       "                     num_orders  year  month  day  dayofweek  lag_1  lag_2  \\\n",
       "datetime                                                                     \n",
       "2018-03-01 00:00:00         124  2018      3    1          3    NaN    NaN   \n",
       "2018-03-01 01:00:00          85  2018      3    1          3  124.0    NaN   \n",
       "2018-03-01 02:00:00          71  2018      3    1          3   85.0  124.0   \n",
       "2018-03-01 03:00:00          66  2018      3    1          3   71.0   85.0   \n",
       "2018-03-01 04:00:00          43  2018      3    1          3   66.0   71.0   \n",
       "\n",
       "                     lag_3  lag_4  lag_5  lag_6  lag_7  lag_8  lag_9  lag_10  \\\n",
       "datetime                                                                       \n",
       "2018-03-01 00:00:00    NaN    NaN    NaN    NaN    NaN    NaN    NaN     NaN   \n",
       "2018-03-01 01:00:00    NaN    NaN    NaN    NaN    NaN    NaN    NaN     NaN   \n",
       "2018-03-01 02:00:00    NaN    NaN    NaN    NaN    NaN    NaN    NaN     NaN   \n",
       "2018-03-01 03:00:00  124.0    NaN    NaN    NaN    NaN    NaN    NaN     NaN   \n",
       "2018-03-01 04:00:00   85.0  124.0    NaN    NaN    NaN    NaN    NaN     NaN   \n",
       "\n",
       "                     lag_11  lag_12  lag_13  lag_14  lag_15  lag_16  lag_17  \\\n",
       "datetime                                                                      \n",
       "2018-03-01 00:00:00     NaN     NaN     NaN     NaN     NaN     NaN     NaN   \n",
       "2018-03-01 01:00:00     NaN     NaN     NaN     NaN     NaN     NaN     NaN   \n",
       "2018-03-01 02:00:00     NaN     NaN     NaN     NaN     NaN     NaN     NaN   \n",
       "2018-03-01 03:00:00     NaN     NaN     NaN     NaN     NaN     NaN     NaN   \n",
       "2018-03-01 04:00:00     NaN     NaN     NaN     NaN     NaN     NaN     NaN   \n",
       "\n",
       "                     lag_18  lag_19  lag_20  lag_21  lag_22  lag_23  lag_24  \\\n",
       "datetime                                                                      \n",
       "2018-03-01 00:00:00     NaN     NaN     NaN     NaN     NaN     NaN     NaN   \n",
       "2018-03-01 01:00:00     NaN     NaN     NaN     NaN     NaN     NaN     NaN   \n",
       "2018-03-01 02:00:00     NaN     NaN     NaN     NaN     NaN     NaN     NaN   \n",
       "2018-03-01 03:00:00     NaN     NaN     NaN     NaN     NaN     NaN     NaN   \n",
       "2018-03-01 04:00:00     NaN     NaN     NaN     NaN     NaN     NaN     NaN   \n",
       "\n",
       "                     rolling_mean  \n",
       "datetime                           \n",
       "2018-03-01 00:00:00           NaN  \n",
       "2018-03-01 01:00:00           NaN  \n",
       "2018-03-01 02:00:00           NaN  \n",
       "2018-03-01 03:00:00           NaN  \n",
       "2018-03-01 04:00:00           NaN  "
      ]
     },
     "execution_count": 284,
     "metadata": {},
     "output_type": "execute_result"
    }
   ],
   "source": [
    "df.head()"
   ]
  },
  {
   "cell_type": "markdown",
   "metadata": {},
   "source": [
    "Видим что в первых строках из-за добавления скользящего среднего появилось много пропусков,  \n",
    "избавимся от них:"
   ]
  },
  {
   "cell_type": "code",
   "execution_count": 285,
   "metadata": {},
   "outputs": [
    {
     "data": {
      "text/plain": [
       "0"
      ]
     },
     "execution_count": 285,
     "metadata": {},
     "output_type": "execute_result"
    }
   ],
   "source": [
    "df = df.dropna()\n",
    "df.isna().sum().sum()"
   ]
  },
  {
   "cell_type": "code",
   "execution_count": 286,
   "metadata": {},
   "outputs": [
    {
     "data": {
      "text/html": [
       "<div>\n",
       "<style scoped>\n",
       "    .dataframe tbody tr th:only-of-type {\n",
       "        vertical-align: middle;\n",
       "    }\n",
       "\n",
       "    .dataframe tbody tr th {\n",
       "        vertical-align: top;\n",
       "    }\n",
       "\n",
       "    .dataframe thead th {\n",
       "        text-align: right;\n",
       "    }\n",
       "</style>\n",
       "<table border=\"1\" class=\"dataframe\">\n",
       "  <thead>\n",
       "    <tr style=\"text-align: right;\">\n",
       "      <th>datetime</th>\n",
       "      <th>2018-03-02 00:00:00</th>\n",
       "      <th>2018-03-02 01:00:00</th>\n",
       "      <th>2018-03-02 02:00:00</th>\n",
       "      <th>2018-03-02 03:00:00</th>\n",
       "      <th>2018-03-02 04:00:00</th>\n",
       "    </tr>\n",
       "  </thead>\n",
       "  <tbody>\n",
       "    <tr>\n",
       "      <td>num_orders</td>\n",
       "      <td>90.0</td>\n",
       "      <td>120.0</td>\n",
       "      <td>75.0</td>\n",
       "      <td>64.0</td>\n",
       "      <td>20.0</td>\n",
       "    </tr>\n",
       "    <tr>\n",
       "      <td>year</td>\n",
       "      <td>2018.0</td>\n",
       "      <td>2018.0</td>\n",
       "      <td>2018.0</td>\n",
       "      <td>2018.0</td>\n",
       "      <td>2018.0</td>\n",
       "    </tr>\n",
       "    <tr>\n",
       "      <td>month</td>\n",
       "      <td>3.0</td>\n",
       "      <td>3.0</td>\n",
       "      <td>3.0</td>\n",
       "      <td>3.0</td>\n",
       "      <td>3.0</td>\n",
       "    </tr>\n",
       "    <tr>\n",
       "      <td>day</td>\n",
       "      <td>2.0</td>\n",
       "      <td>2.0</td>\n",
       "      <td>2.0</td>\n",
       "      <td>2.0</td>\n",
       "      <td>2.0</td>\n",
       "    </tr>\n",
       "    <tr>\n",
       "      <td>dayofweek</td>\n",
       "      <td>4.0</td>\n",
       "      <td>4.0</td>\n",
       "      <td>4.0</td>\n",
       "      <td>4.0</td>\n",
       "      <td>4.0</td>\n",
       "    </tr>\n",
       "    <tr>\n",
       "      <td>lag_1</td>\n",
       "      <td>58.0</td>\n",
       "      <td>90.0</td>\n",
       "      <td>120.0</td>\n",
       "      <td>75.0</td>\n",
       "      <td>64.0</td>\n",
       "    </tr>\n",
       "    <tr>\n",
       "      <td>lag_2</td>\n",
       "      <td>113.0</td>\n",
       "      <td>58.0</td>\n",
       "      <td>90.0</td>\n",
       "      <td>120.0</td>\n",
       "      <td>75.0</td>\n",
       "    </tr>\n",
       "    <tr>\n",
       "      <td>lag_3</td>\n",
       "      <td>66.0</td>\n",
       "      <td>113.0</td>\n",
       "      <td>58.0</td>\n",
       "      <td>90.0</td>\n",
       "      <td>120.0</td>\n",
       "    </tr>\n",
       "    <tr>\n",
       "      <td>lag_4</td>\n",
       "      <td>61.0</td>\n",
       "      <td>66.0</td>\n",
       "      <td>113.0</td>\n",
       "      <td>58.0</td>\n",
       "      <td>90.0</td>\n",
       "    </tr>\n",
       "    <tr>\n",
       "      <td>lag_5</td>\n",
       "      <td>45.0</td>\n",
       "      <td>61.0</td>\n",
       "      <td>66.0</td>\n",
       "      <td>113.0</td>\n",
       "      <td>58.0</td>\n",
       "    </tr>\n",
       "    <tr>\n",
       "      <td>lag_6</td>\n",
       "      <td>73.0</td>\n",
       "      <td>45.0</td>\n",
       "      <td>61.0</td>\n",
       "      <td>66.0</td>\n",
       "      <td>113.0</td>\n",
       "    </tr>\n",
       "    <tr>\n",
       "      <td>lag_7</td>\n",
       "      <td>44.0</td>\n",
       "      <td>73.0</td>\n",
       "      <td>45.0</td>\n",
       "      <td>61.0</td>\n",
       "      <td>66.0</td>\n",
       "    </tr>\n",
       "    <tr>\n",
       "      <td>lag_8</td>\n",
       "      <td>43.0</td>\n",
       "      <td>44.0</td>\n",
       "      <td>73.0</td>\n",
       "      <td>45.0</td>\n",
       "      <td>61.0</td>\n",
       "    </tr>\n",
       "    <tr>\n",
       "      <td>lag_9</td>\n",
       "      <td>66.0</td>\n",
       "      <td>43.0</td>\n",
       "      <td>44.0</td>\n",
       "      <td>73.0</td>\n",
       "      <td>45.0</td>\n",
       "    </tr>\n",
       "    <tr>\n",
       "      <td>lag_10</td>\n",
       "      <td>48.0</td>\n",
       "      <td>66.0</td>\n",
       "      <td>43.0</td>\n",
       "      <td>44.0</td>\n",
       "      <td>73.0</td>\n",
       "    </tr>\n",
       "    <tr>\n",
       "      <td>lag_11</td>\n",
       "      <td>32.0</td>\n",
       "      <td>48.0</td>\n",
       "      <td>66.0</td>\n",
       "      <td>43.0</td>\n",
       "      <td>44.0</td>\n",
       "    </tr>\n",
       "    <tr>\n",
       "      <td>lag_12</td>\n",
       "      <td>30.0</td>\n",
       "      <td>32.0</td>\n",
       "      <td>48.0</td>\n",
       "      <td>66.0</td>\n",
       "      <td>43.0</td>\n",
       "    </tr>\n",
       "    <tr>\n",
       "      <td>lag_13</td>\n",
       "      <td>96.0</td>\n",
       "      <td>30.0</td>\n",
       "      <td>32.0</td>\n",
       "      <td>48.0</td>\n",
       "      <td>66.0</td>\n",
       "    </tr>\n",
       "    <tr>\n",
       "      <td>lag_14</td>\n",
       "      <td>64.0</td>\n",
       "      <td>96.0</td>\n",
       "      <td>30.0</td>\n",
       "      <td>32.0</td>\n",
       "      <td>48.0</td>\n",
       "    </tr>\n",
       "    <tr>\n",
       "      <td>lag_15</td>\n",
       "      <td>69.0</td>\n",
       "      <td>64.0</td>\n",
       "      <td>96.0</td>\n",
       "      <td>30.0</td>\n",
       "      <td>32.0</td>\n",
       "    </tr>\n",
       "    <tr>\n",
       "      <td>lag_16</td>\n",
       "      <td>34.0</td>\n",
       "      <td>69.0</td>\n",
       "      <td>64.0</td>\n",
       "      <td>96.0</td>\n",
       "      <td>30.0</td>\n",
       "    </tr>\n",
       "    <tr>\n",
       "      <td>lag_17</td>\n",
       "      <td>15.0</td>\n",
       "      <td>34.0</td>\n",
       "      <td>69.0</td>\n",
       "      <td>64.0</td>\n",
       "      <td>96.0</td>\n",
       "    </tr>\n",
       "    <tr>\n",
       "      <td>lag_18</td>\n",
       "      <td>12.0</td>\n",
       "      <td>15.0</td>\n",
       "      <td>34.0</td>\n",
       "      <td>69.0</td>\n",
       "      <td>64.0</td>\n",
       "    </tr>\n",
       "    <tr>\n",
       "      <td>lag_19</td>\n",
       "      <td>6.0</td>\n",
       "      <td>12.0</td>\n",
       "      <td>15.0</td>\n",
       "      <td>34.0</td>\n",
       "      <td>69.0</td>\n",
       "    </tr>\n",
       "    <tr>\n",
       "      <td>lag_20</td>\n",
       "      <td>43.0</td>\n",
       "      <td>6.0</td>\n",
       "      <td>12.0</td>\n",
       "      <td>15.0</td>\n",
       "      <td>34.0</td>\n",
       "    </tr>\n",
       "    <tr>\n",
       "      <td>lag_21</td>\n",
       "      <td>66.0</td>\n",
       "      <td>43.0</td>\n",
       "      <td>6.0</td>\n",
       "      <td>12.0</td>\n",
       "      <td>15.0</td>\n",
       "    </tr>\n",
       "    <tr>\n",
       "      <td>lag_22</td>\n",
       "      <td>71.0</td>\n",
       "      <td>66.0</td>\n",
       "      <td>43.0</td>\n",
       "      <td>6.0</td>\n",
       "      <td>12.0</td>\n",
       "    </tr>\n",
       "    <tr>\n",
       "      <td>lag_23</td>\n",
       "      <td>85.0</td>\n",
       "      <td>71.0</td>\n",
       "      <td>66.0</td>\n",
       "      <td>43.0</td>\n",
       "      <td>6.0</td>\n",
       "    </tr>\n",
       "    <tr>\n",
       "      <td>lag_24</td>\n",
       "      <td>124.0</td>\n",
       "      <td>85.0</td>\n",
       "      <td>71.0</td>\n",
       "      <td>66.0</td>\n",
       "      <td>43.0</td>\n",
       "    </tr>\n",
       "    <tr>\n",
       "      <td>rolling_mean</td>\n",
       "      <td>503.0</td>\n",
       "      <td>550.0</td>\n",
       "      <td>626.0</td>\n",
       "      <td>628.0</td>\n",
       "      <td>647.0</td>\n",
       "    </tr>\n",
       "  </tbody>\n",
       "</table>\n",
       "</div>"
      ],
      "text/plain": [
       "datetime      2018-03-02 00:00:00  2018-03-02 01:00:00  2018-03-02 02:00:00  \\\n",
       "num_orders                   90.0                120.0                 75.0   \n",
       "year                       2018.0               2018.0               2018.0   \n",
       "month                         3.0                  3.0                  3.0   \n",
       "day                           2.0                  2.0                  2.0   \n",
       "dayofweek                     4.0                  4.0                  4.0   \n",
       "lag_1                        58.0                 90.0                120.0   \n",
       "lag_2                       113.0                 58.0                 90.0   \n",
       "lag_3                        66.0                113.0                 58.0   \n",
       "lag_4                        61.0                 66.0                113.0   \n",
       "lag_5                        45.0                 61.0                 66.0   \n",
       "lag_6                        73.0                 45.0                 61.0   \n",
       "lag_7                        44.0                 73.0                 45.0   \n",
       "lag_8                        43.0                 44.0                 73.0   \n",
       "lag_9                        66.0                 43.0                 44.0   \n",
       "lag_10                       48.0                 66.0                 43.0   \n",
       "lag_11                       32.0                 48.0                 66.0   \n",
       "lag_12                       30.0                 32.0                 48.0   \n",
       "lag_13                       96.0                 30.0                 32.0   \n",
       "lag_14                       64.0                 96.0                 30.0   \n",
       "lag_15                       69.0                 64.0                 96.0   \n",
       "lag_16                       34.0                 69.0                 64.0   \n",
       "lag_17                       15.0                 34.0                 69.0   \n",
       "lag_18                       12.0                 15.0                 34.0   \n",
       "lag_19                        6.0                 12.0                 15.0   \n",
       "lag_20                       43.0                  6.0                 12.0   \n",
       "lag_21                       66.0                 43.0                  6.0   \n",
       "lag_22                       71.0                 66.0                 43.0   \n",
       "lag_23                       85.0                 71.0                 66.0   \n",
       "lag_24                      124.0                 85.0                 71.0   \n",
       "rolling_mean                503.0                550.0                626.0   \n",
       "\n",
       "datetime      2018-03-02 03:00:00  2018-03-02 04:00:00  \n",
       "num_orders                   64.0                 20.0  \n",
       "year                       2018.0               2018.0  \n",
       "month                         3.0                  3.0  \n",
       "day                           2.0                  2.0  \n",
       "dayofweek                     4.0                  4.0  \n",
       "lag_1                        75.0                 64.0  \n",
       "lag_2                       120.0                 75.0  \n",
       "lag_3                        90.0                120.0  \n",
       "lag_4                        58.0                 90.0  \n",
       "lag_5                       113.0                 58.0  \n",
       "lag_6                        66.0                113.0  \n",
       "lag_7                        61.0                 66.0  \n",
       "lag_8                        45.0                 61.0  \n",
       "lag_9                        73.0                 45.0  \n",
       "lag_10                       44.0                 73.0  \n",
       "lag_11                       43.0                 44.0  \n",
       "lag_12                       66.0                 43.0  \n",
       "lag_13                       48.0                 66.0  \n",
       "lag_14                       32.0                 48.0  \n",
       "lag_15                       30.0                 32.0  \n",
       "lag_16                       96.0                 30.0  \n",
       "lag_17                       64.0                 96.0  \n",
       "lag_18                       69.0                 64.0  \n",
       "lag_19                       34.0                 69.0  \n",
       "lag_20                       15.0                 34.0  \n",
       "lag_21                       12.0                 15.0  \n",
       "lag_22                        6.0                 12.0  \n",
       "lag_23                       43.0                  6.0  \n",
       "lag_24                       66.0                 43.0  \n",
       "rolling_mean                628.0                647.0  "
      ]
     },
     "execution_count": 286,
     "metadata": {},
     "output_type": "execute_result"
    }
   ],
   "source": [
    "df.head().T"
   ]
  },
  {
   "cell_type": "markdown",
   "metadata": {},
   "source": [
    "Определим категориальные признаки (столбцы с месяцем и днем недели) как тип category"
   ]
  },
  {
   "cell_type": "code",
   "execution_count": 287,
   "metadata": {},
   "outputs": [
    {
     "data": {
      "text/plain": [
       "num_orders         int64\n",
       "year               int64\n",
       "month           category\n",
       "day                int64\n",
       "dayofweek       category\n",
       "lag_1            float64\n",
       "lag_2            float64\n",
       "lag_3            float64\n",
       "lag_4            float64\n",
       "lag_5            float64\n",
       "lag_6            float64\n",
       "lag_7            float64\n",
       "lag_8            float64\n",
       "lag_9            float64\n",
       "lag_10           float64\n",
       "lag_11           float64\n",
       "lag_12           float64\n",
       "lag_13           float64\n",
       "lag_14           float64\n",
       "lag_15           float64\n",
       "lag_16           float64\n",
       "lag_17           float64\n",
       "lag_18           float64\n",
       "lag_19           float64\n",
       "lag_20           float64\n",
       "lag_21           float64\n",
       "lag_22           float64\n",
       "lag_23           float64\n",
       "lag_24           float64\n",
       "rolling_mean     float64\n",
       "dtype: object"
      ]
     },
     "execution_count": 287,
     "metadata": {},
     "output_type": "execute_result"
    }
   ],
   "source": [
    "df[['month', 'dayofweek']] = df[['month', 'dayofweek']].astype('category')\n",
    "\n",
    "df.dtypes"
   ]
  },
  {
   "cell_type": "code",
   "execution_count": 288,
   "metadata": {},
   "outputs": [
    {
     "data": {
      "text/plain": [
       "['month', 'dayofweek']"
      ]
     },
     "execution_count": 288,
     "metadata": {},
     "output_type": "execute_result"
    }
   ],
   "source": [
    "cat_cols = df.select_dtypes(include='category').columns.to_list()\n",
    "cat_cols"
   ]
  },
  {
   "cell_type": "markdown",
   "metadata": {},
   "source": [
    "### Деление датасета\n",
    "\n",
    "Разделим датасет на таргет и фичи"
   ]
  },
  {
   "cell_type": "code",
   "execution_count": 289,
   "metadata": {},
   "outputs": [
    {
     "name": "stdout",
     "output_type": "stream",
     "text": [
      "Размер исходного датафрейма: (4392, 30) \n",
      "Размер features: (4392, 29) \n",
      "Размер target: (4392,)\n"
     ]
    }
   ],
   "source": [
    "features = df.drop(['num_orders'], axis=1)\n",
    "target = df['num_orders']\n",
    "\n",
    "print('Размер исходного датафрейма:', df.shape,\n",
    "      '\\nРазмер features:', features.shape,\n",
    "      '\\nРазмер target:', target.shape)"
   ]
  },
  {
   "cell_type": "markdown",
   "metadata": {},
   "source": [
    "Определим тренировочную, валидационную и тестовую выборки:"
   ]
  },
  {
   "cell_type": "code",
   "execution_count": 290,
   "metadata": {},
   "outputs": [
    {
     "name": "stdout",
     "output_type": "stream",
     "text": [
      "Размер train: (3161, 29) (3161,) \n",
      "Размер valid: (791, 29) (791,) \n",
      "Размер test: (440, 29) (440,)\n"
     ]
    }
   ],
   "source": [
    "features_1, features_test, target_1, target_test = train_test_split(\n",
    "features, target, test_size=0.1, shuffle=False, random_state=42)\n",
    "\n",
    "features_train, features_valid, target_train, target_valid = train_test_split(\n",
    "features_1, target_1, test_size=0.2, shuffle=False, random_state=42)\n",
    "\n",
    "print('Размер train:', features_train.shape, target_train.shape,\n",
    "      '\\nРазмер valid:', features_valid.shape, target_valid.shape,\n",
    "      '\\nРазмер test:', features_test.shape, target_test.shape)"
   ]
  },
  {
   "cell_type": "code",
   "execution_count": 291,
   "metadata": {},
   "outputs": [
    {
     "data": {
      "text/plain": [
       "True"
      ]
     },
     "execution_count": 291,
     "metadata": {},
     "output_type": "execute_result"
    }
   ],
   "source": [
    "len(df) == len(features_train) + len(features_valid) + len(features_test)"
   ]
  },
  {
   "cell_type": "markdown",
   "metadata": {},
   "source": [
    "Также позже мы используем для повторной тренировки модели датасет (трейн + валид):"
   ]
  },
  {
   "cell_type": "code",
   "execution_count": 292,
   "metadata": {},
   "outputs": [
    {
     "data": {
      "text/plain": [
       "True"
      ]
     },
     "execution_count": 292,
     "metadata": {},
     "output_type": "execute_result"
    }
   ],
   "source": [
    "len(df) == len(features_1) + len(features_test)"
   ]
  },
  {
   "cell_type": "markdown",
   "metadata": {},
   "source": [
    "### Catboost\n",
    "\n",
    "Catboost разработан для категориальной подготовки данных, но также применим к регрессионным задачам.  \n",
    "Попробуем применить его в нашем проекте\n",
    "\n",
    "Установим у модели Catboost следующие гиперпараметры:  \n",
    "* learning rate = 0.4 - скорость обучения\n",
    "* early_stopping_rounds = 20 - детектор переобучения - останавливает обучение после указанного количества итераций (установим как 20) с момента итерации, где было достигнуто оптимальное значение метрики\n",
    "* depth = 6 - глубина дерева, оптимальными значениями, которые стоит попробовать - это 6 и 10 (при 10 метрика в данном случае оказалась хуже)\n",
    "* verbose = 10 - вывод результатов каждые 10 шагов"
   ]
  },
  {
   "cell_type": "code",
   "execution_count": 293,
   "metadata": {},
   "outputs": [],
   "source": [
    "train_pool = Pool(features_train, \n",
    "                  target_train, \n",
    "                  cat_features=cat_cols)\n",
    "valid_pool = Pool(features_valid, \n",
    "                 cat_features=cat_cols) \n",
    "test_pool = Pool(features_test, \n",
    "                 cat_features=cat_cols) \n",
    "eval_pool = Pool(features_valid, target_valid,\n",
    "                 cat_features=cat_cols)"
   ]
  },
  {
   "cell_type": "code",
   "execution_count": 294,
   "metadata": {
    "scrolled": true
   },
   "outputs": [
    {
     "name": "stdout",
     "output_type": "stream",
     "text": [
      "0:\tlearn: 32.7557079\ttest: 53.1327956\tbest: 53.1327956 (0)\ttotal: 5.97ms\tremaining: 5.97s\n",
      "10:\tlearn: 24.7777505\ttest: 43.1119826\tbest: 43.1119826 (10)\ttotal: 492ms\tremaining: 44.2s\n",
      "20:\tlearn: 22.2041226\ttest: 38.4805569\tbest: 38.4805569 (20)\ttotal: 1.07s\tremaining: 50s\n",
      "30:\tlearn: 21.1767696\ttest: 36.9027453\tbest: 36.9027453 (30)\ttotal: 1.66s\tremaining: 51.9s\n",
      "40:\tlearn: 20.3948839\ttest: 36.0896040\tbest: 36.0896040 (40)\ttotal: 2.25s\tremaining: 52.6s\n",
      "50:\tlearn: 19.8758458\ttest: 35.4823410\tbest: 35.4823410 (50)\ttotal: 2.84s\tremaining: 52.8s\n",
      "60:\tlearn: 19.4562719\ttest: 34.9807837\tbest: 34.9564174 (59)\ttotal: 3.42s\tremaining: 52.7s\n",
      "70:\tlearn: 19.0847359\ttest: 34.8380386\tbest: 34.8380386 (70)\ttotal: 3.92s\tremaining: 51.3s\n",
      "80:\tlearn: 18.7208390\ttest: 34.6434117\tbest: 34.6320300 (79)\ttotal: 4.43s\tremaining: 50.2s\n",
      "90:\tlearn: 18.3596920\ttest: 34.4701259\tbest: 34.4701259 (90)\ttotal: 4.94s\tremaining: 49.4s\n",
      "100:\tlearn: 17.9466952\ttest: 34.2072697\tbest: 34.2070054 (97)\ttotal: 5.51s\tremaining: 49.1s\n",
      "110:\tlearn: 17.6209412\ttest: 34.0190578\tbest: 34.0190578 (110)\ttotal: 6.11s\tremaining: 48.9s\n",
      "120:\tlearn: 17.2811763\ttest: 33.8719224\tbest: 33.8719224 (120)\ttotal: 6.71s\tremaining: 48.7s\n",
      "130:\tlearn: 16.8937798\ttest: 33.8245769\tbest: 33.8166169 (129)\ttotal: 7.29s\tremaining: 48.3s\n",
      "140:\tlearn: 16.5914835\ttest: 33.6979406\tbest: 33.6979406 (140)\ttotal: 7.87s\tremaining: 47.9s\n",
      "150:\tlearn: 16.2607782\ttest: 33.7041036\tbest: 33.6705846 (142)\ttotal: 8.38s\tremaining: 47.1s\n",
      "160:\tlearn: 15.9617166\ttest: 33.6130287\tbest: 33.6025637 (158)\ttotal: 8.87s\tremaining: 46.2s\n",
      "170:\tlearn: 15.7635532\ttest: 33.5580064\tbest: 33.5349347 (169)\ttotal: 9.37s\tremaining: 45.4s\n",
      "180:\tlearn: 15.5478126\ttest: 33.6255503\tbest: 33.5349347 (169)\ttotal: 9.94s\tremaining: 45s\n",
      "190:\tlearn: 15.3336819\ttest: 33.6016750\tbest: 33.5349347 (169)\ttotal: 10.5s\tremaining: 44.5s\n",
      "Stopped by overfitting detector  (30 iterations wait)\n",
      "\n",
      "bestTest = 33.53493465\n",
      "bestIteration = 169\n",
      "\n",
      "Shrink model to first 170 iterations.\n",
      "Время обучения:\n",
      "CPU times: user 9.19 s, sys: 2.14 s, total: 11.3 s\n",
      "Wall time: 13.6 s\n"
     ]
    }
   ],
   "source": [
    "%%time\n",
    "\n",
    "model_cb = CatBoostRegressor(learning_rate=0.1,\n",
    "                             iterations=1000,\n",
    "                             #depth=6,  \n",
    "                             random_seed=42)\n",
    "\n",
    "# model_cb.fit(train_pool, verbose=10)\n",
    "model_cb.fit(train_pool,\n",
    "             eval_set=eval_pool,\n",
    "             verbose=10,\n",
    "             early_stopping_rounds = 30)\n",
    "\n",
    "print('Время обучения:')"
   ]
  },
  {
   "cell_type": "markdown",
   "metadata": {},
   "source": [
    "Посмотрим на лучшие показатели метрики RMSE при обучении и валидации:"
   ]
  },
  {
   "cell_type": "code",
   "execution_count": 295,
   "metadata": {},
   "outputs": [
    {
     "data": {
      "text/plain": [
       "{'learn': {'RMSE': 15.07085751514026},\n",
       " 'validation': {'RMSE': 33.534934651369504}}"
      ]
     },
     "execution_count": 295,
     "metadata": {},
     "output_type": "execute_result"
    }
   ],
   "source": [
    "model_cb.best_score_"
   ]
  },
  {
   "cell_type": "code",
   "execution_count": 296,
   "metadata": {},
   "outputs": [
    {
     "name": "stdout",
     "output_type": "stream",
     "text": [
      "rMSE на valid: 33.53 \n",
      "Время предсказания:\n",
      "CPU times: user 0 ns, sys: 7.01 ms, total: 7.01 ms\n",
      "Wall time: 2.57 ms\n"
     ]
    }
   ],
   "source": [
    "%%time\n",
    "\n",
    "preds_cb = model_cb.predict(valid_pool)\n",
    "\n",
    "cb_valid_rmse = (mean_squared_error(target_valid, preds_cb) ** 0.5).round(2)\n",
    "\n",
    "print('rMSE на valid:', cb_valid_rmse,\n",
    "     '\\nВремя предсказания:')"
   ]
  },
  {
   "cell_type": "markdown",
   "metadata": {},
   "source": [
    "Сохраним эти значения и время обучения лучшей модели в переменные, чтобы не потерять:"
   ]
  },
  {
   "cell_type": "code",
   "execution_count": 297,
   "metadata": {},
   "outputs": [
    {
     "name": "stdout",
     "output_type": "stream",
     "text": [
      "Catboost RMSE на train 15.07 \n",
      "Catboost RMSE на valid 33.53\n"
     ]
    }
   ],
   "source": [
    "cb_train_rmse = round(model_cb.best_score_['learn']['RMSE'], 2)\n",
    "cb_train_time = 3.91\n",
    "\n",
    "print('Catboost RMSE на train', cb_train_rmse,\n",
    "     '\\nCatboost RMSE на valid', cb_valid_rmse)"
   ]
  },
  {
   "cell_type": "markdown",
   "metadata": {},
   "source": [
    "### LightGBM\n",
    "\n",
    "LightGBM — это фреймворк, который предоставляет реализацию деревьев принятия решений с градиентным бустингом.    \n",
    "\n",
    "Определим в 2 переменных обучающий и тестовый наборы для передачи в качестве параметров в модель LightGBM:"
   ]
  },
  {
   "cell_type": "code",
   "execution_count": 298,
   "metadata": {},
   "outputs": [],
   "source": [
    "train_data = lgb.Dataset(features_train, target_train, categorical_feature=cat_cols)\n",
    "valid_data = lgb.Dataset(features_valid, target_valid, categorical_feature=cat_cols)"
   ]
  },
  {
   "cell_type": "markdown",
   "metadata": {},
   "source": [
    "Гиперпараметры:\n",
    "\n",
    "* gbdt - traditional Gradient Boosting Decision Tree (по-дефолту = gbrt) - нас устраивает\n",
    "* objective - по-дефолту = regression - подходит\n",
    "* кол-во итераций num_boost_round установим в 300\n",
    "* verbose_eval = 10 - будем выводить также как в кэтбусте каждый 10й результат\n",
    "* early_stopping_rounds = 50 - детектор переобучения\n",
    "* также передадим категориальные переменные cat_cols\n",
    "\n",
    "Обучим модель LightGBM и посмотрим на время выполнения ячейки:"
   ]
  },
  {
   "cell_type": "code",
   "execution_count": 299,
   "metadata": {},
   "outputs": [
    {
     "name": "stdout",
     "output_type": "stream",
     "text": [
      "Training until validation scores don't improve for 100 rounds\n",
      "[10]\ttraining's rmse: 18.241\tvalid_1's rmse: 36.3354\n",
      "[20]\ttraining's rmse: 14.9578\tvalid_1's rmse: 34.4394\n",
      "[30]\ttraining's rmse: 13.1154\tvalid_1's rmse: 33.8671\n",
      "[40]\ttraining's rmse: 11.5831\tvalid_1's rmse: 34.1063\n",
      "[50]\ttraining's rmse: 10.3669\tvalid_1's rmse: 34.0481\n",
      "[60]\ttraining's rmse: 9.16526\tvalid_1's rmse: 34.2023\n",
      "[70]\ttraining's rmse: 8.24918\tvalid_1's rmse: 34.1148\n",
      "[80]\ttraining's rmse: 7.5063\tvalid_1's rmse: 34.1222\n",
      "[90]\ttraining's rmse: 6.78431\tvalid_1's rmse: 34.0199\n",
      "[100]\ttraining's rmse: 6.11565\tvalid_1's rmse: 33.9694\n",
      "[110]\ttraining's rmse: 5.5768\tvalid_1's rmse: 33.9985\n",
      "[120]\ttraining's rmse: 5.06193\tvalid_1's rmse: 34.0616\n",
      "Early stopping, best iteration is:\n",
      "[28]\ttraining's rmse: 13.4414\tvalid_1's rmse: 33.7463\n",
      "\n",
      "\n",
      "Время выполнения кода:\n",
      "CPU times: user 4.2 s, sys: 58.9 ms, total: 4.25 s\n",
      "Wall time: 4.33 s\n"
     ]
    }
   ],
   "source": [
    "%%time\n",
    "\n",
    "params = {\"metric\":'rmse',\n",
    "          \"learning_rate\":0.2,\n",
    "          \"seed\":42}\n",
    "\n",
    "model_lgb = lgb.train(params, \n",
    "                       train_data, \n",
    "                       valid_sets=(train_data, valid_data),\n",
    "                       num_boost_round=300,\n",
    "                       categorical_feature=cat_cols,\n",
    "                       verbose_eval=10,\n",
    "                       early_stopping_rounds = 100\n",
    "                      )\n",
    "\n",
    "print('\\n\\nВремя выполнения кода:')"
   ]
  },
  {
   "cell_type": "markdown",
   "metadata": {},
   "source": [
    "Сохраним результаты в переменные:"
   ]
  },
  {
   "cell_type": "code",
   "execution_count": 300,
   "metadata": {},
   "outputs": [
    {
     "name": "stdout",
     "output_type": "stream",
     "text": [
      "LightGBM RMSE на train 13.44 \n",
      "LightGBM RMSE на valid 34.17\n"
     ]
    }
   ],
   "source": [
    "lgbm_train_rmse = round(mean_squared_error(target_train, model_lgb.predict(features_train)) ** 0.5, 2)\n",
    "lgbm_valid_rmse = round(mean_squared_error(target_valid, model_lgb.predict(features_valid)) ** 0.5, 2)\n",
    "lgbm_train_time = 1.180\n",
    "\n",
    "print('LightGBM RMSE на train', lgbm_train_rmse,\n",
    "     '\\nLightGBM RMSE на valid', lgbm_valid_rmse)"
   ]
  },
  {
   "cell_type": "markdown",
   "metadata": {},
   "source": [
    "Этот результат чуть хуже, чем у модели Catboost:"
   ]
  },
  {
   "cell_type": "code",
   "execution_count": 301,
   "metadata": {},
   "outputs": [
    {
     "name": "stdout",
     "output_type": "stream",
     "text": [
      "Catboost RMSE на train 15.07 \n",
      "Catboost RMSE на valid 33.53\n"
     ]
    }
   ],
   "source": [
    "print('Catboost RMSE на train', cb_train_rmse,\n",
    "     '\\nCatboost RMSE на valid', cb_valid_rmse)"
   ]
  },
  {
   "cell_type": "markdown",
   "metadata": {},
   "source": [
    "**Далее рассмотрим более простые модели: Линейная регрессия, Дерево решений, Случайный лес**\n",
    "\n",
    "### Линейная регрессия (LinearRegression)"
   ]
  },
  {
   "cell_type": "markdown",
   "metadata": {},
   "source": [
    "Применим кодирование категориальных признаков и масштабирование признаков и попробуем обучить модель LinearRegression и посчитать метрику RMSE"
   ]
  },
  {
   "cell_type": "markdown",
   "metadata": {},
   "source": [
    "Для кодирования категориальных признаков с небольшим количеством значений в столбце используем метод прямого кодирования(OHE):"
   ]
  },
  {
   "cell_type": "code",
   "execution_count": 302,
   "metadata": {},
   "outputs": [
    {
     "data": {
      "text/html": [
       "<div>\n",
       "<style scoped>\n",
       "    .dataframe tbody tr th:only-of-type {\n",
       "        vertical-align: middle;\n",
       "    }\n",
       "\n",
       "    .dataframe tbody tr th {\n",
       "        vertical-align: top;\n",
       "    }\n",
       "\n",
       "    .dataframe thead th {\n",
       "        text-align: right;\n",
       "    }\n",
       "</style>\n",
       "<table border=\"1\" class=\"dataframe\">\n",
       "  <thead>\n",
       "    <tr style=\"text-align: right;\">\n",
       "      <th></th>\n",
       "      <th>year</th>\n",
       "      <th>day</th>\n",
       "      <th>lag_1</th>\n",
       "      <th>lag_2</th>\n",
       "      <th>lag_3</th>\n",
       "      <th>lag_4</th>\n",
       "      <th>lag_5</th>\n",
       "      <th>lag_6</th>\n",
       "      <th>lag_7</th>\n",
       "      <th>lag_8</th>\n",
       "      <th>lag_9</th>\n",
       "      <th>lag_10</th>\n",
       "      <th>lag_11</th>\n",
       "      <th>lag_12</th>\n",
       "      <th>lag_13</th>\n",
       "      <th>lag_14</th>\n",
       "      <th>lag_15</th>\n",
       "      <th>lag_16</th>\n",
       "      <th>lag_17</th>\n",
       "      <th>lag_18</th>\n",
       "      <th>lag_19</th>\n",
       "      <th>lag_20</th>\n",
       "      <th>lag_21</th>\n",
       "      <th>lag_22</th>\n",
       "      <th>lag_23</th>\n",
       "      <th>lag_24</th>\n",
       "      <th>rolling_mean</th>\n",
       "      <th>month_4</th>\n",
       "      <th>month_5</th>\n",
       "      <th>month_6</th>\n",
       "      <th>month_7</th>\n",
       "      <th>month_8</th>\n",
       "      <th>dayofweek_1</th>\n",
       "      <th>dayofweek_2</th>\n",
       "      <th>dayofweek_3</th>\n",
       "      <th>dayofweek_4</th>\n",
       "      <th>dayofweek_5</th>\n",
       "      <th>dayofweek_6</th>\n",
       "    </tr>\n",
       "    <tr>\n",
       "      <th>datetime</th>\n",
       "      <th></th>\n",
       "      <th></th>\n",
       "      <th></th>\n",
       "      <th></th>\n",
       "      <th></th>\n",
       "      <th></th>\n",
       "      <th></th>\n",
       "      <th></th>\n",
       "      <th></th>\n",
       "      <th></th>\n",
       "      <th></th>\n",
       "      <th></th>\n",
       "      <th></th>\n",
       "      <th></th>\n",
       "      <th></th>\n",
       "      <th></th>\n",
       "      <th></th>\n",
       "      <th></th>\n",
       "      <th></th>\n",
       "      <th></th>\n",
       "      <th></th>\n",
       "      <th></th>\n",
       "      <th></th>\n",
       "      <th></th>\n",
       "      <th></th>\n",
       "      <th></th>\n",
       "      <th></th>\n",
       "      <th></th>\n",
       "      <th></th>\n",
       "      <th></th>\n",
       "      <th></th>\n",
       "      <th></th>\n",
       "      <th></th>\n",
       "      <th></th>\n",
       "      <th></th>\n",
       "      <th></th>\n",
       "      <th></th>\n",
       "      <th></th>\n",
       "    </tr>\n",
       "  </thead>\n",
       "  <tbody>\n",
       "    <tr>\n",
       "      <td>2018-03-02 00:00:00</td>\n",
       "      <td>2018</td>\n",
       "      <td>2</td>\n",
       "      <td>58.0</td>\n",
       "      <td>113.0</td>\n",
       "      <td>66.0</td>\n",
       "      <td>61.0</td>\n",
       "      <td>45.0</td>\n",
       "      <td>73.0</td>\n",
       "      <td>44.0</td>\n",
       "      <td>43.0</td>\n",
       "      <td>66.0</td>\n",
       "      <td>48.0</td>\n",
       "      <td>32.0</td>\n",
       "      <td>30.0</td>\n",
       "      <td>96.0</td>\n",
       "      <td>64.0</td>\n",
       "      <td>69.0</td>\n",
       "      <td>34.0</td>\n",
       "      <td>15.0</td>\n",
       "      <td>12.0</td>\n",
       "      <td>6.0</td>\n",
       "      <td>43.0</td>\n",
       "      <td>66.0</td>\n",
       "      <td>71.0</td>\n",
       "      <td>85.0</td>\n",
       "      <td>124.0</td>\n",
       "      <td>503.0</td>\n",
       "      <td>0</td>\n",
       "      <td>0</td>\n",
       "      <td>0</td>\n",
       "      <td>0</td>\n",
       "      <td>0</td>\n",
       "      <td>0</td>\n",
       "      <td>0</td>\n",
       "      <td>0</td>\n",
       "      <td>1</td>\n",
       "      <td>0</td>\n",
       "      <td>0</td>\n",
       "    </tr>\n",
       "    <tr>\n",
       "      <td>2018-03-02 01:00:00</td>\n",
       "      <td>2018</td>\n",
       "      <td>2</td>\n",
       "      <td>90.0</td>\n",
       "      <td>58.0</td>\n",
       "      <td>113.0</td>\n",
       "      <td>66.0</td>\n",
       "      <td>61.0</td>\n",
       "      <td>45.0</td>\n",
       "      <td>73.0</td>\n",
       "      <td>44.0</td>\n",
       "      <td>43.0</td>\n",
       "      <td>66.0</td>\n",
       "      <td>48.0</td>\n",
       "      <td>32.0</td>\n",
       "      <td>30.0</td>\n",
       "      <td>96.0</td>\n",
       "      <td>64.0</td>\n",
       "      <td>69.0</td>\n",
       "      <td>34.0</td>\n",
       "      <td>15.0</td>\n",
       "      <td>12.0</td>\n",
       "      <td>6.0</td>\n",
       "      <td>43.0</td>\n",
       "      <td>66.0</td>\n",
       "      <td>71.0</td>\n",
       "      <td>85.0</td>\n",
       "      <td>550.0</td>\n",
       "      <td>0</td>\n",
       "      <td>0</td>\n",
       "      <td>0</td>\n",
       "      <td>0</td>\n",
       "      <td>0</td>\n",
       "      <td>0</td>\n",
       "      <td>0</td>\n",
       "      <td>0</td>\n",
       "      <td>1</td>\n",
       "      <td>0</td>\n",
       "      <td>0</td>\n",
       "    </tr>\n",
       "    <tr>\n",
       "      <td>2018-03-02 02:00:00</td>\n",
       "      <td>2018</td>\n",
       "      <td>2</td>\n",
       "      <td>120.0</td>\n",
       "      <td>90.0</td>\n",
       "      <td>58.0</td>\n",
       "      <td>113.0</td>\n",
       "      <td>66.0</td>\n",
       "      <td>61.0</td>\n",
       "      <td>45.0</td>\n",
       "      <td>73.0</td>\n",
       "      <td>44.0</td>\n",
       "      <td>43.0</td>\n",
       "      <td>66.0</td>\n",
       "      <td>48.0</td>\n",
       "      <td>32.0</td>\n",
       "      <td>30.0</td>\n",
       "      <td>96.0</td>\n",
       "      <td>64.0</td>\n",
       "      <td>69.0</td>\n",
       "      <td>34.0</td>\n",
       "      <td>15.0</td>\n",
       "      <td>12.0</td>\n",
       "      <td>6.0</td>\n",
       "      <td>43.0</td>\n",
       "      <td>66.0</td>\n",
       "      <td>71.0</td>\n",
       "      <td>626.0</td>\n",
       "      <td>0</td>\n",
       "      <td>0</td>\n",
       "      <td>0</td>\n",
       "      <td>0</td>\n",
       "      <td>0</td>\n",
       "      <td>0</td>\n",
       "      <td>0</td>\n",
       "      <td>0</td>\n",
       "      <td>1</td>\n",
       "      <td>0</td>\n",
       "      <td>0</td>\n",
       "    </tr>\n",
       "    <tr>\n",
       "      <td>2018-03-02 03:00:00</td>\n",
       "      <td>2018</td>\n",
       "      <td>2</td>\n",
       "      <td>75.0</td>\n",
       "      <td>120.0</td>\n",
       "      <td>90.0</td>\n",
       "      <td>58.0</td>\n",
       "      <td>113.0</td>\n",
       "      <td>66.0</td>\n",
       "      <td>61.0</td>\n",
       "      <td>45.0</td>\n",
       "      <td>73.0</td>\n",
       "      <td>44.0</td>\n",
       "      <td>43.0</td>\n",
       "      <td>66.0</td>\n",
       "      <td>48.0</td>\n",
       "      <td>32.0</td>\n",
       "      <td>30.0</td>\n",
       "      <td>96.0</td>\n",
       "      <td>64.0</td>\n",
       "      <td>69.0</td>\n",
       "      <td>34.0</td>\n",
       "      <td>15.0</td>\n",
       "      <td>12.0</td>\n",
       "      <td>6.0</td>\n",
       "      <td>43.0</td>\n",
       "      <td>66.0</td>\n",
       "      <td>628.0</td>\n",
       "      <td>0</td>\n",
       "      <td>0</td>\n",
       "      <td>0</td>\n",
       "      <td>0</td>\n",
       "      <td>0</td>\n",
       "      <td>0</td>\n",
       "      <td>0</td>\n",
       "      <td>0</td>\n",
       "      <td>1</td>\n",
       "      <td>0</td>\n",
       "      <td>0</td>\n",
       "    </tr>\n",
       "    <tr>\n",
       "      <td>2018-03-02 04:00:00</td>\n",
       "      <td>2018</td>\n",
       "      <td>2</td>\n",
       "      <td>64.0</td>\n",
       "      <td>75.0</td>\n",
       "      <td>120.0</td>\n",
       "      <td>90.0</td>\n",
       "      <td>58.0</td>\n",
       "      <td>113.0</td>\n",
       "      <td>66.0</td>\n",
       "      <td>61.0</td>\n",
       "      <td>45.0</td>\n",
       "      <td>73.0</td>\n",
       "      <td>44.0</td>\n",
       "      <td>43.0</td>\n",
       "      <td>66.0</td>\n",
       "      <td>48.0</td>\n",
       "      <td>32.0</td>\n",
       "      <td>30.0</td>\n",
       "      <td>96.0</td>\n",
       "      <td>64.0</td>\n",
       "      <td>69.0</td>\n",
       "      <td>34.0</td>\n",
       "      <td>15.0</td>\n",
       "      <td>12.0</td>\n",
       "      <td>6.0</td>\n",
       "      <td>43.0</td>\n",
       "      <td>647.0</td>\n",
       "      <td>0</td>\n",
       "      <td>0</td>\n",
       "      <td>0</td>\n",
       "      <td>0</td>\n",
       "      <td>0</td>\n",
       "      <td>0</td>\n",
       "      <td>0</td>\n",
       "      <td>0</td>\n",
       "      <td>1</td>\n",
       "      <td>0</td>\n",
       "      <td>0</td>\n",
       "    </tr>\n",
       "  </tbody>\n",
       "</table>\n",
       "</div>"
      ],
      "text/plain": [
       "                     year  day  lag_1  lag_2  lag_3  lag_4  lag_5  lag_6  \\\n",
       "datetime                                                                   \n",
       "2018-03-02 00:00:00  2018    2   58.0  113.0   66.0   61.0   45.0   73.0   \n",
       "2018-03-02 01:00:00  2018    2   90.0   58.0  113.0   66.0   61.0   45.0   \n",
       "2018-03-02 02:00:00  2018    2  120.0   90.0   58.0  113.0   66.0   61.0   \n",
       "2018-03-02 03:00:00  2018    2   75.0  120.0   90.0   58.0  113.0   66.0   \n",
       "2018-03-02 04:00:00  2018    2   64.0   75.0  120.0   90.0   58.0  113.0   \n",
       "\n",
       "                     lag_7  lag_8  lag_9  lag_10  lag_11  lag_12  lag_13  \\\n",
       "datetime                                                                   \n",
       "2018-03-02 00:00:00   44.0   43.0   66.0    48.0    32.0    30.0    96.0   \n",
       "2018-03-02 01:00:00   73.0   44.0   43.0    66.0    48.0    32.0    30.0   \n",
       "2018-03-02 02:00:00   45.0   73.0   44.0    43.0    66.0    48.0    32.0   \n",
       "2018-03-02 03:00:00   61.0   45.0   73.0    44.0    43.0    66.0    48.0   \n",
       "2018-03-02 04:00:00   66.0   61.0   45.0    73.0    44.0    43.0    66.0   \n",
       "\n",
       "                     lag_14  lag_15  lag_16  lag_17  lag_18  lag_19  lag_20  \\\n",
       "datetime                                                                      \n",
       "2018-03-02 00:00:00    64.0    69.0    34.0    15.0    12.0     6.0    43.0   \n",
       "2018-03-02 01:00:00    96.0    64.0    69.0    34.0    15.0    12.0     6.0   \n",
       "2018-03-02 02:00:00    30.0    96.0    64.0    69.0    34.0    15.0    12.0   \n",
       "2018-03-02 03:00:00    32.0    30.0    96.0    64.0    69.0    34.0    15.0   \n",
       "2018-03-02 04:00:00    48.0    32.0    30.0    96.0    64.0    69.0    34.0   \n",
       "\n",
       "                     lag_21  lag_22  lag_23  lag_24  rolling_mean  month_4  \\\n",
       "datetime                                                                     \n",
       "2018-03-02 00:00:00    66.0    71.0    85.0   124.0         503.0        0   \n",
       "2018-03-02 01:00:00    43.0    66.0    71.0    85.0         550.0        0   \n",
       "2018-03-02 02:00:00     6.0    43.0    66.0    71.0         626.0        0   \n",
       "2018-03-02 03:00:00    12.0     6.0    43.0    66.0         628.0        0   \n",
       "2018-03-02 04:00:00    15.0    12.0     6.0    43.0         647.0        0   \n",
       "\n",
       "                     month_5  month_6  month_7  month_8  dayofweek_1  \\\n",
       "datetime                                                               \n",
       "2018-03-02 00:00:00        0        0        0        0            0   \n",
       "2018-03-02 01:00:00        0        0        0        0            0   \n",
       "2018-03-02 02:00:00        0        0        0        0            0   \n",
       "2018-03-02 03:00:00        0        0        0        0            0   \n",
       "2018-03-02 04:00:00        0        0        0        0            0   \n",
       "\n",
       "                     dayofweek_2  dayofweek_3  dayofweek_4  dayofweek_5  \\\n",
       "datetime                                                                  \n",
       "2018-03-02 00:00:00            0            0            1            0   \n",
       "2018-03-02 01:00:00            0            0            1            0   \n",
       "2018-03-02 02:00:00            0            0            1            0   \n",
       "2018-03-02 03:00:00            0            0            1            0   \n",
       "2018-03-02 04:00:00            0            0            1            0   \n",
       "\n",
       "                     dayofweek_6  \n",
       "datetime                          \n",
       "2018-03-02 00:00:00            0  \n",
       "2018-03-02 01:00:00            0  \n",
       "2018-03-02 02:00:00            0  \n",
       "2018-03-02 03:00:00            0  \n",
       "2018-03-02 04:00:00            0  "
      ]
     },
     "execution_count": 302,
     "metadata": {},
     "output_type": "execute_result"
    }
   ],
   "source": [
    "features_train_lr = pd.get_dummies(features_train, columns=['month', 'dayofweek'], drop_first=True)\n",
    "features_test_lr = pd.get_dummies(features_test, columns=['month', 'dayofweek'], drop_first=True)\n",
    "features_valid_lr = pd.get_dummies(features_valid, columns=['month', 'dayofweek'], drop_first=True)\n",
    "\n",
    "features_train_lr.head()"
   ]
  },
  {
   "cell_type": "markdown",
   "metadata": {},
   "source": [
    "Мы видим, что данные имеют большой разброс, следовательно перед обучением модели линейной регрессии, нам необходимо отмасштабировать данные методом стандартизации. Для того, чтобы избежать переобучения, обучим стандартизатор на тренировочном датасете, а стандартизировать будем всё:"
   ]
  },
  {
   "cell_type": "code",
   "execution_count": 303,
   "metadata": {},
   "outputs": [
    {
     "data": {
      "text/html": [
       "<div>\n",
       "<style scoped>\n",
       "    .dataframe tbody tr th:only-of-type {\n",
       "        vertical-align: middle;\n",
       "    }\n",
       "\n",
       "    .dataframe tbody tr th {\n",
       "        vertical-align: top;\n",
       "    }\n",
       "\n",
       "    .dataframe thead th {\n",
       "        text-align: right;\n",
       "    }\n",
       "</style>\n",
       "<table border=\"1\" class=\"dataframe\">\n",
       "  <thead>\n",
       "    <tr style=\"text-align: right;\">\n",
       "      <th></th>\n",
       "      <th>year</th>\n",
       "      <th>day</th>\n",
       "      <th>lag_1</th>\n",
       "      <th>lag_2</th>\n",
       "      <th>lag_3</th>\n",
       "      <th>lag_4</th>\n",
       "      <th>lag_5</th>\n",
       "      <th>lag_6</th>\n",
       "      <th>lag_7</th>\n",
       "      <th>lag_8</th>\n",
       "      <th>lag_9</th>\n",
       "      <th>lag_10</th>\n",
       "      <th>lag_11</th>\n",
       "      <th>lag_12</th>\n",
       "      <th>lag_13</th>\n",
       "      <th>lag_14</th>\n",
       "      <th>lag_15</th>\n",
       "      <th>lag_16</th>\n",
       "      <th>lag_17</th>\n",
       "      <th>lag_18</th>\n",
       "      <th>lag_19</th>\n",
       "      <th>lag_20</th>\n",
       "      <th>lag_21</th>\n",
       "      <th>lag_22</th>\n",
       "      <th>lag_23</th>\n",
       "      <th>lag_24</th>\n",
       "      <th>rolling_mean</th>\n",
       "      <th>month_4</th>\n",
       "      <th>month_5</th>\n",
       "      <th>month_6</th>\n",
       "      <th>month_7</th>\n",
       "      <th>month_8</th>\n",
       "      <th>dayofweek_1</th>\n",
       "      <th>dayofweek_2</th>\n",
       "      <th>dayofweek_3</th>\n",
       "      <th>dayofweek_4</th>\n",
       "      <th>dayofweek_5</th>\n",
       "      <th>dayofweek_6</th>\n",
       "    </tr>\n",
       "  </thead>\n",
       "  <tbody>\n",
       "    <tr>\n",
       "      <td>0</td>\n",
       "      <td>0.0</td>\n",
       "      <td>-1.474782</td>\n",
       "      <td>-0.391074</td>\n",
       "      <td>1.214243</td>\n",
       "      <td>-0.157332</td>\n",
       "      <td>-0.302813</td>\n",
       "      <td>-0.769891</td>\n",
       "      <td>0.047968</td>\n",
       "      <td>-0.798437</td>\n",
       "      <td>-0.827108</td>\n",
       "      <td>-0.155286</td>\n",
       "      <td>-0.681294</td>\n",
       "      <td>-1.147990</td>\n",
       "      <td>-1.205694</td>\n",
       "      <td>0.722528</td>\n",
       "      <td>-0.212159</td>\n",
       "      <td>-0.065297</td>\n",
       "      <td>-1.088624</td>\n",
       "      <td>-1.644509</td>\n",
       "      <td>-1.730888</td>\n",
       "      <td>-1.905305</td>\n",
       "      <td>-0.821857</td>\n",
       "      <td>-0.148612</td>\n",
       "      <td>-0.002084</td>\n",
       "      <td>0.407636</td>\n",
       "      <td>1.548831</td>\n",
       "      <td>-0.416965</td>\n",
       "      <td>-0.543103</td>\n",
       "      <td>-0.554815</td>\n",
       "      <td>-0.543103</td>\n",
       "      <td>-0.297487</td>\n",
       "      <td>0.0</td>\n",
       "      <td>-0.410581</td>\n",
       "      <td>-0.406891</td>\n",
       "      <td>-0.397869</td>\n",
       "      <td>2.435573</td>\n",
       "      <td>-0.410581</td>\n",
       "      <td>-0.410581</td>\n",
       "    </tr>\n",
       "    <tr>\n",
       "      <td>1</td>\n",
       "      <td>0.0</td>\n",
       "      <td>-1.474782</td>\n",
       "      <td>0.543107</td>\n",
       "      <td>-0.391158</td>\n",
       "      <td>1.214724</td>\n",
       "      <td>-0.156793</td>\n",
       "      <td>-0.302661</td>\n",
       "      <td>-0.769746</td>\n",
       "      <td>0.048496</td>\n",
       "      <td>-0.797902</td>\n",
       "      <td>-0.827015</td>\n",
       "      <td>-0.155499</td>\n",
       "      <td>-0.680708</td>\n",
       "      <td>-1.147297</td>\n",
       "      <td>-1.206155</td>\n",
       "      <td>0.723217</td>\n",
       "      <td>-0.211578</td>\n",
       "      <td>-0.064823</td>\n",
       "      <td>-1.088203</td>\n",
       "      <td>-1.643086</td>\n",
       "      <td>-1.729698</td>\n",
       "      <td>-1.904933</td>\n",
       "      <td>-0.821878</td>\n",
       "      <td>-0.148452</td>\n",
       "      <td>-0.002186</td>\n",
       "      <td>0.407408</td>\n",
       "      <td>-0.128500</td>\n",
       "      <td>-0.543103</td>\n",
       "      <td>-0.554815</td>\n",
       "      <td>-0.543103</td>\n",
       "      <td>-0.297487</td>\n",
       "      <td>0.0</td>\n",
       "      <td>-0.410581</td>\n",
       "      <td>-0.406891</td>\n",
       "      <td>-0.397869</td>\n",
       "      <td>2.435573</td>\n",
       "      <td>-0.410581</td>\n",
       "      <td>-0.410581</td>\n",
       "    </tr>\n",
       "    <tr>\n",
       "      <td>2</td>\n",
       "      <td>0.0</td>\n",
       "      <td>-1.474782</td>\n",
       "      <td>1.418901</td>\n",
       "      <td>0.542894</td>\n",
       "      <td>-0.390874</td>\n",
       "      <td>1.215796</td>\n",
       "      <td>-0.156652</td>\n",
       "      <td>-0.302481</td>\n",
       "      <td>-0.769233</td>\n",
       "      <td>0.049061</td>\n",
       "      <td>-0.797809</td>\n",
       "      <td>-0.827348</td>\n",
       "      <td>-0.155015</td>\n",
       "      <td>-0.680120</td>\n",
       "      <td>-1.147710</td>\n",
       "      <td>-1.205997</td>\n",
       "      <td>0.724623</td>\n",
       "      <td>-0.211081</td>\n",
       "      <td>-0.063431</td>\n",
       "      <td>-1.087005</td>\n",
       "      <td>-1.641895</td>\n",
       "      <td>-1.729299</td>\n",
       "      <td>-1.904958</td>\n",
       "      <td>-0.821747</td>\n",
       "      <td>-0.148550</td>\n",
       "      <td>-0.002333</td>\n",
       "      <td>0.337954</td>\n",
       "      <td>-0.543103</td>\n",
       "      <td>-0.554815</td>\n",
       "      <td>-0.543103</td>\n",
       "      <td>-0.297487</td>\n",
       "      <td>0.0</td>\n",
       "      <td>-0.410581</td>\n",
       "      <td>-0.406891</td>\n",
       "      <td>-0.397869</td>\n",
       "      <td>2.435573</td>\n",
       "      <td>-0.410581</td>\n",
       "      <td>-0.410581</td>\n",
       "    </tr>\n",
       "    <tr>\n",
       "      <td>3</td>\n",
       "      <td>0.0</td>\n",
       "      <td>-1.474782</td>\n",
       "      <td>0.105210</td>\n",
       "      <td>1.418567</td>\n",
       "      <td>0.543293</td>\n",
       "      <td>-0.390425</td>\n",
       "      <td>1.215837</td>\n",
       "      <td>-0.156460</td>\n",
       "      <td>-0.301959</td>\n",
       "      <td>-0.768697</td>\n",
       "      <td>0.049153</td>\n",
       "      <td>-0.798137</td>\n",
       "      <td>-0.826734</td>\n",
       "      <td>-0.154546</td>\n",
       "      <td>-0.680150</td>\n",
       "      <td>-1.147536</td>\n",
       "      <td>-1.206292</td>\n",
       "      <td>0.724966</td>\n",
       "      <td>-0.209827</td>\n",
       "      <td>-0.062646</td>\n",
       "      <td>-1.085807</td>\n",
       "      <td>-1.641482</td>\n",
       "      <td>-1.729323</td>\n",
       "      <td>-1.904874</td>\n",
       "      <td>-0.821828</td>\n",
       "      <td>-0.148670</td>\n",
       "      <td>0.350229</td>\n",
       "      <td>-0.543103</td>\n",
       "      <td>-0.554815</td>\n",
       "      <td>-0.543103</td>\n",
       "      <td>-0.297487</td>\n",
       "      <td>0.0</td>\n",
       "      <td>-0.410581</td>\n",
       "      <td>-0.406891</td>\n",
       "      <td>-0.397869</td>\n",
       "      <td>2.435573</td>\n",
       "      <td>-0.410581</td>\n",
       "      <td>-0.410581</td>\n",
       "    </tr>\n",
       "    <tr>\n",
       "      <td>4</td>\n",
       "      <td>0.0</td>\n",
       "      <td>-1.474782</td>\n",
       "      <td>-0.215915</td>\n",
       "      <td>0.105057</td>\n",
       "      <td>1.419073</td>\n",
       "      <td>0.544104</td>\n",
       "      <td>-0.390267</td>\n",
       "      <td>1.216131</td>\n",
       "      <td>-0.155936</td>\n",
       "      <td>-0.301407</td>\n",
       "      <td>-0.768604</td>\n",
       "      <td>0.048977</td>\n",
       "      <td>-0.797528</td>\n",
       "      <td>-0.826113</td>\n",
       "      <td>-0.154146</td>\n",
       "      <td>-0.679848</td>\n",
       "      <td>-1.147779</td>\n",
       "      <td>-1.205630</td>\n",
       "      <td>0.727108</td>\n",
       "      <td>-0.208983</td>\n",
       "      <td>-0.061434</td>\n",
       "      <td>-1.085308</td>\n",
       "      <td>-1.641506</td>\n",
       "      <td>-1.729232</td>\n",
       "      <td>-1.904928</td>\n",
       "      <td>-0.821816</td>\n",
       "      <td>0.466843</td>\n",
       "      <td>-0.543103</td>\n",
       "      <td>-0.554815</td>\n",
       "      <td>-0.543103</td>\n",
       "      <td>-0.297487</td>\n",
       "      <td>0.0</td>\n",
       "      <td>-0.410581</td>\n",
       "      <td>-0.406891</td>\n",
       "      <td>-0.397869</td>\n",
       "      <td>2.435573</td>\n",
       "      <td>-0.410581</td>\n",
       "      <td>-0.410581</td>\n",
       "    </tr>\n",
       "  </tbody>\n",
       "</table>\n",
       "</div>"
      ],
      "text/plain": [
       "   year       day     lag_1     lag_2     lag_3     lag_4     lag_5     lag_6  \\\n",
       "0   0.0 -1.474782 -0.391074  1.214243 -0.157332 -0.302813 -0.769891  0.047968   \n",
       "1   0.0 -1.474782  0.543107 -0.391158  1.214724 -0.156793 -0.302661 -0.769746   \n",
       "2   0.0 -1.474782  1.418901  0.542894 -0.390874  1.215796 -0.156652 -0.302481   \n",
       "3   0.0 -1.474782  0.105210  1.418567  0.543293 -0.390425  1.215837 -0.156460   \n",
       "4   0.0 -1.474782 -0.215915  0.105057  1.419073  0.544104 -0.390267  1.216131   \n",
       "\n",
       "      lag_7     lag_8     lag_9    lag_10    lag_11    lag_12    lag_13  \\\n",
       "0 -0.798437 -0.827108 -0.155286 -0.681294 -1.147990 -1.205694  0.722528   \n",
       "1  0.048496 -0.797902 -0.827015 -0.155499 -0.680708 -1.147297 -1.206155   \n",
       "2 -0.769233  0.049061 -0.797809 -0.827348 -0.155015 -0.680120 -1.147710   \n",
       "3 -0.301959 -0.768697  0.049153 -0.798137 -0.826734 -0.154546 -0.680150   \n",
       "4 -0.155936 -0.301407 -0.768604  0.048977 -0.797528 -0.826113 -0.154146   \n",
       "\n",
       "     lag_14    lag_15    lag_16    lag_17    lag_18    lag_19    lag_20  \\\n",
       "0 -0.212159 -0.065297 -1.088624 -1.644509 -1.730888 -1.905305 -0.821857   \n",
       "1  0.723217 -0.211578 -0.064823 -1.088203 -1.643086 -1.729698 -1.904933   \n",
       "2 -1.205997  0.724623 -0.211081 -0.063431 -1.087005 -1.641895 -1.729299   \n",
       "3 -1.147536 -1.206292  0.724966 -0.209827 -0.062646 -1.085807 -1.641482   \n",
       "4 -0.679848 -1.147779 -1.205630  0.727108 -0.208983 -0.061434 -1.085308   \n",
       "\n",
       "     lag_21    lag_22    lag_23    lag_24  rolling_mean   month_4   month_5  \\\n",
       "0 -0.148612 -0.002084  0.407636  1.548831     -0.416965 -0.543103 -0.554815   \n",
       "1 -0.821878 -0.148452 -0.002186  0.407408     -0.128500 -0.543103 -0.554815   \n",
       "2 -1.904958 -0.821747 -0.148550 -0.002333      0.337954 -0.543103 -0.554815   \n",
       "3 -1.729323 -1.904874 -0.821828 -0.148670      0.350229 -0.543103 -0.554815   \n",
       "4 -1.641506 -1.729232 -1.904928 -0.821816      0.466843 -0.543103 -0.554815   \n",
       "\n",
       "    month_6   month_7  month_8  dayofweek_1  dayofweek_2  dayofweek_3  \\\n",
       "0 -0.543103 -0.297487      0.0    -0.410581    -0.406891    -0.397869   \n",
       "1 -0.543103 -0.297487      0.0    -0.410581    -0.406891    -0.397869   \n",
       "2 -0.543103 -0.297487      0.0    -0.410581    -0.406891    -0.397869   \n",
       "3 -0.543103 -0.297487      0.0    -0.410581    -0.406891    -0.397869   \n",
       "4 -0.543103 -0.297487      0.0    -0.410581    -0.406891    -0.397869   \n",
       "\n",
       "   dayofweek_4  dayofweek_5  dayofweek_6  \n",
       "0     2.435573    -0.410581    -0.410581  \n",
       "1     2.435573    -0.410581    -0.410581  \n",
       "2     2.435573    -0.410581    -0.410581  \n",
       "3     2.435573    -0.410581    -0.410581  \n",
       "4     2.435573    -0.410581    -0.410581  "
      ]
     },
     "execution_count": 303,
     "metadata": {},
     "output_type": "execute_result"
    }
   ],
   "source": [
    "scaler = StandardScaler()\n",
    "\n",
    "scaler.fit(features_train_lr) \n",
    "features_train_lr = pd.DataFrame(scaler.transform(features_train_lr), columns=features_train_lr.columns)\n",
    "features_valid_lr = pd.DataFrame(scaler.transform(features_valid_lr), columns=features_valid_lr.columns)\n",
    "features_test_lr = pd.DataFrame(scaler.transform(features_test_lr), columns=features_test_lr.columns)\n",
    "\n",
    "features_train_lr.head()"
   ]
  },
  {
   "cell_type": "code",
   "execution_count": 304,
   "metadata": {},
   "outputs": [
    {
     "name": "stdout",
     "output_type": "stream",
     "text": [
      "LinearRegression RMSE на valid (после масштабирования): 144.65 \n",
      "\n",
      "Время выполнения ячейки:\n",
      "CPU times: user 82.8 ms, sys: 145 ms, total: 228 ms\n",
      "Wall time: 233 ms\n"
     ]
    }
   ],
   "source": [
    "%%time\n",
    "\n",
    "model_lr =  LinearRegression()\n",
    "model_lr.fit(features_train_lr, target_train)\n",
    "\n",
    "pred_lr = model_lr.predict(features_valid_lr)\n",
    "\n",
    "lr_valid_rmse = (mean_squared_error(target_valid, pred_lr) ** 0.5).round(2)\n",
    "\n",
    "print('LinearRegression RMSE на valid (после масштабирования):', lr_valid_rmse,\n",
    "     '\\n\\nВремя выполнения ячейки:')"
   ]
  },
  {
   "cell_type": "markdown",
   "metadata": {},
   "source": [
    "Результат получился хуже, чем у бустинговых моделей"
   ]
  },
  {
   "cell_type": "markdown",
   "metadata": {},
   "source": [
    "### Дерево решений (DecisionTree)"
   ]
  },
  {
   "cell_type": "markdown",
   "metadata": {},
   "source": [
    "С помощью метода основанного на кросс-валидации (RandomizedSearchCV) подберем лучшие параметры дерева решений и сохраним их"
   ]
  },
  {
   "cell_type": "code",
   "execution_count": 305,
   "metadata": {},
   "outputs": [
    {
     "name": "stdout",
     "output_type": "stream",
     "text": [
      "Лучшие параметры DecisionTree:\n",
      " {'min_samples_split': 10, 'min_samples_leaf': 17, 'max_depth': 25} \n",
      "\n",
      "Время подбора параметров:\n",
      "CPU times: user 6.19 s, sys: 820 µs, total: 6.19 s\n",
      "Wall time: 6.24 s\n"
     ]
    }
   ],
   "source": [
    "%%time\n",
    "\n",
    "\n",
    "\n",
    "\n",
    "model_dt = DecisionTreeRegressor(random_state=42)\n",
    "\n",
    "dt_params = {\n",
    "    'max_depth':[x for x in range(1, 50, 1)], \n",
    "    'min_samples_leaf':[x for x in range(2, 20, 1)],\n",
    "    'min_samples_split':[x for x in range(2, 20, 1)],\n",
    "}\n",
    "\n",
    "tree_grid = RandomizedSearchCV(model_dt, dt_params, \n",
    "                               scoring='neg_mean_squared_error', \n",
    "                               cv=TimeSeriesSplit(n_splits=10),\n",
    "                               n_iter=20,\n",
    "                               random_state=45)\n",
    "\n",
    "tree_grid.fit(features_train_lr, target_train)\n",
    "\n",
    "model_dt = DecisionTreeRegressor(random_state=42, **tree_grid.best_params_)\n",
    "\n",
    "print('Лучшие параметры DecisionTree:\\n', tree_grid.best_params_,\n",
    "     '\\n\\nВремя подбора параметров:')"
   ]
  },
  {
   "cell_type": "markdown",
   "metadata": {},
   "source": [
    "Обучим модель с уже подобранными параметрами:"
   ]
  },
  {
   "cell_type": "code",
   "execution_count": 306,
   "metadata": {},
   "outputs": [
    {
     "name": "stdout",
     "output_type": "stream",
     "text": [
      "CPU times: user 52.2 ms, sys: 0 ns, total: 52.2 ms\n",
      "Wall time: 62.3 ms\n"
     ]
    },
    {
     "data": {
      "text/plain": [
       "DecisionTreeRegressor(criterion='mse', max_depth=25, max_features=None,\n",
       "                      max_leaf_nodes=None, min_impurity_decrease=0.0,\n",
       "                      min_impurity_split=None, min_samples_leaf=17,\n",
       "                      min_samples_split=10, min_weight_fraction_leaf=0.0,\n",
       "                      presort=False, random_state=42, splitter='best')"
      ]
     },
     "execution_count": 306,
     "metadata": {},
     "output_type": "execute_result"
    }
   ],
   "source": [
    "%%time\n",
    "model_dt.fit(features_train_lr, target_train)"
   ]
  },
  {
   "cell_type": "markdown",
   "metadata": {},
   "source": [
    "Получим предсказания на валидационной выборке:"
   ]
  },
  {
   "cell_type": "code",
   "execution_count": 307,
   "metadata": {},
   "outputs": [
    {
     "name": "stdout",
     "output_type": "stream",
     "text": [
      "DecisionTreeRegressor RMSE на valid: 39.84 \n",
      "\n",
      "Время предсказания:\n",
      "CPU times: user 4.47 ms, sys: 0 ns, total: 4.47 ms\n",
      "Wall time: 3.31 ms\n"
     ]
    }
   ],
   "source": [
    "%%time\n",
    "\n",
    "preds_dt = model_dt.predict(features_valid_lr)\n",
    "\n",
    "dt_valid_rmse = (mean_squared_error(target_valid, preds_dt) ** 0.5).round(2)\n",
    "\n",
    "print('DecisionTreeRegressor RMSE на valid:', dt_valid_rmse,\n",
    "     '\\n\\nВремя предсказания:')"
   ]
  },
  {
   "cell_type": "markdown",
   "metadata": {},
   "source": [
    "Сохраним время обучения и предсказания в секундах:"
   ]
  },
  {
   "cell_type": "code",
   "execution_count": 308,
   "metadata": {},
   "outputs": [],
   "source": [
    "dt_train_time = 0.009\n",
    "dt_pred_time = 0.003"
   ]
  },
  {
   "cell_type": "markdown",
   "metadata": {},
   "source": [
    "RMSE на valid по результатам предсказаний дерева решений получился 44.6, такой результат оказался хуже всех остальных моделей"
   ]
  },
  {
   "cell_type": "markdown",
   "metadata": {},
   "source": [
    "### Случайный лес (RandomForest)\n",
    "\n",
    "Подберем лучшие параметры случайного леса и сохраним их:"
   ]
  },
  {
   "cell_type": "code",
   "execution_count": 309,
   "metadata": {},
   "outputs": [
    {
     "name": "stdout",
     "output_type": "stream",
     "text": [
      "Лучшие параметры RandomForest: {'n_estimators': 41, 'min_samples_split': 4, 'min_samples_leaf': 6, 'max_depth': 12} \n",
      "\n",
      "Время подбора параметров:\n",
      "CPU times: user 41.2 s, sys: 0 ns, total: 41.2 s\n",
      "Wall time: 41.2 s\n"
     ]
    }
   ],
   "source": [
    "%%time\n",
    "\n",
    "model_f = RandomForestRegressor(random_state=42)\n",
    "\n",
    "forest_params = {\n",
    "    'n_estimators': range(1, 61, 10),\n",
    "    'max_depth': range(1, 21, 1), \n",
    "    'min_samples_leaf': range(2, 11, 1),\n",
    "    'min_samples_split': range(2, 11, 1),\n",
    "}\n",
    "\n",
    "forest_grid = RandomizedSearchCV(model_f, forest_params, \n",
    "                                 scoring='neg_mean_squared_error',\n",
    "                                 cv=TimeSeriesSplit(n_splits=10),\n",
    "                                 n_iter=10, random_state=42)\n",
    "\n",
    "forest_grid.fit(features_train_lr, target_train)\n",
    "\n",
    "model_f = RandomForestRegressor(random_state=42, **forest_grid.best_params_)\n",
    "\n",
    "print('Лучшие параметры RandomForest:', forest_grid.best_params_,\n",
    "     '\\n\\nВремя подбора параметров:')"
   ]
  },
  {
   "cell_type": "markdown",
   "metadata": {},
   "source": [
    "Обучим модель с уже подобранными параметрами:"
   ]
  },
  {
   "cell_type": "code",
   "execution_count": 310,
   "metadata": {},
   "outputs": [
    {
     "name": "stdout",
     "output_type": "stream",
     "text": [
      "CPU times: user 1.5 s, sys: 0 ns, total: 1.5 s\n",
      "Wall time: 1.51 s\n"
     ]
    },
    {
     "data": {
      "text/plain": [
       "RandomForestRegressor(bootstrap=True, criterion='mse', max_depth=12,\n",
       "                      max_features='auto', max_leaf_nodes=None,\n",
       "                      min_impurity_decrease=0.0, min_impurity_split=None,\n",
       "                      min_samples_leaf=6, min_samples_split=4,\n",
       "                      min_weight_fraction_leaf=0.0, n_estimators=41,\n",
       "                      n_jobs=None, oob_score=False, random_state=42, verbose=0,\n",
       "                      warm_start=False)"
      ]
     },
     "execution_count": 310,
     "metadata": {},
     "output_type": "execute_result"
    }
   ],
   "source": [
    "%%time\n",
    "model_f.fit(features_train_lr, target_train)"
   ]
  },
  {
   "cell_type": "code",
   "execution_count": 311,
   "metadata": {},
   "outputs": [
    {
     "name": "stdout",
     "output_type": "stream",
     "text": [
      "RandomForest RMSE на valid: 35.71 \n",
      "\n",
      "Время предсказания:\n",
      "CPU times: user 13.9 ms, sys: 0 ns, total: 13.9 ms\n",
      "Wall time: 12.6 ms\n"
     ]
    }
   ],
   "source": [
    "%%time\n",
    "\n",
    "preds_f = model_f.predict(features_valid_lr)\n",
    "\n",
    "f_valid_rmse = (mean_squared_error(target_valid, preds_f) ** 0.5).round(2)\n",
    "\n",
    "print('RandomForest RMSE на valid:', f_valid_rmse,\n",
    "     '\\n\\nВремя предсказания:')"
   ]
  },
  {
   "cell_type": "markdown",
   "metadata": {},
   "source": [
    "Результат RMSE предсказаний на валидационной выборке у модели Случайного леса получился лучше чем у Дерева решений и Линейной регрессии"
   ]
  },
  {
   "cell_type": "code",
   "execution_count": 312,
   "metadata": {},
   "outputs": [],
   "source": [
    "f_train_time = 0.74\n",
    "f_pred_time = 0.012"
   ]
  },
  {
   "cell_type": "markdown",
   "metadata": {},
   "source": [
    "## Тестирование\n",
    "\n",
    "Теперь обучим модели заново на train+valid датасете (features_1) и посмотрим результаты на тестовой выборке:\n",
    "\n",
    "### CatBoost"
   ]
  },
  {
   "cell_type": "code",
   "execution_count": 313,
   "metadata": {},
   "outputs": [
    {
     "name": "stdout",
     "output_type": "stream",
     "text": [
      "0:\tlearn: 32.7371090\ttotal: 16.5ms\tremaining: 8.23s\n",
      "20:\tlearn: 21.7873557\ttotal: 1s\tremaining: 22.9s\n",
      "40:\tlearn: 18.9794093\ttotal: 2.19s\tremaining: 24.5s\n",
      "60:\tlearn: 16.9404041\ttotal: 3.44s\tremaining: 24.8s\n",
      "80:\tlearn: 15.1196652\ttotal: 4.63s\tremaining: 23.9s\n",
      "100:\tlearn: 13.8799331\ttotal: 5.8s\tremaining: 22.9s\n",
      "120:\tlearn: 12.7640810\ttotal: 6.98s\tremaining: 21.9s\n",
      "140:\tlearn: 11.8026310\ttotal: 8.18s\tremaining: 20.8s\n",
      "160:\tlearn: 10.9786904\ttotal: 9.27s\tremaining: 19.5s\n",
      "180:\tlearn: 10.1681005\ttotal: 10.5s\tremaining: 18.4s\n",
      "200:\tlearn: 9.4495206\ttotal: 11.6s\tremaining: 17.3s\n",
      "220:\tlearn: 8.8862046\ttotal: 12.8s\tremaining: 16.2s\n",
      "240:\tlearn: 8.2327971\ttotal: 14s\tremaining: 15.1s\n",
      "260:\tlearn: 7.6979083\ttotal: 15.1s\tremaining: 13.9s\n",
      "280:\tlearn: 7.1238595\ttotal: 16.1s\tremaining: 12.5s\n",
      "300:\tlearn: 6.6490144\ttotal: 17s\tremaining: 11.2s\n",
      "320:\tlearn: 6.2168588\ttotal: 18.2s\tremaining: 10.1s\n",
      "340:\tlearn: 5.9020840\ttotal: 19.3s\tremaining: 8.98s\n",
      "360:\tlearn: 5.5360181\ttotal: 20.5s\tremaining: 7.87s\n",
      "380:\tlearn: 5.2175165\ttotal: 21.6s\tremaining: 6.75s\n",
      "400:\tlearn: 4.9201796\ttotal: 22.8s\tremaining: 5.63s\n",
      "420:\tlearn: 4.6236785\ttotal: 23.9s\tremaining: 4.49s\n",
      "440:\tlearn: 4.3785219\ttotal: 25.1s\tremaining: 3.36s\n",
      "460:\tlearn: 4.1009229\ttotal: 26.3s\tremaining: 2.22s\n",
      "480:\tlearn: 3.8803816\ttotal: 27.4s\tremaining: 1.08s\n",
      "499:\tlearn: 3.6752923\ttotal: 28.5s\tremaining: 0us\n",
      "\n",
      "\n",
      "Время обучения:\n",
      "CPU times: user 23.3 s, sys: 5.4 s, total: 28.7 s\n",
      "Wall time: 30.4 s\n"
     ]
    }
   ],
   "source": [
    "%%time\n",
    "\n",
    "train_pool_1 = Pool(features_1, \n",
    "                  target_1, \n",
    "                  cat_features=cat_cols)\n",
    "\n",
    "model_cb = CatBoostRegressor(learning_rate=0.4,\n",
    "                             iterations=500, \n",
    "                             depth=6,  \n",
    "                             random_seed=42)\n",
    "\n",
    "model_cb.fit(train_pool_1, verbose=20)\n",
    "\n",
    "print('\\n\\nВремя обучения:')"
   ]
  },
  {
   "cell_type": "code",
   "execution_count": 314,
   "metadata": {},
   "outputs": [
    {
     "name": "stdout",
     "output_type": "stream",
     "text": [
      "CatBoost RMSE на test: 43.59 \n",
      "\n",
      "Время предсказания:\n",
      "CPU times: user 9.84 ms, sys: 482 µs, total: 10.3 ms\n",
      "Wall time: 4.25 ms\n"
     ]
    }
   ],
   "source": [
    "%%time\n",
    "\n",
    "cb_preds = model_cb.predict(features_test)\n",
    "\n",
    "cb_test_rmse = (mean_squared_error(target_test, cb_preds) ** 0.5).round(2)\n",
    "\n",
    "print('CatBoost RMSE на test:', cb_test_rmse,\n",
    "     '\\n\\nВремя предсказания:')"
   ]
  },
  {
   "cell_type": "code",
   "execution_count": 315,
   "metadata": {},
   "outputs": [],
   "source": [
    "cb_pred_time = 0.015"
   ]
  },
  {
   "cell_type": "code",
   "execution_count": 316,
   "metadata": {},
   "outputs": [
    {
     "data": {
      "text/plain": [
       "{'learn': {'RMSE': 3.6752922954539113}}"
      ]
     },
     "execution_count": 316,
     "metadata": {},
     "output_type": "execute_result"
    }
   ],
   "source": [
    "model_cb.best_score_"
   ]
  },
  {
   "cell_type": "markdown",
   "metadata": {},
   "source": [
    "RMSE на тестовой выборке вышел 63.94.  \n",
    "Результаты метрики оказались значительно хуже, чем на обучающих и валидационных данных:"
   ]
  },
  {
   "cell_type": "code",
   "execution_count": 317,
   "metadata": {},
   "outputs": [
    {
     "name": "stdout",
     "output_type": "stream",
     "text": [
      "Catboost RMSE на train 15.07 \n",
      "Catboost RMSE на valid 33.53 \n",
      "CatBoost RMSE на test 43.59\n"
     ]
    }
   ],
   "source": [
    "print('Catboost RMSE на train', cb_train_rmse,\n",
    "     '\\nCatboost RMSE на valid', cb_valid_rmse,\n",
    "     '\\nCatBoost RMSE на test', cb_test_rmse)"
   ]
  },
  {
   "cell_type": "markdown",
   "metadata": {},
   "source": [
    "### LightGBM"
   ]
  },
  {
   "cell_type": "code",
   "execution_count": 318,
   "metadata": {},
   "outputs": [
    {
     "name": "stdout",
     "output_type": "stream",
     "text": [
      "[20]\ttraining's rmse: 20.7808\tvalid_1's rmse: 46.3625\n",
      "[40]\ttraining's rmse: 17.2738\tvalid_1's rmse: 42.2424\n",
      "[60]\ttraining's rmse: 15.2659\tvalid_1's rmse: 41.3371\n",
      "[80]\ttraining's rmse: 13.7139\tvalid_1's rmse: 40.9708\n",
      "[100]\ttraining's rmse: 12.4576\tvalid_1's rmse: 40.713\n",
      "[120]\ttraining's rmse: 11.302\tvalid_1's rmse: 40.4843\n",
      "[140]\ttraining's rmse: 10.3967\tvalid_1's rmse: 40.5451\n",
      "[160]\ttraining's rmse: 9.61982\tvalid_1's rmse: 40.6379\n",
      "[180]\ttraining's rmse: 8.84617\tvalid_1's rmse: 40.6095\n",
      "[200]\ttraining's rmse: 8.15667\tvalid_1's rmse: 40.5802\n",
      "[220]\ttraining's rmse: 7.46703\tvalid_1's rmse: 40.6367\n",
      "[240]\ttraining's rmse: 6.89815\tvalid_1's rmse: 40.689\n",
      "[260]\ttraining's rmse: 6.41615\tvalid_1's rmse: 40.6849\n",
      "[280]\ttraining's rmse: 5.94408\tvalid_1's rmse: 40.7112\n",
      "[300]\ttraining's rmse: 5.50242\tvalid_1's rmse: 40.6754\n",
      "\n",
      "\n",
      "Время выполнения кода:\n",
      "CPU times: user 8.43 s, sys: 84 ms, total: 8.51 s\n",
      "Wall time: 8.62 s\n"
     ]
    }
   ],
   "source": [
    "%%time\n",
    "\n",
    "train_data_1 = lgb.Dataset(features_1, target_1, categorical_feature=cat_cols)\n",
    "test_data = lgb.Dataset(features_test, target_test, categorical_feature=cat_cols)\n",
    "\n",
    "params = {\"metric\":'rmse',\n",
    "          \"seed\":42}\n",
    "\n",
    "model_lgb = lgb.train(params, \n",
    "                       train_data_1, \n",
    "                       valid_sets=(train_data_1, test_data),\n",
    "                       num_boost_round=300,\n",
    "                       categorical_feature=cat_cols,\n",
    "                       verbose_eval=20,\n",
    "                       #early_stopping_rounds = 50\n",
    "                      )\n",
    "\n",
    "print('\\n\\nВремя выполнения кода:')"
   ]
  },
  {
   "cell_type": "code",
   "execution_count": 319,
   "metadata": {},
   "outputs": [
    {
     "name": "stdout",
     "output_type": "stream",
     "text": [
      "LightGBM RMSE на test: 40.68 \n",
      "\n",
      "Время предсказания:\n",
      "CPU times: user 85.1 ms, sys: 6.11 ms, total: 91.2 ms\n",
      "Wall time: 92.4 ms\n"
     ]
    }
   ],
   "source": [
    "%%time\n",
    "\n",
    "lgb_preds = model_lgb.predict(features_test, num_iteration=model_lgb.best_iteration)\n",
    "\n",
    "lgbm_test_rmse = (mean_squared_error(target_test, lgb_preds) ** 0.5).round(2)\n",
    "\n",
    "print('LightGBM RMSE на test:', lgbm_test_rmse,\n",
    "     '\\n\\nВремя предсказания:')"
   ]
  },
  {
   "cell_type": "code",
   "execution_count": 320,
   "metadata": {},
   "outputs": [],
   "source": [
    "lgbm_pred_time = 0.009"
   ]
  },
  {
   "cell_type": "markdown",
   "metadata": {},
   "source": [
    "Результат метрики RMSE на тесте, также как у Catboost, оказался хуже почти в 2 раза, чем на валидационном датасете:"
   ]
  },
  {
   "cell_type": "code",
   "execution_count": 321,
   "metadata": {},
   "outputs": [
    {
     "name": "stdout",
     "output_type": "stream",
     "text": [
      "LightGBM RMSE на train 13.44 \n",
      "LightGBM RMSE на valid 34.17 \n",
      "LightGBM RMSE на test 40.68\n"
     ]
    }
   ],
   "source": [
    "print('LightGBM RMSE на train', lgbm_train_rmse,\n",
    "     '\\nLightGBM RMSE на valid', lgbm_valid_rmse,\n",
    "     '\\nLightGBM RMSE на test', lgbm_test_rmse)"
   ]
  },
  {
   "cell_type": "markdown",
   "metadata": {},
   "source": [
    "Результат чуть лучше чем у кэтбуста, но цель по-прежнему не достигнута (нужно меньше 48)"
   ]
  },
  {
   "cell_type": "markdown",
   "metadata": {},
   "source": [
    "### Линейная регрессия"
   ]
  },
  {
   "cell_type": "code",
   "execution_count": 322,
   "metadata": {},
   "outputs": [
    {
     "data": {
      "text/html": [
       "<div>\n",
       "<style scoped>\n",
       "    .dataframe tbody tr th:only-of-type {\n",
       "        vertical-align: middle;\n",
       "    }\n",
       "\n",
       "    .dataframe tbody tr th {\n",
       "        vertical-align: top;\n",
       "    }\n",
       "\n",
       "    .dataframe thead th {\n",
       "        text-align: right;\n",
       "    }\n",
       "</style>\n",
       "<table border=\"1\" class=\"dataframe\">\n",
       "  <thead>\n",
       "    <tr style=\"text-align: right;\">\n",
       "      <th></th>\n",
       "      <th>year</th>\n",
       "      <th>day</th>\n",
       "      <th>lag_1</th>\n",
       "      <th>lag_2</th>\n",
       "      <th>lag_3</th>\n",
       "      <th>lag_4</th>\n",
       "      <th>lag_5</th>\n",
       "      <th>lag_6</th>\n",
       "      <th>lag_7</th>\n",
       "      <th>lag_8</th>\n",
       "      <th>lag_9</th>\n",
       "      <th>lag_10</th>\n",
       "      <th>lag_11</th>\n",
       "      <th>lag_12</th>\n",
       "      <th>lag_13</th>\n",
       "      <th>lag_14</th>\n",
       "      <th>lag_15</th>\n",
       "      <th>lag_16</th>\n",
       "      <th>lag_17</th>\n",
       "      <th>lag_18</th>\n",
       "      <th>lag_19</th>\n",
       "      <th>lag_20</th>\n",
       "      <th>lag_21</th>\n",
       "      <th>lag_22</th>\n",
       "      <th>lag_23</th>\n",
       "      <th>lag_24</th>\n",
       "      <th>rolling_mean</th>\n",
       "      <th>month_4</th>\n",
       "      <th>month_5</th>\n",
       "      <th>month_6</th>\n",
       "      <th>month_7</th>\n",
       "      <th>month_8</th>\n",
       "      <th>dayofweek_1</th>\n",
       "      <th>dayofweek_2</th>\n",
       "      <th>dayofweek_3</th>\n",
       "      <th>dayofweek_4</th>\n",
       "      <th>dayofweek_5</th>\n",
       "      <th>dayofweek_6</th>\n",
       "    </tr>\n",
       "  </thead>\n",
       "  <tbody>\n",
       "    <tr>\n",
       "      <td>0</td>\n",
       "      <td>0.0</td>\n",
       "      <td>-1.494599</td>\n",
       "      <td>-0.528019</td>\n",
       "      <td>0.893921</td>\n",
       "      <td>-0.320922</td>\n",
       "      <td>-0.450002</td>\n",
       "      <td>-0.863303</td>\n",
       "      <td>-0.138632</td>\n",
       "      <td>-0.888637</td>\n",
       "      <td>-0.914121</td>\n",
       "      <td>-0.319097</td>\n",
       "      <td>-0.784822</td>\n",
       "      <td>-1.198373</td>\n",
       "      <td>-1.249583</td>\n",
       "      <td>0.459317</td>\n",
       "      <td>-0.371034</td>\n",
       "      <td>-0.239546</td>\n",
       "      <td>-1.158687</td>\n",
       "      <td>-1.658000</td>\n",
       "      <td>-1.735774</td>\n",
       "      <td>-1.892353</td>\n",
       "      <td>-0.919243</td>\n",
       "      <td>-0.314539</td>\n",
       "      <td>-0.183060</td>\n",
       "      <td>0.185170</td>\n",
       "      <td>1.211019</td>\n",
       "      <td>-0.631475</td>\n",
       "      <td>-0.471988</td>\n",
       "      <td>-0.481581</td>\n",
       "      <td>-0.471988</td>\n",
       "      <td>-0.481581</td>\n",
       "      <td>-0.288675</td>\n",
       "      <td>-0.40293</td>\n",
       "      <td>-0.40293</td>\n",
       "      <td>-0.40293</td>\n",
       "      <td>2.420973</td>\n",
       "      <td>-0.413057</td>\n",
       "      <td>-0.413057</td>\n",
       "    </tr>\n",
       "    <tr>\n",
       "      <td>1</td>\n",
       "      <td>0.0</td>\n",
       "      <td>-1.494599</td>\n",
       "      <td>0.299361</td>\n",
       "      <td>-0.528062</td>\n",
       "      <td>0.894380</td>\n",
       "      <td>-0.320716</td>\n",
       "      <td>-0.449476</td>\n",
       "      <td>-0.863199</td>\n",
       "      <td>-0.138050</td>\n",
       "      <td>-0.888241</td>\n",
       "      <td>-0.914406</td>\n",
       "      <td>-0.318958</td>\n",
       "      <td>-0.784347</td>\n",
       "      <td>-1.197821</td>\n",
       "      <td>-1.249931</td>\n",
       "      <td>0.466881</td>\n",
       "      <td>-0.370903</td>\n",
       "      <td>-0.238808</td>\n",
       "      <td>-1.158312</td>\n",
       "      <td>-1.656894</td>\n",
       "      <td>-1.734622</td>\n",
       "      <td>-1.891852</td>\n",
       "      <td>-0.919127</td>\n",
       "      <td>-0.314491</td>\n",
       "      <td>-0.182881</td>\n",
       "      <td>0.185419</td>\n",
       "      <td>-0.392226</td>\n",
       "      <td>-0.471988</td>\n",
       "      <td>-0.481581</td>\n",
       "      <td>-0.471988</td>\n",
       "      <td>-0.481581</td>\n",
       "      <td>-0.288675</td>\n",
       "      <td>-0.40293</td>\n",
       "      <td>-0.40293</td>\n",
       "      <td>-0.40293</td>\n",
       "      <td>2.420973</td>\n",
       "      <td>-0.413057</td>\n",
       "      <td>-0.413057</td>\n",
       "    </tr>\n",
       "    <tr>\n",
       "      <td>2</td>\n",
       "      <td>0.0</td>\n",
       "      <td>-1.494599</td>\n",
       "      <td>1.075030</td>\n",
       "      <td>0.299273</td>\n",
       "      <td>-0.527782</td>\n",
       "      <td>0.894574</td>\n",
       "      <td>-0.320155</td>\n",
       "      <td>-0.449161</td>\n",
       "      <td>-0.862755</td>\n",
       "      <td>-0.137723</td>\n",
       "      <td>-0.888523</td>\n",
       "      <td>-0.914228</td>\n",
       "      <td>-0.318567</td>\n",
       "      <td>-0.783730</td>\n",
       "      <td>-1.198136</td>\n",
       "      <td>-1.261318</td>\n",
       "      <td>0.469779</td>\n",
       "      <td>-0.370219</td>\n",
       "      <td>-0.237833</td>\n",
       "      <td>-1.157327</td>\n",
       "      <td>-1.655756</td>\n",
       "      <td>-1.734131</td>\n",
       "      <td>-1.891724</td>\n",
       "      <td>-0.919076</td>\n",
       "      <td>-0.314328</td>\n",
       "      <td>-0.182744</td>\n",
       "      <td>-0.005354</td>\n",
       "      <td>-0.471988</td>\n",
       "      <td>-0.481581</td>\n",
       "      <td>-0.471988</td>\n",
       "      <td>-0.481581</td>\n",
       "      <td>-0.288675</td>\n",
       "      <td>-0.40293</td>\n",
       "      <td>-0.40293</td>\n",
       "      <td>-0.40293</td>\n",
       "      <td>2.420973</td>\n",
       "      <td>-0.413057</td>\n",
       "      <td>-0.413057</td>\n",
       "    </tr>\n",
       "    <tr>\n",
       "      <td>3</td>\n",
       "      <td>0.0</td>\n",
       "      <td>-1.494599</td>\n",
       "      <td>-0.088473</td>\n",
       "      <td>1.074900</td>\n",
       "      <td>0.299658</td>\n",
       "      <td>-0.527574</td>\n",
       "      <td>0.895464</td>\n",
       "      <td>-0.319774</td>\n",
       "      <td>-0.448638</td>\n",
       "      <td>-0.862361</td>\n",
       "      <td>-0.137916</td>\n",
       "      <td>-0.888347</td>\n",
       "      <td>-0.913730</td>\n",
       "      <td>-0.317877</td>\n",
       "      <td>-0.783772</td>\n",
       "      <td>-1.208949</td>\n",
       "      <td>-1.264128</td>\n",
       "      <td>0.470813</td>\n",
       "      <td>-0.369330</td>\n",
       "      <td>-0.237070</td>\n",
       "      <td>-1.156273</td>\n",
       "      <td>-1.655271</td>\n",
       "      <td>-1.734006</td>\n",
       "      <td>-1.891670</td>\n",
       "      <td>-0.918983</td>\n",
       "      <td>-0.314232</td>\n",
       "      <td>0.004826</td>\n",
       "      <td>-0.471988</td>\n",
       "      <td>-0.481581</td>\n",
       "      <td>-0.471988</td>\n",
       "      <td>-0.481581</td>\n",
       "      <td>-0.288675</td>\n",
       "      <td>-0.40293</td>\n",
       "      <td>-0.40293</td>\n",
       "      <td>-0.40293</td>\n",
       "      <td>2.420973</td>\n",
       "      <td>-0.413057</td>\n",
       "      <td>-0.413057</td>\n",
       "    </tr>\n",
       "    <tr>\n",
       "      <td>4</td>\n",
       "      <td>0.0</td>\n",
       "      <td>-1.494599</td>\n",
       "      <td>-0.372885</td>\n",
       "      <td>-0.088540</td>\n",
       "      <td>1.075383</td>\n",
       "      <td>0.299858</td>\n",
       "      <td>-0.527069</td>\n",
       "      <td>0.896462</td>\n",
       "      <td>-0.319226</td>\n",
       "      <td>-0.448282</td>\n",
       "      <td>-0.862640</td>\n",
       "      <td>-0.137789</td>\n",
       "      <td>-0.887853</td>\n",
       "      <td>-0.913134</td>\n",
       "      <td>-0.317614</td>\n",
       "      <td>-0.789991</td>\n",
       "      <td>-1.211585</td>\n",
       "      <td>-1.263816</td>\n",
       "      <td>0.472251</td>\n",
       "      <td>-0.368535</td>\n",
       "      <td>-0.236172</td>\n",
       "      <td>-1.155824</td>\n",
       "      <td>-1.655146</td>\n",
       "      <td>-1.733952</td>\n",
       "      <td>-1.891689</td>\n",
       "      <td>-0.919072</td>\n",
       "      <td>0.101544</td>\n",
       "      <td>-0.471988</td>\n",
       "      <td>-0.481581</td>\n",
       "      <td>-0.471988</td>\n",
       "      <td>-0.481581</td>\n",
       "      <td>-0.288675</td>\n",
       "      <td>-0.40293</td>\n",
       "      <td>-0.40293</td>\n",
       "      <td>-0.40293</td>\n",
       "      <td>2.420973</td>\n",
       "      <td>-0.413057</td>\n",
       "      <td>-0.413057</td>\n",
       "    </tr>\n",
       "  </tbody>\n",
       "</table>\n",
       "</div>"
      ],
      "text/plain": [
       "   year       day     lag_1     lag_2     lag_3     lag_4     lag_5     lag_6  \\\n",
       "0   0.0 -1.494599 -0.528019  0.893921 -0.320922 -0.450002 -0.863303 -0.138632   \n",
       "1   0.0 -1.494599  0.299361 -0.528062  0.894380 -0.320716 -0.449476 -0.863199   \n",
       "2   0.0 -1.494599  1.075030  0.299273 -0.527782  0.894574 -0.320155 -0.449161   \n",
       "3   0.0 -1.494599 -0.088473  1.074900  0.299658 -0.527574  0.895464 -0.319774   \n",
       "4   0.0 -1.494599 -0.372885 -0.088540  1.075383  0.299858 -0.527069  0.896462   \n",
       "\n",
       "      lag_7     lag_8     lag_9    lag_10    lag_11    lag_12    lag_13  \\\n",
       "0 -0.888637 -0.914121 -0.319097 -0.784822 -1.198373 -1.249583  0.459317   \n",
       "1 -0.138050 -0.888241 -0.914406 -0.318958 -0.784347 -1.197821 -1.249931   \n",
       "2 -0.862755 -0.137723 -0.888523 -0.914228 -0.318567 -0.783730 -1.198136   \n",
       "3 -0.448638 -0.862361 -0.137916 -0.888347 -0.913730 -0.317877 -0.783772   \n",
       "4 -0.319226 -0.448282 -0.862640 -0.137789 -0.887853 -0.913134 -0.317614   \n",
       "\n",
       "     lag_14    lag_15    lag_16    lag_17    lag_18    lag_19    lag_20  \\\n",
       "0 -0.371034 -0.239546 -1.158687 -1.658000 -1.735774 -1.892353 -0.919243   \n",
       "1  0.466881 -0.370903 -0.238808 -1.158312 -1.656894 -1.734622 -1.891852   \n",
       "2 -1.261318  0.469779 -0.370219 -0.237833 -1.157327 -1.655756 -1.734131   \n",
       "3 -1.208949 -1.264128  0.470813 -0.369330 -0.237070 -1.156273 -1.655271   \n",
       "4 -0.789991 -1.211585 -1.263816  0.472251 -0.368535 -0.236172 -1.155824   \n",
       "\n",
       "     lag_21    lag_22    lag_23    lag_24  rolling_mean   month_4   month_5  \\\n",
       "0 -0.314539 -0.183060  0.185170  1.211019     -0.631475 -0.471988 -0.481581   \n",
       "1 -0.919127 -0.314491 -0.182881  0.185419     -0.392226 -0.471988 -0.481581   \n",
       "2 -1.891724 -0.919076 -0.314328 -0.182744     -0.005354 -0.471988 -0.481581   \n",
       "3 -1.734006 -1.891670 -0.918983 -0.314232      0.004826 -0.471988 -0.481581   \n",
       "4 -1.655146 -1.733952 -1.891689 -0.919072      0.101544 -0.471988 -0.481581   \n",
       "\n",
       "    month_6   month_7   month_8  dayofweek_1  dayofweek_2  dayofweek_3  \\\n",
       "0 -0.471988 -0.481581 -0.288675     -0.40293     -0.40293     -0.40293   \n",
       "1 -0.471988 -0.481581 -0.288675     -0.40293     -0.40293     -0.40293   \n",
       "2 -0.471988 -0.481581 -0.288675     -0.40293     -0.40293     -0.40293   \n",
       "3 -0.471988 -0.481581 -0.288675     -0.40293     -0.40293     -0.40293   \n",
       "4 -0.471988 -0.481581 -0.288675     -0.40293     -0.40293     -0.40293   \n",
       "\n",
       "   dayofweek_4  dayofweek_5  dayofweek_6  \n",
       "0     2.420973    -0.413057    -0.413057  \n",
       "1     2.420973    -0.413057    -0.413057  \n",
       "2     2.420973    -0.413057    -0.413057  \n",
       "3     2.420973    -0.413057    -0.413057  \n",
       "4     2.420973    -0.413057    -0.413057  "
      ]
     },
     "execution_count": 322,
     "metadata": {},
     "output_type": "execute_result"
    }
   ],
   "source": [
    "features_train_lr_1 = pd.get_dummies(features_1, columns=['month', 'dayofweek'], drop_first=True)\n",
    "\n",
    "scaler.fit(features_train_lr_1) \n",
    "features_train_lr_1 = pd.DataFrame(scaler.transform(features_train_lr_1), columns=features_train_lr_1.columns)\n",
    "\n",
    "features_train_lr_1.head()"
   ]
  },
  {
   "cell_type": "code",
   "execution_count": 323,
   "metadata": {},
   "outputs": [
    {
     "name": "stdout",
     "output_type": "stream",
     "text": [
      "LinearRegression RMSE на test: 4617223753486.72 \n",
      "\n",
      "Время выполнения ячейки:\n",
      "CPU times: user 94.6 ms, sys: 117 ms, total: 211 ms\n",
      "Wall time: 223 ms\n"
     ]
    }
   ],
   "source": [
    "%%time\n",
    "\n",
    "model_lr_3 =  LinearRegression()\n",
    "model_lr_3.fit(features_train_lr_1, target_1)\n",
    "\n",
    "pred_lr_test = model_lr_3.predict(features_test_lr)\n",
    "\n",
    "lr_test_rmse = (mean_squared_error(target_test, pred_lr_test).round(5) ** 0.5).round(2)\n",
    "\n",
    "print('LinearRegression RMSE на test:', lr_test_rmse,\n",
    "     '\\n\\nВремя выполнения ячейки:')"
   ]
  },
  {
   "cell_type": "markdown",
   "metadata": {},
   "source": [
    "### Дерево решений"
   ]
  },
  {
   "cell_type": "code",
   "execution_count": 324,
   "metadata": {},
   "outputs": [
    {
     "name": "stdout",
     "output_type": "stream",
     "text": [
      "Лучшие параметры DecisionTree:\n",
      " {'min_samples_split': 7, 'min_samples_leaf': 19, 'max_depth': 22} \n",
      "\n",
      "Время подбора параметров:\n",
      "CPU times: user 7.79 s, sys: 3.37 ms, total: 7.8 s\n",
      "Wall time: 7.81 s\n"
     ]
    }
   ],
   "source": [
    "%%time\n",
    "\n",
    "model_dt = DecisionTreeRegressor(random_state=42)\n",
    "\n",
    "dt_params = {\n",
    "    'max_depth':[x for x in range(1, 50, 1)], \n",
    "    'min_samples_leaf':[x for x in range(2, 20, 1)],\n",
    "    'min_samples_split':[x for x in range(2, 20, 1)],\n",
    "}\n",
    "\n",
    "tree_grid = RandomizedSearchCV(model_dt, dt_params, \n",
    "                               scoring='neg_mean_squared_error', \n",
    "                               n_iter=20, random_state=45, cv=TimeSeriesSplit(n_splits=10))\n",
    "\n",
    "tree_grid.fit(features_train_lr_1, target_1)\n",
    "\n",
    "model_dt = DecisionTreeRegressor(random_state=42, **tree_grid.best_params_)\n",
    "\n",
    "print('Лучшие параметры DecisionTree:\\n', tree_grid.best_params_,\n",
    "     '\\n\\nВремя подбора параметров:')"
   ]
  },
  {
   "cell_type": "code",
   "execution_count": 325,
   "metadata": {},
   "outputs": [
    {
     "name": "stdout",
     "output_type": "stream",
     "text": [
      "CPU times: user 63.8 ms, sys: 0 ns, total: 63.8 ms\n",
      "Wall time: 62.2 ms\n"
     ]
    },
    {
     "data": {
      "text/plain": [
       "DecisionTreeRegressor(criterion='mse', max_depth=22, max_features=None,\n",
       "                      max_leaf_nodes=None, min_impurity_decrease=0.0,\n",
       "                      min_impurity_split=None, min_samples_leaf=19,\n",
       "                      min_samples_split=7, min_weight_fraction_leaf=0.0,\n",
       "                      presort=False, random_state=42, splitter='best')"
      ]
     },
     "execution_count": 325,
     "metadata": {},
     "output_type": "execute_result"
    }
   ],
   "source": [
    "%%time\n",
    "model_dt.fit(features_train_lr_1, target_1)"
   ]
  },
  {
   "cell_type": "code",
   "execution_count": 326,
   "metadata": {},
   "outputs": [
    {
     "name": "stdout",
     "output_type": "stream",
     "text": [
      "DecisionTreeRegressor RMSE на test: 47.87 \n",
      "\n",
      "Время предсказания:\n",
      "CPU times: user 4.27 ms, sys: 6 µs, total: 4.27 ms\n",
      "Wall time: 3.48 ms\n"
     ]
    }
   ],
   "source": [
    "%%time\n",
    "\n",
    "preds_test_dt = model_dt.predict(features_test_lr)\n",
    "\n",
    "dt_test_rmse = (mean_squared_error(target_test, preds_test_dt) ** 0.5).round(2)\n",
    "\n",
    "print('DecisionTreeRegressor RMSE на test:', dt_test_rmse,\n",
    "     '\\n\\nВремя предсказания:')"
   ]
  },
  {
   "cell_type": "markdown",
   "metadata": {},
   "source": [
    "### Случайный лес (RandomForest)"
   ]
  },
  {
   "cell_type": "code",
   "execution_count": 327,
   "metadata": {},
   "outputs": [
    {
     "name": "stdout",
     "output_type": "stream",
     "text": [
      "Лучшие параметры RandomForest: {'n_estimators': 41, 'min_samples_split': 10, 'min_samples_leaf': 2, 'max_depth': 10} \n",
      "\n",
      "Время подбора параметров:\n",
      "CPU times: user 51.8 s, sys: 0 ns, total: 51.8 s\n",
      "Wall time: 52.3 s\n"
     ]
    }
   ],
   "source": [
    "%%time\n",
    "\n",
    "model_f = RandomForestRegressor(random_state=42)\n",
    "\n",
    "forest_params = {\n",
    "    'n_estimators': range(1, 61, 10),\n",
    "    'max_depth': range(1, 21, 1), \n",
    "    'min_samples_leaf': range(2, 11, 1),\n",
    "    'min_samples_split': range(2, 11, 1),\n",
    "}\n",
    "\n",
    "forest_grid = RandomizedSearchCV(model_f, forest_params, \n",
    "                                 scoring='neg_mean_squared_error', \n",
    "                                 n_iter=10, random_state=42, cv=TimeSeriesSplit(n_splits=10))\n",
    "\n",
    "forest_grid.fit(features_train_lr_1, target_1)\n",
    "\n",
    "model_f = RandomForestRegressor(random_state=42, **forest_grid.best_params_)\n",
    "\n",
    "print('Лучшие параметры RandomForest:', forest_grid.best_params_,\n",
    "     '\\n\\nВремя подбора параметров:')"
   ]
  },
  {
   "cell_type": "code",
   "execution_count": 328,
   "metadata": {},
   "outputs": [
    {
     "name": "stdout",
     "output_type": "stream",
     "text": [
      "CPU times: user 1.92 s, sys: 0 ns, total: 1.92 s\n",
      "Wall time: 1.93 s\n"
     ]
    },
    {
     "data": {
      "text/plain": [
       "RandomForestRegressor(bootstrap=True, criterion='mse', max_depth=10,\n",
       "                      max_features='auto', max_leaf_nodes=None,\n",
       "                      min_impurity_decrease=0.0, min_impurity_split=None,\n",
       "                      min_samples_leaf=2, min_samples_split=10,\n",
       "                      min_weight_fraction_leaf=0.0, n_estimators=41,\n",
       "                      n_jobs=None, oob_score=False, random_state=42, verbose=0,\n",
       "                      warm_start=False)"
      ]
     },
     "execution_count": 328,
     "metadata": {},
     "output_type": "execute_result"
    }
   ],
   "source": [
    "%%time\n",
    "model_f.fit(features_train_lr_1, target_1)"
   ]
  },
  {
   "cell_type": "code",
   "execution_count": 329,
   "metadata": {},
   "outputs": [
    {
     "name": "stdout",
     "output_type": "stream",
     "text": [
      "RandomForest RMSE на test: 44.12 \n",
      "\n",
      "Время предсказания:\n",
      "CPU times: user 11.3 ms, sys: 0 ns, total: 11.3 ms\n",
      "Wall time: 9.61 ms\n"
     ]
    }
   ],
   "source": [
    "%%time\n",
    "\n",
    "preds_test_f = model_f.predict(features_test_lr)\n",
    "\n",
    "f_test_rmse = (mean_squared_error(target_test, preds_test_f) ** 0.5).round(2)\n",
    "\n",
    "print('RandomForest RMSE на test:', f_test_rmse,\n",
    "     '\\n\\nВремя предсказания:')"
   ]
  },
  {
   "cell_type": "markdown",
   "metadata": {},
   "source": [
    "### Сводная таблица результатов"
   ]
  },
  {
   "cell_type": "code",
   "execution_count": 330,
   "metadata": {},
   "outputs": [
    {
     "data": {
      "text/html": [
       "<div>\n",
       "<style scoped>\n",
       "    .dataframe tbody tr th:only-of-type {\n",
       "        vertical-align: middle;\n",
       "    }\n",
       "\n",
       "    .dataframe tbody tr th {\n",
       "        vertical-align: top;\n",
       "    }\n",
       "\n",
       "    .dataframe thead th {\n",
       "        text-align: right;\n",
       "    }\n",
       "</style>\n",
       "<table border=\"1\" class=\"dataframe\">\n",
       "  <thead>\n",
       "    <tr style=\"text-align: right;\">\n",
       "      <th></th>\n",
       "      <th>Valid_RMSE</th>\n",
       "      <th>Test_RMSE</th>\n",
       "      <th>Train_Time[s]</th>\n",
       "      <th>Predict_Time[s]</th>\n",
       "    </tr>\n",
       "  </thead>\n",
       "  <tbody>\n",
       "    <tr>\n",
       "      <td>Catboost</td>\n",
       "      <td>33.53</td>\n",
       "      <td>43.59</td>\n",
       "      <td>3.910</td>\n",
       "      <td>0.015</td>\n",
       "    </tr>\n",
       "    <tr>\n",
       "      <td>LightGBM</td>\n",
       "      <td>34.17</td>\n",
       "      <td>40.68</td>\n",
       "      <td>1.180</td>\n",
       "      <td>0.009</td>\n",
       "    </tr>\n",
       "    <tr>\n",
       "      <td>LinearRegression</td>\n",
       "      <td>144.65</td>\n",
       "      <td>44.12</td>\n",
       "      <td>0.740</td>\n",
       "      <td>0.012</td>\n",
       "    </tr>\n",
       "    <tr>\n",
       "      <td>DecisionTree</td>\n",
       "      <td>39.84</td>\n",
       "      <td>47.87</td>\n",
       "      <td>0.009</td>\n",
       "      <td>0.003</td>\n",
       "    </tr>\n",
       "    <tr>\n",
       "      <td>RandomForest</td>\n",
       "      <td>35.71</td>\n",
       "      <td>44.12</td>\n",
       "      <td>0.740</td>\n",
       "      <td>0.012</td>\n",
       "    </tr>\n",
       "  </tbody>\n",
       "</table>\n",
       "</div>"
      ],
      "text/plain": [
       "                  Valid_RMSE  Test_RMSE  Train_Time[s]  Predict_Time[s]\n",
       "Catboost               33.53      43.59          3.910            0.015\n",
       "LightGBM               34.17      40.68          1.180            0.009\n",
       "LinearRegression      144.65      44.12          0.740            0.012\n",
       "DecisionTree           39.84      47.87          0.009            0.003\n",
       "RandomForest           35.71      44.12          0.740            0.012"
      ]
     },
     "execution_count": 330,
     "metadata": {},
     "output_type": "execute_result"
    }
   ],
   "source": [
    "tabl = [\n",
    "        [cb_valid_rmse, cb_test_rmse, cb_train_time, cb_pred_time],\n",
    "        [lgbm_valid_rmse, lgbm_test_rmse, lgbm_train_time, lgbm_pred_time],\n",
    "        [lr_valid_rmse, f_test_rmse, f_train_time, f_pred_time],\n",
    "        [dt_valid_rmse, dt_test_rmse, dt_train_time, dt_pred_time],\n",
    "        [f_valid_rmse, f_test_rmse, f_train_time, f_pred_time]\n",
    "       ]\n",
    "     \n",
    "index = ['Catboost', 'LightGBM', 'LinearRegression', 'DecisionTree', 'RandomForest']\n",
    "columns = ['Valid_RMSE', 'Test_RMSE', 'Train_Time[s]', 'Predict_Time[s]']\n",
    "\n",
    "tabl = pd.DataFrame(tabl, index=index, columns=columns)\n",
    "tabl"
   ]
  },
  {
   "cell_type": "code",
   "execution_count": 331,
   "metadata": {},
   "outputs": [
    {
     "data": {
      "text/plain": [
       "Index(['LightGBM'], dtype='object')"
      ]
     },
     "execution_count": 331,
     "metadata": {},
     "output_type": "execute_result"
    }
   ],
   "source": [
    "tabl[tabl[\"Test_RMSE\"] == tabl[\"Test_RMSE\"].min()].index"
   ]
  },
  {
   "cell_type": "code",
   "execution_count": 332,
   "metadata": {},
   "outputs": [
    {
     "data": {
      "text/plain": [
       "Index(['Catboost'], dtype='object')"
      ]
     },
     "execution_count": 332,
     "metadata": {},
     "output_type": "execute_result"
    }
   ],
   "source": [
    "tabl[tabl[\"Valid_RMSE\"] == tabl[\"Valid_RMSE\"].min()].index"
   ]
  },
  {
   "cell_type": "markdown",
   "metadata": {},
   "source": [
    "### Dummy\n",
    "Проверим предсказания моделей на адекватность при помощи dummy модели:"
   ]
  },
  {
   "cell_type": "code",
   "execution_count": 333,
   "metadata": {},
   "outputs": [
    {
     "name": "stdout",
     "output_type": "stream",
     "text": [
      "RMSE Dummy: 91.74\n"
     ]
    }
   ],
   "source": [
    "dummy_model = DummyRegressor(strategy=\"median\")\n",
    "dummy_model.fit(features_train, target_train)\n",
    "dummy_predict = dummy_model.predict(features_test)\n",
    "\n",
    "rmse_dummy = (mean_squared_error(target_test, dummy_predict) ** 0.5).round(2)\n",
    "\n",
    "print('RMSE Dummy:', rmse_dummy)"
   ]
  },
  {
   "cell_type": "markdown",
   "metadata": {},
   "source": [
    "Все модели оказались лучше, чем простейший прогноз"
   ]
  },
  {
   "cell_type": "markdown",
   "metadata": {},
   "source": [
    "###### Вывод\n",
    "\n",
    "В рамках данного проекта было построено 5 моделей машинного обучения с целью спрогнозировать количество заказов такси на следующий час.  \n",
    "\n",
    "Самое лучшее качество предсказаний получилось у бустинговой модели LightGBM (40.68 - на тестовых данных).\n",
    "LinearRegression (44.12), RandomForest (44.12) и CatBoost (43.59) дают схожие результаты по качеству предсказаний  на тестовых данных.  \n",
    "\n",
    "Дерево решений показало наихудший результат и в учет ее лучше не брать. \n",
    "\n",
    "таким образом для предсказаний рекомендуется выбрать модель LightGBM."
   ]
  }
 ],
 "metadata": {
  "ExecuteTimeLog": [
   {
    "duration": 1172,
    "start_time": "2021-07-13T11:22:51.763Z"
   },
   {
    "duration": 72,
    "start_time": "2021-07-13T11:23:08.641Z"
   },
   {
    "duration": 33,
    "start_time": "2021-07-13T11:23:16.105Z"
   },
   {
    "duration": 35,
    "start_time": "2021-07-13T11:23:41.088Z"
   },
   {
    "duration": 6,
    "start_time": "2021-07-13T11:23:58.521Z"
   },
   {
    "duration": 12,
    "start_time": "2021-07-13T11:24:13.680Z"
   },
   {
    "duration": 42,
    "start_time": "2021-07-13T11:29:36.077Z"
   },
   {
    "duration": 36,
    "start_time": "2021-07-13T11:33:03.957Z"
   },
   {
    "duration": 5,
    "start_time": "2021-07-13T11:34:18.428Z"
   },
   {
    "duration": 321,
    "start_time": "2021-07-13T11:34:41.557Z"
   },
   {
    "duration": 6,
    "start_time": "2021-07-13T11:34:46.164Z"
   },
   {
    "duration": 34,
    "start_time": "2021-07-13T11:35:31.868Z"
   },
   {
    "duration": 8,
    "start_time": "2021-07-13T11:35:32.557Z"
   },
   {
    "duration": 36,
    "start_time": "2021-07-13T11:35:49.252Z"
   },
   {
    "duration": 5,
    "start_time": "2021-07-13T11:35:49.556Z"
   },
   {
    "duration": 5,
    "start_time": "2021-07-13T11:35:49.699Z"
   },
   {
    "duration": 11,
    "start_time": "2021-07-13T11:35:50.002Z"
   },
   {
    "duration": 8,
    "start_time": "2021-07-13T11:35:50.483Z"
   },
   {
    "duration": 34,
    "start_time": "2021-07-13T11:36:50.123Z"
   },
   {
    "duration": 6,
    "start_time": "2021-07-13T11:36:51.229Z"
   },
   {
    "duration": 5,
    "start_time": "2021-07-13T11:36:51.443Z"
   },
   {
    "duration": 11,
    "start_time": "2021-07-13T11:36:51.869Z"
   },
   {
    "duration": 8,
    "start_time": "2021-07-13T11:36:52.041Z"
   },
   {
    "duration": 35,
    "start_time": "2021-07-13T11:38:42.795Z"
   },
   {
    "duration": 6,
    "start_time": "2021-07-13T11:38:44.634Z"
   },
   {
    "duration": 36,
    "start_time": "2021-07-13T11:38:52.155Z"
   },
   {
    "duration": 6,
    "start_time": "2021-07-13T11:38:53.643Z"
   },
   {
    "duration": 6,
    "start_time": "2021-07-13T11:38:56.259Z"
   },
   {
    "duration": 32,
    "start_time": "2021-07-13T11:40:41.802Z"
   },
   {
    "duration": 6,
    "start_time": "2021-07-13T11:40:43.514Z"
   },
   {
    "duration": 36,
    "start_time": "2021-07-13T11:41:04.747Z"
   },
   {
    "duration": 6,
    "start_time": "2021-07-13T11:41:05.315Z"
   },
   {
    "duration": 5,
    "start_time": "2021-07-13T11:41:07.770Z"
   },
   {
    "duration": 11,
    "start_time": "2021-07-13T11:41:15.738Z"
   },
   {
    "duration": 10,
    "start_time": "2021-07-13T11:41:19.546Z"
   },
   {
    "duration": 5,
    "start_time": "2021-07-13T11:41:47.138Z"
   },
   {
    "duration": 5,
    "start_time": "2021-07-13T11:41:51.105Z"
   },
   {
    "duration": 310,
    "start_time": "2021-07-13T11:44:27.648Z"
   },
   {
    "duration": 8,
    "start_time": "2021-07-13T11:44:32.080Z"
   },
   {
    "duration": 35,
    "start_time": "2021-07-13T11:46:02.488Z"
   },
   {
    "duration": 4,
    "start_time": "2021-07-13T11:46:37.942Z"
   },
   {
    "duration": 12,
    "start_time": "2021-07-13T11:58:03.060Z"
   },
   {
    "duration": 11,
    "start_time": "2021-07-13T11:58:24.839Z"
   },
   {
    "duration": 10,
    "start_time": "2021-07-13T12:09:10.056Z"
   },
   {
    "duration": 236,
    "start_time": "2021-07-13T12:13:17.746Z"
   },
   {
    "duration": 197,
    "start_time": "2021-07-13T12:13:22.936Z"
   },
   {
    "duration": 227,
    "start_time": "2021-07-13T12:13:47.968Z"
   },
   {
    "duration": 489,
    "start_time": "2021-07-13T12:13:51.462Z"
   },
   {
    "duration": 230,
    "start_time": "2021-07-13T12:14:01.502Z"
   },
   {
    "duration": 495,
    "start_time": "2021-07-13T12:17:45.117Z"
   },
   {
    "duration": 280,
    "start_time": "2021-07-13T12:17:59.140Z"
   },
   {
    "duration": 503,
    "start_time": "2021-07-13T12:18:07.181Z"
   },
   {
    "duration": 239,
    "start_time": "2021-07-13T12:18:09.798Z"
   },
   {
    "duration": 457,
    "start_time": "2021-07-13T12:20:11.197Z"
   },
   {
    "duration": 262,
    "start_time": "2021-07-13T12:20:35.590Z"
   },
   {
    "duration": 255,
    "start_time": "2021-07-13T12:21:36.547Z"
   },
   {
    "duration": 266,
    "start_time": "2021-07-13T12:21:52.851Z"
   },
   {
    "duration": 273,
    "start_time": "2021-07-13T12:21:58.539Z"
   },
   {
    "duration": 9,
    "start_time": "2021-07-13T12:24:55.340Z"
   },
   {
    "duration": 8,
    "start_time": "2021-07-13T12:25:12.273Z"
   },
   {
    "duration": 9,
    "start_time": "2021-07-13T12:25:18.721Z"
   },
   {
    "duration": 8,
    "start_time": "2021-07-13T12:25:21.618Z"
   },
   {
    "duration": 9,
    "start_time": "2021-07-13T12:25:55.954Z"
   },
   {
    "duration": 8,
    "start_time": "2021-07-13T12:26:02.538Z"
   },
   {
    "duration": 8,
    "start_time": "2021-07-13T12:26:06.002Z"
   },
   {
    "duration": 8,
    "start_time": "2021-07-13T12:26:19.387Z"
   },
   {
    "duration": 22,
    "start_time": "2021-07-13T12:30:07.737Z"
   },
   {
    "duration": 7,
    "start_time": "2021-07-13T12:34:32.086Z"
   },
   {
    "duration": 759,
    "start_time": "2021-07-13T12:36:13.834Z"
   },
   {
    "duration": 665,
    "start_time": "2021-07-13T12:36:24.486Z"
   },
   {
    "duration": 528,
    "start_time": "2021-07-13T12:36:46.210Z"
   },
   {
    "duration": 187,
    "start_time": "2021-07-13T12:37:31.920Z"
   },
   {
    "duration": 567,
    "start_time": "2021-07-13T12:37:41.143Z"
   },
   {
    "duration": 526,
    "start_time": "2021-07-13T12:37:51.861Z"
   },
   {
    "duration": 541,
    "start_time": "2021-07-13T12:38:04.117Z"
   },
   {
    "duration": 650,
    "start_time": "2021-07-13T12:38:09.862Z"
   },
   {
    "duration": 517,
    "start_time": "2021-07-13T12:39:35.075Z"
   },
   {
    "duration": 519,
    "start_time": "2021-07-13T12:40:31.701Z"
   },
   {
    "duration": 525,
    "start_time": "2021-07-13T12:41:03.291Z"
   },
   {
    "duration": 623,
    "start_time": "2021-07-13T12:41:14.381Z"
   },
   {
    "duration": 626,
    "start_time": "2021-07-13T12:41:57.614Z"
   },
   {
    "duration": 515,
    "start_time": "2021-07-13T12:42:15.452Z"
   },
   {
    "duration": 532,
    "start_time": "2021-07-13T12:42:25.787Z"
   },
   {
    "duration": 511,
    "start_time": "2021-07-13T12:42:32.821Z"
   },
   {
    "duration": 627,
    "start_time": "2021-07-13T12:42:42.331Z"
   },
   {
    "duration": 489,
    "start_time": "2021-07-13T12:43:06.770Z"
   },
   {
    "duration": 648,
    "start_time": "2021-07-13T12:43:14.044Z"
   },
   {
    "duration": 498,
    "start_time": "2021-07-13T12:43:24.660Z"
   },
   {
    "duration": 497,
    "start_time": "2021-07-13T13:08:21.167Z"
   },
   {
    "duration": 250,
    "start_time": "2021-07-13T13:09:51.668Z"
   },
   {
    "duration": 4,
    "start_time": "2021-07-13T13:09:56.041Z"
   },
   {
    "duration": 16,
    "start_time": "2021-07-13T13:09:57.520Z"
   },
   {
    "duration": 5,
    "start_time": "2021-07-13T13:10:33.449Z"
   },
   {
    "duration": 36,
    "start_time": "2021-07-13T13:10:33.746Z"
   },
   {
    "duration": 8,
    "start_time": "2021-07-13T13:10:33.975Z"
   },
   {
    "duration": 6,
    "start_time": "2021-07-13T13:10:34.111Z"
   },
   {
    "duration": 11,
    "start_time": "2021-07-13T13:10:34.376Z"
   },
   {
    "duration": 5,
    "start_time": "2021-07-13T13:10:34.496Z"
   },
   {
    "duration": 7,
    "start_time": "2021-07-13T13:10:35.144Z"
   },
   {
    "duration": 38,
    "start_time": "2021-07-13T13:10:35.816Z"
   },
   {
    "duration": 4,
    "start_time": "2021-07-13T13:10:36.112Z"
   },
   {
    "duration": 12,
    "start_time": "2021-07-13T13:10:36.352Z"
   },
   {
    "duration": 11,
    "start_time": "2021-07-13T13:10:36.880Z"
   },
   {
    "duration": 259,
    "start_time": "2021-07-13T13:10:37.481Z"
   },
   {
    "duration": 8,
    "start_time": "2021-07-13T13:10:37.928Z"
   },
   {
    "duration": 518,
    "start_time": "2021-07-13T13:10:38.235Z"
   },
   {
    "duration": 4,
    "start_time": "2021-07-13T13:10:42.144Z"
   },
   {
    "duration": 4,
    "start_time": "2021-07-13T13:10:42.848Z"
   },
   {
    "duration": 16,
    "start_time": "2021-07-13T13:10:46.942Z"
   },
   {
    "duration": 4,
    "start_time": "2021-07-13T13:13:25.600Z"
   },
   {
    "duration": 1528,
    "start_time": "2021-07-14T07:06:14.594Z"
   },
   {
    "duration": 55,
    "start_time": "2021-07-14T07:06:16.125Z"
   },
   {
    "duration": 17,
    "start_time": "2021-07-14T07:06:16.183Z"
   },
   {
    "duration": 9,
    "start_time": "2021-07-14T07:06:16.203Z"
   },
   {
    "duration": 18,
    "start_time": "2021-07-14T07:06:16.214Z"
   },
   {
    "duration": 7,
    "start_time": "2021-07-14T07:06:16.235Z"
   },
   {
    "duration": 12,
    "start_time": "2021-07-14T07:06:16.245Z"
   },
   {
    "duration": 39,
    "start_time": "2021-07-14T07:06:16.301Z"
   },
   {
    "duration": 6,
    "start_time": "2021-07-14T07:06:16.489Z"
   },
   {
    "duration": 18,
    "start_time": "2021-07-14T07:06:16.730Z"
   },
   {
    "duration": 17,
    "start_time": "2021-07-14T07:06:17.130Z"
   },
   {
    "duration": 478,
    "start_time": "2021-07-14T07:06:17.738Z"
   },
   {
    "duration": 19,
    "start_time": "2021-07-14T07:06:18.220Z"
   },
   {
    "duration": 907,
    "start_time": "2021-07-14T07:06:18.962Z"
   },
   {
    "duration": 6,
    "start_time": "2021-07-14T07:06:25.362Z"
   },
   {
    "duration": 6,
    "start_time": "2021-07-14T07:06:26.329Z"
   },
   {
    "duration": 27,
    "start_time": "2021-07-14T07:06:26.769Z"
   },
   {
    "duration": 23,
    "start_time": "2021-07-14T07:14:50.422Z"
   },
   {
    "duration": 12,
    "start_time": "2021-07-14T07:34:19.307Z"
   },
   {
    "duration": 480,
    "start_time": "2021-07-14T07:37:11.542Z"
   },
   {
    "duration": 9,
    "start_time": "2021-07-14T07:39:03.165Z"
   },
   {
    "duration": 14,
    "start_time": "2021-07-14T07:41:33.134Z"
   },
   {
    "duration": 11,
    "start_time": "2021-07-14T07:43:36.069Z"
   },
   {
    "duration": 9,
    "start_time": "2021-07-14T07:43:40.788Z"
   },
   {
    "duration": 15,
    "start_time": "2021-07-14T07:43:41.348Z"
   },
   {
    "duration": 10,
    "start_time": "2021-07-14T07:49:06.836Z"
   },
   {
    "duration": 14,
    "start_time": "2021-07-14T07:49:07.329Z"
   },
   {
    "duration": 25,
    "start_time": "2021-07-14T07:50:13.641Z"
   },
   {
    "duration": 6016,
    "start_time": "2021-07-14T07:50:19.823Z"
   },
   {
    "duration": 20,
    "start_time": "2021-07-14T07:50:38.351Z"
   },
   {
    "duration": 2806,
    "start_time": "2021-07-14T08:18:25.736Z"
   },
   {
    "duration": 6,
    "start_time": "2021-07-14T08:19:11.949Z"
   },
   {
    "duration": 268,
    "start_time": "2021-07-14T08:19:20.511Z"
   },
   {
    "duration": 6,
    "start_time": "2021-07-14T08:19:32.481Z"
   },
   {
    "duration": 5,
    "start_time": "2021-07-14T08:19:36.503Z"
   },
   {
    "duration": 2242,
    "start_time": "2021-07-14T08:20:24.750Z"
   },
   {
    "duration": 6,
    "start_time": "2021-07-14T08:20:35.005Z"
   },
   {
    "duration": 5,
    "start_time": "2021-07-14T08:20:37.389Z"
   },
   {
    "duration": 2176,
    "start_time": "2021-07-14T08:22:47.066Z"
   },
   {
    "duration": 6,
    "start_time": "2021-07-14T08:24:41.900Z"
   },
   {
    "duration": 5,
    "start_time": "2021-07-14T08:25:12.397Z"
   },
   {
    "duration": 2791,
    "start_time": "2021-07-14T08:29:57.418Z"
   },
   {
    "duration": 5,
    "start_time": "2021-07-14T08:30:08.010Z"
   },
   {
    "duration": 7,
    "start_time": "2021-07-14T08:30:09.304Z"
   },
   {
    "duration": 4195,
    "start_time": "2021-07-14T08:32:37.068Z"
   },
   {
    "duration": 8036,
    "start_time": "2021-07-14T08:32:48.971Z"
   },
   {
    "duration": 3953,
    "start_time": "2021-07-14T08:33:01.289Z"
   },
   {
    "duration": 4048,
    "start_time": "2021-07-14T08:33:10.136Z"
   },
   {
    "duration": 4377,
    "start_time": "2021-07-14T08:33:16.985Z"
   },
   {
    "duration": 3897,
    "start_time": "2021-07-14T08:33:24.953Z"
   },
   {
    "duration": 4,
    "start_time": "2021-07-14T08:33:55.761Z"
   },
   {
    "duration": 5,
    "start_time": "2021-07-14T08:33:57.634Z"
   },
   {
    "duration": 4,
    "start_time": "2021-07-14T08:34:15.873Z"
   },
   {
    "duration": 175,
    "start_time": "2021-07-14T08:54:45.159Z"
   },
   {
    "duration": 222,
    "start_time": "2021-07-14T08:55:04.034Z"
   },
   {
    "duration": 10,
    "start_time": "2021-07-14T08:55:17.872Z"
   },
   {
    "duration": 17,
    "start_time": "2021-07-14T08:55:27.248Z"
   },
   {
    "duration": 3185,
    "start_time": "2021-07-14T08:55:40.488Z"
   },
   {
    "duration": 8087,
    "start_time": "2021-07-14T08:55:58.848Z"
   },
   {
    "duration": 8621,
    "start_time": "2021-07-14T08:57:11.397Z"
   },
   {
    "duration": 3408,
    "start_time": "2021-07-14T09:01:25.486Z"
   },
   {
    "duration": 7,
    "start_time": "2021-07-14T09:01:55.310Z"
   },
   {
    "duration": 4,
    "start_time": "2021-07-14T09:02:00.765Z"
   },
   {
    "duration": 4462,
    "start_time": "2021-07-14T09:12:57.530Z"
   },
   {
    "duration": 12568,
    "start_time": "2021-07-14T09:14:18.361Z"
   },
   {
    "duration": 4221,
    "start_time": "2021-07-14T09:14:37.672Z"
   },
   {
    "duration": 3517,
    "start_time": "2021-07-14T09:14:49.129Z"
   },
   {
    "duration": 4919,
    "start_time": "2021-07-14T09:14:56.957Z"
   },
   {
    "duration": 4374,
    "start_time": "2021-07-14T09:15:08.102Z"
   },
   {
    "duration": 7,
    "start_time": "2021-07-14T09:15:17.376Z"
   },
   {
    "duration": 7,
    "start_time": "2021-07-14T09:15:18.048Z"
   },
   {
    "duration": 6,
    "start_time": "2021-07-14T09:15:19.198Z"
   },
   {
    "duration": 26,
    "start_time": "2021-07-14T09:15:23.712Z"
   },
   {
    "duration": 4,
    "start_time": "2021-07-14T09:16:30.047Z"
   },
   {
    "duration": 9,
    "start_time": "2021-07-14T09:16:57.608Z"
   },
   {
    "duration": 5,
    "start_time": "2021-07-14T09:18:32.207Z"
   },
   {
    "duration": 5,
    "start_time": "2021-07-14T09:26:41.846Z"
   },
   {
    "duration": 1482,
    "start_time": "2021-07-14T09:35:35.126Z"
   },
   {
    "duration": 5,
    "start_time": "2021-07-14T09:37:16.155Z"
   },
   {
    "duration": 5,
    "start_time": "2021-07-14T09:38:57.527Z"
   },
   {
    "duration": 1200,
    "start_time": "2021-07-14T09:42:59.104Z"
   },
   {
    "duration": 1072,
    "start_time": "2021-07-14T09:43:06.638Z"
   },
   {
    "duration": 1119,
    "start_time": "2021-07-14T09:43:22.982Z"
   },
   {
    "duration": 94,
    "start_time": "2021-07-14T09:47:26.008Z"
   },
   {
    "duration": 6,
    "start_time": "2021-07-14T09:48:09.442Z"
   },
   {
    "duration": 6,
    "start_time": "2021-07-14T09:48:24.033Z"
   },
   {
    "duration": 217,
    "start_time": "2021-07-14T09:56:21.098Z"
   },
   {
    "duration": 52,
    "start_time": "2021-07-14T09:56:51.250Z"
   },
   {
    "duration": 56,
    "start_time": "2021-07-14T09:59:23.146Z"
   },
   {
    "duration": 13,
    "start_time": "2021-07-14T09:59:31.591Z"
   },
   {
    "duration": 39,
    "start_time": "2021-07-14T09:59:35.061Z"
   },
   {
    "duration": 4,
    "start_time": "2021-07-14T10:01:08.494Z"
   },
   {
    "duration": 18,
    "start_time": "2021-07-14T10:02:01.600Z"
   },
   {
    "duration": 5,
    "start_time": "2021-07-14T10:03:05.510Z"
   },
   {
    "duration": 4,
    "start_time": "2021-07-14T10:03:18.492Z"
   },
   {
    "duration": 2418,
    "start_time": "2021-07-14T10:07:08.882Z"
   },
   {
    "duration": 2587,
    "start_time": "2021-07-14T10:08:30.841Z"
   },
   {
    "duration": 2497,
    "start_time": "2021-07-14T10:08:56.334Z"
   },
   {
    "duration": 2630,
    "start_time": "2021-07-14T10:09:05.028Z"
   },
   {
    "duration": 2641,
    "start_time": "2021-07-14T10:09:26.202Z"
   },
   {
    "duration": 283,
    "start_time": "2021-07-14T10:13:09.792Z"
   },
   {
    "duration": 269,
    "start_time": "2021-07-14T10:14:54.931Z"
   },
   {
    "duration": 258,
    "start_time": "2021-07-14T10:15:15.578Z"
   },
   {
    "duration": 6,
    "start_time": "2021-07-14T10:15:30.113Z"
   },
   {
    "duration": 193,
    "start_time": "2021-07-14T10:18:21.161Z"
   },
   {
    "duration": 209,
    "start_time": "2021-07-14T10:19:10.695Z"
   },
   {
    "duration": 9,
    "start_time": "2021-07-14T10:19:23.344Z"
   },
   {
    "duration": 618,
    "start_time": "2021-07-14T10:22:45.342Z"
   },
   {
    "duration": 2645,
    "start_time": "2021-07-14T10:23:11.176Z"
   },
   {
    "duration": 8,
    "start_time": "2021-07-14T10:23:18.119Z"
   },
   {
    "duration": 37,
    "start_time": "2021-07-14T10:38:04.098Z"
   },
   {
    "duration": 9,
    "start_time": "2021-07-14T10:38:34.373Z"
   },
   {
    "duration": 193,
    "start_time": "2021-07-14T10:42:23.407Z"
   },
   {
    "duration": 3,
    "start_time": "2021-07-14T10:43:48.416Z"
   },
   {
    "duration": 4,
    "start_time": "2021-07-14T10:44:30.192Z"
   },
   {
    "duration": 9,
    "start_time": "2021-07-14T10:46:32.848Z"
   },
   {
    "duration": 8,
    "start_time": "2021-07-14T10:47:38.806Z"
   },
   {
    "duration": 212,
    "start_time": "2021-07-14T10:48:03.999Z"
   },
   {
    "duration": 19,
    "start_time": "2021-07-14T10:48:22.716Z"
   },
   {
    "duration": 16,
    "start_time": "2021-07-14T10:48:34.310Z"
   },
   {
    "duration": 6,
    "start_time": "2021-07-14T10:49:02.238Z"
   },
   {
    "duration": 5,
    "start_time": "2021-07-14T10:49:32.943Z"
   },
   {
    "duration": 6,
    "start_time": "2021-07-14T10:49:38.566Z"
   },
   {
    "duration": 261,
    "start_time": "2021-07-14T10:50:32.380Z"
   },
   {
    "duration": 258,
    "start_time": "2021-07-14T10:51:08.646Z"
   },
   {
    "duration": 18,
    "start_time": "2021-07-14T10:51:14.597Z"
   },
   {
    "duration": 5,
    "start_time": "2021-07-14T10:51:16.487Z"
   },
   {
    "duration": 79,
    "start_time": "2021-07-14T10:56:26.750Z"
   },
   {
    "duration": 258,
    "start_time": "2021-07-14T10:59:05.313Z"
   },
   {
    "duration": 28,
    "start_time": "2021-07-14T10:59:40.963Z"
   },
   {
    "duration": 30,
    "start_time": "2021-07-14T11:02:28.792Z"
   },
   {
    "duration": 43,
    "start_time": "2021-07-14T11:02:31.160Z"
   },
   {
    "duration": 9,
    "start_time": "2021-07-14T11:04:45.685Z"
   },
   {
    "duration": 8,
    "start_time": "2021-07-14T11:11:42.150Z"
   },
   {
    "duration": 8,
    "start_time": "2021-07-14T11:12:03.055Z"
   },
   {
    "duration": 9,
    "start_time": "2021-07-14T11:13:33.493Z"
   },
   {
    "duration": 8,
    "start_time": "2021-07-14T11:13:51.827Z"
   },
   {
    "duration": 7,
    "start_time": "2021-07-14T11:14:40.514Z"
   },
   {
    "duration": 8,
    "start_time": "2021-07-14T11:15:03.511Z"
   },
   {
    "duration": 2466,
    "start_time": "2021-07-14T11:15:12.780Z"
   },
   {
    "duration": 8,
    "start_time": "2021-07-14T11:15:15.248Z"
   },
   {
    "duration": 7,
    "start_time": "2021-07-14T11:15:34.044Z"
   },
   {
    "duration": 201,
    "start_time": "2021-07-14T11:22:20.660Z"
   },
   {
    "duration": 17,
    "start_time": "2021-07-14T11:22:53.295Z"
   },
   {
    "duration": 3619,
    "start_time": "2021-07-14T11:23:03.919Z"
   },
   {
    "duration": 89,
    "start_time": "2021-07-14T11:26:41.136Z"
   },
   {
    "duration": 3443,
    "start_time": "2021-07-14T11:26:50.250Z"
   },
   {
    "duration": 3518,
    "start_time": "2021-07-14T11:27:25.867Z"
   },
   {
    "duration": 3549,
    "start_time": "2021-07-14T11:27:48.558Z"
   },
   {
    "duration": 16276,
    "start_time": "2021-07-14T11:28:21.944Z"
   },
   {
    "duration": 190,
    "start_time": "2021-07-14T11:32:00.623Z"
   },
   {
    "duration": 16,
    "start_time": "2021-07-14T11:32:39.456Z"
   },
   {
    "duration": 748,
    "start_time": "2021-07-14T11:33:50.809Z"
   },
   {
    "duration": 17,
    "start_time": "2021-07-14T11:33:54.854Z"
   },
   {
    "duration": 16,
    "start_time": "2021-07-14T11:34:27.879Z"
   },
   {
    "duration": 2548,
    "start_time": "2021-07-14T11:37:14.992Z"
   },
   {
    "duration": 14,
    "start_time": "2021-07-14T11:37:20.663Z"
   },
   {
    "duration": 9,
    "start_time": "2021-07-14T11:37:23.380Z"
   },
   {
    "duration": 14,
    "start_time": "2021-07-14T11:38:51.150Z"
   },
   {
    "duration": 9,
    "start_time": "2021-07-14T11:39:12.507Z"
   },
   {
    "duration": 8,
    "start_time": "2021-07-14T11:39:39.213Z"
   },
   {
    "duration": 15,
    "start_time": "2021-07-14T11:39:50.164Z"
   },
   {
    "duration": 8,
    "start_time": "2021-07-14T11:40:01.538Z"
   },
   {
    "duration": 30,
    "start_time": "2021-07-14T11:40:19.305Z"
   },
   {
    "duration": 8,
    "start_time": "2021-07-14T11:41:17.541Z"
   },
   {
    "duration": 8,
    "start_time": "2021-07-14T11:42:06.147Z"
   },
   {
    "duration": 9,
    "start_time": "2021-07-14T11:42:28.141Z"
   },
   {
    "duration": 56,
    "start_time": "2021-07-14T11:42:28.589Z"
   },
   {
    "duration": 9,
    "start_time": "2021-07-14T11:42:29.744Z"
   },
   {
    "duration": 7,
    "start_time": "2021-07-14T11:42:29.952Z"
   },
   {
    "duration": 18,
    "start_time": "2021-07-14T11:42:30.244Z"
   },
   {
    "duration": 8,
    "start_time": "2021-07-14T11:42:30.375Z"
   },
   {
    "duration": 12,
    "start_time": "2021-07-14T11:42:30.619Z"
   },
   {
    "duration": 51,
    "start_time": "2021-07-14T11:42:31.003Z"
   },
   {
    "duration": 7,
    "start_time": "2021-07-14T11:42:31.273Z"
   },
   {
    "duration": 18,
    "start_time": "2021-07-14T11:42:31.554Z"
   },
   {
    "duration": 21,
    "start_time": "2021-07-14T11:42:32.389Z"
   },
   {
    "duration": 514,
    "start_time": "2021-07-14T11:42:33.341Z"
   },
   {
    "duration": 13,
    "start_time": "2021-07-14T11:42:34.206Z"
   },
   {
    "duration": 967,
    "start_time": "2021-07-14T11:42:35.990Z"
   },
   {
    "duration": 6,
    "start_time": "2021-07-14T11:42:38.311Z"
   },
   {
    "duration": 6,
    "start_time": "2021-07-14T11:42:40.608Z"
   },
   {
    "duration": 32,
    "start_time": "2021-07-14T11:42:42.605Z"
   },
   {
    "duration": 26,
    "start_time": "2021-07-14T11:42:43.409Z"
   },
   {
    "duration": 11,
    "start_time": "2021-07-14T11:43:45.963Z"
   },
   {
    "duration": 19,
    "start_time": "2021-07-14T11:43:46.980Z"
   },
   {
    "duration": 7,
    "start_time": "2021-07-14T11:43:49.827Z"
   },
   {
    "duration": 12,
    "start_time": "2021-07-14T11:43:50.986Z"
   },
   {
    "duration": 7,
    "start_time": "2021-07-14T11:44:27.022Z"
   },
   {
    "duration": 6,
    "start_time": "2021-07-14T11:44:49.831Z"
   },
   {
    "duration": 3918,
    "start_time": "2021-07-14T11:45:36.206Z"
   },
   {
    "duration": 4,
    "start_time": "2021-07-14T11:46:05.420Z"
   },
   {
    "duration": 6,
    "start_time": "2021-07-14T11:46:10.000Z"
   },
   {
    "duration": 273,
    "start_time": "2021-07-14T11:47:05.846Z"
   },
   {
    "duration": 6,
    "start_time": "2021-07-14T11:48:07.216Z"
   },
   {
    "duration": 6,
    "start_time": "2021-07-14T11:49:02.027Z"
   },
   {
    "duration": 5,
    "start_time": "2021-07-14T11:49:14.662Z"
   },
   {
    "duration": 4922,
    "start_time": "2021-07-14T11:49:16.386Z"
   },
   {
    "duration": 1050,
    "start_time": "2021-07-14T11:49:49.456Z"
   },
   {
    "duration": 1063,
    "start_time": "2021-07-14T11:50:06.943Z"
   },
   {
    "duration": 752,
    "start_time": "2021-07-14T11:50:19.162Z"
   },
   {
    "duration": 1100,
    "start_time": "2021-07-14T11:50:28.005Z"
   },
   {
    "duration": 1186,
    "start_time": "2021-07-14T11:50:35.018Z"
   },
   {
    "duration": 24,
    "start_time": "2021-07-14T11:51:04.855Z"
   },
   {
    "duration": 6,
    "start_time": "2021-07-14T11:51:08.895Z"
   },
   {
    "duration": 25,
    "start_time": "2021-07-14T11:51:31.088Z"
   },
   {
    "duration": 10,
    "start_time": "2021-07-14T11:53:36.075Z"
   },
   {
    "duration": 101,
    "start_time": "2021-07-14T11:54:29.199Z"
   },
   {
    "duration": 3,
    "start_time": "2021-07-14T11:54:46.583Z"
   },
   {
    "duration": 4,
    "start_time": "2021-07-14T11:55:42.491Z"
   },
   {
    "duration": 32,
    "start_time": "2021-07-14T11:55:50.905Z"
   },
   {
    "duration": 44,
    "start_time": "2021-07-14T11:55:51.557Z"
   },
   {
    "duration": 80,
    "start_time": "2021-07-14T11:56:09.721Z"
   },
   {
    "duration": 2567,
    "start_time": "2021-07-14T11:56:50.324Z"
   },
   {
    "duration": 16,
    "start_time": "2021-07-14T11:57:10.946Z"
   },
   {
    "duration": 8,
    "start_time": "2021-07-14T11:58:13.558Z"
   },
   {
    "duration": 4,
    "start_time": "2021-07-14T11:58:30.602Z"
   },
   {
    "duration": 16969,
    "start_time": "2021-07-14T11:59:22.270Z"
   },
   {
    "duration": 17045,
    "start_time": "2021-07-14T11:59:39.876Z"
   },
   {
    "duration": 765,
    "start_time": "2021-07-14T12:00:05.708Z"
   },
   {
    "duration": 106,
    "start_time": "2021-07-14T12:03:40.408Z"
   },
   {
    "duration": 4,
    "start_time": "2021-07-14T12:03:45.836Z"
   },
   {
    "duration": 4,
    "start_time": "2021-07-14T12:03:53.102Z"
   },
   {
    "duration": 4,
    "start_time": "2021-07-14T12:04:45.466Z"
   },
   {
    "duration": 4,
    "start_time": "2021-07-14T12:05:53.828Z"
   },
   {
    "duration": 755,
    "start_time": "2021-07-14T12:06:02.148Z"
   },
   {
    "duration": 18,
    "start_time": "2021-07-14T12:06:02.905Z"
   },
   {
    "duration": 4,
    "start_time": "2021-07-14T12:07:51.452Z"
   },
   {
    "duration": 15,
    "start_time": "2021-07-14T12:07:57.228Z"
   },
   {
    "duration": 4,
    "start_time": "2021-07-14T12:08:12.677Z"
   },
   {
    "duration": 4,
    "start_time": "2021-07-14T12:08:18.252Z"
   },
   {
    "duration": 3,
    "start_time": "2021-07-14T12:09:50.565Z"
   },
   {
    "duration": 6,
    "start_time": "2021-07-14T12:10:01.213Z"
   },
   {
    "duration": 73,
    "start_time": "2021-07-14T12:10:06.629Z"
   },
   {
    "duration": 20,
    "start_time": "2021-07-14T12:10:28.597Z"
   },
   {
    "duration": 4,
    "start_time": "2021-07-14T12:10:41.101Z"
   },
   {
    "duration": 4,
    "start_time": "2021-07-14T12:10:43.165Z"
   },
   {
    "duration": 17,
    "start_time": "2021-07-14T12:10:44.943Z"
   },
   {
    "duration": 6,
    "start_time": "2021-07-14T12:10:47.092Z"
   },
   {
    "duration": 24,
    "start_time": "2021-07-14T12:11:23.404Z"
   },
   {
    "duration": 5,
    "start_time": "2021-07-14T12:11:32.876Z"
   },
   {
    "duration": 9,
    "start_time": "2021-07-14T12:11:45.860Z"
   },
   {
    "duration": 8,
    "start_time": "2021-07-14T12:11:50.893Z"
   },
   {
    "duration": 15,
    "start_time": "2021-07-14T12:11:57.852Z"
   },
   {
    "duration": 7,
    "start_time": "2021-07-14T12:12:00.429Z"
   },
   {
    "duration": 266,
    "start_time": "2021-07-14T12:18:27.466Z"
   },
   {
    "duration": 3,
    "start_time": "2021-07-14T12:19:45.231Z"
   },
   {
    "duration": 265,
    "start_time": "2021-07-14T12:19:50.115Z"
   },
   {
    "duration": 18,
    "start_time": "2021-07-14T12:19:57.130Z"
   },
   {
    "duration": 5,
    "start_time": "2021-07-14T12:20:19.720Z"
   },
   {
    "duration": 5,
    "start_time": "2021-07-14T12:20:25.057Z"
   },
   {
    "duration": 4,
    "start_time": "2021-07-14T12:20:29.761Z"
   },
   {
    "duration": 5,
    "start_time": "2021-07-14T12:20:33.136Z"
   },
   {
    "duration": 6,
    "start_time": "2021-07-14T12:20:37.400Z"
   },
   {
    "duration": 18,
    "start_time": "2021-07-14T12:21:06.391Z"
   },
   {
    "duration": 4,
    "start_time": "2021-07-14T12:21:20.080Z"
   },
   {
    "duration": 16,
    "start_time": "2021-07-14T12:21:23.789Z"
   },
   {
    "duration": 6,
    "start_time": "2021-07-14T12:22:26.632Z"
   },
   {
    "duration": 297,
    "start_time": "2021-07-14T12:22:39.033Z"
   },
   {
    "duration": 7,
    "start_time": "2021-07-14T12:22:49.463Z"
   },
   {
    "duration": 590,
    "start_time": "2021-07-14T12:23:41.704Z"
   },
   {
    "duration": 6583,
    "start_time": "2021-07-14T12:23:44.584Z"
   },
   {
    "duration": 301,
    "start_time": "2021-07-14T12:23:53.793Z"
   },
   {
    "duration": 8,
    "start_time": "2021-07-14T12:25:55.323Z"
   },
   {
    "duration": 8,
    "start_time": "2021-07-14T12:26:30.494Z"
   },
   {
    "duration": 8,
    "start_time": "2021-07-14T12:26:49.164Z"
   },
   {
    "duration": 7,
    "start_time": "2021-07-14T12:26:55.489Z"
   },
   {
    "duration": 6,
    "start_time": "2021-07-14T12:27:05.958Z"
   },
   {
    "duration": 7,
    "start_time": "2021-07-14T12:27:10.534Z"
   },
   {
    "duration": 13,
    "start_time": "2021-07-14T12:27:14.342Z"
   },
   {
    "duration": 295,
    "start_time": "2021-07-14T12:27:32.846Z"
   },
   {
    "duration": 7,
    "start_time": "2021-07-14T12:27:49.246Z"
   },
   {
    "duration": 1537,
    "start_time": "2021-07-15T10:29:53.528Z"
   },
   {
    "duration": 56,
    "start_time": "2021-07-15T10:29:55.067Z"
   },
   {
    "duration": 8,
    "start_time": "2021-07-15T10:29:55.126Z"
   },
   {
    "duration": 23,
    "start_time": "2021-07-15T10:29:55.137Z"
   },
   {
    "duration": 17,
    "start_time": "2021-07-15T10:29:55.162Z"
   },
   {
    "duration": 7,
    "start_time": "2021-07-15T10:29:55.182Z"
   },
   {
    "duration": 13,
    "start_time": "2021-07-15T10:29:55.191Z"
   },
   {
    "duration": 78,
    "start_time": "2021-07-15T10:29:55.207Z"
   },
   {
    "duration": 5,
    "start_time": "2021-07-15T10:29:55.734Z"
   },
   {
    "duration": 18,
    "start_time": "2021-07-15T10:29:56.413Z"
   },
   {
    "duration": 17,
    "start_time": "2021-07-15T10:30:02.128Z"
   },
   {
    "duration": 474,
    "start_time": "2021-07-15T10:52:19.130Z"
   },
   {
    "duration": 18,
    "start_time": "2021-07-15T10:52:43.758Z"
   },
   {
    "duration": 903,
    "start_time": "2021-07-15T10:52:48.183Z"
   },
   {
    "duration": 6,
    "start_time": "2021-07-15T10:52:58.454Z"
   },
   {
    "duration": 5,
    "start_time": "2021-07-15T10:52:59.303Z"
   },
   {
    "duration": 5,
    "start_time": "2021-07-15T10:59:51.414Z"
   },
   {
    "duration": 20,
    "start_time": "2021-07-15T10:59:51.892Z"
   },
   {
    "duration": 21,
    "start_time": "2021-07-15T10:59:54.554Z"
   },
   {
    "duration": 11,
    "start_time": "2021-07-15T10:59:58.364Z"
   },
   {
    "duration": 19,
    "start_time": "2021-07-15T10:59:59.532Z"
   },
   {
    "duration": 78,
    "start_time": "2021-07-15T11:00:07.336Z"
   },
   {
    "duration": 15,
    "start_time": "2021-07-15T11:00:07.477Z"
   },
   {
    "duration": 6,
    "start_time": "2021-07-15T11:00:07.636Z"
   },
   {
    "duration": 8164,
    "start_time": "2021-07-15T11:04:03.793Z"
   },
   {
    "duration": 2848,
    "start_time": "2021-07-15T11:05:08.992Z"
   },
   {
    "duration": 3421,
    "start_time": "2021-07-15T11:05:51.360Z"
   },
   {
    "duration": 11787,
    "start_time": "2021-07-15T11:16:16.544Z"
   },
   {
    "duration": 4,
    "start_time": "2021-07-15T11:22:33.788Z"
   },
   {
    "duration": 7,
    "start_time": "2021-07-15T11:22:34.659Z"
   },
   {
    "duration": 6,
    "start_time": "2021-07-15T11:32:53.417Z"
   },
   {
    "duration": 4,
    "start_time": "2021-07-15T11:33:05.246Z"
   },
   {
    "duration": 1682,
    "start_time": "2021-07-15T11:33:06.678Z"
   },
   {
    "duration": 45,
    "start_time": "2021-07-15T11:33:13.712Z"
   },
   {
    "duration": 4,
    "start_time": "2021-07-15T11:33:26.062Z"
   },
   {
    "duration": 9,
    "start_time": "2021-07-15T11:33:27.734Z"
   },
   {
    "duration": 7,
    "start_time": "2021-07-15T11:33:29.086Z"
   },
   {
    "duration": 4,
    "start_time": "2021-07-15T11:33:32.141Z"
   },
   {
    "duration": 4,
    "start_time": "2021-07-15T11:33:32.805Z"
   },
   {
    "duration": 26,
    "start_time": "2021-07-15T11:33:34.693Z"
   },
   {
    "duration": 13,
    "start_time": "2021-07-15T11:33:36.918Z"
   },
   {
    "duration": 1810,
    "start_time": "2021-07-15T11:33:39.637Z"
   },
   {
    "duration": 13,
    "start_time": "2021-07-15T11:33:41.455Z"
   },
   {
    "duration": 8,
    "start_time": "2021-07-15T11:33:47.184Z"
   },
   {
    "duration": 3,
    "start_time": "2021-07-15T11:33:47.766Z"
   },
   {
    "duration": 11891,
    "start_time": "2021-07-15T11:33:49.923Z"
   },
   {
    "duration": 511,
    "start_time": "2021-07-15T11:34:01.817Z"
   },
   {
    "duration": 28,
    "start_time": "2021-07-15T11:34:02.330Z"
   },
   {
    "duration": 3,
    "start_time": "2021-07-15T11:34:02.361Z"
   },
   {
    "duration": 18,
    "start_time": "2021-07-15T11:34:02.367Z"
   },
   {
    "duration": 7,
    "start_time": "2021-07-15T11:34:02.388Z"
   },
   {
    "duration": 12,
    "start_time": "2021-07-15T11:34:02.397Z"
   },
   {
    "duration": 45,
    "start_time": "2021-07-15T11:34:02.412Z"
   },
   {
    "duration": 4,
    "start_time": "2021-07-15T11:34:07.742Z"
   },
   {
    "duration": 5,
    "start_time": "2021-07-15T11:34:08.302Z"
   },
   {
    "duration": 8,
    "start_time": "2021-07-15T11:34:09.112Z"
   },
   {
    "duration": 8,
    "start_time": "2021-07-15T11:34:09.735Z"
   },
   {
    "duration": 13,
    "start_time": "2021-07-15T11:34:10.397Z"
   },
   {
    "duration": 16,
    "start_time": "2021-07-15T11:34:11.019Z"
   },
   {
    "duration": 7,
    "start_time": "2021-07-15T11:34:11.326Z"
   },
   {
    "duration": 8,
    "start_time": "2021-07-15T11:34:11.588Z"
   },
   {
    "duration": 7,
    "start_time": "2021-07-15T11:34:12.414Z"
   },
   {
    "duration": 11008,
    "start_time": "2021-07-15T11:39:56.229Z"
   },
   {
    "duration": 7527,
    "start_time": "2021-07-15T11:40:14.573Z"
   },
   {
    "duration": 6988,
    "start_time": "2021-07-15T11:40:29.529Z"
   },
   {
    "duration": 23311,
    "start_time": "2021-07-15T11:40:41.252Z"
   },
   {
    "duration": 7610,
    "start_time": "2021-07-15T11:41:11.812Z"
   },
   {
    "duration": 22113,
    "start_time": "2021-07-15T11:41:42.259Z"
   },
   {
    "duration": 6,
    "start_time": "2021-07-15T11:42:24.283Z"
   },
   {
    "duration": 1842,
    "start_time": "2021-07-15T11:42:34.323Z"
   },
   {
    "duration": 6434,
    "start_time": "2021-07-15T11:42:50.642Z"
   },
   {
    "duration": 3803,
    "start_time": "2021-07-15T11:43:35.963Z"
   },
   {
    "duration": 8,
    "start_time": "2021-07-15T11:54:58.650Z"
   },
   {
    "duration": 6,
    "start_time": "2021-07-15T11:55:09.955Z"
   },
   {
    "duration": 412,
    "start_time": "2021-07-15T11:55:31.774Z"
   },
   {
    "duration": 76,
    "start_time": "2021-07-15T11:56:27.667Z"
   },
   {
    "duration": 37,
    "start_time": "2021-07-15T12:02:36.350Z"
   },
   {
    "duration": 34,
    "start_time": "2021-07-15T12:03:18.316Z"
   },
   {
    "duration": 33,
    "start_time": "2021-07-15T12:03:26.621Z"
   },
   {
    "duration": 33,
    "start_time": "2021-07-15T12:04:21.323Z"
   },
   {
    "duration": 6861,
    "start_time": "2021-07-15T12:07:11.503Z"
   },
   {
    "duration": 20,
    "start_time": "2021-07-15T12:07:36.777Z"
   },
   {
    "duration": 7,
    "start_time": "2021-07-15T12:08:37.264Z"
   },
   {
    "duration": 52,
    "start_time": "2021-07-15T12:08:37.797Z"
   },
   {
    "duration": 10,
    "start_time": "2021-07-15T12:08:37.879Z"
   },
   {
    "duration": 8,
    "start_time": "2021-07-15T12:08:37.913Z"
   },
   {
    "duration": 19,
    "start_time": "2021-07-15T12:08:37.967Z"
   },
   {
    "duration": 7,
    "start_time": "2021-07-15T12:08:37.994Z"
   },
   {
    "duration": 11,
    "start_time": "2021-07-15T12:08:38.055Z"
   },
   {
    "duration": 40,
    "start_time": "2021-07-15T12:08:38.166Z"
   },
   {
    "duration": 5,
    "start_time": "2021-07-15T12:08:38.221Z"
   },
   {
    "duration": 17,
    "start_time": "2021-07-15T12:08:38.330Z"
   },
   {
    "duration": 16,
    "start_time": "2021-07-15T12:08:38.485Z"
   },
   {
    "duration": 475,
    "start_time": "2021-07-15T12:08:38.595Z"
   },
   {
    "duration": 12,
    "start_time": "2021-07-15T12:08:39.072Z"
   },
   {
    "duration": 931,
    "start_time": "2021-07-15T12:08:39.087Z"
   },
   {
    "duration": 7,
    "start_time": "2021-07-15T12:08:40.021Z"
   },
   {
    "duration": 27,
    "start_time": "2021-07-15T12:08:40.030Z"
   },
   {
    "duration": 25,
    "start_time": "2021-07-15T12:08:40.060Z"
   },
   {
    "duration": 21,
    "start_time": "2021-07-15T12:08:40.088Z"
   },
   {
    "duration": 43,
    "start_time": "2021-07-15T12:08:40.113Z"
   },
   {
    "duration": 18,
    "start_time": "2021-07-15T12:08:40.158Z"
   },
   {
    "duration": 17,
    "start_time": "2021-07-15T12:08:40.178Z"
   },
   {
    "duration": 23,
    "start_time": "2021-07-15T12:08:40.197Z"
   },
   {
    "duration": 6,
    "start_time": "2021-07-15T12:08:40.223Z"
   },
   {
    "duration": 21318,
    "start_time": "2021-07-15T12:08:40.328Z"
   },
   {
    "duration": 4,
    "start_time": "2021-07-15T12:09:01.649Z"
   },
   {
    "duration": 18,
    "start_time": "2021-07-15T12:09:01.656Z"
   },
   {
    "duration": 15,
    "start_time": "2021-07-15T12:09:01.677Z"
   },
   {
    "duration": 8,
    "start_time": "2021-07-15T12:09:01.695Z"
   },
   {
    "duration": 3659,
    "start_time": "2021-07-15T12:09:01.705Z"
   },
   {
    "duration": 206,
    "start_time": "2021-07-15T12:09:05.367Z"
   },
   {
    "duration": 5,
    "start_time": "2021-07-15T12:09:05.657Z"
   },
   {
    "duration": 11,
    "start_time": "2021-07-15T12:09:05.665Z"
   },
   {
    "duration": 9,
    "start_time": "2021-07-15T12:09:05.679Z"
   },
   {
    "duration": 8,
    "start_time": "2021-07-15T12:09:05.756Z"
   },
   {
    "duration": 12,
    "start_time": "2021-07-15T12:09:05.767Z"
   },
   {
    "duration": 94,
    "start_time": "2021-07-15T12:09:05.781Z"
   },
   {
    "duration": 7343,
    "start_time": "2021-07-15T12:09:05.878Z"
   },
   {
    "duration": 25,
    "start_time": "2021-07-15T12:09:57.385Z"
   },
   {
    "duration": 39,
    "start_time": "2021-07-15T12:10:06.862Z"
   },
   {
    "duration": 39,
    "start_time": "2021-07-15T12:10:29.566Z"
   },
   {
    "duration": 10,
    "start_time": "2021-07-15T12:10:38.720Z"
   },
   {
    "duration": 2234,
    "start_time": "2021-07-15T12:11:21.184Z"
   },
   {
    "duration": 16,
    "start_time": "2021-07-15T12:11:28.519Z"
   },
   {
    "duration": 10,
    "start_time": "2021-07-15T12:11:32.075Z"
   },
   {
    "duration": 4,
    "start_time": "2021-07-15T12:11:35.176Z"
   },
   {
    "duration": 12176,
    "start_time": "2021-07-15T12:11:38.040Z"
   },
   {
    "duration": 500,
    "start_time": "2021-07-15T12:11:50.218Z"
   },
   {
    "duration": 17,
    "start_time": "2021-07-15T12:12:06.551Z"
   },
   {
    "duration": 4,
    "start_time": "2021-07-15T12:12:06.793Z"
   },
   {
    "duration": 3443,
    "start_time": "2021-07-15T12:12:07.463Z"
   },
   {
    "duration": 15,
    "start_time": "2021-07-15T12:23:59.759Z"
   },
   {
    "duration": 11,
    "start_time": "2021-07-15T12:24:35.075Z"
   },
   {
    "duration": 7,
    "start_time": "2021-07-15T12:25:08.933Z"
   },
   {
    "duration": 51,
    "start_time": "2021-07-15T12:25:09.136Z"
   },
   {
    "duration": 9,
    "start_time": "2021-07-15T12:25:09.429Z"
   },
   {
    "duration": 9,
    "start_time": "2021-07-15T12:25:09.561Z"
   },
   {
    "duration": 18,
    "start_time": "2021-07-15T12:25:09.809Z"
   },
   {
    "duration": 9,
    "start_time": "2021-07-15T12:25:09.927Z"
   },
   {
    "duration": 13,
    "start_time": "2021-07-15T12:25:10.185Z"
   },
   {
    "duration": 51,
    "start_time": "2021-07-15T12:25:10.594Z"
   },
   {
    "duration": 6,
    "start_time": "2021-07-15T12:25:10.858Z"
   },
   {
    "duration": 17,
    "start_time": "2021-07-15T12:25:11.258Z"
   },
   {
    "duration": 16,
    "start_time": "2021-07-15T12:25:13.314Z"
   },
   {
    "duration": 477,
    "start_time": "2021-07-15T12:25:13.701Z"
   },
   {
    "duration": 12,
    "start_time": "2021-07-15T12:25:14.180Z"
   },
   {
    "duration": 890,
    "start_time": "2021-07-15T12:25:14.465Z"
   },
   {
    "duration": 6,
    "start_time": "2021-07-15T12:25:16.256Z"
   },
   {
    "duration": 6,
    "start_time": "2021-07-15T12:25:17.384Z"
   },
   {
    "duration": 20,
    "start_time": "2021-07-15T12:25:17.583Z"
   },
   {
    "duration": 21,
    "start_time": "2021-07-15T12:25:18.248Z"
   },
   {
    "duration": 11,
    "start_time": "2021-07-15T12:25:18.577Z"
   },
   {
    "duration": 17,
    "start_time": "2021-07-15T12:25:18.834Z"
   },
   {
    "duration": 13,
    "start_time": "2021-07-15T12:25:19.242Z"
   },
   {
    "duration": 11,
    "start_time": "2021-07-15T12:25:19.417Z"
   },
   {
    "duration": 19,
    "start_time": "2021-07-15T12:25:20.890Z"
   },
   {
    "duration": 17,
    "start_time": "2021-07-15T12:25:21.716Z"
   },
   {
    "duration": 5,
    "start_time": "2021-07-15T12:25:22.584Z"
   },
   {
    "duration": 9,
    "start_time": "2021-07-15T12:28:26.907Z"
   },
   {
    "duration": 9,
    "start_time": "2021-07-15T12:30:33.851Z"
   },
   {
    "duration": -180,
    "start_time": "2021-07-15T12:31:19.079Z"
   },
   {
    "duration": -182,
    "start_time": "2021-07-15T12:31:19.082Z"
   },
   {
    "duration": 8,
    "start_time": "2021-07-15T12:31:23.552Z"
   },
   {
    "duration": 34028,
    "start_time": "2021-07-15T12:31:24.573Z"
   },
   {
    "duration": 6,
    "start_time": "2021-07-15T12:32:13.365Z"
   },
   {
    "duration": 5,
    "start_time": "2021-07-15T12:32:19.645Z"
   },
   {
    "duration": 36351,
    "start_time": "2021-07-15T12:33:12.968Z"
   },
   {
    "duration": 5,
    "start_time": "2021-07-15T12:33:58.550Z"
   },
   {
    "duration": 5,
    "start_time": "2021-07-15T12:35:11.495Z"
   },
   {
    "duration": 317,
    "start_time": "2021-07-15T12:36:13.347Z"
   },
   {
    "duration": 5,
    "start_time": "2021-07-15T12:36:38.630Z"
   },
   {
    "duration": 188,
    "start_time": "2021-07-15T12:37:46.661Z"
   },
   {
    "duration": 5,
    "start_time": "2021-07-15T12:39:12.183Z"
   },
   {
    "duration": 190,
    "start_time": "2021-07-15T12:44:24.180Z"
   },
   {
    "duration": 3,
    "start_time": "2021-07-15T12:48:33.934Z"
   },
   {
    "duration": 8114,
    "start_time": "2021-07-15T12:48:36.144Z"
   },
   {
    "duration": 4,
    "start_time": "2021-07-15T12:50:15.350Z"
   },
   {
    "duration": 6,
    "start_time": "2021-07-15T12:50:26.399Z"
   },
   {
    "duration": 194,
    "start_time": "2021-07-15T12:50:52.432Z"
   },
   {
    "duration": 4,
    "start_time": "2021-07-15T12:53:26.597Z"
   },
   {
    "duration": 198,
    "start_time": "2021-07-15T12:53:28.262Z"
   },
   {
    "duration": 7769,
    "start_time": "2021-07-15T12:53:46.198Z"
   },
   {
    "duration": 4,
    "start_time": "2021-07-15T12:58:57.121Z"
   },
   {
    "duration": 6,
    "start_time": "2021-07-15T12:58:59.564Z"
   },
   {
    "duration": 4890,
    "start_time": "2021-07-15T12:59:01.978Z"
   },
   {
    "duration": 10,
    "start_time": "2021-07-15T13:01:17.901Z"
   },
   {
    "duration": 9,
    "start_time": "2021-07-15T13:01:20.772Z"
   },
   {
    "duration": 15,
    "start_time": "2021-07-15T13:01:23.973Z"
   },
   {
    "duration": 6,
    "start_time": "2021-07-15T13:01:26.620Z"
   },
   {
    "duration": 9,
    "start_time": "2021-07-15T13:01:28.413Z"
   },
   {
    "duration": 37121,
    "start_time": "2021-07-15T13:01:29.029Z"
   },
   {
    "duration": 5,
    "start_time": "2021-07-15T13:02:14.831Z"
   },
   {
    "duration": 6,
    "start_time": "2021-07-15T13:02:16.389Z"
   },
   {
    "duration": 5,
    "start_time": "2021-07-15T13:02:18.006Z"
   },
   {
    "duration": 4873,
    "start_time": "2021-07-15T13:02:20.196Z"
   },
   {
    "duration": 3635,
    "start_time": "2021-07-15T13:02:32.629Z"
   },
   {
    "duration": 170,
    "start_time": "2021-07-15T13:02:45.705Z"
   },
   {
    "duration": 4,
    "start_time": "2021-07-15T13:02:48.159Z"
   },
   {
    "duration": 12,
    "start_time": "2021-07-15T13:02:50.286Z"
   },
   {
    "duration": 9,
    "start_time": "2021-07-15T13:02:51.238Z"
   },
   {
    "duration": 3,
    "start_time": "2021-07-15T13:03:00.806Z"
   },
   {
    "duration": 5,
    "start_time": "2021-07-15T13:03:01.736Z"
   },
   {
    "duration": 45,
    "start_time": "2021-07-15T13:03:03.680Z"
   },
   {
    "duration": 38,
    "start_time": "2021-07-15T13:03:04.814Z"
   },
   {
    "duration": 12,
    "start_time": "2021-07-15T13:03:14.148Z"
   },
   {
    "duration": 7,
    "start_time": "2021-07-15T14:12:54.871Z"
   },
   {
    "duration": 33393,
    "start_time": "2021-07-15T14:13:04.844Z"
   },
   {
    "duration": 5,
    "start_time": "2021-07-15T14:13:41.700Z"
   },
   {
    "duration": 223,
    "start_time": "2021-07-15T14:14:31.781Z"
   },
   {
    "duration": 9,
    "start_time": "2021-07-15T14:15:28.259Z"
   },
   {
    "duration": 9,
    "start_time": "2021-07-15T14:15:55.550Z"
   },
   {
    "duration": 7,
    "start_time": "2021-07-15T14:16:05.418Z"
   },
   {
    "duration": 5076,
    "start_time": "2021-07-15T14:17:22.786Z"
   },
   {
    "duration": 276,
    "start_time": "2021-07-15T14:17:59.385Z"
   },
   {
    "duration": 5,
    "start_time": "2021-07-15T14:18:18.690Z"
   },
   {
    "duration": 1535,
    "start_time": "2021-07-15T14:18:42.952Z"
   },
   {
    "duration": 56,
    "start_time": "2021-07-15T14:18:44.489Z"
   },
   {
    "duration": 12,
    "start_time": "2021-07-15T14:18:44.548Z"
   },
   {
    "duration": 7,
    "start_time": "2021-07-15T14:18:44.563Z"
   },
   {
    "duration": 19,
    "start_time": "2021-07-15T14:18:44.572Z"
   },
   {
    "duration": 7,
    "start_time": "2021-07-15T14:18:44.593Z"
   },
   {
    "duration": 11,
    "start_time": "2021-07-15T14:18:44.602Z"
   },
   {
    "duration": 38,
    "start_time": "2021-07-15T14:18:44.709Z"
   },
   {
    "duration": 6,
    "start_time": "2021-07-15T14:18:44.942Z"
   },
   {
    "duration": 18,
    "start_time": "2021-07-15T14:18:45.367Z"
   },
   {
    "duration": 17,
    "start_time": "2021-07-15T14:18:46.614Z"
   },
   {
    "duration": 486,
    "start_time": "2021-07-15T14:18:52.160Z"
   },
   {
    "duration": 18,
    "start_time": "2021-07-15T14:18:52.759Z"
   },
   {
    "duration": 948,
    "start_time": "2021-07-15T14:18:53.444Z"
   },
   {
    "duration": 5,
    "start_time": "2021-07-15T14:18:55.375Z"
   },
   {
    "duration": 6,
    "start_time": "2021-07-15T14:18:57.702Z"
   },
   {
    "duration": 20,
    "start_time": "2021-07-15T14:18:58.071Z"
   },
   {
    "duration": 19,
    "start_time": "2021-07-15T14:18:59.319Z"
   },
   {
    "duration": 11,
    "start_time": "2021-07-15T14:23:18.885Z"
   },
   {
    "duration": 19,
    "start_time": "2021-07-15T14:23:19.917Z"
   },
   {
    "duration": 81,
    "start_time": "2021-07-15T14:23:21.045Z"
   },
   {
    "duration": 12,
    "start_time": "2021-07-15T14:23:21.404Z"
   },
   {
    "duration": 9,
    "start_time": "2021-07-15T14:23:22.148Z"
   },
   {
    "duration": 16,
    "start_time": "2021-07-15T14:23:24.810Z"
   },
   {
    "duration": 6,
    "start_time": "2021-07-15T14:23:25.691Z"
   },
   {
    "duration": 12,
    "start_time": "2021-07-15T14:25:52.749Z"
   },
   {
    "duration": 528,
    "start_time": "2021-07-15T14:29:21.275Z"
   },
   {
    "duration": 35168,
    "start_time": "2021-07-15T14:29:28.562Z"
   },
   {
    "duration": 5,
    "start_time": "2021-07-15T14:30:08.353Z"
   },
   {
    "duration": 8,
    "start_time": "2021-07-15T14:30:09.866Z"
   },
   {
    "duration": 5,
    "start_time": "2021-07-15T14:30:38.332Z"
   },
   {
    "duration": 4,
    "start_time": "2021-07-15T14:30:42.201Z"
   },
   {
    "duration": 3695,
    "start_time": "2021-07-15T14:30:43.161Z"
   },
   {
    "duration": 157,
    "start_time": "2021-07-15T14:32:06.009Z"
   },
   {
    "duration": 5,
    "start_time": "2021-07-15T14:32:07.337Z"
   },
   {
    "duration": 12,
    "start_time": "2021-07-15T14:32:12.664Z"
   },
   {
    "duration": 10,
    "start_time": "2021-07-15T14:32:13.302Z"
   },
   {
    "duration": 4,
    "start_time": "2021-07-15T14:32:13.752Z"
   },
   {
    "duration": 4,
    "start_time": "2021-07-15T14:32:14.456Z"
   },
   {
    "duration": 4,
    "start_time": "2021-07-15T14:32:58.825Z"
   },
   {
    "duration": 39,
    "start_time": "2021-07-15T14:33:06.531Z"
   },
   {
    "duration": 38,
    "start_time": "2021-07-15T14:33:07.290Z"
   },
   {
    "duration": 11,
    "start_time": "2021-07-15T14:33:11.799Z"
   },
   {
    "duration": 2145,
    "start_time": "2021-07-15T14:33:21.208Z"
   },
   {
    "duration": 18,
    "start_time": "2021-07-15T14:33:29.545Z"
   },
   {
    "duration": 10,
    "start_time": "2021-07-15T14:33:32.544Z"
   },
   {
    "duration": 3,
    "start_time": "2021-07-15T14:33:37.392Z"
   },
   {
    "duration": 12336,
    "start_time": "2021-07-15T14:33:50.520Z"
   },
   {
    "duration": 488,
    "start_time": "2021-07-15T14:34:12.236Z"
   },
   {
    "duration": 32,
    "start_time": "2021-07-15T14:34:12.726Z"
   },
   {
    "duration": 3,
    "start_time": "2021-07-15T14:34:14.783Z"
   },
   {
    "duration": 6,
    "start_time": "2021-07-15T14:38:58.053Z"
   },
   {
    "duration": 100,
    "start_time": "2021-07-15T14:44:03.326Z"
   },
   {
    "duration": 205,
    "start_time": "2021-07-15T14:44:09.108Z"
   },
   {
    "duration": 18527,
    "start_time": "2021-07-15T14:45:00.537Z"
   },
   {
    "duration": 19081,
    "start_time": "2021-07-15T14:45:34.988Z"
   },
   {
    "duration": 10,
    "start_time": "2021-07-15T14:46:25.481Z"
   },
   {
    "duration": 6,
    "start_time": "2021-07-15T14:46:43.677Z"
   },
   {
    "duration": 5,
    "start_time": "2021-07-15T14:47:40.506Z"
   },
   {
    "duration": 4087,
    "start_time": "2021-07-15T14:52:42.974Z"
   },
   {
    "duration": 23,
    "start_time": "2021-07-15T14:56:14.438Z"
   },
   {
    "duration": 6,
    "start_time": "2021-07-15T14:56:22.963Z"
   },
   {
    "duration": 3061,
    "start_time": "2021-07-15T14:56:54.398Z"
   },
   {
    "duration": 2695,
    "start_time": "2021-07-15T14:57:06.878Z"
   },
   {
    "duration": 29,
    "start_time": "2021-07-15T14:57:12.228Z"
   },
   {
    "duration": 3758,
    "start_time": "2021-07-15T14:58:06.501Z"
   },
   {
    "duration": 23,
    "start_time": "2021-07-15T14:58:13.685Z"
   },
   {
    "duration": 4,
    "start_time": "2021-07-15T14:58:19.108Z"
   },
   {
    "duration": 5,
    "start_time": "2021-07-15T14:58:20.108Z"
   },
   {
    "duration": 305,
    "start_time": "2021-07-15T15:07:14.811Z"
   },
   {
    "duration": 37,
    "start_time": "2021-07-15T15:07:33.950Z"
   },
   {
    "duration": 37,
    "start_time": "2021-07-15T15:08:31.765Z"
   },
   {
    "duration": 35,
    "start_time": "2021-07-15T15:08:32.500Z"
   },
   {
    "duration": 378,
    "start_time": "2021-07-15T15:08:34.049Z"
   },
   {
    "duration": 392,
    "start_time": "2021-07-15T15:09:22.164Z"
   },
   {
    "duration": 271,
    "start_time": "2021-07-15T15:11:08.830Z"
   },
   {
    "duration": 6,
    "start_time": "2021-07-15T15:11:13.197Z"
   },
   {
    "duration": 6,
    "start_time": "2021-07-15T15:11:26.918Z"
   },
   {
    "duration": 5,
    "start_time": "2021-07-15T15:11:50.752Z"
   },
   {
    "duration": 448,
    "start_time": "2021-07-15T15:12:15.801Z"
   },
   {
    "duration": 380,
    "start_time": "2021-07-15T15:12:35.440Z"
   },
   {
    "duration": 14,
    "start_time": "2021-07-15T15:12:40.567Z"
   },
   {
    "duration": 479,
    "start_time": "2021-07-15T15:12:51.287Z"
   },
   {
    "duration": 19,
    "start_time": "2021-07-15T15:13:19.347Z"
   },
   {
    "duration": 37,
    "start_time": "2021-07-15T15:17:23.735Z"
   },
   {
    "duration": 15,
    "start_time": "2021-07-15T15:17:28.589Z"
   },
   {
    "duration": 1825,
    "start_time": "2021-07-15T15:21:21.333Z"
   },
   {
    "duration": 16,
    "start_time": "2021-07-15T15:21:25.650Z"
   },
   {
    "duration": 13,
    "start_time": "2021-07-15T15:21:41.818Z"
   },
   {
    "duration": 9,
    "start_time": "2021-07-15T15:21:59.339Z"
   },
   {
    "duration": 4,
    "start_time": "2021-07-15T15:22:10.514Z"
   },
   {
    "duration": 12395,
    "start_time": "2021-07-15T15:23:07.011Z"
   },
   {
    "duration": 539,
    "start_time": "2021-07-15T15:23:24.383Z"
   },
   {
    "duration": 18,
    "start_time": "2021-07-15T15:23:25.760Z"
   },
   {
    "duration": 3,
    "start_time": "2021-07-15T15:23:27.594Z"
   },
   {
    "duration": 243,
    "start_time": "2021-07-15T15:26:27.851Z"
   },
   {
    "duration": 15740,
    "start_time": "2021-07-15T15:26:37.908Z"
   },
   {
    "duration": 525,
    "start_time": "2021-07-15T15:26:57.448Z"
   },
   {
    "duration": 226,
    "start_time": "2021-07-15T15:26:58.975Z"
   },
   {
    "duration": 249,
    "start_time": "2021-07-15T15:27:43.822Z"
   },
   {
    "duration": 664,
    "start_time": "2021-07-15T15:27:52.039Z"
   },
   {
    "duration": 196,
    "start_time": "2021-07-15T15:28:25.864Z"
   },
   {
    "duration": 15,
    "start_time": "2021-07-15T15:28:34.743Z"
   },
   {
    "duration": 434,
    "start_time": "2021-07-15T15:29:14.191Z"
   },
   {
    "duration": 36,
    "start_time": "2021-07-15T15:29:48.714Z"
   },
   {
    "duration": 412,
    "start_time": "2021-07-15T15:29:50.822Z"
   },
   {
    "duration": 14,
    "start_time": "2021-07-15T15:30:44.681Z"
   },
   {
    "duration": 38,
    "start_time": "2021-07-15T15:31:22.662Z"
   },
   {
    "duration": 15,
    "start_time": "2021-07-15T15:31:22.902Z"
   },
   {
    "duration": 2448,
    "start_time": "2021-07-15T15:33:01.743Z"
   },
   {
    "duration": 2275,
    "start_time": "2021-07-15T15:33:27.853Z"
   },
   {
    "duration": 2413,
    "start_time": "2021-07-15T15:34:06.589Z"
   },
   {
    "duration": 16,
    "start_time": "2021-07-15T15:34:35.284Z"
   },
   {
    "duration": 9,
    "start_time": "2021-07-15T15:34:55.773Z"
   },
   {
    "duration": 371,
    "start_time": "2021-07-15T15:35:11.741Z"
   },
   {
    "duration": 9,
    "start_time": "2021-07-15T15:35:24.953Z"
   },
   {
    "duration": 388,
    "start_time": "2021-07-15T15:37:45.178Z"
   },
   {
    "duration": 15,
    "start_time": "2021-07-15T15:38:30.352Z"
   },
   {
    "duration": 1473,
    "start_time": "2021-07-15T15:40:43.589Z"
   },
   {
    "duration": 57,
    "start_time": "2021-07-15T15:40:45.065Z"
   },
   {
    "duration": 8,
    "start_time": "2021-07-15T15:40:45.125Z"
   },
   {
    "duration": 21,
    "start_time": "2021-07-15T15:40:45.136Z"
   },
   {
    "duration": 16,
    "start_time": "2021-07-15T15:40:45.159Z"
   },
   {
    "duration": 6,
    "start_time": "2021-07-15T15:40:45.178Z"
   },
   {
    "duration": 11,
    "start_time": "2021-07-15T15:40:45.186Z"
   },
   {
    "duration": 76,
    "start_time": "2021-07-15T15:40:45.201Z"
   },
   {
    "duration": 5,
    "start_time": "2021-07-15T15:40:45.280Z"
   },
   {
    "duration": 29,
    "start_time": "2021-07-15T15:40:45.287Z"
   },
   {
    "duration": 38,
    "start_time": "2021-07-15T15:40:45.318Z"
   },
   {
    "duration": 507,
    "start_time": "2021-07-15T15:40:45.359Z"
   },
   {
    "duration": 17,
    "start_time": "2021-07-15T15:40:45.869Z"
   },
   {
    "duration": 961,
    "start_time": "2021-07-15T15:40:45.888Z"
   },
   {
    "duration": 6,
    "start_time": "2021-07-15T15:40:46.856Z"
   },
   {
    "duration": 15,
    "start_time": "2021-07-15T15:40:46.864Z"
   },
   {
    "duration": 37,
    "start_time": "2021-07-15T15:40:46.881Z"
   },
   {
    "duration": 18,
    "start_time": "2021-07-15T15:40:46.921Z"
   },
   {
    "duration": 24,
    "start_time": "2021-07-15T15:40:46.941Z"
   },
   {
    "duration": 97,
    "start_time": "2021-07-15T15:40:46.967Z"
   },
   {
    "duration": 16,
    "start_time": "2021-07-15T15:40:47.067Z"
   },
   {
    "duration": 15,
    "start_time": "2021-07-15T15:40:47.086Z"
   },
   {
    "duration": 46,
    "start_time": "2021-07-15T15:40:47.111Z"
   },
   {
    "duration": 17,
    "start_time": "2021-07-15T15:40:47.162Z"
   },
   {
    "duration": 7,
    "start_time": "2021-07-15T15:40:47.182Z"
   },
   {
    "duration": 10,
    "start_time": "2021-07-15T15:40:47.192Z"
   },
   {
    "duration": 57,
    "start_time": "2021-07-15T15:40:47.205Z"
   },
   {
    "duration": 33867,
    "start_time": "2021-07-15T15:40:47.265Z"
   },
   {
    "duration": 4,
    "start_time": "2021-07-15T15:41:21.135Z"
   },
   {
    "duration": 19,
    "start_time": "2021-07-15T15:41:21.142Z"
   },
   {
    "duration": 19,
    "start_time": "2021-07-15T15:41:21.163Z"
   },
   {
    "duration": 20,
    "start_time": "2021-07-15T15:41:21.184Z"
   },
   {
    "duration": 4057,
    "start_time": "2021-07-15T15:41:21.206Z"
   },
   {
    "duration": 292,
    "start_time": "2021-07-15T15:41:25.265Z"
   },
   {
    "duration": 5,
    "start_time": "2021-07-15T15:41:25.560Z"
   },
   {
    "duration": 39,
    "start_time": "2021-07-15T15:41:25.567Z"
   },
   {
    "duration": 76,
    "start_time": "2021-07-15T15:41:25.608Z"
   },
   {
    "duration": 167,
    "start_time": "2021-07-15T15:41:25.688Z"
   },
   {
    "duration": 1945,
    "start_time": "2021-07-15T15:41:25.858Z"
   },
   {
    "duration": 14,
    "start_time": "2021-07-15T15:41:27.805Z"
   },
   {
    "duration": 14,
    "start_time": "2021-07-15T15:41:27.821Z"
   },
   {
    "duration": 3,
    "start_time": "2021-07-15T15:41:27.857Z"
   },
   {
    "duration": 12595,
    "start_time": "2021-07-15T15:41:27.863Z"
   },
   {
    "duration": 584,
    "start_time": "2021-07-15T15:41:40.461Z"
   },
   {
    "duration": 18,
    "start_time": "2021-07-15T15:41:41.056Z"
   },
   {
    "duration": 3,
    "start_time": "2021-07-15T15:41:41.077Z"
   },
   {
    "duration": 23107,
    "start_time": "2021-07-15T15:41:41.083Z"
   },
   {
    "duration": 11,
    "start_time": "2021-07-15T15:42:04.192Z"
   },
   {
    "duration": 13,
    "start_time": "2021-07-15T15:42:04.205Z"
   },
   {
    "duration": 17,
    "start_time": "2021-07-15T15:42:04.220Z"
   },
   {
    "duration": 20,
    "start_time": "2021-07-15T15:42:04.239Z"
   },
   {
    "duration": 3900,
    "start_time": "2021-07-15T15:42:04.262Z"
   },
   {
    "duration": 96,
    "start_time": "2021-07-15T15:42:08.164Z"
   },
   {
    "duration": 3,
    "start_time": "2021-07-15T15:42:08.263Z"
   },
   {
    "duration": 26,
    "start_time": "2021-07-15T15:42:08.268Z"
   },
   {
    "duration": 48,
    "start_time": "2021-07-15T15:42:08.296Z"
   },
   {
    "duration": 20,
    "start_time": "2021-07-15T15:42:08.346Z"
   },
   {
    "duration": 2399,
    "start_time": "2021-07-15T15:42:08.369Z"
   },
   {
    "duration": 17,
    "start_time": "2021-07-15T15:42:10.771Z"
   },
   {
    "duration": 13,
    "start_time": "2021-07-15T15:42:10.790Z"
   },
   {
    "duration": 16388,
    "start_time": "2021-07-15T15:42:10.806Z"
   },
   {
    "duration": 665,
    "start_time": "2021-07-15T15:42:27.197Z"
   },
   {
    "duration": 13,
    "start_time": "2021-07-15T15:42:27.865Z"
   },
   {
    "duration": 432,
    "start_time": "2021-07-15T15:42:27.880Z"
   },
   {
    "duration": -258,
    "start_time": "2021-07-15T15:42:28.572Z"
   },
   {
    "duration": -264,
    "start_time": "2021-07-15T15:42:28.579Z"
   },
   {
    "duration": -266,
    "start_time": "2021-07-15T15:42:28.583Z"
   },
   {
    "duration": 42,
    "start_time": "2021-07-15T15:44:08.313Z"
   },
   {
    "duration": 16,
    "start_time": "2021-07-15T15:44:16.518Z"
   },
   {
    "duration": 9,
    "start_time": "2021-07-15T15:44:25.451Z"
   },
   {
    "duration": 9,
    "start_time": "2021-07-15T15:44:25.789Z"
   },
   {
    "duration": 8,
    "start_time": "2021-07-15T15:44:46.109Z"
   },
   {
    "duration": 15,
    "start_time": "2021-07-15T15:48:43.064Z"
   },
   {
    "duration": 1517,
    "start_time": "2021-07-15T15:48:58.860Z"
   },
   {
    "duration": 60,
    "start_time": "2021-07-15T15:49:00.380Z"
   },
   {
    "duration": 17,
    "start_time": "2021-07-15T15:49:00.445Z"
   },
   {
    "duration": 23,
    "start_time": "2021-07-15T15:49:00.465Z"
   },
   {
    "duration": 28,
    "start_time": "2021-07-15T15:49:00.491Z"
   },
   {
    "duration": 10,
    "start_time": "2021-07-15T15:49:00.522Z"
   },
   {
    "duration": 15,
    "start_time": "2021-07-15T15:49:00.557Z"
   },
   {
    "duration": 44,
    "start_time": "2021-07-15T15:49:00.574Z"
   },
   {
    "duration": 32,
    "start_time": "2021-07-15T15:49:00.624Z"
   },
   {
    "duration": 17,
    "start_time": "2021-07-15T15:49:00.660Z"
   },
   {
    "duration": 16,
    "start_time": "2021-07-15T15:49:00.680Z"
   },
   {
    "duration": 623,
    "start_time": "2021-07-15T15:49:00.698Z"
   },
   {
    "duration": 16,
    "start_time": "2021-07-15T15:49:01.324Z"
   },
   {
    "duration": 952,
    "start_time": "2021-07-15T15:49:01.342Z"
   },
   {
    "duration": 6,
    "start_time": "2021-07-15T15:49:02.296Z"
   },
   {
    "duration": 13,
    "start_time": "2021-07-15T15:49:02.304Z"
   },
   {
    "duration": 44,
    "start_time": "2021-07-15T15:49:02.319Z"
   },
   {
    "duration": 24,
    "start_time": "2021-07-15T15:49:02.366Z"
   },
   {
    "duration": 14,
    "start_time": "2021-07-15T15:49:02.392Z"
   },
   {
    "duration": 107,
    "start_time": "2021-07-15T15:49:02.408Z"
   },
   {
    "duration": 28,
    "start_time": "2021-07-15T15:49:02.517Z"
   },
   {
    "duration": 16,
    "start_time": "2021-07-15T15:49:02.547Z"
   },
   {
    "duration": 38,
    "start_time": "2021-07-15T15:49:02.565Z"
   },
   {
    "duration": 32,
    "start_time": "2021-07-15T15:49:02.606Z"
   },
   {
    "duration": 9,
    "start_time": "2021-07-15T15:49:02.640Z"
   },
   {
    "duration": 23,
    "start_time": "2021-07-15T15:49:02.651Z"
   },
   {
    "duration": 17,
    "start_time": "2021-07-15T15:49:02.680Z"
   },
   {
    "duration": 33193,
    "start_time": "2021-07-15T15:49:02.701Z"
   },
   {
    "duration": 5,
    "start_time": "2021-07-15T15:49:35.896Z"
   },
   {
    "duration": 14,
    "start_time": "2021-07-15T15:49:35.903Z"
   },
   {
    "duration": 10,
    "start_time": "2021-07-15T15:49:35.919Z"
   },
   {
    "duration": 13,
    "start_time": "2021-07-15T15:49:35.931Z"
   },
   {
    "duration": 4217,
    "start_time": "2021-07-15T15:49:35.947Z"
   },
   {
    "duration": 300,
    "start_time": "2021-07-15T15:49:40.166Z"
   },
   {
    "duration": 5,
    "start_time": "2021-07-15T15:49:40.469Z"
   },
   {
    "duration": 100,
    "start_time": "2021-07-15T15:49:40.476Z"
   },
   {
    "duration": 35,
    "start_time": "2021-07-15T15:49:40.578Z"
   },
   {
    "duration": 469,
    "start_time": "2021-07-15T15:49:40.615Z"
   },
   {
    "duration": 1857,
    "start_time": "2021-07-15T15:49:41.087Z"
   },
   {
    "duration": 19,
    "start_time": "2021-07-15T15:49:42.947Z"
   },
   {
    "duration": 8,
    "start_time": "2021-07-15T15:49:42.969Z"
   },
   {
    "duration": 12,
    "start_time": "2021-07-15T15:49:42.980Z"
   },
   {
    "duration": 12489,
    "start_time": "2021-07-15T15:49:42.994Z"
   },
   {
    "duration": 561,
    "start_time": "2021-07-15T15:49:55.486Z"
   },
   {
    "duration": 16,
    "start_time": "2021-07-15T15:49:56.056Z"
   },
   {
    "duration": 3,
    "start_time": "2021-07-15T15:49:56.074Z"
   },
   {
    "duration": 18383,
    "start_time": "2021-07-15T15:49:56.080Z"
   },
   {
    "duration": 9,
    "start_time": "2021-07-15T15:50:14.466Z"
   },
   {
    "duration": 5,
    "start_time": "2021-07-15T15:50:14.477Z"
   },
   {
    "duration": 10,
    "start_time": "2021-07-15T15:50:14.485Z"
   },
   {
    "duration": 7,
    "start_time": "2021-07-15T15:50:14.498Z"
   },
   {
    "duration": 4155,
    "start_time": "2021-07-15T15:50:14.508Z"
   },
   {
    "duration": 24,
    "start_time": "2021-07-15T15:50:18.665Z"
   },
   {
    "duration": 65,
    "start_time": "2021-07-15T15:50:18.691Z"
   },
   {
    "duration": 9,
    "start_time": "2021-07-15T15:50:18.759Z"
   },
   {
    "duration": 36,
    "start_time": "2021-07-15T15:50:18.770Z"
   },
   {
    "duration": 56,
    "start_time": "2021-07-15T15:50:18.808Z"
   },
   {
    "duration": 2424,
    "start_time": "2021-07-15T15:50:18.867Z"
   },
   {
    "duration": 13,
    "start_time": "2021-07-15T15:50:21.293Z"
   },
   {
    "duration": 6,
    "start_time": "2021-07-15T15:50:21.309Z"
   },
   {
    "duration": 15295,
    "start_time": "2021-07-15T15:50:21.317Z"
   },
   {
    "duration": 682,
    "start_time": "2021-07-15T15:50:36.615Z"
   },
   {
    "duration": 14,
    "start_time": "2021-07-15T15:50:37.299Z"
   },
   {
    "duration": 42,
    "start_time": "2021-07-15T15:50:37.316Z"
   },
   {
    "duration": 11,
    "start_time": "2021-07-15T15:50:37.361Z"
   },
   {
    "duration": 10,
    "start_time": "2021-07-15T15:50:37.375Z"
   },
   {
    "duration": 12,
    "start_time": "2021-07-15T15:50:37.387Z"
   },
   {
    "duration": 14,
    "start_time": "2021-07-15T15:51:28.828Z"
   },
   {
    "duration": 8,
    "start_time": "2021-07-15T15:51:40.955Z"
   },
   {
    "duration": 74,
    "start_time": "2021-07-15T15:51:40.966Z"
   },
   {
    "duration": 15,
    "start_time": "2021-07-15T15:51:41.042Z"
   },
   {
    "duration": 12,
    "start_time": "2021-07-15T15:51:41.059Z"
   },
   {
    "duration": 34,
    "start_time": "2021-07-15T15:51:41.073Z"
   },
   {
    "duration": 15,
    "start_time": "2021-07-15T15:51:41.110Z"
   },
   {
    "duration": 37,
    "start_time": "2021-07-15T15:51:41.127Z"
   },
   {
    "duration": 47,
    "start_time": "2021-07-15T15:51:41.167Z"
   },
   {
    "duration": 4,
    "start_time": "2021-07-15T15:51:41.218Z"
   },
   {
    "duration": 39,
    "start_time": "2021-07-15T15:51:41.226Z"
   },
   {
    "duration": 27,
    "start_time": "2021-07-15T15:51:41.268Z"
   },
   {
    "duration": 483,
    "start_time": "2021-07-15T15:51:41.298Z"
   },
   {
    "duration": 12,
    "start_time": "2021-07-15T15:51:41.784Z"
   },
   {
    "duration": 923,
    "start_time": "2021-07-15T15:51:41.799Z"
   },
   {
    "duration": 5,
    "start_time": "2021-07-15T15:51:42.725Z"
   },
   {
    "duration": 25,
    "start_time": "2021-07-15T15:51:42.732Z"
   },
   {
    "duration": 34,
    "start_time": "2021-07-15T15:51:42.759Z"
   },
   {
    "duration": 16,
    "start_time": "2021-07-15T15:51:42.795Z"
   },
   {
    "duration": 27,
    "start_time": "2021-07-15T15:51:42.813Z"
   },
   {
    "duration": 18,
    "start_time": "2021-07-15T15:51:42.842Z"
   },
   {
    "duration": 38,
    "start_time": "2021-07-15T15:51:42.862Z"
   },
   {
    "duration": 32,
    "start_time": "2021-07-15T15:51:42.903Z"
   },
   {
    "duration": 28,
    "start_time": "2021-07-15T15:51:42.937Z"
   },
   {
    "duration": 25,
    "start_time": "2021-07-15T15:51:42.968Z"
   },
   {
    "duration": 12,
    "start_time": "2021-07-15T15:51:42.996Z"
   },
   {
    "duration": 24,
    "start_time": "2021-07-15T15:51:43.011Z"
   },
   {
    "duration": 12,
    "start_time": "2021-07-15T15:51:43.041Z"
   },
   {
    "duration": 34474,
    "start_time": "2021-07-15T15:51:43.056Z"
   },
   {
    "duration": 5,
    "start_time": "2021-07-15T15:52:17.532Z"
   },
   {
    "duration": 10,
    "start_time": "2021-07-15T15:52:17.539Z"
   },
   {
    "duration": 6,
    "start_time": "2021-07-15T15:52:17.551Z"
   },
   {
    "duration": 9,
    "start_time": "2021-07-15T15:52:17.559Z"
   },
   {
    "duration": 4192,
    "start_time": "2021-07-15T15:52:17.570Z"
   },
   {
    "duration": 297,
    "start_time": "2021-07-15T15:52:21.765Z"
   },
   {
    "duration": 6,
    "start_time": "2021-07-15T15:52:22.064Z"
   },
   {
    "duration": 86,
    "start_time": "2021-07-15T15:52:22.073Z"
   },
   {
    "duration": 35,
    "start_time": "2021-07-15T15:52:22.162Z"
   },
   {
    "duration": 257,
    "start_time": "2021-07-15T15:52:22.199Z"
   },
   {
    "duration": 1824,
    "start_time": "2021-07-15T15:52:22.459Z"
   },
   {
    "duration": 13,
    "start_time": "2021-07-15T15:52:24.285Z"
   },
   {
    "duration": 18,
    "start_time": "2021-07-15T15:52:24.300Z"
   },
   {
    "duration": 20,
    "start_time": "2021-07-15T15:52:24.321Z"
   },
   {
    "duration": 11573,
    "start_time": "2021-07-15T15:52:24.344Z"
   },
   {
    "duration": 514,
    "start_time": "2021-07-15T15:52:35.919Z"
   },
   {
    "duration": 36,
    "start_time": "2021-07-15T15:52:36.436Z"
   },
   {
    "duration": 3,
    "start_time": "2021-07-15T15:52:36.475Z"
   },
   {
    "duration": 17571,
    "start_time": "2021-07-15T15:52:36.480Z"
   },
   {
    "duration": 10,
    "start_time": "2021-07-15T15:52:54.053Z"
   },
   {
    "duration": 13,
    "start_time": "2021-07-15T15:52:54.065Z"
   },
   {
    "duration": 12,
    "start_time": "2021-07-15T15:52:54.080Z"
   },
   {
    "duration": 10,
    "start_time": "2021-07-15T15:52:54.094Z"
   },
   {
    "duration": 3958,
    "start_time": "2021-07-15T15:52:54.107Z"
   },
   {
    "duration": 95,
    "start_time": "2021-07-15T15:52:58.067Z"
   },
   {
    "duration": 3,
    "start_time": "2021-07-15T15:52:58.164Z"
   },
   {
    "duration": 9,
    "start_time": "2021-07-15T15:52:58.169Z"
   },
   {
    "duration": 100,
    "start_time": "2021-07-15T15:52:58.180Z"
   },
   {
    "duration": 12,
    "start_time": "2021-07-15T15:52:58.283Z"
   },
   {
    "duration": 2163,
    "start_time": "2021-07-15T15:52:58.355Z"
   },
   {
    "duration": 14,
    "start_time": "2021-07-15T15:53:00.520Z"
   },
   {
    "duration": 8,
    "start_time": "2021-07-15T15:53:00.555Z"
   },
   {
    "duration": 14233,
    "start_time": "2021-07-15T15:53:00.565Z"
   },
   {
    "duration": 594,
    "start_time": "2021-07-15T15:53:14.800Z"
   },
   {
    "duration": 13,
    "start_time": "2021-07-15T15:53:15.396Z"
   },
   {
    "duration": 16,
    "start_time": "2021-07-15T15:53:15.411Z"
   },
   {
    "duration": 7,
    "start_time": "2021-07-15T15:53:15.456Z"
   },
   {
    "duration": 9,
    "start_time": "2021-07-15T15:53:15.465Z"
   },
   {
    "duration": 10,
    "start_time": "2021-07-15T15:53:15.476Z"
   },
   {
    "duration": 13,
    "start_time": "2021-07-15T15:54:06.345Z"
   },
   {
    "duration": 1468,
    "start_time": "2021-07-15T15:54:19.805Z"
   },
   {
    "duration": 57,
    "start_time": "2021-07-15T15:54:21.276Z"
   },
   {
    "duration": 21,
    "start_time": "2021-07-15T15:54:21.336Z"
   },
   {
    "duration": 7,
    "start_time": "2021-07-15T15:54:21.360Z"
   },
   {
    "duration": 21,
    "start_time": "2021-07-15T15:54:21.369Z"
   },
   {
    "duration": 7,
    "start_time": "2021-07-15T15:54:21.393Z"
   },
   {
    "duration": 16,
    "start_time": "2021-07-15T15:54:21.402Z"
   },
   {
    "duration": 71,
    "start_time": "2021-07-15T15:54:21.421Z"
   },
   {
    "duration": 5,
    "start_time": "2021-07-15T15:54:21.495Z"
   },
   {
    "duration": 22,
    "start_time": "2021-07-15T15:54:21.502Z"
   },
   {
    "duration": 45,
    "start_time": "2021-07-15T15:54:21.527Z"
   },
   {
    "duration": 503,
    "start_time": "2021-07-15T15:54:21.574Z"
   },
   {
    "duration": 17,
    "start_time": "2021-07-15T15:54:22.080Z"
   },
   {
    "duration": 933,
    "start_time": "2021-07-15T15:54:22.100Z"
   },
   {
    "duration": 6,
    "start_time": "2021-07-15T15:54:23.036Z"
   },
   {
    "duration": 15,
    "start_time": "2021-07-15T15:54:23.044Z"
   },
   {
    "duration": 33,
    "start_time": "2021-07-15T15:54:23.061Z"
   },
   {
    "duration": 17,
    "start_time": "2021-07-15T15:54:23.096Z"
   },
   {
    "duration": 10,
    "start_time": "2021-07-15T15:54:23.116Z"
   },
   {
    "duration": 109,
    "start_time": "2021-07-15T15:54:23.128Z"
   },
   {
    "duration": 26,
    "start_time": "2021-07-15T15:54:23.240Z"
   },
   {
    "duration": 11,
    "start_time": "2021-07-15T15:54:23.269Z"
   },
   {
    "duration": 9,
    "start_time": "2021-07-15T15:54:23.286Z"
   },
   {
    "duration": 57,
    "start_time": "2021-07-15T15:54:23.299Z"
   },
   {
    "duration": 6,
    "start_time": "2021-07-15T15:54:23.358Z"
   },
   {
    "duration": 11,
    "start_time": "2021-07-15T15:54:23.366Z"
   },
   {
    "duration": 16,
    "start_time": "2021-07-15T15:54:23.380Z"
   },
   {
    "duration": 31729,
    "start_time": "2021-07-15T15:54:23.399Z"
   },
   {
    "duration": 5,
    "start_time": "2021-07-15T15:54:55.130Z"
   },
   {
    "duration": 17,
    "start_time": "2021-07-15T15:54:55.137Z"
   },
   {
    "duration": 7,
    "start_time": "2021-07-15T15:54:55.156Z"
   },
   {
    "duration": 10,
    "start_time": "2021-07-15T15:54:55.165Z"
   },
   {
    "duration": 3984,
    "start_time": "2021-07-15T15:54:55.177Z"
   },
   {
    "duration": 209,
    "start_time": "2021-07-15T15:54:59.164Z"
   },
   {
    "duration": 81,
    "start_time": "2021-07-15T15:54:59.376Z"
   },
   {
    "duration": 38,
    "start_time": "2021-07-15T15:54:59.460Z"
   },
   {
    "duration": 57,
    "start_time": "2021-07-15T15:54:59.501Z"
   },
   {
    "duration": 428,
    "start_time": "2021-07-15T15:54:59.560Z"
   },
   {
    "duration": 1598,
    "start_time": "2021-07-15T15:54:59.990Z"
   },
   {
    "duration": 12,
    "start_time": "2021-07-15T15:55:01.591Z"
   },
   {
    "duration": 14,
    "start_time": "2021-07-15T15:55:01.606Z"
   },
   {
    "duration": 19,
    "start_time": "2021-07-15T15:55:01.623Z"
   },
   {
    "duration": 10229,
    "start_time": "2021-07-15T15:55:01.644Z"
   },
   {
    "duration": 448,
    "start_time": "2021-07-15T15:55:11.875Z"
   },
   {
    "duration": 32,
    "start_time": "2021-07-15T15:55:12.325Z"
   },
   {
    "duration": 3,
    "start_time": "2021-07-15T15:55:12.360Z"
   },
   {
    "duration": 17530,
    "start_time": "2021-07-15T15:55:12.365Z"
   },
   {
    "duration": 10,
    "start_time": "2021-07-15T15:55:29.898Z"
   },
   {
    "duration": 3,
    "start_time": "2021-07-15T15:55:29.911Z"
   },
   {
    "duration": 8,
    "start_time": "2021-07-15T15:55:29.917Z"
   },
   {
    "duration": 10,
    "start_time": "2021-07-15T15:55:29.927Z"
   },
   {
    "duration": 4024,
    "start_time": "2021-07-15T15:55:29.939Z"
   },
   {
    "duration": 95,
    "start_time": "2021-07-15T15:55:33.965Z"
   },
   {
    "duration": 4,
    "start_time": "2021-07-15T15:55:34.062Z"
   },
   {
    "duration": 9,
    "start_time": "2021-07-15T15:55:34.068Z"
   },
   {
    "duration": 79,
    "start_time": "2021-07-15T15:55:34.079Z"
   },
   {
    "duration": 13,
    "start_time": "2021-07-15T15:55:34.160Z"
   },
   {
    "duration": 1956,
    "start_time": "2021-07-15T15:55:34.176Z"
   },
   {
    "duration": 24,
    "start_time": "2021-07-15T15:55:36.135Z"
   },
   {
    "duration": 7,
    "start_time": "2021-07-15T15:55:36.161Z"
   },
   {
    "duration": 12456,
    "start_time": "2021-07-15T15:55:36.171Z"
   },
   {
    "duration": 571,
    "start_time": "2021-07-15T15:55:48.629Z"
   },
   {
    "duration": 14,
    "start_time": "2021-07-15T15:55:49.202Z"
   },
   {
    "duration": 16,
    "start_time": "2021-07-15T15:55:49.218Z"
   },
   {
    "duration": 8,
    "start_time": "2021-07-15T15:55:49.236Z"
   },
   {
    "duration": 14,
    "start_time": "2021-07-15T15:55:49.246Z"
   },
   {
    "duration": 7,
    "start_time": "2021-07-15T15:55:49.262Z"
   },
   {
    "duration": 21,
    "start_time": "2021-07-15T15:59:10.746Z"
   },
   {
    "duration": 1531,
    "start_time": "2021-07-15T15:59:16.628Z"
   },
   {
    "duration": 55,
    "start_time": "2021-07-15T15:59:18.162Z"
   },
   {
    "duration": 8,
    "start_time": "2021-07-15T15:59:18.220Z"
   },
   {
    "duration": 10,
    "start_time": "2021-07-15T15:59:18.231Z"
   },
   {
    "duration": 17,
    "start_time": "2021-07-15T15:59:18.256Z"
   },
   {
    "duration": 6,
    "start_time": "2021-07-15T15:59:18.276Z"
   },
   {
    "duration": 12,
    "start_time": "2021-07-15T15:59:18.285Z"
   },
   {
    "duration": 76,
    "start_time": "2021-07-15T15:59:18.300Z"
   },
   {
    "duration": 5,
    "start_time": "2021-07-15T15:59:18.378Z"
   },
   {
    "duration": 22,
    "start_time": "2021-07-15T15:59:18.386Z"
   },
   {
    "duration": 15,
    "start_time": "2021-07-15T15:59:18.410Z"
   },
   {
    "duration": 504,
    "start_time": "2021-07-15T15:59:18.427Z"
   },
   {
    "duration": 24,
    "start_time": "2021-07-15T15:59:18.933Z"
   },
   {
    "duration": 997,
    "start_time": "2021-07-15T15:59:18.960Z"
   },
   {
    "duration": 5,
    "start_time": "2021-07-15T15:59:19.959Z"
   },
   {
    "duration": 18,
    "start_time": "2021-07-15T15:59:19.967Z"
   },
   {
    "duration": 26,
    "start_time": "2021-07-15T15:59:19.987Z"
   },
   {
    "duration": 18,
    "start_time": "2021-07-15T15:59:20.015Z"
   },
   {
    "duration": 10,
    "start_time": "2021-07-15T15:59:20.055Z"
   },
   {
    "duration": 23,
    "start_time": "2021-07-15T15:59:20.067Z"
   },
   {
    "duration": 25,
    "start_time": "2021-07-15T15:59:20.092Z"
   },
   {
    "duration": 10,
    "start_time": "2021-07-15T15:59:20.119Z"
   },
   {
    "duration": 7,
    "start_time": "2021-07-15T15:59:20.158Z"
   },
   {
    "duration": 17,
    "start_time": "2021-07-15T15:59:20.169Z"
   },
   {
    "duration": 5,
    "start_time": "2021-07-15T15:59:20.189Z"
   },
   {
    "duration": 8,
    "start_time": "2021-07-15T15:59:20.196Z"
   },
   {
    "duration": 55,
    "start_time": "2021-07-15T15:59:20.206Z"
   },
   {
    "duration": 33974,
    "start_time": "2021-07-15T15:59:20.264Z"
   },
   {
    "duration": 5,
    "start_time": "2021-07-15T15:59:54.241Z"
   },
   {
    "duration": 12,
    "start_time": "2021-07-15T15:59:54.248Z"
   },
   {
    "duration": 9,
    "start_time": "2021-07-15T15:59:54.262Z"
   },
   {
    "duration": 11,
    "start_time": "2021-07-15T15:59:54.273Z"
   },
   {
    "duration": 4176,
    "start_time": "2021-07-15T15:59:54.287Z"
   },
   {
    "duration": 295,
    "start_time": "2021-07-15T15:59:58.465Z"
   },
   {
    "duration": 5,
    "start_time": "2021-07-15T15:59:58.762Z"
   },
   {
    "duration": 41,
    "start_time": "2021-07-15T15:59:58.770Z"
   },
   {
    "duration": 79,
    "start_time": "2021-07-15T15:59:58.814Z"
   },
   {
    "duration": 406,
    "start_time": "2021-07-15T15:59:58.896Z"
   },
   {
    "duration": 1836,
    "start_time": "2021-07-15T15:59:59.304Z"
   },
   {
    "duration": 17,
    "start_time": "2021-07-15T16:00:01.143Z"
   },
   {
    "duration": 13,
    "start_time": "2021-07-15T16:00:01.163Z"
   },
   {
    "duration": 15,
    "start_time": "2021-07-15T16:00:01.178Z"
   },
   {
    "duration": 12517,
    "start_time": "2021-07-15T16:00:01.195Z"
   },
   {
    "duration": 531,
    "start_time": "2021-07-15T16:00:13.715Z"
   },
   {
    "duration": 17,
    "start_time": "2021-07-15T16:00:14.255Z"
   },
   {
    "duration": 3,
    "start_time": "2021-07-15T16:00:14.274Z"
   },
   {
    "duration": 17903,
    "start_time": "2021-07-15T16:00:14.280Z"
   },
   {
    "duration": 16,
    "start_time": "2021-07-15T16:00:32.186Z"
   },
   {
    "duration": 4,
    "start_time": "2021-07-15T16:00:32.204Z"
   },
   {
    "duration": 9,
    "start_time": "2021-07-15T16:00:32.210Z"
   },
   {
    "duration": 36,
    "start_time": "2021-07-15T16:00:32.221Z"
   },
   {
    "duration": 3605,
    "start_time": "2021-07-15T16:00:32.260Z"
   },
   {
    "duration": 97,
    "start_time": "2021-07-15T16:00:35.867Z"
   },
   {
    "duration": 4,
    "start_time": "2021-07-15T16:00:35.966Z"
   },
   {
    "duration": 83,
    "start_time": "2021-07-15T16:00:35.972Z"
   },
   {
    "duration": 38,
    "start_time": "2021-07-15T16:00:36.057Z"
   },
   {
    "duration": 59,
    "start_time": "2021-07-15T16:00:36.098Z"
   },
   {
    "duration": 2321,
    "start_time": "2021-07-15T16:00:36.160Z"
   },
   {
    "duration": 12,
    "start_time": "2021-07-15T16:00:38.484Z"
   },
   {
    "duration": 10,
    "start_time": "2021-07-15T16:00:38.499Z"
   },
   {
    "duration": 15091,
    "start_time": "2021-07-15T16:00:38.511Z"
   },
   {
    "duration": 642,
    "start_time": "2021-07-15T16:00:53.605Z"
   },
   {
    "duration": 19,
    "start_time": "2021-07-15T16:00:54.249Z"
   },
   {
    "duration": 16,
    "start_time": "2021-07-15T16:00:54.271Z"
   },
   {
    "duration": 14,
    "start_time": "2021-07-15T16:00:54.290Z"
   },
   {
    "duration": 11,
    "start_time": "2021-07-15T16:00:54.306Z"
   },
   {
    "duration": 41,
    "start_time": "2021-07-15T16:00:54.319Z"
   },
   {
    "duration": 13,
    "start_time": "2021-07-15T16:19:00.961Z"
   },
   {
    "duration": 1564,
    "start_time": "2021-07-15T16:19:07.482Z"
   },
   {
    "duration": 55,
    "start_time": "2021-07-15T16:19:09.048Z"
   },
   {
    "duration": 8,
    "start_time": "2021-07-15T16:19:09.106Z"
   },
   {
    "duration": 11,
    "start_time": "2021-07-15T16:19:09.116Z"
   },
   {
    "duration": 37,
    "start_time": "2021-07-15T16:19:09.129Z"
   },
   {
    "duration": 7,
    "start_time": "2021-07-15T16:19:09.169Z"
   },
   {
    "duration": 13,
    "start_time": "2021-07-15T16:19:09.178Z"
   },
   {
    "duration": 71,
    "start_time": "2021-07-15T16:19:09.197Z"
   },
   {
    "duration": 5,
    "start_time": "2021-07-15T16:19:09.271Z"
   },
   {
    "duration": 20,
    "start_time": "2021-07-15T16:19:09.278Z"
   },
   {
    "duration": 17,
    "start_time": "2021-07-15T16:19:09.300Z"
   },
   {
    "duration": 513,
    "start_time": "2021-07-15T16:19:09.320Z"
   },
   {
    "duration": 24,
    "start_time": "2021-07-15T16:19:09.836Z"
   },
   {
    "duration": 961,
    "start_time": "2021-07-15T16:19:09.862Z"
   },
   {
    "duration": 7,
    "start_time": "2021-07-15T16:19:10.825Z"
   },
   {
    "duration": 23,
    "start_time": "2021-07-15T16:19:10.835Z"
   },
   {
    "duration": 21,
    "start_time": "2021-07-15T16:19:10.861Z"
   },
   {
    "duration": 16,
    "start_time": "2021-07-15T16:19:10.885Z"
   },
   {
    "duration": 18,
    "start_time": "2021-07-15T16:19:10.904Z"
   },
   {
    "duration": 121,
    "start_time": "2021-07-15T16:19:10.924Z"
   },
   {
    "duration": 13,
    "start_time": "2021-07-15T16:19:11.056Z"
   },
   {
    "duration": 10,
    "start_time": "2021-07-15T16:19:11.071Z"
   },
   {
    "duration": 6,
    "start_time": "2021-07-15T16:19:11.088Z"
   },
   {
    "duration": 20,
    "start_time": "2021-07-15T16:19:11.098Z"
   },
   {
    "duration": 6,
    "start_time": "2021-07-15T16:19:11.157Z"
   },
   {
    "duration": 7,
    "start_time": "2021-07-15T16:19:11.165Z"
   },
   {
    "duration": 12,
    "start_time": "2021-07-15T16:19:11.175Z"
   },
   {
    "duration": 31701,
    "start_time": "2021-07-15T16:19:11.189Z"
   },
   {
    "duration": 6,
    "start_time": "2021-07-15T16:19:42.893Z"
   },
   {
    "duration": 13,
    "start_time": "2021-07-15T16:19:42.902Z"
   },
   {
    "duration": 6,
    "start_time": "2021-07-15T16:19:42.918Z"
   },
   {
    "duration": 29,
    "start_time": "2021-07-15T16:19:42.927Z"
   },
   {
    "duration": 3405,
    "start_time": "2021-07-15T16:19:42.959Z"
   },
   {
    "duration": 294,
    "start_time": "2021-07-15T16:19:46.367Z"
   },
   {
    "duration": 4,
    "start_time": "2021-07-15T16:19:46.664Z"
   },
   {
    "duration": 90,
    "start_time": "2021-07-15T16:19:46.671Z"
   },
   {
    "duration": 33,
    "start_time": "2021-07-15T16:19:46.763Z"
   },
   {
    "duration": 406,
    "start_time": "2021-07-15T16:19:46.799Z"
   },
   {
    "duration": 1557,
    "start_time": "2021-07-15T16:19:47.208Z"
   },
   {
    "duration": 12,
    "start_time": "2021-07-15T16:19:48.767Z"
   },
   {
    "duration": 11,
    "start_time": "2021-07-15T16:19:48.781Z"
   },
   {
    "duration": 11,
    "start_time": "2021-07-15T16:19:48.794Z"
   },
   {
    "duration": 10413,
    "start_time": "2021-07-15T16:19:48.807Z"
   },
   {
    "duration": 419,
    "start_time": "2021-07-15T16:19:59.222Z"
   },
   {
    "duration": 17,
    "start_time": "2021-07-15T16:19:59.655Z"
   },
   {
    "duration": 3,
    "start_time": "2021-07-15T16:19:59.674Z"
   },
   {
    "duration": 17897,
    "start_time": "2021-07-15T16:19:59.679Z"
   },
   {
    "duration": 9,
    "start_time": "2021-07-15T16:20:17.578Z"
   },
   {
    "duration": 4,
    "start_time": "2021-07-15T16:20:17.590Z"
   },
   {
    "duration": 8,
    "start_time": "2021-07-15T16:20:17.596Z"
   },
   {
    "duration": 6,
    "start_time": "2021-07-15T16:20:17.607Z"
   },
   {
    "duration": 3746,
    "start_time": "2021-07-15T16:20:17.615Z"
   },
   {
    "duration": 97,
    "start_time": "2021-07-15T16:20:21.365Z"
   },
   {
    "duration": 7,
    "start_time": "2021-07-15T16:20:21.465Z"
   },
   {
    "duration": 24,
    "start_time": "2021-07-15T16:20:21.474Z"
   },
   {
    "duration": 80,
    "start_time": "2021-07-15T16:20:21.500Z"
   },
   {
    "duration": 13,
    "start_time": "2021-07-15T16:20:21.582Z"
   },
   {
    "duration": 1991,
    "start_time": "2021-07-15T16:20:21.599Z"
   },
   {
    "duration": 12,
    "start_time": "2021-07-15T16:20:23.592Z"
   },
   {
    "duration": 8,
    "start_time": "2021-07-15T16:20:23.606Z"
   },
   {
    "duration": 12251,
    "start_time": "2021-07-15T16:20:23.616Z"
   },
   {
    "duration": 536,
    "start_time": "2021-07-15T16:20:35.870Z"
   },
   {
    "duration": 13,
    "start_time": "2021-07-15T16:20:36.409Z"
   },
   {
    "duration": 39,
    "start_time": "2021-07-15T16:20:36.424Z"
   },
   {
    "duration": 8,
    "start_time": "2021-07-15T16:20:36.465Z"
   },
   {
    "duration": 7,
    "start_time": "2021-07-15T16:20:36.476Z"
   },
   {
    "duration": 10,
    "start_time": "2021-07-15T16:20:36.485Z"
   },
   {
    "duration": 14,
    "start_time": "2021-07-15T16:21:47.076Z"
   },
   {
    "duration": 1597,
    "start_time": "2021-07-15T16:21:57.438Z"
   },
   {
    "duration": 56,
    "start_time": "2021-07-15T16:21:59.037Z"
   },
   {
    "duration": 10,
    "start_time": "2021-07-15T16:21:59.097Z"
   },
   {
    "duration": 8,
    "start_time": "2021-07-15T16:21:59.110Z"
   },
   {
    "duration": 42,
    "start_time": "2021-07-15T16:21:59.121Z"
   },
   {
    "duration": 7,
    "start_time": "2021-07-15T16:21:59.166Z"
   },
   {
    "duration": 16,
    "start_time": "2021-07-15T16:21:59.176Z"
   },
   {
    "duration": 71,
    "start_time": "2021-07-15T16:21:59.196Z"
   },
   {
    "duration": 6,
    "start_time": "2021-07-15T16:21:59.270Z"
   },
   {
    "duration": 24,
    "start_time": "2021-07-15T16:21:59.278Z"
   },
   {
    "duration": 18,
    "start_time": "2021-07-15T16:21:59.304Z"
   },
   {
    "duration": 517,
    "start_time": "2021-07-15T16:21:59.324Z"
   },
   {
    "duration": 18,
    "start_time": "2021-07-15T16:21:59.844Z"
   },
   {
    "duration": 1065,
    "start_time": "2021-07-15T16:21:59.865Z"
   },
   {
    "duration": 22,
    "start_time": "2021-07-15T16:22:00.933Z"
   },
   {
    "duration": 6,
    "start_time": "2021-07-15T16:22:00.958Z"
   },
   {
    "duration": 21,
    "start_time": "2021-07-15T16:22:00.967Z"
   },
   {
    "duration": 18,
    "start_time": "2021-07-15T16:22:00.991Z"
   },
   {
    "duration": 51,
    "start_time": "2021-07-15T16:22:01.013Z"
   },
   {
    "duration": 97,
    "start_time": "2021-07-15T16:22:01.066Z"
   },
   {
    "duration": 28,
    "start_time": "2021-07-15T16:22:01.165Z"
   },
   {
    "duration": 12,
    "start_time": "2021-07-15T16:22:01.195Z"
   },
   {
    "duration": 13,
    "start_time": "2021-07-15T16:22:01.213Z"
   },
   {
    "duration": 32,
    "start_time": "2021-07-15T16:22:01.230Z"
   },
   {
    "duration": 6,
    "start_time": "2021-07-15T16:22:01.264Z"
   },
   {
    "duration": 21,
    "start_time": "2021-07-15T16:22:01.272Z"
   },
   {
    "duration": 23,
    "start_time": "2021-07-15T16:22:01.295Z"
   },
   {
    "duration": 31561,
    "start_time": "2021-07-15T16:22:01.321Z"
   },
   {
    "duration": 5,
    "start_time": "2021-07-15T16:22:32.885Z"
   },
   {
    "duration": 21,
    "start_time": "2021-07-15T16:22:32.892Z"
   },
   {
    "duration": 16,
    "start_time": "2021-07-15T16:22:32.915Z"
   },
   {
    "duration": 16,
    "start_time": "2021-07-15T16:22:32.933Z"
   },
   {
    "duration": 4111,
    "start_time": "2021-07-15T16:22:32.951Z"
   },
   {
    "duration": 297,
    "start_time": "2021-07-15T16:22:37.064Z"
   },
   {
    "duration": 5,
    "start_time": "2021-07-15T16:22:37.363Z"
   },
   {
    "duration": 37,
    "start_time": "2021-07-15T16:22:37.371Z"
   },
   {
    "duration": 36,
    "start_time": "2021-07-15T16:22:37.455Z"
   },
   {
    "duration": 472,
    "start_time": "2021-07-15T16:22:37.493Z"
   },
   {
    "duration": 1602,
    "start_time": "2021-07-15T16:22:37.968Z"
   },
   {
    "duration": 13,
    "start_time": "2021-07-15T16:22:39.572Z"
   },
   {
    "duration": 14,
    "start_time": "2021-07-15T16:22:39.588Z"
   },
   {
    "duration": 7,
    "start_time": "2021-07-15T16:22:39.604Z"
   },
   {
    "duration": 10223,
    "start_time": "2021-07-15T16:22:39.614Z"
   },
   {
    "duration": 421,
    "start_time": "2021-07-15T16:22:49.839Z"
   },
   {
    "duration": 15,
    "start_time": "2021-07-15T16:22:50.262Z"
   },
   {
    "duration": 30,
    "start_time": "2021-07-15T16:22:50.279Z"
   },
   {
    "duration": 16550,
    "start_time": "2021-07-15T16:22:50.312Z"
   },
   {
    "duration": 9,
    "start_time": "2021-07-15T16:23:06.865Z"
   },
   {
    "duration": 3,
    "start_time": "2021-07-15T16:23:06.877Z"
   },
   {
    "duration": 10,
    "start_time": "2021-07-15T16:23:06.883Z"
   },
   {
    "duration": 7,
    "start_time": "2021-07-15T16:23:06.895Z"
   },
   {
    "duration": 3556,
    "start_time": "2021-07-15T16:23:06.905Z"
   },
   {
    "duration": 97,
    "start_time": "2021-07-15T16:23:10.463Z"
   },
   {
    "duration": 3,
    "start_time": "2021-07-15T16:23:10.563Z"
   },
   {
    "duration": 14,
    "start_time": "2021-07-15T16:23:10.568Z"
   },
   {
    "duration": 91,
    "start_time": "2021-07-15T16:23:10.585Z"
   },
   {
    "duration": 14,
    "start_time": "2021-07-15T16:23:10.679Z"
   },
   {
    "duration": 2159,
    "start_time": "2021-07-15T16:23:10.697Z"
   },
   {
    "duration": 13,
    "start_time": "2021-07-15T16:23:12.859Z"
   },
   {
    "duration": 7,
    "start_time": "2021-07-15T16:23:12.874Z"
   },
   {
    "duration": 12685,
    "start_time": "2021-07-15T16:23:12.883Z"
   },
   {
    "duration": 572,
    "start_time": "2021-07-15T16:23:25.572Z"
   },
   {
    "duration": 21,
    "start_time": "2021-07-15T16:23:26.147Z"
   },
   {
    "duration": 17,
    "start_time": "2021-07-15T16:23:26.170Z"
   },
   {
    "duration": 11,
    "start_time": "2021-07-15T16:23:26.189Z"
   },
   {
    "duration": 13,
    "start_time": "2021-07-15T16:23:26.203Z"
   },
   {
    "duration": 44,
    "start_time": "2021-07-15T16:23:26.218Z"
   },
   {
    "duration": 12,
    "start_time": "2021-07-15T16:24:17.665Z"
   },
   {
    "duration": 1455,
    "start_time": "2021-07-15T16:24:23.301Z"
   },
   {
    "duration": 54,
    "start_time": "2021-07-15T16:24:24.759Z"
   },
   {
    "duration": 9,
    "start_time": "2021-07-15T16:24:24.816Z"
   },
   {
    "duration": 8,
    "start_time": "2021-07-15T16:24:24.828Z"
   },
   {
    "duration": 18,
    "start_time": "2021-07-15T16:24:24.856Z"
   },
   {
    "duration": 7,
    "start_time": "2021-07-15T16:24:24.876Z"
   },
   {
    "duration": 11,
    "start_time": "2021-07-15T16:24:24.885Z"
   },
   {
    "duration": 80,
    "start_time": "2021-07-15T16:24:24.898Z"
   },
   {
    "duration": 5,
    "start_time": "2021-07-15T16:24:24.982Z"
   },
   {
    "duration": 19,
    "start_time": "2021-07-15T16:24:24.990Z"
   },
   {
    "duration": 15,
    "start_time": "2021-07-15T16:24:25.012Z"
   },
   {
    "duration": 502,
    "start_time": "2021-07-15T16:24:25.056Z"
   },
   {
    "duration": 18,
    "start_time": "2021-07-15T16:24:25.560Z"
   },
   {
    "duration": 930,
    "start_time": "2021-07-15T16:24:25.580Z"
   },
   {
    "duration": 5,
    "start_time": "2021-07-15T16:24:26.512Z"
   },
   {
    "duration": 15,
    "start_time": "2021-07-15T16:24:26.520Z"
   },
   {
    "duration": 38,
    "start_time": "2021-07-15T16:24:26.538Z"
   },
   {
    "duration": 18,
    "start_time": "2021-07-15T16:24:26.578Z"
   },
   {
    "duration": 17,
    "start_time": "2021-07-15T16:24:26.599Z"
   },
   {
    "duration": 87,
    "start_time": "2021-07-15T16:24:26.618Z"
   },
   {
    "duration": 19,
    "start_time": "2021-07-15T16:24:26.707Z"
   },
   {
    "duration": 10,
    "start_time": "2021-07-15T16:24:26.729Z"
   },
   {
    "duration": 8,
    "start_time": "2021-07-15T16:24:26.756Z"
   },
   {
    "duration": 17,
    "start_time": "2021-07-15T16:24:26.767Z"
   },
   {
    "duration": 6,
    "start_time": "2021-07-15T16:24:26.786Z"
   },
   {
    "duration": 8,
    "start_time": "2021-07-15T16:24:26.794Z"
   },
   {
    "duration": 52,
    "start_time": "2021-07-15T16:24:26.809Z"
   },
   {
    "duration": 30901,
    "start_time": "2021-07-15T16:24:26.864Z"
   },
   {
    "duration": 6,
    "start_time": "2021-07-15T16:24:57.768Z"
   },
   {
    "duration": 14,
    "start_time": "2021-07-15T16:24:57.777Z"
   },
   {
    "duration": 5,
    "start_time": "2021-07-15T16:24:57.794Z"
   },
   {
    "duration": 4,
    "start_time": "2021-07-15T16:24:57.802Z"
   },
   {
    "duration": 3911,
    "start_time": "2021-07-15T16:24:57.855Z"
   },
   {
    "duration": 293,
    "start_time": "2021-07-15T16:25:01.768Z"
   },
   {
    "duration": 5,
    "start_time": "2021-07-15T16:25:02.063Z"
   },
   {
    "duration": 68,
    "start_time": "2021-07-15T16:25:02.070Z"
   },
   {
    "duration": 35,
    "start_time": "2021-07-15T16:25:02.156Z"
   },
   {
    "duration": 508,
    "start_time": "2021-07-15T16:25:02.194Z"
   },
   {
    "duration": 1439,
    "start_time": "2021-07-15T16:25:02.705Z"
   },
   {
    "duration": 18,
    "start_time": "2021-07-15T16:25:04.147Z"
   },
   {
    "duration": 8,
    "start_time": "2021-07-15T16:25:04.167Z"
   },
   {
    "duration": 6,
    "start_time": "2021-07-15T16:25:04.177Z"
   },
   {
    "duration": 9040,
    "start_time": "2021-07-15T16:25:04.185Z"
   },
   {
    "duration": 391,
    "start_time": "2021-07-15T16:25:13.227Z"
   },
   {
    "duration": 14,
    "start_time": "2021-07-15T16:25:13.621Z"
   },
   {
    "duration": 3,
    "start_time": "2021-07-15T16:25:13.655Z"
   },
   {
    "duration": 16615,
    "start_time": "2021-07-15T16:25:13.660Z"
   },
   {
    "duration": 13,
    "start_time": "2021-07-15T16:25:30.278Z"
   },
   {
    "duration": 6,
    "start_time": "2021-07-15T16:25:30.293Z"
   },
   {
    "duration": 14,
    "start_time": "2021-07-15T16:25:30.302Z"
   },
   {
    "duration": 24,
    "start_time": "2021-07-15T16:25:30.318Z"
   },
   {
    "duration": 3819,
    "start_time": "2021-07-15T16:25:30.345Z"
   },
   {
    "duration": 95,
    "start_time": "2021-07-15T16:25:34.168Z"
   },
   {
    "duration": 4,
    "start_time": "2021-07-15T16:25:34.266Z"
   },
   {
    "duration": 16,
    "start_time": "2021-07-15T16:25:34.273Z"
   },
   {
    "duration": 99,
    "start_time": "2021-07-15T16:25:34.292Z"
   },
   {
    "duration": 14,
    "start_time": "2021-07-15T16:25:34.394Z"
   },
   {
    "duration": 1838,
    "start_time": "2021-07-15T16:25:34.457Z"
   },
   {
    "duration": 13,
    "start_time": "2021-07-15T16:25:36.297Z"
   },
   {
    "duration": 8,
    "start_time": "2021-07-15T16:25:36.312Z"
   },
   {
    "duration": 11192,
    "start_time": "2021-07-15T16:25:36.322Z"
   },
   {
    "duration": 486,
    "start_time": "2021-07-15T16:25:47.516Z"
   },
   {
    "duration": 15,
    "start_time": "2021-07-15T16:25:48.004Z"
   },
   {
    "duration": 37,
    "start_time": "2021-07-15T16:25:48.022Z"
   },
   {
    "duration": 22,
    "start_time": "2021-07-15T16:25:48.061Z"
   },
   {
    "duration": 12,
    "start_time": "2021-07-15T16:25:48.086Z"
   },
   {
    "duration": 15,
    "start_time": "2021-07-15T16:25:48.100Z"
   },
   {
    "duration": 15,
    "start_time": "2021-07-15T16:26:29.088Z"
   },
   {
    "duration": 8,
    "start_time": "2021-07-15T16:26:31.505Z"
   },
   {
    "duration": 76,
    "start_time": "2021-07-15T16:26:31.515Z"
   },
   {
    "duration": 7,
    "start_time": "2021-07-15T16:26:31.594Z"
   },
   {
    "duration": 57,
    "start_time": "2021-07-15T16:26:31.604Z"
   },
   {
    "duration": 38,
    "start_time": "2021-07-15T16:26:31.663Z"
   },
   {
    "duration": 16,
    "start_time": "2021-07-15T16:26:31.703Z"
   },
   {
    "duration": 28,
    "start_time": "2021-07-15T16:26:31.721Z"
   },
   {
    "duration": 47,
    "start_time": "2021-07-15T16:26:31.751Z"
   },
   {
    "duration": 4,
    "start_time": "2021-07-15T16:26:31.802Z"
   },
   {
    "duration": 27,
    "start_time": "2021-07-15T16:26:31.809Z"
   },
   {
    "duration": 26,
    "start_time": "2021-07-15T16:26:31.839Z"
   },
   {
    "duration": 483,
    "start_time": "2021-07-15T16:26:31.868Z"
   },
   {
    "duration": 14,
    "start_time": "2021-07-15T16:26:32.356Z"
   },
   {
    "duration": 922,
    "start_time": "2021-07-15T16:26:32.373Z"
   },
   {
    "duration": 5,
    "start_time": "2021-07-15T16:26:33.297Z"
   },
   {
    "duration": 16,
    "start_time": "2021-07-15T16:26:33.305Z"
   },
   {
    "duration": 33,
    "start_time": "2021-07-15T16:26:33.324Z"
   },
   {
    "duration": 21,
    "start_time": "2021-07-15T16:26:33.359Z"
   },
   {
    "duration": 10,
    "start_time": "2021-07-15T16:26:33.382Z"
   },
   {
    "duration": 18,
    "start_time": "2021-07-15T16:26:33.394Z"
   },
   {
    "duration": 43,
    "start_time": "2021-07-15T16:26:33.414Z"
   },
   {
    "duration": 9,
    "start_time": "2021-07-15T16:26:33.459Z"
   },
   {
    "duration": 22,
    "start_time": "2021-07-15T16:26:33.470Z"
   },
   {
    "duration": 35,
    "start_time": "2021-07-15T16:26:33.494Z"
   },
   {
    "duration": 13,
    "start_time": "2021-07-15T16:26:33.531Z"
   },
   {
    "duration": 19,
    "start_time": "2021-07-15T16:26:33.547Z"
   },
   {
    "duration": 18,
    "start_time": "2021-07-15T16:26:33.572Z"
   },
   {
    "duration": 32016,
    "start_time": "2021-07-15T16:26:33.594Z"
   },
   {
    "duration": 5,
    "start_time": "2021-07-15T16:27:05.613Z"
   },
   {
    "duration": 12,
    "start_time": "2021-07-15T16:27:05.620Z"
   },
   {
    "duration": 24,
    "start_time": "2021-07-15T16:27:05.634Z"
   },
   {
    "duration": 7,
    "start_time": "2021-07-15T16:27:05.660Z"
   },
   {
    "duration": 3689,
    "start_time": "2021-07-15T16:27:05.669Z"
   },
   {
    "duration": 220,
    "start_time": "2021-07-15T16:27:09.360Z"
   },
   {
    "duration": 74,
    "start_time": "2021-07-15T16:27:09.583Z"
   },
   {
    "duration": 47,
    "start_time": "2021-07-15T16:27:09.660Z"
   },
   {
    "duration": 54,
    "start_time": "2021-07-15T16:27:09.710Z"
   },
   {
    "duration": 296,
    "start_time": "2021-07-15T16:27:09.766Z"
   },
   {
    "duration": 1570,
    "start_time": "2021-07-15T16:27:10.065Z"
   },
   {
    "duration": 24,
    "start_time": "2021-07-15T16:27:11.638Z"
   },
   {
    "duration": 8,
    "start_time": "2021-07-15T16:27:11.664Z"
   },
   {
    "duration": 6,
    "start_time": "2021-07-15T16:27:11.675Z"
   },
   {
    "duration": 10056,
    "start_time": "2021-07-15T16:27:11.684Z"
   },
   {
    "duration": 434,
    "start_time": "2021-07-15T16:27:21.743Z"
   },
   {
    "duration": 19,
    "start_time": "2021-07-15T16:27:22.180Z"
   },
   {
    "duration": 4,
    "start_time": "2021-07-15T16:27:22.202Z"
   },
   {
    "duration": 19359,
    "start_time": "2021-07-15T16:27:22.209Z"
   },
   {
    "duration": 9,
    "start_time": "2021-07-15T16:27:41.571Z"
   },
   {
    "duration": 6,
    "start_time": "2021-07-15T16:27:41.583Z"
   },
   {
    "duration": 7,
    "start_time": "2021-07-15T16:27:41.592Z"
   },
   {
    "duration": 8,
    "start_time": "2021-07-15T16:27:41.601Z"
   },
   {
    "duration": 3951,
    "start_time": "2021-07-15T16:27:41.611Z"
   },
   {
    "duration": 97,
    "start_time": "2021-07-15T16:27:45.564Z"
   },
   {
    "duration": 11,
    "start_time": "2021-07-15T16:27:45.664Z"
   },
   {
    "duration": 14,
    "start_time": "2021-07-15T16:27:45.678Z"
   },
   {
    "duration": 72,
    "start_time": "2021-07-15T16:27:45.694Z"
   },
   {
    "duration": 13,
    "start_time": "2021-07-15T16:27:45.769Z"
   },
   {
    "duration": 2109,
    "start_time": "2021-07-15T16:27:45.784Z"
   },
   {
    "duration": 12,
    "start_time": "2021-07-15T16:27:47.895Z"
   },
   {
    "duration": 12,
    "start_time": "2021-07-15T16:27:47.910Z"
   },
   {
    "duration": 12942,
    "start_time": "2021-07-15T16:27:47.925Z"
   },
   {
    "duration": 539,
    "start_time": "2021-07-15T16:28:00.870Z"
   },
   {
    "duration": 13,
    "start_time": "2021-07-15T16:28:01.412Z"
   },
   {
    "duration": 38,
    "start_time": "2021-07-15T16:28:01.428Z"
   },
   {
    "duration": 22,
    "start_time": "2021-07-15T16:28:01.468Z"
   },
   {
    "duration": 34,
    "start_time": "2021-07-15T16:28:01.493Z"
   },
   {
    "duration": 27,
    "start_time": "2021-07-15T16:28:01.529Z"
   },
   {
    "duration": 17,
    "start_time": "2021-07-15T16:29:15.146Z"
   },
   {
    "duration": 1439,
    "start_time": "2021-07-15T16:29:20.307Z"
   },
   {
    "duration": 58,
    "start_time": "2021-07-15T16:29:21.749Z"
   },
   {
    "duration": 9,
    "start_time": "2021-07-15T16:29:21.810Z"
   },
   {
    "duration": 9,
    "start_time": "2021-07-15T16:29:21.822Z"
   },
   {
    "duration": 40,
    "start_time": "2021-07-15T16:29:21.834Z"
   },
   {
    "duration": 7,
    "start_time": "2021-07-15T16:29:21.876Z"
   },
   {
    "duration": 13,
    "start_time": "2021-07-15T16:29:21.885Z"
   },
   {
    "duration": 74,
    "start_time": "2021-07-15T16:29:21.901Z"
   },
   {
    "duration": 5,
    "start_time": "2021-07-15T16:29:21.978Z"
   },
   {
    "duration": 18,
    "start_time": "2021-07-15T16:29:21.985Z"
   },
   {
    "duration": 15,
    "start_time": "2021-07-15T16:29:22.005Z"
   },
   {
    "duration": 536,
    "start_time": "2021-07-15T16:29:22.022Z"
   },
   {
    "duration": 17,
    "start_time": "2021-07-15T16:29:22.561Z"
   },
   {
    "duration": 910,
    "start_time": "2021-07-15T16:29:22.580Z"
   },
   {
    "duration": 6,
    "start_time": "2021-07-15T16:29:23.492Z"
   },
   {
    "duration": 9,
    "start_time": "2021-07-15T16:29:23.500Z"
   },
   {
    "duration": 48,
    "start_time": "2021-07-15T16:29:23.512Z"
   },
   {
    "duration": 19,
    "start_time": "2021-07-15T16:29:23.562Z"
   },
   {
    "duration": 12,
    "start_time": "2021-07-15T16:29:23.583Z"
   },
   {
    "duration": 115,
    "start_time": "2021-07-15T16:29:23.597Z"
   },
   {
    "duration": 16,
    "start_time": "2021-07-15T16:29:23.714Z"
   },
   {
    "duration": 31,
    "start_time": "2021-07-15T16:29:23.732Z"
   },
   {
    "duration": 8,
    "start_time": "2021-07-15T16:29:23.769Z"
   },
   {
    "duration": 15,
    "start_time": "2021-07-15T16:29:23.781Z"
   },
   {
    "duration": 5,
    "start_time": "2021-07-15T16:29:23.799Z"
   },
   {
    "duration": 50,
    "start_time": "2021-07-15T16:29:23.807Z"
   },
   {
    "duration": 16,
    "start_time": "2021-07-15T16:29:23.859Z"
   },
   {
    "duration": 33190,
    "start_time": "2021-07-15T16:29:23.877Z"
   },
   {
    "duration": 6,
    "start_time": "2021-07-15T16:29:57.069Z"
   },
   {
    "duration": 24,
    "start_time": "2021-07-15T16:29:57.077Z"
   },
   {
    "duration": 9,
    "start_time": "2021-07-15T16:29:57.104Z"
   },
   {
    "duration": 12,
    "start_time": "2021-07-15T16:29:57.116Z"
   },
   {
    "duration": 3738,
    "start_time": "2021-07-15T16:29:57.131Z"
   },
   {
    "duration": 305,
    "start_time": "2021-07-15T16:30:00.871Z"
   },
   {
    "duration": 5,
    "start_time": "2021-07-15T16:30:01.178Z"
   },
   {
    "duration": 40,
    "start_time": "2021-07-15T16:30:01.257Z"
   },
   {
    "duration": 66,
    "start_time": "2021-07-15T16:30:01.299Z"
   },
   {
    "duration": 489,
    "start_time": "2021-07-15T16:30:01.368Z"
   },
   {
    "duration": 1898,
    "start_time": "2021-07-15T16:30:01.860Z"
   },
   {
    "duration": 14,
    "start_time": "2021-07-15T16:30:03.760Z"
   },
   {
    "duration": 19,
    "start_time": "2021-07-15T16:30:03.776Z"
   },
   {
    "duration": 17,
    "start_time": "2021-07-15T16:30:03.798Z"
   },
   {
    "duration": 12277,
    "start_time": "2021-07-15T16:30:03.817Z"
   },
   {
    "duration": 538,
    "start_time": "2021-07-15T16:30:16.097Z"
   },
   {
    "duration": 29,
    "start_time": "2021-07-15T16:30:16.638Z"
   },
   {
    "duration": 4,
    "start_time": "2021-07-15T16:30:16.669Z"
   },
   {
    "duration": 17885,
    "start_time": "2021-07-15T16:30:16.676Z"
   },
   {
    "duration": 9,
    "start_time": "2021-07-15T16:30:34.563Z"
   },
   {
    "duration": 3,
    "start_time": "2021-07-15T16:30:34.575Z"
   },
   {
    "duration": 14,
    "start_time": "2021-07-15T16:30:34.581Z"
   },
   {
    "duration": 10,
    "start_time": "2021-07-15T16:30:34.598Z"
   },
   {
    "duration": 7160,
    "start_time": "2021-07-15T16:30:34.610Z"
   },
   {
    "duration": 101,
    "start_time": "2021-07-15T16:30:41.773Z"
   },
   {
    "duration": 4,
    "start_time": "2021-07-15T16:30:41.876Z"
   },
   {
    "duration": 14,
    "start_time": "2021-07-15T16:30:41.882Z"
   },
   {
    "duration": 93,
    "start_time": "2021-07-15T16:30:41.898Z"
   },
   {
    "duration": 63,
    "start_time": "2021-07-15T16:30:41.993Z"
   },
   {
    "duration": 2273,
    "start_time": "2021-07-15T16:30:42.060Z"
   },
   {
    "duration": 24,
    "start_time": "2021-07-15T16:30:44.336Z"
   },
   {
    "duration": 7,
    "start_time": "2021-07-15T16:30:44.363Z"
   },
   {
    "duration": 14962,
    "start_time": "2021-07-15T16:30:44.373Z"
   },
   {
    "duration": 648,
    "start_time": "2021-07-15T16:30:59.337Z"
   },
   {
    "duration": 14,
    "start_time": "2021-07-15T16:30:59.987Z"
   },
   {
    "duration": 17,
    "start_time": "2021-07-15T16:31:00.003Z"
   },
   {
    "duration": 36,
    "start_time": "2021-07-15T16:31:00.023Z"
   },
   {
    "duration": 8,
    "start_time": "2021-07-15T16:31:00.061Z"
   },
   {
    "duration": 17,
    "start_time": "2021-07-15T16:31:00.071Z"
   },
   {
    "duration": 11,
    "start_time": "2021-07-15T16:44:57.985Z"
   },
   {
    "duration": 1567,
    "start_time": "2021-07-15T16:45:05.522Z"
   },
   {
    "duration": 61,
    "start_time": "2021-07-15T16:45:07.092Z"
   },
   {
    "duration": 11,
    "start_time": "2021-07-15T16:45:07.158Z"
   },
   {
    "duration": 12,
    "start_time": "2021-07-15T16:45:07.173Z"
   },
   {
    "duration": 19,
    "start_time": "2021-07-15T16:45:07.188Z"
   },
   {
    "duration": 48,
    "start_time": "2021-07-15T16:45:07.210Z"
   },
   {
    "duration": 12,
    "start_time": "2021-07-15T16:45:07.260Z"
   },
   {
    "duration": 41,
    "start_time": "2021-07-15T16:45:07.276Z"
   },
   {
    "duration": 5,
    "start_time": "2021-07-15T16:45:07.320Z"
   },
   {
    "duration": 44,
    "start_time": "2021-07-15T16:45:07.327Z"
   },
   {
    "duration": 16,
    "start_time": "2021-07-15T16:45:07.374Z"
   },
   {
    "duration": 520,
    "start_time": "2021-07-15T16:45:07.393Z"
   },
   {
    "duration": 17,
    "start_time": "2021-07-15T16:45:07.915Z"
   },
   {
    "duration": 942,
    "start_time": "2021-07-15T16:45:07.934Z"
   },
   {
    "duration": 5,
    "start_time": "2021-07-15T16:45:08.879Z"
   },
   {
    "duration": 27,
    "start_time": "2021-07-15T16:45:08.886Z"
   },
   {
    "duration": 28,
    "start_time": "2021-07-15T16:45:08.915Z"
   },
   {
    "duration": 17,
    "start_time": "2021-07-15T16:45:08.946Z"
   },
   {
    "duration": 17,
    "start_time": "2021-07-15T16:45:08.966Z"
   },
   {
    "duration": 127,
    "start_time": "2021-07-15T16:45:08.986Z"
   },
   {
    "duration": 22,
    "start_time": "2021-07-15T16:45:09.116Z"
   },
   {
    "duration": 21,
    "start_time": "2021-07-15T16:45:09.141Z"
   },
   {
    "duration": 12,
    "start_time": "2021-07-15T16:45:09.171Z"
   },
   {
    "duration": 20,
    "start_time": "2021-07-15T16:45:09.188Z"
   },
   {
    "duration": 12,
    "start_time": "2021-07-15T16:45:09.211Z"
   },
   {
    "duration": 44,
    "start_time": "2021-07-15T16:45:09.225Z"
   },
   {
    "duration": 42,
    "start_time": "2021-07-15T16:45:09.271Z"
   },
   {
    "duration": 45827,
    "start_time": "2021-07-15T16:45:09.316Z"
   },
   {
    "duration": 13,
    "start_time": "2021-07-15T16:45:55.145Z"
   },
   {
    "duration": 11,
    "start_time": "2021-07-15T16:45:55.161Z"
   },
   {
    "duration": 9,
    "start_time": "2021-07-15T16:45:55.175Z"
   },
   {
    "duration": 10,
    "start_time": "2021-07-15T16:45:55.187Z"
   },
   {
    "duration": 208962,
    "start_time": "2021-07-15T16:45:55.200Z"
   },
   {
    "duration": 296,
    "start_time": "2021-07-15T16:49:24.165Z"
   },
   {
    "duration": 4,
    "start_time": "2021-07-15T16:49:24.463Z"
   },
   {
    "duration": 86,
    "start_time": "2021-07-15T16:49:24.469Z"
   },
   {
    "duration": 31,
    "start_time": "2021-07-15T16:49:24.558Z"
   },
   {
    "duration": 484,
    "start_time": "2021-07-15T16:49:24.592Z"
   },
   {
    "duration": 978,
    "start_time": "2021-07-15T16:49:25.078Z"
   },
   {
    "duration": 12,
    "start_time": "2021-07-15T16:49:26.059Z"
   },
   {
    "duration": 11,
    "start_time": "2021-07-15T16:49:26.075Z"
   },
   {
    "duration": 13,
    "start_time": "2021-07-15T16:49:26.089Z"
   },
   {
    "duration": 6011,
    "start_time": "2021-07-15T16:49:26.104Z"
   },
   {
    "duration": 294,
    "start_time": "2021-07-15T16:49:32.118Z"
   },
   {
    "duration": 14,
    "start_time": "2021-07-15T16:49:32.414Z"
   },
   {
    "duration": 26,
    "start_time": "2021-07-15T16:49:32.430Z"
   },
   {
    "duration": 15708,
    "start_time": "2021-07-15T16:49:32.458Z"
   },
   {
    "duration": 9,
    "start_time": "2021-07-15T16:49:48.169Z"
   },
   {
    "duration": 10,
    "start_time": "2021-07-15T16:49:48.180Z"
   },
   {
    "duration": 12,
    "start_time": "2021-07-15T16:49:48.192Z"
   },
   {
    "duration": 11,
    "start_time": "2021-07-15T16:49:48.207Z"
   },
   {
    "duration": 6342,
    "start_time": "2021-07-15T16:49:48.221Z"
   },
   {
    "duration": 95,
    "start_time": "2021-07-15T16:49:54.566Z"
   },
   {
    "duration": 3,
    "start_time": "2021-07-15T16:49:54.663Z"
   },
   {
    "duration": 10,
    "start_time": "2021-07-15T16:49:54.669Z"
   },
   {
    "duration": 31,
    "start_time": "2021-07-15T16:49:54.681Z"
   },
   {
    "duration": 12,
    "start_time": "2021-07-15T16:49:54.755Z"
   },
   {
    "duration": 1287,
    "start_time": "2021-07-15T16:49:54.771Z"
   },
   {
    "duration": 16,
    "start_time": "2021-07-15T16:49:56.060Z"
   },
   {
    "duration": 8,
    "start_time": "2021-07-15T16:49:56.078Z"
   },
   {
    "duration": 7506,
    "start_time": "2021-07-15T16:49:56.088Z"
   },
   {
    "duration": 333,
    "start_time": "2021-07-15T16:50:03.597Z"
   },
   {
    "duration": 26,
    "start_time": "2021-07-15T16:50:03.932Z"
   },
   {
    "duration": 16,
    "start_time": "2021-07-15T16:50:03.961Z"
   },
   {
    "duration": 9,
    "start_time": "2021-07-15T16:50:03.980Z"
   },
   {
    "duration": 8,
    "start_time": "2021-07-15T16:50:03.992Z"
   },
   {
    "duration": 57,
    "start_time": "2021-07-15T16:50:04.003Z"
   },
   {
    "duration": 14,
    "start_time": "2021-07-15T16:53:40.382Z"
   },
   {
    "duration": 1625,
    "start_time": "2021-07-15T16:53:46.535Z"
   },
   {
    "duration": 55,
    "start_time": "2021-07-15T16:53:48.162Z"
   },
   {
    "duration": 10,
    "start_time": "2021-07-15T16:53:48.221Z"
   },
   {
    "duration": 24,
    "start_time": "2021-07-15T16:53:48.233Z"
   },
   {
    "duration": 17,
    "start_time": "2021-07-15T16:53:48.259Z"
   },
   {
    "duration": 7,
    "start_time": "2021-07-15T16:53:48.278Z"
   },
   {
    "duration": 17,
    "start_time": "2021-07-15T16:53:48.287Z"
   },
   {
    "duration": 75,
    "start_time": "2021-07-15T16:53:48.308Z"
   },
   {
    "duration": 5,
    "start_time": "2021-07-15T16:53:48.386Z"
   },
   {
    "duration": 20,
    "start_time": "2021-07-15T16:53:48.393Z"
   },
   {
    "duration": 45,
    "start_time": "2021-07-15T16:53:48.415Z"
   },
   {
    "duration": 564,
    "start_time": "2021-07-15T16:53:48.463Z"
   },
   {
    "duration": 24,
    "start_time": "2021-07-15T16:53:49.030Z"
   },
   {
    "duration": 1054,
    "start_time": "2021-07-15T16:53:49.057Z"
   },
   {
    "duration": 46,
    "start_time": "2021-07-15T16:53:50.114Z"
   },
   {
    "duration": 8,
    "start_time": "2021-07-15T16:53:50.163Z"
   },
   {
    "duration": 16,
    "start_time": "2021-07-15T16:53:50.173Z"
   },
   {
    "duration": 14,
    "start_time": "2021-07-15T16:53:50.192Z"
   },
   {
    "duration": 51,
    "start_time": "2021-07-15T16:53:50.208Z"
   },
   {
    "duration": 98,
    "start_time": "2021-07-15T16:53:50.261Z"
   },
   {
    "duration": 16,
    "start_time": "2021-07-15T16:53:50.362Z"
   },
   {
    "duration": 10,
    "start_time": "2021-07-15T16:53:50.381Z"
   },
   {
    "duration": 8,
    "start_time": "2021-07-15T16:53:50.400Z"
   },
   {
    "duration": 57,
    "start_time": "2021-07-15T16:53:50.414Z"
   },
   {
    "duration": 6,
    "start_time": "2021-07-15T16:53:50.474Z"
   },
   {
    "duration": 8,
    "start_time": "2021-07-15T16:53:50.483Z"
   },
   {
    "duration": 65,
    "start_time": "2021-07-15T16:53:50.494Z"
   },
   {
    "duration": 29747,
    "start_time": "2021-07-15T16:53:50.561Z"
   },
   {
    "duration": 5,
    "start_time": "2021-07-15T16:54:20.311Z"
   },
   {
    "duration": 22,
    "start_time": "2021-07-15T16:54:20.318Z"
   },
   {
    "duration": 5,
    "start_time": "2021-07-15T16:54:20.343Z"
   },
   {
    "duration": 16,
    "start_time": "2021-07-15T16:54:20.350Z"
   },
   {
    "duration": 3293,
    "start_time": "2021-07-15T16:54:20.369Z"
   },
   {
    "duration": 295,
    "start_time": "2021-07-15T16:54:23.665Z"
   },
   {
    "duration": 5,
    "start_time": "2021-07-15T16:54:23.963Z"
   },
   {
    "duration": 42,
    "start_time": "2021-07-15T16:54:23.971Z"
   },
   {
    "duration": 70,
    "start_time": "2021-07-15T16:54:24.016Z"
   },
   {
    "duration": 419,
    "start_time": "2021-07-15T16:54:24.089Z"
   },
   {
    "duration": 1200,
    "start_time": "2021-07-15T16:54:24.510Z"
   },
   {
    "duration": 13,
    "start_time": "2021-07-15T16:54:25.713Z"
   },
   {
    "duration": 33,
    "start_time": "2021-07-15T16:54:25.728Z"
   },
   {
    "duration": 18,
    "start_time": "2021-07-15T16:54:25.763Z"
   },
   {
    "duration": 8132,
    "start_time": "2021-07-15T16:54:25.783Z"
   },
   {
    "duration": 304,
    "start_time": "2021-07-15T16:54:33.918Z"
   },
   {
    "duration": 15,
    "start_time": "2021-07-15T16:54:34.225Z"
   },
   {
    "duration": 3,
    "start_time": "2021-07-15T16:54:34.256Z"
   },
   {
    "duration": 16327,
    "start_time": "2021-07-15T16:54:34.261Z"
   },
   {
    "duration": 8,
    "start_time": "2021-07-15T16:54:50.591Z"
   },
   {
    "duration": 5,
    "start_time": "2021-07-15T16:54:50.601Z"
   },
   {
    "duration": 8,
    "start_time": "2021-07-15T16:54:50.608Z"
   },
   {
    "duration": 11,
    "start_time": "2021-07-15T16:54:50.619Z"
   },
   {
    "duration": 3436,
    "start_time": "2021-07-15T16:54:50.632Z"
   },
   {
    "duration": 91,
    "start_time": "2021-07-15T16:54:54.071Z"
   },
   {
    "duration": 3,
    "start_time": "2021-07-15T16:54:54.164Z"
   },
   {
    "duration": 10,
    "start_time": "2021-07-15T16:54:54.170Z"
   },
   {
    "duration": 103,
    "start_time": "2021-07-15T16:54:54.182Z"
   },
   {
    "duration": 13,
    "start_time": "2021-07-15T16:54:54.288Z"
   },
   {
    "duration": 1534,
    "start_time": "2021-07-15T16:54:54.358Z"
   },
   {
    "duration": 19,
    "start_time": "2021-07-15T16:54:55.895Z"
   },
   {
    "duration": 8,
    "start_time": "2021-07-15T16:54:55.917Z"
   },
   {
    "duration": 9436,
    "start_time": "2021-07-15T16:54:55.928Z"
   },
   {
    "duration": 396,
    "start_time": "2021-07-15T16:55:05.366Z"
   },
   {
    "duration": 17,
    "start_time": "2021-07-15T16:55:05.765Z"
   },
   {
    "duration": 19,
    "start_time": "2021-07-15T16:55:05.785Z"
   },
   {
    "duration": 9,
    "start_time": "2021-07-15T16:55:05.806Z"
   },
   {
    "duration": 8,
    "start_time": "2021-07-15T16:55:05.855Z"
   },
   {
    "duration": 13,
    "start_time": "2021-07-15T16:55:05.865Z"
   },
   {
    "duration": 13,
    "start_time": "2021-07-15T16:55:23.721Z"
   },
   {
    "duration": 1482,
    "start_time": "2021-07-15T16:55:28.580Z"
   },
   {
    "duration": 260,
    "start_time": "2021-07-15T16:55:30.069Z"
   },
   {
    "duration": 9,
    "start_time": "2021-07-15T16:55:30.332Z"
   },
   {
    "duration": 12,
    "start_time": "2021-07-15T16:55:30.344Z"
   },
   {
    "duration": 28,
    "start_time": "2021-07-15T16:55:30.359Z"
   },
   {
    "duration": 12,
    "start_time": "2021-07-15T16:55:30.389Z"
   },
   {
    "duration": 29,
    "start_time": "2021-07-15T16:55:30.406Z"
   },
   {
    "duration": 50,
    "start_time": "2021-07-15T16:55:30.439Z"
   },
   {
    "duration": 6,
    "start_time": "2021-07-15T16:55:30.492Z"
   },
   {
    "duration": 227,
    "start_time": "2021-07-15T16:55:30.501Z"
   },
   {
    "duration": 30,
    "start_time": "2021-07-15T16:55:30.730Z"
   },
   {
    "duration": 493,
    "start_time": "2021-07-15T16:55:30.762Z"
   },
   {
    "duration": 16,
    "start_time": "2021-07-15T16:55:31.258Z"
   },
   {
    "duration": 975,
    "start_time": "2021-07-15T16:55:31.277Z"
   },
   {
    "duration": 8,
    "start_time": "2021-07-15T16:55:32.257Z"
   },
   {
    "duration": 12,
    "start_time": "2021-07-15T16:55:32.268Z"
   },
   {
    "duration": 22,
    "start_time": "2021-07-15T16:55:32.282Z"
   },
   {
    "duration": 50,
    "start_time": "2021-07-15T16:55:32.307Z"
   },
   {
    "duration": 11,
    "start_time": "2021-07-15T16:55:32.359Z"
   },
   {
    "duration": 97,
    "start_time": "2021-07-15T16:55:32.373Z"
   },
   {
    "duration": 25,
    "start_time": "2021-07-15T16:55:32.473Z"
   },
   {
    "duration": 14,
    "start_time": "2021-07-15T16:55:32.500Z"
   },
   {
    "duration": 20,
    "start_time": "2021-07-15T16:55:32.517Z"
   },
   {
    "duration": 25,
    "start_time": "2021-07-15T16:55:32.539Z"
   },
   {
    "duration": 8,
    "start_time": "2021-07-15T16:55:32.573Z"
   },
   {
    "duration": 8,
    "start_time": "2021-07-15T16:55:32.585Z"
   },
   {
    "duration": 22,
    "start_time": "2021-07-15T16:55:32.595Z"
   },
   {
    "duration": 31287,
    "start_time": "2021-07-15T16:55:32.619Z"
   },
   {
    "duration": 6,
    "start_time": "2021-07-15T16:56:03.909Z"
   },
   {
    "duration": 19,
    "start_time": "2021-07-15T16:56:03.918Z"
   },
   {
    "duration": 12,
    "start_time": "2021-07-15T16:56:03.941Z"
   },
   {
    "duration": 5,
    "start_time": "2021-07-15T16:56:03.955Z"
   },
   {
    "duration": 4402,
    "start_time": "2021-07-15T16:56:03.963Z"
   },
   {
    "duration": 290,
    "start_time": "2021-07-15T16:56:08.368Z"
   },
   {
    "duration": 5,
    "start_time": "2021-07-15T16:56:08.660Z"
   },
   {
    "duration": 42,
    "start_time": "2021-07-15T16:56:08.667Z"
   },
   {
    "duration": 59,
    "start_time": "2021-07-15T16:56:08.711Z"
   },
   {
    "duration": 461,
    "start_time": "2021-07-15T16:56:08.773Z"
   },
   {
    "duration": 1419,
    "start_time": "2021-07-15T16:56:09.237Z"
   },
   {
    "duration": 11,
    "start_time": "2021-07-15T16:56:10.658Z"
   },
   {
    "duration": 21,
    "start_time": "2021-07-15T16:56:10.671Z"
   },
   {
    "duration": 13,
    "start_time": "2021-07-15T16:56:10.695Z"
   },
   {
    "duration": 8848,
    "start_time": "2021-07-15T16:56:10.711Z"
   },
   {
    "duration": 376,
    "start_time": "2021-07-15T16:56:19.561Z"
   },
   {
    "duration": 24,
    "start_time": "2021-07-15T16:56:19.939Z"
   },
   {
    "duration": 3,
    "start_time": "2021-07-15T16:56:19.965Z"
   },
   {
    "duration": 16875,
    "start_time": "2021-07-15T16:56:19.971Z"
   },
   {
    "duration": 11,
    "start_time": "2021-07-15T16:56:36.848Z"
   },
   {
    "duration": 11,
    "start_time": "2021-07-15T16:56:36.861Z"
   },
   {
    "duration": 11,
    "start_time": "2021-07-15T16:56:36.874Z"
   },
   {
    "duration": 17,
    "start_time": "2021-07-15T16:56:36.887Z"
   },
   {
    "duration": 3651,
    "start_time": "2021-07-15T16:56:36.906Z"
   },
   {
    "duration": 98,
    "start_time": "2021-07-15T16:56:40.560Z"
   },
   {
    "duration": 4,
    "start_time": "2021-07-15T16:56:40.661Z"
   },
   {
    "duration": 14,
    "start_time": "2021-07-15T16:56:40.667Z"
   },
   {
    "duration": 50,
    "start_time": "2021-07-15T16:56:40.683Z"
   },
   {
    "duration": 22,
    "start_time": "2021-07-15T16:56:40.757Z"
   },
   {
    "duration": 1873,
    "start_time": "2021-07-15T16:56:40.782Z"
   },
   {
    "duration": 13,
    "start_time": "2021-07-15T16:56:42.657Z"
   },
   {
    "duration": 12,
    "start_time": "2021-07-15T16:56:42.672Z"
   },
   {
    "duration": 10861,
    "start_time": "2021-07-15T16:56:42.686Z"
   },
   {
    "duration": 451,
    "start_time": "2021-07-15T16:56:53.549Z"
   },
   {
    "duration": 13,
    "start_time": "2021-07-15T16:56:54.003Z"
   },
   {
    "duration": 40,
    "start_time": "2021-07-15T16:56:54.018Z"
   },
   {
    "duration": 8,
    "start_time": "2021-07-15T16:56:54.060Z"
   },
   {
    "duration": 10,
    "start_time": "2021-07-15T16:56:54.070Z"
   },
   {
    "duration": 9,
    "start_time": "2021-07-15T16:56:54.083Z"
   },
   {
    "duration": 15,
    "start_time": "2021-07-15T17:12:24.214Z"
   },
   {
    "duration": 1681,
    "start_time": "2021-07-15T17:12:30.541Z"
   },
   {
    "duration": 58,
    "start_time": "2021-07-15T17:12:32.224Z"
   },
   {
    "duration": 9,
    "start_time": "2021-07-15T17:12:32.285Z"
   },
   {
    "duration": 8,
    "start_time": "2021-07-15T17:12:32.297Z"
   },
   {
    "duration": 21,
    "start_time": "2021-07-15T17:12:32.308Z"
   },
   {
    "duration": 8,
    "start_time": "2021-07-15T17:12:32.355Z"
   },
   {
    "duration": 13,
    "start_time": "2021-07-15T17:12:32.365Z"
   },
   {
    "duration": 73,
    "start_time": "2021-07-15T17:12:32.382Z"
   },
   {
    "duration": 6,
    "start_time": "2021-07-15T17:12:32.458Z"
   },
   {
    "duration": 26,
    "start_time": "2021-07-15T17:12:32.466Z"
   },
   {
    "duration": 19,
    "start_time": "2021-07-15T17:12:32.496Z"
   },
   {
    "duration": 559,
    "start_time": "2021-07-15T17:12:32.518Z"
   },
   {
    "duration": 21,
    "start_time": "2021-07-15T17:12:33.080Z"
   },
   {
    "duration": 946,
    "start_time": "2021-07-15T17:12:33.104Z"
   },
   {
    "duration": 7,
    "start_time": "2021-07-15T17:12:34.057Z"
   },
   {
    "duration": 12,
    "start_time": "2021-07-15T17:12:34.067Z"
   },
   {
    "duration": 22,
    "start_time": "2021-07-15T17:12:34.081Z"
   },
   {
    "duration": 18,
    "start_time": "2021-07-15T17:12:34.105Z"
   },
   {
    "duration": 39,
    "start_time": "2021-07-15T17:12:34.125Z"
   },
   {
    "duration": 104,
    "start_time": "2021-07-15T17:12:34.166Z"
   },
   {
    "duration": 15,
    "start_time": "2021-07-15T17:12:34.273Z"
   },
   {
    "duration": 9,
    "start_time": "2021-07-15T17:12:34.291Z"
   },
   {
    "duration": 9,
    "start_time": "2021-07-15T17:12:34.309Z"
   },
   {
    "duration": 15,
    "start_time": "2021-07-15T17:12:34.359Z"
   },
   {
    "duration": 5,
    "start_time": "2021-07-15T17:12:34.377Z"
   },
   {
    "duration": 6,
    "start_time": "2021-07-15T17:12:34.384Z"
   },
   {
    "duration": 65,
    "start_time": "2021-07-15T17:12:34.392Z"
   },
   {
    "duration": 44731,
    "start_time": "2021-07-15T17:12:34.459Z"
   },
   {
    "duration": 5,
    "start_time": "2021-07-15T17:13:19.192Z"
   },
   {
    "duration": 14,
    "start_time": "2021-07-15T17:13:19.199Z"
   },
   {
    "duration": 5,
    "start_time": "2021-07-15T17:13:19.215Z"
   },
   {
    "duration": 6,
    "start_time": "2021-07-15T17:13:19.223Z"
   },
   {
    "duration": 4025,
    "start_time": "2021-07-15T17:13:19.231Z"
   },
   {
    "duration": 208,
    "start_time": "2021-07-15T17:13:23.258Z"
   },
   {
    "duration": 5,
    "start_time": "2021-07-15T17:13:23.469Z"
   },
   {
    "duration": 35,
    "start_time": "2021-07-15T17:13:23.556Z"
   },
   {
    "duration": 32,
    "start_time": "2021-07-15T17:13:23.594Z"
   },
   {
    "duration": 477,
    "start_time": "2021-07-15T17:13:23.629Z"
   },
   {
    "duration": 1492,
    "start_time": "2021-07-15T17:13:24.109Z"
   },
   {
    "duration": 12,
    "start_time": "2021-07-15T17:13:25.604Z"
   },
   {
    "duration": 7,
    "start_time": "2021-07-15T17:13:25.618Z"
   },
   {
    "duration": 30,
    "start_time": "2021-07-15T17:13:25.627Z"
   },
   {
    "duration": 10107,
    "start_time": "2021-07-15T17:13:25.659Z"
   },
   {
    "duration": 420,
    "start_time": "2021-07-15T17:13:35.769Z"
   },
   {
    "duration": 16,
    "start_time": "2021-07-15T17:13:36.191Z"
   },
   {
    "duration": 3,
    "start_time": "2021-07-15T17:13:36.209Z"
   },
   {
    "duration": 17863,
    "start_time": "2021-07-15T17:13:36.214Z"
   },
   {
    "duration": 10,
    "start_time": "2021-07-15T17:13:54.079Z"
   },
   {
    "duration": 3,
    "start_time": "2021-07-15T17:13:54.091Z"
   },
   {
    "duration": 11,
    "start_time": "2021-07-15T17:13:54.096Z"
   },
   {
    "duration": 13,
    "start_time": "2021-07-15T17:13:54.109Z"
   },
   {
    "duration": 4241,
    "start_time": "2021-07-15T17:13:54.124Z"
   },
   {
    "duration": 95,
    "start_time": "2021-07-15T17:13:58.367Z"
   },
   {
    "duration": 3,
    "start_time": "2021-07-15T17:13:58.465Z"
   },
   {
    "duration": 8,
    "start_time": "2021-07-15T17:13:58.471Z"
   },
   {
    "duration": 106,
    "start_time": "2021-07-15T17:13:58.481Z"
   },
   {
    "duration": 13,
    "start_time": "2021-07-15T17:13:58.590Z"
   },
   {
    "duration": 1893,
    "start_time": "2021-07-15T17:13:58.658Z"
   },
   {
    "duration": 12,
    "start_time": "2021-07-15T17:14:00.556Z"
   },
   {
    "duration": 15,
    "start_time": "2021-07-15T17:14:00.571Z"
   },
   {
    "duration": 12978,
    "start_time": "2021-07-15T17:14:00.589Z"
   },
   {
    "duration": 549,
    "start_time": "2021-07-15T17:14:13.570Z"
   },
   {
    "duration": 14,
    "start_time": "2021-07-15T17:14:14.121Z"
   },
   {
    "duration": 32,
    "start_time": "2021-07-15T17:14:14.138Z"
   },
   {
    "duration": 8,
    "start_time": "2021-07-15T17:14:14.173Z"
   },
   {
    "duration": 9,
    "start_time": "2021-07-15T17:14:14.183Z"
   },
   {
    "duration": 7,
    "start_time": "2021-07-15T17:14:14.194Z"
   },
   {
    "duration": 14,
    "start_time": "2021-07-15T17:14:37.224Z"
   },
   {
    "duration": 1554,
    "start_time": "2021-07-15T17:14:42.911Z"
   },
   {
    "duration": 57,
    "start_time": "2021-07-15T17:14:44.468Z"
   },
   {
    "duration": 8,
    "start_time": "2021-07-15T17:14:44.531Z"
   },
   {
    "duration": 7,
    "start_time": "2021-07-15T17:14:44.556Z"
   },
   {
    "duration": 18,
    "start_time": "2021-07-15T17:14:44.565Z"
   },
   {
    "duration": 7,
    "start_time": "2021-07-15T17:14:44.586Z"
   },
   {
    "duration": 11,
    "start_time": "2021-07-15T17:14:44.598Z"
   },
   {
    "duration": 80,
    "start_time": "2021-07-15T17:14:44.612Z"
   },
   {
    "duration": 5,
    "start_time": "2021-07-15T17:14:44.694Z"
   },
   {
    "duration": 21,
    "start_time": "2021-07-15T17:14:44.702Z"
   },
   {
    "duration": 41,
    "start_time": "2021-07-15T17:14:44.725Z"
   },
   {
    "duration": 521,
    "start_time": "2021-07-15T17:14:44.769Z"
   },
   {
    "duration": 17,
    "start_time": "2021-07-15T17:14:45.293Z"
   },
   {
    "duration": 927,
    "start_time": "2021-07-15T17:14:45.313Z"
   },
   {
    "duration": 5,
    "start_time": "2021-07-15T17:14:46.242Z"
   },
   {
    "duration": 9,
    "start_time": "2021-07-15T17:14:46.249Z"
   },
   {
    "duration": 21,
    "start_time": "2021-07-15T17:14:46.261Z"
   },
   {
    "duration": 17,
    "start_time": "2021-07-15T17:14:46.284Z"
   },
   {
    "duration": 11,
    "start_time": "2021-07-15T17:14:46.303Z"
   },
   {
    "duration": 84,
    "start_time": "2021-07-15T17:14:46.357Z"
   },
   {
    "duration": 13,
    "start_time": "2021-07-15T17:14:46.456Z"
   },
   {
    "duration": 13,
    "start_time": "2021-07-15T17:14:46.471Z"
   },
   {
    "duration": 10,
    "start_time": "2021-07-15T17:14:46.486Z"
   },
   {
    "duration": 16,
    "start_time": "2021-07-15T17:14:46.498Z"
   },
   {
    "duration": 6,
    "start_time": "2021-07-15T17:14:46.559Z"
   },
   {
    "duration": 8,
    "start_time": "2021-07-15T17:14:46.567Z"
   },
   {
    "duration": 13,
    "start_time": "2021-07-15T17:14:46.577Z"
   },
   {
    "duration": 33113,
    "start_time": "2021-07-15T17:14:46.592Z"
   },
   {
    "duration": 5,
    "start_time": "2021-07-15T17:15:19.708Z"
   },
   {
    "duration": 11,
    "start_time": "2021-07-15T17:15:19.716Z"
   },
   {
    "duration": 6,
    "start_time": "2021-07-15T17:15:19.729Z"
   },
   {
    "duration": 9,
    "start_time": "2021-07-15T17:15:19.737Z"
   },
   {
    "duration": 3711,
    "start_time": "2021-07-15T17:15:19.748Z"
   },
   {
    "duration": 208,
    "start_time": "2021-07-15T17:15:23.461Z"
   },
   {
    "duration": 4,
    "start_time": "2021-07-15T17:15:23.672Z"
   },
   {
    "duration": 103,
    "start_time": "2021-07-15T17:15:23.679Z"
   },
   {
    "duration": 34,
    "start_time": "2021-07-15T17:15:23.784Z"
   },
   {
    "duration": 460,
    "start_time": "2021-07-15T17:15:23.820Z"
   },
   {
    "duration": 1723,
    "start_time": "2021-07-15T17:15:24.282Z"
   },
   {
    "duration": 12,
    "start_time": "2021-07-15T17:15:26.007Z"
   },
   {
    "duration": 11,
    "start_time": "2021-07-15T17:15:26.021Z"
   },
   {
    "duration": 23,
    "start_time": "2021-07-15T17:15:26.034Z"
   },
   {
    "duration": 11357,
    "start_time": "2021-07-15T17:15:26.059Z"
   },
   {
    "duration": 471,
    "start_time": "2021-07-15T17:15:37.418Z"
   },
   {
    "duration": 16,
    "start_time": "2021-07-15T17:15:37.892Z"
   },
   {
    "duration": 3,
    "start_time": "2021-07-15T17:15:37.911Z"
   },
   {
    "duration": 18556,
    "start_time": "2021-07-15T17:15:37.917Z"
   },
   {
    "duration": 9,
    "start_time": "2021-07-15T17:15:56.475Z"
   },
   {
    "duration": 25,
    "start_time": "2021-07-15T17:15:56.487Z"
   },
   {
    "duration": 22,
    "start_time": "2021-07-15T17:15:56.515Z"
   },
   {
    "duration": 24,
    "start_time": "2021-07-15T17:15:56.539Z"
   },
   {
    "duration": 3499,
    "start_time": "2021-07-15T17:15:56.565Z"
   },
   {
    "duration": 95,
    "start_time": "2021-07-15T17:16:00.067Z"
   },
   {
    "duration": 4,
    "start_time": "2021-07-15T17:16:00.164Z"
   },
   {
    "duration": 17,
    "start_time": "2021-07-15T17:16:00.170Z"
   },
   {
    "duration": 97,
    "start_time": "2021-07-15T17:16:00.189Z"
   },
   {
    "duration": 27,
    "start_time": "2021-07-15T17:16:00.289Z"
   },
   {
    "duration": 2529,
    "start_time": "2021-07-15T17:16:00.358Z"
   },
   {
    "duration": 12,
    "start_time": "2021-07-15T17:16:02.889Z"
   },
   {
    "duration": 16,
    "start_time": "2021-07-15T17:16:02.903Z"
   },
   {
    "duration": 14000,
    "start_time": "2021-07-15T17:16:02.921Z"
   },
   {
    "duration": 612,
    "start_time": "2021-07-15T17:16:16.923Z"
   },
   {
    "duration": 22,
    "start_time": "2021-07-15T17:16:17.538Z"
   },
   {
    "duration": 16,
    "start_time": "2021-07-15T17:16:17.562Z"
   },
   {
    "duration": 10,
    "start_time": "2021-07-15T17:16:17.580Z"
   },
   {
    "duration": 8,
    "start_time": "2021-07-15T17:16:17.592Z"
   },
   {
    "duration": 11,
    "start_time": "2021-07-15T17:16:17.602Z"
   },
   {
    "duration": 15,
    "start_time": "2021-07-15T17:18:04.057Z"
   },
   {
    "duration": 1666,
    "start_time": "2021-07-15T17:18:09.352Z"
   },
   {
    "duration": 53,
    "start_time": "2021-07-15T17:18:11.021Z"
   },
   {
    "duration": 9,
    "start_time": "2021-07-15T17:18:11.077Z"
   },
   {
    "duration": 13,
    "start_time": "2021-07-15T17:18:11.088Z"
   },
   {
    "duration": 23,
    "start_time": "2021-07-15T17:18:11.104Z"
   },
   {
    "duration": 28,
    "start_time": "2021-07-15T17:18:11.129Z"
   },
   {
    "duration": 12,
    "start_time": "2021-07-15T17:18:11.159Z"
   },
   {
    "duration": 39,
    "start_time": "2021-07-15T17:18:11.174Z"
   },
   {
    "duration": 5,
    "start_time": "2021-07-15T17:18:11.216Z"
   },
   {
    "duration": 48,
    "start_time": "2021-07-15T17:18:11.223Z"
   },
   {
    "duration": 15,
    "start_time": "2021-07-15T17:18:11.273Z"
   },
   {
    "duration": 617,
    "start_time": "2021-07-15T17:18:11.290Z"
   },
   {
    "duration": 16,
    "start_time": "2021-07-15T17:18:11.909Z"
   },
   {
    "duration": 1019,
    "start_time": "2021-07-15T17:18:11.928Z"
   },
   {
    "duration": 9,
    "start_time": "2021-07-15T17:18:12.950Z"
   },
   {
    "duration": 8,
    "start_time": "2021-07-15T17:18:12.962Z"
   },
   {
    "duration": 22,
    "start_time": "2021-07-15T17:18:12.972Z"
   },
   {
    "duration": 18,
    "start_time": "2021-07-15T17:18:12.996Z"
   },
   {
    "duration": 42,
    "start_time": "2021-07-15T17:18:13.016Z"
   },
   {
    "duration": 97,
    "start_time": "2021-07-15T17:18:13.060Z"
   },
   {
    "duration": 13,
    "start_time": "2021-07-15T17:18:13.159Z"
   },
   {
    "duration": 10,
    "start_time": "2021-07-15T17:18:13.175Z"
   },
   {
    "duration": 8,
    "start_time": "2021-07-15T17:18:13.191Z"
   },
   {
    "duration": 57,
    "start_time": "2021-07-15T17:18:13.203Z"
   },
   {
    "duration": 5,
    "start_time": "2021-07-15T17:18:13.263Z"
   },
   {
    "duration": 7,
    "start_time": "2021-07-15T17:18:13.271Z"
   },
   {
    "duration": 16,
    "start_time": "2021-07-15T17:18:13.280Z"
   },
   {
    "duration": 37298,
    "start_time": "2021-07-15T17:18:13.298Z"
   },
   {
    "duration": 5,
    "start_time": "2021-07-15T17:18:50.598Z"
   },
   {
    "duration": 14,
    "start_time": "2021-07-15T17:18:50.606Z"
   },
   {
    "duration": 6,
    "start_time": "2021-07-15T17:18:50.623Z"
   },
   {
    "duration": 24,
    "start_time": "2021-07-15T17:18:50.632Z"
   },
   {
    "duration": 4099,
    "start_time": "2021-07-15T17:18:50.658Z"
   },
   {
    "duration": 213,
    "start_time": "2021-07-15T17:18:54.760Z"
   },
   {
    "duration": 5,
    "start_time": "2021-07-15T17:18:54.976Z"
   },
   {
    "duration": 110,
    "start_time": "2021-07-15T17:18:54.985Z"
   },
   {
    "duration": 57,
    "start_time": "2021-07-15T17:18:55.098Z"
   },
   {
    "duration": 442,
    "start_time": "2021-07-15T17:18:55.158Z"
   },
   {
    "duration": 1812,
    "start_time": "2021-07-15T17:18:55.603Z"
   },
   {
    "duration": 14,
    "start_time": "2021-07-15T17:18:57.418Z"
   },
   {
    "duration": 24,
    "start_time": "2021-07-15T17:18:57.434Z"
   },
   {
    "duration": 7,
    "start_time": "2021-07-15T17:18:57.460Z"
   },
   {
    "duration": 12146,
    "start_time": "2021-07-15T17:18:57.469Z"
   },
   {
    "duration": 540,
    "start_time": "2021-07-15T17:19:09.618Z"
   },
   {
    "duration": 15,
    "start_time": "2021-07-15T17:19:10.160Z"
   },
   {
    "duration": 4,
    "start_time": "2021-07-15T17:19:10.177Z"
   },
   {
    "duration": 17895,
    "start_time": "2021-07-15T17:19:10.184Z"
   },
   {
    "duration": 9,
    "start_time": "2021-07-15T17:19:28.081Z"
   },
   {
    "duration": 6,
    "start_time": "2021-07-15T17:19:28.093Z"
   },
   {
    "duration": 8,
    "start_time": "2021-07-15T17:19:28.101Z"
   },
   {
    "duration": 6,
    "start_time": "2021-07-15T17:19:28.111Z"
   },
   {
    "duration": 3641,
    "start_time": "2021-07-15T17:19:28.119Z"
   },
   {
    "duration": 99,
    "start_time": "2021-07-15T17:19:31.763Z"
   },
   {
    "duration": 4,
    "start_time": "2021-07-15T17:19:31.864Z"
   },
   {
    "duration": 14,
    "start_time": "2021-07-15T17:19:31.870Z"
   },
   {
    "duration": 86,
    "start_time": "2021-07-15T17:19:31.887Z"
   },
   {
    "duration": 13,
    "start_time": "2021-07-15T17:19:31.976Z"
   },
   {
    "duration": 2360,
    "start_time": "2021-07-15T17:19:31.992Z"
   },
   {
    "duration": 13,
    "start_time": "2021-07-15T17:19:34.357Z"
   },
   {
    "duration": 9,
    "start_time": "2021-07-15T17:19:34.373Z"
   },
   {
    "duration": 15175,
    "start_time": "2021-07-15T17:19:34.385Z"
   },
   {
    "duration": 863,
    "start_time": "2021-07-15T17:19:49.562Z"
   },
   {
    "duration": 14,
    "start_time": "2021-07-15T17:19:50.428Z"
   },
   {
    "duration": 15,
    "start_time": "2021-07-15T17:19:50.456Z"
   },
   {
    "duration": 7,
    "start_time": "2021-07-15T17:19:50.474Z"
   },
   {
    "duration": 12,
    "start_time": "2021-07-15T17:19:50.484Z"
   },
   {
    "duration": 8,
    "start_time": "2021-07-15T17:19:50.499Z"
   },
   {
    "duration": 14,
    "start_time": "2021-07-15T17:20:28.580Z"
   },
   {
    "duration": 1491,
    "start_time": "2021-07-15T17:20:38.674Z"
   },
   {
    "duration": 54,
    "start_time": "2021-07-15T17:20:40.168Z"
   },
   {
    "duration": 8,
    "start_time": "2021-07-15T17:20:40.225Z"
   },
   {
    "duration": 21,
    "start_time": "2021-07-15T17:20:40.236Z"
   },
   {
    "duration": 16,
    "start_time": "2021-07-15T17:20:40.260Z"
   },
   {
    "duration": 7,
    "start_time": "2021-07-15T17:20:40.278Z"
   },
   {
    "duration": 16,
    "start_time": "2021-07-15T17:20:40.288Z"
   },
   {
    "duration": 74,
    "start_time": "2021-07-15T17:20:40.306Z"
   },
   {
    "duration": 5,
    "start_time": "2021-07-15T17:20:40.384Z"
   },
   {
    "duration": 20,
    "start_time": "2021-07-15T17:20:40.393Z"
   },
   {
    "duration": 49,
    "start_time": "2021-07-15T17:20:40.415Z"
   },
   {
    "duration": 500,
    "start_time": "2021-07-15T17:20:40.467Z"
   },
   {
    "duration": 17,
    "start_time": "2021-07-15T17:20:40.969Z"
   },
   {
    "duration": 912,
    "start_time": "2021-07-15T17:20:40.988Z"
   },
   {
    "duration": 5,
    "start_time": "2021-07-15T17:20:41.902Z"
   },
   {
    "duration": 8,
    "start_time": "2021-07-15T17:20:41.909Z"
   },
   {
    "duration": 40,
    "start_time": "2021-07-15T17:20:41.920Z"
   },
   {
    "duration": 16,
    "start_time": "2021-07-15T17:20:41.962Z"
   },
   {
    "duration": 12,
    "start_time": "2021-07-15T17:20:41.980Z"
   },
   {
    "duration": 113,
    "start_time": "2021-07-15T17:20:41.995Z"
   },
   {
    "duration": 16,
    "start_time": "2021-07-15T17:20:42.110Z"
   },
   {
    "duration": 33,
    "start_time": "2021-07-15T17:20:42.128Z"
   },
   {
    "duration": 12,
    "start_time": "2021-07-15T17:20:42.163Z"
   },
   {
    "duration": 22,
    "start_time": "2021-07-15T17:20:42.178Z"
   },
   {
    "duration": 8,
    "start_time": "2021-07-15T17:20:42.203Z"
   },
   {
    "duration": 7,
    "start_time": "2021-07-15T17:20:42.257Z"
   },
   {
    "duration": 11,
    "start_time": "2021-07-15T17:20:42.272Z"
   },
   {
    "duration": 39426,
    "start_time": "2021-07-15T17:20:42.287Z"
   },
   {
    "duration": 5,
    "start_time": "2021-07-15T17:21:21.716Z"
   },
   {
    "duration": 20,
    "start_time": "2021-07-15T17:21:21.723Z"
   },
   {
    "duration": 14,
    "start_time": "2021-07-15T17:21:21.746Z"
   },
   {
    "duration": 4,
    "start_time": "2021-07-15T17:21:21.763Z"
   },
   {
    "duration": 1506,
    "start_time": "2021-07-15T17:22:36.455Z"
   },
   {
    "duration": 56,
    "start_time": "2021-07-15T17:22:37.964Z"
   },
   {
    "duration": 8,
    "start_time": "2021-07-15T17:22:38.025Z"
   },
   {
    "duration": 24,
    "start_time": "2021-07-15T17:22:38.036Z"
   },
   {
    "duration": 18,
    "start_time": "2021-07-15T17:22:38.062Z"
   },
   {
    "duration": 8,
    "start_time": "2021-07-15T17:22:38.082Z"
   },
   {
    "duration": 14,
    "start_time": "2021-07-15T17:22:38.092Z"
   },
   {
    "duration": 84,
    "start_time": "2021-07-15T17:22:38.110Z"
   },
   {
    "duration": 6,
    "start_time": "2021-07-15T17:22:38.197Z"
   },
   {
    "duration": 21,
    "start_time": "2021-07-15T17:22:38.205Z"
   },
   {
    "duration": 17,
    "start_time": "2021-07-15T17:22:38.256Z"
   },
   {
    "duration": 615,
    "start_time": "2021-07-15T17:22:38.276Z"
   },
   {
    "duration": 18,
    "start_time": "2021-07-15T17:22:38.893Z"
   },
   {
    "duration": 960,
    "start_time": "2021-07-15T17:22:38.913Z"
   },
   {
    "duration": 6,
    "start_time": "2021-07-15T17:22:39.875Z"
   },
   {
    "duration": 13,
    "start_time": "2021-07-15T17:22:39.883Z"
   },
   {
    "duration": 22,
    "start_time": "2021-07-15T17:22:39.899Z"
   },
   {
    "duration": 44,
    "start_time": "2021-07-15T17:22:39.923Z"
   },
   {
    "duration": 10,
    "start_time": "2021-07-15T17:22:39.970Z"
   },
   {
    "duration": 112,
    "start_time": "2021-07-15T17:22:39.982Z"
   },
   {
    "duration": 17,
    "start_time": "2021-07-15T17:22:40.096Z"
   },
   {
    "duration": 10,
    "start_time": "2021-07-15T17:22:40.116Z"
   },
   {
    "duration": 37,
    "start_time": "2021-07-15T17:22:40.129Z"
   },
   {
    "duration": 17,
    "start_time": "2021-07-15T17:22:40.169Z"
   },
   {
    "duration": 6,
    "start_time": "2021-07-15T17:22:40.189Z"
   },
   {
    "duration": 8,
    "start_time": "2021-07-15T17:22:40.203Z"
   },
   {
    "duration": 12,
    "start_time": "2021-07-15T17:22:40.258Z"
   },
   {
    "duration": 44656,
    "start_time": "2021-07-15T17:22:40.273Z"
   },
   {
    "duration": 6,
    "start_time": "2021-07-15T17:23:24.932Z"
   },
   {
    "duration": 21,
    "start_time": "2021-07-15T17:23:24.941Z"
   },
   {
    "duration": 6,
    "start_time": "2021-07-15T17:23:24.965Z"
   },
   {
    "duration": 4,
    "start_time": "2021-07-15T17:23:24.974Z"
   },
   {
    "duration": 207284,
    "start_time": "2021-07-15T17:23:24.981Z"
   },
   {
    "duration": 295,
    "start_time": "2021-07-15T17:26:52.268Z"
   },
   {
    "duration": 5,
    "start_time": "2021-07-15T17:26:52.565Z"
   },
   {
    "duration": 116,
    "start_time": "2021-07-15T17:26:52.573Z"
   },
   {
    "duration": 64,
    "start_time": "2021-07-15T17:26:52.692Z"
   },
   {
    "duration": 465,
    "start_time": "2021-07-15T17:26:52.759Z"
   },
   {
    "duration": 2269,
    "start_time": "2021-07-15T17:26:53.226Z"
   },
   {
    "duration": 12,
    "start_time": "2021-07-15T17:26:55.499Z"
   },
   {
    "duration": 10,
    "start_time": "2021-07-15T17:26:55.514Z"
   },
   {
    "duration": 3,
    "start_time": "2021-07-15T17:26:55.557Z"
   },
   {
    "duration": 11530,
    "start_time": "2021-07-15T17:26:55.563Z"
   },
   {
    "duration": 613,
    "start_time": "2021-07-15T17:27:07.096Z"
   },
   {
    "duration": 23,
    "start_time": "2021-07-15T17:27:07.712Z"
   },
   {
    "duration": 22,
    "start_time": "2021-07-15T17:27:07.738Z"
   },
   {
    "duration": 25227,
    "start_time": "2021-07-15T17:27:07.763Z"
   },
   {
    "duration": 23,
    "start_time": "2021-07-15T17:27:32.993Z"
   },
   {
    "duration": 3,
    "start_time": "2021-07-15T17:27:33.019Z"
   },
   {
    "duration": 9,
    "start_time": "2021-07-15T17:27:33.025Z"
   },
   {
    "duration": 22,
    "start_time": "2021-07-15T17:27:33.038Z"
   },
   {
    "duration": 1140,
    "start_time": "2021-07-17T05:56:42.242Z"
   },
   {
    "duration": 41,
    "start_time": "2021-07-17T05:56:43.384Z"
   },
   {
    "duration": 6,
    "start_time": "2021-07-17T05:56:43.428Z"
   },
   {
    "duration": 7,
    "start_time": "2021-07-17T05:56:43.436Z"
   },
   {
    "duration": 12,
    "start_time": "2021-07-17T05:56:43.445Z"
   },
   {
    "duration": 6,
    "start_time": "2021-07-17T05:56:43.459Z"
   },
   {
    "duration": 8,
    "start_time": "2021-07-17T05:56:43.466Z"
   },
   {
    "duration": 27,
    "start_time": "2021-07-17T05:56:43.476Z"
   },
   {
    "duration": 38,
    "start_time": "2021-07-17T05:56:43.505Z"
   },
   {
    "duration": 13,
    "start_time": "2021-07-17T05:56:43.546Z"
   },
   {
    "duration": 10,
    "start_time": "2021-07-17T05:56:43.561Z"
   },
   {
    "duration": 309,
    "start_time": "2021-07-17T05:56:43.573Z"
   },
   {
    "duration": 9,
    "start_time": "2021-07-17T05:56:43.884Z"
   },
   {
    "duration": 546,
    "start_time": "2021-07-17T05:56:43.895Z"
   },
   {
    "duration": 5,
    "start_time": "2021-07-17T05:56:44.443Z"
   },
   {
    "duration": 6,
    "start_time": "2021-07-17T05:56:44.450Z"
   },
   {
    "duration": 18,
    "start_time": "2021-07-17T05:56:44.458Z"
   },
   {
    "duration": 15,
    "start_time": "2021-07-17T05:56:44.477Z"
   },
   {
    "duration": 94,
    "start_time": "2021-07-17T05:56:44.494Z"
   },
   {
    "duration": 13,
    "start_time": "2021-07-17T05:56:44.590Z"
   },
   {
    "duration": 14,
    "start_time": "2021-07-17T05:56:44.605Z"
   },
   {
    "duration": 26,
    "start_time": "2021-07-17T05:56:44.621Z"
   },
   {
    "duration": 6,
    "start_time": "2021-07-17T05:56:44.649Z"
   },
   {
    "duration": 11,
    "start_time": "2021-07-17T05:56:44.657Z"
   },
   {
    "duration": 5,
    "start_time": "2021-07-17T05:56:44.670Z"
   },
   {
    "duration": 5,
    "start_time": "2021-07-17T05:56:44.677Z"
   },
   {
    "duration": 57,
    "start_time": "2021-07-17T05:56:44.687Z"
   },
   {
    "duration": 25743,
    "start_time": "2021-07-17T05:56:44.746Z"
   },
   {
    "duration": 4,
    "start_time": "2021-07-17T05:57:10.491Z"
   },
   {
    "duration": 22,
    "start_time": "2021-07-17T05:57:10.496Z"
   },
   {
    "duration": 5,
    "start_time": "2021-07-17T05:57:10.520Z"
   },
   {
    "duration": 21,
    "start_time": "2021-07-17T05:57:10.526Z"
   },
   {
    "duration": 3005,
    "start_time": "2021-07-17T05:57:10.548Z"
   },
   {
    "duration": 192,
    "start_time": "2021-07-17T05:57:13.554Z"
   },
   {
    "duration": 3,
    "start_time": "2021-07-17T05:57:13.747Z"
   },
   {
    "duration": 27,
    "start_time": "2021-07-17T05:57:13.752Z"
   },
   {
    "duration": 82,
    "start_time": "2021-07-17T05:57:13.781Z"
   },
   {
    "duration": 419,
    "start_time": "2021-07-17T05:57:13.865Z"
   },
   {
    "duration": 2161,
    "start_time": "2021-07-17T05:57:14.286Z"
   },
   {
    "duration": 28,
    "start_time": "2021-07-17T05:57:16.449Z"
   },
   {
    "duration": 5,
    "start_time": "2021-07-17T05:57:16.479Z"
   },
   {
    "duration": 4,
    "start_time": "2021-07-17T05:57:16.486Z"
   },
   {
    "duration": 14435,
    "start_time": "2021-07-17T05:57:16.491Z"
   },
   {
    "duration": 628,
    "start_time": "2021-07-17T05:57:30.928Z"
   },
   {
    "duration": 10,
    "start_time": "2021-07-17T05:57:31.558Z"
   },
   {
    "duration": 7,
    "start_time": "2021-07-17T05:57:31.569Z"
   },
   {
    "duration": 14241,
    "start_time": "2021-07-17T05:57:31.577Z"
   },
   {
    "duration": 8,
    "start_time": "2021-07-17T05:57:45.819Z"
   },
   {
    "duration": 2,
    "start_time": "2021-07-17T05:57:45.829Z"
   },
   {
    "duration": 6,
    "start_time": "2021-07-17T05:57:45.832Z"
   },
   {
    "duration": 6,
    "start_time": "2021-07-17T05:57:45.839Z"
   },
   {
    "duration": 5806,
    "start_time": "2021-07-17T05:57:45.846Z"
   },
   {
    "duration": 88,
    "start_time": "2021-07-17T05:57:51.654Z"
   },
   {
    "duration": 2,
    "start_time": "2021-07-17T05:57:51.744Z"
   },
   {
    "duration": 7,
    "start_time": "2021-07-17T05:57:51.747Z"
   },
   {
    "duration": 27,
    "start_time": "2021-07-17T05:57:51.755Z"
   },
   {
    "duration": 60,
    "start_time": "2021-07-17T05:57:51.784Z"
   },
   {
    "duration": 2853,
    "start_time": "2021-07-17T05:57:51.846Z"
   },
   {
    "duration": 41,
    "start_time": "2021-07-17T05:57:54.701Z"
   },
   {
    "duration": 6,
    "start_time": "2021-07-17T05:57:54.744Z"
   },
   {
    "duration": 18116,
    "start_time": "2021-07-17T05:57:54.752Z"
   },
   {
    "duration": 795,
    "start_time": "2021-07-17T05:58:12.869Z"
   },
   {
    "duration": 8,
    "start_time": "2021-07-17T05:58:13.666Z"
   },
   {
    "duration": 13,
    "start_time": "2021-07-17T05:58:13.676Z"
   },
   {
    "duration": 12,
    "start_time": "2021-07-17T05:58:13.690Z"
   },
   {
    "duration": 16,
    "start_time": "2021-07-17T05:58:13.703Z"
   },
   {
    "duration": 7,
    "start_time": "2021-07-17T05:58:13.721Z"
   },
   {
    "duration": 5,
    "start_time": "2021-07-17T06:00:02.864Z"
   },
   {
    "duration": 48,
    "start_time": "2021-07-17T06:00:02.871Z"
   },
   {
    "duration": 5,
    "start_time": "2021-07-17T06:00:02.921Z"
   },
   {
    "duration": 15,
    "start_time": "2021-07-17T06:00:02.928Z"
   },
   {
    "duration": 14,
    "start_time": "2021-07-17T06:00:02.945Z"
   },
   {
    "duration": 4,
    "start_time": "2021-07-17T06:00:02.961Z"
   },
   {
    "duration": 10,
    "start_time": "2021-07-17T06:00:02.967Z"
   },
   {
    "duration": 31,
    "start_time": "2021-07-17T06:00:02.979Z"
   },
   {
    "duration": 3,
    "start_time": "2021-07-17T06:00:03.012Z"
   },
   {
    "duration": 33,
    "start_time": "2021-07-17T06:00:03.016Z"
   },
   {
    "duration": 10,
    "start_time": "2021-07-17T06:00:03.050Z"
   },
   {
    "duration": 289,
    "start_time": "2021-07-17T06:00:03.062Z"
   },
   {
    "duration": 8,
    "start_time": "2021-07-17T06:00:03.353Z"
   },
   {
    "duration": 559,
    "start_time": "2021-07-17T06:00:03.363Z"
   },
   {
    "duration": 5,
    "start_time": "2021-07-17T06:00:03.923Z"
   },
   {
    "duration": 14,
    "start_time": "2021-07-17T06:00:03.929Z"
   },
   {
    "duration": 5,
    "start_time": "2021-07-17T06:00:32.278Z"
   },
   {
    "duration": 56,
    "start_time": "2021-07-17T06:00:32.285Z"
   },
   {
    "duration": 7,
    "start_time": "2021-07-17T06:00:32.343Z"
   },
   {
    "duration": 11,
    "start_time": "2021-07-17T06:00:32.352Z"
   },
   {
    "duration": 23,
    "start_time": "2021-07-17T06:00:32.365Z"
   },
   {
    "duration": 12,
    "start_time": "2021-07-17T06:00:32.390Z"
   },
   {
    "duration": 17,
    "start_time": "2021-07-17T06:00:32.404Z"
   },
   {
    "duration": 46,
    "start_time": "2021-07-17T06:00:32.423Z"
   },
   {
    "duration": 4,
    "start_time": "2021-07-17T06:00:32.472Z"
   },
   {
    "duration": 17,
    "start_time": "2021-07-17T06:00:32.478Z"
   },
   {
    "duration": 18,
    "start_time": "2021-07-17T06:00:32.497Z"
   },
   {
    "duration": 300,
    "start_time": "2021-07-17T06:00:32.517Z"
   },
   {
    "duration": 22,
    "start_time": "2021-07-17T06:00:32.819Z"
   },
   {
    "duration": 532,
    "start_time": "2021-07-17T06:00:32.842Z"
   },
   {
    "duration": 4,
    "start_time": "2021-07-17T06:00:33.376Z"
   },
   {
    "duration": 20,
    "start_time": "2021-07-17T06:00:33.381Z"
   },
   {
    "duration": 36,
    "start_time": "2021-07-17T06:00:33.402Z"
   },
   {
    "duration": 16,
    "start_time": "2021-07-17T06:00:33.440Z"
   },
   {
    "duration": 18,
    "start_time": "2021-07-17T06:00:33.458Z"
   },
   {
    "duration": 20,
    "start_time": "2021-07-17T06:00:33.477Z"
   },
   {
    "duration": 9,
    "start_time": "2021-07-17T06:00:33.499Z"
   },
   {
    "duration": 7,
    "start_time": "2021-07-17T06:00:33.509Z"
   },
   {
    "duration": 5,
    "start_time": "2021-07-17T06:00:33.520Z"
   },
   {
    "duration": 10,
    "start_time": "2021-07-17T06:00:33.542Z"
   },
   {
    "duration": 3,
    "start_time": "2021-07-17T06:00:33.554Z"
   },
   {
    "duration": 5,
    "start_time": "2021-07-17T06:00:33.558Z"
   },
   {
    "duration": 10,
    "start_time": "2021-07-17T06:00:33.565Z"
   },
   {
    "duration": 27973,
    "start_time": "2021-07-17T06:00:33.577Z"
   },
   {
    "duration": 3,
    "start_time": "2021-07-17T06:01:01.552Z"
   },
   {
    "duration": 8,
    "start_time": "2021-07-17T06:01:01.557Z"
   },
   {
    "duration": 11,
    "start_time": "2021-07-17T06:01:01.566Z"
   },
   {
    "duration": 9,
    "start_time": "2021-07-17T06:01:01.578Z"
   },
   {
    "duration": 4063,
    "start_time": "2021-07-17T06:01:01.589Z"
   },
   {
    "duration": 201,
    "start_time": "2021-07-17T06:01:05.654Z"
   },
   {
    "duration": 3,
    "start_time": "2021-07-17T06:01:05.857Z"
   },
   {
    "duration": 99,
    "start_time": "2021-07-17T06:01:05.861Z"
   },
   {
    "duration": 26,
    "start_time": "2021-07-17T06:01:05.961Z"
   },
   {
    "duration": 322,
    "start_time": "2021-07-17T06:01:05.988Z"
   },
   {
    "duration": 2530,
    "start_time": "2021-07-17T06:01:06.312Z"
   },
   {
    "duration": 12,
    "start_time": "2021-07-17T06:01:08.843Z"
   },
   {
    "duration": 8,
    "start_time": "2021-07-17T06:01:08.857Z"
   },
   {
    "duration": 21,
    "start_time": "2021-07-17T06:01:08.866Z"
   },
   {
    "duration": 17836,
    "start_time": "2021-07-17T06:01:08.889Z"
   },
   {
    "duration": 791,
    "start_time": "2021-07-17T06:01:26.726Z"
   },
   {
    "duration": 10,
    "start_time": "2021-07-17T06:01:27.518Z"
   },
   {
    "duration": 13,
    "start_time": "2021-07-17T06:01:27.529Z"
   },
   {
    "duration": 16159,
    "start_time": "2021-07-17T06:01:27.543Z"
   },
   {
    "duration": 6,
    "start_time": "2021-07-17T06:01:43.703Z"
   },
   {
    "duration": 4,
    "start_time": "2021-07-17T06:01:43.711Z"
   },
   {
    "duration": 11,
    "start_time": "2021-07-17T06:01:43.716Z"
   },
   {
    "duration": 11,
    "start_time": "2021-07-17T06:01:43.728Z"
   },
   {
    "duration": 4006,
    "start_time": "2021-07-17T06:01:43.741Z"
   },
   {
    "duration": 22,
    "start_time": "2021-07-17T06:01:47.749Z"
   },
   {
    "duration": 69,
    "start_time": "2021-07-17T06:01:47.773Z"
   },
   {
    "duration": 13,
    "start_time": "2021-07-17T06:01:47.844Z"
   },
   {
    "duration": 39,
    "start_time": "2021-07-17T06:01:47.858Z"
   },
   {
    "duration": 144,
    "start_time": "2021-07-17T06:01:47.899Z"
   },
   {
    "duration": 3497,
    "start_time": "2021-07-17T06:01:48.045Z"
   },
   {
    "duration": 38,
    "start_time": "2021-07-17T06:01:51.543Z"
   },
   {
    "duration": 5,
    "start_time": "2021-07-17T06:01:51.583Z"
   },
   {
    "duration": 23462,
    "start_time": "2021-07-17T06:01:51.590Z"
   },
   {
    "duration": 1001,
    "start_time": "2021-07-17T06:02:15.054Z"
   },
   {
    "duration": 11,
    "start_time": "2021-07-17T06:02:16.057Z"
   },
   {
    "duration": 11,
    "start_time": "2021-07-17T06:02:16.070Z"
   },
   {
    "duration": 15,
    "start_time": "2021-07-17T06:02:16.083Z"
   },
   {
    "duration": 18,
    "start_time": "2021-07-17T06:02:16.100Z"
   },
   {
    "duration": 21,
    "start_time": "2021-07-17T06:02:16.120Z"
   },
   {
    "duration": 1181,
    "start_time": "2021-07-17T10:56:14.098Z"
   },
   {
    "duration": 41,
    "start_time": "2021-07-17T10:56:15.280Z"
   },
   {
    "duration": 6,
    "start_time": "2021-07-17T10:56:15.323Z"
   },
   {
    "duration": 19,
    "start_time": "2021-07-17T10:56:15.331Z"
   },
   {
    "duration": 32,
    "start_time": "2021-07-17T10:56:15.352Z"
   },
   {
    "duration": 5,
    "start_time": "2021-07-17T10:56:15.386Z"
   },
   {
    "duration": 17,
    "start_time": "2021-07-17T10:56:15.392Z"
   },
   {
    "duration": 54,
    "start_time": "2021-07-17T10:56:15.411Z"
   },
   {
    "duration": 5,
    "start_time": "2021-07-17T10:56:15.469Z"
   },
   {
    "duration": 17,
    "start_time": "2021-07-17T10:56:15.476Z"
   },
   {
    "duration": 11,
    "start_time": "2021-07-17T10:56:15.494Z"
   },
   {
    "duration": 309,
    "start_time": "2021-07-17T10:56:15.507Z"
   },
   {
    "duration": 8,
    "start_time": "2021-07-17T10:56:15.818Z"
   },
   {
    "duration": 550,
    "start_time": "2021-07-17T10:56:15.840Z"
   },
   {
    "duration": 4,
    "start_time": "2021-07-17T10:56:16.391Z"
   },
   {
    "duration": 6,
    "start_time": "2021-07-17T10:56:16.397Z"
   },
   {
    "duration": 36,
    "start_time": "2021-07-17T10:56:16.405Z"
   },
   {
    "duration": 71,
    "start_time": "2021-07-17T10:56:16.443Z"
   },
   {
    "duration": 8,
    "start_time": "2021-07-17T10:56:16.516Z"
   },
   {
    "duration": 25,
    "start_time": "2021-07-17T10:56:16.525Z"
   },
   {
    "duration": 8,
    "start_time": "2021-07-17T10:56:16.552Z"
   },
   {
    "duration": 15,
    "start_time": "2021-07-17T10:56:16.562Z"
   },
   {
    "duration": 12,
    "start_time": "2021-07-17T10:56:16.579Z"
   },
   {
    "duration": 13,
    "start_time": "2021-07-17T10:56:16.592Z"
   },
   {
    "duration": 4,
    "start_time": "2021-07-17T10:56:16.607Z"
   },
   {
    "duration": 29,
    "start_time": "2021-07-17T10:56:16.612Z"
   },
   {
    "duration": 25,
    "start_time": "2021-07-17T10:56:16.644Z"
   },
   {
    "duration": 44387,
    "start_time": "2021-07-17T10:56:16.671Z"
   },
   {
    "duration": 4,
    "start_time": "2021-07-17T10:57:01.059Z"
   },
   {
    "duration": 17,
    "start_time": "2021-07-17T10:57:01.065Z"
   },
   {
    "duration": 10,
    "start_time": "2021-07-17T10:57:01.084Z"
   },
   {
    "duration": 20,
    "start_time": "2021-07-17T10:57:01.095Z"
   },
   {
    "duration": 221526,
    "start_time": "2021-07-17T10:57:01.116Z"
   },
   {
    "duration": 206,
    "start_time": "2021-07-17T11:00:42.644Z"
   },
   {
    "duration": 3,
    "start_time": "2021-07-17T11:00:42.851Z"
   },
   {
    "duration": 5,
    "start_time": "2021-07-17T11:00:42.862Z"
   },
   {
    "duration": 3,
    "start_time": "2021-07-17T11:01:25.587Z"
   },
   {
    "duration": 5,
    "start_time": "2021-07-17T11:06:19.640Z"
   },
   {
    "duration": 46,
    "start_time": "2021-07-17T11:06:19.647Z"
   },
   {
    "duration": 7,
    "start_time": "2021-07-17T11:06:19.696Z"
   },
   {
    "duration": 6,
    "start_time": "2021-07-17T11:06:19.705Z"
   },
   {
    "duration": 40,
    "start_time": "2021-07-17T11:06:19.713Z"
   },
   {
    "duration": 5,
    "start_time": "2021-07-17T11:06:19.755Z"
   },
   {
    "duration": 9,
    "start_time": "2021-07-17T11:06:19.762Z"
   },
   {
    "duration": 74,
    "start_time": "2021-07-17T11:06:19.775Z"
   },
   {
    "duration": 4,
    "start_time": "2021-07-17T11:06:19.852Z"
   },
   {
    "duration": 13,
    "start_time": "2021-07-17T11:06:19.858Z"
   },
   {
    "duration": 12,
    "start_time": "2021-07-17T11:06:19.873Z"
   },
   {
    "duration": 324,
    "start_time": "2021-07-17T11:06:19.887Z"
   },
   {
    "duration": 10,
    "start_time": "2021-07-17T11:06:20.214Z"
   },
   {
    "duration": 583,
    "start_time": "2021-07-17T11:06:20.225Z"
   },
   {
    "duration": 3,
    "start_time": "2021-07-17T11:06:20.810Z"
   },
   {
    "duration": 6,
    "start_time": "2021-07-17T11:06:20.815Z"
   },
   {
    "duration": 34,
    "start_time": "2021-07-17T11:06:20.823Z"
   },
   {
    "duration": 17,
    "start_time": "2021-07-17T11:06:20.858Z"
   },
   {
    "duration": 8,
    "start_time": "2021-07-17T11:06:20.876Z"
   },
   {
    "duration": 12,
    "start_time": "2021-07-17T11:06:20.886Z"
   },
   {
    "duration": 10,
    "start_time": "2021-07-17T11:06:20.900Z"
   },
   {
    "duration": 32,
    "start_time": "2021-07-17T11:06:20.911Z"
   },
   {
    "duration": 5,
    "start_time": "2021-07-17T11:06:20.947Z"
   },
   {
    "duration": 16,
    "start_time": "2021-07-17T11:06:20.954Z"
   },
   {
    "duration": 3,
    "start_time": "2021-07-17T11:06:20.972Z"
   },
   {
    "duration": 9,
    "start_time": "2021-07-17T11:06:20.977Z"
   },
   {
    "duration": 11,
    "start_time": "2021-07-17T11:06:20.988Z"
   },
   {
    "duration": 42957,
    "start_time": "2021-07-17T11:06:21.001Z"
   },
   {
    "duration": 4,
    "start_time": "2021-07-17T11:07:03.960Z"
   },
   {
    "duration": 9,
    "start_time": "2021-07-17T11:07:03.966Z"
   },
   {
    "duration": 4,
    "start_time": "2021-07-17T11:07:03.977Z"
   },
   {
    "duration": 4,
    "start_time": "2021-07-17T11:07:03.983Z"
   },
   {
    "duration": 211876,
    "start_time": "2021-07-17T11:07:03.989Z"
   },
   {
    "duration": 278,
    "start_time": "2021-07-17T11:10:35.866Z"
   },
   {
    "duration": 3,
    "start_time": "2021-07-17T11:10:36.146Z"
   },
   {
    "duration": 31,
    "start_time": "2021-07-17T11:10:36.150Z"
   },
   {
    "duration": 69,
    "start_time": "2021-07-17T11:10:36.182Z"
   },
   {
    "duration": 189,
    "start_time": "2021-07-17T11:10:36.252Z"
   },
   {
    "duration": 2916,
    "start_time": "2021-07-17T11:10:36.445Z"
   },
   {
    "duration": 35,
    "start_time": "2021-07-17T11:10:39.363Z"
   },
   {
    "duration": 5,
    "start_time": "2021-07-17T11:10:39.400Z"
   },
   {
    "duration": 6,
    "start_time": "2021-07-17T11:10:39.407Z"
   },
   {
    "duration": 20169,
    "start_time": "2021-07-17T11:10:39.414Z"
   },
   {
    "duration": 959,
    "start_time": "2021-07-17T11:10:59.585Z"
   },
   {
    "duration": 12,
    "start_time": "2021-07-17T11:11:00.546Z"
   },
   {
    "duration": 6,
    "start_time": "2021-07-17T11:11:00.559Z"
   },
   {
    "duration": 23891,
    "start_time": "2021-07-17T11:11:00.567Z"
   },
   {
    "duration": 8,
    "start_time": "2021-07-17T11:11:24.460Z"
   },
   {
    "duration": 2,
    "start_time": "2021-07-17T11:11:24.470Z"
   },
   {
    "duration": 5,
    "start_time": "2021-07-17T11:11:24.474Z"
   },
   {
    "duration": 5,
    "start_time": "2021-07-17T11:11:24.481Z"
   },
   {
    "duration": 425057,
    "start_time": "2021-07-17T11:11:24.488Z"
   },
   {
    "duration": 95,
    "start_time": "2021-07-17T11:18:29.547Z"
   },
   {
    "duration": 3,
    "start_time": "2021-07-17T11:18:29.644Z"
   },
   {
    "duration": 7,
    "start_time": "2021-07-17T11:18:29.648Z"
   },
   {
    "duration": 30,
    "start_time": "2021-07-17T11:18:29.656Z"
   },
   {
    "duration": 159,
    "start_time": "2021-07-17T11:18:29.687Z"
   },
   {
    "duration": 3868,
    "start_time": "2021-07-17T11:18:29.850Z"
   },
   {
    "duration": 50,
    "start_time": "2021-07-17T11:18:33.720Z"
   },
   {
    "duration": 6,
    "start_time": "2021-07-17T11:18:33.771Z"
   },
   {
    "duration": 25796,
    "start_time": "2021-07-17T11:18:33.779Z"
   },
   {
    "duration": 1195,
    "start_time": "2021-07-17T11:18:59.577Z"
   },
   {
    "duration": 9,
    "start_time": "2021-07-17T11:19:00.774Z"
   },
   {
    "duration": 25,
    "start_time": "2021-07-17T11:19:00.784Z"
   },
   {
    "duration": 9,
    "start_time": "2021-07-17T11:19:00.810Z"
   },
   {
    "duration": 19,
    "start_time": "2021-07-17T11:19:00.821Z"
   },
   {
    "duration": 20,
    "start_time": "2021-07-17T11:19:00.841Z"
   },
   {
    "duration": 5,
    "start_time": "2021-07-17T11:20:04.962Z"
   },
   {
    "duration": 51,
    "start_time": "2021-07-17T11:20:04.969Z"
   },
   {
    "duration": 5,
    "start_time": "2021-07-17T11:20:05.022Z"
   },
   {
    "duration": 13,
    "start_time": "2021-07-17T11:20:05.029Z"
   },
   {
    "duration": 22,
    "start_time": "2021-07-17T11:20:05.044Z"
   },
   {
    "duration": 15,
    "start_time": "2021-07-17T11:20:05.068Z"
   },
   {
    "duration": 9,
    "start_time": "2021-07-17T11:20:05.085Z"
   },
   {
    "duration": 26,
    "start_time": "2021-07-17T11:20:05.096Z"
   },
   {
    "duration": 16,
    "start_time": "2021-07-17T11:20:05.125Z"
   },
   {
    "duration": 9,
    "start_time": "2021-07-17T11:20:05.143Z"
   },
   {
    "duration": 15,
    "start_time": "2021-07-17T11:20:05.154Z"
   },
   {
    "duration": 287,
    "start_time": "2021-07-17T11:20:05.171Z"
   },
   {
    "duration": 8,
    "start_time": "2021-07-17T11:20:05.459Z"
   },
   {
    "duration": 863,
    "start_time": "2021-07-17T11:20:05.468Z"
   },
   {
    "duration": 12,
    "start_time": "2021-07-17T11:20:06.333Z"
   },
   {
    "duration": 14,
    "start_time": "2021-07-17T11:20:06.347Z"
   },
   {
    "duration": 64,
    "start_time": "2021-07-17T11:20:06.364Z"
   },
   {
    "duration": 18,
    "start_time": "2021-07-17T11:20:06.429Z"
   },
   {
    "duration": 10,
    "start_time": "2021-07-17T11:20:06.449Z"
   },
   {
    "duration": 13,
    "start_time": "2021-07-17T11:20:06.460Z"
   },
   {
    "duration": 16,
    "start_time": "2021-07-17T11:20:06.475Z"
   },
   {
    "duration": 8,
    "start_time": "2021-07-17T11:20:06.493Z"
   },
   {
    "duration": 15,
    "start_time": "2021-07-17T11:20:06.502Z"
   },
   {
    "duration": 26,
    "start_time": "2021-07-17T11:20:06.518Z"
   },
   {
    "duration": 6,
    "start_time": "2021-07-17T11:20:06.546Z"
   },
   {
    "duration": 5,
    "start_time": "2021-07-17T11:20:06.554Z"
   },
   {
    "duration": 10,
    "start_time": "2021-07-17T11:20:06.564Z"
   },
   {
    "duration": 44268,
    "start_time": "2021-07-17T11:20:06.577Z"
   },
   {
    "duration": 4,
    "start_time": "2021-07-17T11:20:50.847Z"
   },
   {
    "duration": 22,
    "start_time": "2021-07-17T11:20:50.853Z"
   },
   {
    "duration": 5,
    "start_time": "2021-07-17T11:20:50.877Z"
   },
   {
    "duration": 6,
    "start_time": "2021-07-17T11:20:50.884Z"
   },
   {
    "duration": 362251,
    "start_time": "2021-07-17T11:20:50.891Z"
   },
   {
    "duration": 205,
    "start_time": "2021-07-17T11:26:53.144Z"
   },
   {
    "duration": 3,
    "start_time": "2021-07-17T11:26:53.350Z"
   },
   {
    "duration": 52,
    "start_time": "2021-07-17T11:26:53.355Z"
   },
   {
    "duration": 50,
    "start_time": "2021-07-17T11:26:53.409Z"
   },
   {
    "duration": 181,
    "start_time": "2021-07-17T11:26:53.460Z"
   },
   {
    "duration": 3385,
    "start_time": "2021-07-17T11:26:53.643Z"
   },
   {
    "duration": 47,
    "start_time": "2021-07-17T11:26:57.030Z"
   },
   {
    "duration": 6,
    "start_time": "2021-07-17T11:26:57.079Z"
   },
   {
    "duration": 34,
    "start_time": "2021-07-17T11:26:57.087Z"
   },
   {
    "duration": 21680,
    "start_time": "2021-07-17T11:26:57.123Z"
   },
   {
    "duration": 1091,
    "start_time": "2021-07-17T11:27:18.805Z"
   },
   {
    "duration": 10,
    "start_time": "2021-07-17T11:27:19.898Z"
   },
   {
    "duration": 3,
    "start_time": "2021-07-17T11:27:19.909Z"
   },
   {
    "duration": 23707,
    "start_time": "2021-07-17T11:27:19.914Z"
   },
   {
    "duration": 9,
    "start_time": "2021-07-17T11:27:43.623Z"
   },
   {
    "duration": 3,
    "start_time": "2021-07-17T11:27:43.634Z"
   },
   {
    "duration": 8,
    "start_time": "2021-07-17T11:27:43.639Z"
   },
   {
    "duration": 6,
    "start_time": "2021-07-17T11:27:43.649Z"
   },
   {
    "duration": 441601,
    "start_time": "2021-07-17T11:27:43.657Z"
   },
   {
    "duration": 92,
    "start_time": "2021-07-17T11:35:05.260Z"
   },
   {
    "duration": 2,
    "start_time": "2021-07-17T11:35:05.354Z"
   },
   {
    "duration": 17,
    "start_time": "2021-07-17T11:35:05.357Z"
   },
   {
    "duration": 88,
    "start_time": "2021-07-17T11:35:05.375Z"
   },
   {
    "duration": 179,
    "start_time": "2021-07-17T11:35:05.465Z"
   },
   {
    "duration": 4179,
    "start_time": "2021-07-17T11:35:05.645Z"
   },
   {
    "duration": 54,
    "start_time": "2021-07-17T11:35:09.826Z"
   },
   {
    "duration": 5,
    "start_time": "2021-07-17T11:35:09.881Z"
   },
   {
    "duration": 29589,
    "start_time": "2021-07-17T11:35:09.888Z"
   },
   {
    "duration": 1235,
    "start_time": "2021-07-17T11:35:39.479Z"
   },
   {
    "duration": 9,
    "start_time": "2021-07-17T11:35:40.715Z"
   },
   {
    "duration": 27,
    "start_time": "2021-07-17T11:35:40.725Z"
   },
   {
    "duration": 6,
    "start_time": "2021-07-17T11:35:40.753Z"
   },
   {
    "duration": 7,
    "start_time": "2021-07-17T11:35:40.760Z"
   },
   {
    "duration": 6,
    "start_time": "2021-07-17T11:35:40.768Z"
   },
   {
    "duration": 5,
    "start_time": "2021-07-17T11:37:07.200Z"
   },
   {
    "duration": 57,
    "start_time": "2021-07-17T11:37:07.207Z"
   },
   {
    "duration": 6,
    "start_time": "2021-07-17T11:37:07.266Z"
   },
   {
    "duration": 6,
    "start_time": "2021-07-17T11:37:07.274Z"
   },
   {
    "duration": 11,
    "start_time": "2021-07-17T11:37:07.282Z"
   },
   {
    "duration": 4,
    "start_time": "2021-07-17T11:37:07.295Z"
   },
   {
    "duration": 40,
    "start_time": "2021-07-17T11:37:07.301Z"
   },
   {
    "duration": 29,
    "start_time": "2021-07-17T11:37:07.344Z"
   },
   {
    "duration": 4,
    "start_time": "2021-07-17T11:37:07.375Z"
   },
   {
    "duration": 16,
    "start_time": "2021-07-17T11:37:07.381Z"
   },
   {
    "duration": 48,
    "start_time": "2021-07-17T11:37:07.399Z"
   },
   {
    "duration": 468,
    "start_time": "2021-07-17T11:37:07.449Z"
   },
   {
    "duration": 8,
    "start_time": "2021-07-17T11:37:07.918Z"
   },
   {
    "duration": 557,
    "start_time": "2021-07-17T11:37:07.928Z"
   },
   {
    "duration": 5,
    "start_time": "2021-07-17T11:37:08.487Z"
   },
   {
    "duration": 7,
    "start_time": "2021-07-17T11:37:08.493Z"
   },
   {
    "duration": 43,
    "start_time": "2021-07-17T11:37:08.502Z"
   },
   {
    "duration": 20,
    "start_time": "2021-07-17T11:37:08.546Z"
   },
   {
    "duration": 8,
    "start_time": "2021-07-17T11:37:08.568Z"
   },
   {
    "duration": 15,
    "start_time": "2021-07-17T11:37:08.577Z"
   },
   {
    "duration": 11,
    "start_time": "2021-07-17T11:37:08.594Z"
   },
   {
    "duration": 9,
    "start_time": "2021-07-17T11:37:08.641Z"
   },
   {
    "duration": 7,
    "start_time": "2021-07-17T11:37:08.653Z"
   },
   {
    "duration": 12,
    "start_time": "2021-07-17T11:37:08.662Z"
   },
   {
    "duration": 4,
    "start_time": "2021-07-17T11:37:08.675Z"
   },
   {
    "duration": 6,
    "start_time": "2021-07-17T11:37:08.680Z"
   },
   {
    "duration": 12,
    "start_time": "2021-07-17T11:37:08.687Z"
   },
   {
    "duration": 47101,
    "start_time": "2021-07-17T11:37:08.701Z"
   },
   {
    "duration": 4,
    "start_time": "2021-07-17T11:37:55.804Z"
   },
   {
    "duration": 8,
    "start_time": "2021-07-17T11:37:55.810Z"
   },
   {
    "duration": 4,
    "start_time": "2021-07-17T11:37:55.820Z"
   },
   {
    "duration": 4,
    "start_time": "2021-07-17T11:37:55.827Z"
   },
   {
    "duration": 561123,
    "start_time": "2021-07-17T11:37:55.834Z"
   },
   {
    "duration": 286,
    "start_time": "2021-07-17T11:47:16.960Z"
   },
   {
    "duration": 2,
    "start_time": "2021-07-17T11:47:17.248Z"
   },
   {
    "duration": 42,
    "start_time": "2021-07-17T11:47:17.252Z"
   },
   {
    "duration": 77,
    "start_time": "2021-07-17T11:47:17.296Z"
   },
   {
    "duration": 171,
    "start_time": "2021-07-17T11:47:17.375Z"
   },
   {
    "duration": 3750,
    "start_time": "2021-07-17T11:47:17.548Z"
   },
   {
    "duration": 50,
    "start_time": "2021-07-17T11:47:21.300Z"
   },
   {
    "duration": 6,
    "start_time": "2021-07-17T11:47:21.351Z"
   },
   {
    "duration": 12,
    "start_time": "2021-07-17T11:47:21.359Z"
   },
   {
    "duration": 26014,
    "start_time": "2021-07-17T11:47:21.373Z"
   },
   {
    "duration": 1263,
    "start_time": "2021-07-17T11:47:47.389Z"
   },
   {
    "duration": 12,
    "start_time": "2021-07-17T11:47:48.654Z"
   },
   {
    "duration": 3,
    "start_time": "2021-07-17T11:47:48.668Z"
   },
   {
    "duration": 25565,
    "start_time": "2021-07-17T11:47:48.673Z"
   },
   {
    "duration": 16,
    "start_time": "2021-07-17T11:48:14.240Z"
   },
   {
    "duration": 5,
    "start_time": "2021-07-17T11:48:14.257Z"
   },
   {
    "duration": 20,
    "start_time": "2021-07-17T11:48:14.264Z"
   },
   {
    "duration": 11,
    "start_time": "2021-07-17T11:48:14.285Z"
   },
   {
    "duration": 141761,
    "start_time": "2021-07-17T11:48:14.298Z"
   },
   {
    "duration": 102,
    "start_time": "2021-07-17T11:50:36.061Z"
   },
   {
    "duration": 5,
    "start_time": "2021-07-17T11:50:36.164Z"
   },
   {
    "duration": 71,
    "start_time": "2021-07-17T11:50:36.170Z"
   },
   {
    "duration": 34,
    "start_time": "2021-07-17T11:50:36.243Z"
   },
   {
    "duration": 270,
    "start_time": "2021-07-17T11:50:36.279Z"
   },
   {
    "duration": 4849,
    "start_time": "2021-07-17T11:50:36.551Z"
   },
   {
    "duration": 62,
    "start_time": "2021-07-17T11:50:41.402Z"
   },
   {
    "duration": 6,
    "start_time": "2021-07-17T11:50:41.465Z"
   },
   {
    "duration": 32924,
    "start_time": "2021-07-17T11:50:41.472Z"
   },
   {
    "duration": 1535,
    "start_time": "2021-07-17T11:51:14.398Z"
   },
   {
    "duration": 13,
    "start_time": "2021-07-17T11:51:15.935Z"
   },
   {
    "duration": 13,
    "start_time": "2021-07-17T11:51:15.950Z"
   },
   {
    "duration": 7,
    "start_time": "2021-07-17T11:51:15.965Z"
   },
   {
    "duration": 7,
    "start_time": "2021-07-17T11:51:15.974Z"
   },
   {
    "duration": 7,
    "start_time": "2021-07-17T11:51:15.983Z"
   },
   {
    "duration": 380,
    "start_time": "2021-07-17T12:21:30.246Z"
   },
   {
    "duration": 237,
    "start_time": "2021-07-17T12:24:14.860Z"
   },
   {
    "duration": 44965,
    "start_time": "2021-07-17T12:24:23.197Z"
   },
   {
    "duration": 41,
    "start_time": "2021-07-17T12:26:43.436Z"
   },
   {
    "duration": 221,
    "start_time": "2021-07-17T12:26:47.795Z"
   },
   {
    "duration": 306,
    "start_time": "2021-07-17T12:27:17.723Z"
   },
   {
    "duration": 296,
    "start_time": "2021-07-17T12:27:25.611Z"
   },
   {
    "duration": 18,
    "start_time": "2021-07-17T12:27:29.847Z"
   },
   {
    "duration": 66,
    "start_time": "2021-07-17T12:27:33.515Z"
   },
   {
    "duration": 9,
    "start_time": "2021-07-17T12:27:43.378Z"
   },
   {
    "duration": 291,
    "start_time": "2021-07-17T12:29:29.912Z"
   },
   {
    "duration": 87,
    "start_time": "2021-07-17T12:36:28.178Z"
   },
   {
    "duration": 98,
    "start_time": "2021-07-17T12:36:37.518Z"
   },
   {
    "duration": 195,
    "start_time": "2021-07-17T12:36:48.719Z"
   },
   {
    "duration": 182,
    "start_time": "2021-07-17T14:21:06.559Z"
   },
   {
    "duration": 182,
    "start_time": "2021-07-17T14:23:31.934Z"
   },
   {
    "duration": 177,
    "start_time": "2021-07-17T14:23:44.788Z"
   },
   {
    "duration": 3684,
    "start_time": "2021-07-17T14:28:39.619Z"
   },
   {
    "duration": -565,
    "start_time": "2021-07-17T14:28:43.870Z"
   },
   {
    "duration": 23,
    "start_time": "2021-07-17T14:29:04.827Z"
   },
   {
    "duration": 49394,
    "start_time": "2021-07-17T14:29:06.291Z"
   },
   {
    "duration": 181,
    "start_time": "2021-07-17T14:30:42.403Z"
   },
   {
    "duration": 7834,
    "start_time": "2021-07-17T14:32:07.738Z"
   },
   {
    "duration": 182,
    "start_time": "2021-07-17T14:33:07.803Z"
   },
   {
    "duration": 21886,
    "start_time": "2021-07-17T14:33:24.993Z"
   },
   {
    "duration": 8,
    "start_time": "2021-07-17T14:33:59.047Z"
   },
   {
    "duration": 71,
    "start_time": "2021-07-17T14:33:59.057Z"
   },
   {
    "duration": 12,
    "start_time": "2021-07-17T14:33:59.130Z"
   },
   {
    "duration": 18,
    "start_time": "2021-07-17T14:33:59.145Z"
   },
   {
    "duration": 31,
    "start_time": "2021-07-17T14:33:59.165Z"
   },
   {
    "duration": 11,
    "start_time": "2021-07-17T14:33:59.198Z"
   },
   {
    "duration": 20,
    "start_time": "2021-07-17T14:33:59.212Z"
   },
   {
    "duration": 41,
    "start_time": "2021-07-17T14:33:59.236Z"
   },
   {
    "duration": 4,
    "start_time": "2021-07-17T14:33:59.280Z"
   },
   {
    "duration": 25,
    "start_time": "2021-07-17T14:33:59.285Z"
   },
   {
    "duration": 10,
    "start_time": "2021-07-17T14:33:59.311Z"
   },
   {
    "duration": 321,
    "start_time": "2021-07-17T14:33:59.323Z"
   },
   {
    "duration": 10,
    "start_time": "2021-07-17T14:33:59.645Z"
   },
   {
    "duration": 588,
    "start_time": "2021-07-17T14:33:59.658Z"
   },
   {
    "duration": 4,
    "start_time": "2021-07-17T14:34:00.248Z"
   },
   {
    "duration": 14,
    "start_time": "2021-07-17T14:34:00.253Z"
   },
   {
    "duration": 28,
    "start_time": "2021-07-17T14:34:00.269Z"
   },
   {
    "duration": 20,
    "start_time": "2021-07-17T14:34:00.299Z"
   },
   {
    "duration": 29,
    "start_time": "2021-07-17T14:34:00.320Z"
   },
   {
    "duration": 15,
    "start_time": "2021-07-17T14:34:00.351Z"
   },
   {
    "duration": 23,
    "start_time": "2021-07-17T14:34:00.368Z"
   },
   {
    "duration": 13,
    "start_time": "2021-07-17T14:34:00.399Z"
   },
   {
    "duration": 10,
    "start_time": "2021-07-17T14:34:00.416Z"
   },
   {
    "duration": 11,
    "start_time": "2021-07-17T14:34:00.442Z"
   },
   {
    "duration": 6,
    "start_time": "2021-07-17T14:34:00.455Z"
   },
   {
    "duration": 7,
    "start_time": "2021-07-17T14:34:00.463Z"
   },
   {
    "duration": 30,
    "start_time": "2021-07-17T14:34:00.472Z"
   },
   {
    "duration": 22101,
    "start_time": "2021-07-17T14:34:00.503Z"
   },
   {
    "duration": 4,
    "start_time": "2021-07-17T14:34:22.606Z"
   },
   {
    "duration": 10,
    "start_time": "2021-07-17T14:34:22.612Z"
   },
   {
    "duration": 5,
    "start_time": "2021-07-17T14:34:22.623Z"
   },
   {
    "duration": 5,
    "start_time": "2021-07-17T14:34:22.630Z"
   },
   {
    "duration": 95809,
    "start_time": "2021-07-17T14:34:22.637Z"
   },
   {
    "duration": 197,
    "start_time": "2021-07-17T14:35:58.448Z"
   },
   {
    "duration": 3,
    "start_time": "2021-07-17T14:35:58.647Z"
   },
   {
    "duration": 44,
    "start_time": "2021-07-17T14:35:58.651Z"
   },
   {
    "duration": 72,
    "start_time": "2021-07-17T14:35:58.697Z"
   },
   {
    "duration": 174,
    "start_time": "2021-07-17T14:35:58.771Z"
   },
   {
    "duration": 3845,
    "start_time": "2021-07-17T14:35:58.947Z"
   },
   {
    "duration": 52,
    "start_time": "2021-07-17T14:36:02.793Z"
   },
   {
    "duration": 7,
    "start_time": "2021-07-17T14:36:02.847Z"
   },
   {
    "duration": 5,
    "start_time": "2021-07-17T14:36:02.855Z"
   },
   {
    "duration": 24934,
    "start_time": "2021-07-17T14:36:02.861Z"
   },
   {
    "duration": 1026,
    "start_time": "2021-07-17T14:36:27.797Z"
   },
   {
    "duration": 19,
    "start_time": "2021-07-17T14:36:28.825Z"
   },
   {
    "duration": 4,
    "start_time": "2021-07-17T14:36:28.846Z"
   },
   {
    "duration": 25211,
    "start_time": "2021-07-17T14:36:28.851Z"
   },
   {
    "duration": 15,
    "start_time": "2021-07-17T14:36:54.064Z"
   },
   {
    "duration": 6,
    "start_time": "2021-07-17T14:36:54.081Z"
   },
   {
    "duration": 8,
    "start_time": "2021-07-17T14:36:54.089Z"
   },
   {
    "duration": 15,
    "start_time": "2021-07-17T14:36:54.099Z"
   },
   {
    "duration": 106932,
    "start_time": "2021-07-17T14:36:54.115Z"
   },
   {
    "duration": 43,
    "start_time": "2021-07-17T14:38:41.048Z"
   },
   {
    "duration": 49,
    "start_time": "2021-07-17T14:38:41.092Z"
   },
   {
    "duration": 3,
    "start_time": "2021-07-17T14:38:41.143Z"
   },
   {
    "duration": 32,
    "start_time": "2021-07-17T14:38:41.148Z"
   },
   {
    "duration": 160,
    "start_time": "2021-07-17T14:38:41.181Z"
   },
   {
    "duration": 4637,
    "start_time": "2021-07-17T14:38:41.344Z"
   },
   {
    "duration": 62,
    "start_time": "2021-07-17T14:38:45.983Z"
   },
   {
    "duration": 5,
    "start_time": "2021-07-17T14:38:46.046Z"
   },
   {
    "duration": 30964,
    "start_time": "2021-07-17T14:38:46.053Z"
   },
   {
    "duration": 1451,
    "start_time": "2021-07-17T14:39:17.018Z"
   },
   {
    "duration": 9,
    "start_time": "2021-07-17T14:39:18.471Z"
   },
   {
    "duration": 10,
    "start_time": "2021-07-17T14:39:18.481Z"
   },
   {
    "duration": 10,
    "start_time": "2021-07-17T14:39:18.492Z"
   },
   {
    "duration": 6,
    "start_time": "2021-07-17T14:39:18.504Z"
   },
   {
    "duration": 34,
    "start_time": "2021-07-17T14:39:18.511Z"
   },
   {
    "duration": 12498,
    "start_time": "2021-07-17T14:45:25.116Z"
   },
   {
    "duration": 4,
    "start_time": "2021-07-17T14:45:42.123Z"
   },
   {
    "duration": 4,
    "start_time": "2021-07-17T14:45:44.131Z"
   },
   {
    "duration": 13,
    "start_time": "2021-07-17T14:46:06.515Z"
   },
   {
    "duration": 13,
    "start_time": "2021-07-17T14:46:07.891Z"
   },
   {
    "duration": 4,
    "start_time": "2021-07-17T14:46:14.644Z"
   },
   {
    "duration": 11654,
    "start_time": "2021-07-17T14:46:43.403Z"
   },
   {
    "duration": 4,
    "start_time": "2021-07-17T14:46:57.963Z"
   },
   {
    "duration": 4,
    "start_time": "2021-07-17T14:46:59.057Z"
   },
   {
    "duration": 18888,
    "start_time": "2021-07-17T14:47:22.219Z"
   },
   {
    "duration": 4,
    "start_time": "2021-07-17T14:47:43.579Z"
   },
   {
    "duration": 14011,
    "start_time": "2021-07-17T14:47:50.803Z"
   },
   {
    "duration": 5,
    "start_time": "2021-07-17T14:48:07.155Z"
   },
   {
    "duration": 4,
    "start_time": "2021-07-17T14:48:08.185Z"
   },
   {
    "duration": 21828,
    "start_time": "2021-07-17T14:48:16.378Z"
   },
   {
    "duration": 287,
    "start_time": "2021-07-17T14:49:02.594Z"
   },
   {
    "duration": 24,
    "start_time": "2021-07-17T14:49:12.674Z"
   },
   {
    "duration": 342,
    "start_time": "2021-07-17T14:49:36.042Z"
   },
   {
    "duration": 297,
    "start_time": "2021-07-17T14:50:29.034Z"
   },
   {
    "duration": 299,
    "start_time": "2021-07-17T14:51:35.671Z"
   },
   {
    "duration": 303,
    "start_time": "2021-07-17T14:52:01.648Z"
   },
   {
    "duration": 23,
    "start_time": "2021-07-17T14:52:11.573Z"
   },
   {
    "duration": 22137,
    "start_time": "2021-07-17T14:52:14.208Z"
   },
   {
    "duration": 22101,
    "start_time": "2021-07-17T14:54:38.199Z"
   },
   {
    "duration": 18,
    "start_time": "2021-07-17T14:55:00.302Z"
   },
   {
    "duration": 4,
    "start_time": "2021-07-17T14:55:08.511Z"
   },
   {
    "duration": 23,
    "start_time": "2021-07-17T14:55:13.951Z"
   },
   {
    "duration": 22105,
    "start_time": "2021-07-17T14:55:17.000Z"
   },
   {
    "duration": 4,
    "start_time": "2021-07-17T14:55:43.576Z"
   },
   {
    "duration": 20264,
    "start_time": "2021-07-17T14:56:23.314Z"
   },
   {
    "duration": 4,
    "start_time": "2021-07-17T14:56:47.582Z"
   },
   {
    "duration": 4,
    "start_time": "2021-07-17T14:57:05.141Z"
   },
   {
    "duration": 6,
    "start_time": "2021-07-17T14:57:33.718Z"
   },
   {
    "duration": 5618,
    "start_time": "2021-07-17T15:06:26.710Z"
   },
   {
    "duration": 4,
    "start_time": "2021-07-17T15:06:35.564Z"
   },
   {
    "duration": 4851,
    "start_time": "2021-07-17T15:08:41.403Z"
   },
   {
    "duration": 5527,
    "start_time": "2021-07-17T15:08:46.346Z"
   },
   {
    "duration": 4,
    "start_time": "2021-07-17T15:09:08.560Z"
   },
   {
    "duration": 14171,
    "start_time": "2021-07-17T15:09:24.330Z"
   },
   {
    "duration": 4,
    "start_time": "2021-07-17T15:09:41.945Z"
   },
   {
    "duration": 11159,
    "start_time": "2021-07-17T15:12:07.701Z"
   },
   {
    "duration": 4,
    "start_time": "2021-07-17T15:12:21.744Z"
   },
   {
    "duration": 4,
    "start_time": "2021-07-17T15:12:50.559Z"
   },
   {
    "duration": 3,
    "start_time": "2021-07-17T15:13:15.862Z"
   },
   {
    "duration": 308,
    "start_time": "2021-07-17T19:01:24.624Z"
   },
   {
    "duration": 1654,
    "start_time": "2021-07-17T19:01:30.377Z"
   },
   {
    "duration": 58,
    "start_time": "2021-07-17T19:01:32.034Z"
   },
   {
    "duration": 9,
    "start_time": "2021-07-17T19:01:32.096Z"
   },
   {
    "duration": 7,
    "start_time": "2021-07-17T19:01:32.108Z"
   },
   {
    "duration": 19,
    "start_time": "2021-07-17T19:01:32.117Z"
   },
   {
    "duration": 6,
    "start_time": "2021-07-17T19:01:32.138Z"
   },
   {
    "duration": 15,
    "start_time": "2021-07-17T19:01:32.182Z"
   },
   {
    "duration": 41,
    "start_time": "2021-07-17T19:01:32.202Z"
   },
   {
    "duration": 40,
    "start_time": "2021-07-17T19:01:32.247Z"
   },
   {
    "duration": 27,
    "start_time": "2021-07-17T19:01:32.290Z"
   },
   {
    "duration": 19,
    "start_time": "2021-07-17T19:01:32.320Z"
   },
   {
    "duration": 560,
    "start_time": "2021-07-17T19:01:32.342Z"
   },
   {
    "duration": 18,
    "start_time": "2021-07-17T19:01:32.905Z"
   },
   {
    "duration": 974,
    "start_time": "2021-07-17T19:01:32.926Z"
   },
   {
    "duration": 7,
    "start_time": "2021-07-17T19:01:33.903Z"
   },
   {
    "duration": 9,
    "start_time": "2021-07-17T19:01:33.913Z"
   },
   {
    "duration": 78,
    "start_time": "2021-07-17T19:01:33.924Z"
   },
   {
    "duration": 111,
    "start_time": "2021-07-17T19:01:34.005Z"
   },
   {
    "duration": 13,
    "start_time": "2021-07-17T19:01:34.120Z"
   },
   {
    "duration": 50,
    "start_time": "2021-07-17T19:01:34.136Z"
   },
   {
    "duration": 21,
    "start_time": "2021-07-17T19:01:34.189Z"
   },
   {
    "duration": 14,
    "start_time": "2021-07-17T19:01:34.212Z"
   },
   {
    "duration": 9,
    "start_time": "2021-07-17T19:01:34.230Z"
   },
   {
    "duration": 59,
    "start_time": "2021-07-17T19:01:34.242Z"
   },
   {
    "duration": 6,
    "start_time": "2021-07-17T19:01:34.303Z"
   },
   {
    "duration": 8,
    "start_time": "2021-07-17T19:01:34.311Z"
   },
   {
    "duration": 66,
    "start_time": "2021-07-17T19:01:34.322Z"
   },
   {
    "duration": 12,
    "start_time": "2021-07-17T19:01:48.950Z"
   },
   {
    "duration": 57528,
    "start_time": "2021-07-17T19:01:53.539Z"
   },
   {
    "duration": 26383,
    "start_time": "2021-07-17T19:04:51.555Z"
   },
   {
    "duration": 66747,
    "start_time": "2021-07-17T19:05:25.154Z"
   },
   {
    "duration": 11669,
    "start_time": "2021-07-17T19:11:26.581Z"
   },
   {
    "duration": 6,
    "start_time": "2021-07-17T19:12:06.212Z"
   },
   {
    "duration": 6,
    "start_time": "2021-07-17T19:12:17.910Z"
   },
   {
    "duration": 7,
    "start_time": "2021-07-17T19:18:24.638Z"
   },
   {
    "duration": 69,
    "start_time": "2021-07-17T19:18:24.647Z"
   },
   {
    "duration": 11,
    "start_time": "2021-07-17T19:18:24.720Z"
   },
   {
    "duration": 50,
    "start_time": "2021-07-17T19:18:24.735Z"
   },
   {
    "duration": 22,
    "start_time": "2021-07-17T19:18:24.789Z"
   },
   {
    "duration": 7,
    "start_time": "2021-07-17T19:18:24.814Z"
   },
   {
    "duration": 14,
    "start_time": "2021-07-17T19:18:24.824Z"
   },
   {
    "duration": 45,
    "start_time": "2021-07-17T19:18:24.885Z"
   },
   {
    "duration": 6,
    "start_time": "2021-07-17T19:18:24.932Z"
   },
   {
    "duration": 52,
    "start_time": "2021-07-17T19:18:24.940Z"
   },
   {
    "duration": 19,
    "start_time": "2021-07-17T19:18:24.996Z"
   },
   {
    "duration": 568,
    "start_time": "2021-07-17T19:18:25.018Z"
   },
   {
    "duration": 15,
    "start_time": "2021-07-17T19:18:25.589Z"
   },
   {
    "duration": 986,
    "start_time": "2021-07-17T19:18:25.607Z"
   },
   {
    "duration": 5,
    "start_time": "2021-07-17T19:18:26.597Z"
   },
   {
    "duration": 13,
    "start_time": "2021-07-17T19:18:26.604Z"
   },
   {
    "duration": 64,
    "start_time": "2021-07-17T19:18:26.619Z"
   },
   {
    "duration": 38,
    "start_time": "2021-07-17T19:18:26.686Z"
   },
   {
    "duration": 12,
    "start_time": "2021-07-17T19:18:26.730Z"
   },
   {
    "duration": 54,
    "start_time": "2021-07-17T19:18:26.746Z"
   },
   {
    "duration": 16,
    "start_time": "2021-07-17T19:18:26.804Z"
   },
   {
    "duration": 19,
    "start_time": "2021-07-17T19:18:26.822Z"
   },
   {
    "duration": 44,
    "start_time": "2021-07-17T19:18:26.843Z"
   },
   {
    "duration": 21,
    "start_time": "2021-07-17T19:18:26.890Z"
   },
   {
    "duration": 7,
    "start_time": "2021-07-17T19:18:26.914Z"
   },
   {
    "duration": 9,
    "start_time": "2021-07-17T19:18:26.924Z"
   },
   {
    "duration": 63,
    "start_time": "2021-07-17T19:18:26.936Z"
   },
   {
    "duration": 35018,
    "start_time": "2021-07-17T19:18:27.002Z"
   },
   {
    "duration": 7,
    "start_time": "2021-07-17T19:19:02.022Z"
   },
   {
    "duration": 15,
    "start_time": "2021-07-17T19:19:02.032Z"
   },
   {
    "duration": 9,
    "start_time": "2021-07-17T19:19:02.049Z"
   },
   {
    "duration": 25,
    "start_time": "2021-07-17T19:19:02.060Z"
   },
   {
    "duration": 4297,
    "start_time": "2021-07-17T19:19:02.089Z"
   },
   {
    "duration": 106,
    "start_time": "2021-07-17T19:19:06.390Z"
   },
   {
    "duration": 85,
    "start_time": "2021-07-17T19:19:06.500Z"
   },
   {
    "duration": 66,
    "start_time": "2021-07-17T19:19:06.588Z"
   },
   {
    "duration": 81,
    "start_time": "2021-07-17T19:19:06.657Z"
   },
   {
    "duration": 241,
    "start_time": "2021-07-17T19:19:06.740Z"
   },
   {
    "duration": 5515,
    "start_time": "2021-07-17T19:19:06.985Z"
   },
   {
    "duration": 57,
    "start_time": "2021-07-17T19:19:12.503Z"
   },
   {
    "duration": 27,
    "start_time": "2021-07-17T19:19:12.562Z"
   },
   {
    "duration": 5,
    "start_time": "2021-07-17T19:19:12.593Z"
   },
   {
    "duration": 32626,
    "start_time": "2021-07-17T19:19:12.601Z"
   },
   {
    "duration": 1544,
    "start_time": "2021-07-17T19:19:45.229Z"
   },
   {
    "duration": 23,
    "start_time": "2021-07-17T19:19:46.783Z"
   },
   {
    "duration": 4,
    "start_time": "2021-07-17T19:19:46.809Z"
   },
   {
    "duration": 30011,
    "start_time": "2021-07-17T19:19:46.816Z"
   },
   {
    "duration": 13,
    "start_time": "2021-07-17T19:20:16.830Z"
   },
   {
    "duration": 3,
    "start_time": "2021-07-17T19:20:16.845Z"
   },
   {
    "duration": 8,
    "start_time": "2021-07-17T19:20:16.851Z"
   },
   {
    "duration": 8,
    "start_time": "2021-07-17T19:20:16.861Z"
   },
   {
    "duration": 9417,
    "start_time": "2021-07-17T19:20:16.871Z"
   },
   {
    "duration": 94,
    "start_time": "2021-07-17T19:20:26.290Z"
   },
   {
    "duration": 5,
    "start_time": "2021-07-17T19:20:26.387Z"
   },
   {
    "duration": 5,
    "start_time": "2021-07-17T19:20:26.402Z"
   },
   {
    "duration": 105,
    "start_time": "2021-07-17T19:20:26.410Z"
   },
   {
    "duration": 75,
    "start_time": "2021-07-17T19:20:26.518Z"
   },
   {
    "duration": 6087,
    "start_time": "2021-07-17T19:20:26.596Z"
   },
   {
    "duration": 73,
    "start_time": "2021-07-17T19:20:32.686Z"
   },
   {
    "duration": 29,
    "start_time": "2021-07-17T19:20:32.763Z"
   },
   {
    "duration": 42049,
    "start_time": "2021-07-17T19:20:32.795Z"
   },
   {
    "duration": 1972,
    "start_time": "2021-07-17T19:21:14.847Z"
   },
   {
    "duration": 14,
    "start_time": "2021-07-17T19:21:16.822Z"
   },
   {
    "duration": 15,
    "start_time": "2021-07-17T19:21:16.838Z"
   },
   {
    "duration": 11,
    "start_time": "2021-07-17T19:21:16.882Z"
   },
   {
    "duration": 10,
    "start_time": "2021-07-17T19:21:16.896Z"
   },
   {
    "duration": 11,
    "start_time": "2021-07-17T19:21:16.909Z"
   },
   {
    "duration": 241,
    "start_time": "2021-07-17T19:21:44.831Z"
   },
   {
    "duration": 8,
    "start_time": "2021-07-17T19:21:57.162Z"
   },
   {
    "duration": 212,
    "start_time": "2021-07-17T19:22:05.505Z"
   },
   {
    "duration": 106,
    "start_time": "2021-07-17T19:32:40.978Z"
   },
   {
    "duration": 210,
    "start_time": "2021-07-17T19:32:46.052Z"
   },
   {
    "duration": 4714,
    "start_time": "2021-07-17T19:32:58.189Z"
   },
   {
    "duration": 1872,
    "start_time": "2021-07-17T19:33:10.547Z"
   },
   {
    "duration": 4657,
    "start_time": "2021-07-17T19:33:41.470Z"
   },
   {
    "duration": 8,
    "start_time": "2021-07-17T19:36:04.035Z"
   },
   {
    "duration": 62,
    "start_time": "2021-07-17T19:36:04.046Z"
   },
   {
    "duration": 8,
    "start_time": "2021-07-17T19:36:04.111Z"
   },
   {
    "duration": 14,
    "start_time": "2021-07-17T19:36:04.122Z"
   },
   {
    "duration": 62,
    "start_time": "2021-07-17T19:36:04.138Z"
   },
   {
    "duration": 8,
    "start_time": "2021-07-17T19:36:04.203Z"
   },
   {
    "duration": 16,
    "start_time": "2021-07-17T19:36:04.213Z"
   },
   {
    "duration": 80,
    "start_time": "2021-07-17T19:36:04.233Z"
   },
   {
    "duration": 5,
    "start_time": "2021-07-17T19:36:04.316Z"
   },
   {
    "duration": 18,
    "start_time": "2021-07-17T19:36:04.323Z"
   },
   {
    "duration": 47,
    "start_time": "2021-07-17T19:36:04.343Z"
   },
   {
    "duration": 530,
    "start_time": "2021-07-17T19:36:04.393Z"
   },
   {
    "duration": 12,
    "start_time": "2021-07-17T19:36:04.925Z"
   },
   {
    "duration": 977,
    "start_time": "2021-07-17T19:36:04.939Z"
   },
   {
    "duration": 6,
    "start_time": "2021-07-17T19:36:05.918Z"
   },
   {
    "duration": 12,
    "start_time": "2021-07-17T19:36:05.926Z"
   },
   {
    "duration": 66,
    "start_time": "2021-07-17T19:36:05.940Z"
   },
   {
    "duration": 35,
    "start_time": "2021-07-17T19:36:06.008Z"
   },
   {
    "duration": 11,
    "start_time": "2021-07-17T19:36:06.045Z"
   },
   {
    "duration": 28,
    "start_time": "2021-07-17T19:36:06.083Z"
   },
   {
    "duration": 17,
    "start_time": "2021-07-17T19:36:06.113Z"
   },
   {
    "duration": 14,
    "start_time": "2021-07-17T19:36:06.132Z"
   },
   {
    "duration": 37,
    "start_time": "2021-07-17T19:36:06.152Z"
   },
   {
    "duration": 17,
    "start_time": "2021-07-17T19:36:06.198Z"
   },
   {
    "duration": 5,
    "start_time": "2021-07-17T19:36:06.218Z"
   },
   {
    "duration": 11,
    "start_time": "2021-07-17T19:36:06.226Z"
   },
   {
    "duration": 64,
    "start_time": "2021-07-17T19:36:06.239Z"
   },
   {
    "duration": 66523,
    "start_time": "2021-07-17T19:36:06.306Z"
   },
   {
    "duration": 5,
    "start_time": "2021-07-17T19:37:12.832Z"
   },
   {
    "duration": 14,
    "start_time": "2021-07-17T19:37:12.840Z"
   },
   {
    "duration": 27,
    "start_time": "2021-07-17T19:37:12.856Z"
   },
   {
    "duration": 3,
    "start_time": "2021-07-17T19:37:12.886Z"
   },
   {
    "duration": 3397,
    "start_time": "2021-07-17T19:37:12.892Z"
   },
   {
    "duration": 195,
    "start_time": "2021-07-17T19:37:16.293Z"
   },
   {
    "duration": 7,
    "start_time": "2021-07-17T19:37:16.492Z"
   },
   {
    "duration": 107,
    "start_time": "2021-07-17T19:37:16.501Z"
   },
   {
    "duration": 71,
    "start_time": "2021-07-17T19:37:16.611Z"
   },
   {
    "duration": 106,
    "start_time": "2021-07-17T19:37:16.685Z"
   },
   {
    "duration": 5028,
    "start_time": "2021-07-17T19:37:16.795Z"
   },
   {
    "duration": 64,
    "start_time": "2021-07-17T19:37:21.826Z"
   },
   {
    "duration": 11,
    "start_time": "2021-07-17T19:37:21.894Z"
   },
   {
    "duration": 5,
    "start_time": "2021-07-17T19:37:21.908Z"
   },
   {
    "duration": 32769,
    "start_time": "2021-07-17T19:37:21.916Z"
   },
   {
    "duration": 1436,
    "start_time": "2021-07-17T19:37:54.688Z"
   },
   {
    "duration": 17,
    "start_time": "2021-07-17T19:37:56.126Z"
   },
   {
    "duration": 3,
    "start_time": "2021-07-17T19:37:56.145Z"
   },
   {
    "duration": 30070,
    "start_time": "2021-07-17T19:37:56.151Z"
   },
   {
    "duration": 11,
    "start_time": "2021-07-17T19:38:26.224Z"
   },
   {
    "duration": 3,
    "start_time": "2021-07-17T19:38:26.238Z"
   },
   {
    "duration": 9,
    "start_time": "2021-07-17T19:38:26.244Z"
   },
   {
    "duration": 8,
    "start_time": "2021-07-17T19:38:26.256Z"
   },
   {
    "duration": 8526,
    "start_time": "2021-07-17T19:38:26.266Z"
   },
   {
    "duration": 101,
    "start_time": "2021-07-17T19:38:34.795Z"
   },
   {
    "duration": 4,
    "start_time": "2021-07-17T19:38:34.899Z"
   },
   {
    "duration": 83,
    "start_time": "2021-07-17T19:38:34.905Z"
   },
   {
    "duration": 63,
    "start_time": "2021-07-17T19:38:34.990Z"
   },
   {
    "duration": 134,
    "start_time": "2021-07-17T19:38:35.055Z"
   },
   {
    "duration": 6174,
    "start_time": "2021-07-17T19:38:35.192Z"
   },
   {
    "duration": 82,
    "start_time": "2021-07-17T19:38:41.369Z"
   },
   {
    "duration": 8,
    "start_time": "2021-07-17T19:38:41.453Z"
   },
   {
    "duration": 42992,
    "start_time": "2021-07-17T19:38:41.463Z"
   },
   {
    "duration": 1943,
    "start_time": "2021-07-17T19:39:24.457Z"
   },
   {
    "duration": 15,
    "start_time": "2021-07-17T19:39:26.403Z"
   },
   {
    "duration": 17,
    "start_time": "2021-07-17T19:39:26.420Z"
   },
   {
    "duration": 45,
    "start_time": "2021-07-17T19:39:26.440Z"
   },
   {
    "duration": 8,
    "start_time": "2021-07-17T19:39:26.488Z"
   },
   {
    "duration": 9,
    "start_time": "2021-07-17T19:39:26.499Z"
   },
   {
    "duration": 8,
    "start_time": "2021-07-17T19:42:18.199Z"
   },
   {
    "duration": 56,
    "start_time": "2021-07-17T19:42:18.210Z"
   },
   {
    "duration": 19,
    "start_time": "2021-07-17T19:42:18.269Z"
   },
   {
    "duration": 11,
    "start_time": "2021-07-17T19:42:18.292Z"
   },
   {
    "duration": 19,
    "start_time": "2021-07-17T19:42:18.305Z"
   },
   {
    "duration": 62,
    "start_time": "2021-07-17T19:42:18.326Z"
   },
   {
    "duration": 14,
    "start_time": "2021-07-17T19:42:18.391Z"
   },
   {
    "duration": 39,
    "start_time": "2021-07-17T19:42:18.410Z"
   },
   {
    "duration": 7,
    "start_time": "2021-07-17T19:42:18.483Z"
   },
   {
    "duration": 19,
    "start_time": "2021-07-17T19:42:18.495Z"
   },
   {
    "duration": 15,
    "start_time": "2021-07-17T19:42:18.517Z"
   },
   {
    "duration": 644,
    "start_time": "2021-07-17T19:42:18.534Z"
   },
   {
    "duration": 15,
    "start_time": "2021-07-17T19:42:19.184Z"
   },
   {
    "duration": 1103,
    "start_time": "2021-07-17T19:42:19.202Z"
   },
   {
    "duration": 5,
    "start_time": "2021-07-17T19:42:20.308Z"
   },
   {
    "duration": 10,
    "start_time": "2021-07-17T19:42:20.316Z"
   },
   {
    "duration": 69,
    "start_time": "2021-07-17T19:42:20.329Z"
   },
   {
    "duration": 36,
    "start_time": "2021-07-17T19:42:20.400Z"
   },
   {
    "duration": 12,
    "start_time": "2021-07-17T19:42:20.438Z"
   },
   {
    "duration": 54,
    "start_time": "2021-07-17T19:42:20.453Z"
   },
   {
    "duration": 16,
    "start_time": "2021-07-17T19:42:20.509Z"
   },
   {
    "duration": 13,
    "start_time": "2021-07-17T19:42:20.528Z"
   },
   {
    "duration": 39,
    "start_time": "2021-07-17T19:42:20.548Z"
   },
   {
    "duration": 22,
    "start_time": "2021-07-17T19:42:20.592Z"
   },
   {
    "duration": 7,
    "start_time": "2021-07-17T19:42:20.617Z"
   },
   {
    "duration": 13,
    "start_time": "2021-07-17T19:42:20.626Z"
   },
   {
    "duration": 63,
    "start_time": "2021-07-17T19:42:20.641Z"
   },
   {
    "duration": 12940,
    "start_time": "2021-07-17T19:42:20.706Z"
   },
   {
    "duration": 5,
    "start_time": "2021-07-17T19:42:33.649Z"
   },
   {
    "duration": 14,
    "start_time": "2021-07-17T19:42:33.656Z"
   },
   {
    "duration": 5,
    "start_time": "2021-07-17T19:42:33.673Z"
   },
   {
    "duration": 8,
    "start_time": "2021-07-17T19:42:33.681Z"
   },
   {
    "duration": 4598,
    "start_time": "2021-07-17T19:42:33.692Z"
   },
   {
    "duration": 109,
    "start_time": "2021-07-17T19:42:38.293Z"
   },
   {
    "duration": 5,
    "start_time": "2021-07-17T19:42:38.405Z"
   },
   {
    "duration": 128,
    "start_time": "2021-07-17T19:42:38.413Z"
   },
   {
    "duration": 89,
    "start_time": "2021-07-17T19:42:38.544Z"
   },
   {
    "duration": 247,
    "start_time": "2021-07-17T19:42:38.636Z"
   },
   {
    "duration": 1876,
    "start_time": "2021-07-17T19:42:38.886Z"
   },
   {
    "duration": 68,
    "start_time": "2021-07-17T19:42:40.765Z"
   },
   {
    "duration": 8,
    "start_time": "2021-07-17T19:42:40.836Z"
   },
   {
    "duration": 15,
    "start_time": "2021-07-17T19:42:40.847Z"
   },
   {
    "duration": 13296,
    "start_time": "2021-07-17T19:42:40.882Z"
   },
   {
    "duration": 1536,
    "start_time": "2021-07-17T19:42:54.184Z"
   },
   {
    "duration": 16,
    "start_time": "2021-07-17T19:42:55.722Z"
   },
   {
    "duration": 3,
    "start_time": "2021-07-17T19:42:55.740Z"
   },
   {
    "duration": 31088,
    "start_time": "2021-07-17T19:42:55.746Z"
   },
   {
    "duration": 13,
    "start_time": "2021-07-17T19:43:26.836Z"
   },
   {
    "duration": 9,
    "start_time": "2021-07-17T19:43:26.851Z"
   },
   {
    "duration": 14,
    "start_time": "2021-07-17T19:43:26.862Z"
   },
   {
    "duration": 17,
    "start_time": "2021-07-17T19:43:26.878Z"
   },
   {
    "duration": 9188,
    "start_time": "2021-07-17T19:43:26.898Z"
   },
   {
    "duration": 28,
    "start_time": "2021-07-17T19:43:36.090Z"
   },
   {
    "duration": 4,
    "start_time": "2021-07-17T19:43:36.122Z"
   },
   {
    "duration": 60,
    "start_time": "2021-07-17T19:43:36.129Z"
   },
   {
    "duration": 66,
    "start_time": "2021-07-17T19:43:36.193Z"
   },
   {
    "duration": 126,
    "start_time": "2021-07-17T19:43:36.262Z"
   },
   {
    "duration": 6345,
    "start_time": "2021-07-17T19:43:36.391Z"
   },
   {
    "duration": 87,
    "start_time": "2021-07-17T19:43:42.739Z"
   },
   {
    "duration": 10,
    "start_time": "2021-07-17T19:43:42.828Z"
   },
   {
    "duration": 42372,
    "start_time": "2021-07-17T19:43:42.840Z"
   },
   {
    "duration": 1943,
    "start_time": "2021-07-17T19:44:25.215Z"
   },
   {
    "duration": 28,
    "start_time": "2021-07-17T19:44:27.161Z"
   },
   {
    "duration": 17,
    "start_time": "2021-07-17T19:44:27.193Z"
   },
   {
    "duration": 11,
    "start_time": "2021-07-17T19:44:27.212Z"
   },
   {
    "duration": 12,
    "start_time": "2021-07-17T19:44:27.226Z"
   },
   {
    "duration": 13,
    "start_time": "2021-07-17T19:44:27.240Z"
   },
   {
    "duration": 2371,
    "start_time": "2021-07-17T19:48:54.014Z"
   },
   {
    "duration": 101,
    "start_time": "2021-07-17T19:48:56.388Z"
   },
   {
    "duration": 9,
    "start_time": "2021-07-17T19:48:56.493Z"
   },
   {
    "duration": 16471,
    "start_time": "2021-07-17T19:48:56.505Z"
   },
   {
    "duration": 1095,
    "start_time": "2021-07-17T19:49:12.978Z"
   },
   {
    "duration": 20,
    "start_time": "2021-07-17T19:49:14.075Z"
   },
   {
    "duration": 18,
    "start_time": "2021-07-17T19:49:14.099Z"
   },
   {
    "duration": 9,
    "start_time": "2021-07-17T19:49:14.122Z"
   },
   {
    "duration": 53,
    "start_time": "2021-07-17T19:49:14.134Z"
   },
   {
    "duration": 9,
    "start_time": "2021-07-17T19:49:14.190Z"
   },
   {
    "duration": 656,
    "start_time": "2021-07-17T19:49:14.202Z"
   },
   {
    "duration": 2386,
    "start_time": "2021-07-17T19:49:16.513Z"
   },
   {
    "duration": 2536,
    "start_time": "2021-07-17T19:49:23.031Z"
   },
   {
    "duration": 93,
    "start_time": "2021-07-17T19:49:25.570Z"
   },
   {
    "duration": 22,
    "start_time": "2021-07-17T19:49:25.666Z"
   },
   {
    "duration": 15951,
    "start_time": "2021-07-17T19:49:25.692Z"
   },
   {
    "duration": 1099,
    "start_time": "2021-07-17T19:49:41.645Z"
   },
   {
    "duration": 11,
    "start_time": "2021-07-17T19:49:42.747Z"
   },
   {
    "duration": 22,
    "start_time": "2021-07-17T19:49:42.783Z"
   },
   {
    "duration": 7,
    "start_time": "2021-07-17T19:49:42.807Z"
   },
   {
    "duration": 7,
    "start_time": "2021-07-17T19:49:42.817Z"
   },
   {
    "duration": 8,
    "start_time": "2021-07-17T19:49:42.827Z"
   },
   {
    "duration": 8,
    "start_time": "2021-07-17T19:51:06.933Z"
   },
   {
    "duration": 70,
    "start_time": "2021-07-17T19:51:06.944Z"
   },
   {
    "duration": 10,
    "start_time": "2021-07-17T19:51:07.018Z"
   },
   {
    "duration": 8,
    "start_time": "2021-07-17T19:51:07.032Z"
   },
   {
    "duration": 26,
    "start_time": "2021-07-17T19:51:07.084Z"
   },
   {
    "duration": 9,
    "start_time": "2021-07-17T19:51:07.112Z"
   },
   {
    "duration": 68,
    "start_time": "2021-07-17T19:51:07.124Z"
   },
   {
    "duration": 42,
    "start_time": "2021-07-17T19:51:07.197Z"
   },
   {
    "duration": 6,
    "start_time": "2021-07-17T19:51:07.243Z"
   },
   {
    "duration": 17,
    "start_time": "2021-07-17T19:51:07.283Z"
   },
   {
    "duration": 15,
    "start_time": "2021-07-17T19:51:07.302Z"
   },
   {
    "duration": 532,
    "start_time": "2021-07-17T19:51:07.319Z"
   },
   {
    "duration": 12,
    "start_time": "2021-07-17T19:51:07.853Z"
   },
   {
    "duration": 1050,
    "start_time": "2021-07-17T19:51:07.867Z"
   },
   {
    "duration": 5,
    "start_time": "2021-07-17T19:51:08.919Z"
   },
   {
    "duration": 27,
    "start_time": "2021-07-17T19:51:08.927Z"
   },
   {
    "duration": 50,
    "start_time": "2021-07-17T19:51:08.957Z"
   },
   {
    "duration": 35,
    "start_time": "2021-07-17T19:51:09.009Z"
   },
   {
    "duration": 12,
    "start_time": "2021-07-17T19:51:09.046Z"
   },
   {
    "duration": 47,
    "start_time": "2021-07-17T19:51:09.060Z"
   },
   {
    "duration": 24,
    "start_time": "2021-07-17T19:51:09.109Z"
   },
   {
    "duration": 19,
    "start_time": "2021-07-17T19:51:09.135Z"
   },
   {
    "duration": 14,
    "start_time": "2021-07-17T19:51:09.160Z"
   },
   {
    "duration": 24,
    "start_time": "2021-07-17T19:51:09.178Z"
   },
   {
    "duration": 8,
    "start_time": "2021-07-17T19:51:09.205Z"
   },
   {
    "duration": 23,
    "start_time": "2021-07-17T19:51:09.215Z"
   },
   {
    "duration": 28,
    "start_time": "2021-07-17T19:51:09.240Z"
   },
   {
    "duration": 13630,
    "start_time": "2021-07-17T19:51:09.271Z"
   },
   {
    "duration": 6,
    "start_time": "2021-07-17T19:51:22.903Z"
   },
   {
    "duration": 11,
    "start_time": "2021-07-17T19:51:22.912Z"
   },
   {
    "duration": 6,
    "start_time": "2021-07-17T19:51:22.925Z"
   },
   {
    "duration": 8,
    "start_time": "2021-07-17T19:51:22.933Z"
   },
   {
    "duration": 4345,
    "start_time": "2021-07-17T19:51:22.944Z"
   },
   {
    "duration": 125,
    "start_time": "2021-07-17T19:51:27.294Z"
   },
   {
    "duration": 62,
    "start_time": "2021-07-17T19:51:27.422Z"
   },
   {
    "duration": 65,
    "start_time": "2021-07-17T19:51:27.487Z"
   },
   {
    "duration": 60,
    "start_time": "2021-07-17T19:51:27.582Z"
   },
   {
    "duration": 242,
    "start_time": "2021-07-17T19:51:27.653Z"
   },
   {
    "duration": 6251,
    "start_time": "2021-07-17T19:51:27.898Z"
   },
   {
    "duration": 70,
    "start_time": "2021-07-17T19:51:34.152Z"
   },
   {
    "duration": 10,
    "start_time": "2021-07-17T19:51:34.225Z"
   },
   {
    "duration": 4,
    "start_time": "2021-07-17T19:51:34.237Z"
   },
   {
    "duration": 41212,
    "start_time": "2021-07-17T19:51:34.243Z"
   },
   {
    "duration": 1516,
    "start_time": "2021-07-17T19:52:15.458Z"
   },
   {
    "duration": 19,
    "start_time": "2021-07-17T19:52:16.984Z"
   },
   {
    "duration": 3,
    "start_time": "2021-07-17T19:52:17.007Z"
   },
   {
    "duration": 30402,
    "start_time": "2021-07-17T19:52:17.012Z"
   },
   {
    "duration": 10,
    "start_time": "2021-07-17T19:52:47.417Z"
   },
   {
    "duration": 6,
    "start_time": "2021-07-17T19:52:47.429Z"
   },
   {
    "duration": 14,
    "start_time": "2021-07-17T19:52:47.437Z"
   },
   {
    "duration": 9,
    "start_time": "2021-07-17T19:52:47.453Z"
   },
   {
    "duration": 8627,
    "start_time": "2021-07-17T19:52:47.465Z"
   },
   {
    "duration": 100,
    "start_time": "2021-07-17T19:52:56.095Z"
   },
   {
    "duration": 5,
    "start_time": "2021-07-17T19:52:56.199Z"
   },
   {
    "duration": 79,
    "start_time": "2021-07-17T19:52:56.207Z"
   },
   {
    "duration": 65,
    "start_time": "2021-07-17T19:52:56.290Z"
   },
   {
    "duration": 230,
    "start_time": "2021-07-17T19:52:56.358Z"
   },
   {
    "duration": 7900,
    "start_time": "2021-07-17T19:52:56.600Z"
   },
   {
    "duration": 82,
    "start_time": "2021-07-17T19:53:04.503Z"
   },
   {
    "duration": 9,
    "start_time": "2021-07-17T19:53:04.590Z"
   },
   {
    "duration": 52271,
    "start_time": "2021-07-17T19:53:04.602Z"
   },
   {
    "duration": 1933,
    "start_time": "2021-07-17T19:53:56.883Z"
   },
   {
    "duration": 14,
    "start_time": "2021-07-17T19:53:58.819Z"
   },
   {
    "duration": 15,
    "start_time": "2021-07-17T19:53:58.836Z"
   },
   {
    "duration": 8,
    "start_time": "2021-07-17T19:53:58.883Z"
   },
   {
    "duration": 9,
    "start_time": "2021-07-17T19:53:58.893Z"
   },
   {
    "duration": 15,
    "start_time": "2021-07-17T19:53:58.904Z"
   }
  ],
  "kernelspec": {
   "display_name": "Python 3",
   "language": "python",
   "name": "python3"
  },
  "language_info": {
   "codemirror_mode": {
    "name": "ipython",
    "version": 3
   },
   "file_extension": ".py",
   "mimetype": "text/x-python",
   "name": "python",
   "nbconvert_exporter": "python",
   "pygments_lexer": "ipython3",
   "version": "3.8.3"
  },
  "toc": {
   "base_numbering": 1,
   "nav_menu": {},
   "number_sections": true,
   "sideBar": true,
   "skip_h1_title": true,
   "title_cell": "Содержание",
   "title_sidebar": "Contents",
   "toc_cell": true,
   "toc_position": {},
   "toc_section_display": true,
   "toc_window_display": false
  }
 },
 "nbformat": 4,
 "nbformat_minor": 2
}
