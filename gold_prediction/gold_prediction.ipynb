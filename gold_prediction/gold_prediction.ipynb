{
 "cells": [
  {
   "cell_type": "markdown",
   "metadata": {
    "toc": true
   },
   "source": [
    "<h1>Содержание<span class=\"tocSkip\"></span></h1>\n",
    "<div class=\"toc\"><ul class=\"toc-item\"><li><ul class=\"toc-item\"><li><span><a href=\"#Описание-проекта\" data-toc-modified-id=\"Описание-проекта-0.1\"><span class=\"toc-item-num\">0.1&nbsp;&nbsp;</span>Описание проекта</a></span></li><li><span><a href=\"#Описание-данных\" data-toc-modified-id=\"Описание-данных-0.2\"><span class=\"toc-item-num\">0.2&nbsp;&nbsp;</span>Описание данных</a></span></li><li><span><a href=\"#Наименование-признаков\" data-toc-modified-id=\"Наименование-признаков-0.3\"><span class=\"toc-item-num\">0.3&nbsp;&nbsp;</span>Наименование признаков</a></span></li><li><span><a href=\"#Импорт-необходимых-библиотек\" data-toc-modified-id=\"Импорт-необходимых-библиотек-0.4\"><span class=\"toc-item-num\">0.4&nbsp;&nbsp;</span>Импорт необходимых библиотек</a></span></li></ul></li><li><span><a href=\"#Подготовка-данных\" data-toc-modified-id=\"Подготовка-данных-1\"><span class=\"toc-item-num\">1&nbsp;&nbsp;</span>Подготовка данных</a></span><ul class=\"toc-item\"><li><span><a href=\"#Откроем-файлы-csv-и-изучим-данные-в-них\" data-toc-modified-id=\"Откроем-файлы-csv-и-изучим-данные-в-них-1.1\"><span class=\"toc-item-num\">1.1&nbsp;&nbsp;</span>Откроем файлы csv и изучим данные в них</a></span></li><li><span><a href=\"#Проверка-корректности-рассчета-эффективности-обогащения\" data-toc-modified-id=\"Проверка-корректности-рассчета-эффективности-обогащения-1.2\"><span class=\"toc-item-num\">1.2&nbsp;&nbsp;</span>Проверка корректности рассчета эффективности обогащения</a></span></li><li><span><a href=\"#Анализ-признаков,-недоступных-в-тестовой-выборке\" data-toc-modified-id=\"Анализ-признаков,-недоступных-в-тестовой-выборке-1.3\"><span class=\"toc-item-num\">1.3&nbsp;&nbsp;</span>Анализ признаков, недоступных в тестовой выборке</a></span></li><li><span><a href=\"#Предобработка-данных\" data-toc-modified-id=\"Предобработка-данных-1.4\"><span class=\"toc-item-num\">1.4&nbsp;&nbsp;</span>Предобработка данных</a></span></li></ul></li><li><span><a href=\"#Анализ-данных\" data-toc-modified-id=\"Анализ-данных-2\"><span class=\"toc-item-num\">2&nbsp;&nbsp;</span>Анализ данных</a></span><ul class=\"toc-item\"><li><span><a href=\"#Динамика-концентрации-металлов-на-разных-этапах-очистки\" data-toc-modified-id=\"Динамика-концентрации-металлов-на-разных-этапах-очистки-2.1\"><span class=\"toc-item-num\">2.1&nbsp;&nbsp;</span>Динамика концентрации металлов на разных этапах очистки</a></span><ul class=\"toc-item\"><li><span><a href=\"#Au-(золото)\" data-toc-modified-id=\"Au-(золото)-2.1.1\"><span class=\"toc-item-num\">2.1.1&nbsp;&nbsp;</span>Au (золото)</a></span></li><li><span><a href=\"#Ag-(серебро)\" data-toc-modified-id=\"Ag-(серебро)-2.1.2\"><span class=\"toc-item-num\">2.1.2&nbsp;&nbsp;</span>Ag (серебро)</a></span></li><li><span><a href=\"#Pb-(свинец)\" data-toc-modified-id=\"Pb-(свинец)-2.1.3\"><span class=\"toc-item-num\">2.1.3&nbsp;&nbsp;</span>Pb (свинец)</a></span></li></ul></li><li><span><a href=\"#Распределения-размеров-гранул-сырья-в-test-и-train\" data-toc-modified-id=\"Распределения-размеров-гранул-сырья-в-test-и-train-2.2\"><span class=\"toc-item-num\">2.2&nbsp;&nbsp;</span>Распределения размеров гранул сырья в test и train</a></span></li><li><span><a href=\"#Исследование-суммарной-концентрации-всех-веществ-на-разных-стадиях\" data-toc-modified-id=\"Исследование-суммарной-концентрации-всех-веществ-на-разных-стадиях-2.3\"><span class=\"toc-item-num\">2.3&nbsp;&nbsp;</span>Исследование суммарной концентрации всех веществ на разных стадиях</a></span><ul class=\"toc-item\"><li><span><a href=\"#Исследуем-суммарную-концентрацию-всех-веществ-на-разных-стадиях:\" data-toc-modified-id=\"Исследуем-суммарную-концентрацию-всех-веществ-на-разных-стадиях:-2.3.1\"><span class=\"toc-item-num\">2.3.1&nbsp;&nbsp;</span>Исследуем суммарную концентрацию всех веществ на разных стадиях:</a></span></li><li><span><a href=\"#Аномалии\" data-toc-modified-id=\"Аномалии-2.3.2\"><span class=\"toc-item-num\">2.3.2&nbsp;&nbsp;</span>Аномалии</a></span></li></ul></li></ul></li><li><span><a href=\"#Модель\" data-toc-modified-id=\"Модель-3\"><span class=\"toc-item-num\">3&nbsp;&nbsp;</span>Модель</a></span><ul class=\"toc-item\"><li><span><a href=\"#Функция-для-вычисления-итогового-sMAPE\" data-toc-modified-id=\"Функция-для-вычисления-итогового-sMAPE-3.1\"><span class=\"toc-item-num\">3.1&nbsp;&nbsp;</span>Функция для вычисления итогового sMAPE</a></span></li><li><span><a href=\"#Исследования-и-выбор-модели\" data-toc-modified-id=\"Исследования-и-выбор-модели-3.2\"><span class=\"toc-item-num\">3.2&nbsp;&nbsp;</span>Исследования и выбор модели</a></span><ul class=\"toc-item\"><li><span><a href=\"#Проверка-модели\" data-toc-modified-id=\"Проверка-модели-3.2.1\"><span class=\"toc-item-num\">3.2.1&nbsp;&nbsp;</span>Проверка модели</a></span></li></ul></li><li><span><a href=\"#Протестируем-качество-модели-на-тестовой-выборке\" data-toc-modified-id=\"Протестируем-качество-модели-на-тестовой-выборке-3.3\"><span class=\"toc-item-num\">3.3&nbsp;&nbsp;</span>Протестируем качество модели на тестовой выборке</a></span></li></ul></li><li><span><a href=\"#Вывод\" data-toc-modified-id=\"Вывод-4\"><span class=\"toc-item-num\">4&nbsp;&nbsp;</span>Вывод</a></span></li></ul></div>"
   ]
  },
  {
   "cell_type": "markdown",
   "metadata": {},
   "source": [
    "# Предсказание коэффициента восстановления золота из золотосодержащей руды"
   ]
  },
  {
   "cell_type": "markdown",
   "metadata": {},
   "source": [
    "### Описание проекта\n",
    "\n",
    "Подготовка прототипа модели машинного обучения для «Цифры». Компания разрабатывает решения для эффективной работы промышленных предприятий.\n",
    "\n",
    "Модель должна предсказать коэффициент восстановления золота из золотосодержащей руды. В вашем распоряжении данные с параметрами добычи и очистки. \n",
    "\n",
    "Модель поможет оптимизировать производство, чтобы не запускать предприятие с убыточными характеристиками.\n",
    "\n",
    "Нужно:\n",
    "\n",
    "1. Подготовить данные;\n",
    "2. Провести исследовательский анализ данных;\n",
    "3. Построить и обучить модель.\n",
    "\n",
    "Обращаемся к библиотекам *pandas*, *matplotlib* и *sklearn.*\n",
    "\n",
    "\n",
    "### Описание данных\n",
    "**Технологический процесс** \n",
    "* Rougher feed — исходное сырье\n",
    "* Rougher additions (или reagent additions) — флотационные реагенты: Xanthate, Sulphate, Depressant\n",
    "    - Xanthate — ксантогенат (промотер, или активатор флотации);\n",
    "    - Sulphate — сульфат (на данном производстве сульфид натрия);\n",
    "    - Depressant — депрессант (силикат натрия).\n",
    "* Rougher process (англ. «грубый процесс») — флотация\n",
    "* Rougher tails — отвальные хвосты\n",
    "* Float banks — флотационная установка\n",
    "* Cleaner process — очистка\n",
    "* Rougher Au — черновой концентрат золота\n",
    "* Final Au — финальный концентрат золота\n",
    "\n",
    "**Параметры этапов**\n",
    "* air amount — объём воздуха\n",
    "* fluid levels — уровень жидкости\n",
    "* feed size — размер гранул сырья\n",
    "* feed rate — скорость подачи\n",
    " \n",
    "### Наименование признаков\n",
    "\n",
    "[этап].[тип_параметра].[название_параметра]\n",
    "Пример: rougher.input.feed_ag\n",
    "\n",
    "**Возможные значения для блока [этап]:**\n",
    "\n",
    "* rougher — флотация\n",
    "* primary_cleaner — первичная очистка\n",
    "* secondary_cleaner — вторичная очистка\n",
    "* final — финальные характеристики\n",
    "\n",
    "**Возможные значения для блока [тип_параметра]:**\n",
    "\n",
    "* input — параметры сырья\n",
    "* output — параметры продукта\n",
    "* state — параметры, характеризующие текущее состояние этапа\n",
    "* calculation — расчётные характеристики\n",
    "\n",
    "### Импорт необходимых библиотек"
   ]
  },
  {
   "cell_type": "code",
   "execution_count": 1,
   "metadata": {},
   "outputs": [],
   "source": [
    "# библиотеки работы с данными\n",
    "import pandas as pd\n",
    "import numpy as np\n",
    "\n",
    "# откючаем предупреждения\n",
    "import warnings\n",
    "warnings.filterwarnings('ignore')\n",
    "\n",
    "# графики\n",
    "import matplotlib.pyplot as plt\n",
    "import seaborn as sns\n",
    "\n",
    "# обработка исключений для предупреждений pandas (без предупреждения, без исключения)\n",
    "pd.options.mode.chained_assignment = None\n",
    "\n",
    "# предобработка данных\n",
    "from sklearn.preprocessing import StandardScaler # масштабирование\n",
    "from sklearn.model_selection import train_test_split # разделение на выборки\n",
    "from sklearn.utils import shuffle # перемешивание\n",
    "\n",
    "# модели\n",
    "from sklearn.linear_model import LinearRegression\n",
    "from sklearn.ensemble import RandomForestRegressor\n",
    "from sklearn.tree import DecisionTreeRegressor\n",
    "\n",
    "# кросс-валидация\n",
    "from sklearn.model_selection import cross_val_score\n",
    "from sklearn.model_selection import GridSearchCV\n",
    "from sklearn.model_selection import RandomizedSearchCV\n",
    "from sklearn.utils import shuffle\n",
    "\n",
    "# метрики\n",
    "from sklearn.metrics import mean_squared_error, make_scorer, mean_absolute_error\n",
    "\n",
    "# статистика\n",
    "from scipy import stats as st\n",
    "from scipy.stats import median_test, levene, ttest_ind\n",
    "\n",
    "# установка настроек для отображения всех колонок при печати\n",
    "pd.set_option('display.max_columns', None)\n",
    "\n",
    "# проверка адекватности модели\n",
    "from sklearn.dummy import DummyRegressor"
   ]
  },
  {
   "cell_type": "markdown",
   "metadata": {},
   "source": [
    "## Подготовка данных\n",
    "\n",
    "### Откроем файлы csv и изучим данные в них\n",
    "Загрузим csv таблицы с тренировочными, тестовыми и полными данными и посмотрим на первые 5 строк каждой:"
   ]
  },
  {
   "cell_type": "code",
   "execution_count": 2,
   "metadata": {},
   "outputs": [],
   "source": [
    "# установим сразу у даты тип данных дата\n",
    "df_train = pd.read_csv('gold_recovery_train.csv', parse_dates=['date'])\n",
    "df_test = pd.read_csv('gold_recovery_test.csv', parse_dates=['date'])\n",
    "df_full = pd.read_csv('gold_recovery_full.csv', parse_dates=['date'])"
   ]
  },
  {
   "cell_type": "code",
   "execution_count": 3,
   "metadata": {
    "scrolled": true
   },
   "outputs": [
    {
     "name": "stdout",
     "output_type": "stream",
     "text": [
      "<class 'pandas.core.frame.DataFrame'>\n",
      "RangeIndex: 16860 entries, 0 to 16859\n",
      "Data columns (total 87 columns):\n",
      " #   Column                                              Non-Null Count  Dtype         \n",
      "---  ------                                              --------------  -----         \n",
      " 0   date                                                16860 non-null  datetime64[ns]\n",
      " 1   final.output.concentrate_ag                         16788 non-null  float64       \n",
      " 2   final.output.concentrate_pb                         16788 non-null  float64       \n",
      " 3   final.output.concentrate_sol                        16490 non-null  float64       \n",
      " 4   final.output.concentrate_au                         16789 non-null  float64       \n",
      " 5   final.output.recovery                               15339 non-null  float64       \n",
      " 6   final.output.tail_ag                                16794 non-null  float64       \n",
      " 7   final.output.tail_pb                                16677 non-null  float64       \n",
      " 8   final.output.tail_sol                               16715 non-null  float64       \n",
      " 9   final.output.tail_au                                16794 non-null  float64       \n",
      " 10  primary_cleaner.input.sulfate                       15553 non-null  float64       \n",
      " 11  primary_cleaner.input.depressant                    15598 non-null  float64       \n",
      " 12  primary_cleaner.input.feed_size                     16860 non-null  float64       \n",
      " 13  primary_cleaner.input.xanthate                      15875 non-null  float64       \n",
      " 14  primary_cleaner.output.concentrate_ag               16778 non-null  float64       \n",
      " 15  primary_cleaner.output.concentrate_pb               16502 non-null  float64       \n",
      " 16  primary_cleaner.output.concentrate_sol              16224 non-null  float64       \n",
      " 17  primary_cleaner.output.concentrate_au               16778 non-null  float64       \n",
      " 18  primary_cleaner.output.tail_ag                      16777 non-null  float64       \n",
      " 19  primary_cleaner.output.tail_pb                      16761 non-null  float64       \n",
      " 20  primary_cleaner.output.tail_sol                     16579 non-null  float64       \n",
      " 21  primary_cleaner.output.tail_au                      16777 non-null  float64       \n",
      " 22  primary_cleaner.state.floatbank8_a_air              16820 non-null  float64       \n",
      " 23  primary_cleaner.state.floatbank8_a_level            16827 non-null  float64       \n",
      " 24  primary_cleaner.state.floatbank8_b_air              16820 non-null  float64       \n",
      " 25  primary_cleaner.state.floatbank8_b_level            16833 non-null  float64       \n",
      " 26  primary_cleaner.state.floatbank8_c_air              16822 non-null  float64       \n",
      " 27  primary_cleaner.state.floatbank8_c_level            16833 non-null  float64       \n",
      " 28  primary_cleaner.state.floatbank8_d_air              16821 non-null  float64       \n",
      " 29  primary_cleaner.state.floatbank8_d_level            16833 non-null  float64       \n",
      " 30  rougher.calculation.sulfate_to_au_concentrate       16833 non-null  float64       \n",
      " 31  rougher.calculation.floatbank10_sulfate_to_au_feed  16833 non-null  float64       \n",
      " 32  rougher.calculation.floatbank11_sulfate_to_au_feed  16833 non-null  float64       \n",
      " 33  rougher.calculation.au_pb_ratio                     15618 non-null  float64       \n",
      " 34  rougher.input.feed_ag                               16778 non-null  float64       \n",
      " 35  rougher.input.feed_pb                               16632 non-null  float64       \n",
      " 36  rougher.input.feed_rate                             16347 non-null  float64       \n",
      " 37  rougher.input.feed_size                             16443 non-null  float64       \n",
      " 38  rougher.input.feed_sol                              16568 non-null  float64       \n",
      " 39  rougher.input.feed_au                               16777 non-null  float64       \n",
      " 40  rougher.input.floatbank10_sulfate                   15816 non-null  float64       \n",
      " 41  rougher.input.floatbank10_xanthate                  16514 non-null  float64       \n",
      " 42  rougher.input.floatbank11_sulfate                   16237 non-null  float64       \n",
      " 43  rougher.input.floatbank11_xanthate                  14956 non-null  float64       \n",
      " 44  rougher.output.concentrate_ag                       16778 non-null  float64       \n",
      " 45  rougher.output.concentrate_pb                       16778 non-null  float64       \n",
      " 46  rougher.output.concentrate_sol                      16698 non-null  float64       \n",
      " 47  rougher.output.concentrate_au                       16778 non-null  float64       \n",
      " 48  rougher.output.recovery                             14287 non-null  float64       \n",
      " 49  rougher.output.tail_ag                              14610 non-null  float64       \n",
      " 50  rougher.output.tail_pb                              16778 non-null  float64       \n",
      " 51  rougher.output.tail_sol                             14611 non-null  float64       \n",
      " 52  rougher.output.tail_au                              14611 non-null  float64       \n",
      " 53  rougher.state.floatbank10_a_air                     16807 non-null  float64       \n",
      " 54  rougher.state.floatbank10_a_level                   16807 non-null  float64       \n",
      " 55  rougher.state.floatbank10_b_air                     16807 non-null  float64       \n",
      " 56  rougher.state.floatbank10_b_level                   16807 non-null  float64       \n",
      " 57  rougher.state.floatbank10_c_air                     16807 non-null  float64       \n",
      " 58  rougher.state.floatbank10_c_level                   16814 non-null  float64       \n",
      " 59  rougher.state.floatbank10_d_air                     16802 non-null  float64       \n",
      " 60  rougher.state.floatbank10_d_level                   16809 non-null  float64       \n",
      " 61  rougher.state.floatbank10_e_air                     16257 non-null  float64       \n",
      " 62  rougher.state.floatbank10_e_level                   16809 non-null  float64       \n",
      " 63  rougher.state.floatbank10_f_air                     16802 non-null  float64       \n",
      " 64  rougher.state.floatbank10_f_level                   16802 non-null  float64       \n",
      " 65  secondary_cleaner.output.tail_ag                    16776 non-null  float64       \n",
      " 66  secondary_cleaner.output.tail_pb                    16764 non-null  float64       \n",
      " 67  secondary_cleaner.output.tail_sol                   14874 non-null  float64       \n",
      " 68  secondary_cleaner.output.tail_au                    16778 non-null  float64       \n",
      " 69  secondary_cleaner.state.floatbank2_a_air            16497 non-null  float64       \n",
      " 70  secondary_cleaner.state.floatbank2_a_level          16751 non-null  float64       \n",
      " 71  secondary_cleaner.state.floatbank2_b_air            16705 non-null  float64       \n",
      " 72  secondary_cleaner.state.floatbank2_b_level          16748 non-null  float64       \n",
      " 73  secondary_cleaner.state.floatbank3_a_air            16763 non-null  float64       \n",
      " 74  secondary_cleaner.state.floatbank3_a_level          16747 non-null  float64       \n",
      " 75  secondary_cleaner.state.floatbank3_b_air            16752 non-null  float64       \n",
      " 76  secondary_cleaner.state.floatbank3_b_level          16750 non-null  float64       \n",
      " 77  secondary_cleaner.state.floatbank4_a_air            16731 non-null  float64       \n",
      " 78  secondary_cleaner.state.floatbank4_a_level          16747 non-null  float64       \n",
      " 79  secondary_cleaner.state.floatbank4_b_air            16768 non-null  float64       \n",
      " 80  secondary_cleaner.state.floatbank4_b_level          16767 non-null  float64       \n",
      " 81  secondary_cleaner.state.floatbank5_a_air            16775 non-null  float64       \n",
      " 82  secondary_cleaner.state.floatbank5_a_level          16775 non-null  float64       \n",
      " 83  secondary_cleaner.state.floatbank5_b_air            16775 non-null  float64       \n",
      " 84  secondary_cleaner.state.floatbank5_b_level          16776 non-null  float64       \n",
      " 85  secondary_cleaner.state.floatbank6_a_air            16757 non-null  float64       \n",
      " 86  secondary_cleaner.state.floatbank6_a_level          16775 non-null  float64       \n",
      "dtypes: datetime64[ns](1), float64(86)\n",
      "memory usage: 11.2 MB\n",
      "\n",
      "<class 'pandas.core.frame.DataFrame'>\n",
      "RangeIndex: 5856 entries, 0 to 5855\n",
      "Data columns (total 53 columns):\n",
      " #   Column                                      Non-Null Count  Dtype         \n",
      "---  ------                                      --------------  -----         \n",
      " 0   date                                        5856 non-null   datetime64[ns]\n",
      " 1   primary_cleaner.input.sulfate               5554 non-null   float64       \n",
      " 2   primary_cleaner.input.depressant            5572 non-null   float64       \n",
      " 3   primary_cleaner.input.feed_size             5856 non-null   float64       \n",
      " 4   primary_cleaner.input.xanthate              5690 non-null   float64       \n",
      " 5   primary_cleaner.state.floatbank8_a_air      5840 non-null   float64       \n",
      " 6   primary_cleaner.state.floatbank8_a_level    5840 non-null   float64       \n",
      " 7   primary_cleaner.state.floatbank8_b_air      5840 non-null   float64       \n",
      " 8   primary_cleaner.state.floatbank8_b_level    5840 non-null   float64       \n",
      " 9   primary_cleaner.state.floatbank8_c_air      5840 non-null   float64       \n",
      " 10  primary_cleaner.state.floatbank8_c_level    5840 non-null   float64       \n",
      " 11  primary_cleaner.state.floatbank8_d_air      5840 non-null   float64       \n",
      " 12  primary_cleaner.state.floatbank8_d_level    5840 non-null   float64       \n",
      " 13  rougher.input.feed_ag                       5840 non-null   float64       \n",
      " 14  rougher.input.feed_pb                       5840 non-null   float64       \n",
      " 15  rougher.input.feed_rate                     5816 non-null   float64       \n",
      " 16  rougher.input.feed_size                     5834 non-null   float64       \n",
      " 17  rougher.input.feed_sol                      5789 non-null   float64       \n",
      " 18  rougher.input.feed_au                       5840 non-null   float64       \n",
      " 19  rougher.input.floatbank10_sulfate           5599 non-null   float64       \n",
      " 20  rougher.input.floatbank10_xanthate          5733 non-null   float64       \n",
      " 21  rougher.input.floatbank11_sulfate           5801 non-null   float64       \n",
      " 22  rougher.input.floatbank11_xanthate          5503 non-null   float64       \n",
      " 23  rougher.state.floatbank10_a_air             5839 non-null   float64       \n",
      " 24  rougher.state.floatbank10_a_level           5840 non-null   float64       \n",
      " 25  rougher.state.floatbank10_b_air             5839 non-null   float64       \n",
      " 26  rougher.state.floatbank10_b_level           5840 non-null   float64       \n",
      " 27  rougher.state.floatbank10_c_air             5839 non-null   float64       \n",
      " 28  rougher.state.floatbank10_c_level           5840 non-null   float64       \n",
      " 29  rougher.state.floatbank10_d_air             5839 non-null   float64       \n",
      " 30  rougher.state.floatbank10_d_level           5840 non-null   float64       \n",
      " 31  rougher.state.floatbank10_e_air             5839 non-null   float64       \n",
      " 32  rougher.state.floatbank10_e_level           5840 non-null   float64       \n",
      " 33  rougher.state.floatbank10_f_air             5839 non-null   float64       \n",
      " 34  rougher.state.floatbank10_f_level           5840 non-null   float64       \n",
      " 35  secondary_cleaner.state.floatbank2_a_air    5836 non-null   float64       \n",
      " 36  secondary_cleaner.state.floatbank2_a_level  5840 non-null   float64       \n",
      " 37  secondary_cleaner.state.floatbank2_b_air    5833 non-null   float64       \n",
      " 38  secondary_cleaner.state.floatbank2_b_level  5840 non-null   float64       \n",
      " 39  secondary_cleaner.state.floatbank3_a_air    5822 non-null   float64       \n",
      " 40  secondary_cleaner.state.floatbank3_a_level  5840 non-null   float64       \n",
      " 41  secondary_cleaner.state.floatbank3_b_air    5840 non-null   float64       \n",
      " 42  secondary_cleaner.state.floatbank3_b_level  5840 non-null   float64       \n",
      " 43  secondary_cleaner.state.floatbank4_a_air    5840 non-null   float64       \n",
      " 44  secondary_cleaner.state.floatbank4_a_level  5840 non-null   float64       \n",
      " 45  secondary_cleaner.state.floatbank4_b_air    5840 non-null   float64       \n",
      " 46  secondary_cleaner.state.floatbank4_b_level  5840 non-null   float64       \n",
      " 47  secondary_cleaner.state.floatbank5_a_air    5840 non-null   float64       \n",
      " 48  secondary_cleaner.state.floatbank5_a_level  5840 non-null   float64       \n",
      " 49  secondary_cleaner.state.floatbank5_b_air    5840 non-null   float64       \n",
      " 50  secondary_cleaner.state.floatbank5_b_level  5840 non-null   float64       \n",
      " 51  secondary_cleaner.state.floatbank6_a_air    5840 non-null   float64       \n",
      " 52  secondary_cleaner.state.floatbank6_a_level  5840 non-null   float64       \n",
      "dtypes: datetime64[ns](1), float64(52)\n",
      "memory usage: 2.4 MB\n",
      "\n",
      "<class 'pandas.core.frame.DataFrame'>\n",
      "RangeIndex: 22716 entries, 0 to 22715\n",
      "Data columns (total 87 columns):\n",
      " #   Column                                              Non-Null Count  Dtype         \n",
      "---  ------                                              --------------  -----         \n",
      " 0   date                                                22716 non-null  datetime64[ns]\n",
      " 1   final.output.concentrate_ag                         22627 non-null  float64       \n",
      " 2   final.output.concentrate_pb                         22629 non-null  float64       \n",
      " 3   final.output.concentrate_sol                        22331 non-null  float64       \n",
      " 4   final.output.concentrate_au                         22630 non-null  float64       \n",
      " 5   final.output.recovery                               20753 non-null  float64       \n",
      " 6   final.output.tail_ag                                22633 non-null  float64       \n",
      " 7   final.output.tail_pb                                22516 non-null  float64       \n",
      " 8   final.output.tail_sol                               22445 non-null  float64       \n",
      " 9   final.output.tail_au                                22635 non-null  float64       \n",
      " 10  primary_cleaner.input.sulfate                       21107 non-null  float64       \n",
      " 11  primary_cleaner.input.depressant                    21170 non-null  float64       \n",
      " 12  primary_cleaner.input.feed_size                     22716 non-null  float64       \n",
      " 13  primary_cleaner.input.xanthate                      21565 non-null  float64       \n",
      " 14  primary_cleaner.output.concentrate_ag               22618 non-null  float64       \n",
      " 15  primary_cleaner.output.concentrate_pb               22268 non-null  float64       \n",
      " 16  primary_cleaner.output.concentrate_sol              21918 non-null  float64       \n",
      " 17  primary_cleaner.output.concentrate_au               22618 non-null  float64       \n",
      " 18  primary_cleaner.output.tail_ag                      22614 non-null  float64       \n",
      " 19  primary_cleaner.output.tail_pb                      22594 non-null  float64       \n",
      " 20  primary_cleaner.output.tail_sol                     22365 non-null  float64       \n",
      " 21  primary_cleaner.output.tail_au                      22617 non-null  float64       \n",
      " 22  primary_cleaner.state.floatbank8_a_air              22660 non-null  float64       \n",
      " 23  primary_cleaner.state.floatbank8_a_level            22667 non-null  float64       \n",
      " 24  primary_cleaner.state.floatbank8_b_air              22660 non-null  float64       \n",
      " 25  primary_cleaner.state.floatbank8_b_level            22673 non-null  float64       \n",
      " 26  primary_cleaner.state.floatbank8_c_air              22662 non-null  float64       \n",
      " 27  primary_cleaner.state.floatbank8_c_level            22673 non-null  float64       \n",
      " 28  primary_cleaner.state.floatbank8_d_air              22661 non-null  float64       \n",
      " 29  primary_cleaner.state.floatbank8_d_level            22673 non-null  float64       \n",
      " 30  rougher.calculation.sulfate_to_au_concentrate       22672 non-null  float64       \n",
      " 31  rougher.calculation.floatbank10_sulfate_to_au_feed  22672 non-null  float64       \n",
      " 32  rougher.calculation.floatbank11_sulfate_to_au_feed  22672 non-null  float64       \n",
      " 33  rougher.calculation.au_pb_ratio                     21089 non-null  float64       \n",
      " 34  rougher.input.feed_ag                               22618 non-null  float64       \n",
      " 35  rougher.input.feed_pb                               22472 non-null  float64       \n",
      " 36  rougher.input.feed_rate                             22163 non-null  float64       \n",
      " 37  rougher.input.feed_size                             22277 non-null  float64       \n",
      " 38  rougher.input.feed_sol                              22357 non-null  float64       \n",
      " 39  rougher.input.feed_au                               22617 non-null  float64       \n",
      " 40  rougher.input.floatbank10_sulfate                   21415 non-null  float64       \n",
      " 41  rougher.input.floatbank10_xanthate                  22247 non-null  float64       \n",
      " 42  rougher.input.floatbank11_sulfate                   22038 non-null  float64       \n",
      " 43  rougher.input.floatbank11_xanthate                  20459 non-null  float64       \n",
      " 44  rougher.output.concentrate_ag                       22618 non-null  float64       \n",
      " 45  rougher.output.concentrate_pb                       22618 non-null  float64       \n",
      " 46  rougher.output.concentrate_sol                      22526 non-null  float64       \n",
      " 47  rougher.output.concentrate_au                       22618 non-null  float64       \n",
      " 48  rougher.output.recovery                             19597 non-null  float64       \n",
      " 49  rougher.output.tail_ag                              19979 non-null  float64       \n",
      " 50  rougher.output.tail_pb                              22618 non-null  float64       \n",
      " 51  rougher.output.tail_sol                             19980 non-null  float64       \n",
      " 52  rougher.output.tail_au                              19980 non-null  float64       \n",
      " 53  rougher.state.floatbank10_a_air                     22646 non-null  float64       \n",
      " 54  rougher.state.floatbank10_a_level                   22647 non-null  float64       \n",
      " 55  rougher.state.floatbank10_b_air                     22646 non-null  float64       \n",
      " 56  rougher.state.floatbank10_b_level                   22647 non-null  float64       \n",
      " 57  rougher.state.floatbank10_c_air                     22646 non-null  float64       \n",
      " 58  rougher.state.floatbank10_c_level                   22654 non-null  float64       \n",
      " 59  rougher.state.floatbank10_d_air                     22641 non-null  float64       \n",
      " 60  rougher.state.floatbank10_d_level                   22649 non-null  float64       \n",
      " 61  rougher.state.floatbank10_e_air                     22096 non-null  float64       \n",
      " 62  rougher.state.floatbank10_e_level                   22649 non-null  float64       \n",
      " 63  rougher.state.floatbank10_f_air                     22641 non-null  float64       \n",
      " 64  rougher.state.floatbank10_f_level                   22642 non-null  float64       \n",
      " 65  secondary_cleaner.output.tail_ag                    22616 non-null  float64       \n",
      " 66  secondary_cleaner.output.tail_pb                    22600 non-null  float64       \n",
      " 67  secondary_cleaner.output.tail_sol                   20501 non-null  float64       \n",
      " 68  secondary_cleaner.output.tail_au                    22618 non-null  float64       \n",
      " 69  secondary_cleaner.state.floatbank2_a_air            22333 non-null  float64       \n",
      " 70  secondary_cleaner.state.floatbank2_a_level          22591 non-null  float64       \n",
      " 71  secondary_cleaner.state.floatbank2_b_air            22538 non-null  float64       \n",
      " 72  secondary_cleaner.state.floatbank2_b_level          22588 non-null  float64       \n",
      " 73  secondary_cleaner.state.floatbank3_a_air            22585 non-null  float64       \n",
      " 74  secondary_cleaner.state.floatbank3_a_level          22587 non-null  float64       \n",
      " 75  secondary_cleaner.state.floatbank3_b_air            22592 non-null  float64       \n",
      " 76  secondary_cleaner.state.floatbank3_b_level          22590 non-null  float64       \n",
      " 77  secondary_cleaner.state.floatbank4_a_air            22571 non-null  float64       \n",
      " 78  secondary_cleaner.state.floatbank4_a_level          22587 non-null  float64       \n",
      " 79  secondary_cleaner.state.floatbank4_b_air            22608 non-null  float64       \n",
      " 80  secondary_cleaner.state.floatbank4_b_level          22607 non-null  float64       \n",
      " 81  secondary_cleaner.state.floatbank5_a_air            22615 non-null  float64       \n",
      " 82  secondary_cleaner.state.floatbank5_a_level          22615 non-null  float64       \n",
      " 83  secondary_cleaner.state.floatbank5_b_air            22615 non-null  float64       \n",
      " 84  secondary_cleaner.state.floatbank5_b_level          22616 non-null  float64       \n",
      " 85  secondary_cleaner.state.floatbank6_a_air            22597 non-null  float64       \n",
      " 86  secondary_cleaner.state.floatbank6_a_level          22615 non-null  float64       \n",
      "dtypes: datetime64[ns](1), float64(86)\n",
      "memory usage: 15.1 MB\n",
      "\n"
     ]
    }
   ],
   "source": [
    "file_list = [df_train, df_test, df_full]\n",
    "\n",
    "for file in file_list:\n",
    "    file.info()\n",
    "    print()"
   ]
  },
  {
   "cell_type": "markdown",
   "metadata": {},
   "source": [
    "В таблицах все признаки, кроме date, содержат информацию вещественного типа данных, что является корректным, т.к. все измерения должны были быть представлены в условных единицах. "
   ]
  },
  {
   "cell_type": "markdown",
   "metadata": {},
   "source": [
    "Проверим количество строк с хотя бы одним пропуском в таблицах:"
   ]
  },
  {
   "cell_type": "code",
   "execution_count": 4,
   "metadata": {},
   "outputs": [
    {
     "name": "stdout",
     "output_type": "stream",
     "text": [
      "Пропуски в train: 5843 \n",
      "Длина train: 16860\n",
      "\n",
      "Пропуски в test: 473 \n",
      "Длина test: 5856\n",
      "\n",
      "Пропуски в full: 6622 \n",
      "Длина full: 22716\n"
     ]
    }
   ],
   "source": [
    "print('Пропуски в train:', len(df_train[df_train.isna().any(axis = 1)]),\n",
    "     '\\nДлина train:', len(df_train))\n",
    "print('\\nПропуски в test:', len(df_test[df_test.isna().any(axis = 1)]),\n",
    "     '\\nДлина test:', len(df_test))\n",
    "print('\\nПропуски в full:', len(df_full[df_full.isna().any(axis = 1)]),\n",
    "     '\\nДлина full:', len(df_full))"
   ]
  },
  {
   "cell_type": "markdown",
   "metadata": {},
   "source": [
    "**Другой способ посмотреть пропуски в данных:**"
   ]
  },
  {
   "cell_type": "code",
   "execution_count": 5,
   "metadata": {},
   "outputs": [
    {
     "data": {
      "text/html": [
       "<div>\n",
       "<style scoped>\n",
       "    .dataframe tbody tr th:only-of-type {\n",
       "        vertical-align: middle;\n",
       "    }\n",
       "\n",
       "    .dataframe tbody tr th {\n",
       "        vertical-align: top;\n",
       "    }\n",
       "\n",
       "    .dataframe thead th {\n",
       "        text-align: right;\n",
       "    }\n",
       "</style>\n",
       "<table border=\"1\" class=\"dataframe\">\n",
       "  <thead>\n",
       "    <tr style=\"text-align: right;\">\n",
       "      <th></th>\n",
       "      <th>missing_values</th>\n",
       "      <th>% of total</th>\n",
       "    </tr>\n",
       "  </thead>\n",
       "  <tbody>\n",
       "    <tr>\n",
       "      <th>rougher.output.recovery</th>\n",
       "      <td>2573</td>\n",
       "      <td>15.3</td>\n",
       "    </tr>\n",
       "    <tr>\n",
       "      <th>rougher.output.tail_ag</th>\n",
       "      <td>2250</td>\n",
       "      <td>13.3</td>\n",
       "    </tr>\n",
       "    <tr>\n",
       "      <th>rougher.output.tail_sol</th>\n",
       "      <td>2249</td>\n",
       "      <td>13.3</td>\n",
       "    </tr>\n",
       "    <tr>\n",
       "      <th>rougher.output.tail_au</th>\n",
       "      <td>2249</td>\n",
       "      <td>13.3</td>\n",
       "    </tr>\n",
       "    <tr>\n",
       "      <th>secondary_cleaner.output.tail_sol</th>\n",
       "      <td>1986</td>\n",
       "      <td>11.8</td>\n",
       "    </tr>\n",
       "    <tr>\n",
       "      <th>rougher.input.floatbank11_xanthate</th>\n",
       "      <td>1904</td>\n",
       "      <td>11.3</td>\n",
       "    </tr>\n",
       "    <tr>\n",
       "      <th>final.output.recovery</th>\n",
       "      <td>1521</td>\n",
       "      <td>9.0</td>\n",
       "    </tr>\n",
       "    <tr>\n",
       "      <th>primary_cleaner.input.sulfate</th>\n",
       "      <td>1307</td>\n",
       "      <td>7.8</td>\n",
       "    </tr>\n",
       "    <tr>\n",
       "      <th>primary_cleaner.input.depressant</th>\n",
       "      <td>1262</td>\n",
       "      <td>7.5</td>\n",
       "    </tr>\n",
       "    <tr>\n",
       "      <th>rougher.calculation.au_pb_ratio</th>\n",
       "      <td>1242</td>\n",
       "      <td>7.4</td>\n",
       "    </tr>\n",
       "  </tbody>\n",
       "</table>\n",
       "</div>"
      ],
      "text/plain": [
       "                                    missing_values  % of total\n",
       "rougher.output.recovery                       2573        15.3\n",
       "rougher.output.tail_ag                        2250        13.3\n",
       "rougher.output.tail_sol                       2249        13.3\n",
       "rougher.output.tail_au                        2249        13.3\n",
       "secondary_cleaner.output.tail_sol             1986        11.8\n",
       "rougher.input.floatbank11_xanthate            1904        11.3\n",
       "final.output.recovery                         1521         9.0\n",
       "primary_cleaner.input.sulfate                 1307         7.8\n",
       "primary_cleaner.input.depressant              1262         7.5\n",
       "rougher.calculation.au_pb_ratio               1242         7.4"
      ]
     },
     "metadata": {},
     "output_type": "display_data"
    },
    {
     "data": {
      "text/html": [
       "<div>\n",
       "<style scoped>\n",
       "    .dataframe tbody tr th:only-of-type {\n",
       "        vertical-align: middle;\n",
       "    }\n",
       "\n",
       "    .dataframe tbody tr th {\n",
       "        vertical-align: top;\n",
       "    }\n",
       "\n",
       "    .dataframe thead th {\n",
       "        text-align: right;\n",
       "    }\n",
       "</style>\n",
       "<table border=\"1\" class=\"dataframe\">\n",
       "  <thead>\n",
       "    <tr style=\"text-align: right;\">\n",
       "      <th></th>\n",
       "      <th>missing_values</th>\n",
       "      <th>% of total</th>\n",
       "    </tr>\n",
       "  </thead>\n",
       "  <tbody>\n",
       "    <tr>\n",
       "      <th>rougher.input.floatbank11_xanthate</th>\n",
       "      <td>353</td>\n",
       "      <td>6.0</td>\n",
       "    </tr>\n",
       "    <tr>\n",
       "      <th>primary_cleaner.input.sulfate</th>\n",
       "      <td>302</td>\n",
       "      <td>5.2</td>\n",
       "    </tr>\n",
       "    <tr>\n",
       "      <th>primary_cleaner.input.depressant</th>\n",
       "      <td>284</td>\n",
       "      <td>4.8</td>\n",
       "    </tr>\n",
       "    <tr>\n",
       "      <th>rougher.input.floatbank10_sulfate</th>\n",
       "      <td>257</td>\n",
       "      <td>4.4</td>\n",
       "    </tr>\n",
       "    <tr>\n",
       "      <th>primary_cleaner.input.xanthate</th>\n",
       "      <td>166</td>\n",
       "      <td>2.8</td>\n",
       "    </tr>\n",
       "    <tr>\n",
       "      <th>rougher.input.floatbank10_xanthate</th>\n",
       "      <td>123</td>\n",
       "      <td>2.1</td>\n",
       "    </tr>\n",
       "    <tr>\n",
       "      <th>rougher.input.feed_sol</th>\n",
       "      <td>67</td>\n",
       "      <td>1.1</td>\n",
       "    </tr>\n",
       "    <tr>\n",
       "      <th>rougher.input.floatbank11_sulfate</th>\n",
       "      <td>55</td>\n",
       "      <td>0.9</td>\n",
       "    </tr>\n",
       "    <tr>\n",
       "      <th>rougher.input.feed_rate</th>\n",
       "      <td>40</td>\n",
       "      <td>0.7</td>\n",
       "    </tr>\n",
       "    <tr>\n",
       "      <th>secondary_cleaner.state.floatbank3_a_air</th>\n",
       "      <td>34</td>\n",
       "      <td>0.6</td>\n",
       "    </tr>\n",
       "  </tbody>\n",
       "</table>\n",
       "</div>"
      ],
      "text/plain": [
       "                                          missing_values  % of total\n",
       "rougher.input.floatbank11_xanthate                   353         6.0\n",
       "primary_cleaner.input.sulfate                        302         5.2\n",
       "primary_cleaner.input.depressant                     284         4.8\n",
       "rougher.input.floatbank10_sulfate                    257         4.4\n",
       "primary_cleaner.input.xanthate                       166         2.8\n",
       "rougher.input.floatbank10_xanthate                   123         2.1\n",
       "rougher.input.feed_sol                                67         1.1\n",
       "rougher.input.floatbank11_sulfate                     55         0.9\n",
       "rougher.input.feed_rate                               40         0.7\n",
       "secondary_cleaner.state.floatbank3_a_air              34         0.6"
      ]
     },
     "metadata": {},
     "output_type": "display_data"
    },
    {
     "data": {
      "text/html": [
       "<div>\n",
       "<style scoped>\n",
       "    .dataframe tbody tr th:only-of-type {\n",
       "        vertical-align: middle;\n",
       "    }\n",
       "\n",
       "    .dataframe tbody tr th {\n",
       "        vertical-align: top;\n",
       "    }\n",
       "\n",
       "    .dataframe thead th {\n",
       "        text-align: right;\n",
       "    }\n",
       "</style>\n",
       "<table border=\"1\" class=\"dataframe\">\n",
       "  <thead>\n",
       "    <tr style=\"text-align: right;\">\n",
       "      <th></th>\n",
       "      <th>missing_values</th>\n",
       "      <th>% of total</th>\n",
       "    </tr>\n",
       "  </thead>\n",
       "  <tbody>\n",
       "    <tr>\n",
       "      <th>rougher.output.recovery</th>\n",
       "      <td>3119</td>\n",
       "      <td>13.7</td>\n",
       "    </tr>\n",
       "    <tr>\n",
       "      <th>rougher.output.tail_ag</th>\n",
       "      <td>2737</td>\n",
       "      <td>12.0</td>\n",
       "    </tr>\n",
       "    <tr>\n",
       "      <th>rougher.output.tail_au</th>\n",
       "      <td>2736</td>\n",
       "      <td>12.0</td>\n",
       "    </tr>\n",
       "    <tr>\n",
       "      <th>rougher.output.tail_sol</th>\n",
       "      <td>2736</td>\n",
       "      <td>12.0</td>\n",
       "    </tr>\n",
       "    <tr>\n",
       "      <th>rougher.input.floatbank11_xanthate</th>\n",
       "      <td>2257</td>\n",
       "      <td>9.9</td>\n",
       "    </tr>\n",
       "    <tr>\n",
       "      <th>secondary_cleaner.output.tail_sol</th>\n",
       "      <td>2215</td>\n",
       "      <td>9.8</td>\n",
       "    </tr>\n",
       "    <tr>\n",
       "      <th>final.output.recovery</th>\n",
       "      <td>1963</td>\n",
       "      <td>8.6</td>\n",
       "    </tr>\n",
       "    <tr>\n",
       "      <th>rougher.calculation.au_pb_ratio</th>\n",
       "      <td>1627</td>\n",
       "      <td>7.2</td>\n",
       "    </tr>\n",
       "    <tr>\n",
       "      <th>primary_cleaner.input.sulfate</th>\n",
       "      <td>1609</td>\n",
       "      <td>7.1</td>\n",
       "    </tr>\n",
       "    <tr>\n",
       "      <th>primary_cleaner.input.depressant</th>\n",
       "      <td>1546</td>\n",
       "      <td>6.8</td>\n",
       "    </tr>\n",
       "  </tbody>\n",
       "</table>\n",
       "</div>"
      ],
      "text/plain": [
       "                                    missing_values  % of total\n",
       "rougher.output.recovery                       3119        13.7\n",
       "rougher.output.tail_ag                        2737        12.0\n",
       "rougher.output.tail_au                        2736        12.0\n",
       "rougher.output.tail_sol                       2736        12.0\n",
       "rougher.input.floatbank11_xanthate            2257         9.9\n",
       "secondary_cleaner.output.tail_sol             2215         9.8\n",
       "final.output.recovery                         1963         8.6\n",
       "rougher.calculation.au_pb_ratio               1627         7.2\n",
       "primary_cleaner.input.sulfate                 1609         7.1\n",
       "primary_cleaner.input.depressant              1546         6.8"
      ]
     },
     "metadata": {},
     "output_type": "display_data"
    }
   ],
   "source": [
    "for file in file_list:\n",
    "    report = file.isnull().sum().to_frame()\n",
    "    report.columns = ['missing_values']\n",
    "    report['% of total'] = (report['missing_values'] / file.shape[0] * 100).round(1)\n",
    "    display(report.sort_values(by='missing_values', ascending=False).head(10))"
   ]
  },
  {
   "cell_type": "code",
   "execution_count": 6,
   "metadata": {},
   "outputs": [
    {
     "data": {
      "text/plain": [
       "22716"
      ]
     },
     "execution_count": 6,
     "metadata": {},
     "output_type": "execute_result"
    }
   ],
   "source": [
    "len(df_full)"
   ]
  },
  {
   "cell_type": "code",
   "execution_count": 7,
   "metadata": {},
   "outputs": [
    {
     "data": {
      "text/plain": [
       "True"
      ]
     },
     "execution_count": 7,
     "metadata": {},
     "output_type": "execute_result"
    }
   ],
   "source": [
    "len(df_full) == len(df_train) + len(df_test)"
   ]
  },
  {
   "cell_type": "markdown",
   "metadata": {},
   "source": [
    "Сумма размеров тренировочной и тестовой выборок равна размеру общей выборки. "
   ]
  },
  {
   "cell_type": "code",
   "execution_count": 8,
   "metadata": {},
   "outputs": [
    {
     "data": {
      "text/plain": [
       "22716"
      ]
     },
     "execution_count": 8,
     "metadata": {},
     "output_type": "execute_result"
    }
   ],
   "source": [
    "df_full['date'].nunique()"
   ]
  },
  {
   "cell_type": "markdown",
   "metadata": {},
   "source": [
    "Все метки даты уникальны."
   ]
  },
  {
   "cell_type": "markdown",
   "metadata": {},
   "source": [
    "### Проверка корректности рассчета эффективности обогащения\n",
    "Проверим, что эффективность обогащения рассчитана правильно.  \n",
    "\n",
    "Для этого, напишем функцию, которая будет принимать на вход c, f и t  \n",
    "(доли золота в концентрате после очистки, до очистки и в отвальных хвостах после очистки соответственно)  \n",
    "и будет рассчитывать эффективность обогащения по формуле:\n",
    "\n",
    "recovery = (C*(F-T)) / (F*(C-T)) * 100\n",
    "\n",
    "C — доля золота в концентрате после флотации/очистки;  \n",
    "F — доля золота в сырье/концентрате до флотации/очистки;  \n",
    "T — доля золота в отвальных хвостах после флотации/очистки."
   ]
  },
  {
   "cell_type": "code",
   "execution_count": 9,
   "metadata": {},
   "outputs": [],
   "source": [
    "def calculate_recovery(c, f, t):\n",
    "    recovery = ((c*(f-t)) / (f*(c-t)))*100\n",
    "    return recovery"
   ]
  },
  {
   "cell_type": "markdown",
   "metadata": {},
   "source": [
    "Далее вычислим эффективность обогащения (recovery) на обучающей выборке для признака rougher.output.recovery  \n",
    "но сначала удалим пропуски в df_train для корректности рассчетов"
   ]
  },
  {
   "cell_type": "code",
   "execution_count": 10,
   "metadata": {},
   "outputs": [
    {
     "name": "stdout",
     "output_type": "stream",
     "text": [
      "было: (16860, 87) стало: (11017, 87)\n"
     ]
    },
    {
     "data": {
      "text/html": [
       "<div>\n",
       "<style scoped>\n",
       "    .dataframe tbody tr th:only-of-type {\n",
       "        vertical-align: middle;\n",
       "    }\n",
       "\n",
       "    .dataframe tbody tr th {\n",
       "        vertical-align: top;\n",
       "    }\n",
       "\n",
       "    .dataframe thead th {\n",
       "        text-align: right;\n",
       "    }\n",
       "</style>\n",
       "<table border=\"1\" class=\"dataframe\">\n",
       "  <thead>\n",
       "    <tr style=\"text-align: right;\">\n",
       "      <th></th>\n",
       "      <th>date</th>\n",
       "      <th>final.output.concentrate_ag</th>\n",
       "      <th>final.output.concentrate_pb</th>\n",
       "      <th>final.output.concentrate_sol</th>\n",
       "      <th>final.output.concentrate_au</th>\n",
       "      <th>final.output.recovery</th>\n",
       "      <th>final.output.tail_ag</th>\n",
       "      <th>final.output.tail_pb</th>\n",
       "      <th>final.output.tail_sol</th>\n",
       "      <th>final.output.tail_au</th>\n",
       "      <th>primary_cleaner.input.sulfate</th>\n",
       "      <th>primary_cleaner.input.depressant</th>\n",
       "      <th>primary_cleaner.input.feed_size</th>\n",
       "      <th>primary_cleaner.input.xanthate</th>\n",
       "      <th>primary_cleaner.output.concentrate_ag</th>\n",
       "      <th>primary_cleaner.output.concentrate_pb</th>\n",
       "      <th>primary_cleaner.output.concentrate_sol</th>\n",
       "      <th>primary_cleaner.output.concentrate_au</th>\n",
       "      <th>primary_cleaner.output.tail_ag</th>\n",
       "      <th>primary_cleaner.output.tail_pb</th>\n",
       "      <th>primary_cleaner.output.tail_sol</th>\n",
       "      <th>primary_cleaner.output.tail_au</th>\n",
       "      <th>primary_cleaner.state.floatbank8_a_air</th>\n",
       "      <th>primary_cleaner.state.floatbank8_a_level</th>\n",
       "      <th>primary_cleaner.state.floatbank8_b_air</th>\n",
       "      <th>primary_cleaner.state.floatbank8_b_level</th>\n",
       "      <th>primary_cleaner.state.floatbank8_c_air</th>\n",
       "      <th>primary_cleaner.state.floatbank8_c_level</th>\n",
       "      <th>primary_cleaner.state.floatbank8_d_air</th>\n",
       "      <th>primary_cleaner.state.floatbank8_d_level</th>\n",
       "      <th>rougher.calculation.sulfate_to_au_concentrate</th>\n",
       "      <th>rougher.calculation.floatbank10_sulfate_to_au_feed</th>\n",
       "      <th>rougher.calculation.floatbank11_sulfate_to_au_feed</th>\n",
       "      <th>rougher.calculation.au_pb_ratio</th>\n",
       "      <th>rougher.input.feed_ag</th>\n",
       "      <th>rougher.input.feed_pb</th>\n",
       "      <th>rougher.input.feed_rate</th>\n",
       "      <th>rougher.input.feed_size</th>\n",
       "      <th>rougher.input.feed_sol</th>\n",
       "      <th>rougher.input.feed_au</th>\n",
       "      <th>rougher.input.floatbank10_sulfate</th>\n",
       "      <th>rougher.input.floatbank10_xanthate</th>\n",
       "      <th>rougher.input.floatbank11_sulfate</th>\n",
       "      <th>rougher.input.floatbank11_xanthate</th>\n",
       "      <th>rougher.output.concentrate_ag</th>\n",
       "      <th>rougher.output.concentrate_pb</th>\n",
       "      <th>rougher.output.concentrate_sol</th>\n",
       "      <th>rougher.output.concentrate_au</th>\n",
       "      <th>rougher.output.recovery</th>\n",
       "      <th>rougher.output.tail_ag</th>\n",
       "      <th>rougher.output.tail_pb</th>\n",
       "      <th>rougher.output.tail_sol</th>\n",
       "      <th>rougher.output.tail_au</th>\n",
       "      <th>rougher.state.floatbank10_a_air</th>\n",
       "      <th>rougher.state.floatbank10_a_level</th>\n",
       "      <th>rougher.state.floatbank10_b_air</th>\n",
       "      <th>rougher.state.floatbank10_b_level</th>\n",
       "      <th>rougher.state.floatbank10_c_air</th>\n",
       "      <th>rougher.state.floatbank10_c_level</th>\n",
       "      <th>rougher.state.floatbank10_d_air</th>\n",
       "      <th>rougher.state.floatbank10_d_level</th>\n",
       "      <th>rougher.state.floatbank10_e_air</th>\n",
       "      <th>rougher.state.floatbank10_e_level</th>\n",
       "      <th>rougher.state.floatbank10_f_air</th>\n",
       "      <th>rougher.state.floatbank10_f_level</th>\n",
       "      <th>secondary_cleaner.output.tail_ag</th>\n",
       "      <th>secondary_cleaner.output.tail_pb</th>\n",
       "      <th>secondary_cleaner.output.tail_sol</th>\n",
       "      <th>secondary_cleaner.output.tail_au</th>\n",
       "      <th>secondary_cleaner.state.floatbank2_a_air</th>\n",
       "      <th>secondary_cleaner.state.floatbank2_a_level</th>\n",
       "      <th>secondary_cleaner.state.floatbank2_b_air</th>\n",
       "      <th>secondary_cleaner.state.floatbank2_b_level</th>\n",
       "      <th>secondary_cleaner.state.floatbank3_a_air</th>\n",
       "      <th>secondary_cleaner.state.floatbank3_a_level</th>\n",
       "      <th>secondary_cleaner.state.floatbank3_b_air</th>\n",
       "      <th>secondary_cleaner.state.floatbank3_b_level</th>\n",
       "      <th>secondary_cleaner.state.floatbank4_a_air</th>\n",
       "      <th>secondary_cleaner.state.floatbank4_a_level</th>\n",
       "      <th>secondary_cleaner.state.floatbank4_b_air</th>\n",
       "      <th>secondary_cleaner.state.floatbank4_b_level</th>\n",
       "      <th>secondary_cleaner.state.floatbank5_a_air</th>\n",
       "      <th>secondary_cleaner.state.floatbank5_a_level</th>\n",
       "      <th>secondary_cleaner.state.floatbank5_b_air</th>\n",
       "      <th>secondary_cleaner.state.floatbank5_b_level</th>\n",
       "      <th>secondary_cleaner.state.floatbank6_a_air</th>\n",
       "      <th>secondary_cleaner.state.floatbank6_a_level</th>\n",
       "    </tr>\n",
       "  </thead>\n",
       "  <tbody>\n",
       "    <tr>\n",
       "      <th>0</th>\n",
       "      <td>2016-01-15 00:00:00</td>\n",
       "      <td>6.055403</td>\n",
       "      <td>9.889648</td>\n",
       "      <td>5.507324</td>\n",
       "      <td>42.192020</td>\n",
       "      <td>70.541216</td>\n",
       "      <td>10.411962</td>\n",
       "      <td>0.895447</td>\n",
       "      <td>16.904297</td>\n",
       "      <td>2.143149</td>\n",
       "      <td>127.092003</td>\n",
       "      <td>10.128295</td>\n",
       "      <td>7.25</td>\n",
       "      <td>0.988759</td>\n",
       "      <td>8.547551</td>\n",
       "      <td>10.389648</td>\n",
       "      <td>19.529297</td>\n",
       "      <td>34.174427</td>\n",
       "      <td>14.936526</td>\n",
       "      <td>2.534912</td>\n",
       "      <td>7.476074</td>\n",
       "      <td>2.106679</td>\n",
       "      <td>1549.775757</td>\n",
       "      <td>-498.912140</td>\n",
       "      <td>1551.434204</td>\n",
       "      <td>-516.403442</td>\n",
       "      <td>1549.873901</td>\n",
       "      <td>-498.666595</td>\n",
       "      <td>1554.367432</td>\n",
       "      <td>-493.428131</td>\n",
       "      <td>41885.707031</td>\n",
       "      <td>3481.779053</td>\n",
       "      <td>3520.337158</td>\n",
       "      <td>2.838687</td>\n",
       "      <td>6.100378</td>\n",
       "      <td>2.284912</td>\n",
       "      <td>523.546326</td>\n",
       "      <td>55.486599</td>\n",
       "      <td>36.808594</td>\n",
       "      <td>6.486150</td>\n",
       "      <td>11.986616</td>\n",
       "      <td>6.007990</td>\n",
       "      <td>11.836743</td>\n",
       "      <td>6.005818</td>\n",
       "      <td>11.500771</td>\n",
       "      <td>7.101074</td>\n",
       "      <td>28.029297</td>\n",
       "      <td>19.793808</td>\n",
       "      <td>87.107763</td>\n",
       "      <td>5.008018</td>\n",
       "      <td>0.508728</td>\n",
       "      <td>19.154297</td>\n",
       "      <td>1.170244</td>\n",
       "      <td>999.706909</td>\n",
       "      <td>-404.066986</td>\n",
       "      <td>1603.011353</td>\n",
       "      <td>-434.715027</td>\n",
       "      <td>1602.375000</td>\n",
       "      <td>-442.204468</td>\n",
       "      <td>1598.937256</td>\n",
       "      <td>-451.294128</td>\n",
       "      <td>1404.472046</td>\n",
       "      <td>-455.462982</td>\n",
       "      <td>1416.354980</td>\n",
       "      <td>-451.939636</td>\n",
       "      <td>14.500184</td>\n",
       "      <td>4.694824</td>\n",
       "      <td>8.764648</td>\n",
       "      <td>2.606185</td>\n",
       "      <td>25.853109</td>\n",
       "      <td>-498.526489</td>\n",
       "      <td>23.893660</td>\n",
       "      <td>-501.406281</td>\n",
       "      <td>23.961798</td>\n",
       "      <td>-495.262817</td>\n",
       "      <td>21.940409</td>\n",
       "      <td>-499.340973</td>\n",
       "      <td>14.016835</td>\n",
       "      <td>-502.488007</td>\n",
       "      <td>12.099931</td>\n",
       "      <td>-504.715942</td>\n",
       "      <td>9.925633</td>\n",
       "      <td>-498.310211</td>\n",
       "      <td>8.079666</td>\n",
       "      <td>-500.470978</td>\n",
       "      <td>14.151341</td>\n",
       "      <td>-605.841980</td>\n",
       "    </tr>\n",
       "    <tr>\n",
       "      <th>1</th>\n",
       "      <td>2016-01-15 01:00:00</td>\n",
       "      <td>6.029369</td>\n",
       "      <td>9.968944</td>\n",
       "      <td>5.257781</td>\n",
       "      <td>42.701629</td>\n",
       "      <td>69.266198</td>\n",
       "      <td>10.462676</td>\n",
       "      <td>0.927452</td>\n",
       "      <td>16.634514</td>\n",
       "      <td>2.224930</td>\n",
       "      <td>125.629232</td>\n",
       "      <td>10.296251</td>\n",
       "      <td>7.25</td>\n",
       "      <td>1.002663</td>\n",
       "      <td>8.558743</td>\n",
       "      <td>10.497069</td>\n",
       "      <td>19.369147</td>\n",
       "      <td>34.118526</td>\n",
       "      <td>16.250511</td>\n",
       "      <td>3.049646</td>\n",
       "      <td>6.733907</td>\n",
       "      <td>2.353017</td>\n",
       "      <td>1576.166671</td>\n",
       "      <td>-500.904965</td>\n",
       "      <td>1575.950626</td>\n",
       "      <td>-499.865889</td>\n",
       "      <td>1575.994189</td>\n",
       "      <td>-499.315107</td>\n",
       "      <td>1574.479259</td>\n",
       "      <td>-498.931665</td>\n",
       "      <td>42050.861809</td>\n",
       "      <td>3498.370979</td>\n",
       "      <td>3489.981857</td>\n",
       "      <td>2.858998</td>\n",
       "      <td>6.161113</td>\n",
       "      <td>2.266033</td>\n",
       "      <td>525.290581</td>\n",
       "      <td>57.278666</td>\n",
       "      <td>35.753385</td>\n",
       "      <td>6.478583</td>\n",
       "      <td>11.971193</td>\n",
       "      <td>6.005766</td>\n",
       "      <td>11.996163</td>\n",
       "      <td>6.012594</td>\n",
       "      <td>11.615865</td>\n",
       "      <td>7.278807</td>\n",
       "      <td>28.067063</td>\n",
       "      <td>20.050975</td>\n",
       "      <td>86.843261</td>\n",
       "      <td>4.955378</td>\n",
       "      <td>0.536689</td>\n",
       "      <td>18.965234</td>\n",
       "      <td>1.184827</td>\n",
       "      <td>1000.286398</td>\n",
       "      <td>-400.065196</td>\n",
       "      <td>1600.754587</td>\n",
       "      <td>-449.953435</td>\n",
       "      <td>1600.479580</td>\n",
       "      <td>-449.830646</td>\n",
       "      <td>1600.527589</td>\n",
       "      <td>-449.953649</td>\n",
       "      <td>1399.227084</td>\n",
       "      <td>-450.869848</td>\n",
       "      <td>1399.719514</td>\n",
       "      <td>-450.119001</td>\n",
       "      <td>14.265474</td>\n",
       "      <td>4.592547</td>\n",
       "      <td>9.001494</td>\n",
       "      <td>2.488248</td>\n",
       "      <td>25.880539</td>\n",
       "      <td>-499.989656</td>\n",
       "      <td>23.889530</td>\n",
       "      <td>-500.372428</td>\n",
       "      <td>23.970550</td>\n",
       "      <td>-500.085473</td>\n",
       "      <td>22.085714</td>\n",
       "      <td>-499.446897</td>\n",
       "      <td>13.992281</td>\n",
       "      <td>-505.503262</td>\n",
       "      <td>11.950531</td>\n",
       "      <td>-501.331529</td>\n",
       "      <td>10.039245</td>\n",
       "      <td>-500.169983</td>\n",
       "      <td>7.984757</td>\n",
       "      <td>-500.582168</td>\n",
       "      <td>13.998353</td>\n",
       "      <td>-599.787184</td>\n",
       "    </tr>\n",
       "    <tr>\n",
       "      <th>2</th>\n",
       "      <td>2016-01-15 02:00:00</td>\n",
       "      <td>6.055926</td>\n",
       "      <td>10.213995</td>\n",
       "      <td>5.383759</td>\n",
       "      <td>42.657501</td>\n",
       "      <td>68.116445</td>\n",
       "      <td>10.507046</td>\n",
       "      <td>0.953716</td>\n",
       "      <td>16.208849</td>\n",
       "      <td>2.257889</td>\n",
       "      <td>123.819808</td>\n",
       "      <td>11.316280</td>\n",
       "      <td>7.25</td>\n",
       "      <td>0.991265</td>\n",
       "      <td>8.603505</td>\n",
       "      <td>10.354494</td>\n",
       "      <td>19.167579</td>\n",
       "      <td>33.969464</td>\n",
       "      <td>16.491823</td>\n",
       "      <td>3.124664</td>\n",
       "      <td>6.471768</td>\n",
       "      <td>2.416800</td>\n",
       "      <td>1601.556163</td>\n",
       "      <td>-499.997791</td>\n",
       "      <td>1600.386685</td>\n",
       "      <td>-500.607762</td>\n",
       "      <td>1602.003542</td>\n",
       "      <td>-500.870069</td>\n",
       "      <td>1599.541515</td>\n",
       "      <td>-499.827444</td>\n",
       "      <td>42018.101184</td>\n",
       "      <td>3495.348910</td>\n",
       "      <td>3502.359819</td>\n",
       "      <td>2.945989</td>\n",
       "      <td>6.116455</td>\n",
       "      <td>2.159622</td>\n",
       "      <td>530.026610</td>\n",
       "      <td>57.510649</td>\n",
       "      <td>35.971630</td>\n",
       "      <td>6.362222</td>\n",
       "      <td>11.920603</td>\n",
       "      <td>6.197377</td>\n",
       "      <td>11.920305</td>\n",
       "      <td>6.204633</td>\n",
       "      <td>11.695753</td>\n",
       "      <td>7.216833</td>\n",
       "      <td>27.454037</td>\n",
       "      <td>19.737170</td>\n",
       "      <td>86.842308</td>\n",
       "      <td>4.843460</td>\n",
       "      <td>0.546416</td>\n",
       "      <td>18.808533</td>\n",
       "      <td>1.162562</td>\n",
       "      <td>999.719565</td>\n",
       "      <td>-400.074028</td>\n",
       "      <td>1599.337330</td>\n",
       "      <td>-450.008530</td>\n",
       "      <td>1599.672797</td>\n",
       "      <td>-449.954491</td>\n",
       "      <td>1599.849325</td>\n",
       "      <td>-449.954185</td>\n",
       "      <td>1399.180945</td>\n",
       "      <td>-449.937588</td>\n",
       "      <td>1400.316682</td>\n",
       "      <td>-450.527147</td>\n",
       "      <td>14.115662</td>\n",
       "      <td>4.624775</td>\n",
       "      <td>8.842896</td>\n",
       "      <td>2.458187</td>\n",
       "      <td>26.005245</td>\n",
       "      <td>-499.929616</td>\n",
       "      <td>23.886657</td>\n",
       "      <td>-499.951928</td>\n",
       "      <td>23.913535</td>\n",
       "      <td>-499.442343</td>\n",
       "      <td>23.957717</td>\n",
       "      <td>-499.901982</td>\n",
       "      <td>14.015015</td>\n",
       "      <td>-502.520901</td>\n",
       "      <td>11.912783</td>\n",
       "      <td>-501.133383</td>\n",
       "      <td>10.070913</td>\n",
       "      <td>-500.129135</td>\n",
       "      <td>8.013877</td>\n",
       "      <td>-500.517572</td>\n",
       "      <td>14.028663</td>\n",
       "      <td>-601.427363</td>\n",
       "    </tr>\n",
       "    <tr>\n",
       "      <th>3</th>\n",
       "      <td>2016-01-15 03:00:00</td>\n",
       "      <td>6.047977</td>\n",
       "      <td>9.977019</td>\n",
       "      <td>4.858634</td>\n",
       "      <td>42.689819</td>\n",
       "      <td>68.347543</td>\n",
       "      <td>10.422762</td>\n",
       "      <td>0.883763</td>\n",
       "      <td>16.532835</td>\n",
       "      <td>2.146849</td>\n",
       "      <td>122.270188</td>\n",
       "      <td>11.322140</td>\n",
       "      <td>7.25</td>\n",
       "      <td>0.996739</td>\n",
       "      <td>7.221879</td>\n",
       "      <td>8.496563</td>\n",
       "      <td>15.978538</td>\n",
       "      <td>28.260743</td>\n",
       "      <td>16.024359</td>\n",
       "      <td>2.960362</td>\n",
       "      <td>6.843791</td>\n",
       "      <td>2.262051</td>\n",
       "      <td>1599.968720</td>\n",
       "      <td>-500.951778</td>\n",
       "      <td>1600.659236</td>\n",
       "      <td>-499.677094</td>\n",
       "      <td>1600.304144</td>\n",
       "      <td>-500.727997</td>\n",
       "      <td>1600.449520</td>\n",
       "      <td>-500.052575</td>\n",
       "      <td>42029.447991</td>\n",
       "      <td>3498.578313</td>\n",
       "      <td>3499.162912</td>\n",
       "      <td>3.002340</td>\n",
       "      <td>6.043309</td>\n",
       "      <td>2.037807</td>\n",
       "      <td>542.590390</td>\n",
       "      <td>57.792734</td>\n",
       "      <td>36.862241</td>\n",
       "      <td>6.118189</td>\n",
       "      <td>11.630094</td>\n",
       "      <td>6.203177</td>\n",
       "      <td>11.692450</td>\n",
       "      <td>6.196578</td>\n",
       "      <td>11.915047</td>\n",
       "      <td>7.175616</td>\n",
       "      <td>27.341277</td>\n",
       "      <td>19.320810</td>\n",
       "      <td>87.226430</td>\n",
       "      <td>4.655288</td>\n",
       "      <td>0.542525</td>\n",
       "      <td>19.330200</td>\n",
       "      <td>1.079755</td>\n",
       "      <td>999.814770</td>\n",
       "      <td>-400.200179</td>\n",
       "      <td>1600.059442</td>\n",
       "      <td>-450.619948</td>\n",
       "      <td>1600.012842</td>\n",
       "      <td>-449.910497</td>\n",
       "      <td>1597.725177</td>\n",
       "      <td>-450.130127</td>\n",
       "      <td>1400.943157</td>\n",
       "      <td>-450.030142</td>\n",
       "      <td>1400.234743</td>\n",
       "      <td>-449.790835</td>\n",
       "      <td>13.732071</td>\n",
       "      <td>4.482453</td>\n",
       "      <td>9.122857</td>\n",
       "      <td>2.322062</td>\n",
       "      <td>25.942508</td>\n",
       "      <td>-499.176749</td>\n",
       "      <td>23.955516</td>\n",
       "      <td>-499.848796</td>\n",
       "      <td>23.966838</td>\n",
       "      <td>-500.008812</td>\n",
       "      <td>23.954443</td>\n",
       "      <td>-499.944710</td>\n",
       "      <td>14.036510</td>\n",
       "      <td>-500.857308</td>\n",
       "      <td>11.999550</td>\n",
       "      <td>-501.193686</td>\n",
       "      <td>9.970366</td>\n",
       "      <td>-499.201640</td>\n",
       "      <td>7.977324</td>\n",
       "      <td>-500.255908</td>\n",
       "      <td>14.005551</td>\n",
       "      <td>-599.996129</td>\n",
       "    </tr>\n",
       "    <tr>\n",
       "      <th>4</th>\n",
       "      <td>2016-01-15 04:00:00</td>\n",
       "      <td>6.148599</td>\n",
       "      <td>10.142511</td>\n",
       "      <td>4.939416</td>\n",
       "      <td>42.774141</td>\n",
       "      <td>66.927016</td>\n",
       "      <td>10.360302</td>\n",
       "      <td>0.792826</td>\n",
       "      <td>16.525686</td>\n",
       "      <td>2.055292</td>\n",
       "      <td>117.988169</td>\n",
       "      <td>11.913613</td>\n",
       "      <td>7.25</td>\n",
       "      <td>1.009869</td>\n",
       "      <td>9.089428</td>\n",
       "      <td>9.986786</td>\n",
       "      <td>19.199864</td>\n",
       "      <td>33.044932</td>\n",
       "      <td>16.480185</td>\n",
       "      <td>3.112100</td>\n",
       "      <td>6.550154</td>\n",
       "      <td>2.277073</td>\n",
       "      <td>1601.339707</td>\n",
       "      <td>-498.975456</td>\n",
       "      <td>1601.437854</td>\n",
       "      <td>-500.323246</td>\n",
       "      <td>1599.581894</td>\n",
       "      <td>-500.888152</td>\n",
       "      <td>1602.649541</td>\n",
       "      <td>-500.593010</td>\n",
       "      <td>42125.354245</td>\n",
       "      <td>3494.800771</td>\n",
       "      <td>3506.679315</td>\n",
       "      <td>3.169615</td>\n",
       "      <td>6.060915</td>\n",
       "      <td>1.786875</td>\n",
       "      <td>540.531893</td>\n",
       "      <td>56.047189</td>\n",
       "      <td>34.347666</td>\n",
       "      <td>5.663707</td>\n",
       "      <td>10.957755</td>\n",
       "      <td>6.198826</td>\n",
       "      <td>10.960521</td>\n",
       "      <td>6.194897</td>\n",
       "      <td>12.411054</td>\n",
       "      <td>7.240205</td>\n",
       "      <td>27.041023</td>\n",
       "      <td>19.216101</td>\n",
       "      <td>86.688794</td>\n",
       "      <td>4.552800</td>\n",
       "      <td>0.515438</td>\n",
       "      <td>19.267422</td>\n",
       "      <td>1.012642</td>\n",
       "      <td>999.678690</td>\n",
       "      <td>-399.752729</td>\n",
       "      <td>1600.208824</td>\n",
       "      <td>-449.599614</td>\n",
       "      <td>1600.357732</td>\n",
       "      <td>-450.034364</td>\n",
       "      <td>1599.759049</td>\n",
       "      <td>-449.909799</td>\n",
       "      <td>1401.560902</td>\n",
       "      <td>-448.877187</td>\n",
       "      <td>1401.160227</td>\n",
       "      <td>-450.407128</td>\n",
       "      <td>14.079996</td>\n",
       "      <td>4.470737</td>\n",
       "      <td>8.871028</td>\n",
       "      <td>2.330448</td>\n",
       "      <td>26.024787</td>\n",
       "      <td>-500.279091</td>\n",
       "      <td>23.955345</td>\n",
       "      <td>-500.593614</td>\n",
       "      <td>23.985703</td>\n",
       "      <td>-500.083811</td>\n",
       "      <td>23.958945</td>\n",
       "      <td>-499.990309</td>\n",
       "      <td>14.027298</td>\n",
       "      <td>-499.838632</td>\n",
       "      <td>11.953070</td>\n",
       "      <td>-501.053894</td>\n",
       "      <td>9.925709</td>\n",
       "      <td>-501.686727</td>\n",
       "      <td>7.894242</td>\n",
       "      <td>-500.356035</td>\n",
       "      <td>13.996647</td>\n",
       "      <td>-601.496691</td>\n",
       "    </tr>\n",
       "  </tbody>\n",
       "</table>\n",
       "</div>"
      ],
      "text/plain": [
       "                 date  final.output.concentrate_ag  \\\n",
       "0 2016-01-15 00:00:00                     6.055403   \n",
       "1 2016-01-15 01:00:00                     6.029369   \n",
       "2 2016-01-15 02:00:00                     6.055926   \n",
       "3 2016-01-15 03:00:00                     6.047977   \n",
       "4 2016-01-15 04:00:00                     6.148599   \n",
       "\n",
       "   final.output.concentrate_pb  final.output.concentrate_sol  \\\n",
       "0                     9.889648                      5.507324   \n",
       "1                     9.968944                      5.257781   \n",
       "2                    10.213995                      5.383759   \n",
       "3                     9.977019                      4.858634   \n",
       "4                    10.142511                      4.939416   \n",
       "\n",
       "   final.output.concentrate_au  final.output.recovery  final.output.tail_ag  \\\n",
       "0                    42.192020              70.541216             10.411962   \n",
       "1                    42.701629              69.266198             10.462676   \n",
       "2                    42.657501              68.116445             10.507046   \n",
       "3                    42.689819              68.347543             10.422762   \n",
       "4                    42.774141              66.927016             10.360302   \n",
       "\n",
       "   final.output.tail_pb  final.output.tail_sol  final.output.tail_au  \\\n",
       "0              0.895447              16.904297              2.143149   \n",
       "1              0.927452              16.634514              2.224930   \n",
       "2              0.953716              16.208849              2.257889   \n",
       "3              0.883763              16.532835              2.146849   \n",
       "4              0.792826              16.525686              2.055292   \n",
       "\n",
       "   primary_cleaner.input.sulfate  primary_cleaner.input.depressant  \\\n",
       "0                     127.092003                         10.128295   \n",
       "1                     125.629232                         10.296251   \n",
       "2                     123.819808                         11.316280   \n",
       "3                     122.270188                         11.322140   \n",
       "4                     117.988169                         11.913613   \n",
       "\n",
       "   primary_cleaner.input.feed_size  primary_cleaner.input.xanthate  \\\n",
       "0                             7.25                        0.988759   \n",
       "1                             7.25                        1.002663   \n",
       "2                             7.25                        0.991265   \n",
       "3                             7.25                        0.996739   \n",
       "4                             7.25                        1.009869   \n",
       "\n",
       "   primary_cleaner.output.concentrate_ag  \\\n",
       "0                               8.547551   \n",
       "1                               8.558743   \n",
       "2                               8.603505   \n",
       "3                               7.221879   \n",
       "4                               9.089428   \n",
       "\n",
       "   primary_cleaner.output.concentrate_pb  \\\n",
       "0                              10.389648   \n",
       "1                              10.497069   \n",
       "2                              10.354494   \n",
       "3                               8.496563   \n",
       "4                               9.986786   \n",
       "\n",
       "   primary_cleaner.output.concentrate_sol  \\\n",
       "0                               19.529297   \n",
       "1                               19.369147   \n",
       "2                               19.167579   \n",
       "3                               15.978538   \n",
       "4                               19.199864   \n",
       "\n",
       "   primary_cleaner.output.concentrate_au  primary_cleaner.output.tail_ag  \\\n",
       "0                              34.174427                       14.936526   \n",
       "1                              34.118526                       16.250511   \n",
       "2                              33.969464                       16.491823   \n",
       "3                              28.260743                       16.024359   \n",
       "4                              33.044932                       16.480185   \n",
       "\n",
       "   primary_cleaner.output.tail_pb  primary_cleaner.output.tail_sol  \\\n",
       "0                        2.534912                         7.476074   \n",
       "1                        3.049646                         6.733907   \n",
       "2                        3.124664                         6.471768   \n",
       "3                        2.960362                         6.843791   \n",
       "4                        3.112100                         6.550154   \n",
       "\n",
       "   primary_cleaner.output.tail_au  primary_cleaner.state.floatbank8_a_air  \\\n",
       "0                        2.106679                             1549.775757   \n",
       "1                        2.353017                             1576.166671   \n",
       "2                        2.416800                             1601.556163   \n",
       "3                        2.262051                             1599.968720   \n",
       "4                        2.277073                             1601.339707   \n",
       "\n",
       "   primary_cleaner.state.floatbank8_a_level  \\\n",
       "0                               -498.912140   \n",
       "1                               -500.904965   \n",
       "2                               -499.997791   \n",
       "3                               -500.951778   \n",
       "4                               -498.975456   \n",
       "\n",
       "   primary_cleaner.state.floatbank8_b_air  \\\n",
       "0                             1551.434204   \n",
       "1                             1575.950626   \n",
       "2                             1600.386685   \n",
       "3                             1600.659236   \n",
       "4                             1601.437854   \n",
       "\n",
       "   primary_cleaner.state.floatbank8_b_level  \\\n",
       "0                               -516.403442   \n",
       "1                               -499.865889   \n",
       "2                               -500.607762   \n",
       "3                               -499.677094   \n",
       "4                               -500.323246   \n",
       "\n",
       "   primary_cleaner.state.floatbank8_c_air  \\\n",
       "0                             1549.873901   \n",
       "1                             1575.994189   \n",
       "2                             1602.003542   \n",
       "3                             1600.304144   \n",
       "4                             1599.581894   \n",
       "\n",
       "   primary_cleaner.state.floatbank8_c_level  \\\n",
       "0                               -498.666595   \n",
       "1                               -499.315107   \n",
       "2                               -500.870069   \n",
       "3                               -500.727997   \n",
       "4                               -500.888152   \n",
       "\n",
       "   primary_cleaner.state.floatbank8_d_air  \\\n",
       "0                             1554.367432   \n",
       "1                             1574.479259   \n",
       "2                             1599.541515   \n",
       "3                             1600.449520   \n",
       "4                             1602.649541   \n",
       "\n",
       "   primary_cleaner.state.floatbank8_d_level  \\\n",
       "0                               -493.428131   \n",
       "1                               -498.931665   \n",
       "2                               -499.827444   \n",
       "3                               -500.052575   \n",
       "4                               -500.593010   \n",
       "\n",
       "   rougher.calculation.sulfate_to_au_concentrate  \\\n",
       "0                                   41885.707031   \n",
       "1                                   42050.861809   \n",
       "2                                   42018.101184   \n",
       "3                                   42029.447991   \n",
       "4                                   42125.354245   \n",
       "\n",
       "   rougher.calculation.floatbank10_sulfate_to_au_feed  \\\n",
       "0                                        3481.779053    \n",
       "1                                        3498.370979    \n",
       "2                                        3495.348910    \n",
       "3                                        3498.578313    \n",
       "4                                        3494.800771    \n",
       "\n",
       "   rougher.calculation.floatbank11_sulfate_to_au_feed  \\\n",
       "0                                        3520.337158    \n",
       "1                                        3489.981857    \n",
       "2                                        3502.359819    \n",
       "3                                        3499.162912    \n",
       "4                                        3506.679315    \n",
       "\n",
       "   rougher.calculation.au_pb_ratio  rougher.input.feed_ag  \\\n",
       "0                         2.838687               6.100378   \n",
       "1                         2.858998               6.161113   \n",
       "2                         2.945989               6.116455   \n",
       "3                         3.002340               6.043309   \n",
       "4                         3.169615               6.060915   \n",
       "\n",
       "   rougher.input.feed_pb  rougher.input.feed_rate  rougher.input.feed_size  \\\n",
       "0               2.284912               523.546326                55.486599   \n",
       "1               2.266033               525.290581                57.278666   \n",
       "2               2.159622               530.026610                57.510649   \n",
       "3               2.037807               542.590390                57.792734   \n",
       "4               1.786875               540.531893                56.047189   \n",
       "\n",
       "   rougher.input.feed_sol  rougher.input.feed_au  \\\n",
       "0               36.808594               6.486150   \n",
       "1               35.753385               6.478583   \n",
       "2               35.971630               6.362222   \n",
       "3               36.862241               6.118189   \n",
       "4               34.347666               5.663707   \n",
       "\n",
       "   rougher.input.floatbank10_sulfate  rougher.input.floatbank10_xanthate  \\\n",
       "0                          11.986616                            6.007990   \n",
       "1                          11.971193                            6.005766   \n",
       "2                          11.920603                            6.197377   \n",
       "3                          11.630094                            6.203177   \n",
       "4                          10.957755                            6.198826   \n",
       "\n",
       "   rougher.input.floatbank11_sulfate  rougher.input.floatbank11_xanthate  \\\n",
       "0                          11.836743                            6.005818   \n",
       "1                          11.996163                            6.012594   \n",
       "2                          11.920305                            6.204633   \n",
       "3                          11.692450                            6.196578   \n",
       "4                          10.960521                            6.194897   \n",
       "\n",
       "   rougher.output.concentrate_ag  rougher.output.concentrate_pb  \\\n",
       "0                      11.500771                       7.101074   \n",
       "1                      11.615865                       7.278807   \n",
       "2                      11.695753                       7.216833   \n",
       "3                      11.915047                       7.175616   \n",
       "4                      12.411054                       7.240205   \n",
       "\n",
       "   rougher.output.concentrate_sol  rougher.output.concentrate_au  \\\n",
       "0                       28.029297                      19.793808   \n",
       "1                       28.067063                      20.050975   \n",
       "2                       27.454037                      19.737170   \n",
       "3                       27.341277                      19.320810   \n",
       "4                       27.041023                      19.216101   \n",
       "\n",
       "   rougher.output.recovery  rougher.output.tail_ag  rougher.output.tail_pb  \\\n",
       "0                87.107763                5.008018                0.508728   \n",
       "1                86.843261                4.955378                0.536689   \n",
       "2                86.842308                4.843460                0.546416   \n",
       "3                87.226430                4.655288                0.542525   \n",
       "4                86.688794                4.552800                0.515438   \n",
       "\n",
       "   rougher.output.tail_sol  rougher.output.tail_au  \\\n",
       "0                19.154297                1.170244   \n",
       "1                18.965234                1.184827   \n",
       "2                18.808533                1.162562   \n",
       "3                19.330200                1.079755   \n",
       "4                19.267422                1.012642   \n",
       "\n",
       "   rougher.state.floatbank10_a_air  rougher.state.floatbank10_a_level  \\\n",
       "0                       999.706909                        -404.066986   \n",
       "1                      1000.286398                        -400.065196   \n",
       "2                       999.719565                        -400.074028   \n",
       "3                       999.814770                        -400.200179   \n",
       "4                       999.678690                        -399.752729   \n",
       "\n",
       "   rougher.state.floatbank10_b_air  rougher.state.floatbank10_b_level  \\\n",
       "0                      1603.011353                        -434.715027   \n",
       "1                      1600.754587                        -449.953435   \n",
       "2                      1599.337330                        -450.008530   \n",
       "3                      1600.059442                        -450.619948   \n",
       "4                      1600.208824                        -449.599614   \n",
       "\n",
       "   rougher.state.floatbank10_c_air  rougher.state.floatbank10_c_level  \\\n",
       "0                      1602.375000                        -442.204468   \n",
       "1                      1600.479580                        -449.830646   \n",
       "2                      1599.672797                        -449.954491   \n",
       "3                      1600.012842                        -449.910497   \n",
       "4                      1600.357732                        -450.034364   \n",
       "\n",
       "   rougher.state.floatbank10_d_air  rougher.state.floatbank10_d_level  \\\n",
       "0                      1598.937256                        -451.294128   \n",
       "1                      1600.527589                        -449.953649   \n",
       "2                      1599.849325                        -449.954185   \n",
       "3                      1597.725177                        -450.130127   \n",
       "4                      1599.759049                        -449.909799   \n",
       "\n",
       "   rougher.state.floatbank10_e_air  rougher.state.floatbank10_e_level  \\\n",
       "0                      1404.472046                        -455.462982   \n",
       "1                      1399.227084                        -450.869848   \n",
       "2                      1399.180945                        -449.937588   \n",
       "3                      1400.943157                        -450.030142   \n",
       "4                      1401.560902                        -448.877187   \n",
       "\n",
       "   rougher.state.floatbank10_f_air  rougher.state.floatbank10_f_level  \\\n",
       "0                      1416.354980                        -451.939636   \n",
       "1                      1399.719514                        -450.119001   \n",
       "2                      1400.316682                        -450.527147   \n",
       "3                      1400.234743                        -449.790835   \n",
       "4                      1401.160227                        -450.407128   \n",
       "\n",
       "   secondary_cleaner.output.tail_ag  secondary_cleaner.output.tail_pb  \\\n",
       "0                         14.500184                          4.694824   \n",
       "1                         14.265474                          4.592547   \n",
       "2                         14.115662                          4.624775   \n",
       "3                         13.732071                          4.482453   \n",
       "4                         14.079996                          4.470737   \n",
       "\n",
       "   secondary_cleaner.output.tail_sol  secondary_cleaner.output.tail_au  \\\n",
       "0                           8.764648                          2.606185   \n",
       "1                           9.001494                          2.488248   \n",
       "2                           8.842896                          2.458187   \n",
       "3                           9.122857                          2.322062   \n",
       "4                           8.871028                          2.330448   \n",
       "\n",
       "   secondary_cleaner.state.floatbank2_a_air  \\\n",
       "0                                 25.853109   \n",
       "1                                 25.880539   \n",
       "2                                 26.005245   \n",
       "3                                 25.942508   \n",
       "4                                 26.024787   \n",
       "\n",
       "   secondary_cleaner.state.floatbank2_a_level  \\\n",
       "0                                 -498.526489   \n",
       "1                                 -499.989656   \n",
       "2                                 -499.929616   \n",
       "3                                 -499.176749   \n",
       "4                                 -500.279091   \n",
       "\n",
       "   secondary_cleaner.state.floatbank2_b_air  \\\n",
       "0                                 23.893660   \n",
       "1                                 23.889530   \n",
       "2                                 23.886657   \n",
       "3                                 23.955516   \n",
       "4                                 23.955345   \n",
       "\n",
       "   secondary_cleaner.state.floatbank2_b_level  \\\n",
       "0                                 -501.406281   \n",
       "1                                 -500.372428   \n",
       "2                                 -499.951928   \n",
       "3                                 -499.848796   \n",
       "4                                 -500.593614   \n",
       "\n",
       "   secondary_cleaner.state.floatbank3_a_air  \\\n",
       "0                                 23.961798   \n",
       "1                                 23.970550   \n",
       "2                                 23.913535   \n",
       "3                                 23.966838   \n",
       "4                                 23.985703   \n",
       "\n",
       "   secondary_cleaner.state.floatbank3_a_level  \\\n",
       "0                                 -495.262817   \n",
       "1                                 -500.085473   \n",
       "2                                 -499.442343   \n",
       "3                                 -500.008812   \n",
       "4                                 -500.083811   \n",
       "\n",
       "   secondary_cleaner.state.floatbank3_b_air  \\\n",
       "0                                 21.940409   \n",
       "1                                 22.085714   \n",
       "2                                 23.957717   \n",
       "3                                 23.954443   \n",
       "4                                 23.958945   \n",
       "\n",
       "   secondary_cleaner.state.floatbank3_b_level  \\\n",
       "0                                 -499.340973   \n",
       "1                                 -499.446897   \n",
       "2                                 -499.901982   \n",
       "3                                 -499.944710   \n",
       "4                                 -499.990309   \n",
       "\n",
       "   secondary_cleaner.state.floatbank4_a_air  \\\n",
       "0                                 14.016835   \n",
       "1                                 13.992281   \n",
       "2                                 14.015015   \n",
       "3                                 14.036510   \n",
       "4                                 14.027298   \n",
       "\n",
       "   secondary_cleaner.state.floatbank4_a_level  \\\n",
       "0                                 -502.488007   \n",
       "1                                 -505.503262   \n",
       "2                                 -502.520901   \n",
       "3                                 -500.857308   \n",
       "4                                 -499.838632   \n",
       "\n",
       "   secondary_cleaner.state.floatbank4_b_air  \\\n",
       "0                                 12.099931   \n",
       "1                                 11.950531   \n",
       "2                                 11.912783   \n",
       "3                                 11.999550   \n",
       "4                                 11.953070   \n",
       "\n",
       "   secondary_cleaner.state.floatbank4_b_level  \\\n",
       "0                                 -504.715942   \n",
       "1                                 -501.331529   \n",
       "2                                 -501.133383   \n",
       "3                                 -501.193686   \n",
       "4                                 -501.053894   \n",
       "\n",
       "   secondary_cleaner.state.floatbank5_a_air  \\\n",
       "0                                  9.925633   \n",
       "1                                 10.039245   \n",
       "2                                 10.070913   \n",
       "3                                  9.970366   \n",
       "4                                  9.925709   \n",
       "\n",
       "   secondary_cleaner.state.floatbank5_a_level  \\\n",
       "0                                 -498.310211   \n",
       "1                                 -500.169983   \n",
       "2                                 -500.129135   \n",
       "3                                 -499.201640   \n",
       "4                                 -501.686727   \n",
       "\n",
       "   secondary_cleaner.state.floatbank5_b_air  \\\n",
       "0                                  8.079666   \n",
       "1                                  7.984757   \n",
       "2                                  8.013877   \n",
       "3                                  7.977324   \n",
       "4                                  7.894242   \n",
       "\n",
       "   secondary_cleaner.state.floatbank5_b_level  \\\n",
       "0                                 -500.470978   \n",
       "1                                 -500.582168   \n",
       "2                                 -500.517572   \n",
       "3                                 -500.255908   \n",
       "4                                 -500.356035   \n",
       "\n",
       "   secondary_cleaner.state.floatbank6_a_air  \\\n",
       "0                                 14.151341   \n",
       "1                                 13.998353   \n",
       "2                                 14.028663   \n",
       "3                                 14.005551   \n",
       "4                                 13.996647   \n",
       "\n",
       "   secondary_cleaner.state.floatbank6_a_level  \n",
       "0                                 -605.841980  \n",
       "1                                 -599.787184  \n",
       "2                                 -601.427363  \n",
       "3                                 -599.996129  \n",
       "4                                 -601.496691  "
      ]
     },
     "execution_count": 10,
     "metadata": {},
     "output_type": "execute_result"
    }
   ],
   "source": [
    "df_train_cut = df_train.dropna()\n",
    "print('было:', df_train.shape, 'стало:', df_train_cut.shape)\n",
    "df_train_cut.head(5)"
   ]
  },
  {
   "cell_type": "markdown",
   "metadata": {},
   "source": [
    "rougher.output.recovery -  эффективность обогащения для золота после флотации  \n",
    "\n",
    "rougher.output.concentrate_au - С - доля золота после флотации  \n",
    "rougher.input.feed_au - F - доля золота в сырье до флотации  \n",
    "rougher.output.tail_au - T -  доля золота в хвостах после флотации"
   ]
  },
  {
   "cell_type": "code",
   "execution_count": 11,
   "metadata": {},
   "outputs": [
    {
     "data": {
      "text/plain": [
       "0        87.107763\n",
       "1        86.843261\n",
       "2        86.842308\n",
       "3        87.226430\n",
       "4        86.688794\n",
       "           ...    \n",
       "16855    89.574376\n",
       "16856    87.724007\n",
       "16857    88.890579\n",
       "16858    89.858126\n",
       "16859    89.514960\n",
       "Length: 11017, dtype: float64"
      ]
     },
     "execution_count": 11,
     "metadata": {},
     "output_type": "execute_result"
    }
   ],
   "source": [
    "recovery_calc  = calculate_recovery(df_train_cut['rougher.output.concentrate_au'],\n",
    "                                    df_train_cut['rougher.input.feed_au'],\n",
    "                                    df_train_cut['rougher.output.tail_au'])\n",
    "\n",
    "recovery_calc"
   ]
  },
  {
   "cell_type": "markdown",
   "metadata": {},
   "source": [
    "Найдём MAE между полученными расчётами (recovery_calc) и фактическим значением recovery для золота (признак rougher.output.recovery)"
   ]
  },
  {
   "cell_type": "code",
   "execution_count": 12,
   "metadata": {},
   "outputs": [
    {
     "name": "stdout",
     "output_type": "stream",
     "text": [
      "MAE = 0.00000000000000955560\n"
     ]
    }
   ],
   "source": [
    "mae = float(mean_absolute_error(df_train_cut['rougher.output.recovery'], recovery_calc))\n",
    "\n",
    "print('MAE = {:.20f}'.format(mae))"
   ]
  },
  {
   "cell_type": "markdown",
   "metadata": {},
   "source": [
    "Т.к. абсолютная ошибка отклонения близка к нулю, можно сделать вывод о том, что расчетные значения по формуле совпадают с предоставленными данными.\n",
    "\n",
    "### Анализ признаков, недоступных в тестовой выборке\n",
    "\n",
    "Посмотрим на разницу в количестве столбцов:"
   ]
  },
  {
   "cell_type": "code",
   "execution_count": 13,
   "metadata": {},
   "outputs": [
    {
     "name": "stdout",
     "output_type": "stream",
     "text": [
      "train: 87 \n",
      " test: 53\n"
     ]
    }
   ],
   "source": [
    "print('train:', len(df_train.columns), '\\n test:', len(df_test.columns))"
   ]
  },
  {
   "cell_type": "markdown",
   "metadata": {},
   "source": [
    "Видим, что в тренировочном датасете на 34 столбца больше чем в тестовом\n",
    "\n",
    "Выведем массив несовпадающих столбцов.  \n",
    "\n",
    "столбцы, входят в train, но не входят в test:"
   ]
  },
  {
   "cell_type": "code",
   "execution_count": 14,
   "metadata": {},
   "outputs": [
    {
     "data": {
      "text/plain": [
       "Index(['final.output.concentrate_ag', 'final.output.concentrate_pb',\n",
       "       'final.output.concentrate_sol', 'final.output.concentrate_au',\n",
       "       'final.output.recovery', 'final.output.tail_ag', 'final.output.tail_pb',\n",
       "       'final.output.tail_sol', 'final.output.tail_au',\n",
       "       'primary_cleaner.output.concentrate_ag',\n",
       "       'primary_cleaner.output.concentrate_pb',\n",
       "       'primary_cleaner.output.concentrate_sol',\n",
       "       'primary_cleaner.output.concentrate_au',\n",
       "       'primary_cleaner.output.tail_ag', 'primary_cleaner.output.tail_pb',\n",
       "       'primary_cleaner.output.tail_sol', 'primary_cleaner.output.tail_au',\n",
       "       'rougher.calculation.sulfate_to_au_concentrate',\n",
       "       'rougher.calculation.floatbank10_sulfate_to_au_feed',\n",
       "       'rougher.calculation.floatbank11_sulfate_to_au_feed',\n",
       "       'rougher.calculation.au_pb_ratio', 'rougher.output.concentrate_ag',\n",
       "       'rougher.output.concentrate_pb', 'rougher.output.concentrate_sol',\n",
       "       'rougher.output.concentrate_au', 'rougher.output.recovery',\n",
       "       'rougher.output.tail_ag', 'rougher.output.tail_pb',\n",
       "       'rougher.output.tail_sol', 'rougher.output.tail_au',\n",
       "       'secondary_cleaner.output.tail_ag', 'secondary_cleaner.output.tail_pb',\n",
       "       'secondary_cleaner.output.tail_sol',\n",
       "       'secondary_cleaner.output.tail_au'],\n",
       "      dtype='object')"
      ]
     },
     "execution_count": 14,
     "metadata": {},
     "output_type": "execute_result"
    }
   ],
   "source": [
    "df_train.columns[~df_train.columns.isin(df_test.columns)]"
   ]
  },
  {
   "cell_type": "markdown",
   "metadata": {},
   "source": [
    "столбцы, входят в test, но не входят в train:"
   ]
  },
  {
   "cell_type": "code",
   "execution_count": 15,
   "metadata": {},
   "outputs": [
    {
     "data": {
      "text/plain": [
       "Index([], dtype='object')"
      ]
     },
     "execution_count": 15,
     "metadata": {},
     "output_type": "execute_result"
    }
   ],
   "source": [
    "df_test.columns[~df_test.columns.isin(df_train.columns)]"
   ]
  },
  {
   "cell_type": "code",
   "execution_count": 16,
   "metadata": {},
   "outputs": [
    {
     "name": "stdout",
     "output_type": "stream",
     "text": [
      "Количество несовпадающих столбцов: 34\n"
     ]
    }
   ],
   "source": [
    "print('Количество несовпадающих столбцов:', len(df_train.columns[~df_train.columns.isin(df_test.columns)]))"
   ]
  },
  {
   "cell_type": "markdown",
   "metadata": {},
   "source": [
    "столбцы, входят и в test, и в train:"
   ]
  },
  {
   "cell_type": "code",
   "execution_count": 17,
   "metadata": {},
   "outputs": [
    {
     "data": {
      "text/plain": [
       "Index(['date', 'primary_cleaner.input.sulfate',\n",
       "       'primary_cleaner.input.depressant', 'primary_cleaner.input.feed_size',\n",
       "       'primary_cleaner.input.xanthate',\n",
       "       'primary_cleaner.state.floatbank8_a_air',\n",
       "       'primary_cleaner.state.floatbank8_a_level',\n",
       "       'primary_cleaner.state.floatbank8_b_air',\n",
       "       'primary_cleaner.state.floatbank8_b_level',\n",
       "       'primary_cleaner.state.floatbank8_c_air',\n",
       "       'primary_cleaner.state.floatbank8_c_level',\n",
       "       'primary_cleaner.state.floatbank8_d_air',\n",
       "       'primary_cleaner.state.floatbank8_d_level', 'rougher.input.feed_ag',\n",
       "       'rougher.input.feed_pb', 'rougher.input.feed_rate',\n",
       "       'rougher.input.feed_size', 'rougher.input.feed_sol',\n",
       "       'rougher.input.feed_au', 'rougher.input.floatbank10_sulfate',\n",
       "       'rougher.input.floatbank10_xanthate',\n",
       "       'rougher.input.floatbank11_sulfate',\n",
       "       'rougher.input.floatbank11_xanthate', 'rougher.state.floatbank10_a_air',\n",
       "       'rougher.state.floatbank10_a_level', 'rougher.state.floatbank10_b_air',\n",
       "       'rougher.state.floatbank10_b_level', 'rougher.state.floatbank10_c_air',\n",
       "       'rougher.state.floatbank10_c_level', 'rougher.state.floatbank10_d_air',\n",
       "       'rougher.state.floatbank10_d_level', 'rougher.state.floatbank10_e_air',\n",
       "       'rougher.state.floatbank10_e_level', 'rougher.state.floatbank10_f_air',\n",
       "       'rougher.state.floatbank10_f_level',\n",
       "       'secondary_cleaner.state.floatbank2_a_air',\n",
       "       'secondary_cleaner.state.floatbank2_a_level',\n",
       "       'secondary_cleaner.state.floatbank2_b_air',\n",
       "       'secondary_cleaner.state.floatbank2_b_level',\n",
       "       'secondary_cleaner.state.floatbank3_a_air',\n",
       "       'secondary_cleaner.state.floatbank3_a_level',\n",
       "       'secondary_cleaner.state.floatbank3_b_air',\n",
       "       'secondary_cleaner.state.floatbank3_b_level',\n",
       "       'secondary_cleaner.state.floatbank4_a_air',\n",
       "       'secondary_cleaner.state.floatbank4_a_level',\n",
       "       'secondary_cleaner.state.floatbank4_b_air',\n",
       "       'secondary_cleaner.state.floatbank4_b_level',\n",
       "       'secondary_cleaner.state.floatbank5_a_air',\n",
       "       'secondary_cleaner.state.floatbank5_a_level',\n",
       "       'secondary_cleaner.state.floatbank5_b_air',\n",
       "       'secondary_cleaner.state.floatbank5_b_level',\n",
       "       'secondary_cleaner.state.floatbank6_a_air',\n",
       "       'secondary_cleaner.state.floatbank6_a_level'],\n",
       "      dtype='object')"
      ]
     },
     "execution_count": 17,
     "metadata": {},
     "output_type": "execute_result"
    }
   ],
   "source": [
    "df_train.columns[df_train.columns.isin(df_test.columns)]"
   ]
  },
  {
   "cell_type": "code",
   "execution_count": 18,
   "metadata": {},
   "outputs": [
    {
     "name": "stdout",
     "output_type": "stream",
     "text": [
      "Количество совпадающих столбцов: 53\n"
     ]
    }
   ],
   "source": [
    "print('Количество совпадающих столбцов:', len(df_train.columns[df_train.columns.isin(df_test.columns)]))"
   ]
  },
  {
   "cell_type": "markdown",
   "metadata": {},
   "source": [
    "По распечатанным данным видим, что тренировочный датасет включает все признаки содержащиеся в тестовом.   \n",
    "\n",
    "Однако тестовый датасет, при этом, не включает параметры состояния технологического процесса:  \n",
    "* параметры типа output которые измеряются уже после завершения технологического этапа: концентрация элементов в продукте и отвалах,   \n",
    "* а также параметры типа calculation, которые являются расчётными характеристиками на основе входных данных.\n",
    "\n",
    "Эти параметры недоступны в test выборке, т.к. их невозможно получить/измерить во время выполнения технологического процесса. \n",
    "\n",
    "### Предобработка данных"
   ]
  },
  {
   "cell_type": "markdown",
   "metadata": {},
   "source": [
    "Посмотрим, как разделены во времени тренировочная и тестовая выборки.  \n",
    "Для начала разметим исходные данные (выборка full) на тренировочную и тестовую выборки."
   ]
  },
  {
   "cell_type": "code",
   "execution_count": 19,
   "metadata": {},
   "outputs": [
    {
     "data": {
      "text/plain": [
       "df_train    16860\n",
       "df_test      5856\n",
       "Name: sample, dtype: int64"
      ]
     },
     "execution_count": 19,
     "metadata": {},
     "output_type": "execute_result"
    }
   ],
   "source": [
    "df_full['sample'] = 'df_test'\n",
    "df_full['sample'] = df_full['sample'].where(df_full['date'].isin(df_test['date']), 'df_train')\n",
    "\n",
    "df_full['sample'].value_counts()"
   ]
  },
  {
   "cell_type": "markdown",
   "metadata": {},
   "source": [
    "т.к. в тестовом датасете целевые переменные отсутствуют, необходимо их восстановить по датам из полного датасета:"
   ]
  },
  {
   "cell_type": "code",
   "execution_count": 20,
   "metadata": {},
   "outputs": [],
   "source": [
    "# Когда даты были сделаны индексами:\n",
    "\n",
    "# df_test['rougher.output.recovery'] = df_full.loc[df_full.index, 'rougher.output.recovery']\n",
    "# df_test['final.output.recovery'] = df_full.loc[df_full.index, 'final.output.recovery']\n",
    "\n",
    "# df_test.head()"
   ]
  },
  {
   "cell_type": "markdown",
   "metadata": {},
   "source": [
    "Посмотрим на различия в столбцах трейна и теста:"
   ]
  },
  {
   "cell_type": "code",
   "execution_count": 21,
   "metadata": {},
   "outputs": [
    {
     "data": {
      "text/plain": [
       "34"
      ]
     },
     "execution_count": 21,
     "metadata": {},
     "output_type": "execute_result"
    }
   ],
   "source": [
    "different_columns = df_train.columns[~df_train.columns.isin(df_test.columns)]\n",
    "\n",
    "len(different_columns)"
   ]
  },
  {
   "cell_type": "code",
   "execution_count": 22,
   "metadata": {},
   "outputs": [
    {
     "name": "stdout",
     "output_type": "stream",
     "text": [
      "Размерность train: (16860, 87) \n",
      "Размерность test: (5856, 53)\n"
     ]
    }
   ],
   "source": [
    "print('Размерность train:', df_train.shape, \n",
    "      '\\nРазмерность test:', df_test.shape)"
   ]
  },
  {
   "cell_type": "markdown",
   "metadata": {},
   "source": [
    "Посмотрим на количество пропусков в таблицах:"
   ]
  },
  {
   "cell_type": "code",
   "execution_count": 23,
   "metadata": {},
   "outputs": [
    {
     "name": "stdout",
     "output_type": "stream",
     "text": [
      "Пропусков в train: 30320 \n",
      "Пропусков в test: 2360 \n",
      "Пропусков в full: 36587\n"
     ]
    }
   ],
   "source": [
    "print('Пропусков в train:', df_train.isna().sum().sum(), \n",
    "      '\\nПропусков в test:', df_test.isna().sum().sum(),\n",
    "      '\\nПропусков в full:', df_full.isna().sum().sum())"
   ]
  },
  {
   "cell_type": "markdown",
   "metadata": {},
   "source": [
    "Удалим строки с пропущенными значениями,  \n",
    "зодно с этим избавимся от лишних столбцов в тренировочной выборке:  \n",
    "(удалим из train столбцы, отсутствующие в test)"
   ]
  },
  {
   "cell_type": "code",
   "execution_count": 24,
   "metadata": {},
   "outputs": [
    {
     "name": "stdout",
     "output_type": "stream",
     "text": [
      "Пропусков в train: 0 \n",
      "Пропусков в test: 0\n",
      "Размерность train: (12679, 55) \n",
      "Размерность test: (5383, 53)\n"
     ]
    }
   ],
   "source": [
    "# df_train = df_train.dropna(subset=['rougher.output.recovery', 'final.output.recovery'])\n",
    "# df_test = df_test.dropna(subset=['rougher.output.recovery', 'final.output.recovery'])\n",
    "# df_full = df_full.dropna(subset=['rougher.output.recovery', 'final.output.recovery'])\n",
    "\n",
    "train_cols = list(df_test.columns) + ['final.output.recovery', 'rougher.output.recovery']\n",
    "\n",
    "df_train = df_train[train_cols].dropna()\n",
    "df_test = df_test.dropna()\n",
    "\n",
    "print('Пропусков в train:', df_train.isna().sum().sum(), \n",
    "      '\\nПропусков в test:', df_test.isna().sum().sum())\n",
    "\n",
    "print('Размерность train:', df_train.shape, \n",
    "      '\\nРазмерность test:', df_test.shape)"
   ]
  },
  {
   "cell_type": "markdown",
   "metadata": {},
   "source": [
    "Теперь пропуски не помешают нам при анализе и моделировании "
   ]
  },
  {
   "cell_type": "markdown",
   "metadata": {},
   "source": [
    "## Анализ данных\n",
    "\n",
    "### Динамика концентрации металлов на разных этапах очистки\n",
    "Посмотрим, как меняется концентрация металлов (Au, Ag, Pb) на различных этапах очистки.  \n",
    "Для этого возьмем данные из изначального полного датафрейма: df_full\n",
    "\n",
    "#### Au (золото)\n",
    "Построение распределения концентраций Au"
   ]
  },
  {
   "cell_type": "code",
   "execution_count": 25,
   "metadata": {},
   "outputs": [
    {
     "data": {
      "image/png": "[encoded data removed]",
      "text/plain": [
       "<Figure size 1080x360 with 1 Axes>"
      ]
     },
     "metadata": {
      "needs_background": "light"
     },
     "output_type": "display_data"
    }
   ],
   "source": [
    "fig, ax = plt.subplots()\n",
    "df_full['rougher.output.concentrate_au'].plot(kind ='kde', figsize = (15,5), linewidth = 2)\n",
    "df_full['primary_cleaner.output.concentrate_au'].plot(kind ='kde', linewidth = 2)\n",
    "#df_full['secondary_cleaner.output.concentrate_au'].plot(kind ='kde', linewidth = 2)\n",
    "df_full['final.output.concentrate_au'].plot(kind ='kde', linewidth = 2)\n",
    "\n",
    "ax.minorticks_on()\n",
    "ax.grid(which='major',\n",
    "        linewidth = 1)\n",
    "ax.grid(which='minor', \n",
    "        linestyle = ':')\n",
    "plt.legend()\n",
    "plt.xlim(-3,55)\n",
    "plt.show()\n",
    "plt.show()"
   ]
  },
  {
   "cell_type": "markdown",
   "metadata": {},
   "source": [
    "Распределение концентраций Au в хвостах"
   ]
  },
  {
   "cell_type": "code",
   "execution_count": 26,
   "metadata": {},
   "outputs": [
    {
     "data": {
      "image/png": "[encoded data removed]",
      "text/plain": [
       "<Figure size 1080x360 with 1 Axes>"
      ]
     },
     "metadata": {
      "needs_background": "light"
     },
     "output_type": "display_data"
    }
   ],
   "source": [
    "fig, ax = plt.subplots()\n",
    "\n",
    "df_full['rougher.output.tail_au'].plot(kind ='kde', figsize= (15,5), linewidth = 2)\n",
    "df_full['primary_cleaner.output.tail_au'].plot(kind ='kde', linewidth = 2) \n",
    "df_full['secondary_cleaner.output.tail_au'].plot(kind ='kde', linewidth = 2)\n",
    "df_full['final.output.tail_au'].plot(kind ='kde', linewidth = 2)\n",
    "\n",
    "ax.minorticks_on()\n",
    "ax.grid(which='major',\n",
    "        linewidth = 1)\n",
    "ax.grid(which='minor',  \n",
    "        linestyle = ':')\n",
    "plt.legend()\n",
    "plt.xlim(-2,8)\n",
    "plt.show()\n",
    "plt.show()"
   ]
  },
  {
   "cell_type": "markdown",
   "metadata": {},
   "source": [
    "**Вывод**  \n",
    "Концентрация Au и концентрация Au отвала на каждом этапе технологического процесса увеличивается.\n",
    "\n",
    "На обоих графиках наблюдаются аномальные значения около нуля, которые могут быть связаны с недополучением данных от приборов или с остановкой произвоства.\n",
    "\n",
    "#### Ag (серебро)\n",
    "Построение распределения концентраций Ag"
   ]
  },
  {
   "cell_type": "code",
   "execution_count": 27,
   "metadata": {},
   "outputs": [
    {
     "data": {
      "image/png": "[encoded data removed]",
      "text/plain": [
       "<Figure size 1080x360 with 1 Axes>"
      ]
     },
     "metadata": {
      "needs_background": "light"
     },
     "output_type": "display_data"
    }
   ],
   "source": [
    "fig, ax = plt.subplots()\n",
    "df_full['rougher.output.concentrate_ag'].plot(kind ='kde', figsize = (15,5), linewidth = 2)\n",
    "df_full['primary_cleaner.output.concentrate_ag'].plot(kind ='kde', linewidth = 2)\n",
    "#df_full['secondary_cleaner.output.concentrate_ag'].plot(kind ='kde', linewidth = 2)\n",
    "df_full['final.output.concentrate_ag'].plot(kind ='kde', linewidth = 2)\n",
    "\n",
    "ax.minorticks_on()\n",
    "ax.grid(which='major',\n",
    "        linewidth = 1)\n",
    "ax.grid(which='minor', \n",
    "        linestyle = ':')\n",
    "plt.legend()\n",
    "plt.xlim(-3,20)\n",
    "plt.show()\n",
    "plt.show()"
   ]
  },
  {
   "cell_type": "markdown",
   "metadata": {},
   "source": [
    "Распределение концентраций Ag в хвостах"
   ]
  },
  {
   "cell_type": "code",
   "execution_count": 28,
   "metadata": {},
   "outputs": [
    {
     "data": {
      "image/png": "[encoded data removed]",
      "text/plain": [
       "<Figure size 1080x360 with 1 Axes>"
      ]
     },
     "metadata": {
      "needs_background": "light"
     },
     "output_type": "display_data"
    }
   ],
   "source": [
    "fig, ax = plt.subplots()\n",
    "\n",
    "df_full['rougher.output.tail_ag'].plot(kind ='kde', figsize= (15,5), linewidth = 2)\n",
    "df_full['primary_cleaner.output.tail_ag'].plot(kind ='kde', linewidth = 2) \n",
    "df_full['secondary_cleaner.output.tail_ag'].plot(kind ='kde', linewidth = 2)\n",
    "df_full['final.output.tail_ag'].plot(kind ='kde', linewidth = 2)\n",
    "\n",
    "ax.minorticks_on()\n",
    "ax.grid(which='major',\n",
    "        linewidth = 1)\n",
    "ax.grid(which='minor',  \n",
    "        linestyle = ':')\n",
    "plt.legend()\n",
    "plt.xlim(-3,25)\n",
    "plt.show()\n",
    "plt.show()"
   ]
  },
  {
   "cell_type": "markdown",
   "metadata": {},
   "source": [
    "**Вывод**  \n",
    "Концентрация Ag на каждом этапе технологического процесса уменьшается.  \n",
    "\n",
    "Концентрация отвала Ag на каждом этапе технологического процесса увеличивается. \n",
    "\n",
    "На обоих графиках наблюдаются аномальные значения около нуля, которые могут быть связаны с недополучением данных от приборов или с остановкой произвоства.\n",
    "\n",
    "#### Pb (свинец)\n",
    "Построение распределения концентраций Pb"
   ]
  },
  {
   "cell_type": "code",
   "execution_count": 29,
   "metadata": {},
   "outputs": [
    {
     "data": {
      "image/png": "[encoded data removed]",
      "text/plain": [
       "<Figure size 1080x360 with 1 Axes>"
      ]
     },
     "metadata": {
      "needs_background": "light"
     },
     "output_type": "display_data"
    }
   ],
   "source": [
    "fig, ax = plt.subplots()\n",
    "df_full['rougher.output.concentrate_pb'].plot(kind ='kde', figsize = (15,5), linewidth = 2)\n",
    "df_full['primary_cleaner.output.concentrate_pb'].plot(kind ='kde', linewidth = 2)\n",
    "#df_full['secondary_cleaner.output.concentrate_pb'].plot(kind ='kde', linewidth = 2)\n",
    "df_full['final.output.concentrate_pb'].plot(kind ='kde', linewidth = 2)\n",
    "\n",
    "ax.minorticks_on()\n",
    "ax.grid(which='major', \n",
    "        linewidth = 1)\n",
    "ax.grid(which='minor', \n",
    "        linestyle = ':')\n",
    "plt.legend()\n",
    "plt.xlim(-3,18)\n",
    "plt.show()\n",
    "plt.show()"
   ]
  },
  {
   "cell_type": "markdown",
   "metadata": {},
   "source": [
    "Распределение концентраций Pb в хвостах"
   ]
  },
  {
   "cell_type": "code",
   "execution_count": 30,
   "metadata": {},
   "outputs": [
    {
     "data": {
      "image/png": "[encoded data removed]",
      "text/plain": [
       "<Figure size 1080x360 with 1 Axes>"
      ]
     },
     "metadata": {
      "needs_background": "light"
     },
     "output_type": "display_data"
    }
   ],
   "source": [
    "fig, ax = plt.subplots()\n",
    "\n",
    "df_full['rougher.output.tail_pb'].plot(kind ='kde', figsize= (15,5), linewidth = 2)\n",
    "df_full['primary_cleaner.output.tail_pb'].plot(kind ='kde', linewidth = 2) \n",
    "df_full['secondary_cleaner.output.tail_pb'].plot(kind ='kde', linewidth = 2)\n",
    "df_full['final.output.tail_pb'].plot(kind ='kde', linewidth = 2)\n",
    "\n",
    "ax.minorticks_on()\n",
    "ax.grid(which='major',\n",
    "        linewidth = 1)\n",
    "ax.grid(which='minor', \n",
    "        linestyle = ':')\n",
    "plt.legend()\n",
    "plt.xlim(-1,6)\n",
    "plt.show()\n",
    "plt.show()"
   ]
  },
  {
   "cell_type": "markdown",
   "metadata": {},
   "source": [
    "**Вывод**  \n",
    "Концентрация Pb на каждом этапе технологического процесса уменьшается.\n",
    "\n",
    "Концентрация отвала Pb на каждом этапе технологического процесса увеличивается. \n",
    "\n",
    "Наблюдаются аномальные значения около нуля, которые могут быть связаны с недополучением данных от приборов или остановкой производства. Этот процесс свидетельствует о рассеянии концентраций Pb. "
   ]
  },
  {
   "cell_type": "markdown",
   "metadata": {},
   "source": [
    "### Распределения размеров гранул сырья в test и train\n",
    "Сравним распределения размеров гранул сырья на обучающей и тестовой выборках. "
   ]
  },
  {
   "cell_type": "code",
   "execution_count": 31,
   "metadata": {},
   "outputs": [],
   "source": [
    "x = df_train['rougher.input.feed_size'].copy()\n",
    "y = df_test['rougher.input.feed_size'].copy()"
   ]
  },
  {
   "cell_type": "markdown",
   "metadata": {},
   "source": [
    "Проверим принадлежат ли две выборки ген совокупностям с равными дисперсиями:\n",
    "\n",
    "Нам поможет тест Барлетта, который проверяет нулевую гипотезу о том, что все входные выборки взяты из популяций с равной дисперсией при незначительных отклонениях:"
   ]
  },
  {
   "cell_type": "code",
   "execution_count": 32,
   "metadata": {},
   "outputs": [
    {
     "name": "stdout",
     "output_type": "stream",
     "text": [
      "p-значение: 7.0328861446538615e-09\n",
      "Отвергаем нулевую гипотезу: дисперсия ген совокупностей двух выборок разная\n"
     ]
    }
   ],
   "source": [
    "from scipy.stats import bartlett\n",
    "\n",
    "stat, p = bartlett(x, y)\n",
    "\n",
    "alpha = 0.05\n",
    "\n",
    "print('p-значение:', p)\n",
    "\n",
    "if (p < alpha):\n",
    "    print(\"Отвергаем нулевую гипотезу: дисперсия ген совокупностей двух выборок разная\")\n",
    "else:\n",
    "    print(\"Не получилось отвергнуть нулевую гипотезу: дисперсия двух выборок равная\")"
   ]
  },
  {
   "cell_type": "markdown",
   "metadata": {},
   "source": [
    "Используем median_test для проверки нулевой гипотезы о равенстве медиан генеральных совокупностей, из которых произошли рассматриваемые нами выборки:"
   ]
  },
  {
   "cell_type": "code",
   "execution_count": 33,
   "metadata": {},
   "outputs": [
    {
     "name": "stdout",
     "output_type": "stream",
     "text": [
      "p-значение:  6.369872225981563e-24 \n",
      "бОльшая медиана: 54.066002564546224\n",
      "Отвергаем нулевую гипотезу: медианы ген совокупностей двух выборок разные\n"
     ]
    }
   ],
   "source": [
    "stat, p_2, med, tbl = median_test(x, y)\n",
    "\n",
    "print('p-значение: ', p_2, \n",
    "      '\\nбОльшая медиана:', med)\n",
    "\n",
    "if (p_2 < alpha):\n",
    "    print(\"Отвергаем нулевую гипотезу: медианы ген совокупностей двух выборок разные\")\n",
    "else:\n",
    "    print(\"Не получилось отвергнуть нулевую гипотезу: дисперсия двух выборок равная\")"
   ]
  },
  {
   "cell_type": "markdown",
   "metadata": {},
   "source": [
    "Используем t test для проверки нулевой гипотезы о равенстве средних двух генеральных совокупностей, из которых произошли рассматриваемые нами выборки (equal_var установим False, т.к. мы уже выяснили что дисперсии не одинаковы):"
   ]
  },
  {
   "cell_type": "code",
   "execution_count": 34,
   "metadata": {},
   "outputs": [
    {
     "name": "stdout",
     "output_type": "stream",
     "text": [
      "p-значение: 2.706127459480888e-09\n",
      "Отвергаем нулевую гипотезу: cредние ген совокупностей двух выборок разные\n"
     ]
    }
   ],
   "source": [
    "res = ttest_ind(x, y, equal_var = False)\n",
    "\n",
    "print('p-значение:', res.pvalue)\n",
    "\n",
    "if (res.pvalue < alpha):\n",
    "    print(\"Отвергаем нулевую гипотезу: cредние ген совокупностей двух выборок разные\")\n",
    "else:\n",
    "    print(\"Не получилось отвергнуть нулевую гипотезу: дисперсия ген совокупностей двух выборок равная\")"
   ]
  },
  {
   "cell_type": "markdown",
   "metadata": {},
   "source": [
    "Посмотрим визуально, для этого построим графики распределения x и y:"
   ]
  },
  {
   "cell_type": "code",
   "execution_count": 35,
   "metadata": {},
   "outputs": [
    {
     "data": {
      "image/png": "[encoded data removed]",
      "text/plain": [
       "<Figure size 1080x360 with 1 Axes>"
      ]
     },
     "metadata": {
      "needs_background": "light"
     },
     "output_type": "display_data"
    }
   ],
   "source": [
    "fig, ax = plt.subplots()\n",
    "\n",
    "x.plot(kind = 'kde', figsize = (15,5), label = 'size train')\n",
    "y.plot(kind = 'kde', label = 'size test')\n",
    "\n",
    "ax.minorticks_on()\n",
    "ax.grid(which='major',\n",
    "        linewidth = 2)\n",
    "ax.grid(which='minor', \n",
    "        linestyle = ':')\n",
    "\n",
    "plt.legend()\n",
    "plt.xlim(20,100)\n",
    "\n",
    "plt.show()"
   ]
  },
  {
   "cell_type": "markdown",
   "metadata": {},
   "source": [
    "**Вывод**  \n",
    "Значение размера гранул в test и train различается меньше чем на 5 %,  \n",
    "что является незначительной разницей и не должно негативно повлиять на результаты оценки модели\n",
    "\n",
    "### Исследование суммарной концентрации всех веществ на разных стадиях\n",
    "#### Исследуем суммарную концентрацию всех веществ на разных стадиях:  \n",
    "* в сырье (raw)\n",
    "* в черновом концентрате (rougher)\n",
    "* в финальном концентрате (final)\n",
    "\n",
    "\n",
    "1. Сумма концентраций всех веществ:"
   ]
  },
  {
   "cell_type": "code",
   "execution_count": 36,
   "metadata": {},
   "outputs": [],
   "source": [
    "raw_concentrate = (df_full['rougher.input.feed_ag'] + df_full['rougher.input.feed_pb'] + \n",
    "                   df_full['rougher.input.feed_sol'] + df_full['rougher.input.feed_au'])\n",
    "\n",
    "rougher_concentrate = (df_full['rougher.output.concentrate_ag'] + df_full['rougher.output.concentrate_pb'] + \n",
    "                       df_full['rougher.output.concentrate_sol'] + df_full['rougher.output.concentrate_au'])\n",
    "\n",
    "final_concentrate = (df_full['final.output.concentrate_ag'] + df_full['final.output.concentrate_pb'] + \n",
    "                     df_full['final.output.concentrate_sol']  + df_full[ 'final.output.concentrate_au'])\n"
   ]
  },
  {
   "cell_type": "markdown",
   "metadata": {},
   "source": [
    "2. Сумма концентраций отвала всех веществ:"
   ]
  },
  {
   "cell_type": "code",
   "execution_count": 37,
   "metadata": {},
   "outputs": [],
   "source": [
    "rougher_tail= (df_full['rougher.output.tail_ag'] + df_full['rougher.output.tail_pb'] + \n",
    "               df_full['rougher.output.tail_sol'] + df_full['rougher.output.tail_au'])\n",
    "\n",
    "final_tail = (df_full['final.output.tail_ag'] + df_full['final.output.tail_pb'] +\n",
    "              df_full['final.output.tail_sol'] + df_full['final.output.tail_au'])"
   ]
  },
  {
   "cell_type": "markdown",
   "metadata": {},
   "source": [
    "График концентраций веществ на разных стадиях:"
   ]
  },
  {
   "cell_type": "code",
   "execution_count": 38,
   "metadata": {},
   "outputs": [
    {
     "data": {
      "image/png": "[encoded data removed]",
      "text/plain": [
       "<Figure size 1080x360 with 1 Axes>"
      ]
     },
     "metadata": {
      "needs_background": "light"
     },
     "output_type": "display_data"
    }
   ],
   "source": [
    "fig, ax = plt.subplots()\n",
    "\n",
    "raw_concentrate.plot(kind = 'kde', figsize = (15,5), label = 'raw concentrate')\n",
    "rougher_concentrate.plot(kind = 'kde', label = 'rougher concentrate')\n",
    "final_concentrate.plot(kind = 'kde', label = 'final concentrate')\n",
    "\n",
    "ax.minorticks_on()\n",
    "ax.grid(which='major', \n",
    "        linewidth = 1)\n",
    "ax.grid(which='minor', \n",
    "        linestyle = ':')\n",
    "plt.legend()\n",
    "plt.xlim(-10,100)\n",
    "\n",
    "plt.show()"
   ]
  },
  {
   "cell_type": "markdown",
   "metadata": {},
   "source": [
    "Наблюдается наличие аномальных значений (около нуля).\n",
    "\n",
    "Избавимся от аномалий и построим график без них:"
   ]
  },
  {
   "cell_type": "code",
   "execution_count": 39,
   "metadata": {},
   "outputs": [],
   "source": [
    "raw_concentrate_normalize = raw_concentrate[raw_concentrate > 1]\n",
    "rougher_concentrate_normalize = rougher_concentrate[rougher_concentrate > 1]\n",
    "final_concentrate_normalize = final_concentrate[final_concentrate > 1]"
   ]
  },
  {
   "cell_type": "code",
   "execution_count": 40,
   "metadata": {},
   "outputs": [
    {
     "data": {
      "image/png": "[encoded data removed]",
      "text/plain": [
       "<Figure size 1080x360 with 1 Axes>"
      ]
     },
     "metadata": {
      "needs_background": "light"
     },
     "output_type": "display_data"
    }
   ],
   "source": [
    "fig, ax = plt.subplots()\n",
    "\n",
    "raw_concentrate_normalize.plot(kind = 'kde', figsize = (15,5), label = 'raw concentrate')\n",
    "rougher_concentrate_normalize.plot(kind = 'kde', label = 'rougher concentrate')\n",
    "final_concentrate_normalize.plot(kind = 'kde', label = 'final concentrate')\n",
    "\n",
    "ax.minorticks_on()\n",
    "ax.grid(which='major',\n",
    "        linewidth = 1)\n",
    "ax.grid(which='minor', \n",
    "        linestyle = ':')\n",
    "plt.legend()\n",
    "plt.xlim(30,90)\n",
    "\n",
    "plt.show()"
   ]
  },
  {
   "cell_type": "code",
   "execution_count": 41,
   "metadata": {},
   "outputs": [],
   "source": [
    "df_full['sample'] = 'df_test'\n",
    "df_full['sample'] = df_full['sample'].where(df_full['date'].isin(df_test['date']), 'df_train')"
   ]
  },
  {
   "cell_type": "code",
   "execution_count": 42,
   "metadata": {},
   "outputs": [
    {
     "data": {
      "text/plain": [
       "df_train    17333\n",
       "df_test      5383\n",
       "Name: sample, dtype: int64"
      ]
     },
     "execution_count": 42,
     "metadata": {},
     "output_type": "execute_result"
    }
   ],
   "source": [
    "df_full['sample'].value_counts()"
   ]
  },
  {
   "cell_type": "code",
   "execution_count": 43,
   "metadata": {},
   "outputs": [
    {
     "data": {
      "text/plain": [
       "(12679, 55)"
      ]
     },
     "execution_count": 43,
     "metadata": {},
     "output_type": "execute_result"
    }
   ],
   "source": [
    "df_train.shape"
   ]
  },
  {
   "cell_type": "code",
   "execution_count": 44,
   "metadata": {},
   "outputs": [
    {
     "data": {
      "text/plain": [
       "(12679, 55)"
      ]
     },
     "execution_count": 44,
     "metadata": {},
     "output_type": "execute_result"
    }
   ],
   "source": [
    "df_train = df_train[df_train['date'].isin(df_full[df_full['sample'] == 'df_train']['date'])]\n",
    "df_train.shape"
   ]
  },
  {
   "cell_type": "code",
   "execution_count": 45,
   "metadata": {},
   "outputs": [
    {
     "data": {
      "text/plain": [
       "(5383, 53)"
      ]
     },
     "execution_count": 45,
     "metadata": {},
     "output_type": "execute_result"
    }
   ],
   "source": [
    "df_test.shape"
   ]
  },
  {
   "cell_type": "code",
   "execution_count": 46,
   "metadata": {},
   "outputs": [
    {
     "data": {
      "text/plain": [
       "(5383, 53)"
      ]
     },
     "execution_count": 46,
     "metadata": {},
     "output_type": "execute_result"
    }
   ],
   "source": [
    "df_test = df_test[df_test['date'].isin(df_full[df_full['sample'] == 'df_test']['date'])]\n",
    "df_test.shape"
   ]
  },
  {
   "cell_type": "markdown",
   "metadata": {},
   "source": [
    "#### Аномалии\n",
    "\n",
    "У нас присутствуют аномальные значения около нуля. Но наша цель - научить модель предсказывать, используя реальные данные на входе. Выбросы как часть реальности и нам будет важно, чтобы модель смогла их тоже взять в учет и как-то обработать и показать результат.\n",
    "\n",
    "Избавимся от выбросов и аномалий в рамках эксперимента:"
   ]
  },
  {
   "cell_type": "code",
   "execution_count": 47,
   "metadata": {},
   "outputs": [
    {
     "name": "stdout",
     "output_type": "stream",
     "text": [
      "(22716, 88)\n",
      "(12679, 55)\n",
      "(5383, 53)\n"
     ]
    }
   ],
   "source": [
    "print(df_full.shape)\n",
    "print(df_train.shape)\n",
    "print(df_test.shape)"
   ]
  },
  {
   "cell_type": "markdown",
   "metadata": {},
   "source": [
    "Удалим выбросы в размерах гранул сырья:"
   ]
  },
  {
   "cell_type": "code",
   "execution_count": 48,
   "metadata": {},
   "outputs": [],
   "source": [
    "df_train = df_train[(df_train['rougher.input.feed_size'] > 20) & (df_train['rougher.input.feed_size'] < 100)]\n",
    "df_test = df_test[(df_test['rougher.input.feed_size'] > 20) & (df_test['rougher.input.feed_size'] < 100)]"
   ]
  },
  {
   "cell_type": "code",
   "execution_count": 49,
   "metadata": {},
   "outputs": [
    {
     "name": "stdout",
     "output_type": "stream",
     "text": [
      "(22716, 88)\n",
      "(12543, 55)\n",
      "(5282, 53)\n"
     ]
    }
   ],
   "source": [
    "print(df_full.shape)\n",
    "print(df_train.shape)\n",
    "print(df_test.shape)"
   ]
  },
  {
   "cell_type": "code",
   "execution_count": 50,
   "metadata": {},
   "outputs": [],
   "source": [
    "# Расчёт суммарной концентрации на каждом этапе\n",
    "\n",
    "df_full['rougher.input.concentrate_sum'] = (df_full['rougher.input.feed_au'] + \n",
    "                                         df_full['rougher.input.feed_ag'] + \n",
    "                                         df_full['rougher.input.feed_pb'] + \n",
    "                                         df_full['rougher.input.feed_sol'])\n",
    "\n",
    "df_full['rougher.output.concentrate_sum'] = (df_full['rougher.output.concentrate_au'] + \n",
    "                                          df_full['rougher.output.concentrate_ag'] + \n",
    "                                          df_full['rougher.output.concentrate_pb'] + \n",
    "                                          df_full['rougher.output.concentrate_sol'])\n",
    "\n",
    "df_full['primary_cleaner.output.concentrate_sum'] = (df_full['primary_cleaner.output.concentrate_au'] + \n",
    "                                                  df_full['primary_cleaner.output.concentrate_ag'] +\n",
    "                                                  df_full['primary_cleaner.output.concentrate_pb'] +\n",
    "                                                  df_full['primary_cleaner.output.concentrate_sol'])\n",
    "\n",
    "df_full['final.output.concentrate_sum'] = (df_full['final.output.concentrate_au'] +\n",
    "                                        df_full['final.output.concentrate_ag'] + \n",
    "                                        df_full['final.output.concentrate_pb'] + \n",
    "                                        df_full['final.output.concentrate_sol'])"
   ]
  },
  {
   "cell_type": "markdown",
   "metadata": {},
   "source": [
    "Удалим выбросы в суммарной концентрации:"
   ]
  },
  {
   "cell_type": "code",
   "execution_count": 51,
   "metadata": {},
   "outputs": [
    {
     "name": "stdout",
     "output_type": "stream",
     "text": [
      "(20302, 92)\n",
      "(19700, 92)\n",
      "(18945, 92)\n",
      "(18652, 92)\n"
     ]
    }
   ],
   "source": [
    "sum_concentrate_list = ['rougher.input.concentrate_sum', \n",
    "                        'rougher.output.concentrate_sum', \n",
    "                        'primary_cleaner.output.concentrate_sum', \n",
    "                        'final.output.concentrate_sum']\n",
    "for col in sum_concentrate_list:\n",
    "    df_full = df_full[df_full[col] > 10]\n",
    "    print(df_full.shape)"
   ]
  },
  {
   "cell_type": "code",
   "execution_count": 52,
   "metadata": {},
   "outputs": [
    {
     "name": "stdout",
     "output_type": "stream",
     "text": [
      "(18652, 92)\n",
      "(12543, 55)\n",
      "(5282, 53)\n"
     ]
    }
   ],
   "source": [
    "print(df_full.shape)\n",
    "print(df_train.shape)\n",
    "print(df_test.shape)"
   ]
  },
  {
   "cell_type": "code",
   "execution_count": 53,
   "metadata": {},
   "outputs": [
    {
     "data": {
      "text/plain": [
       "(11794, 55)"
      ]
     },
     "execution_count": 53,
     "metadata": {},
     "output_type": "execute_result"
    }
   ],
   "source": [
    "df_train = df_train[df_train['date'].isin(df_full[df_full['sample'] == 'df_train']['date'])]\n",
    "df_train.shape"
   ]
  },
  {
   "cell_type": "code",
   "execution_count": 54,
   "metadata": {},
   "outputs": [
    {
     "data": {
      "text/plain": [
       "(5015, 53)"
      ]
     },
     "execution_count": 54,
     "metadata": {},
     "output_type": "execute_result"
    }
   ],
   "source": [
    "df_test = df_test[df_test['date'].isin(df_full[df_full['sample'] == 'df_test']['date'])]\n",
    "df_test.shape"
   ]
  },
  {
   "cell_type": "markdown",
   "metadata": {},
   "source": [
    "**Вывод**  \n",
    "Значение концентраций веществ на начальном этапе меньше чем после флотации и финальной концентрации.  \n",
    "В финальном этапе распределение стремится к нормальному, что свидельствует о корректной работе технологического процесса.   \n",
    "\n",
    "## Модель\n",
    "\n",
    "### Функция для вычисления итогового sMAPE\n",
    "\n",
    "Напишем 2 функции: для подсчет SMAPE и итогового SMAPE"
   ]
  },
  {
   "cell_type": "code",
   "execution_count": 55,
   "metadata": {},
   "outputs": [],
   "source": [
    "# def smape(target, prediction):\n",
    "#     result = 100/len(target) * np.sum(np.abs(prediction - target) / ((np.abs(target) + np.abs(prediction)) / 2))\n",
    "#     return result\n",
    "\n",
    "# def total_smape(rougher, final):\n",
    "#     total_smape = 0.25*rougher + 0.75*final\n",
    "#     return total_smape\n",
    "\n",
    "\n",
    "def smape(y_true, y_pred):\n",
    "    y_calc = abs(y_true - y_pred) / ((abs(y_true) + abs(y_pred)) / 2) * 100\n",
    "    result = y_calc.sum() / len(y_true)\n",
    "    return result\n",
    "\n",
    "def total_smape(sample_true, sample_pred):\n",
    "    rougher = smape(sample_true.iloc[:, 0], sample_pred[:,0])\n",
    "    cleaner = smape(sample_true.iloc[:, 1], sample_pred[:,1])\n",
    "    return 0.25 * rougher + 0.75 * cleaner"
   ]
  },
  {
   "cell_type": "markdown",
   "metadata": {},
   "source": [
    "### Исследования и выбор модели\n",
    "\n",
    "Определим признаки и целевую переменную:"
   ]
  },
  {
   "cell_type": "code",
   "execution_count": 56,
   "metadata": {},
   "outputs": [],
   "source": [
    "train_features = df_train.drop(['date', 'rougher.output.recovery', 'final.output.recovery'], axis=1)\n",
    "train_target = df_train[['rougher.output.recovery', 'final.output.recovery']]"
   ]
  },
  {
   "cell_type": "code",
   "execution_count": 57,
   "metadata": {},
   "outputs": [],
   "source": [
    "scaler = StandardScaler()\n",
    "scaler.fit(train_features)\n",
    "train_features[train_features.columns] = scaler.transform(train_features)"
   ]
  },
  {
   "cell_type": "markdown",
   "metadata": {},
   "source": [
    "Из заранее заготовленной функции расчёта sMAPE подготовим оценщик для использовании при кросс-валидации.  \n",
    "При значении greater_is_better=False функция будет выдавать отрицательные значения."
   ]
  },
  {
   "cell_type": "code",
   "execution_count": 58,
   "metadata": {},
   "outputs": [],
   "source": [
    "smape_scorer = make_scorer(total_smape, greater_is_better=False)"
   ]
  },
  {
   "cell_type": "markdown",
   "metadata": {},
   "source": [
    "**Линейная регрессия**"
   ]
  },
  {
   "cell_type": "code",
   "execution_count": 59,
   "metadata": {},
   "outputs": [
    {
     "data": {
      "text/plain": [
       "9.334178484843287"
      ]
     },
     "execution_count": 59,
     "metadata": {},
     "output_type": "execute_result"
    }
   ],
   "source": [
    "model = LinearRegression()\n",
    "scores = cross_val_score(model, train_features, train_target, cv=5, scoring=smape_scorer)\n",
    "scores.mean() * (-1)"
   ]
  },
  {
   "cell_type": "markdown",
   "metadata": {},
   "source": [
    "**Решающее дерево**"
   ]
  },
  {
   "cell_type": "code",
   "execution_count": 60,
   "metadata": {},
   "outputs": [
    {
     "name": "stdout",
     "output_type": "stream",
     "text": [
      "Лучший результат:\n",
      "{'min_samples_split': 7, 'min_samples_leaf': 16, 'max_depth': 3}\n",
      "\n",
      "sMAPE:\n",
      "8.096617151293747\n",
      "\n",
      "Wall time: 13.8 s\n"
     ]
    }
   ],
   "source": [
    "%%time\n",
    "#Около 0.5 минут\n",
    "\n",
    "model = DecisionTreeRegressor(random_state=1)\n",
    "\n",
    "params = {\n",
    "    'max_depth':[x for x in range(1, 20, 1)], \n",
    "    'min_samples_leaf':[x for x in range(2, 20, 1)],\n",
    "    'min_samples_split':[x for x in range(2, 20, 1)],\n",
    "}\n",
    "\n",
    "grid = RandomizedSearchCV(model, params, scoring=smape_scorer, n_iter=10, random_state=1, cv=5)\n",
    "grid.fit(train_features, train_target)\n",
    "\n",
    "print('Лучший результат:')\n",
    "print(grid.best_params_)\n",
    "print('\\nsMAPE:')\n",
    "print(grid.best_score_ * (-1))\n",
    "print()"
   ]
  },
  {
   "cell_type": "code",
   "execution_count": 61,
   "metadata": {},
   "outputs": [
    {
     "name": "stdout",
     "output_type": "stream",
     "text": [
      "Лучший результат:\n",
      "{'n_estimators': 60, 'min_samples_split': 9, 'min_samples_leaf': 4, 'max_depth': 6}\n",
      "\n",
      "sMAPE:\n",
      "7.570749167072916\n",
      "\n",
      "Wall time: 47.7 s\n"
     ]
    }
   ],
   "source": [
    "%%time\n",
    "#Около 1.5 минут\n",
    "\n",
    "model = RandomForestRegressor(random_state=1)\n",
    "\n",
    "#Сетка поиска сокращена для экономии времени\n",
    "params = {\n",
    "    'n_estimators':[x for x in range(60, 61, 10)],\n",
    "    'max_depth':[x for x in range(6, 7, 1)], \n",
    "    'min_samples_leaf':[x for x in range(4, 5, 1)],\n",
    "    'min_samples_split':[x for x in range(9, 10, 1)],\n",
    "}\n",
    "\n",
    "grid = RandomizedSearchCV(model, params, scoring=smape_scorer, n_iter=1, random_state=1, cv=5)\n",
    "grid.fit(train_features, train_target)\n",
    "\n",
    "print('Лучший результат:')\n",
    "print(grid.best_params_)\n",
    "print('\\nsMAPE:')\n",
    "print(grid.best_score_ * (-1))\n",
    "print()"
   ]
  },
  {
   "cell_type": "code",
   "execution_count": 62,
   "metadata": {},
   "outputs": [],
   "source": [
    "model = grid.best_estimator_"
   ]
  },
  {
   "cell_type": "markdown",
   "metadata": {},
   "source": [
    "#### Проверка модели\n",
    "\n",
    "Мы обучили модель случайного леса. Самое время проверить её на тестовой выборке.\n",
    "Для начала подготовим признаки и из общего датафрейма вытащим значения целевых переменных - они нам нужны для итоговой проверки."
   ]
  },
  {
   "cell_type": "code",
   "execution_count": 63,
   "metadata": {},
   "outputs": [],
   "source": [
    "test_features = df_test.drop('date', axis=1)\n",
    "test_features[test_features.columns] = scaler.transform(test_features)\n",
    "\n",
    "test_target = df_test.merge(df_full, on='date', how='left')[['rougher.output.recovery', 'final.output.recovery']]"
   ]
  },
  {
   "cell_type": "code",
   "execution_count": 64,
   "metadata": {},
   "outputs": [
    {
     "data": {
      "text/plain": [
       "6.8853274535697535"
      ]
     },
     "execution_count": 64,
     "metadata": {},
     "output_type": "execute_result"
    }
   ],
   "source": [
    "predictions = model.predict(test_features)\n",
    "total_smape(test_target, predictions)"
   ]
  },
  {
   "cell_type": "code",
   "execution_count": 65,
   "metadata": {},
   "outputs": [
    {
     "data": {
      "text/plain": [
       "7.288823570658525"
      ]
     },
     "execution_count": 65,
     "metadata": {},
     "output_type": "execute_result"
    }
   ],
   "source": [
    "dummy_model = DummyRegressor()\n",
    "dummy_model.fit(train_features, train_target)\n",
    "dummy_predict = dummy_model.predict(test_features)\n",
    "\n",
    "total_smape(test_target, dummy_predict)"
   ]
  },
  {
   "cell_type": "markdown",
   "metadata": {},
   "source": [
    "Наша модель немного, но всё же лучше предсказывает результат, чем просто заливка средней величиной."
   ]
  },
  {
   "cell_type": "markdown",
   "metadata": {},
   "source": [
    "**Вывод**  \n",
    "Лучшие результаты показала модель случайный лес,  \n",
    "т.к. ее процент отклонений оказался минимальным в сравнении с полученными по другим моделям"
   ]
  },
  {
   "cell_type": "markdown",
   "metadata": {},
   "source": [
    "### Протестируем качество модели на тестовой выборке\n",
    "\n",
    "Лучшие результаты показала модель случайный лес. Протестируем ее качество на тестовых данных.  \n",
    "Для этого обучим модель с наилучшими гиперпараметрами, получим предсказания и рассчитаем метрику SMAPE по каждому таргету:  "
   ]
  },
  {
   "cell_type": "code",
   "execution_count": 71,
   "metadata": {},
   "outputs": [
    {
     "name": "stdout",
     "output_type": "stream",
     "text": [
      "Итоговое значение sMAPE на тестовой выборке:  6.8853274535697535\n"
     ]
    }
   ],
   "source": [
    "# тестирование\n",
    "best_model = model\n",
    "predictions_test = best_model.predict(test_features)\n",
    "print('Итоговое значение sMAPE на тестовой выборке: ', total_smape(test_target, predictions_test))"
   ]
  },
  {
   "cell_type": "markdown",
   "metadata": {},
   "source": [
    "**Проверим адекватность**\n",
    "\n",
    "Мы получили метрику sMAPE = 9.5% на тестовом наборе данных, т.е. с такой точностью наша модель предсказывает коэффициент обогащения золота. Воспользуемся фиктивной моделью для проверки адекватности полученных данных:"
   ]
  },
  {
   "cell_type": "code",
   "execution_count": 73,
   "metadata": {},
   "outputs": [
    {
     "name": "stdout",
     "output_type": "stream",
     "text": [
      "7.288823570658525 7.02057677575643 7.039073479101551\n"
     ]
    }
   ],
   "source": [
    "dummy_mean = DummyRegressor(strategy = 'mean')\n",
    "dummy_median = DummyRegressor(strategy = 'median')\n",
    "dummy_quantile = DummyRegressor(strategy = 'quantile', quantile = 0.75)\n",
    "\n",
    "dummy_mean.fit(train_features, train_target)\n",
    "dummy_mean_smape = total_smape(test_target, dummy_mean.predict(test_features))\n",
    "\n",
    "dummy_median.fit(train_features, train_target)\n",
    "dummy_median_smape = total_smape(test_target, dummy_median.predict(test_features))\n",
    "\n",
    "dummy_quantile.fit(train_features, train_target)\n",
    "dummy_quantile_smape = total_smape(test_target, dummy_quantile.predict(test_features))\n",
    "\n",
    "print(dummy_mean_smape, dummy_median_smape, dummy_quantile_smape)"
   ]
  },
  {
   "cell_type": "markdown",
   "metadata": {},
   "source": [
    "Можно сделать вывод о том, что наша модель предсказывает лучше константной, т.к. ее sMAPE = 6.9, а это меньше чем значения dummy (7.3 и 7)"
   ]
  },
  {
   "cell_type": "markdown",
   "metadata": {},
   "source": [
    "## Вывод\n",
    "В результате сравнения SMAPE модели случайного леса с моделью, которая выдает константные значения, мы обнаружили, что значение SMAPE модели случайного леса оказалось меньше. Это свидительсвует о том, что наша модель предсказывает точнее, чем случайная и ее предсказания можно считать адекватными."
   ]
  }
 ],
 "metadata": {
  "ExecuteTimeLog": [
   {
    "duration": 323,
    "start_time": "2021-06-08T13:49:58.065Z"
   },
   {
    "duration": 1521,
    "start_time": "2021-06-08T14:07:38.914Z"
   },
   {
    "duration": 1100,
    "start_time": "2021-06-08T14:07:44.560Z"
   },
   {
    "duration": 114,
    "start_time": "2021-06-08T14:07:46.172Z"
   },
   {
    "duration": 70,
    "start_time": "2021-06-08T14:07:47.468Z"
   },
   {
    "duration": 109,
    "start_time": "2021-06-08T14:07:48.165Z"
   },
   {
    "duration": 31,
    "start_time": "2021-06-08T14:07:49.774Z"
   },
   {
    "duration": 4,
    "start_time": "2021-06-08T14:07:50.441Z"
   },
   {
    "duration": 101,
    "start_time": "2021-06-08T14:07:55.345Z"
   },
   {
    "duration": 15,
    "start_time": "2021-06-08T14:07:55.854Z"
   },
   {
    "duration": 7,
    "start_time": "2021-06-08T14:07:56.135Z"
   },
   {
    "duration": 5,
    "start_time": "2021-06-08T14:08:01.589Z"
   },
   {
    "duration": 7,
    "start_time": "2021-06-08T14:08:03.022Z"
   },
   {
    "duration": 6,
    "start_time": "2021-06-08T14:08:04.233Z"
   },
   {
    "duration": 5,
    "start_time": "2021-06-08T14:08:04.753Z"
   },
   {
    "duration": 7,
    "start_time": "2021-06-08T14:08:07.085Z"
   },
   {
    "duration": 5,
    "start_time": "2021-06-08T14:08:07.702Z"
   },
   {
    "duration": 6,
    "start_time": "2021-06-08T14:08:10.050Z"
   },
   {
    "duration": 12,
    "start_time": "2021-06-08T14:08:13.642Z"
   },
   {
    "duration": 5,
    "start_time": "2021-06-08T14:08:14.140Z"
   },
   {
    "duration": 65,
    "start_time": "2021-06-08T14:08:17.242Z"
   },
   {
    "duration": 15,
    "start_time": "2021-06-08T14:08:18.890Z"
   },
   {
    "duration": 386,
    "start_time": "2021-06-08T14:08:27.664Z"
   },
   {
    "duration": 80,
    "start_time": "2021-06-08T14:09:22.222Z"
   },
   {
    "duration": 17,
    "start_time": "2021-06-08T14:09:36.706Z"
   },
   {
    "duration": 17,
    "start_time": "2021-06-08T14:09:47.605Z"
   },
   {
    "duration": 16,
    "start_time": "2021-06-08T14:09:50.173Z"
   },
   {
    "duration": 289,
    "start_time": "2021-06-08T14:09:57.759Z"
   },
   {
    "duration": 36,
    "start_time": "2021-06-08T14:10:34.024Z"
   },
   {
    "duration": 6,
    "start_time": "2021-06-08T14:10:51.732Z"
   },
   {
    "duration": 274,
    "start_time": "2021-06-08T14:11:40.586Z"
   },
   {
    "duration": 1525,
    "start_time": "2021-06-08T14:14:52.690Z"
   },
   {
    "duration": 1004,
    "start_time": "2021-06-08T14:14:54.218Z"
   },
   {
    "duration": 125,
    "start_time": "2021-06-08T14:14:55.225Z"
   },
   {
    "duration": 89,
    "start_time": "2021-06-08T14:14:55.354Z"
   },
   {
    "duration": 131,
    "start_time": "2021-06-08T14:14:55.446Z"
   },
   {
    "duration": 36,
    "start_time": "2021-06-08T14:14:55.580Z"
   },
   {
    "duration": 5,
    "start_time": "2021-06-08T14:14:55.619Z"
   },
   {
    "duration": 137,
    "start_time": "2021-06-08T14:14:55.627Z"
   },
   {
    "duration": 15,
    "start_time": "2021-06-08T14:14:55.768Z"
   },
   {
    "duration": 22,
    "start_time": "2021-06-08T14:14:55.785Z"
   },
   {
    "duration": 6,
    "start_time": "2021-06-08T14:14:55.810Z"
   },
   {
    "duration": 7,
    "start_time": "2021-06-08T14:14:55.821Z"
   },
   {
    "duration": 6,
    "start_time": "2021-06-08T14:14:56.087Z"
   },
   {
    "duration": 5,
    "start_time": "2021-06-08T14:14:56.221Z"
   },
   {
    "duration": 6,
    "start_time": "2021-06-08T14:14:56.497Z"
   },
   {
    "duration": 6,
    "start_time": "2021-06-08T14:14:56.636Z"
   },
   {
    "duration": 102,
    "start_time": "2021-06-08T14:14:57.333Z"
   },
   {
    "duration": 15,
    "start_time": "2021-06-08T14:14:57.475Z"
   },
   {
    "duration": 78,
    "start_time": "2021-06-08T14:14:59.149Z"
   },
   {
    "duration": 20,
    "start_time": "2021-06-08T14:15:01.168Z"
   },
   {
    "duration": 46,
    "start_time": "2021-06-08T14:15:03.538Z"
   },
   {
    "duration": 25,
    "start_time": "2021-06-08T14:15:05.801Z"
   },
   {
    "duration": 16,
    "start_time": "2021-06-08T14:15:21.833Z"
   },
   {
    "duration": 6,
    "start_time": "2021-06-08T14:15:49.025Z"
   },
   {
    "duration": 11,
    "start_time": "2021-06-08T14:15:49.916Z"
   },
   {
    "duration": 5,
    "start_time": "2021-06-08T14:15:52.864Z"
   },
   {
    "duration": 6,
    "start_time": "2021-06-08T14:15:53.783Z"
   },
   {
    "duration": 3,
    "start_time": "2021-06-08T14:15:58.253Z"
   },
   {
    "duration": 1527,
    "start_time": "2021-06-08T14:17:46.003Z"
   },
   {
    "duration": 1004,
    "start_time": "2021-06-08T14:17:47.534Z"
   },
   {
    "duration": 117,
    "start_time": "2021-06-08T14:17:48.541Z"
   },
   {
    "duration": 80,
    "start_time": "2021-06-08T14:17:48.661Z"
   },
   {
    "duration": 124,
    "start_time": "2021-06-08T14:17:48.743Z"
   },
   {
    "duration": 39,
    "start_time": "2021-06-08T14:17:48.869Z"
   },
   {
    "duration": 4,
    "start_time": "2021-06-08T14:17:48.911Z"
   },
   {
    "duration": 129,
    "start_time": "2021-06-08T14:17:48.918Z"
   },
   {
    "duration": 14,
    "start_time": "2021-06-08T14:17:49.050Z"
   },
   {
    "duration": 6,
    "start_time": "2021-06-08T14:17:49.066Z"
   },
   {
    "duration": 30,
    "start_time": "2021-06-08T14:17:49.074Z"
   },
   {
    "duration": 8,
    "start_time": "2021-06-08T14:17:49.260Z"
   },
   {
    "duration": 6,
    "start_time": "2021-06-08T14:17:50.235Z"
   },
   {
    "duration": 6,
    "start_time": "2021-06-08T14:17:50.404Z"
   },
   {
    "duration": 7,
    "start_time": "2021-06-08T14:17:50.720Z"
   },
   {
    "duration": 6,
    "start_time": "2021-06-08T14:17:53.608Z"
   },
   {
    "duration": 95,
    "start_time": "2021-06-08T14:17:55.224Z"
   },
   {
    "duration": 15,
    "start_time": "2021-06-08T14:17:55.597Z"
   },
   {
    "duration": 82,
    "start_time": "2021-06-08T14:17:56.932Z"
   },
   {
    "duration": 21,
    "start_time": "2021-06-08T14:17:57.556Z"
   },
   {
    "duration": 46,
    "start_time": "2021-06-08T14:17:58.562Z"
   },
   {
    "duration": 24,
    "start_time": "2021-06-08T14:17:59.345Z"
   },
   {
    "duration": 16,
    "start_time": "2021-06-08T14:18:00.592Z"
   },
   {
    "duration": 7,
    "start_time": "2021-06-08T14:18:02.950Z"
   },
   {
    "duration": 13,
    "start_time": "2021-06-08T14:18:03.803Z"
   },
   {
    "duration": 7,
    "start_time": "2021-06-08T14:18:04.318Z"
   },
   {
    "duration": 2681,
    "start_time": "2021-06-08T14:18:06.280Z"
   },
   {
    "duration": 3453,
    "start_time": "2021-06-08T14:18:09.602Z"
   },
   {
    "duration": 2793,
    "start_time": "2021-06-08T14:18:13.058Z"
   },
   {
    "duration": 3375,
    "start_time": "2021-06-08T14:18:15.854Z"
   },
   {
    "duration": 2668,
    "start_time": "2021-06-08T14:18:19.232Z"
   },
   {
    "duration": 3267,
    "start_time": "2021-06-08T14:18:21.903Z"
   },
   {
    "duration": 4,
    "start_time": "2021-06-08T14:18:25.173Z"
   },
   {
    "duration": 22,
    "start_time": "2021-06-08T14:18:25.179Z"
   },
   {
    "duration": 8,
    "start_time": "2021-06-08T14:18:25.204Z"
   },
   {
    "duration": 7,
    "start_time": "2021-06-08T14:18:25.215Z"
   },
   {
    "duration": 1405,
    "start_time": "2021-06-08T14:18:25.225Z"
   },
   {
    "duration": 8,
    "start_time": "2021-06-08T14:18:26.633Z"
   },
   {
    "duration": 12,
    "start_time": "2021-06-08T14:18:26.644Z"
   },
   {
    "duration": 2675,
    "start_time": "2021-06-08T14:18:26.659Z"
   },
   {
    "duration": 10,
    "start_time": "2021-06-08T14:18:29.337Z"
   },
   {
    "duration": 2815,
    "start_time": "2021-06-08T14:18:29.349Z"
   },
   {
    "duration": 5,
    "start_time": "2021-06-08T14:18:32.167Z"
   },
   {
    "duration": 146,
    "start_time": "2021-06-08T14:18:32.174Z"
   },
   {
    "duration": 4,
    "start_time": "2021-06-08T14:18:32.323Z"
   },
   {
    "duration": 42,
    "start_time": "2021-06-08T14:18:32.330Z"
   },
   {
    "duration": 13,
    "start_time": "2021-06-08T14:19:44.395Z"
   },
   {
    "duration": 52270,
    "start_time": "2021-06-08T14:20:00.847Z"
   },
   {
    "duration": 5,
    "start_time": "2021-06-08T14:24:48.189Z"
   },
   {
    "duration": 53516,
    "start_time": "2021-06-08T14:24:55.544Z"
   },
   {
    "duration": 7,
    "start_time": "2021-06-08T14:42:06.064Z"
   },
   {
    "duration": 63034,
    "start_time": "2021-06-08T14:42:40.792Z"
   },
   {
    "duration": 120,
    "start_time": "2021-06-08T14:47:17.070Z"
   },
   {
    "duration": 95,
    "start_time": "2021-06-08T14:47:49.961Z"
   },
   {
    "duration": 90,
    "start_time": "2021-06-08T14:47:54.611Z"
   },
   {
    "duration": 5,
    "start_time": "2021-06-08T14:48:10.722Z"
   },
   {
    "duration": 52364,
    "start_time": "2021-06-08T14:48:27.377Z"
   },
   {
    "duration": 53000,
    "start_time": "2021-06-08T14:54:40.236Z"
   },
   {
    "duration": 58629,
    "start_time": "2021-06-08T14:57:39.985Z"
   },
   {
    "duration": 781,
    "start_time": "2021-06-08T14:59:32.177Z"
   },
   {
    "duration": 51166,
    "start_time": "2021-06-08T14:59:36.176Z"
   },
   {
    "duration": 803,
    "start_time": "2021-06-08T15:00:27.345Z"
   },
   {
    "duration": 798,
    "start_time": "2021-06-08T15:00:33.637Z"
   },
   {
    "duration": 780,
    "start_time": "2021-06-08T15:00:54.588Z"
   },
   {
    "duration": 51549,
    "start_time": "2021-06-08T15:01:03.774Z"
   },
   {
    "duration": 767,
    "start_time": "2021-06-08T15:02:36.233Z"
   },
   {
    "duration": 755,
    "start_time": "2021-06-08T15:03:13.136Z"
   },
   {
    "duration": 50183,
    "start_time": "2021-06-08T15:03:35.680Z"
   },
   {
    "duration": 753,
    "start_time": "2021-06-08T15:06:55.415Z"
   },
   {
    "duration": 742,
    "start_time": "2021-06-08T15:07:06.548Z"
   },
   {
    "duration": 3723,
    "start_time": "2021-06-08T15:07:34.977Z"
   },
   {
    "duration": 4466,
    "start_time": "2021-06-08T15:08:14.240Z"
   },
   {
    "duration": 3745,
    "start_time": "2021-06-08T15:08:29.857Z"
   },
   {
    "duration": 777996,
    "start_time": "2021-06-08T15:09:22.015Z"
   },
   {
    "duration": 50166,
    "start_time": "2021-06-08T15:25:04.257Z"
   },
   {
    "duration": 780941,
    "start_time": "2021-06-08T15:26:04.225Z"
   },
   {
    "duration": -100,
    "start_time": "2021-06-08T15:41:35.325Z"
   },
   {
    "duration": 49213,
    "start_time": "2021-06-08T18:02:20.372Z"
   },
   {
    "duration": 4066,
    "start_time": "2021-06-08T18:05:40.634Z"
   },
   {
    "duration": 4914,
    "start_time": "2021-06-08T18:06:18.290Z"
   },
   {
    "duration": 4026,
    "start_time": "2021-06-08T18:06:40.378Z"
   },
   {
    "duration": 17,
    "start_time": "2021-06-08T18:11:09.510Z"
   },
   {
    "duration": 286,
    "start_time": "2021-06-08T18:11:47.730Z"
   },
   {
    "duration": 42,
    "start_time": "2021-06-08T18:12:00.480Z"
   },
   {
    "duration": 10,
    "start_time": "2021-06-08T18:12:38.998Z"
   },
   {
    "duration": 8,
    "start_time": "2021-06-08T18:13:04.346Z"
   },
   {
    "duration": 7,
    "start_time": "2021-06-08T18:13:45.651Z"
   },
   {
    "duration": 36,
    "start_time": "2021-06-08T18:14:23.936Z"
   },
   {
    "duration": 42,
    "start_time": "2021-06-08T18:14:28.885Z"
   },
   {
    "duration": 7,
    "start_time": "2021-06-08T18:14:30.925Z"
   },
   {
    "duration": 36,
    "start_time": "2021-06-08T18:14:46.136Z"
   },
   {
    "duration": 43,
    "start_time": "2021-06-08T18:14:50.283Z"
   },
   {
    "duration": 69,
    "start_time": "2021-06-08T18:15:59.234Z"
   },
   {
    "duration": 290,
    "start_time": "2021-06-08T18:16:01.968Z"
   },
   {
    "duration": 287,
    "start_time": "2021-06-08T18:16:43.029Z"
   },
   {
    "duration": 274,
    "start_time": "2021-06-08T18:18:11.107Z"
   },
   {
    "duration": 7,
    "start_time": "2021-06-08T18:19:55.217Z"
   },
   {
    "duration": 8,
    "start_time": "2021-06-08T18:20:02.473Z"
   },
   {
    "duration": 1247,
    "start_time": "2021-06-08T18:25:27.314Z"
   },
   {
    "duration": 10,
    "start_time": "2021-06-08T18:26:20.568Z"
   },
   {
    "duration": 8,
    "start_time": "2021-06-08T18:26:36.118Z"
   },
   {
    "duration": 26,
    "start_time": "2021-06-08T18:26:52.776Z"
   },
   {
    "duration": 8,
    "start_time": "2021-06-08T18:36:23.158Z"
   },
   {
    "duration": 17,
    "start_time": "2021-06-08T18:36:43.580Z"
   },
   {
    "duration": 12,
    "start_time": "2021-06-08T18:36:54.290Z"
   },
   {
    "duration": 12,
    "start_time": "2021-06-08T18:37:36.842Z"
   },
   {
    "duration": 8,
    "start_time": "2021-06-08T18:37:53.034Z"
   },
   {
    "duration": 13,
    "start_time": "2021-06-08T18:38:11.471Z"
   },
   {
    "duration": 298,
    "start_time": "2021-06-08T18:38:50.600Z"
   },
   {
    "duration": 375,
    "start_time": "2021-06-08T18:38:56.250Z"
   },
   {
    "duration": 1545,
    "start_time": "2021-06-09T04:21:11.794Z"
   },
   {
    "duration": 1043,
    "start_time": "2021-06-09T04:21:13.342Z"
   },
   {
    "duration": 118,
    "start_time": "2021-06-09T04:21:15.586Z"
   },
   {
    "duration": 71,
    "start_time": "2021-06-09T04:21:16.335Z"
   },
   {
    "duration": 107,
    "start_time": "2021-06-09T04:21:16.548Z"
   },
   {
    "duration": 31,
    "start_time": "2021-06-09T04:21:17.131Z"
   },
   {
    "duration": 4,
    "start_time": "2021-06-09T04:21:17.511Z"
   },
   {
    "duration": 110,
    "start_time": "2021-06-09T04:21:17.768Z"
   },
   {
    "duration": 13,
    "start_time": "2021-06-09T04:21:18.139Z"
   },
   {
    "duration": 8,
    "start_time": "2021-06-09T04:21:18.393Z"
   },
   {
    "duration": 5,
    "start_time": "2021-06-09T04:21:18.804Z"
   },
   {
    "duration": 7,
    "start_time": "2021-06-09T04:21:19.354Z"
   },
   {
    "duration": 6,
    "start_time": "2021-06-09T04:21:19.612Z"
   },
   {
    "duration": 5,
    "start_time": "2021-06-09T04:21:19.723Z"
   },
   {
    "duration": 6,
    "start_time": "2021-06-09T04:21:20.030Z"
   },
   {
    "duration": 5,
    "start_time": "2021-06-09T04:21:20.150Z"
   },
   {
    "duration": 100,
    "start_time": "2021-06-09T04:21:20.786Z"
   },
   {
    "duration": 16,
    "start_time": "2021-06-09T04:21:20.924Z"
   },
   {
    "duration": 76,
    "start_time": "2021-06-09T04:21:21.606Z"
   },
   {
    "duration": 22,
    "start_time": "2021-06-09T04:21:21.873Z"
   },
   {
    "duration": 51,
    "start_time": "2021-06-09T04:21:22.152Z"
   },
   {
    "duration": 24,
    "start_time": "2021-06-09T04:21:22.434Z"
   },
   {
    "duration": 17,
    "start_time": "2021-06-09T04:21:22.734Z"
   },
   {
    "duration": 6,
    "start_time": "2021-06-09T04:21:23.137Z"
   },
   {
    "duration": 15,
    "start_time": "2021-06-09T04:21:23.289Z"
   },
   {
    "duration": 5,
    "start_time": "2021-06-09T04:21:23.412Z"
   },
   {
    "duration": 2835,
    "start_time": "2021-06-09T04:21:23.688Z"
   },
   {
    "duration": 3397,
    "start_time": "2021-06-09T04:21:26.526Z"
   },
   {
    "duration": 2720,
    "start_time": "2021-06-09T04:21:29.926Z"
   },
   {
    "duration": 3311,
    "start_time": "2021-06-09T04:21:32.649Z"
   },
   {
    "duration": 2795,
    "start_time": "2021-06-09T04:21:35.962Z"
   },
   {
    "duration": 3305,
    "start_time": "2021-06-09T04:21:38.759Z"
   },
   {
    "duration": 4,
    "start_time": "2021-06-09T04:21:42.066Z"
   },
   {
    "duration": 12,
    "start_time": "2021-06-09T04:21:42.087Z"
   },
   {
    "duration": 8,
    "start_time": "2021-06-09T04:21:42.103Z"
   },
   {
    "duration": 12,
    "start_time": "2021-06-09T04:21:42.114Z"
   },
   {
    "duration": 1398,
    "start_time": "2021-06-09T04:21:42.128Z"
   },
   {
    "duration": 10,
    "start_time": "2021-06-09T04:21:43.529Z"
   },
   {
    "duration": 15,
    "start_time": "2021-06-09T04:21:43.541Z"
   },
   {
    "duration": 2580,
    "start_time": "2021-06-09T04:21:43.558Z"
   },
   {
    "duration": 11,
    "start_time": "2021-06-09T04:21:46.141Z"
   },
   {
    "duration": 2960,
    "start_time": "2021-06-09T04:21:46.154Z"
   },
   {
    "duration": 5,
    "start_time": "2021-06-09T04:21:49.117Z"
   },
   {
    "duration": 147,
    "start_time": "2021-06-09T04:21:49.124Z"
   },
   {
    "duration": 11,
    "start_time": "2021-06-09T04:21:49.273Z"
   },
   {
    "duration": 31,
    "start_time": "2021-06-09T04:21:49.286Z"
   },
   {
    "duration": 652,
    "start_time": "2021-06-09T04:27:52.658Z"
   },
   {
    "duration": 3895,
    "start_time": "2021-06-09T04:28:24.090Z"
   },
   {
    "duration": 3786,
    "start_time": "2021-06-09T04:28:34.300Z"
   },
   {
    "duration": 4761,
    "start_time": "2021-06-09T04:36:41.826Z"
   },
   {
    "duration": 4256,
    "start_time": "2021-06-09T04:37:50.137Z"
   },
   {
    "duration": 5074,
    "start_time": "2021-06-09T04:38:22.815Z"
   },
   {
    "duration": 55,
    "start_time": "2021-06-09T04:39:41.829Z"
   },
   {
    "duration": 13,
    "start_time": "2021-06-09T04:40:27.181Z"
   },
   {
    "duration": 7,
    "start_time": "2021-06-09T04:41:02.898Z"
   },
   {
    "duration": 2904,
    "start_time": "2021-06-09T04:42:58.383Z"
   },
   {
    "duration": 31,
    "start_time": "2021-06-09T04:43:40.152Z"
   },
   {
    "duration": 2989,
    "start_time": "2021-06-09T04:49:15.597Z"
   },
   {
    "duration": 12,
    "start_time": "2021-06-09T04:49:37.194Z"
   },
   {
    "duration": 7,
    "start_time": "2021-06-09T04:53:54.673Z"
   },
   {
    "duration": 4258,
    "start_time": "2021-06-09T04:57:05.229Z"
   },
   {
    "duration": 6,
    "start_time": "2021-06-09T04:57:14.766Z"
   },
   {
    "duration": 3771,
    "start_time": "2021-06-09T04:58:30.429Z"
   },
   {
    "duration": 14,
    "start_time": "2021-06-09T04:58:48.599Z"
   },
   {
    "duration": 15,
    "start_time": "2021-06-09T04:59:41.864Z"
   },
   {
    "duration": 6,
    "start_time": "2021-06-09T05:01:17.737Z"
   },
   {
    "duration": 4066,
    "start_time": "2021-06-09T05:01:38.521Z"
   },
   {
    "duration": 8,
    "start_time": "2021-06-09T05:01:42.591Z"
   },
   {
    "duration": 8,
    "start_time": "2021-06-09T05:02:06.077Z"
   },
   {
    "duration": 4549,
    "start_time": "2021-06-09T05:02:47.540Z"
   },
   {
    "duration": 8,
    "start_time": "2021-06-09T05:03:06.312Z"
   },
   {
    "duration": 70,
    "start_time": "2021-06-09T05:04:09.418Z"
   },
   {
    "duration": 8,
    "start_time": "2021-06-09T05:06:10.525Z"
   },
   {
    "duration": 65,
    "start_time": "2021-06-09T05:07:21.035Z"
   },
   {
    "duration": 14,
    "start_time": "2021-06-09T05:08:43.699Z"
   },
   {
    "duration": 13,
    "start_time": "2021-06-09T05:08:56.940Z"
   },
   {
    "duration": 5364,
    "start_time": "2021-06-09T05:09:26.320Z"
   },
   {
    "duration": 11,
    "start_time": "2021-06-09T05:10:15.793Z"
   },
   {
    "duration": 5625,
    "start_time": "2021-06-09T05:10:20.461Z"
   },
   {
    "duration": 8,
    "start_time": "2021-06-09T05:10:28.802Z"
   },
   {
    "duration": 14,
    "start_time": "2021-06-09T05:12:44.238Z"
   },
   {
    "duration": 12,
    "start_time": "2021-06-09T05:13:10.029Z"
   },
   {
    "duration": 17,
    "start_time": "2021-06-09T05:13:13.091Z"
   },
   {
    "duration": 17,
    "start_time": "2021-06-09T05:13:25.643Z"
   },
   {
    "duration": 13,
    "start_time": "2021-06-09T05:13:29.099Z"
   },
   {
    "duration": 14,
    "start_time": "2021-06-09T05:13:37.344Z"
   },
   {
    "duration": 19,
    "start_time": "2021-06-09T05:13:44.991Z"
   },
   {
    "duration": 73,
    "start_time": "2021-06-09T05:13:58.313Z"
   },
   {
    "duration": 247,
    "start_time": "2021-06-09T05:17:58.650Z"
   },
   {
    "duration": 253,
    "start_time": "2021-06-09T05:18:07.825Z"
   },
   {
    "duration": 30,
    "start_time": "2021-06-09T05:21:42.875Z"
   },
   {
    "duration": 29,
    "start_time": "2021-06-09T05:22:01.670Z"
   },
   {
    "duration": 26,
    "start_time": "2021-06-09T05:22:05.521Z"
   },
   {
    "duration": 79553,
    "start_time": "2021-06-09T05:22:17.173Z"
   },
   {
    "duration": 743,
    "start_time": "2021-06-09T05:24:29.497Z"
   },
   {
    "duration": 13638,
    "start_time": "2021-06-09T05:24:56.447Z"
   },
   {
    "duration": 32,
    "start_time": "2021-06-09T05:26:22.806Z"
   },
   {
    "duration": 80522,
    "start_time": "2021-06-09T05:26:29.142Z"
   },
   {
    "duration": 733,
    "start_time": "2021-06-09T05:29:08.701Z"
   },
   {
    "duration": 13360,
    "start_time": "2021-06-09T05:29:42.815Z"
   },
   {
    "duration": 81278,
    "start_time": "2021-06-09T05:31:09.671Z"
   },
   {
    "duration": 1656,
    "start_time": "2021-06-09T05:32:30.952Z"
   },
   {
    "duration": 6502,
    "start_time": "2021-06-09T05:41:48.397Z"
   },
   {
    "duration": 13158,
    "start_time": "2021-06-09T05:42:00.625Z"
   },
   {
    "duration": 764,
    "start_time": "2021-06-09T05:43:21.465Z"
   },
   {
    "duration": 4356,
    "start_time": "2021-06-09T05:43:36.233Z"
   },
   {
    "duration": 7,
    "start_time": "2021-06-09T05:43:50.936Z"
   },
   {
    "duration": 4127,
    "start_time": "2021-06-09T05:44:05.958Z"
   },
   {
    "duration": 8,
    "start_time": "2021-06-09T05:44:13.534Z"
   },
   {
    "duration": 3992,
    "start_time": "2021-06-09T05:44:17.694Z"
   },
   {
    "duration": 7,
    "start_time": "2021-06-09T05:44:24.502Z"
   },
   {
    "duration": 10,
    "start_time": "2021-06-09T05:45:15.734Z"
   },
   {
    "duration": 9,
    "start_time": "2021-06-09T05:45:25.036Z"
   },
   {
    "duration": 8,
    "start_time": "2021-06-09T05:45:29.924Z"
   },
   {
    "duration": 101,
    "start_time": "2021-06-09T05:45:55.091Z"
   },
   {
    "duration": 321,
    "start_time": "2021-06-09T05:47:08.002Z"
   },
   {
    "duration": 10,
    "start_time": "2021-06-09T05:47:21.443Z"
   },
   {
    "duration": 257,
    "start_time": "2021-06-09T05:48:58.211Z"
   },
   {
    "duration": 90,
    "start_time": "2021-06-09T05:49:20.408Z"
   },
   {
    "duration": 8,
    "start_time": "2021-06-09T05:49:25.606Z"
   },
   {
    "duration": 8,
    "start_time": "2021-06-09T05:49:52.097Z"
   },
   {
    "duration": 12,
    "start_time": "2021-06-09T05:50:05.699Z"
   },
   {
    "duration": 13,
    "start_time": "2021-06-09T05:50:19.816Z"
   },
   {
    "duration": 7,
    "start_time": "2021-06-09T05:51:15.709Z"
   },
   {
    "duration": 85,
    "start_time": "2021-06-09T05:52:55.799Z"
   },
   {
    "duration": 8,
    "start_time": "2021-06-09T05:53:26.007Z"
   },
   {
    "duration": 17,
    "start_time": "2021-06-09T05:55:23.380Z"
   },
   {
    "duration": 12,
    "start_time": "2021-06-09T05:55:26.562Z"
   },
   {
    "duration": 5,
    "start_time": "2021-06-09T06:00:05.251Z"
   },
   {
    "duration": 6,
    "start_time": "2021-06-09T06:00:58.595Z"
   },
   {
    "duration": 26,
    "start_time": "2021-06-09T06:01:39.189Z"
   },
   {
    "duration": 4478,
    "start_time": "2021-06-09T06:01:53.207Z"
   },
   {
    "duration": 7,
    "start_time": "2021-06-09T06:02:00.436Z"
   },
   {
    "duration": 4214,
    "start_time": "2021-06-09T06:02:11.179Z"
   },
   {
    "duration": 8,
    "start_time": "2021-06-09T06:02:17.766Z"
   },
   {
    "duration": 4285,
    "start_time": "2021-06-09T06:02:29.997Z"
   },
   {
    "duration": 4749,
    "start_time": "2021-06-09T06:02:35.641Z"
   },
   {
    "duration": 8,
    "start_time": "2021-06-09T06:02:43.057Z"
   },
   {
    "duration": 17,
    "start_time": "2021-06-09T06:02:54.876Z"
   },
   {
    "duration": 35,
    "start_time": "2021-06-09T06:03:01.446Z"
   },
   {
    "duration": 104,
    "start_time": "2021-06-09T06:03:18.093Z"
   },
   {
    "duration": 9,
    "start_time": "2021-06-09T06:03:48.511Z"
   },
   {
    "duration": 35,
    "start_time": "2021-06-09T06:03:52.296Z"
   },
   {
    "duration": 11,
    "start_time": "2021-06-09T06:04:12.600Z"
   },
   {
    "duration": 16,
    "start_time": "2021-06-09T06:04:20.938Z"
   },
   {
    "duration": 34,
    "start_time": "2021-06-09T06:04:24.039Z"
   },
   {
    "duration": 16,
    "start_time": "2021-06-09T06:04:28.182Z"
   },
   {
    "duration": 10,
    "start_time": "2021-06-09T06:04:32.533Z"
   },
   {
    "duration": 5,
    "start_time": "2021-06-09T06:04:37.815Z"
   },
   {
    "duration": 5,
    "start_time": "2021-06-09T06:04:40.037Z"
   },
   {
    "duration": 4,
    "start_time": "2021-06-09T06:19:05.961Z"
   },
   {
    "duration": 78760,
    "start_time": "2021-06-09T06:20:21.185Z"
   },
   {
    "duration": 27,
    "start_time": "2021-06-09T06:24:29.341Z"
   },
   {
    "duration": 82094,
    "start_time": "2021-06-09T06:29:37.295Z"
   },
   {
    "duration": 77818,
    "start_time": "2021-06-09T06:32:10.834Z"
   },
   {
    "duration": 12951,
    "start_time": "2021-06-09T06:34:28.969Z"
   },
   {
    "duration": 75836,
    "start_time": "2021-06-09T06:34:55.784Z"
   },
   {
    "duration": 10,
    "start_time": "2021-06-09T06:43:02.058Z"
   },
   {
    "duration": 12,
    "start_time": "2021-06-09T06:43:04.569Z"
   },
   {
    "duration": 5,
    "start_time": "2021-06-09T06:44:36.928Z"
   },
   {
    "duration": 4,
    "start_time": "2021-06-09T06:46:16.039Z"
   },
   {
    "duration": 1995,
    "start_time": "2021-06-09T06:47:30.689Z"
   },
   {
    "duration": 3028,
    "start_time": "2021-06-09T06:47:38.357Z"
   },
   {
    "duration": 3825,
    "start_time": "2021-06-09T06:47:44.867Z"
   },
   {
    "duration": 10350,
    "start_time": "2021-06-09T06:47:55.033Z"
   },
   {
    "duration": 18484,
    "start_time": "2021-06-09T06:48:18.602Z"
   },
   {
    "duration": 3736,
    "start_time": "2021-06-09T06:48:41.848Z"
   },
   {
    "duration": 7,
    "start_time": "2021-06-09T06:48:52.404Z"
   },
   {
    "duration": 8,
    "start_time": "2021-06-09T06:53:29.437Z"
   },
   {
    "duration": 8,
    "start_time": "2021-06-09T06:54:05.088Z"
   },
   {
    "duration": 73477,
    "start_time": "2021-06-09T06:56:35.565Z"
   },
   {
    "duration": 73780,
    "start_time": "2021-06-09T06:58:00.922Z"
   },
   {
    "duration": 283,
    "start_time": "2021-06-09T07:07:00.116Z"
   },
   {
    "duration": 273,
    "start_time": "2021-06-09T07:08:14.026Z"
   },
   {
    "duration": 50240,
    "start_time": "2021-06-09T07:08:29.358Z"
   },
   {
    "duration": 52115,
    "start_time": "2021-06-09T07:09:19.602Z"
   }
  ],
  "kernelspec": {
   "display_name": "Python 3",
   "language": "python",
   "name": "python3"
  },
  "language_info": {
   "codemirror_mode": {
    "name": "ipython",
    "version": 3
   },
   "file_extension": ".py",
   "mimetype": "text/x-python",
   "name": "python",
   "nbconvert_exporter": "python",
   "pygments_lexer": "ipython3",
   "version": "3.8.3"
  },
  "toc": {
   "base_numbering": 1,
   "nav_menu": {},
   "number_sections": true,
   "sideBar": true,
   "skip_h1_title": true,
   "title_cell": "Содержание",
   "title_sidebar": "Contents",
   "toc_cell": true,
   "toc_position": {},
   "toc_section_display": true,
   "toc_window_display": false
  }
 },
 "nbformat": 4,
 "nbformat_minor": 2
}
