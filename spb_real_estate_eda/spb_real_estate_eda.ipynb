{
 "cells": [
  {
   "cell_type": "markdown",
   "metadata": {},
   "source": [
    "# Исследование объявлений о продаже квартир\n",
    "\n",
    "В нашем распоряжении данные сервиса Яндекс.Недвижимость — архив объявлений о продаже квартир в Санкт-Петербурге и соседних населённых пунктов за несколько лет. Нужно научиться определять рыночную стоимость объектов недвижимости. Наша задача — установить параметры. Это позволит построить автоматизированную систему: она отследит аномалии и мошенническую деятельность. \n",
    "\n",
    "По каждой квартире на продажу доступны два вида данных. Первые вписаны пользователем, вторые — получены автоматически на основе картографических данных. Например, расстояние до центра, аэропорта, ближайшего парка и водоёма. "
   ]
  },
  {
   "cell_type": "markdown",
   "metadata": {},
   "source": [
    "### Загрузка файла с данными и изучение общей информации "
   ]
  },
  {
   "cell_type": "markdown",
   "metadata": {},
   "source": [
    "Импортируем библиотеку pandas, необходимую для обработки и анализа данных;  \n",
    "модуль .pyplot из библиотеки matplotlib для создания графиков и гистограмм;  \n",
    "библиотеку warnings, которая позволяет игнорировать предупреждения от указанного модуля;  \n",
    "и счетчик Counter из collections."
   ]
  },
  {
   "cell_type": "code",
   "execution_count": 1,
   "metadata": {},
   "outputs": [],
   "source": [
    "import pandas as pd\n",
    "import matplotlib.pyplot as plt\n",
    "import warnings\n",
    "warnings.filterwarnings('ignore')\n",
    "from collections import Counter"
   ]
  },
  {
   "cell_type": "markdown",
   "metadata": {},
   "source": [
    "Прочитаем csv-файл методом .read_csv.  \n",
    "Распечатаем первые 10 строк."
   ]
  },
  {
   "cell_type": "code",
   "execution_count": 2,
   "metadata": {},
   "outputs": [
    {
     "data": {
      "text/html": [
       "<div>\n",
       "<style scoped>\n",
       "    .dataframe tbody tr th:only-of-type {\n",
       "        vertical-align: middle;\n",
       "    }\n",
       "\n",
       "    .dataframe tbody tr th {\n",
       "        vertical-align: top;\n",
       "    }\n",
       "\n",
       "    .dataframe thead th {\n",
       "        text-align: right;\n",
       "    }\n",
       "</style>\n",
       "<table border=\"1\" class=\"dataframe\">\n",
       "  <thead>\n",
       "    <tr style=\"text-align: right;\">\n",
       "      <th></th>\n",
       "      <th>total_images</th>\n",
       "      <th>last_price</th>\n",
       "      <th>total_area</th>\n",
       "      <th>first_day_exposition</th>\n",
       "      <th>rooms</th>\n",
       "      <th>ceiling_height</th>\n",
       "      <th>floors_total</th>\n",
       "      <th>living_area</th>\n",
       "      <th>floor</th>\n",
       "      <th>is_apartment</th>\n",
       "      <th>studio</th>\n",
       "      <th>open_plan</th>\n",
       "      <th>kitchen_area</th>\n",
       "      <th>balcony</th>\n",
       "      <th>locality_name</th>\n",
       "      <th>airports_nearest</th>\n",
       "      <th>cityCenters_nearest</th>\n",
       "      <th>parks_around3000</th>\n",
       "      <th>parks_nearest</th>\n",
       "      <th>ponds_around3000</th>\n",
       "      <th>ponds_nearest</th>\n",
       "      <th>days_exposition</th>\n",
       "    </tr>\n",
       "  </thead>\n",
       "  <tbody>\n",
       "    <tr>\n",
       "      <td>0</td>\n",
       "      <td>20</td>\n",
       "      <td>13000000.0</td>\n",
       "      <td>108.00</td>\n",
       "      <td>2019-03-07T00:00:00</td>\n",
       "      <td>3</td>\n",
       "      <td>2.70</td>\n",
       "      <td>16.0</td>\n",
       "      <td>51.00</td>\n",
       "      <td>8</td>\n",
       "      <td>NaN</td>\n",
       "      <td>False</td>\n",
       "      <td>False</td>\n",
       "      <td>25.00</td>\n",
       "      <td>NaN</td>\n",
       "      <td>Санкт-Петербург</td>\n",
       "      <td>18863.0</td>\n",
       "      <td>16028.0</td>\n",
       "      <td>1.0</td>\n",
       "      <td>482.0</td>\n",
       "      <td>2.0</td>\n",
       "      <td>755.0</td>\n",
       "      <td>NaN</td>\n",
       "    </tr>\n",
       "    <tr>\n",
       "      <td>1</td>\n",
       "      <td>7</td>\n",
       "      <td>3350000.0</td>\n",
       "      <td>40.40</td>\n",
       "      <td>2018-12-04T00:00:00</td>\n",
       "      <td>1</td>\n",
       "      <td>NaN</td>\n",
       "      <td>11.0</td>\n",
       "      <td>18.60</td>\n",
       "      <td>1</td>\n",
       "      <td>NaN</td>\n",
       "      <td>False</td>\n",
       "      <td>False</td>\n",
       "      <td>11.00</td>\n",
       "      <td>2.0</td>\n",
       "      <td>посёлок Шушары</td>\n",
       "      <td>12817.0</td>\n",
       "      <td>18603.0</td>\n",
       "      <td>0.0</td>\n",
       "      <td>NaN</td>\n",
       "      <td>0.0</td>\n",
       "      <td>NaN</td>\n",
       "      <td>81.0</td>\n",
       "    </tr>\n",
       "    <tr>\n",
       "      <td>2</td>\n",
       "      <td>10</td>\n",
       "      <td>5196000.0</td>\n",
       "      <td>56.00</td>\n",
       "      <td>2015-08-20T00:00:00</td>\n",
       "      <td>2</td>\n",
       "      <td>NaN</td>\n",
       "      <td>5.0</td>\n",
       "      <td>34.30</td>\n",
       "      <td>4</td>\n",
       "      <td>NaN</td>\n",
       "      <td>False</td>\n",
       "      <td>False</td>\n",
       "      <td>8.30</td>\n",
       "      <td>0.0</td>\n",
       "      <td>Санкт-Петербург</td>\n",
       "      <td>21741.0</td>\n",
       "      <td>13933.0</td>\n",
       "      <td>1.0</td>\n",
       "      <td>90.0</td>\n",
       "      <td>2.0</td>\n",
       "      <td>574.0</td>\n",
       "      <td>558.0</td>\n",
       "    </tr>\n",
       "    <tr>\n",
       "      <td>3</td>\n",
       "      <td>0</td>\n",
       "      <td>64900000.0</td>\n",
       "      <td>159.00</td>\n",
       "      <td>2015-07-24T00:00:00</td>\n",
       "      <td>3</td>\n",
       "      <td>NaN</td>\n",
       "      <td>14.0</td>\n",
       "      <td>NaN</td>\n",
       "      <td>9</td>\n",
       "      <td>NaN</td>\n",
       "      <td>False</td>\n",
       "      <td>False</td>\n",
       "      <td>NaN</td>\n",
       "      <td>0.0</td>\n",
       "      <td>Санкт-Петербург</td>\n",
       "      <td>28098.0</td>\n",
       "      <td>6800.0</td>\n",
       "      <td>2.0</td>\n",
       "      <td>84.0</td>\n",
       "      <td>3.0</td>\n",
       "      <td>234.0</td>\n",
       "      <td>424.0</td>\n",
       "    </tr>\n",
       "    <tr>\n",
       "      <td>4</td>\n",
       "      <td>2</td>\n",
       "      <td>10000000.0</td>\n",
       "      <td>100.00</td>\n",
       "      <td>2018-06-19T00:00:00</td>\n",
       "      <td>2</td>\n",
       "      <td>3.03</td>\n",
       "      <td>14.0</td>\n",
       "      <td>32.00</td>\n",
       "      <td>13</td>\n",
       "      <td>NaN</td>\n",
       "      <td>False</td>\n",
       "      <td>False</td>\n",
       "      <td>41.00</td>\n",
       "      <td>NaN</td>\n",
       "      <td>Санкт-Петербург</td>\n",
       "      <td>31856.0</td>\n",
       "      <td>8098.0</td>\n",
       "      <td>2.0</td>\n",
       "      <td>112.0</td>\n",
       "      <td>1.0</td>\n",
       "      <td>48.0</td>\n",
       "      <td>121.0</td>\n",
       "    </tr>\n",
       "    <tr>\n",
       "      <td>5</td>\n",
       "      <td>10</td>\n",
       "      <td>2890000.0</td>\n",
       "      <td>30.40</td>\n",
       "      <td>2018-09-10T00:00:00</td>\n",
       "      <td>1</td>\n",
       "      <td>NaN</td>\n",
       "      <td>12.0</td>\n",
       "      <td>14.40</td>\n",
       "      <td>5</td>\n",
       "      <td>NaN</td>\n",
       "      <td>False</td>\n",
       "      <td>False</td>\n",
       "      <td>9.10</td>\n",
       "      <td>NaN</td>\n",
       "      <td>городской посёлок Янино-1</td>\n",
       "      <td>NaN</td>\n",
       "      <td>NaN</td>\n",
       "      <td>NaN</td>\n",
       "      <td>NaN</td>\n",
       "      <td>NaN</td>\n",
       "      <td>NaN</td>\n",
       "      <td>55.0</td>\n",
       "    </tr>\n",
       "    <tr>\n",
       "      <td>6</td>\n",
       "      <td>6</td>\n",
       "      <td>3700000.0</td>\n",
       "      <td>37.30</td>\n",
       "      <td>2017-11-02T00:00:00</td>\n",
       "      <td>1</td>\n",
       "      <td>NaN</td>\n",
       "      <td>26.0</td>\n",
       "      <td>10.60</td>\n",
       "      <td>6</td>\n",
       "      <td>NaN</td>\n",
       "      <td>False</td>\n",
       "      <td>False</td>\n",
       "      <td>14.40</td>\n",
       "      <td>1.0</td>\n",
       "      <td>посёлок Парголово</td>\n",
       "      <td>52996.0</td>\n",
       "      <td>19143.0</td>\n",
       "      <td>0.0</td>\n",
       "      <td>NaN</td>\n",
       "      <td>0.0</td>\n",
       "      <td>NaN</td>\n",
       "      <td>155.0</td>\n",
       "    </tr>\n",
       "    <tr>\n",
       "      <td>7</td>\n",
       "      <td>5</td>\n",
       "      <td>7915000.0</td>\n",
       "      <td>71.60</td>\n",
       "      <td>2019-04-18T00:00:00</td>\n",
       "      <td>2</td>\n",
       "      <td>NaN</td>\n",
       "      <td>24.0</td>\n",
       "      <td>NaN</td>\n",
       "      <td>22</td>\n",
       "      <td>NaN</td>\n",
       "      <td>False</td>\n",
       "      <td>False</td>\n",
       "      <td>18.90</td>\n",
       "      <td>2.0</td>\n",
       "      <td>Санкт-Петербург</td>\n",
       "      <td>23982.0</td>\n",
       "      <td>11634.0</td>\n",
       "      <td>0.0</td>\n",
       "      <td>NaN</td>\n",
       "      <td>0.0</td>\n",
       "      <td>NaN</td>\n",
       "      <td>NaN</td>\n",
       "    </tr>\n",
       "    <tr>\n",
       "      <td>8</td>\n",
       "      <td>20</td>\n",
       "      <td>2900000.0</td>\n",
       "      <td>33.16</td>\n",
       "      <td>2018-05-23T00:00:00</td>\n",
       "      <td>1</td>\n",
       "      <td>NaN</td>\n",
       "      <td>27.0</td>\n",
       "      <td>15.43</td>\n",
       "      <td>26</td>\n",
       "      <td>NaN</td>\n",
       "      <td>False</td>\n",
       "      <td>False</td>\n",
       "      <td>8.81</td>\n",
       "      <td>NaN</td>\n",
       "      <td>посёлок Мурино</td>\n",
       "      <td>NaN</td>\n",
       "      <td>NaN</td>\n",
       "      <td>NaN</td>\n",
       "      <td>NaN</td>\n",
       "      <td>NaN</td>\n",
       "      <td>NaN</td>\n",
       "      <td>189.0</td>\n",
       "    </tr>\n",
       "    <tr>\n",
       "      <td>9</td>\n",
       "      <td>18</td>\n",
       "      <td>5400000.0</td>\n",
       "      <td>61.00</td>\n",
       "      <td>2017-02-26T00:00:00</td>\n",
       "      <td>3</td>\n",
       "      <td>2.50</td>\n",
       "      <td>9.0</td>\n",
       "      <td>43.60</td>\n",
       "      <td>7</td>\n",
       "      <td>NaN</td>\n",
       "      <td>False</td>\n",
       "      <td>False</td>\n",
       "      <td>6.50</td>\n",
       "      <td>2.0</td>\n",
       "      <td>Санкт-Петербург</td>\n",
       "      <td>50898.0</td>\n",
       "      <td>15008.0</td>\n",
       "      <td>0.0</td>\n",
       "      <td>NaN</td>\n",
       "      <td>0.0</td>\n",
       "      <td>NaN</td>\n",
       "      <td>289.0</td>\n",
       "    </tr>\n",
       "  </tbody>\n",
       "</table>\n",
       "</div>"
      ],
      "text/plain": [
       "   total_images  last_price  total_area first_day_exposition  rooms  \\\n",
       "0            20  13000000.0      108.00  2019-03-07T00:00:00      3   \n",
       "1             7   3350000.0       40.40  2018-12-04T00:00:00      1   \n",
       "2            10   5196000.0       56.00  2015-08-20T00:00:00      2   \n",
       "3             0  64900000.0      159.00  2015-07-24T00:00:00      3   \n",
       "4             2  10000000.0      100.00  2018-06-19T00:00:00      2   \n",
       "5            10   2890000.0       30.40  2018-09-10T00:00:00      1   \n",
       "6             6   3700000.0       37.30  2017-11-02T00:00:00      1   \n",
       "7             5   7915000.0       71.60  2019-04-18T00:00:00      2   \n",
       "8            20   2900000.0       33.16  2018-05-23T00:00:00      1   \n",
       "9            18   5400000.0       61.00  2017-02-26T00:00:00      3   \n",
       "\n",
       "   ceiling_height  floors_total  living_area  floor is_apartment  studio  \\\n",
       "0            2.70          16.0        51.00      8          NaN   False   \n",
       "1             NaN          11.0        18.60      1          NaN   False   \n",
       "2             NaN           5.0        34.30      4          NaN   False   \n",
       "3             NaN          14.0          NaN      9          NaN   False   \n",
       "4            3.03          14.0        32.00     13          NaN   False   \n",
       "5             NaN          12.0        14.40      5          NaN   False   \n",
       "6             NaN          26.0        10.60      6          NaN   False   \n",
       "7             NaN          24.0          NaN     22          NaN   False   \n",
       "8             NaN          27.0        15.43     26          NaN   False   \n",
       "9            2.50           9.0        43.60      7          NaN   False   \n",
       "\n",
       "   open_plan  kitchen_area  balcony              locality_name  \\\n",
       "0      False         25.00      NaN            Санкт-Петербург   \n",
       "1      False         11.00      2.0             посёлок Шушары   \n",
       "2      False          8.30      0.0            Санкт-Петербург   \n",
       "3      False           NaN      0.0            Санкт-Петербург   \n",
       "4      False         41.00      NaN            Санкт-Петербург   \n",
       "5      False          9.10      NaN  городской посёлок Янино-1   \n",
       "6      False         14.40      1.0          посёлок Парголово   \n",
       "7      False         18.90      2.0            Санкт-Петербург   \n",
       "8      False          8.81      NaN             посёлок Мурино   \n",
       "9      False          6.50      2.0            Санкт-Петербург   \n",
       "\n",
       "   airports_nearest  cityCenters_nearest  parks_around3000  parks_nearest  \\\n",
       "0           18863.0              16028.0               1.0          482.0   \n",
       "1           12817.0              18603.0               0.0            NaN   \n",
       "2           21741.0              13933.0               1.0           90.0   \n",
       "3           28098.0               6800.0               2.0           84.0   \n",
       "4           31856.0               8098.0               2.0          112.0   \n",
       "5               NaN                  NaN               NaN            NaN   \n",
       "6           52996.0              19143.0               0.0            NaN   \n",
       "7           23982.0              11634.0               0.0            NaN   \n",
       "8               NaN                  NaN               NaN            NaN   \n",
       "9           50898.0              15008.0               0.0            NaN   \n",
       "\n",
       "   ponds_around3000  ponds_nearest  days_exposition  \n",
       "0               2.0          755.0              NaN  \n",
       "1               0.0            NaN             81.0  \n",
       "2               2.0          574.0            558.0  \n",
       "3               3.0          234.0            424.0  \n",
       "4               1.0           48.0            121.0  \n",
       "5               NaN            NaN             55.0  \n",
       "6               0.0            NaN            155.0  \n",
       "7               0.0            NaN              NaN  \n",
       "8               NaN            NaN            189.0  \n",
       "9               0.0            NaN            289.0  "
      ]
     },
     "execution_count": 2,
     "metadata": {},
     "output_type": "execute_result"
    }
   ],
   "source": [
    "df = pd.read_csv('/datasets/real_estate_data.csv', sep='\\t')\n",
    "\n",
    "# установка настроек для отображения всех колонок при печати\n",
    "pd.set_option('display.max_columns', None)\n",
    "\n",
    "df.head(10)"
   ]
  },
  {
   "cell_type": "markdown",
   "metadata": {},
   "source": [
    "Получим общую информацию о данных из таблицы df"
   ]
  },
  {
   "cell_type": "code",
   "execution_count": 3,
   "metadata": {},
   "outputs": [
    {
     "name": "stdout",
     "output_type": "stream",
     "text": [
      "<class 'pandas.core.frame.DataFrame'>\n",
      "RangeIndex: 23699 entries, 0 to 23698\n",
      "Data columns (total 22 columns):\n",
      "total_images            23699 non-null int64\n",
      "last_price              23699 non-null float64\n",
      "total_area              23699 non-null float64\n",
      "first_day_exposition    23699 non-null object\n",
      "rooms                   23699 non-null int64\n",
      "ceiling_height          14504 non-null float64\n",
      "floors_total            23613 non-null float64\n",
      "living_area             21796 non-null float64\n",
      "floor                   23699 non-null int64\n",
      "is_apartment            2775 non-null object\n",
      "studio                  23699 non-null bool\n",
      "open_plan               23699 non-null bool\n",
      "kitchen_area            21421 non-null float64\n",
      "balcony                 12180 non-null float64\n",
      "locality_name           23650 non-null object\n",
      "airports_nearest        18157 non-null float64\n",
      "cityCenters_nearest     18180 non-null float64\n",
      "parks_around3000        18181 non-null float64\n",
      "parks_nearest           8079 non-null float64\n",
      "ponds_around3000        18181 non-null float64\n",
      "ponds_nearest           9110 non-null float64\n",
      "days_exposition         20518 non-null float64\n",
      "dtypes: bool(2), float64(14), int64(3), object(3)\n",
      "memory usage: 3.7+ MB\n"
     ]
    }
   ],
   "source": [
    "df.info()"
   ]
  },
  {
   "cell_type": "markdown",
   "metadata": {},
   "source": [
    "Рассмотрим подробнее полученную информацию.\n",
    "\n",
    "Всего в таблице 22 столбца.\n",
    "Типы данных столбцов: < bool >, < int64 >, < float64 > и < object >.\n",
    "Количество значений в столбцах различается. Это говорит о том, что в данных есть пропуски.\n",
    "\n",
    "Подробно разберем, какие в df столбцы, и какую информацию они содержат:\n",
    "\n",
    "**Описание данных**  \n",
    "\n",
    "* airports_nearest — расстояние до ближайшего аэропорта в метрах (м)  \n",
    "* balcony — число балконов  \n",
    "* ceiling_height — высота потолков (м)\n",
    "* cityCenters_nearest — расстояние до центра города (м)\n",
    "* days_exposition — сколько дней было размещено объявление (от публикации до снятия)\n",
    "* first_day_exposition — дата публикации\n",
    "* floor — этаж\n",
    "* floors_total — всего этажей в доме\n",
    "* is_apartment — апартаменты (булев тип)\n",
    "* kitchen_area — площадь кухни в квадратных метрах (м²)\n",
    "* last_price — цена на момент снятия с публикации\n",
    "* living_area — жилая площадь в квадратных метрах(м²)\n",
    "* locality_name — название населённого пункта\n",
    "* open_plan — свободная планировка (булев тип)\n",
    "* parks_around3000 — число парков в радиусе 3 км\n",
    "* parks_nearest — расстояние до ближайшего парка (м)\n",
    "* ponds_around3000 — число водоёмов в радиусе 3 км\n",
    "* ponds_nearest — расстояние до ближайшего водоёма (м)\n",
    "* rooms — число комнат\n",
    "* studio — квартира-студия (булев тип)\n",
    "* total_area — площадь квартиры в квадратных метрах (м²)\n",
    "* total_images — число фотографий квартиры в объявлении"
   ]
  },
  {
   "cell_type": "code",
   "execution_count": 4,
   "metadata": {
    "scrolled": true
   },
   "outputs": [
    {
     "data": {
      "text/html": [
       "<div>\n",
       "<style scoped>\n",
       "    .dataframe tbody tr th:only-of-type {\n",
       "        vertical-align: middle;\n",
       "    }\n",
       "\n",
       "    .dataframe tbody tr th {\n",
       "        vertical-align: top;\n",
       "    }\n",
       "\n",
       "    .dataframe thead th {\n",
       "        text-align: right;\n",
       "    }\n",
       "</style>\n",
       "<table border=\"1\" class=\"dataframe\">\n",
       "  <thead>\n",
       "    <tr style=\"text-align: right;\">\n",
       "      <th></th>\n",
       "      <th>total_images</th>\n",
       "      <th>last_price</th>\n",
       "      <th>total_area</th>\n",
       "      <th>rooms</th>\n",
       "      <th>ceiling_height</th>\n",
       "      <th>floors_total</th>\n",
       "      <th>living_area</th>\n",
       "      <th>floor</th>\n",
       "      <th>kitchen_area</th>\n",
       "      <th>balcony</th>\n",
       "      <th>airports_nearest</th>\n",
       "      <th>cityCenters_nearest</th>\n",
       "      <th>parks_around3000</th>\n",
       "      <th>parks_nearest</th>\n",
       "      <th>ponds_around3000</th>\n",
       "      <th>ponds_nearest</th>\n",
       "      <th>days_exposition</th>\n",
       "    </tr>\n",
       "  </thead>\n",
       "  <tbody>\n",
       "    <tr>\n",
       "      <td>count</td>\n",
       "      <td>23699.000000</td>\n",
       "      <td>2.369900e+04</td>\n",
       "      <td>23699.000000</td>\n",
       "      <td>23699.000000</td>\n",
       "      <td>14504.000000</td>\n",
       "      <td>23613.000000</td>\n",
       "      <td>21796.000000</td>\n",
       "      <td>23699.000000</td>\n",
       "      <td>21421.000000</td>\n",
       "      <td>12180.000000</td>\n",
       "      <td>18157.000000</td>\n",
       "      <td>18180.000000</td>\n",
       "      <td>18181.000000</td>\n",
       "      <td>8079.000000</td>\n",
       "      <td>18181.000000</td>\n",
       "      <td>9110.000000</td>\n",
       "      <td>20518.000000</td>\n",
       "    </tr>\n",
       "    <tr>\n",
       "      <td>mean</td>\n",
       "      <td>9.858475</td>\n",
       "      <td>6.541549e+06</td>\n",
       "      <td>60.348651</td>\n",
       "      <td>2.070636</td>\n",
       "      <td>2.771499</td>\n",
       "      <td>10.673824</td>\n",
       "      <td>34.457852</td>\n",
       "      <td>5.892358</td>\n",
       "      <td>10.569807</td>\n",
       "      <td>1.150082</td>\n",
       "      <td>28793.672193</td>\n",
       "      <td>14191.277833</td>\n",
       "      <td>0.611408</td>\n",
       "      <td>490.804555</td>\n",
       "      <td>0.770255</td>\n",
       "      <td>517.980900</td>\n",
       "      <td>180.888634</td>\n",
       "    </tr>\n",
       "    <tr>\n",
       "      <td>std</td>\n",
       "      <td>5.682529</td>\n",
       "      <td>1.088701e+07</td>\n",
       "      <td>35.654083</td>\n",
       "      <td>1.078405</td>\n",
       "      <td>1.261056</td>\n",
       "      <td>6.597173</td>\n",
       "      <td>22.030445</td>\n",
       "      <td>4.885249</td>\n",
       "      <td>5.905438</td>\n",
       "      <td>1.071300</td>\n",
       "      <td>12630.880622</td>\n",
       "      <td>8608.386210</td>\n",
       "      <td>0.802074</td>\n",
       "      <td>342.317995</td>\n",
       "      <td>0.938346</td>\n",
       "      <td>277.720643</td>\n",
       "      <td>219.727988</td>\n",
       "    </tr>\n",
       "    <tr>\n",
       "      <td>min</td>\n",
       "      <td>0.000000</td>\n",
       "      <td>1.219000e+04</td>\n",
       "      <td>12.000000</td>\n",
       "      <td>0.000000</td>\n",
       "      <td>1.000000</td>\n",
       "      <td>1.000000</td>\n",
       "      <td>2.000000</td>\n",
       "      <td>1.000000</td>\n",
       "      <td>1.300000</td>\n",
       "      <td>0.000000</td>\n",
       "      <td>0.000000</td>\n",
       "      <td>181.000000</td>\n",
       "      <td>0.000000</td>\n",
       "      <td>1.000000</td>\n",
       "      <td>0.000000</td>\n",
       "      <td>13.000000</td>\n",
       "      <td>1.000000</td>\n",
       "    </tr>\n",
       "    <tr>\n",
       "      <td>25%</td>\n",
       "      <td>6.000000</td>\n",
       "      <td>3.400000e+06</td>\n",
       "      <td>40.000000</td>\n",
       "      <td>1.000000</td>\n",
       "      <td>2.520000</td>\n",
       "      <td>5.000000</td>\n",
       "      <td>18.600000</td>\n",
       "      <td>2.000000</td>\n",
       "      <td>7.000000</td>\n",
       "      <td>0.000000</td>\n",
       "      <td>18585.000000</td>\n",
       "      <td>9238.000000</td>\n",
       "      <td>0.000000</td>\n",
       "      <td>288.000000</td>\n",
       "      <td>0.000000</td>\n",
       "      <td>294.000000</td>\n",
       "      <td>45.000000</td>\n",
       "    </tr>\n",
       "    <tr>\n",
       "      <td>50%</td>\n",
       "      <td>9.000000</td>\n",
       "      <td>4.650000e+06</td>\n",
       "      <td>52.000000</td>\n",
       "      <td>2.000000</td>\n",
       "      <td>2.650000</td>\n",
       "      <td>9.000000</td>\n",
       "      <td>30.000000</td>\n",
       "      <td>4.000000</td>\n",
       "      <td>9.100000</td>\n",
       "      <td>1.000000</td>\n",
       "      <td>26726.000000</td>\n",
       "      <td>13098.500000</td>\n",
       "      <td>0.000000</td>\n",
       "      <td>455.000000</td>\n",
       "      <td>1.000000</td>\n",
       "      <td>502.000000</td>\n",
       "      <td>95.000000</td>\n",
       "    </tr>\n",
       "    <tr>\n",
       "      <td>75%</td>\n",
       "      <td>14.000000</td>\n",
       "      <td>6.800000e+06</td>\n",
       "      <td>69.900000</td>\n",
       "      <td>3.000000</td>\n",
       "      <td>2.800000</td>\n",
       "      <td>16.000000</td>\n",
       "      <td>42.300000</td>\n",
       "      <td>8.000000</td>\n",
       "      <td>12.000000</td>\n",
       "      <td>2.000000</td>\n",
       "      <td>37273.000000</td>\n",
       "      <td>16293.000000</td>\n",
       "      <td>1.000000</td>\n",
       "      <td>612.000000</td>\n",
       "      <td>1.000000</td>\n",
       "      <td>729.000000</td>\n",
       "      <td>232.000000</td>\n",
       "    </tr>\n",
       "    <tr>\n",
       "      <td>max</td>\n",
       "      <td>50.000000</td>\n",
       "      <td>7.630000e+08</td>\n",
       "      <td>900.000000</td>\n",
       "      <td>19.000000</td>\n",
       "      <td>100.000000</td>\n",
       "      <td>60.000000</td>\n",
       "      <td>409.700000</td>\n",
       "      <td>33.000000</td>\n",
       "      <td>112.000000</td>\n",
       "      <td>5.000000</td>\n",
       "      <td>84869.000000</td>\n",
       "      <td>65968.000000</td>\n",
       "      <td>3.000000</td>\n",
       "      <td>3190.000000</td>\n",
       "      <td>3.000000</td>\n",
       "      <td>1344.000000</td>\n",
       "      <td>1580.000000</td>\n",
       "    </tr>\n",
       "  </tbody>\n",
       "</table>\n",
       "</div>"
      ],
      "text/plain": [
       "       total_images    last_price    total_area         rooms  ceiling_height  \\\n",
       "count  23699.000000  2.369900e+04  23699.000000  23699.000000    14504.000000   \n",
       "mean       9.858475  6.541549e+06     60.348651      2.070636        2.771499   \n",
       "std        5.682529  1.088701e+07     35.654083      1.078405        1.261056   \n",
       "min        0.000000  1.219000e+04     12.000000      0.000000        1.000000   \n",
       "25%        6.000000  3.400000e+06     40.000000      1.000000        2.520000   \n",
       "50%        9.000000  4.650000e+06     52.000000      2.000000        2.650000   \n",
       "75%       14.000000  6.800000e+06     69.900000      3.000000        2.800000   \n",
       "max       50.000000  7.630000e+08    900.000000     19.000000      100.000000   \n",
       "\n",
       "       floors_total   living_area         floor  kitchen_area       balcony  \\\n",
       "count  23613.000000  21796.000000  23699.000000  21421.000000  12180.000000   \n",
       "mean      10.673824     34.457852      5.892358     10.569807      1.150082   \n",
       "std        6.597173     22.030445      4.885249      5.905438      1.071300   \n",
       "min        1.000000      2.000000      1.000000      1.300000      0.000000   \n",
       "25%        5.000000     18.600000      2.000000      7.000000      0.000000   \n",
       "50%        9.000000     30.000000      4.000000      9.100000      1.000000   \n",
       "75%       16.000000     42.300000      8.000000     12.000000      2.000000   \n",
       "max       60.000000    409.700000     33.000000    112.000000      5.000000   \n",
       "\n",
       "       airports_nearest  cityCenters_nearest  parks_around3000  parks_nearest  \\\n",
       "count      18157.000000         18180.000000      18181.000000    8079.000000   \n",
       "mean       28793.672193         14191.277833          0.611408     490.804555   \n",
       "std        12630.880622          8608.386210          0.802074     342.317995   \n",
       "min            0.000000           181.000000          0.000000       1.000000   \n",
       "25%        18585.000000          9238.000000          0.000000     288.000000   \n",
       "50%        26726.000000         13098.500000          0.000000     455.000000   \n",
       "75%        37273.000000         16293.000000          1.000000     612.000000   \n",
       "max        84869.000000         65968.000000          3.000000    3190.000000   \n",
       "\n",
       "       ponds_around3000  ponds_nearest  days_exposition  \n",
       "count      18181.000000    9110.000000     20518.000000  \n",
       "mean           0.770255     517.980900       180.888634  \n",
       "std            0.938346     277.720643       219.727988  \n",
       "min            0.000000      13.000000         1.000000  \n",
       "25%            0.000000     294.000000        45.000000  \n",
       "50%            1.000000     502.000000        95.000000  \n",
       "75%            1.000000     729.000000       232.000000  \n",
       "max            3.000000    1344.000000      1580.000000  "
      ]
     },
     "execution_count": 4,
     "metadata": {},
     "output_type": "execute_result"
    }
   ],
   "source": [
    "df.describe()"
   ]
  },
  {
   "cell_type": "markdown",
   "metadata": {},
   "source": [
    "**Вывод**"
   ]
  },
  {
   "cell_type": "markdown",
   "metadata": {},
   "source": [
    "Таблица df хранит информацию о продаже квартир в Санкт-Петербурге и соседних населённых пунктах за несколько лет.\n",
    "\n",
    "Каждая строка таблицы содержит информацию об одном объекте недвижимости: населенный пункт, стоимость, этажность дома, тип и планировка, различные измерения как самого объекта (площадь, высота потолков, количество комнат и др.), так и расстояния от него до центра города, до парков, водоёмов.\n",
    "\n",
    "По таблице, содержащей описательную статистику, и по первым 10 строкам датасета, визуально, можно выделить следующие проблемы:  \n",
    "* наличие пропущенных значений в столбцах (необходимо проанализировать их возникновение  \n",
    "и при необходимости обработать: заполнить или удалить)\n",
    "* разный регистр наименования столбца 'cityCenters_nearest' (необходимо изменить на нижний)\n",
    "* слишком высокое значение (100м) высоты потолков в столбце 'ceiling_height',   \n",
    "а также все ячейки со значением выше чем 3,7 м (заменить на медианы)\n",
    "* слишком высокая этажность домов: по таблице максимум этажей = 60, но по последним данным в google,   \n",
    "максимум этажей в жилом доме в Санкт-Петербурге может быть не более 37, а в Ленинградской области: не более 29\n",
    "\n",
    "С учетом постановки задачи, также можно заключить, что целевым столбцом в дальнейшем для нас будет являться last_price, отражающий стоимость объекта недвижимости на момент снятия с публикации"
   ]
  },
  {
   "cell_type": "markdown",
   "metadata": {},
   "source": [
    "### Предобработка данных"
   ]
  },
  {
   "cell_type": "markdown",
   "metadata": {},
   "source": [
    "#### Корректировка наименований столбцов \n",
    "\n",
    "Для начала, изменим регистр наименования столбца с расстоянем до центра города, чтобы все наименования были удобочитаемы и к ним было легко обращаться:"
   ]
  },
  {
   "cell_type": "code",
   "execution_count": 5,
   "metadata": {},
   "outputs": [
    {
     "data": {
      "text/plain": [
       "Index(['total_images', 'last_price', 'total_area', 'first_day_exposition',\n",
       "       'rooms', 'ceiling_height', 'floors_total', 'living_area', 'floor',\n",
       "       'is_apartment', 'studio', 'open_plan', 'kitchen_area', 'balcony',\n",
       "       'locality_name', 'airports_nearest', 'cityCenters_nearest',\n",
       "       'parks_around3000', 'parks_nearest', 'ponds_around3000',\n",
       "       'ponds_nearest', 'days_exposition'],\n",
       "      dtype='object')"
      ]
     },
     "execution_count": 5,
     "metadata": {},
     "output_type": "execute_result"
    }
   ],
   "source": [
    "df.columns"
   ]
  },
  {
   "cell_type": "code",
   "execution_count": 6,
   "metadata": {},
   "outputs": [
    {
     "data": {
      "text/plain": [
       "Index(['total_images', 'last_price', 'total_area', 'first_day_exposition',\n",
       "       'rooms', 'ceiling_height', 'floors_total', 'living_area', 'floor',\n",
       "       'is_apartment', 'studio', 'open_plan', 'kitchen_area', 'balcony',\n",
       "       'locality_name', 'airports_nearest', 'citycenters_nearest',\n",
       "       'parks_around3000', 'parks_nearest', 'ponds_around3000',\n",
       "       'ponds_nearest', 'days_exposition'],\n",
       "      dtype='object')"
      ]
     },
     "execution_count": 6,
     "metadata": {},
     "output_type": "execute_result"
    }
   ],
   "source": [
    "df = df.rename(columns={'cityCenters_nearest': 'citycenters_nearest'})\n",
    "df.columns"
   ]
  },
  {
   "cell_type": "markdown",
   "metadata": {},
   "source": [
    "#### Приступим к обработке пропущенных значений.\n",
    "\n",
    "Просмотрим список столбцов с суммами пропусков по ним:"
   ]
  },
  {
   "cell_type": "code",
   "execution_count": 7,
   "metadata": {},
   "outputs": [
    {
     "data": {
      "text/plain": [
       "total_images                0\n",
       "last_price                  0\n",
       "total_area                  0\n",
       "first_day_exposition        0\n",
       "rooms                       0\n",
       "ceiling_height           9195\n",
       "floors_total               86\n",
       "living_area              1903\n",
       "floor                       0\n",
       "is_apartment            20924\n",
       "studio                      0\n",
       "open_plan                   0\n",
       "kitchen_area             2278\n",
       "balcony                 11519\n",
       "locality_name              49\n",
       "airports_nearest         5542\n",
       "citycenters_nearest      5519\n",
       "parks_around3000         5518\n",
       "parks_nearest           15620\n",
       "ponds_around3000         5518\n",
       "ponds_nearest           14589\n",
       "days_exposition          3181\n",
       "dtype: int64"
      ]
     },
     "execution_count": 7,
     "metadata": {},
     "output_type": "execute_result"
    }
   ],
   "source": [
    "df.isna().sum()"
   ]
  },
  {
   "cell_type": "markdown",
   "metadata": {},
   "source": [
    "Заменим все пропуски в столбце с балконами (**balcony**) на нули, сделав предположение что пропущены они потому что балкона в квартире нет  \n",
    "Убудимся что замена прошла:"
   ]
  },
  {
   "cell_type": "code",
   "execution_count": 8,
   "metadata": {},
   "outputs": [
    {
     "data": {
      "text/plain": [
       "0"
      ]
     },
     "execution_count": 8,
     "metadata": {},
     "output_type": "execute_result"
    }
   ],
   "source": [
    "df.balcony = df.balcony.fillna(0)\n",
    "df.balcony.isna().sum()"
   ]
  },
  {
   "cell_type": "markdown",
   "metadata": {},
   "source": [
    "В столбце с апартаментами (**is_apartment**) обнаружено слишком много пропусков (20924 из 23699).  \n",
    "Также, по условию задания мы берем в анализ только данные о жилых объектах, в то время как апартаменты относятся к нежилым помещениям. Следовательно, логично будет удалить все строки с положительным значением апартаментов (True), а все пропуски заменить на False.  \n",
    "И убедимся что все действия выполнены правильно."
   ]
  },
  {
   "cell_type": "code",
   "execution_count": 9,
   "metadata": {},
   "outputs": [
    {
     "data": {
      "text/plain": [
       "False    2725\n",
       "True       50\n",
       "Name: is_apartment, dtype: int64"
      ]
     },
     "execution_count": 9,
     "metadata": {},
     "output_type": "execute_result"
    }
   ],
   "source": [
    "df.is_apartment.value_counts()"
   ]
  },
  {
   "cell_type": "code",
   "execution_count": 10,
   "metadata": {},
   "outputs": [
    {
     "data": {
      "text/plain": [
       "False    23649\n",
       "Name: is_apartment, dtype: int64"
      ]
     },
     "execution_count": 10,
     "metadata": {},
     "output_type": "execute_result"
    }
   ],
   "source": [
    "df.is_apartment = df.is_apartment.fillna(False)\n",
    "df = df.query('is_apartment == False').reset_index(drop=True)\n",
    "df.is_apartment.value_counts()"
   ]
  },
  {
   "cell_type": "markdown",
   "metadata": {},
   "source": [
    "Посмотрим на описание столбца с высотой потолков:"
   ]
  },
  {
   "cell_type": "code",
   "execution_count": 11,
   "metadata": {},
   "outputs": [
    {
     "data": {
      "text/plain": [
       "count    14460.00000\n",
       "mean         2.76072\n",
       "std          0.93191\n",
       "min          1.00000\n",
       "25%          2.51000\n",
       "50%          2.65000\n",
       "75%          2.80000\n",
       "max         32.00000\n",
       "Name: ceiling_height, dtype: float64"
      ]
     },
     "execution_count": 11,
     "metadata": {},
     "output_type": "execute_result"
    }
   ],
   "source": [
    "df.ceiling_height.describe()"
   ]
  },
  {
   "cell_type": "markdown",
   "metadata": {},
   "source": [
    "В столбце **ceiling_height** (высота потолка) присутствуют слишком большие и слишком малые значения, но при этом медианное значение соответсвует ГОСТу, следовательно в данных присутствуют выбросы. \n",
    "Обработаем выбросы:  \n",
    "* произведем замену всех значений, которые окажутся выше 3,7м (максимальная возможная высота потолка в жилом помещении, например в сталинке)  \n",
    "* заменим значения, которые окажутся ниже чем 2,3 (самые низкие значения высоты потолка, учитывая здравый смысл) \n",
    "\n",
    "на медиану, предварительно выкинув их из выборки для более справедливого рассчета.\n",
    "\n",
    "* Пропуски также заменим на медианное значение по столбцу."
   ]
  },
  {
   "cell_type": "code",
   "execution_count": 12,
   "metadata": {},
   "outputs": [
    {
     "data": {
      "text/plain": [
       "2.65"
      ]
     },
     "execution_count": 12,
     "metadata": {},
     "output_type": "execute_result"
    }
   ],
   "source": [
    "ceiling_median =  df.query('2.3 <= ceiling_height <= 3.7').ceiling_height.median()\n",
    "ceiling_median"
   ]
  },
  {
   "cell_type": "code",
   "execution_count": 13,
   "metadata": {},
   "outputs": [
    {
     "data": {
      "text/plain": [
       "False    23500\n",
       "True       149\n",
       "Name: studio, dtype: int64"
      ]
     },
     "execution_count": 13,
     "metadata": {},
     "output_type": "execute_result"
    }
   ],
   "source": [
    "df.studio.value_counts()"
   ]
  },
  {
   "cell_type": "code",
   "execution_count": 14,
   "metadata": {},
   "outputs": [
    {
     "data": {
      "text/plain": [
       "0"
      ]
     },
     "execution_count": 14,
     "metadata": {},
     "output_type": "execute_result"
    }
   ],
   "source": [
    "df.ceiling_height = df.ceiling_height.fillna(ceiling_median)\n",
    "df.ceiling_height.isna().sum()"
   ]
  },
  {
   "cell_type": "code",
   "execution_count": 15,
   "metadata": {},
   "outputs": [
    {
     "data": {
      "text/plain": [
       "False    23500\n",
       "True       149\n",
       "Name: studio, dtype: int64"
      ]
     },
     "execution_count": 15,
     "metadata": {},
     "output_type": "execute_result"
    }
   ],
   "source": [
    "df.studio.value_counts()"
   ]
  },
  {
   "cell_type": "code",
   "execution_count": 16,
   "metadata": {},
   "outputs": [
    {
     "data": {
      "text/plain": [
       "count    23649.000000\n",
       "mean         2.687661\n",
       "std          0.186821\n",
       "min          2.300000\n",
       "25%          2.600000\n",
       "50%          2.650000\n",
       "75%          2.700000\n",
       "max          3.700000\n",
       "Name: ceiling_height, dtype: float64"
      ]
     },
     "execution_count": 16,
     "metadata": {},
     "output_type": "execute_result"
    }
   ],
   "source": [
    "df.ceiling_height = df.where(df.ceiling_height.between(2.3, 3.7), ceiling_median).ceiling_height\n",
    "df.ceiling_height.describe()"
   ]
  },
  {
   "cell_type": "code",
   "execution_count": 17,
   "metadata": {},
   "outputs": [
    {
     "name": "stdout",
     "output_type": "stream",
     "text": [
      "Максимальное значение высоты потолка: 3.7\n",
      "Минимальное значение высоты потолка: 2.3\n"
     ]
    }
   ],
   "source": [
    "print('Максимальное значение высоты потолка:', df.ceiling_height.max())\n",
    "print('Минимальное значение высоты потолка:', df.ceiling_height.min())"
   ]
  },
  {
   "cell_type": "markdown",
   "metadata": {},
   "source": [
    "Посмотрим на информацию о датасете еще раз:"
   ]
  },
  {
   "cell_type": "code",
   "execution_count": 18,
   "metadata": {},
   "outputs": [
    {
     "name": "stdout",
     "output_type": "stream",
     "text": [
      "<class 'pandas.core.frame.DataFrame'>\n",
      "RangeIndex: 23649 entries, 0 to 23648\n",
      "Data columns (total 22 columns):\n",
      "total_images            23649 non-null int64\n",
      "last_price              23649 non-null float64\n",
      "total_area              23649 non-null float64\n",
      "first_day_exposition    23649 non-null object\n",
      "rooms                   23649 non-null int64\n",
      "ceiling_height          23649 non-null float64\n",
      "floors_total            23563 non-null float64\n",
      "living_area             21754 non-null float64\n",
      "floor                   23649 non-null int64\n",
      "is_apartment            23649 non-null bool\n",
      "studio                  23649 non-null bool\n",
      "open_plan               23649 non-null bool\n",
      "kitchen_area            21386 non-null float64\n",
      "balcony                 23649 non-null float64\n",
      "locality_name           23600 non-null object\n",
      "airports_nearest        18116 non-null float64\n",
      "citycenters_nearest     18137 non-null float64\n",
      "parks_around3000        18138 non-null float64\n",
      "parks_nearest           8060 non-null float64\n",
      "ponds_around3000        18138 non-null float64\n",
      "ponds_nearest           9080 non-null float64\n",
      "days_exposition         20480 non-null float64\n",
      "dtypes: bool(3), float64(14), int64(3), object(2)\n",
      "memory usage: 3.5+ MB\n"
     ]
    }
   ],
   "source": [
    "df.info()"
   ]
  },
  {
   "cell_type": "code",
   "execution_count": 19,
   "metadata": {},
   "outputs": [
    {
     "data": {
      "text/plain": [
       "total_images                0\n",
       "last_price                  0\n",
       "total_area                  0\n",
       "first_day_exposition        0\n",
       "rooms                       0\n",
       "ceiling_height              0\n",
       "floors_total               86\n",
       "living_area              1895\n",
       "floor                       0\n",
       "is_apartment                0\n",
       "studio                      0\n",
       "open_plan                   0\n",
       "kitchen_area             2263\n",
       "balcony                     0\n",
       "locality_name              49\n",
       "airports_nearest         5533\n",
       "citycenters_nearest      5512\n",
       "parks_around3000         5511\n",
       "parks_nearest           15589\n",
       "ponds_around3000         5511\n",
       "ponds_nearest           14569\n",
       "days_exposition          3169\n",
       "dtype: int64"
      ]
     },
     "execution_count": 19,
     "metadata": {},
     "output_type": "execute_result"
    }
   ],
   "source": [
    "df.isna().sum()"
   ]
  },
  {
   "cell_type": "markdown",
   "metadata": {},
   "source": [
    "Рассмотрим столбцы **parks_nearest** (расстояние до ближайшего парка) и **parks_around3000** (кол-во парков в радиусе 3км):  \n",
    "в них методом .info() мы определили большое количество пропусков: "
   ]
  },
  {
   "cell_type": "code",
   "execution_count": 20,
   "metadata": {},
   "outputs": [
    {
     "name": "stdout",
     "output_type": "stream",
     "text": [
      "5511 пропусков в \"parks_around3000\" из 23649 количества значений.\n",
      "15589 пропусков в \"parks_nearest\" из 23649 количества значений.\n"
     ]
    }
   ],
   "source": [
    "print(df.parks_around3000.isna().sum(), 'пропусков в \"parks_around3000\" из', len(df.index), 'количества значений.')\n",
    "print(df.parks_nearest.isna().sum(), 'пропусков в \"parks_nearest\" из', len(df.index), 'количества значений.')"
   ]
  },
  {
   "cell_type": "markdown",
   "metadata": {},
   "source": [
    "Посмотрим какое количество парков указано у строк с пропущенным расстоянием до них:"
   ]
  },
  {
   "cell_type": "code",
   "execution_count": 21,
   "metadata": {},
   "outputs": [
    {
     "data": {
      "text/plain": [
       "0.0    10078\n",
       "Name: parks_around3000, dtype: int64"
      ]
     },
     "execution_count": 21,
     "metadata": {},
     "output_type": "execute_result"
    }
   ],
   "source": [
    "df.query('parks_nearest.isna()').parks_around3000.value_counts()"
   ]
  },
  {
   "cell_type": "markdown",
   "metadata": {},
   "source": [
    "Мы видим, что расстояние до парка пропущено у тех объектов, которые не имеют поблизости ни одного парка.  \n",
    "Это логичнее, чем заполнять пропуски нулями, т.к. по таким данным можно будет сделать неверный вывод о том, что объект недвижимости находится прямо внутри парка.  \n",
    "Поэтому, чтобы сохранить логику, оставим пропуски незаполненными.  \n",
    "\n",
    "По тому же принципу проверяем столбцы с информацией о ближайших водоёмах (**ponds_around3000**) и расстоянием до них (**ponds_nearest**):"
   ]
  },
  {
   "cell_type": "code",
   "execution_count": 22,
   "metadata": {},
   "outputs": [
    {
     "name": "stdout",
     "output_type": "stream",
     "text": [
      "5511 пропусков в \"ponds_around3000\" из 23649 количества значений.\n",
      "14569 пропусков в \"ponds_nearest\" из 23649 количества значений.\n"
     ]
    }
   ],
   "source": [
    "print(df.ponds_around3000.isna().sum(), 'пропусков в \"ponds_around3000\" из', len(df.index), 'количества значений.')\n",
    "print(df.ponds_nearest.isna().sum(), 'пропусков в \"ponds_nearest\" из', len(df.index), 'количества значений.')"
   ]
  },
  {
   "cell_type": "code",
   "execution_count": 23,
   "metadata": {},
   "outputs": [
    {
     "data": {
      "text/plain": [
       "0.0    9058\n",
       "Name: ponds_around3000, dtype: int64"
      ]
     },
     "execution_count": 23,
     "metadata": {},
     "output_type": "execute_result"
    }
   ],
   "source": [
    "df.query('ponds_nearest.isna()').ponds_around3000.value_counts()"
   ]
  },
  {
   "cell_type": "markdown",
   "metadata": {},
   "source": [
    "Таким образом, можно сделать аналогичный вывод что и с парками и оставить пропуски в данных двух столбцах незаполненными.\n",
    "\n",
    "Посмотрим на связку пропущенных значений в столбце **citycenters_nearest** (расстояние до центра города) со значениями столбца **locality_name** (населенный пункт) по этим строкам:"
   ]
  },
  {
   "cell_type": "code",
   "execution_count": 24,
   "metadata": {},
   "outputs": [
    {
     "data": {
      "text/plain": [
       "посёлок Мурино                                522\n",
       "Всеволожск                                    397\n",
       "Гатчина                                       307\n",
       "деревня Кудрово                               299\n",
       "Выборг                                        234\n",
       "                                             ... \n",
       "деревня Каськово                                1\n",
       "деревня Котлы                                   1\n",
       "посёлок при железнодорожной станции Вещево      1\n",
       "деревня Кривко                                  1\n",
       "посёлок Алексеевка                              1\n",
       "Name: locality_name, Length: 344, dtype: int64"
      ]
     },
     "execution_count": 24,
     "metadata": {},
     "output_type": "execute_result"
    }
   ],
   "source": [
    "df.query('citycenters_nearest.isna()').locality_name.value_counts()"
   ]
  },
  {
   "cell_type": "markdown",
   "metadata": {},
   "source": [
    "У каждого населенного пункта свой центр со своими уникальными координатами, которые нам не даны в таблице. Можно было бы используя гугл карты заполнить данные пропуски путем рассчета расстояний до центра каждого из 344 населенных пунктов, но т.к. данный столбец **citycenters_nearest** не фигурирует в заданиях по предобработке и анализу, сделаем вывод о его незначительной важности в решении нашей задачи и оставим пропуски в нем незаполненными.  \n",
    "Аналогичный вывод можно сделать на счет пропусков в столбце с расстоянием до ближайшего аэропорта **airports_nearest**:"
   ]
  },
  {
   "cell_type": "code",
   "execution_count": 25,
   "metadata": {},
   "outputs": [
    {
     "data": {
      "text/plain": [
       "посёлок Мурино                       522\n",
       "Всеволожск                           397\n",
       "Гатчина                              307\n",
       "деревня Кудрово                      299\n",
       "Выборг                               234\n",
       "                                    ... \n",
       "посёлок Коробицыно                     1\n",
       "садовое товарищество Приладожский      1\n",
       "поселок Жилгородок                     1\n",
       "деревня Сижно                          1\n",
       "поселок Тёсово-4                       1\n",
       "Name: locality_name, Length: 343, dtype: int64"
      ]
     },
     "execution_count": 25,
     "metadata": {},
     "output_type": "execute_result"
    }
   ],
   "source": [
    "df.query('airports_nearest.isna()').locality_name.value_counts()"
   ]
  },
  {
   "cell_type": "markdown",
   "metadata": {},
   "source": [
    "Не имеет смысла заполнять 343 значения в данных, которые нам не пригодятся для дальнейшего анализа и никак на него не повлияют, т.к. не будут нигде использованы.  \n",
    "\n",
    "Далее посмотрим на пропуски столбце **floors_total** (всего этажей в доме):"
   ]
  },
  {
   "cell_type": "code",
   "execution_count": 26,
   "metadata": {},
   "outputs": [
    {
     "name": "stdout",
     "output_type": "stream",
     "text": [
      "86 пропусков в столбце \"floors_total\" из 23649 количества значений.\n",
      "0 пропусков в столбце \"floor\"\n"
     ]
    }
   ],
   "source": [
    "print(df.floors_total.isna().sum(), 'пропусков в столбце \"floors_total\" из', len(df.index), 'количества значений.')\n",
    "print(df.floor.isna().sum(), 'пропусков в столбце \"floor\"')"
   ]
  },
  {
   "cell_type": "markdown",
   "metadata": {},
   "source": [
    "Посмотрим на описание значений в столбце с этажностью домов:"
   ]
  },
  {
   "cell_type": "code",
   "execution_count": 27,
   "metadata": {},
   "outputs": [
    {
     "data": {
      "text/plain": [
       "count    23563.000000\n",
       "mean        10.681832\n",
       "std          6.597585\n",
       "min          1.000000\n",
       "25%          5.000000\n",
       "50%          9.000000\n",
       "75%         16.000000\n",
       "max         60.000000\n",
       "Name: floors_total, dtype: float64"
      ]
     },
     "execution_count": 27,
     "metadata": {},
     "output_type": "execute_result"
    }
   ],
   "source": [
    "df.floors_total.describe()"
   ]
  },
  {
   "cell_type": "markdown",
   "metadata": {},
   "source": [
    "В глаза бросается максимум в 60 этажей. По данным самых высоких жилых зданий, в Санкт-Петербурге и Ленинградской области, максимальная этажность зданий не превышает 37. По описанию данных в столюце, мы видим что медианная этажность действительно не высокая - медиана равна 9 этажам, что очень похоже на правду.  \n",
    "Проверим сколько значений слишком высоки для реальности:"
   ]
  },
  {
   "cell_type": "code",
   "execution_count": 28,
   "metadata": {},
   "outputs": [
    {
     "data": {
      "text/plain": [
       "2"
      ]
     },
     "execution_count": 28,
     "metadata": {},
     "output_type": "execute_result"
    }
   ],
   "source": [
    "df.query('floors_total > 37').floors_total.count()"
   ]
  },
  {
   "cell_type": "code",
   "execution_count": 29,
   "metadata": {},
   "outputs": [
    {
     "data": {
      "text/plain": [
       "2249      4\n",
       "16696    18\n",
       "Name: floor, dtype: int64"
      ]
     },
     "execution_count": 29,
     "metadata": {},
     "output_type": "execute_result"
    }
   ],
   "source": [
    "df.query('floors_total > 37').floor"
   ]
  },
  {
   "cell_type": "markdown",
   "metadata": {},
   "source": [
    "Таких домов всего 2, объекты недвижимости в них находятся на 4 и на 18 этаже.  \n",
    "Заменим слишком высокие значения этажности на максимальное между медианой и этажом, на котором находится данный объект:"
   ]
  },
  {
   "cell_type": "code",
   "execution_count": 30,
   "metadata": {},
   "outputs": [
    {
     "name": "stdout",
     "output_type": "stream",
     "text": [
      "9.0\n",
      "18.0\n"
     ]
    }
   ],
   "source": [
    "import numpy as np\n",
    "\n",
    "median = df.floors_total.median()\n",
    "df.floors_total = df.floors_total.where(df.floors_total <= 37, np.maximum(df.floor, median))\n",
    "    \n",
    "print (df['floors_total'][2249])\n",
    "print (df['floors_total'][16696])"
   ]
  },
  {
   "cell_type": "markdown",
   "metadata": {},
   "source": [
    "По печати, можно убедиться что этажность домов заменена корректно.  \n",
    "Заменим пропуски в столбце с этажностью по тому же принципу, по которому заменяли слишком большие показатели  \n",
    "(аполним на основе данных об этаже объекта недвижимости, которые, в свою очередь, полностью заполнены):"
   ]
  },
  {
   "cell_type": "code",
   "execution_count": 31,
   "metadata": {},
   "outputs": [
    {
     "data": {
      "text/plain": [
       "0"
      ]
     },
     "execution_count": 31,
     "metadata": {},
     "output_type": "execute_result"
    }
   ],
   "source": [
    "df.floors_total = df.floors_total.fillna(np.maximum(df['floor'], median))\n",
    "df.floors_total.isna().sum()"
   ]
  },
  {
   "cell_type": "markdown",
   "metadata": {},
   "source": [
    "Пропусков в floors_total больше нет. \n",
    "\n",
    "Убедимся в корректности данных в столбцах **floors_total и floor**  \n",
    "(этажность дома не должна быть ниже чем этаж объекта недвижимости): "
   ]
  },
  {
   "cell_type": "code",
   "execution_count": 32,
   "metadata": {},
   "outputs": [
    {
     "data": {
      "text/plain": [
       "0"
      ]
     },
     "execution_count": 32,
     "metadata": {},
     "output_type": "execute_result"
    }
   ],
   "source": [
    "df.query('floors_total < floor').floors_total.count()"
   ]
  },
  {
   "cell_type": "code",
   "execution_count": 33,
   "metadata": {},
   "outputs": [
    {
     "data": {
      "text/plain": [
       "total_images                0\n",
       "last_price                  0\n",
       "total_area                  0\n",
       "first_day_exposition        0\n",
       "rooms                       0\n",
       "ceiling_height              0\n",
       "floors_total                0\n",
       "living_area              1895\n",
       "floor                       0\n",
       "is_apartment                0\n",
       "studio                      0\n",
       "open_plan                   0\n",
       "kitchen_area             2263\n",
       "balcony                     0\n",
       "locality_name              49\n",
       "airports_nearest         5533\n",
       "citycenters_nearest      5512\n",
       "parks_around3000         5511\n",
       "parks_nearest           15589\n",
       "ponds_around3000         5511\n",
       "ponds_nearest           14569\n",
       "days_exposition          3169\n",
       "dtype: int64"
      ]
     },
     "execution_count": 33,
     "metadata": {},
     "output_type": "execute_result"
    }
   ],
   "source": [
    "df.isna().sum()"
   ]
  },
  {
   "cell_type": "markdown",
   "metadata": {},
   "source": [
    "Пропуски в столбце **days_exposition** — сколько дней было размещено объявление (от\n",
    "публикации **до снятия**) можно объяснить тем, что квартира на настоящий момент еще не продана.  \n",
    "Получается что пропуски имеют логику и убирать/заменять их нет необходимости.\n",
    "\n",
    "Также 49 пропусков найдены в столбце с наименованием населенного пункта(**locality_name**). Можно предположить, что они образовались в результате некорректного ручного ввода данных. Для них нет способа подобрать логичные или подходящие значения на замену, т.к. у нас нет подсказок(например таких как координаты), поэтому придется оставить такие ячейки пустыми. \n",
    "\n",
    "Посмотрим на пропуски в столбцах **kitchen_area** (площадь кухни), **living_area** (жилая площадь), **total_area** (общая площадь квартиры):"
   ]
  },
  {
   "cell_type": "code",
   "execution_count": 34,
   "metadata": {},
   "outputs": [
    {
     "name": "stdout",
     "output_type": "stream",
     "text": [
      "2263 пропусков в столбце \"kitchen_area\" из 23649 количества значений.\n",
      "1895 пропусков в столбце \"living_area\" из 23649 количества значений.\n",
      "0 пропусков в столбце \"total_area\"\n",
      "\n",
      "1458 пропусков одновременно в 2х столбцах \"kitchen_area\" и \"living_area\"\n"
     ]
    }
   ],
   "source": [
    "print(df.kitchen_area.isna().sum(), 'пропусков в столбце \"kitchen_area\" из', len(df.index), 'количества значений.')\n",
    "print(df.living_area.isna().sum(), 'пропусков в столбце \"living_area\" из', len(df.index), 'количества значений.')\n",
    "print(df.total_area.isna().sum(), 'пропусков в столбце \"total_area\"')\n",
    "print()\n",
    "print(len(df[df.kitchen_area.isna() & df.living_area.isna()]), \n",
    "      'пропусков одновременно в 2х столбцах \"kitchen_area\" и \"living_area\"')"
   ]
  },
  {
   "cell_type": "markdown",
   "metadata": {},
   "source": [
    "Такие пропуски могли образоваться в результате некорректного ручного заполнения данных.\n",
    "\n",
    "Произведем замену пропусков в данных столбцах числом получившимся при умножения общей площади на средний коэффициент по известным данным: отношение жилой площади или площади кухни к общей площади:"
   ]
  },
  {
   "cell_type": "code",
   "execution_count": 35,
   "metadata": {},
   "outputs": [
    {
     "data": {
      "text/plain": [
       "0"
      ]
     },
     "execution_count": 35,
     "metadata": {},
     "output_type": "execute_result"
    }
   ],
   "source": [
    "df.query('kitchen_area==0').kitchen_area.count()"
   ]
  },
  {
   "cell_type": "code",
   "execution_count": 36,
   "metadata": {},
   "outputs": [
    {
     "name": "stdout",
     "output_type": "stream",
     "text": [
      "В колонке \"kitchen_area\" 0 пропущенных значений.\n",
      "В колонке \"living_area\" 0 пропущенных значений.\n"
     ]
    }
   ],
   "source": [
    "kitchen_coef = df.kitchen_area.mean() / df.total_area.mean()\n",
    "living_coef = df.living_area.mean() / df.total_area.mean()\n",
    "\n",
    "df.kitchen_area = df.kitchen_area.fillna(df.total_area * kitchen_coef)\n",
    "df.living_area = df.living_area.fillna(df.total_area * living_coef)\n",
    "\n",
    "print('В колонке \"kitchen_area\"', df.kitchen_area.isna().sum(), 'пропущенных значений.')\n",
    "print('В колонке \"living_area\"', df.living_area.isna().sum(), 'пропущенных значений.')"
   ]
  },
  {
   "cell_type": "markdown",
   "metadata": {},
   "source": [
    "Проверим все ли значения площадей логичны, т.е. суммарная жилая площадь и кухни должна быть меньше чем общая.  \n",
    "Выведем количество строк, у которых это условие не выполняется и общая площадь получилась меньше чем сумма кухни и жилой:"
   ]
  },
  {
   "cell_type": "code",
   "execution_count": 37,
   "metadata": {},
   "outputs": [
    {
     "name": "stdout",
     "output_type": "stream",
     "text": [
      "186 из общего количества строк: 23649\n"
     ]
    }
   ],
   "source": [
    "print(len(df.query('(kitchen_area + living_area) >= total_area')), 'из общего количества строк:', len(df.index))"
   ]
  },
  {
   "cell_type": "markdown",
   "metadata": {},
   "source": [
    "Мы нашли незначительное количество квартир, у которых размеры площади не удовлетворяют реальному положению дел.  \n",
    "Перезапишем датафрейм, исключив эти строки, оставив только корректные данные,  \n",
    "Проверим что все исправно выполнено:"
   ]
  },
  {
   "cell_type": "code",
   "execution_count": 38,
   "metadata": {},
   "outputs": [
    {
     "name": "stdout",
     "output_type": "stream",
     "text": [
      "0 из общего количества строк: 23463\n"
     ]
    }
   ],
   "source": [
    "df = df.query('(living_area + kitchen_area) < total_area')\n",
    "print(len(df.query('(kitchen_area + living_area) >= total_area')), 'из общего количества строк:', len(df.index))"
   ]
  },
  {
   "cell_type": "markdown",
   "metadata": {},
   "source": [
    "Посмотрим на столбец с данными о количестве комнат **rooms**:"
   ]
  },
  {
   "cell_type": "code",
   "execution_count": 39,
   "metadata": {},
   "outputs": [
    {
     "data": {
      "text/plain": [
       "count    23463.000000\n",
       "mean         2.073477\n",
       "std          1.076902\n",
       "min          0.000000\n",
       "25%          1.000000\n",
       "50%          2.000000\n",
       "75%          3.000000\n",
       "max         19.000000\n",
       "Name: rooms, dtype: float64"
      ]
     },
     "execution_count": 39,
     "metadata": {},
     "output_type": "execute_result"
    }
   ],
   "source": [
    "df.rooms.describe()"
   ]
  },
  {
   "cell_type": "code",
   "execution_count": 40,
   "metadata": {},
   "outputs": [
    {
     "data": {
      "text/plain": [
       "179"
      ]
     },
     "execution_count": 40,
     "metadata": {},
     "output_type": "execute_result"
    }
   ],
   "source": [
    "df.query('rooms == 0').rooms.count()"
   ]
  },
  {
   "cell_type": "markdown",
   "metadata": {},
   "source": [
    "Видим, что минимальное количество комнат равно нулю, что не может быть действительностью.  \n",
    "Можно сделать предположение о том, что нули оказались на месте необходимых единиц у квартир-студий (т.к. предположительно, этот столбец заполнял человек, а не машина, он мог исходя из того, что студия - это не однушка, заполнить кол-во комнат как ноль):"
   ]
  },
  {
   "cell_type": "code",
   "execution_count": 41,
   "metadata": {},
   "outputs": [
    {
     "data": {
      "text/plain": [
       "True     125\n",
       "False     54\n",
       "Name: studio, dtype: int64"
      ]
     },
     "execution_count": 41,
     "metadata": {},
     "output_type": "execute_result"
    }
   ],
   "source": [
    "df.query('rooms == 0').studio.value_counts()"
   ]
  },
  {
   "cell_type": "code",
   "execution_count": 42,
   "metadata": {},
   "outputs": [
    {
     "data": {
      "text/plain": [
       "0    125\n",
       "1      9\n",
       "Name: rooms, dtype: int64"
      ]
     },
     "execution_count": 42,
     "metadata": {},
     "output_type": "execute_result"
    }
   ],
   "source": [
    "df.query('studio == True').rooms.value_counts()"
   ]
  },
  {
   "cell_type": "code",
   "execution_count": 43,
   "metadata": {},
   "outputs": [
    {
     "data": {
      "text/plain": [
       "134"
      ]
     },
     "execution_count": 43,
     "metadata": {},
     "output_type": "execute_result"
    }
   ],
   "source": [
    "len(df.query('studio == True').rooms)"
   ]
  },
  {
   "cell_type": "code",
   "execution_count": 44,
   "metadata": {},
   "outputs": [
    {
     "data": {
      "text/plain": [
       "179"
      ]
     },
     "execution_count": 44,
     "metadata": {},
     "output_type": "execute_result"
    }
   ],
   "source": [
    "df.query('rooms == 0').rooms.count()"
   ]
  },
  {
   "cell_type": "markdown",
   "metadata": {},
   "source": [
    "Мы видим что всего в квартирах-студиях заполнено 125 нулевых значений у столбца с количеством комнат. Всего студий найдено 134. 9 из них указаны как однокомнатные, что соответствует действительности.\n",
    "\n",
    "Произведем замену всех нулевых значений комнат у студий на единицу:"
   ]
  },
  {
   "cell_type": "code",
   "execution_count": 45,
   "metadata": {},
   "outputs": [
    {
     "data": {
      "text/plain": [
       "1    134\n",
       "Name: rooms, dtype: int64"
      ]
     },
     "execution_count": 45,
     "metadata": {},
     "output_type": "execute_result"
    }
   ],
   "source": [
    "df.rooms = df.where((df.rooms != 0) & (df.studio == False), 1).rooms\n",
    "df.query('studio == True').rooms.value_counts()"
   ]
  },
  {
   "cell_type": "markdown",
   "metadata": {},
   "source": [
    "#### Типы данных\n",
    "\n",
    "Посмотрим на типы данных в колонках датафрейма:"
   ]
  },
  {
   "cell_type": "code",
   "execution_count": 46,
   "metadata": {},
   "outputs": [
    {
     "name": "stdout",
     "output_type": "stream",
     "text": [
      "<class 'pandas.core.frame.DataFrame'>\n",
      "Int64Index: 23463 entries, 0 to 23648\n",
      "Data columns (total 22 columns):\n",
      "total_images            23463 non-null int64\n",
      "last_price              23463 non-null float64\n",
      "total_area              23463 non-null float64\n",
      "first_day_exposition    23463 non-null object\n",
      "rooms                   23463 non-null int64\n",
      "ceiling_height          23463 non-null float64\n",
      "floors_total            23463 non-null float64\n",
      "living_area             23463 non-null float64\n",
      "floor                   23463 non-null int64\n",
      "is_apartment            23463 non-null bool\n",
      "studio                  23463 non-null bool\n",
      "open_plan               23463 non-null bool\n",
      "kitchen_area            23463 non-null float64\n",
      "balcony                 23463 non-null float64\n",
      "locality_name           23414 non-null object\n",
      "airports_nearest        17993 non-null float64\n",
      "citycenters_nearest     18014 non-null float64\n",
      "parks_around3000        18015 non-null float64\n",
      "parks_nearest           8004 non-null float64\n",
      "ponds_around3000        18015 non-null float64\n",
      "ponds_nearest           9024 non-null float64\n",
      "days_exposition         20314 non-null float64\n",
      "dtypes: bool(3), float64(14), int64(3), object(2)\n",
      "memory usage: 3.6+ MB\n"
     ]
    }
   ],
   "source": [
    "df.info()"
   ]
  },
  {
   "cell_type": "markdown",
   "metadata": {},
   "source": [
    "С учетом колчественного содержимого, которое не может быть дробным,  \n",
    "тип данных следующих колонок стоит заменить с вещественного float на целочисленный integer: \n",
    "* **floors_total** - всего этажей в доме\n",
    "* **balcony** - количество балконов  \n",
    "\n",
    "Также есть количественные столбцы с пропусками, в которых было бы логично сделать замену типа на целочисленный, но это невозможно, т.к. пропуски мы оставили намеренно:\n",
    "* parks_around3000 - число парков в радиусе 3 км (есть пропуски)\n",
    "* ponds_around3000 - число водоёмов в радиусе 3 км (есть пропуски)"
   ]
  },
  {
   "cell_type": "code",
   "execution_count": 47,
   "metadata": {},
   "outputs": [],
   "source": [
    "df.floors_total = df.floors_total.astype('int64')\n",
    "df.balcony = df.balcony.astype('int64')"
   ]
  },
  {
   "cell_type": "markdown",
   "metadata": {},
   "source": [
    "Столбец **first_day_exposition**, содержащий даты публикации объявлений о продаже квартир, также следует перевести из строкового типа данных в дату и время. Произведем замену при помощи метода .to_datetime и убедимся в том, что все выполнено корректно:"
   ]
  },
  {
   "cell_type": "code",
   "execution_count": 48,
   "metadata": {
    "scrolled": true
   },
   "outputs": [
    {
     "data": {
      "text/html": [
       "<div>\n",
       "<style scoped>\n",
       "    .dataframe tbody tr th:only-of-type {\n",
       "        vertical-align: middle;\n",
       "    }\n",
       "\n",
       "    .dataframe tbody tr th {\n",
       "        vertical-align: top;\n",
       "    }\n",
       "\n",
       "    .dataframe thead th {\n",
       "        text-align: right;\n",
       "    }\n",
       "</style>\n",
       "<table border=\"1\" class=\"dataframe\">\n",
       "  <thead>\n",
       "    <tr style=\"text-align: right;\">\n",
       "      <th></th>\n",
       "      <th>total_images</th>\n",
       "      <th>last_price</th>\n",
       "      <th>total_area</th>\n",
       "      <th>first_day_exposition</th>\n",
       "      <th>rooms</th>\n",
       "      <th>ceiling_height</th>\n",
       "      <th>floors_total</th>\n",
       "      <th>living_area</th>\n",
       "      <th>floor</th>\n",
       "      <th>is_apartment</th>\n",
       "      <th>studio</th>\n",
       "      <th>open_plan</th>\n",
       "      <th>kitchen_area</th>\n",
       "      <th>balcony</th>\n",
       "      <th>locality_name</th>\n",
       "      <th>airports_nearest</th>\n",
       "      <th>citycenters_nearest</th>\n",
       "      <th>parks_around3000</th>\n",
       "      <th>parks_nearest</th>\n",
       "      <th>ponds_around3000</th>\n",
       "      <th>ponds_nearest</th>\n",
       "      <th>days_exposition</th>\n",
       "    </tr>\n",
       "  </thead>\n",
       "  <tbody>\n",
       "    <tr>\n",
       "      <td>0</td>\n",
       "      <td>20</td>\n",
       "      <td>13000000.0</td>\n",
       "      <td>108.0</td>\n",
       "      <td>2019-03-07</td>\n",
       "      <td>3</td>\n",
       "      <td>2.70</td>\n",
       "      <td>16</td>\n",
       "      <td>51.00000</td>\n",
       "      <td>8</td>\n",
       "      <td>False</td>\n",
       "      <td>False</td>\n",
       "      <td>False</td>\n",
       "      <td>25.000000</td>\n",
       "      <td>0</td>\n",
       "      <td>Санкт-Петербург</td>\n",
       "      <td>18863.0</td>\n",
       "      <td>16028.0</td>\n",
       "      <td>1.0</td>\n",
       "      <td>482.0</td>\n",
       "      <td>2.0</td>\n",
       "      <td>755.0</td>\n",
       "      <td>NaN</td>\n",
       "    </tr>\n",
       "    <tr>\n",
       "      <td>1</td>\n",
       "      <td>7</td>\n",
       "      <td>3350000.0</td>\n",
       "      <td>40.4</td>\n",
       "      <td>2018-12-04</td>\n",
       "      <td>1</td>\n",
       "      <td>2.65</td>\n",
       "      <td>11</td>\n",
       "      <td>18.60000</td>\n",
       "      <td>1</td>\n",
       "      <td>False</td>\n",
       "      <td>False</td>\n",
       "      <td>False</td>\n",
       "      <td>11.000000</td>\n",
       "      <td>2</td>\n",
       "      <td>посёлок Шушары</td>\n",
       "      <td>12817.0</td>\n",
       "      <td>18603.0</td>\n",
       "      <td>0.0</td>\n",
       "      <td>NaN</td>\n",
       "      <td>0.0</td>\n",
       "      <td>NaN</td>\n",
       "      <td>81.0</td>\n",
       "    </tr>\n",
       "    <tr>\n",
       "      <td>2</td>\n",
       "      <td>10</td>\n",
       "      <td>5196000.0</td>\n",
       "      <td>56.0</td>\n",
       "      <td>2015-08-20</td>\n",
       "      <td>2</td>\n",
       "      <td>2.65</td>\n",
       "      <td>5</td>\n",
       "      <td>34.30000</td>\n",
       "      <td>4</td>\n",
       "      <td>False</td>\n",
       "      <td>False</td>\n",
       "      <td>False</td>\n",
       "      <td>8.300000</td>\n",
       "      <td>0</td>\n",
       "      <td>Санкт-Петербург</td>\n",
       "      <td>21741.0</td>\n",
       "      <td>13933.0</td>\n",
       "      <td>1.0</td>\n",
       "      <td>90.0</td>\n",
       "      <td>2.0</td>\n",
       "      <td>574.0</td>\n",
       "      <td>558.0</td>\n",
       "    </tr>\n",
       "    <tr>\n",
       "      <td>3</td>\n",
       "      <td>0</td>\n",
       "      <td>64900000.0</td>\n",
       "      <td>159.0</td>\n",
       "      <td>2015-07-24</td>\n",
       "      <td>3</td>\n",
       "      <td>2.65</td>\n",
       "      <td>14</td>\n",
       "      <td>90.79007</td>\n",
       "      <td>9</td>\n",
       "      <td>False</td>\n",
       "      <td>False</td>\n",
       "      <td>False</td>\n",
       "      <td>27.839715</td>\n",
       "      <td>0</td>\n",
       "      <td>Санкт-Петербург</td>\n",
       "      <td>28098.0</td>\n",
       "      <td>6800.0</td>\n",
       "      <td>2.0</td>\n",
       "      <td>84.0</td>\n",
       "      <td>3.0</td>\n",
       "      <td>234.0</td>\n",
       "      <td>424.0</td>\n",
       "    </tr>\n",
       "    <tr>\n",
       "      <td>4</td>\n",
       "      <td>2</td>\n",
       "      <td>10000000.0</td>\n",
       "      <td>100.0</td>\n",
       "      <td>2018-06-19</td>\n",
       "      <td>2</td>\n",
       "      <td>3.03</td>\n",
       "      <td>14</td>\n",
       "      <td>32.00000</td>\n",
       "      <td>13</td>\n",
       "      <td>False</td>\n",
       "      <td>False</td>\n",
       "      <td>False</td>\n",
       "      <td>41.000000</td>\n",
       "      <td>0</td>\n",
       "      <td>Санкт-Петербург</td>\n",
       "      <td>31856.0</td>\n",
       "      <td>8098.0</td>\n",
       "      <td>2.0</td>\n",
       "      <td>112.0</td>\n",
       "      <td>1.0</td>\n",
       "      <td>48.0</td>\n",
       "      <td>121.0</td>\n",
       "    </tr>\n",
       "  </tbody>\n",
       "</table>\n",
       "</div>"
      ],
      "text/plain": [
       "   total_images  last_price  total_area first_day_exposition  rooms  \\\n",
       "0            20  13000000.0       108.0           2019-03-07      3   \n",
       "1             7   3350000.0        40.4           2018-12-04      1   \n",
       "2            10   5196000.0        56.0           2015-08-20      2   \n",
       "3             0  64900000.0       159.0           2015-07-24      3   \n",
       "4             2  10000000.0       100.0           2018-06-19      2   \n",
       "\n",
       "   ceiling_height  floors_total  living_area  floor  is_apartment  studio  \\\n",
       "0            2.70            16     51.00000      8         False   False   \n",
       "1            2.65            11     18.60000      1         False   False   \n",
       "2            2.65             5     34.30000      4         False   False   \n",
       "3            2.65            14     90.79007      9         False   False   \n",
       "4            3.03            14     32.00000     13         False   False   \n",
       "\n",
       "   open_plan  kitchen_area  balcony    locality_name  airports_nearest  \\\n",
       "0      False     25.000000        0  Санкт-Петербург           18863.0   \n",
       "1      False     11.000000        2   посёлок Шушары           12817.0   \n",
       "2      False      8.300000        0  Санкт-Петербург           21741.0   \n",
       "3      False     27.839715        0  Санкт-Петербург           28098.0   \n",
       "4      False     41.000000        0  Санкт-Петербург           31856.0   \n",
       "\n",
       "   citycenters_nearest  parks_around3000  parks_nearest  ponds_around3000  \\\n",
       "0              16028.0               1.0          482.0               2.0   \n",
       "1              18603.0               0.0            NaN               0.0   \n",
       "2              13933.0               1.0           90.0               2.0   \n",
       "3               6800.0               2.0           84.0               3.0   \n",
       "4               8098.0               2.0          112.0               1.0   \n",
       "\n",
       "   ponds_nearest  days_exposition  \n",
       "0          755.0              NaN  \n",
       "1            NaN             81.0  \n",
       "2          574.0            558.0  \n",
       "3          234.0            424.0  \n",
       "4           48.0            121.0  "
      ]
     },
     "execution_count": 48,
     "metadata": {},
     "output_type": "execute_result"
    }
   ],
   "source": [
    "df.first_day_exposition = pd.to_datetime(df.first_day_exposition, format='%Y-%m-%dT%H:%M:%S')\n",
    "df.head()"
   ]
  },
  {
   "cell_type": "markdown",
   "metadata": {},
   "source": [
    "**Вывод:**\n",
    "\n",
    "1. В данном пункте мы произвели замену регистра наименования столбца с расстоянием до центра города для удобного обращения к нему в дальнейшем.\n",
    "2. Обработали пропуски в столбцах с количеством балконов, высотой потолков, этажностью дома, площадями кухни и жилой, апартаментами.  \n",
    "3. Удалили строки:  \n",
    "    * с положительным значением об апартаментах за ненужностью в дальнейшем анализе, связанном с жилыми объектами недвижимости (т.к. апартаменты - это нежилая недвижимость).\n",
    "    * с суммарной площадью кухни и жилой, которая оказалась больше чем общая \n",
    "4. Объяснили почему не стоит трогать пропуски в остальных столбцах:   \n",
    "    * либо нет данных чтобы заполнить корректно: столбцы с названием населенного пункта, расстояние до аэропорта; \n",
    "    * либо не нужны в дальнейшей работе: расстояния и количество парков, водоемов;\n",
    "    * либо пропуски являются логичными: также в расстояния и количество парков, водоемов, и еще в столбце с кол-вом дней, которое было размещено объявление до его снятия (снятие до сих пор не произошло)\n",
    "6. Заменили значения слишком высоких и низких потолков на медианное, заменили нулевые значения в столбце с кол-вом комнат на единицу, проследив связь с положительной отметкой о том, что квартира является студией ( а у студий 1 комната, а не 0)\n",
    "5. Заменили некорректные типы данных в столбцах, где это возможно: этажность и балконы с вещественного на целочисленный (т.к. это количественные показатели), и дату размещения объявления - со строкового на дату/время."
   ]
  },
  {
   "cell_type": "markdown",
   "metadata": {},
   "source": [
    "### Рассчет и добавление в таблицу дополнительных параметров"
   ]
  },
  {
   "cell_type": "markdown",
   "metadata": {},
   "source": [
    "Посчитаем и добавим в таблицу столбец, содержащий цену квадратного метра по каждому объекту недвижимости:"
   ]
  },
  {
   "cell_type": "code",
   "execution_count": 49,
   "metadata": {},
   "outputs": [
    {
     "data": {
      "text/html": [
       "<div>\n",
       "<style scoped>\n",
       "    .dataframe tbody tr th:only-of-type {\n",
       "        vertical-align: middle;\n",
       "    }\n",
       "\n",
       "    .dataframe tbody tr th {\n",
       "        vertical-align: top;\n",
       "    }\n",
       "\n",
       "    .dataframe thead th {\n",
       "        text-align: right;\n",
       "    }\n",
       "</style>\n",
       "<table border=\"1\" class=\"dataframe\">\n",
       "  <thead>\n",
       "    <tr style=\"text-align: right;\">\n",
       "      <th></th>\n",
       "      <th>total_images</th>\n",
       "      <th>last_price</th>\n",
       "      <th>total_area</th>\n",
       "      <th>first_day_exposition</th>\n",
       "      <th>rooms</th>\n",
       "      <th>ceiling_height</th>\n",
       "      <th>floors_total</th>\n",
       "      <th>living_area</th>\n",
       "      <th>floor</th>\n",
       "      <th>is_apartment</th>\n",
       "      <th>studio</th>\n",
       "      <th>open_plan</th>\n",
       "      <th>kitchen_area</th>\n",
       "      <th>balcony</th>\n",
       "      <th>locality_name</th>\n",
       "      <th>airports_nearest</th>\n",
       "      <th>citycenters_nearest</th>\n",
       "      <th>parks_around3000</th>\n",
       "      <th>parks_nearest</th>\n",
       "      <th>ponds_around3000</th>\n",
       "      <th>ponds_nearest</th>\n",
       "      <th>days_exposition</th>\n",
       "      <th>price_m2</th>\n",
       "    </tr>\n",
       "  </thead>\n",
       "  <tbody>\n",
       "    <tr>\n",
       "      <td>0</td>\n",
       "      <td>20</td>\n",
       "      <td>13000000.0</td>\n",
       "      <td>108.0</td>\n",
       "      <td>2019-03-07</td>\n",
       "      <td>3</td>\n",
       "      <td>2.70</td>\n",
       "      <td>16</td>\n",
       "      <td>51.00000</td>\n",
       "      <td>8</td>\n",
       "      <td>False</td>\n",
       "      <td>False</td>\n",
       "      <td>False</td>\n",
       "      <td>25.000000</td>\n",
       "      <td>0</td>\n",
       "      <td>Санкт-Петербург</td>\n",
       "      <td>18863.0</td>\n",
       "      <td>16028.0</td>\n",
       "      <td>1.0</td>\n",
       "      <td>482.0</td>\n",
       "      <td>2.0</td>\n",
       "      <td>755.0</td>\n",
       "      <td>NaN</td>\n",
       "      <td>120370.370370</td>\n",
       "    </tr>\n",
       "    <tr>\n",
       "      <td>1</td>\n",
       "      <td>7</td>\n",
       "      <td>3350000.0</td>\n",
       "      <td>40.4</td>\n",
       "      <td>2018-12-04</td>\n",
       "      <td>1</td>\n",
       "      <td>2.65</td>\n",
       "      <td>11</td>\n",
       "      <td>18.60000</td>\n",
       "      <td>1</td>\n",
       "      <td>False</td>\n",
       "      <td>False</td>\n",
       "      <td>False</td>\n",
       "      <td>11.000000</td>\n",
       "      <td>2</td>\n",
       "      <td>посёлок Шушары</td>\n",
       "      <td>12817.0</td>\n",
       "      <td>18603.0</td>\n",
       "      <td>0.0</td>\n",
       "      <td>NaN</td>\n",
       "      <td>0.0</td>\n",
       "      <td>NaN</td>\n",
       "      <td>81.0</td>\n",
       "      <td>82920.792079</td>\n",
       "    </tr>\n",
       "    <tr>\n",
       "      <td>2</td>\n",
       "      <td>10</td>\n",
       "      <td>5196000.0</td>\n",
       "      <td>56.0</td>\n",
       "      <td>2015-08-20</td>\n",
       "      <td>2</td>\n",
       "      <td>2.65</td>\n",
       "      <td>5</td>\n",
       "      <td>34.30000</td>\n",
       "      <td>4</td>\n",
       "      <td>False</td>\n",
       "      <td>False</td>\n",
       "      <td>False</td>\n",
       "      <td>8.300000</td>\n",
       "      <td>0</td>\n",
       "      <td>Санкт-Петербург</td>\n",
       "      <td>21741.0</td>\n",
       "      <td>13933.0</td>\n",
       "      <td>1.0</td>\n",
       "      <td>90.0</td>\n",
       "      <td>2.0</td>\n",
       "      <td>574.0</td>\n",
       "      <td>558.0</td>\n",
       "      <td>92785.714286</td>\n",
       "    </tr>\n",
       "    <tr>\n",
       "      <td>3</td>\n",
       "      <td>0</td>\n",
       "      <td>64900000.0</td>\n",
       "      <td>159.0</td>\n",
       "      <td>2015-07-24</td>\n",
       "      <td>3</td>\n",
       "      <td>2.65</td>\n",
       "      <td>14</td>\n",
       "      <td>90.79007</td>\n",
       "      <td>9</td>\n",
       "      <td>False</td>\n",
       "      <td>False</td>\n",
       "      <td>False</td>\n",
       "      <td>27.839715</td>\n",
       "      <td>0</td>\n",
       "      <td>Санкт-Петербург</td>\n",
       "      <td>28098.0</td>\n",
       "      <td>6800.0</td>\n",
       "      <td>2.0</td>\n",
       "      <td>84.0</td>\n",
       "      <td>3.0</td>\n",
       "      <td>234.0</td>\n",
       "      <td>424.0</td>\n",
       "      <td>408176.100629</td>\n",
       "    </tr>\n",
       "    <tr>\n",
       "      <td>4</td>\n",
       "      <td>2</td>\n",
       "      <td>10000000.0</td>\n",
       "      <td>100.0</td>\n",
       "      <td>2018-06-19</td>\n",
       "      <td>2</td>\n",
       "      <td>3.03</td>\n",
       "      <td>14</td>\n",
       "      <td>32.00000</td>\n",
       "      <td>13</td>\n",
       "      <td>False</td>\n",
       "      <td>False</td>\n",
       "      <td>False</td>\n",
       "      <td>41.000000</td>\n",
       "      <td>0</td>\n",
       "      <td>Санкт-Петербург</td>\n",
       "      <td>31856.0</td>\n",
       "      <td>8098.0</td>\n",
       "      <td>2.0</td>\n",
       "      <td>112.0</td>\n",
       "      <td>1.0</td>\n",
       "      <td>48.0</td>\n",
       "      <td>121.0</td>\n",
       "      <td>100000.000000</td>\n",
       "    </tr>\n",
       "  </tbody>\n",
       "</table>\n",
       "</div>"
      ],
      "text/plain": [
       "   total_images  last_price  total_area first_day_exposition  rooms  \\\n",
       "0            20  13000000.0       108.0           2019-03-07      3   \n",
       "1             7   3350000.0        40.4           2018-12-04      1   \n",
       "2            10   5196000.0        56.0           2015-08-20      2   \n",
       "3             0  64900000.0       159.0           2015-07-24      3   \n",
       "4             2  10000000.0       100.0           2018-06-19      2   \n",
       "\n",
       "   ceiling_height  floors_total  living_area  floor  is_apartment  studio  \\\n",
       "0            2.70            16     51.00000      8         False   False   \n",
       "1            2.65            11     18.60000      1         False   False   \n",
       "2            2.65             5     34.30000      4         False   False   \n",
       "3            2.65            14     90.79007      9         False   False   \n",
       "4            3.03            14     32.00000     13         False   False   \n",
       "\n",
       "   open_plan  kitchen_area  balcony    locality_name  airports_nearest  \\\n",
       "0      False     25.000000        0  Санкт-Петербург           18863.0   \n",
       "1      False     11.000000        2   посёлок Шушары           12817.0   \n",
       "2      False      8.300000        0  Санкт-Петербург           21741.0   \n",
       "3      False     27.839715        0  Санкт-Петербург           28098.0   \n",
       "4      False     41.000000        0  Санкт-Петербург           31856.0   \n",
       "\n",
       "   citycenters_nearest  parks_around3000  parks_nearest  ponds_around3000  \\\n",
       "0              16028.0               1.0          482.0               2.0   \n",
       "1              18603.0               0.0            NaN               0.0   \n",
       "2              13933.0               1.0           90.0               2.0   \n",
       "3               6800.0               2.0           84.0               3.0   \n",
       "4               8098.0               2.0          112.0               1.0   \n",
       "\n",
       "   ponds_nearest  days_exposition       price_m2  \n",
       "0          755.0              NaN  120370.370370  \n",
       "1            NaN             81.0   82920.792079  \n",
       "2          574.0            558.0   92785.714286  \n",
       "3          234.0            424.0  408176.100629  \n",
       "4           48.0            121.0  100000.000000  "
      ]
     },
     "execution_count": 49,
     "metadata": {},
     "output_type": "execute_result"
    }
   ],
   "source": [
    "df['price_m2'] = df.last_price / df.total_area\n",
    "df.head()"
   ]
  },
  {
   "cell_type": "markdown",
   "metadata": {},
   "source": [
    "Добавим в таблицу также день недели, месяц и год публикации объявления по столбцу first_day_exposition:"
   ]
  },
  {
   "cell_type": "code",
   "execution_count": 50,
   "metadata": {},
   "outputs": [
    {
     "data": {
      "text/html": [
       "<div>\n",
       "<style scoped>\n",
       "    .dataframe tbody tr th:only-of-type {\n",
       "        vertical-align: middle;\n",
       "    }\n",
       "\n",
       "    .dataframe tbody tr th {\n",
       "        vertical-align: top;\n",
       "    }\n",
       "\n",
       "    .dataframe thead th {\n",
       "        text-align: right;\n",
       "    }\n",
       "</style>\n",
       "<table border=\"1\" class=\"dataframe\">\n",
       "  <thead>\n",
       "    <tr style=\"text-align: right;\">\n",
       "      <th></th>\n",
       "      <th>total_images</th>\n",
       "      <th>last_price</th>\n",
       "      <th>total_area</th>\n",
       "      <th>first_day_exposition</th>\n",
       "      <th>rooms</th>\n",
       "      <th>ceiling_height</th>\n",
       "      <th>floors_total</th>\n",
       "      <th>living_area</th>\n",
       "      <th>floor</th>\n",
       "      <th>is_apartment</th>\n",
       "      <th>studio</th>\n",
       "      <th>open_plan</th>\n",
       "      <th>kitchen_area</th>\n",
       "      <th>balcony</th>\n",
       "      <th>locality_name</th>\n",
       "      <th>airports_nearest</th>\n",
       "      <th>citycenters_nearest</th>\n",
       "      <th>parks_around3000</th>\n",
       "      <th>parks_nearest</th>\n",
       "      <th>ponds_around3000</th>\n",
       "      <th>ponds_nearest</th>\n",
       "      <th>days_exposition</th>\n",
       "      <th>price_m2</th>\n",
       "      <th>year_exposition</th>\n",
       "      <th>month_exposition</th>\n",
       "      <th>day_exposition</th>\n",
       "    </tr>\n",
       "  </thead>\n",
       "  <tbody>\n",
       "    <tr>\n",
       "      <td>0</td>\n",
       "      <td>20</td>\n",
       "      <td>13000000.0</td>\n",
       "      <td>108.0</td>\n",
       "      <td>2019-03-07</td>\n",
       "      <td>3</td>\n",
       "      <td>2.70</td>\n",
       "      <td>16</td>\n",
       "      <td>51.00000</td>\n",
       "      <td>8</td>\n",
       "      <td>False</td>\n",
       "      <td>False</td>\n",
       "      <td>False</td>\n",
       "      <td>25.000000</td>\n",
       "      <td>0</td>\n",
       "      <td>Санкт-Петербург</td>\n",
       "      <td>18863.0</td>\n",
       "      <td>16028.0</td>\n",
       "      <td>1.0</td>\n",
       "      <td>482.0</td>\n",
       "      <td>2.0</td>\n",
       "      <td>755.0</td>\n",
       "      <td>NaN</td>\n",
       "      <td>120370.370370</td>\n",
       "      <td>2019</td>\n",
       "      <td>3</td>\n",
       "      <td>3</td>\n",
       "    </tr>\n",
       "    <tr>\n",
       "      <td>1</td>\n",
       "      <td>7</td>\n",
       "      <td>3350000.0</td>\n",
       "      <td>40.4</td>\n",
       "      <td>2018-12-04</td>\n",
       "      <td>1</td>\n",
       "      <td>2.65</td>\n",
       "      <td>11</td>\n",
       "      <td>18.60000</td>\n",
       "      <td>1</td>\n",
       "      <td>False</td>\n",
       "      <td>False</td>\n",
       "      <td>False</td>\n",
       "      <td>11.000000</td>\n",
       "      <td>2</td>\n",
       "      <td>посёлок Шушары</td>\n",
       "      <td>12817.0</td>\n",
       "      <td>18603.0</td>\n",
       "      <td>0.0</td>\n",
       "      <td>NaN</td>\n",
       "      <td>0.0</td>\n",
       "      <td>NaN</td>\n",
       "      <td>81.0</td>\n",
       "      <td>82920.792079</td>\n",
       "      <td>2018</td>\n",
       "      <td>12</td>\n",
       "      <td>1</td>\n",
       "    </tr>\n",
       "    <tr>\n",
       "      <td>2</td>\n",
       "      <td>10</td>\n",
       "      <td>5196000.0</td>\n",
       "      <td>56.0</td>\n",
       "      <td>2015-08-20</td>\n",
       "      <td>2</td>\n",
       "      <td>2.65</td>\n",
       "      <td>5</td>\n",
       "      <td>34.30000</td>\n",
       "      <td>4</td>\n",
       "      <td>False</td>\n",
       "      <td>False</td>\n",
       "      <td>False</td>\n",
       "      <td>8.300000</td>\n",
       "      <td>0</td>\n",
       "      <td>Санкт-Петербург</td>\n",
       "      <td>21741.0</td>\n",
       "      <td>13933.0</td>\n",
       "      <td>1.0</td>\n",
       "      <td>90.0</td>\n",
       "      <td>2.0</td>\n",
       "      <td>574.0</td>\n",
       "      <td>558.0</td>\n",
       "      <td>92785.714286</td>\n",
       "      <td>2015</td>\n",
       "      <td>8</td>\n",
       "      <td>3</td>\n",
       "    </tr>\n",
       "    <tr>\n",
       "      <td>3</td>\n",
       "      <td>0</td>\n",
       "      <td>64900000.0</td>\n",
       "      <td>159.0</td>\n",
       "      <td>2015-07-24</td>\n",
       "      <td>3</td>\n",
       "      <td>2.65</td>\n",
       "      <td>14</td>\n",
       "      <td>90.79007</td>\n",
       "      <td>9</td>\n",
       "      <td>False</td>\n",
       "      <td>False</td>\n",
       "      <td>False</td>\n",
       "      <td>27.839715</td>\n",
       "      <td>0</td>\n",
       "      <td>Санкт-Петербург</td>\n",
       "      <td>28098.0</td>\n",
       "      <td>6800.0</td>\n",
       "      <td>2.0</td>\n",
       "      <td>84.0</td>\n",
       "      <td>3.0</td>\n",
       "      <td>234.0</td>\n",
       "      <td>424.0</td>\n",
       "      <td>408176.100629</td>\n",
       "      <td>2015</td>\n",
       "      <td>7</td>\n",
       "      <td>4</td>\n",
       "    </tr>\n",
       "    <tr>\n",
       "      <td>4</td>\n",
       "      <td>2</td>\n",
       "      <td>10000000.0</td>\n",
       "      <td>100.0</td>\n",
       "      <td>2018-06-19</td>\n",
       "      <td>2</td>\n",
       "      <td>3.03</td>\n",
       "      <td>14</td>\n",
       "      <td>32.00000</td>\n",
       "      <td>13</td>\n",
       "      <td>False</td>\n",
       "      <td>False</td>\n",
       "      <td>False</td>\n",
       "      <td>41.000000</td>\n",
       "      <td>0</td>\n",
       "      <td>Санкт-Петербург</td>\n",
       "      <td>31856.0</td>\n",
       "      <td>8098.0</td>\n",
       "      <td>2.0</td>\n",
       "      <td>112.0</td>\n",
       "      <td>1.0</td>\n",
       "      <td>48.0</td>\n",
       "      <td>121.0</td>\n",
       "      <td>100000.000000</td>\n",
       "      <td>2018</td>\n",
       "      <td>6</td>\n",
       "      <td>1</td>\n",
       "    </tr>\n",
       "  </tbody>\n",
       "</table>\n",
       "</div>"
      ],
      "text/plain": [
       "   total_images  last_price  total_area first_day_exposition  rooms  \\\n",
       "0            20  13000000.0       108.0           2019-03-07      3   \n",
       "1             7   3350000.0        40.4           2018-12-04      1   \n",
       "2            10   5196000.0        56.0           2015-08-20      2   \n",
       "3             0  64900000.0       159.0           2015-07-24      3   \n",
       "4             2  10000000.0       100.0           2018-06-19      2   \n",
       "\n",
       "   ceiling_height  floors_total  living_area  floor  is_apartment  studio  \\\n",
       "0            2.70            16     51.00000      8         False   False   \n",
       "1            2.65            11     18.60000      1         False   False   \n",
       "2            2.65             5     34.30000      4         False   False   \n",
       "3            2.65            14     90.79007      9         False   False   \n",
       "4            3.03            14     32.00000     13         False   False   \n",
       "\n",
       "   open_plan  kitchen_area  balcony    locality_name  airports_nearest  \\\n",
       "0      False     25.000000        0  Санкт-Петербург           18863.0   \n",
       "1      False     11.000000        2   посёлок Шушары           12817.0   \n",
       "2      False      8.300000        0  Санкт-Петербург           21741.0   \n",
       "3      False     27.839715        0  Санкт-Петербург           28098.0   \n",
       "4      False     41.000000        0  Санкт-Петербург           31856.0   \n",
       "\n",
       "   citycenters_nearest  parks_around3000  parks_nearest  ponds_around3000  \\\n",
       "0              16028.0               1.0          482.0               2.0   \n",
       "1              18603.0               0.0            NaN               0.0   \n",
       "2              13933.0               1.0           90.0               2.0   \n",
       "3               6800.0               2.0           84.0               3.0   \n",
       "4               8098.0               2.0          112.0               1.0   \n",
       "\n",
       "   ponds_nearest  days_exposition       price_m2  year_exposition  \\\n",
       "0          755.0              NaN  120370.370370             2019   \n",
       "1            NaN             81.0   82920.792079             2018   \n",
       "2          574.0            558.0   92785.714286             2015   \n",
       "3          234.0            424.0  408176.100629             2015   \n",
       "4           48.0            121.0  100000.000000             2018   \n",
       "\n",
       "   month_exposition  day_exposition  \n",
       "0                 3               3  \n",
       "1                12               1  \n",
       "2                 8               3  \n",
       "3                 7               4  \n",
       "4                 6               1  "
      ]
     },
     "execution_count": 50,
     "metadata": {},
     "output_type": "execute_result"
    }
   ],
   "source": [
    "df['year_exposition'] = pd.DatetimeIndex(df.first_day_exposition).year\n",
    "df['month_exposition'] = pd.DatetimeIndex(df.first_day_exposition).month\n",
    "df['day_exposition'] = pd.DatetimeIndex(df.first_day_exposition).dayofweek\n",
    "\n",
    "df.head()"
   ]
  },
  {
   "cell_type": "markdown",
   "metadata": {},
   "source": [
    "Добавим столбец, содержащий этаж квартиры (варианты — первый, последний, другой) при помощи создания функции, которая пройдет по всем строкам, проверяя выполнение условий, и с помощью метода .apply заполним новый столбец данными, которые она вернет:"
   ]
  },
  {
   "cell_type": "code",
   "execution_count": 51,
   "metadata": {},
   "outputs": [
    {
     "data": {
      "text/plain": [
       "другой       17254\n",
       "последний     3328\n",
       "первый        2881\n",
       "Name: floor_class, dtype: int64"
      ]
     },
     "execution_count": 51,
     "metadata": {},
     "output_type": "execute_result"
    }
   ],
   "source": [
    "def floor_cat(row):\n",
    "    if row['floor'] == 1:\n",
    "        return 'первый'\n",
    "    if row['floor'] == row['floors_total']:\n",
    "        return 'последний'\n",
    "    return 'другой'\n",
    "\n",
    "df['floor_class'] = df.apply(floor_cat, axis=1)\n",
    "df['floor_class'].value_counts()"
   ]
  },
  {
   "cell_type": "code",
   "execution_count": 52,
   "metadata": {},
   "outputs": [
    {
     "data": {
      "text/html": [
       "<div>\n",
       "<style scoped>\n",
       "    .dataframe tbody tr th:only-of-type {\n",
       "        vertical-align: middle;\n",
       "    }\n",
       "\n",
       "    .dataframe tbody tr th {\n",
       "        vertical-align: top;\n",
       "    }\n",
       "\n",
       "    .dataframe thead th {\n",
       "        text-align: right;\n",
       "    }\n",
       "</style>\n",
       "<table border=\"1\" class=\"dataframe\">\n",
       "  <thead>\n",
       "    <tr style=\"text-align: right;\">\n",
       "      <th></th>\n",
       "      <th>total_images</th>\n",
       "      <th>last_price</th>\n",
       "      <th>total_area</th>\n",
       "      <th>first_day_exposition</th>\n",
       "      <th>rooms</th>\n",
       "      <th>ceiling_height</th>\n",
       "      <th>floors_total</th>\n",
       "      <th>living_area</th>\n",
       "      <th>floor</th>\n",
       "      <th>is_apartment</th>\n",
       "      <th>studio</th>\n",
       "      <th>open_plan</th>\n",
       "      <th>kitchen_area</th>\n",
       "      <th>balcony</th>\n",
       "      <th>locality_name</th>\n",
       "      <th>airports_nearest</th>\n",
       "      <th>citycenters_nearest</th>\n",
       "      <th>parks_around3000</th>\n",
       "      <th>parks_nearest</th>\n",
       "      <th>ponds_around3000</th>\n",
       "      <th>ponds_nearest</th>\n",
       "      <th>days_exposition</th>\n",
       "      <th>price_m2</th>\n",
       "      <th>year_exposition</th>\n",
       "      <th>month_exposition</th>\n",
       "      <th>day_exposition</th>\n",
       "      <th>floor_class</th>\n",
       "    </tr>\n",
       "  </thead>\n",
       "  <tbody>\n",
       "    <tr>\n",
       "      <td>0</td>\n",
       "      <td>20</td>\n",
       "      <td>13000000.0</td>\n",
       "      <td>108.0</td>\n",
       "      <td>2019-03-07</td>\n",
       "      <td>3</td>\n",
       "      <td>2.70</td>\n",
       "      <td>16</td>\n",
       "      <td>51.00000</td>\n",
       "      <td>8</td>\n",
       "      <td>False</td>\n",
       "      <td>False</td>\n",
       "      <td>False</td>\n",
       "      <td>25.000000</td>\n",
       "      <td>0</td>\n",
       "      <td>Санкт-Петербург</td>\n",
       "      <td>18863.0</td>\n",
       "      <td>16028.0</td>\n",
       "      <td>1.0</td>\n",
       "      <td>482.0</td>\n",
       "      <td>2.0</td>\n",
       "      <td>755.0</td>\n",
       "      <td>NaN</td>\n",
       "      <td>120370.370370</td>\n",
       "      <td>2019</td>\n",
       "      <td>3</td>\n",
       "      <td>3</td>\n",
       "      <td>другой</td>\n",
       "    </tr>\n",
       "    <tr>\n",
       "      <td>1</td>\n",
       "      <td>7</td>\n",
       "      <td>3350000.0</td>\n",
       "      <td>40.4</td>\n",
       "      <td>2018-12-04</td>\n",
       "      <td>1</td>\n",
       "      <td>2.65</td>\n",
       "      <td>11</td>\n",
       "      <td>18.60000</td>\n",
       "      <td>1</td>\n",
       "      <td>False</td>\n",
       "      <td>False</td>\n",
       "      <td>False</td>\n",
       "      <td>11.000000</td>\n",
       "      <td>2</td>\n",
       "      <td>посёлок Шушары</td>\n",
       "      <td>12817.0</td>\n",
       "      <td>18603.0</td>\n",
       "      <td>0.0</td>\n",
       "      <td>NaN</td>\n",
       "      <td>0.0</td>\n",
       "      <td>NaN</td>\n",
       "      <td>81.0</td>\n",
       "      <td>82920.792079</td>\n",
       "      <td>2018</td>\n",
       "      <td>12</td>\n",
       "      <td>1</td>\n",
       "      <td>первый</td>\n",
       "    </tr>\n",
       "    <tr>\n",
       "      <td>2</td>\n",
       "      <td>10</td>\n",
       "      <td>5196000.0</td>\n",
       "      <td>56.0</td>\n",
       "      <td>2015-08-20</td>\n",
       "      <td>2</td>\n",
       "      <td>2.65</td>\n",
       "      <td>5</td>\n",
       "      <td>34.30000</td>\n",
       "      <td>4</td>\n",
       "      <td>False</td>\n",
       "      <td>False</td>\n",
       "      <td>False</td>\n",
       "      <td>8.300000</td>\n",
       "      <td>0</td>\n",
       "      <td>Санкт-Петербург</td>\n",
       "      <td>21741.0</td>\n",
       "      <td>13933.0</td>\n",
       "      <td>1.0</td>\n",
       "      <td>90.0</td>\n",
       "      <td>2.0</td>\n",
       "      <td>574.0</td>\n",
       "      <td>558.0</td>\n",
       "      <td>92785.714286</td>\n",
       "      <td>2015</td>\n",
       "      <td>8</td>\n",
       "      <td>3</td>\n",
       "      <td>другой</td>\n",
       "    </tr>\n",
       "    <tr>\n",
       "      <td>3</td>\n",
       "      <td>0</td>\n",
       "      <td>64900000.0</td>\n",
       "      <td>159.0</td>\n",
       "      <td>2015-07-24</td>\n",
       "      <td>3</td>\n",
       "      <td>2.65</td>\n",
       "      <td>14</td>\n",
       "      <td>90.79007</td>\n",
       "      <td>9</td>\n",
       "      <td>False</td>\n",
       "      <td>False</td>\n",
       "      <td>False</td>\n",
       "      <td>27.839715</td>\n",
       "      <td>0</td>\n",
       "      <td>Санкт-Петербург</td>\n",
       "      <td>28098.0</td>\n",
       "      <td>6800.0</td>\n",
       "      <td>2.0</td>\n",
       "      <td>84.0</td>\n",
       "      <td>3.0</td>\n",
       "      <td>234.0</td>\n",
       "      <td>424.0</td>\n",
       "      <td>408176.100629</td>\n",
       "      <td>2015</td>\n",
       "      <td>7</td>\n",
       "      <td>4</td>\n",
       "      <td>другой</td>\n",
       "    </tr>\n",
       "    <tr>\n",
       "      <td>4</td>\n",
       "      <td>2</td>\n",
       "      <td>10000000.0</td>\n",
       "      <td>100.0</td>\n",
       "      <td>2018-06-19</td>\n",
       "      <td>2</td>\n",
       "      <td>3.03</td>\n",
       "      <td>14</td>\n",
       "      <td>32.00000</td>\n",
       "      <td>13</td>\n",
       "      <td>False</td>\n",
       "      <td>False</td>\n",
       "      <td>False</td>\n",
       "      <td>41.000000</td>\n",
       "      <td>0</td>\n",
       "      <td>Санкт-Петербург</td>\n",
       "      <td>31856.0</td>\n",
       "      <td>8098.0</td>\n",
       "      <td>2.0</td>\n",
       "      <td>112.0</td>\n",
       "      <td>1.0</td>\n",
       "      <td>48.0</td>\n",
       "      <td>121.0</td>\n",
       "      <td>100000.000000</td>\n",
       "      <td>2018</td>\n",
       "      <td>6</td>\n",
       "      <td>1</td>\n",
       "      <td>другой</td>\n",
       "    </tr>\n",
       "  </tbody>\n",
       "</table>\n",
       "</div>"
      ],
      "text/plain": [
       "   total_images  last_price  total_area first_day_exposition  rooms  \\\n",
       "0            20  13000000.0       108.0           2019-03-07      3   \n",
       "1             7   3350000.0        40.4           2018-12-04      1   \n",
       "2            10   5196000.0        56.0           2015-08-20      2   \n",
       "3             0  64900000.0       159.0           2015-07-24      3   \n",
       "4             2  10000000.0       100.0           2018-06-19      2   \n",
       "\n",
       "   ceiling_height  floors_total  living_area  floor  is_apartment  studio  \\\n",
       "0            2.70            16     51.00000      8         False   False   \n",
       "1            2.65            11     18.60000      1         False   False   \n",
       "2            2.65             5     34.30000      4         False   False   \n",
       "3            2.65            14     90.79007      9         False   False   \n",
       "4            3.03            14     32.00000     13         False   False   \n",
       "\n",
       "   open_plan  kitchen_area  balcony    locality_name  airports_nearest  \\\n",
       "0      False     25.000000        0  Санкт-Петербург           18863.0   \n",
       "1      False     11.000000        2   посёлок Шушары           12817.0   \n",
       "2      False      8.300000        0  Санкт-Петербург           21741.0   \n",
       "3      False     27.839715        0  Санкт-Петербург           28098.0   \n",
       "4      False     41.000000        0  Санкт-Петербург           31856.0   \n",
       "\n",
       "   citycenters_nearest  parks_around3000  parks_nearest  ponds_around3000  \\\n",
       "0              16028.0               1.0          482.0               2.0   \n",
       "1              18603.0               0.0            NaN               0.0   \n",
       "2              13933.0               1.0           90.0               2.0   \n",
       "3               6800.0               2.0           84.0               3.0   \n",
       "4               8098.0               2.0          112.0               1.0   \n",
       "\n",
       "   ponds_nearest  days_exposition       price_m2  year_exposition  \\\n",
       "0          755.0              NaN  120370.370370             2019   \n",
       "1            NaN             81.0   82920.792079             2018   \n",
       "2          574.0            558.0   92785.714286             2015   \n",
       "3          234.0            424.0  408176.100629             2015   \n",
       "4           48.0            121.0  100000.000000             2018   \n",
       "\n",
       "   month_exposition  day_exposition floor_class  \n",
       "0                 3               3      другой  \n",
       "1                12               1      первый  \n",
       "2                 8               3      другой  \n",
       "3                 7               4      другой  \n",
       "4                 6               1      другой  "
      ]
     },
     "execution_count": 52,
     "metadata": {},
     "output_type": "execute_result"
    }
   ],
   "source": [
    "df.head()"
   ]
  },
  {
   "cell_type": "markdown",
   "metadata": {},
   "source": [
    "Добавим столбцы с отношением:\n",
    "1. жилой площади к общей площади\n",
    "2. площади кухни к общей"
   ]
  },
  {
   "cell_type": "code",
   "execution_count": 53,
   "metadata": {},
   "outputs": [
    {
     "data": {
      "text/html": [
       "<div>\n",
       "<style scoped>\n",
       "    .dataframe tbody tr th:only-of-type {\n",
       "        vertical-align: middle;\n",
       "    }\n",
       "\n",
       "    .dataframe tbody tr th {\n",
       "        vertical-align: top;\n",
       "    }\n",
       "\n",
       "    .dataframe thead th {\n",
       "        text-align: right;\n",
       "    }\n",
       "</style>\n",
       "<table border=\"1\" class=\"dataframe\">\n",
       "  <thead>\n",
       "    <tr style=\"text-align: right;\">\n",
       "      <th></th>\n",
       "      <th>total_images</th>\n",
       "      <th>last_price</th>\n",
       "      <th>total_area</th>\n",
       "      <th>first_day_exposition</th>\n",
       "      <th>rooms</th>\n",
       "      <th>ceiling_height</th>\n",
       "      <th>floors_total</th>\n",
       "      <th>living_area</th>\n",
       "      <th>floor</th>\n",
       "      <th>is_apartment</th>\n",
       "      <th>studio</th>\n",
       "      <th>open_plan</th>\n",
       "      <th>kitchen_area</th>\n",
       "      <th>balcony</th>\n",
       "      <th>locality_name</th>\n",
       "      <th>airports_nearest</th>\n",
       "      <th>citycenters_nearest</th>\n",
       "      <th>parks_around3000</th>\n",
       "      <th>parks_nearest</th>\n",
       "      <th>ponds_around3000</th>\n",
       "      <th>ponds_nearest</th>\n",
       "      <th>days_exposition</th>\n",
       "      <th>price_m2</th>\n",
       "      <th>year_exposition</th>\n",
       "      <th>month_exposition</th>\n",
       "      <th>day_exposition</th>\n",
       "      <th>floor_class</th>\n",
       "      <th>living_to_total</th>\n",
       "      <th>kitchen_to_total</th>\n",
       "    </tr>\n",
       "  </thead>\n",
       "  <tbody>\n",
       "    <tr>\n",
       "      <td>0</td>\n",
       "      <td>20</td>\n",
       "      <td>13000000.0</td>\n",
       "      <td>108.0</td>\n",
       "      <td>2019-03-07</td>\n",
       "      <td>3</td>\n",
       "      <td>2.70</td>\n",
       "      <td>16</td>\n",
       "      <td>51.00000</td>\n",
       "      <td>8</td>\n",
       "      <td>False</td>\n",
       "      <td>False</td>\n",
       "      <td>False</td>\n",
       "      <td>25.000000</td>\n",
       "      <td>0</td>\n",
       "      <td>Санкт-Петербург</td>\n",
       "      <td>18863.0</td>\n",
       "      <td>16028.0</td>\n",
       "      <td>1.0</td>\n",
       "      <td>482.0</td>\n",
       "      <td>2.0</td>\n",
       "      <td>755.0</td>\n",
       "      <td>NaN</td>\n",
       "      <td>120370.370370</td>\n",
       "      <td>2019</td>\n",
       "      <td>3</td>\n",
       "      <td>3</td>\n",
       "      <td>другой</td>\n",
       "      <td>0.472222</td>\n",
       "      <td>0.231481</td>\n",
       "    </tr>\n",
       "    <tr>\n",
       "      <td>1</td>\n",
       "      <td>7</td>\n",
       "      <td>3350000.0</td>\n",
       "      <td>40.4</td>\n",
       "      <td>2018-12-04</td>\n",
       "      <td>1</td>\n",
       "      <td>2.65</td>\n",
       "      <td>11</td>\n",
       "      <td>18.60000</td>\n",
       "      <td>1</td>\n",
       "      <td>False</td>\n",
       "      <td>False</td>\n",
       "      <td>False</td>\n",
       "      <td>11.000000</td>\n",
       "      <td>2</td>\n",
       "      <td>посёлок Шушары</td>\n",
       "      <td>12817.0</td>\n",
       "      <td>18603.0</td>\n",
       "      <td>0.0</td>\n",
       "      <td>NaN</td>\n",
       "      <td>0.0</td>\n",
       "      <td>NaN</td>\n",
       "      <td>81.0</td>\n",
       "      <td>82920.792079</td>\n",
       "      <td>2018</td>\n",
       "      <td>12</td>\n",
       "      <td>1</td>\n",
       "      <td>первый</td>\n",
       "      <td>0.460396</td>\n",
       "      <td>0.272277</td>\n",
       "    </tr>\n",
       "    <tr>\n",
       "      <td>2</td>\n",
       "      <td>10</td>\n",
       "      <td>5196000.0</td>\n",
       "      <td>56.0</td>\n",
       "      <td>2015-08-20</td>\n",
       "      <td>2</td>\n",
       "      <td>2.65</td>\n",
       "      <td>5</td>\n",
       "      <td>34.30000</td>\n",
       "      <td>4</td>\n",
       "      <td>False</td>\n",
       "      <td>False</td>\n",
       "      <td>False</td>\n",
       "      <td>8.300000</td>\n",
       "      <td>0</td>\n",
       "      <td>Санкт-Петербург</td>\n",
       "      <td>21741.0</td>\n",
       "      <td>13933.0</td>\n",
       "      <td>1.0</td>\n",
       "      <td>90.0</td>\n",
       "      <td>2.0</td>\n",
       "      <td>574.0</td>\n",
       "      <td>558.0</td>\n",
       "      <td>92785.714286</td>\n",
       "      <td>2015</td>\n",
       "      <td>8</td>\n",
       "      <td>3</td>\n",
       "      <td>другой</td>\n",
       "      <td>0.612500</td>\n",
       "      <td>0.148214</td>\n",
       "    </tr>\n",
       "    <tr>\n",
       "      <td>3</td>\n",
       "      <td>0</td>\n",
       "      <td>64900000.0</td>\n",
       "      <td>159.0</td>\n",
       "      <td>2015-07-24</td>\n",
       "      <td>3</td>\n",
       "      <td>2.65</td>\n",
       "      <td>14</td>\n",
       "      <td>90.79007</td>\n",
       "      <td>9</td>\n",
       "      <td>False</td>\n",
       "      <td>False</td>\n",
       "      <td>False</td>\n",
       "      <td>27.839715</td>\n",
       "      <td>0</td>\n",
       "      <td>Санкт-Петербург</td>\n",
       "      <td>28098.0</td>\n",
       "      <td>6800.0</td>\n",
       "      <td>2.0</td>\n",
       "      <td>84.0</td>\n",
       "      <td>3.0</td>\n",
       "      <td>234.0</td>\n",
       "      <td>424.0</td>\n",
       "      <td>408176.100629</td>\n",
       "      <td>2015</td>\n",
       "      <td>7</td>\n",
       "      <td>4</td>\n",
       "      <td>другой</td>\n",
       "      <td>0.571007</td>\n",
       "      <td>0.175093</td>\n",
       "    </tr>\n",
       "    <tr>\n",
       "      <td>4</td>\n",
       "      <td>2</td>\n",
       "      <td>10000000.0</td>\n",
       "      <td>100.0</td>\n",
       "      <td>2018-06-19</td>\n",
       "      <td>2</td>\n",
       "      <td>3.03</td>\n",
       "      <td>14</td>\n",
       "      <td>32.00000</td>\n",
       "      <td>13</td>\n",
       "      <td>False</td>\n",
       "      <td>False</td>\n",
       "      <td>False</td>\n",
       "      <td>41.000000</td>\n",
       "      <td>0</td>\n",
       "      <td>Санкт-Петербург</td>\n",
       "      <td>31856.0</td>\n",
       "      <td>8098.0</td>\n",
       "      <td>2.0</td>\n",
       "      <td>112.0</td>\n",
       "      <td>1.0</td>\n",
       "      <td>48.0</td>\n",
       "      <td>121.0</td>\n",
       "      <td>100000.000000</td>\n",
       "      <td>2018</td>\n",
       "      <td>6</td>\n",
       "      <td>1</td>\n",
       "      <td>другой</td>\n",
       "      <td>0.320000</td>\n",
       "      <td>0.410000</td>\n",
       "    </tr>\n",
       "  </tbody>\n",
       "</table>\n",
       "</div>"
      ],
      "text/plain": [
       "   total_images  last_price  total_area first_day_exposition  rooms  \\\n",
       "0            20  13000000.0       108.0           2019-03-07      3   \n",
       "1             7   3350000.0        40.4           2018-12-04      1   \n",
       "2            10   5196000.0        56.0           2015-08-20      2   \n",
       "3             0  64900000.0       159.0           2015-07-24      3   \n",
       "4             2  10000000.0       100.0           2018-06-19      2   \n",
       "\n",
       "   ceiling_height  floors_total  living_area  floor  is_apartment  studio  \\\n",
       "0            2.70            16     51.00000      8         False   False   \n",
       "1            2.65            11     18.60000      1         False   False   \n",
       "2            2.65             5     34.30000      4         False   False   \n",
       "3            2.65            14     90.79007      9         False   False   \n",
       "4            3.03            14     32.00000     13         False   False   \n",
       "\n",
       "   open_plan  kitchen_area  balcony    locality_name  airports_nearest  \\\n",
       "0      False     25.000000        0  Санкт-Петербург           18863.0   \n",
       "1      False     11.000000        2   посёлок Шушары           12817.0   \n",
       "2      False      8.300000        0  Санкт-Петербург           21741.0   \n",
       "3      False     27.839715        0  Санкт-Петербург           28098.0   \n",
       "4      False     41.000000        0  Санкт-Петербург           31856.0   \n",
       "\n",
       "   citycenters_nearest  parks_around3000  parks_nearest  ponds_around3000  \\\n",
       "0              16028.0               1.0          482.0               2.0   \n",
       "1              18603.0               0.0            NaN               0.0   \n",
       "2              13933.0               1.0           90.0               2.0   \n",
       "3               6800.0               2.0           84.0               3.0   \n",
       "4               8098.0               2.0          112.0               1.0   \n",
       "\n",
       "   ponds_nearest  days_exposition       price_m2  year_exposition  \\\n",
       "0          755.0              NaN  120370.370370             2019   \n",
       "1            NaN             81.0   82920.792079             2018   \n",
       "2          574.0            558.0   92785.714286             2015   \n",
       "3          234.0            424.0  408176.100629             2015   \n",
       "4           48.0            121.0  100000.000000             2018   \n",
       "\n",
       "   month_exposition  day_exposition floor_class  living_to_total  \\\n",
       "0                 3               3      другой         0.472222   \n",
       "1                12               1      первый         0.460396   \n",
       "2                 8               3      другой         0.612500   \n",
       "3                 7               4      другой         0.571007   \n",
       "4                 6               1      другой         0.320000   \n",
       "\n",
       "   kitchen_to_total  \n",
       "0          0.231481  \n",
       "1          0.272277  \n",
       "2          0.148214  \n",
       "3          0.175093  \n",
       "4          0.410000  "
      ]
     },
     "execution_count": 53,
     "metadata": {},
     "output_type": "execute_result"
    }
   ],
   "source": [
    "df['living_to_total'] = df['living_area'] / df['total_area']\n",
    "df['kitchen_to_total'] = df['kitchen_area'] / df['total_area'] \n",
    "\n",
    "df.head()"
   ]
  },
  {
   "cell_type": "markdown",
   "metadata": {},
   "source": [
    "**Вывод**\n",
    "\n",
    "В данном пункте при помощи рассчетов и присваивания, мы создали новые столбцы с необходимыми нам данными, включающими: \n",
    "* цену квадратного метра \n",
    "* категории по расположению этажа, на котором находится квартира (первый, последний, другой)\n",
    "* день недели, месяц и год публикации объявления о продаже квартиры\n",
    "* отношения площадей (жилая к общей и кухня к общей)"
   ]
  },
  {
   "cell_type": "markdown",
   "metadata": {},
   "source": [
    "### Исследовательский анализ данных"
   ]
  },
  {
   "cell_type": "markdown",
   "metadata": {},
   "source": [
    "####   Проведем исследование следующих параметров: площадь, цена, число комнат, высота потолков"
   ]
  },
  {
   "cell_type": "code",
   "execution_count": 54,
   "metadata": {},
   "outputs": [
    {
     "data": {
      "text/plain": [
       "count    2.346300e+04\n",
       "mean     6.526357e+06\n",
       "std      1.085443e+07\n",
       "min      1.219000e+04\n",
       "25%      3.425000e+06\n",
       "50%      4.650000e+06\n",
       "75%      6.790000e+06\n",
       "max      7.630000e+08\n",
       "Name: last_price, dtype: float64"
      ]
     },
     "execution_count": 54,
     "metadata": {},
     "output_type": "execute_result"
    }
   ],
   "source": [
    "df.last_price.describe()"
   ]
  },
  {
   "cell_type": "code",
   "execution_count": 55,
   "metadata": {},
   "outputs": [
    {
     "data": {
      "text/plain": [
       "count    23463.000000\n",
       "mean        60.366971\n",
       "std         35.542742\n",
       "min         13.000000\n",
       "25%         40.000000\n",
       "50%         52.000000\n",
       "75%         69.900000\n",
       "max        900.000000\n",
       "Name: total_area, dtype: float64"
      ]
     },
     "execution_count": 55,
     "metadata": {},
     "output_type": "execute_result"
    }
   ],
   "source": [
    "df.total_area.describe()"
   ]
  },
  {
   "cell_type": "code",
   "execution_count": 56,
   "metadata": {},
   "outputs": [
    {
     "data": {
      "text/plain": [
       "0.6524417791213498"
      ]
     },
     "execution_count": 56,
     "metadata": {},
     "output_type": "execute_result"
    }
   ],
   "source": [
    "df['total_area'].corr(df['last_price'])"
   ]
  },
  {
   "cell_type": "markdown",
   "metadata": {},
   "source": [
    "Согласно полученному положительному результату коэффициента корреляции Пирсона, можно сделать предположение, что между площадью квартиры и ее стоимостью существует прямая зависимость и между величинами существует линейная взаимосвязь."
   ]
  },
  {
   "cell_type": "code",
   "execution_count": 57,
   "metadata": {},
   "outputs": [
    {
     "data": {
      "text/plain": [
       "count    23463.000000\n",
       "mean         2.081106\n",
       "std          1.065669\n",
       "min          1.000000\n",
       "25%          1.000000\n",
       "50%          2.000000\n",
       "75%          3.000000\n",
       "max         19.000000\n",
       "Name: rooms, dtype: float64"
      ]
     },
     "execution_count": 57,
     "metadata": {},
     "output_type": "execute_result"
    }
   ],
   "source": [
    "df.rooms.describe()"
   ]
  },
  {
   "cell_type": "code",
   "execution_count": 58,
   "metadata": {},
   "outputs": [
    {
     "data": {
      "text/plain": [
       "0.363593151440854"
      ]
     },
     "execution_count": 58,
     "metadata": {},
     "output_type": "execute_result"
    }
   ],
   "source": [
    "df['rooms'].corr(df['last_price'])"
   ]
  },
  {
   "cell_type": "markdown",
   "metadata": {},
   "source": [
    "Мы получили положительное значение коэффициента корреляции, но т.к. показатель ближе к нулю, чем к единице, можно сделать предположение о том, что между количеством комнат и стоимостью квартиры имеется слабая линейная взаимосвязь."
   ]
  },
  {
   "cell_type": "code",
   "execution_count": 59,
   "metadata": {},
   "outputs": [
    {
     "data": {
      "text/plain": [
       "count    23463.000000\n",
       "mean         2.687716\n",
       "std          0.187048\n",
       "min          2.300000\n",
       "25%          2.600000\n",
       "50%          2.650000\n",
       "75%          2.700000\n",
       "max          3.700000\n",
       "Name: ceiling_height, dtype: float64"
      ]
     },
     "execution_count": 59,
     "metadata": {},
     "output_type": "execute_result"
    }
   ],
   "source": [
    "df.ceiling_height.describe()"
   ]
  },
  {
   "cell_type": "code",
   "execution_count": 60,
   "metadata": {},
   "outputs": [
    {
     "data": {
      "text/plain": [
       "0.2477367731043528"
      ]
     },
     "execution_count": 60,
     "metadata": {},
     "output_type": "execute_result"
    }
   ],
   "source": [
    "df['ceiling_height'].corr(df['last_price'])"
   ]
  },
  {
   "cell_type": "markdown",
   "metadata": {},
   "source": [
    "Коэффициент корреляции между высотой потолков и стоимостью квартиры сильно близок к нулю, из чего можно сделать предположение о том, что  зависимость данных величин отсутствует либо настолько слаба, что не имеет ценности для ее дальнейшего использования.\n",
    "\n",
    "Все наши предположения, по поводу взаимосвязи между величинами, необходимо будет проверить с помощью матрицы диаграмм рассеяния."
   ]
  },
  {
   "cell_type": "markdown",
   "metadata": {},
   "source": [
    "**Построим гистограммы для каждого параметра:**"
   ]
  },
  {
   "cell_type": "markdown",
   "metadata": {},
   "source": [
    "Выведем гистограмму распределения **стоимости квартир (last_price)**:"
   ]
  },
  {
   "cell_type": "code",
   "execution_count": 61,
   "metadata": {},
   "outputs": [
    {
     "data": {
      "image/png": "[encoded data removed]",
      "text/plain": [
       "<Figure size 432x288 with 1 Axes>"
      ]
     },
     "metadata": {
      "needs_background": "light"
     },
     "output_type": "display_data"
    }
   ],
   "source": [
    "df['last_price'].hist(bins=50)\n",
    "plt.show()"
   ]
  },
  {
   "cell_type": "markdown",
   "metadata": {},
   "source": [
    "Значительную часть гистограммы занимают значения, напоминающие выбросы."
   ]
  },
  {
   "cell_type": "code",
   "execution_count": 62,
   "metadata": {
    "scrolled": false
   },
   "outputs": [
    {
     "data": {
      "text/plain": [
       "count    2.346300e+04\n",
       "mean     6.526357e+06\n",
       "std      1.085443e+07\n",
       "min      1.219000e+04\n",
       "25%      3.425000e+06\n",
       "50%      4.650000e+06\n",
       "75%      6.790000e+06\n",
       "max      7.630000e+08\n",
       "Name: last_price, dtype: float64"
      ]
     },
     "execution_count": 62,
     "metadata": {},
     "output_type": "execute_result"
    }
   ],
   "source": [
    "df.last_price.describe()"
   ]
  },
  {
   "cell_type": "markdown",
   "metadata": {},
   "source": [
    "Мы можем наблюдать что максимальная стоимость на несколько нулей отличается от медианы и 3го квартиля. Посмотрим сколько значений окажутся, к примеру, выше 100 млн, можем ли мы их отбросить для более красивого вывода гистограммы. "
   ]
  },
  {
   "cell_type": "code",
   "execution_count": 63,
   "metadata": {},
   "outputs": [
    {
     "data": {
      "text/plain": [
       "2683"
      ]
     },
     "execution_count": 63,
     "metadata": {},
     "output_type": "execute_result"
    }
   ],
   "source": [
    "df.query('last_price > 10000000').last_price.count()"
   ]
  },
  {
   "cell_type": "markdown",
   "metadata": {},
   "source": [
    "Выведем гистограмму, ограничив значения стоимости на стоимости = 100 млн:"
   ]
  },
  {
   "cell_type": "code",
   "execution_count": 64,
   "metadata": {},
   "outputs": [
    {
     "data": {
      "image/png": "[encoded data removed]",
      "text/plain": [
       "<Figure size 432x288 with 1 Axes>"
      ]
     },
     "metadata": {
      "needs_background": "light"
     },
     "output_type": "display_data"
    }
   ],
   "source": [
    "df['last_price'].hist(bins=50, range=(0, 10000000))\n",
    "plt.show()"
   ]
  },
  {
   "cell_type": "markdown",
   "metadata": {},
   "source": [
    "Теперь можно увидеть, что гистограмма напоминает нам распределение Гаусса (нормальное), что больше похоже на правду, чем то что она напоминала сначала (распределение Пуассона).  \n",
    "По гистограмме можно проследить, что чаще всего встречается среднее значение и близкие к нему, а крайние значения встречаются довольно редко  \n",
    "В данных есть выбросы. Кажется, что слишком дорогие квартиры не нужно учитывать, так как такая недвижимость относится к элитному классу и заслуживает отдельного исследования."
   ]
  },
  {
   "cell_type": "markdown",
   "metadata": {},
   "source": [
    "Выведем гистограмму распределения **площади (total_area)**:"
   ]
  },
  {
   "cell_type": "code",
   "execution_count": 65,
   "metadata": {},
   "outputs": [
    {
     "data": {
      "image/png": "[encoded data removed]",
      "text/plain": [
       "<Figure size 432x288 with 1 Axes>"
      ]
     },
     "metadata": {
      "needs_background": "light"
     },
     "output_type": "display_data"
    }
   ],
   "source": [
    "df['total_area'].hist(bins=30)\n",
    "plt.show()"
   ]
  },
  {
   "cell_type": "markdown",
   "metadata": {},
   "source": [
    "С показательями площади повторилась та же история, что со значениями стоимости: гистограмма напоминает нам Пуассновское распределение, т.к. вероятнее всего присутствуют выбросы. По описанию столбца, максимальное значение сильно отлично от 3го квартиля (например те что выше 150м2). Отрежем все значения, что находятся выше него и переделаем гистограмму по оставшимся значениям:"
   ]
  },
  {
   "cell_type": "code",
   "execution_count": 66,
   "metadata": {},
   "outputs": [
    {
     "data": {
      "text/plain": [
       "557"
      ]
     },
     "execution_count": 66,
     "metadata": {},
     "output_type": "execute_result"
    }
   ],
   "source": [
    "df.query('total_area > 150').total_area.count()"
   ]
  },
  {
   "cell_type": "code",
   "execution_count": 67,
   "metadata": {},
   "outputs": [
    {
     "data": {
      "image/png": "[encoded data removed]",
      "text/plain": [
       "<Figure size 432x288 with 1 Axes>"
      ]
     },
     "metadata": {
      "needs_background": "light"
     },
     "output_type": "display_data"
    }
   ],
   "source": [
    "df['total_area'].hist(bins=30, range=(0, 200))\n",
    "plt.show()"
   ]
  },
  {
   "cell_type": "markdown",
   "metadata": {},
   "source": [
    "Выведем гистограмму распределения **числа комнат (rooms)**:"
   ]
  },
  {
   "cell_type": "code",
   "execution_count": 68,
   "metadata": {},
   "outputs": [
    {
     "data": {
      "text/plain": [
       "19"
      ]
     },
     "execution_count": 68,
     "metadata": {},
     "output_type": "execute_result"
    }
   ],
   "source": [
    "df['rooms'].max()"
   ]
  },
  {
   "cell_type": "code",
   "execution_count": 69,
   "metadata": {},
   "outputs": [
    {
     "data": {
      "image/png": "[encoded data removed]",
      "text/plain": [
       "<Figure size 432x288 with 1 Axes>"
      ]
     },
     "metadata": {
      "needs_background": "light"
     },
     "output_type": "display_data"
    }
   ],
   "source": [
    "df['rooms'].hist(bins=30, range=(0, 19))\n",
    "plt.show()"
   ]
  },
  {
   "cell_type": "code",
   "execution_count": 70,
   "metadata": {},
   "outputs": [
    {
     "data": {
      "text/plain": [
       "514"
      ]
     },
     "execution_count": 70,
     "metadata": {},
     "output_type": "execute_result"
    }
   ],
   "source": [
    "df.query('rooms > 4').rooms.count()"
   ]
  },
  {
   "cell_type": "code",
   "execution_count": 71,
   "metadata": {},
   "outputs": [
    {
     "data": {
      "image/png": "[encoded data removed]",
      "text/plain": [
       "<Figure size 432x288 with 1 Axes>"
      ]
     },
     "metadata": {
      "needs_background": "light"
     },
     "output_type": "display_data"
    }
   ],
   "source": [
    "df['rooms'].hist(bins=30, range=(0, 4))\n",
    "plt.show()"
   ]
  },
  {
   "cell_type": "markdown",
   "metadata": {},
   "source": [
    "Гистограмма напоминает столбчатую, т.к. значений всего 4 (1,2,3,4 комнаты в квартирах) и они целого типа.  \n",
    "Можно наблюдать что больше всего продавалось однокомнатных и двухкомнатных квартир, т.е. стандартных."
   ]
  },
  {
   "cell_type": "markdown",
   "metadata": {},
   "source": [
    "Выведем гистограмму распределения **высоты потолков (ceiling_height)**:"
   ]
  },
  {
   "cell_type": "code",
   "execution_count": 72,
   "metadata": {},
   "outputs": [
    {
     "data": {
      "image/png": "[encoded data removed]",
      "text/plain": [
       "<Figure size 432x288 with 1 Axes>"
      ]
     },
     "metadata": {
      "needs_background": "light"
     },
     "output_type": "display_data"
    }
   ],
   "source": [
    "df['ceiling_height'].hist(bins=30, range=(2, 4))\n",
    "plt.show()"
   ]
  },
  {
   "cell_type": "markdown",
   "metadata": {},
   "source": [
    "По гистограмме можно сделать вывод о том что в датасете больше всего квартир с потолком высотой между 2,4м и 2,6м,  \n",
    "но также встречаются квартиры с очень высокими потолками: больше 3х метров, но таких квартир очень и очень мало"
   ]
  },
  {
   "cell_type": "markdown",
   "metadata": {},
   "source": [
    "####  Исследование количества времени для продажи квартиры "
   ]
  },
  {
   "cell_type": "code",
   "execution_count": 73,
   "metadata": {},
   "outputs": [
    {
     "name": "stdout",
     "output_type": "stream",
     "text": [
      "Среднее: 181.09023333661514\n",
      "Медиана: 96.0\n"
     ]
    }
   ],
   "source": [
    "print('Среднее:', df.days_exposition.mean())\n",
    "print('Медиана:', df.days_exposition.median())"
   ]
  },
  {
   "cell_type": "code",
   "execution_count": 74,
   "metadata": {},
   "outputs": [
    {
     "data": {
      "text/plain": [
       "count    20314.000000\n",
       "mean       181.090233\n",
       "std        219.544409\n",
       "min          1.000000\n",
       "25%         45.000000\n",
       "50%         96.000000\n",
       "75%        232.000000\n",
       "max       1580.000000\n",
       "Name: days_exposition, dtype: float64"
      ]
     },
     "execution_count": 74,
     "metadata": {},
     "output_type": "execute_result"
    }
   ],
   "source": [
    "df.days_exposition.describe(include = 'all')"
   ]
  },
  {
   "cell_type": "code",
   "execution_count": 75,
   "metadata": {},
   "outputs": [
    {
     "data": {
      "text/plain": [
       "4.328767123287672"
      ]
     },
     "execution_count": 75,
     "metadata": {},
     "output_type": "execute_result"
    }
   ],
   "source": [
    "1580/365"
   ]
  },
  {
   "cell_type": "markdown",
   "metadata": {},
   "source": [
    "По описанию видим, что квартиры продавались от 1 дня до 4 лет и, в среднем, это происходило за 181 день (учитывая среднее mean).  \n",
    "Стандартное отклонение очень высокое (std ~ 219), а значит в данных столбца присутствует большой разброс между значениями.\n",
    "\n",
    "Построим гистограмму:"
   ]
  },
  {
   "cell_type": "code",
   "execution_count": 76,
   "metadata": {},
   "outputs": [
    {
     "data": {
      "text/plain": [
       "<matplotlib.axes._subplots.AxesSubplot at 0x7fa356030b90>"
      ]
     },
     "execution_count": 76,
     "metadata": {},
     "output_type": "execute_result"
    },
    {
     "data": {
      "image/png": "[encoded data removed]",
      "text/plain": [
       "<Figure size 432x288 with 1 Axes>"
      ]
     },
     "metadata": {
      "needs_background": "light"
     },
     "output_type": "display_data"
    }
   ],
   "source": [
    "df.days_exposition.hist(bins=50)"
   ]
  },
  {
   "cell_type": "markdown",
   "metadata": {},
   "source": [
    "Присутствует большой пик возле нуля. Это характерно либо для распределения Пуассона, либо присутствуют какие-то выбросы.  \n",
    "Попробуем использовать диаграмму разброса:"
   ]
  },
  {
   "cell_type": "code",
   "execution_count": 77,
   "metadata": {},
   "outputs": [
    {
     "data": {
      "text/plain": [
       "<matplotlib.axes._subplots.AxesSubplot at 0x7fa355f77110>"
      ]
     },
     "execution_count": 77,
     "metadata": {},
     "output_type": "execute_result"
    },
    {
     "data": {
      "image/png": "[encoded data removed]",
      "text/plain": [
       "<Figure size 432x288 with 1 Axes>"
      ]
     },
     "metadata": {
      "needs_background": "light"
     },
     "output_type": "display_data"
    }
   ],
   "source": [
    "df.boxplot(column='days_exposition')"
   ]
  },
  {
   "cell_type": "markdown",
   "metadata": {},
   "source": [
    "По графику отметим, что основные значения находятся в пределах ящика, а это примерно между 20 и 220  \n",
    "В размах усов попадают нормальные значения, которые ограничены значением примерно 500.  \n",
    "Далее идут выбросы (значения выше 500)  \n",
    "\n",
    "Построим гистограмму, исключив эти значения, и посмотрим что получится:"
   ]
  },
  {
   "cell_type": "code",
   "execution_count": 78,
   "metadata": {},
   "outputs": [
    {
     "data": {
      "text/plain": [
       "<matplotlib.axes._subplots.AxesSubplot at 0x7fa355eb23d0>"
      ]
     },
     "execution_count": 78,
     "metadata": {},
     "output_type": "execute_result"
    },
    {
     "data": {
      "image/png": "[encoded data removed]",
      "text/plain": [
       "<Figure size 432x288 with 1 Axes>"
      ]
     },
     "metadata": {
      "needs_background": "light"
     },
     "output_type": "display_data"
    }
   ],
   "source": [
    "df.days_exposition.hist(bins=50, range=(1, 500))"
   ]
  },
  {
   "cell_type": "code",
   "execution_count": 79,
   "metadata": {},
   "outputs": [
    {
     "name": "stdout",
     "output_type": "stream",
     "text": [
      "Среднее: 127.43389119087338\n",
      "Медиана: 85.0\n"
     ]
    }
   ],
   "source": [
    "print('Среднее:', df.query('days_exposition <= 500').days_exposition.mean())\n",
    "print('Медиана:', df.query('days_exposition <= 500').days_exposition.median())"
   ]
  },
  {
   "cell_type": "markdown",
   "metadata": {},
   "source": [
    "В среднем продажа квартиры занимает 2-3 месяца, а вот если сделка соверишась сильно раньше, то продажу можно считать быстрой."
   ]
  },
  {
   "cell_type": "code",
   "execution_count": 80,
   "metadata": {},
   "outputs": [
    {
     "data": {
      "text/html": [
       "<div>\n",
       "<style scoped>\n",
       "    .dataframe tbody tr th:only-of-type {\n",
       "        vertical-align: middle;\n",
       "    }\n",
       "\n",
       "    .dataframe tbody tr th {\n",
       "        vertical-align: top;\n",
       "    }\n",
       "\n",
       "    .dataframe thead th {\n",
       "        text-align: right;\n",
       "    }\n",
       "</style>\n",
       "<table border=\"1\" class=\"dataframe\">\n",
       "  <thead>\n",
       "    <tr style=\"text-align: right;\">\n",
       "      <th></th>\n",
       "      <th>total_images</th>\n",
       "      <th>last_price</th>\n",
       "      <th>total_area</th>\n",
       "      <th>first_day_exposition</th>\n",
       "      <th>rooms</th>\n",
       "      <th>ceiling_height</th>\n",
       "      <th>floors_total</th>\n",
       "      <th>living_area</th>\n",
       "      <th>floor</th>\n",
       "      <th>is_apartment</th>\n",
       "      <th>studio</th>\n",
       "      <th>open_plan</th>\n",
       "      <th>kitchen_area</th>\n",
       "      <th>balcony</th>\n",
       "      <th>locality_name</th>\n",
       "      <th>airports_nearest</th>\n",
       "      <th>citycenters_nearest</th>\n",
       "      <th>parks_around3000</th>\n",
       "      <th>parks_nearest</th>\n",
       "      <th>ponds_around3000</th>\n",
       "      <th>ponds_nearest</th>\n",
       "      <th>days_exposition</th>\n",
       "      <th>price_m2</th>\n",
       "      <th>year_exposition</th>\n",
       "      <th>month_exposition</th>\n",
       "      <th>day_exposition</th>\n",
       "      <th>floor_class</th>\n",
       "      <th>living_to_total</th>\n",
       "      <th>kitchen_to_total</th>\n",
       "    </tr>\n",
       "  </thead>\n",
       "  <tbody>\n",
       "    <tr>\n",
       "      <td>0</td>\n",
       "      <td>20</td>\n",
       "      <td>13000000.0</td>\n",
       "      <td>108.0</td>\n",
       "      <td>2019-03-07</td>\n",
       "      <td>3</td>\n",
       "      <td>2.70</td>\n",
       "      <td>16</td>\n",
       "      <td>51.00000</td>\n",
       "      <td>8</td>\n",
       "      <td>False</td>\n",
       "      <td>False</td>\n",
       "      <td>False</td>\n",
       "      <td>25.000000</td>\n",
       "      <td>0</td>\n",
       "      <td>Санкт-Петербург</td>\n",
       "      <td>18863.0</td>\n",
       "      <td>16028.0</td>\n",
       "      <td>1.0</td>\n",
       "      <td>482.0</td>\n",
       "      <td>2.0</td>\n",
       "      <td>755.0</td>\n",
       "      <td>NaN</td>\n",
       "      <td>120370.370370</td>\n",
       "      <td>2019</td>\n",
       "      <td>3</td>\n",
       "      <td>3</td>\n",
       "      <td>другой</td>\n",
       "      <td>0.472222</td>\n",
       "      <td>0.231481</td>\n",
       "    </tr>\n",
       "    <tr>\n",
       "      <td>1</td>\n",
       "      <td>7</td>\n",
       "      <td>3350000.0</td>\n",
       "      <td>40.4</td>\n",
       "      <td>2018-12-04</td>\n",
       "      <td>1</td>\n",
       "      <td>2.65</td>\n",
       "      <td>11</td>\n",
       "      <td>18.60000</td>\n",
       "      <td>1</td>\n",
       "      <td>False</td>\n",
       "      <td>False</td>\n",
       "      <td>False</td>\n",
       "      <td>11.000000</td>\n",
       "      <td>2</td>\n",
       "      <td>посёлок Шушары</td>\n",
       "      <td>12817.0</td>\n",
       "      <td>18603.0</td>\n",
       "      <td>0.0</td>\n",
       "      <td>NaN</td>\n",
       "      <td>0.0</td>\n",
       "      <td>NaN</td>\n",
       "      <td>81.0</td>\n",
       "      <td>82920.792079</td>\n",
       "      <td>2018</td>\n",
       "      <td>12</td>\n",
       "      <td>1</td>\n",
       "      <td>первый</td>\n",
       "      <td>0.460396</td>\n",
       "      <td>0.272277</td>\n",
       "    </tr>\n",
       "    <tr>\n",
       "      <td>2</td>\n",
       "      <td>10</td>\n",
       "      <td>5196000.0</td>\n",
       "      <td>56.0</td>\n",
       "      <td>2015-08-20</td>\n",
       "      <td>2</td>\n",
       "      <td>2.65</td>\n",
       "      <td>5</td>\n",
       "      <td>34.30000</td>\n",
       "      <td>4</td>\n",
       "      <td>False</td>\n",
       "      <td>False</td>\n",
       "      <td>False</td>\n",
       "      <td>8.300000</td>\n",
       "      <td>0</td>\n",
       "      <td>Санкт-Петербург</td>\n",
       "      <td>21741.0</td>\n",
       "      <td>13933.0</td>\n",
       "      <td>1.0</td>\n",
       "      <td>90.0</td>\n",
       "      <td>2.0</td>\n",
       "      <td>574.0</td>\n",
       "      <td>558.0</td>\n",
       "      <td>92785.714286</td>\n",
       "      <td>2015</td>\n",
       "      <td>8</td>\n",
       "      <td>3</td>\n",
       "      <td>другой</td>\n",
       "      <td>0.612500</td>\n",
       "      <td>0.148214</td>\n",
       "    </tr>\n",
       "    <tr>\n",
       "      <td>3</td>\n",
       "      <td>0</td>\n",
       "      <td>64900000.0</td>\n",
       "      <td>159.0</td>\n",
       "      <td>2015-07-24</td>\n",
       "      <td>3</td>\n",
       "      <td>2.65</td>\n",
       "      <td>14</td>\n",
       "      <td>90.79007</td>\n",
       "      <td>9</td>\n",
       "      <td>False</td>\n",
       "      <td>False</td>\n",
       "      <td>False</td>\n",
       "      <td>27.839715</td>\n",
       "      <td>0</td>\n",
       "      <td>Санкт-Петербург</td>\n",
       "      <td>28098.0</td>\n",
       "      <td>6800.0</td>\n",
       "      <td>2.0</td>\n",
       "      <td>84.0</td>\n",
       "      <td>3.0</td>\n",
       "      <td>234.0</td>\n",
       "      <td>424.0</td>\n",
       "      <td>408176.100629</td>\n",
       "      <td>2015</td>\n",
       "      <td>7</td>\n",
       "      <td>4</td>\n",
       "      <td>другой</td>\n",
       "      <td>0.571007</td>\n",
       "      <td>0.175093</td>\n",
       "    </tr>\n",
       "    <tr>\n",
       "      <td>4</td>\n",
       "      <td>2</td>\n",
       "      <td>10000000.0</td>\n",
       "      <td>100.0</td>\n",
       "      <td>2018-06-19</td>\n",
       "      <td>2</td>\n",
       "      <td>3.03</td>\n",
       "      <td>14</td>\n",
       "      <td>32.00000</td>\n",
       "      <td>13</td>\n",
       "      <td>False</td>\n",
       "      <td>False</td>\n",
       "      <td>False</td>\n",
       "      <td>41.000000</td>\n",
       "      <td>0</td>\n",
       "      <td>Санкт-Петербург</td>\n",
       "      <td>31856.0</td>\n",
       "      <td>8098.0</td>\n",
       "      <td>2.0</td>\n",
       "      <td>112.0</td>\n",
       "      <td>1.0</td>\n",
       "      <td>48.0</td>\n",
       "      <td>121.0</td>\n",
       "      <td>100000.000000</td>\n",
       "      <td>2018</td>\n",
       "      <td>6</td>\n",
       "      <td>1</td>\n",
       "      <td>другой</td>\n",
       "      <td>0.320000</td>\n",
       "      <td>0.410000</td>\n",
       "    </tr>\n",
       "  </tbody>\n",
       "</table>\n",
       "</div>"
      ],
      "text/plain": [
       "   total_images  last_price  total_area first_day_exposition  rooms  \\\n",
       "0            20  13000000.0       108.0           2019-03-07      3   \n",
       "1             7   3350000.0        40.4           2018-12-04      1   \n",
       "2            10   5196000.0        56.0           2015-08-20      2   \n",
       "3             0  64900000.0       159.0           2015-07-24      3   \n",
       "4             2  10000000.0       100.0           2018-06-19      2   \n",
       "\n",
       "   ceiling_height  floors_total  living_area  floor  is_apartment  studio  \\\n",
       "0            2.70            16     51.00000      8         False   False   \n",
       "1            2.65            11     18.60000      1         False   False   \n",
       "2            2.65             5     34.30000      4         False   False   \n",
       "3            2.65            14     90.79007      9         False   False   \n",
       "4            3.03            14     32.00000     13         False   False   \n",
       "\n",
       "   open_plan  kitchen_area  balcony    locality_name  airports_nearest  \\\n",
       "0      False     25.000000        0  Санкт-Петербург           18863.0   \n",
       "1      False     11.000000        2   посёлок Шушары           12817.0   \n",
       "2      False      8.300000        0  Санкт-Петербург           21741.0   \n",
       "3      False     27.839715        0  Санкт-Петербург           28098.0   \n",
       "4      False     41.000000        0  Санкт-Петербург           31856.0   \n",
       "\n",
       "   citycenters_nearest  parks_around3000  parks_nearest  ponds_around3000  \\\n",
       "0              16028.0               1.0          482.0               2.0   \n",
       "1              18603.0               0.0            NaN               0.0   \n",
       "2              13933.0               1.0           90.0               2.0   \n",
       "3               6800.0               2.0           84.0               3.0   \n",
       "4               8098.0               2.0          112.0               1.0   \n",
       "\n",
       "   ponds_nearest  days_exposition       price_m2  year_exposition  \\\n",
       "0          755.0              NaN  120370.370370             2019   \n",
       "1            NaN             81.0   82920.792079             2018   \n",
       "2          574.0            558.0   92785.714286             2015   \n",
       "3          234.0            424.0  408176.100629             2015   \n",
       "4           48.0            121.0  100000.000000             2018   \n",
       "\n",
       "   month_exposition  day_exposition floor_class  living_to_total  \\\n",
       "0                 3               3      другой         0.472222   \n",
       "1                12               1      первый         0.460396   \n",
       "2                 8               3      другой         0.612500   \n",
       "3                 7               4      другой         0.571007   \n",
       "4                 6               1      другой         0.320000   \n",
       "\n",
       "   kitchen_to_total  \n",
       "0          0.231481  \n",
       "1          0.272277  \n",
       "2          0.148214  \n",
       "3          0.175093  \n",
       "4          0.410000  "
      ]
     },
     "execution_count": 80,
     "metadata": {},
     "output_type": "execute_result"
    }
   ],
   "source": [
    "df.head()"
   ]
  },
  {
   "cell_type": "markdown",
   "metadata": {},
   "source": [
    "*Посмотрим на столбец days_exposition в связке с другими столбцами*\n",
    "\n",
    "**С столбцами studio и open_plan:**  \n",
    "т.к. свободная планировка это то же самое что квартира-студия, мы сформируем новый столбец в датафрейме, в котором объединим положительные отметки из столбцов studio и open_plan в одну категорию: 'Свободная планировка', остальные квартиры отнесем к категории 'Закрытая планировка':"
   ]
  },
  {
   "cell_type": "code",
   "execution_count": 81,
   "metadata": {},
   "outputs": [
    {
     "data": {
      "text/plain": [
       "Закрытая планировка     23267\n",
       "Свободная планировка      196\n",
       "Name: plan_flat, dtype: int64"
      ]
     },
     "execution_count": 81,
     "metadata": {},
     "output_type": "execute_result"
    }
   ],
   "source": [
    "def plan_flat(row):\n",
    "    if row['studio'] == True:\n",
    "        return 'Свободная планировка'\n",
    "    if row['open_plan'] == True:\n",
    "        return 'Свободная планировка'\n",
    "    return 'Закрытая планировка'\n",
    "\n",
    "df['plan_flat'] = df.apply(plan_flat, axis=1)\n",
    "df['plan_flat'].value_counts()"
   ]
  },
  {
   "cell_type": "markdown",
   "metadata": {},
   "source": [
    "Теперь сравним среднее вермя продажи квартиры по этим двум категориям:"
   ]
  },
  {
   "cell_type": "code",
   "execution_count": 82,
   "metadata": {},
   "outputs": [
    {
     "data": {
      "text/html": [
       "<div>\n",
       "<style scoped>\n",
       "    .dataframe tbody tr th:only-of-type {\n",
       "        vertical-align: middle;\n",
       "    }\n",
       "\n",
       "    .dataframe tbody tr th {\n",
       "        vertical-align: top;\n",
       "    }\n",
       "\n",
       "    .dataframe thead th {\n",
       "        text-align: right;\n",
       "    }\n",
       "</style>\n",
       "<table border=\"1\" class=\"dataframe\">\n",
       "  <thead>\n",
       "    <tr style=\"text-align: right;\">\n",
       "      <th></th>\n",
       "      <th>mean_days_exposition</th>\n",
       "    </tr>\n",
       "    <tr>\n",
       "      <th>plan_flat</th>\n",
       "      <th></th>\n",
       "    </tr>\n",
       "  </thead>\n",
       "  <tbody>\n",
       "    <tr>\n",
       "      <td>Закрытая планировка</td>\n",
       "      <td>181.692579</td>\n",
       "    </tr>\n",
       "    <tr>\n",
       "      <td>Свободная планировка</td>\n",
       "      <td>114.461538</td>\n",
       "    </tr>\n",
       "  </tbody>\n",
       "</table>\n",
       "</div>"
      ],
      "text/plain": [
       "                      mean_days_exposition\n",
       "plan_flat                                 \n",
       "Закрытая планировка             181.692579\n",
       "Свободная планировка            114.461538"
      ]
     },
     "execution_count": 82,
     "metadata": {},
     "output_type": "execute_result"
    }
   ],
   "source": [
    "stat_grouped_studio = df.pivot_table(index='plan_flat', values='days_exposition')\n",
    "stat_grouped_studio.columns = ['mean_days_exposition']\n",
    "stat_grouped_studio"
   ]
  },
  {
   "cell_type": "markdown",
   "metadata": {},
   "source": [
    "По сводной таблице видим, что квартиры-студии продавались быстрее, чем остальные."
   ]
  },
  {
   "cell_type": "markdown",
   "metadata": {},
   "source": [
    "**Посмотрим на время продажи в связке с количеством комнат в квартире:**"
   ]
  },
  {
   "cell_type": "code",
   "execution_count": 83,
   "metadata": {},
   "outputs": [
    {
     "data": {
      "text/html": [
       "<div>\n",
       "<style scoped>\n",
       "    .dataframe tbody tr th:only-of-type {\n",
       "        vertical-align: middle;\n",
       "    }\n",
       "\n",
       "    .dataframe tbody tr th {\n",
       "        vertical-align: top;\n",
       "    }\n",
       "\n",
       "    .dataframe thead th {\n",
       "        text-align: right;\n",
       "    }\n",
       "</style>\n",
       "<table border=\"1\" class=\"dataframe\">\n",
       "  <thead>\n",
       "    <tr style=\"text-align: right;\">\n",
       "      <th></th>\n",
       "      <th>mean_days_exposition</th>\n",
       "    </tr>\n",
       "    <tr>\n",
       "      <th>rooms</th>\n",
       "      <th></th>\n",
       "    </tr>\n",
       "  </thead>\n",
       "  <tbody>\n",
       "    <tr>\n",
       "      <td>1</td>\n",
       "      <td>158.042840</td>\n",
       "    </tr>\n",
       "    <tr>\n",
       "      <td>2</td>\n",
       "      <td>172.946348</td>\n",
       "    </tr>\n",
       "    <tr>\n",
       "      <td>3</td>\n",
       "      <td>204.800711</td>\n",
       "    </tr>\n",
       "    <tr>\n",
       "      <td>4</td>\n",
       "      <td>254.222814</td>\n",
       "    </tr>\n",
       "    <tr>\n",
       "      <td>5</td>\n",
       "      <td>303.750000</td>\n",
       "    </tr>\n",
       "    <tr>\n",
       "      <td>6</td>\n",
       "      <td>278.440000</td>\n",
       "    </tr>\n",
       "    <tr>\n",
       "      <td>7</td>\n",
       "      <td>202.055556</td>\n",
       "    </tr>\n",
       "    <tr>\n",
       "      <td>8</td>\n",
       "      <td>416.700000</td>\n",
       "    </tr>\n",
       "    <tr>\n",
       "      <td>9</td>\n",
       "      <td>463.500000</td>\n",
       "    </tr>\n",
       "    <tr>\n",
       "      <td>10</td>\n",
       "      <td>44.000000</td>\n",
       "    </tr>\n",
       "    <tr>\n",
       "      <td>11</td>\n",
       "      <td>813.000000</td>\n",
       "    </tr>\n",
       "    <tr>\n",
       "      <td>12</td>\n",
       "      <td>106.000000</td>\n",
       "    </tr>\n",
       "    <tr>\n",
       "      <td>14</td>\n",
       "      <td>256.500000</td>\n",
       "    </tr>\n",
       "    <tr>\n",
       "      <td>15</td>\n",
       "      <td>14.000000</td>\n",
       "    </tr>\n",
       "    <tr>\n",
       "      <td>16</td>\n",
       "      <td>1365.000000</td>\n",
       "    </tr>\n",
       "    <tr>\n",
       "      <td>19</td>\n",
       "      <td>114.000000</td>\n",
       "    </tr>\n",
       "  </tbody>\n",
       "</table>\n",
       "</div>"
      ],
      "text/plain": [
       "       mean_days_exposition\n",
       "rooms                      \n",
       "1                158.042840\n",
       "2                172.946348\n",
       "3                204.800711\n",
       "4                254.222814\n",
       "5                303.750000\n",
       "6                278.440000\n",
       "7                202.055556\n",
       "8                416.700000\n",
       "9                463.500000\n",
       "10                44.000000\n",
       "11               813.000000\n",
       "12               106.000000\n",
       "14               256.500000\n",
       "15                14.000000\n",
       "16              1365.000000\n",
       "19               114.000000"
      ]
     },
     "execution_count": 83,
     "metadata": {},
     "output_type": "execute_result"
    }
   ],
   "source": [
    "stat_grouped_rooms = df.pivot_table(index='rooms', values='days_exposition')\n",
    "stat_grouped_rooms.columns = ['mean_days_exposition']\n",
    "stat_grouped_rooms"
   ]
  },
  {
   "cell_type": "code",
   "execution_count": 84,
   "metadata": {},
   "outputs": [
    {
     "data": {
      "text/plain": [
       "array([[<matplotlib.axes._subplots.AxesSubplot object at 0x7fa35607a350>]],\n",
       "      dtype=object)"
      ]
     },
     "execution_count": 84,
     "metadata": {},
     "output_type": "execute_result"
    },
    {
     "data": {
      "image/png": "[encoded data removed]",
      "text/plain": [
       "<Figure size 432x288 with 1 Axes>"
      ]
     },
     "metadata": {
      "needs_background": "light"
     },
     "output_type": "display_data"
    }
   ],
   "source": [
    "stat_grouped_rooms.hist(bins=20)"
   ]
  },
  {
   "cell_type": "markdown",
   "metadata": {},
   "source": [
    "По таким данным, можно сделать вывод о том, что взаимосвязи между количеством комнат и продолжительностью продажи квартиры либо совсем нет, либо настолько незначительная, что ее не нужно брать в учет. "
   ]
  },
  {
   "cell_type": "markdown",
   "metadata": {},
   "source": [
    "**Посмотрим на время продажи в связке с площадью квартиры:**\n",
    "\n",
    "для начала разделим жилье на категории по общей площади квартир (добавим новый столбец с категорией квартиры)"
   ]
  },
  {
   "cell_type": "code",
   "execution_count": 85,
   "metadata": {},
   "outputs": [
    {
     "data": {
      "text/plain": [
       "business-class    10489\n",
       "comfort            7045\n",
       "econom             4041\n",
       "premium            1888\n",
       "Name: flat_class, dtype: int64"
      ]
     },
     "execution_count": 85,
     "metadata": {},
     "output_type": "execute_result"
    }
   ],
   "source": [
    "def total_area_grupps(row):\n",
    "    if row['total_area'] <= 36:\n",
    "        return 'econom'\n",
    "    if row['total_area'] > 50 and row['total_area'] < 100:\n",
    "        return 'business-class'\n",
    "    if row['total_area'] >= 100:\n",
    "        return 'premium'   \n",
    "    return 'comfort'\n",
    "\n",
    "df['flat_class'] = df.apply(total_area_grupps, axis=1)\n",
    "df['flat_class'].value_counts()"
   ]
  },
  {
   "cell_type": "code",
   "execution_count": 86,
   "metadata": {},
   "outputs": [
    {
     "data": {
      "text/html": [
       "<div>\n",
       "<style scoped>\n",
       "    .dataframe tbody tr th:only-of-type {\n",
       "        vertical-align: middle;\n",
       "    }\n",
       "\n",
       "    .dataframe tbody tr th {\n",
       "        vertical-align: top;\n",
       "    }\n",
       "\n",
       "    .dataframe thead th {\n",
       "        text-align: right;\n",
       "    }\n",
       "</style>\n",
       "<table border=\"1\" class=\"dataframe\">\n",
       "  <thead>\n",
       "    <tr style=\"text-align: right;\">\n",
       "      <th></th>\n",
       "      <th>mean_days_exposition</th>\n",
       "    </tr>\n",
       "    <tr>\n",
       "      <th>flat_class</th>\n",
       "      <th></th>\n",
       "    </tr>\n",
       "  </thead>\n",
       "  <tbody>\n",
       "    <tr>\n",
       "      <td>business-class</td>\n",
       "      <td>190.387629</td>\n",
       "    </tr>\n",
       "    <tr>\n",
       "      <td>comfort</td>\n",
       "      <td>160.798733</td>\n",
       "    </tr>\n",
       "    <tr>\n",
       "      <td>econom</td>\n",
       "      <td>150.495628</td>\n",
       "    </tr>\n",
       "    <tr>\n",
       "      <td>premium</td>\n",
       "      <td>291.010482</td>\n",
       "    </tr>\n",
       "  </tbody>\n",
       "</table>\n",
       "</div>"
      ],
      "text/plain": [
       "                mean_days_exposition\n",
       "flat_class                          \n",
       "business-class            190.387629\n",
       "comfort                   160.798733\n",
       "econom                    150.495628\n",
       "premium                   291.010482"
      ]
     },
     "execution_count": 86,
     "metadata": {},
     "output_type": "execute_result"
    }
   ],
   "source": [
    "stat_grouped_area = df.pivot_table(index='flat_class', values='days_exposition')\n",
    "stat_grouped_area.columns = ['mean_days_exposition']\n",
    "stat_grouped_area"
   ]
  },
  {
   "cell_type": "code",
   "execution_count": 87,
   "metadata": {},
   "outputs": [
    {
     "data": {
      "image/png": "[encoded data removed]",
      "text/plain": [
       "<Figure size 432x432 with 1 Axes>"
      ]
     },
     "metadata": {},
     "output_type": "display_data"
    }
   ],
   "source": [
    "stat_grouped_area.plot(y='mean_days_exposition', kind='pie', autopct='%.2f', legend=False, figsize=(6, 6))\n",
    "plt.axis('off')\n",
    "plt.show()\n",
    "plt.close()"
   ]
  },
  {
   "cell_type": "markdown",
   "metadata": {},
   "source": [
    "По сводной таблице и круговой диаграмме можно сделать вывод о том, что:  \n",
    "* быстрее всего продается жилье эконом и кофорт вариантов (до 50 кв м),  \n",
    "* дольше них продается квартиры, относящиеся к бизнес-классу(от 50 до 100 кв м),  \n",
    "* ну а жилье премиум класса (с площадью более 100 кв м) продается дольше всех категорий, хоть его не так уж и много\n",
    "\n",
    "**Посмотрим на время продажи в связке с этажом квартиры:**"
   ]
  },
  {
   "cell_type": "code",
   "execution_count": 88,
   "metadata": {},
   "outputs": [
    {
     "data": {
      "text/html": [
       "<div>\n",
       "<style scoped>\n",
       "    .dataframe tbody tr th:only-of-type {\n",
       "        vertical-align: middle;\n",
       "    }\n",
       "\n",
       "    .dataframe tbody tr th {\n",
       "        vertical-align: top;\n",
       "    }\n",
       "\n",
       "    .dataframe thead th {\n",
       "        text-align: right;\n",
       "    }\n",
       "</style>\n",
       "<table border=\"1\" class=\"dataframe\">\n",
       "  <thead>\n",
       "    <tr style=\"text-align: right;\">\n",
       "      <th></th>\n",
       "      <th>mean_days_exposition</th>\n",
       "    </tr>\n",
       "    <tr>\n",
       "      <th>floor_class</th>\n",
       "      <th></th>\n",
       "    </tr>\n",
       "  </thead>\n",
       "  <tbody>\n",
       "    <tr>\n",
       "      <td>другой</td>\n",
       "      <td>175.597159</td>\n",
       "    </tr>\n",
       "    <tr>\n",
       "      <td>первый</td>\n",
       "      <td>202.741393</td>\n",
       "    </tr>\n",
       "    <tr>\n",
       "      <td>последний</td>\n",
       "      <td>191.731768</td>\n",
       "    </tr>\n",
       "  </tbody>\n",
       "</table>\n",
       "</div>"
      ],
      "text/plain": [
       "             mean_days_exposition\n",
       "floor_class                      \n",
       "другой                 175.597159\n",
       "первый                 202.741393\n",
       "последний              191.731768"
      ]
     },
     "execution_count": 88,
     "metadata": {},
     "output_type": "execute_result"
    }
   ],
   "source": [
    "stat_grouped_area = df.pivot_table(index='floor_class', values='days_exposition')\n",
    "stat_grouped_area.columns = ['mean_days_exposition']\n",
    "stat_grouped_area"
   ]
  },
  {
   "cell_type": "markdown",
   "metadata": {},
   "source": [
    "На первом и последнем этажах квартиры продаются явно дольше чем на всех других.\n",
    "\n",
    "**Посмотрим на время продажи объявлений в зависимости от года публикации:**"
   ]
  },
  {
   "cell_type": "code",
   "execution_count": 89,
   "metadata": {},
   "outputs": [
    {
     "data": {
      "text/html": [
       "<div>\n",
       "<style scoped>\n",
       "    .dataframe tbody tr th:only-of-type {\n",
       "        vertical-align: middle;\n",
       "    }\n",
       "\n",
       "    .dataframe tbody tr th {\n",
       "        vertical-align: top;\n",
       "    }\n",
       "\n",
       "    .dataframe thead th {\n",
       "        text-align: right;\n",
       "    }\n",
       "</style>\n",
       "<table border=\"1\" class=\"dataframe\">\n",
       "  <thead>\n",
       "    <tr style=\"text-align: right;\">\n",
       "      <th></th>\n",
       "      <th>mean_days_exposition</th>\n",
       "    </tr>\n",
       "    <tr>\n",
       "      <th>year_exposition</th>\n",
       "      <th></th>\n",
       "    </tr>\n",
       "  </thead>\n",
       "  <tbody>\n",
       "    <tr>\n",
       "      <td>2014</td>\n",
       "      <td>913.544643</td>\n",
       "    </tr>\n",
       "    <tr>\n",
       "      <td>2015</td>\n",
       "      <td>647.566816</td>\n",
       "    </tr>\n",
       "    <tr>\n",
       "      <td>2016</td>\n",
       "      <td>321.386102</td>\n",
       "    </tr>\n",
       "    <tr>\n",
       "      <td>2017</td>\n",
       "      <td>159.076757</td>\n",
       "    </tr>\n",
       "    <tr>\n",
       "      <td>2018</td>\n",
       "      <td>94.611461</td>\n",
       "    </tr>\n",
       "    <tr>\n",
       "      <td>2019</td>\n",
       "      <td>30.908497</td>\n",
       "    </tr>\n",
       "  </tbody>\n",
       "</table>\n",
       "</div>"
      ],
      "text/plain": [
       "                 mean_days_exposition\n",
       "year_exposition                      \n",
       "2014                       913.544643\n",
       "2015                       647.566816\n",
       "2016                       321.386102\n",
       "2017                       159.076757\n",
       "2018                        94.611461\n",
       "2019                        30.908497"
      ]
     },
     "execution_count": 89,
     "metadata": {},
     "output_type": "execute_result"
    }
   ],
   "source": [
    "stat_grouped_area = df.pivot_table(index='year_exposition', values='days_exposition')\n",
    "stat_grouped_area.columns = ['mean_days_exposition']\n",
    "stat_grouped_area"
   ]
  },
  {
   "cell_type": "markdown",
   "metadata": {},
   "source": [
    "По сводной таблице можно проследить как с годами линейно уменьшается среднее время продажи квартир. "
   ]
  },
  {
   "cell_type": "markdown",
   "metadata": {},
   "source": [
    "####   Уберём редкие и выбивающиеся значения"
   ]
  },
  {
   "cell_type": "code",
   "execution_count": 90,
   "metadata": {},
   "outputs": [
    {
     "data": {
      "text/html": [
       "<div>\n",
       "<style scoped>\n",
       "    .dataframe tbody tr th:only-of-type {\n",
       "        vertical-align: middle;\n",
       "    }\n",
       "\n",
       "    .dataframe tbody tr th {\n",
       "        vertical-align: top;\n",
       "    }\n",
       "\n",
       "    .dataframe thead th {\n",
       "        text-align: right;\n",
       "    }\n",
       "</style>\n",
       "<table border=\"1\" class=\"dataframe\">\n",
       "  <thead>\n",
       "    <tr style=\"text-align: right;\">\n",
       "      <th></th>\n",
       "      <th>total_images</th>\n",
       "      <th>last_price</th>\n",
       "      <th>total_area</th>\n",
       "      <th>rooms</th>\n",
       "      <th>ceiling_height</th>\n",
       "      <th>floors_total</th>\n",
       "      <th>living_area</th>\n",
       "      <th>floor</th>\n",
       "      <th>kitchen_area</th>\n",
       "      <th>balcony</th>\n",
       "      <th>airports_nearest</th>\n",
       "      <th>citycenters_nearest</th>\n",
       "      <th>parks_around3000</th>\n",
       "      <th>parks_nearest</th>\n",
       "      <th>ponds_around3000</th>\n",
       "      <th>ponds_nearest</th>\n",
       "      <th>days_exposition</th>\n",
       "      <th>price_m2</th>\n",
       "      <th>year_exposition</th>\n",
       "      <th>month_exposition</th>\n",
       "      <th>day_exposition</th>\n",
       "      <th>living_to_total</th>\n",
       "      <th>kitchen_to_total</th>\n",
       "    </tr>\n",
       "  </thead>\n",
       "  <tbody>\n",
       "    <tr>\n",
       "      <td>count</td>\n",
       "      <td>23463.000000</td>\n",
       "      <td>2.346300e+04</td>\n",
       "      <td>23463.000000</td>\n",
       "      <td>23463.000000</td>\n",
       "      <td>23463.000000</td>\n",
       "      <td>23463.000000</td>\n",
       "      <td>23463.000000</td>\n",
       "      <td>23463.000000</td>\n",
       "      <td>23463.000000</td>\n",
       "      <td>23463.000000</td>\n",
       "      <td>17993.000000</td>\n",
       "      <td>18014.000000</td>\n",
       "      <td>18015.000000</td>\n",
       "      <td>8004.000000</td>\n",
       "      <td>18015.000000</td>\n",
       "      <td>9024.000000</td>\n",
       "      <td>20314.000000</td>\n",
       "      <td>2.346300e+04</td>\n",
       "      <td>23463.000000</td>\n",
       "      <td>23463.000000</td>\n",
       "      <td>23463.000000</td>\n",
       "      <td>23463.000000</td>\n",
       "      <td>23463.000000</td>\n",
       "    </tr>\n",
       "    <tr>\n",
       "      <td>mean</td>\n",
       "      <td>9.857691</td>\n",
       "      <td>6.526357e+06</td>\n",
       "      <td>60.366971</td>\n",
       "      <td>2.081106</td>\n",
       "      <td>2.687716</td>\n",
       "      <td>10.672335</td>\n",
       "      <td>34.508173</td>\n",
       "      <td>5.889784</td>\n",
       "      <td>10.470557</td>\n",
       "      <td>0.587990</td>\n",
       "      <td>28792.499472</td>\n",
       "      <td>14199.944377</td>\n",
       "      <td>0.609992</td>\n",
       "      <td>491.642054</td>\n",
       "      <td>0.768859</td>\n",
       "      <td>517.717753</td>\n",
       "      <td>181.090233</td>\n",
       "      <td>9.922155e+04</td>\n",
       "      <td>2017.366449</td>\n",
       "      <td>6.398287</td>\n",
       "      <td>2.569492</td>\n",
       "      <td>0.563357</td>\n",
       "      <td>0.185507</td>\n",
       "    </tr>\n",
       "    <tr>\n",
       "      <td>std</td>\n",
       "      <td>5.676425</td>\n",
       "      <td>1.085443e+07</td>\n",
       "      <td>35.542742</td>\n",
       "      <td>1.065669</td>\n",
       "      <td>0.187048</td>\n",
       "      <td>6.567483</td>\n",
       "      <td>22.220609</td>\n",
       "      <td>4.880111</td>\n",
       "      <td>5.968180</td>\n",
       "      <td>0.956386</td>\n",
       "      <td>12630.316218</td>\n",
       "      <td>8606.307274</td>\n",
       "      <td>0.800237</td>\n",
       "      <td>341.789078</td>\n",
       "      <td>0.936757</td>\n",
       "      <td>277.752223</td>\n",
       "      <td>219.544409</td>\n",
       "      <td>4.978304e+04</td>\n",
       "      <td>1.038868</td>\n",
       "      <td>3.492011</td>\n",
       "      <td>1.788235</td>\n",
       "      <td>0.098578</td>\n",
       "      <td>0.068326</td>\n",
       "    </tr>\n",
       "    <tr>\n",
       "      <td>min</td>\n",
       "      <td>0.000000</td>\n",
       "      <td>1.219000e+04</td>\n",
       "      <td>13.000000</td>\n",
       "      <td>1.000000</td>\n",
       "      <td>2.300000</td>\n",
       "      <td>1.000000</td>\n",
       "      <td>2.000000</td>\n",
       "      <td>1.000000</td>\n",
       "      <td>1.300000</td>\n",
       "      <td>0.000000</td>\n",
       "      <td>0.000000</td>\n",
       "      <td>181.000000</td>\n",
       "      <td>0.000000</td>\n",
       "      <td>1.000000</td>\n",
       "      <td>0.000000</td>\n",
       "      <td>13.000000</td>\n",
       "      <td>1.000000</td>\n",
       "      <td>1.118349e+02</td>\n",
       "      <td>2014.000000</td>\n",
       "      <td>1.000000</td>\n",
       "      <td>0.000000</td>\n",
       "      <td>0.021583</td>\n",
       "      <td>0.025381</td>\n",
       "    </tr>\n",
       "    <tr>\n",
       "      <td>25%</td>\n",
       "      <td>6.000000</td>\n",
       "      <td>3.425000e+06</td>\n",
       "      <td>40.000000</td>\n",
       "      <td>1.000000</td>\n",
       "      <td>2.600000</td>\n",
       "      <td>5.000000</td>\n",
       "      <td>19.000000</td>\n",
       "      <td>2.000000</td>\n",
       "      <td>7.000000</td>\n",
       "      <td>0.000000</td>\n",
       "      <td>18576.000000</td>\n",
       "      <td>9238.750000</td>\n",
       "      <td>0.000000</td>\n",
       "      <td>288.000000</td>\n",
       "      <td>0.000000</td>\n",
       "      <td>293.000000</td>\n",
       "      <td>45.000000</td>\n",
       "      <td>7.656250e+04</td>\n",
       "      <td>2017.000000</td>\n",
       "      <td>3.000000</td>\n",
       "      <td>1.000000</td>\n",
       "      <td>0.500000</td>\n",
       "      <td>0.136508</td>\n",
       "    </tr>\n",
       "    <tr>\n",
       "      <td>50%</td>\n",
       "      <td>9.000000</td>\n",
       "      <td>4.650000e+06</td>\n",
       "      <td>52.000000</td>\n",
       "      <td>2.000000</td>\n",
       "      <td>2.650000</td>\n",
       "      <td>9.000000</td>\n",
       "      <td>30.000000</td>\n",
       "      <td>4.000000</td>\n",
       "      <td>9.000000</td>\n",
       "      <td>0.000000</td>\n",
       "      <td>26726.000000</td>\n",
       "      <td>13101.000000</td>\n",
       "      <td>0.000000</td>\n",
       "      <td>455.000000</td>\n",
       "      <td>1.000000</td>\n",
       "      <td>502.000000</td>\n",
       "      <td>96.000000</td>\n",
       "      <td>9.490741e+04</td>\n",
       "      <td>2017.000000</td>\n",
       "      <td>6.000000</td>\n",
       "      <td>3.000000</td>\n",
       "      <td>0.571007</td>\n",
       "      <td>0.175093</td>\n",
       "    </tr>\n",
       "    <tr>\n",
       "      <td>75%</td>\n",
       "      <td>14.000000</td>\n",
       "      <td>6.790000e+06</td>\n",
       "      <td>69.900000</td>\n",
       "      <td>3.000000</td>\n",
       "      <td>2.700000</td>\n",
       "      <td>16.000000</td>\n",
       "      <td>42.000000</td>\n",
       "      <td>8.000000</td>\n",
       "      <td>12.000000</td>\n",
       "      <td>1.000000</td>\n",
       "      <td>37268.000000</td>\n",
       "      <td>16295.500000</td>\n",
       "      <td>1.000000</td>\n",
       "      <td>612.250000</td>\n",
       "      <td>1.000000</td>\n",
       "      <td>728.000000</td>\n",
       "      <td>232.000000</td>\n",
       "      <td>1.140625e+05</td>\n",
       "      <td>2018.000000</td>\n",
       "      <td>10.000000</td>\n",
       "      <td>4.000000</td>\n",
       "      <td>0.629630</td>\n",
       "      <td>0.222611</td>\n",
       "    </tr>\n",
       "    <tr>\n",
       "      <td>max</td>\n",
       "      <td>50.000000</td>\n",
       "      <td>7.630000e+08</td>\n",
       "      <td>900.000000</td>\n",
       "      <td>19.000000</td>\n",
       "      <td>3.700000</td>\n",
       "      <td>37.000000</td>\n",
       "      <td>409.700000</td>\n",
       "      <td>33.000000</td>\n",
       "      <td>112.000000</td>\n",
       "      <td>5.000000</td>\n",
       "      <td>84869.000000</td>\n",
       "      <td>65968.000000</td>\n",
       "      <td>3.000000</td>\n",
       "      <td>3190.000000</td>\n",
       "      <td>3.000000</td>\n",
       "      <td>1344.000000</td>\n",
       "      <td>1580.000000</td>\n",
       "      <td>1.907500e+06</td>\n",
       "      <td>2019.000000</td>\n",
       "      <td>12.000000</td>\n",
       "      <td>6.000000</td>\n",
       "      <td>0.908439</td>\n",
       "      <td>0.724638</td>\n",
       "    </tr>\n",
       "  </tbody>\n",
       "</table>\n",
       "</div>"
      ],
      "text/plain": [
       "       total_images    last_price    total_area         rooms  ceiling_height  \\\n",
       "count  23463.000000  2.346300e+04  23463.000000  23463.000000    23463.000000   \n",
       "mean       9.857691  6.526357e+06     60.366971      2.081106        2.687716   \n",
       "std        5.676425  1.085443e+07     35.542742      1.065669        0.187048   \n",
       "min        0.000000  1.219000e+04     13.000000      1.000000        2.300000   \n",
       "25%        6.000000  3.425000e+06     40.000000      1.000000        2.600000   \n",
       "50%        9.000000  4.650000e+06     52.000000      2.000000        2.650000   \n",
       "75%       14.000000  6.790000e+06     69.900000      3.000000        2.700000   \n",
       "max       50.000000  7.630000e+08    900.000000     19.000000        3.700000   \n",
       "\n",
       "       floors_total   living_area         floor  kitchen_area       balcony  \\\n",
       "count  23463.000000  23463.000000  23463.000000  23463.000000  23463.000000   \n",
       "mean      10.672335     34.508173      5.889784     10.470557      0.587990   \n",
       "std        6.567483     22.220609      4.880111      5.968180      0.956386   \n",
       "min        1.000000      2.000000      1.000000      1.300000      0.000000   \n",
       "25%        5.000000     19.000000      2.000000      7.000000      0.000000   \n",
       "50%        9.000000     30.000000      4.000000      9.000000      0.000000   \n",
       "75%       16.000000     42.000000      8.000000     12.000000      1.000000   \n",
       "max       37.000000    409.700000     33.000000    112.000000      5.000000   \n",
       "\n",
       "       airports_nearest  citycenters_nearest  parks_around3000  parks_nearest  \\\n",
       "count      17993.000000         18014.000000      18015.000000    8004.000000   \n",
       "mean       28792.499472         14199.944377          0.609992     491.642054   \n",
       "std        12630.316218          8606.307274          0.800237     341.789078   \n",
       "min            0.000000           181.000000          0.000000       1.000000   \n",
       "25%        18576.000000          9238.750000          0.000000     288.000000   \n",
       "50%        26726.000000         13101.000000          0.000000     455.000000   \n",
       "75%        37268.000000         16295.500000          1.000000     612.250000   \n",
       "max        84869.000000         65968.000000          3.000000    3190.000000   \n",
       "\n",
       "       ponds_around3000  ponds_nearest  days_exposition      price_m2  \\\n",
       "count      18015.000000    9024.000000     20314.000000  2.346300e+04   \n",
       "mean           0.768859     517.717753       181.090233  9.922155e+04   \n",
       "std            0.936757     277.752223       219.544409  4.978304e+04   \n",
       "min            0.000000      13.000000         1.000000  1.118349e+02   \n",
       "25%            0.000000     293.000000        45.000000  7.656250e+04   \n",
       "50%            1.000000     502.000000        96.000000  9.490741e+04   \n",
       "75%            1.000000     728.000000       232.000000  1.140625e+05   \n",
       "max            3.000000    1344.000000      1580.000000  1.907500e+06   \n",
       "\n",
       "       year_exposition  month_exposition  day_exposition  living_to_total  \\\n",
       "count     23463.000000      23463.000000    23463.000000     23463.000000   \n",
       "mean       2017.366449          6.398287        2.569492         0.563357   \n",
       "std           1.038868          3.492011        1.788235         0.098578   \n",
       "min        2014.000000          1.000000        0.000000         0.021583   \n",
       "25%        2017.000000          3.000000        1.000000         0.500000   \n",
       "50%        2017.000000          6.000000        3.000000         0.571007   \n",
       "75%        2018.000000         10.000000        4.000000         0.629630   \n",
       "max        2019.000000         12.000000        6.000000         0.908439   \n",
       "\n",
       "       kitchen_to_total  \n",
       "count      23463.000000  \n",
       "mean           0.185507  \n",
       "std            0.068326  \n",
       "min            0.025381  \n",
       "25%            0.136508  \n",
       "50%            0.175093  \n",
       "75%            0.222611  \n",
       "max            0.724638  "
      ]
     },
     "execution_count": 90,
     "metadata": {},
     "output_type": "execute_result"
    }
   ],
   "source": [
    "df.describe()"
   ]
  },
  {
   "cell_type": "markdown",
   "metadata": {},
   "source": [
    "В глаза бросаются 19 комнатная квартира в столбце с количеством комнат. Поищем выбросы в нем"
   ]
  },
  {
   "cell_type": "code",
   "execution_count": 91,
   "metadata": {},
   "outputs": [
    {
     "data": {
      "text/plain": [
       "<matplotlib.axes._subplots.AxesSubplot at 0x7fa3561f2210>"
      ]
     },
     "execution_count": 91,
     "metadata": {},
     "output_type": "execute_result"
    },
    {
     "data": {
      "image/png": "[encoded data removed]",
      "text/plain": [
       "<Figure size 432x288 with 1 Axes>"
      ]
     },
     "metadata": {
      "needs_background": "light"
     },
     "output_type": "display_data"
    }
   ],
   "source": [
    "df.boxplot(column='rooms')"
   ]
  },
  {
   "cell_type": "markdown",
   "metadata": {},
   "source": [
    "Квартиры с количеством комнат выше 6 встречаются очень редко, т.к. они отсечены верхним \"усом\" ящика и выглядят на диаграмме  как выбросы. Это вполне соответсвует реальности  \n",
    "Посчитаем количество таких квартир:"
   ]
  },
  {
   "cell_type": "code",
   "execution_count": 92,
   "metadata": {},
   "outputs": [
    {
     "data": {
      "text/plain": [
       "30"
      ]
     },
     "execution_count": 92,
     "metadata": {},
     "output_type": "execute_result"
    }
   ],
   "source": [
    "df.query('rooms > 7').rooms.count()"
   ]
  },
  {
   "cell_type": "markdown",
   "metadata": {},
   "source": [
    "Действительно, таких значений очень мало и от них можно избавиться."
   ]
  },
  {
   "cell_type": "code",
   "execution_count": 93,
   "metadata": {},
   "outputs": [
    {
     "data": {
      "text/plain": [
       "count    23433.000000\n",
       "mean         2.070883\n",
       "std          1.022478\n",
       "min          1.000000\n",
       "25%          1.000000\n",
       "50%          2.000000\n",
       "75%          3.000000\n",
       "max          7.000000\n",
       "Name: rooms, dtype: float64"
      ]
     },
     "execution_count": 93,
     "metadata": {},
     "output_type": "execute_result"
    }
   ],
   "source": [
    "df.query('rooms <= 7', inplace=True)\n",
    "df.rooms.describe()"
   ]
  },
  {
   "cell_type": "code",
   "execution_count": 94,
   "metadata": {},
   "outputs": [
    {
     "data": {
      "text/plain": [
       "<matplotlib.axes._subplots.AxesSubplot at 0x7fa3bbecf050>"
      ]
     },
     "execution_count": 94,
     "metadata": {},
     "output_type": "execute_result"
    },
    {
     "data": {
      "image/png": "[encoded data removed]",
      "text/plain": [
       "<Figure size 432x288 with 1 Axes>"
      ]
     },
     "metadata": {
      "needs_background": "light"
     },
     "output_type": "display_data"
    }
   ],
   "source": [
    "df.rooms.hist(bins=20)"
   ]
  },
  {
   "cell_type": "markdown",
   "metadata": {},
   "source": [
    "Посмотрим на выбросы в столбце со стоимостью квартиры:"
   ]
  },
  {
   "cell_type": "code",
   "execution_count": 95,
   "metadata": {},
   "outputs": [
    {
     "data": {
      "text/plain": [
       "count    2.343300e+04\n",
       "mean     6.472650e+06\n",
       "std      1.040867e+07\n",
       "min      1.219000e+04\n",
       "25%      3.420000e+06\n",
       "50%      4.635000e+06\n",
       "75%      6.750000e+06\n",
       "max      7.630000e+08\n",
       "Name: last_price, dtype: float64"
      ]
     },
     "execution_count": 95,
     "metadata": {},
     "output_type": "execute_result"
    }
   ],
   "source": [
    "df.last_price.describe()"
   ]
  },
  {
   "cell_type": "markdown",
   "metadata": {},
   "source": [
    "Как мы отмечали ранее, максимальное значение довольно сильно разнится с медианным. Это кажется необычным"
   ]
  },
  {
   "cell_type": "code",
   "execution_count": 96,
   "metadata": {},
   "outputs": [
    {
     "data": {
      "text/plain": [
       "<matplotlib.axes._subplots.AxesSubplot at 0x7fa356554f90>"
      ]
     },
     "execution_count": 96,
     "metadata": {},
     "output_type": "execute_result"
    },
    {
     "data": {
      "image/png": "[encoded data removed]",
      "text/plain": [
       "<Figure size 432x288 with 1 Axes>"
      ]
     },
     "metadata": {
      "needs_background": "light"
     },
     "output_type": "display_data"
    }
   ],
   "source": [
    "df.last_price.hist(bins=30)"
   ]
  },
  {
   "cell_type": "markdown",
   "metadata": {},
   "source": [
    "Здесь определенно присутствуют выпадающие из общей картины значения. Попробуем рассмотреть их на диаграмме разброса: "
   ]
  },
  {
   "cell_type": "code",
   "execution_count": 97,
   "metadata": {},
   "outputs": [
    {
     "data": {
      "text/plain": [
       "<matplotlib.axes._subplots.AxesSubplot at 0x7fa35612d7d0>"
      ]
     },
     "execution_count": 97,
     "metadata": {},
     "output_type": "execute_result"
    },
    {
     "data": {
      "image/png": "[encoded data removed]",
      "text/plain": [
       "<Figure size 432x288 with 1 Axes>"
      ]
     },
     "metadata": {
      "needs_background": "light"
     },
     "output_type": "display_data"
    }
   ],
   "source": [
    "df.boxplot(column='last_price')"
   ]
  },
  {
   "cell_type": "markdown",
   "metadata": {},
   "source": [
    "Мы видим, что выбросы начинаются уже примерно от стоимости в 10 млн.  \n",
    "Изменим масштаб (до 50млн), чтобы лучше рассмотреть границы \"усов\" диаграммы:"
   ]
  },
  {
   "cell_type": "code",
   "execution_count": 98,
   "metadata": {},
   "outputs": [
    {
     "data": {
      "text/plain": [
       "(0, 50000000)"
      ]
     },
     "execution_count": 98,
     "metadata": {},
     "output_type": "execute_result"
    },
    {
     "data": {
      "image/png": "[encoded data removed]",
      "text/plain": [
       "<Figure size 432x288 with 1 Axes>"
      ]
     },
     "metadata": {
      "needs_background": "light"
     },
     "output_type": "display_data"
    }
   ],
   "source": [
    "df.boxplot(column='last_price')\n",
    "plt.ylim(0, 50000000)"
   ]
  },
  {
   "cell_type": "markdown",
   "metadata": {},
   "source": [
    "Уже более четко можно проследить где начинаются редкие и выбивающиеся из общей картины значения - там где заканчивается верхний ус, а это примерно на 12 млн. Посмотрим сколько значений попадает в более чем 12 млн:"
   ]
  },
  {
   "cell_type": "code",
   "execution_count": 99,
   "metadata": {},
   "outputs": [
    {
     "name": "stdout",
     "output_type": "stream",
     "text": [
      "1882 выпадающих значений от общего количества строк в датасете = 23433\n",
      "8% выпадающих значений в столбце \"last_price\"\n"
     ]
    }
   ],
   "source": [
    "blowouts = df.query('last_price > 12000000').last_price.count()\n",
    "print(blowouts, 'выпадающих значений от общего количества строк в датасете =', len(df.index))\n",
    "print('{:.0%}'.format(blowouts/len(df.index)), 'выпадающих значений в столбце \"last_price\"')"
   ]
  },
  {
   "cell_type": "markdown",
   "metadata": {},
   "source": [
    "8% это достаточно ощутимо для выборки. Попробуем ограничить на более высоких суммах:"
   ]
  },
  {
   "cell_type": "code",
   "execution_count": 100,
   "metadata": {},
   "outputs": [
    {
     "name": "stdout",
     "output_type": "stream",
     "text": [
      "671 выпадающих значений от общего количества строк в датасете = 23433\n",
      "3% выпадающих значений в столбце \"last_price\"\n"
     ]
    }
   ],
   "source": [
    "blowouts = df.query('last_price > 20000000').last_price.count()\n",
    "print(blowouts, 'выпадающих значений от общего количества строк в датасете =', len(df.index))\n",
    "print('{:.0%}'.format(blowouts/len(df.index)), 'выпадающих значений в столбце \"last_price\"')"
   ]
  },
  {
   "cell_type": "markdown",
   "metadata": {},
   "source": [
    "У нас получился совсем небольшой процент от общего количества значений в датафрейме. Поэтому можно такие строки убрать и не брать в дальнейший учет."
   ]
  },
  {
   "cell_type": "code",
   "execution_count": 101,
   "metadata": {},
   "outputs": [
    {
     "data": {
      "text/plain": [
       "count    2.274600e+04\n",
       "mean     5.409993e+06\n",
       "std      3.188441e+06\n",
       "min      1.219000e+04\n",
       "25%      3.400000e+06\n",
       "50%      4.550000e+06\n",
       "75%      6.500000e+06\n",
       "max      1.999900e+07\n",
       "Name: last_price, dtype: float64"
      ]
     },
     "execution_count": 101,
     "metadata": {},
     "output_type": "execute_result"
    }
   ],
   "source": [
    "df.query('last_price < 20000000', inplace=True)\n",
    "df.last_price.describe()"
   ]
  },
  {
   "cell_type": "code",
   "execution_count": 102,
   "metadata": {},
   "outputs": [
    {
     "data": {
      "text/plain": [
       "<matplotlib.axes._subplots.AxesSubplot at 0x7fa3560f1650>"
      ]
     },
     "execution_count": 102,
     "metadata": {},
     "output_type": "execute_result"
    },
    {
     "data": {
      "image/png": "[encoded data removed]",
      "text/plain": [
       "<Figure size 432x288 with 1 Axes>"
      ]
     },
     "metadata": {
      "needs_background": "light"
     },
     "output_type": "display_data"
    }
   ],
   "source": [
    "df.last_price.hist(bins=30)"
   ]
  },
  {
   "cell_type": "markdown",
   "metadata": {},
   "source": [
    "Теперь гистограмма распределения величины цена квартиры выглядит красиво и можно сделать вывод о том, что цена нормально распределена."
   ]
  },
  {
   "cell_type": "markdown",
   "metadata": {},
   "source": [
    "####   Исследование факторов, влияющих на стоимость квартиры\n",
    "\n",
    "Изучим, зависит ли цена от квадратного метра, числа комнат, этажа (первого или последнего), удалённости от центра.  "
   ]
  },
  {
   "cell_type": "code",
   "execution_count": 103,
   "metadata": {},
   "outputs": [
    {
     "data": {
      "text/plain": [
       "Index(['total_images', 'last_price', 'total_area', 'first_day_exposition',\n",
       "       'rooms', 'ceiling_height', 'floors_total', 'living_area', 'floor',\n",
       "       'is_apartment', 'studio', 'open_plan', 'kitchen_area', 'balcony',\n",
       "       'locality_name', 'airports_nearest', 'citycenters_nearest',\n",
       "       'parks_around3000', 'parks_nearest', 'ponds_around3000',\n",
       "       'ponds_nearest', 'days_exposition', 'price_m2', 'year_exposition',\n",
       "       'month_exposition', 'day_exposition', 'floor_class', 'living_to_total',\n",
       "       'kitchen_to_total', 'plan_flat', 'flat_class'],\n",
       "      dtype='object')"
      ]
     },
     "execution_count": 103,
     "metadata": {},
     "output_type": "execute_result"
    }
   ],
   "source": [
    "df.columns"
   ]
  },
  {
   "cell_type": "code",
   "execution_count": 104,
   "metadata": {},
   "outputs": [
    {
     "data": {
      "text/plain": [
       "2    16722\n",
       "3     3185\n",
       "1     2839\n",
       "Name: floor_num, dtype: int64"
      ]
     },
     "execution_count": 104,
     "metadata": {},
     "output_type": "execute_result"
    }
   ],
   "source": [
    "def floor_number(row):\n",
    "    if row['floor_class'] == 'первый':\n",
    "        return 1\n",
    "    if row['floor_class'] == 'последний':\n",
    "        return 3\n",
    "    return 2\n",
    "\n",
    "df['floor_num'] = df.apply(floor_number, axis=1)\n",
    "df['floor_num'].value_counts()"
   ]
  },
  {
   "cell_type": "markdown",
   "metadata": {},
   "source": [
    "Посторим матрицу диаграмм рассеяния по указанным столбцам для просмотра корреляции всех величин с ценой квартиры:"
   ]
  },
  {
   "cell_type": "code",
   "execution_count": 105,
   "metadata": {},
   "outputs": [
    {
     "data": {
      "image/png": "[encoded data removed]",
      "text/plain": [
       "<Figure size 648x648 with 25 Axes>"
      ]
     },
     "metadata": {
      "needs_background": "light"
     },
     "output_type": "display_data"
    }
   ],
   "source": [
    "from pandas.plotting import scatter_matrix \n",
    "scatter_matrix(df[['last_price', 'price_m2', 'rooms', 'floor_num', 'citycenters_nearest']], figsize=(9, 9))\n",
    "plt.show() "
   ]
  },
  {
   "cell_type": "markdown",
   "metadata": {},
   "source": [
    "Выведем матрицу корреляции по тем же столбцам:"
   ]
  },
  {
   "cell_type": "code",
   "execution_count": 106,
   "metadata": {},
   "outputs": [
    {
     "data": {
      "text/html": [
       "<div>\n",
       "<style scoped>\n",
       "    .dataframe tbody tr th:only-of-type {\n",
       "        vertical-align: middle;\n",
       "    }\n",
       "\n",
       "    .dataframe tbody tr th {\n",
       "        vertical-align: top;\n",
       "    }\n",
       "\n",
       "    .dataframe thead th {\n",
       "        text-align: right;\n",
       "    }\n",
       "</style>\n",
       "<table border=\"1\" class=\"dataframe\">\n",
       "  <thead>\n",
       "    <tr style=\"text-align: right;\">\n",
       "      <th></th>\n",
       "      <th>last_price</th>\n",
       "      <th>price_m2</th>\n",
       "      <th>rooms</th>\n",
       "      <th>floor_num</th>\n",
       "      <th>citycenters_nearest</th>\n",
       "    </tr>\n",
       "  </thead>\n",
       "  <tbody>\n",
       "    <tr>\n",
       "      <td>last_price</td>\n",
       "      <td>1.000000</td>\n",
       "      <td>0.632220</td>\n",
       "      <td>0.509670</td>\n",
       "      <td>0.052474</td>\n",
       "      <td>-0.356247</td>\n",
       "    </tr>\n",
       "    <tr>\n",
       "      <td>price_m2</td>\n",
       "      <td>0.632220</td>\n",
       "      <td>1.000000</td>\n",
       "      <td>-0.128237</td>\n",
       "      <td>0.041750</td>\n",
       "      <td>-0.390968</td>\n",
       "    </tr>\n",
       "    <tr>\n",
       "      <td>rooms</td>\n",
       "      <td>0.509670</td>\n",
       "      <td>-0.128237</td>\n",
       "      <td>1.000000</td>\n",
       "      <td>0.007191</td>\n",
       "      <td>-0.142847</td>\n",
       "    </tr>\n",
       "    <tr>\n",
       "      <td>floor_num</td>\n",
       "      <td>0.052474</td>\n",
       "      <td>0.041750</td>\n",
       "      <td>0.007191</td>\n",
       "      <td>1.000000</td>\n",
       "      <td>-0.020117</td>\n",
       "    </tr>\n",
       "    <tr>\n",
       "      <td>citycenters_nearest</td>\n",
       "      <td>-0.356247</td>\n",
       "      <td>-0.390968</td>\n",
       "      <td>-0.142847</td>\n",
       "      <td>-0.020117</td>\n",
       "      <td>1.000000</td>\n",
       "    </tr>\n",
       "  </tbody>\n",
       "</table>\n",
       "</div>"
      ],
      "text/plain": [
       "                     last_price  price_m2     rooms  floor_num  \\\n",
       "last_price             1.000000  0.632220  0.509670   0.052474   \n",
       "price_m2               0.632220  1.000000 -0.128237   0.041750   \n",
       "rooms                  0.509670 -0.128237  1.000000   0.007191   \n",
       "floor_num              0.052474  0.041750  0.007191   1.000000   \n",
       "citycenters_nearest   -0.356247 -0.390968 -0.142847  -0.020117   \n",
       "\n",
       "                     citycenters_nearest  \n",
       "last_price                     -0.356247  \n",
       "price_m2                       -0.390968  \n",
       "rooms                          -0.142847  \n",
       "floor_num                      -0.020117  \n",
       "citycenters_nearest             1.000000  "
      ]
     },
     "execution_count": 106,
     "metadata": {},
     "output_type": "execute_result"
    }
   ],
   "source": [
    "df[['last_price', 'price_m2', 'rooms', 'floor_num', 'citycenters_nearest']].corr()"
   ]
  },
  {
   "cell_type": "markdown",
   "metadata": {},
   "source": [
    "**По матрицам можно сделать следующие выводы:**\n",
    "1. Между стоимостью квартиры и ценой за квадратный метр тесная взаимосвязь, т.к. коэффициент корреляции близок к единице. По диаграмме рассеяния видим, что с увеличением цены квадратного метра, увеличивается и общая стоимость квартиры, что логично.\n",
    "\n",
    "\n",
    "2. Между стоимостью квартиры и количеством комнат хорошая прямая связь (примерно 0.5). Это означает что с ростом цен, увеличивается и число комнат в квартире. Мы можем подтвердить это утверждения посмотрев на диаграмму: видим что основная доля 2-4 комнатных квартир продается в диапазоне цен от 1млн до четырех, т.к. там наиболее плотное скопление точек. Квартиры с большим количеством комнат продаются по более высокой цене и их значительно меньше, об этом свидетельствует более редкое заполнение точками на диаграмме в этой области.\n",
    "\n",
    "\n",
    "3. Между стоимостью квартиры и этажом квартиры отстуствует взаимосвязь, т.к. коэффициент корреляции сильно близок к нулю. Диаграмма рассеяния это утверждение подстверждает. По ней мы также можем увидеть что среди более дешевых квартир стоимость по этажам равномерно распределена, а среди очень дорогих квартиры покупают в основном на этажах, не относящихся к первому и последнему (другие)\n",
    "\n",
    "\n",
    "4. Между стоимостью квартиры и отдаленностью от центра существует обратная зависимость, т.е. при увеличении расстояния от центра, уменьшается цена квартиры. Это можно проследить и по диаграмме и по отрицательному значению коэффициента корреляции."
   ]
  },
  {
   "cell_type": "markdown",
   "metadata": {},
   "source": [
    "####   Анализ 10 населенных пунктов с наибольшим числом объявлений\n",
    "\n",
    "Выберем 10 населённых пунктов с наибольшим числом объявлений.  "
   ]
  },
  {
   "cell_type": "code",
   "execution_count": 107,
   "metadata": {},
   "outputs": [
    {
     "data": {
      "text/html": [
       "<div>\n",
       "<style scoped>\n",
       "    .dataframe tbody tr th:only-of-type {\n",
       "        vertical-align: middle;\n",
       "    }\n",
       "\n",
       "    .dataframe tbody tr th {\n",
       "        vertical-align: top;\n",
       "    }\n",
       "\n",
       "    .dataframe thead th {\n",
       "        text-align: right;\n",
       "    }\n",
       "</style>\n",
       "<table border=\"1\" class=\"dataframe\">\n",
       "  <thead>\n",
       "    <tr style=\"text-align: right;\">\n",
       "      <th></th>\n",
       "      <th>total_images</th>\n",
       "      <th>last_price</th>\n",
       "      <th>total_area</th>\n",
       "      <th>first_day_exposition</th>\n",
       "      <th>rooms</th>\n",
       "      <th>ceiling_height</th>\n",
       "      <th>floors_total</th>\n",
       "      <th>living_area</th>\n",
       "      <th>floor</th>\n",
       "      <th>is_apartment</th>\n",
       "      <th>studio</th>\n",
       "      <th>open_plan</th>\n",
       "      <th>kitchen_area</th>\n",
       "      <th>balcony</th>\n",
       "      <th>locality_name</th>\n",
       "      <th>airports_nearest</th>\n",
       "      <th>citycenters_nearest</th>\n",
       "      <th>parks_around3000</th>\n",
       "      <th>parks_nearest</th>\n",
       "      <th>ponds_around3000</th>\n",
       "      <th>ponds_nearest</th>\n",
       "      <th>days_exposition</th>\n",
       "      <th>price_m2</th>\n",
       "      <th>year_exposition</th>\n",
       "      <th>month_exposition</th>\n",
       "      <th>day_exposition</th>\n",
       "      <th>floor_class</th>\n",
       "      <th>living_to_total</th>\n",
       "      <th>kitchen_to_total</th>\n",
       "      <th>plan_flat</th>\n",
       "      <th>flat_class</th>\n",
       "      <th>floor_num</th>\n",
       "    </tr>\n",
       "  </thead>\n",
       "  <tbody>\n",
       "    <tr>\n",
       "      <td>0</td>\n",
       "      <td>20</td>\n",
       "      <td>13000000.0</td>\n",
       "      <td>108.0</td>\n",
       "      <td>2019-03-07</td>\n",
       "      <td>3</td>\n",
       "      <td>2.70</td>\n",
       "      <td>16</td>\n",
       "      <td>51.0</td>\n",
       "      <td>8</td>\n",
       "      <td>False</td>\n",
       "      <td>False</td>\n",
       "      <td>False</td>\n",
       "      <td>25.0</td>\n",
       "      <td>0</td>\n",
       "      <td>Санкт-Петербург</td>\n",
       "      <td>18863.0</td>\n",
       "      <td>16028.0</td>\n",
       "      <td>1.0</td>\n",
       "      <td>482.0</td>\n",
       "      <td>2.0</td>\n",
       "      <td>755.0</td>\n",
       "      <td>NaN</td>\n",
       "      <td>120370.370370</td>\n",
       "      <td>2019</td>\n",
       "      <td>3</td>\n",
       "      <td>3</td>\n",
       "      <td>другой</td>\n",
       "      <td>0.472222</td>\n",
       "      <td>0.231481</td>\n",
       "      <td>Закрытая планировка</td>\n",
       "      <td>premium</td>\n",
       "      <td>2</td>\n",
       "    </tr>\n",
       "    <tr>\n",
       "      <td>1</td>\n",
       "      <td>7</td>\n",
       "      <td>3350000.0</td>\n",
       "      <td>40.4</td>\n",
       "      <td>2018-12-04</td>\n",
       "      <td>1</td>\n",
       "      <td>2.65</td>\n",
       "      <td>11</td>\n",
       "      <td>18.6</td>\n",
       "      <td>1</td>\n",
       "      <td>False</td>\n",
       "      <td>False</td>\n",
       "      <td>False</td>\n",
       "      <td>11.0</td>\n",
       "      <td>2</td>\n",
       "      <td>посёлок Шушары</td>\n",
       "      <td>12817.0</td>\n",
       "      <td>18603.0</td>\n",
       "      <td>0.0</td>\n",
       "      <td>NaN</td>\n",
       "      <td>0.0</td>\n",
       "      <td>NaN</td>\n",
       "      <td>81.0</td>\n",
       "      <td>82920.792079</td>\n",
       "      <td>2018</td>\n",
       "      <td>12</td>\n",
       "      <td>1</td>\n",
       "      <td>первый</td>\n",
       "      <td>0.460396</td>\n",
       "      <td>0.272277</td>\n",
       "      <td>Закрытая планировка</td>\n",
       "      <td>comfort</td>\n",
       "      <td>1</td>\n",
       "    </tr>\n",
       "    <tr>\n",
       "      <td>2</td>\n",
       "      <td>10</td>\n",
       "      <td>5196000.0</td>\n",
       "      <td>56.0</td>\n",
       "      <td>2015-08-20</td>\n",
       "      <td>2</td>\n",
       "      <td>2.65</td>\n",
       "      <td>5</td>\n",
       "      <td>34.3</td>\n",
       "      <td>4</td>\n",
       "      <td>False</td>\n",
       "      <td>False</td>\n",
       "      <td>False</td>\n",
       "      <td>8.3</td>\n",
       "      <td>0</td>\n",
       "      <td>Санкт-Петербург</td>\n",
       "      <td>21741.0</td>\n",
       "      <td>13933.0</td>\n",
       "      <td>1.0</td>\n",
       "      <td>90.0</td>\n",
       "      <td>2.0</td>\n",
       "      <td>574.0</td>\n",
       "      <td>558.0</td>\n",
       "      <td>92785.714286</td>\n",
       "      <td>2015</td>\n",
       "      <td>8</td>\n",
       "      <td>3</td>\n",
       "      <td>другой</td>\n",
       "      <td>0.612500</td>\n",
       "      <td>0.148214</td>\n",
       "      <td>Закрытая планировка</td>\n",
       "      <td>business-class</td>\n",
       "      <td>2</td>\n",
       "    </tr>\n",
       "    <tr>\n",
       "      <td>4</td>\n",
       "      <td>2</td>\n",
       "      <td>10000000.0</td>\n",
       "      <td>100.0</td>\n",
       "      <td>2018-06-19</td>\n",
       "      <td>2</td>\n",
       "      <td>3.03</td>\n",
       "      <td>14</td>\n",
       "      <td>32.0</td>\n",
       "      <td>13</td>\n",
       "      <td>False</td>\n",
       "      <td>False</td>\n",
       "      <td>False</td>\n",
       "      <td>41.0</td>\n",
       "      <td>0</td>\n",
       "      <td>Санкт-Петербург</td>\n",
       "      <td>31856.0</td>\n",
       "      <td>8098.0</td>\n",
       "      <td>2.0</td>\n",
       "      <td>112.0</td>\n",
       "      <td>1.0</td>\n",
       "      <td>48.0</td>\n",
       "      <td>121.0</td>\n",
       "      <td>100000.000000</td>\n",
       "      <td>2018</td>\n",
       "      <td>6</td>\n",
       "      <td>1</td>\n",
       "      <td>другой</td>\n",
       "      <td>0.320000</td>\n",
       "      <td>0.410000</td>\n",
       "      <td>Закрытая планировка</td>\n",
       "      <td>premium</td>\n",
       "      <td>2</td>\n",
       "    </tr>\n",
       "    <tr>\n",
       "      <td>5</td>\n",
       "      <td>10</td>\n",
       "      <td>2890000.0</td>\n",
       "      <td>30.4</td>\n",
       "      <td>2018-09-10</td>\n",
       "      <td>1</td>\n",
       "      <td>2.65</td>\n",
       "      <td>12</td>\n",
       "      <td>14.4</td>\n",
       "      <td>5</td>\n",
       "      <td>False</td>\n",
       "      <td>False</td>\n",
       "      <td>False</td>\n",
       "      <td>9.1</td>\n",
       "      <td>0</td>\n",
       "      <td>городской посёлок Янино-1</td>\n",
       "      <td>NaN</td>\n",
       "      <td>NaN</td>\n",
       "      <td>NaN</td>\n",
       "      <td>NaN</td>\n",
       "      <td>NaN</td>\n",
       "      <td>NaN</td>\n",
       "      <td>55.0</td>\n",
       "      <td>95065.789474</td>\n",
       "      <td>2018</td>\n",
       "      <td>9</td>\n",
       "      <td>0</td>\n",
       "      <td>другой</td>\n",
       "      <td>0.473684</td>\n",
       "      <td>0.299342</td>\n",
       "      <td>Закрытая планировка</td>\n",
       "      <td>econom</td>\n",
       "      <td>2</td>\n",
       "    </tr>\n",
       "  </tbody>\n",
       "</table>\n",
       "</div>"
      ],
      "text/plain": [
       "   total_images  last_price  total_area first_day_exposition  rooms  \\\n",
       "0            20  13000000.0       108.0           2019-03-07      3   \n",
       "1             7   3350000.0        40.4           2018-12-04      1   \n",
       "2            10   5196000.0        56.0           2015-08-20      2   \n",
       "4             2  10000000.0       100.0           2018-06-19      2   \n",
       "5            10   2890000.0        30.4           2018-09-10      1   \n",
       "\n",
       "   ceiling_height  floors_total  living_area  floor  is_apartment  studio  \\\n",
       "0            2.70            16         51.0      8         False   False   \n",
       "1            2.65            11         18.6      1         False   False   \n",
       "2            2.65             5         34.3      4         False   False   \n",
       "4            3.03            14         32.0     13         False   False   \n",
       "5            2.65            12         14.4      5         False   False   \n",
       "\n",
       "   open_plan  kitchen_area  balcony              locality_name  \\\n",
       "0      False          25.0        0            Санкт-Петербург   \n",
       "1      False          11.0        2             посёлок Шушары   \n",
       "2      False           8.3        0            Санкт-Петербург   \n",
       "4      False          41.0        0            Санкт-Петербург   \n",
       "5      False           9.1        0  городской посёлок Янино-1   \n",
       "\n",
       "   airports_nearest  citycenters_nearest  parks_around3000  parks_nearest  \\\n",
       "0           18863.0              16028.0               1.0          482.0   \n",
       "1           12817.0              18603.0               0.0            NaN   \n",
       "2           21741.0              13933.0               1.0           90.0   \n",
       "4           31856.0               8098.0               2.0          112.0   \n",
       "5               NaN                  NaN               NaN            NaN   \n",
       "\n",
       "   ponds_around3000  ponds_nearest  days_exposition       price_m2  \\\n",
       "0               2.0          755.0              NaN  120370.370370   \n",
       "1               0.0            NaN             81.0   82920.792079   \n",
       "2               2.0          574.0            558.0   92785.714286   \n",
       "4               1.0           48.0            121.0  100000.000000   \n",
       "5               NaN            NaN             55.0   95065.789474   \n",
       "\n",
       "   year_exposition  month_exposition  day_exposition floor_class  \\\n",
       "0             2019                 3               3      другой   \n",
       "1             2018                12               1      первый   \n",
       "2             2015                 8               3      другой   \n",
       "4             2018                 6               1      другой   \n",
       "5             2018                 9               0      другой   \n",
       "\n",
       "   living_to_total  kitchen_to_total            plan_flat      flat_class  \\\n",
       "0         0.472222          0.231481  Закрытая планировка         premium   \n",
       "1         0.460396          0.272277  Закрытая планировка         comfort   \n",
       "2         0.612500          0.148214  Закрытая планировка  business-class   \n",
       "4         0.320000          0.410000  Закрытая планировка         premium   \n",
       "5         0.473684          0.299342  Закрытая планировка          econom   \n",
       "\n",
       "   floor_num  \n",
       "0          2  \n",
       "1          1  \n",
       "2          2  \n",
       "4          2  \n",
       "5          2  "
      ]
     },
     "execution_count": 107,
     "metadata": {},
     "output_type": "execute_result"
    }
   ],
   "source": [
    "df.head()"
   ]
  },
  {
   "cell_type": "code",
   "execution_count": 108,
   "metadata": {},
   "outputs": [
    {
     "data": {
      "text/plain": [
       "locality_name\n",
       "Санкт-Петербург      14869\n",
       "посёлок Мурино         512\n",
       "посёлок Шушары         439\n",
       "Всеволожск             388\n",
       "Пушкин                 359\n",
       "Колпино                335\n",
       "посёлок Парголово      326\n",
       "Гатчина                303\n",
       "деревня Кудрово        295\n",
       "Выборг                 231\n",
       "Name: locality_name, dtype: int64"
      ]
     },
     "execution_count": 108,
     "metadata": {},
     "output_type": "execute_result"
    }
   ],
   "source": [
    "localities = df.groupby('locality_name').locality_name.count().sort_values(ascending=False).head(10)\n",
    "localities"
   ]
  },
  {
   "cell_type": "markdown",
   "metadata": {},
   "source": [
    "Посчитаем среднюю цену квадратного метра в этих населённых пунктах:"
   ]
  },
  {
   "cell_type": "code",
   "execution_count": 109,
   "metadata": {},
   "outputs": [
    {
     "data": {
      "text/plain": [
       "locality_name\n",
       "Санкт-Петербург      108498.593606\n",
       "Пушкин               101840.799638\n",
       "деревня Кудрово       92447.355438\n",
       "посёлок Парголово     90135.075586\n",
       "посёлок Мурино        85530.255167\n",
       "посёлок Шушары        78673.295765\n",
       "Колпино               75241.066982\n",
       "Гатчина               68625.141404\n",
       "Всеволожск            67158.922892\n",
       "Выборг                58095.635151\n",
       "Name: price_m2, dtype: float64"
      ]
     },
     "execution_count": 109,
     "metadata": {},
     "output_type": "execute_result"
    }
   ],
   "source": [
    "#price_m2\n",
    "df.query('locality_name in @localities.index').groupby('locality_name').price_m2.mean().sort_values(ascending=False)"
   ]
  },
  {
   "cell_type": "markdown",
   "metadata": {},
   "source": [
    "Выделим населённые пункты из столбца 'locality_name' с самой высокой и самой низкой стоимостью жилья "
   ]
  },
  {
   "cell_type": "code",
   "execution_count": 110,
   "metadata": {},
   "outputs": [
    {
     "name": "stdout",
     "output_type": "stream",
     "text": [
      "Населенные пункты с самой высокой стоимостью:\n",
      "\n",
      " locality_name\n",
      "деревня Хязельки           1.100000e+07\n",
      "посёлок Александровская    8.725000e+06\n",
      "посёлок Репино             6.889139e+06\n",
      "Name: last_price, dtype: float64\n",
      "\n",
      "Населенные пункты с самой низкой стоимостью:\n",
      "\n",
      " locality_name\n",
      "деревня Вахнова Кара    450000.0\n",
      "деревня Старополье      460000.0\n",
      "деревня Чудской Бор     500000.0\n",
      "Name: last_price, dtype: float64\n"
     ]
    }
   ],
   "source": [
    "localities_all = df.groupby('locality_name').last_price.mean().sort_values(ascending=False)\n",
    "print('Населенные пункты с самой высокой стоимостью:\\n\\n',\n",
    "      localities_all.sort_values(ascending=False).head(3))\n",
    "print()\n",
    "print('Населенные пункты с самой низкой стоимостью:\\n\\n',\n",
    "      localities_all.sort_values().head(3))"
   ]
  },
  {
   "cell_type": "markdown",
   "metadata": {},
   "source": [
    "####   Анализ изменения цены по степени удалённости от центра\n",
    "\n",
    "Изучим предложения квартир: для каждой квартиры есть информация о расстоянии до центра.  \n",
    " Выделим квартиры в Санкт-Петербурге (по названию населенного пункта из столбца'locality_name')."
   ]
  },
  {
   "cell_type": "code",
   "execution_count": 111,
   "metadata": {
    "scrolled": true
   },
   "outputs": [
    {
     "data": {
      "text/html": [
       "<div>\n",
       "<style scoped>\n",
       "    .dataframe tbody tr th:only-of-type {\n",
       "        vertical-align: middle;\n",
       "    }\n",
       "\n",
       "    .dataframe tbody tr th {\n",
       "        vertical-align: top;\n",
       "    }\n",
       "\n",
       "    .dataframe thead th {\n",
       "        text-align: right;\n",
       "    }\n",
       "</style>\n",
       "<table border=\"1\" class=\"dataframe\">\n",
       "  <thead>\n",
       "    <tr style=\"text-align: right;\">\n",
       "      <th></th>\n",
       "      <th>total_images</th>\n",
       "      <th>last_price</th>\n",
       "      <th>total_area</th>\n",
       "      <th>first_day_exposition</th>\n",
       "      <th>rooms</th>\n",
       "      <th>ceiling_height</th>\n",
       "      <th>floors_total</th>\n",
       "      <th>living_area</th>\n",
       "      <th>floor</th>\n",
       "      <th>is_apartment</th>\n",
       "      <th>studio</th>\n",
       "      <th>open_plan</th>\n",
       "      <th>kitchen_area</th>\n",
       "      <th>balcony</th>\n",
       "      <th>locality_name</th>\n",
       "      <th>airports_nearest</th>\n",
       "      <th>citycenters_nearest</th>\n",
       "      <th>parks_around3000</th>\n",
       "      <th>parks_nearest</th>\n",
       "      <th>ponds_around3000</th>\n",
       "      <th>ponds_nearest</th>\n",
       "      <th>days_exposition</th>\n",
       "      <th>price_m2</th>\n",
       "      <th>year_exposition</th>\n",
       "      <th>month_exposition</th>\n",
       "      <th>day_exposition</th>\n",
       "      <th>floor_class</th>\n",
       "      <th>living_to_total</th>\n",
       "      <th>kitchen_to_total</th>\n",
       "      <th>plan_flat</th>\n",
       "      <th>flat_class</th>\n",
       "      <th>floor_num</th>\n",
       "    </tr>\n",
       "  </thead>\n",
       "  <tbody>\n",
       "    <tr>\n",
       "      <td>0</td>\n",
       "      <td>20</td>\n",
       "      <td>13000000.0</td>\n",
       "      <td>108.0</td>\n",
       "      <td>2019-03-07</td>\n",
       "      <td>3</td>\n",
       "      <td>2.70</td>\n",
       "      <td>16</td>\n",
       "      <td>51.000000</td>\n",
       "      <td>8</td>\n",
       "      <td>False</td>\n",
       "      <td>False</td>\n",
       "      <td>False</td>\n",
       "      <td>25.0</td>\n",
       "      <td>0</td>\n",
       "      <td>Санкт-Петербург</td>\n",
       "      <td>18863.0</td>\n",
       "      <td>16028.0</td>\n",
       "      <td>1.0</td>\n",
       "      <td>482.0</td>\n",
       "      <td>2.0</td>\n",
       "      <td>755.0</td>\n",
       "      <td>NaN</td>\n",
       "      <td>120370.370370</td>\n",
       "      <td>2019</td>\n",
       "      <td>3</td>\n",
       "      <td>3</td>\n",
       "      <td>другой</td>\n",
       "      <td>0.472222</td>\n",
       "      <td>0.231481</td>\n",
       "      <td>Закрытая планировка</td>\n",
       "      <td>premium</td>\n",
       "      <td>2</td>\n",
       "    </tr>\n",
       "    <tr>\n",
       "      <td>2</td>\n",
       "      <td>10</td>\n",
       "      <td>5196000.0</td>\n",
       "      <td>56.0</td>\n",
       "      <td>2015-08-20</td>\n",
       "      <td>2</td>\n",
       "      <td>2.65</td>\n",
       "      <td>5</td>\n",
       "      <td>34.300000</td>\n",
       "      <td>4</td>\n",
       "      <td>False</td>\n",
       "      <td>False</td>\n",
       "      <td>False</td>\n",
       "      <td>8.3</td>\n",
       "      <td>0</td>\n",
       "      <td>Санкт-Петербург</td>\n",
       "      <td>21741.0</td>\n",
       "      <td>13933.0</td>\n",
       "      <td>1.0</td>\n",
       "      <td>90.0</td>\n",
       "      <td>2.0</td>\n",
       "      <td>574.0</td>\n",
       "      <td>558.0</td>\n",
       "      <td>92785.714286</td>\n",
       "      <td>2015</td>\n",
       "      <td>8</td>\n",
       "      <td>3</td>\n",
       "      <td>другой</td>\n",
       "      <td>0.612500</td>\n",
       "      <td>0.148214</td>\n",
       "      <td>Закрытая планировка</td>\n",
       "      <td>business-class</td>\n",
       "      <td>2</td>\n",
       "    </tr>\n",
       "    <tr>\n",
       "      <td>4</td>\n",
       "      <td>2</td>\n",
       "      <td>10000000.0</td>\n",
       "      <td>100.0</td>\n",
       "      <td>2018-06-19</td>\n",
       "      <td>2</td>\n",
       "      <td>3.03</td>\n",
       "      <td>14</td>\n",
       "      <td>32.000000</td>\n",
       "      <td>13</td>\n",
       "      <td>False</td>\n",
       "      <td>False</td>\n",
       "      <td>False</td>\n",
       "      <td>41.0</td>\n",
       "      <td>0</td>\n",
       "      <td>Санкт-Петербург</td>\n",
       "      <td>31856.0</td>\n",
       "      <td>8098.0</td>\n",
       "      <td>2.0</td>\n",
       "      <td>112.0</td>\n",
       "      <td>1.0</td>\n",
       "      <td>48.0</td>\n",
       "      <td>121.0</td>\n",
       "      <td>100000.000000</td>\n",
       "      <td>2018</td>\n",
       "      <td>6</td>\n",
       "      <td>1</td>\n",
       "      <td>другой</td>\n",
       "      <td>0.320000</td>\n",
       "      <td>0.410000</td>\n",
       "      <td>Закрытая планировка</td>\n",
       "      <td>premium</td>\n",
       "      <td>2</td>\n",
       "    </tr>\n",
       "    <tr>\n",
       "      <td>7</td>\n",
       "      <td>5</td>\n",
       "      <td>7915000.0</td>\n",
       "      <td>71.6</td>\n",
       "      <td>2019-04-18</td>\n",
       "      <td>2</td>\n",
       "      <td>2.65</td>\n",
       "      <td>24</td>\n",
       "      <td>40.884082</td>\n",
       "      <td>22</td>\n",
       "      <td>False</td>\n",
       "      <td>False</td>\n",
       "      <td>False</td>\n",
       "      <td>18.9</td>\n",
       "      <td>2</td>\n",
       "      <td>Санкт-Петербург</td>\n",
       "      <td>23982.0</td>\n",
       "      <td>11634.0</td>\n",
       "      <td>0.0</td>\n",
       "      <td>NaN</td>\n",
       "      <td>0.0</td>\n",
       "      <td>NaN</td>\n",
       "      <td>NaN</td>\n",
       "      <td>110544.692737</td>\n",
       "      <td>2019</td>\n",
       "      <td>4</td>\n",
       "      <td>3</td>\n",
       "      <td>другой</td>\n",
       "      <td>0.571007</td>\n",
       "      <td>0.263966</td>\n",
       "      <td>Закрытая планировка</td>\n",
       "      <td>business-class</td>\n",
       "      <td>2</td>\n",
       "    </tr>\n",
       "    <tr>\n",
       "      <td>9</td>\n",
       "      <td>18</td>\n",
       "      <td>5400000.0</td>\n",
       "      <td>61.0</td>\n",
       "      <td>2017-02-26</td>\n",
       "      <td>3</td>\n",
       "      <td>2.50</td>\n",
       "      <td>9</td>\n",
       "      <td>43.600000</td>\n",
       "      <td>7</td>\n",
       "      <td>False</td>\n",
       "      <td>False</td>\n",
       "      <td>False</td>\n",
       "      <td>6.5</td>\n",
       "      <td>2</td>\n",
       "      <td>Санкт-Петербург</td>\n",
       "      <td>50898.0</td>\n",
       "      <td>15008.0</td>\n",
       "      <td>0.0</td>\n",
       "      <td>NaN</td>\n",
       "      <td>0.0</td>\n",
       "      <td>NaN</td>\n",
       "      <td>289.0</td>\n",
       "      <td>88524.590164</td>\n",
       "      <td>2017</td>\n",
       "      <td>2</td>\n",
       "      <td>6</td>\n",
       "      <td>другой</td>\n",
       "      <td>0.714754</td>\n",
       "      <td>0.106557</td>\n",
       "      <td>Закрытая планировка</td>\n",
       "      <td>business-class</td>\n",
       "      <td>2</td>\n",
       "    </tr>\n",
       "  </tbody>\n",
       "</table>\n",
       "</div>"
      ],
      "text/plain": [
       "   total_images  last_price  total_area first_day_exposition  rooms  \\\n",
       "0            20  13000000.0       108.0           2019-03-07      3   \n",
       "2            10   5196000.0        56.0           2015-08-20      2   \n",
       "4             2  10000000.0       100.0           2018-06-19      2   \n",
       "7             5   7915000.0        71.6           2019-04-18      2   \n",
       "9            18   5400000.0        61.0           2017-02-26      3   \n",
       "\n",
       "   ceiling_height  floors_total  living_area  floor  is_apartment  studio  \\\n",
       "0            2.70            16    51.000000      8         False   False   \n",
       "2            2.65             5    34.300000      4         False   False   \n",
       "4            3.03            14    32.000000     13         False   False   \n",
       "7            2.65            24    40.884082     22         False   False   \n",
       "9            2.50             9    43.600000      7         False   False   \n",
       "\n",
       "   open_plan  kitchen_area  balcony    locality_name  airports_nearest  \\\n",
       "0      False          25.0        0  Санкт-Петербург           18863.0   \n",
       "2      False           8.3        0  Санкт-Петербург           21741.0   \n",
       "4      False          41.0        0  Санкт-Петербург           31856.0   \n",
       "7      False          18.9        2  Санкт-Петербург           23982.0   \n",
       "9      False           6.5        2  Санкт-Петербург           50898.0   \n",
       "\n",
       "   citycenters_nearest  parks_around3000  parks_nearest  ponds_around3000  \\\n",
       "0              16028.0               1.0          482.0               2.0   \n",
       "2              13933.0               1.0           90.0               2.0   \n",
       "4               8098.0               2.0          112.0               1.0   \n",
       "7              11634.0               0.0            NaN               0.0   \n",
       "9              15008.0               0.0            NaN               0.0   \n",
       "\n",
       "   ponds_nearest  days_exposition       price_m2  year_exposition  \\\n",
       "0          755.0              NaN  120370.370370             2019   \n",
       "2          574.0            558.0   92785.714286             2015   \n",
       "4           48.0            121.0  100000.000000             2018   \n",
       "7            NaN              NaN  110544.692737             2019   \n",
       "9            NaN            289.0   88524.590164             2017   \n",
       "\n",
       "   month_exposition  day_exposition floor_class  living_to_total  \\\n",
       "0                 3               3      другой         0.472222   \n",
       "2                 8               3      другой         0.612500   \n",
       "4                 6               1      другой         0.320000   \n",
       "7                 4               3      другой         0.571007   \n",
       "9                 2               6      другой         0.714754   \n",
       "\n",
       "   kitchen_to_total            plan_flat      flat_class  floor_num  \n",
       "0          0.231481  Закрытая планировка         premium          2  \n",
       "2          0.148214  Закрытая планировка  business-class          2  \n",
       "4          0.410000  Закрытая планировка         premium          2  \n",
       "7          0.263966  Закрытая планировка  business-class          2  \n",
       "9          0.106557  Закрытая планировка  business-class          2  "
      ]
     },
     "execution_count": 111,
     "metadata": {},
     "output_type": "execute_result"
    }
   ],
   "source": [
    "spb = df.query('locality_name == \"Санкт-Петербург\"')\n",
    "spb.head()"
   ]
  },
  {
   "cell_type": "markdown",
   "metadata": {},
   "source": [
    "Создадим столбец с округленной до целых удаленностью от центра в км при помощи преобразования значений столбца citycenters_nearest:  "
   ]
  },
  {
   "cell_type": "code",
   "execution_count": 112,
   "metadata": {},
   "outputs": [
    {
     "data": {
      "text/html": [
       "<div>\n",
       "<style scoped>\n",
       "    .dataframe tbody tr th:only-of-type {\n",
       "        vertical-align: middle;\n",
       "    }\n",
       "\n",
       "    .dataframe tbody tr th {\n",
       "        vertical-align: top;\n",
       "    }\n",
       "\n",
       "    .dataframe thead th {\n",
       "        text-align: right;\n",
       "    }\n",
       "</style>\n",
       "<table border=\"1\" class=\"dataframe\">\n",
       "  <thead>\n",
       "    <tr style=\"text-align: right;\">\n",
       "      <th></th>\n",
       "      <th>total_images</th>\n",
       "      <th>last_price</th>\n",
       "      <th>total_area</th>\n",
       "      <th>first_day_exposition</th>\n",
       "      <th>rooms</th>\n",
       "      <th>ceiling_height</th>\n",
       "      <th>floors_total</th>\n",
       "      <th>living_area</th>\n",
       "      <th>floor</th>\n",
       "      <th>is_apartment</th>\n",
       "      <th>studio</th>\n",
       "      <th>open_plan</th>\n",
       "      <th>kitchen_area</th>\n",
       "      <th>balcony</th>\n",
       "      <th>locality_name</th>\n",
       "      <th>airports_nearest</th>\n",
       "      <th>citycenters_nearest</th>\n",
       "      <th>parks_around3000</th>\n",
       "      <th>parks_nearest</th>\n",
       "      <th>ponds_around3000</th>\n",
       "      <th>ponds_nearest</th>\n",
       "      <th>days_exposition</th>\n",
       "      <th>price_m2</th>\n",
       "      <th>year_exposition</th>\n",
       "      <th>month_exposition</th>\n",
       "      <th>day_exposition</th>\n",
       "      <th>floor_class</th>\n",
       "      <th>living_to_total</th>\n",
       "      <th>kitchen_to_total</th>\n",
       "      <th>plan_flat</th>\n",
       "      <th>flat_class</th>\n",
       "      <th>floor_num</th>\n",
       "      <th>citycenter_km</th>\n",
       "    </tr>\n",
       "  </thead>\n",
       "  <tbody>\n",
       "    <tr>\n",
       "      <td>0</td>\n",
       "      <td>20</td>\n",
       "      <td>13000000.0</td>\n",
       "      <td>108.0</td>\n",
       "      <td>2019-03-07</td>\n",
       "      <td>3</td>\n",
       "      <td>2.70</td>\n",
       "      <td>16</td>\n",
       "      <td>51.000000</td>\n",
       "      <td>8</td>\n",
       "      <td>False</td>\n",
       "      <td>False</td>\n",
       "      <td>False</td>\n",
       "      <td>25.0</td>\n",
       "      <td>0</td>\n",
       "      <td>Санкт-Петербург</td>\n",
       "      <td>18863.0</td>\n",
       "      <td>16028.0</td>\n",
       "      <td>1.0</td>\n",
       "      <td>482.0</td>\n",
       "      <td>2.0</td>\n",
       "      <td>755.0</td>\n",
       "      <td>NaN</td>\n",
       "      <td>120370.370370</td>\n",
       "      <td>2019</td>\n",
       "      <td>3</td>\n",
       "      <td>3</td>\n",
       "      <td>другой</td>\n",
       "      <td>0.472222</td>\n",
       "      <td>0.231481</td>\n",
       "      <td>Закрытая планировка</td>\n",
       "      <td>premium</td>\n",
       "      <td>2</td>\n",
       "      <td>16.0</td>\n",
       "    </tr>\n",
       "    <tr>\n",
       "      <td>2</td>\n",
       "      <td>10</td>\n",
       "      <td>5196000.0</td>\n",
       "      <td>56.0</td>\n",
       "      <td>2015-08-20</td>\n",
       "      <td>2</td>\n",
       "      <td>2.65</td>\n",
       "      <td>5</td>\n",
       "      <td>34.300000</td>\n",
       "      <td>4</td>\n",
       "      <td>False</td>\n",
       "      <td>False</td>\n",
       "      <td>False</td>\n",
       "      <td>8.3</td>\n",
       "      <td>0</td>\n",
       "      <td>Санкт-Петербург</td>\n",
       "      <td>21741.0</td>\n",
       "      <td>13933.0</td>\n",
       "      <td>1.0</td>\n",
       "      <td>90.0</td>\n",
       "      <td>2.0</td>\n",
       "      <td>574.0</td>\n",
       "      <td>558.0</td>\n",
       "      <td>92785.714286</td>\n",
       "      <td>2015</td>\n",
       "      <td>8</td>\n",
       "      <td>3</td>\n",
       "      <td>другой</td>\n",
       "      <td>0.612500</td>\n",
       "      <td>0.148214</td>\n",
       "      <td>Закрытая планировка</td>\n",
       "      <td>business-class</td>\n",
       "      <td>2</td>\n",
       "      <td>14.0</td>\n",
       "    </tr>\n",
       "    <tr>\n",
       "      <td>4</td>\n",
       "      <td>2</td>\n",
       "      <td>10000000.0</td>\n",
       "      <td>100.0</td>\n",
       "      <td>2018-06-19</td>\n",
       "      <td>2</td>\n",
       "      <td>3.03</td>\n",
       "      <td>14</td>\n",
       "      <td>32.000000</td>\n",
       "      <td>13</td>\n",
       "      <td>False</td>\n",
       "      <td>False</td>\n",
       "      <td>False</td>\n",
       "      <td>41.0</td>\n",
       "      <td>0</td>\n",
       "      <td>Санкт-Петербург</td>\n",
       "      <td>31856.0</td>\n",
       "      <td>8098.0</td>\n",
       "      <td>2.0</td>\n",
       "      <td>112.0</td>\n",
       "      <td>1.0</td>\n",
       "      <td>48.0</td>\n",
       "      <td>121.0</td>\n",
       "      <td>100000.000000</td>\n",
       "      <td>2018</td>\n",
       "      <td>6</td>\n",
       "      <td>1</td>\n",
       "      <td>другой</td>\n",
       "      <td>0.320000</td>\n",
       "      <td>0.410000</td>\n",
       "      <td>Закрытая планировка</td>\n",
       "      <td>premium</td>\n",
       "      <td>2</td>\n",
       "      <td>8.0</td>\n",
       "    </tr>\n",
       "    <tr>\n",
       "      <td>7</td>\n",
       "      <td>5</td>\n",
       "      <td>7915000.0</td>\n",
       "      <td>71.6</td>\n",
       "      <td>2019-04-18</td>\n",
       "      <td>2</td>\n",
       "      <td>2.65</td>\n",
       "      <td>24</td>\n",
       "      <td>40.884082</td>\n",
       "      <td>22</td>\n",
       "      <td>False</td>\n",
       "      <td>False</td>\n",
       "      <td>False</td>\n",
       "      <td>18.9</td>\n",
       "      <td>2</td>\n",
       "      <td>Санкт-Петербург</td>\n",
       "      <td>23982.0</td>\n",
       "      <td>11634.0</td>\n",
       "      <td>0.0</td>\n",
       "      <td>NaN</td>\n",
       "      <td>0.0</td>\n",
       "      <td>NaN</td>\n",
       "      <td>NaN</td>\n",
       "      <td>110544.692737</td>\n",
       "      <td>2019</td>\n",
       "      <td>4</td>\n",
       "      <td>3</td>\n",
       "      <td>другой</td>\n",
       "      <td>0.571007</td>\n",
       "      <td>0.263966</td>\n",
       "      <td>Закрытая планировка</td>\n",
       "      <td>business-class</td>\n",
       "      <td>2</td>\n",
       "      <td>12.0</td>\n",
       "    </tr>\n",
       "    <tr>\n",
       "      <td>9</td>\n",
       "      <td>18</td>\n",
       "      <td>5400000.0</td>\n",
       "      <td>61.0</td>\n",
       "      <td>2017-02-26</td>\n",
       "      <td>3</td>\n",
       "      <td>2.50</td>\n",
       "      <td>9</td>\n",
       "      <td>43.600000</td>\n",
       "      <td>7</td>\n",
       "      <td>False</td>\n",
       "      <td>False</td>\n",
       "      <td>False</td>\n",
       "      <td>6.5</td>\n",
       "      <td>2</td>\n",
       "      <td>Санкт-Петербург</td>\n",
       "      <td>50898.0</td>\n",
       "      <td>15008.0</td>\n",
       "      <td>0.0</td>\n",
       "      <td>NaN</td>\n",
       "      <td>0.0</td>\n",
       "      <td>NaN</td>\n",
       "      <td>289.0</td>\n",
       "      <td>88524.590164</td>\n",
       "      <td>2017</td>\n",
       "      <td>2</td>\n",
       "      <td>6</td>\n",
       "      <td>другой</td>\n",
       "      <td>0.714754</td>\n",
       "      <td>0.106557</td>\n",
       "      <td>Закрытая планировка</td>\n",
       "      <td>business-class</td>\n",
       "      <td>2</td>\n",
       "      <td>15.0</td>\n",
       "    </tr>\n",
       "  </tbody>\n",
       "</table>\n",
       "</div>"
      ],
      "text/plain": [
       "   total_images  last_price  total_area first_day_exposition  rooms  \\\n",
       "0            20  13000000.0       108.0           2019-03-07      3   \n",
       "2            10   5196000.0        56.0           2015-08-20      2   \n",
       "4             2  10000000.0       100.0           2018-06-19      2   \n",
       "7             5   7915000.0        71.6           2019-04-18      2   \n",
       "9            18   5400000.0        61.0           2017-02-26      3   \n",
       "\n",
       "   ceiling_height  floors_total  living_area  floor  is_apartment  studio  \\\n",
       "0            2.70            16    51.000000      8         False   False   \n",
       "2            2.65             5    34.300000      4         False   False   \n",
       "4            3.03            14    32.000000     13         False   False   \n",
       "7            2.65            24    40.884082     22         False   False   \n",
       "9            2.50             9    43.600000      7         False   False   \n",
       "\n",
       "   open_plan  kitchen_area  balcony    locality_name  airports_nearest  \\\n",
       "0      False          25.0        0  Санкт-Петербург           18863.0   \n",
       "2      False           8.3        0  Санкт-Петербург           21741.0   \n",
       "4      False          41.0        0  Санкт-Петербург           31856.0   \n",
       "7      False          18.9        2  Санкт-Петербург           23982.0   \n",
       "9      False           6.5        2  Санкт-Петербург           50898.0   \n",
       "\n",
       "   citycenters_nearest  parks_around3000  parks_nearest  ponds_around3000  \\\n",
       "0              16028.0               1.0          482.0               2.0   \n",
       "2              13933.0               1.0           90.0               2.0   \n",
       "4               8098.0               2.0          112.0               1.0   \n",
       "7              11634.0               0.0            NaN               0.0   \n",
       "9              15008.0               0.0            NaN               0.0   \n",
       "\n",
       "   ponds_nearest  days_exposition       price_m2  year_exposition  \\\n",
       "0          755.0              NaN  120370.370370             2019   \n",
       "2          574.0            558.0   92785.714286             2015   \n",
       "4           48.0            121.0  100000.000000             2018   \n",
       "7            NaN              NaN  110544.692737             2019   \n",
       "9            NaN            289.0   88524.590164             2017   \n",
       "\n",
       "   month_exposition  day_exposition floor_class  living_to_total  \\\n",
       "0                 3               3      другой         0.472222   \n",
       "2                 8               3      другой         0.612500   \n",
       "4                 6               1      другой         0.320000   \n",
       "7                 4               3      другой         0.571007   \n",
       "9                 2               6      другой         0.714754   \n",
       "\n",
       "   kitchen_to_total            plan_flat      flat_class  floor_num  \\\n",
       "0          0.231481  Закрытая планировка         premium          2   \n",
       "2          0.148214  Закрытая планировка  business-class          2   \n",
       "4          0.410000  Закрытая планировка         premium          2   \n",
       "7          0.263966  Закрытая планировка  business-class          2   \n",
       "9          0.106557  Закрытая планировка  business-class          2   \n",
       "\n",
       "   citycenter_km  \n",
       "0           16.0  \n",
       "2           14.0  \n",
       "4            8.0  \n",
       "7           12.0  \n",
       "9           15.0  "
      ]
     },
     "execution_count": 112,
     "metadata": {},
     "output_type": "execute_result"
    }
   ],
   "source": [
    "spb['citycenter_km'] = round(spb.citycenters_nearest / 1000)\n",
    "spb['citycenter_km']\n",
    "spb.head()"
   ]
  },
  {
   "cell_type": "markdown",
   "metadata": {},
   "source": [
    "Далее посчитаем среднюю цену для каждого километра:"
   ]
  },
  {
   "cell_type": "code",
   "execution_count": 113,
   "metadata": {},
   "outputs": [
    {
     "data": {
      "text/html": [
       "<div>\n",
       "<style scoped>\n",
       "    .dataframe tbody tr th:only-of-type {\n",
       "        vertical-align: middle;\n",
       "    }\n",
       "\n",
       "    .dataframe tbody tr th {\n",
       "        vertical-align: top;\n",
       "    }\n",
       "\n",
       "    .dataframe thead th {\n",
       "        text-align: right;\n",
       "    }\n",
       "</style>\n",
       "<table border=\"1\" class=\"dataframe\">\n",
       "  <thead>\n",
       "    <tr style=\"text-align: right;\">\n",
       "      <th></th>\n",
       "      <th>price_m2</th>\n",
       "    </tr>\n",
       "    <tr>\n",
       "      <th>citycenter_km</th>\n",
       "      <th></th>\n",
       "    </tr>\n",
       "  </thead>\n",
       "  <tbody>\n",
       "    <tr>\n",
       "      <td>0</td>\n",
       "      <td>118153.215310</td>\n",
       "    </tr>\n",
       "    <tr>\n",
       "      <td>1</td>\n",
       "      <td>129271.706222</td>\n",
       "    </tr>\n",
       "    <tr>\n",
       "      <td>2</td>\n",
       "      <td>121496.770997</td>\n",
       "    </tr>\n",
       "    <tr>\n",
       "      <td>3</td>\n",
       "      <td>112672.634494</td>\n",
       "    </tr>\n",
       "    <tr>\n",
       "      <td>4</td>\n",
       "      <td>120625.562426</td>\n",
       "    </tr>\n",
       "    <tr>\n",
       "      <td>5</td>\n",
       "      <td>125408.706626</td>\n",
       "    </tr>\n",
       "    <tr>\n",
       "      <td>6</td>\n",
       "      <td>126641.824610</td>\n",
       "    </tr>\n",
       "    <tr>\n",
       "      <td>7</td>\n",
       "      <td>123858.700050</td>\n",
       "    </tr>\n",
       "    <tr>\n",
       "      <td>8</td>\n",
       "      <td>120538.874575</td>\n",
       "    </tr>\n",
       "    <tr>\n",
       "      <td>9</td>\n",
       "      <td>110002.709474</td>\n",
       "    </tr>\n",
       "    <tr>\n",
       "      <td>10</td>\n",
       "      <td>111350.688607</td>\n",
       "    </tr>\n",
       "    <tr>\n",
       "      <td>11</td>\n",
       "      <td>107207.240060</td>\n",
       "    </tr>\n",
       "    <tr>\n",
       "      <td>12</td>\n",
       "      <td>107049.804692</td>\n",
       "    </tr>\n",
       "    <tr>\n",
       "      <td>13</td>\n",
       "      <td>107647.206122</td>\n",
       "    </tr>\n",
       "    <tr>\n",
       "      <td>14</td>\n",
       "      <td>104089.976806</td>\n",
       "    </tr>\n",
       "    <tr>\n",
       "      <td>15</td>\n",
       "      <td>103922.289566</td>\n",
       "    </tr>\n",
       "    <tr>\n",
       "      <td>16</td>\n",
       "      <td>100110.696443</td>\n",
       "    </tr>\n",
       "    <tr>\n",
       "      <td>17</td>\n",
       "      <td>96263.570274</td>\n",
       "    </tr>\n",
       "    <tr>\n",
       "      <td>18</td>\n",
       "      <td>96449.243478</td>\n",
       "    </tr>\n",
       "    <tr>\n",
       "      <td>19</td>\n",
       "      <td>98556.061863</td>\n",
       "    </tr>\n",
       "    <tr>\n",
       "      <td>20</td>\n",
       "      <td>103025.289879</td>\n",
       "    </tr>\n",
       "    <tr>\n",
       "      <td>21</td>\n",
       "      <td>92952.537182</td>\n",
       "    </tr>\n",
       "    <tr>\n",
       "      <td>22</td>\n",
       "      <td>90890.871355</td>\n",
       "    </tr>\n",
       "    <tr>\n",
       "      <td>23</td>\n",
       "      <td>91396.416786</td>\n",
       "    </tr>\n",
       "    <tr>\n",
       "      <td>24</td>\n",
       "      <td>85736.904595</td>\n",
       "    </tr>\n",
       "    <tr>\n",
       "      <td>25</td>\n",
       "      <td>91949.383239</td>\n",
       "    </tr>\n",
       "    <tr>\n",
       "      <td>26</td>\n",
       "      <td>89285.876593</td>\n",
       "    </tr>\n",
       "    <tr>\n",
       "      <td>27</td>\n",
       "      <td>132115.709459</td>\n",
       "    </tr>\n",
       "    <tr>\n",
       "      <td>28</td>\n",
       "      <td>81161.915320</td>\n",
       "    </tr>\n",
       "    <tr>\n",
       "      <td>29</td>\n",
       "      <td>76148.689696</td>\n",
       "    </tr>\n",
       "  </tbody>\n",
       "</table>\n",
       "</div>"
      ],
      "text/plain": [
       "                    price_m2\n",
       "citycenter_km               \n",
       "0              118153.215310\n",
       "1              129271.706222\n",
       "2              121496.770997\n",
       "3              112672.634494\n",
       "4              120625.562426\n",
       "5              125408.706626\n",
       "6              126641.824610\n",
       "7              123858.700050\n",
       "8              120538.874575\n",
       "9              110002.709474\n",
       "10             111350.688607\n",
       "11             107207.240060\n",
       "12             107049.804692\n",
       "13             107647.206122\n",
       "14             104089.976806\n",
       "15             103922.289566\n",
       "16             100110.696443\n",
       "17              96263.570274\n",
       "18              96449.243478\n",
       "19              98556.061863\n",
       "20             103025.289879\n",
       "21              92952.537182\n",
       "22              90890.871355\n",
       "23              91396.416786\n",
       "24              85736.904595\n",
       "25              91949.383239\n",
       "26              89285.876593\n",
       "27             132115.709459\n",
       "28              81161.915320\n",
       "29              76148.689696"
      ]
     },
     "execution_count": 113,
     "metadata": {},
     "output_type": "execute_result"
    }
   ],
   "source": [
    "mean_price_spb = pd.DataFrame(spb.pivot_table(index='citycenter_km', values='price_m2'))\n",
    "mean_price_spb.index = pd.to_numeric(mean_price_spb.index, downcast='integer')\n",
    "mean_price_spb"
   ]
  },
  {
   "cell_type": "markdown",
   "metadata": {},
   "source": [
    "Построим график зависимости цены квадратного метра от удаленности от центра в км:  \n",
    "он должен показать, как цена зависит от удалённости от центра:"
   ]
  },
  {
   "cell_type": "code",
   "execution_count": 114,
   "metadata": {},
   "outputs": [
    {
     "data": {
      "text/plain": [
       "<matplotlib.axes._subplots.AxesSubplot at 0x7fa34d822d50>"
      ]
     },
     "execution_count": 114,
     "metadata": {},
     "output_type": "execute_result"
    },
    {
     "data": {
      "image/png": "[encoded data removed]",
      "text/plain": [
       "<Figure size 432x288 with 1 Axes>"
      ]
     },
     "metadata": {
      "needs_background": "light"
     },
     "output_type": "display_data"
    }
   ],
   "source": [
    "mean_price_spb.reset_index().plot(x='citycenter_km', y='price_m2', grid=True)"
   ]
  },
  {
   "cell_type": "markdown",
   "metadata": {},
   "source": [
    "По графику можно увидеть скачок от высокой цены к низкой. Предположим что центральный район Санкт-Петербурга заказнчивается на том моменте, где скачок идет на спад. Таким образом центр ограничен радиусом примерно в 9 км.  \n",
    "Также можно увидеть что на 26-27 км от центра находится какой-то элитный район, судя по сильному скачку цены вверх в этом месте графика."
   ]
  },
  {
   "cell_type": "markdown",
   "metadata": {},
   "source": [
    "####   Сравнение выводов по квартирам в центре и общих выводов по всему городу\n",
    "\n",
    "Выделим сегмент квартир в центре, ограничив по значению удаленность от центра в км на семи километрах.  "
   ]
  },
  {
   "cell_type": "code",
   "execution_count": 115,
   "metadata": {},
   "outputs": [
    {
     "data": {
      "text/html": [
       "<div>\n",
       "<style scoped>\n",
       "    .dataframe tbody tr th:only-of-type {\n",
       "        vertical-align: middle;\n",
       "    }\n",
       "\n",
       "    .dataframe tbody tr th {\n",
       "        vertical-align: top;\n",
       "    }\n",
       "\n",
       "    .dataframe thead th {\n",
       "        text-align: right;\n",
       "    }\n",
       "</style>\n",
       "<table border=\"1\" class=\"dataframe\">\n",
       "  <thead>\n",
       "    <tr style=\"text-align: right;\">\n",
       "      <th></th>\n",
       "      <th>total_images</th>\n",
       "      <th>last_price</th>\n",
       "      <th>total_area</th>\n",
       "      <th>first_day_exposition</th>\n",
       "      <th>rooms</th>\n",
       "      <th>ceiling_height</th>\n",
       "      <th>floors_total</th>\n",
       "      <th>living_area</th>\n",
       "      <th>floor</th>\n",
       "      <th>is_apartment</th>\n",
       "      <th>studio</th>\n",
       "      <th>open_plan</th>\n",
       "      <th>kitchen_area</th>\n",
       "      <th>balcony</th>\n",
       "      <th>locality_name</th>\n",
       "      <th>airports_nearest</th>\n",
       "      <th>citycenters_nearest</th>\n",
       "      <th>parks_around3000</th>\n",
       "      <th>parks_nearest</th>\n",
       "      <th>ponds_around3000</th>\n",
       "      <th>ponds_nearest</th>\n",
       "      <th>days_exposition</th>\n",
       "      <th>price_m2</th>\n",
       "      <th>year_exposition</th>\n",
       "      <th>month_exposition</th>\n",
       "      <th>day_exposition</th>\n",
       "      <th>floor_class</th>\n",
       "      <th>living_to_total</th>\n",
       "      <th>kitchen_to_total</th>\n",
       "      <th>plan_flat</th>\n",
       "      <th>flat_class</th>\n",
       "      <th>floor_num</th>\n",
       "      <th>citycenter_km</th>\n",
       "    </tr>\n",
       "  </thead>\n",
       "  <tbody>\n",
       "    <tr>\n",
       "      <td>4</td>\n",
       "      <td>2</td>\n",
       "      <td>10000000.0</td>\n",
       "      <td>100.0</td>\n",
       "      <td>2018-06-19</td>\n",
       "      <td>2</td>\n",
       "      <td>3.03</td>\n",
       "      <td>14</td>\n",
       "      <td>32.0</td>\n",
       "      <td>13</td>\n",
       "      <td>False</td>\n",
       "      <td>False</td>\n",
       "      <td>False</td>\n",
       "      <td>41.0</td>\n",
       "      <td>0</td>\n",
       "      <td>Санкт-Петербург</td>\n",
       "      <td>31856.0</td>\n",
       "      <td>8098.0</td>\n",
       "      <td>2.0</td>\n",
       "      <td>112.0</td>\n",
       "      <td>1.0</td>\n",
       "      <td>48.0</td>\n",
       "      <td>121.0</td>\n",
       "      <td>100000.000000</td>\n",
       "      <td>2018</td>\n",
       "      <td>6</td>\n",
       "      <td>1</td>\n",
       "      <td>другой</td>\n",
       "      <td>0.320000</td>\n",
       "      <td>0.410000</td>\n",
       "      <td>Закрытая планировка</td>\n",
       "      <td>premium</td>\n",
       "      <td>2</td>\n",
       "      <td>8.0</td>\n",
       "    </tr>\n",
       "    <tr>\n",
       "      <td>24</td>\n",
       "      <td>8</td>\n",
       "      <td>6500000.0</td>\n",
       "      <td>97.2</td>\n",
       "      <td>2015-10-31</td>\n",
       "      <td>2</td>\n",
       "      <td>2.65</td>\n",
       "      <td>3</td>\n",
       "      <td>46.5</td>\n",
       "      <td>1</td>\n",
       "      <td>False</td>\n",
       "      <td>False</td>\n",
       "      <td>False</td>\n",
       "      <td>19.6</td>\n",
       "      <td>0</td>\n",
       "      <td>Санкт-Петербург</td>\n",
       "      <td>20052.0</td>\n",
       "      <td>2336.0</td>\n",
       "      <td>3.0</td>\n",
       "      <td>411.0</td>\n",
       "      <td>3.0</td>\n",
       "      <td>124.0</td>\n",
       "      <td>265.0</td>\n",
       "      <td>66872.427984</td>\n",
       "      <td>2015</td>\n",
       "      <td>10</td>\n",
       "      <td>5</td>\n",
       "      <td>первый</td>\n",
       "      <td>0.478395</td>\n",
       "      <td>0.201646</td>\n",
       "      <td>Закрытая планировка</td>\n",
       "      <td>business-class</td>\n",
       "      <td>1</td>\n",
       "      <td>2.0</td>\n",
       "    </tr>\n",
       "    <tr>\n",
       "      <td>35</td>\n",
       "      <td>6</td>\n",
       "      <td>15500000.0</td>\n",
       "      <td>149.0</td>\n",
       "      <td>2017-06-26</td>\n",
       "      <td>5</td>\n",
       "      <td>2.65</td>\n",
       "      <td>5</td>\n",
       "      <td>104.0</td>\n",
       "      <td>4</td>\n",
       "      <td>False</td>\n",
       "      <td>False</td>\n",
       "      <td>False</td>\n",
       "      <td>17.0</td>\n",
       "      <td>0</td>\n",
       "      <td>Санкт-Петербург</td>\n",
       "      <td>23670.0</td>\n",
       "      <td>3502.0</td>\n",
       "      <td>0.0</td>\n",
       "      <td>NaN</td>\n",
       "      <td>1.0</td>\n",
       "      <td>779.0</td>\n",
       "      <td>644.0</td>\n",
       "      <td>104026.845638</td>\n",
       "      <td>2017</td>\n",
       "      <td>6</td>\n",
       "      <td>0</td>\n",
       "      <td>другой</td>\n",
       "      <td>0.697987</td>\n",
       "      <td>0.114094</td>\n",
       "      <td>Закрытая планировка</td>\n",
       "      <td>premium</td>\n",
       "      <td>2</td>\n",
       "      <td>4.0</td>\n",
       "    </tr>\n",
       "    <tr>\n",
       "      <td>52</td>\n",
       "      <td>20</td>\n",
       "      <td>11795000.0</td>\n",
       "      <td>136.0</td>\n",
       "      <td>2017-09-22</td>\n",
       "      <td>6</td>\n",
       "      <td>3.00</td>\n",
       "      <td>2</td>\n",
       "      <td>94.0</td>\n",
       "      <td>2</td>\n",
       "      <td>False</td>\n",
       "      <td>False</td>\n",
       "      <td>False</td>\n",
       "      <td>11.0</td>\n",
       "      <td>1</td>\n",
       "      <td>Санкт-Петербург</td>\n",
       "      <td>16510.0</td>\n",
       "      <td>6582.0</td>\n",
       "      <td>1.0</td>\n",
       "      <td>526.0</td>\n",
       "      <td>0.0</td>\n",
       "      <td>NaN</td>\n",
       "      <td>NaN</td>\n",
       "      <td>86727.941176</td>\n",
       "      <td>2017</td>\n",
       "      <td>9</td>\n",
       "      <td>4</td>\n",
       "      <td>последний</td>\n",
       "      <td>0.691176</td>\n",
       "      <td>0.080882</td>\n",
       "      <td>Закрытая планировка</td>\n",
       "      <td>premium</td>\n",
       "      <td>3</td>\n",
       "      <td>7.0</td>\n",
       "    </tr>\n",
       "    <tr>\n",
       "      <td>61</td>\n",
       "      <td>18</td>\n",
       "      <td>7990000.0</td>\n",
       "      <td>74.0</td>\n",
       "      <td>2017-08-24</td>\n",
       "      <td>2</td>\n",
       "      <td>2.65</td>\n",
       "      <td>4</td>\n",
       "      <td>43.0</td>\n",
       "      <td>4</td>\n",
       "      <td>False</td>\n",
       "      <td>False</td>\n",
       "      <td>False</td>\n",
       "      <td>20.0</td>\n",
       "      <td>0</td>\n",
       "      <td>Санкт-Петербург</td>\n",
       "      <td>22568.0</td>\n",
       "      <td>4288.0</td>\n",
       "      <td>1.0</td>\n",
       "      <td>363.0</td>\n",
       "      <td>0.0</td>\n",
       "      <td>NaN</td>\n",
       "      <td>609.0</td>\n",
       "      <td>107972.972973</td>\n",
       "      <td>2017</td>\n",
       "      <td>8</td>\n",
       "      <td>3</td>\n",
       "      <td>последний</td>\n",
       "      <td>0.581081</td>\n",
       "      <td>0.270270</td>\n",
       "      <td>Закрытая планировка</td>\n",
       "      <td>business-class</td>\n",
       "      <td>3</td>\n",
       "      <td>4.0</td>\n",
       "    </tr>\n",
       "  </tbody>\n",
       "</table>\n",
       "</div>"
      ],
      "text/plain": [
       "    total_images  last_price  total_area first_day_exposition  rooms  \\\n",
       "4              2  10000000.0       100.0           2018-06-19      2   \n",
       "24             8   6500000.0        97.2           2015-10-31      2   \n",
       "35             6  15500000.0       149.0           2017-06-26      5   \n",
       "52            20  11795000.0       136.0           2017-09-22      6   \n",
       "61            18   7990000.0        74.0           2017-08-24      2   \n",
       "\n",
       "    ceiling_height  floors_total  living_area  floor  is_apartment  studio  \\\n",
       "4             3.03            14         32.0     13         False   False   \n",
       "24            2.65             3         46.5      1         False   False   \n",
       "35            2.65             5        104.0      4         False   False   \n",
       "52            3.00             2         94.0      2         False   False   \n",
       "61            2.65             4         43.0      4         False   False   \n",
       "\n",
       "    open_plan  kitchen_area  balcony    locality_name  airports_nearest  \\\n",
       "4       False          41.0        0  Санкт-Петербург           31856.0   \n",
       "24      False          19.6        0  Санкт-Петербург           20052.0   \n",
       "35      False          17.0        0  Санкт-Петербург           23670.0   \n",
       "52      False          11.0        1  Санкт-Петербург           16510.0   \n",
       "61      False          20.0        0  Санкт-Петербург           22568.0   \n",
       "\n",
       "    citycenters_nearest  parks_around3000  parks_nearest  ponds_around3000  \\\n",
       "4                8098.0               2.0          112.0               1.0   \n",
       "24               2336.0               3.0          411.0               3.0   \n",
       "35               3502.0               0.0            NaN               1.0   \n",
       "52               6582.0               1.0          526.0               0.0   \n",
       "61               4288.0               1.0          363.0               0.0   \n",
       "\n",
       "    ponds_nearest  days_exposition       price_m2  year_exposition  \\\n",
       "4            48.0            121.0  100000.000000             2018   \n",
       "24          124.0            265.0   66872.427984             2015   \n",
       "35          779.0            644.0  104026.845638             2017   \n",
       "52            NaN              NaN   86727.941176             2017   \n",
       "61            NaN            609.0  107972.972973             2017   \n",
       "\n",
       "    month_exposition  day_exposition floor_class  living_to_total  \\\n",
       "4                  6               1      другой         0.320000   \n",
       "24                10               5      первый         0.478395   \n",
       "35                 6               0      другой         0.697987   \n",
       "52                 9               4   последний         0.691176   \n",
       "61                 8               3   последний         0.581081   \n",
       "\n",
       "    kitchen_to_total            plan_flat      flat_class  floor_num  \\\n",
       "4           0.410000  Закрытая планировка         premium          2   \n",
       "24          0.201646  Закрытая планировка  business-class          1   \n",
       "35          0.114094  Закрытая планировка         premium          2   \n",
       "52          0.080882  Закрытая планировка         premium          3   \n",
       "61          0.270270  Закрытая планировка  business-class          3   \n",
       "\n",
       "    citycenter_km  \n",
       "4             8.0  \n",
       "24            2.0  \n",
       "35            4.0  \n",
       "52            7.0  \n",
       "61            4.0  "
      ]
     },
     "execution_count": 115,
     "metadata": {},
     "output_type": "execute_result"
    }
   ],
   "source": [
    "center_spb = spb.query('citycenter_km <= 9')\n",
    "center_spb.head()"
   ]
  },
  {
   "cell_type": "markdown",
   "metadata": {},
   "source": [
    "Проанализируем эту территорию и изучим следующие параметры: площадь, цена, число комнат, высота потолков.  "
   ]
  },
  {
   "cell_type": "code",
   "execution_count": 116,
   "metadata": {},
   "outputs": [
    {
     "data": {
      "image/png": "[encoded data removed]",
      "text/plain": [
       "<Figure size 648x648 with 16 Axes>"
      ]
     },
     "metadata": {
      "needs_background": "light"
     },
     "output_type": "display_data"
    }
   ],
   "source": [
    "scatter_matrix(center_spb[['total_area', 'last_price', 'rooms', 'ceiling_height']], figsize=(9, 9))\n",
    "plt.show() "
   ]
  },
  {
   "cell_type": "markdown",
   "metadata": {},
   "source": [
    "Выведем матрицу корреляции по тем же столбцам:"
   ]
  },
  {
   "cell_type": "code",
   "execution_count": 117,
   "metadata": {},
   "outputs": [
    {
     "data": {
      "text/html": [
       "<div>\n",
       "<style scoped>\n",
       "    .dataframe tbody tr th:only-of-type {\n",
       "        vertical-align: middle;\n",
       "    }\n",
       "\n",
       "    .dataframe tbody tr th {\n",
       "        vertical-align: top;\n",
       "    }\n",
       "\n",
       "    .dataframe thead th {\n",
       "        text-align: right;\n",
       "    }\n",
       "</style>\n",
       "<table border=\"1\" class=\"dataframe\">\n",
       "  <thead>\n",
       "    <tr style=\"text-align: right;\">\n",
       "      <th></th>\n",
       "      <th>total_area</th>\n",
       "      <th>last_price</th>\n",
       "      <th>rooms</th>\n",
       "      <th>ceiling_height</th>\n",
       "    </tr>\n",
       "  </thead>\n",
       "  <tbody>\n",
       "    <tr>\n",
       "      <td>total_area</td>\n",
       "      <td>1.000000</td>\n",
       "      <td>0.755797</td>\n",
       "      <td>0.814778</td>\n",
       "      <td>0.286432</td>\n",
       "    </tr>\n",
       "    <tr>\n",
       "      <td>last_price</td>\n",
       "      <td>0.755797</td>\n",
       "      <td>1.000000</td>\n",
       "      <td>0.531640</td>\n",
       "      <td>0.249777</td>\n",
       "    </tr>\n",
       "    <tr>\n",
       "      <td>rooms</td>\n",
       "      <td>0.814778</td>\n",
       "      <td>0.531640</td>\n",
       "      <td>1.000000</td>\n",
       "      <td>0.256421</td>\n",
       "    </tr>\n",
       "    <tr>\n",
       "      <td>ceiling_height</td>\n",
       "      <td>0.286432</td>\n",
       "      <td>0.249777</td>\n",
       "      <td>0.256421</td>\n",
       "      <td>1.000000</td>\n",
       "    </tr>\n",
       "  </tbody>\n",
       "</table>\n",
       "</div>"
      ],
      "text/plain": [
       "                total_area  last_price     rooms  ceiling_height\n",
       "total_area        1.000000    0.755797  0.814778        0.286432\n",
       "last_price        0.755797    1.000000  0.531640        0.249777\n",
       "rooms             0.814778    0.531640  1.000000        0.256421\n",
       "ceiling_height    0.286432    0.249777  0.256421        1.000000"
      ]
     },
     "execution_count": 117,
     "metadata": {},
     "output_type": "execute_result"
    }
   ],
   "source": [
    "center_spb[['total_area', 'last_price', 'rooms', 'ceiling_height']].corr()"
   ]
  },
  {
   "cell_type": "markdown",
   "metadata": {},
   "source": [
    "По диаграммам и матрице коэффициентов корреляции можно сделать следующие выводы:\n",
    "\n",
    "1. Присутствует сильная прямая зависимость между значениями цены квартиры и столбцами с площадью и количеством комнат, т.к. коэффициенты корреляции близки к единице и по диаграмме можно четко проследить увеличение одной величины с увеличением другой.\n",
    "2. Цена не сильно зависит от высоты потолка в квартире (коэфф корреляции ближе к нулю, чем к единице, а на диаграмме нельзя проследить взаимосвязь)\n",
    "\n",
    "+Можно отметить что количество комнат в центральных квартирах больше"
   ]
  },
  {
   "cell_type": "markdown",
   "metadata": {},
   "source": [
    "Также выделим факторы, которые влияют на стоимость квартиры (число комнат, этаж, удалённость от центра, дата размещения объявления)"
   ]
  },
  {
   "cell_type": "code",
   "execution_count": 118,
   "metadata": {},
   "outputs": [
    {
     "data": {
      "image/png": "[encoded data removed]",
      "text/plain": [
       "<Figure size 648x648 with 25 Axes>"
      ]
     },
     "metadata": {
      "needs_background": "light"
     },
     "output_type": "display_data"
    }
   ],
   "source": [
    "scatter_matrix(center_spb[['last_price', 'rooms', 'floor_num', 'citycenters_nearest', 'year_exposition']], figsize=(9, 9))\n",
    "plt.show() "
   ]
  },
  {
   "cell_type": "markdown",
   "metadata": {},
   "source": [
    "Выведем матрицу корреляции по тем же столбцам:"
   ]
  },
  {
   "cell_type": "code",
   "execution_count": 119,
   "metadata": {
    "scrolled": true
   },
   "outputs": [
    {
     "data": {
      "text/html": [
       "<div>\n",
       "<style scoped>\n",
       "    .dataframe tbody tr th:only-of-type {\n",
       "        vertical-align: middle;\n",
       "    }\n",
       "\n",
       "    .dataframe tbody tr th {\n",
       "        vertical-align: top;\n",
       "    }\n",
       "\n",
       "    .dataframe thead th {\n",
       "        text-align: right;\n",
       "    }\n",
       "</style>\n",
       "<table border=\"1\" class=\"dataframe\">\n",
       "  <thead>\n",
       "    <tr style=\"text-align: right;\">\n",
       "      <th></th>\n",
       "      <th>last_price</th>\n",
       "      <th>rooms</th>\n",
       "      <th>floor_num</th>\n",
       "      <th>citycenters_nearest</th>\n",
       "      <th>year_exposition</th>\n",
       "    </tr>\n",
       "  </thead>\n",
       "  <tbody>\n",
       "    <tr>\n",
       "      <td>last_price</td>\n",
       "      <td>1.000000</td>\n",
       "      <td>0.531640</td>\n",
       "      <td>0.103359</td>\n",
       "      <td>-0.270431</td>\n",
       "      <td>-0.034665</td>\n",
       "    </tr>\n",
       "    <tr>\n",
       "      <td>rooms</td>\n",
       "      <td>0.531640</td>\n",
       "      <td>1.000000</td>\n",
       "      <td>0.085462</td>\n",
       "      <td>-0.276017</td>\n",
       "      <td>-0.064486</td>\n",
       "    </tr>\n",
       "    <tr>\n",
       "      <td>floor_num</td>\n",
       "      <td>0.103359</td>\n",
       "      <td>0.085462</td>\n",
       "      <td>1.000000</td>\n",
       "      <td>-0.025088</td>\n",
       "      <td>0.003165</td>\n",
       "    </tr>\n",
       "    <tr>\n",
       "      <td>citycenters_nearest</td>\n",
       "      <td>-0.270431</td>\n",
       "      <td>-0.276017</td>\n",
       "      <td>-0.025088</td>\n",
       "      <td>1.000000</td>\n",
       "      <td>0.085367</td>\n",
       "    </tr>\n",
       "    <tr>\n",
       "      <td>year_exposition</td>\n",
       "      <td>-0.034665</td>\n",
       "      <td>-0.064486</td>\n",
       "      <td>0.003165</td>\n",
       "      <td>0.085367</td>\n",
       "      <td>1.000000</td>\n",
       "    </tr>\n",
       "  </tbody>\n",
       "</table>\n",
       "</div>"
      ],
      "text/plain": [
       "                     last_price     rooms  floor_num  citycenters_nearest  \\\n",
       "last_price             1.000000  0.531640   0.103359            -0.270431   \n",
       "rooms                  0.531640  1.000000   0.085462            -0.276017   \n",
       "floor_num              0.103359  0.085462   1.000000            -0.025088   \n",
       "citycenters_nearest   -0.270431 -0.276017  -0.025088             1.000000   \n",
       "year_exposition       -0.034665 -0.064486   0.003165             0.085367   \n",
       "\n",
       "                     year_exposition  \n",
       "last_price                 -0.034665  \n",
       "rooms                      -0.064486  \n",
       "floor_num                   0.003165  \n",
       "citycenters_nearest         0.085367  \n",
       "year_exposition             1.000000  "
      ]
     },
     "execution_count": 119,
     "metadata": {},
     "output_type": "execute_result"
    }
   ],
   "source": [
    "center_spb[['last_price', 'rooms', 'floor_num', 'citycenters_nearest', 'year_exposition']].corr()"
   ]
  },
  {
   "cell_type": "markdown",
   "metadata": {},
   "source": [
    "По диаграммам и матрице коэффициентов корреляции можно сделать следующие выводы:\n",
    "\n",
    "1. Между ценой квартиры и количеством комнат присутствует ощутимая взаимосвязь, которую можно проследить также и по диаграмме.\n",
    "2. Такие показатели как этаж, отдаленность от центра и год размещения объявления не имеют четкой взаимосвязи с ценой на квартиру или совсем незначительно влияют на нее, т.к. показатели коэффициентов корреляции близки к нулю.  \n",
    "\n",
    "Это отличается от выводов по всему городу, где показатели представляли ценность в ценообразовании квартир.  \n",
    "И такое положение дел можно объяснить тем, что удаленность от центра в пределах самого центра уже не такая яркая, чтобы вызывать скачки цены. Также не имеет значения на каком этаже находится квартира, т.к. с точки зрения логики, в центре любого крупного города все квартиры практически одинаково дороги, т.к. на них имеется спрос."
   ]
  },
  {
   "cell_type": "markdown",
   "metadata": {},
   "source": [
    "### Шаг 5. Общий вывод"
   ]
  },
  {
   "cell_type": "markdown",
   "metadata": {},
   "source": [
    "Мы проделали большую проектную работу, содержащую множество шагов, каждый из которых оказался важен для формулирования четких и правильных выводов.\n",
    "\n",
    "На этапе предобработки данных, мы провели исследование информации об объектах недвижимости Санкт-Петербурга и Ленинградской области, удалили или заменили пропущенные значения для более четкого дальнейшего анализа данных. Добавили множетсво вспомогательных столбцов с расчетами и категориями, которыми мы пользовались много раз в дальнейшем на этапе анализа данных.\n",
    "\n",
    "Мы избавились от выбросов в данных столбцов с нереальной площадью и аномально высоким количеством комнат в квартирах, которые спорили с реальностью и могли негативно повлиять на дальнейший анализ.\n",
    "\n",
    "Анализ данных был объемным и включал множество шагов, в результате которых можно сформулировать вывод о том, что конкретно влияет на цену квартиры:\n",
    "\n",
    "С помощью графиков, диаграмм и их анализа мы выяснили, что **цены квартир находятся в прямой зависимости от количества комнат, общей площади и отдаленности от центра города, с отдаленностью от центра - в обратной зависимости**. В то же время, если ограничиться только объектами находящимися в пределах центра города, взаимосвязь появляется между количеством комнат и ценой, а также пропадает у цены и отдаленности от центра, ведь рассматриваемые нами квартиры итак располагаются там. "
   ]
  }
 ],
 "metadata": {
  "kernelspec": {
   "display_name": "Python 3",
   "language": "python",
   "name": "python3"
  },
  "language_info": {
   "codemirror_mode": {
    "name": "ipython",
    "version": 3
   },
   "file_extension": ".py",
   "mimetype": "text/x-python",
   "name": "python",
   "nbconvert_exporter": "python",
   "pygments_lexer": "ipython3",
   "version": "3.8.3"
  },
  "toc": {
   "base_numbering": 1,
   "nav_menu": {},
   "number_sections": true,
   "sideBar": true,
   "skip_h1_title": true,
   "title_cell": "Table of Contents",
   "title_sidebar": "Contents",
   "toc_cell": false,
   "toc_position": {},
   "toc_section_display": true,
   "toc_window_display": false
  }
 },
 "nbformat": 4,
 "nbformat_minor": 2
}
