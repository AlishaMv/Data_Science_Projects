{
 "cells": [
  {
   "cell_type": "markdown",
   "metadata": {
    "toc": true
   },
   "source": [
    "<h1>Содержание<span class=\"tocSkip\"></span></h1>\n",
    "<div class=\"toc\"><ul class=\"toc-item\"><li><span><a href=\"#Подготовка-данных\" data-toc-modified-id=\"Подготовка-данных-1\"><span class=\"toc-item-num\">1&nbsp;&nbsp;</span>Подготовка данных</a></span><ul class=\"toc-item\"><li><span><a href=\"#Загрузка-данных\" data-toc-modified-id=\"Загрузка-данных-1.1\"><span class=\"toc-item-num\">1.1&nbsp;&nbsp;</span>Загрузка данных</a></span></li><li><span><a href=\"#Пропуски-и-логика-в-столбцах\" data-toc-modified-id=\"Пропуски-и-логика-в-столбцах-1.2\"><span class=\"toc-item-num\">1.2&nbsp;&nbsp;</span>Пропуски и логика в столбцах</a></span></li><li><span><a href=\"#Категоризация\" data-toc-modified-id=\"Категоризация-1.3\"><span class=\"toc-item-num\">1.3&nbsp;&nbsp;</span>Категоризация</a></span></li><li><span><a href=\"#Прямое-кодирование-данных-в-датасете\" data-toc-modified-id=\"Прямое-кодирование-данных-в-датасете-1.4\"><span class=\"toc-item-num\">1.4&nbsp;&nbsp;</span>Прямое кодирование данных в датасете</a></span></li><li><span><a href=\"#Вывод\" data-toc-modified-id=\"Вывод-1.5\"><span class=\"toc-item-num\">1.5&nbsp;&nbsp;</span>Вывод</a></span></li></ul></li><li><span><a href=\"#Исследование-задачи\" data-toc-modified-id=\"Исследование-задачи-2\"><span class=\"toc-item-num\">2&nbsp;&nbsp;</span>Исследование задачи</a></span><ul class=\"toc-item\"><li><span><a href=\"#Исследование-баланса-классов\" data-toc-modified-id=\"Исследование-баланса-классов-2.1\"><span class=\"toc-item-num\">2.1&nbsp;&nbsp;</span>Исследование баланса классов</a></span></li><li><span><a href=\"#Разбиение-данных\" data-toc-modified-id=\"Разбиение-данных-2.2\"><span class=\"toc-item-num\">2.2&nbsp;&nbsp;</span>Разбиение данных</a></span></li><li><span><a href=\"#Логистическая-регрессия-на-несбалансированных-данных\" data-toc-modified-id=\"Логистическая-регрессия-на-несбалансированных-данных-2.3\"><span class=\"toc-item-num\">2.3&nbsp;&nbsp;</span>Логистическая регрессия на несбалансированных данных</a></span></li><li><span><a href=\"#Применение-метрик-качества-для-получившейся-модели-логистической-регрессии\" data-toc-modified-id=\"Применение-метрик-качества-для-получившейся-модели-логистической-регрессии-2.4\"><span class=\"toc-item-num\">2.4&nbsp;&nbsp;</span>Применение метрик качества для получившейся модели логистической регрессии</a></span><ul class=\"toc-item\"><li><span><a href=\"#F1-мера\" data-toc-modified-id=\"F1-мера-2.4.1\"><span class=\"toc-item-num\">2.4.1&nbsp;&nbsp;</span>F1-мера</a></span></li><li><span><a href=\"#Accuracy\" data-toc-modified-id=\"Accuracy-2.4.2\"><span class=\"toc-item-num\">2.4.2&nbsp;&nbsp;</span>Accuracy</a></span></li></ul></li><li><span><a href=\"#Матрица-неточностей-и-дерево-решений\" data-toc-modified-id=\"Матрица-неточностей-и-дерево-решений-2.5\"><span class=\"toc-item-num\">2.5&nbsp;&nbsp;</span>Матрица неточностей и дерево решений</a></span></li><li><span><a href=\"#Вывод\" data-toc-modified-id=\"Вывод-2.6\"><span class=\"toc-item-num\">2.6&nbsp;&nbsp;</span>Вывод</a></span></li></ul></li><li><span><a href=\"#Борьба-с-дисбалансом\" data-toc-modified-id=\"Борьба-с-дисбалансом-3\"><span class=\"toc-item-num\">3&nbsp;&nbsp;</span>Борьба с дисбалансом</a></span><ul class=\"toc-item\"><li><span><a href=\"#Upsampling\" data-toc-modified-id=\"Upsampling-3.1\"><span class=\"toc-item-num\">3.1&nbsp;&nbsp;</span>Upsampling</a></span></li><li><span><a href=\"#Downsampling\" data-toc-modified-id=\"Downsampling-3.2\"><span class=\"toc-item-num\">3.2&nbsp;&nbsp;</span>Downsampling</a></span></li><li><span><a href=\"#Обучение-моделей-на-сбалансированных-данных\" data-toc-modified-id=\"Обучение-моделей-на-сбалансированных-данных-3.3\"><span class=\"toc-item-num\">3.3&nbsp;&nbsp;</span>Обучение моделей на сбалансированных данных</a></span><ul class=\"toc-item\"><li><span><a href=\"#Логистическая-регрессия\" data-toc-modified-id=\"Логистическая-регрессия-3.3.1\"><span class=\"toc-item-num\">3.3.1&nbsp;&nbsp;</span>Логистическая регрессия</a></span></li><li><span><a href=\"#Дерево-решений-(Decision-Tree)\" data-toc-modified-id=\"Дерево-решений-(Decision-Tree)-3.3.2\"><span class=\"toc-item-num\">3.3.2&nbsp;&nbsp;</span>Дерево решений (Decision Tree)</a></span></li><li><span><a href=\"#Случайный-лес-(Random-Forest)\" data-toc-modified-id=\"Случайный-лес-(Random-Forest)-3.3.3\"><span class=\"toc-item-num\">3.3.3&nbsp;&nbsp;</span>Случайный лес (Random Forest)</a></span></li></ul></li><li><span><a href=\"#Вывод\" data-toc-modified-id=\"Вывод-3.4\"><span class=\"toc-item-num\">3.4&nbsp;&nbsp;</span>Вывод</a></span></li></ul></li><li><span><a href=\"#Тестирование-модели\" data-toc-modified-id=\"Тестирование-модели-4\"><span class=\"toc-item-num\">4&nbsp;&nbsp;</span>Тестирование модели</a></span></li></ul></div>"
   ]
  },
  {
   "cell_type": "markdown",
   "metadata": {},
   "source": [
    "# Прогнозирование оттока клиентов из банка"
   ]
  },
  {
   "cell_type": "markdown",
   "metadata": {},
   "source": [
    "Из «Бета-Банка» стали уходить клиенты. Каждый месяц. Немного, но заметно. Банковские маркетологи посчитали: сохранять текущих клиентов дешевле, чем привлекать новых.\n",
    "\n",
    "Нужно спрогнозировать, уйдёт клиент из банка в ближайшее время или нет. Нам предоставлены исторические данные о поведении клиентов и расторжении договоров с банком. \n",
    "\n",
    "Построим модель с предельно большим значением *F1*-меры.\n",
    "\n",
    "Источник данных: [https://www.kaggle.com/barelydedicated/bank-customer-churn-modeling](https://www.kaggle.com/barelydedicated/bank-customer-churn-modeling)"
   ]
  },
  {
   "cell_type": "markdown",
   "metadata": {},
   "source": [
    "## Подготовка данных"
   ]
  },
  {
   "cell_type": "code",
   "execution_count": 1,
   "metadata": {},
   "outputs": [],
   "source": [
    "import pandas as pd\n",
    "import numpy as np\n",
    "import matplotlib.pyplot as plt\n",
    "\n",
    "import warnings\n",
    "warnings.filterwarnings('ignore')\n",
    "\n",
    "from sklearn.model_selection import train_test_split\n",
    "from sklearn.linear_model import LinearRegression\n",
    "from sklearn.linear_model import LogisticRegression\n",
    "from sklearn.metrics import mean_absolute_error, f1_score, confusion_matrix, roc_curve, roc_auc_score, auc, accuracy_score, matthews_corrcoef\n",
    "from sklearn.ensemble import RandomForestClassifier\n",
    "from sklearn.tree import DecisionTreeClassifier\n",
    "from tqdm.notebook import tqdm\n",
    "from sklearn.model_selection import GridSearchCV\n",
    "from sklearn.utils import shuffle\n",
    "\n",
    "pd.options.mode.chained_assignment = None"
   ]
  },
  {
   "cell_type": "markdown",
   "metadata": {},
   "source": [
    "### Загрузка данных\n",
    "\n",
    "Загрузим csv таблицу и посмотрим на первые 5 строк:"
   ]
  },
  {
   "cell_type": "code",
   "execution_count": 2,
   "metadata": {},
   "outputs": [
    {
     "data": {
      "text/html": [
       "<div>\n",
       "<style scoped>\n",
       "    .dataframe tbody tr th:only-of-type {\n",
       "        vertical-align: middle;\n",
       "    }\n",
       "\n",
       "    .dataframe tbody tr th {\n",
       "        vertical-align: top;\n",
       "    }\n",
       "\n",
       "    .dataframe thead th {\n",
       "        text-align: right;\n",
       "    }\n",
       "</style>\n",
       "<table border=\"1\" class=\"dataframe\">\n",
       "  <thead>\n",
       "    <tr style=\"text-align: right;\">\n",
       "      <th></th>\n",
       "      <th>RowNumber</th>\n",
       "      <th>CustomerId</th>\n",
       "      <th>Surname</th>\n",
       "      <th>CreditScore</th>\n",
       "      <th>Geography</th>\n",
       "      <th>Gender</th>\n",
       "      <th>Age</th>\n",
       "      <th>Tenure</th>\n",
       "      <th>Balance</th>\n",
       "      <th>NumOfProducts</th>\n",
       "      <th>HasCrCard</th>\n",
       "      <th>IsActiveMember</th>\n",
       "      <th>EstimatedSalary</th>\n",
       "      <th>Exited</th>\n",
       "    </tr>\n",
       "  </thead>\n",
       "  <tbody>\n",
       "    <tr>\n",
       "      <td>0</td>\n",
       "      <td>1</td>\n",
       "      <td>15634602</td>\n",
       "      <td>Hargrave</td>\n",
       "      <td>619</td>\n",
       "      <td>France</td>\n",
       "      <td>Female</td>\n",
       "      <td>42</td>\n",
       "      <td>2.0</td>\n",
       "      <td>0.00</td>\n",
       "      <td>1</td>\n",
       "      <td>1</td>\n",
       "      <td>1</td>\n",
       "      <td>101348.88</td>\n",
       "      <td>1</td>\n",
       "    </tr>\n",
       "    <tr>\n",
       "      <td>1</td>\n",
       "      <td>2</td>\n",
       "      <td>15647311</td>\n",
       "      <td>Hill</td>\n",
       "      <td>608</td>\n",
       "      <td>Spain</td>\n",
       "      <td>Female</td>\n",
       "      <td>41</td>\n",
       "      <td>1.0</td>\n",
       "      <td>83807.86</td>\n",
       "      <td>1</td>\n",
       "      <td>0</td>\n",
       "      <td>1</td>\n",
       "      <td>112542.58</td>\n",
       "      <td>0</td>\n",
       "    </tr>\n",
       "    <tr>\n",
       "      <td>2</td>\n",
       "      <td>3</td>\n",
       "      <td>15619304</td>\n",
       "      <td>Onio</td>\n",
       "      <td>502</td>\n",
       "      <td>France</td>\n",
       "      <td>Female</td>\n",
       "      <td>42</td>\n",
       "      <td>8.0</td>\n",
       "      <td>159660.80</td>\n",
       "      <td>3</td>\n",
       "      <td>1</td>\n",
       "      <td>0</td>\n",
       "      <td>113931.57</td>\n",
       "      <td>1</td>\n",
       "    </tr>\n",
       "    <tr>\n",
       "      <td>3</td>\n",
       "      <td>4</td>\n",
       "      <td>15701354</td>\n",
       "      <td>Boni</td>\n",
       "      <td>699</td>\n",
       "      <td>France</td>\n",
       "      <td>Female</td>\n",
       "      <td>39</td>\n",
       "      <td>1.0</td>\n",
       "      <td>0.00</td>\n",
       "      <td>2</td>\n",
       "      <td>0</td>\n",
       "      <td>0</td>\n",
       "      <td>93826.63</td>\n",
       "      <td>0</td>\n",
       "    </tr>\n",
       "    <tr>\n",
       "      <td>4</td>\n",
       "      <td>5</td>\n",
       "      <td>15737888</td>\n",
       "      <td>Mitchell</td>\n",
       "      <td>850</td>\n",
       "      <td>Spain</td>\n",
       "      <td>Female</td>\n",
       "      <td>43</td>\n",
       "      <td>2.0</td>\n",
       "      <td>125510.82</td>\n",
       "      <td>1</td>\n",
       "      <td>1</td>\n",
       "      <td>1</td>\n",
       "      <td>79084.10</td>\n",
       "      <td>0</td>\n",
       "    </tr>\n",
       "  </tbody>\n",
       "</table>\n",
       "</div>"
      ],
      "text/plain": [
       "   RowNumber  CustomerId   Surname  CreditScore Geography  Gender  Age  \\\n",
       "0          1    15634602  Hargrave          619    France  Female   42   \n",
       "1          2    15647311      Hill          608     Spain  Female   41   \n",
       "2          3    15619304      Onio          502    France  Female   42   \n",
       "3          4    15701354      Boni          699    France  Female   39   \n",
       "4          5    15737888  Mitchell          850     Spain  Female   43   \n",
       "\n",
       "   Tenure    Balance  NumOfProducts  HasCrCard  IsActiveMember  \\\n",
       "0     2.0       0.00              1          1               1   \n",
       "1     1.0   83807.86              1          0               1   \n",
       "2     8.0  159660.80              3          1               0   \n",
       "3     1.0       0.00              2          0               0   \n",
       "4     2.0  125510.82              1          1               1   \n",
       "\n",
       "   EstimatedSalary  Exited  \n",
       "0        101348.88       1  \n",
       "1        112542.58       0  \n",
       "2        113931.57       1  \n",
       "3         93826.63       0  \n",
       "4         79084.10       0  "
      ]
     },
     "execution_count": 2,
     "metadata": {},
     "output_type": "execute_result"
    }
   ],
   "source": [
    "df = pd.read_csv('/datasets/Churn.csv')\n",
    "df.head()"
   ]
  },
  {
   "cell_type": "markdown",
   "metadata": {},
   "source": [
    "Приведем названия столбцов в удобный для дальнейшего использования вид:"
   ]
  },
  {
   "cell_type": "code",
   "execution_count": 3,
   "metadata": {},
   "outputs": [
    {
     "data": {
      "text/plain": [
       "Index(['RowNumber', 'CustomerId', 'Surname', 'CreditScore', 'Geography',\n",
       "       'Gender', 'Age', 'Tenure', 'Balance', 'NumOfProducts', 'HasCrCard',\n",
       "       'IsActiveMember', 'EstimatedSalary', 'Exited'],\n",
       "      dtype='object')"
      ]
     },
     "execution_count": 3,
     "metadata": {},
     "output_type": "execute_result"
    }
   ],
   "source": [
    "df.columns"
   ]
  },
  {
   "cell_type": "code",
   "execution_count": 4,
   "metadata": {},
   "outputs": [
    {
     "data": {
      "text/plain": [
       "Index(['row_number', 'customer_id', 'surname', 'credit_score', 'geography',\n",
       "       'gender', 'age', 'tenure', 'balance', 'num_of_products', 'has_cr_card',\n",
       "       'is_active_member', 'estimated_salary', 'exited'],\n",
       "      dtype='object')"
      ]
     },
     "execution_count": 4,
     "metadata": {},
     "output_type": "execute_result"
    }
   ],
   "source": [
    "df.columns = ['row_number', 'customer_id', 'surname', 'credit_score', 'geography',\n",
    "       'gender', 'age', 'tenure', 'balance', 'num_of_products', 'has_cr_card',\n",
    "       'is_active_member', 'estimated_salary', 'exited']\n",
    "\n",
    "df.columns"
   ]
  },
  {
   "cell_type": "markdown",
   "metadata": {},
   "source": [
    "Описание данных:\n",
    "\n",
    "**Признаки:**\n",
    "* row_number — индекс строки в данных\n",
    "* customer_id — уникальный идентификатор клиента\n",
    "* surname — фамилия\n",
    "* credit_score — кредитный рейтинг\n",
    "* geography — страна проживания\n",
    "* gender — пол\n",
    "* age — возраст\n",
    "* tenure — сколько лет человек является клиентом банка\n",
    "* balance — баланс на счёте\n",
    "* num_of_products — количество продуктов банка, используемых клиентом\n",
    "* has_cr_card — наличие кредитной карты\n",
    "* is_active_member — активность клиента\n",
    "* estimated_salary — предполагаемая зарплата\n",
    "\n",
    "**Целевой признак:**\n",
    "\n",
    "* exited — факт ухода клиента\n",
    "\n",
    "\n",
    "\n",
    "### Пропуски и логика в столбцах\n",
    "\n",
    "Посмотрим на типы данных в столбцах и наличие пропусков:"
   ]
  },
  {
   "cell_type": "code",
   "execution_count": 5,
   "metadata": {},
   "outputs": [
    {
     "name": "stdout",
     "output_type": "stream",
     "text": [
      "<class 'pandas.core.frame.DataFrame'>\n",
      "RangeIndex: 10000 entries, 0 to 9999\n",
      "Data columns (total 14 columns):\n",
      "row_number          10000 non-null int64\n",
      "customer_id         10000 non-null int64\n",
      "surname             10000 non-null object\n",
      "credit_score        10000 non-null int64\n",
      "geography           10000 non-null object\n",
      "gender              10000 non-null object\n",
      "age                 10000 non-null int64\n",
      "tenure              9091 non-null float64\n",
      "balance             10000 non-null float64\n",
      "num_of_products     10000 non-null int64\n",
      "has_cr_card         10000 non-null int64\n",
      "is_active_member    10000 non-null int64\n",
      "estimated_salary    10000 non-null float64\n",
      "exited              10000 non-null int64\n",
      "dtypes: float64(3), int64(8), object(3)\n",
      "memory usage: 1.1+ MB\n"
     ]
    }
   ],
   "source": [
    "df.info()"
   ]
  },
  {
   "cell_type": "markdown",
   "metadata": {},
   "source": [
    "Мы видим, что в столбце tenure (сколько лет человек является клиентом банка) есть много пропущенных значений. Можно предположить, что клиент пользуется услугами банка меньше года, поэтому данные отстутсвуют. Тогда будет целесообразно заменить пропуски нулями:"
   ]
  },
  {
   "cell_type": "code",
   "execution_count": 6,
   "metadata": {},
   "outputs": [
    {
     "data": {
      "text/plain": [
       "row_number          0\n",
       "customer_id         0\n",
       "surname             0\n",
       "credit_score        0\n",
       "geography           0\n",
       "gender              0\n",
       "age                 0\n",
       "tenure              0\n",
       "balance             0\n",
       "num_of_products     0\n",
       "has_cr_card         0\n",
       "is_active_member    0\n",
       "estimated_salary    0\n",
       "exited              0\n",
       "dtype: int64"
      ]
     },
     "execution_count": 6,
     "metadata": {},
     "output_type": "execute_result"
    }
   ],
   "source": [
    "df.tenure.fillna(0, inplace=True)\n",
    "df.isna().sum()"
   ]
  },
  {
   "cell_type": "markdown",
   "metadata": {},
   "source": [
    "Из-за наличия пропусков, данный столбец имел вещественный тип данных. Заменим его на целочисленный:"
   ]
  },
  {
   "cell_type": "code",
   "execution_count": 7,
   "metadata": {},
   "outputs": [
    {
     "data": {
      "text/plain": [
       "dtype('int64')"
      ]
     },
     "execution_count": 7,
     "metadata": {},
     "output_type": "execute_result"
    }
   ],
   "source": [
    "df.tenure = df.tenure.astype('int64')\n",
    "df.tenure.dtype"
   ]
  },
  {
   "cell_type": "code",
   "execution_count": 8,
   "metadata": {},
   "outputs": [
    {
     "data": {
      "text/plain": [
       "2932"
      ]
     },
     "execution_count": 8,
     "metadata": {},
     "output_type": "execute_result"
    }
   ],
   "source": [
    "len(df['surname'].unique())"
   ]
  },
  {
   "cell_type": "code",
   "execution_count": 9,
   "metadata": {},
   "outputs": [
    {
     "data": {
      "text/plain": [
       "10000"
      ]
     },
     "execution_count": 9,
     "metadata": {},
     "output_type": "execute_result"
    }
   ],
   "source": [
    "len(df['customer_id'].unique())"
   ]
  },
  {
   "cell_type": "markdown",
   "metadata": {},
   "source": [
    "Т.к. уникальных фамилий меньше трети от всех, можно заподозрить наличие дубликатов, однако уникальные идентификаторы клиента говорят нам об обратном: в таблице ровно 1000 уникальных клиентов, а фамилии у разных людей могут и совпадать"
   ]
  },
  {
   "cell_type": "code",
   "execution_count": 10,
   "metadata": {},
   "outputs": [
    {
     "data": {
      "text/plain": [
       "Male      5457\n",
       "Female    4543\n",
       "Name: gender, dtype: int64"
      ]
     },
     "execution_count": 10,
     "metadata": {},
     "output_type": "execute_result"
    }
   ],
   "source": [
    "df.gender.value_counts()"
   ]
  },
  {
   "cell_type": "code",
   "execution_count": 11,
   "metadata": {},
   "outputs": [
    {
     "data": {
      "text/html": [
       "<div>\n",
       "<style scoped>\n",
       "    .dataframe tbody tr th:only-of-type {\n",
       "        vertical-align: middle;\n",
       "    }\n",
       "\n",
       "    .dataframe tbody tr th {\n",
       "        vertical-align: top;\n",
       "    }\n",
       "\n",
       "    .dataframe thead th {\n",
       "        text-align: right;\n",
       "    }\n",
       "</style>\n",
       "<table border=\"1\" class=\"dataframe\">\n",
       "  <thead>\n",
       "    <tr style=\"text-align: right;\">\n",
       "      <th></th>\n",
       "      <th>row_number</th>\n",
       "      <th>customer_id</th>\n",
       "      <th>surname</th>\n",
       "      <th>credit_score</th>\n",
       "      <th>geography</th>\n",
       "      <th>gender</th>\n",
       "      <th>age</th>\n",
       "      <th>tenure</th>\n",
       "      <th>balance</th>\n",
       "      <th>num_of_products</th>\n",
       "      <th>has_cr_card</th>\n",
       "      <th>is_active_member</th>\n",
       "      <th>estimated_salary</th>\n",
       "      <th>exited</th>\n",
       "    </tr>\n",
       "  </thead>\n",
       "  <tbody>\n",
       "    <tr>\n",
       "      <td>0</td>\n",
       "      <td>1</td>\n",
       "      <td>15634602</td>\n",
       "      <td>Hargrave</td>\n",
       "      <td>619</td>\n",
       "      <td>France</td>\n",
       "      <td>Female</td>\n",
       "      <td>42</td>\n",
       "      <td>2</td>\n",
       "      <td>0.00</td>\n",
       "      <td>1</td>\n",
       "      <td>1</td>\n",
       "      <td>1</td>\n",
       "      <td>101348.88</td>\n",
       "      <td>1</td>\n",
       "    </tr>\n",
       "    <tr>\n",
       "      <td>1</td>\n",
       "      <td>2</td>\n",
       "      <td>15647311</td>\n",
       "      <td>Hill</td>\n",
       "      <td>608</td>\n",
       "      <td>Spain</td>\n",
       "      <td>Female</td>\n",
       "      <td>41</td>\n",
       "      <td>1</td>\n",
       "      <td>83807.86</td>\n",
       "      <td>1</td>\n",
       "      <td>0</td>\n",
       "      <td>1</td>\n",
       "      <td>112542.58</td>\n",
       "      <td>0</td>\n",
       "    </tr>\n",
       "    <tr>\n",
       "      <td>2</td>\n",
       "      <td>3</td>\n",
       "      <td>15619304</td>\n",
       "      <td>Onio</td>\n",
       "      <td>502</td>\n",
       "      <td>France</td>\n",
       "      <td>Female</td>\n",
       "      <td>42</td>\n",
       "      <td>8</td>\n",
       "      <td>159660.80</td>\n",
       "      <td>3</td>\n",
       "      <td>1</td>\n",
       "      <td>0</td>\n",
       "      <td>113931.57</td>\n",
       "      <td>1</td>\n",
       "    </tr>\n",
       "    <tr>\n",
       "      <td>3</td>\n",
       "      <td>4</td>\n",
       "      <td>15701354</td>\n",
       "      <td>Boni</td>\n",
       "      <td>699</td>\n",
       "      <td>France</td>\n",
       "      <td>Female</td>\n",
       "      <td>39</td>\n",
       "      <td>1</td>\n",
       "      <td>0.00</td>\n",
       "      <td>2</td>\n",
       "      <td>0</td>\n",
       "      <td>0</td>\n",
       "      <td>93826.63</td>\n",
       "      <td>0</td>\n",
       "    </tr>\n",
       "    <tr>\n",
       "      <td>4</td>\n",
       "      <td>5</td>\n",
       "      <td>15737888</td>\n",
       "      <td>Mitchell</td>\n",
       "      <td>850</td>\n",
       "      <td>Spain</td>\n",
       "      <td>Female</td>\n",
       "      <td>43</td>\n",
       "      <td>2</td>\n",
       "      <td>125510.82</td>\n",
       "      <td>1</td>\n",
       "      <td>1</td>\n",
       "      <td>1</td>\n",
       "      <td>79084.10</td>\n",
       "      <td>0</td>\n",
       "    </tr>\n",
       "  </tbody>\n",
       "</table>\n",
       "</div>"
      ],
      "text/plain": [
       "   row_number  customer_id   surname  credit_score geography  gender  age  \\\n",
       "0           1     15634602  Hargrave           619    France  Female   42   \n",
       "1           2     15647311      Hill           608     Spain  Female   41   \n",
       "2           3     15619304      Onio           502    France  Female   42   \n",
       "3           4     15701354      Boni           699    France  Female   39   \n",
       "4           5     15737888  Mitchell           850     Spain  Female   43   \n",
       "\n",
       "   tenure    balance  num_of_products  has_cr_card  is_active_member  \\\n",
       "0       2       0.00                1            1                 1   \n",
       "1       1   83807.86                1            0                 1   \n",
       "2       8  159660.80                3            1                 0   \n",
       "3       1       0.00                2            0                 0   \n",
       "4       2  125510.82                1            1                 1   \n",
       "\n",
       "   estimated_salary  exited  \n",
       "0         101348.88       1  \n",
       "1         112542.58       0  \n",
       "2         113931.57       1  \n",
       "3          93826.63       0  \n",
       "4          79084.10       0  "
      ]
     },
     "execution_count": 11,
     "metadata": {},
     "output_type": "execute_result"
    }
   ],
   "source": [
    "df.head()"
   ]
  },
  {
   "cell_type": "markdown",
   "metadata": {},
   "source": [
    "В нашей таблице почти одинаковое количество женщин и мужчин."
   ]
  },
  {
   "cell_type": "code",
   "execution_count": 12,
   "metadata": {},
   "outputs": [
    {
     "data": {
      "text/plain": [
       "1    7055\n",
       "0    2945\n",
       "Name: has_cr_card, dtype: int64"
      ]
     },
     "execution_count": 12,
     "metadata": {},
     "output_type": "execute_result"
    }
   ],
   "source": [
    "df.has_cr_card.value_counts()"
   ]
  },
  {
   "cell_type": "code",
   "execution_count": 13,
   "metadata": {},
   "outputs": [
    {
     "data": {
      "text/plain": [
       "1    5151\n",
       "0    4849\n",
       "Name: is_active_member, dtype: int64"
      ]
     },
     "execution_count": 13,
     "metadata": {},
     "output_type": "execute_result"
    }
   ],
   "source": [
    "df.is_active_member.value_counts()"
   ]
  },
  {
   "cell_type": "code",
   "execution_count": 14,
   "metadata": {},
   "outputs": [
    {
     "data": {
      "text/plain": [
       "0    7963\n",
       "1    2037\n",
       "Name: exited, dtype: int64"
      ]
     },
     "execution_count": 14,
     "metadata": {},
     "output_type": "execute_result"
    }
   ],
   "source": [
    "df.exited.value_counts()"
   ]
  },
  {
   "cell_type": "markdown",
   "metadata": {},
   "source": [
    "Столбцы с категориальными бинарными данными (gender, has_cr_card, is_active_member, exited) содержат соответствующие им по смыслу 2 значения (1 и 0 или Male и Female - в gender) и не содержат каких-то лишних значений."
   ]
  },
  {
   "cell_type": "code",
   "execution_count": 15,
   "metadata": {},
   "outputs": [
    {
     "data": {
      "text/plain": [
       "France     5014\n",
       "Germany    2509\n",
       "Spain      2477\n",
       "Name: geography, dtype: int64"
      ]
     },
     "execution_count": 15,
     "metadata": {},
     "output_type": "execute_result"
    }
   ],
   "source": [
    "df.geography.value_counts()"
   ]
  },
  {
   "cell_type": "code",
   "execution_count": 16,
   "metadata": {},
   "outputs": [
    {
     "data": {
      "text/html": [
       "<div>\n",
       "<style scoped>\n",
       "    .dataframe tbody tr th:only-of-type {\n",
       "        vertical-align: middle;\n",
       "    }\n",
       "\n",
       "    .dataframe tbody tr th {\n",
       "        vertical-align: top;\n",
       "    }\n",
       "\n",
       "    .dataframe thead th {\n",
       "        text-align: right;\n",
       "    }\n",
       "</style>\n",
       "<table border=\"1\" class=\"dataframe\">\n",
       "  <thead>\n",
       "    <tr style=\"text-align: right;\">\n",
       "      <th></th>\n",
       "      <th>row_number</th>\n",
       "      <th>customer_id</th>\n",
       "      <th>credit_score</th>\n",
       "      <th>age</th>\n",
       "      <th>tenure</th>\n",
       "      <th>balance</th>\n",
       "      <th>num_of_products</th>\n",
       "      <th>has_cr_card</th>\n",
       "      <th>is_active_member</th>\n",
       "      <th>estimated_salary</th>\n",
       "      <th>exited</th>\n",
       "    </tr>\n",
       "  </thead>\n",
       "  <tbody>\n",
       "    <tr>\n",
       "      <td>count</td>\n",
       "      <td>10000.00000</td>\n",
       "      <td>1.000000e+04</td>\n",
       "      <td>10000.000000</td>\n",
       "      <td>10000.000000</td>\n",
       "      <td>10000.000000</td>\n",
       "      <td>10000.000000</td>\n",
       "      <td>10000.000000</td>\n",
       "      <td>10000.00000</td>\n",
       "      <td>10000.000000</td>\n",
       "      <td>10000.000000</td>\n",
       "      <td>10000.000000</td>\n",
       "    </tr>\n",
       "    <tr>\n",
       "      <td>mean</td>\n",
       "      <td>5000.50000</td>\n",
       "      <td>1.569094e+07</td>\n",
       "      <td>650.528800</td>\n",
       "      <td>38.921800</td>\n",
       "      <td>4.543400</td>\n",
       "      <td>76485.889288</td>\n",
       "      <td>1.530200</td>\n",
       "      <td>0.70550</td>\n",
       "      <td>0.515100</td>\n",
       "      <td>100090.239881</td>\n",
       "      <td>0.203700</td>\n",
       "    </tr>\n",
       "    <tr>\n",
       "      <td>std</td>\n",
       "      <td>2886.89568</td>\n",
       "      <td>7.193619e+04</td>\n",
       "      <td>96.653299</td>\n",
       "      <td>10.487806</td>\n",
       "      <td>3.111573</td>\n",
       "      <td>62397.405202</td>\n",
       "      <td>0.581654</td>\n",
       "      <td>0.45584</td>\n",
       "      <td>0.499797</td>\n",
       "      <td>57510.492818</td>\n",
       "      <td>0.402769</td>\n",
       "    </tr>\n",
       "    <tr>\n",
       "      <td>min</td>\n",
       "      <td>1.00000</td>\n",
       "      <td>1.556570e+07</td>\n",
       "      <td>350.000000</td>\n",
       "      <td>18.000000</td>\n",
       "      <td>0.000000</td>\n",
       "      <td>0.000000</td>\n",
       "      <td>1.000000</td>\n",
       "      <td>0.00000</td>\n",
       "      <td>0.000000</td>\n",
       "      <td>11.580000</td>\n",
       "      <td>0.000000</td>\n",
       "    </tr>\n",
       "    <tr>\n",
       "      <td>25%</td>\n",
       "      <td>2500.75000</td>\n",
       "      <td>1.562853e+07</td>\n",
       "      <td>584.000000</td>\n",
       "      <td>32.000000</td>\n",
       "      <td>2.000000</td>\n",
       "      <td>0.000000</td>\n",
       "      <td>1.000000</td>\n",
       "      <td>0.00000</td>\n",
       "      <td>0.000000</td>\n",
       "      <td>51002.110000</td>\n",
       "      <td>0.000000</td>\n",
       "    </tr>\n",
       "    <tr>\n",
       "      <td>50%</td>\n",
       "      <td>5000.50000</td>\n",
       "      <td>1.569074e+07</td>\n",
       "      <td>652.000000</td>\n",
       "      <td>37.000000</td>\n",
       "      <td>4.000000</td>\n",
       "      <td>97198.540000</td>\n",
       "      <td>1.000000</td>\n",
       "      <td>1.00000</td>\n",
       "      <td>1.000000</td>\n",
       "      <td>100193.915000</td>\n",
       "      <td>0.000000</td>\n",
       "    </tr>\n",
       "    <tr>\n",
       "      <td>75%</td>\n",
       "      <td>7500.25000</td>\n",
       "      <td>1.575323e+07</td>\n",
       "      <td>718.000000</td>\n",
       "      <td>44.000000</td>\n",
       "      <td>7.000000</td>\n",
       "      <td>127644.240000</td>\n",
       "      <td>2.000000</td>\n",
       "      <td>1.00000</td>\n",
       "      <td>1.000000</td>\n",
       "      <td>149388.247500</td>\n",
       "      <td>0.000000</td>\n",
       "    </tr>\n",
       "    <tr>\n",
       "      <td>max</td>\n",
       "      <td>10000.00000</td>\n",
       "      <td>1.581569e+07</td>\n",
       "      <td>850.000000</td>\n",
       "      <td>92.000000</td>\n",
       "      <td>10.000000</td>\n",
       "      <td>250898.090000</td>\n",
       "      <td>4.000000</td>\n",
       "      <td>1.00000</td>\n",
       "      <td>1.000000</td>\n",
       "      <td>199992.480000</td>\n",
       "      <td>1.000000</td>\n",
       "    </tr>\n",
       "  </tbody>\n",
       "</table>\n",
       "</div>"
      ],
      "text/plain": [
       "        row_number   customer_id  credit_score           age        tenure  \\\n",
       "count  10000.00000  1.000000e+04  10000.000000  10000.000000  10000.000000   \n",
       "mean    5000.50000  1.569094e+07    650.528800     38.921800      4.543400   \n",
       "std     2886.89568  7.193619e+04     96.653299     10.487806      3.111573   \n",
       "min        1.00000  1.556570e+07    350.000000     18.000000      0.000000   \n",
       "25%     2500.75000  1.562853e+07    584.000000     32.000000      2.000000   \n",
       "50%     5000.50000  1.569074e+07    652.000000     37.000000      4.000000   \n",
       "75%     7500.25000  1.575323e+07    718.000000     44.000000      7.000000   \n",
       "max    10000.00000  1.581569e+07    850.000000     92.000000     10.000000   \n",
       "\n",
       "             balance  num_of_products  has_cr_card  is_active_member  \\\n",
       "count   10000.000000     10000.000000  10000.00000      10000.000000   \n",
       "mean    76485.889288         1.530200      0.70550          0.515100   \n",
       "std     62397.405202         0.581654      0.45584          0.499797   \n",
       "min         0.000000         1.000000      0.00000          0.000000   \n",
       "25%         0.000000         1.000000      0.00000          0.000000   \n",
       "50%     97198.540000         1.000000      1.00000          1.000000   \n",
       "75%    127644.240000         2.000000      1.00000          1.000000   \n",
       "max    250898.090000         4.000000      1.00000          1.000000   \n",
       "\n",
       "       estimated_salary        exited  \n",
       "count      10000.000000  10000.000000  \n",
       "mean      100090.239881      0.203700  \n",
       "std        57510.492818      0.402769  \n",
       "min           11.580000      0.000000  \n",
       "25%        51002.110000      0.000000  \n",
       "50%       100193.915000      0.000000  \n",
       "75%       149388.247500      0.000000  \n",
       "max       199992.480000      1.000000  "
      ]
     },
     "execution_count": 16,
     "metadata": {},
     "output_type": "execute_result"
    }
   ],
   "source": [
    "df.describe()"
   ]
  },
  {
   "cell_type": "markdown",
   "metadata": {},
   "source": [
    "минимальные и максимальные значения возраста (18 и 92), баланса, кол-ва используемых продуктов (1 и 4) и предполагаемая зарплата - не выходят за рамки реальности, поэтому заключим что ошибок здесь нет.\n",
    "\n",
    "### Категоризация\n",
    "\n",
    "**кредитный рейтинг по баллам обычно делится на следующие категории:**\n",
    "\n",
    "* 961 - 999 — очень хороший (very good) — вероятность отказа в кредите крайне мала\n",
    "* 801 - 960 — хороший (good) — хорошие шансы на получение кредита\n",
    "* 721 - 800 — средний (not bad) — получение кредита возможно, но не гарантировано\n",
    "* 641 - 720 — плохой (bad) — вероятность получения кредита крайне мала\n",
    "* 1 - 640 — очень плохой (very bad) — получить кредит практически невозможно\n",
    "\n",
    "С помощью функции, заполним новый столбец данными в соответствии с вышеуказанными категориями:"
   ]
  },
  {
   "cell_type": "code",
   "execution_count": 17,
   "metadata": {},
   "outputs": [
    {
     "data": {
      "text/plain": [
       "very bad    4550\n",
       "bad         3042\n",
       "not bad     1763\n",
       "good         645\n",
       "Name: credit_score_cat, dtype: int64"
      ]
     },
     "execution_count": 17,
     "metadata": {},
     "output_type": "execute_result"
    }
   ],
   "source": [
    "def catigorizer_credit_score(row):\n",
    "    if row['credit_score'] < 641:\n",
    "        return 'very bad'\n",
    "    if 640 < row['credit_score'] < 721:\n",
    "        return 'bad'\n",
    "    if 720 < row['credit_score'] < 801:\n",
    "        return 'not bad'\n",
    "    if row['credit_score'] > 960:\n",
    "        return 'very good'\n",
    "    return 'good'\n",
    "\n",
    "df['credit_score_cat'] = df.apply(catigorizer_credit_score, axis=1)\n",
    "df['credit_score_cat'].value_counts()"
   ]
  },
  {
   "cell_type": "markdown",
   "metadata": {},
   "source": [
    "В нашем датасете представлена большая доля (почти половина) клиентов с очень плохим кредитным рейтингом и ни одного клиента с очень хорошим."
   ]
  },
  {
   "cell_type": "markdown",
   "metadata": {},
   "source": [
    "### Прямое кодирование данных в датасете\n",
    "\n",
    "Преобразуем столбцы в таблице df техникой OHE (техника прямого кодирования).  \n",
    "Чтобы не попасть в дамми-ловушку, укажем drop_first=True, чтобы убрать по одному столбцу из кажой новой группы столбцов и тем самым избежать избыточности и сложностей с обучением модели в дальнейшем"
   ]
  },
  {
   "cell_type": "code",
   "execution_count": 18,
   "metadata": {},
   "outputs": [
    {
     "data": {
      "text/plain": [
       "Index(['row_number', 'customer_id', 'surname', 'credit_score', 'geography',\n",
       "       'gender', 'age', 'tenure', 'balance', 'num_of_products', 'has_cr_card',\n",
       "       'is_active_member', 'estimated_salary', 'exited', 'credit_score_cat'],\n",
       "      dtype='object')"
      ]
     },
     "execution_count": 18,
     "metadata": {},
     "output_type": "execute_result"
    }
   ],
   "source": [
    "df.columns"
   ]
  },
  {
   "cell_type": "markdown",
   "metadata": {},
   "source": [
    "Для того, чтобы построить качественные предсказания нам не пригодятся фамилии, номера строк и id клиентов. \n",
    "Поэтому при реализации прямого кодирования содержимого столбцов датафрейма, мы исключим вышеперечисленные 3."
   ]
  },
  {
   "cell_type": "code",
   "execution_count": 19,
   "metadata": {},
   "outputs": [
    {
     "data": {
      "text/plain": [
       "Index(['credit_score', 'geography', 'gender', 'age', 'tenure', 'balance',\n",
       "       'num_of_products', 'has_cr_card', 'is_active_member',\n",
       "       'estimated_salary', 'exited', 'credit_score_cat'],\n",
       "      dtype='object')"
      ]
     },
     "execution_count": 19,
     "metadata": {},
     "output_type": "execute_result"
    }
   ],
   "source": [
    "df_new = df.drop(['surname', 'row_number', 'customer_id'], axis=1)\n",
    "df_new.columns"
   ]
  },
  {
   "cell_type": "code",
   "execution_count": 20,
   "metadata": {},
   "outputs": [
    {
     "data": {
      "text/plain": [
       "(10000, 12)"
      ]
     },
     "execution_count": 20,
     "metadata": {},
     "output_type": "execute_result"
    }
   ],
   "source": [
    "df_new.shape"
   ]
  },
  {
   "cell_type": "code",
   "execution_count": 21,
   "metadata": {},
   "outputs": [
    {
     "data": {
      "text/html": [
       "<div>\n",
       "<style scoped>\n",
       "    .dataframe tbody tr th:only-of-type {\n",
       "        vertical-align: middle;\n",
       "    }\n",
       "\n",
       "    .dataframe tbody tr th {\n",
       "        vertical-align: top;\n",
       "    }\n",
       "\n",
       "    .dataframe thead th {\n",
       "        text-align: right;\n",
       "    }\n",
       "</style>\n",
       "<table border=\"1\" class=\"dataframe\">\n",
       "  <thead>\n",
       "    <tr style=\"text-align: right;\">\n",
       "      <th></th>\n",
       "      <th>credit_score</th>\n",
       "      <th>age</th>\n",
       "      <th>tenure</th>\n",
       "      <th>balance</th>\n",
       "      <th>num_of_products</th>\n",
       "      <th>has_cr_card</th>\n",
       "      <th>is_active_member</th>\n",
       "      <th>estimated_salary</th>\n",
       "      <th>exited</th>\n",
       "      <th>geography_Germany</th>\n",
       "      <th>geography_Spain</th>\n",
       "      <th>gender_Male</th>\n",
       "      <th>credit_score_cat_good</th>\n",
       "      <th>credit_score_cat_not bad</th>\n",
       "      <th>credit_score_cat_very bad</th>\n",
       "    </tr>\n",
       "  </thead>\n",
       "  <tbody>\n",
       "    <tr>\n",
       "      <td>0</td>\n",
       "      <td>619</td>\n",
       "      <td>42</td>\n",
       "      <td>2</td>\n",
       "      <td>0.00</td>\n",
       "      <td>1</td>\n",
       "      <td>1</td>\n",
       "      <td>1</td>\n",
       "      <td>101348.88</td>\n",
       "      <td>1</td>\n",
       "      <td>0</td>\n",
       "      <td>0</td>\n",
       "      <td>0</td>\n",
       "      <td>0</td>\n",
       "      <td>0</td>\n",
       "      <td>1</td>\n",
       "    </tr>\n",
       "    <tr>\n",
       "      <td>1</td>\n",
       "      <td>608</td>\n",
       "      <td>41</td>\n",
       "      <td>1</td>\n",
       "      <td>83807.86</td>\n",
       "      <td>1</td>\n",
       "      <td>0</td>\n",
       "      <td>1</td>\n",
       "      <td>112542.58</td>\n",
       "      <td>0</td>\n",
       "      <td>0</td>\n",
       "      <td>1</td>\n",
       "      <td>0</td>\n",
       "      <td>0</td>\n",
       "      <td>0</td>\n",
       "      <td>1</td>\n",
       "    </tr>\n",
       "    <tr>\n",
       "      <td>2</td>\n",
       "      <td>502</td>\n",
       "      <td>42</td>\n",
       "      <td>8</td>\n",
       "      <td>159660.80</td>\n",
       "      <td>3</td>\n",
       "      <td>1</td>\n",
       "      <td>0</td>\n",
       "      <td>113931.57</td>\n",
       "      <td>1</td>\n",
       "      <td>0</td>\n",
       "      <td>0</td>\n",
       "      <td>0</td>\n",
       "      <td>0</td>\n",
       "      <td>0</td>\n",
       "      <td>1</td>\n",
       "    </tr>\n",
       "    <tr>\n",
       "      <td>3</td>\n",
       "      <td>699</td>\n",
       "      <td>39</td>\n",
       "      <td>1</td>\n",
       "      <td>0.00</td>\n",
       "      <td>2</td>\n",
       "      <td>0</td>\n",
       "      <td>0</td>\n",
       "      <td>93826.63</td>\n",
       "      <td>0</td>\n",
       "      <td>0</td>\n",
       "      <td>0</td>\n",
       "      <td>0</td>\n",
       "      <td>0</td>\n",
       "      <td>0</td>\n",
       "      <td>0</td>\n",
       "    </tr>\n",
       "    <tr>\n",
       "      <td>4</td>\n",
       "      <td>850</td>\n",
       "      <td>43</td>\n",
       "      <td>2</td>\n",
       "      <td>125510.82</td>\n",
       "      <td>1</td>\n",
       "      <td>1</td>\n",
       "      <td>1</td>\n",
       "      <td>79084.10</td>\n",
       "      <td>0</td>\n",
       "      <td>0</td>\n",
       "      <td>1</td>\n",
       "      <td>0</td>\n",
       "      <td>1</td>\n",
       "      <td>0</td>\n",
       "      <td>0</td>\n",
       "    </tr>\n",
       "  </tbody>\n",
       "</table>\n",
       "</div>"
      ],
      "text/plain": [
       "   credit_score  age  tenure    balance  num_of_products  has_cr_card  \\\n",
       "0           619   42       2       0.00                1            1   \n",
       "1           608   41       1   83807.86                1            0   \n",
       "2           502   42       8  159660.80                3            1   \n",
       "3           699   39       1       0.00                2            0   \n",
       "4           850   43       2  125510.82                1            1   \n",
       "\n",
       "   is_active_member  estimated_salary  exited  geography_Germany  \\\n",
       "0                 1         101348.88       1                  0   \n",
       "1                 1         112542.58       0                  0   \n",
       "2                 0         113931.57       1                  0   \n",
       "3                 0          93826.63       0                  0   \n",
       "4                 1          79084.10       0                  0   \n",
       "\n",
       "   geography_Spain  gender_Male  credit_score_cat_good  \\\n",
       "0                0            0                      0   \n",
       "1                1            0                      0   \n",
       "2                0            0                      0   \n",
       "3                0            0                      0   \n",
       "4                1            0                      1   \n",
       "\n",
       "   credit_score_cat_not bad  credit_score_cat_very bad  \n",
       "0                         0                          1  \n",
       "1                         0                          1  \n",
       "2                         0                          1  \n",
       "3                         0                          0  \n",
       "4                         0                          0  "
      ]
     },
     "execution_count": 21,
     "metadata": {},
     "output_type": "execute_result"
    }
   ],
   "source": [
    "df_ohe = pd.get_dummies(df_new, drop_first=True)\n",
    "df_ohe.head()"
   ]
  },
  {
   "cell_type": "code",
   "execution_count": 22,
   "metadata": {},
   "outputs": [
    {
     "data": {
      "text/plain": [
       "(10000, 15)"
      ]
     },
     "execution_count": 22,
     "metadata": {},
     "output_type": "execute_result"
    }
   ],
   "source": [
    "df_ohe.shape"
   ]
  },
  {
   "cell_type": "markdown",
   "metadata": {},
   "source": [
    "### Вывод\n",
    "В данном пункте мы:  \n",
    "* откорректировали названия столбцов для дальнейшего удобства обращения к ним;\n",
    "* избавились от ненужных пропусков и откорректировали тип данных в столбце tenure (сколько лет человек является клиентом банка);\n",
    "* убедились в корректности данных и проверили логику содержимого в столбцах;\n",
    "* провели категоризацию данных в столбце credit_score (кредитный рейтинг);\n",
    "* преобразовали столбцы техникой прямого кодирования (OHE)\n",
    "\n",
    "В результате проделанных операций, данные готовы к дальнейшим манипуляциям с ними"
   ]
  },
  {
   "cell_type": "markdown",
   "metadata": {},
   "source": [
    "## Исследование задачи\n",
    "\n",
    "### Исследование баланса классов\n",
    "\n",
    "Исследуем баланс классов по целевому признаку exited — факт ухода клиента:"
   ]
  },
  {
   "cell_type": "code",
   "execution_count": 23,
   "metadata": {},
   "outputs": [
    {
     "data": {
      "text/plain": [
       "0    7963\n",
       "1    2037\n",
       "Name: exited, dtype: int64"
      ]
     },
     "execution_count": 23,
     "metadata": {},
     "output_type": "execute_result"
    }
   ],
   "source": [
    "df.exited.value_counts()"
   ]
  },
  {
   "cell_type": "markdown",
   "metadata": {},
   "source": [
    "Видим присутствие сильного дисбаланса классов (т.е. их соотношение далеко от 1:1), что плохо сказывается на обучении модели:  \n",
    "клиентов отрицательного класса почти в 4 раза больше чем клиентов положительного.  \n",
    "\n",
    "### Разбиение данных\n",
    "\n",
    "С учетом задания, обучим модель, закрыв глаза на дисбаланс классов.  \n",
    "Для начала, необходимо:  \n",
    "* разбить датасет на 2 части (по целевому признаку и остальным признакам)   \n",
    "* разбить выборку на тренировочную и валидационную в соотношении 75% : 25%:  \n",
    "    для этого объявим 4 переменные и запишем в них:\n",
    "    * признаки: features_train, features_valid;\n",
    "    * целевой признак: target_train, target_valid."
   ]
  },
  {
   "cell_type": "code",
   "execution_count": 24,
   "metadata": {},
   "outputs": [
    {
     "name": "stdout",
     "output_type": "stream",
     "text": [
      "Размер target: (10000,)\n",
      "Размер features: (10000, 14)\n"
     ]
    }
   ],
   "source": [
    "target = df_ohe['exited']\n",
    "features = df_ohe.drop('exited', axis=1)\n",
    "\n",
    "print('Размер target:', target.shape)\n",
    "print('Размер features:', features.shape)"
   ]
  },
  {
   "cell_type": "code",
   "execution_count": 25,
   "metadata": {},
   "outputs": [
    {
     "name": "stdout",
     "output_type": "stream",
     "text": [
      "Размер features_train: (6000, 14)\n",
      "Размер features_valid: (2000, 14)\n",
      "Размер features_valid: (2000, 14)\n",
      "Размер target_train: (6000,)\n",
      "Размер target_valid: (2000,)\n",
      "Размер target_valid: (2000,)\n"
     ]
    }
   ],
   "source": [
    "features_train, features_other, target_train, target_other = \\\n",
    "        train_test_split(features, target, test_size=0.4, random_state=12345)\n",
    "\n",
    "features_valid, features_test, target_valid, target_test = \\\n",
    "        train_test_split(features_other, target_other, test_size=0.5, random_state=12345)\n",
    "\n",
    "print('Размер features_train:', features_train.shape)\n",
    "print('Размер features_valid:', features_valid.shape)\n",
    "print('Размер features_valid:', features_test.shape)\n",
    "print('Размер target_train:', target_train.shape)\n",
    "print('Размер target_valid:', target_valid.shape)\n",
    "print('Размер target_valid:', target_test.shape)"
   ]
  },
  {
   "cell_type": "markdown",
   "metadata": {},
   "source": [
    "### Логистическая регрессия на несбалансированных данных \n",
    "\n",
    "В данном проекте нам необходимо решить задачу классификации, т.е. предсказать класс:  \n",
    "* положительный (1) - человек перестанет быть клиентом банка \n",
    "* или отрицательный(0) - клиент продолжит пользоваться услугами банка\n",
    "\n",
    "Для решения задачи классификации подходит несколько алгоритмов машинного обучения. Один из них - логистическая регрессия, которую мы импортировали из библиотеки sklearn.linear_model в самом первом блоке с кодом в начале проекта.  \n",
    "* При объявлении модели укажем параметры:  \n",
    "    * random_state (для закрепления псевдослучайности) и \n",
    "    * solver='liblinear' - для того, чтобы избежать предупреждения библиотеки sklearn\n",
    "* Обучим модель, передав в качестве аргументов тренировочную выборку"
   ]
  },
  {
   "cell_type": "code",
   "execution_count": 26,
   "metadata": {},
   "outputs": [
    {
     "data": {
      "text/plain": [
       "LogisticRegression(C=1.0, class_weight=None, dual=False, fit_intercept=True,\n",
       "                   intercept_scaling=1, l1_ratio=None, max_iter=100,\n",
       "                   multi_class='warn', n_jobs=None, penalty='l2',\n",
       "                   random_state=12345, solver='liblinear', tol=0.0001,\n",
       "                   verbose=0, warm_start=False)"
      ]
     },
     "execution_count": 26,
     "metadata": {},
     "output_type": "execute_result"
    }
   ],
   "source": [
    "model_lr = LogisticRegression(random_state=12345, solver='liblinear')\n",
    "model_lr.fit(features_train, target_train)"
   ]
  },
  {
   "cell_type": "markdown",
   "metadata": {},
   "source": [
    "### Применение метрик качества для получившейся модели логистической регрессии\n",
    "\n",
    "#### F1-мера\n",
    "\n",
    "Обучим получившуюся модель и **посчитаем значение F1-меры**  \n",
    "(импортировали в начале проекта из sklearn.metrics) на валидационной выборке.\n",
    "\n",
    "F1-мера - это метрика, отображающая среднее гармоническое полноты и точности"
   ]
  },
  {
   "cell_type": "code",
   "execution_count": 27,
   "metadata": {},
   "outputs": [
    {
     "data": {
      "text/plain": [
       "0.08403361344537813"
      ]
     },
     "execution_count": 27,
     "metadata": {},
     "output_type": "execute_result"
    }
   ],
   "source": [
    "predicted_valid_lr = model_lr.predict(features_valid)\n",
    "\n",
    "f1_score(target_valid, predicted_valid_lr)"
   ]
  },
  {
   "cell_type": "markdown",
   "metadata": {},
   "source": [
    "F1-мера близка к нулю, т.обр делаем **вывод** о том, что прогноз класса 1, с помощью метода логистической регрессии, не удался\n",
    "\n",
    "#### Accuracy\n",
    "\n",
    "Для проверки качества полученной модели используем **еще одну метрику: accuracy_score**, которая, как нам известно, выдает полезные результаты только при полном балансе классов, которого у нас нет. Посмотрим на долю положительного и отрицательного классов по целевому признаку и сравним с полученным значением метрики accuracy_score:"
   ]
  },
  {
   "cell_type": "code",
   "execution_count": 28,
   "metadata": {},
   "outputs": [
    {
     "data": {
      "text/plain": [
       "0    7963\n",
       "1    2037\n",
       "Name: exited, dtype: int64"
      ]
     },
     "execution_count": 28,
     "metadata": {},
     "output_type": "execute_result"
    }
   ],
   "source": [
    "df.exited.value_counts()"
   ]
  },
  {
   "cell_type": "code",
   "execution_count": 29,
   "metadata": {},
   "outputs": [
    {
     "data": {
      "text/plain": [
       "0.782"
      ]
     },
     "execution_count": 29,
     "metadata": {},
     "output_type": "execute_result"
    }
   ],
   "source": [
    "accuracy_valid_lr = accuracy_score(target_valid, predicted_valid_lr)\n",
    "accuracy_valid_lr"
   ]
  },
  {
   "cell_type": "markdown",
   "metadata": {},
   "source": [
    "Полученное значение метрики accuracy_score оказалось меньше чем реальная доля преобладающего класса, что еще раз подтверждает нам факт того, что предсказание модели оказалось полностью бесполезным. Модель отвратительна. ЧТД :)"
   ]
  },
  {
   "cell_type": "markdown",
   "metadata": {},
   "source": [
    "### Матрица неточностей и дерево решений\n",
    "\n",
    "**Построим матрицу неточностей (сonfusion matrix)**, которая включает в себя правильные прогнозы TP и TN (True Positive и True Negative) и ошибочные варианты FP и FN (False Positive и False Negative).  \n",
    "\n",
    "1. Обучим модель решающего дерева на тренировочных данных и сделаем предсказание на валидационных.\n",
    "\n",
    "2. Чтобы получить матрицу неточностей, функции confusion_matrix(), импортированной из библиотеки sklearn.metrics, отдадим на вход верные ответы и предсказания. \n",
    "\n",
    "3. **Применим метрику F1-мера** для оценки качества предсказаний модели решающего дерева."
   ]
  },
  {
   "cell_type": "code",
   "execution_count": 30,
   "metadata": {},
   "outputs": [
    {
     "name": "stdout",
     "output_type": "stream",
     "text": [
      "Матрица неточностей для решающего дерева:\n",
      "[[1377  205]\n",
      " [ 219  199]]\n",
      "\n",
      "F1-мера для оценки качества модели решающего дерева:\n",
      "0.48418491484184917\n"
     ]
    }
   ],
   "source": [
    "model_dtc = DecisionTreeClassifier(random_state=12345)\n",
    "model_dtc.fit(features_train, target_train)\n",
    "predicted_valid_dtc = model_dtc.predict(features_valid)\n",
    "\n",
    "print('Матрица неточностей для решающего дерева:')\n",
    "print(confusion_matrix(target_valid, predicted_valid_dtc))\n",
    "print()\n",
    "print('F1-мера для оценки качества модели решающего дерева:')\n",
    "print(f1_score(target_valid, predicted_valid_dtc))"
   ]
  },
  {
   "cell_type": "markdown",
   "metadata": {},
   "source": [
    "Если брать порог = 0.5 (по умолчанию) то F1-мера показала не очень хороший результат.  \n",
    "Также, поскольку F1-мера не учитывает True Negative, эта метрика может дать смещенную оценку.\n",
    "____________\n",
    "**Воспользуемся коэффициентом корреляции Мэтьюса (Matthews сorrelation сoefficient)**, который был импортирован из библиотеки sklearn.metrics как matthews_corrcoef (принимает значения от -1 (очень плохой результат) до 1 (идеальная модель)).\n",
    "\n",
    "Его рекомендуют применять для несбалансированных выборок из-за простоты его интерпретации и плюсом также является то, что коэффициент Мэтьюса учитывает все элементы матрицы ошибок."
   ]
  },
  {
   "cell_type": "code",
   "execution_count": 31,
   "metadata": {},
   "outputs": [
    {
     "name": "stdout",
     "output_type": "stream",
     "text": [
      "Matthews сorrelation сoefficient для оценки качества модели решающего дерева:\n",
      "0.35089700203806223\n"
     ]
    }
   ],
   "source": [
    "print('Matthews сorrelation сoefficient для оценки качества модели решающего дерева:')\n",
    "print(matthews_corrcoef(target_valid, predicted_valid_dtc))"
   ]
  },
  {
   "cell_type": "markdown",
   "metadata": {},
   "source": [
    "### Вывод \n",
    "По результатам подсчета коэффициента Мэтьюса можно сказать, что предсказания удовлетворительные, т.к. 0.35 ближе к единице чем к -1 или нулю (среднее случайное предсказание).  \n",
    "Но для получения необходимого результата, качество модели необходимо улучшить, справившись с дисбалансом классов, подобрав, в процессе, нужную модель и ее параметры."
   ]
  },
  {
   "cell_type": "markdown",
   "metadata": {},
   "source": [
    "\n",
    "## Борьба с дисбалансом\n",
    "\n",
    "Попытаемся улучшить значения метрик качества, избавившись от дисбаланса классов.  \n",
    "Также перед нами стоит задача достичь значения F1-меры не менее 0.59\n",
    "\n",
    "### Upsampling\n",
    "\n",
    "**Для того чтобы сбалансировать классы, используем технику upsampling:**\n",
    "\n",
    "1. Напишем функцию, реализующую задачу увеличения выборки меньшего класса (у нас это положительный класс):  \n",
    "    * на вход, при обращении, мы отдадим ей обучающую выборку для разделения на отрицательные и положительные объекты\n",
    "    * и количество повторений, на которое необходимо умножить меньшую выборку для уравновешивания с большей (у нас это число = 4)\n",
    "2. Создадим новую обучающую выборку, воспользовавшись функцией pd.concat()\n",
    "3. Перемешаем данные функцией shuffle()\n",
    "    * на выходе функция вернет нам features_upsampled (признаки, преобразованные техникой upsampling)  \n",
    "    и target_upsampled (целевой признак, преобразованный техникой upsampling)"
   ]
  },
  {
   "cell_type": "code",
   "execution_count": 32,
   "metadata": {},
   "outputs": [
    {
     "data": {
      "text/plain": [
       "4"
      ]
     },
     "execution_count": 32,
     "metadata": {},
     "output_type": "execute_result"
    }
   ],
   "source": [
    "repeat = round(len(df.query('exited==0')) / len(df.query('exited==1')))\n",
    "repeat"
   ]
  },
  {
   "cell_type": "code",
   "execution_count": 33,
   "metadata": {},
   "outputs": [
    {
     "data": {
      "text/plain": [
       "0    4804\n",
       "1    4784\n",
       "Name: exited, dtype: int64"
      ]
     },
     "execution_count": 33,
     "metadata": {},
     "output_type": "execute_result"
    }
   ],
   "source": [
    "def upsample(features, target, x):\n",
    "    features_zeros = features[target == 0]\n",
    "    features_ones = features[target == 1]\n",
    "    target_zeros = target[target == 0]\n",
    "    target_ones = target[target == 1]\n",
    "\n",
    "    features_upsampled = pd.concat([features_zeros] + [features_ones] * x)\n",
    "    target_upsampled = pd.concat([target_zeros] + [target_ones] * x)\n",
    "    \n",
    "    features_upsampled, target_upsampled = shuffle(features_upsampled, target_upsampled, random_state=42)\n",
    "    \n",
    "    return features_upsampled, target_upsampled\n",
    "\n",
    "features_upsampled, target_upsampled = upsample(features_train, target_train, repeat)\n",
    "\n",
    "target_upsampled.value_counts()"
   ]
  },
  {
   "cell_type": "markdown",
   "metadata": {},
   "source": [
    "Видим, что классов стало поровну, меньшая выборка увеличилась по объему до размера большей, чего мы и добивались.\n",
    "\n",
    "### Downsampling\n",
    "\n",
    "Напишем функцию downsample(), с помощью котрой реализуем тот же способ что и выше, за исключением того, что мы будем не увеличивать, а наоборот уменьшать больший класс (у нас это отрицательный класс) при помощи функции sample() - параметру frac передадим 0.25 (доля случайных элементов от исходной таблицы, которая вернется нам)\n",
    "\n",
    "Функция вернёт признаки features_downsampled и целевой признак target_downsampled после операции downsampling.  \n",
    "\n",
    "В конце проверим, что все сработало"
   ]
  },
  {
   "cell_type": "code",
   "execution_count": 34,
   "metadata": {},
   "outputs": [
    {
     "data": {
      "text/plain": [
       "0    1201\n",
       "1    1196\n",
       "Name: exited, dtype: int64"
      ]
     },
     "execution_count": 34,
     "metadata": {},
     "output_type": "execute_result"
    }
   ],
   "source": [
    "def downsample(features, target, fraction):\n",
    "    features_zeros = features[target == 0]\n",
    "    features_ones = features[target == 1]\n",
    "    target_zeros = target[target == 0]\n",
    "    target_ones = target[target == 1]\n",
    "\n",
    "    features_downsampled = pd.concat(\n",
    "        [features_zeros.sample(frac=fraction, random_state=42)] + [features_ones])\n",
    "    target_downsampled = pd.concat(\n",
    "        [target_zeros.sample(frac=fraction, random_state=42)] + [target_ones])\n",
    "    \n",
    "    features_downsampled, target_downsampled = shuffle(\n",
    "        features_downsampled, target_downsampled, random_state=42)\n",
    "    \n",
    "    return features_downsampled, target_downsampled\n",
    "\n",
    "features_downsampled, target_downsampled = downsample(features_train, target_train, 0.25)\n",
    "\n",
    "target_downsampled.value_counts()"
   ]
  },
  {
   "cell_type": "markdown",
   "metadata": {},
   "source": [
    "Все сработало. \n",
    "\n",
    "\n",
    "### Обучение моделей на сбалансированных данных\n",
    "\n",
    "Теперь приступим к обучению: перед нами стоит задача обучить разные модели и найти среди них лучшую.\n",
    "\n",
    "#### Логистическая регрессия\n",
    "\n",
    "1. Запишем в переменную model_lr_up (затем model_lr_dwn) модель LogisticRegression\n",
    "2. Обучим ее на тренировочных данных, прошедших операцию upsampling (downsampling)\n",
    "3. Сделаем предсказания на валидационных данных\n",
    "4. Распечатаем значения F1-меры и коэффициента Мэтьюса"
   ]
  },
  {
   "cell_type": "code",
   "execution_count": 35,
   "metadata": {},
   "outputs": [
    {
     "name": "stdout",
     "output_type": "stream",
     "text": [
      "F1: 0.4524959742351047\n",
      "matthews_corrcoef: 0.27179181404573055\n"
     ]
    }
   ],
   "source": [
    "model_lr_up = LogisticRegression(random_state=42, solver='liblinear')\n",
    "model_lr_up.fit(features_upsampled, target_upsampled)\n",
    "predicted_valid_lr_up = model_lr_up.predict(features_valid)\n",
    "\n",
    "print(\"F1:\", f1_score(target_valid, predicted_valid_lr_up))\n",
    "print('matthews_corrcoef:', matthews_corrcoef(target_valid, predicted_valid_lr_up))"
   ]
  },
  {
   "cell_type": "code",
   "execution_count": 36,
   "metadata": {},
   "outputs": [
    {
     "name": "stdout",
     "output_type": "stream",
     "text": [
      "F1: 0.464696223316913\n",
      "matthews_corrcoef: 0.29067759485575423\n"
     ]
    }
   ],
   "source": [
    "model_lr_dwn = LogisticRegression(random_state=42, solver='liblinear')\n",
    "model_lr_dwn.fit(features_downsampled, target_downsampled)\n",
    "predicted_valid_lr_dwn = model_lr_dwn.predict(features_valid)\n",
    "\n",
    "print(\"F1:\", f1_score(target_valid, predicted_valid_lr_dwn))\n",
    "print('matthews_corrcoef:', matthews_corrcoef(target_valid, predicted_valid_lr_dwn))"
   ]
  },
  {
   "cell_type": "markdown",
   "metadata": {},
   "source": [
    "**Вывод**\n",
    "\n",
    "Можно сказать, что качество модели улучшилось по сравнению с нулевым показателем F1-меры у логистической регрессии, рассчитанным в пункте 2.4.1, но такой результат недостаточно хорош для нас, т.к. не достигает даже порога в 0.5  \n",
    "\n",
    "Также стоит отметить что показатели метрик качества получились практически одинаковыми на данных, прошедших операцию upsampling и на данных, прошедших операцию downsampling.\n",
    "\n",
    "#### Дерево решений (Decision Tree)\n",
    "\n",
    "**GridSearchCV**\n",
    "\n",
    "* Для начала запишем в переменную model_tree модель DecisionTreeClassifier\n",
    "* Отдельно создаем словарь parametrs с гиперпараметрами дерева решений для перебора с помощью инструмента автоподбора наилучших гиперпараметров моделей ML - GridSearchCV (импортировали из библиотеки sklearn.model_selection)\n",
    "* Создаем экземпляр GridSearchCV с передачей в качестве параметров модели model_tree, сетки гиперпараметров и метрики качества\n",
    "* Запускаем поиск лучших гиперпараметров по сетке"
   ]
  },
  {
   "cell_type": "code",
   "execution_count": 37,
   "metadata": {},
   "outputs": [
    {
     "name": "stdout",
     "output_type": "stream",
     "text": [
      "Лучший результат: 0.8290496867243634\n",
      "\n",
      "Время выполнения кода:\n",
      "CPU times: user 1min 20s, sys: 160 ms, total: 1min 20s\n",
      "Wall time: 1min 20s\n"
     ]
    },
    {
     "data": {
      "text/plain": [
       "{'max_depth': 10, 'min_samples_leaf': 1, 'min_samples_split': 2}"
      ]
     },
     "execution_count": 37,
     "metadata": {},
     "output_type": "execute_result"
    }
   ],
   "source": [
    "%%time\n",
    "\n",
    "model_tree = DecisionTreeClassifier(random_state=42)\n",
    "\n",
    "param_grid_tree = {\n",
    "    'max_depth' : range(1,11),\n",
    "    'min_samples_leaf' : range(1,11),\n",
    "    'min_samples_split' : range(2,11)\n",
    "}\n",
    "\n",
    "grid_tree = GridSearchCV(estimator=model_tree, param_grid=param_grid_tree, scoring='f1')\n",
    "grid_tree.fit(features_upsampled, target_upsampled)\n",
    "\n",
    "print('Лучший результат:', grid_tree.best_score_)\n",
    "print()\n",
    "print('Время выполнения кода:')\n",
    "grid_tree.best_params_"
   ]
  },
  {
   "cell_type": "markdown",
   "metadata": {},
   "source": [
    "Мы достигли отличного результата с помощью дерева решений = 0.83 - он близок к единице, а значит наша модель близка к идеальной при максимальной глубине дерева = 10, минимальном числе образцов в листах = 1 и минимальном числе образцов для сплита = 2.\n",
    "\n",
    "Известно, что метод GridSearchCV дает результаты лучше, чем ручной перебор гиперпараметров, за счет того что он не просто перебирает все комбинации значений, переданных в словарь, а также оценивает модель для каждой комбинации с помощью метода перекрестной проверки (кросс валидации). \n",
    "\n",
    "Проверим на практике:\n",
    "\n",
    "**Ручной перебор**  \n",
    "\n",
    "Внутри цикла перебора по гиперпараметрам:\n",
    "1. запишем модель в переменную и обучим ее на тренировочных данных, прошедших процедуру upsampling;\n",
    "2. сделаем предсказание и посчитаем f1-меру на валидационных данных\n",
    "3. если значение f1-меры оказалось на данном этапе лучше предыдущего, то записываем его в переменную best_f1_tree как наилучшее и фиксируем все значения гиперпараметров модели, при которых она дала это наилучшее предсказание;\n",
    "4. проходим по циклу, повторяя все этапы: наилучшее значение по итогу выводим со всеми соответствующими гиперпараметрами модели"
   ]
  },
  {
   "cell_type": "code",
   "execution_count": 38,
   "metadata": {},
   "outputs": [
    {
     "name": "stdout",
     "output_type": "stream",
     "text": [
      "Лучшее значение F1-меры = 0.5987261146496814 \n",
      " достигнуто при следующих значениях гиперпараметров: \n",
      " max_depth = 5 \n",
      " min_samples_leaf = 2 \n",
      " min_samples_split = 2\n",
      "\n",
      "Время выполнения ручного перебора гиперпараметров:\n",
      "CPU times: user 26.2 s, sys: 47.7 ms, total: 26.3 s\n",
      "Wall time: 26.4 s\n"
     ]
    }
   ],
   "source": [
    "%%time\n",
    "\n",
    "best_f1_tree = 0\n",
    "best_max_depth = 0\n",
    "best_min_samples_leaf = 0\n",
    "best_min_samples_split = 0\n",
    "\n",
    "for max_depth in range(1,10):\n",
    "    for min_samples_split in range(2,10):\n",
    "        for min_samples_leaf in range(1,10):\n",
    "            \n",
    "            model_tree_hand = DecisionTreeClassifier(random_state=42,\n",
    "                                                    max_depth=max_depth,\n",
    "                                                    min_samples_split=min_samples_split,\n",
    "                                                    min_samples_leaf=min_samples_leaf)\n",
    "            \n",
    "            model_tree_hand.fit(features_upsampled, target_upsampled)\n",
    "            predictions_tree_hand = model_tree_hand.predict(features_valid)\n",
    "            f1_tree = f1_score(target_valid, predictions_tree_hand)\n",
    "            \n",
    "            if f1_tree > best_f1_tree:\n",
    "                best_f1_tree = f1_tree\n",
    "                best_model_tree = model_tree_hand\n",
    "                best_max_depth = max_depth\n",
    "                best_min_samples_leaf = min_samples_leaf\n",
    "                best_min_samples_split = min_samples_split\n",
    "                \n",
    "print('Лучшее значение F1-меры = {} \\n достигнуто при следующих значениях гиперпараметров: \\n max_depth = {} \\n min_samples_leaf = {} \\n min_samples_split = {}'.format(best_f1_tree, best_max_depth, best_min_samples_leaf, best_min_samples_split))\n",
    "print()\n",
    "print('Время выполнения ручного перебора гиперпараметров:')"
   ]
  },
  {
   "cell_type": "markdown",
   "metadata": {},
   "source": [
    "С помощью ручного перебора, мы получили действительно не такой хороший результат метрики f1 (примерно = 0.60) как при использовании инструмента GridSearchCV (примерно = 0.83).\n",
    "\n",
    "Однако оба показателя являются выше порога в 0.5, а также выше 0.59, который нужно было преодалеть по заданию проекта. \n",
    "\n",
    "**ROC-кривая и AUC-ROC**\n",
    "\n",
    "Чтобы выявить, как сильно наша лучшая модель дерева решений отличается от случайной,  \n",
    "посчитаем площадь под ROC-кривой — AUC-ROC  (AUC-ROC случайной модели равна 0.5)  \n",
    "\n",
    "1. Вычислим вероятность положительного класса с помощью .predict_proba (на вход получает признаки)\n",
    "\n",
    "2. Построим ROC-кривую нашей лучшей модели дерева решений:\n",
    "    1. воспользуемся функцией roc_curve:\n",
    "        * на вход принимает значения целевого признака и вероятности положительного класса\n",
    "        * на выход отдает значения порогов и TPR, FPR, на основе которых будем строить кривую\n",
    "    2. построим график с помощью .plot по TPR, FPR\n",
    "    \n",
    "3. Построим ROC-кривую случайной модели"
   ]
  },
  {
   "cell_type": "code",
   "execution_count": 39,
   "metadata": {},
   "outputs": [
    {
     "data": {
      "image/png": "[encoded data removed]",
      "text/plain": [
       "<Figure size 432x288 with 1 Axes>"
      ]
     },
     "metadata": {
      "needs_background": "light"
     },
     "output_type": "display_data"
    }
   ],
   "source": [
    "# обучим на тренировочных данных лучшую модель дерева решений\n",
    "best_model_tree = DecisionTreeClassifier(random_state=42, max_depth=10, min_samples_split=2, min_samples_leaf=1)\n",
    "best_model_tree.fit(features_upsampled, target_upsampled)\n",
    "\n",
    "# вероятность положительного класса\n",
    "probabilities_valid_tree = best_model_tree.predict_proba(features_valid)\n",
    "probabilities_one_valid_tree = probabilities_valid_tree[:, 1]\n",
    "\n",
    "fpr_tree, tpr_tree, thresholds_tree = roc_curve(target_valid, probabilities_one_valid_tree)\n",
    "plt.figure()\n",
    "\n",
    "# ROC-кривая модели дерева решений\n",
    "plt.plot(fpr_tree, tpr_tree)\n",
    "\n",
    "# ROC-кривая случайной модели\n",
    "plt.plot([0, 1], [0, 1], linestyle='--')\n",
    "\n",
    "#границы осей\n",
    "plt.xlim([0.0, 1.0])\n",
    "plt.ylim([0.0, 1.0])\n",
    "\n",
    "#подписи осей и заголовок графика\n",
    "plt.xlabel('False Positive Rate')\n",
    "plt.ylabel('True Positive Rate')\n",
    "plt.title('ROC-кривая')\n",
    "\n",
    "plt.show()"
   ]
  },
  {
   "cell_type": "markdown",
   "metadata": {},
   "source": [
    "ROC-кривая нашей модели выглядит значительно лучше чем ROC-кривая случайной модели\n",
    "\n",
    "4. Посчитаем площадь под ROC-кривой (ROC-AUC)"
   ]
  },
  {
   "cell_type": "code",
   "execution_count": 40,
   "metadata": {},
   "outputs": [
    {
     "data": {
      "text/plain": [
       "0.7484779426442212"
      ]
     },
     "execution_count": 40,
     "metadata": {},
     "output_type": "execute_result"
    }
   ],
   "source": [
    "auc_roc_tree = roc_auc_score(target_valid, probabilities_one_valid_tree)\n",
    "auc_roc_tree"
   ]
  },
  {
   "cell_type": "markdown",
   "metadata": {},
   "source": [
    "Метрика получилась лучше, чем у случайной модели, т.к. 0.74 > 0.5\n",
    "\n",
    "#### Случайный лес (Random Forest)\n",
    "\n",
    "Проделаем то же самое, что в пункте 3.3.2\n",
    "\n",
    "**GridSearchCV:**"
   ]
  },
  {
   "cell_type": "code",
   "execution_count": 63,
   "metadata": {},
   "outputs": [
    {
     "name": "stdout",
     "output_type": "stream",
     "text": [
      "Лучший результат: 0.8398859300190572\n",
      "\n",
      "Время выполнения кода:\n",
      "CPU times: user 12min 29s, sys: 2.5 s, total: 12min 31s\n",
      "Wall time: 12min 46s\n"
     ]
    },
    {
     "data": {
      "text/plain": [
       "{'max_depth': 9,\n",
       " 'min_samples_leaf': 1,\n",
       " 'min_samples_split': 2,\n",
       " 'n_estimators': 80}"
      ]
     },
     "execution_count": 63,
     "metadata": {},
     "output_type": "execute_result"
    }
   ],
   "source": [
    "%%time\n",
    "\n",
    "model_forest = RandomForestClassifier(random_state=42)\n",
    "\n",
    "param_grid_forest = { 'n_estimators': range (20,81,20),\n",
    "              'max_depth': range (1,11,2),\n",
    "              'min_samples_leaf': range (1,8),\n",
    "              'min_samples_split': range (2,8) \n",
    "}\n",
    "\n",
    "grid_forest = GridSearchCV(estimator=model_forest, param_grid=param_grid_forest, scoring='f1')\n",
    "grid_forest.fit(features_upsampled, target_upsampled)\n",
    "\n",
    "print('Лучший результат:', grid_forest.best_score_)\n",
    "print()\n",
    "print('Время выполнения кода:')\n",
    "grid_forest.best_params_"
   ]
  },
  {
   "cell_type": "markdown",
   "metadata": {},
   "source": [
    "За время выполнения ячейки: почти 13 мин  \n",
    "была определена лучшая модель случайного леса: \n",
    "* f1-мера ~ 0.84\n",
    "* число деревьев в лесу = 10\n",
    "* максимальная глубина = 9  \n",
    "* минимальное число образцов в листах = 1\n",
    "* минимальное число образцов для сплита = 2\n",
    "\n",
    "**Ручной перебор:**"
   ]
  },
  {
   "cell_type": "code",
   "execution_count": 65,
   "metadata": {},
   "outputs": [
    {
     "name": "stdout",
     "output_type": "stream",
     "text": [
      "Лучшее значение F1-меры = 0.6238145416227607 \n",
      " достигнуто при следующих значениях гиперпараметров: \n",
      "n_estimators = 80 \n",
      "max_depth = 9 \n",
      "min_samples_leaf = 2 \n",
      "min_samples_split = 10\n",
      "\n",
      "Время выполнения ручного перебора гиперпараметров:\n",
      "CPU times: user 16.6 s, sys: 43.9 ms, total: 16.6 s\n",
      "Wall time: 17.3 s\n"
     ]
    }
   ],
   "source": [
    "%%time\n",
    "\n",
    "best_f1_forest = 0\n",
    "best_n_estimators = 0\n",
    "best_max_depth = 0\n",
    "best_min_samples_leaf = 0\n",
    "best_min_samples_split = 0\n",
    "\n",
    "for n_est in range(20, 81, 20):\n",
    "    for max_depth in range(1,11):\n",
    "\n",
    "        model_forest_hand = RandomForestClassifier(random_state=42,\n",
    "                                                n_estimators=n_est,\n",
    "                                                max_depth=max_depth,\n",
    "                                                )\n",
    "\n",
    "        model_forest_hand.fit(features_upsampled, target_upsampled)\n",
    "        predictions_forest_hand = model_forest_hand.predict(features_valid)\n",
    "        f1_forest = f1_score(target_valid, predictions_forest_hand)\n",
    "\n",
    "        if f1_forest > best_f1_forest:\n",
    "            best_f1_forest = f1_forest\n",
    "            best_model_forest = model_forest_hand\n",
    "            best_n_estimators = n_est\n",
    "            best_max_depth = max_depth\n",
    "            best_min_samples_leaf = min_samples_leaf\n",
    "            best_min_samples_split = min_samples_split\n",
    "                \n",
    "print(\n",
    "    'Лучшее значение F1-меры = {} \\n достигнуто при следующих значениях гиперпараметров: \\n\\\n",
    "n_estimators = {} \\n\\\n",
    "max_depth = {} \\n\\\n",
    "min_samples_leaf = {} \\n\\\n",
    "min_samples_split = {}'.format(\n",
    "                                best_f1_forest, \n",
    "                                best_n_estimators, \n",
    "                                best_max_depth, \n",
    "                                best_min_samples_leaf, \n",
    "                                best_min_samples_split\n",
    "    )\n",
    ")\n",
    "print()\n",
    "print('Время выполнения ручного перебора гиперпараметров:')"
   ]
  },
  {
   "cell_type": "markdown",
   "metadata": {},
   "source": [
    "Значение f1-меры, достигнутое ручным перебором, оказалось хуже чем значение полученное с помощью GridSearchCV:  \n",
    "(RandomForest_hand) **0.62 < 0.84** (RandomForest_GridSearchCV)\n",
    "\n",
    "однако оно лучше, чем значение f1-меры лучшей модели дерева решений после ручного перебора:  \n",
    "(RandomForest_hand) **0.62 > 0.60** (DecisionTree_hand)\n",
    "\n",
    "также стоит сравнить f1-меры моделей решающего дерева и случайного леса, полученные с помощью GridSearchCV:  \n",
    "(RandomForest_GridSearchCV) **0.84 > 0.83** (DecisionTree_GridSearchCV)\n",
    "____________\n",
    "\n",
    "\n",
    "**ROC-кривая и AUC-ROC**\n",
    "\n",
    "Чтобы выявить, как сильно наша лучшая модель случайного леса отличается от случайной модели,\n",
    "посчитаем площадь под ROC-кривой — AUC-ROC аналогично тому как делали это для модели дерева решений"
   ]
  },
  {
   "cell_type": "code",
   "execution_count": 67,
   "metadata": {},
   "outputs": [
    {
     "data": {
      "image/png": "[encoded data removed]",
      "text/plain": [
       "<Figure size 432x288 with 1 Axes>"
      ]
     },
     "metadata": {
      "needs_background": "light"
     },
     "output_type": "display_data"
    }
   ],
   "source": [
    "# обучим на тренировочных данных лучшую модель случайного леса\n",
    "best_model_forest = RandomForestClassifier(random_state=42, n_estimators=80, max_depth=9, min_samples_leaf=1, min_samples_split=2)\n",
    "best_model_forest.fit(features_upsampled, target_upsampled)\n",
    " \n",
    "# вероятность положительного класса\n",
    "probabilities_valid_forest = best_model_forest.predict_proba(features_valid)\n",
    "probabilities_one_valid_forest = probabilities_valid_forest[:, 1]\n",
    "\n",
    "fpr_forest, tpr_forest, thresholds_forest = roc_curve(target_valid, probabilities_one_valid_forest)\n",
    "plt.figure()\n",
    "\n",
    "# ROC-кривая модели случайного леса\n",
    "plt.plot(fpr_forest, tpr_forest)\n",
    "\n",
    "# ROC-кривая случайной модели\n",
    "plt.plot([0, 1], [0, 1], linestyle='--')\n",
    "\n",
    "#границы осей\n",
    "plt.xlim([0.0, 1.0])\n",
    "plt.ylim([0.0, 1.0])\n",
    "\n",
    "#подписи осей и заголовок графика\n",
    "plt.xlabel('False Positive Rate')\n",
    "plt.ylabel('True Positive Rate')\n",
    "plt.title('ROC-кривая')\n",
    "\n",
    "plt.show()"
   ]
  },
  {
   "cell_type": "markdown",
   "metadata": {},
   "source": [
    "ROC-кривая нашей лучшей модели случайного леса выглядит значительно лучше чем ROC-кривая случайной модели,  \n",
    "и также она выглядит лучше чем ROC-кривая лучшей модели дерева решений.\n",
    "\n",
    "Посчитаем площадь под ROC-кривой (ROC-AUC)"
   ]
  },
  {
   "cell_type": "code",
   "execution_count": 68,
   "metadata": {},
   "outputs": [
    {
     "data": {
      "text/plain": [
       "0.8507098397643345"
      ]
     },
     "execution_count": 68,
     "metadata": {},
     "output_type": "execute_result"
    }
   ],
   "source": [
    "auc_roc_forest = roc_auc_score(target_valid, probabilities_one_valid_forest)\n",
    "auc_roc_forest"
   ]
  },
  {
   "cell_type": "markdown",
   "metadata": {},
   "source": [
    "Метрика получилась лучше, чем у случайной модели, т.к. 0.85 > 0.5  \n",
    "а также лучше чем у модели дерева решений, т.к. 0.85 > 0.74\n",
    "\n",
    "### Вывод\n",
    "\n",
    "По проведенным в данном пункте исследованиям моделей, можно заключить что мы нашли наилучшую:  \n",
    "это модель случайного леса с следующими гиперпараметрами:   \n",
    "\n",
    "{'max_depth': 9,  \n",
    " 'min_samples_leaf': 1,  \n",
    " 'min_samples_split': 2,  \n",
    " 'n_estimators': 80}  "
   ]
  },
  {
   "cell_type": "markdown",
   "metadata": {},
   "source": [
    "## Тестирование модели\n",
    "\n",
    "Мы подобрали наилучшую модель.  \n",
    "Пришло время проверить её качество на тестовых данных.\n",
    "\n",
    "1. Лучшая модель случайного леса с наилучшими гиперпараметрами уже записана в переменную best_model_forest и обучена на тренировочных данных\n",
    "2. Сделаем предсказание на валидационных и на тестовых данных\n",
    "3. Посчитаем вероятность положительного класса на валидационных данных (для дальнейшего подсчета ROC-AUC)\n",
    "4. Посчитаем F1-меру и ROC-AUC на тестовых и на тренировочных данных, сравним между собой"
   ]
  },
  {
   "cell_type": "code",
   "execution_count": 70,
   "metadata": {},
   "outputs": [
    {
     "name": "stdout",
     "output_type": "stream",
     "text": [
      "Наилучшая модель\n",
      "F1-мера на обучающей выборке:  0.6238145416227607\n",
      "ROC-AUC: 0.8507098397643345\n",
      "\n",
      "F1-мера на тестовой выборке:  0.6031413612565444\n",
      "ROC-AUC: 0.8539675686696018\n"
     ]
    }
   ],
   "source": [
    "predicted_valid_forest = best_model_forest.predict(features_valid)\n",
    "predicted_test_forest = best_model_forest.predict(features_test)\n",
    "\n",
    "probabilities_test_forest = best_model_forest.predict_proba(features_test)\n",
    "probabilities_one_test_forest = probabilities_test_forest[:, 1]\n",
    "\n",
    "print(\"Наилучшая модель\")\n",
    "\n",
    "print(\"F1-мера на обучающей выборке: \", f1_score(target_valid, predicted_valid_forest)) \n",
    "print('ROC-AUC:', roc_auc_score(target_valid, probabilities_one_valid_forest))\n",
    "\n",
    "print()\n",
    "\n",
    "print(\"F1-мера на тестовой выборке: \", f1_score(target_test, predicted_test_forest)) \n",
    "print('ROC-AUC:', roc_auc_score(target_test, probabilities_one_test_forest))"
   ]
  },
  {
   "cell_type": "markdown",
   "metadata": {},
   "source": [
    "Разница между валидационной и тестовой выборками в значениях F1-меры присутствует незначительная (в 2%)  \n",
    "а в значениях ROC-AUC совсем незначительная (меньше 1%).   \n",
    "При этом показатели достаточно высокие (больше требуемого значения 0.59) для того, чтобы считать модель хорошей.   \n",
    "**Можно сделать вывод о том что модель Случайный лес предсказывает адекватно и гиперпараметры подобраны корректно.**"
   ]
  }
 ],
 "metadata": {
  "kernelspec": {
   "display_name": "Python 3",
   "language": "python",
   "name": "python3"
  },
  "language_info": {
   "codemirror_mode": {
    "name": "ipython",
    "version": 3
   },
   "file_extension": ".py",
   "mimetype": "text/x-python",
   "name": "python",
   "nbconvert_exporter": "python",
   "pygments_lexer": "ipython3",
   "version": "3.8.3"
  },
  "toc": {
   "base_numbering": 1,
   "nav_menu": {},
   "number_sections": true,
   "sideBar": true,
   "skip_h1_title": true,
   "title_cell": "Содержание",
   "title_sidebar": "Contents",
   "toc_cell": true,
   "toc_position": {
    "height": "calc(100% - 180px)",
    "left": "10px",
    "top": "150px",
    "width": "240.75px"
   },
   "toc_section_display": true,
   "toc_window_display": false
  }
 },
 "nbformat": 4,
 "nbformat_minor": 2
}
