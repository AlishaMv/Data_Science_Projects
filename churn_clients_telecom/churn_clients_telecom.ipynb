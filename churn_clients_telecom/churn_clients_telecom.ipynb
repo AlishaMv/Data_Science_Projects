{
 "cells": [
  {
   "cell_type": "markdown",
   "metadata": {},
   "source": [
    "# Тема проекта: Телеком. Прогноз оттока клиентов."
   ]
  },
  {
   "cell_type": "markdown",
   "metadata": {},
   "source": [
    "Оператор связи «Ниединогоразрыва.ком» хочет научиться прогнозировать отток клиентов. Если выяснится, что пользователь планирует уйти, ему будут предложены промокоды и специальные условия. Команда оператора собрала персональные данные о некоторых клиентах, информацию об их тарифах и договорах.\n",
    "\n",
    "### Описание услуг\n",
    "\n",
    "Оператор предоставляет два основных типа услуг: \n",
    "\n",
    "1. Стационарную телефонную связь. Возможно подключение телефонного аппарата к нескольким линиям одновременно.\n",
    "2. Интернет. Подключение может быть двух типов: через телефонную линию (DSL*,* от англ. *digital subscriber line*, «цифровая абонентская линия») или оптоволоконный кабель (*Fiber optic*).  \n",
    "\n",
    "Также доступны такие услуги:\n",
    "\n",
    "- Интернет-безопасность: антивирус (*DeviceProtection*) и блокировка небезопасных сайтов (*OnlineSecurity*);\n",
    "- Выделенная линия технической поддержки (*TechSupport*);\n",
    "- Облачное хранилище файлов для резервного копирования данных (*OnlineBackup*);\n",
    "- Стриминговое телевидение (*StreamingTV*) и каталог фильмов (*StreamingMovies*).\n",
    "\n",
    "За услуги клиенты могут платить каждый месяц или заключить договор на 1–2 года. Доступны различные способы расчёта и возможность получения электронного чека.\n",
    "\n",
    "### Постановка задачи\n",
    "\n",
    "Используя предоставленную информацию и данные таблиц, необходимо обучить модель прогнозированию оттока клиентов из компании.  \n",
    "Необходимо решить задачу классификации относящуюся к типу обучение с учителем.\n",
    "\n",
    "Целевой признак: столбец `'EndDate'` равен `'No'`.\n",
    "\n",
    "Основная метрика: AUC-ROC.  \n",
    "Дополнительная метрика: Accuracy.\n",
    "\n",
    "Критерии оценки:\n",
    "\n",
    "- AUC-ROC < 0.75 — 0 sp\n",
    "- 0.75 ≤ AUC-ROC < 0.81 — 4 sp\n",
    "- 0.81 ≤ AUC-ROC < 0.85 — 4.5 sp\n",
    "- 0.85 ≤ AUC-ROC < 0.87 — 5 sp\n",
    "- 0.87 ≤ AUC-ROC < 0.88 — 5.5 sp\n",
    "- AUC-ROC ≥ 0.88 — 6 sp"
   ]
  },
  {
   "cell_type": "markdown",
   "metadata": {},
   "source": [
    "### Описание данных\n",
    "\n",
    "Данные состоят из файлов, полученных из разных источников:\n",
    "\n",
    "- `contract.csv` — информация о договоре;\n",
    "- `personal.csv` — персональные данные клиента;\n",
    "- `internet.csv` — информация об интернет-услугах;\n",
    "- `phone.csv` — информация об услугах телефонии.\n",
    "\n",
    "Во всех файлах столбец `customerID` содержит код клиента.\n",
    "\n",
    "Информация о договорах актуальна на 1 февраля 2020."
   ]
  },
  {
   "cell_type": "markdown",
   "metadata": {},
   "source": [
    "### Импорт необходимых библиотек и загрузка данных\n"
   ]
  },
  {
   "cell_type": "code",
   "execution_count": 1,
   "metadata": {},
   "outputs": [
    {
     "data": {
      "text/html": [
       "        <script type=\"text/javascript\">\n",
       "        window.PlotlyConfig = {MathJaxConfig: 'local'};\n",
       "        if (window.MathJax) {MathJax.Hub.Config({SVG: {font: \"STIX-Web\"}});}\n",
       "        if (typeof require !== 'undefined') {\n",
       "        require.undef(\"plotly\");\n",
       "        requirejs.config({\n",
       "            paths: {\n",
       "                'plotly': ['https://cdn.plot.ly/plotly-latest.min']\n",
       "            }\n",
       "        });\n",
       "        require(['plotly'], function(Plotly) {\n",
       "            window._Plotly = Plotly;\n",
       "        });\n",
       "        }\n",
       "        </script>\n",
       "        "
      ]
     },
     "metadata": {},
     "output_type": "display_data"
    }
   ],
   "source": [
    "# библиотеки работы с данными\n",
    "import pandas as pd \n",
    "import numpy as np \n",
    "\n",
    "# отключаем предупреждения\n",
    "import warnings\n",
    "warnings.filterwarnings('ignore')\n",
    "\n",
    "# обработка исключений для предупреждений pandas (без предупреждения, без исключения)\n",
    "pd.options.mode.chained_assignment = None\n",
    "\n",
    "# предобработка данных\n",
    "from sklearn.model_selection import train_test_split # разделение на выборки\n",
    "from sklearn.preprocessing import LabelEncoder, StandardScaler # кодирование и масштабирование признаков\n",
    "\n",
    "# pandas merge multiple dataframes\n",
    "from functools import reduce\n",
    "\n",
    "# графики\n",
    "import matplotlib.pyplot as plt\n",
    "import plotly.graph_objs as go\n",
    "import plotly.offline as py\n",
    "py.init_notebook_mode(connected=True)\n",
    "\n",
    "# разделение на выборки\n",
    "from sklearn.model_selection import train_test_split  \n",
    "from sklearn.utils import shuffle\n",
    "\n",
    "# модели\n",
    "from sklearn.model_selection import GridSearchCV, RandomizedSearchCV # подбор гиперпараметров модели\n",
    "from sklearn.linear_model import LogisticRegression\n",
    "from sklearn.tree import DecisionTreeClassifier\n",
    "from sklearn.ensemble import RandomForestClassifier\n",
    "from catboost import CatBoostClassifier, Pool\n",
    "from sklearn.dummy import DummyClassifier # базисная модель\n",
    "\n",
    "# метрики\n",
    "from sklearn.metrics import accuracy_score, f1_score, roc_curve, roc_auc_score \n",
    "from sklearn.metrics import precision_score,recall_score, confusion_matrix"
   ]
  },
  {
   "cell_type": "code",
   "execution_count": 2,
   "metadata": {},
   "outputs": [],
   "source": [
    "contract = pd.read_csv(\"/datasets/final_provider/contract.csv\")\n",
    "internet = pd.read_csv(\"/datasets/final_provider/internet.csv\")\n",
    "personal = pd.read_csv(\"/datasets/final_provider/personal.csv\")\n",
    "phone = pd.read_csv(\"/datasets/final_provider/phone.csv\")"
   ]
  },
  {
   "cell_type": "markdown",
   "metadata": {},
   "source": [
    "Таблицы успешно загружены.  "
   ]
  },
  {
   "cell_type": "markdown",
   "metadata": {},
   "source": [
    "## Исследовательский анализ данных\n",
    "\n",
    "Посмотрим на первые 5 строк каждой таблицы, на общую информацию о ней, на количество пропусков и дубликатов.\n",
    "\n",
    "### Информация о договорах"
   ]
  },
  {
   "cell_type": "code",
   "execution_count": 3,
   "metadata": {},
   "outputs": [
    {
     "data": {
      "text/html": [
       "<div>\n",
       "<style scoped>\n",
       "    .dataframe tbody tr th:only-of-type {\n",
       "        vertical-align: middle;\n",
       "    }\n",
       "\n",
       "    .dataframe tbody tr th {\n",
       "        vertical-align: top;\n",
       "    }\n",
       "\n",
       "    .dataframe thead th {\n",
       "        text-align: right;\n",
       "    }\n",
       "</style>\n",
       "<table border=\"1\" class=\"dataframe\">\n",
       "  <thead>\n",
       "    <tr style=\"text-align: right;\">\n",
       "      <th></th>\n",
       "      <th>customerID</th>\n",
       "      <th>BeginDate</th>\n",
       "      <th>EndDate</th>\n",
       "      <th>Type</th>\n",
       "      <th>PaperlessBilling</th>\n",
       "      <th>PaymentMethod</th>\n",
       "      <th>MonthlyCharges</th>\n",
       "      <th>TotalCharges</th>\n",
       "    </tr>\n",
       "  </thead>\n",
       "  <tbody>\n",
       "    <tr>\n",
       "      <th>0</th>\n",
       "      <td>7590-VHVEG</td>\n",
       "      <td>2020-01-01</td>\n",
       "      <td>No</td>\n",
       "      <td>Month-to-month</td>\n",
       "      <td>Yes</td>\n",
       "      <td>Electronic check</td>\n",
       "      <td>29.85</td>\n",
       "      <td>29.85</td>\n",
       "    </tr>\n",
       "    <tr>\n",
       "      <th>1</th>\n",
       "      <td>5575-GNVDE</td>\n",
       "      <td>2017-04-01</td>\n",
       "      <td>No</td>\n",
       "      <td>One year</td>\n",
       "      <td>No</td>\n",
       "      <td>Mailed check</td>\n",
       "      <td>56.95</td>\n",
       "      <td>1889.5</td>\n",
       "    </tr>\n",
       "    <tr>\n",
       "      <th>2</th>\n",
       "      <td>3668-QPYBK</td>\n",
       "      <td>2019-10-01</td>\n",
       "      <td>2019-12-01 00:00:00</td>\n",
       "      <td>Month-to-month</td>\n",
       "      <td>Yes</td>\n",
       "      <td>Mailed check</td>\n",
       "      <td>53.85</td>\n",
       "      <td>108.15</td>\n",
       "    </tr>\n",
       "    <tr>\n",
       "      <th>3</th>\n",
       "      <td>7795-CFOCW</td>\n",
       "      <td>2016-05-01</td>\n",
       "      <td>No</td>\n",
       "      <td>One year</td>\n",
       "      <td>No</td>\n",
       "      <td>Bank transfer (automatic)</td>\n",
       "      <td>42.30</td>\n",
       "      <td>1840.75</td>\n",
       "    </tr>\n",
       "    <tr>\n",
       "      <th>4</th>\n",
       "      <td>9237-HQITU</td>\n",
       "      <td>2019-09-01</td>\n",
       "      <td>2019-11-01 00:00:00</td>\n",
       "      <td>Month-to-month</td>\n",
       "      <td>Yes</td>\n",
       "      <td>Electronic check</td>\n",
       "      <td>70.70</td>\n",
       "      <td>151.65</td>\n",
       "    </tr>\n",
       "  </tbody>\n",
       "</table>\n",
       "</div>"
      ],
      "text/plain": [
       "   customerID   BeginDate              EndDate            Type  \\\n",
       "0  7590-VHVEG  2020-01-01                   No  Month-to-month   \n",
       "1  5575-GNVDE  2017-04-01                   No        One year   \n",
       "2  3668-QPYBK  2019-10-01  2019-12-01 00:00:00  Month-to-month   \n",
       "3  7795-CFOCW  2016-05-01                   No        One year   \n",
       "4  9237-HQITU  2019-09-01  2019-11-01 00:00:00  Month-to-month   \n",
       "\n",
       "  PaperlessBilling              PaymentMethod  MonthlyCharges TotalCharges  \n",
       "0              Yes           Electronic check           29.85        29.85  \n",
       "1               No               Mailed check           56.95       1889.5  \n",
       "2              Yes               Mailed check           53.85       108.15  \n",
       "3               No  Bank transfer (automatic)           42.30      1840.75  \n",
       "4              Yes           Electronic check           70.70       151.65  "
      ]
     },
     "execution_count": 3,
     "metadata": {},
     "output_type": "execute_result"
    }
   ],
   "source": [
    "contract.head()"
   ]
  },
  {
   "cell_type": "code",
   "execution_count": 4,
   "metadata": {},
   "outputs": [
    {
     "data": {
      "text/plain": [
       "(7043, 8)"
      ]
     },
     "execution_count": 4,
     "metadata": {},
     "output_type": "execute_result"
    }
   ],
   "source": [
    "contract.shape"
   ]
  },
  {
   "cell_type": "markdown",
   "metadata": {},
   "source": [
    "В таблице contract содержится 7043 объектов исследования (строк) и 8 признаков объектов (столбцов)\n",
    "\n",
    "Получим список всех признаков:"
   ]
  },
  {
   "cell_type": "code",
   "execution_count": 5,
   "metadata": {},
   "outputs": [
    {
     "data": {
      "text/plain": [
       "['customerID',\n",
       " 'BeginDate',\n",
       " 'EndDate',\n",
       " 'Type',\n",
       " 'PaperlessBilling',\n",
       " 'PaymentMethod',\n",
       " 'MonthlyCharges',\n",
       " 'TotalCharges']"
      ]
     },
     "execution_count": 5,
     "metadata": {},
     "output_type": "execute_result"
    }
   ],
   "source": [
    "contract.columns.tolist()"
   ]
  },
  {
   "cell_type": "markdown",
   "metadata": {},
   "source": [
    "**Описание признаков:**\n",
    "\n",
    "* `customerID` - код клиента\n",
    "* `BeginDate` - дата заключения договора с клиентом\n",
    "* `EndDate` - дата ухода клиента (No - если остался)\n",
    "* `Type` - тип установленного тарифа\n",
    "* `PaperlessBilling` - данные о том, запрашивает ли клиент электронный чек по факту оплаты услуг\n",
    "* `PaymentMethod` - способ оплаты\n",
    "* `MonthlyCharges` - средняя месячная сумма затрат клиента на услуги связи\n",
    "* `TotalCharges` - общая сумма затрат клиента на услуги связи"
   ]
  },
  {
   "cell_type": "markdown",
   "metadata": {},
   "source": [
    "Проверим уникальность клиентов по их ID с учетом пропусков в данных, если они есть:"
   ]
  },
  {
   "cell_type": "code",
   "execution_count": 6,
   "metadata": {},
   "outputs": [
    {
     "data": {
      "text/plain": [
       "7043"
      ]
     },
     "execution_count": 6,
     "metadata": {},
     "output_type": "execute_result"
    }
   ],
   "source": [
    "contract.customerID.nunique(dropna = False)"
   ]
  },
  {
   "cell_type": "markdown",
   "metadata": {},
   "source": [
    "Все клиенты уникальны"
   ]
  },
  {
   "cell_type": "markdown",
   "metadata": {},
   "source": [
    "Посмотрим на типы данных в столбцах:"
   ]
  },
  {
   "cell_type": "code",
   "execution_count": 7,
   "metadata": {},
   "outputs": [
    {
     "data": {
      "text/plain": [
       "customerID           object\n",
       "BeginDate            object\n",
       "EndDate              object\n",
       "Type                 object\n",
       "PaperlessBilling     object\n",
       "PaymentMethod        object\n",
       "MonthlyCharges      float64\n",
       "TotalCharges         object\n",
       "dtype: object"
      ]
     },
     "execution_count": 7,
     "metadata": {},
     "output_type": "execute_result"
    }
   ],
   "source": [
    "contract.dtypes"
   ]
  },
  {
   "cell_type": "markdown",
   "metadata": {},
   "source": [
    "На первый взгляд можно заметить, что не все типы данных в contract корректны. Посмотрим подробнее:"
   ]
  },
  {
   "cell_type": "code",
   "execution_count": 8,
   "metadata": {
    "scrolled": true
   },
   "outputs": [
    {
     "data": {
      "text/html": [
       "<div>\n",
       "<style scoped>\n",
       "    .dataframe tbody tr th:only-of-type {\n",
       "        vertical-align: middle;\n",
       "    }\n",
       "\n",
       "    .dataframe tbody tr th {\n",
       "        vertical-align: top;\n",
       "    }\n",
       "\n",
       "    .dataframe thead th {\n",
       "        text-align: right;\n",
       "    }\n",
       "</style>\n",
       "<table border=\"1\" class=\"dataframe\">\n",
       "  <thead>\n",
       "    <tr style=\"text-align: right;\">\n",
       "      <th></th>\n",
       "      <th>customerID</th>\n",
       "      <th>BeginDate</th>\n",
       "      <th>EndDate</th>\n",
       "      <th>Type</th>\n",
       "      <th>PaperlessBilling</th>\n",
       "      <th>PaymentMethod</th>\n",
       "      <th>TotalCharges</th>\n",
       "    </tr>\n",
       "  </thead>\n",
       "  <tbody>\n",
       "    <tr>\n",
       "      <th>count</th>\n",
       "      <td>7043</td>\n",
       "      <td>7043</td>\n",
       "      <td>7043</td>\n",
       "      <td>7043</td>\n",
       "      <td>7043</td>\n",
       "      <td>7043</td>\n",
       "      <td>7043</td>\n",
       "    </tr>\n",
       "    <tr>\n",
       "      <th>unique</th>\n",
       "      <td>7043</td>\n",
       "      <td>77</td>\n",
       "      <td>5</td>\n",
       "      <td>3</td>\n",
       "      <td>2</td>\n",
       "      <td>4</td>\n",
       "      <td>6531</td>\n",
       "    </tr>\n",
       "    <tr>\n",
       "      <th>top</th>\n",
       "      <td>4423-JWZJN</td>\n",
       "      <td>2014-02-01</td>\n",
       "      <td>No</td>\n",
       "      <td>Month-to-month</td>\n",
       "      <td>Yes</td>\n",
       "      <td>Electronic check</td>\n",
       "      <td>20.2</td>\n",
       "    </tr>\n",
       "    <tr>\n",
       "      <th>freq</th>\n",
       "      <td>1</td>\n",
       "      <td>366</td>\n",
       "      <td>5174</td>\n",
       "      <td>3875</td>\n",
       "      <td>4171</td>\n",
       "      <td>2365</td>\n",
       "      <td>11</td>\n",
       "    </tr>\n",
       "  </tbody>\n",
       "</table>\n",
       "</div>"
      ],
      "text/plain": [
       "        customerID   BeginDate EndDate            Type PaperlessBilling  \\\n",
       "count         7043        7043    7043            7043             7043   \n",
       "unique        7043          77       5               3                2   \n",
       "top     4423-JWZJN  2014-02-01      No  Month-to-month              Yes   \n",
       "freq             1         366    5174            3875             4171   \n",
       "\n",
       "           PaymentMethod TotalCharges  \n",
       "count               7043         7043  \n",
       "unique                 4         6531  \n",
       "top     Electronic check         20.2  \n",
       "freq                2365           11  "
      ]
     },
     "execution_count": 8,
     "metadata": {},
     "output_type": "execute_result"
    }
   ],
   "source": [
    "contract.describe(include=['object'])"
   ]
  },
  {
   "cell_type": "markdown",
   "metadata": {},
   "source": [
    "Количество уникальных наблюдений по столбцам:"
   ]
  },
  {
   "cell_type": "code",
   "execution_count": 9,
   "metadata": {
    "scrolled": false
   },
   "outputs": [
    {
     "data": {
      "text/plain": [
       "customerID          7043\n",
       "BeginDate             77\n",
       "EndDate                5\n",
       "Type                   3\n",
       "PaperlessBilling       2\n",
       "PaymentMethod          4\n",
       "MonthlyCharges      1585\n",
       "TotalCharges        6531\n",
       "dtype: int64"
      ]
     },
     "execution_count": 9,
     "metadata": {},
     "output_type": "execute_result"
    }
   ],
   "source": [
    "contract.nunique()"
   ]
  },
  {
   "cell_type": "markdown",
   "metadata": {},
   "source": [
    "Необходимо изменить типы данных в следующих столбцах:\n",
    "* `BeginDate` - на datetime\n",
    "* `TotalCharges` - на float\n",
    "* `EndDate` - с учетом содержимого, тип данных корректен, но ПРЕДПОЛАГАЮ, что необходимо будет сгенерировать новый столбец `ClientLeft` на его основе, в котором будут следующие отметки:\n",
    "    * `0` - если клиент действующий \n",
    "    * и `1` - если клиент разорвал договор "
   ]
  },
  {
   "cell_type": "markdown",
   "metadata": {},
   "source": [
    "Заменим типы данных сразу, чтобы далее было удобно посмотреть на описание статистик по числовым признакам  \n",
    "Сначала в `BeginDate` - заменим тип на datetime"
   ]
  },
  {
   "cell_type": "code",
   "execution_count": 10,
   "metadata": {},
   "outputs": [],
   "source": [
    "contract['BeginDate'] = pd.to_datetime(contract['BeginDate'], format='%Y-%m-%d')"
   ]
  },
  {
   "cell_type": "markdown",
   "metadata": {},
   "source": [
    "Затем в `TotalCharges` - на float:  \n",
    "\n",
    "при попытке замены типа данных в столбце `TotalCharges` мы получили ошибку невозможности конвертации строки в число,   \n",
    "поэтому теперь проверим содержимое столбца в таких строках:"
   ]
  },
  {
   "cell_type": "code",
   "execution_count": 11,
   "metadata": {},
   "outputs": [
    {
     "data": {
      "text/plain": [
       "     11\n",
       "Name: TotalCharges, dtype: int64"
      ]
     },
     "execution_count": 11,
     "metadata": {},
     "output_type": "execute_result"
    }
   ],
   "source": [
    "contract[pd.to_numeric(contract['TotalCharges'], errors='coerce').isnull()].TotalCharges.value_counts()"
   ]
  },
  {
   "cell_type": "code",
   "execution_count": 12,
   "metadata": {},
   "outputs": [
    {
     "data": {
      "text/plain": [
       "488     True\n",
       "753     True\n",
       "936     True\n",
       "1082    True\n",
       "1340    True\n",
       "3331    True\n",
       "3826    True\n",
       "4380    True\n",
       "5218    True\n",
       "6670    True\n",
       "6754    True\n",
       "Name: TotalCharges, dtype: bool"
      ]
     },
     "execution_count": 12,
     "metadata": {},
     "output_type": "execute_result"
    }
   ],
   "source": [
    "contract[pd.to_numeric(contract['TotalCharges'], errors='coerce').isnull()].TotalCharges == ' '"
   ]
  },
  {
   "cell_type": "markdown",
   "metadata": {},
   "source": [
    "В 11 строках обнаружена пустота, не обозначенная как пропущенное значение, т.к. содержит пробелы.  \n",
    "Теперь произведем замену типа данных на вещественный с доп настройкой для замены вышеупомянутых строк на пропуски: "
   ]
  },
  {
   "cell_type": "code",
   "execution_count": 13,
   "metadata": {},
   "outputs": [],
   "source": [
    "contract['TotalCharges'] = pd.to_numeric(contract['TotalCharges'], errors='coerce')"
   ]
  },
  {
   "cell_type": "markdown",
   "metadata": {},
   "source": [
    "Посмотрим на количество дубликатов и пропусков в contract:"
   ]
  },
  {
   "cell_type": "code",
   "execution_count": 14,
   "metadata": {},
   "outputs": [
    {
     "data": {
      "text/plain": [
       "0"
      ]
     },
     "execution_count": 14,
     "metadata": {},
     "output_type": "execute_result"
    }
   ],
   "source": [
    "contract.duplicated().sum()"
   ]
  },
  {
   "cell_type": "markdown",
   "metadata": {},
   "source": [
    "Дубликатов не найдено."
   ]
  },
  {
   "cell_type": "code",
   "execution_count": 15,
   "metadata": {},
   "outputs": [
    {
     "data": {
      "text/plain": [
       "11"
      ]
     },
     "execution_count": 15,
     "metadata": {},
     "output_type": "execute_result"
    }
   ],
   "source": [
    "contract.isna().sum().sum()"
   ]
  },
  {
   "cell_type": "markdown",
   "metadata": {},
   "source": [
    "В датафрейме определено 11 пропусков (мы сами их создали на предыдущем шаге)  \n",
    "\n",
    "Посмотрим на эти строки:"
   ]
  },
  {
   "cell_type": "code",
   "execution_count": 16,
   "metadata": {},
   "outputs": [
    {
     "data": {
      "text/html": [
       "<div>\n",
       "<style scoped>\n",
       "    .dataframe tbody tr th:only-of-type {\n",
       "        vertical-align: middle;\n",
       "    }\n",
       "\n",
       "    .dataframe tbody tr th {\n",
       "        vertical-align: top;\n",
       "    }\n",
       "\n",
       "    .dataframe thead th {\n",
       "        text-align: right;\n",
       "    }\n",
       "</style>\n",
       "<table border=\"1\" class=\"dataframe\">\n",
       "  <thead>\n",
       "    <tr style=\"text-align: right;\">\n",
       "      <th></th>\n",
       "      <th>customerID</th>\n",
       "      <th>BeginDate</th>\n",
       "      <th>EndDate</th>\n",
       "      <th>Type</th>\n",
       "      <th>PaperlessBilling</th>\n",
       "      <th>PaymentMethod</th>\n",
       "      <th>MonthlyCharges</th>\n",
       "      <th>TotalCharges</th>\n",
       "    </tr>\n",
       "  </thead>\n",
       "  <tbody>\n",
       "    <tr>\n",
       "      <th>488</th>\n",
       "      <td>4472-LVYGI</td>\n",
       "      <td>2020-02-01</td>\n",
       "      <td>No</td>\n",
       "      <td>Two year</td>\n",
       "      <td>Yes</td>\n",
       "      <td>Bank transfer (automatic)</td>\n",
       "      <td>52.55</td>\n",
       "      <td>NaN</td>\n",
       "    </tr>\n",
       "    <tr>\n",
       "      <th>753</th>\n",
       "      <td>3115-CZMZD</td>\n",
       "      <td>2020-02-01</td>\n",
       "      <td>No</td>\n",
       "      <td>Two year</td>\n",
       "      <td>No</td>\n",
       "      <td>Mailed check</td>\n",
       "      <td>20.25</td>\n",
       "      <td>NaN</td>\n",
       "    </tr>\n",
       "    <tr>\n",
       "      <th>936</th>\n",
       "      <td>5709-LVOEQ</td>\n",
       "      <td>2020-02-01</td>\n",
       "      <td>No</td>\n",
       "      <td>Two year</td>\n",
       "      <td>No</td>\n",
       "      <td>Mailed check</td>\n",
       "      <td>80.85</td>\n",
       "      <td>NaN</td>\n",
       "    </tr>\n",
       "    <tr>\n",
       "      <th>1082</th>\n",
       "      <td>4367-NUYAO</td>\n",
       "      <td>2020-02-01</td>\n",
       "      <td>No</td>\n",
       "      <td>Two year</td>\n",
       "      <td>No</td>\n",
       "      <td>Mailed check</td>\n",
       "      <td>25.75</td>\n",
       "      <td>NaN</td>\n",
       "    </tr>\n",
       "    <tr>\n",
       "      <th>1340</th>\n",
       "      <td>1371-DWPAZ</td>\n",
       "      <td>2020-02-01</td>\n",
       "      <td>No</td>\n",
       "      <td>Two year</td>\n",
       "      <td>No</td>\n",
       "      <td>Credit card (automatic)</td>\n",
       "      <td>56.05</td>\n",
       "      <td>NaN</td>\n",
       "    </tr>\n",
       "    <tr>\n",
       "      <th>3331</th>\n",
       "      <td>7644-OMVMY</td>\n",
       "      <td>2020-02-01</td>\n",
       "      <td>No</td>\n",
       "      <td>Two year</td>\n",
       "      <td>No</td>\n",
       "      <td>Mailed check</td>\n",
       "      <td>19.85</td>\n",
       "      <td>NaN</td>\n",
       "    </tr>\n",
       "    <tr>\n",
       "      <th>3826</th>\n",
       "      <td>3213-VVOLG</td>\n",
       "      <td>2020-02-01</td>\n",
       "      <td>No</td>\n",
       "      <td>Two year</td>\n",
       "      <td>No</td>\n",
       "      <td>Mailed check</td>\n",
       "      <td>25.35</td>\n",
       "      <td>NaN</td>\n",
       "    </tr>\n",
       "    <tr>\n",
       "      <th>4380</th>\n",
       "      <td>2520-SGTTA</td>\n",
       "      <td>2020-02-01</td>\n",
       "      <td>No</td>\n",
       "      <td>Two year</td>\n",
       "      <td>No</td>\n",
       "      <td>Mailed check</td>\n",
       "      <td>20.00</td>\n",
       "      <td>NaN</td>\n",
       "    </tr>\n",
       "    <tr>\n",
       "      <th>5218</th>\n",
       "      <td>2923-ARZLG</td>\n",
       "      <td>2020-02-01</td>\n",
       "      <td>No</td>\n",
       "      <td>One year</td>\n",
       "      <td>Yes</td>\n",
       "      <td>Mailed check</td>\n",
       "      <td>19.70</td>\n",
       "      <td>NaN</td>\n",
       "    </tr>\n",
       "    <tr>\n",
       "      <th>6670</th>\n",
       "      <td>4075-WKNIU</td>\n",
       "      <td>2020-02-01</td>\n",
       "      <td>No</td>\n",
       "      <td>Two year</td>\n",
       "      <td>No</td>\n",
       "      <td>Mailed check</td>\n",
       "      <td>73.35</td>\n",
       "      <td>NaN</td>\n",
       "    </tr>\n",
       "    <tr>\n",
       "      <th>6754</th>\n",
       "      <td>2775-SEFEE</td>\n",
       "      <td>2020-02-01</td>\n",
       "      <td>No</td>\n",
       "      <td>Two year</td>\n",
       "      <td>Yes</td>\n",
       "      <td>Bank transfer (automatic)</td>\n",
       "      <td>61.90</td>\n",
       "      <td>NaN</td>\n",
       "    </tr>\n",
       "  </tbody>\n",
       "</table>\n",
       "</div>"
      ],
      "text/plain": [
       "      customerID  BeginDate EndDate      Type PaperlessBilling  \\\n",
       "488   4472-LVYGI 2020-02-01      No  Two year              Yes   \n",
       "753   3115-CZMZD 2020-02-01      No  Two year               No   \n",
       "936   5709-LVOEQ 2020-02-01      No  Two year               No   \n",
       "1082  4367-NUYAO 2020-02-01      No  Two year               No   \n",
       "1340  1371-DWPAZ 2020-02-01      No  Two year               No   \n",
       "3331  7644-OMVMY 2020-02-01      No  Two year               No   \n",
       "3826  3213-VVOLG 2020-02-01      No  Two year               No   \n",
       "4380  2520-SGTTA 2020-02-01      No  Two year               No   \n",
       "5218  2923-ARZLG 2020-02-01      No  One year              Yes   \n",
       "6670  4075-WKNIU 2020-02-01      No  Two year               No   \n",
       "6754  2775-SEFEE 2020-02-01      No  Two year              Yes   \n",
       "\n",
       "                  PaymentMethod  MonthlyCharges  TotalCharges  \n",
       "488   Bank transfer (automatic)           52.55           NaN  \n",
       "753                Mailed check           20.25           NaN  \n",
       "936                Mailed check           80.85           NaN  \n",
       "1082               Mailed check           25.75           NaN  \n",
       "1340    Credit card (automatic)           56.05           NaN  \n",
       "3331               Mailed check           19.85           NaN  \n",
       "3826               Mailed check           25.35           NaN  \n",
       "4380               Mailed check           20.00           NaN  \n",
       "5218               Mailed check           19.70           NaN  \n",
       "6670               Mailed check           73.35           NaN  \n",
       "6754  Bank transfer (automatic)           61.90           NaN  "
      ]
     },
     "execution_count": 16,
     "metadata": {},
     "output_type": "execute_result"
    }
   ],
   "source": [
    "contract[contract.isnull().any(axis=1)]"
   ]
  },
  {
   "cell_type": "code",
   "execution_count": 17,
   "metadata": {},
   "outputs": [
    {
     "data": {
      "text/plain": [
       "11"
      ]
     },
     "execution_count": 17,
     "metadata": {},
     "output_type": "execute_result"
    }
   ],
   "source": [
    "contract[contract.BeginDate == '2020-02-01'].BeginDate.count()"
   ]
  },
  {
   "cell_type": "markdown",
   "metadata": {},
   "source": [
    "Можно отметить, что дата заключения договора в `BeginDate` одинакова у всех 11 вышеперечисленных клиентов: 2020-02-01.  \n",
    "\n",
    "Т.к. крайняя дата записи информации в датафреймы определена как 1 февраля 2020 г, и всего записей с этой датой в датафрейме тоже 11, мы можем сделать вывод что общая потраченная сумма в `TotalCharges` из-за этого некорректно записалась в таблицу (изначально в виде пробелов).  \n",
    "\n",
    "Можно было бы заменить такие пропуски на стоимость тарифа в соответствии с заполненными значениями в столбце `Type` (тип установленного тарифа), но в нашем распоряжении нет таких данных. \n",
    "\n",
    "Поэтому просто удалим эти 11 строк, т.к. это очень малая потеря в разрезе общего количества строк  \n",
    "Сделаем это после мерджа таблиц на этапе предобработки данных."
   ]
  },
  {
   "cell_type": "markdown",
   "metadata": {},
   "source": [
    "Теперь можно посмотреть на статистики по датафрейму:"
   ]
  },
  {
   "cell_type": "code",
   "execution_count": 18,
   "metadata": {},
   "outputs": [
    {
     "data": {
      "text/html": [
       "<div>\n",
       "<style scoped>\n",
       "    .dataframe tbody tr th:only-of-type {\n",
       "        vertical-align: middle;\n",
       "    }\n",
       "\n",
       "    .dataframe tbody tr th {\n",
       "        vertical-align: top;\n",
       "    }\n",
       "\n",
       "    .dataframe thead th {\n",
       "        text-align: right;\n",
       "    }\n",
       "</style>\n",
       "<table border=\"1\" class=\"dataframe\">\n",
       "  <thead>\n",
       "    <tr style=\"text-align: right;\">\n",
       "      <th></th>\n",
       "      <th>MonthlyCharges</th>\n",
       "      <th>TotalCharges</th>\n",
       "    </tr>\n",
       "  </thead>\n",
       "  <tbody>\n",
       "    <tr>\n",
       "      <th>count</th>\n",
       "      <td>7043.000000</td>\n",
       "      <td>7032.000000</td>\n",
       "    </tr>\n",
       "    <tr>\n",
       "      <th>mean</th>\n",
       "      <td>64.761692</td>\n",
       "      <td>2283.300441</td>\n",
       "    </tr>\n",
       "    <tr>\n",
       "      <th>std</th>\n",
       "      <td>30.090047</td>\n",
       "      <td>2266.771362</td>\n",
       "    </tr>\n",
       "    <tr>\n",
       "      <th>min</th>\n",
       "      <td>18.250000</td>\n",
       "      <td>18.800000</td>\n",
       "    </tr>\n",
       "    <tr>\n",
       "      <th>25%</th>\n",
       "      <td>35.500000</td>\n",
       "      <td>401.450000</td>\n",
       "    </tr>\n",
       "    <tr>\n",
       "      <th>50%</th>\n",
       "      <td>70.350000</td>\n",
       "      <td>1397.475000</td>\n",
       "    </tr>\n",
       "    <tr>\n",
       "      <th>75%</th>\n",
       "      <td>89.850000</td>\n",
       "      <td>3794.737500</td>\n",
       "    </tr>\n",
       "    <tr>\n",
       "      <th>max</th>\n",
       "      <td>118.750000</td>\n",
       "      <td>8684.800000</td>\n",
       "    </tr>\n",
       "  </tbody>\n",
       "</table>\n",
       "</div>"
      ],
      "text/plain": [
       "       MonthlyCharges  TotalCharges\n",
       "count     7043.000000   7032.000000\n",
       "mean        64.761692   2283.300441\n",
       "std         30.090047   2266.771362\n",
       "min         18.250000     18.800000\n",
       "25%         35.500000    401.450000\n",
       "50%         70.350000   1397.475000\n",
       "75%         89.850000   3794.737500\n",
       "max        118.750000   8684.800000"
      ]
     },
     "execution_count": 18,
     "metadata": {},
     "output_type": "execute_result"
    }
   ],
   "source": [
    "contract.describe()"
   ]
  },
  {
   "cell_type": "markdown",
   "metadata": {},
   "source": [
    "Видим, что 50% клиентов ежемесячно тратят на услуги связи более 70.3 ден.ед., а в среднем 64,8.  \n",
    "У половины клиентов общее количество затрат на улуги связи - более 1397.5 ден.ед., а в среднем оно равно 2283.3, т.к. максимум общих затрат более чем в 2 раза больше медианы и равен 8684.8. Можно предположить, что такие затраты имеют довольно старые клиенты компании, т.к. тарифа всего 3 и хоть мы и не знаем их стоимости, сразу можно увидеть что среди них не выделено премиальных."
   ]
  },
  {
   "cell_type": "markdown",
   "metadata": {},
   "source": [
    "Посмотрим на графики распределения оставшихся и ушедших клиентов"
   ]
  },
  {
   "cell_type": "code",
   "execution_count": 19,
   "metadata": {},
   "outputs": [],
   "source": [
    "# Клиенты которые не ушли\n",
    "noleft = contract[contract.EndDate == \"No\"]\n",
    "\n",
    "# Клиенты которые ушли \n",
    "left = contract[contract.EndDate != \"No\"]"
   ]
  },
  {
   "cell_type": "code",
   "execution_count": 20,
   "metadata": {},
   "outputs": [
    {
     "data": {
      "image/png": "[encoded data removed]",
      "text/plain": [
       "<Figure size 800x880 with 4 Axes>"
      ]
     },
     "metadata": {},
     "output_type": "display_data"
    }
   ],
   "source": [
    "plt.figure(num=None, figsize=(10, 11), dpi=80, facecolor='w', edgecolor='k')\n",
    "\n",
    "plt.subplot(2, 2, 1)\n",
    "plt.hist(x = noleft['MonthlyCharges'], color = 'g')\n",
    "plt.xlabel('Месячная сумма затрат клиента')\n",
    "plt.title('Клиенты не ушли (мес)')\n",
    "plt.grid()\n",
    "\n",
    "\n",
    "plt.subplot(2, 2, 2)\n",
    "plt.hist(x = noleft['TotalCharges'], color = 'y')\n",
    "plt.xlabel('Общая сумма затрат клиента')\n",
    "plt.title('Клиенты не ушли (общ)')\n",
    "plt.grid()\n",
    "\n",
    "plt.subplot(2, 2, 3)\n",
    "plt.hist(x = left['MonthlyCharges'], color = 'g')\n",
    "plt.xlabel('Месячная сумма затрат клиента')\n",
    "plt.title('Клиенты ушли (мес)')\n",
    "plt.grid()\n",
    "\n",
    "\n",
    "plt.subplot(2, 2, 4)\n",
    "plt.hist(x = left['TotalCharges'], color = 'y')\n",
    "plt.xlabel('Общая сумма затрат клиента')\n",
    "plt.title('Клиенты ушли (общ)')\n",
    "plt.grid()\n",
    "\n",
    "plt.show()"
   ]
  },
  {
   "cell_type": "markdown",
   "metadata": {},
   "source": [
    "По графикам можно предположить, что чаще уходят клиенты с затратами в месяц более 60 ден. ед.,  \n",
    "но с общими затратами менее 2 000 ден.ед., что свидетельствует о том что клиент не задерживается надолго"
   ]
  },
  {
   "cell_type": "markdown",
   "metadata": {},
   "source": [
    "### Персональные данные клиента"
   ]
  },
  {
   "cell_type": "code",
   "execution_count": 21,
   "metadata": {},
   "outputs": [
    {
     "data": {
      "text/html": [
       "<div>\n",
       "<style scoped>\n",
       "    .dataframe tbody tr th:only-of-type {\n",
       "        vertical-align: middle;\n",
       "    }\n",
       "\n",
       "    .dataframe tbody tr th {\n",
       "        vertical-align: top;\n",
       "    }\n",
       "\n",
       "    .dataframe thead th {\n",
       "        text-align: right;\n",
       "    }\n",
       "</style>\n",
       "<table border=\"1\" class=\"dataframe\">\n",
       "  <thead>\n",
       "    <tr style=\"text-align: right;\">\n",
       "      <th></th>\n",
       "      <th>customerID</th>\n",
       "      <th>gender</th>\n",
       "      <th>SeniorCitizen</th>\n",
       "      <th>Partner</th>\n",
       "      <th>Dependents</th>\n",
       "    </tr>\n",
       "  </thead>\n",
       "  <tbody>\n",
       "    <tr>\n",
       "      <th>0</th>\n",
       "      <td>7590-VHVEG</td>\n",
       "      <td>Female</td>\n",
       "      <td>0</td>\n",
       "      <td>Yes</td>\n",
       "      <td>No</td>\n",
       "    </tr>\n",
       "    <tr>\n",
       "      <th>1</th>\n",
       "      <td>5575-GNVDE</td>\n",
       "      <td>Male</td>\n",
       "      <td>0</td>\n",
       "      <td>No</td>\n",
       "      <td>No</td>\n",
       "    </tr>\n",
       "    <tr>\n",
       "      <th>2</th>\n",
       "      <td>3668-QPYBK</td>\n",
       "      <td>Male</td>\n",
       "      <td>0</td>\n",
       "      <td>No</td>\n",
       "      <td>No</td>\n",
       "    </tr>\n",
       "    <tr>\n",
       "      <th>3</th>\n",
       "      <td>7795-CFOCW</td>\n",
       "      <td>Male</td>\n",
       "      <td>0</td>\n",
       "      <td>No</td>\n",
       "      <td>No</td>\n",
       "    </tr>\n",
       "    <tr>\n",
       "      <th>4</th>\n",
       "      <td>9237-HQITU</td>\n",
       "      <td>Female</td>\n",
       "      <td>0</td>\n",
       "      <td>No</td>\n",
       "      <td>No</td>\n",
       "    </tr>\n",
       "  </tbody>\n",
       "</table>\n",
       "</div>"
      ],
      "text/plain": [
       "   customerID  gender  SeniorCitizen Partner Dependents\n",
       "0  7590-VHVEG  Female              0     Yes         No\n",
       "1  5575-GNVDE    Male              0      No         No\n",
       "2  3668-QPYBK    Male              0      No         No\n",
       "3  7795-CFOCW    Male              0      No         No\n",
       "4  9237-HQITU  Female              0      No         No"
      ]
     },
     "execution_count": 21,
     "metadata": {},
     "output_type": "execute_result"
    }
   ],
   "source": [
    "personal.head()"
   ]
  },
  {
   "cell_type": "code",
   "execution_count": 22,
   "metadata": {},
   "outputs": [
    {
     "data": {
      "text/plain": [
       "(7043, 5)"
      ]
     },
     "execution_count": 22,
     "metadata": {},
     "output_type": "execute_result"
    }
   ],
   "source": [
    "personal.shape"
   ]
  },
  {
   "cell_type": "markdown",
   "metadata": {},
   "source": [
    "В таблице 7043 строки и 5 столбцов"
   ]
  },
  {
   "cell_type": "markdown",
   "metadata": {},
   "source": [
    "Получим список всех признаков:"
   ]
  },
  {
   "cell_type": "code",
   "execution_count": 23,
   "metadata": {},
   "outputs": [
    {
     "data": {
      "text/plain": [
       "['customerID', 'gender', 'SeniorCitizen', 'Partner', 'Dependents']"
      ]
     },
     "execution_count": 23,
     "metadata": {},
     "output_type": "execute_result"
    }
   ],
   "source": [
    "personal.columns.tolist()"
   ]
  },
  {
   "cell_type": "markdown",
   "metadata": {},
   "source": [
    "**Описание признаков:**\n",
    "\n",
    "* `customerID` - код клиента\n",
    "* `gender` - пол клиента\n",
    "* `SeniorCitizen` - относится ли клиент к пенсионерам\n",
    "* `Partner` - замужем или женат ли клиент\n",
    "* `Dependents` - наличие у клиента иждивенцев "
   ]
  },
  {
   "cell_type": "markdown",
   "metadata": {},
   "source": [
    "Проверим уникальность клиентов по их ID с учетом пропусков в данных, если они есть,  \n",
    "а также посмотрим на количество уникальных значений по всем столбцам:"
   ]
  },
  {
   "cell_type": "code",
   "execution_count": 24,
   "metadata": {},
   "outputs": [
    {
     "data": {
      "text/plain": [
       "customerID       7043\n",
       "gender              2\n",
       "SeniorCitizen       2\n",
       "Partner             2\n",
       "Dependents          2\n",
       "dtype: int64"
      ]
     },
     "execution_count": 24,
     "metadata": {},
     "output_type": "execute_result"
    }
   ],
   "source": [
    "personal.nunique(dropna = False)"
   ]
  },
  {
   "cell_type": "markdown",
   "metadata": {},
   "source": [
    "Клиенты уникальны  \n",
    "Во всех остальных столбцах определено всего по 2 уникальных значения, следовательно они относятся к категориальным\n",
    "\n",
    "Посмотрим на типы данных в столбцах:"
   ]
  },
  {
   "cell_type": "code",
   "execution_count": 25,
   "metadata": {},
   "outputs": [
    {
     "data": {
      "text/plain": [
       "customerID       object\n",
       "gender           object\n",
       "SeniorCitizen     int64\n",
       "Partner          object\n",
       "Dependents       object\n",
       "dtype: object"
      ]
     },
     "execution_count": 25,
     "metadata": {},
     "output_type": "execute_result"
    }
   ],
   "source": [
    "personal.dtypes"
   ]
  },
  {
   "cell_type": "markdown",
   "metadata": {},
   "source": [
    "Все типы данных корректны\n",
    "\n",
    "Посмотрим на количество дубликатов и пропусков в personal:"
   ]
  },
  {
   "cell_type": "code",
   "execution_count": 26,
   "metadata": {},
   "outputs": [
    {
     "data": {
      "text/plain": [
       "0"
      ]
     },
     "execution_count": 26,
     "metadata": {},
     "output_type": "execute_result"
    }
   ],
   "source": [
    "personal.duplicated().sum()"
   ]
  },
  {
   "cell_type": "code",
   "execution_count": 27,
   "metadata": {},
   "outputs": [
    {
     "data": {
      "text/plain": [
       "0"
      ]
     },
     "execution_count": 27,
     "metadata": {},
     "output_type": "execute_result"
    }
   ],
   "source": [
    "personal.isna().sum().sum()"
   ]
  },
  {
   "cell_type": "markdown",
   "metadata": {},
   "source": [
    "Дубликатов и пропусков не найдено.\n",
    "\n",
    "Посмотрим на описательную статистику по клиентам в таблице personal:"
   ]
  },
  {
   "cell_type": "code",
   "execution_count": 28,
   "metadata": {},
   "outputs": [
    {
     "data": {
      "text/html": [
       "<div>\n",
       "<style scoped>\n",
       "    .dataframe tbody tr th:only-of-type {\n",
       "        vertical-align: middle;\n",
       "    }\n",
       "\n",
       "    .dataframe tbody tr th {\n",
       "        vertical-align: top;\n",
       "    }\n",
       "\n",
       "    .dataframe thead th {\n",
       "        text-align: right;\n",
       "    }\n",
       "</style>\n",
       "<table border=\"1\" class=\"dataframe\">\n",
       "  <thead>\n",
       "    <tr style=\"text-align: right;\">\n",
       "      <th></th>\n",
       "      <th>customerID</th>\n",
       "      <th>gender</th>\n",
       "      <th>Partner</th>\n",
       "      <th>Dependents</th>\n",
       "    </tr>\n",
       "  </thead>\n",
       "  <tbody>\n",
       "    <tr>\n",
       "      <th>count</th>\n",
       "      <td>7043</td>\n",
       "      <td>7043</td>\n",
       "      <td>7043</td>\n",
       "      <td>7043</td>\n",
       "    </tr>\n",
       "    <tr>\n",
       "      <th>unique</th>\n",
       "      <td>7043</td>\n",
       "      <td>2</td>\n",
       "      <td>2</td>\n",
       "      <td>2</td>\n",
       "    </tr>\n",
       "    <tr>\n",
       "      <th>top</th>\n",
       "      <td>4423-JWZJN</td>\n",
       "      <td>Male</td>\n",
       "      <td>No</td>\n",
       "      <td>No</td>\n",
       "    </tr>\n",
       "    <tr>\n",
       "      <th>freq</th>\n",
       "      <td>1</td>\n",
       "      <td>3555</td>\n",
       "      <td>3641</td>\n",
       "      <td>4933</td>\n",
       "    </tr>\n",
       "  </tbody>\n",
       "</table>\n",
       "</div>"
      ],
      "text/plain": [
       "        customerID gender Partner Dependents\n",
       "count         7043   7043    7043       7043\n",
       "unique        7043      2       2          2\n",
       "top     4423-JWZJN   Male      No         No\n",
       "freq             1   3555    3641       4933"
      ]
     },
     "execution_count": 28,
     "metadata": {},
     "output_type": "execute_result"
    }
   ],
   "source": [
    "personal.describe(include=['object'])"
   ]
  },
  {
   "cell_type": "markdown",
   "metadata": {},
   "source": [
    "Основное количество клиентов - люди мужского пола, не в отношениях, без детей / иждивенцев\n",
    "\n",
    "Посмотрим также сходится ли количество клиентов из таблицы `personal` и `договоров` из таблицы contract:"
   ]
  },
  {
   "cell_type": "code",
   "execution_count": 29,
   "metadata": {},
   "outputs": [
    {
     "data": {
      "text/plain": [
       "True"
      ]
     },
     "execution_count": 29,
     "metadata": {},
     "output_type": "execute_result"
    }
   ],
   "source": [
    "contract.customerID.nunique() == personal.customerID.nunique()"
   ]
  },
  {
   "cell_type": "code",
   "execution_count": 30,
   "metadata": {},
   "outputs": [
    {
     "data": {
      "text/plain": [
       "7043"
      ]
     },
     "execution_count": 30,
     "metadata": {},
     "output_type": "execute_result"
    }
   ],
   "source": [
    "personal.customerID.nunique()"
   ]
  },
  {
   "cell_type": "markdown",
   "metadata": {},
   "source": [
    "Количество контрактов равно количеству клиентов (7043).  \n",
    "Здесь можно сделать предположение о том, что если значения в столбцах `customerID` обеих таблиц совпадают, то у каждого клиента из таблицы personal имеется 1 контракт с оператором связи «Ниединогоразрыва.ком» из таблицы contract."
   ]
  },
  {
   "cell_type": "markdown",
   "metadata": {},
   "source": [
    "### Информация об интернет-услугах"
   ]
  },
  {
   "cell_type": "code",
   "execution_count": 31,
   "metadata": {},
   "outputs": [
    {
     "data": {
      "text/html": [
       "<div>\n",
       "<style scoped>\n",
       "    .dataframe tbody tr th:only-of-type {\n",
       "        vertical-align: middle;\n",
       "    }\n",
       "\n",
       "    .dataframe tbody tr th {\n",
       "        vertical-align: top;\n",
       "    }\n",
       "\n",
       "    .dataframe thead th {\n",
       "        text-align: right;\n",
       "    }\n",
       "</style>\n",
       "<table border=\"1\" class=\"dataframe\">\n",
       "  <thead>\n",
       "    <tr style=\"text-align: right;\">\n",
       "      <th></th>\n",
       "      <th>customerID</th>\n",
       "      <th>InternetService</th>\n",
       "      <th>OnlineSecurity</th>\n",
       "      <th>OnlineBackup</th>\n",
       "      <th>DeviceProtection</th>\n",
       "      <th>TechSupport</th>\n",
       "      <th>StreamingTV</th>\n",
       "      <th>StreamingMovies</th>\n",
       "    </tr>\n",
       "  </thead>\n",
       "  <tbody>\n",
       "    <tr>\n",
       "      <th>0</th>\n",
       "      <td>7590-VHVEG</td>\n",
       "      <td>DSL</td>\n",
       "      <td>No</td>\n",
       "      <td>Yes</td>\n",
       "      <td>No</td>\n",
       "      <td>No</td>\n",
       "      <td>No</td>\n",
       "      <td>No</td>\n",
       "    </tr>\n",
       "    <tr>\n",
       "      <th>1</th>\n",
       "      <td>5575-GNVDE</td>\n",
       "      <td>DSL</td>\n",
       "      <td>Yes</td>\n",
       "      <td>No</td>\n",
       "      <td>Yes</td>\n",
       "      <td>No</td>\n",
       "      <td>No</td>\n",
       "      <td>No</td>\n",
       "    </tr>\n",
       "    <tr>\n",
       "      <th>2</th>\n",
       "      <td>3668-QPYBK</td>\n",
       "      <td>DSL</td>\n",
       "      <td>Yes</td>\n",
       "      <td>Yes</td>\n",
       "      <td>No</td>\n",
       "      <td>No</td>\n",
       "      <td>No</td>\n",
       "      <td>No</td>\n",
       "    </tr>\n",
       "    <tr>\n",
       "      <th>3</th>\n",
       "      <td>7795-CFOCW</td>\n",
       "      <td>DSL</td>\n",
       "      <td>Yes</td>\n",
       "      <td>No</td>\n",
       "      <td>Yes</td>\n",
       "      <td>Yes</td>\n",
       "      <td>No</td>\n",
       "      <td>No</td>\n",
       "    </tr>\n",
       "    <tr>\n",
       "      <th>4</th>\n",
       "      <td>9237-HQITU</td>\n",
       "      <td>Fiber optic</td>\n",
       "      <td>No</td>\n",
       "      <td>No</td>\n",
       "      <td>No</td>\n",
       "      <td>No</td>\n",
       "      <td>No</td>\n",
       "      <td>No</td>\n",
       "    </tr>\n",
       "  </tbody>\n",
       "</table>\n",
       "</div>"
      ],
      "text/plain": [
       "   customerID InternetService OnlineSecurity OnlineBackup DeviceProtection  \\\n",
       "0  7590-VHVEG             DSL             No          Yes               No   \n",
       "1  5575-GNVDE             DSL            Yes           No              Yes   \n",
       "2  3668-QPYBK             DSL            Yes          Yes               No   \n",
       "3  7795-CFOCW             DSL            Yes           No              Yes   \n",
       "4  9237-HQITU     Fiber optic             No           No               No   \n",
       "\n",
       "  TechSupport StreamingTV StreamingMovies  \n",
       "0          No          No              No  \n",
       "1          No          No              No  \n",
       "2          No          No              No  \n",
       "3         Yes          No              No  \n",
       "4          No          No              No  "
      ]
     },
     "execution_count": 31,
     "metadata": {},
     "output_type": "execute_result"
    }
   ],
   "source": [
    "internet.head()"
   ]
  },
  {
   "cell_type": "code",
   "execution_count": 32,
   "metadata": {},
   "outputs": [
    {
     "data": {
      "text/plain": [
       "(5517, 8)"
      ]
     },
     "execution_count": 32,
     "metadata": {},
     "output_type": "execute_result"
    }
   ],
   "source": [
    "internet.shape"
   ]
  },
  {
   "cell_type": "markdown",
   "metadata": {},
   "source": [
    "В таблице определено 5517 строк и 8 столбцов\n",
    "\n",
    "Получим список всех признаков:"
   ]
  },
  {
   "cell_type": "code",
   "execution_count": 33,
   "metadata": {},
   "outputs": [
    {
     "data": {
      "text/plain": [
       "['customerID',\n",
       " 'InternetService',\n",
       " 'OnlineSecurity',\n",
       " 'OnlineBackup',\n",
       " 'DeviceProtection',\n",
       " 'TechSupport',\n",
       " 'StreamingTV',\n",
       " 'StreamingMovies']"
      ]
     },
     "execution_count": 33,
     "metadata": {},
     "output_type": "execute_result"
    }
   ],
   "source": [
    "internet.columns.tolist()"
   ]
  },
  {
   "cell_type": "markdown",
   "metadata": {},
   "source": [
    "**Описание признаков:**\n",
    "* `customerID` - код клиента\n",
    "* `InternetService` - тип подключения\n",
    "* `OnlineSecurity` - интернет-безопасность: блокировка небезопасных сайтов\n",
    "* `OnlineBackup` - облачное хранилище файлов для резервного копирования данных\n",
    "* `DeviceProtection` - интернет-безопасность: антивирус\n",
    "* `TechSupport` - выделенная линия технической поддержки\n",
    "* `StreamingTV` - стриминговое телевидение\n",
    "* `StreamingMovies` - каталог фильмов"
   ]
  },
  {
   "cell_type": "markdown",
   "metadata": {},
   "source": [
    "Проверим уникальность клиентов по их ID с учетом пропусков в данных, если они есть,  \n",
    "а также посмотрим на количество уникальных значений по всем столбцам:"
   ]
  },
  {
   "cell_type": "code",
   "execution_count": 34,
   "metadata": {},
   "outputs": [
    {
     "data": {
      "text/plain": [
       "customerID          5517\n",
       "InternetService        2\n",
       "OnlineSecurity         2\n",
       "OnlineBackup           2\n",
       "DeviceProtection       2\n",
       "TechSupport            2\n",
       "StreamingTV            2\n",
       "StreamingMovies        2\n",
       "dtype: int64"
      ]
     },
     "execution_count": 34,
     "metadata": {},
     "output_type": "execute_result"
    }
   ],
   "source": [
    "internet.nunique(dropna = False)"
   ]
  },
  {
   "cell_type": "markdown",
   "metadata": {},
   "source": [
    "Клиенты уникальны  \n",
    "Во всех остальных столбцах определено всего по 2 уникальных значения, следовательно они относятся к категориальным\n",
    "\n",
    "Посмотрим на типы данных в столбцах:"
   ]
  },
  {
   "cell_type": "code",
   "execution_count": 35,
   "metadata": {},
   "outputs": [
    {
     "data": {
      "text/plain": [
       "customerID          object\n",
       "InternetService     object\n",
       "OnlineSecurity      object\n",
       "OnlineBackup        object\n",
       "DeviceProtection    object\n",
       "TechSupport         object\n",
       "StreamingTV         object\n",
       "StreamingMovies     object\n",
       "dtype: object"
      ]
     },
     "execution_count": 35,
     "metadata": {},
     "output_type": "execute_result"
    }
   ],
   "source": [
    "internet.dtypes"
   ]
  },
  {
   "cell_type": "markdown",
   "metadata": {},
   "source": [
    "Все типы данных корректны\n",
    "\n",
    "Посмотрим на количество дубликатов и пропусков в internet:"
   ]
  },
  {
   "cell_type": "code",
   "execution_count": 36,
   "metadata": {},
   "outputs": [
    {
     "data": {
      "text/plain": [
       "0"
      ]
     },
     "execution_count": 36,
     "metadata": {},
     "output_type": "execute_result"
    }
   ],
   "source": [
    "internet.duplicated().sum()"
   ]
  },
  {
   "cell_type": "code",
   "execution_count": 37,
   "metadata": {},
   "outputs": [
    {
     "data": {
      "text/plain": [
       "0"
      ]
     },
     "execution_count": 37,
     "metadata": {},
     "output_type": "execute_result"
    }
   ],
   "source": [
    "internet.isna().sum().sum()"
   ]
  },
  {
   "cell_type": "markdown",
   "metadata": {},
   "source": [
    "Дубликатов и пропусков не найдено.\n",
    "\n",
    "Посмотрим на описательную статистику по интернет-услугам в таблице internet:"
   ]
  },
  {
   "cell_type": "code",
   "execution_count": 38,
   "metadata": {},
   "outputs": [
    {
     "data": {
      "text/html": [
       "<div>\n",
       "<style scoped>\n",
       "    .dataframe tbody tr th:only-of-type {\n",
       "        vertical-align: middle;\n",
       "    }\n",
       "\n",
       "    .dataframe tbody tr th {\n",
       "        vertical-align: top;\n",
       "    }\n",
       "\n",
       "    .dataframe thead th {\n",
       "        text-align: right;\n",
       "    }\n",
       "</style>\n",
       "<table border=\"1\" class=\"dataframe\">\n",
       "  <thead>\n",
       "    <tr style=\"text-align: right;\">\n",
       "      <th></th>\n",
       "      <th>customerID</th>\n",
       "      <th>InternetService</th>\n",
       "      <th>OnlineSecurity</th>\n",
       "      <th>OnlineBackup</th>\n",
       "      <th>DeviceProtection</th>\n",
       "      <th>TechSupport</th>\n",
       "      <th>StreamingTV</th>\n",
       "      <th>StreamingMovies</th>\n",
       "    </tr>\n",
       "  </thead>\n",
       "  <tbody>\n",
       "    <tr>\n",
       "      <th>count</th>\n",
       "      <td>5517</td>\n",
       "      <td>5517</td>\n",
       "      <td>5517</td>\n",
       "      <td>5517</td>\n",
       "      <td>5517</td>\n",
       "      <td>5517</td>\n",
       "      <td>5517</td>\n",
       "      <td>5517</td>\n",
       "    </tr>\n",
       "    <tr>\n",
       "      <th>unique</th>\n",
       "      <td>5517</td>\n",
       "      <td>2</td>\n",
       "      <td>2</td>\n",
       "      <td>2</td>\n",
       "      <td>2</td>\n",
       "      <td>2</td>\n",
       "      <td>2</td>\n",
       "      <td>2</td>\n",
       "    </tr>\n",
       "    <tr>\n",
       "      <th>top</th>\n",
       "      <td>3071-VBYPO</td>\n",
       "      <td>Fiber optic</td>\n",
       "      <td>No</td>\n",
       "      <td>No</td>\n",
       "      <td>No</td>\n",
       "      <td>No</td>\n",
       "      <td>No</td>\n",
       "      <td>No</td>\n",
       "    </tr>\n",
       "    <tr>\n",
       "      <th>freq</th>\n",
       "      <td>1</td>\n",
       "      <td>3096</td>\n",
       "      <td>3498</td>\n",
       "      <td>3088</td>\n",
       "      <td>3095</td>\n",
       "      <td>3473</td>\n",
       "      <td>2810</td>\n",
       "      <td>2785</td>\n",
       "    </tr>\n",
       "  </tbody>\n",
       "</table>\n",
       "</div>"
      ],
      "text/plain": [
       "        customerID InternetService OnlineSecurity OnlineBackup  \\\n",
       "count         5517            5517           5517         5517   \n",
       "unique        5517               2              2            2   \n",
       "top     3071-VBYPO     Fiber optic             No           No   \n",
       "freq             1            3096           3498         3088   \n",
       "\n",
       "       DeviceProtection TechSupport StreamingTV StreamingMovies  \n",
       "count              5517        5517        5517            5517  \n",
       "unique                2           2           2               2  \n",
       "top                  No          No          No              No  \n",
       "freq               3095        3473        2810            2785  "
      ]
     },
     "execution_count": 38,
     "metadata": {},
     "output_type": "execute_result"
    }
   ],
   "source": [
    "internet.describe(include=['object'])"
   ]
  },
  {
   "cell_type": "markdown",
   "metadata": {},
   "source": [
    "Самое популярное подключение к сети - оптоволоконный кабель  \n",
    "без антивируса, блокировки небезопасных сайтов, выделенной линии тех поддержки, облака, каталога фильмов и стримингового тв."
   ]
  },
  {
   "cell_type": "markdown",
   "metadata": {},
   "source": [
    "### Информация об услугах телефонии"
   ]
  },
  {
   "cell_type": "code",
   "execution_count": 39,
   "metadata": {},
   "outputs": [
    {
     "data": {
      "text/html": [
       "<div>\n",
       "<style scoped>\n",
       "    .dataframe tbody tr th:only-of-type {\n",
       "        vertical-align: middle;\n",
       "    }\n",
       "\n",
       "    .dataframe tbody tr th {\n",
       "        vertical-align: top;\n",
       "    }\n",
       "\n",
       "    .dataframe thead th {\n",
       "        text-align: right;\n",
       "    }\n",
       "</style>\n",
       "<table border=\"1\" class=\"dataframe\">\n",
       "  <thead>\n",
       "    <tr style=\"text-align: right;\">\n",
       "      <th></th>\n",
       "      <th>customerID</th>\n",
       "      <th>MultipleLines</th>\n",
       "    </tr>\n",
       "  </thead>\n",
       "  <tbody>\n",
       "    <tr>\n",
       "      <th>0</th>\n",
       "      <td>5575-GNVDE</td>\n",
       "      <td>No</td>\n",
       "    </tr>\n",
       "    <tr>\n",
       "      <th>1</th>\n",
       "      <td>3668-QPYBK</td>\n",
       "      <td>No</td>\n",
       "    </tr>\n",
       "    <tr>\n",
       "      <th>2</th>\n",
       "      <td>9237-HQITU</td>\n",
       "      <td>No</td>\n",
       "    </tr>\n",
       "    <tr>\n",
       "      <th>3</th>\n",
       "      <td>9305-CDSKC</td>\n",
       "      <td>Yes</td>\n",
       "    </tr>\n",
       "    <tr>\n",
       "      <th>4</th>\n",
       "      <td>1452-KIOVK</td>\n",
       "      <td>Yes</td>\n",
       "    </tr>\n",
       "  </tbody>\n",
       "</table>\n",
       "</div>"
      ],
      "text/plain": [
       "   customerID MultipleLines\n",
       "0  5575-GNVDE            No\n",
       "1  3668-QPYBK            No\n",
       "2  9237-HQITU            No\n",
       "3  9305-CDSKC           Yes\n",
       "4  1452-KIOVK           Yes"
      ]
     },
     "execution_count": 39,
     "metadata": {},
     "output_type": "execute_result"
    }
   ],
   "source": [
    "phone.head()"
   ]
  },
  {
   "cell_type": "code",
   "execution_count": 40,
   "metadata": {},
   "outputs": [
    {
     "data": {
      "text/plain": [
       "(6361, 2)"
      ]
     },
     "execution_count": 40,
     "metadata": {},
     "output_type": "execute_result"
    }
   ],
   "source": [
    "phone.shape"
   ]
  },
  {
   "cell_type": "markdown",
   "metadata": {},
   "source": [
    "В таблице определено 6361 строк и 2 столбца  \n",
    "\n",
    "Проверим уникальность клиентов по их ID с учетом пропусков в данных, если они есть,  \n",
    "а также посмотрим на количество уникальных значений по другому столбцу:"
   ]
  },
  {
   "cell_type": "code",
   "execution_count": 41,
   "metadata": {},
   "outputs": [
    {
     "data": {
      "text/plain": [
       "customerID       6361\n",
       "MultipleLines       2\n",
       "dtype: int64"
      ]
     },
     "execution_count": 41,
     "metadata": {},
     "output_type": "execute_result"
    }
   ],
   "source": [
    "phone.nunique(dropna = False)"
   ]
  },
  {
   "cell_type": "markdown",
   "metadata": {},
   "source": [
    "Клиенты уникальны  \n",
    "В столбце `MultipleLines` определено всего 2 уникальных значения\n",
    "\n",
    "Посмотрим на типы данных в столбцах:"
   ]
  },
  {
   "cell_type": "code",
   "execution_count": 42,
   "metadata": {},
   "outputs": [
    {
     "data": {
      "text/plain": [
       "customerID       object\n",
       "MultipleLines    object\n",
       "dtype: object"
      ]
     },
     "execution_count": 42,
     "metadata": {},
     "output_type": "execute_result"
    }
   ],
   "source": [
    "phone.dtypes"
   ]
  },
  {
   "cell_type": "markdown",
   "metadata": {},
   "source": [
    "Все типы данных корректны\n",
    "\n",
    "Получим список признаков:"
   ]
  },
  {
   "cell_type": "code",
   "execution_count": 43,
   "metadata": {},
   "outputs": [
    {
     "data": {
      "text/plain": [
       "['customerID', 'MultipleLines']"
      ]
     },
     "execution_count": 43,
     "metadata": {},
     "output_type": "execute_result"
    }
   ],
   "source": [
    "phone.columns.tolist()"
   ]
  },
  {
   "cell_type": "markdown",
   "metadata": {},
   "source": [
    "**Описание признаков:**\n",
    "* `customerID` - код клиента\n",
    "* `MultipleLines` - наличие подключения к телефонной линии"
   ]
  },
  {
   "cell_type": "markdown",
   "metadata": {},
   "source": [
    "Посмотрим на количество дубликатов и пропусков в internet:"
   ]
  },
  {
   "cell_type": "code",
   "execution_count": 44,
   "metadata": {},
   "outputs": [
    {
     "data": {
      "text/plain": [
       "0"
      ]
     },
     "execution_count": 44,
     "metadata": {},
     "output_type": "execute_result"
    }
   ],
   "source": [
    "phone.duplicated().sum()"
   ]
  },
  {
   "cell_type": "code",
   "execution_count": 45,
   "metadata": {},
   "outputs": [
    {
     "data": {
      "text/plain": [
       "0"
      ]
     },
     "execution_count": 45,
     "metadata": {},
     "output_type": "execute_result"
    }
   ],
   "source": [
    "phone.isna().sum().sum()"
   ]
  },
  {
   "cell_type": "markdown",
   "metadata": {},
   "source": [
    "Дубликатов и пропусков не найдено.\n",
    "\n",
    "Посмотрим на описательную статистику:"
   ]
  },
  {
   "cell_type": "code",
   "execution_count": 46,
   "metadata": {},
   "outputs": [
    {
     "data": {
      "text/html": [
       "<div>\n",
       "<style scoped>\n",
       "    .dataframe tbody tr th:only-of-type {\n",
       "        vertical-align: middle;\n",
       "    }\n",
       "\n",
       "    .dataframe tbody tr th {\n",
       "        vertical-align: top;\n",
       "    }\n",
       "\n",
       "    .dataframe thead th {\n",
       "        text-align: right;\n",
       "    }\n",
       "</style>\n",
       "<table border=\"1\" class=\"dataframe\">\n",
       "  <thead>\n",
       "    <tr style=\"text-align: right;\">\n",
       "      <th></th>\n",
       "      <th>customerID</th>\n",
       "      <th>MultipleLines</th>\n",
       "    </tr>\n",
       "  </thead>\n",
       "  <tbody>\n",
       "    <tr>\n",
       "      <th>count</th>\n",
       "      <td>6361</td>\n",
       "      <td>6361</td>\n",
       "    </tr>\n",
       "    <tr>\n",
       "      <th>unique</th>\n",
       "      <td>6361</td>\n",
       "      <td>2</td>\n",
       "    </tr>\n",
       "    <tr>\n",
       "      <th>top</th>\n",
       "      <td>4423-JWZJN</td>\n",
       "      <td>No</td>\n",
       "    </tr>\n",
       "    <tr>\n",
       "      <th>freq</th>\n",
       "      <td>1</td>\n",
       "      <td>3390</td>\n",
       "    </tr>\n",
       "  </tbody>\n",
       "</table>\n",
       "</div>"
      ],
      "text/plain": [
       "        customerID MultipleLines\n",
       "count         6361          6361\n",
       "unique        6361             2\n",
       "top     4423-JWZJN            No\n",
       "freq             1          3390"
      ]
     },
     "execution_count": 46,
     "metadata": {},
     "output_type": "execute_result"
    }
   ],
   "source": [
    "phone.describe(include=['object'])"
   ]
  },
  {
   "cell_type": "markdown",
   "metadata": {},
   "source": [
    "Основное количество клиентов не пользуется подключением к услугам телефонии"
   ]
  },
  {
   "cell_type": "markdown",
   "metadata": {},
   "source": [
    "### Вывод\n",
    "\n",
    "На этапе анализа данных, мы просмотрели все таблицы и выяснили несколько важных моментов:\n",
    "* все коды клиентов уникальны в каждой таблице - это очень удачная основа для дальнейшего объединения таблиц в одну единую\n",
    "* количество уникальных клиентов соответсвует количеству уникальных контрактов, что является основой для предположения что у каждого клиента из таблицы personal есть контракт в таблице contract, а следовательно и остальная информация о нем\n",
    "* пропуски в малом количестве есть только на позициях общих затрат у клиентов, оформивших контракт в последний день выгрузки данных из системы, что является логичным их объяснением\n",
    "* у дат неверно определен тип данных\n",
    "* таблицы с информацией об интернет-услугах и услугах телефонии содержат значительно меньше строк, чем contract и personal: это означает, что не каждый клиент пользуется услугами на полную катушку :) можно предположить, что одни пользуются только телефоном, другие только интернетом, и очень немногие и тем, и другим сразу\n",
    "* самое популярное подключение к сети - оптоволоконный кабель\n",
    "* также по графикам мы определили, что клиенты с затратами в месяц более 60 ден. ед. в основном не задерживаются надолго"
   ]
  },
  {
   "cell_type": "markdown",
   "metadata": {},
   "source": [
    "## Предобработка данных"
   ]
  },
  {
   "cell_type": "markdown",
   "metadata": {},
   "source": [
    "### Объединение датафреймов\n",
    "\n",
    "Объединим все 4 датафрейма по общему столбцу с кодом клиента `customerID` и удостоверимся что данные не потерялись "
   ]
  },
  {
   "cell_type": "code",
   "execution_count": 67,
   "metadata": {},
   "outputs": [
    {
     "data": {
      "text/plain": [
       "(7043, 20)"
      ]
     },
     "execution_count": 67,
     "metadata": {},
     "output_type": "execute_result"
    }
   ],
   "source": [
    "dfs = [contract, personal, internet, phone]\n",
    "df = reduce(lambda  left, right: pd.merge(left, right, on=['customerID'], how='outer'), dfs)\n",
    "\n",
    "df.shape"
   ]
  },
  {
   "cell_type": "code",
   "execution_count": 68,
   "metadata": {},
   "outputs": [
    {
     "data": {
      "text/plain": [
       "7043"
      ]
     },
     "execution_count": 68,
     "metadata": {},
     "output_type": "execute_result"
    }
   ],
   "source": [
    "df.customerID.nunique()"
   ]
  },
  {
   "cell_type": "code",
   "execution_count": 69,
   "metadata": {},
   "outputs": [
    {
     "data": {
      "text/html": [
       "<div>\n",
       "<style scoped>\n",
       "    .dataframe tbody tr th:only-of-type {\n",
       "        vertical-align: middle;\n",
       "    }\n",
       "\n",
       "    .dataframe tbody tr th {\n",
       "        vertical-align: top;\n",
       "    }\n",
       "\n",
       "    .dataframe thead th {\n",
       "        text-align: right;\n",
       "    }\n",
       "</style>\n",
       "<table border=\"1\" class=\"dataframe\">\n",
       "  <thead>\n",
       "    <tr style=\"text-align: right;\">\n",
       "      <th></th>\n",
       "      <th>0</th>\n",
       "      <th>1</th>\n",
       "      <th>2</th>\n",
       "      <th>3</th>\n",
       "      <th>4</th>\n",
       "      <th>5</th>\n",
       "      <th>6</th>\n",
       "      <th>7</th>\n",
       "      <th>8</th>\n",
       "      <th>9</th>\n",
       "      <th>...</th>\n",
       "      <th>7033</th>\n",
       "      <th>7034</th>\n",
       "      <th>7035</th>\n",
       "      <th>7036</th>\n",
       "      <th>7037</th>\n",
       "      <th>7038</th>\n",
       "      <th>7039</th>\n",
       "      <th>7040</th>\n",
       "      <th>7041</th>\n",
       "      <th>7042</th>\n",
       "    </tr>\n",
       "  </thead>\n",
       "  <tbody>\n",
       "    <tr>\n",
       "      <th>customerID</th>\n",
       "      <td>7590-VHVEG</td>\n",
       "      <td>5575-GNVDE</td>\n",
       "      <td>3668-QPYBK</td>\n",
       "      <td>7795-CFOCW</td>\n",
       "      <td>9237-HQITU</td>\n",
       "      <td>9305-CDSKC</td>\n",
       "      <td>1452-KIOVK</td>\n",
       "      <td>6713-OKOMC</td>\n",
       "      <td>7892-POOKP</td>\n",
       "      <td>6388-TABGU</td>\n",
       "      <td>...</td>\n",
       "      <td>9767-FFLEM</td>\n",
       "      <td>0639-TSIQW</td>\n",
       "      <td>8456-QDAVC</td>\n",
       "      <td>7750-EYXWZ</td>\n",
       "      <td>2569-WGERO</td>\n",
       "      <td>6840-RESVB</td>\n",
       "      <td>2234-XADUH</td>\n",
       "      <td>4801-JZAZL</td>\n",
       "      <td>8361-LTMKD</td>\n",
       "      <td>3186-AJIEK</td>\n",
       "    </tr>\n",
       "    <tr>\n",
       "      <th>BeginDate</th>\n",
       "      <td>2020-01-01 00:00:00</td>\n",
       "      <td>2017-04-01 00:00:00</td>\n",
       "      <td>2019-10-01 00:00:00</td>\n",
       "      <td>2016-05-01 00:00:00</td>\n",
       "      <td>2019-09-01 00:00:00</td>\n",
       "      <td>2019-03-01 00:00:00</td>\n",
       "      <td>2018-04-01 00:00:00</td>\n",
       "      <td>2019-04-01 00:00:00</td>\n",
       "      <td>2017-07-01 00:00:00</td>\n",
       "      <td>2014-12-01 00:00:00</td>\n",
       "      <td>...</td>\n",
       "      <td>2016-12-01 00:00:00</td>\n",
       "      <td>2014-03-01 00:00:00</td>\n",
       "      <td>2018-07-01 00:00:00</td>\n",
       "      <td>2019-02-01 00:00:00</td>\n",
       "      <td>2014-02-01 00:00:00</td>\n",
       "      <td>2018-02-01 00:00:00</td>\n",
       "      <td>2014-02-01 00:00:00</td>\n",
       "      <td>2019-03-01 00:00:00</td>\n",
       "      <td>2019-07-01 00:00:00</td>\n",
       "      <td>2014-08-01 00:00:00</td>\n",
       "    </tr>\n",
       "    <tr>\n",
       "      <th>EndDate</th>\n",
       "      <td>No</td>\n",
       "      <td>No</td>\n",
       "      <td>2019-12-01 00:00:00</td>\n",
       "      <td>No</td>\n",
       "      <td>2019-11-01 00:00:00</td>\n",
       "      <td>2019-11-01 00:00:00</td>\n",
       "      <td>No</td>\n",
       "      <td>No</td>\n",
       "      <td>2019-11-01 00:00:00</td>\n",
       "      <td>No</td>\n",
       "      <td>...</td>\n",
       "      <td>No</td>\n",
       "      <td>2019-10-01 00:00:00</td>\n",
       "      <td>No</td>\n",
       "      <td>No</td>\n",
       "      <td>No</td>\n",
       "      <td>No</td>\n",
       "      <td>No</td>\n",
       "      <td>No</td>\n",
       "      <td>2019-11-01 00:00:00</td>\n",
       "      <td>No</td>\n",
       "    </tr>\n",
       "    <tr>\n",
       "      <th>Type</th>\n",
       "      <td>Month-to-month</td>\n",
       "      <td>One year</td>\n",
       "      <td>Month-to-month</td>\n",
       "      <td>One year</td>\n",
       "      <td>Month-to-month</td>\n",
       "      <td>Month-to-month</td>\n",
       "      <td>Month-to-month</td>\n",
       "      <td>Month-to-month</td>\n",
       "      <td>Month-to-month</td>\n",
       "      <td>One year</td>\n",
       "      <td>...</td>\n",
       "      <td>Month-to-month</td>\n",
       "      <td>Month-to-month</td>\n",
       "      <td>Month-to-month</td>\n",
       "      <td>One year</td>\n",
       "      <td>Two year</td>\n",
       "      <td>One year</td>\n",
       "      <td>One year</td>\n",
       "      <td>Month-to-month</td>\n",
       "      <td>Month-to-month</td>\n",
       "      <td>Two year</td>\n",
       "    </tr>\n",
       "    <tr>\n",
       "      <th>PaperlessBilling</th>\n",
       "      <td>Yes</td>\n",
       "      <td>No</td>\n",
       "      <td>Yes</td>\n",
       "      <td>No</td>\n",
       "      <td>Yes</td>\n",
       "      <td>Yes</td>\n",
       "      <td>Yes</td>\n",
       "      <td>No</td>\n",
       "      <td>Yes</td>\n",
       "      <td>No</td>\n",
       "      <td>...</td>\n",
       "      <td>Yes</td>\n",
       "      <td>Yes</td>\n",
       "      <td>Yes</td>\n",
       "      <td>No</td>\n",
       "      <td>Yes</td>\n",
       "      <td>Yes</td>\n",
       "      <td>Yes</td>\n",
       "      <td>Yes</td>\n",
       "      <td>Yes</td>\n",
       "      <td>Yes</td>\n",
       "    </tr>\n",
       "    <tr>\n",
       "      <th>PaymentMethod</th>\n",
       "      <td>Electronic check</td>\n",
       "      <td>Mailed check</td>\n",
       "      <td>Mailed check</td>\n",
       "      <td>Bank transfer (automatic)</td>\n",
       "      <td>Electronic check</td>\n",
       "      <td>Electronic check</td>\n",
       "      <td>Credit card (automatic)</td>\n",
       "      <td>Mailed check</td>\n",
       "      <td>Electronic check</td>\n",
       "      <td>Bank transfer (automatic)</td>\n",
       "      <td>...</td>\n",
       "      <td>Credit card (automatic)</td>\n",
       "      <td>Credit card (automatic)</td>\n",
       "      <td>Bank transfer (automatic)</td>\n",
       "      <td>Electronic check</td>\n",
       "      <td>Bank transfer (automatic)</td>\n",
       "      <td>Mailed check</td>\n",
       "      <td>Credit card (automatic)</td>\n",
       "      <td>Electronic check</td>\n",
       "      <td>Mailed check</td>\n",
       "      <td>Bank transfer (automatic)</td>\n",
       "    </tr>\n",
       "    <tr>\n",
       "      <th>MonthlyCharges</th>\n",
       "      <td>29.85</td>\n",
       "      <td>56.95</td>\n",
       "      <td>53.85</td>\n",
       "      <td>42.3</td>\n",
       "      <td>70.7</td>\n",
       "      <td>99.65</td>\n",
       "      <td>89.1</td>\n",
       "      <td>29.75</td>\n",
       "      <td>104.8</td>\n",
       "      <td>56.15</td>\n",
       "      <td>...</td>\n",
       "      <td>69.5</td>\n",
       "      <td>102.95</td>\n",
       "      <td>78.7</td>\n",
       "      <td>60.65</td>\n",
       "      <td>21.15</td>\n",
       "      <td>84.8</td>\n",
       "      <td>103.2</td>\n",
       "      <td>29.6</td>\n",
       "      <td>74.4</td>\n",
       "      <td>105.65</td>\n",
       "    </tr>\n",
       "    <tr>\n",
       "      <th>TotalCharges</th>\n",
       "      <td>29.85</td>\n",
       "      <td>1889.5</td>\n",
       "      <td>108.15</td>\n",
       "      <td>1840.75</td>\n",
       "      <td>151.65</td>\n",
       "      <td>820.5</td>\n",
       "      <td>1949.4</td>\n",
       "      <td>301.9</td>\n",
       "      <td>3046.05</td>\n",
       "      <td>3487.95</td>\n",
       "      <td>...</td>\n",
       "      <td>2625.25</td>\n",
       "      <td>6886.25</td>\n",
       "      <td>1495.1</td>\n",
       "      <td>743.3</td>\n",
       "      <td>1419.4</td>\n",
       "      <td>1990.5</td>\n",
       "      <td>7362.9</td>\n",
       "      <td>346.45</td>\n",
       "      <td>306.6</td>\n",
       "      <td>6844.5</td>\n",
       "    </tr>\n",
       "    <tr>\n",
       "      <th>gender</th>\n",
       "      <td>Female</td>\n",
       "      <td>Male</td>\n",
       "      <td>Male</td>\n",
       "      <td>Male</td>\n",
       "      <td>Female</td>\n",
       "      <td>Female</td>\n",
       "      <td>Male</td>\n",
       "      <td>Female</td>\n",
       "      <td>Female</td>\n",
       "      <td>Male</td>\n",
       "      <td>...</td>\n",
       "      <td>Male</td>\n",
       "      <td>Female</td>\n",
       "      <td>Male</td>\n",
       "      <td>Female</td>\n",
       "      <td>Female</td>\n",
       "      <td>Male</td>\n",
       "      <td>Female</td>\n",
       "      <td>Female</td>\n",
       "      <td>Male</td>\n",
       "      <td>Male</td>\n",
       "    </tr>\n",
       "    <tr>\n",
       "      <th>SeniorCitizen</th>\n",
       "      <td>0</td>\n",
       "      <td>0</td>\n",
       "      <td>0</td>\n",
       "      <td>0</td>\n",
       "      <td>0</td>\n",
       "      <td>0</td>\n",
       "      <td>0</td>\n",
       "      <td>0</td>\n",
       "      <td>0</td>\n",
       "      <td>0</td>\n",
       "      <td>...</td>\n",
       "      <td>0</td>\n",
       "      <td>0</td>\n",
       "      <td>0</td>\n",
       "      <td>0</td>\n",
       "      <td>0</td>\n",
       "      <td>0</td>\n",
       "      <td>0</td>\n",
       "      <td>0</td>\n",
       "      <td>1</td>\n",
       "      <td>0</td>\n",
       "    </tr>\n",
       "    <tr>\n",
       "      <th>Partner</th>\n",
       "      <td>Yes</td>\n",
       "      <td>No</td>\n",
       "      <td>No</td>\n",
       "      <td>No</td>\n",
       "      <td>No</td>\n",
       "      <td>No</td>\n",
       "      <td>No</td>\n",
       "      <td>No</td>\n",
       "      <td>Yes</td>\n",
       "      <td>No</td>\n",
       "      <td>...</td>\n",
       "      <td>No</td>\n",
       "      <td>No</td>\n",
       "      <td>No</td>\n",
       "      <td>No</td>\n",
       "      <td>No</td>\n",
       "      <td>Yes</td>\n",
       "      <td>Yes</td>\n",
       "      <td>Yes</td>\n",
       "      <td>Yes</td>\n",
       "      <td>No</td>\n",
       "    </tr>\n",
       "    <tr>\n",
       "      <th>Dependents</th>\n",
       "      <td>No</td>\n",
       "      <td>No</td>\n",
       "      <td>No</td>\n",
       "      <td>No</td>\n",
       "      <td>No</td>\n",
       "      <td>No</td>\n",
       "      <td>Yes</td>\n",
       "      <td>No</td>\n",
       "      <td>No</td>\n",
       "      <td>Yes</td>\n",
       "      <td>...</td>\n",
       "      <td>No</td>\n",
       "      <td>No</td>\n",
       "      <td>No</td>\n",
       "      <td>No</td>\n",
       "      <td>No</td>\n",
       "      <td>Yes</td>\n",
       "      <td>Yes</td>\n",
       "      <td>Yes</td>\n",
       "      <td>No</td>\n",
       "      <td>No</td>\n",
       "    </tr>\n",
       "    <tr>\n",
       "      <th>InternetService</th>\n",
       "      <td>DSL</td>\n",
       "      <td>DSL</td>\n",
       "      <td>DSL</td>\n",
       "      <td>DSL</td>\n",
       "      <td>Fiber optic</td>\n",
       "      <td>Fiber optic</td>\n",
       "      <td>Fiber optic</td>\n",
       "      <td>DSL</td>\n",
       "      <td>Fiber optic</td>\n",
       "      <td>DSL</td>\n",
       "      <td>...</td>\n",
       "      <td>Fiber optic</td>\n",
       "      <td>Fiber optic</td>\n",
       "      <td>Fiber optic</td>\n",
       "      <td>DSL</td>\n",
       "      <td>NaN</td>\n",
       "      <td>DSL</td>\n",
       "      <td>Fiber optic</td>\n",
       "      <td>DSL</td>\n",
       "      <td>Fiber optic</td>\n",
       "      <td>Fiber optic</td>\n",
       "    </tr>\n",
       "    <tr>\n",
       "      <th>OnlineSecurity</th>\n",
       "      <td>No</td>\n",
       "      <td>Yes</td>\n",
       "      <td>Yes</td>\n",
       "      <td>Yes</td>\n",
       "      <td>No</td>\n",
       "      <td>No</td>\n",
       "      <td>No</td>\n",
       "      <td>Yes</td>\n",
       "      <td>No</td>\n",
       "      <td>Yes</td>\n",
       "      <td>...</td>\n",
       "      <td>No</td>\n",
       "      <td>Yes</td>\n",
       "      <td>No</td>\n",
       "      <td>No</td>\n",
       "      <td>NaN</td>\n",
       "      <td>Yes</td>\n",
       "      <td>No</td>\n",
       "      <td>Yes</td>\n",
       "      <td>No</td>\n",
       "      <td>Yes</td>\n",
       "    </tr>\n",
       "    <tr>\n",
       "      <th>OnlineBackup</th>\n",
       "      <td>Yes</td>\n",
       "      <td>No</td>\n",
       "      <td>Yes</td>\n",
       "      <td>No</td>\n",
       "      <td>No</td>\n",
       "      <td>No</td>\n",
       "      <td>Yes</td>\n",
       "      <td>No</td>\n",
       "      <td>No</td>\n",
       "      <td>Yes</td>\n",
       "      <td>...</td>\n",
       "      <td>No</td>\n",
       "      <td>Yes</td>\n",
       "      <td>No</td>\n",
       "      <td>Yes</td>\n",
       "      <td>NaN</td>\n",
       "      <td>No</td>\n",
       "      <td>Yes</td>\n",
       "      <td>No</td>\n",
       "      <td>No</td>\n",
       "      <td>No</td>\n",
       "    </tr>\n",
       "    <tr>\n",
       "      <th>DeviceProtection</th>\n",
       "      <td>No</td>\n",
       "      <td>Yes</td>\n",
       "      <td>No</td>\n",
       "      <td>Yes</td>\n",
       "      <td>No</td>\n",
       "      <td>Yes</td>\n",
       "      <td>No</td>\n",
       "      <td>No</td>\n",
       "      <td>Yes</td>\n",
       "      <td>No</td>\n",
       "      <td>...</td>\n",
       "      <td>No</td>\n",
       "      <td>Yes</td>\n",
       "      <td>No</td>\n",
       "      <td>Yes</td>\n",
       "      <td>NaN</td>\n",
       "      <td>Yes</td>\n",
       "      <td>Yes</td>\n",
       "      <td>No</td>\n",
       "      <td>No</td>\n",
       "      <td>Yes</td>\n",
       "    </tr>\n",
       "    <tr>\n",
       "      <th>TechSupport</th>\n",
       "      <td>No</td>\n",
       "      <td>No</td>\n",
       "      <td>No</td>\n",
       "      <td>Yes</td>\n",
       "      <td>No</td>\n",
       "      <td>No</td>\n",
       "      <td>No</td>\n",
       "      <td>No</td>\n",
       "      <td>Yes</td>\n",
       "      <td>No</td>\n",
       "      <td>...</td>\n",
       "      <td>No</td>\n",
       "      <td>No</td>\n",
       "      <td>No</td>\n",
       "      <td>Yes</td>\n",
       "      <td>NaN</td>\n",
       "      <td>Yes</td>\n",
       "      <td>No</td>\n",
       "      <td>No</td>\n",
       "      <td>No</td>\n",
       "      <td>Yes</td>\n",
       "    </tr>\n",
       "    <tr>\n",
       "      <th>StreamingTV</th>\n",
       "      <td>No</td>\n",
       "      <td>No</td>\n",
       "      <td>No</td>\n",
       "      <td>No</td>\n",
       "      <td>No</td>\n",
       "      <td>Yes</td>\n",
       "      <td>Yes</td>\n",
       "      <td>No</td>\n",
       "      <td>Yes</td>\n",
       "      <td>No</td>\n",
       "      <td>...</td>\n",
       "      <td>No</td>\n",
       "      <td>Yes</td>\n",
       "      <td>Yes</td>\n",
       "      <td>Yes</td>\n",
       "      <td>NaN</td>\n",
       "      <td>Yes</td>\n",
       "      <td>Yes</td>\n",
       "      <td>No</td>\n",
       "      <td>No</td>\n",
       "      <td>Yes</td>\n",
       "    </tr>\n",
       "    <tr>\n",
       "      <th>StreamingMovies</th>\n",
       "      <td>No</td>\n",
       "      <td>No</td>\n",
       "      <td>No</td>\n",
       "      <td>No</td>\n",
       "      <td>No</td>\n",
       "      <td>Yes</td>\n",
       "      <td>No</td>\n",
       "      <td>No</td>\n",
       "      <td>Yes</td>\n",
       "      <td>No</td>\n",
       "      <td>...</td>\n",
       "      <td>No</td>\n",
       "      <td>No</td>\n",
       "      <td>No</td>\n",
       "      <td>Yes</td>\n",
       "      <td>NaN</td>\n",
       "      <td>Yes</td>\n",
       "      <td>Yes</td>\n",
       "      <td>No</td>\n",
       "      <td>No</td>\n",
       "      <td>Yes</td>\n",
       "    </tr>\n",
       "    <tr>\n",
       "      <th>MultipleLines</th>\n",
       "      <td>NaN</td>\n",
       "      <td>No</td>\n",
       "      <td>No</td>\n",
       "      <td>NaN</td>\n",
       "      <td>No</td>\n",
       "      <td>Yes</td>\n",
       "      <td>Yes</td>\n",
       "      <td>NaN</td>\n",
       "      <td>Yes</td>\n",
       "      <td>No</td>\n",
       "      <td>...</td>\n",
       "      <td>No</td>\n",
       "      <td>Yes</td>\n",
       "      <td>No</td>\n",
       "      <td>NaN</td>\n",
       "      <td>No</td>\n",
       "      <td>Yes</td>\n",
       "      <td>Yes</td>\n",
       "      <td>NaN</td>\n",
       "      <td>Yes</td>\n",
       "      <td>No</td>\n",
       "    </tr>\n",
       "  </tbody>\n",
       "</table>\n",
       "<p>20 rows × 7043 columns</p>\n",
       "</div>"
      ],
      "text/plain": [
       "                                 0                    1     \\\n",
       "customerID                 7590-VHVEG           5575-GNVDE   \n",
       "BeginDate         2020-01-01 00:00:00  2017-04-01 00:00:00   \n",
       "EndDate                            No                   No   \n",
       "Type                   Month-to-month             One year   \n",
       "PaperlessBilling                  Yes                   No   \n",
       "PaymentMethod        Electronic check         Mailed check   \n",
       "MonthlyCharges                  29.85                56.95   \n",
       "TotalCharges                    29.85               1889.5   \n",
       "gender                         Female                 Male   \n",
       "SeniorCitizen                       0                    0   \n",
       "Partner                           Yes                   No   \n",
       "Dependents                         No                   No   \n",
       "InternetService                   DSL                  DSL   \n",
       "OnlineSecurity                     No                  Yes   \n",
       "OnlineBackup                      Yes                   No   \n",
       "DeviceProtection                   No                  Yes   \n",
       "TechSupport                        No                   No   \n",
       "StreamingTV                        No                   No   \n",
       "StreamingMovies                    No                   No   \n",
       "MultipleLines                     NaN                   No   \n",
       "\n",
       "                                 2                          3     \\\n",
       "customerID                 3668-QPYBK                 7795-CFOCW   \n",
       "BeginDate         2019-10-01 00:00:00        2016-05-01 00:00:00   \n",
       "EndDate           2019-12-01 00:00:00                         No   \n",
       "Type                   Month-to-month                   One year   \n",
       "PaperlessBilling                  Yes                         No   \n",
       "PaymentMethod            Mailed check  Bank transfer (automatic)   \n",
       "MonthlyCharges                  53.85                       42.3   \n",
       "TotalCharges                   108.15                    1840.75   \n",
       "gender                           Male                       Male   \n",
       "SeniorCitizen                       0                          0   \n",
       "Partner                            No                         No   \n",
       "Dependents                         No                         No   \n",
       "InternetService                   DSL                        DSL   \n",
       "OnlineSecurity                    Yes                        Yes   \n",
       "OnlineBackup                      Yes                         No   \n",
       "DeviceProtection                   No                        Yes   \n",
       "TechSupport                        No                        Yes   \n",
       "StreamingTV                        No                         No   \n",
       "StreamingMovies                    No                         No   \n",
       "MultipleLines                      No                        NaN   \n",
       "\n",
       "                                 4                    5     \\\n",
       "customerID                 9237-HQITU           9305-CDSKC   \n",
       "BeginDate         2019-09-01 00:00:00  2019-03-01 00:00:00   \n",
       "EndDate           2019-11-01 00:00:00  2019-11-01 00:00:00   \n",
       "Type                   Month-to-month       Month-to-month   \n",
       "PaperlessBilling                  Yes                  Yes   \n",
       "PaymentMethod        Electronic check     Electronic check   \n",
       "MonthlyCharges                   70.7                99.65   \n",
       "TotalCharges                   151.65                820.5   \n",
       "gender                         Female               Female   \n",
       "SeniorCitizen                       0                    0   \n",
       "Partner                            No                   No   \n",
       "Dependents                         No                   No   \n",
       "InternetService           Fiber optic          Fiber optic   \n",
       "OnlineSecurity                     No                   No   \n",
       "OnlineBackup                       No                   No   \n",
       "DeviceProtection                   No                  Yes   \n",
       "TechSupport                        No                   No   \n",
       "StreamingTV                        No                  Yes   \n",
       "StreamingMovies                    No                  Yes   \n",
       "MultipleLines                      No                  Yes   \n",
       "\n",
       "                                     6                    7     \\\n",
       "customerID                     1452-KIOVK           6713-OKOMC   \n",
       "BeginDate             2018-04-01 00:00:00  2019-04-01 00:00:00   \n",
       "EndDate                                No                   No   \n",
       "Type                       Month-to-month       Month-to-month   \n",
       "PaperlessBilling                      Yes                   No   \n",
       "PaymentMethod     Credit card (automatic)         Mailed check   \n",
       "MonthlyCharges                       89.1                29.75   \n",
       "TotalCharges                       1949.4                301.9   \n",
       "gender                               Male               Female   \n",
       "SeniorCitizen                           0                    0   \n",
       "Partner                                No                   No   \n",
       "Dependents                            Yes                   No   \n",
       "InternetService               Fiber optic                  DSL   \n",
       "OnlineSecurity                         No                  Yes   \n",
       "OnlineBackup                          Yes                   No   \n",
       "DeviceProtection                       No                   No   \n",
       "TechSupport                            No                   No   \n",
       "StreamingTV                           Yes                   No   \n",
       "StreamingMovies                        No                   No   \n",
       "MultipleLines                         Yes                  NaN   \n",
       "\n",
       "                                 8                          9     ...  \\\n",
       "customerID                 7892-POOKP                 6388-TABGU  ...   \n",
       "BeginDate         2017-07-01 00:00:00        2014-12-01 00:00:00  ...   \n",
       "EndDate           2019-11-01 00:00:00                         No  ...   \n",
       "Type                   Month-to-month                   One year  ...   \n",
       "PaperlessBilling                  Yes                         No  ...   \n",
       "PaymentMethod        Electronic check  Bank transfer (automatic)  ...   \n",
       "MonthlyCharges                  104.8                      56.15  ...   \n",
       "TotalCharges                  3046.05                    3487.95  ...   \n",
       "gender                         Female                       Male  ...   \n",
       "SeniorCitizen                       0                          0  ...   \n",
       "Partner                           Yes                         No  ...   \n",
       "Dependents                         No                        Yes  ...   \n",
       "InternetService           Fiber optic                        DSL  ...   \n",
       "OnlineSecurity                     No                        Yes  ...   \n",
       "OnlineBackup                       No                        Yes  ...   \n",
       "DeviceProtection                  Yes                         No  ...   \n",
       "TechSupport                       Yes                         No  ...   \n",
       "StreamingTV                       Yes                         No  ...   \n",
       "StreamingMovies                   Yes                         No  ...   \n",
       "MultipleLines                     Yes                         No  ...   \n",
       "\n",
       "                                     7033                     7034  \\\n",
       "customerID                     9767-FFLEM               0639-TSIQW   \n",
       "BeginDate             2016-12-01 00:00:00      2014-03-01 00:00:00   \n",
       "EndDate                                No      2019-10-01 00:00:00   \n",
       "Type                       Month-to-month           Month-to-month   \n",
       "PaperlessBilling                      Yes                      Yes   \n",
       "PaymentMethod     Credit card (automatic)  Credit card (automatic)   \n",
       "MonthlyCharges                       69.5                   102.95   \n",
       "TotalCharges                      2625.25                  6886.25   \n",
       "gender                               Male                   Female   \n",
       "SeniorCitizen                           0                        0   \n",
       "Partner                                No                       No   \n",
       "Dependents                             No                       No   \n",
       "InternetService               Fiber optic              Fiber optic   \n",
       "OnlineSecurity                         No                      Yes   \n",
       "OnlineBackup                           No                      Yes   \n",
       "DeviceProtection                       No                      Yes   \n",
       "TechSupport                            No                       No   \n",
       "StreamingTV                            No                      Yes   \n",
       "StreamingMovies                        No                       No   \n",
       "MultipleLines                          No                      Yes   \n",
       "\n",
       "                                       7035                 7036  \\\n",
       "customerID                       8456-QDAVC           7750-EYXWZ   \n",
       "BeginDate               2018-07-01 00:00:00  2019-02-01 00:00:00   \n",
       "EndDate                                  No                   No   \n",
       "Type                         Month-to-month             One year   \n",
       "PaperlessBilling                        Yes                   No   \n",
       "PaymentMethod     Bank transfer (automatic)     Electronic check   \n",
       "MonthlyCharges                         78.7                60.65   \n",
       "TotalCharges                         1495.1                743.3   \n",
       "gender                                 Male               Female   \n",
       "SeniorCitizen                             0                    0   \n",
       "Partner                                  No                   No   \n",
       "Dependents                               No                   No   \n",
       "InternetService                 Fiber optic                  DSL   \n",
       "OnlineSecurity                           No                   No   \n",
       "OnlineBackup                             No                  Yes   \n",
       "DeviceProtection                         No                  Yes   \n",
       "TechSupport                              No                  Yes   \n",
       "StreamingTV                             Yes                  Yes   \n",
       "StreamingMovies                          No                  Yes   \n",
       "MultipleLines                            No                  NaN   \n",
       "\n",
       "                                       7037                 7038  \\\n",
       "customerID                       2569-WGERO           6840-RESVB   \n",
       "BeginDate               2014-02-01 00:00:00  2018-02-01 00:00:00   \n",
       "EndDate                                  No                   No   \n",
       "Type                               Two year             One year   \n",
       "PaperlessBilling                        Yes                  Yes   \n",
       "PaymentMethod     Bank transfer (automatic)         Mailed check   \n",
       "MonthlyCharges                        21.15                 84.8   \n",
       "TotalCharges                         1419.4               1990.5   \n",
       "gender                               Female                 Male   \n",
       "SeniorCitizen                             0                    0   \n",
       "Partner                                  No                  Yes   \n",
       "Dependents                               No                  Yes   \n",
       "InternetService                         NaN                  DSL   \n",
       "OnlineSecurity                          NaN                  Yes   \n",
       "OnlineBackup                            NaN                   No   \n",
       "DeviceProtection                        NaN                  Yes   \n",
       "TechSupport                             NaN                  Yes   \n",
       "StreamingTV                             NaN                  Yes   \n",
       "StreamingMovies                         NaN                  Yes   \n",
       "MultipleLines                            No                  Yes   \n",
       "\n",
       "                                     7039                 7040  \\\n",
       "customerID                     2234-XADUH           4801-JZAZL   \n",
       "BeginDate             2014-02-01 00:00:00  2019-03-01 00:00:00   \n",
       "EndDate                                No                   No   \n",
       "Type                             One year       Month-to-month   \n",
       "PaperlessBilling                      Yes                  Yes   \n",
       "PaymentMethod     Credit card (automatic)     Electronic check   \n",
       "MonthlyCharges                      103.2                 29.6   \n",
       "TotalCharges                       7362.9               346.45   \n",
       "gender                             Female               Female   \n",
       "SeniorCitizen                           0                    0   \n",
       "Partner                               Yes                  Yes   \n",
       "Dependents                            Yes                  Yes   \n",
       "InternetService               Fiber optic                  DSL   \n",
       "OnlineSecurity                         No                  Yes   \n",
       "OnlineBackup                          Yes                   No   \n",
       "DeviceProtection                      Yes                   No   \n",
       "TechSupport                            No                   No   \n",
       "StreamingTV                           Yes                   No   \n",
       "StreamingMovies                       Yes                   No   \n",
       "MultipleLines                         Yes                  NaN   \n",
       "\n",
       "                                 7041                       7042  \n",
       "customerID                 8361-LTMKD                 3186-AJIEK  \n",
       "BeginDate         2019-07-01 00:00:00        2014-08-01 00:00:00  \n",
       "EndDate           2019-11-01 00:00:00                         No  \n",
       "Type                   Month-to-month                   Two year  \n",
       "PaperlessBilling                  Yes                        Yes  \n",
       "PaymentMethod            Mailed check  Bank transfer (automatic)  \n",
       "MonthlyCharges                   74.4                     105.65  \n",
       "TotalCharges                    306.6                     6844.5  \n",
       "gender                           Male                       Male  \n",
       "SeniorCitizen                       1                          0  \n",
       "Partner                           Yes                         No  \n",
       "Dependents                         No                         No  \n",
       "InternetService           Fiber optic                Fiber optic  \n",
       "OnlineSecurity                     No                        Yes  \n",
       "OnlineBackup                       No                         No  \n",
       "DeviceProtection                   No                        Yes  \n",
       "TechSupport                        No                        Yes  \n",
       "StreamingTV                        No                        Yes  \n",
       "StreamingMovies                    No                        Yes  \n",
       "MultipleLines                     Yes                         No  \n",
       "\n",
       "[20 rows x 7043 columns]"
      ]
     },
     "execution_count": 69,
     "metadata": {},
     "output_type": "execute_result"
    }
   ],
   "source": [
    "df.T"
   ]
  },
  {
   "cell_type": "markdown",
   "metadata": {},
   "source": [
    "Отлично. Данные на месте.  \n",
    "\n",
    "### Обработка пропусков\n",
    "\n",
    "Посмотрим на наличие пропусков в новом датафрейме:"
   ]
  },
  {
   "cell_type": "code",
   "execution_count": 70,
   "metadata": {},
   "outputs": [
    {
     "data": {
      "text/plain": [
       "11375"
      ]
     },
     "execution_count": 70,
     "metadata": {},
     "output_type": "execute_result"
    }
   ],
   "source": [
    "df.isna().sum().sum()"
   ]
  },
  {
   "cell_type": "markdown",
   "metadata": {},
   "source": [
    "Достаточно большое количество данных утеряно при объединении таблиц.  \n",
    "Посмотрим по столбцам:"
   ]
  },
  {
   "cell_type": "code",
   "execution_count": 71,
   "metadata": {},
   "outputs": [
    {
     "data": {
      "text/plain": [
       "customerID             0\n",
       "BeginDate              0\n",
       "EndDate                0\n",
       "Type                   0\n",
       "PaperlessBilling       0\n",
       "PaymentMethod          0\n",
       "MonthlyCharges         0\n",
       "TotalCharges          11\n",
       "gender                 0\n",
       "SeniorCitizen          0\n",
       "Partner                0\n",
       "Dependents             0\n",
       "InternetService     1526\n",
       "OnlineSecurity      1526\n",
       "OnlineBackup        1526\n",
       "DeviceProtection    1526\n",
       "TechSupport         1526\n",
       "StreamingTV         1526\n",
       "StreamingMovies     1526\n",
       "MultipleLines        682\n",
       "dtype: int64"
      ]
     },
     "execution_count": 71,
     "metadata": {},
     "output_type": "execute_result"
    }
   ],
   "source": [
    "df.isna().sum()"
   ]
  },
  {
   "cell_type": "markdown",
   "metadata": {},
   "source": [
    "Пропуски в столбце общих расходов на услуги связи в `TotalCharges ` мы разбирали на этапе анализа данных и пришли к заключению что т.к. мы не знаем стоимости оплаченных ими тарифов (там у всех договор на 1 или 2 года), то заполнить мы их не сможем, и их не жалко удалить, т.к. это будет малая потеря (всего 11 строк)."
   ]
  },
  {
   "cell_type": "code",
   "execution_count": 72,
   "metadata": {},
   "outputs": [
    {
     "data": {
      "text/plain": [
       "(7032, 20)"
      ]
     },
     "execution_count": 72,
     "metadata": {},
     "output_type": "execute_result"
    }
   ],
   "source": [
    "df.dropna(subset =['TotalCharges'], inplace = True)\n",
    "df.shape"
   ]
  },
  {
   "cell_type": "markdown",
   "metadata": {},
   "source": [
    "По пропускам в услугах и в наличии подключения к услугам телефонии можно сделать предположение, что сформированы они там где услуга или Multiple Line отсутствует, поэтому можно смело заменить их на значение `No`"
   ]
  },
  {
   "cell_type": "code",
   "execution_count": 73,
   "metadata": {},
   "outputs": [
    {
     "data": {
      "text/plain": [
       "0"
      ]
     },
     "execution_count": 73,
     "metadata": {},
     "output_type": "execute_result"
    }
   ],
   "source": [
    "df = df.fillna('No')\n",
    "\n",
    "df.isna().sum().sum()"
   ]
  },
  {
   "cell_type": "markdown",
   "metadata": {},
   "source": [
    "### Создание дополнительных фичей\n",
    "\n",
    "Добавим фичу `TotalTime` с рассчитанным общим периодом обслуживания клиента.  \n",
    "\n",
    "Чтобы не потерять целевой признак: где столбец 'EndDate' равен 'No', создадим перед этим фичу `ClientLeft` с отметками 1 (и 0  там где дата заполнена)"
   ]
  },
  {
   "cell_type": "code",
   "execution_count": 74,
   "metadata": {},
   "outputs": [
    {
     "data": {
      "text/plain": [
       "0    5163\n",
       "1    1869\n",
       "Name: ClientLeft, dtype: int64"
      ]
     },
     "execution_count": 74,
     "metadata": {},
     "output_type": "execute_result"
    }
   ],
   "source": [
    "df['ClientLeft'] = df['EndDate'].copy()\n",
    "df.ClientLeft[df['ClientLeft'] != 'No'] = 1\n",
    "df.ClientLeft[df['ClientLeft'] == 'No'] = 0\n",
    "\n",
    "df['ClientLeft'] = pd.to_numeric(df['ClientLeft'])\n",
    "\n",
    "df.ClientLeft.value_counts()"
   ]
  },
  {
   "cell_type": "markdown",
   "metadata": {},
   "source": [
    "Для того чтобы провести рассчет `TotalTime` с начала и до конечной даты формирования датафреймов данных ('2020-02-01'),  \n",
    "все показатели `No` в столбце `EndDate` заменим на последнюю дату учета, а затем произведем рассчет вычитанием,  \n",
    "сразу определив тип данных новой фичи `TotalTime` как вещественный"
   ]
  },
  {
   "cell_type": "code",
   "execution_count": 75,
   "metadata": {},
   "outputs": [],
   "source": [
    "df['EndDate'] = df['EndDate'].replace('No','2020-02-01')\n",
    "df['EndDate'] = pd.to_datetime(df['EndDate'])"
   ]
  },
  {
   "cell_type": "code",
   "execution_count": 76,
   "metadata": {},
   "outputs": [
    {
     "name": "stdout",
     "output_type": "stream",
     "text": [
      "<class 'pandas.core.frame.DataFrame'>\n",
      "Int64Index: 7032 entries, 0 to 7042\n",
      "Data columns (total 22 columns):\n",
      " #   Column            Non-Null Count  Dtype         \n",
      "---  ------            --------------  -----         \n",
      " 0   customerID        7032 non-null   object        \n",
      " 1   BeginDate         7032 non-null   datetime64[ns]\n",
      " 2   EndDate           7032 non-null   datetime64[ns]\n",
      " 3   Type              7032 non-null   object        \n",
      " 4   PaperlessBilling  7032 non-null   object        \n",
      " 5   PaymentMethod     7032 non-null   object        \n",
      " 6   MonthlyCharges    7032 non-null   float64       \n",
      " 7   TotalCharges      7032 non-null   float64       \n",
      " 8   gender            7032 non-null   object        \n",
      " 9   SeniorCitizen     7032 non-null   int64         \n",
      " 10  Partner           7032 non-null   object        \n",
      " 11  Dependents        7032 non-null   object        \n",
      " 12  InternetService   7032 non-null   object        \n",
      " 13  OnlineSecurity    7032 non-null   object        \n",
      " 14  OnlineBackup      7032 non-null   object        \n",
      " 15  DeviceProtection  7032 non-null   object        \n",
      " 16  TechSupport       7032 non-null   object        \n",
      " 17  StreamingTV       7032 non-null   object        \n",
      " 18  StreamingMovies   7032 non-null   object        \n",
      " 19  MultipleLines     7032 non-null   object        \n",
      " 20  ClientLeft        7032 non-null   int64         \n",
      " 21  TotalTime         7032 non-null   float64       \n",
      "dtypes: datetime64[ns](2), float64(3), int64(2), object(15)\n",
      "memory usage: 1.2+ MB\n"
     ]
    }
   ],
   "source": [
    "df['TotalTime'] = ( df['EndDate'] - df['BeginDate'] ) / pd.to_timedelta(1, unit='D')\n",
    "\n",
    "df.info()"
   ]
  },
  {
   "cell_type": "code",
   "execution_count": 77,
   "metadata": {},
   "outputs": [],
   "source": [
    "df['ClientLeft'] = pd.to_numeric(df['ClientLeft'])"
   ]
  },
  {
   "cell_type": "code",
   "execution_count": 78,
   "metadata": {},
   "outputs": [
    {
     "name": "stdout",
     "output_type": "stream",
     "text": [
      "<class 'pandas.core.frame.DataFrame'>\n",
      "Int64Index: 7032 entries, 0 to 7042\n",
      "Data columns (total 22 columns):\n",
      " #   Column            Non-Null Count  Dtype         \n",
      "---  ------            --------------  -----         \n",
      " 0   customerID        7032 non-null   object        \n",
      " 1   BeginDate         7032 non-null   datetime64[ns]\n",
      " 2   EndDate           7032 non-null   datetime64[ns]\n",
      " 3   Type              7032 non-null   object        \n",
      " 4   PaperlessBilling  7032 non-null   object        \n",
      " 5   PaymentMethod     7032 non-null   object        \n",
      " 6   MonthlyCharges    7032 non-null   float64       \n",
      " 7   TotalCharges      7032 non-null   float64       \n",
      " 8   gender            7032 non-null   object        \n",
      " 9   SeniorCitizen     7032 non-null   int64         \n",
      " 10  Partner           7032 non-null   object        \n",
      " 11  Dependents        7032 non-null   object        \n",
      " 12  InternetService   7032 non-null   object        \n",
      " 13  OnlineSecurity    7032 non-null   object        \n",
      " 14  OnlineBackup      7032 non-null   object        \n",
      " 15  DeviceProtection  7032 non-null   object        \n",
      " 16  TechSupport       7032 non-null   object        \n",
      " 17  StreamingTV       7032 non-null   object        \n",
      " 18  StreamingMovies   7032 non-null   object        \n",
      " 19  MultipleLines     7032 non-null   object        \n",
      " 20  ClientLeft        7032 non-null   int64         \n",
      " 21  TotalTime         7032 non-null   float64       \n",
      "dtypes: datetime64[ns](2), float64(3), int64(2), object(15)\n",
      "memory usage: 1.2+ MB\n"
     ]
    }
   ],
   "source": [
    "df.info()"
   ]
  },
  {
   "cell_type": "code",
   "execution_count": 79,
   "metadata": {},
   "outputs": [
    {
     "data": {
      "text/plain": [
       "(7032, 22)"
      ]
     },
     "execution_count": 79,
     "metadata": {},
     "output_type": "execute_result"
    }
   ],
   "source": [
    "df.shape"
   ]
  },
  {
   "cell_type": "markdown",
   "metadata": {},
   "source": [
    "Удостоверившись, что 2 новых столбца добавлены и типы данных корректны,  \n",
    "мы можем без сожаления удалить ненужные столбцы с датами `EndDate` и `BeginDate`, чтобы приступить к кодированию данных"
   ]
  },
  {
   "cell_type": "code",
   "execution_count": 80,
   "metadata": {},
   "outputs": [
    {
     "data": {
      "text/plain": [
       "(7032, 20)"
      ]
     },
     "execution_count": 80,
     "metadata": {},
     "output_type": "execute_result"
    }
   ],
   "source": [
    "df.drop(['EndDate', 'BeginDate'], axis='columns', inplace=True)\n",
    "df.shape"
   ]
  },
  {
   "cell_type": "markdown",
   "metadata": {},
   "source": [
    "Также можно предположить, что столбец `PaperlessBilling`, с запросом клиента чека по оплате услуг, совершенно никак не должен быть связан с фактом ухода клиента, поэтому его тоже можно смело удалить:"
   ]
  },
  {
   "cell_type": "code",
   "execution_count": 81,
   "metadata": {},
   "outputs": [
    {
     "data": {
      "text/plain": [
       "(7032, 19)"
      ]
     },
     "execution_count": 81,
     "metadata": {},
     "output_type": "execute_result"
    }
   ],
   "source": [
    "df.drop('PaperlessBilling', axis='columns', inplace=True)\n",
    "df.shape"
   ]
  },
  {
   "cell_type": "markdown",
   "metadata": {},
   "source": [
    "### Вывод\n",
    "\n",
    "На данном этапе были удалены пропуски в общих затратах, т.к. их немного и это незнакительная потеря;  \n",
    "пропуски в услугах были заменены на `No`, а также были сформированы новые фичи: \n",
    "* `TotalTime` (общее время с начала заключения договора до его расторжения, либо до крайней даты загрузки данных) и \n",
    "* `ClientLeft` (где `1` - клиент разорвал контракт) - целевой признак"
   ]
  },
  {
   "cell_type": "markdown",
   "metadata": {},
   "source": [
    "## Подготовка данных к моделированию\n",
    "\n",
    "### Деление датасета на таргет и фичи\n",
    "\n",
    "Перед делением определим код клиента как индекс"
   ]
  },
  {
   "cell_type": "code",
   "execution_count": 82,
   "metadata": {},
   "outputs": [
    {
     "data": {
      "text/plain": [
       "7032"
      ]
     },
     "execution_count": 82,
     "metadata": {},
     "output_type": "execute_result"
    }
   ],
   "source": [
    "df.customerID.nunique()"
   ]
  },
  {
   "cell_type": "code",
   "execution_count": 83,
   "metadata": {},
   "outputs": [],
   "source": [
    "df.set_index('customerID', inplace=True)"
   ]
  },
  {
   "cell_type": "markdown",
   "metadata": {},
   "source": [
    "Разделим датасет на таргет и фичи:"
   ]
  },
  {
   "cell_type": "code",
   "execution_count": 84,
   "metadata": {},
   "outputs": [
    {
     "name": "stdout",
     "output_type": "stream",
     "text": [
      "Размер исходного датафрейма: (7032, 18) \n",
      "Размер features: (7032, 17) \n",
      "Размер target: (7032,)\n"
     ]
    }
   ],
   "source": [
    "features = df.drop(['ClientLeft'], axis=1)\n",
    "target = df['ClientLeft']\n",
    "\n",
    "print('Размер исходного датафрейма:', df.shape,\n",
    "      '\\nРазмер features:', features.shape,\n",
    "      '\\nРазмер target:', target.shape)"
   ]
  },
  {
   "cell_type": "markdown",
   "metadata": {},
   "source": [
    "### Построение графика кореляции количественных признаков"
   ]
  },
  {
   "cell_type": "code",
   "execution_count": 87,
   "metadata": {
    "scrolled": true
   },
   "outputs": [
    {
     "name": "stdout",
     "output_type": "stream",
     "text": [
      "<class 'pandas.core.frame.DataFrame'>\n",
      "Index: 7032 entries, 7590-VHVEG to 3186-AJIEK\n",
      "Data columns (total 17 columns):\n",
      " #   Column            Non-Null Count  Dtype  \n",
      "---  ------            --------------  -----  \n",
      " 0   Type              7032 non-null   object \n",
      " 1   PaymentMethod     7032 non-null   object \n",
      " 2   MonthlyCharges    7032 non-null   float64\n",
      " 3   TotalCharges      7032 non-null   float64\n",
      " 4   gender            7032 non-null   object \n",
      " 5   SeniorCitizen     7032 non-null   int64  \n",
      " 6   Partner           7032 non-null   object \n",
      " 7   Dependents        7032 non-null   object \n",
      " 8   InternetService   7032 non-null   object \n",
      " 9   OnlineSecurity    7032 non-null   object \n",
      " 10  OnlineBackup      7032 non-null   object \n",
      " 11  DeviceProtection  7032 non-null   object \n",
      " 12  TechSupport       7032 non-null   object \n",
      " 13  StreamingTV       7032 non-null   object \n",
      " 14  StreamingMovies   7032 non-null   object \n",
      " 15  MultipleLines     7032 non-null   object \n",
      " 16  TotalTime         7032 non-null   float64\n",
      "dtypes: float64(3), int64(1), object(13)\n",
      "memory usage: 988.9+ KB\n"
     ]
    }
   ],
   "source": [
    "features.info()"
   ]
  },
  {
   "cell_type": "code",
   "execution_count": 88,
   "metadata": {},
   "outputs": [],
   "source": [
    "num_cols = ['MonthlyCharges', 'TotalCharges', 'TotalTime']"
   ]
  },
  {
   "cell_type": "code",
   "execution_count": 95,
   "metadata": {},
   "outputs": [
    {
     "data": {
      "text/html": [
       "<div>\n",
       "<style scoped>\n",
       "    .dataframe tbody tr th:only-of-type {\n",
       "        vertical-align: middle;\n",
       "    }\n",
       "\n",
       "    .dataframe tbody tr th {\n",
       "        vertical-align: top;\n",
       "    }\n",
       "\n",
       "    .dataframe thead th {\n",
       "        text-align: right;\n",
       "    }\n",
       "</style>\n",
       "<table border=\"1\" class=\"dataframe\">\n",
       "  <thead>\n",
       "    <tr style=\"text-align: right;\">\n",
       "      <th></th>\n",
       "      <th>MonthlyCharges</th>\n",
       "      <th>TotalCharges</th>\n",
       "      <th>TotalTime</th>\n",
       "    </tr>\n",
       "  </thead>\n",
       "  <tbody>\n",
       "    <tr>\n",
       "      <th>MonthlyCharges</th>\n",
       "      <td>1.000000</td>\n",
       "      <td>0.651065</td>\n",
       "      <td>0.246715</td>\n",
       "    </tr>\n",
       "    <tr>\n",
       "      <th>TotalCharges</th>\n",
       "      <td>0.651065</td>\n",
       "      <td>1.000000</td>\n",
       "      <td>0.825811</td>\n",
       "    </tr>\n",
       "    <tr>\n",
       "      <th>TotalTime</th>\n",
       "      <td>0.246715</td>\n",
       "      <td>0.825811</td>\n",
       "      <td>1.000000</td>\n",
       "    </tr>\n",
       "  </tbody>\n",
       "</table>\n",
       "</div>"
      ],
      "text/plain": [
       "                MonthlyCharges  TotalCharges  TotalTime\n",
       "MonthlyCharges        1.000000      0.651065   0.246715\n",
       "TotalCharges          0.651065      1.000000   0.825811\n",
       "TotalTime             0.246715      0.825811   1.000000"
      ]
     },
     "execution_count": 95,
     "metadata": {},
     "output_type": "execute_result"
    }
   ],
   "source": [
    "features[num_cols].corr()"
   ]
  },
  {
   "cell_type": "code",
   "execution_count": 96,
   "metadata": {
    "scrolled": true
   },
   "outputs": [
    {
     "data": {
      "application/vnd.plotly.v1+json": {
       "config": {
        "linkText": "Export to plot.ly",
        "plotlyServerURL": "https://plot.ly",
        "showLink": false
       },
       "data": [
        {
         "colorbar": {
          "title": {
           "side": "right",
           "text": "Коэффициент корреляции Пирсона"
          }
         },
         "colorscale": [
          [
           0,
           "#440154"
          ],
          [
           0.1111111111111111,
           "#482878"
          ],
          [
           0.2222222222222222,
           "#3e4989"
          ],
          [
           0.3333333333333333,
           "#31688e"
          ],
          [
           0.4444444444444444,
           "#26828e"
          ],
          [
           0.5555555555555556,
           "#1f9e89"
          ],
          [
           0.6666666666666666,
           "#35b779"
          ],
          [
           0.7777777777777778,
           "#6ece58"
          ],
          [
           0.8888888888888888,
           "#b5de2b"
          ],
          [
           1,
           "#fde725"
          ]
         ],
         "type": "heatmap",
         "x": [
          "MonthlyCharges",
          "TotalCharges",
          "TotalTime"
         ],
         "y": [
          "MonthlyCharges",
          "TotalCharges",
          "TotalTime"
         ],
         "z": [
          [
           1,
           0.6510648032262024,
           0.24671497401089432
          ],
          [
           0.6510648032262024,
           1,
           0.8258109407086547
          ],
          [
           0.24671497401089432,
           0.8258109407086547,
           1
          ]
         ]
        }
       ],
       "layout": {
        "autosize": false,
        "height": 500,
        "template": {
         "data": {
          "bar": [
           {
            "error_x": {
             "color": "#2a3f5f"
            },
            "error_y": {
             "color": "#2a3f5f"
            },
            "marker": {
             "line": {
              "color": "#E5ECF6",
              "width": 0.5
             }
            },
            "type": "bar"
           }
          ],
          "barpolar": [
           {
            "marker": {
             "line": {
              "color": "#E5ECF6",
              "width": 0.5
             }
            },
            "type": "barpolar"
           }
          ],
          "carpet": [
           {
            "aaxis": {
             "endlinecolor": "#2a3f5f",
             "gridcolor": "white",
             "linecolor": "white",
             "minorgridcolor": "white",
             "startlinecolor": "#2a3f5f"
            },
            "baxis": {
             "endlinecolor": "#2a3f5f",
             "gridcolor": "white",
             "linecolor": "white",
             "minorgridcolor": "white",
             "startlinecolor": "#2a3f5f"
            },
            "type": "carpet"
           }
          ],
          "choropleth": [
           {
            "colorbar": {
             "outlinewidth": 0,
             "ticks": ""
            },
            "type": "choropleth"
           }
          ],
          "contour": [
           {
            "colorbar": {
             "outlinewidth": 0,
             "ticks": ""
            },
            "colorscale": [
             [
              0,
              "#0d0887"
             ],
             [
              0.1111111111111111,
              "#46039f"
             ],
             [
              0.2222222222222222,
              "#7201a8"
             ],
             [
              0.3333333333333333,
              "#9c179e"
             ],
             [
              0.4444444444444444,
              "#bd3786"
             ],
             [
              0.5555555555555556,
              "#d8576b"
             ],
             [
              0.6666666666666666,
              "#ed7953"
             ],
             [
              0.7777777777777778,
              "#fb9f3a"
             ],
             [
              0.8888888888888888,
              "#fdca26"
             ],
             [
              1,
              "#f0f921"
             ]
            ],
            "type": "contour"
           }
          ],
          "contourcarpet": [
           {
            "colorbar": {
             "outlinewidth": 0,
             "ticks": ""
            },
            "type": "contourcarpet"
           }
          ],
          "heatmap": [
           {
            "colorbar": {
             "outlinewidth": 0,
             "ticks": ""
            },
            "colorscale": [
             [
              0,
              "#0d0887"
             ],
             [
              0.1111111111111111,
              "#46039f"
             ],
             [
              0.2222222222222222,
              "#7201a8"
             ],
             [
              0.3333333333333333,
              "#9c179e"
             ],
             [
              0.4444444444444444,
              "#bd3786"
             ],
             [
              0.5555555555555556,
              "#d8576b"
             ],
             [
              0.6666666666666666,
              "#ed7953"
             ],
             [
              0.7777777777777778,
              "#fb9f3a"
             ],
             [
              0.8888888888888888,
              "#fdca26"
             ],
             [
              1,
              "#f0f921"
             ]
            ],
            "type": "heatmap"
           }
          ],
          "heatmapgl": [
           {
            "colorbar": {
             "outlinewidth": 0,
             "ticks": ""
            },
            "colorscale": [
             [
              0,
              "#0d0887"
             ],
             [
              0.1111111111111111,
              "#46039f"
             ],
             [
              0.2222222222222222,
              "#7201a8"
             ],
             [
              0.3333333333333333,
              "#9c179e"
             ],
             [
              0.4444444444444444,
              "#bd3786"
             ],
             [
              0.5555555555555556,
              "#d8576b"
             ],
             [
              0.6666666666666666,
              "#ed7953"
             ],
             [
              0.7777777777777778,
              "#fb9f3a"
             ],
             [
              0.8888888888888888,
              "#fdca26"
             ],
             [
              1,
              "#f0f921"
             ]
            ],
            "type": "heatmapgl"
           }
          ],
          "histogram": [
           {
            "marker": {
             "colorbar": {
              "outlinewidth": 0,
              "ticks": ""
             }
            },
            "type": "histogram"
           }
          ],
          "histogram2d": [
           {
            "colorbar": {
             "outlinewidth": 0,
             "ticks": ""
            },
            "colorscale": [
             [
              0,
              "#0d0887"
             ],
             [
              0.1111111111111111,
              "#46039f"
             ],
             [
              0.2222222222222222,
              "#7201a8"
             ],
             [
              0.3333333333333333,
              "#9c179e"
             ],
             [
              0.4444444444444444,
              "#bd3786"
             ],
             [
              0.5555555555555556,
              "#d8576b"
             ],
             [
              0.6666666666666666,
              "#ed7953"
             ],
             [
              0.7777777777777778,
              "#fb9f3a"
             ],
             [
              0.8888888888888888,
              "#fdca26"
             ],
             [
              1,
              "#f0f921"
             ]
            ],
            "type": "histogram2d"
           }
          ],
          "histogram2dcontour": [
           {
            "colorbar": {
             "outlinewidth": 0,
             "ticks": ""
            },
            "colorscale": [
             [
              0,
              "#0d0887"
             ],
             [
              0.1111111111111111,
              "#46039f"
             ],
             [
              0.2222222222222222,
              "#7201a8"
             ],
             [
              0.3333333333333333,
              "#9c179e"
             ],
             [
              0.4444444444444444,
              "#bd3786"
             ],
             [
              0.5555555555555556,
              "#d8576b"
             ],
             [
              0.6666666666666666,
              "#ed7953"
             ],
             [
              0.7777777777777778,
              "#fb9f3a"
             ],
             [
              0.8888888888888888,
              "#fdca26"
             ],
             [
              1,
              "#f0f921"
             ]
            ],
            "type": "histogram2dcontour"
           }
          ],
          "mesh3d": [
           {
            "colorbar": {
             "outlinewidth": 0,
             "ticks": ""
            },
            "type": "mesh3d"
           }
          ],
          "parcoords": [
           {
            "line": {
             "colorbar": {
              "outlinewidth": 0,
              "ticks": ""
             }
            },
            "type": "parcoords"
           }
          ],
          "pie": [
           {
            "automargin": true,
            "type": "pie"
           }
          ],
          "scatter": [
           {
            "marker": {
             "colorbar": {
              "outlinewidth": 0,
              "ticks": ""
             }
            },
            "type": "scatter"
           }
          ],
          "scatter3d": [
           {
            "line": {
             "colorbar": {
              "outlinewidth": 0,
              "ticks": ""
             }
            },
            "marker": {
             "colorbar": {
              "outlinewidth": 0,
              "ticks": ""
             }
            },
            "type": "scatter3d"
           }
          ],
          "scattercarpet": [
           {
            "marker": {
             "colorbar": {
              "outlinewidth": 0,
              "ticks": ""
             }
            },
            "type": "scattercarpet"
           }
          ],
          "scattergeo": [
           {
            "marker": {
             "colorbar": {
              "outlinewidth": 0,
              "ticks": ""
             }
            },
            "type": "scattergeo"
           }
          ],
          "scattergl": [
           {
            "marker": {
             "colorbar": {
              "outlinewidth": 0,
              "ticks": ""
             }
            },
            "type": "scattergl"
           }
          ],
          "scattermapbox": [
           {
            "marker": {
             "colorbar": {
              "outlinewidth": 0,
              "ticks": ""
             }
            },
            "type": "scattermapbox"
           }
          ],
          "scatterpolar": [
           {
            "marker": {
             "colorbar": {
              "outlinewidth": 0,
              "ticks": ""
             }
            },
            "type": "scatterpolar"
           }
          ],
          "scatterpolargl": [
           {
            "marker": {
             "colorbar": {
              "outlinewidth": 0,
              "ticks": ""
             }
            },
            "type": "scatterpolargl"
           }
          ],
          "scatterternary": [
           {
            "marker": {
             "colorbar": {
              "outlinewidth": 0,
              "ticks": ""
             }
            },
            "type": "scatterternary"
           }
          ],
          "surface": [
           {
            "colorbar": {
             "outlinewidth": 0,
             "ticks": ""
            },
            "colorscale": [
             [
              0,
              "#0d0887"
             ],
             [
              0.1111111111111111,
              "#46039f"
             ],
             [
              0.2222222222222222,
              "#7201a8"
             ],
             [
              0.3333333333333333,
              "#9c179e"
             ],
             [
              0.4444444444444444,
              "#bd3786"
             ],
             [
              0.5555555555555556,
              "#d8576b"
             ],
             [
              0.6666666666666666,
              "#ed7953"
             ],
             [
              0.7777777777777778,
              "#fb9f3a"
             ],
             [
              0.8888888888888888,
              "#fdca26"
             ],
             [
              1,
              "#f0f921"
             ]
            ],
            "type": "surface"
           }
          ],
          "table": [
           {
            "cells": {
             "fill": {
              "color": "#EBF0F8"
             },
             "line": {
              "color": "white"
             }
            },
            "header": {
             "fill": {
              "color": "#C8D4E3"
             },
             "line": {
              "color": "white"
             }
            },
            "type": "table"
           }
          ]
         },
         "layout": {
          "annotationdefaults": {
           "arrowcolor": "#2a3f5f",
           "arrowhead": 0,
           "arrowwidth": 1
          },
          "autotypenumbers": "strict",
          "coloraxis": {
           "colorbar": {
            "outlinewidth": 0,
            "ticks": ""
           }
          },
          "colorscale": {
           "diverging": [
            [
             0,
             "#8e0152"
            ],
            [
             0.1,
             "#c51b7d"
            ],
            [
             0.2,
             "#de77ae"
            ],
            [
             0.3,
             "#f1b6da"
            ],
            [
             0.4,
             "#fde0ef"
            ],
            [
             0.5,
             "#f7f7f7"
            ],
            [
             0.6,
             "#e6f5d0"
            ],
            [
             0.7,
             "#b8e186"
            ],
            [
             0.8,
             "#7fbc41"
            ],
            [
             0.9,
             "#4d9221"
            ],
            [
             1,
             "#276419"
            ]
           ],
           "sequential": [
            [
             0,
             "#0d0887"
            ],
            [
             0.1111111111111111,
             "#46039f"
            ],
            [
             0.2222222222222222,
             "#7201a8"
            ],
            [
             0.3333333333333333,
             "#9c179e"
            ],
            [
             0.4444444444444444,
             "#bd3786"
            ],
            [
             0.5555555555555556,
             "#d8576b"
            ],
            [
             0.6666666666666666,
             "#ed7953"
            ],
            [
             0.7777777777777778,
             "#fb9f3a"
            ],
            [
             0.8888888888888888,
             "#fdca26"
            ],
            [
             1,
             "#f0f921"
            ]
           ],
           "sequentialminus": [
            [
             0,
             "#0d0887"
            ],
            [
             0.1111111111111111,
             "#46039f"
            ],
            [
             0.2222222222222222,
             "#7201a8"
            ],
            [
             0.3333333333333333,
             "#9c179e"
            ],
            [
             0.4444444444444444,
             "#bd3786"
            ],
            [
             0.5555555555555556,
             "#d8576b"
            ],
            [
             0.6666666666666666,
             "#ed7953"
            ],
            [
             0.7777777777777778,
             "#fb9f3a"
            ],
            [
             0.8888888888888888,
             "#fdca26"
            ],
            [
             1,
             "#f0f921"
            ]
           ]
          },
          "colorway": [
           "#636efa",
           "#EF553B",
           "#00cc96",
           "#ab63fa",
           "#FFA15A",
           "#19d3f3",
           "#FF6692",
           "#B6E880",
           "#FF97FF",
           "#FECB52"
          ],
          "font": {
           "color": "#2a3f5f"
          },
          "geo": {
           "bgcolor": "white",
           "lakecolor": "white",
           "landcolor": "#E5ECF6",
           "showlakes": true,
           "showland": true,
           "subunitcolor": "white"
          },
          "hoverlabel": {
           "align": "left"
          },
          "hovermode": "closest",
          "mapbox": {
           "style": "light"
          },
          "paper_bgcolor": "white",
          "plot_bgcolor": "#E5ECF6",
          "polar": {
           "angularaxis": {
            "gridcolor": "white",
            "linecolor": "white",
            "ticks": ""
           },
           "bgcolor": "#E5ECF6",
           "radialaxis": {
            "gridcolor": "white",
            "linecolor": "white",
            "ticks": ""
           }
          },
          "scene": {
           "xaxis": {
            "backgroundcolor": "#E5ECF6",
            "gridcolor": "white",
            "gridwidth": 2,
            "linecolor": "white",
            "showbackground": true,
            "ticks": "",
            "zerolinecolor": "white"
           },
           "yaxis": {
            "backgroundcolor": "#E5ECF6",
            "gridcolor": "white",
            "gridwidth": 2,
            "linecolor": "white",
            "showbackground": true,
            "ticks": "",
            "zerolinecolor": "white"
           },
           "zaxis": {
            "backgroundcolor": "#E5ECF6",
            "gridcolor": "white",
            "gridwidth": 2,
            "linecolor": "white",
            "showbackground": true,
            "ticks": "",
            "zerolinecolor": "white"
           }
          },
          "shapedefaults": {
           "line": {
            "color": "#2a3f5f"
           }
          },
          "ternary": {
           "aaxis": {
            "gridcolor": "white",
            "linecolor": "white",
            "ticks": ""
           },
           "baxis": {
            "gridcolor": "white",
            "linecolor": "white",
            "ticks": ""
           },
           "bgcolor": "#E5ECF6",
           "caxis": {
            "gridcolor": "white",
            "linecolor": "white",
            "ticks": ""
           }
          },
          "title": {
           "x": 0.05
          },
          "xaxis": {
           "automargin": true,
           "gridcolor": "white",
           "linecolor": "white",
           "ticks": "",
           "title": {
            "standoff": 15
           },
           "zerolinecolor": "white",
           "zerolinewidth": 2
          },
          "yaxis": {
           "automargin": true,
           "gridcolor": "white",
           "linecolor": "white",
           "ticks": "",
           "title": {
            "standoff": 15
           },
           "zerolinecolor": "white",
           "zerolinewidth": 2
          }
         }
        },
        "title": {
         "text": "Матрица корреляции количественных признаков"
        },
        "width": 500,
        "xaxis": {
         "tickfont": {
          "size": 11
         }
        },
        "yaxis": {
         "tickfont": {
          "size": 11
         }
        }
       }
      },
      "text/html": [
       "<div>                            <div id=\"53b35885-4de3-42d8-bdca-8750af39644f\" class=\"plotly-graph-div\" style=\"height:500px; width:500px;\"></div>            <script type=\"text/javascript\">                require([\"plotly\"], function(Plotly) {                    window.PLOTLYENV=window.PLOTLYENV || {};                                    if (document.getElementById(\"53b35885-4de3-42d8-bdca-8750af39644f\")) {                    Plotly.newPlot(                        \"53b35885-4de3-42d8-bdca-8750af39644f\",                        [{\"colorbar\": {\"title\": {\"side\": \"right\", \"text\": \"\\u041a\\u043e\\u044d\\u0444\\u0444\\u0438\\u0446\\u0438\\u0435\\u043d\\u0442 \\u043a\\u043e\\u0440\\u0440\\u0435\\u043b\\u044f\\u0446\\u0438\\u0438 \\u041f\\u0438\\u0440\\u0441\\u043e\\u043d\\u0430\"}}, \"colorscale\": [[0.0, \"#440154\"], [0.1111111111111111, \"#482878\"], [0.2222222222222222, \"#3e4989\"], [0.3333333333333333, \"#31688e\"], [0.4444444444444444, \"#26828e\"], [0.5555555555555556, \"#1f9e89\"], [0.6666666666666666, \"#35b779\"], [0.7777777777777778, \"#6ece58\"], [0.8888888888888888, \"#b5de2b\"], [1.0, \"#fde725\"]], \"type\": \"heatmap\", \"x\": [\"MonthlyCharges\", \"TotalCharges\", \"TotalTime\"], \"y\": [\"MonthlyCharges\", \"TotalCharges\", \"TotalTime\"], \"z\": [[1.0, 0.6510648032262024, 0.24671497401089432], [0.6510648032262024, 1.0, 0.8258109407086547], [0.24671497401089432, 0.8258109407086547, 1.0]]}],                        {\"autosize\": false, \"height\": 500, \"template\": {\"data\": {\"bar\": [{\"error_x\": {\"color\": \"#2a3f5f\"}, \"error_y\": {\"color\": \"#2a3f5f\"}, \"marker\": {\"line\": {\"color\": \"#E5ECF6\", \"width\": 0.5}}, \"type\": \"bar\"}], \"barpolar\": [{\"marker\": {\"line\": {\"color\": \"#E5ECF6\", \"width\": 0.5}}, \"type\": \"barpolar\"}], \"carpet\": [{\"aaxis\": {\"endlinecolor\": \"#2a3f5f\", \"gridcolor\": \"white\", \"linecolor\": \"white\", \"minorgridcolor\": \"white\", \"startlinecolor\": \"#2a3f5f\"}, \"baxis\": {\"endlinecolor\": \"#2a3f5f\", \"gridcolor\": \"white\", \"linecolor\": \"white\", \"minorgridcolor\": \"white\", \"startlinecolor\": \"#2a3f5f\"}, \"type\": \"carpet\"}], \"choropleth\": [{\"colorbar\": {\"outlinewidth\": 0, \"ticks\": \"\"}, \"type\": \"choropleth\"}], \"contour\": [{\"colorbar\": {\"outlinewidth\": 0, \"ticks\": \"\"}, \"colorscale\": [[0.0, \"#0d0887\"], [0.1111111111111111, \"#46039f\"], [0.2222222222222222, \"#7201a8\"], [0.3333333333333333, \"#9c179e\"], [0.4444444444444444, \"#bd3786\"], [0.5555555555555556, \"#d8576b\"], [0.6666666666666666, \"#ed7953\"], [0.7777777777777778, \"#fb9f3a\"], [0.8888888888888888, \"#fdca26\"], [1.0, \"#f0f921\"]], \"type\": \"contour\"}], \"contourcarpet\": [{\"colorbar\": {\"outlinewidth\": 0, \"ticks\": \"\"}, \"type\": \"contourcarpet\"}], \"heatmap\": [{\"colorbar\": {\"outlinewidth\": 0, \"ticks\": \"\"}, \"colorscale\": [[0.0, \"#0d0887\"], [0.1111111111111111, \"#46039f\"], [0.2222222222222222, \"#7201a8\"], [0.3333333333333333, \"#9c179e\"], [0.4444444444444444, \"#bd3786\"], [0.5555555555555556, \"#d8576b\"], [0.6666666666666666, \"#ed7953\"], [0.7777777777777778, \"#fb9f3a\"], [0.8888888888888888, \"#fdca26\"], [1.0, \"#f0f921\"]], \"type\": \"heatmap\"}], \"heatmapgl\": [{\"colorbar\": {\"outlinewidth\": 0, \"ticks\": \"\"}, \"colorscale\": [[0.0, \"#0d0887\"], [0.1111111111111111, \"#46039f\"], [0.2222222222222222, \"#7201a8\"], [0.3333333333333333, \"#9c179e\"], [0.4444444444444444, \"#bd3786\"], [0.5555555555555556, \"#d8576b\"], [0.6666666666666666, \"#ed7953\"], [0.7777777777777778, \"#fb9f3a\"], [0.8888888888888888, \"#fdca26\"], [1.0, \"#f0f921\"]], \"type\": \"heatmapgl\"}], \"histogram\": [{\"marker\": {\"colorbar\": {\"outlinewidth\": 0, \"ticks\": \"\"}}, \"type\": \"histogram\"}], \"histogram2d\": [{\"colorbar\": {\"outlinewidth\": 0, \"ticks\": \"\"}, \"colorscale\": [[0.0, \"#0d0887\"], [0.1111111111111111, \"#46039f\"], [0.2222222222222222, \"#7201a8\"], [0.3333333333333333, \"#9c179e\"], [0.4444444444444444, \"#bd3786\"], [0.5555555555555556, \"#d8576b\"], [0.6666666666666666, \"#ed7953\"], [0.7777777777777778, \"#fb9f3a\"], [0.8888888888888888, \"#fdca26\"], [1.0, \"#f0f921\"]], \"type\": \"histogram2d\"}], \"histogram2dcontour\": [{\"colorbar\": {\"outlinewidth\": 0, \"ticks\": \"\"}, \"colorscale\": [[0.0, \"#0d0887\"], [0.1111111111111111, \"#46039f\"], [0.2222222222222222, \"#7201a8\"], [0.3333333333333333, \"#9c179e\"], [0.4444444444444444, \"#bd3786\"], [0.5555555555555556, \"#d8576b\"], [0.6666666666666666, \"#ed7953\"], [0.7777777777777778, \"#fb9f3a\"], [0.8888888888888888, \"#fdca26\"], [1.0, \"#f0f921\"]], \"type\": \"histogram2dcontour\"}], \"mesh3d\": [{\"colorbar\": {\"outlinewidth\": 0, \"ticks\": \"\"}, \"type\": \"mesh3d\"}], \"parcoords\": [{\"line\": {\"colorbar\": {\"outlinewidth\": 0, \"ticks\": \"\"}}, \"type\": \"parcoords\"}], \"pie\": [{\"automargin\": true, \"type\": \"pie\"}], \"scatter\": [{\"marker\": {\"colorbar\": {\"outlinewidth\": 0, \"ticks\": \"\"}}, \"type\": \"scatter\"}], \"scatter3d\": [{\"line\": {\"colorbar\": {\"outlinewidth\": 0, \"ticks\": \"\"}}, \"marker\": {\"colorbar\": {\"outlinewidth\": 0, \"ticks\": \"\"}}, \"type\": \"scatter3d\"}], \"scattercarpet\": [{\"marker\": {\"colorbar\": {\"outlinewidth\": 0, \"ticks\": \"\"}}, \"type\": \"scattercarpet\"}], \"scattergeo\": [{\"marker\": {\"colorbar\": {\"outlinewidth\": 0, \"ticks\": \"\"}}, \"type\": \"scattergeo\"}], \"scattergl\": [{\"marker\": {\"colorbar\": {\"outlinewidth\": 0, \"ticks\": \"\"}}, \"type\": \"scattergl\"}], \"scattermapbox\": [{\"marker\": {\"colorbar\": {\"outlinewidth\": 0, \"ticks\": \"\"}}, \"type\": \"scattermapbox\"}], \"scatterpolar\": [{\"marker\": {\"colorbar\": {\"outlinewidth\": 0, \"ticks\": \"\"}}, \"type\": \"scatterpolar\"}], \"scatterpolargl\": [{\"marker\": {\"colorbar\": {\"outlinewidth\": 0, \"ticks\": \"\"}}, \"type\": \"scatterpolargl\"}], \"scatterternary\": [{\"marker\": {\"colorbar\": {\"outlinewidth\": 0, \"ticks\": \"\"}}, \"type\": \"scatterternary\"}], \"surface\": [{\"colorbar\": {\"outlinewidth\": 0, \"ticks\": \"\"}, \"colorscale\": [[0.0, \"#0d0887\"], [0.1111111111111111, \"#46039f\"], [0.2222222222222222, \"#7201a8\"], [0.3333333333333333, \"#9c179e\"], [0.4444444444444444, \"#bd3786\"], [0.5555555555555556, \"#d8576b\"], [0.6666666666666666, \"#ed7953\"], [0.7777777777777778, \"#fb9f3a\"], [0.8888888888888888, \"#fdca26\"], [1.0, \"#f0f921\"]], \"type\": \"surface\"}], \"table\": [{\"cells\": {\"fill\": {\"color\": \"#EBF0F8\"}, \"line\": {\"color\": \"white\"}}, \"header\": {\"fill\": {\"color\": \"#C8D4E3\"}, \"line\": {\"color\": \"white\"}}, \"type\": \"table\"}]}, \"layout\": {\"annotationdefaults\": {\"arrowcolor\": \"#2a3f5f\", \"arrowhead\": 0, \"arrowwidth\": 1}, \"autotypenumbers\": \"strict\", \"coloraxis\": {\"colorbar\": {\"outlinewidth\": 0, \"ticks\": \"\"}}, \"colorscale\": {\"diverging\": [[0, \"#8e0152\"], [0.1, \"#c51b7d\"], [0.2, \"#de77ae\"], [0.3, \"#f1b6da\"], [0.4, \"#fde0ef\"], [0.5, \"#f7f7f7\"], [0.6, \"#e6f5d0\"], [0.7, \"#b8e186\"], [0.8, \"#7fbc41\"], [0.9, \"#4d9221\"], [1, \"#276419\"]], \"sequential\": [[0.0, \"#0d0887\"], [0.1111111111111111, \"#46039f\"], [0.2222222222222222, \"#7201a8\"], [0.3333333333333333, \"#9c179e\"], [0.4444444444444444, \"#bd3786\"], [0.5555555555555556, \"#d8576b\"], [0.6666666666666666, \"#ed7953\"], [0.7777777777777778, \"#fb9f3a\"], [0.8888888888888888, \"#fdca26\"], [1.0, \"#f0f921\"]], \"sequentialminus\": [[0.0, \"#0d0887\"], [0.1111111111111111, \"#46039f\"], [0.2222222222222222, \"#7201a8\"], [0.3333333333333333, \"#9c179e\"], [0.4444444444444444, \"#bd3786\"], [0.5555555555555556, \"#d8576b\"], [0.6666666666666666, \"#ed7953\"], [0.7777777777777778, \"#fb9f3a\"], [0.8888888888888888, \"#fdca26\"], [1.0, \"#f0f921\"]]}, \"colorway\": [\"#636efa\", \"#EF553B\", \"#00cc96\", \"#ab63fa\", \"#FFA15A\", \"#19d3f3\", \"#FF6692\", \"#B6E880\", \"#FF97FF\", \"#FECB52\"], \"font\": {\"color\": \"#2a3f5f\"}, \"geo\": {\"bgcolor\": \"white\", \"lakecolor\": \"white\", \"landcolor\": \"#E5ECF6\", \"showlakes\": true, \"showland\": true, \"subunitcolor\": \"white\"}, \"hoverlabel\": {\"align\": \"left\"}, \"hovermode\": \"closest\", \"mapbox\": {\"style\": \"light\"}, \"paper_bgcolor\": \"white\", \"plot_bgcolor\": \"#E5ECF6\", \"polar\": {\"angularaxis\": {\"gridcolor\": \"white\", \"linecolor\": \"white\", \"ticks\": \"\"}, \"bgcolor\": \"#E5ECF6\", \"radialaxis\": {\"gridcolor\": \"white\", \"linecolor\": \"white\", \"ticks\": \"\"}}, \"scene\": {\"xaxis\": {\"backgroundcolor\": \"#E5ECF6\", \"gridcolor\": \"white\", \"gridwidth\": 2, \"linecolor\": \"white\", \"showbackground\": true, \"ticks\": \"\", \"zerolinecolor\": \"white\"}, \"yaxis\": {\"backgroundcolor\": \"#E5ECF6\", \"gridcolor\": \"white\", \"gridwidth\": 2, \"linecolor\": \"white\", \"showbackground\": true, \"ticks\": \"\", \"zerolinecolor\": \"white\"}, \"zaxis\": {\"backgroundcolor\": \"#E5ECF6\", \"gridcolor\": \"white\", \"gridwidth\": 2, \"linecolor\": \"white\", \"showbackground\": true, \"ticks\": \"\", \"zerolinecolor\": \"white\"}}, \"shapedefaults\": {\"line\": {\"color\": \"#2a3f5f\"}}, \"ternary\": {\"aaxis\": {\"gridcolor\": \"white\", \"linecolor\": \"white\", \"ticks\": \"\"}, \"baxis\": {\"gridcolor\": \"white\", \"linecolor\": \"white\", \"ticks\": \"\"}, \"bgcolor\": \"#E5ECF6\", \"caxis\": {\"gridcolor\": \"white\", \"linecolor\": \"white\", \"ticks\": \"\"}}, \"title\": {\"x\": 0.05}, \"xaxis\": {\"automargin\": true, \"gridcolor\": \"white\", \"linecolor\": \"white\", \"ticks\": \"\", \"title\": {\"standoff\": 15}, \"zerolinecolor\": \"white\", \"zerolinewidth\": 2}, \"yaxis\": {\"automargin\": true, \"gridcolor\": \"white\", \"linecolor\": \"white\", \"ticks\": \"\", \"title\": {\"standoff\": 15}, \"zerolinecolor\": \"white\", \"zerolinewidth\": 2}}}, \"title\": {\"text\": \"\\u041c\\u0430\\u0442\\u0440\\u0438\\u0446\\u0430 \\u043a\\u043e\\u0440\\u0440\\u0435\\u043b\\u044f\\u0446\\u0438\\u0438 \\u043a\\u043e\\u043b\\u0438\\u0447\\u0435\\u0441\\u0442\\u0432\\u0435\\u043d\\u043d\\u044b\\u0445 \\u043f\\u0440\\u0438\\u0437\\u043d\\u0430\\u043a\\u043e\\u0432\"}, \"width\": 500, \"xaxis\": {\"tickfont\": {\"size\": 11}}, \"yaxis\": {\"tickfont\": {\"size\": 11}}},                        {\"responsive\": true}                    ).then(function(){\n",
       "                            \n",
       "var gd = document.getElementById('53b35885-4de3-42d8-bdca-8750af39644f');\n",
       "var x = new MutationObserver(function (mutations, observer) {{\n",
       "        var display = window.getComputedStyle(gd).display;\n",
       "        if (!display || display === 'none') {{\n",
       "            console.log([gd, 'removed!']);\n",
       "            Plotly.purge(gd);\n",
       "            observer.disconnect();\n",
       "        }}\n",
       "}});\n",
       "\n",
       "// Listen for the removal of the full notebook cells\n",
       "var notebookContainer = gd.closest('#notebook-container');\n",
       "if (notebookContainer) {{\n",
       "    x.observe(notebookContainer, {childList: true});\n",
       "}}\n",
       "\n",
       "// Listen for the clearing of the current output cell\n",
       "var outputEl = gd.closest('.output');\n",
       "if (outputEl) {{\n",
       "    x.observe(outputEl, {childList: true});\n",
       "}}\n",
       "\n",
       "                        })                };                });            </script>        </div>"
      ]
     },
     "metadata": {},
     "output_type": "display_data"
    }
   ],
   "source": [
    "correlation = features[num_cols].corr()\n",
    "matrix_cols = num_cols\n",
    "corr_array  = np.array(correlation)\n",
    "\n",
    "trace = go.Heatmap(z = corr_array,\n",
    "                   x = matrix_cols,\n",
    "                   y = matrix_cols,\n",
    "                   colorscale = \"Viridis\",\n",
    "                   colorbar   = dict(title = \"Коэффициент корреляции Пирсона\",\n",
    "                                     titleside = \"right\")\n",
    "                  )\n",
    "\n",
    "layout = go.Layout(dict(title = \"Матрица корреляции количественных признаков\",\n",
    "                        autosize = False,\n",
    "                        height  = 500,\n",
    "                        width   = 500,\n",
    "                        yaxis   = dict(tickfont = dict(size = 11)),\n",
    "                        xaxis   = dict(tickfont = dict(size = 11))\n",
    "                       )\n",
    "                  )\n",
    "\n",
    "fig = go.Figure(data=trace,layout=layout)\n",
    "py.iplot(fig)"
   ]
  },
  {
   "cell_type": "markdown",
   "metadata": {},
   "source": [
    "По графику видно что у нас присутствует проблема мультиколлинеарности:  \n",
    "количественные признаки `TotalCharges` и `TotalTime` имеют сильную корреляцию друг с другом (0,82) \n",
    "\n",
    "Проблема заключается в том, что при дальнейшем обучении моделей, это наличие сильно коррелирующих количественных признаков может привести к переобучению  \n",
    "\n",
    "Чтобы решить проблему, необходимо удалить один из признаков:  \n",
    "удалим `TotalCharges` - он менее ценен т.к. у него также присутствует достаточно высокая корреляция с признаком `MonthlyCharges`  "
   ]
  },
  {
   "cell_type": "code",
   "execution_count": 97,
   "metadata": {
    "scrolled": true
   },
   "outputs": [
    {
     "data": {
      "text/plain": [
       "(7032, 16)"
      ]
     },
     "execution_count": 97,
     "metadata": {},
     "output_type": "execute_result"
    }
   ],
   "source": [
    "features.drop('TotalCharges', axis='columns', inplace=True)\n",
    "\n",
    "features.shape"
   ]
  },
  {
   "cell_type": "markdown",
   "metadata": {},
   "source": [
    "### Кодирование категориальных признаков\n",
    "\n",
    "Сначала определим список категориальных признаков:"
   ]
  },
  {
   "cell_type": "code",
   "execution_count": 98,
   "metadata": {},
   "outputs": [
    {
     "data": {
      "text/plain": [
       "['Type',\n",
       " 'PaymentMethod',\n",
       " 'gender',\n",
       " 'SeniorCitizen',\n",
       " 'Partner',\n",
       " 'Dependents',\n",
       " 'InternetService',\n",
       " 'OnlineSecurity',\n",
       " 'OnlineBackup',\n",
       " 'DeviceProtection',\n",
       " 'TechSupport',\n",
       " 'StreamingTV',\n",
       " 'StreamingMovies',\n",
       " 'MultipleLines']"
      ]
     },
     "execution_count": 98,
     "metadata": {},
     "output_type": "execute_result"
    }
   ],
   "source": [
    "cat_cols = features.nunique()[features.nunique() < 6].keys().tolist()\n",
    "cat_cols"
   ]
  },
  {
   "cell_type": "markdown",
   "metadata": {},
   "source": [
    "Кодирование категориальных признаков произведем при помощи создания dummy-переменных (т.е. используем метод прямого кодирования `OHE`):"
   ]
  },
  {
   "cell_type": "code",
   "execution_count": 99,
   "metadata": {},
   "outputs": [
    {
     "data": {
      "text/html": [
       "<div>\n",
       "<style scoped>\n",
       "    .dataframe tbody tr th:only-of-type {\n",
       "        vertical-align: middle;\n",
       "    }\n",
       "\n",
       "    .dataframe tbody tr th {\n",
       "        vertical-align: top;\n",
       "    }\n",
       "\n",
       "    .dataframe thead th {\n",
       "        text-align: right;\n",
       "    }\n",
       "</style>\n",
       "<table border=\"1\" class=\"dataframe\">\n",
       "  <thead>\n",
       "    <tr style=\"text-align: right;\">\n",
       "      <th></th>\n",
       "      <th>MonthlyCharges</th>\n",
       "      <th>TotalTime</th>\n",
       "      <th>Type_One year</th>\n",
       "      <th>Type_Two year</th>\n",
       "      <th>PaymentMethod_Credit card (automatic)</th>\n",
       "      <th>PaymentMethod_Electronic check</th>\n",
       "      <th>PaymentMethod_Mailed check</th>\n",
       "      <th>gender_Male</th>\n",
       "      <th>SeniorCitizen_1</th>\n",
       "      <th>Partner_Yes</th>\n",
       "      <th>Dependents_Yes</th>\n",
       "      <th>InternetService_Fiber optic</th>\n",
       "      <th>InternetService_No</th>\n",
       "      <th>OnlineSecurity_Yes</th>\n",
       "      <th>OnlineBackup_Yes</th>\n",
       "      <th>DeviceProtection_Yes</th>\n",
       "      <th>TechSupport_Yes</th>\n",
       "      <th>StreamingTV_Yes</th>\n",
       "      <th>StreamingMovies_Yes</th>\n",
       "      <th>MultipleLines_Yes</th>\n",
       "    </tr>\n",
       "    <tr>\n",
       "      <th>customerID</th>\n",
       "      <th></th>\n",
       "      <th></th>\n",
       "      <th></th>\n",
       "      <th></th>\n",
       "      <th></th>\n",
       "      <th></th>\n",
       "      <th></th>\n",
       "      <th></th>\n",
       "      <th></th>\n",
       "      <th></th>\n",
       "      <th></th>\n",
       "      <th></th>\n",
       "      <th></th>\n",
       "      <th></th>\n",
       "      <th></th>\n",
       "      <th></th>\n",
       "      <th></th>\n",
       "      <th></th>\n",
       "      <th></th>\n",
       "      <th></th>\n",
       "    </tr>\n",
       "  </thead>\n",
       "  <tbody>\n",
       "    <tr>\n",
       "      <th>7590-VHVEG</th>\n",
       "      <td>29.85</td>\n",
       "      <td>31.0</td>\n",
       "      <td>0</td>\n",
       "      <td>0</td>\n",
       "      <td>0</td>\n",
       "      <td>1</td>\n",
       "      <td>0</td>\n",
       "      <td>0</td>\n",
       "      <td>0</td>\n",
       "      <td>1</td>\n",
       "      <td>0</td>\n",
       "      <td>0</td>\n",
       "      <td>0</td>\n",
       "      <td>0</td>\n",
       "      <td>1</td>\n",
       "      <td>0</td>\n",
       "      <td>0</td>\n",
       "      <td>0</td>\n",
       "      <td>0</td>\n",
       "      <td>0</td>\n",
       "    </tr>\n",
       "    <tr>\n",
       "      <th>5575-GNVDE</th>\n",
       "      <td>56.95</td>\n",
       "      <td>1036.0</td>\n",
       "      <td>1</td>\n",
       "      <td>0</td>\n",
       "      <td>0</td>\n",
       "      <td>0</td>\n",
       "      <td>1</td>\n",
       "      <td>1</td>\n",
       "      <td>0</td>\n",
       "      <td>0</td>\n",
       "      <td>0</td>\n",
       "      <td>0</td>\n",
       "      <td>0</td>\n",
       "      <td>1</td>\n",
       "      <td>0</td>\n",
       "      <td>1</td>\n",
       "      <td>0</td>\n",
       "      <td>0</td>\n",
       "      <td>0</td>\n",
       "      <td>0</td>\n",
       "    </tr>\n",
       "    <tr>\n",
       "      <th>3668-QPYBK</th>\n",
       "      <td>53.85</td>\n",
       "      <td>61.0</td>\n",
       "      <td>0</td>\n",
       "      <td>0</td>\n",
       "      <td>0</td>\n",
       "      <td>0</td>\n",
       "      <td>1</td>\n",
       "      <td>1</td>\n",
       "      <td>0</td>\n",
       "      <td>0</td>\n",
       "      <td>0</td>\n",
       "      <td>0</td>\n",
       "      <td>0</td>\n",
       "      <td>1</td>\n",
       "      <td>1</td>\n",
       "      <td>0</td>\n",
       "      <td>0</td>\n",
       "      <td>0</td>\n",
       "      <td>0</td>\n",
       "      <td>0</td>\n",
       "    </tr>\n",
       "    <tr>\n",
       "      <th>7795-CFOCW</th>\n",
       "      <td>42.30</td>\n",
       "      <td>1371.0</td>\n",
       "      <td>1</td>\n",
       "      <td>0</td>\n",
       "      <td>0</td>\n",
       "      <td>0</td>\n",
       "      <td>0</td>\n",
       "      <td>1</td>\n",
       "      <td>0</td>\n",
       "      <td>0</td>\n",
       "      <td>0</td>\n",
       "      <td>0</td>\n",
       "      <td>0</td>\n",
       "      <td>1</td>\n",
       "      <td>0</td>\n",
       "      <td>1</td>\n",
       "      <td>1</td>\n",
       "      <td>0</td>\n",
       "      <td>0</td>\n",
       "      <td>0</td>\n",
       "    </tr>\n",
       "    <tr>\n",
       "      <th>9237-HQITU</th>\n",
       "      <td>70.70</td>\n",
       "      <td>61.0</td>\n",
       "      <td>0</td>\n",
       "      <td>0</td>\n",
       "      <td>0</td>\n",
       "      <td>1</td>\n",
       "      <td>0</td>\n",
       "      <td>0</td>\n",
       "      <td>0</td>\n",
       "      <td>0</td>\n",
       "      <td>0</td>\n",
       "      <td>1</td>\n",
       "      <td>0</td>\n",
       "      <td>0</td>\n",
       "      <td>0</td>\n",
       "      <td>0</td>\n",
       "      <td>0</td>\n",
       "      <td>0</td>\n",
       "      <td>0</td>\n",
       "      <td>0</td>\n",
       "    </tr>\n",
       "  </tbody>\n",
       "</table>\n",
       "</div>"
      ],
      "text/plain": [
       "            MonthlyCharges  TotalTime  Type_One year  Type_Two year  \\\n",
       "customerID                                                            \n",
       "7590-VHVEG           29.85       31.0              0              0   \n",
       "5575-GNVDE           56.95     1036.0              1              0   \n",
       "3668-QPYBK           53.85       61.0              0              0   \n",
       "7795-CFOCW           42.30     1371.0              1              0   \n",
       "9237-HQITU           70.70       61.0              0              0   \n",
       "\n",
       "            PaymentMethod_Credit card (automatic)  \\\n",
       "customerID                                          \n",
       "7590-VHVEG                                      0   \n",
       "5575-GNVDE                                      0   \n",
       "3668-QPYBK                                      0   \n",
       "7795-CFOCW                                      0   \n",
       "9237-HQITU                                      0   \n",
       "\n",
       "            PaymentMethod_Electronic check  PaymentMethod_Mailed check  \\\n",
       "customerID                                                               \n",
       "7590-VHVEG                               1                           0   \n",
       "5575-GNVDE                               0                           1   \n",
       "3668-QPYBK                               0                           1   \n",
       "7795-CFOCW                               0                           0   \n",
       "9237-HQITU                               1                           0   \n",
       "\n",
       "            gender_Male  SeniorCitizen_1  Partner_Yes  Dependents_Yes  \\\n",
       "customerID                                                              \n",
       "7590-VHVEG            0                0            1               0   \n",
       "5575-GNVDE            1                0            0               0   \n",
       "3668-QPYBK            1                0            0               0   \n",
       "7795-CFOCW            1                0            0               0   \n",
       "9237-HQITU            0                0            0               0   \n",
       "\n",
       "            InternetService_Fiber optic  InternetService_No  \\\n",
       "customerID                                                    \n",
       "7590-VHVEG                            0                   0   \n",
       "5575-GNVDE                            0                   0   \n",
       "3668-QPYBK                            0                   0   \n",
       "7795-CFOCW                            0                   0   \n",
       "9237-HQITU                            1                   0   \n",
       "\n",
       "            OnlineSecurity_Yes  OnlineBackup_Yes  DeviceProtection_Yes  \\\n",
       "customerID                                                               \n",
       "7590-VHVEG                   0                 1                     0   \n",
       "5575-GNVDE                   1                 0                     1   \n",
       "3668-QPYBK                   1                 1                     0   \n",
       "7795-CFOCW                   1                 0                     1   \n",
       "9237-HQITU                   0                 0                     0   \n",
       "\n",
       "            TechSupport_Yes  StreamingTV_Yes  StreamingMovies_Yes  \\\n",
       "customerID                                                          \n",
       "7590-VHVEG                0                0                    0   \n",
       "5575-GNVDE                0                0                    0   \n",
       "3668-QPYBK                0                0                    0   \n",
       "7795-CFOCW                1                0                    0   \n",
       "9237-HQITU                0                0                    0   \n",
       "\n",
       "            MultipleLines_Yes  \n",
       "customerID                     \n",
       "7590-VHVEG                  0  \n",
       "5575-GNVDE                  0  \n",
       "3668-QPYBK                  0  \n",
       "7795-CFOCW                  0  \n",
       "9237-HQITU                  0  "
      ]
     },
     "execution_count": 99,
     "metadata": {},
     "output_type": "execute_result"
    }
   ],
   "source": [
    "features_ohe = pd.get_dummies(data = features, columns=cat_cols, drop_first=True)\n",
    "\n",
    "features_ohe.head()"
   ]
  },
  {
   "cell_type": "markdown",
   "metadata": {},
   "source": [
    "### Деление на выборки\n",
    "\n",
    "Определим тренировочную, валидационную и тестовую выборки:"
   ]
  },
  {
   "cell_type": "code",
   "execution_count": 128,
   "metadata": {},
   "outputs": [
    {
     "name": "stdout",
     "output_type": "stream",
     "text": [
      "Размер train: (4219, 20) (4219,) \n",
      "Размер valid: (1406, 20) (1406,) \n",
      "Размер test: (1407, 20) (1407,)\n"
     ]
    }
   ],
   "source": [
    "features_train, features_testvalid, target_train, target_testvalid = train_test_split(\n",
    "features_ohe, target, test_size=0.4, shuffle=False, random_state=42)\n",
    "\n",
    "features_valid, features_test, target_valid, target_test = train_test_split(\n",
    "features_testvalid, target_testvalid, test_size=0.5, shuffle=False, random_state=42)\n",
    "\n",
    "print('Размер train:', features_train.shape, target_train.shape,\n",
    "      '\\nРазмер valid:', features_valid.shape, target_valid.shape,\n",
    "      '\\nРазмер test:', features_test.shape, target_test.shape)"
   ]
  },
  {
   "cell_type": "markdown",
   "metadata": {},
   "source": [
    "### Масштабирование численных признаков\n",
    "\n",
    "Произведем масштабирование при помощи `StandardScaler()`"
   ]
  },
  {
   "cell_type": "code",
   "execution_count": 129,
   "metadata": {},
   "outputs": [
    {
     "data": {
      "text/plain": [
       "['MonthlyCharges', 'TotalTime']"
      ]
     },
     "execution_count": 129,
     "metadata": {},
     "output_type": "execute_result"
    }
   ],
   "source": [
    "num_cols = [i for i in features.columns if features[i].dtype == 'float64']\n",
    "num_cols"
   ]
  },
  {
   "cell_type": "markdown",
   "metadata": {},
   "source": [
    "Для того, чтобы избежать переобучения, обучим стандартизатор на тренировочном датасете, а стандартизировать будем всё:"
   ]
  },
  {
   "cell_type": "code",
   "execution_count": 130,
   "metadata": {},
   "outputs": [
    {
     "data": {
      "text/html": [
       "<div>\n",
       "<style scoped>\n",
       "    .dataframe tbody tr th:only-of-type {\n",
       "        vertical-align: middle;\n",
       "    }\n",
       "\n",
       "    .dataframe tbody tr th {\n",
       "        vertical-align: top;\n",
       "    }\n",
       "\n",
       "    .dataframe thead th {\n",
       "        text-align: right;\n",
       "    }\n",
       "</style>\n",
       "<table border=\"1\" class=\"dataframe\">\n",
       "  <thead>\n",
       "    <tr style=\"text-align: right;\">\n",
       "      <th></th>\n",
       "      <th>MonthlyCharges</th>\n",
       "      <th>TotalTime</th>\n",
       "      <th>Type_One year</th>\n",
       "      <th>Type_Two year</th>\n",
       "      <th>PaymentMethod_Credit card (automatic)</th>\n",
       "      <th>PaymentMethod_Electronic check</th>\n",
       "      <th>PaymentMethod_Mailed check</th>\n",
       "      <th>gender_Male</th>\n",
       "      <th>SeniorCitizen_1</th>\n",
       "      <th>Partner_Yes</th>\n",
       "      <th>Dependents_Yes</th>\n",
       "      <th>InternetService_Fiber optic</th>\n",
       "      <th>InternetService_No</th>\n",
       "      <th>OnlineSecurity_Yes</th>\n",
       "      <th>OnlineBackup_Yes</th>\n",
       "      <th>DeviceProtection_Yes</th>\n",
       "      <th>TechSupport_Yes</th>\n",
       "      <th>StreamingTV_Yes</th>\n",
       "      <th>StreamingMovies_Yes</th>\n",
       "      <th>MultipleLines_Yes</th>\n",
       "    </tr>\n",
       "    <tr>\n",
       "      <th>customerID</th>\n",
       "      <th></th>\n",
       "      <th></th>\n",
       "      <th></th>\n",
       "      <th></th>\n",
       "      <th></th>\n",
       "      <th></th>\n",
       "      <th></th>\n",
       "      <th></th>\n",
       "      <th></th>\n",
       "      <th></th>\n",
       "      <th></th>\n",
       "      <th></th>\n",
       "      <th></th>\n",
       "      <th></th>\n",
       "      <th></th>\n",
       "      <th></th>\n",
       "      <th></th>\n",
       "      <th></th>\n",
       "      <th></th>\n",
       "      <th></th>\n",
       "    </tr>\n",
       "  </thead>\n",
       "  <tbody>\n",
       "    <tr>\n",
       "      <th>7590-VHVEG</th>\n",
       "      <td>-1.161087</td>\n",
       "      <td>-1.267989</td>\n",
       "      <td>0</td>\n",
       "      <td>0</td>\n",
       "      <td>0</td>\n",
       "      <td>1</td>\n",
       "      <td>0</td>\n",
       "      <td>0</td>\n",
       "      <td>0</td>\n",
       "      <td>1</td>\n",
       "      <td>0</td>\n",
       "      <td>0</td>\n",
       "      <td>0</td>\n",
       "      <td>0</td>\n",
       "      <td>1</td>\n",
       "      <td>0</td>\n",
       "      <td>0</td>\n",
       "      <td>0</td>\n",
       "      <td>0</td>\n",
       "      <td>0</td>\n",
       "    </tr>\n",
       "    <tr>\n",
       "      <th>5575-GNVDE</th>\n",
       "      <td>-0.260862</td>\n",
       "      <td>0.073477</td>\n",
       "      <td>1</td>\n",
       "      <td>0</td>\n",
       "      <td>0</td>\n",
       "      <td>0</td>\n",
       "      <td>1</td>\n",
       "      <td>1</td>\n",
       "      <td>0</td>\n",
       "      <td>0</td>\n",
       "      <td>0</td>\n",
       "      <td>0</td>\n",
       "      <td>0</td>\n",
       "      <td>1</td>\n",
       "      <td>0</td>\n",
       "      <td>1</td>\n",
       "      <td>0</td>\n",
       "      <td>0</td>\n",
       "      <td>0</td>\n",
       "      <td>0</td>\n",
       "    </tr>\n",
       "    <tr>\n",
       "      <th>3668-QPYBK</th>\n",
       "      <td>-0.363840</td>\n",
       "      <td>-1.227945</td>\n",
       "      <td>0</td>\n",
       "      <td>0</td>\n",
       "      <td>0</td>\n",
       "      <td>0</td>\n",
       "      <td>1</td>\n",
       "      <td>1</td>\n",
       "      <td>0</td>\n",
       "      <td>0</td>\n",
       "      <td>0</td>\n",
       "      <td>0</td>\n",
       "      <td>0</td>\n",
       "      <td>1</td>\n",
       "      <td>1</td>\n",
       "      <td>0</td>\n",
       "      <td>0</td>\n",
       "      <td>0</td>\n",
       "      <td>0</td>\n",
       "      <td>0</td>\n",
       "    </tr>\n",
       "    <tr>\n",
       "      <th>7795-CFOCW</th>\n",
       "      <td>-0.747515</td>\n",
       "      <td>0.520632</td>\n",
       "      <td>1</td>\n",
       "      <td>0</td>\n",
       "      <td>0</td>\n",
       "      <td>0</td>\n",
       "      <td>0</td>\n",
       "      <td>1</td>\n",
       "      <td>0</td>\n",
       "      <td>0</td>\n",
       "      <td>0</td>\n",
       "      <td>0</td>\n",
       "      <td>0</td>\n",
       "      <td>1</td>\n",
       "      <td>0</td>\n",
       "      <td>1</td>\n",
       "      <td>1</td>\n",
       "      <td>0</td>\n",
       "      <td>0</td>\n",
       "      <td>0</td>\n",
       "    </tr>\n",
       "    <tr>\n",
       "      <th>9237-HQITU</th>\n",
       "      <td>0.195895</td>\n",
       "      <td>-1.227945</td>\n",
       "      <td>0</td>\n",
       "      <td>0</td>\n",
       "      <td>0</td>\n",
       "      <td>1</td>\n",
       "      <td>0</td>\n",
       "      <td>0</td>\n",
       "      <td>0</td>\n",
       "      <td>0</td>\n",
       "      <td>0</td>\n",
       "      <td>1</td>\n",
       "      <td>0</td>\n",
       "      <td>0</td>\n",
       "      <td>0</td>\n",
       "      <td>0</td>\n",
       "      <td>0</td>\n",
       "      <td>0</td>\n",
       "      <td>0</td>\n",
       "      <td>0</td>\n",
       "    </tr>\n",
       "  </tbody>\n",
       "</table>\n",
       "</div>"
      ],
      "text/plain": [
       "            MonthlyCharges  TotalTime  Type_One year  Type_Two year  \\\n",
       "customerID                                                            \n",
       "7590-VHVEG       -1.161087  -1.267989              0              0   \n",
       "5575-GNVDE       -0.260862   0.073477              1              0   \n",
       "3668-QPYBK       -0.363840  -1.227945              0              0   \n",
       "7795-CFOCW       -0.747515   0.520632              1              0   \n",
       "9237-HQITU        0.195895  -1.227945              0              0   \n",
       "\n",
       "            PaymentMethod_Credit card (automatic)  \\\n",
       "customerID                                          \n",
       "7590-VHVEG                                      0   \n",
       "5575-GNVDE                                      0   \n",
       "3668-QPYBK                                      0   \n",
       "7795-CFOCW                                      0   \n",
       "9237-HQITU                                      0   \n",
       "\n",
       "            PaymentMethod_Electronic check  PaymentMethod_Mailed check  \\\n",
       "customerID                                                               \n",
       "7590-VHVEG                               1                           0   \n",
       "5575-GNVDE                               0                           1   \n",
       "3668-QPYBK                               0                           1   \n",
       "7795-CFOCW                               0                           0   \n",
       "9237-HQITU                               1                           0   \n",
       "\n",
       "            gender_Male  SeniorCitizen_1  Partner_Yes  Dependents_Yes  \\\n",
       "customerID                                                              \n",
       "7590-VHVEG            0                0            1               0   \n",
       "5575-GNVDE            1                0            0               0   \n",
       "3668-QPYBK            1                0            0               0   \n",
       "7795-CFOCW            1                0            0               0   \n",
       "9237-HQITU            0                0            0               0   \n",
       "\n",
       "            InternetService_Fiber optic  InternetService_No  \\\n",
       "customerID                                                    \n",
       "7590-VHVEG                            0                   0   \n",
       "5575-GNVDE                            0                   0   \n",
       "3668-QPYBK                            0                   0   \n",
       "7795-CFOCW                            0                   0   \n",
       "9237-HQITU                            1                   0   \n",
       "\n",
       "            OnlineSecurity_Yes  OnlineBackup_Yes  DeviceProtection_Yes  \\\n",
       "customerID                                                               \n",
       "7590-VHVEG                   0                 1                     0   \n",
       "5575-GNVDE                   1                 0                     1   \n",
       "3668-QPYBK                   1                 1                     0   \n",
       "7795-CFOCW                   1                 0                     1   \n",
       "9237-HQITU                   0                 0                     0   \n",
       "\n",
       "            TechSupport_Yes  StreamingTV_Yes  StreamingMovies_Yes  \\\n",
       "customerID                                                          \n",
       "7590-VHVEG                0                0                    0   \n",
       "5575-GNVDE                0                0                    0   \n",
       "3668-QPYBK                0                0                    0   \n",
       "7795-CFOCW                1                0                    0   \n",
       "9237-HQITU                0                0                    0   \n",
       "\n",
       "            MultipleLines_Yes  \n",
       "customerID                     \n",
       "7590-VHVEG                  0  \n",
       "5575-GNVDE                  0  \n",
       "3668-QPYBK                  0  \n",
       "7795-CFOCW                  0  \n",
       "9237-HQITU                  0  "
      ]
     },
     "execution_count": 130,
     "metadata": {},
     "output_type": "execute_result"
    }
   ],
   "source": [
    "scaler = StandardScaler()\n",
    "\n",
    "scaler.fit(features_train[num_cols])\n",
    "\n",
    "features_train[num_cols] = scaler.transform(features_train[num_cols])\n",
    "features_valid[num_cols] = scaler.transform(features_valid[num_cols])\n",
    "features_test[num_cols] = scaler.transform(features_test[num_cols])\n",
    "\n",
    "features_train.head()"
   ]
  },
  {
   "cell_type": "markdown",
   "metadata": {},
   "source": [
    "Данные подготовлены и корректно поделены на выборки.  \n",
    "Можно приступать к этапу моделирования"
   ]
  },
  {
   "cell_type": "markdown",
   "metadata": {},
   "source": [
    "## Моделирование\n",
    "\n",
    "### Логистическая регрессия (LogisticRegression)\n",
    "#### При дисбалансе классов"
   ]
  },
  {
   "cell_type": "code",
   "execution_count": 136,
   "metadata": {},
   "outputs": [
    {
     "name": "stdout",
     "output_type": "stream",
     "text": [
      "AUC-ROC: 0.82755\n"
     ]
    }
   ],
   "source": [
    "model_lr =  LogisticRegression(random_state=42, solver='liblinear', class_weight = 'balanced')\n",
    "\n",
    "model_lr.fit(features_train, target_train)\n",
    "prediction_lr = model_lr.predict_proba(features_valid)\n",
    "prediction_lr_one_valid = prediction_lr[:, 1]\n",
    "\n",
    "auc_roc_lr = roc_auc_score(target_valid, prediction_lr_one_valid).round(5)\n",
    "\n",
    "print('AUC-ROC:', auc_roc_lr)"
   ]
  },
  {
   "cell_type": "markdown",
   "metadata": {},
   "source": [
    "#### Upsampling   \n",
    "\n",
    "Т.к. у нас присутствует дисбаланс классов, используем функцию, реализующую задачу увеличения выборки меньшего класса"
   ]
  },
  {
   "cell_type": "code",
   "execution_count": 137,
   "metadata": {},
   "outputs": [
    {
     "data": {
      "text/plain": [
       "3"
      ]
     },
     "execution_count": 137,
     "metadata": {},
     "output_type": "execute_result"
    }
   ],
   "source": [
    "repeat = round(len(df.query('ClientLeft==0')) / len(df.query('ClientLeft==1')))\n",
    "repeat"
   ]
  },
  {
   "cell_type": "code",
   "execution_count": 138,
   "metadata": {},
   "outputs": [
    {
     "data": {
      "text/plain": [
       "1    3318\n",
       "0    3113\n",
       "Name: ClientLeft, dtype: int64"
      ]
     },
     "execution_count": 138,
     "metadata": {},
     "output_type": "execute_result"
    }
   ],
   "source": [
    "def upsample(features, target, x):\n",
    "    \n",
    "    features_zeros = features[target == 0]\n",
    "    features_ones = features[target == 1]\n",
    "    target_zeros = target[target == 0]\n",
    "    target_ones = target[target == 1]\n",
    "\n",
    "    features_upsampled = pd.concat([features_zeros] + [features_ones] * x)\n",
    "    target_upsampled = pd.concat([target_zeros] + [target_ones] * x)\n",
    "    \n",
    "    features_upsampled, target_upsampled = shuffle(features_upsampled, target_upsampled, random_state=42)\n",
    "    \n",
    "    return features_upsampled, target_upsampled\n",
    "\n",
    "features_upsampled, target_upsampled = upsample(features_train, target_train, repeat)\n",
    "\n",
    "target_upsampled.value_counts()"
   ]
  },
  {
   "cell_type": "markdown",
   "metadata": {},
   "source": [
    "Попробуем обучить логистическую регрессию еще раз"
   ]
  },
  {
   "cell_type": "code",
   "execution_count": 141,
   "metadata": {},
   "outputs": [
    {
     "name": "stdout",
     "output_type": "stream",
     "text": [
      "AUC-ROC: 0.82769\n"
     ]
    }
   ],
   "source": [
    "model_lr =  LogisticRegression(random_state=42, solver='liblinear')\n",
    "\n",
    "model_lr.fit(features_upsampled, target_upsampled)\n",
    "\n",
    "prediction_lr = model_lr.predict_proba(features_valid)\n",
    "prediction_lr_one_valid = prediction_lr[:, 1]\n",
    "\n",
    "auc_roc_lr = roc_auc_score(target_valid, prediction_lr_one_valid).round(5)\n",
    "\n",
    "print('AUC-ROC:', auc_roc_lr)"
   ]
  },
  {
   "cell_type": "markdown",
   "metadata": {},
   "source": [
    "Значение метрики AUC-ROC ухудшилось  \n",
    "\n",
    "Т.к. теперь у нас классы сбалансированы, проверим значение метрики Accuracy:"
   ]
  },
  {
   "cell_type": "code",
   "execution_count": 147,
   "metadata": {},
   "outputs": [
    {
     "name": "stdout",
     "output_type": "stream",
     "text": [
      "Accuracy: 0.73826\n"
     ]
    }
   ],
   "source": [
    "prediction_lr = model_lr.predict(features_valid)\n",
    "accuracy_lr = accuracy_score(target_valid, prediction_lr).round(5)\n",
    "\n",
    "print('Accuracy:', accuracy_lr)"
   ]
  },
  {
   "cell_type": "markdown",
   "metadata": {},
   "source": [
    "#### Downsampling\n",
    "\n",
    "также используем функцию, реализующую задачу уменьшения выборки большего класса:"
   ]
  },
  {
   "cell_type": "code",
   "execution_count": 148,
   "metadata": {},
   "outputs": [
    {
     "data": {
      "text/plain": [
       "1    1106\n",
       "0    1027\n",
       "Name: ClientLeft, dtype: int64"
      ]
     },
     "execution_count": 148,
     "metadata": {},
     "output_type": "execute_result"
    }
   ],
   "source": [
    "def downsample(features, target, fraction):\n",
    "    \n",
    "    features_zeros = features[target == 0]\n",
    "    features_ones = features[target == 1]\n",
    "    target_zeros = target[target == 0]\n",
    "    target_ones = target[target == 1]\n",
    "\n",
    "    features_downsampled = pd.concat(\n",
    "        [features_zeros.sample(frac=fraction, random_state=42)] + [features_ones])\n",
    "    target_downsampled = pd.concat(\n",
    "        [target_zeros.sample(frac=fraction, random_state=42)] + [target_ones])\n",
    "    \n",
    "    features_downsampled, target_downsampled = shuffle(\n",
    "        features_downsampled, target_downsampled, random_state=42)\n",
    "    \n",
    "    return features_downsampled, target_downsampled\n",
    "\n",
    "features_downsampled, target_downsampled = downsample(features_train, target_train, 0.33)\n",
    "\n",
    "target_downsampled.value_counts()"
   ]
  },
  {
   "cell_type": "code",
   "execution_count": 153,
   "metadata": {},
   "outputs": [
    {
     "name": "stdout",
     "output_type": "stream",
     "text": [
      "AUC-ROC: 0.82434 \n",
      "Accuracy: 0.73969\n"
     ]
    }
   ],
   "source": [
    "model_lr =  LogisticRegression(random_state=42, solver='liblinear')\n",
    "\n",
    "model_lr.fit(features_downsampled, target_downsampled)\n",
    "\n",
    "\n",
    "prediction_lr = model_lr.predict_proba(features_valid)\n",
    "prediction_lr_one_valid = prediction_lr[:, 1]\n",
    "auc_roc_lr = roc_auc_score(target_valid, prediction_lr_one_valid).round(5)\n",
    "\n",
    "prediction_lr = model_lr.predict(features_valid)\n",
    "accuracy_lr = accuracy_score(target_valid, prediction_lr).round(5)\n",
    "\n",
    "print('AUC-ROC:', auc_roc_lr,\n",
    "      '\\nAccuracy:', accuracy_lr)"
   ]
  },
  {
   "cell_type": "markdown",
   "metadata": {},
   "source": [
    "Метрики не улучшились после процедур Downsampling и Upsampling  \n",
    "Наилучший показатель AUC-ROC достигнут при обычном взвешивании и равен 0.83"
   ]
  },
  {
   "cell_type": "markdown",
   "metadata": {},
   "source": [
    "### Дерево решений (DecisionTreeClassifier)\n",
    "#### На дефолтных значениях\n",
    "Сначала обучим модель на дефолтных значениях, затем займемся подбором гиперпараметров."
   ]
  },
  {
   "cell_type": "code",
   "execution_count": 154,
   "metadata": {},
   "outputs": [
    {
     "name": "stdout",
     "output_type": "stream",
     "text": [
      "AUC-ROC: 0.6634 \n",
      "Accuracy: 0.7404\n"
     ]
    }
   ],
   "source": [
    "dt = DecisionTreeClassifier(random_state=42, class_weight='balanced')\n",
    "\n",
    "dt.fit(features_train, target_train)\n",
    "prediction_dt = dt.predict(features_valid)\n",
    "\n",
    "auc_roc_dt = roc_auc_score(target_valid, prediction_dt).round(5)\n",
    "accuracy_dt = accuracy_score(target_valid, prediction_dt).round(5)\n",
    "\n",
    "print('AUC-ROC:', auc_roc_dt,\n",
    "      '\\nAccuracy:', accuracy_dt)"
   ]
  },
  {
   "cell_type": "code",
   "execution_count": 155,
   "metadata": {},
   "outputs": [
    {
     "name": "stdout",
     "output_type": "stream",
     "text": [
      "AUC-ROC: 0.72217 \n",
      "Accuracy: 0.73755\n"
     ]
    }
   ],
   "source": [
    "dt = DecisionTreeClassifier(random_state=42)\n",
    "\n",
    "dt.fit(features_downsampled, target_downsampled)\n",
    "prediction_dt = dt.predict(features_valid)\n",
    "\n",
    "auc_roc_dt = roc_auc_score(target_valid, prediction_dt).round(5)\n",
    "accuracy_dt = accuracy_score(target_valid, prediction_dt).round(5)\n",
    "\n",
    "print('AUC-ROC:', auc_roc_dt,\n",
    "      '\\nAccuracy:', accuracy_dt)"
   ]
  },
  {
   "cell_type": "code",
   "execution_count": 156,
   "metadata": {},
   "outputs": [
    {
     "name": "stdout",
     "output_type": "stream",
     "text": [
      "AUC-ROC: 0.66471 \n",
      "Accuracy: 0.74111\n"
     ]
    }
   ],
   "source": [
    "dt = DecisionTreeClassifier(random_state=42)\n",
    "\n",
    "dt.fit(features_upsampled, target_upsampled)\n",
    "prediction_dt = dt.predict(features_valid)\n",
    "\n",
    "auc_roc_dt = roc_auc_score(target_valid, prediction_dt).round(5)\n",
    "accuracy_dt = accuracy_score(target_valid, prediction_dt).round(5)\n",
    "\n",
    "print('AUC-ROC:', auc_roc_dt,\n",
    "      '\\nAccuracy:', accuracy_dt)"
   ]
  },
  {
   "cell_type": "markdown",
   "metadata": {},
   "source": [
    "#### Подбор гиперпараметров\n",
    "**GridSearchCV**"
   ]
  },
  {
   "cell_type": "code",
   "execution_count": 81,
   "metadata": {},
   "outputs": [
    {
     "name": "stdout",
     "output_type": "stream",
     "text": [
      "Лучшие параметры DecisionTree:\n",
      " {'max_depth': 6, 'min_samples_leaf': 19, 'min_samples_split': 2} \n",
      "\n",
      "Время подбора параметров:\n",
      "Wall time: 1min 27s\n"
     ]
    }
   ],
   "source": [
    "%%time\n",
    "\n",
    "model_dt = DecisionTreeClassifier(random_state=42)\n",
    "\n",
    "dt_params = {\n",
    "    'max_depth':[x for x in range(1, 20, 1)], \n",
    "    'min_samples_leaf':[x for x in range(2, 20, 1)],\n",
    "    'min_samples_split':[x for x in range(2, 20, 1)],\n",
    "}\n",
    "\n",
    "tree_grid = GridSearchCV(model_dt, dt_params, \n",
    "                         scoring='roc_auc', \n",
    "                         cv = 5,\n",
    "                         n_jobs = -1)\n",
    "\n",
    "tree_grid.fit(features_train, target_train)\n",
    "\n",
    "model_dt = DecisionTreeClassifier(random_state=42, **tree_grid.best_params_)\n",
    "\n",
    "print('Лучшие параметры DecisionTree:\\n', tree_grid.best_params_,\n",
    "     '\\n\\nВремя подбора параметров:')"
   ]
  },
  {
   "cell_type": "code",
   "execution_count": 82,
   "metadata": {},
   "outputs": [
    {
     "name": "stdout",
     "output_type": "stream",
     "text": [
      "AUC-ROC: 0.70423 \n",
      "Accuracy: 0.78199\n"
     ]
    }
   ],
   "source": [
    "model_dt.fit(features_train, target_train)\n",
    "\n",
    "preds_dt = model_dt.predict(features_valid)\n",
    "\n",
    "auc_roc_dt = roc_auc_score(target_valid, prediction_dt).round(5)\n",
    "accuracy_dt = accuracy_score(target_valid, prediction_dt).round(5)\n",
    "\n",
    "print('AUC-ROC:', auc_roc_dt,\n",
    "      '\\nAccuracy:', accuracy_dt)"
   ]
  },
  {
   "cell_type": "code",
   "execution_count": 83,
   "metadata": {},
   "outputs": [
    {
     "name": "stdout",
     "output_type": "stream",
     "text": [
      "Лучшие параметры DecisionTree:\n",
      " {'max_depth': 5, 'min_samples_leaf': 14, 'min_samples_split': 2} \n",
      "\n",
      "Время подбора параметров:\n",
      "Wall time: 1min 1s\n"
     ]
    }
   ],
   "source": [
    "%%time\n",
    "\n",
    "model_dt = DecisionTreeClassifier(random_state=42)\n",
    "\n",
    "dt_params = {\n",
    "    'max_depth':[x for x in range(1, 20, 1)], \n",
    "    'min_samples_leaf':[x for x in range(2, 20, 1)],\n",
    "    'min_samples_split':[x for x in range(2, 20, 1)],\n",
    "}\n",
    "\n",
    "tree_grid = GridSearchCV(model_dt, dt_params, \n",
    "                         scoring='roc_auc', \n",
    "                         cv = 5,\n",
    "                         n_jobs = -1)\n",
    "\n",
    "tree_grid.fit(features_downsampled, target_downsampled)\n",
    "\n",
    "model_dt = DecisionTreeClassifier(random_state=42, **tree_grid.best_params_)\n",
    "\n",
    "print('Лучшие параметры DecisionTree:\\n', tree_grid.best_params_,\n",
    "     '\\n\\nВремя подбора параметров:')"
   ]
  },
  {
   "cell_type": "code",
   "execution_count": 84,
   "metadata": {},
   "outputs": [
    {
     "name": "stdout",
     "output_type": "stream",
     "text": [
      "AUC-ROC: 0.70423 \n",
      "Accuracy: 0.78199\n"
     ]
    }
   ],
   "source": [
    "model_dt.fit(features_downsampled, target_downsampled)\n",
    "\n",
    "preds_dt = model_dt.predict(features_valid)\n",
    "\n",
    "auc_roc_dt = roc_auc_score(target_valid, prediction_dt).round(5)\n",
    "accuracy_dt = accuracy_score(target_valid, prediction_dt).round(5)\n",
    "\n",
    "print('AUC-ROC:', auc_roc_dt,\n",
    "      '\\nAccuracy:', accuracy_dt)"
   ]
  },
  {
   "cell_type": "markdown",
   "metadata": {},
   "source": [
    "**RandomizedSearchCV**"
   ]
  },
  {
   "cell_type": "code",
   "execution_count": 163,
   "metadata": {},
   "outputs": [
    {
     "name": "stdout",
     "output_type": "stream",
     "text": [
      "Лучшие параметры RandomForest: {'min_samples_split': 16, 'min_samples_leaf': 16, 'max_depth': 8} \n",
      "\n",
      "Время подбора параметров:\n",
      "Wall time: 1.1 s\n"
     ]
    }
   ],
   "source": [
    "%%time\n",
    "\n",
    "model_dt = DecisionTreeClassifier(random_state=42)\n",
    "\n",
    "dt_params = {\n",
    "    'max_depth':[x for x in range(1, 61, 1)], \n",
    "    'min_samples_leaf':[x for x in range(2, 20, 1)],\n",
    "    'min_samples_split':[x for x in range(2, 20, 1)],\n",
    "}\n",
    "\n",
    "tree_grid = RandomizedSearchCV(model_dt, dt_params, \n",
    "                               scoring='roc_auc', \n",
    "                               cv=5, \n",
    "                               n_iter=20,\n",
    "                               random_state=45)\n",
    "\n",
    "tree_grid.fit(features_train, target_train)\n",
    "#tree_grid.fit(features_downsampled, target_downsampled)\n",
    "#tree_grid.fit(features_upsampled, target_upsampled)\n",
    "\n",
    "model_dt = DecisionTreeClassifier(random_state=42, **tree_grid.best_params_)\n",
    "\n",
    "print('Лучшие параметры RandomForest:', tree_grid.best_params_,\n",
    "     '\\n\\nВремя подбора параметров:')"
   ]
  },
  {
   "cell_type": "code",
   "execution_count": 164,
   "metadata": {},
   "outputs": [
    {
     "name": "stdout",
     "output_type": "stream",
     "text": [
      "AUC-ROC: 0.66571 \n",
      "Accuracy: 0.79516\n"
     ]
    }
   ],
   "source": [
    "model_dt.fit(features_train, target_train)\n",
    "#model_dt.fit(features_downsampled, target_downsampled)\n",
    "#model_dt.fit(features_upsampled, target_upsampled)\n",
    "\n",
    "prediction_dt = model_dt.predict(features_valid)\n",
    "\n",
    "auc_roc_dt = roc_auc_score(target_valid, prediction_dt).round(5)\n",
    "accuracy_dt = accuracy_score(target_valid, prediction_dt).round(5)\n",
    "\n",
    "print('AUC-ROC:', auc_roc_dt,\n",
    "      '\\nAccuracy:', accuracy_dt)"
   ]
  },
  {
   "cell_type": "markdown",
   "metadata": {},
   "source": [
    "### Случайный лес (RandomForestClassifier)\n",
    "#### На дефолтных значениях"
   ]
  },
  {
   "cell_type": "code",
   "execution_count": 165,
   "metadata": {},
   "outputs": [
    {
     "name": "stdout",
     "output_type": "stream",
     "text": [
      "AUC-ROC: 0.68462 \n",
      "Accuracy: 0.78805\n"
     ]
    }
   ],
   "source": [
    "model_f = RandomForestClassifier(random_state=42)\n",
    "\n",
    "model_f.fit(features_train, target_train)\n",
    "prediction_f = model_f.predict(features_valid)\n",
    "\n",
    "auc_roc_f = roc_auc_score(target_valid, prediction_f).round(5)\n",
    "accuracy_f = accuracy_score(target_valid, prediction_f).round(5)\n",
    "\n",
    "print('AUC-ROC:', auc_roc_f,\n",
    "      '\\nAccuracy:', accuracy_f)"
   ]
  },
  {
   "cell_type": "code",
   "execution_count": 166,
   "metadata": {},
   "outputs": [
    {
     "name": "stdout",
     "output_type": "stream",
     "text": [
      "AUC-ROC: 0.73382 \n",
      "Accuracy: 0.73898\n"
     ]
    }
   ],
   "source": [
    "model_f = RandomForestClassifier(random_state=42)\n",
    "\n",
    "model_f.fit(features_downsampled, target_downsampled)\n",
    "prediction_f = model_f.predict(features_valid)\n",
    "\n",
    "auc_roc_f = roc_auc_score(target_valid, prediction_f).round(5)\n",
    "accuracy_f = accuracy_score(target_valid, prediction_f).round(5)\n",
    "\n",
    "print('AUC-ROC:', auc_roc_f,\n",
    "      '\\nAccuracy:', accuracy_f)"
   ]
  },
  {
   "cell_type": "code",
   "execution_count": 167,
   "metadata": {},
   "outputs": [
    {
     "name": "stdout",
     "output_type": "stream",
     "text": [
      "AUC-ROC: 0.7273 \n",
      "Accuracy: 0.78805\n"
     ]
    }
   ],
   "source": [
    "model_f = RandomForestClassifier(random_state=42)\n",
    "\n",
    "model_f.fit(features_upsampled, target_upsampled)\n",
    "prediction_f = model_f.predict(features_valid)\n",
    "\n",
    "auc_roc_f = roc_auc_score(target_valid, prediction_f).round(5)\n",
    "accuracy_f = accuracy_score(target_valid, prediction_f).round(5)\n",
    "\n",
    "print('AUC-ROC:', auc_roc_f,\n",
    "      '\\nAccuracy:', accuracy_f)"
   ]
  },
  {
   "cell_type": "markdown",
   "metadata": {},
   "source": [
    "#### Подбор гиперпараметров\n",
    "\n",
    "**GridSearchCV**"
   ]
  },
  {
   "cell_type": "code",
   "execution_count": 123,
   "metadata": {},
   "outputs": [
    {
     "name": "stdout",
     "output_type": "stream",
     "text": [
      "Лучшие параметры RandomForest: {'max_depth': 7, 'min_samples_leaf': 6, 'min_samples_split': 2, 'n_estimators': 31} \n",
      "\n",
      "Время подбора параметров:\n",
      "Wall time: 9min 24s\n"
     ]
    }
   ],
   "source": [
    "%%time\n",
    "\n",
    "model_f = RandomForestClassifier(random_state=42)\n",
    "\n",
    "forest_params = {\n",
    "    'n_estimators': range(1, 50, 10),\n",
    "    'max_depth': range(1, 21, 1), \n",
    "    'min_samples_leaf': range(2, 11, 1),\n",
    "    'min_samples_split': range(2, 11, 1),\n",
    "}\n",
    "\n",
    "forest_grid = GridSearchCV(model_f, forest_params, \n",
    "                         scoring='roc_auc', \n",
    "                         cv = 5,\n",
    "                         n_jobs = -1)\n",
    "\n",
    "forest_grid.fit(features_train, target_train)\n",
    "\n",
    "model_f = RandomForestClassifier(random_state=42, **forest_grid.best_params_)\n",
    "\n",
    "print('Лучшие параметры RandomForest:', forest_grid.best_params_,\n",
    "     '\\n\\nВремя подбора параметров:')"
   ]
  },
  {
   "cell_type": "code",
   "execution_count": 124,
   "metadata": {},
   "outputs": [
    {
     "name": "stdout",
     "output_type": "stream",
     "text": [
      "AUC-ROC: 0.69474 \n",
      "Accuracy: 0.80174\n"
     ]
    }
   ],
   "source": [
    "model_f.fit(features_train, target_train)\n",
    "\n",
    "prediction_f = model_f.predict(features_valid)\n",
    "\n",
    "auc_roc_f = roc_auc_score(target_valid, prediction_f).round(5)\n",
    "accuracy_f = accuracy_score(target_valid, prediction_f).round(5)\n",
    "\n",
    "print('AUC-ROC:', auc_roc_f,\n",
    "      '\\nAccuracy:', accuracy_f)"
   ]
  },
  {
   "cell_type": "markdown",
   "metadata": {},
   "source": [
    "**RandomizedSearchCV**"
   ]
  },
  {
   "cell_type": "code",
   "execution_count": 168,
   "metadata": {},
   "outputs": [
    {
     "name": "stdout",
     "output_type": "stream",
     "text": [
      "Лучшие параметры RandomForest: {'n_estimators': 41, 'min_samples_split': 4, 'min_samples_leaf': 3, 'max_depth': 10} \n",
      "\n",
      "Время подбора параметров:\n",
      "Wall time: 4.23 s\n"
     ]
    }
   ],
   "source": [
    "%%time\n",
    "\n",
    "model_f = RandomForestClassifier(random_state=42)\n",
    "\n",
    "forest_params = {\n",
    "    'n_estimators': range(1, 50, 10),\n",
    "    'max_depth': range(1, 21, 1), \n",
    "    'min_samples_leaf': range(2, 11, 1),\n",
    "    'min_samples_split': range(2, 11, 1),\n",
    "}\n",
    "\n",
    "forest_grid = RandomizedSearchCV(model_f, forest_params, \n",
    "                               scoring='roc_auc', \n",
    "                               cv=5, \n",
    "                               n_iter=15,\n",
    "                               random_state=45)\n",
    "\n",
    "forest_grid.fit(features_train, target_train)\n",
    "#forest_grid.fit(features_downsampled, target_downsampled)\n",
    "#forest_grid.fit(features_upsampled, target_upsampled)\n",
    "\n",
    "model_f = RandomForestClassifier(random_state=42, **forest_grid.best_params_)\n",
    "\n",
    "print('Лучшие параметры RandomForest:', forest_grid.best_params_,\n",
    "     '\\n\\nВремя подбора параметров:')"
   ]
  },
  {
   "cell_type": "code",
   "execution_count": 169,
   "metadata": {},
   "outputs": [
    {
     "name": "stdout",
     "output_type": "stream",
     "text": [
      "AUC-ROC: 0.71699 \n",
      "Accuracy: 0.8101\n"
     ]
    }
   ],
   "source": [
    "model_f.fit(features_train, target_train)\n",
    "#model_f.fit(features_downsampled, target_downsampled)\n",
    "#model_f.fit(features_upsampled, target_upsampled)\n",
    "\n",
    "prediction_f = model_f.predict(features_valid)\n",
    "\n",
    "auc_roc_f = roc_auc_score(target_valid, prediction_f).round(5)\n",
    "accuracy_f = accuracy_score(target_valid, prediction_f).round(5)\n",
    "\n",
    "print('AUC-ROC:', auc_roc_f,\n",
    "      '\\nAccuracy:', accuracy_f)"
   ]
  },
  {
   "cell_type": "markdown",
   "metadata": {},
   "source": [
    "### CatBoostClassifier\n"
   ]
  },
  {
   "cell_type": "markdown",
   "metadata": {},
   "source": [
    "**Попробуем разделить на выборки заново и передать некодированные категориальные значения в кэтбуст**"
   ]
  },
  {
   "cell_type": "code",
   "execution_count": 183,
   "metadata": {},
   "outputs": [
    {
     "name": "stdout",
     "output_type": "stream",
     "text": [
      "Размер train: (4219, 16) (4219,) \n",
      "Размер valid: (1406, 16) (1406,) \n",
      "Размер test: (1407, 16) (1407,)\n"
     ]
    }
   ],
   "source": [
    "features_train, features_testvalid, target_train, target_testvalid = train_test_split(\n",
    "features, target, test_size=0.4, shuffle=False, random_state=42)\n",
    "\n",
    "features_valid, features_test, target_valid, target_test = train_test_split(\n",
    "features_testvalid, target_testvalid, test_size=0.5, shuffle=False, random_state=42)\n",
    "\n",
    "print('Размер train:', features_train.shape, target_train.shape,\n",
    "      '\\nРазмер valid:', features_valid.shape, target_valid.shape,\n",
    "      '\\nРазмер test:', features_test.shape, target_test.shape)"
   ]
  },
  {
   "cell_type": "code",
   "execution_count": 184,
   "metadata": {},
   "outputs": [
    {
     "data": {
      "text/plain": [
       "1    1106\n",
       "0    1027\n",
       "Name: ClientLeft, dtype: int64"
      ]
     },
     "execution_count": 184,
     "metadata": {},
     "output_type": "execute_result"
    }
   ],
   "source": [
    "features_downsampled, target_downsampled = downsample(features_train, target_train, 0.33)\n",
    "\n",
    "target_downsampled.value_counts()"
   ]
  },
  {
   "cell_type": "code",
   "execution_count": 185,
   "metadata": {},
   "outputs": [
    {
     "data": {
      "text/plain": [
       "1    3318\n",
       "0    3113\n",
       "Name: ClientLeft, dtype: int64"
      ]
     },
     "execution_count": 185,
     "metadata": {},
     "output_type": "execute_result"
    }
   ],
   "source": [
    "features_upsampled, target_upsampled = upsample(features_train, target_train, 3)\n",
    "\n",
    "target_upsampled.value_counts()"
   ]
  },
  {
   "cell_type": "code",
   "execution_count": 186,
   "metadata": {},
   "outputs": [
    {
     "data": {
      "text/plain": [
       "['Type',\n",
       " 'PaymentMethod',\n",
       " 'gender',\n",
       " 'SeniorCitizen',\n",
       " 'Partner',\n",
       " 'Dependents',\n",
       " 'InternetService',\n",
       " 'OnlineSecurity',\n",
       " 'OnlineBackup',\n",
       " 'DeviceProtection',\n",
       " 'TechSupport',\n",
       " 'StreamingTV',\n",
       " 'StreamingMovies',\n",
       " 'MultipleLines']"
      ]
     },
     "execution_count": 186,
     "metadata": {},
     "output_type": "execute_result"
    }
   ],
   "source": [
    "cat_cols = features.nunique()[features.nunique() < 6].keys().tolist()\n",
    "cat_cols"
   ]
  },
  {
   "cell_type": "code",
   "execution_count": 187,
   "metadata": {},
   "outputs": [],
   "source": [
    "train_pool = Pool(features_train, target_train, cat_features=cat_cols)\n",
    "train_up_pool = Pool(features_upsampled, target_upsampled, cat_features=cat_cols)\n",
    "train_dwn_pool = Pool(features_downsampled, target_downsampled, cat_features=cat_cols)\n",
    "\n",
    "valid_pool = Pool(features_valid, cat_features=cat_cols) \n",
    "test_pool = Pool(features_test, cat_features=cat_cols) \n",
    "eval_pool = Pool(features_valid, target_valid, cat_features=cat_cols)"
   ]
  },
  {
   "cell_type": "code",
   "execution_count": 188,
   "metadata": {},
   "outputs": [
    {
     "name": "stdout",
     "output_type": "stream",
     "text": [
      "0:\tlearn: 0.6448201\ttest: 0.6458423\tbest: 0.6458423 (0)\ttotal: 201ms\tremaining: 6m 41s\n",
      "10:\tlearn: 0.4769160\ttest: 0.5054139\tbest: 0.5054139 (10)\ttotal: 398ms\tremaining: 1m 11s\n",
      "20:\tlearn: 0.4377221\ttest: 0.4828538\tbest: 0.4828538 (20)\ttotal: 604ms\tremaining: 56.9s\n",
      "30:\tlearn: 0.4143403\ttest: 0.4739767\tbest: 0.4739767 (30)\ttotal: 804ms\tremaining: 51.1s\n",
      "40:\tlearn: 0.4017895\ttest: 0.4719152\tbest: 0.4719152 (40)\ttotal: 1.02s\tremaining: 48.6s\n",
      "50:\tlearn: 0.3918756\ttest: 0.4707111\tbest: 0.4707111 (50)\ttotal: 1.22s\tremaining: 46.6s\n",
      "60:\tlearn: 0.3842905\ttest: 0.4692841\tbest: 0.4692010 (58)\ttotal: 1.46s\tremaining: 46.4s\n",
      "70:\tlearn: 0.3795233\ttest: 0.4691918\tbest: 0.4691887 (61)\ttotal: 1.63s\tremaining: 44.3s\n",
      "80:\tlearn: 0.3692472\ttest: 0.4618961\tbest: 0.4618961 (80)\ttotal: 1.82s\tremaining: 43.2s\n",
      "90:\tlearn: 0.3584059\ttest: 0.4530119\tbest: 0.4530119 (90)\ttotal: 2.04s\tremaining: 42.7s\n",
      "100:\tlearn: 0.3462131\ttest: 0.4448459\tbest: 0.4448459 (100)\ttotal: 2.26s\tremaining: 42.5s\n",
      "110:\tlearn: 0.3391349\ttest: 0.4422912\tbest: 0.4422912 (110)\ttotal: 2.48s\tremaining: 42.1s\n",
      "120:\tlearn: 0.3288812\ttest: 0.4379287\tbest: 0.4379287 (120)\ttotal: 2.71s\tremaining: 42.1s\n",
      "130:\tlearn: 0.3185487\ttest: 0.4292362\tbest: 0.4292362 (130)\ttotal: 2.98s\tremaining: 42.6s\n",
      "140:\tlearn: 0.3127449\ttest: 0.4258356\tbest: 0.4257333 (139)\ttotal: 3.18s\tremaining: 42s\n",
      "150:\tlearn: 0.3080525\ttest: 0.4232368\tbest: 0.4232314 (149)\ttotal: 3.39s\tremaining: 41.5s\n",
      "160:\tlearn: 0.3007905\ttest: 0.4200971\tbest: 0.4198080 (159)\ttotal: 3.6s\tremaining: 41.1s\n",
      "170:\tlearn: 0.2944568\ttest: 0.4157209\tbest: 0.4157209 (170)\ttotal: 3.83s\tremaining: 41s\n",
      "180:\tlearn: 0.2882349\ttest: 0.4116725\tbest: 0.4116398 (179)\ttotal: 4.04s\tremaining: 40.6s\n",
      "190:\tlearn: 0.2834553\ttest: 0.4109701\tbest: 0.4107670 (188)\ttotal: 4.23s\tremaining: 40.1s\n",
      "200:\tlearn: 0.2760924\ttest: 0.4050538\tbest: 0.4047024 (199)\ttotal: 4.43s\tremaining: 39.6s\n",
      "210:\tlearn: 0.2686690\ttest: 0.3989917\tbest: 0.3989917 (210)\ttotal: 4.63s\tremaining: 39.3s\n",
      "220:\tlearn: 0.2625404\ttest: 0.3968190\tbest: 0.3968190 (220)\ttotal: 4.84s\tremaining: 39s\n",
      "230:\tlearn: 0.2577229\ttest: 0.3953278\tbest: 0.3952777 (226)\ttotal: 5.05s\tremaining: 38.7s\n",
      "240:\tlearn: 0.2527826\ttest: 0.3936249\tbest: 0.3934075 (238)\ttotal: 5.25s\tremaining: 38.3s\n",
      "250:\tlearn: 0.2471902\ttest: 0.3922701\tbest: 0.3922701 (250)\ttotal: 5.44s\tremaining: 37.9s\n",
      "260:\tlearn: 0.2421071\ttest: 0.3899873\tbest: 0.3899873 (260)\ttotal: 5.66s\tremaining: 37.7s\n",
      "270:\tlearn: 0.2370924\ttest: 0.3883755\tbest: 0.3878178 (264)\ttotal: 5.87s\tremaining: 37.4s\n",
      "280:\tlearn: 0.2319603\ttest: 0.3861564\tbest: 0.3856901 (275)\ttotal: 6.07s\tremaining: 37.1s\n",
      "290:\tlearn: 0.2271711\ttest: 0.3832222\tbest: 0.3829898 (289)\ttotal: 6.27s\tremaining: 36.8s\n",
      "300:\tlearn: 0.2233897\ttest: 0.3820537\tbest: 0.3816858 (298)\ttotal: 6.55s\tremaining: 37s\n",
      "310:\tlearn: 0.2184288\ttest: 0.3799845\tbest: 0.3799845 (310)\ttotal: 6.75s\tremaining: 36.6s\n",
      "320:\tlearn: 0.2147123\ttest: 0.3799736\tbest: 0.3790846 (315)\ttotal: 6.95s\tremaining: 36.3s\n",
      "330:\tlearn: 0.2100844\ttest: 0.3792275\tbest: 0.3785565 (323)\ttotal: 7.19s\tremaining: 36.2s\n",
      "340:\tlearn: 0.2060714\ttest: 0.3784538\tbest: 0.3779966 (338)\ttotal: 7.41s\tremaining: 36s\n",
      "350:\tlearn: 0.2028298\ttest: 0.3781423\tbest: 0.3775971 (343)\ttotal: 7.65s\tremaining: 35.9s\n",
      "360:\tlearn: 0.1991634\ttest: 0.3781332\tbest: 0.3775971 (343)\ttotal: 7.9s\tremaining: 35.9s\n",
      "370:\tlearn: 0.1956351\ttest: 0.3776290\tbest: 0.3775092 (361)\ttotal: 8.1s\tremaining: 35.6s\n",
      "380:\tlearn: 0.1928989\ttest: 0.3761095\tbest: 0.3760236 (379)\ttotal: 8.33s\tremaining: 35.4s\n",
      "390:\tlearn: 0.1885205\ttest: 0.3744126\tbest: 0.3744126 (390)\ttotal: 8.54s\tremaining: 35.1s\n",
      "400:\tlearn: 0.1849050\ttest: 0.3714449\tbest: 0.3710581 (396)\ttotal: 8.75s\tremaining: 34.9s\n",
      "410:\tlearn: 0.1826381\ttest: 0.3710344\tbest: 0.3708583 (407)\ttotal: 8.94s\tremaining: 34.6s\n",
      "420:\tlearn: 0.1797071\ttest: 0.3696892\tbest: 0.3695954 (419)\ttotal: 9.15s\tremaining: 34.3s\n",
      "430:\tlearn: 0.1770182\ttest: 0.3704874\tbest: 0.3695954 (419)\ttotal: 9.34s\tremaining: 34s\n",
      "440:\tlearn: 0.1742147\ttest: 0.3688097\tbest: 0.3688097 (440)\ttotal: 9.55s\tremaining: 33.8s\n",
      "450:\tlearn: 0.1710854\ttest: 0.3682295\tbest: 0.3682295 (450)\ttotal: 9.75s\tremaining: 33.5s\n",
      "460:\tlearn: 0.1681409\ttest: 0.3664613\tbest: 0.3664613 (460)\ttotal: 9.96s\tremaining: 33.3s\n",
      "470:\tlearn: 0.1653061\ttest: 0.3661458\tbest: 0.3658075 (462)\ttotal: 10.2s\tremaining: 33s\n",
      "480:\tlearn: 0.1627862\ttest: 0.3668888\tbest: 0.3658075 (462)\ttotal: 10.4s\tremaining: 32.7s\n",
      "490:\tlearn: 0.1602430\ttest: 0.3672001\tbest: 0.3658075 (462)\ttotal: 10.6s\tremaining: 32.5s\n",
      "500:\tlearn: 0.1574777\ttest: 0.3682680\tbest: 0.3658075 (462)\ttotal: 10.8s\tremaining: 32.2s\n",
      "510:\tlearn: 0.1553801\ttest: 0.3677864\tbest: 0.3658075 (462)\ttotal: 11s\tremaining: 31.9s\n",
      "Stopped by overfitting detector  (50 iterations wait)\n",
      "\n",
      "bestTest = 0.3658075006\n",
      "bestIteration = 462\n",
      "\n",
      "Shrink model to first 463 iterations.\n",
      "Время обучения:\n",
      "Wall time: 11.1 s\n"
     ]
    }
   ],
   "source": [
    "%%time\n",
    "\n",
    "model_cb = CatBoostClassifier(loss_function=\"Logloss\",\n",
    "                              learning_rate=0.1,\n",
    "                             iterations=2000, \n",
    "                             random_seed=42)\n",
    "\n",
    "model_cb.fit(#train_pool,\n",
    "             train_up_pool,\n",
    "             #train_dwn_pool,\n",
    "             eval_set=eval_pool,\n",
    "             verbose=10,\n",
    "             early_stopping_rounds = 50)\n",
    "\n",
    "print('Время обучения:')"
   ]
  },
  {
   "cell_type": "code",
   "execution_count": 190,
   "metadata": {},
   "outputs": [
    {
     "name": "stdout",
     "output_type": "stream",
     "text": [
      "AUC-ROC: 0.89557 \n",
      "Accuracy: 0.84851\n"
     ]
    }
   ],
   "source": [
    "cb_preds = model_cb.predict_proba(features_valid)\n",
    "prediction_cb_one_valid = cb_preds[:, 1]\n",
    "\n",
    "auc_roc_cb = roc_auc_score(target_valid, prediction_cb_one_valid).round(5)\n",
    "\n",
    "cb_predicts = model_cb.predict(features_valid)\n",
    "accuracy_cb = accuracy_score(target_valid, cb_predicts).round(5)\n",
    "\n",
    "print('AUC-ROC:', auc_roc_cb,\n",
    "      '\\nAccuracy:', accuracy_cb)"
   ]
  },
  {
   "cell_type": "code",
   "execution_count": 195,
   "metadata": {},
   "outputs": [],
   "source": [
    "data = pd.DataFrame({'feature_importance': model_cb.get_feature_importance(train_pool), \n",
    "              'feature_names': features_train.columns}).sort_values(by=['feature_importance'], \n",
    "                                                       ascending=False)\n",
    "\n"
   ]
  },
  {
   "cell_type": "code",
   "execution_count": 197,
   "metadata": {},
   "outputs": [
    {
     "data": {
      "text/plain": [
       "<matplotlib.axes._subplots.AxesSubplot at 0x2a6756ae8b0>"
      ]
     },
     "execution_count": 197,
     "metadata": {},
     "output_type": "execute_result"
    },
    {
     "data": {
      "image/png": "[encoded data removed]",
      "text/plain": [
       "<Figure size 432x288 with 1 Axes>"
      ]
     },
     "metadata": {
      "needs_background": "light"
     },
     "output_type": "display_data"
    }
   ],
   "source": [
    "data.sort_values(by=['feature_importance'], ascending=True).plot.barh(x='feature_names', y='feature_importance')"
   ]
  },
  {
   "cell_type": "markdown",
   "metadata": {},
   "source": [
    "По графику важности факторов, видим что бОльшая часть факторов незначительно влияют на целевую переменную, а значит их смело можно убирать из модели.  \n",
    "Самые значимые факторы при этом: TotalTime и MonthlyCharges.\n",
    "\n",
    "Лучшие результаты дала модель CatBoost:  \n",
    "AUC-ROC: 0.89 и Accuracy: 0.85\n",
    "\n",
    "Проверим ее на тестовых данных"
   ]
  },
  {
   "cell_type": "markdown",
   "metadata": {},
   "source": [
    "## Тестирование лучшей модели\n",
    "\n",
    "### Тестирование"
   ]
  },
  {
   "cell_type": "code",
   "execution_count": 191,
   "metadata": {},
   "outputs": [
    {
     "name": "stdout",
     "output_type": "stream",
     "text": [
      "AUC-ROC: 0.90053 \n",
      "Accuracy: 0.83795\n"
     ]
    }
   ],
   "source": [
    "cb_preds_test = model_cb.predict_proba(features_test)\n",
    "prediction_cb_one_test = cb_preds_test[:, 1]\n",
    "\n",
    "auc_roc_cb_test = roc_auc_score(target_test, prediction_cb_one_test).round(5)\n",
    "\n",
    "cb_preds_test_acc = model_cb.predict(features_test)\n",
    "accuracy_cb_test = accuracy_score(target_test, cb_preds_test_acc).round(5)\n",
    "\n",
    "print('AUC-ROC:', auc_roc_cb_test,\n",
    "      '\\nAccuracy:', accuracy_cb_test)"
   ]
  },
  {
   "cell_type": "markdown",
   "metadata": {},
   "source": [
    "### Сравнение полученной метрики с ошибкой на базисной модели\n",
    "\n",
    "В качестве базисной модели возьмем DummyClassifier"
   ]
  },
  {
   "cell_type": "code",
   "execution_count": 192,
   "metadata": {},
   "outputs": [
    {
     "name": "stdout",
     "output_type": "stream",
     "text": [
      "AUC-ROC: 0.52256 \n",
      "Accuracy: 0.62615\n"
     ]
    }
   ],
   "source": [
    "dummy_model = DummyClassifier(random_state=42)\n",
    "dummy_model.fit(features_train, target_train)\n",
    "dummy_predict = dummy_model.predict(features_test)\n",
    "\n",
    "auc_roc_dummy = roc_auc_score(target_test, dummy_predict).round(5)\n",
    "accuracy_dummy = accuracy_score(target_test, dummy_predict).round(5)\n",
    "\n",
    "print('AUC-ROC:', auc_roc_dummy,\n",
    "      '\\nAccuracy:', accuracy_dummy)"
   ]
  },
  {
   "cell_type": "markdown",
   "metadata": {},
   "source": [
    "### Вывод\n",
    "Полученные на лучшей модели значения метрик (Cat Boost: AUC-ROC=0.90 и Accuracy=0.84) значительно превышают значения метрик на базисной модели (Dummy: AUC-ROC=0.52 и Accuracy=0.63).  \n",
    "Таким образом можно сделать вывод о том, что наша модель адекватна и подходит для предсказания оттока клиентов из телеком компании «Ниединогоразрыва.ком»"
   ]
  }
 ],
 "metadata": {
  "ExecuteTimeLog": [
   {
    "duration": 842,
    "start_time": "2021-09-23T08:29:23.221Z"
   },
   {
    "duration": 111,
    "start_time": "2021-09-23T08:30:17.744Z"
   },
   {
    "duration": 21,
    "start_time": "2021-09-23T08:33:54.480Z"
   },
   {
    "duration": 14,
    "start_time": "2021-09-23T08:34:09.483Z"
   },
   {
    "duration": 13,
    "start_time": "2021-09-23T08:34:35.618Z"
   },
   {
    "duration": 13,
    "start_time": "2021-09-23T08:34:59.381Z"
   },
   {
    "duration": 16,
    "start_time": "2021-09-23T08:35:01.617Z"
   },
   {
    "duration": 10,
    "start_time": "2021-09-23T08:35:11.043Z"
   },
   {
    "duration": 6,
    "start_time": "2021-09-23T09:02:57.215Z"
   },
   {
    "duration": 6,
    "start_time": "2021-09-23T09:03:02.702Z"
   },
   {
    "duration": 6,
    "start_time": "2021-09-23T09:03:08.479Z"
   },
   {
    "duration": 5,
    "start_time": "2021-09-23T09:03:15.127Z"
   },
   {
    "duration": 65,
    "start_time": "2021-09-23T09:10:20.411Z"
   },
   {
    "duration": 22,
    "start_time": "2021-09-23T09:12:40.226Z"
   },
   {
    "duration": 11,
    "start_time": "2021-09-23T09:13:19.835Z"
   },
   {
    "duration": 390,
    "start_time": "2021-09-23T09:13:38.723Z"
   },
   {
    "duration": 7,
    "start_time": "2021-09-23T09:18:08.982Z"
   },
   {
    "duration": 59,
    "start_time": "2021-09-23T09:23:42.079Z"
   },
   {
    "duration": 287,
    "start_time": "2021-09-23T09:24:05.982Z"
   },
   {
    "duration": 6,
    "start_time": "2021-09-23T09:24:08.478Z"
   },
   {
    "duration": 10,
    "start_time": "2021-09-23T09:33:50.481Z"
   },
   {
    "duration": 10,
    "start_time": "2021-09-23T09:34:36.612Z"
   },
   {
    "duration": 11,
    "start_time": "2021-09-23T09:34:39.208Z"
   },
   {
    "duration": 6,
    "start_time": "2021-09-23T09:34:59.434Z"
   },
   {
    "duration": 20,
    "start_time": "2021-09-23T09:37:03.793Z"
   },
   {
    "duration": 15,
    "start_time": "2021-09-23T09:38:38.280Z"
   },
   {
    "duration": 16,
    "start_time": "2021-09-23T09:39:33.329Z"
   },
   {
    "duration": 20,
    "start_time": "2021-09-23T09:39:35.843Z"
   },
   {
    "duration": 286,
    "start_time": "2021-09-23T09:43:09.685Z"
   },
   {
    "duration": 277,
    "start_time": "2021-09-23T09:43:11.926Z"
   },
   {
    "duration": 274,
    "start_time": "2021-09-23T09:43:17.204Z"
   },
   {
    "duration": 115,
    "start_time": "2021-09-23T09:43:20.845Z"
   },
   {
    "duration": 18,
    "start_time": "2021-09-23T09:43:46.454Z"
   },
   {
    "duration": 270,
    "start_time": "2021-09-23T10:06:03.708Z"
   },
   {
    "duration": 311,
    "start_time": "2021-09-23T10:10:51.089Z"
   },
   {
    "duration": 265,
    "start_time": "2021-09-23T10:11:01.800Z"
   },
   {
    "duration": 12,
    "start_time": "2021-09-23T10:11:15.872Z"
   },
   {
    "duration": 418,
    "start_time": "2021-09-23T10:12:23.494Z"
   },
   {
    "duration": 21,
    "start_time": "2021-09-23T12:42:19.150Z"
   },
   {
    "duration": 14,
    "start_time": "2021-09-23T12:43:13.313Z"
   },
   {
    "duration": 21,
    "start_time": "2021-09-23T12:43:19.017Z"
   },
   {
    "duration": 6492,
    "start_time": "2021-09-23T12:46:06.023Z"
   },
   {
    "duration": 7716,
    "start_time": "2021-09-23T12:47:11.255Z"
   },
   {
    "duration": 14,
    "start_time": "2021-09-23T12:48:07.306Z"
   },
   {
    "duration": 10,
    "start_time": "2021-09-23T12:48:11.318Z"
   },
   {
    "duration": 20,
    "start_time": "2021-09-23T12:48:24.214Z"
   },
   {
    "duration": 7499,
    "start_time": "2021-09-23T12:48:33.686Z"
   },
   {
    "duration": 10,
    "start_time": "2021-09-23T12:48:52.046Z"
   },
   {
    "duration": 14,
    "start_time": "2021-09-23T12:48:56.159Z"
   },
   {
    "duration": 9,
    "start_time": "2021-09-23T12:49:14.252Z"
   },
   {
    "duration": 271,
    "start_time": "2021-09-23T12:50:21.375Z"
   },
   {
    "duration": 287,
    "start_time": "2021-09-23T12:50:25.915Z"
   },
   {
    "duration": 14,
    "start_time": "2021-09-23T12:50:32.894Z"
   },
   {
    "duration": 7,
    "start_time": "2021-09-23T12:50:47.933Z"
   },
   {
    "duration": 8,
    "start_time": "2021-09-23T12:51:05.739Z"
   },
   {
    "duration": 9,
    "start_time": "2021-09-23T12:51:18.599Z"
   },
   {
    "duration": 7,
    "start_time": "2021-09-23T12:51:41.495Z"
   },
   {
    "duration": 8,
    "start_time": "2021-09-23T12:51:46.300Z"
   },
   {
    "duration": 712,
    "start_time": "2021-09-23T12:51:51.237Z"
   },
   {
    "duration": 265,
    "start_time": "2021-09-23T12:51:55.568Z"
   },
   {
    "duration": 1565,
    "start_time": "2021-09-23T12:52:01.028Z"
   },
   {
    "duration": 7,
    "start_time": "2021-09-23T12:52:21.188Z"
   },
   {
    "duration": 7,
    "start_time": "2021-09-23T12:52:32.451Z"
   },
   {
    "duration": 8,
    "start_time": "2021-09-23T12:52:44.339Z"
   },
   {
    "duration": 11,
    "start_time": "2021-09-23T13:02:51.016Z"
   },
   {
    "duration": 13,
    "start_time": "2021-09-23T13:03:02.257Z"
   },
   {
    "duration": 12,
    "start_time": "2021-09-23T13:05:03.134Z"
   },
   {
    "duration": 10,
    "start_time": "2021-09-23T13:08:13.406Z"
   },
   {
    "duration": 7,
    "start_time": "2021-09-23T13:09:06.924Z"
   },
   {
    "duration": 8,
    "start_time": "2021-09-23T13:09:36.909Z"
   },
   {
    "duration": 13,
    "start_time": "2021-09-23T13:09:39.437Z"
   },
   {
    "duration": 19,
    "start_time": "2021-09-23T13:11:29.588Z"
   },
   {
    "duration": 24,
    "start_time": "2021-09-23T13:12:24.725Z"
   },
   {
    "duration": 37,
    "start_time": "2021-09-23T13:12:45.971Z"
   },
   {
    "duration": 31,
    "start_time": "2021-09-23T13:13:01.996Z"
   },
   {
    "duration": 26,
    "start_time": "2021-09-23T13:13:08.913Z"
   },
   {
    "duration": 21,
    "start_time": "2021-09-23T13:13:15.284Z"
   },
   {
    "duration": 9,
    "start_time": "2021-09-23T13:13:21.884Z"
   },
   {
    "duration": 19,
    "start_time": "2021-09-23T13:14:00.271Z"
   },
   {
    "duration": 27,
    "start_time": "2021-09-23T13:14:41.097Z"
   },
   {
    "duration": 22,
    "start_time": "2021-09-23T13:14:47.530Z"
   },
   {
    "duration": 21,
    "start_time": "2021-09-23T13:15:54.874Z"
   },
   {
    "duration": 14,
    "start_time": "2021-09-23T13:16:03.890Z"
   },
   {
    "duration": 21,
    "start_time": "2021-09-23T13:16:07.420Z"
   },
   {
    "duration": 19,
    "start_time": "2021-09-23T13:28:29.147Z"
   },
   {
    "duration": 10,
    "start_time": "2021-09-23T13:28:35.005Z"
   },
   {
    "duration": 10,
    "start_time": "2021-09-23T13:28:41.627Z"
   },
   {
    "duration": 10,
    "start_time": "2021-09-23T13:28:50.669Z"
   },
   {
    "duration": 9,
    "start_time": "2021-09-23T13:28:57.907Z"
   },
   {
    "duration": 8,
    "start_time": "2021-09-23T13:29:08.495Z"
   },
   {
    "duration": 14,
    "start_time": "2021-09-23T13:40:50.592Z"
   },
   {
    "duration": 14,
    "start_time": "2021-09-23T13:40:58.999Z"
   },
   {
    "duration": 330,
    "start_time": "2021-09-23T13:41:10.039Z"
   },
   {
    "duration": 5,
    "start_time": "2021-09-23T13:41:12.535Z"
   },
   {
    "duration": 7,
    "start_time": "2021-09-23T13:46:45.348Z"
   },
   {
    "duration": 7,
    "start_time": "2021-09-23T13:50:38.540Z"
   },
   {
    "duration": 7,
    "start_time": "2021-09-23T13:50:48.132Z"
   },
   {
    "duration": 13,
    "start_time": "2021-09-23T13:52:08.292Z"
   },
   {
    "duration": 22,
    "start_time": "2021-09-23T13:52:10.580Z"
   },
   {
    "duration": 12,
    "start_time": "2021-09-23T14:16:58.568Z"
   },
   {
    "duration": 15,
    "start_time": "2021-09-23T14:30:09.155Z"
   },
   {
    "duration": 12,
    "start_time": "2021-09-23T14:31:44.635Z"
   },
   {
    "duration": 10,
    "start_time": "2021-09-23T14:31:53.432Z"
   },
   {
    "duration": 6,
    "start_time": "2021-09-23T14:34:03.376Z"
   },
   {
    "duration": 5,
    "start_time": "2021-09-23T14:34:10.764Z"
   },
   {
    "duration": 6,
    "start_time": "2021-09-23T14:34:14.089Z"
   },
   {
    "duration": 5,
    "start_time": "2021-09-23T14:34:45.729Z"
   },
   {
    "duration": 5,
    "start_time": "2021-09-23T14:34:48.816Z"
   },
   {
    "duration": 7,
    "start_time": "2021-09-23T14:42:27.212Z"
   },
   {
    "duration": 7,
    "start_time": "2021-09-23T14:44:11.445Z"
   },
   {
    "duration": 6,
    "start_time": "2021-09-23T14:44:35.502Z"
   },
   {
    "duration": 5,
    "start_time": "2021-09-23T14:45:43.485Z"
   },
   {
    "duration": 5,
    "start_time": "2021-09-23T14:47:16.218Z"
   },
   {
    "duration": 5,
    "start_time": "2021-09-23T14:49:10.851Z"
   },
   {
    "duration": 546,
    "start_time": "2021-09-24T07:18:50.760Z"
   },
   {
    "duration": 90,
    "start_time": "2021-09-24T07:18:51.968Z"
   },
   {
    "duration": 13,
    "start_time": "2021-09-24T07:18:52.999Z"
   },
   {
    "duration": 4,
    "start_time": "2021-09-24T07:18:53.201Z"
   },
   {
    "duration": 4,
    "start_time": "2021-09-24T07:18:53.660Z"
   },
   {
    "duration": 4,
    "start_time": "2021-09-24T07:18:54.165Z"
   },
   {
    "duration": 5,
    "start_time": "2021-09-24T07:18:54.670Z"
   },
   {
    "duration": 33,
    "start_time": "2021-09-24T07:18:54.991Z"
   },
   {
    "duration": 14,
    "start_time": "2021-09-24T07:18:55.311Z"
   },
   {
    "duration": 8,
    "start_time": "2021-09-24T07:19:01.030Z"
   },
   {
    "duration": 9,
    "start_time": "2021-09-24T07:19:01.862Z"
   },
   {
    "duration": 9,
    "start_time": "2021-09-24T07:19:02.188Z"
   },
   {
    "duration": 5,
    "start_time": "2021-09-24T07:19:03.875Z"
   },
   {
    "duration": 11,
    "start_time": "2021-09-24T07:19:04.518Z"
   },
   {
    "duration": 7,
    "start_time": "2021-09-24T07:19:05.501Z"
   },
   {
    "duration": 15,
    "start_time": "2021-09-24T07:19:06.471Z"
   },
   {
    "duration": 5,
    "start_time": "2021-09-24T07:19:07.743Z"
   },
   {
    "duration": 10,
    "start_time": "2021-09-24T07:19:08.687Z"
   },
   {
    "duration": 3,
    "start_time": "2021-09-24T07:19:09.109Z"
   },
   {
    "duration": 14,
    "start_time": "2021-09-24T07:19:11.183Z"
   },
   {
    "duration": 8,
    "start_time": "2021-09-24T07:19:22.683Z"
   },
   {
    "duration": 4,
    "start_time": "2021-09-24T07:19:23.141Z"
   },
   {
    "duration": 4,
    "start_time": "2021-09-24T07:19:28.205Z"
   },
   {
    "duration": 10,
    "start_time": "2021-09-24T07:19:29.691Z"
   },
   {
    "duration": 5,
    "start_time": "2021-09-24T07:19:30.198Z"
   },
   {
    "duration": 9,
    "start_time": "2021-09-24T07:22:59.971Z"
   },
   {
    "duration": 6,
    "start_time": "2021-09-24T07:23:02.333Z"
   },
   {
    "duration": 7,
    "start_time": "2021-09-24T07:23:49.343Z"
   },
   {
    "duration": 6,
    "start_time": "2021-09-24T07:23:50.524Z"
   },
   {
    "duration": 11,
    "start_time": "2021-09-24T07:26:14.140Z"
   },
   {
    "duration": 23,
    "start_time": "2021-09-24T07:27:15.325Z"
   },
   {
    "duration": 10,
    "start_time": "2021-09-24T07:35:41.592Z"
   },
   {
    "duration": 7,
    "start_time": "2021-09-24T07:35:43.039Z"
   },
   {
    "duration": 32,
    "start_time": "2021-09-24T07:38:35.607Z"
   },
   {
    "duration": 7,
    "start_time": "2021-09-24T07:45:12.019Z"
   },
   {
    "duration": 6,
    "start_time": "2021-09-24T07:45:12.627Z"
   },
   {
    "duration": 64,
    "start_time": "2021-09-24T07:45:33.641Z"
   },
   {
    "duration": 16,
    "start_time": "2021-09-24T07:45:53.155Z"
   },
   {
    "duration": 4,
    "start_time": "2021-09-24T07:53:22.024Z"
   },
   {
    "duration": 4,
    "start_time": "2021-09-24T07:53:30.278Z"
   },
   {
    "duration": 3,
    "start_time": "2021-09-24T07:53:41.856Z"
   },
   {
    "duration": 3,
    "start_time": "2021-09-24T07:53:44.648Z"
   },
   {
    "duration": 3,
    "start_time": "2021-09-24T07:53:52.768Z"
   },
   {
    "duration": 31,
    "start_time": "2021-09-24T08:24:58.963Z"
   },
   {
    "duration": 271,
    "start_time": "2021-09-24T10:11:06.837Z"
   },
   {
    "duration": 26,
    "start_time": "2021-09-24T10:15:06.922Z"
   },
   {
    "duration": 34,
    "start_time": "2021-09-24T10:15:54.154Z"
   },
   {
    "duration": 23,
    "start_time": "2021-09-24T10:16:05.373Z"
   },
   {
    "duration": 22,
    "start_time": "2021-09-24T10:16:18.065Z"
   },
   {
    "duration": 24,
    "start_time": "2021-09-24T10:16:24.444Z"
   },
   {
    "duration": 24,
    "start_time": "2021-09-24T10:25:51.565Z"
   },
   {
    "duration": 12,
    "start_time": "2021-09-24T10:26:06.757Z"
   },
   {
    "duration": 23,
    "start_time": "2021-09-24T10:27:07.387Z"
   },
   {
    "duration": 23,
    "start_time": "2021-09-24T10:28:03.556Z"
   },
   {
    "duration": 11,
    "start_time": "2021-09-24T10:28:14.163Z"
   },
   {
    "duration": 23,
    "start_time": "2021-09-24T10:28:27.163Z"
   },
   {
    "duration": 11,
    "start_time": "2021-09-24T10:28:39.700Z"
   },
   {
    "duration": 23,
    "start_time": "2021-09-24T10:28:44.667Z"
   },
   {
    "duration": 458,
    "start_time": "2021-09-24T10:34:10.130Z"
   },
   {
    "duration": 26,
    "start_time": "2021-09-24T10:35:53.121Z"
   },
   {
    "duration": 5,
    "start_time": "2021-09-24T10:37:37.950Z"
   },
   {
    "duration": 12,
    "start_time": "2021-09-24T10:41:27.437Z"
   },
   {
    "duration": 206,
    "start_time": "2021-09-24T10:46:30.287Z"
   },
   {
    "duration": 6,
    "start_time": "2021-09-24T10:46:49.116Z"
   },
   {
    "duration": 5,
    "start_time": "2021-09-24T10:46:58.297Z"
   },
   {
    "duration": 6,
    "start_time": "2021-09-24T10:50:19.329Z"
   },
   {
    "duration": 1087,
    "start_time": "2021-09-24T10:50:54.973Z"
   },
   {
    "duration": 91,
    "start_time": "2021-09-24T10:50:56.062Z"
   },
   {
    "duration": 13,
    "start_time": "2021-09-24T10:50:56.683Z"
   },
   {
    "duration": 3,
    "start_time": "2021-09-24T10:50:56.842Z"
   },
   {
    "duration": 4,
    "start_time": "2021-09-24T10:50:57.065Z"
   },
   {
    "duration": 5,
    "start_time": "2021-09-24T10:50:57.570Z"
   },
   {
    "duration": 5,
    "start_time": "2021-09-24T10:50:57.993Z"
   },
   {
    "duration": 33,
    "start_time": "2021-09-24T10:50:58.261Z"
   },
   {
    "duration": 13,
    "start_time": "2021-09-24T10:50:58.540Z"
   },
   {
    "duration": 8,
    "start_time": "2021-09-24T10:50:58.923Z"
   },
   {
    "duration": 8,
    "start_time": "2021-09-24T10:50:59.212Z"
   },
   {
    "duration": 8,
    "start_time": "2021-09-24T10:50:59.756Z"
   },
   {
    "duration": 5,
    "start_time": "2021-09-24T10:51:00.076Z"
   },
   {
    "duration": 10,
    "start_time": "2021-09-24T10:51:00.356Z"
   },
   {
    "duration": 6,
    "start_time": "2021-09-24T10:51:00.621Z"
   },
   {
    "duration": 13,
    "start_time": "2021-09-24T10:51:00.885Z"
   },
   {
    "duration": 6,
    "start_time": "2021-09-24T10:51:01.020Z"
   },
   {
    "duration": 15,
    "start_time": "2021-09-24T10:51:01.404Z"
   },
   {
    "duration": 9,
    "start_time": "2021-09-24T10:51:01.925Z"
   },
   {
    "duration": 4,
    "start_time": "2021-09-24T10:51:02.108Z"
   },
   {
    "duration": 4,
    "start_time": "2021-09-24T10:51:02.596Z"
   },
   {
    "duration": 9,
    "start_time": "2021-09-24T10:51:03.460Z"
   },
   {
    "duration": 5,
    "start_time": "2021-09-24T10:51:04.002Z"
   },
   {
    "duration": 8,
    "start_time": "2021-09-24T10:51:04.388Z"
   },
   {
    "duration": 7,
    "start_time": "2021-09-24T10:51:04.564Z"
   },
   {
    "duration": 25,
    "start_time": "2021-09-24T10:51:05.148Z"
   },
   {
    "duration": 8,
    "start_time": "2021-09-24T10:51:05.812Z"
   },
   {
    "duration": 5,
    "start_time": "2021-09-24T10:51:05.981Z"
   },
   {
    "duration": 10,
    "start_time": "2021-09-24T10:51:06.421Z"
   },
   {
    "duration": 4,
    "start_time": "2021-09-24T10:51:06.538Z"
   },
   {
    "duration": 4,
    "start_time": "2021-09-24T10:51:06.804Z"
   },
   {
    "duration": 9,
    "start_time": "2021-09-24T10:51:07.228Z"
   },
   {
    "duration": 6,
    "start_time": "2021-09-24T10:51:07.590Z"
   },
   {
    "duration": 9,
    "start_time": "2021-09-24T10:51:07.948Z"
   },
   {
    "duration": 6,
    "start_time": "2021-09-24T10:51:08.132Z"
   },
   {
    "duration": 32,
    "start_time": "2021-09-24T10:51:08.546Z"
   },
   {
    "duration": 6,
    "start_time": "2021-09-24T10:51:09.076Z"
   },
   {
    "duration": 4,
    "start_time": "2021-09-24T10:51:09.276Z"
   },
   {
    "duration": 6,
    "start_time": "2021-09-24T10:51:09.605Z"
   },
   {
    "duration": 5,
    "start_time": "2021-09-24T10:51:10.150Z"
   },
   {
    "duration": 4,
    "start_time": "2021-09-24T10:51:10.532Z"
   },
   {
    "duration": 7,
    "start_time": "2021-09-24T10:51:11.076Z"
   },
   {
    "duration": 6,
    "start_time": "2021-09-24T10:51:11.236Z"
   },
   {
    "duration": 18,
    "start_time": "2021-09-24T10:51:11.676Z"
   },
   {
    "duration": 26,
    "start_time": "2021-09-24T10:51:27.780Z"
   },
   {
    "duration": 5,
    "start_time": "2021-09-24T10:51:28.698Z"
   },
   {
    "duration": 12,
    "start_time": "2021-09-24T10:51:29.802Z"
   },
   {
    "duration": 16,
    "start_time": "2021-09-24T10:53:12.899Z"
   },
   {
    "duration": 254,
    "start_time": "2021-09-24T10:53:26.300Z"
   },
   {
    "duration": 316,
    "start_time": "2021-09-24T10:53:43.924Z"
   },
   {
    "duration": 9,
    "start_time": "2021-09-24T10:54:16.059Z"
   },
   {
    "duration": 9,
    "start_time": "2021-09-24T10:54:25.242Z"
   },
   {
    "duration": 5,
    "start_time": "2021-09-24T10:57:19.226Z"
   },
   {
    "duration": 5,
    "start_time": "2021-09-24T10:57:31.010Z"
   },
   {
    "duration": 280,
    "start_time": "2021-09-24T10:59:22.737Z"
   },
   {
    "duration": 192,
    "start_time": "2021-09-24T10:59:31.769Z"
   },
   {
    "duration": 615,
    "start_time": "2021-09-24T10:59:43.081Z"
   },
   {
    "duration": 8,
    "start_time": "2021-09-24T10:59:57.584Z"
   },
   {
    "duration": 19,
    "start_time": "2021-09-24T11:34:02.738Z"
   },
   {
    "duration": 7,
    "start_time": "2021-09-24T12:29:24.162Z"
   },
   {
    "duration": 21,
    "start_time": "2021-09-24T12:35:37.131Z"
   },
   {
    "duration": 3996,
    "start_time": "2021-09-24T12:38:01.246Z"
   },
   {
    "duration": 18,
    "start_time": "2021-09-24T12:38:35.090Z"
   },
   {
    "duration": 1053,
    "start_time": "2021-09-24T12:40:10.320Z"
   },
   {
    "duration": 93,
    "start_time": "2021-09-24T12:40:11.374Z"
   },
   {
    "duration": 13,
    "start_time": "2021-09-24T12:40:11.469Z"
   },
   {
    "duration": 6,
    "start_time": "2021-09-24T12:40:11.483Z"
   },
   {
    "duration": 7,
    "start_time": "2021-09-24T12:40:11.491Z"
   },
   {
    "duration": 9,
    "start_time": "2021-09-24T12:40:11.499Z"
   },
   {
    "duration": 6,
    "start_time": "2021-09-24T12:40:11.509Z"
   },
   {
    "duration": 52,
    "start_time": "2021-09-24T12:40:11.517Z"
   },
   {
    "duration": 13,
    "start_time": "2021-09-24T12:40:11.571Z"
   },
   {
    "duration": 14,
    "start_time": "2021-09-24T12:40:11.586Z"
   },
   {
    "duration": 14,
    "start_time": "2021-09-24T12:40:11.602Z"
   },
   {
    "duration": 14,
    "start_time": "2021-09-24T12:40:11.617Z"
   },
   {
    "duration": 22,
    "start_time": "2021-09-24T12:40:11.632Z"
   },
   {
    "duration": 10,
    "start_time": "2021-09-24T12:40:11.669Z"
   },
   {
    "duration": 8,
    "start_time": "2021-09-24T12:40:11.749Z"
   },
   {
    "duration": 14,
    "start_time": "2021-09-24T12:40:11.813Z"
   },
   {
    "duration": 8,
    "start_time": "2021-09-24T12:40:11.841Z"
   },
   {
    "duration": 15,
    "start_time": "2021-09-24T12:40:11.942Z"
   },
   {
    "duration": 8,
    "start_time": "2021-09-24T12:40:12.045Z"
   },
   {
    "duration": 5,
    "start_time": "2021-09-24T12:40:12.074Z"
   },
   {
    "duration": 4,
    "start_time": "2021-09-24T12:40:12.173Z"
   },
   {
    "duration": 9,
    "start_time": "2021-09-24T12:40:12.283Z"
   },
   {
    "duration": 5,
    "start_time": "2021-09-24T12:40:12.338Z"
   },
   {
    "duration": 14,
    "start_time": "2021-09-24T12:40:12.411Z"
   },
   {
    "duration": 6,
    "start_time": "2021-09-24T12:40:12.437Z"
   },
   {
    "duration": 23,
    "start_time": "2021-09-24T12:40:12.526Z"
   },
   {
    "duration": 7,
    "start_time": "2021-09-24T12:40:12.579Z"
   },
   {
    "duration": 4,
    "start_time": "2021-09-24T12:40:12.604Z"
   },
   {
    "duration": 11,
    "start_time": "2021-09-24T12:40:12.704Z"
   },
   {
    "duration": 4,
    "start_time": "2021-09-24T12:40:12.743Z"
   },
   {
    "duration": 4,
    "start_time": "2021-09-24T12:40:12.812Z"
   },
   {
    "duration": 9,
    "start_time": "2021-09-24T12:40:12.914Z"
   },
   {
    "duration": 5,
    "start_time": "2021-09-24T12:40:12.964Z"
   },
   {
    "duration": 9,
    "start_time": "2021-09-24T12:40:13.041Z"
   },
   {
    "duration": 6,
    "start_time": "2021-09-24T12:40:13.073Z"
   },
   {
    "duration": 38,
    "start_time": "2021-09-24T12:40:13.133Z"
   },
   {
    "duration": 7,
    "start_time": "2021-09-24T12:40:13.231Z"
   },
   {
    "duration": 26,
    "start_time": "2021-09-24T12:40:13.260Z"
   },
   {
    "duration": 7,
    "start_time": "2021-09-24T12:40:13.319Z"
   },
   {
    "duration": 5,
    "start_time": "2021-09-24T12:40:13.404Z"
   },
   {
    "duration": 4,
    "start_time": "2021-09-24T12:40:13.461Z"
   },
   {
    "duration": 7,
    "start_time": "2021-09-24T12:40:13.560Z"
   },
   {
    "duration": 5,
    "start_time": "2021-09-24T12:40:13.589Z"
   },
   {
    "duration": 18,
    "start_time": "2021-09-24T12:40:13.666Z"
   },
   {
    "duration": 24,
    "start_time": "2021-09-24T12:40:13.797Z"
   },
   {
    "duration": 5,
    "start_time": "2021-09-24T12:40:13.828Z"
   },
   {
    "duration": 266,
    "start_time": "2021-09-24T12:40:13.871Z"
   },
   {
    "duration": 9,
    "start_time": "2021-09-24T12:40:14.139Z"
   },
   {
    "duration": 9,
    "start_time": "2021-09-24T12:40:14.149Z"
   },
   {
    "duration": 8,
    "start_time": "2021-09-24T12:40:14.160Z"
   },
   {
    "duration": 19,
    "start_time": "2021-09-24T12:40:15.251Z"
   },
   {
    "duration": 10,
    "start_time": "2021-09-24T12:40:15.538Z"
   },
   {
    "duration": 20,
    "start_time": "2021-09-24T12:40:15.828Z"
   },
   {
    "duration": 278,
    "start_time": "2021-09-24T12:40:15.945Z"
   },
   {
    "duration": 29,
    "start_time": "2021-09-24T12:41:42.090Z"
   },
   {
    "duration": 177,
    "start_time": "2021-09-24T12:41:45.329Z"
   },
   {
    "duration": 197,
    "start_time": "2021-09-24T12:42:08.091Z"
   },
   {
    "duration": 219,
    "start_time": "2021-09-24T12:42:23.216Z"
   },
   {
    "duration": 31,
    "start_time": "2021-09-24T12:42:39.736Z"
   },
   {
    "duration": 6,
    "start_time": "2021-09-24T12:42:49.993Z"
   },
   {
    "duration": 7,
    "start_time": "2021-09-24T12:43:47.333Z"
   },
   {
    "duration": 1025,
    "start_time": "2021-09-24T12:44:09.743Z"
   },
   {
    "duration": 90,
    "start_time": "2021-09-24T12:44:10.770Z"
   },
   {
    "duration": 13,
    "start_time": "2021-09-24T12:44:10.862Z"
   },
   {
    "duration": 4,
    "start_time": "2021-09-24T12:44:10.877Z"
   },
   {
    "duration": 6,
    "start_time": "2021-09-24T12:44:10.882Z"
   },
   {
    "duration": 9,
    "start_time": "2021-09-24T12:44:10.889Z"
   },
   {
    "duration": 7,
    "start_time": "2021-09-24T12:44:10.899Z"
   },
   {
    "duration": 37,
    "start_time": "2021-09-24T12:44:10.908Z"
   },
   {
    "duration": 13,
    "start_time": "2021-09-24T12:44:10.947Z"
   },
   {
    "duration": 5,
    "start_time": "2021-09-24T12:44:10.961Z"
   },
   {
    "duration": 10,
    "start_time": "2021-09-24T12:44:10.968Z"
   },
   {
    "duration": 27,
    "start_time": "2021-09-24T12:44:10.980Z"
   },
   {
    "duration": 5,
    "start_time": "2021-09-24T12:44:11.034Z"
   },
   {
    "duration": 10,
    "start_time": "2021-09-24T12:44:11.119Z"
   },
   {
    "duration": 7,
    "start_time": "2021-09-24T12:44:11.180Z"
   },
   {
    "duration": 15,
    "start_time": "2021-09-24T12:44:11.247Z"
   },
   {
    "duration": 5,
    "start_time": "2021-09-24T12:44:11.270Z"
   },
   {
    "duration": 15,
    "start_time": "2021-09-24T12:44:11.364Z"
   },
   {
    "duration": 9,
    "start_time": "2021-09-24T12:44:11.490Z"
   },
   {
    "duration": 3,
    "start_time": "2021-09-24T12:44:11.521Z"
   },
   {
    "duration": 4,
    "start_time": "2021-09-24T12:44:11.619Z"
   },
   {
    "duration": 9,
    "start_time": "2021-09-24T12:44:11.712Z"
   },
   {
    "duration": 4,
    "start_time": "2021-09-24T12:44:12.302Z"
   },
   {
    "duration": 7,
    "start_time": "2021-09-24T12:44:12.865Z"
   },
   {
    "duration": 6,
    "start_time": "2021-09-24T12:44:12.888Z"
   },
   {
    "duration": 23,
    "start_time": "2021-09-24T12:44:12.942Z"
   },
   {
    "duration": 6,
    "start_time": "2021-09-24T12:44:13.002Z"
   },
   {
    "duration": 4,
    "start_time": "2021-09-24T12:44:13.036Z"
   },
   {
    "duration": 9,
    "start_time": "2021-09-24T12:44:13.147Z"
   },
   {
    "duration": 3,
    "start_time": "2021-09-24T12:44:13.170Z"
   },
   {
    "duration": 4,
    "start_time": "2021-09-24T12:44:13.241Z"
   },
   {
    "duration": 9,
    "start_time": "2021-09-24T12:44:13.347Z"
   },
   {
    "duration": 5,
    "start_time": "2021-09-24T12:44:13.404Z"
   },
   {
    "duration": 8,
    "start_time": "2021-09-24T12:44:14.040Z"
   },
   {
    "duration": 6,
    "start_time": "2021-09-24T12:44:14.198Z"
   },
   {
    "duration": 31,
    "start_time": "2021-09-24T12:44:14.479Z"
   },
   {
    "duration": 8,
    "start_time": "2021-09-24T12:44:14.893Z"
   },
   {
    "duration": 4,
    "start_time": "2021-09-24T12:44:15.025Z"
   },
   {
    "duration": 8,
    "start_time": "2021-09-24T12:44:15.343Z"
   },
   {
    "duration": 6,
    "start_time": "2021-09-24T12:44:15.686Z"
   },
   {
    "duration": 4,
    "start_time": "2021-09-24T12:44:16.007Z"
   },
   {
    "duration": 7,
    "start_time": "2021-09-24T12:44:16.452Z"
   },
   {
    "duration": 5,
    "start_time": "2021-09-24T12:44:16.591Z"
   },
   {
    "duration": 18,
    "start_time": "2021-09-24T12:44:16.894Z"
   },
   {
    "duration": 46,
    "start_time": "2021-09-24T12:44:17.784Z"
   },
   {
    "duration": 5,
    "start_time": "2021-09-24T12:44:17.917Z"
   },
   {
    "duration": 381,
    "start_time": "2021-09-24T12:44:18.088Z"
   },
   {
    "duration": 9,
    "start_time": "2021-09-24T12:44:18.701Z"
   },
   {
    "duration": 10,
    "start_time": "2021-09-24T12:44:19.229Z"
   },
   {
    "duration": 8,
    "start_time": "2021-09-24T12:44:20.237Z"
   },
   {
    "duration": 17,
    "start_time": "2021-09-24T12:44:20.763Z"
   },
   {
    "duration": 11,
    "start_time": "2021-09-24T12:44:21.591Z"
   },
   {
    "duration": 7,
    "start_time": "2021-09-24T12:44:21.991Z"
   },
   {
    "duration": 4,
    "start_time": "2021-09-24T12:44:22.159Z"
   },
   {
    "duration": 5,
    "start_time": "2021-09-24T12:44:22.336Z"
   },
   {
    "duration": 21,
    "start_time": "2021-09-24T12:44:43.687Z"
   },
   {
    "duration": 25,
    "start_time": "2021-09-24T12:44:48.269Z"
   },
   {
    "duration": 97,
    "start_time": "2021-09-24T12:46:16.574Z"
   },
   {
    "duration": 151,
    "start_time": "2021-09-24T12:46:53.753Z"
   },
   {
    "duration": 978,
    "start_time": "2021-09-24T12:55:04.925Z"
   },
   {
    "duration": 5,
    "start_time": "2021-09-24T12:55:23.827Z"
   },
   {
    "duration": 16,
    "start_time": "2021-09-24T12:57:51.778Z"
   },
   {
    "duration": 3,
    "start_time": "2021-09-24T13:00:14.049Z"
   },
   {
    "duration": 13,
    "start_time": "2021-09-24T13:12:09.607Z"
   },
   {
    "duration": 198,
    "start_time": "2021-09-24T13:12:18.805Z"
   },
   {
    "duration": 25,
    "start_time": "2021-09-24T13:12:33.076Z"
   },
   {
    "duration": 6,
    "start_time": "2021-09-24T13:12:33.242Z"
   },
   {
    "duration": 374,
    "start_time": "2021-09-24T13:12:33.406Z"
   },
   {
    "duration": 18,
    "start_time": "2021-09-24T13:12:33.782Z"
   },
   {
    "duration": 10,
    "start_time": "2021-09-24T13:12:33.987Z"
   },
   {
    "duration": 8,
    "start_time": "2021-09-24T13:12:34.371Z"
   },
   {
    "duration": 16,
    "start_time": "2021-09-24T13:12:34.651Z"
   },
   {
    "duration": 11,
    "start_time": "2021-09-24T13:12:34.915Z"
   },
   {
    "duration": 7,
    "start_time": "2021-09-24T13:12:35.352Z"
   },
   {
    "duration": 15,
    "start_time": "2021-09-24T13:12:35.516Z"
   },
   {
    "duration": 4,
    "start_time": "2021-09-24T13:12:35.698Z"
   },
   {
    "duration": 5,
    "start_time": "2021-09-24T13:12:36.281Z"
   },
   {
    "duration": 11,
    "start_time": "2021-09-24T13:13:02.595Z"
   },
   {
    "duration": 8,
    "start_time": "2021-09-24T13:32:20.930Z"
   },
   {
    "duration": 438,
    "start_time": "2021-09-24T13:34:42.954Z"
   },
   {
    "duration": 429,
    "start_time": "2021-09-24T13:34:55.838Z"
   },
   {
    "duration": 413,
    "start_time": "2021-09-24T13:35:07.250Z"
   },
   {
    "duration": 393,
    "start_time": "2021-09-24T13:35:17.572Z"
   },
   {
    "duration": 578,
    "start_time": "2021-09-24T13:36:54.034Z"
   },
   {
    "duration": 688,
    "start_time": "2021-09-24T13:37:03.712Z"
   },
   {
    "duration": 779,
    "start_time": "2021-09-24T13:37:11.521Z"
   },
   {
    "duration": 744,
    "start_time": "2021-09-24T13:37:23.775Z"
   },
   {
    "duration": 706,
    "start_time": "2021-09-24T13:37:40.657Z"
   },
   {
    "duration": 730,
    "start_time": "2021-09-24T13:39:17.665Z"
   },
   {
    "duration": 833,
    "start_time": "2021-09-24T13:39:28.398Z"
   },
   {
    "duration": 716,
    "start_time": "2021-09-24T13:40:44.072Z"
   },
   {
    "duration": 707,
    "start_time": "2021-09-24T13:41:09.286Z"
   },
   {
    "duration": 733,
    "start_time": "2021-09-24T13:41:25.469Z"
   },
   {
    "duration": 1045,
    "start_time": "2021-09-24T14:37:08.618Z"
   },
   {
    "duration": 89,
    "start_time": "2021-09-24T14:37:09.664Z"
   },
   {
    "duration": 13,
    "start_time": "2021-09-24T14:37:09.755Z"
   },
   {
    "duration": 11,
    "start_time": "2021-09-24T14:37:09.770Z"
   },
   {
    "duration": 15,
    "start_time": "2021-09-24T14:37:09.782Z"
   },
   {
    "duration": 9,
    "start_time": "2021-09-24T14:37:09.798Z"
   },
   {
    "duration": 13,
    "start_time": "2021-09-24T14:37:09.809Z"
   },
   {
    "duration": 44,
    "start_time": "2021-09-24T14:37:09.823Z"
   },
   {
    "duration": 14,
    "start_time": "2021-09-24T14:37:09.870Z"
   },
   {
    "duration": 12,
    "start_time": "2021-09-24T14:37:09.887Z"
   },
   {
    "duration": 17,
    "start_time": "2021-09-24T14:37:09.901Z"
   },
   {
    "duration": 10,
    "start_time": "2021-09-24T14:37:09.920Z"
   },
   {
    "duration": 9,
    "start_time": "2021-09-24T14:37:09.932Z"
   },
   {
    "duration": 14,
    "start_time": "2021-09-24T14:37:09.943Z"
   },
   {
    "duration": 7,
    "start_time": "2021-09-24T14:37:09.959Z"
   },
   {
    "duration": 21,
    "start_time": "2021-09-24T14:37:09.967Z"
   },
   {
    "duration": 13,
    "start_time": "2021-09-24T14:37:09.990Z"
   },
   {
    "duration": 20,
    "start_time": "2021-09-24T14:37:10.005Z"
   },
   {
    "duration": 5,
    "start_time": "2021-09-24T14:37:10.027Z"
   },
   {
    "duration": 731,
    "start_time": "2021-09-24T14:37:10.034Z"
   },
   {
    "duration": 8,
    "start_time": "2021-09-24T14:37:10.767Z"
   },
   {
    "duration": 6,
    "start_time": "2021-09-24T14:37:10.777Z"
   },
   {
    "duration": 16,
    "start_time": "2021-09-24T14:37:10.784Z"
   },
   {
    "duration": 9,
    "start_time": "2021-09-24T14:37:10.802Z"
   },
   {
    "duration": 3,
    "start_time": "2021-09-24T14:37:10.813Z"
   },
   {
    "duration": 8,
    "start_time": "2021-09-24T14:37:10.818Z"
   },
   {
    "duration": 6,
    "start_time": "2021-09-24T14:37:10.830Z"
   },
   {
    "duration": 24,
    "start_time": "2021-09-24T14:37:10.838Z"
   },
   {
    "duration": 38,
    "start_time": "2021-09-24T14:37:10.864Z"
   },
   {
    "duration": 4,
    "start_time": "2021-09-24T14:37:10.903Z"
   },
   {
    "duration": 11,
    "start_time": "2021-09-24T14:37:10.909Z"
   },
   {
    "duration": 5,
    "start_time": "2021-09-24T14:37:10.922Z"
   },
   {
    "duration": 7,
    "start_time": "2021-09-24T14:37:10.928Z"
   },
   {
    "duration": 10,
    "start_time": "2021-09-24T14:37:10.937Z"
   },
   {
    "duration": 5,
    "start_time": "2021-09-24T14:37:10.948Z"
   },
   {
    "duration": 11,
    "start_time": "2021-09-24T14:37:10.954Z"
   },
   {
    "duration": 37,
    "start_time": "2021-09-24T14:37:10.966Z"
   },
   {
    "duration": 34,
    "start_time": "2021-09-24T14:37:11.004Z"
   },
   {
    "duration": 6,
    "start_time": "2021-09-24T14:37:11.039Z"
   },
   {
    "duration": 6,
    "start_time": "2021-09-24T14:37:11.046Z"
   },
   {
    "duration": 9,
    "start_time": "2021-09-24T14:37:11.053Z"
   },
   {
    "duration": 4,
    "start_time": "2021-09-24T14:37:11.064Z"
   },
   {
    "duration": 30,
    "start_time": "2021-09-24T14:37:11.069Z"
   },
   {
    "duration": 5,
    "start_time": "2021-09-24T14:37:11.101Z"
   },
   {
    "duration": 5,
    "start_time": "2021-09-24T14:37:11.107Z"
   },
   {
    "duration": 18,
    "start_time": "2021-09-24T14:37:11.114Z"
   },
   {
    "duration": 24,
    "start_time": "2021-09-24T14:37:11.134Z"
   },
   {
    "duration": 5,
    "start_time": "2021-09-24T14:37:11.159Z"
   },
   {
    "duration": 474,
    "start_time": "2021-09-24T14:37:11.165Z"
   },
   {
    "duration": 11,
    "start_time": "2021-09-24T14:37:11.641Z"
   },
   {
    "duration": 11,
    "start_time": "2021-09-24T14:37:11.653Z"
   },
   {
    "duration": 8,
    "start_time": "2021-09-24T14:37:11.666Z"
   },
   {
    "duration": 37,
    "start_time": "2021-09-24T14:37:11.676Z"
   },
   {
    "duration": 11,
    "start_time": "2021-09-24T14:37:11.715Z"
   },
   {
    "duration": 6,
    "start_time": "2021-09-24T14:37:11.728Z"
   },
   {
    "duration": 13,
    "start_time": "2021-09-24T14:37:11.736Z"
   },
   {
    "duration": 4,
    "start_time": "2021-09-24T14:37:11.750Z"
   },
   {
    "duration": 8,
    "start_time": "2021-09-24T14:37:11.755Z"
   }
  ],
  "kernelspec": {
   "display_name": "Python 3",
   "language": "python",
   "name": "python3"
  },
  "language_info": {
   "codemirror_mode": {
    "name": "ipython",
    "version": 3
   },
   "file_extension": ".py",
   "mimetype": "text/x-python",
   "name": "python",
   "nbconvert_exporter": "python",
   "pygments_lexer": "ipython3",
   "version": "3.8.3"
  },
  "toc": {
   "base_numbering": 1,
   "nav_menu": {},
   "number_sections": true,
   "sideBar": true,
   "skip_h1_title": true,
   "title_cell": "Table of Contents",
   "title_sidebar": "Contents",
   "toc_cell": false,
   "toc_position": {},
   "toc_section_display": true,
   "toc_window_display": false
  }
 },
 "nbformat": 4,
 "nbformat_minor": 2
}
