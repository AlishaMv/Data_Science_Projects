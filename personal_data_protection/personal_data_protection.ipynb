{
 "cells": [
  {
   "cell_type": "markdown",
   "metadata": {
    "toc": true
   },
   "source": [
    "<h1>Содержание<span class=\"tocSkip\"></span></h1>\n",
    "<div class=\"toc\"><ul class=\"toc-item\"><li><span><a href=\"#Загрузка-данных\" data-toc-modified-id=\"Загрузка-данных-1\"><span class=\"toc-item-num\">1&nbsp;&nbsp;</span>Загрузка данных</a></span></li><li><span><a href=\"#Умножение-матриц\" data-toc-modified-id=\"Умножение-матриц-2\"><span class=\"toc-item-num\">2&nbsp;&nbsp;</span>Умножение матриц</a></span></li><li><span><a href=\"#Алгоритм-преобразования\" data-toc-modified-id=\"Алгоритм-преобразования-3\"><span class=\"toc-item-num\">3&nbsp;&nbsp;</span>Алгоритм преобразования</a></span></li><li><span><a href=\"#Проверка-алгоритма\" data-toc-modified-id=\"Проверка-алгоритма-4\"><span class=\"toc-item-num\">4&nbsp;&nbsp;</span>Проверка алгоритма</a></span></li></ul></div>"
   ]
  },
  {
   "cell_type": "markdown",
   "metadata": {},
   "source": [
    "# Защита персональных данных клиентов"
   ]
  },
  {
   "cell_type": "markdown",
   "metadata": {},
   "source": [
    "Нам нужно защитить данные клиентов страховой компании «Хоть потоп».  \n",
    "Разработаем такой метод преобразования данных, чтобы по ним было сложно восстановить персональную информацию.\n",
    "\n",
    "Нужно защитить данные, чтобы при преобразовании качество моделей машинного обучения не ухудшилось. Подбирать наилучшую модель не требуется."
   ]
  },
  {
   "cell_type": "markdown",
   "metadata": {},
   "source": [
    "## Загрузка данных"
   ]
  },
  {
   "cell_type": "code",
   "execution_count": 1,
   "metadata": {},
   "outputs": [],
   "source": [
    "# библиотеки работы с данными\n",
    "import pandas as pd\n",
    "import numpy as np\n",
    "\n",
    "# откючаем предупреждения\n",
    "import warnings\n",
    "warnings.filterwarnings('ignore')\n",
    "\n",
    "# разделение на выборки\n",
    "from sklearn.model_selection import train_test_split \n",
    "\n",
    "# графики\n",
    "import matplotlib.pyplot as plt \n",
    "\n",
    "# модель линейной регрессии\n",
    "from sklearn.linear_model import LinearRegression\n",
    "\n",
    "# стандартизация признаков\n",
    "from sklearn.preprocessing import StandardScaler, MinMaxScaler\n",
    "\n",
    "# метрики\n",
    "from sklearn.metrics import mean_squared_error, mean_absolute_error, r2_score\n",
    "\n",
    "# установка настроек для отображения всех колонок при печати\n",
    "pd.set_option('display.max_columns', None)\n",
    "\n",
    "from random import randint"
   ]
  },
  {
   "cell_type": "code",
   "execution_count": 2,
   "metadata": {},
   "outputs": [
    {
     "data": {
      "text/html": [
       "<div>\n",
       "<style scoped>\n",
       "    .dataframe tbody tr th:only-of-type {\n",
       "        vertical-align: middle;\n",
       "    }\n",
       "\n",
       "    .dataframe tbody tr th {\n",
       "        vertical-align: top;\n",
       "    }\n",
       "\n",
       "    .dataframe thead th {\n",
       "        text-align: right;\n",
       "    }\n",
       "</style>\n",
       "<table border=\"1\" class=\"dataframe\">\n",
       "  <thead>\n",
       "    <tr style=\"text-align: right;\">\n",
       "      <th></th>\n",
       "      <th>Пол</th>\n",
       "      <th>Возраст</th>\n",
       "      <th>Зарплата</th>\n",
       "      <th>Члены семьи</th>\n",
       "      <th>Страховые выплаты</th>\n",
       "    </tr>\n",
       "  </thead>\n",
       "  <tbody>\n",
       "    <tr>\n",
       "      <td>0</td>\n",
       "      <td>1</td>\n",
       "      <td>41.0</td>\n",
       "      <td>49600.0</td>\n",
       "      <td>1</td>\n",
       "      <td>0</td>\n",
       "    </tr>\n",
       "    <tr>\n",
       "      <td>1</td>\n",
       "      <td>0</td>\n",
       "      <td>46.0</td>\n",
       "      <td>38000.0</td>\n",
       "      <td>1</td>\n",
       "      <td>1</td>\n",
       "    </tr>\n",
       "    <tr>\n",
       "      <td>2</td>\n",
       "      <td>0</td>\n",
       "      <td>29.0</td>\n",
       "      <td>21000.0</td>\n",
       "      <td>0</td>\n",
       "      <td>0</td>\n",
       "    </tr>\n",
       "    <tr>\n",
       "      <td>3</td>\n",
       "      <td>0</td>\n",
       "      <td>21.0</td>\n",
       "      <td>41700.0</td>\n",
       "      <td>2</td>\n",
       "      <td>0</td>\n",
       "    </tr>\n",
       "    <tr>\n",
       "      <td>4</td>\n",
       "      <td>1</td>\n",
       "      <td>28.0</td>\n",
       "      <td>26100.0</td>\n",
       "      <td>0</td>\n",
       "      <td>0</td>\n",
       "    </tr>\n",
       "  </tbody>\n",
       "</table>\n",
       "</div>"
      ],
      "text/plain": [
       "   Пол  Возраст  Зарплата  Члены семьи  Страховые выплаты\n",
       "0    1     41.0   49600.0            1                  0\n",
       "1    0     46.0   38000.0            1                  1\n",
       "2    0     29.0   21000.0            0                  0\n",
       "3    0     21.0   41700.0            2                  0\n",
       "4    1     28.0   26100.0            0                  0"
      ]
     },
     "execution_count": 2,
     "metadata": {},
     "output_type": "execute_result"
    }
   ],
   "source": [
    "df = pd.read_csv('/datasets/insurance.csv')\n",
    "\n",
    "df.head()"
   ]
  },
  {
   "cell_type": "code",
   "execution_count": 3,
   "metadata": {},
   "outputs": [
    {
     "name": "stdout",
     "output_type": "stream",
     "text": [
      "<class 'pandas.core.frame.DataFrame'>\n",
      "RangeIndex: 5000 entries, 0 to 4999\n",
      "Data columns (total 5 columns):\n",
      "Пол                  5000 non-null int64\n",
      "Возраст              5000 non-null float64\n",
      "Зарплата             5000 non-null float64\n",
      "Члены семьи          5000 non-null int64\n",
      "Страховые выплаты    5000 non-null int64\n",
      "dtypes: float64(2), int64(3)\n",
      "memory usage: 195.4 KB\n"
     ]
    }
   ],
   "source": [
    "df.info()"
   ]
  },
  {
   "cell_type": "code",
   "execution_count": 4,
   "metadata": {},
   "outputs": [
    {
     "data": {
      "text/html": [
       "<div>\n",
       "<style scoped>\n",
       "    .dataframe tbody tr th:only-of-type {\n",
       "        vertical-align: middle;\n",
       "    }\n",
       "\n",
       "    .dataframe tbody tr th {\n",
       "        vertical-align: top;\n",
       "    }\n",
       "\n",
       "    .dataframe thead th {\n",
       "        text-align: right;\n",
       "    }\n",
       "</style>\n",
       "<table border=\"1\" class=\"dataframe\">\n",
       "  <thead>\n",
       "    <tr style=\"text-align: right;\">\n",
       "      <th></th>\n",
       "      <th>Пол</th>\n",
       "      <th>Возраст</th>\n",
       "      <th>Зарплата</th>\n",
       "      <th>Члены семьи</th>\n",
       "      <th>Страховые выплаты</th>\n",
       "    </tr>\n",
       "  </thead>\n",
       "  <tbody>\n",
       "    <tr>\n",
       "      <td>count</td>\n",
       "      <td>5000.000000</td>\n",
       "      <td>5000.000000</td>\n",
       "      <td>5000.000000</td>\n",
       "      <td>5000.000000</td>\n",
       "      <td>5000.000000</td>\n",
       "    </tr>\n",
       "    <tr>\n",
       "      <td>mean</td>\n",
       "      <td>0.499000</td>\n",
       "      <td>30.952800</td>\n",
       "      <td>39916.360000</td>\n",
       "      <td>1.194200</td>\n",
       "      <td>0.148000</td>\n",
       "    </tr>\n",
       "    <tr>\n",
       "      <td>std</td>\n",
       "      <td>0.500049</td>\n",
       "      <td>8.440807</td>\n",
       "      <td>9900.083569</td>\n",
       "      <td>1.091387</td>\n",
       "      <td>0.463183</td>\n",
       "    </tr>\n",
       "    <tr>\n",
       "      <td>min</td>\n",
       "      <td>0.000000</td>\n",
       "      <td>18.000000</td>\n",
       "      <td>5300.000000</td>\n",
       "      <td>0.000000</td>\n",
       "      <td>0.000000</td>\n",
       "    </tr>\n",
       "    <tr>\n",
       "      <td>25%</td>\n",
       "      <td>0.000000</td>\n",
       "      <td>24.000000</td>\n",
       "      <td>33300.000000</td>\n",
       "      <td>0.000000</td>\n",
       "      <td>0.000000</td>\n",
       "    </tr>\n",
       "    <tr>\n",
       "      <td>50%</td>\n",
       "      <td>0.000000</td>\n",
       "      <td>30.000000</td>\n",
       "      <td>40200.000000</td>\n",
       "      <td>1.000000</td>\n",
       "      <td>0.000000</td>\n",
       "    </tr>\n",
       "    <tr>\n",
       "      <td>75%</td>\n",
       "      <td>1.000000</td>\n",
       "      <td>37.000000</td>\n",
       "      <td>46600.000000</td>\n",
       "      <td>2.000000</td>\n",
       "      <td>0.000000</td>\n",
       "    </tr>\n",
       "    <tr>\n",
       "      <td>max</td>\n",
       "      <td>1.000000</td>\n",
       "      <td>65.000000</td>\n",
       "      <td>79000.000000</td>\n",
       "      <td>6.000000</td>\n",
       "      <td>5.000000</td>\n",
       "    </tr>\n",
       "  </tbody>\n",
       "</table>\n",
       "</div>"
      ],
      "text/plain": [
       "               Пол      Возраст      Зарплата  Члены семьи  Страховые выплаты\n",
       "count  5000.000000  5000.000000   5000.000000  5000.000000        5000.000000\n",
       "mean      0.499000    30.952800  39916.360000     1.194200           0.148000\n",
       "std       0.500049     8.440807   9900.083569     1.091387           0.463183\n",
       "min       0.000000    18.000000   5300.000000     0.000000           0.000000\n",
       "25%       0.000000    24.000000  33300.000000     0.000000           0.000000\n",
       "50%       0.000000    30.000000  40200.000000     1.000000           0.000000\n",
       "75%       1.000000    37.000000  46600.000000     2.000000           0.000000\n",
       "max       1.000000    65.000000  79000.000000     6.000000           5.000000"
      ]
     },
     "execution_count": 4,
     "metadata": {},
     "output_type": "execute_result"
    }
   ],
   "source": [
    "df.describe()"
   ]
  },
  {
   "cell_type": "code",
   "execution_count": 5,
   "metadata": {},
   "outputs": [
    {
     "data": {
      "text/plain": [
       "0    2505\n",
       "1    2495\n",
       "Name: Пол, dtype: int64"
      ]
     },
     "execution_count": 5,
     "metadata": {},
     "output_type": "execute_result"
    }
   ],
   "source": [
    "df['Пол'].value_counts()"
   ]
  },
  {
   "cell_type": "code",
   "execution_count": 6,
   "metadata": {},
   "outputs": [
    {
     "data": {
      "text/plain": [
       "0    4436\n",
       "1     423\n",
       "2     115\n",
       "3      18\n",
       "4       7\n",
       "5       1\n",
       "Name: Страховые выплаты, dtype: int64"
      ]
     },
     "execution_count": 6,
     "metadata": {},
     "output_type": "execute_result"
    }
   ],
   "source": [
    "df['Страховые выплаты'].value_counts()"
   ]
  },
  {
   "cell_type": "code",
   "execution_count": 7,
   "metadata": {},
   "outputs": [
    {
     "data": {
      "image/png": "[encoded data removed]",
      "text/plain": [
       "<Figure size 432x288 with 1 Axes>"
      ]
     },
     "metadata": {
      "needs_background": "light"
     },
     "output_type": "display_data"
    }
   ],
   "source": [
    "df['Зарплата'].sort_values().hist(bins=50)\n",
    "plt.show()"
   ]
  },
  {
   "cell_type": "code",
   "execution_count": 8,
   "metadata": {},
   "outputs": [
    {
     "data": {
      "image/png": "[encoded data removed]",
      "text/plain": [
       "<Figure size 432x288 with 1 Axes>"
      ]
     },
     "metadata": {
      "needs_background": "light"
     },
     "output_type": "display_data"
    }
   ],
   "source": [
    "df['Возраст'].sort_values().hist(bins=50)\n",
    "plt.show()"
   ]
  },
  {
   "cell_type": "code",
   "execution_count": 9,
   "metadata": {},
   "outputs": [
    {
     "data": {
      "text/plain": [
       "153"
      ]
     },
     "execution_count": 9,
     "metadata": {},
     "output_type": "execute_result"
    }
   ],
   "source": [
    "df.duplicated().sum()"
   ]
  },
  {
   "cell_type": "markdown",
   "metadata": {},
   "source": [
    "**Вывод**  \n",
    "В таблице нам представлена адекватная информация о клиентах страховой компании: \n",
    "- данные в столбцах не имеют пропусков и отрицательных значений\n",
    "- в столбце \"Пол\" представлено практически равное количество мужчин и женщин, что может оказаться достаточно полезно для будущих исследований\n",
    "- данные в столбце с зарплатой имеют нормальное распределение: по гистограмме можно проследить, что чаще всего встречается среднее значение зарплаты в 40 тыс и близкие к нему, а крайние значения встречаются довольно редко\n",
    "- в датасете собрана информация о людях от 18 до 65 лет, при этом преимущественно возраста в диапазоне от 20 до 40 лет, что вполне может соответствовать реальности\n",
    "- в основном люди не получали страховые выплаты (из 5 тыс 4436 нулей по столбцу выплат), однако те кто обращался за выплатой разделились не поровну: в основном клиенты получали 1 выплату, реже 2, и совсем редко более 3-4 выплаты, 5 выплат получил лишь 1 клиент\n",
    "- таблица содержит 153 дубликата, но мы ничего не будем с ними делать, т.к. у клиентов здесь не даны уникальные идентификаторы, а предоставленные данные могут совпадать у разных людей, что вполне соответствует действительности"
   ]
  },
  {
   "cell_type": "markdown",
   "metadata": {},
   "source": [
    "## Умножение матриц"
   ]
  },
  {
   "cell_type": "markdown",
   "metadata": {},
   "source": [
    "Обозначения:\n",
    "\n",
    "- $X$ — матрица признаков (нулевой столбец состоит из единиц)\n",
    "\n",
    "- $y$ — вектор целевого признака\n",
    "\n",
    "- $P$ — матрица, на которую умножаются признаки\n",
    "\n",
    "- $w$ — вектор весов линейной регрессии (нулевой элемент равен сдвигу)"
   ]
  },
  {
   "cell_type": "markdown",
   "metadata": {},
   "source": [
    "Предсказания:\n",
    "\n",
    "$$\n",
    "a = Xw\n",
    "$$\n",
    "\n",
    "Задача обучения:\n",
    "\n",
    "$$\n",
    "w = \\arg\\min_w MSE(Xw, y)\n",
    "$$\n",
    "\n",
    "Формула обучения:\n",
    "\n",
    "$$\n",
    "w = (X^T X)^{-1} X^T y\n",
    "$$"
   ]
  },
  {
   "cell_type": "markdown",
   "metadata": {},
   "source": [
    "**Ответ:**  \n",
    "\n",
    "Качество линейной регрессии не поменяется при умножении признаков на обратимую матрицу\n",
    "___________\n",
    "\n",
    "**Обоснование:**\n",
    "\n",
    "1. Запишем формулу предсказания в матричном виде:  \n",
    "\n",
    "$$\n",
    "a = X w = X (X^T X)^{-1} X^T y\n",
    "$$\n",
    "\n",
    "2. Пусть матрица V - любая обратимая матрица, а X' - преобразованная матрица признаков.   \n",
    "Подставим V в формулу задачи обучения, умножив на матрицу признаков X: \n",
    "\n",
    "$$\n",
    "X^{,} = X V\n",
    "$$ \n",
    "\n",
    "$$\n",
    "w^{,} = ((XV)^T XV)^{-1} (XV)^T y\n",
    "$$\n",
    "\n",
    "3. C помощью свойства обратимой матрицы:\n",
    "\n",
    "$$\n",
    "(AB)^{-1} = B^{-1} A^{-1}\n",
    "$$\n",
    "\n",
    "раскроем скобки:\n",
    "\n",
    "$$\n",
    "w^{,} = (XV)^{-1} ((XV)^T)^{-1} (XV)^T y\n",
    "$$\n",
    "\n",
    "4. С помощью свойства транспонирования матриц:\n",
    "\n",
    "$$\n",
    "(AB)^T = В^T A^T\n",
    "$$\n",
    "\n",
    "произведем следующее преобразование формулы, еще раз раскрыв скобки:\n",
    "\n",
    "$$\n",
    "w^{,} = V^{-1} X^{-1} (V^T X^T)^{-1} V^T X^T y\n",
    "$$\n",
    "\n",
    "$$\n",
    "w^{,} = V^{-1} X^{-1} (X^T)^{-1} (V^T)^{-1} V^T X^T y\n",
    "$$\n",
    "\n",
    "5. Далее используем тождество:\n",
    "\n",
    "$$\n",
    "AA^{-1} = A^{-1}A = A A^{-1} = E\n",
    "$$\n",
    "*где: $E$ — единичная  матрица*\n",
    "\n",
    "чтобы еще раз преобразовать нашу формулу:\n",
    "\n",
    "$$\n",
    "w^{,} = V^{-1} X^{-1} (X^T)^{-1} E X^T y\n",
    "$$\n",
    "\n",
    "$$\n",
    "w^{,} = V^{-1} (X^T X)^{-1} X^T y\n",
    "$$\n",
    "\n",
    "6. Вспомним исходную формулу задачи обучения:\n",
    "\n",
    "$$\n",
    "w = (X^T X)^{-1} X^T y\n",
    "$$\n",
    "\n",
    "подставим w в нашу формулу по смыслу и получим наглядное соотношение весов в исходной задаче и в преобразованной:\n",
    "\n",
    "$$\n",
    "w^{,} = V^{-1} w\n",
    "$$\n",
    "\n",
    "7. При этом, если подставим преобразованную матрицу признаков X1 в формулу задачи предсказания:\n",
    "\n",
    "$$\n",
    "a^{,} = X^{,} w = XV V^{-1} w = X E w\n",
    "$$\n",
    "\n",
    "то получим равенство\n",
    "\n",
    "$$\n",
    "a^{,} = X w\n",
    "$$\n",
    "\n",
    "$$\n",
    "a^{,} = a\n",
    "$$\n",
    "\n",
    "которое доказывает нам, что при умножении матрицы признаков на обратимую матрицу качество линейной регресии не меняется"
   ]
  },
  {
   "cell_type": "markdown",
   "metadata": {},
   "source": [
    "## Алгоритм преобразования"
   ]
  },
  {
   "cell_type": "markdown",
   "metadata": {},
   "source": [
    "**Алгоритм**\n",
    "\n",
    "- Определим признаки (фичи) и целевой признак (таргет)\n",
    "- Разделим выборку на тренировочную и тестовую\n",
    "- Проведем кодирование и стандартизацию признаков \n",
    "- Обучим модель до преобразования\n",
    "- Получим метрику R2 на модели до преобразования матрицы признаков\n",
    "- Создадим случайную матрицу и проверим ее на обратимость\n",
    "- Получим преобразованную матрицу признаков, умножив обратимую матрицу на исходную матрицу признаков\n",
    "- Обучим модель на преобразованной матрице признаков\n",
    "- Получим метрику R2 на модели после преобразования матрицы признаков\n",
    "- Сравним полученные метрики R2 между собой\n",
    "- Сформулируем вывод"
   ]
  },
  {
   "cell_type": "markdown",
   "metadata": {},
   "source": [
    "**Обоснование**\n",
    "\n",
    "Данный алгоритм был обоснован с помощью аналитического доказательства, разобранного в предыдущем пункте"
   ]
  },
  {
   "cell_type": "markdown",
   "metadata": {},
   "source": [
    "## Проверка алгоритма"
   ]
  },
  {
   "cell_type": "markdown",
   "metadata": {},
   "source": [
    "Разделим исходные данные на признаки (фичи) и целевой признак (таргет)"
   ]
  },
  {
   "cell_type": "code",
   "execution_count": 10,
   "metadata": {},
   "outputs": [
    {
     "name": "stdout",
     "output_type": "stream",
     "text": [
      "Размер исходного датафрейма: (5000, 5) \n",
      "Размер features: (5000, 4) \n",
      "Размер target: (5000,)\n"
     ]
    }
   ],
   "source": [
    "features = df.drop(['Страховые выплаты'], axis = 1)\n",
    "target = df['Страховые выплаты']\n",
    "\n",
    "print('Размер исходного датафрейма:', df.shape,\n",
    "      '\\nРазмер features:', features.shape,\n",
    "      '\\nРазмер target:', target.shape)"
   ]
  },
  {
   "cell_type": "markdown",
   "metadata": {},
   "source": [
    "Объявим 4 переменные и запишем в них признаки и таргет обучающей выборки и тестовой выборки (для теста определим размер = 25%)"
   ]
  },
  {
   "cell_type": "code",
   "execution_count": 11,
   "metadata": {},
   "outputs": [
    {
     "name": "stdout",
     "output_type": "stream",
     "text": [
      "Размер train: (3750, 4) (3750,) \n",
      "Размер test: (1250, 4) (1250,)\n"
     ]
    }
   ],
   "source": [
    "features_train, features_test, target_train, target_test = train_test_split(\n",
    "    features, target, test_size=0.25, random_state=42)\n",
    "\n",
    "print('Размер train:', features_train.shape, target_train.shape,\n",
    "      '\\nРазмер test:', features_test.shape, target_test.shape)"
   ]
  },
  {
   "cell_type": "code",
   "execution_count": 12,
   "metadata": {},
   "outputs": [
    {
     "data": {
      "text/html": [
       "<div>\n",
       "<style scoped>\n",
       "    .dataframe tbody tr th:only-of-type {\n",
       "        vertical-align: middle;\n",
       "    }\n",
       "\n",
       "    .dataframe tbody tr th {\n",
       "        vertical-align: top;\n",
       "    }\n",
       "\n",
       "    .dataframe thead th {\n",
       "        text-align: right;\n",
       "    }\n",
       "</style>\n",
       "<table border=\"1\" class=\"dataframe\">\n",
       "  <thead>\n",
       "    <tr style=\"text-align: right;\">\n",
       "      <th></th>\n",
       "      <th>Пол</th>\n",
       "      <th>Возраст</th>\n",
       "      <th>Зарплата</th>\n",
       "      <th>Члены семьи</th>\n",
       "    </tr>\n",
       "  </thead>\n",
       "  <tbody>\n",
       "    <tr>\n",
       "      <td>4884</td>\n",
       "      <td>0</td>\n",
       "      <td>34.0</td>\n",
       "      <td>40200.0</td>\n",
       "      <td>0</td>\n",
       "    </tr>\n",
       "    <tr>\n",
       "      <td>3163</td>\n",
       "      <td>0</td>\n",
       "      <td>23.0</td>\n",
       "      <td>33300.0</td>\n",
       "      <td>1</td>\n",
       "    </tr>\n",
       "    <tr>\n",
       "      <td>490</td>\n",
       "      <td>0</td>\n",
       "      <td>34.0</td>\n",
       "      <td>43600.0</td>\n",
       "      <td>0</td>\n",
       "    </tr>\n",
       "    <tr>\n",
       "      <td>862</td>\n",
       "      <td>1</td>\n",
       "      <td>36.0</td>\n",
       "      <td>34600.0</td>\n",
       "      <td>1</td>\n",
       "    </tr>\n",
       "    <tr>\n",
       "      <td>1740</td>\n",
       "      <td>0</td>\n",
       "      <td>36.0</td>\n",
       "      <td>41000.0</td>\n",
       "      <td>1</td>\n",
       "    </tr>\n",
       "  </tbody>\n",
       "</table>\n",
       "</div>"
      ],
      "text/plain": [
       "      Пол  Возраст  Зарплата  Члены семьи\n",
       "4884    0     34.0   40200.0            0\n",
       "3163    0     23.0   33300.0            1\n",
       "490     0     34.0   43600.0            0\n",
       "862     1     36.0   34600.0            1\n",
       "1740    0     36.0   41000.0            1"
      ]
     },
     "execution_count": 12,
     "metadata": {},
     "output_type": "execute_result"
    }
   ],
   "source": [
    "features_train.head()"
   ]
  },
  {
   "cell_type": "markdown",
   "metadata": {},
   "source": [
    "Мы можем заметить, что у признаков разный разброс, поэтому, чтобы получить адекватные предсказания на них, необходимо их отмасштабировать.  \n",
    "Тест мы трогать не имеем права, поэтому будем мучать признаки только в тренировочном датасете."
   ]
  },
  {
   "cell_type": "code",
   "execution_count": 13,
   "metadata": {},
   "outputs": [],
   "source": [
    "# numeric = ['Возраст', 'Зарплата']\n",
    "\n",
    "# scaler = MinMaxScaler()\n",
    "# scaler.fit(features_train[numeric])\n",
    "# features_train[numeric] = scaler.transform(features_train[numeric])\n",
    "# features_train.head()"
   ]
  },
  {
   "cell_type": "markdown",
   "metadata": {},
   "source": [
    "Обучим модель линейной регрессии на исходной матрице признаков,  \n",
    "получим предсказания  \n",
    "и оценим их качество метриками R2 и MSE"
   ]
  },
  {
   "cell_type": "code",
   "execution_count": 14,
   "metadata": {},
   "outputs": [
    {
     "name": "stdout",
     "output_type": "stream",
     "text": [
      "R2 до преобразования: 0.42548 \n",
      "MSE до преобразования: 0.13863\n"
     ]
    }
   ],
   "source": [
    "model_before =  LinearRegression()\n",
    "model_before.fit(features_train, target_train)\n",
    "prediction_before = model_before.predict(features_test)\n",
    "\n",
    "r2_before = r2_score(target_test, prediction_before).round(5)\n",
    "mse_before = mean_squared_error(target_test, prediction_before).round(5)\n",
    "\n",
    "print('R2 до преобразования:', r2_before,\n",
    "     '\\nMSE до преобразования:', mse_before)"
   ]
  },
  {
   "cell_type": "markdown",
   "metadata": {},
   "source": [
    "Создадим рандомную матрицу 4 на 4 (по количеству фичей в таблице features):  \n",
    "для этого напишем функцию которая создает рандомную матрицу с входными размерами i на j,  \n",
    "но возращает ее только убедившись в ее обратимости:"
   ]
  },
  {
   "cell_type": "code",
   "execution_count": 15,
   "metadata": {},
   "outputs": [
    {
     "data": {
      "text/plain": [
       "array([[-0.14525214,  0.33060097, -0.17437253,  0.72376155],\n",
       "       [-1.46563488, -0.92975052,  0.98178157,  0.33965223],\n",
       "       [ 0.52706029,  1.69514806,  0.07268683, -0.0196294 ],\n",
       "       [ 1.52030625,  1.53467024,  0.30064313,  1.16390097]])"
      ]
     },
     "execution_count": 15,
     "metadata": {},
     "output_type": "execute_result"
    }
   ],
   "source": [
    "def create_matrix(i,j):\n",
    "    \n",
    "    matrix = np.random.normal(0, 1, (i,j))\n",
    "    \n",
    "    try:\n",
    "        inverse = np.linalg.inv(matrix)\n",
    "        \n",
    "    except np.linalg.LinAlgError:\n",
    "        pass\n",
    "    \n",
    "    else:\n",
    "        return matrix \n",
    "    \n",
    "A = create_matrix(4,4)\n",
    "A"
   ]
  },
  {
   "cell_type": "markdown",
   "metadata": {},
   "source": [
    "Сформируем новую матрицу признаков путём умножения исходной матрицы признаков на рандомную обратимую матрицу, созданную нами на предыдущем шаге"
   ]
  },
  {
   "cell_type": "code",
   "execution_count": 16,
   "metadata": {},
   "outputs": [
    {
     "data": {
      "text/plain": [
       "(5000, 4)"
      ]
     },
     "execution_count": 16,
     "metadata": {},
     "output_type": "execute_result"
    }
   ],
   "source": [
    "features_after = features @ A\n",
    "\n",
    "features_after.shape"
   ]
  },
  {
   "cell_type": "code",
   "execution_count": 17,
   "metadata": {},
   "outputs": [
    {
     "name": "stdout",
     "output_type": "stream",
     "text": [
      "Размер train: (3750, 4) (3750,) \n",
      "Размер test: (1250, 4) (1250,)\n"
     ]
    }
   ],
   "source": [
    "features_train, features_test, target_train, target_test = train_test_split(\n",
    "    features_after, target, test_size=0.25, random_state=42)\n",
    "\n",
    "print('Размер train:', features_train.shape, target_train.shape,\n",
    "      '\\nРазмер test:', features_test.shape, target_test.shape)"
   ]
  },
  {
   "cell_type": "markdown",
   "metadata": {},
   "source": [
    "Обучим модель линейной регрессии на трансформированной матрице признаков,  \n",
    "получим предсказания  \n",
    "и оценим их качество метрикой R2"
   ]
  },
  {
   "cell_type": "code",
   "execution_count": 18,
   "metadata": {},
   "outputs": [
    {
     "name": "stdout",
     "output_type": "stream",
     "text": [
      "R2 после преобразования: 0.42548 \n",
      "MSE после преобразования: 0.13863\n"
     ]
    }
   ],
   "source": [
    "model_after =  LinearRegression()\n",
    "model_after.fit(features_train, target_train)\n",
    "prediction_after = model_after.predict(features_test)\n",
    "\n",
    "r2_after = r2_score(target_test, prediction_after).round(5)\n",
    "mse_after = mean_squared_error(target_test, prediction_after).round(5)\n",
    "\n",
    "print('R2 после преобразования:', r2_after,\n",
    "     '\\nMSE после преобразования:', mse_after)"
   ]
  },
  {
   "cell_type": "markdown",
   "metadata": {},
   "source": [
    "Убедимся что показатели метрик R2 и MSE равны"
   ]
  },
  {
   "cell_type": "code",
   "execution_count": 19,
   "metadata": {},
   "outputs": [
    {
     "data": {
      "text/plain": [
       "True"
      ]
     },
     "execution_count": 19,
     "metadata": {},
     "output_type": "execute_result"
    }
   ],
   "source": [
    "r2_before == r2_after "
   ]
  },
  {
   "cell_type": "code",
   "execution_count": 20,
   "metadata": {},
   "outputs": [
    {
     "data": {
      "text/plain": [
       "True"
      ]
     },
     "execution_count": 20,
     "metadata": {},
     "output_type": "execute_result"
    }
   ],
   "source": [
    "mse_before == mse_after "
   ]
  },
  {
   "cell_type": "markdown",
   "metadata": {},
   "source": [
    "Таким образом, сделаем **вывод** о том, что гипотеза неизменности качества линейной регрессии при умножении признаков на любую обратимую матрицу оказалась верна."
   ]
  }
 ],
 "metadata": {
  "ExecuteTimeLog": [
   {
    "duration": 1283,
    "start_time": "2021-06-17T05:54:12.057Z"
   },
   {
    "duration": 18,
    "start_time": "2021-06-17T05:55:30.647Z"
   },
   {
    "duration": 35,
    "start_time": "2021-06-17T05:56:11.282Z"
   },
   {
    "duration": 9,
    "start_time": "2021-06-17T05:56:18.677Z"
   },
   {
    "duration": 35,
    "start_time": "2021-06-17T05:56:45.373Z"
   },
   {
    "duration": 8,
    "start_time": "2021-06-17T05:57:22.069Z"
   },
   {
    "duration": 7,
    "start_time": "2021-06-17T05:57:56.061Z"
   },
   {
    "duration": 440,
    "start_time": "2021-06-17T06:00:42.689Z"
   },
   {
    "duration": 24502,
    "start_time": "2021-06-17T06:02:11.409Z"
   },
   {
    "duration": 761,
    "start_time": "2021-06-17T06:02:46.723Z"
   },
   {
    "duration": 5,
    "start_time": "2021-06-17T06:03:18.098Z"
   },
   {
    "duration": 404,
    "start_time": "2021-06-17T06:03:23.441Z"
   },
   {
    "duration": 383,
    "start_time": "2021-06-17T06:06:00.367Z"
   },
   {
    "duration": 8,
    "start_time": "2021-06-17T06:14:55.535Z"
   },
   {
    "duration": 10,
    "start_time": "2021-06-17T06:15:17.813Z"
   },
   {
    "duration": 9,
    "start_time": "2021-06-17T06:15:24.816Z"
   },
   {
    "duration": 10,
    "start_time": "2021-06-17T06:15:28.691Z"
   },
   {
    "duration": 1443,
    "start_time": "2021-06-17T10:30:10.576Z"
   },
   {
    "duration": 82,
    "start_time": "2021-06-17T10:30:12.022Z"
   },
   {
    "duration": 9,
    "start_time": "2021-06-17T10:30:12.106Z"
   },
   {
    "duration": 38,
    "start_time": "2021-06-17T10:30:12.118Z"
   },
   {
    "duration": 8,
    "start_time": "2021-06-17T10:30:12.158Z"
   },
   {
    "duration": 14,
    "start_time": "2021-06-17T10:30:12.169Z"
   },
   {
    "duration": 429,
    "start_time": "2021-06-17T10:30:12.186Z"
   },
   {
    "duration": 387,
    "start_time": "2021-06-17T10:30:12.618Z"
   },
   {
    "duration": 18,
    "start_time": "2021-06-17T10:30:13.007Z"
   },
   {
    "duration": 8,
    "start_time": "2021-06-17T10:32:42.522Z"
   },
   {
    "duration": 22,
    "start_time": "2021-06-17T10:55:41.826Z"
   },
   {
    "duration": 5,
    "start_time": "2021-06-17T10:56:03.712Z"
   },
   {
    "duration": 6,
    "start_time": "2021-06-17T10:59:00.978Z"
   },
   {
    "duration": 8,
    "start_time": "2021-06-17T11:09:09.719Z"
   },
   {
    "duration": 6,
    "start_time": "2021-06-17T11:09:17.312Z"
   },
   {
    "duration": 7,
    "start_time": "2021-06-17T11:10:08.672Z"
   },
   {
    "duration": 15,
    "start_time": "2021-06-17T11:10:56.675Z"
   },
   {
    "duration": 6,
    "start_time": "2021-06-17T11:15:23.167Z"
   },
   {
    "duration": 6,
    "start_time": "2021-06-17T11:15:32.162Z"
   },
   {
    "duration": 6,
    "start_time": "2021-06-17T11:18:46.716Z"
   },
   {
    "duration": 6,
    "start_time": "2021-06-17T11:18:53.397Z"
   },
   {
    "duration": 7,
    "start_time": "2021-06-17T11:18:57.203Z"
   },
   {
    "duration": 6,
    "start_time": "2021-06-17T11:19:03.957Z"
   },
   {
    "duration": 7,
    "start_time": "2021-06-17T11:19:56.996Z"
   },
   {
    "duration": 7,
    "start_time": "2021-06-17T11:20:13.687Z"
   },
   {
    "duration": 393,
    "start_time": "2021-06-17T11:24:03.442Z"
   },
   {
    "duration": 7,
    "start_time": "2021-06-17T11:24:09.674Z"
   },
   {
    "duration": 273,
    "start_time": "2021-06-17T11:25:15.442Z"
   },
   {
    "duration": 267,
    "start_time": "2021-06-17T11:26:21.772Z"
   },
   {
    "duration": 7,
    "start_time": "2021-06-17T11:27:02.112Z"
   },
   {
    "duration": 5,
    "start_time": "2021-06-17T11:27:15.336Z"
   },
   {
    "duration": 11,
    "start_time": "2021-06-17T11:28:34.057Z"
   },
   {
    "duration": 265,
    "start_time": "2021-06-17T11:28:37.090Z"
   },
   {
    "duration": 5,
    "start_time": "2021-06-17T11:28:43.385Z"
   },
   {
    "duration": 15,
    "start_time": "2021-06-17T11:28:44.952Z"
   },
   {
    "duration": 6,
    "start_time": "2021-06-17T11:29:10.393Z"
   },
   {
    "duration": 1089,
    "start_time": "2021-06-18T05:40:53.977Z"
   },
   {
    "duration": 25,
    "start_time": "2021-06-18T05:40:55.068Z"
   },
   {
    "duration": 5,
    "start_time": "2021-06-18T05:40:55.095Z"
   },
   {
    "duration": 24,
    "start_time": "2021-06-18T05:40:55.102Z"
   },
   {
    "duration": 5,
    "start_time": "2021-06-18T05:40:55.127Z"
   },
   {
    "duration": 6,
    "start_time": "2021-06-18T05:40:55.133Z"
   },
   {
    "duration": 276,
    "start_time": "2021-06-18T05:40:55.140Z"
   },
   {
    "duration": 222,
    "start_time": "2021-06-18T05:40:55.418Z"
   },
   {
    "duration": 5,
    "start_time": "2021-06-18T05:40:55.642Z"
   },
   {
    "duration": 269,
    "start_time": "2021-06-18T05:58:46.379Z"
   },
   {
    "duration": 6,
    "start_time": "2021-06-18T05:58:51.589Z"
   },
   {
    "duration": 8,
    "start_time": "2021-06-18T05:58:52.999Z"
   },
   {
    "duration": 8,
    "start_time": "2021-06-18T06:02:56.779Z"
   },
   {
    "duration": 8,
    "start_time": "2021-06-18T06:29:43.838Z"
   },
   {
    "duration": 9,
    "start_time": "2021-06-18T06:29:57.529Z"
   },
   {
    "duration": 8,
    "start_time": "2021-06-18T06:30:14.362Z"
   },
   {
    "duration": 8,
    "start_time": "2021-06-18T06:30:15.468Z"
   },
   {
    "duration": 6,
    "start_time": "2021-06-18T06:38:32.476Z"
   },
   {
    "duration": 6,
    "start_time": "2021-06-18T06:39:59.679Z"
   },
   {
    "duration": 186,
    "start_time": "2021-06-18T06:40:39.094Z"
   },
   {
    "duration": 5,
    "start_time": "2021-06-18T06:41:32.054Z"
   },
   {
    "duration": 185,
    "start_time": "2021-06-18T06:46:43.184Z"
   },
   {
    "duration": 179,
    "start_time": "2021-06-18T06:48:37.615Z"
   },
   {
    "duration": 184,
    "start_time": "2021-06-18T06:48:43.012Z"
   },
   {
    "duration": 176,
    "start_time": "2021-06-18T06:49:05.115Z"
   },
   {
    "duration": 1021,
    "start_time": "2021-06-18T06:49:27.348Z"
   },
   {
    "duration": 27,
    "start_time": "2021-06-18T06:49:28.371Z"
   },
   {
    "duration": 6,
    "start_time": "2021-06-18T06:49:28.400Z"
   },
   {
    "duration": 22,
    "start_time": "2021-06-18T06:49:28.408Z"
   },
   {
    "duration": 6,
    "start_time": "2021-06-18T06:49:28.432Z"
   },
   {
    "duration": 8,
    "start_time": "2021-06-18T06:49:28.440Z"
   },
   {
    "duration": 277,
    "start_time": "2021-06-18T06:49:28.449Z"
   },
   {
    "duration": 236,
    "start_time": "2021-06-18T06:49:28.728Z"
   },
   {
    "duration": 5,
    "start_time": "2021-06-18T06:49:28.966Z"
   },
   {
    "duration": 5,
    "start_time": "2021-06-18T06:49:31.170Z"
   },
   {
    "duration": 8,
    "start_time": "2021-06-18T06:49:32.301Z"
   },
   {
    "duration": 9,
    "start_time": "2021-06-18T06:49:32.821Z"
   },
   {
    "duration": 14,
    "start_time": "2021-06-18T06:49:34.369Z"
   },
   {
    "duration": 4,
    "start_time": "2021-06-18T06:51:50.661Z"
   },
   {
    "duration": 6,
    "start_time": "2021-06-18T06:57:35.878Z"
   },
   {
    "duration": 274,
    "start_time": "2021-06-18T07:03:45.489Z"
   },
   {
    "duration": 201,
    "start_time": "2021-06-18T07:04:01.190Z"
   },
   {
    "duration": 8,
    "start_time": "2021-06-18T07:04:25.918Z"
   },
   {
    "duration": 8,
    "start_time": "2021-06-18T07:06:34.831Z"
   },
   {
    "duration": 1036,
    "start_time": "2021-06-18T07:06:53.533Z"
   },
   {
    "duration": 26,
    "start_time": "2021-06-18T07:06:54.571Z"
   },
   {
    "duration": 6,
    "start_time": "2021-06-18T07:06:54.599Z"
   },
   {
    "duration": 23,
    "start_time": "2021-06-18T07:06:54.607Z"
   },
   {
    "duration": 6,
    "start_time": "2021-06-18T07:06:54.632Z"
   },
   {
    "duration": 6,
    "start_time": "2021-06-18T07:06:54.640Z"
   },
   {
    "duration": 286,
    "start_time": "2021-06-18T07:06:54.648Z"
   },
   {
    "duration": 234,
    "start_time": "2021-06-18T07:06:54.937Z"
   },
   {
    "duration": 12,
    "start_time": "2021-06-18T07:06:55.173Z"
   },
   {
    "duration": 6,
    "start_time": "2021-06-18T07:06:58.631Z"
   },
   {
    "duration": 8,
    "start_time": "2021-06-18T07:06:59.775Z"
   },
   {
    "duration": 8,
    "start_time": "2021-06-18T07:07:01.373Z"
   },
   {
    "duration": 9,
    "start_time": "2021-06-18T07:07:10.825Z"
   },
   {
    "duration": 7,
    "start_time": "2021-06-18T07:10:03.215Z"
   },
   {
    "duration": 5,
    "start_time": "2021-06-18T07:13:22.304Z"
   },
   {
    "duration": 8,
    "start_time": "2021-06-18T07:13:37.751Z"
   },
   {
    "duration": 7,
    "start_time": "2021-06-18T07:13:51.432Z"
   },
   {
    "duration": 1088,
    "start_time": "2021-06-18T07:14:03.983Z"
   },
   {
    "duration": 26,
    "start_time": "2021-06-18T07:14:05.072Z"
   },
   {
    "duration": 5,
    "start_time": "2021-06-18T07:14:05.100Z"
   },
   {
    "duration": 28,
    "start_time": "2021-06-18T07:14:05.107Z"
   },
   {
    "duration": 5,
    "start_time": "2021-06-18T07:14:05.136Z"
   },
   {
    "duration": 11,
    "start_time": "2021-06-18T07:14:05.143Z"
   },
   {
    "duration": 263,
    "start_time": "2021-06-18T07:14:05.155Z"
   },
   {
    "duration": 225,
    "start_time": "2021-06-18T07:14:05.420Z"
   },
   {
    "duration": 5,
    "start_time": "2021-06-18T07:14:05.647Z"
   },
   {
    "duration": 5,
    "start_time": "2021-06-18T07:14:07.992Z"
   },
   {
    "duration": 7,
    "start_time": "2021-06-18T07:14:10.042Z"
   },
   {
    "duration": 8,
    "start_time": "2021-06-18T07:14:10.202Z"
   },
   {
    "duration": 2,
    "start_time": "2021-06-18T07:14:10.532Z"
   },
   {
    "duration": 8,
    "start_time": "2021-06-18T07:14:11.550Z"
   },
   {
    "duration": 7,
    "start_time": "2021-06-18T07:14:12.380Z"
   },
   {
    "duration": 5,
    "start_time": "2021-06-18T07:14:15.344Z"
   },
   {
    "duration": 7,
    "start_time": "2021-06-18T07:14:17.234Z"
   },
   {
    "duration": 8,
    "start_time": "2021-06-18T07:15:46.752Z"
   },
   {
    "duration": 8,
    "start_time": "2021-06-18T07:16:03.704Z"
   },
   {
    "duration": 4,
    "start_time": "2021-06-18T07:16:18.051Z"
   },
   {
    "duration": 4,
    "start_time": "2021-06-18T07:16:47.274Z"
   },
   {
    "duration": 1069,
    "start_time": "2021-06-18T07:16:59.392Z"
   },
   {
    "duration": 26,
    "start_time": "2021-06-18T07:17:00.462Z"
   },
   {
    "duration": 5,
    "start_time": "2021-06-18T07:17:00.490Z"
   },
   {
    "duration": 34,
    "start_time": "2021-06-18T07:17:00.497Z"
   },
   {
    "duration": 5,
    "start_time": "2021-06-18T07:17:00.532Z"
   },
   {
    "duration": 21,
    "start_time": "2021-06-18T07:17:00.539Z"
   },
   {
    "duration": 281,
    "start_time": "2021-06-18T07:17:00.562Z"
   },
   {
    "duration": 242,
    "start_time": "2021-06-18T07:17:00.845Z"
   },
   {
    "duration": 6,
    "start_time": "2021-06-18T07:17:01.090Z"
   },
   {
    "duration": 32,
    "start_time": "2021-06-18T07:17:01.098Z"
   },
   {
    "duration": 31,
    "start_time": "2021-06-18T07:17:01.131Z"
   },
   {
    "duration": 28,
    "start_time": "2021-06-18T07:17:01.164Z"
   },
   {
    "duration": 33,
    "start_time": "2021-06-18T07:17:01.193Z"
   },
   {
    "duration": 32,
    "start_time": "2021-06-18T07:17:01.228Z"
   },
   {
    "duration": 42,
    "start_time": "2021-06-18T07:17:01.262Z"
   },
   {
    "duration": 92,
    "start_time": "2021-06-18T07:17:01.307Z"
   },
   {
    "duration": 86,
    "start_time": "2021-06-18T07:17:01.402Z"
   },
   {
    "duration": 8,
    "start_time": "2021-06-18T07:17:01.490Z"
   },
   {
    "duration": 29,
    "start_time": "2021-06-18T07:17:01.500Z"
   },
   {
    "duration": 28,
    "start_time": "2021-06-18T07:17:01.531Z"
   }
  ],
  "kernelspec": {
   "display_name": "Python 3",
   "language": "python",
   "name": "python3"
  },
  "language_info": {
   "codemirror_mode": {
    "name": "ipython",
    "version": 3
   },
   "file_extension": ".py",
   "mimetype": "text/x-python",
   "name": "python",
   "nbconvert_exporter": "python",
   "pygments_lexer": "ipython3",
   "version": "3.8.3"
  },
  "toc": {
   "base_numbering": 1,
   "nav_menu": {},
   "number_sections": true,
   "sideBar": true,
   "skip_h1_title": true,
   "title_cell": "Содержание",
   "title_sidebar": "Contents",
   "toc_cell": true,
   "toc_position": {},
   "toc_section_display": true,
   "toc_window_display": false
  }
 },
 "nbformat": 4,
 "nbformat_minor": 2
}
