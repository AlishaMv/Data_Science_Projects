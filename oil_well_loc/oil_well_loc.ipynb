{
 "cells": [
  {
   "cell_type": "markdown",
   "metadata": {},
   "source": [
    "# Выбор региона для разработки новых нефтяных месторождений"
   ]
  },
  {
   "cell_type": "markdown",
   "metadata": {},
   "source": [
    "Нам предоставлены пробы нефти в трёх регионах: в каждом 10 000 месторождений, где измерили качество нефти и объём её запасов. Постройте модель машинного обучения, которая поможет определить регион, где добыча принесёт наибольшую прибыль. Проанализируйте возможную прибыль и риски техникой *Bootstrap.*\n",
    "\n",
    "Шаги для выбора локации:\n",
    "\n",
    "- В избранном регионе ищут месторождения, для каждого определяют значения признаков;\n",
    "- Строят модель и оценивают объём запасов;\n",
    "- Выбирают месторождения с самым высокими оценками значений. Количество месторождений зависит от бюджета компании и стоимости разработки одной скважины;\n",
    "- Прибыль равна суммарной прибыли отобранных месторождений.\n",
    "\n",
    "\n",
    "**Описание данных**\n",
    "\n",
    "* id — уникальный идентификатор скважины;\n",
    "* f0, f1, f2 — три признака точек (неважно, что они означают, но сами признаки значимы);\n",
    "* product — объём запасов в скважине (тыс. баррелей).\n",
    "\n",
    "**Дополнение:**\n",
    "* Для обучения модели подходит только линейная регрессия (остальные — недостаточно предсказуемые).\n",
    "* При разведке региона исследуем 500 точек, из которых с помощью машинного обучения выбирем 200 лучших для разработки.\n",
    "* Бюджет на разработку скважин в регионе — 10 млрд рублей.\n",
    "* При нынешних ценах один баррель сырья приносит 450 рублей дохода. Доход с каждой единицы продукта составляет 450 тыс. рублей, поскольку объём указан в тысячах баррелей.\n",
    "* После оценки рисков нужно оставить лишь те регионы, в которых вероятность убытков меньше 2.5%. Среди них выбирают регион с наибольшей средней прибылью.\n",
    "* Данные синтетические: детали контрактов и характеристики месторождений не разглашаются."
   ]
  },
  {
   "cell_type": "markdown",
   "metadata": {},
   "source": [
    "## Загрузка и подготовка данных\n",
    "\n",
    "### Импорт библиотек"
   ]
  },
  {
   "cell_type": "code",
   "execution_count": 93,
   "metadata": {},
   "outputs": [],
   "source": [
    "# библиотеки работы с данными\n",
    "import pandas as pd\n",
    "import numpy as np\n",
    "\n",
    "# откючаем предупреждения\n",
    "import warnings\n",
    "warnings.filterwarnings('ignore')\n",
    "\n",
    "# графики\n",
    "import matplotlib.pyplot as plt\n",
    "import seaborn as sns\n",
    "\n",
    "# обработка исключений для предупреждений pandas (без предупреждения, без исключения)\n",
    "pd.options.mode.chained_assignment = None\n",
    "\n",
    "# предобработка данных\n",
    "from sklearn.preprocessing import StandardScaler # масштабирование\n",
    "from sklearn.model_selection import train_test_split # разделение на выборки\n",
    "from sklearn.utils import shuffle # перемешивание\n",
    "\n",
    "# модель линейной регрессии\n",
    "from sklearn.linear_model import LinearRegression\n",
    "\n",
    "# метрики\n",
    "from sklearn.metrics import mean_squared_error\n",
    "\n",
    "# статистика\n",
    "from scipy import stats as st\n",
    "\n",
    "# печать всех команд одной ячейки\n",
    "from IPython.core.interactiveshell import InteractiveShell\n",
    "InteractiveShell.ast_node_interactivity = \"all\""
   ]
  },
  {
   "cell_type": "markdown",
   "metadata": {},
   "source": [
    "### Загрузка данных из файлов csv\n",
    "\n",
    "#### Открываем файлы"
   ]
  },
  {
   "cell_type": "code",
   "execution_count": 94,
   "metadata": {},
   "outputs": [],
   "source": [
    "df_1 = pd.read_csv('/datasets/geo_data_0.csv')\n",
    "df_2 = pd.read_csv('/datasets/geo_data_1.csv')\n",
    "df_3 = pd.read_csv('/datasets/geo_data_2.csv')"
   ]
  },
  {
   "cell_type": "markdown",
   "metadata": {},
   "source": [
    "#### Содержимое таблиц"
   ]
  },
  {
   "cell_type": "code",
   "execution_count": 95,
   "metadata": {},
   "outputs": [
    {
     "name": "stdout",
     "output_type": "stream",
     "text": [
      "Данные геологоразведки первого региона (df_1):\n"
     ]
    },
    {
     "data": {
      "text/html": [
       "<div>\n",
       "<style scoped>\n",
       "    .dataframe tbody tr th:only-of-type {\n",
       "        vertical-align: middle;\n",
       "    }\n",
       "\n",
       "    .dataframe tbody tr th {\n",
       "        vertical-align: top;\n",
       "    }\n",
       "\n",
       "    .dataframe thead th {\n",
       "        text-align: right;\n",
       "    }\n",
       "</style>\n",
       "<table border=\"1\" class=\"dataframe\">\n",
       "  <thead>\n",
       "    <tr style=\"text-align: right;\">\n",
       "      <th></th>\n",
       "      <th>id</th>\n",
       "      <th>f0</th>\n",
       "      <th>f1</th>\n",
       "      <th>f2</th>\n",
       "      <th>product</th>\n",
       "    </tr>\n",
       "  </thead>\n",
       "  <tbody>\n",
       "    <tr>\n",
       "      <td>0</td>\n",
       "      <td>txEyH</td>\n",
       "      <td>0.705745</td>\n",
       "      <td>-0.497823</td>\n",
       "      <td>1.221170</td>\n",
       "      <td>105.280062</td>\n",
       "    </tr>\n",
       "    <tr>\n",
       "      <td>1</td>\n",
       "      <td>2acmU</td>\n",
       "      <td>1.334711</td>\n",
       "      <td>-0.340164</td>\n",
       "      <td>4.365080</td>\n",
       "      <td>73.037750</td>\n",
       "    </tr>\n",
       "    <tr>\n",
       "      <td>2</td>\n",
       "      <td>409Wp</td>\n",
       "      <td>1.022732</td>\n",
       "      <td>0.151990</td>\n",
       "      <td>1.419926</td>\n",
       "      <td>85.265647</td>\n",
       "    </tr>\n",
       "    <tr>\n",
       "      <td>3</td>\n",
       "      <td>iJLyR</td>\n",
       "      <td>-0.032172</td>\n",
       "      <td>0.139033</td>\n",
       "      <td>2.978566</td>\n",
       "      <td>168.620776</td>\n",
       "    </tr>\n",
       "    <tr>\n",
       "      <td>4</td>\n",
       "      <td>Xdl7t</td>\n",
       "      <td>1.988431</td>\n",
       "      <td>0.155413</td>\n",
       "      <td>4.751769</td>\n",
       "      <td>154.036647</td>\n",
       "    </tr>\n",
       "  </tbody>\n",
       "</table>\n",
       "</div>"
      ],
      "text/plain": [
       "      id        f0        f1        f2     product\n",
       "0  txEyH  0.705745 -0.497823  1.221170  105.280062\n",
       "1  2acmU  1.334711 -0.340164  4.365080   73.037750\n",
       "2  409Wp  1.022732  0.151990  1.419926   85.265647\n",
       "3  iJLyR -0.032172  0.139033  2.978566  168.620776\n",
       "4  Xdl7t  1.988431  0.155413  4.751769  154.036647"
      ]
     },
     "execution_count": 95,
     "metadata": {},
     "output_type": "execute_result"
    },
    {
     "name": "stdout",
     "output_type": "stream",
     "text": [
      "Данные геологоразведки второго региона (df_2):\n"
     ]
    },
    {
     "data": {
      "text/html": [
       "<div>\n",
       "<style scoped>\n",
       "    .dataframe tbody tr th:only-of-type {\n",
       "        vertical-align: middle;\n",
       "    }\n",
       "\n",
       "    .dataframe tbody tr th {\n",
       "        vertical-align: top;\n",
       "    }\n",
       "\n",
       "    .dataframe thead th {\n",
       "        text-align: right;\n",
       "    }\n",
       "</style>\n",
       "<table border=\"1\" class=\"dataframe\">\n",
       "  <thead>\n",
       "    <tr style=\"text-align: right;\">\n",
       "      <th></th>\n",
       "      <th>id</th>\n",
       "      <th>f0</th>\n",
       "      <th>f1</th>\n",
       "      <th>f2</th>\n",
       "      <th>product</th>\n",
       "    </tr>\n",
       "  </thead>\n",
       "  <tbody>\n",
       "    <tr>\n",
       "      <td>0</td>\n",
       "      <td>kBEdx</td>\n",
       "      <td>-15.001348</td>\n",
       "      <td>-8.276000</td>\n",
       "      <td>-0.005876</td>\n",
       "      <td>3.179103</td>\n",
       "    </tr>\n",
       "    <tr>\n",
       "      <td>1</td>\n",
       "      <td>62mP7</td>\n",
       "      <td>14.272088</td>\n",
       "      <td>-3.475083</td>\n",
       "      <td>0.999183</td>\n",
       "      <td>26.953261</td>\n",
       "    </tr>\n",
       "    <tr>\n",
       "      <td>2</td>\n",
       "      <td>vyE1P</td>\n",
       "      <td>6.263187</td>\n",
       "      <td>-5.948386</td>\n",
       "      <td>5.001160</td>\n",
       "      <td>134.766305</td>\n",
       "    </tr>\n",
       "    <tr>\n",
       "      <td>3</td>\n",
       "      <td>KcrkZ</td>\n",
       "      <td>-13.081196</td>\n",
       "      <td>-11.506057</td>\n",
       "      <td>4.999415</td>\n",
       "      <td>137.945408</td>\n",
       "    </tr>\n",
       "    <tr>\n",
       "      <td>4</td>\n",
       "      <td>AHL4O</td>\n",
       "      <td>12.702195</td>\n",
       "      <td>-8.147433</td>\n",
       "      <td>5.004363</td>\n",
       "      <td>134.766305</td>\n",
       "    </tr>\n",
       "  </tbody>\n",
       "</table>\n",
       "</div>"
      ],
      "text/plain": [
       "      id         f0         f1        f2     product\n",
       "0  kBEdx -15.001348  -8.276000 -0.005876    3.179103\n",
       "1  62mP7  14.272088  -3.475083  0.999183   26.953261\n",
       "2  vyE1P   6.263187  -5.948386  5.001160  134.766305\n",
       "3  KcrkZ -13.081196 -11.506057  4.999415  137.945408\n",
       "4  AHL4O  12.702195  -8.147433  5.004363  134.766305"
      ]
     },
     "execution_count": 95,
     "metadata": {},
     "output_type": "execute_result"
    },
    {
     "name": "stdout",
     "output_type": "stream",
     "text": [
      "Данные геологоразведки третьего региона (df_3):\n"
     ]
    },
    {
     "data": {
      "text/html": [
       "<div>\n",
       "<style scoped>\n",
       "    .dataframe tbody tr th:only-of-type {\n",
       "        vertical-align: middle;\n",
       "    }\n",
       "\n",
       "    .dataframe tbody tr th {\n",
       "        vertical-align: top;\n",
       "    }\n",
       "\n",
       "    .dataframe thead th {\n",
       "        text-align: right;\n",
       "    }\n",
       "</style>\n",
       "<table border=\"1\" class=\"dataframe\">\n",
       "  <thead>\n",
       "    <tr style=\"text-align: right;\">\n",
       "      <th></th>\n",
       "      <th>id</th>\n",
       "      <th>f0</th>\n",
       "      <th>f1</th>\n",
       "      <th>f2</th>\n",
       "      <th>product</th>\n",
       "    </tr>\n",
       "  </thead>\n",
       "  <tbody>\n",
       "    <tr>\n",
       "      <td>0</td>\n",
       "      <td>fwXo0</td>\n",
       "      <td>-1.146987</td>\n",
       "      <td>0.963328</td>\n",
       "      <td>-0.828965</td>\n",
       "      <td>27.758673</td>\n",
       "    </tr>\n",
       "    <tr>\n",
       "      <td>1</td>\n",
       "      <td>WJtFt</td>\n",
       "      <td>0.262778</td>\n",
       "      <td>0.269839</td>\n",
       "      <td>-2.530187</td>\n",
       "      <td>56.069697</td>\n",
       "    </tr>\n",
       "    <tr>\n",
       "      <td>2</td>\n",
       "      <td>ovLUW</td>\n",
       "      <td>0.194587</td>\n",
       "      <td>0.289035</td>\n",
       "      <td>-5.586433</td>\n",
       "      <td>62.871910</td>\n",
       "    </tr>\n",
       "    <tr>\n",
       "      <td>3</td>\n",
       "      <td>q6cA6</td>\n",
       "      <td>2.236060</td>\n",
       "      <td>-0.553760</td>\n",
       "      <td>0.930038</td>\n",
       "      <td>114.572842</td>\n",
       "    </tr>\n",
       "    <tr>\n",
       "      <td>4</td>\n",
       "      <td>WPMUX</td>\n",
       "      <td>-0.515993</td>\n",
       "      <td>1.716266</td>\n",
       "      <td>5.899011</td>\n",
       "      <td>149.600746</td>\n",
       "    </tr>\n",
       "  </tbody>\n",
       "</table>\n",
       "</div>"
      ],
      "text/plain": [
       "      id        f0        f1        f2     product\n",
       "0  fwXo0 -1.146987  0.963328 -0.828965   27.758673\n",
       "1  WJtFt  0.262778  0.269839 -2.530187   56.069697\n",
       "2  ovLUW  0.194587  0.289035 -5.586433   62.871910\n",
       "3  q6cA6  2.236060 -0.553760  0.930038  114.572842\n",
       "4  WPMUX -0.515993  1.716266  5.899011  149.600746"
      ]
     },
     "execution_count": 95,
     "metadata": {},
     "output_type": "execute_result"
    }
   ],
   "source": [
    "print('Данные геологоразведки первого региона (df_1):')\n",
    "df_1.head()\n",
    "print('Данные геологоразведки второго региона (df_2):')\n",
    "df_2.head()\n",
    "print('Данные геологоразведки третьего региона (df_3):')\n",
    "df_3.head()"
   ]
  },
  {
   "cell_type": "markdown",
   "metadata": {},
   "source": [
    "#### Структура таблиц"
   ]
  },
  {
   "cell_type": "code",
   "execution_count": 96,
   "metadata": {},
   "outputs": [
    {
     "name": "stdout",
     "output_type": "stream",
     "text": [
      "df_1\n",
      "<class 'pandas.core.frame.DataFrame'>\n",
      "RangeIndex: 100000 entries, 0 to 99999\n",
      "Data columns (total 5 columns):\n",
      "id         100000 non-null object\n",
      "f0         100000 non-null float64\n",
      "f1         100000 non-null float64\n",
      "f2         100000 non-null float64\n",
      "product    100000 non-null float64\n",
      "dtypes: float64(4), object(1)\n",
      "memory usage: 3.8+ MB\n",
      "\n",
      "df_2\n",
      "<class 'pandas.core.frame.DataFrame'>\n",
      "RangeIndex: 100000 entries, 0 to 99999\n",
      "Data columns (total 5 columns):\n",
      "id         100000 non-null object\n",
      "f0         100000 non-null float64\n",
      "f1         100000 non-null float64\n",
      "f2         100000 non-null float64\n",
      "product    100000 non-null float64\n",
      "dtypes: float64(4), object(1)\n",
      "memory usage: 3.8+ MB\n",
      "\n",
      "df_3\n",
      "<class 'pandas.core.frame.DataFrame'>\n",
      "RangeIndex: 100000 entries, 0 to 99999\n",
      "Data columns (total 5 columns):\n",
      "id         100000 non-null object\n",
      "f0         100000 non-null float64\n",
      "f1         100000 non-null float64\n",
      "f2         100000 non-null float64\n",
      "product    100000 non-null float64\n",
      "dtypes: float64(4), object(1)\n",
      "memory usage: 3.8+ MB\n"
     ]
    }
   ],
   "source": [
    "print('df_1')\n",
    "df_1.info()\n",
    "print()\n",
    "\n",
    "print('df_2')\n",
    "df_2.info()\n",
    "print()\n",
    "\n",
    "print('df_3')\n",
    "df_3.info()"
   ]
  },
  {
   "cell_type": "markdown",
   "metadata": {},
   "source": [
    "#### Описательная статистика"
   ]
  },
  {
   "cell_type": "code",
   "execution_count": 97,
   "metadata": {},
   "outputs": [
    {
     "name": "stdout",
     "output_type": "stream",
     "text": [
      "df_1\n"
     ]
    },
    {
     "data": {
      "text/html": [
       "<div>\n",
       "<style scoped>\n",
       "    .dataframe tbody tr th:only-of-type {\n",
       "        vertical-align: middle;\n",
       "    }\n",
       "\n",
       "    .dataframe tbody tr th {\n",
       "        vertical-align: top;\n",
       "    }\n",
       "\n",
       "    .dataframe thead th {\n",
       "        text-align: right;\n",
       "    }\n",
       "</style>\n",
       "<table border=\"1\" class=\"dataframe\">\n",
       "  <thead>\n",
       "    <tr style=\"text-align: right;\">\n",
       "      <th></th>\n",
       "      <th>f0</th>\n",
       "      <th>f1</th>\n",
       "      <th>f2</th>\n",
       "      <th>product</th>\n",
       "    </tr>\n",
       "  </thead>\n",
       "  <tbody>\n",
       "    <tr>\n",
       "      <td>count</td>\n",
       "      <td>100000.000000</td>\n",
       "      <td>100000.000000</td>\n",
       "      <td>100000.000000</td>\n",
       "      <td>100000.000000</td>\n",
       "    </tr>\n",
       "    <tr>\n",
       "      <td>mean</td>\n",
       "      <td>0.500419</td>\n",
       "      <td>0.250143</td>\n",
       "      <td>2.502647</td>\n",
       "      <td>92.500000</td>\n",
       "    </tr>\n",
       "    <tr>\n",
       "      <td>std</td>\n",
       "      <td>0.871832</td>\n",
       "      <td>0.504433</td>\n",
       "      <td>3.248248</td>\n",
       "      <td>44.288691</td>\n",
       "    </tr>\n",
       "    <tr>\n",
       "      <td>min</td>\n",
       "      <td>-1.408605</td>\n",
       "      <td>-0.848218</td>\n",
       "      <td>-12.088328</td>\n",
       "      <td>0.000000</td>\n",
       "    </tr>\n",
       "    <tr>\n",
       "      <td>25%</td>\n",
       "      <td>-0.072580</td>\n",
       "      <td>-0.200881</td>\n",
       "      <td>0.287748</td>\n",
       "      <td>56.497507</td>\n",
       "    </tr>\n",
       "    <tr>\n",
       "      <td>50%</td>\n",
       "      <td>0.502360</td>\n",
       "      <td>0.250252</td>\n",
       "      <td>2.515969</td>\n",
       "      <td>91.849972</td>\n",
       "    </tr>\n",
       "    <tr>\n",
       "      <td>75%</td>\n",
       "      <td>1.073581</td>\n",
       "      <td>0.700646</td>\n",
       "      <td>4.715088</td>\n",
       "      <td>128.564089</td>\n",
       "    </tr>\n",
       "    <tr>\n",
       "      <td>max</td>\n",
       "      <td>2.362331</td>\n",
       "      <td>1.343769</td>\n",
       "      <td>16.003790</td>\n",
       "      <td>185.364347</td>\n",
       "    </tr>\n",
       "  </tbody>\n",
       "</table>\n",
       "</div>"
      ],
      "text/plain": [
       "                  f0             f1             f2        product\n",
       "count  100000.000000  100000.000000  100000.000000  100000.000000\n",
       "mean        0.500419       0.250143       2.502647      92.500000\n",
       "std         0.871832       0.504433       3.248248      44.288691\n",
       "min        -1.408605      -0.848218     -12.088328       0.000000\n",
       "25%        -0.072580      -0.200881       0.287748      56.497507\n",
       "50%         0.502360       0.250252       2.515969      91.849972\n",
       "75%         1.073581       0.700646       4.715088     128.564089\n",
       "max         2.362331       1.343769      16.003790     185.364347"
      ]
     },
     "execution_count": 97,
     "metadata": {},
     "output_type": "execute_result"
    },
    {
     "name": "stdout",
     "output_type": "stream",
     "text": [
      "\n",
      "df_2\n"
     ]
    },
    {
     "data": {
      "text/html": [
       "<div>\n",
       "<style scoped>\n",
       "    .dataframe tbody tr th:only-of-type {\n",
       "        vertical-align: middle;\n",
       "    }\n",
       "\n",
       "    .dataframe tbody tr th {\n",
       "        vertical-align: top;\n",
       "    }\n",
       "\n",
       "    .dataframe thead th {\n",
       "        text-align: right;\n",
       "    }\n",
       "</style>\n",
       "<table border=\"1\" class=\"dataframe\">\n",
       "  <thead>\n",
       "    <tr style=\"text-align: right;\">\n",
       "      <th></th>\n",
       "      <th>f0</th>\n",
       "      <th>f1</th>\n",
       "      <th>f2</th>\n",
       "      <th>product</th>\n",
       "    </tr>\n",
       "  </thead>\n",
       "  <tbody>\n",
       "    <tr>\n",
       "      <td>count</td>\n",
       "      <td>100000.000000</td>\n",
       "      <td>100000.000000</td>\n",
       "      <td>100000.000000</td>\n",
       "      <td>100000.000000</td>\n",
       "    </tr>\n",
       "    <tr>\n",
       "      <td>mean</td>\n",
       "      <td>1.141296</td>\n",
       "      <td>-4.796579</td>\n",
       "      <td>2.494541</td>\n",
       "      <td>68.825000</td>\n",
       "    </tr>\n",
       "    <tr>\n",
       "      <td>std</td>\n",
       "      <td>8.965932</td>\n",
       "      <td>5.119872</td>\n",
       "      <td>1.703572</td>\n",
       "      <td>45.944423</td>\n",
       "    </tr>\n",
       "    <tr>\n",
       "      <td>min</td>\n",
       "      <td>-31.609576</td>\n",
       "      <td>-26.358598</td>\n",
       "      <td>-0.018144</td>\n",
       "      <td>0.000000</td>\n",
       "    </tr>\n",
       "    <tr>\n",
       "      <td>25%</td>\n",
       "      <td>-6.298551</td>\n",
       "      <td>-8.267985</td>\n",
       "      <td>1.000021</td>\n",
       "      <td>26.953261</td>\n",
       "    </tr>\n",
       "    <tr>\n",
       "      <td>50%</td>\n",
       "      <td>1.153055</td>\n",
       "      <td>-4.813172</td>\n",
       "      <td>2.011479</td>\n",
       "      <td>57.085625</td>\n",
       "    </tr>\n",
       "    <tr>\n",
       "      <td>75%</td>\n",
       "      <td>8.621015</td>\n",
       "      <td>-1.332816</td>\n",
       "      <td>3.999904</td>\n",
       "      <td>107.813044</td>\n",
       "    </tr>\n",
       "    <tr>\n",
       "      <td>max</td>\n",
       "      <td>29.421755</td>\n",
       "      <td>18.734063</td>\n",
       "      <td>5.019721</td>\n",
       "      <td>137.945408</td>\n",
       "    </tr>\n",
       "  </tbody>\n",
       "</table>\n",
       "</div>"
      ],
      "text/plain": [
       "                  f0             f1             f2        product\n",
       "count  100000.000000  100000.000000  100000.000000  100000.000000\n",
       "mean        1.141296      -4.796579       2.494541      68.825000\n",
       "std         8.965932       5.119872       1.703572      45.944423\n",
       "min       -31.609576     -26.358598      -0.018144       0.000000\n",
       "25%        -6.298551      -8.267985       1.000021      26.953261\n",
       "50%         1.153055      -4.813172       2.011479      57.085625\n",
       "75%         8.621015      -1.332816       3.999904     107.813044\n",
       "max        29.421755      18.734063       5.019721     137.945408"
      ]
     },
     "execution_count": 97,
     "metadata": {},
     "output_type": "execute_result"
    },
    {
     "name": "stdout",
     "output_type": "stream",
     "text": [
      "\n",
      "df_3\n"
     ]
    },
    {
     "data": {
      "text/html": [
       "<div>\n",
       "<style scoped>\n",
       "    .dataframe tbody tr th:only-of-type {\n",
       "        vertical-align: middle;\n",
       "    }\n",
       "\n",
       "    .dataframe tbody tr th {\n",
       "        vertical-align: top;\n",
       "    }\n",
       "\n",
       "    .dataframe thead th {\n",
       "        text-align: right;\n",
       "    }\n",
       "</style>\n",
       "<table border=\"1\" class=\"dataframe\">\n",
       "  <thead>\n",
       "    <tr style=\"text-align: right;\">\n",
       "      <th></th>\n",
       "      <th>f0</th>\n",
       "      <th>f1</th>\n",
       "      <th>f2</th>\n",
       "      <th>product</th>\n",
       "    </tr>\n",
       "  </thead>\n",
       "  <tbody>\n",
       "    <tr>\n",
       "      <td>count</td>\n",
       "      <td>100000.000000</td>\n",
       "      <td>100000.000000</td>\n",
       "      <td>100000.000000</td>\n",
       "      <td>100000.000000</td>\n",
       "    </tr>\n",
       "    <tr>\n",
       "      <td>mean</td>\n",
       "      <td>0.002023</td>\n",
       "      <td>-0.002081</td>\n",
       "      <td>2.495128</td>\n",
       "      <td>95.000000</td>\n",
       "    </tr>\n",
       "    <tr>\n",
       "      <td>std</td>\n",
       "      <td>1.732045</td>\n",
       "      <td>1.730417</td>\n",
       "      <td>3.473445</td>\n",
       "      <td>44.749921</td>\n",
       "    </tr>\n",
       "    <tr>\n",
       "      <td>min</td>\n",
       "      <td>-8.760004</td>\n",
       "      <td>-7.084020</td>\n",
       "      <td>-11.970335</td>\n",
       "      <td>0.000000</td>\n",
       "    </tr>\n",
       "    <tr>\n",
       "      <td>25%</td>\n",
       "      <td>-1.162288</td>\n",
       "      <td>-1.174820</td>\n",
       "      <td>0.130359</td>\n",
       "      <td>59.450441</td>\n",
       "    </tr>\n",
       "    <tr>\n",
       "      <td>50%</td>\n",
       "      <td>0.009424</td>\n",
       "      <td>-0.009482</td>\n",
       "      <td>2.484236</td>\n",
       "      <td>94.925613</td>\n",
       "    </tr>\n",
       "    <tr>\n",
       "      <td>75%</td>\n",
       "      <td>1.158535</td>\n",
       "      <td>1.163678</td>\n",
       "      <td>4.858794</td>\n",
       "      <td>130.595027</td>\n",
       "    </tr>\n",
       "    <tr>\n",
       "      <td>max</td>\n",
       "      <td>7.238262</td>\n",
       "      <td>7.844801</td>\n",
       "      <td>16.739402</td>\n",
       "      <td>190.029838</td>\n",
       "    </tr>\n",
       "  </tbody>\n",
       "</table>\n",
       "</div>"
      ],
      "text/plain": [
       "                  f0             f1             f2        product\n",
       "count  100000.000000  100000.000000  100000.000000  100000.000000\n",
       "mean        0.002023      -0.002081       2.495128      95.000000\n",
       "std         1.732045       1.730417       3.473445      44.749921\n",
       "min        -8.760004      -7.084020     -11.970335       0.000000\n",
       "25%        -1.162288      -1.174820       0.130359      59.450441\n",
       "50%         0.009424      -0.009482       2.484236      94.925613\n",
       "75%         1.158535       1.163678       4.858794     130.595027\n",
       "max         7.238262       7.844801      16.739402     190.029838"
      ]
     },
     "execution_count": 97,
     "metadata": {},
     "output_type": "execute_result"
    }
   ],
   "source": [
    "print('df_1')\n",
    "df_1.describe()\n",
    "print()\n",
    "\n",
    "print('df_2')\n",
    "df_2.describe()\n",
    "print()\n",
    "\n",
    "print('df_3')\n",
    "df_3.describe()"
   ]
  },
  {
   "cell_type": "markdown",
   "metadata": {},
   "source": [
    "### Исследуем столбец \"id\""
   ]
  },
  {
   "cell_type": "code",
   "execution_count": 98,
   "metadata": {},
   "outputs": [
    {
     "name": "stdout",
     "output_type": "stream",
     "text": [
      "Количество дубликатов в столбце \"id\"\n",
      "в df_1: 10\n",
      "в df_2: 4\n",
      "в df_3: 4\n"
     ]
    }
   ],
   "source": [
    "print('Количество дубликатов в столбце \"id\"')\n",
    "print('в df_1:', df_1['id'].duplicated().sum())\n",
    "print('в df_2:', df_2['id'].duplicated().sum())\n",
    "print('в df_3:', df_3['id'].duplicated().sum())"
   ]
  },
  {
   "cell_type": "markdown",
   "metadata": {},
   "source": [
    "Посмотрим на содержимое строк с посторяющимся id:"
   ]
  },
  {
   "cell_type": "code",
   "execution_count": 99,
   "metadata": {},
   "outputs": [
    {
     "name": "stdout",
     "output_type": "stream",
     "text": [
      "дубли по id в df_1:\n"
     ]
    },
    {
     "data": {
      "text/html": [
       "<div>\n",
       "<style scoped>\n",
       "    .dataframe tbody tr th:only-of-type {\n",
       "        vertical-align: middle;\n",
       "    }\n",
       "\n",
       "    .dataframe tbody tr th {\n",
       "        vertical-align: top;\n",
       "    }\n",
       "\n",
       "    .dataframe thead th {\n",
       "        text-align: right;\n",
       "    }\n",
       "</style>\n",
       "<table border=\"1\" class=\"dataframe\">\n",
       "  <thead>\n",
       "    <tr style=\"text-align: right;\">\n",
       "      <th></th>\n",
       "      <th>id</th>\n",
       "      <th>f0</th>\n",
       "      <th>f1</th>\n",
       "      <th>f2</th>\n",
       "      <th>product</th>\n",
       "    </tr>\n",
       "  </thead>\n",
       "  <tbody>\n",
       "    <tr>\n",
       "      <td>66136</td>\n",
       "      <td>74z30</td>\n",
       "      <td>1.084962</td>\n",
       "      <td>-0.312358</td>\n",
       "      <td>6.990771</td>\n",
       "      <td>127.643327</td>\n",
       "    </tr>\n",
       "    <tr>\n",
       "      <td>64022</td>\n",
       "      <td>74z30</td>\n",
       "      <td>0.741456</td>\n",
       "      <td>0.459229</td>\n",
       "      <td>5.153109</td>\n",
       "      <td>140.771492</td>\n",
       "    </tr>\n",
       "    <tr>\n",
       "      <td>51970</td>\n",
       "      <td>A5aEY</td>\n",
       "      <td>-0.180335</td>\n",
       "      <td>0.935548</td>\n",
       "      <td>-2.094773</td>\n",
       "      <td>33.020205</td>\n",
       "    </tr>\n",
       "    <tr>\n",
       "      <td>3389</td>\n",
       "      <td>A5aEY</td>\n",
       "      <td>-0.039949</td>\n",
       "      <td>0.156872</td>\n",
       "      <td>0.209861</td>\n",
       "      <td>89.249364</td>\n",
       "    </tr>\n",
       "    <tr>\n",
       "      <td>69163</td>\n",
       "      <td>AGS9W</td>\n",
       "      <td>-0.933795</td>\n",
       "      <td>0.116194</td>\n",
       "      <td>-3.655896</td>\n",
       "      <td>19.230453</td>\n",
       "    </tr>\n",
       "    <tr>\n",
       "      <td>42529</td>\n",
       "      <td>AGS9W</td>\n",
       "      <td>1.454747</td>\n",
       "      <td>-0.479651</td>\n",
       "      <td>0.683380</td>\n",
       "      <td>126.370504</td>\n",
       "    </tr>\n",
       "    <tr>\n",
       "      <td>931</td>\n",
       "      <td>HZww2</td>\n",
       "      <td>0.755284</td>\n",
       "      <td>0.368511</td>\n",
       "      <td>1.863211</td>\n",
       "      <td>30.681774</td>\n",
       "    </tr>\n",
       "    <tr>\n",
       "      <td>7530</td>\n",
       "      <td>HZww2</td>\n",
       "      <td>1.061194</td>\n",
       "      <td>-0.373969</td>\n",
       "      <td>10.430210</td>\n",
       "      <td>158.828695</td>\n",
       "    </tr>\n",
       "    <tr>\n",
       "      <td>63593</td>\n",
       "      <td>QcMuo</td>\n",
       "      <td>0.635635</td>\n",
       "      <td>-0.473422</td>\n",
       "      <td>0.862670</td>\n",
       "      <td>64.578675</td>\n",
       "    </tr>\n",
       "    <tr>\n",
       "      <td>1949</td>\n",
       "      <td>QcMuo</td>\n",
       "      <td>0.506563</td>\n",
       "      <td>-0.323775</td>\n",
       "      <td>-2.215583</td>\n",
       "      <td>75.496502</td>\n",
       "    </tr>\n",
       "    <tr>\n",
       "      <td>75715</td>\n",
       "      <td>Tdehs</td>\n",
       "      <td>0.112079</td>\n",
       "      <td>0.430296</td>\n",
       "      <td>3.218993</td>\n",
       "      <td>60.964018</td>\n",
       "    </tr>\n",
       "    <tr>\n",
       "      <td>21426</td>\n",
       "      <td>Tdehs</td>\n",
       "      <td>0.829407</td>\n",
       "      <td>0.298807</td>\n",
       "      <td>-0.049563</td>\n",
       "      <td>96.035308</td>\n",
       "    </tr>\n",
       "    <tr>\n",
       "      <td>92341</td>\n",
       "      <td>TtcGQ</td>\n",
       "      <td>0.110711</td>\n",
       "      <td>1.022689</td>\n",
       "      <td>0.911381</td>\n",
       "      <td>101.318008</td>\n",
       "    </tr>\n",
       "    <tr>\n",
       "      <td>60140</td>\n",
       "      <td>TtcGQ</td>\n",
       "      <td>0.569276</td>\n",
       "      <td>-0.104876</td>\n",
       "      <td>6.440215</td>\n",
       "      <td>85.350186</td>\n",
       "    </tr>\n",
       "    <tr>\n",
       "      <td>89582</td>\n",
       "      <td>bsk9y</td>\n",
       "      <td>0.398908</td>\n",
       "      <td>-0.400253</td>\n",
       "      <td>10.122376</td>\n",
       "      <td>163.433078</td>\n",
       "    </tr>\n",
       "    <tr>\n",
       "      <td>97785</td>\n",
       "      <td>bsk9y</td>\n",
       "      <td>0.378429</td>\n",
       "      <td>0.005837</td>\n",
       "      <td>0.160827</td>\n",
       "      <td>160.637302</td>\n",
       "    </tr>\n",
       "    <tr>\n",
       "      <td>41724</td>\n",
       "      <td>bxg6G</td>\n",
       "      <td>-0.823752</td>\n",
       "      <td>0.546319</td>\n",
       "      <td>3.630479</td>\n",
       "      <td>93.007798</td>\n",
       "    </tr>\n",
       "    <tr>\n",
       "      <td>1364</td>\n",
       "      <td>bxg6G</td>\n",
       "      <td>0.411645</td>\n",
       "      <td>0.856830</td>\n",
       "      <td>-3.653440</td>\n",
       "      <td>73.604260</td>\n",
       "    </tr>\n",
       "    <tr>\n",
       "      <td>16633</td>\n",
       "      <td>fiKDv</td>\n",
       "      <td>0.157341</td>\n",
       "      <td>1.028359</td>\n",
       "      <td>5.585586</td>\n",
       "      <td>95.817889</td>\n",
       "    </tr>\n",
       "    <tr>\n",
       "      <td>90815</td>\n",
       "      <td>fiKDv</td>\n",
       "      <td>0.049883</td>\n",
       "      <td>0.841313</td>\n",
       "      <td>6.394613</td>\n",
       "      <td>137.346586</td>\n",
       "    </tr>\n",
       "  </tbody>\n",
       "</table>\n",
       "</div>"
      ],
      "text/plain": [
       "          id        f0        f1         f2     product\n",
       "66136  74z30  1.084962 -0.312358   6.990771  127.643327\n",
       "64022  74z30  0.741456  0.459229   5.153109  140.771492\n",
       "51970  A5aEY -0.180335  0.935548  -2.094773   33.020205\n",
       "3389   A5aEY -0.039949  0.156872   0.209861   89.249364\n",
       "69163  AGS9W -0.933795  0.116194  -3.655896   19.230453\n",
       "42529  AGS9W  1.454747 -0.479651   0.683380  126.370504\n",
       "931    HZww2  0.755284  0.368511   1.863211   30.681774\n",
       "7530   HZww2  1.061194 -0.373969  10.430210  158.828695\n",
       "63593  QcMuo  0.635635 -0.473422   0.862670   64.578675\n",
       "1949   QcMuo  0.506563 -0.323775  -2.215583   75.496502\n",
       "75715  Tdehs  0.112079  0.430296   3.218993   60.964018\n",
       "21426  Tdehs  0.829407  0.298807  -0.049563   96.035308\n",
       "92341  TtcGQ  0.110711  1.022689   0.911381  101.318008\n",
       "60140  TtcGQ  0.569276 -0.104876   6.440215   85.350186\n",
       "89582  bsk9y  0.398908 -0.400253  10.122376  163.433078\n",
       "97785  bsk9y  0.378429  0.005837   0.160827  160.637302\n",
       "41724  bxg6G -0.823752  0.546319   3.630479   93.007798\n",
       "1364   bxg6G  0.411645  0.856830  -3.653440   73.604260\n",
       "16633  fiKDv  0.157341  1.028359   5.585586   95.817889\n",
       "90815  fiKDv  0.049883  0.841313   6.394613  137.346586"
      ]
     },
     "execution_count": 99,
     "metadata": {},
     "output_type": "execute_result"
    },
    {
     "name": "stdout",
     "output_type": "stream",
     "text": [
      "дубли по id в df_2:\n"
     ]
    },
    {
     "data": {
      "text/html": [
       "<div>\n",
       "<style scoped>\n",
       "    .dataframe tbody tr th:only-of-type {\n",
       "        vertical-align: middle;\n",
       "    }\n",
       "\n",
       "    .dataframe tbody tr th {\n",
       "        vertical-align: top;\n",
       "    }\n",
       "\n",
       "    .dataframe thead th {\n",
       "        text-align: right;\n",
       "    }\n",
       "</style>\n",
       "<table border=\"1\" class=\"dataframe\">\n",
       "  <thead>\n",
       "    <tr style=\"text-align: right;\">\n",
       "      <th></th>\n",
       "      <th>id</th>\n",
       "      <th>f0</th>\n",
       "      <th>f1</th>\n",
       "      <th>f2</th>\n",
       "      <th>product</th>\n",
       "    </tr>\n",
       "  </thead>\n",
       "  <tbody>\n",
       "    <tr>\n",
       "      <td>5849</td>\n",
       "      <td>5ltQ6</td>\n",
       "      <td>-3.435401</td>\n",
       "      <td>-12.296043</td>\n",
       "      <td>1.999796</td>\n",
       "      <td>57.085625</td>\n",
       "    </tr>\n",
       "    <tr>\n",
       "      <td>84461</td>\n",
       "      <td>5ltQ6</td>\n",
       "      <td>18.213839</td>\n",
       "      <td>2.191999</td>\n",
       "      <td>3.993869</td>\n",
       "      <td>107.813044</td>\n",
       "    </tr>\n",
       "    <tr>\n",
       "      <td>1305</td>\n",
       "      <td>LHZR0</td>\n",
       "      <td>11.170835</td>\n",
       "      <td>-1.945066</td>\n",
       "      <td>3.002872</td>\n",
       "      <td>80.859783</td>\n",
       "    </tr>\n",
       "    <tr>\n",
       "      <td>41906</td>\n",
       "      <td>LHZR0</td>\n",
       "      <td>-8.989672</td>\n",
       "      <td>-4.286607</td>\n",
       "      <td>2.009139</td>\n",
       "      <td>57.085625</td>\n",
       "    </tr>\n",
       "    <tr>\n",
       "      <td>2721</td>\n",
       "      <td>bfPNe</td>\n",
       "      <td>-9.494442</td>\n",
       "      <td>-5.463692</td>\n",
       "      <td>4.006042</td>\n",
       "      <td>110.992147</td>\n",
       "    </tr>\n",
       "    <tr>\n",
       "      <td>82178</td>\n",
       "      <td>bfPNe</td>\n",
       "      <td>-6.202799</td>\n",
       "      <td>-4.820045</td>\n",
       "      <td>2.995107</td>\n",
       "      <td>84.038886</td>\n",
       "    </tr>\n",
       "    <tr>\n",
       "      <td>47591</td>\n",
       "      <td>wt4Uk</td>\n",
       "      <td>-9.091098</td>\n",
       "      <td>-8.109279</td>\n",
       "      <td>-0.002314</td>\n",
       "      <td>3.179103</td>\n",
       "    </tr>\n",
       "    <tr>\n",
       "      <td>82873</td>\n",
       "      <td>wt4Uk</td>\n",
       "      <td>10.259972</td>\n",
       "      <td>-9.376355</td>\n",
       "      <td>4.994297</td>\n",
       "      <td>134.766305</td>\n",
       "    </tr>\n",
       "  </tbody>\n",
       "</table>\n",
       "</div>"
      ],
      "text/plain": [
       "          id         f0         f1        f2     product\n",
       "5849   5ltQ6  -3.435401 -12.296043  1.999796   57.085625\n",
       "84461  5ltQ6  18.213839   2.191999  3.993869  107.813044\n",
       "1305   LHZR0  11.170835  -1.945066  3.002872   80.859783\n",
       "41906  LHZR0  -8.989672  -4.286607  2.009139   57.085625\n",
       "2721   bfPNe  -9.494442  -5.463692  4.006042  110.992147\n",
       "82178  bfPNe  -6.202799  -4.820045  2.995107   84.038886\n",
       "47591  wt4Uk  -9.091098  -8.109279 -0.002314    3.179103\n",
       "82873  wt4Uk  10.259972  -9.376355  4.994297  134.766305"
      ]
     },
     "execution_count": 99,
     "metadata": {},
     "output_type": "execute_result"
    },
    {
     "name": "stdout",
     "output_type": "stream",
     "text": [
      "дубли по id в df_3:\n"
     ]
    },
    {
     "data": {
      "text/html": [
       "<div>\n",
       "<style scoped>\n",
       "    .dataframe tbody tr th:only-of-type {\n",
       "        vertical-align: middle;\n",
       "    }\n",
       "\n",
       "    .dataframe tbody tr th {\n",
       "        vertical-align: top;\n",
       "    }\n",
       "\n",
       "    .dataframe thead th {\n",
       "        text-align: right;\n",
       "    }\n",
       "</style>\n",
       "<table border=\"1\" class=\"dataframe\">\n",
       "  <thead>\n",
       "    <tr style=\"text-align: right;\">\n",
       "      <th></th>\n",
       "      <th>id</th>\n",
       "      <th>f0</th>\n",
       "      <th>f1</th>\n",
       "      <th>f2</th>\n",
       "      <th>product</th>\n",
       "    </tr>\n",
       "  </thead>\n",
       "  <tbody>\n",
       "    <tr>\n",
       "      <td>45404</td>\n",
       "      <td>KUPhW</td>\n",
       "      <td>0.231846</td>\n",
       "      <td>-1.698941</td>\n",
       "      <td>4.990775</td>\n",
       "      <td>11.716299</td>\n",
       "    </tr>\n",
       "    <tr>\n",
       "      <td>55967</td>\n",
       "      <td>KUPhW</td>\n",
       "      <td>1.211150</td>\n",
       "      <td>3.176408</td>\n",
       "      <td>5.543540</td>\n",
       "      <td>132.831802</td>\n",
       "    </tr>\n",
       "    <tr>\n",
       "      <td>11449</td>\n",
       "      <td>VF7Jo</td>\n",
       "      <td>2.122656</td>\n",
       "      <td>-0.858275</td>\n",
       "      <td>5.746001</td>\n",
       "      <td>181.716817</td>\n",
       "    </tr>\n",
       "    <tr>\n",
       "      <td>49564</td>\n",
       "      <td>VF7Jo</td>\n",
       "      <td>-0.883115</td>\n",
       "      <td>0.560537</td>\n",
       "      <td>0.723601</td>\n",
       "      <td>136.233420</td>\n",
       "    </tr>\n",
       "    <tr>\n",
       "      <td>44378</td>\n",
       "      <td>Vcm5J</td>\n",
       "      <td>-1.229484</td>\n",
       "      <td>-2.439204</td>\n",
       "      <td>1.222909</td>\n",
       "      <td>137.968290</td>\n",
       "    </tr>\n",
       "    <tr>\n",
       "      <td>95090</td>\n",
       "      <td>Vcm5J</td>\n",
       "      <td>2.587702</td>\n",
       "      <td>1.986875</td>\n",
       "      <td>2.482245</td>\n",
       "      <td>92.327572</td>\n",
       "    </tr>\n",
       "    <tr>\n",
       "      <td>28039</td>\n",
       "      <td>xCHr8</td>\n",
       "      <td>1.633027</td>\n",
       "      <td>0.368135</td>\n",
       "      <td>-2.378367</td>\n",
       "      <td>6.120525</td>\n",
       "    </tr>\n",
       "    <tr>\n",
       "      <td>43233</td>\n",
       "      <td>xCHr8</td>\n",
       "      <td>-0.847066</td>\n",
       "      <td>2.101796</td>\n",
       "      <td>5.597130</td>\n",
       "      <td>184.388641</td>\n",
       "    </tr>\n",
       "  </tbody>\n",
       "</table>\n",
       "</div>"
      ],
      "text/plain": [
       "          id        f0        f1        f2     product\n",
       "45404  KUPhW  0.231846 -1.698941  4.990775   11.716299\n",
       "55967  KUPhW  1.211150  3.176408  5.543540  132.831802\n",
       "11449  VF7Jo  2.122656 -0.858275  5.746001  181.716817\n",
       "49564  VF7Jo -0.883115  0.560537  0.723601  136.233420\n",
       "44378  Vcm5J -1.229484 -2.439204  1.222909  137.968290\n",
       "95090  Vcm5J  2.587702  1.986875  2.482245   92.327572\n",
       "28039  xCHr8  1.633027  0.368135 -2.378367    6.120525\n",
       "43233  xCHr8 -0.847066  2.101796  5.597130  184.388641"
      ]
     },
     "execution_count": 99,
     "metadata": {},
     "output_type": "execute_result"
    }
   ],
   "source": [
    "print('дубли по id в df_1:')\n",
    "ids1 = df_1[\"id\"]\n",
    "df_1[ids1.isin(ids1[ids1.duplicated()])].sort_values(\"id\")\n",
    "\n",
    "print('дубли по id в df_2:')\n",
    "ids2 = df_2[\"id\"]\n",
    "df_2[ids2.isin(ids2[ids2.duplicated()])].sort_values(\"id\")\n",
    "\n",
    "print('дубли по id в df_3:')\n",
    "ids3 = df_3[\"id\"]\n",
    "df_3[ids3.isin(ids3[ids3.duplicated()])].sort_values(\"id\")"
   ]
  },
  {
   "cell_type": "markdown",
   "metadata": {},
   "source": [
    "Повторы в колонке идентификации 'id' можно объяснить тем, что пробы брались из скважины с повторяющимся id по несколько раз и каждый раз результаты были разными, поэтому дубликатами не являются и строки удалению не подлежат.\n",
    "\n",
    "Из исходного массива данных можно удалить колонку идентификации, т.к. она может помешать построению модели и качественного предсказания."
   ]
  },
  {
   "cell_type": "code",
   "execution_count": 100,
   "metadata": {},
   "outputs": [
    {
     "data": {
      "text/plain": [
       "Index(['f0', 'f1', 'f2', 'product'], dtype='object')"
      ]
     },
     "execution_count": 100,
     "metadata": {},
     "output_type": "execute_result"
    },
    {
     "data": {
      "text/plain": [
       "Index(['f0', 'f1', 'f2', 'product'], dtype='object')"
      ]
     },
     "execution_count": 100,
     "metadata": {},
     "output_type": "execute_result"
    },
    {
     "data": {
      "text/plain": [
       "Index(['f0', 'f1', 'f2', 'product'], dtype='object')"
      ]
     },
     "execution_count": 100,
     "metadata": {},
     "output_type": "execute_result"
    }
   ],
   "source": [
    "df_1.drop('id', axis='columns', inplace=True)\n",
    "df_2.drop('id', axis='columns', inplace=True)\n",
    "df_3.drop('id', axis='columns', inplace=True)\n",
    "\n",
    "df_1.columns\n",
    "df_2.columns\n",
    "df_3.columns"
   ]
  },
  {
   "cell_type": "markdown",
   "metadata": {},
   "source": [
    "### Вывод\n",
    "\n",
    "1. Каждая таблица содержит 10 тысяч строк, по каждому из трех регинонов, несущих информациию о пробах нефти из скважин и объеме запасов нефти в них\n",
    "2. Пропусков в данных не обнаружено\n",
    "3. Данные, представленные в столбцах, с учетом того, что мы о них знаем, корректны\n",
    "4. В колонке id найдены дубликаты, которые не подлежат удалению из-за уникальности и ценности содержимого строк по ним\n",
    "5. А вот сама колонка идентификации может негативно повлиять на адекватность будущих предсказаний, поэтому было решено избавиться от нее"
   ]
  },
  {
   "cell_type": "markdown",
   "metadata": {},
   "source": [
    "## Обучение и проверка модели\n",
    "\n",
    "### Разбиение датасета на обучающую и валидационную выборки\n",
    "создаем таблицы с целевым признаком (target) и фичами (features) из исходной (по каждому региону)  \n",
    "\n",
    "**Регион 1**"
   ]
  },
  {
   "cell_type": "code",
   "execution_count": 101,
   "metadata": {},
   "outputs": [
    {
     "data": {
      "text/plain": [
       "(100000, 3)"
      ]
     },
     "execution_count": 101,
     "metadata": {},
     "output_type": "execute_result"
    },
    {
     "data": {
      "text/plain": [
       "(100000,)"
      ]
     },
     "execution_count": 101,
     "metadata": {},
     "output_type": "execute_result"
    }
   ],
   "source": [
    "features1 = df_1.drop(['product'], axis=1)\n",
    "target1 = df_1['product']\n",
    "\n",
    "features1.shape\n",
    "target1.shape"
   ]
  },
  {
   "cell_type": "markdown",
   "metadata": {},
   "source": [
    "**Регион 2**"
   ]
  },
  {
   "cell_type": "code",
   "execution_count": 102,
   "metadata": {},
   "outputs": [
    {
     "data": {
      "text/plain": [
       "(100000, 3)"
      ]
     },
     "execution_count": 102,
     "metadata": {},
     "output_type": "execute_result"
    },
    {
     "data": {
      "text/plain": [
       "(100000,)"
      ]
     },
     "execution_count": 102,
     "metadata": {},
     "output_type": "execute_result"
    }
   ],
   "source": [
    "features2 = df_2.drop(['product'], axis=1)\n",
    "target2 = df_2['product']\n",
    "\n",
    "features2.shape\n",
    "target2.shape"
   ]
  },
  {
   "cell_type": "markdown",
   "metadata": {},
   "source": [
    "**Регион 3**"
   ]
  },
  {
   "cell_type": "code",
   "execution_count": 103,
   "metadata": {},
   "outputs": [
    {
     "data": {
      "text/plain": [
       "(100000, 3)"
      ]
     },
     "execution_count": 103,
     "metadata": {},
     "output_type": "execute_result"
    },
    {
     "data": {
      "text/plain": [
       "(100000,)"
      ]
     },
     "execution_count": 103,
     "metadata": {},
     "output_type": "execute_result"
    }
   ],
   "source": [
    "features3 = df_3.drop(['product'], axis=1)\n",
    "target3 = df_3['product']\n",
    "\n",
    "features3.shape\n",
    "target3.shape"
   ]
  },
  {
   "cell_type": "markdown",
   "metadata": {},
   "source": [
    "Произведём разбиение датасета с фичами (features) на 2 части: \n",
    "* тренировочный trainX (75%) \n",
    "* и валидационный validX (25%)   \n",
    "по каждому региону  \n",
    "\n",
    "Для этого в каждом случае объявим 4 переменные и запишем в них:\n",
    "* признаки: features_trainX, features_validX\n",
    "* целевой признак: target_trainX, target_validX\n",
    "\n",
    "**Регион 1**"
   ]
  },
  {
   "cell_type": "code",
   "execution_count": 104,
   "metadata": {},
   "outputs": [
    {
     "name": "stdout",
     "output_type": "stream",
     "text": [
      "Размер features_train1 (75000, 3)\n",
      "Размер features_valid1 (25000, 3)\n",
      "Размер target_train1 (75000,)\n",
      "Размер target_valid1 (25000,)\n"
     ]
    }
   ],
   "source": [
    "features_train1, features_valid1, target_train1, target_valid1 = \\\n",
    "        train_test_split(features1, target1, test_size=0.25, random_state=12345)\n",
    "\n",
    "print('Размер features_train1', features_train1.shape)\n",
    "print('Размер features_valid1', features_valid1.shape)\n",
    "print('Размер target_train1', target_train1.shape)\n",
    "print('Размер target_valid1', target_valid1.shape)"
   ]
  },
  {
   "cell_type": "markdown",
   "metadata": {},
   "source": [
    "**Регион 2**"
   ]
  },
  {
   "cell_type": "code",
   "execution_count": 105,
   "metadata": {},
   "outputs": [
    {
     "name": "stdout",
     "output_type": "stream",
     "text": [
      "Размер features_train2 (75000, 3)\n",
      "Размер features_valid2 (25000, 3)\n",
      "Размер target_train2 (75000,)\n",
      "Размер target_valid2 (25000,)\n"
     ]
    }
   ],
   "source": [
    "features_train2, features_valid2, target_train2, target_valid2 = \\\n",
    "        train_test_split(features2, target2, test_size=0.25, random_state=12345)\n",
    "\n",
    "print('Размер features_train2', features_train2.shape)\n",
    "print('Размер features_valid2', features_valid2.shape)\n",
    "print('Размер target_train2', target_train2.shape)\n",
    "print('Размер target_valid2', target_valid2.shape)"
   ]
  },
  {
   "cell_type": "markdown",
   "metadata": {},
   "source": [
    "**Регион 3**"
   ]
  },
  {
   "cell_type": "code",
   "execution_count": 106,
   "metadata": {},
   "outputs": [
    {
     "name": "stdout",
     "output_type": "stream",
     "text": [
      "Размер features_train3 (75000, 3)\n",
      "Размер features_valid3 (25000, 3)\n",
      "Размер target_train3 (75000,)\n",
      "Размер target_valid3 (25000,)\n"
     ]
    }
   ],
   "source": [
    "features_train3, features_valid3, target_train3, target_valid3 = \\\n",
    "        train_test_split(features3, target3, test_size=0.25, random_state=12345)\n",
    "\n",
    "print('Размер features_train3', features_train3.shape)\n",
    "print('Размер features_valid3', features_valid3.shape)\n",
    "print('Размер target_train3', target_train3.shape)\n",
    "print('Размер target_valid3', target_valid3.shape)"
   ]
  },
  {
   "cell_type": "markdown",
   "metadata": {},
   "source": [
    "### Обучение модели и получение предсказаний\n",
    "\n",
    "В данном проекте нам необходимо решить задачу регрессии, т.е. предсказать прибыль от добычи сырья по регионам   \n",
    "с целью вычислить какой регион вероятнее всего принесет наибольшую прибыль.\n",
    "\n",
    "1. Запишем модель линейной регрессии в переменную model\n",
    "2. Обучим модель на тренировочных данных\n",
    "3. Cохраним предсказания на валидационных данных в в соответствующих регионам переменных (predicted_validX)"
   ]
  },
  {
   "cell_type": "code",
   "execution_count": 107,
   "metadata": {},
   "outputs": [
    {
     "data": {
      "text/plain": [
       "LinearRegression(copy_X=True, fit_intercept=True, n_jobs=None, normalize=False)"
      ]
     },
     "execution_count": 107,
     "metadata": {},
     "output_type": "execute_result"
    },
    {
     "name": "stdout",
     "output_type": "stream",
     "text": [
      "Размер predicted_valid1 (25000,)\n"
     ]
    },
    {
     "data": {
      "text/plain": [
       "LinearRegression(copy_X=True, fit_intercept=True, n_jobs=None, normalize=False)"
      ]
     },
     "execution_count": 107,
     "metadata": {},
     "output_type": "execute_result"
    },
    {
     "name": "stdout",
     "output_type": "stream",
     "text": [
      "Размер predicted_valid2 (25000,)\n"
     ]
    },
    {
     "data": {
      "text/plain": [
       "LinearRegression(copy_X=True, fit_intercept=True, n_jobs=None, normalize=False)"
      ]
     },
     "execution_count": 107,
     "metadata": {},
     "output_type": "execute_result"
    },
    {
     "name": "stdout",
     "output_type": "stream",
     "text": [
      "Размер predicted_valid3 (25000,)\n"
     ]
    }
   ],
   "source": [
    "model = LinearRegression()\n",
    "\n",
    "# Регион 1\n",
    "model.fit(features_train1, target_train1)\n",
    "predicted_valid1 = model.predict(features_valid1)\n",
    "print('Размер predicted_valid1', predicted_valid1.shape)\n",
    "\n",
    "# Регион 2\n",
    "model.fit(features_train2, target_train2)\n",
    "predicted_valid2 = model.predict(features_valid2)\n",
    "print('Размер predicted_valid2', predicted_valid2.shape)\n",
    "\n",
    "# Регион 3\n",
    "model.fit(features_train3, target_train3)\n",
    "predicted_valid3 = model.predict(features_valid3)\n",
    "print('Размер predicted_valid3', predicted_valid3.shape)"
   ]
  },
  {
   "cell_type": "markdown",
   "metadata": {},
   "source": [
    "### Средний запас предсказанного сырья и RMSE модели\n",
    "1. Произведем рассчет среднего запаса предсказанного сырья "
   ]
  },
  {
   "cell_type": "code",
   "execution_count": 108,
   "metadata": {},
   "outputs": [
    {
     "name": "stdout",
     "output_type": "stream",
     "text": [
      "Средний запас предсказанного на валидационной выборке сырья:\n",
      "регион 1: 92.59256778438038\n",
      "регион 2: 68.728546895446\n",
      "регион 3: 94.96504596800489\n"
     ]
    }
   ],
   "source": [
    "mean_product1 = predicted_valid1.mean()\n",
    "mean_product2 = predicted_valid2.mean()\n",
    "mean_product3 = predicted_valid3.mean()\n",
    "\n",
    "print(\"Средний запас предсказанного на валидационной выборке сырья:\")\n",
    "print('регион 1:', mean_product1)\n",
    "print('регион 2:', mean_product2)\n",
    "print('регион 3:', mean_product3)"
   ]
  },
  {
   "cell_type": "markdown",
   "metadata": {},
   "source": [
    "2. Рассчитаем метрику качества модели - MSE (средняя квадратичная ошибка) при помощи mean_squared_error и выведем из него RMSE модели (квадратный корень из средней квадратичной ошибки)"
   ]
  },
  {
   "cell_type": "code",
   "execution_count": 109,
   "metadata": {},
   "outputs": [
    {
     "name": "stdout",
     "output_type": "stream",
     "text": [
      "RMSE модели линейной регрессии на валидационной выборке:\n",
      "регион 1: 37.5794217150813\n",
      "регион 2: 0.893099286775616\n",
      "регион 3: 40.02970873393434\n"
     ]
    }
   ],
   "source": [
    "rmse1 = mean_squared_error(target_valid1, predicted_valid1) ** 0.5\n",
    "rmse2 = mean_squared_error(target_valid2, predicted_valid2) ** 0.5\n",
    "rmse3 = mean_squared_error(target_valid3, predicted_valid3) ** 0.5\n",
    "\n",
    "print(\"RMSE модели линейной регрессии на валидационной выборке:\")\n",
    "print('регион 1:', rmse1)\n",
    "print('регион 2:', rmse2)\n",
    "print('регион 3:', rmse3)"
   ]
  },
  {
   "cell_type": "markdown",
   "metadata": {},
   "source": [
    "Построим корреляционные матрицы для того чтобы посмотреть связи признаков с целевым:"
   ]
  },
  {
   "cell_type": "code",
   "execution_count": 110,
   "metadata": {},
   "outputs": [
    {
     "data": {
      "text/plain": [
       "<matplotlib.axes._subplots.AxesSubplot at 0x7f33f62c42d0>"
      ]
     },
     "execution_count": 110,
     "metadata": {},
     "output_type": "execute_result"
    },
    {
     "data": {
      "text/plain": [
       "Text(0.5, 1, 'Регион 1')"
      ]
     },
     "execution_count": 110,
     "metadata": {},
     "output_type": "execute_result"
    },
    {
     "data": {
      "image/png": "[encoded data removed]",
      "text/plain": [
       "<Figure size 432x288 with 2 Axes>"
      ]
     },
     "metadata": {
      "needs_background": "light"
     },
     "output_type": "display_data"
    },
    {
     "data": {
      "text/plain": [
       "<matplotlib.axes._subplots.AxesSubplot at 0x7f33f6275850>"
      ]
     },
     "execution_count": 110,
     "metadata": {},
     "output_type": "execute_result"
    },
    {
     "data": {
      "text/plain": [
       "Text(0.5, 1, 'Регион 2')"
      ]
     },
     "execution_count": 110,
     "metadata": {},
     "output_type": "execute_result"
    },
    {
     "data": {
      "image/png": "[encoded data removed]",
      "text/plain": [
       "<Figure size 432x288 with 2 Axes>"
      ]
     },
     "metadata": {
      "needs_background": "light"
     },
     "output_type": "display_data"
    },
    {
     "data": {
      "text/plain": [
       "<matplotlib.axes._subplots.AxesSubplot at 0x7f33f5bcc110>"
      ]
     },
     "execution_count": 110,
     "metadata": {},
     "output_type": "execute_result"
    },
    {
     "data": {
      "text/plain": [
       "Text(0.5, 1, 'Регион 3')"
      ]
     },
     "execution_count": 110,
     "metadata": {},
     "output_type": "execute_result"
    },
    {
     "data": {
      "image/png": "[encoded data removed]",
      "text/plain": [
       "<Figure size 432x288 with 2 Axes>"
      ]
     },
     "metadata": {
      "needs_background": "light"
     },
     "output_type": "display_data"
    }
   ],
   "source": [
    "correlation_mat1 = df_1.corr()\n",
    "correlation_mat2 = df_2.corr()\n",
    "correlation_mat3 = df_3.corr()\n",
    "sns.heatmap(correlation_mat1, annot = True)\n",
    "plt.title(\"Регион 1\")\n",
    "plt.show()\n",
    "\n",
    "sns.heatmap(correlation_mat2, annot = True)\n",
    "plt.title(\"Регион 2\")\n",
    "plt.show()\n",
    "\n",
    "sns.heatmap(correlation_mat3, annot = True)\n",
    "plt.title(\"Регион 3\")\n",
    "plt.show()"
   ]
  },
  {
   "cell_type": "code",
   "execution_count": null,
   "metadata": {},
   "outputs": [],
   "source": []
  },
  {
   "cell_type": "markdown",
   "metadata": {},
   "source": [
    "### Вывод\n",
    "В 1 и 3 регионах определены самые высокие (примерно одинаковые между собой) средние запасы сырья: 38 и 40 тыс. баррелей соответственно,\n",
    "\n",
    "однако нужно отметить что наименьшее значение метрики RMSE определено на данных региона 2 (оно близко к нулю, что говорит нам о наивысшей точности предсказания), где наблюдается самое низкое значение среднего запаса сырья в 69 тыс. баррелей (малая ошибка у региона 2 - следствие высокой корреляции f2 с целевой),\n",
    "\n",
    "а RMSE по регионам 1 и 3 примерно одинаково высока (около 40), что заставляет сомневаться в точности предсказаний по ним"
   ]
  },
  {
   "cell_type": "markdown",
   "metadata": {},
   "source": [
    "## Подготовка к расчёту прибыли"
   ]
  },
  {
   "cell_type": "markdown",
   "metadata": {},
   "source": [
    "Подготовим константы для расчёта прибыли:\n",
    "* запишем в переменную all_budget весь бюджет (10 млрд руб) в тыс руб \n",
    "* в barrel_income - доход от продажи одного барреля = 450 р (а от 1 тыс баррелей - 450 тыс руб)\n",
    "* в budget - бюджет на 1 скважину (т.к. нужно отобрать 200 лучших точек, разделим весь бюджет на 200)\n",
    "* в admissible_product - достаточный объём сырья для безубыточной разработки новой скважины (рассчитаем как отношение бюджета на освоение одной скважины к доходу с одной тыс баррелей)"
   ]
  },
  {
   "cell_type": "code",
   "execution_count": 111,
   "metadata": {},
   "outputs": [
    {
     "name": "stdout",
     "output_type": "stream",
     "text": [
      "Весь бюджет: 10000000 тыс руб\n",
      "Доход от одной тысячи баррелей: 450 тыс руб\n",
      "Бюджет на 1 скважину: 50000.0 тыс руб\n",
      "Достаточный объём сырья для безубыточной разработки новой скважины: 111.11111111111111 тыс баррелей\n"
     ]
    }
   ],
   "source": [
    "all_budget = 10**7\n",
    "print('Весь бюджет: {} тыс руб'.format(all_budget))\n",
    "\n",
    "barrel_income = 450\n",
    "print('Доход от одной тысячи баррелей: {} тыс руб'.format(barrel_income))\n",
    "\n",
    "budget = all_budget / 200\n",
    "print('Бюджет на 1 скважину: {} тыс руб'.format(budget))\n",
    "\n",
    "admissible_product = budget / barrel_income \n",
    "print('Достаточный объём сырья для безубыточной разработки новой скважины: {} тыс баррелей'\\\n",
    "      .format(admissible_product))"
   ]
  },
  {
   "cell_type": "markdown",
   "metadata": {},
   "source": [
    "Сравним полученный объём сырья со средним запасом в каждом регионе"
   ]
  },
  {
   "cell_type": "code",
   "execution_count": 112,
   "metadata": {},
   "outputs": [
    {
     "name": "stdout",
     "output_type": "stream",
     "text": [
      "Средний запас сырья:\n",
      "регион 1: 92.50000000000001\n",
      "регион 2: 68.82500000000002\n",
      "регион 3: 95.00000000000004\n"
     ]
    }
   ],
   "source": [
    "mean_1 = target1.mean()\n",
    "mean_2 = target2.mean()\n",
    "mean_3 = target3.mean()\n",
    "\n",
    "print(\"Средний запас сырья:\")\n",
    "print('регион 1:', mean_1)\n",
    "print('регион 2:', mean_2)\n",
    "print('регион 3:', mean_3)"
   ]
  },
  {
   "cell_type": "code",
   "execution_count": 113,
   "metadata": {},
   "outputs": [
    {
     "name": "stdout",
     "output_type": "stream",
     "text": [
      "Максимальный запас сырья в скважине:\n",
      "регион 1: 185.3643474222929\n",
      "регион 2: 137.94540774090564\n",
      "регион 3: 190.02983834335132\n"
     ]
    }
   ],
   "source": [
    "max_1 = target1.max()\n",
    "max_2 = target2.max()\n",
    "max_3 = target3.max()\n",
    "\n",
    "print(\"Максимальный запас сырья в скважине:\")\n",
    "print('регион 1:', max_1)\n",
    "print('регион 2:', max_2)\n",
    "print('регион 3:', max_3)"
   ]
  },
  {
   "cell_type": "code",
   "execution_count": 114,
   "metadata": {},
   "outputs": [
    {
     "name": "stdout",
     "output_type": "stream",
     "text": [
      "Количество измерений в скважинах с запасом сырья, удовлетворяющим требованиям:\n",
      "регион 1: 36583\n",
      "регион 2: 16537\n",
      "регион 3: 38178\n"
     ]
    }
   ],
   "source": [
    "print(\"Количество измерений в скважинах с запасом сырья, удовлетворяющим требованиям:\")\n",
    "print(\"регион 1:\", target1[target1 > admissible_product].count())\n",
    "print(\"регион 2:\", target2[target2 > admissible_product].count())\n",
    "print(\"регион 3:\", target3[target3 > admissible_product].count())"
   ]
  },
  {
   "cell_type": "markdown",
   "metadata": {},
   "source": [
    "### Вывод\n",
    "Средние запасы сырья в скважинах по каждому региону оказались меньше чем достаточный объём сырья для безубыточной разработки новой скважины (примерно 111,2 тыс баррелей), что говорит нам о том что большая часть скважин нам не подойдет и необходимо будет осваивать только те скважины, что содержат запасов в диапазоне от 111,2 тыс баррелей до максимального показателя запаса сырья в регионе. \n",
    "\n",
    "Таких скважин намного больше двухсот по каждому региону,  \n",
    "но в 1 и 3 регионах максимальные показатели запасов сильно выше чем во 2 регионе (190 и 185 против 138), что означает потенциально бОльший доход от них"
   ]
  },
  {
   "cell_type": "markdown",
   "metadata": {},
   "source": [
    "## Расчёт прибыли и рисков "
   ]
  },
  {
   "cell_type": "markdown",
   "metadata": {},
   "source": [
    "Выберем скважины с максимальными значениями предсказаний:"
   ]
  },
  {
   "cell_type": "code",
   "execution_count": 115,
   "metadata": {},
   "outputs": [
    {
     "name": "stdout",
     "output_type": "stream",
     "text": [
      "Максимальный запас пердсказанного сырья:\n",
      "регион 1: 180.1807130612532\n",
      "регион 2: 139.81896981252765\n",
      "регион 3: 165.85683317435658\n"
     ]
    }
   ],
   "source": [
    "print(\"Максимальный запас пердсказанного сырья:\")\n",
    "print('регион 1:', predicted_valid1.max())\n",
    "print('регион 2:', predicted_valid2.max())\n",
    "print('регион 3:', predicted_valid3.max())"
   ]
  },
  {
   "cell_type": "markdown",
   "metadata": {},
   "source": [
    "Лучший максимальный запас сырья в скважинах был предсказан в регионах 1 и 3 \n",
    "\n",
    "Напишем функцию для расчёта прибыли по выбранным скважинам и предсказаниям модели:\n",
    "1. на вход она будет принимать таргет и предсказания целевого признака по одному региону\n",
    "2. отсортирует предсказанные данные по убыванию\n",
    "3. отберет из таргета count лучших значений по индексу из предсказаний \n",
    "4. посчитает объем сырья по этим значениям, просуммировав их\n",
    "5. рассчитывает оборот от продажи всего посчитанного объема сырья по указанной в условии цене в 450 руб за 1 баррель (сохраняли в переменной barrel_income)\n",
    "6. на выход отдаст предполагаемую прибыль (из оборота вычитаем вложения на освоение одного региона =  10 млрд руб - сохранено в переменной all_budget)"
   ]
  },
  {
   "cell_type": "code",
   "execution_count": 116,
   "metadata": {},
   "outputs": [],
   "source": [
    "def profit(target, predicted, count):\n",
    "    \n",
    "    predict_sorted = pd.Series(predicted).sort_values(ascending=False)\n",
    "    selected = target[predict_sorted.index][:count]\n",
    "    \n",
    "    revenue = selected.sum() * barrel_income\n",
    "    profit_reg = revenue - all_budget\n",
    "    \n",
    "    return profit_reg"
   ]
  },
  {
   "cell_type": "markdown",
   "metadata": {},
   "source": [
    "Посчитаем риски и прибыль для каждого региона:\n",
    "1. Применим технику Bootstrap с 1000 повторений для того, чтобы найти распределение прибыли.\n",
    "2. Найдём среднюю прибыль, 95%-й доверительный интервал и риск убытков"
   ]
  },
  {
   "cell_type": "raw",
   "metadata": {},
   "source": [
    "predicted_valid1 = pd.Series(predicted_valid1)\n",
    "predicted_valid2 = pd.Series(predicted_valid2)\n",
    "predicted_valid3 = pd.Series(predicted_valid3)\n",
    "\n",
    "state = np.random.RandomState(12345)\n",
    "\n",
    "values1 = []\n",
    "values2 = []\n",
    "values3 = []\n",
    "\n",
    "\n",
    "for i in range(1000):\n",
    "    \n",
    "    target_subsample1 = predicted_valid1.sample(n=500, replace=True, random_state=state)\n",
    "    predicted_subsample1 = predicted_valid1[target_subsample1.index]\n",
    "    values1.append(profit(target_subsample1, predicted_subsample1, 200))\n",
    "    \n",
    "    target_subsample2 = predicted_valid2.sample(n=500, replace=True, random_state=state)\n",
    "    predicted_subsample2 = predicted_valid2[target_subsample2.index]\n",
    "    values2.append(profit(target_subsample2, predicted_subsample2, 200))\n",
    "    \n",
    "    target_subsample3 = predicted_valid3.sample(n=500, replace=True, random_state=state)\n",
    "    predicted_subsample3 = predicted_valid3[target_subsample3.index]\n",
    "    values3.append(profit(target_subsample3, predicted_subsample3, 200))"
   ]
  },
  {
   "cell_type": "code",
   "execution_count": 172,
   "metadata": {},
   "outputs": [],
   "source": [
    "predicted_valid1 = pd.Series(predicted_valid1)\n",
    "predicted_valid2 = pd.Series(predicted_valid2)\n",
    "predicted_valid3 = pd.Series(predicted_valid3)\n",
    "\n",
    "state = np.random.RandomState(12345)\n",
    "\n",
    "values1 = []\n",
    "values2 = []\n",
    "values3 = []\n",
    "\n",
    "num=500\n",
    "\n",
    "target1=target_valid1.reset_index(drop=True)\n",
    "target2=target_valid2.reset_index(drop=True)\n",
    "target3=target_valid3.reset_index(drop=True)\n",
    "\n",
    "\n",
    "for i in range(1000):\n",
    "    \n",
    "    target_subsample1 = target1.sample(n=num, replace=True, random_state=state)\n",
    "    predicted_subsample1 = predicted_valid1[target_subsample1.index]\n",
    "    values1.append(profit(target_subsample1, predicted_subsample1, 200))\n",
    "    \n",
    "    target_subsample2 = target2.sample(n=num, replace=True, random_state=state)\n",
    "    predicted_subsample2 = predicted_valid2[target_subsample2.index]\n",
    "    values2.append(profit(target_subsample2, predicted_subsample2, 200))\n",
    "    \n",
    "    target_subsample3 = target3.sample(n=num, replace=True, random_state=state)\n",
    "    predicted_subsample3 = predicted_valid3[target_subsample3.index]\n",
    "    values3.append(profit(target_subsample3, predicted_subsample3, 200))"
   ]
  },
  {
   "cell_type": "code",
   "execution_count": 173,
   "metadata": {},
   "outputs": [],
   "source": [
    "def calculate(values):\n",
    "    lower = values.quantile(0.025)\n",
    "    mean = values.mean()\n",
    "    upper = values.quantile(0.975)\n",
    " #   loss = values[values<0].count() / 10\n",
    "    loss = (values<0).mean()\n",
    "    return lower,mean,upper,loss"
   ]
  },
  {
   "cell_type": "code",
   "execution_count": 174,
   "metadata": {},
   "outputs": [
    {
     "name": "stdout",
     "output_type": "stream",
     "text": [
      "   Регион  2.5%-квантиль  Средняя прибыль  97.5%-квантиль  Риск убытков\n",
      " Регион 1 -123528.116449    414736.268614   968562.865496         0.070\n",
      " Регион 2   85329.746226    513172.169344   940106.288298         0.009\n",
      " Регион 3 -140423.727252    410198.401274   967716.156982         0.085\n"
     ]
    }
   ],
   "source": [
    "resultAsTable = pd.DataFrame(data=[\n",
    "    ('Регион 1',) + calculate(pd.Series(values1)),\n",
    "    ('Регион 2',) + calculate(pd.Series(values2)),\n",
    "    ('Регион 3',) + calculate(pd.Series(values3))\n",
    "], columns = ['Регион', '2.5%-квантиль', 'Средняя прибыль', '97.5%-квантиль', 'Риск убытков'])\n",
    "\n",
    "print(resultAsTable.to_string(index=False))"
   ]
  },
  {
   "cell_type": "code",
   "execution_count": 32,
   "metadata": {},
   "outputs": [
    {
     "name": "stdout",
     "output_type": "stream",
     "text": [
      "   Регион  2.5%-квантиль  Средняя прибыль  97.5%-квантиль  Риск убытков\n",
      " Регион 1 -208029.904261     32076.374599   269616.132140          39.8\n",
      " Регион 2 -644506.554162   -163518.196888   223888.837012          75.8\n",
      " Регион 3 -208094.909502      4061.013571   220900.655888          47.7\n"
     ]
    }
   ],
   "source": [
    "predicted_valid1 = pd.Series(predicted_valid1)\n",
    "predicted_valid2 = pd.Series(predicted_valid2)\n",
    "predicted_valid3 = pd.Series(predicted_valid3)\n",
    "\n",
    "state = np.random.RandomState(12345)\n",
    "\n",
    "values1 = []\n",
    "values2 = []\n",
    "values3 = []\n",
    "\n",
    "for i in range(1000):\n",
    "    \n",
    "    target_subsample1 = predicted_valid1.sample(n=400, replace=True, random_state=state)\n",
    "    predicted_subsample1 = predicted_valid1[target_subsample1.index]\n",
    "    values1.append(profit(target_subsample1, predicted_subsample1, 200))\n",
    "    \n",
    "    target_subsample2 = predicted_valid2.sample(n=400, replace=True, random_state=state)\n",
    "    predicted_subsample2 = predicted_valid2[target_subsample2.index]\n",
    "    values2.append(profit(target_subsample2, predicted_subsample2, 200))\n",
    "    \n",
    "    target_subsample3 = predicted_valid3.sample(n=400, replace=True, random_state=state)\n",
    "    predicted_subsample3 = predicted_valid3[target_subsample3.index]\n",
    "    values3.append(profit(target_subsample3, predicted_subsample3, 200))\n",
    "    \n",
    "    \n",
    "resultAsTable = pd.DataFrame(data=[\n",
    "    ('Регион 1',) + calculate(pd.Series(values1)),\n",
    "    ('Регион 2',) + calculate(pd.Series(values2)),\n",
    "    ('Регион 3',) + calculate(pd.Series(values3))\n",
    "], columns = ['Регион', '2.5%-квантиль', 'Средняя прибыль', '97.5%-квантиль', 'Риск убытков'])\n",
    "\n",
    "print(resultAsTable.to_string(index=False))"
   ]
  },
  {
   "cell_type": "code",
   "execution_count": 29,
   "metadata": {},
   "outputs": [
    {
     "name": "stdout",
     "output_type": "stream",
     "text": [
      "   Регион  2.5%-квантиль  Средняя прибыль  97.5%-квантиль  Риск убытков\n",
      " Регион 1  424546.684770     6.436915e+05    8.795409e+05           0.0\n",
      " Регион 2  676557.772758     1.062020e+06    1.353016e+06           0.0\n",
      " Регион 3  335143.061039     5.282063e+05    7.319419e+05           0.0\n"
     ]
    }
   ],
   "source": [
    "predicted_valid1 = pd.Series(predicted_valid1)\n",
    "predicted_valid2 = pd.Series(predicted_valid2)\n",
    "predicted_valid3 = pd.Series(predicted_valid3)\n",
    "\n",
    "state = np.random.RandomState(12345)\n",
    "\n",
    "values1 = []\n",
    "values2 = []\n",
    "values3 = []\n",
    "\n",
    "for i in range(1000):\n",
    "    \n",
    "    target_subsample1 = predicted_valid1.sample(n=600, replace=True, random_state=state)\n",
    "    predicted_subsample1 = predicted_valid1[target_subsample1.index]\n",
    "    values1.append(profit(target_subsample1, predicted_subsample1, 200))\n",
    "    \n",
    "    target_subsample2 = predicted_valid2.sample(n=600, replace=True, random_state=state)\n",
    "    predicted_subsample2 = predicted_valid2[target_subsample2.index]\n",
    "    values2.append(profit(target_subsample2, predicted_subsample2, 200))\n",
    "    \n",
    "    target_subsample3 = predicted_valid3.sample(n=600, replace=True, random_state=state)\n",
    "    predicted_subsample3 = predicted_valid3[target_subsample3.index]\n",
    "    values3.append(profit(target_subsample3, predicted_subsample3, 200))\n",
    "    \n",
    "    \n",
    "resultAsTable = pd.DataFrame(data=[\n",
    "    ('Регион 1',) + calculate(pd.Series(values1)),\n",
    "    ('Регион 2',) + calculate(pd.Series(values2)),\n",
    "    ('Регион 3',) + calculate(pd.Series(values3))\n",
    "], columns = ['Регион', '2.5%-квантиль', 'Средняя прибыль', '97.5%-квантиль', 'Риск убытков'])\n",
    "\n",
    "print(resultAsTable.to_string(index=False))"
   ]
  },
  {
   "cell_type": "markdown",
   "metadata": {},
   "source": [
    "### Вывод\n",
    "\n",
    "По итогу данного пункта, риск убытков у 2 и 3 регионов превысил допустимый порог в 2,5% (у них риски равны 8 и 3 % соответственно), и предсказанный риск убытков у первого региона как раз вписывается в требования (он равен 1%).\n",
    "\n",
    "Также если рассматривать предсказанную потенциальную среднюю прибыль с освоения скважин в регионах, то лидируют регионы 1 и 2, а 3й находится в абсолютных аутсайдерах. \n",
    "\n",
    "На основании данных исследований **можно порекомендовать к освоению первый регион**, т.к. он вероятнее всего принесет наибольшую прибыль с наименьшими рисками убытков."
   ]
  }
 ],
 "metadata": {
  "kernelspec": {
   "display_name": "Python 3",
   "language": "python",
   "name": "python3"
  },
  "language_info": {
   "codemirror_mode": {
    "name": "ipython",
    "version": 3
   },
   "file_extension": ".py",
   "mimetype": "text/x-python",
   "name": "python",
   "nbconvert_exporter": "python",
   "pygments_lexer": "ipython3",
   "version": "3.8.3"
  },
  "toc": {
   "base_numbering": 1,
   "nav_menu": {},
   "number_sections": true,
   "sideBar": true,
   "skip_h1_title": true,
   "title_cell": "Table of Contents",
   "title_sidebar": "Contents",
   "toc_cell": false,
   "toc_position": {},
   "toc_section_display": true,
   "toc_window_display": false
  }
 },
 "nbformat": 4,
 "nbformat_minor": 2
}
