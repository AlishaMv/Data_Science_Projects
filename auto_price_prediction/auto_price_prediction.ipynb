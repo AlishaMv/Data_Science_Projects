{
 "cells": [
  {
   "cell_type": "markdown",
   "metadata": {},
   "source": [
    "# Предсказание стоимости автомобилей"
   ]
  },
  {
   "cell_type": "markdown",
   "metadata": {},
   "source": [
    "Сервис по продаже автомобилей с пробегом «Не бит, не крашен» разрабатывает приложение для привлечения новых клиентов. В нём можно быстро узнать рыночную стоимость своего автомобиля. В вашем распоряжении исторические данные: технические характеристики, комплектации и цены автомобилей. Вам нужно построить модель для определения стоимости. \n",
    "\n",
    "Заказчику важны:\n",
    "\n",
    "- качество предсказания;\n",
    "- скорость предсказания;\n",
    "- время обучения."
   ]
  },
  {
   "cell_type": "code",
   "execution_count": 1,
   "metadata": {},
   "outputs": [],
   "source": [
    "# библиотеки работы с данными\n",
    "import pandas as pd\n",
    "import numpy as np\n",
    "import lightgbm as lgb\n",
    "import sklearn\n",
    "import datetime as dt\n",
    "\n",
    "# откючаем предупреждения\n",
    "import warnings\n",
    "warnings.filterwarnings('ignore')\n",
    "\n",
    "# установка настроек для отображения всех колонок при печати\n",
    "pd.set_option('display.max_columns', None)\n",
    "\n",
    "# разделение на выборки\n",
    "from sklearn.model_selection import train_test_split \n",
    "\n",
    "# графики\n",
    "import matplotlib.pyplot as plt \n",
    "\n",
    "# модели\n",
    "from catboost import CatBoostRegressor, Pool\n",
    "from sklearn.linear_model import LinearRegression\n",
    "import lightgbm as lgb\n",
    "from sklearn.tree import DecisionTreeRegressor\n",
    "from sklearn.model_selection import GridSearchCV, RandomizedSearchCV\n",
    "from sklearn.dummy import DummyRegressor\n",
    "\n",
    "# стандартизация признаков\n",
    "from sklearn.preprocessing import StandardScaler, MinMaxScaler\n",
    "from sklearn.preprocessing import OrdinalEncoder\n",
    "\n",
    "# метрики\n",
    "from sklearn.metrics import mean_squared_error, r2_score, make_scorer\n",
    "from math import sqrt"
   ]
  },
  {
   "cell_type": "markdown",
   "metadata": {},
   "source": [
    "## Подготовка данных"
   ]
  },
  {
   "cell_type": "markdown",
   "metadata": {},
   "source": [
    "### Описание данных\n",
    "\n",
    "**Признаки**\n",
    "* DateCrawled — дата скачивания анкеты из базы\n",
    "* VehicleType — тип автомобильного кузова\n",
    "* RegistrationYear — год регистрации автомобиля\n",
    "* Gearbox — тип коробки передач\n",
    "* Power — мощность (л. с.)\n",
    "* Model — модель автомобиля\n",
    "* Kilometer — пробег (км)\n",
    "* RegistrationMonth — месяц регистрации автомобиля\n",
    "* FuelType — тип топлива\n",
    "* Brand — марка автомобиля\n",
    "* NotRepaired — была машина в ремонте или нет\n",
    "* DateCreated — дата создания анкеты\n",
    "* NumberOfPictures — количество фотографий автомобиля\n",
    "* PostalCode — почтовый индекс владельца анкеты (пользователя)\n",
    "* LastSeen — дата последней активности пользователя\n",
    "\n",
    "**Целевой признак**  \n",
    "* Price — цена (евро)\n",
    "\n",
    "### Загрузка и первичный анализ данных\n",
    "\n",
    "Стандартным способом произведем загрузку таблицы csv, сразу установив при этом тип данных столбцов с датами как datetime  \n",
    "Т.к. таблица содержит много столбцов, для большей наглядности выведем ее часть в перевернутом виде"
   ]
  },
  {
   "cell_type": "code",
   "execution_count": 2,
   "metadata": {},
   "outputs": [
    {
     "data": {
      "text/html": [
       "<div>\n",
       "<style scoped>\n",
       "    .dataframe tbody tr th:only-of-type {\n",
       "        vertical-align: middle;\n",
       "    }\n",
       "\n",
       "    .dataframe tbody tr th {\n",
       "        vertical-align: top;\n",
       "    }\n",
       "\n",
       "    .dataframe thead th {\n",
       "        text-align: right;\n",
       "    }\n",
       "</style>\n",
       "<table border=\"1\" class=\"dataframe\">\n",
       "  <thead>\n",
       "    <tr style=\"text-align: right;\">\n",
       "      <th></th>\n",
       "      <th>0</th>\n",
       "      <th>1</th>\n",
       "      <th>2</th>\n",
       "      <th>3</th>\n",
       "      <th>4</th>\n",
       "    </tr>\n",
       "  </thead>\n",
       "  <tbody>\n",
       "    <tr>\n",
       "      <td>DateCrawled</td>\n",
       "      <td>2016-03-24 11:52:17</td>\n",
       "      <td>2016-03-24 10:58:45</td>\n",
       "      <td>2016-03-14 12:52:21</td>\n",
       "      <td>2016-03-17 16:54:04</td>\n",
       "      <td>2016-03-31 17:25:20</td>\n",
       "    </tr>\n",
       "    <tr>\n",
       "      <td>Price</td>\n",
       "      <td>480</td>\n",
       "      <td>18300</td>\n",
       "      <td>9800</td>\n",
       "      <td>1500</td>\n",
       "      <td>3600</td>\n",
       "    </tr>\n",
       "    <tr>\n",
       "      <td>VehicleType</td>\n",
       "      <td>NaN</td>\n",
       "      <td>coupe</td>\n",
       "      <td>suv</td>\n",
       "      <td>small</td>\n",
       "      <td>small</td>\n",
       "    </tr>\n",
       "    <tr>\n",
       "      <td>RegistrationYear</td>\n",
       "      <td>1993</td>\n",
       "      <td>2011</td>\n",
       "      <td>2004</td>\n",
       "      <td>2001</td>\n",
       "      <td>2008</td>\n",
       "    </tr>\n",
       "    <tr>\n",
       "      <td>Gearbox</td>\n",
       "      <td>manual</td>\n",
       "      <td>manual</td>\n",
       "      <td>auto</td>\n",
       "      <td>manual</td>\n",
       "      <td>manual</td>\n",
       "    </tr>\n",
       "    <tr>\n",
       "      <td>Power</td>\n",
       "      <td>0</td>\n",
       "      <td>190</td>\n",
       "      <td>163</td>\n",
       "      <td>75</td>\n",
       "      <td>69</td>\n",
       "    </tr>\n",
       "    <tr>\n",
       "      <td>Model</td>\n",
       "      <td>golf</td>\n",
       "      <td>NaN</td>\n",
       "      <td>grand</td>\n",
       "      <td>golf</td>\n",
       "      <td>fabia</td>\n",
       "    </tr>\n",
       "    <tr>\n",
       "      <td>Kilometer</td>\n",
       "      <td>150000</td>\n",
       "      <td>125000</td>\n",
       "      <td>125000</td>\n",
       "      <td>150000</td>\n",
       "      <td>90000</td>\n",
       "    </tr>\n",
       "    <tr>\n",
       "      <td>RegistrationMonth</td>\n",
       "      <td>0</td>\n",
       "      <td>5</td>\n",
       "      <td>8</td>\n",
       "      <td>6</td>\n",
       "      <td>7</td>\n",
       "    </tr>\n",
       "    <tr>\n",
       "      <td>FuelType</td>\n",
       "      <td>petrol</td>\n",
       "      <td>gasoline</td>\n",
       "      <td>gasoline</td>\n",
       "      <td>petrol</td>\n",
       "      <td>gasoline</td>\n",
       "    </tr>\n",
       "    <tr>\n",
       "      <td>Brand</td>\n",
       "      <td>volkswagen</td>\n",
       "      <td>audi</td>\n",
       "      <td>jeep</td>\n",
       "      <td>volkswagen</td>\n",
       "      <td>skoda</td>\n",
       "    </tr>\n",
       "    <tr>\n",
       "      <td>NotRepaired</td>\n",
       "      <td>NaN</td>\n",
       "      <td>yes</td>\n",
       "      <td>NaN</td>\n",
       "      <td>no</td>\n",
       "      <td>no</td>\n",
       "    </tr>\n",
       "    <tr>\n",
       "      <td>DateCreated</td>\n",
       "      <td>2016-03-24 00:00:00</td>\n",
       "      <td>2016-03-24 00:00:00</td>\n",
       "      <td>2016-03-14 00:00:00</td>\n",
       "      <td>2016-03-17 00:00:00</td>\n",
       "      <td>2016-03-31 00:00:00</td>\n",
       "    </tr>\n",
       "    <tr>\n",
       "      <td>NumberOfPictures</td>\n",
       "      <td>0</td>\n",
       "      <td>0</td>\n",
       "      <td>0</td>\n",
       "      <td>0</td>\n",
       "      <td>0</td>\n",
       "    </tr>\n",
       "    <tr>\n",
       "      <td>PostalCode</td>\n",
       "      <td>70435</td>\n",
       "      <td>66954</td>\n",
       "      <td>90480</td>\n",
       "      <td>91074</td>\n",
       "      <td>60437</td>\n",
       "    </tr>\n",
       "    <tr>\n",
       "      <td>LastSeen</td>\n",
       "      <td>2016-04-07 03:16:57</td>\n",
       "      <td>2016-04-07 01:46:50</td>\n",
       "      <td>2016-04-05 12:47:46</td>\n",
       "      <td>2016-03-17 17:40:17</td>\n",
       "      <td>2016-04-06 10:17:21</td>\n",
       "    </tr>\n",
       "  </tbody>\n",
       "</table>\n",
       "</div>"
      ],
      "text/plain": [
       "                                     0                    1  \\\n",
       "DateCrawled        2016-03-24 11:52:17  2016-03-24 10:58:45   \n",
       "Price                              480                18300   \n",
       "VehicleType                        NaN                coupe   \n",
       "RegistrationYear                  1993                 2011   \n",
       "Gearbox                         manual               manual   \n",
       "Power                                0                  190   \n",
       "Model                             golf                  NaN   \n",
       "Kilometer                       150000               125000   \n",
       "RegistrationMonth                    0                    5   \n",
       "FuelType                        petrol             gasoline   \n",
       "Brand                       volkswagen                 audi   \n",
       "NotRepaired                        NaN                  yes   \n",
       "DateCreated        2016-03-24 00:00:00  2016-03-24 00:00:00   \n",
       "NumberOfPictures                     0                    0   \n",
       "PostalCode                       70435                66954   \n",
       "LastSeen           2016-04-07 03:16:57  2016-04-07 01:46:50   \n",
       "\n",
       "                                     2                    3  \\\n",
       "DateCrawled        2016-03-14 12:52:21  2016-03-17 16:54:04   \n",
       "Price                             9800                 1500   \n",
       "VehicleType                        suv                small   \n",
       "RegistrationYear                  2004                 2001   \n",
       "Gearbox                           auto               manual   \n",
       "Power                              163                   75   \n",
       "Model                            grand                 golf   \n",
       "Kilometer                       125000               150000   \n",
       "RegistrationMonth                    8                    6   \n",
       "FuelType                      gasoline               petrol   \n",
       "Brand                             jeep           volkswagen   \n",
       "NotRepaired                        NaN                   no   \n",
       "DateCreated        2016-03-14 00:00:00  2016-03-17 00:00:00   \n",
       "NumberOfPictures                     0                    0   \n",
       "PostalCode                       90480                91074   \n",
       "LastSeen           2016-04-05 12:47:46  2016-03-17 17:40:17   \n",
       "\n",
       "                                     4  \n",
       "DateCrawled        2016-03-31 17:25:20  \n",
       "Price                             3600  \n",
       "VehicleType                      small  \n",
       "RegistrationYear                  2008  \n",
       "Gearbox                         manual  \n",
       "Power                               69  \n",
       "Model                            fabia  \n",
       "Kilometer                        90000  \n",
       "RegistrationMonth                    7  \n",
       "FuelType                      gasoline  \n",
       "Brand                            skoda  \n",
       "NotRepaired                         no  \n",
       "DateCreated        2016-03-31 00:00:00  \n",
       "NumberOfPictures                     0  \n",
       "PostalCode                       60437  \n",
       "LastSeen           2016-04-06 10:17:21  "
      ]
     },
     "execution_count": 2,
     "metadata": {},
     "output_type": "execute_result"
    }
   ],
   "source": [
    "df = pd.read_csv('/datasets/autos.csv', parse_dates=['DateCrawled', 'DateCreated', 'LastSeen'])\n",
    "\n",
    "df.head().T"
   ]
  },
  {
   "cell_type": "markdown",
   "metadata": {},
   "source": [
    "Визуально можно заметить что столбцы с датами DateCrawled и DateCreated содержат одинаковую информацию по числу (год, месяц, день) и их можно было бы объединить, избавившись от одного. Проверим:"
   ]
  },
  {
   "cell_type": "code",
   "execution_count": 3,
   "metadata": {},
   "outputs": [
    {
     "data": {
      "text/plain": [
       "True     354343\n",
       "False        26\n",
       "dtype: int64"
      ]
     },
     "execution_count": 3,
     "metadata": {},
     "output_type": "execute_result"
    }
   ],
   "source": [
    "arr = pd.DatetimeIndex(df['DateCrawled']).year == pd.DatetimeIndex(df['DateCreated']).year\n",
    "pd.Series(arr).value_counts()"
   ]
  },
  {
   "cell_type": "code",
   "execution_count": 4,
   "metadata": {},
   "outputs": [
    {
     "data": {
      "text/plain": [
       "True     353471\n",
       "False       898\n",
       "dtype: int64"
      ]
     },
     "execution_count": 4,
     "metadata": {},
     "output_type": "execute_result"
    }
   ],
   "source": [
    "arr = pd.DatetimeIndex(df['DateCrawled']).month == pd.DatetimeIndex(df['DateCreated']).month\n",
    "pd.Series(arr).value_counts()"
   ]
  },
  {
   "cell_type": "markdown",
   "metadata": {},
   "source": [
    "Информация не подтвердилась. Столбцы DateCrawled и DateCreated имеют различия по году и месяцу. Пока что не будем их трогать."
   ]
  },
  {
   "cell_type": "markdown",
   "metadata": {},
   "source": [
    "Просмотрим основную информацию о столбцах таблицы:"
   ]
  },
  {
   "cell_type": "code",
   "execution_count": 5,
   "metadata": {
    "scrolled": true
   },
   "outputs": [
    {
     "name": "stdout",
     "output_type": "stream",
     "text": [
      "<class 'pandas.core.frame.DataFrame'>\n",
      "RangeIndex: 354369 entries, 0 to 354368\n",
      "Data columns (total 16 columns):\n",
      "DateCrawled          354369 non-null datetime64[ns]\n",
      "Price                354369 non-null int64\n",
      "VehicleType          316879 non-null object\n",
      "RegistrationYear     354369 non-null int64\n",
      "Gearbox              334536 non-null object\n",
      "Power                354369 non-null int64\n",
      "Model                334664 non-null object\n",
      "Kilometer            354369 non-null int64\n",
      "RegistrationMonth    354369 non-null int64\n",
      "FuelType             321474 non-null object\n",
      "Brand                354369 non-null object\n",
      "NotRepaired          283215 non-null object\n",
      "DateCreated          354369 non-null datetime64[ns]\n",
      "NumberOfPictures     354369 non-null int64\n",
      "PostalCode           354369 non-null int64\n",
      "LastSeen             354369 non-null datetime64[ns]\n",
      "dtypes: datetime64[ns](3), int64(7), object(6)\n",
      "memory usage: 43.3+ MB\n"
     ]
    }
   ],
   "source": [
    "df.info()"
   ]
  },
  {
   "cell_type": "markdown",
   "metadata": {},
   "source": [
    "В таблице представлены столбцы 3х типов данных: дата, числовой и строковый.  \n",
    "\n",
    "\n",
    "#### Анализ и первичная обработка числовых столбцов\n",
    "\n",
    "Выведем сводку описательной статистики по числовым столбцам:"
   ]
  },
  {
   "cell_type": "code",
   "execution_count": 6,
   "metadata": {},
   "outputs": [
    {
     "data": {
      "text/html": [
       "<div>\n",
       "<style scoped>\n",
       "    .dataframe tbody tr th:only-of-type {\n",
       "        vertical-align: middle;\n",
       "    }\n",
       "\n",
       "    .dataframe tbody tr th {\n",
       "        vertical-align: top;\n",
       "    }\n",
       "\n",
       "    .dataframe thead th {\n",
       "        text-align: right;\n",
       "    }\n",
       "</style>\n",
       "<table border=\"1\" class=\"dataframe\">\n",
       "  <thead>\n",
       "    <tr style=\"text-align: right;\">\n",
       "      <th></th>\n",
       "      <th>Price</th>\n",
       "      <th>RegistrationYear</th>\n",
       "      <th>Power</th>\n",
       "      <th>Kilometer</th>\n",
       "      <th>RegistrationMonth</th>\n",
       "      <th>NumberOfPictures</th>\n",
       "      <th>PostalCode</th>\n",
       "    </tr>\n",
       "  </thead>\n",
       "  <tbody>\n",
       "    <tr>\n",
       "      <td>count</td>\n",
       "      <td>354369.000000</td>\n",
       "      <td>354369.000000</td>\n",
       "      <td>354369.000000</td>\n",
       "      <td>354369.000000</td>\n",
       "      <td>354369.000000</td>\n",
       "      <td>354369.0</td>\n",
       "      <td>354369.000000</td>\n",
       "    </tr>\n",
       "    <tr>\n",
       "      <td>mean</td>\n",
       "      <td>4416.656776</td>\n",
       "      <td>2004.234448</td>\n",
       "      <td>110.094337</td>\n",
       "      <td>128211.172535</td>\n",
       "      <td>5.714645</td>\n",
       "      <td>0.0</td>\n",
       "      <td>50508.689087</td>\n",
       "    </tr>\n",
       "    <tr>\n",
       "      <td>std</td>\n",
       "      <td>4514.158514</td>\n",
       "      <td>90.227958</td>\n",
       "      <td>189.850405</td>\n",
       "      <td>37905.341530</td>\n",
       "      <td>3.726421</td>\n",
       "      <td>0.0</td>\n",
       "      <td>25783.096248</td>\n",
       "    </tr>\n",
       "    <tr>\n",
       "      <td>min</td>\n",
       "      <td>0.000000</td>\n",
       "      <td>1000.000000</td>\n",
       "      <td>0.000000</td>\n",
       "      <td>5000.000000</td>\n",
       "      <td>0.000000</td>\n",
       "      <td>0.0</td>\n",
       "      <td>1067.000000</td>\n",
       "    </tr>\n",
       "    <tr>\n",
       "      <td>25%</td>\n",
       "      <td>1050.000000</td>\n",
       "      <td>1999.000000</td>\n",
       "      <td>69.000000</td>\n",
       "      <td>125000.000000</td>\n",
       "      <td>3.000000</td>\n",
       "      <td>0.0</td>\n",
       "      <td>30165.000000</td>\n",
       "    </tr>\n",
       "    <tr>\n",
       "      <td>50%</td>\n",
       "      <td>2700.000000</td>\n",
       "      <td>2003.000000</td>\n",
       "      <td>105.000000</td>\n",
       "      <td>150000.000000</td>\n",
       "      <td>6.000000</td>\n",
       "      <td>0.0</td>\n",
       "      <td>49413.000000</td>\n",
       "    </tr>\n",
       "    <tr>\n",
       "      <td>75%</td>\n",
       "      <td>6400.000000</td>\n",
       "      <td>2008.000000</td>\n",
       "      <td>143.000000</td>\n",
       "      <td>150000.000000</td>\n",
       "      <td>9.000000</td>\n",
       "      <td>0.0</td>\n",
       "      <td>71083.000000</td>\n",
       "    </tr>\n",
       "    <tr>\n",
       "      <td>max</td>\n",
       "      <td>20000.000000</td>\n",
       "      <td>9999.000000</td>\n",
       "      <td>20000.000000</td>\n",
       "      <td>150000.000000</td>\n",
       "      <td>12.000000</td>\n",
       "      <td>0.0</td>\n",
       "      <td>99998.000000</td>\n",
       "    </tr>\n",
       "  </tbody>\n",
       "</table>\n",
       "</div>"
      ],
      "text/plain": [
       "               Price  RegistrationYear          Power      Kilometer  \\\n",
       "count  354369.000000     354369.000000  354369.000000  354369.000000   \n",
       "mean     4416.656776       2004.234448     110.094337  128211.172535   \n",
       "std      4514.158514         90.227958     189.850405   37905.341530   \n",
       "min         0.000000       1000.000000       0.000000    5000.000000   \n",
       "25%      1050.000000       1999.000000      69.000000  125000.000000   \n",
       "50%      2700.000000       2003.000000     105.000000  150000.000000   \n",
       "75%      6400.000000       2008.000000     143.000000  150000.000000   \n",
       "max     20000.000000       9999.000000   20000.000000  150000.000000   \n",
       "\n",
       "       RegistrationMonth  NumberOfPictures     PostalCode  \n",
       "count      354369.000000          354369.0  354369.000000  \n",
       "mean            5.714645               0.0   50508.689087  \n",
       "std             3.726421               0.0   25783.096248  \n",
       "min             0.000000               0.0    1067.000000  \n",
       "25%             3.000000               0.0   30165.000000  \n",
       "50%             6.000000               0.0   49413.000000  \n",
       "75%             9.000000               0.0   71083.000000  \n",
       "max            12.000000               0.0   99998.000000  "
      ]
     },
     "execution_count": 6,
     "metadata": {},
     "output_type": "execute_result"
    }
   ],
   "source": [
    "df.describe()"
   ]
  },
  {
   "cell_type": "markdown",
   "metadata": {},
   "source": [
    "**Признак Price**\n",
    "\n",
    "Посмотрим у скольких авто усстановлена цена в 0 евро:"
   ]
  },
  {
   "cell_type": "code",
   "execution_count": 7,
   "metadata": {},
   "outputs": [
    {
     "data": {
      "text/plain": [
       "10772"
      ]
     },
     "execution_count": 7,
     "metadata": {},
     "output_type": "execute_result"
    }
   ],
   "source": [
    "df[df.Price == 0].Price.count()"
   ]
  },
  {
   "cell_type": "markdown",
   "metadata": {},
   "source": [
    "Можно предположить, что данные авто отдают даром по каким-либо причинам, что вполне может быть реальностью.  \n",
    "Поэтому примем решение оставить нули в данном столбце."
   ]
  },
  {
   "cell_type": "code",
   "execution_count": 8,
   "metadata": {},
   "outputs": [
    {
     "name": "stdout",
     "output_type": "stream",
     "text": [
      "count    354369.000000\n",
      "mean       4416.656776\n",
      "std        4514.158514\n",
      "min           0.000000\n",
      "25%        1050.000000\n",
      "50%        2700.000000\n",
      "75%        6400.000000\n",
      "max       20000.000000\n",
      "Name: Price, dtype: float64\n"
     ]
    }
   ],
   "source": [
    "print(df['Price'].describe())"
   ]
  },
  {
   "cell_type": "code",
   "execution_count": 9,
   "metadata": {},
   "outputs": [
    {
     "data": {
      "image/png": "[encoded data removed]",
      "text/plain": [
       "<Figure size 432x288 with 1 Axes>"
      ]
     },
     "metadata": {
      "needs_background": "light"
     },
     "output_type": "display_data"
    }
   ],
   "source": [
    "df.plot(y = 'Price', kind = 'density', grid = True, xlim = (-1,30000))\n",
    "plt.title('Распределение стоимости авто (Price)')\n",
    "\n",
    "plt.show()"
   ]
  },
  {
   "cell_type": "markdown",
   "metadata": {},
   "source": [
    "Из быстрого анализа данных можно сделать вывод о том, что примерно 75% машин стоят меньше 6 400 $\n",
    "\n",
    "\n",
    "**Признак RegistrationYear**  \n",
    "\n",
    "По столбцу DateCrawled видим что выгрузка данных происходила в 2016 году, исходя из чего мы можем сделать вывод о том, что значения в столбце RegistrationYear (год регистрации), которые оказались больше 2016 года, - ошибочны. Также, в соответствии с популярными досками объявлений, такими как Авито и Юла, мы можем считать ошибочными также год производства, указанный как более ранний чем 1960-й."
   ]
  },
  {
   "cell_type": "code",
   "execution_count": 10,
   "metadata": {},
   "outputs": [
    {
     "data": {
      "text/plain": [
       "2016"
      ]
     },
     "execution_count": 10,
     "metadata": {},
     "output_type": "execute_result"
    }
   ],
   "source": [
    "pd.DatetimeIndex(df['DateCrawled']).year.max()"
   ]
  },
  {
   "cell_type": "code",
   "execution_count": 11,
   "metadata": {},
   "outputs": [
    {
     "data": {
      "text/plain": [
       "True"
      ]
     },
     "execution_count": 11,
     "metadata": {},
     "output_type": "execute_result"
    }
   ],
   "source": [
    "pd.DatetimeIndex(df['DateCrawled']).year.min() == pd.DatetimeIndex(df['DateCrawled']).year.max()"
   ]
  },
  {
   "cell_type": "markdown",
   "metadata": {},
   "source": [
    "Посмотрим на количество строк, не удовлетворяющих условиям рельности года выпуска авто (1960-2016 гг):"
   ]
  },
  {
   "cell_type": "code",
   "execution_count": 12,
   "metadata": {},
   "outputs": [
    {
     "data": {
      "text/plain": [
       "14952"
      ]
     },
     "execution_count": 12,
     "metadata": {},
     "output_type": "execute_result"
    }
   ],
   "source": [
    "x = df[df['RegistrationYear'] < 1960].RegistrationYear.count() + df[df['RegistrationYear'] > 2016].RegistrationYear.count()\n",
    "x"
   ]
  },
  {
   "cell_type": "code",
   "execution_count": 13,
   "metadata": {},
   "outputs": [
    {
     "data": {
      "text/plain": [
       "0.04219330697662606"
      ]
     },
     "execution_count": 13,
     "metadata": {},
     "output_type": "execute_result"
    }
   ],
   "source": [
    "x / df.shape[0]"
   ]
  },
  {
   "cell_type": "markdown",
   "metadata": {},
   "source": [
    "4% от размера всего датасета, это немного, поэтому можем избавиться от данных строк:"
   ]
  },
  {
   "cell_type": "code",
   "execution_count": 14,
   "metadata": {},
   "outputs": [],
   "source": [
    "df = df.query('RegistrationYear > 1960 and RegistrationYear < 2016')"
   ]
  },
  {
   "cell_type": "code",
   "execution_count": 15,
   "metadata": {},
   "outputs": [
    {
     "data": {
      "text/plain": [
       "0"
      ]
     },
     "execution_count": 15,
     "metadata": {},
     "output_type": "execute_result"
    }
   ],
   "source": [
    "df[df['RegistrationYear'] < 1960].RegistrationYear.count() + df[df['RegistrationYear'] > 2016].RegistrationYear.count()"
   ]
  },
  {
   "cell_type": "code",
   "execution_count": 16,
   "metadata": {},
   "outputs": [
    {
     "data": {
      "text/plain": [
       "(329630, 16)"
      ]
     },
     "execution_count": 16,
     "metadata": {},
     "output_type": "execute_result"
    }
   ],
   "source": [
    "df.shape"
   ]
  },
  {
   "cell_type": "markdown",
   "metadata": {},
   "source": [
    "**Признак RegistrationMonth**\n",
    "\n",
    "Мы можем заметить, что в столбце с месяцем выпуска авто, содержатся нули (более 37 тысяч). Если предположить что исчисление месяцев шло с нуля то тогда кол-во месяцев получилось бы на 1 меньше (11). Но у нас их 12. Следовательно все нули - это ошибки. Мы можем предположить что так ошибочно был указан первый месяц (январь) и заменить все нули на 1. Но т.к. это всё лишь предположения о возможной причине ошибки, более корректно будет совсем избавиться от нулей."
   ]
  },
  {
   "cell_type": "code",
   "execution_count": 17,
   "metadata": {},
   "outputs": [
    {
     "data": {
      "text/plain": [
       "30641"
      ]
     },
     "execution_count": 17,
     "metadata": {},
     "output_type": "execute_result"
    }
   ],
   "source": [
    "df[df['RegistrationMonth'] == 0].RegistrationMonth.count()"
   ]
  },
  {
   "cell_type": "code",
   "execution_count": 18,
   "metadata": {},
   "outputs": [],
   "source": [
    "df = df.query('RegistrationMonth != 0')"
   ]
  },
  {
   "cell_type": "code",
   "execution_count": 19,
   "metadata": {},
   "outputs": [
    {
     "data": {
      "text/plain": [
       "0"
      ]
     },
     "execution_count": 19,
     "metadata": {},
     "output_type": "execute_result"
    }
   ],
   "source": [
    "df[df['RegistrationMonth'] == 0].RegistrationMonth.count()"
   ]
  },
  {
   "cell_type": "code",
   "execution_count": 20,
   "metadata": {},
   "outputs": [
    {
     "data": {
      "text/plain": [
       "(298989, 16)"
      ]
     },
     "execution_count": 20,
     "metadata": {},
     "output_type": "execute_result"
    }
   ],
   "source": [
    "df.shape"
   ]
  },
  {
   "cell_type": "markdown",
   "metadata": {},
   "source": [
    "**Признак Power**\n",
    "\n",
    "Как нам известно, мощность двигателя легковых авто может быть не ниже чем 11 (например, Renault Twizy) и не выше чем 500 (максимум = 3700 л.с. - у исключительных авто, относящихся к крупной спецтехнике, которые вряд ли попали в данный список + их мощность обычно измеряется в кВт или др измерениях). Посмотрим на количество строк, выбивающихся из этих характеристик и исключим такие строки"
   ]
  },
  {
   "cell_type": "code",
   "execution_count": 21,
   "metadata": {},
   "outputs": [
    {
     "data": {
      "text/plain": [
       "20876"
      ]
     },
     "execution_count": 21,
     "metadata": {},
     "output_type": "execute_result"
    }
   ],
   "source": [
    "df.query('Power == 0').Power.count()"
   ]
  },
  {
   "cell_type": "code",
   "execution_count": 22,
   "metadata": {},
   "outputs": [
    {
     "data": {
      "text/plain": [
       "21416"
      ]
     },
     "execution_count": 22,
     "metadata": {},
     "output_type": "execute_result"
    }
   ],
   "source": [
    "df.query('Power > 500 or Power < 11').Power.count()"
   ]
  },
  {
   "cell_type": "code",
   "execution_count": 23,
   "metadata": {},
   "outputs": [
    {
     "data": {
      "text/plain": [
       "0"
      ]
     },
     "execution_count": 23,
     "metadata": {},
     "output_type": "execute_result"
    }
   ],
   "source": [
    "df = df.query('10 < Power < 499')\n",
    "df.query('Power > 500 or Power < 11').Power.count()"
   ]
  },
  {
   "cell_type": "code",
   "execution_count": 24,
   "metadata": {},
   "outputs": [
    {
     "data": {
      "text/plain": [
       "(277543, 16)"
      ]
     },
     "execution_count": 24,
     "metadata": {},
     "output_type": "execute_result"
    }
   ],
   "source": [
    "df.shape"
   ]
  },
  {
   "cell_type": "markdown",
   "metadata": {},
   "source": [
    "**Признак NumberOfPictures**\n",
    "\n",
    "Можно увидеть, что столбец с количеством фото полностью состоит из нулей, т.обр он для нас не несет никакой информации, следовательно мы можем избавиться от него"
   ]
  },
  {
   "cell_type": "code",
   "execution_count": 25,
   "metadata": {},
   "outputs": [
    {
     "data": {
      "text/plain": [
       "0    277543\n",
       "Name: NumberOfPictures, dtype: int64"
      ]
     },
     "execution_count": 25,
     "metadata": {},
     "output_type": "execute_result"
    }
   ],
   "source": [
    "df['NumberOfPictures'].value_counts()"
   ]
  },
  {
   "cell_type": "code",
   "execution_count": 26,
   "metadata": {},
   "outputs": [
    {
     "data": {
      "text/plain": [
       "(277543, 16)"
      ]
     },
     "execution_count": 26,
     "metadata": {},
     "output_type": "execute_result"
    }
   ],
   "source": [
    "df.shape"
   ]
  },
  {
   "cell_type": "code",
   "execution_count": 27,
   "metadata": {},
   "outputs": [
    {
     "data": {
      "text/plain": [
       "(277543, 15)"
      ]
     },
     "execution_count": 27,
     "metadata": {},
     "output_type": "execute_result"
    }
   ],
   "source": [
    "df = df.drop('NumberOfPictures', axis = 1)\n",
    "df.shape"
   ]
  },
  {
   "cell_type": "markdown",
   "metadata": {},
   "source": [
    "**Признак PostalCode**\n",
    "\n",
    "Почтовый индекс совершенно никак не поможет нам в построении модели, но может помешать. Удаление данного столбца не принесет никаких негативных последствий, но поможет построить более точные предсказания:"
   ]
  },
  {
   "cell_type": "code",
   "execution_count": 28,
   "metadata": {},
   "outputs": [
    {
     "data": {
      "text/plain": [
       "(277543, 14)"
      ]
     },
     "execution_count": 28,
     "metadata": {},
     "output_type": "execute_result"
    }
   ],
   "source": [
    "df = df.drop('PostalCode', axis = 1)\n",
    "df.shape"
   ]
  },
  {
   "cell_type": "markdown",
   "metadata": {},
   "source": [
    "#### Анализ и первичная обработка нечисловых столбцов\n",
    "\n",
    "Выведем сводку описательной статистики по нечисловым столбцам (у нас из таких представлены столбцы только типа object):"
   ]
  },
  {
   "cell_type": "code",
   "execution_count": 29,
   "metadata": {},
   "outputs": [
    {
     "data": {
      "text/html": [
       "<div>\n",
       "<style scoped>\n",
       "    .dataframe tbody tr th:only-of-type {\n",
       "        vertical-align: middle;\n",
       "    }\n",
       "\n",
       "    .dataframe tbody tr th {\n",
       "        vertical-align: top;\n",
       "    }\n",
       "\n",
       "    .dataframe thead th {\n",
       "        text-align: right;\n",
       "    }\n",
       "</style>\n",
       "<table border=\"1\" class=\"dataframe\">\n",
       "  <thead>\n",
       "    <tr style=\"text-align: right;\">\n",
       "      <th></th>\n",
       "      <th>VehicleType</th>\n",
       "      <th>Gearbox</th>\n",
       "      <th>Model</th>\n",
       "      <th>FuelType</th>\n",
       "      <th>Brand</th>\n",
       "      <th>NotRepaired</th>\n",
       "    </tr>\n",
       "  </thead>\n",
       "  <tbody>\n",
       "    <tr>\n",
       "      <td>count</td>\n",
       "      <td>274500</td>\n",
       "      <td>273883</td>\n",
       "      <td>268851</td>\n",
       "      <td>267964</td>\n",
       "      <td>277543</td>\n",
       "      <td>244019</td>\n",
       "    </tr>\n",
       "    <tr>\n",
       "      <td>unique</td>\n",
       "      <td>8</td>\n",
       "      <td>2</td>\n",
       "      <td>249</td>\n",
       "      <td>7</td>\n",
       "      <td>40</td>\n",
       "      <td>2</td>\n",
       "    </tr>\n",
       "    <tr>\n",
       "      <td>top</td>\n",
       "      <td>sedan</td>\n",
       "      <td>manual</td>\n",
       "      <td>golf</td>\n",
       "      <td>petrol</td>\n",
       "      <td>volkswagen</td>\n",
       "      <td>no</td>\n",
       "    </tr>\n",
       "    <tr>\n",
       "      <td>freq</td>\n",
       "      <td>80364</td>\n",
       "      <td>217404</td>\n",
       "      <td>22705</td>\n",
       "      <td>177433</td>\n",
       "      <td>59208</td>\n",
       "      <td>217753</td>\n",
       "    </tr>\n",
       "  </tbody>\n",
       "</table>\n",
       "</div>"
      ],
      "text/plain": [
       "       VehicleType Gearbox   Model FuelType       Brand NotRepaired\n",
       "count       274500  273883  268851   267964      277543      244019\n",
       "unique           8       2     249        7          40           2\n",
       "top          sedan  manual    golf   petrol  volkswagen          no\n",
       "freq         80364  217404   22705   177433       59208      217753"
      ]
     },
     "execution_count": 29,
     "metadata": {},
     "output_type": "execute_result"
    }
   ],
   "source": [
    "df.describe(include='object')"
   ]
  },
  {
   "cell_type": "code",
   "execution_count": 30,
   "metadata": {},
   "outputs": [
    {
     "data": {
      "text/plain": [
       "sedan          80364\n",
       "small          66670\n",
       "wagon          56969\n",
       "bus            25558\n",
       "convertible    18091\n",
       "coupe          13934\n",
       "suv            10670\n",
       "other           2244\n",
       "Name: VehicleType, dtype: int64"
      ]
     },
     "execution_count": 30,
     "metadata": {},
     "output_type": "execute_result"
    }
   ],
   "source": [
    "df['VehicleType'].value_counts()"
   ]
  },
  {
   "cell_type": "code",
   "execution_count": 31,
   "metadata": {},
   "outputs": [
    {
     "data": {
      "text/plain": [
       "petrol      177433\n",
       "gasoline     85266\n",
       "lpg           4461\n",
       "cng            470\n",
       "hybrid         198\n",
       "other           77\n",
       "electric        59\n",
       "Name: FuelType, dtype: int64"
      ]
     },
     "execution_count": 31,
     "metadata": {},
     "output_type": "execute_result"
    }
   ],
   "source": [
    "df['FuelType'].value_counts() "
   ]
  },
  {
   "cell_type": "markdown",
   "metadata": {},
   "source": [
    "Из 6 числовых столбцов у нас имеется 4 столбца с категориальными переменными, 2 из которых могли бы быть типа boolean, т.к. содержат только по 2 значения (тип коробки передач Gearbox и была ли машина в ремонте NotRepaired).  \n",
    "Обратим на это внимание во время кодирования"
   ]
  },
  {
   "cell_type": "markdown",
   "metadata": {},
   "source": [
    "#### Анализ и первичная обработка столбцов с датами\n",
    "\n",
    "К столбцам с типом datetime относятся:\n",
    "* LastSeen — дата последней активности пользователя  \n",
    "* DateCrawled — дата скачивания анкеты из базы  \n",
    "* DateCreated — дата создания анкеты\n",
    "\n",
    "Т.к. из этих дат невозможно вынести никакой ценной информации для будущего прогноза стоимости авто, примем решение удалить все столбцы с датами за их ненадобностью"
   ]
  },
  {
   "cell_type": "code",
   "execution_count": 32,
   "metadata": {},
   "outputs": [
    {
     "data": {
      "text/plain": [
       "DateCrawled          datetime64[ns]\n",
       "Price                         int64\n",
       "VehicleType                  object\n",
       "RegistrationYear              int64\n",
       "Gearbox                      object\n",
       "Power                         int64\n",
       "Model                        object\n",
       "Kilometer                     int64\n",
       "RegistrationMonth             int64\n",
       "FuelType                     object\n",
       "Brand                        object\n",
       "NotRepaired                  object\n",
       "DateCreated          datetime64[ns]\n",
       "LastSeen             datetime64[ns]\n",
       "dtype: object"
      ]
     },
     "execution_count": 32,
     "metadata": {},
     "output_type": "execute_result"
    }
   ],
   "source": [
    "df.dtypes"
   ]
  },
  {
   "cell_type": "code",
   "execution_count": 33,
   "metadata": {},
   "outputs": [
    {
     "data": {
      "text/plain": [
       "(277543, 14)"
      ]
     },
     "execution_count": 33,
     "metadata": {},
     "output_type": "execute_result"
    }
   ],
   "source": [
    "df.shape"
   ]
  },
  {
   "cell_type": "code",
   "execution_count": 34,
   "metadata": {},
   "outputs": [
    {
     "data": {
      "text/plain": [
       "(277543, 11)"
      ]
     },
     "execution_count": 34,
     "metadata": {},
     "output_type": "execute_result"
    }
   ],
   "source": [
    "df = df.drop(['LastSeen', 'DateCrawled', 'DateCreated'], axis = 1)\n",
    "df.shape"
   ]
  },
  {
   "cell_type": "markdown",
   "metadata": {},
   "source": [
    "#### Дубликаты\n",
    "\n",
    "Посмотрим на количество дубликатов и удалим их:"
   ]
  },
  {
   "cell_type": "code",
   "execution_count": 35,
   "metadata": {},
   "outputs": [
    {
     "data": {
      "text/plain": [
       "22694"
      ]
     },
     "execution_count": 35,
     "metadata": {},
     "output_type": "execute_result"
    }
   ],
   "source": [
    "df.duplicated().sum()"
   ]
  },
  {
   "cell_type": "code",
   "execution_count": 36,
   "metadata": {},
   "outputs": [
    {
     "data": {
      "text/plain": [
       "0"
      ]
     },
     "execution_count": 36,
     "metadata": {},
     "output_type": "execute_result"
    }
   ],
   "source": [
    "df = df.drop_duplicates().reset_index(drop = True)\n",
    "df.duplicated().sum()"
   ]
  },
  {
   "cell_type": "code",
   "execution_count": 37,
   "metadata": {},
   "outputs": [
    {
     "data": {
      "text/plain": [
       "254849"
      ]
     },
     "execution_count": 37,
     "metadata": {},
     "output_type": "execute_result"
    }
   ],
   "source": [
    "len(df)"
   ]
  },
  {
   "cell_type": "markdown",
   "metadata": {},
   "source": [
    "#### Пропущенные значения"
   ]
  },
  {
   "cell_type": "code",
   "execution_count": 38,
   "metadata": {},
   "outputs": [
    {
     "data": {
      "text/plain": [
       "Price                    0\n",
       "VehicleType           2961\n",
       "RegistrationYear         0\n",
       "Gearbox               3531\n",
       "Power                    0\n",
       "Model                 8330\n",
       "Kilometer                0\n",
       "RegistrationMonth        0\n",
       "FuelType              9341\n",
       "Brand                    0\n",
       "NotRepaired          31649\n",
       "dtype: int64"
      ]
     },
     "execution_count": 38,
     "metadata": {},
     "output_type": "execute_result"
    }
   ],
   "source": [
    "df.isna().sum()"
   ]
  },
  {
   "cell_type": "markdown",
   "metadata": {},
   "source": [
    "Мы видим что в целевом столбце пропуски отстуствуют, это хорошо.  \n",
    "В других 5 столбцах у нас присутствует большое количество пропусков.  \n",
    "С первого взгляда, можно заметить что пропуски в столбце NotRepaired могли быть связаны с тем, что авто ни разу не подвергалось ремонту, поэтому заполним их нулями:"
   ]
  },
  {
   "cell_type": "code",
   "execution_count": 39,
   "metadata": {},
   "outputs": [
    {
     "data": {
      "text/plain": [
       "no     198272\n",
       "yes     24928\n",
       "Name: NotRepaired, dtype: int64"
      ]
     },
     "execution_count": 39,
     "metadata": {},
     "output_type": "execute_result"
    }
   ],
   "source": [
    "df['NotRepaired'].value_counts()"
   ]
  },
  {
   "cell_type": "code",
   "execution_count": 40,
   "metadata": {},
   "outputs": [
    {
     "data": {
      "text/plain": [
       "0"
      ]
     },
     "execution_count": 40,
     "metadata": {},
     "output_type": "execute_result"
    }
   ],
   "source": [
    "df['NotRepaired'] = df['NotRepaired'].fillna('no')\n",
    "df['NotRepaired'].isna().sum()"
   ]
  },
  {
   "cell_type": "code",
   "execution_count": 41,
   "metadata": {},
   "outputs": [
    {
     "data": {
      "text/plain": [
       "(254849, 11)"
      ]
     },
     "execution_count": 41,
     "metadata": {},
     "output_type": "execute_result"
    }
   ],
   "source": [
    "df.shape"
   ]
  },
  {
   "cell_type": "code",
   "execution_count": 42,
   "metadata": {},
   "outputs": [
    {
     "data": {
      "text/plain": [
       "24163"
      ]
     },
     "execution_count": 42,
     "metadata": {},
     "output_type": "execute_result"
    }
   ],
   "source": [
    "df.isna().sum().sum()"
   ]
  },
  {
   "cell_type": "markdown",
   "metadata": {},
   "source": [
    "У нас осталось много пропусков, но т.к. они находятся в категориальных переменных, мы не сможем подобрать хороший метод для их заполнения. Придётся их удалить."
   ]
  },
  {
   "cell_type": "code",
   "execution_count": 43,
   "metadata": {},
   "outputs": [
    {
     "data": {
      "text/plain": [
       "0"
      ]
     },
     "execution_count": 43,
     "metadata": {},
     "output_type": "execute_result"
    }
   ],
   "source": [
    "df = df.dropna().reset_index(drop = True)\n",
    "df.isna().sum().sum()"
   ]
  },
  {
   "cell_type": "markdown",
   "metadata": {},
   "source": [
    "### Вывод \n",
    "\n",
    "1. В данном проекте нам необходимо решить задачу регрессии, т.к. целевая переменная, по заданию, у нас - столбец с ценой\n",
    "2. В каждой строке таблицы представлена информация об одном автомобиле с его характеристиками (такими как год регистрации, пробег, мощность, тип кузова и др.)\n",
    "3. Все типы данных и названия столбцов корректны изначально, кроме дат, которые были преобразованы в datetime на первом шаге при загрузке датафрейма\n",
    "4. Мы избавились от несоответсующих действительности значений в столбцах, а также от ненужных столбцов с датами и почтовым индексом, от дубликатов и заменили по логике пропуски в столбце с ремонтом."
   ]
  },
  {
   "cell_type": "markdown",
   "metadata": {},
   "source": [
    "## Обучение моделей"
   ]
  },
  {
   "cell_type": "markdown",
   "metadata": {},
   "source": [
    "### Линейная регрессия"
   ]
  },
  {
   "cell_type": "markdown",
   "metadata": {},
   "source": [
    "#### Кодирование данных\n",
    "\n",
    "Для линейной регрессии необходимо кодировать категориальные признаки и потом отмасштабировать.  \n",
    "\n",
    "Для кодирования категориальных признаков с небольшим количеством значений в столбце используем метод прямого кодирования(OHE):"
   ]
  },
  {
   "cell_type": "code",
   "execution_count": 44,
   "metadata": {},
   "outputs": [
    {
     "data": {
      "text/html": [
       "<div>\n",
       "<style scoped>\n",
       "    .dataframe tbody tr th:only-of-type {\n",
       "        vertical-align: middle;\n",
       "    }\n",
       "\n",
       "    .dataframe tbody tr th {\n",
       "        vertical-align: top;\n",
       "    }\n",
       "\n",
       "    .dataframe thead th {\n",
       "        text-align: right;\n",
       "    }\n",
       "</style>\n",
       "<table border=\"1\" class=\"dataframe\">\n",
       "  <thead>\n",
       "    <tr style=\"text-align: right;\">\n",
       "      <th></th>\n",
       "      <th>VehicleType</th>\n",
       "      <th>Gearbox</th>\n",
       "      <th>Model</th>\n",
       "      <th>FuelType</th>\n",
       "      <th>Brand</th>\n",
       "      <th>NotRepaired</th>\n",
       "    </tr>\n",
       "  </thead>\n",
       "  <tbody>\n",
       "    <tr>\n",
       "      <td>count</td>\n",
       "      <td>234633</td>\n",
       "      <td>234633</td>\n",
       "      <td>234633</td>\n",
       "      <td>234633</td>\n",
       "      <td>234633</td>\n",
       "      <td>234633</td>\n",
       "    </tr>\n",
       "    <tr>\n",
       "      <td>unique</td>\n",
       "      <td>8</td>\n",
       "      <td>2</td>\n",
       "      <td>249</td>\n",
       "      <td>7</td>\n",
       "      <td>39</td>\n",
       "      <td>2</td>\n",
       "    </tr>\n",
       "    <tr>\n",
       "      <td>top</td>\n",
       "      <td>sedan</td>\n",
       "      <td>manual</td>\n",
       "      <td>golf</td>\n",
       "      <td>petrol</td>\n",
       "      <td>volkswagen</td>\n",
       "      <td>no</td>\n",
       "    </tr>\n",
       "    <tr>\n",
       "      <td>freq</td>\n",
       "      <td>69057</td>\n",
       "      <td>186108</td>\n",
       "      <td>19427</td>\n",
       "      <td>155182</td>\n",
       "      <td>49615</td>\n",
       "      <td>212439</td>\n",
       "    </tr>\n",
       "  </tbody>\n",
       "</table>\n",
       "</div>"
      ],
      "text/plain": [
       "       VehicleType Gearbox   Model FuelType       Brand NotRepaired\n",
       "count       234633  234633  234633   234633      234633      234633\n",
       "unique           8       2     249        7          39           2\n",
       "top          sedan  manual    golf   petrol  volkswagen          no\n",
       "freq         69057  186108   19427   155182       49615      212439"
      ]
     },
     "execution_count": 44,
     "metadata": {},
     "output_type": "execute_result"
    }
   ],
   "source": [
    "df.describe(include='object')"
   ]
  },
  {
   "cell_type": "code",
   "execution_count": 45,
   "metadata": {},
   "outputs": [
    {
     "data": {
      "text/html": [
       "<div>\n",
       "<style scoped>\n",
       "    .dataframe tbody tr th:only-of-type {\n",
       "        vertical-align: middle;\n",
       "    }\n",
       "\n",
       "    .dataframe tbody tr th {\n",
       "        vertical-align: top;\n",
       "    }\n",
       "\n",
       "    .dataframe thead th {\n",
       "        text-align: right;\n",
       "    }\n",
       "</style>\n",
       "<table border=\"1\" class=\"dataframe\">\n",
       "  <thead>\n",
       "    <tr style=\"text-align: right;\">\n",
       "      <th></th>\n",
       "      <th>Price</th>\n",
       "      <th>RegistrationYear</th>\n",
       "      <th>Power</th>\n",
       "      <th>Model</th>\n",
       "      <th>Kilometer</th>\n",
       "      <th>RegistrationMonth</th>\n",
       "      <th>Brand</th>\n",
       "      <th>VehicleType_convertible</th>\n",
       "      <th>VehicleType_coupe</th>\n",
       "      <th>VehicleType_other</th>\n",
       "      <th>VehicleType_sedan</th>\n",
       "      <th>VehicleType_small</th>\n",
       "      <th>VehicleType_suv</th>\n",
       "      <th>VehicleType_wagon</th>\n",
       "      <th>Gearbox_manual</th>\n",
       "      <th>FuelType_electric</th>\n",
       "      <th>FuelType_gasoline</th>\n",
       "      <th>FuelType_hybrid</th>\n",
       "      <th>FuelType_lpg</th>\n",
       "      <th>FuelType_other</th>\n",
       "      <th>FuelType_petrol</th>\n",
       "      <th>NotRepaired_yes</th>\n",
       "    </tr>\n",
       "  </thead>\n",
       "  <tbody>\n",
       "    <tr>\n",
       "      <td>0</td>\n",
       "      <td>9800</td>\n",
       "      <td>2004</td>\n",
       "      <td>163</td>\n",
       "      <td>grand</td>\n",
       "      <td>125000</td>\n",
       "      <td>8</td>\n",
       "      <td>jeep</td>\n",
       "      <td>0</td>\n",
       "      <td>0</td>\n",
       "      <td>0</td>\n",
       "      <td>0</td>\n",
       "      <td>0</td>\n",
       "      <td>1</td>\n",
       "      <td>0</td>\n",
       "      <td>0</td>\n",
       "      <td>0</td>\n",
       "      <td>1</td>\n",
       "      <td>0</td>\n",
       "      <td>0</td>\n",
       "      <td>0</td>\n",
       "      <td>0</td>\n",
       "      <td>0</td>\n",
       "    </tr>\n",
       "    <tr>\n",
       "      <td>1</td>\n",
       "      <td>1500</td>\n",
       "      <td>2001</td>\n",
       "      <td>75</td>\n",
       "      <td>golf</td>\n",
       "      <td>150000</td>\n",
       "      <td>6</td>\n",
       "      <td>volkswagen</td>\n",
       "      <td>0</td>\n",
       "      <td>0</td>\n",
       "      <td>0</td>\n",
       "      <td>0</td>\n",
       "      <td>1</td>\n",
       "      <td>0</td>\n",
       "      <td>0</td>\n",
       "      <td>1</td>\n",
       "      <td>0</td>\n",
       "      <td>0</td>\n",
       "      <td>0</td>\n",
       "      <td>0</td>\n",
       "      <td>0</td>\n",
       "      <td>1</td>\n",
       "      <td>0</td>\n",
       "    </tr>\n",
       "    <tr>\n",
       "      <td>2</td>\n",
       "      <td>3600</td>\n",
       "      <td>2008</td>\n",
       "      <td>69</td>\n",
       "      <td>fabia</td>\n",
       "      <td>90000</td>\n",
       "      <td>7</td>\n",
       "      <td>skoda</td>\n",
       "      <td>0</td>\n",
       "      <td>0</td>\n",
       "      <td>0</td>\n",
       "      <td>0</td>\n",
       "      <td>1</td>\n",
       "      <td>0</td>\n",
       "      <td>0</td>\n",
       "      <td>1</td>\n",
       "      <td>0</td>\n",
       "      <td>1</td>\n",
       "      <td>0</td>\n",
       "      <td>0</td>\n",
       "      <td>0</td>\n",
       "      <td>0</td>\n",
       "      <td>0</td>\n",
       "    </tr>\n",
       "    <tr>\n",
       "      <td>3</td>\n",
       "      <td>650</td>\n",
       "      <td>1995</td>\n",
       "      <td>102</td>\n",
       "      <td>3er</td>\n",
       "      <td>150000</td>\n",
       "      <td>10</td>\n",
       "      <td>bmw</td>\n",
       "      <td>0</td>\n",
       "      <td>0</td>\n",
       "      <td>0</td>\n",
       "      <td>1</td>\n",
       "      <td>0</td>\n",
       "      <td>0</td>\n",
       "      <td>0</td>\n",
       "      <td>1</td>\n",
       "      <td>0</td>\n",
       "      <td>0</td>\n",
       "      <td>0</td>\n",
       "      <td>0</td>\n",
       "      <td>0</td>\n",
       "      <td>1</td>\n",
       "      <td>1</td>\n",
       "    </tr>\n",
       "    <tr>\n",
       "      <td>4</td>\n",
       "      <td>2200</td>\n",
       "      <td>2004</td>\n",
       "      <td>109</td>\n",
       "      <td>2_reihe</td>\n",
       "      <td>150000</td>\n",
       "      <td>8</td>\n",
       "      <td>peugeot</td>\n",
       "      <td>1</td>\n",
       "      <td>0</td>\n",
       "      <td>0</td>\n",
       "      <td>0</td>\n",
       "      <td>0</td>\n",
       "      <td>0</td>\n",
       "      <td>0</td>\n",
       "      <td>1</td>\n",
       "      <td>0</td>\n",
       "      <td>0</td>\n",
       "      <td>0</td>\n",
       "      <td>0</td>\n",
       "      <td>0</td>\n",
       "      <td>1</td>\n",
       "      <td>0</td>\n",
       "    </tr>\n",
       "  </tbody>\n",
       "</table>\n",
       "</div>"
      ],
      "text/plain": [
       "   Price  RegistrationYear  Power    Model  Kilometer  RegistrationMonth  \\\n",
       "0   9800              2004    163    grand     125000                  8   \n",
       "1   1500              2001     75     golf     150000                  6   \n",
       "2   3600              2008     69    fabia      90000                  7   \n",
       "3    650              1995    102      3er     150000                 10   \n",
       "4   2200              2004    109  2_reihe     150000                  8   \n",
       "\n",
       "        Brand  VehicleType_convertible  VehicleType_coupe  VehicleType_other  \\\n",
       "0        jeep                        0                  0                  0   \n",
       "1  volkswagen                        0                  0                  0   \n",
       "2       skoda                        0                  0                  0   \n",
       "3         bmw                        0                  0                  0   \n",
       "4     peugeot                        1                  0                  0   \n",
       "\n",
       "   VehicleType_sedan  VehicleType_small  VehicleType_suv  VehicleType_wagon  \\\n",
       "0                  0                  0                1                  0   \n",
       "1                  0                  1                0                  0   \n",
       "2                  0                  1                0                  0   \n",
       "3                  1                  0                0                  0   \n",
       "4                  0                  0                0                  0   \n",
       "\n",
       "   Gearbox_manual  FuelType_electric  FuelType_gasoline  FuelType_hybrid  \\\n",
       "0               0                  0                  1                0   \n",
       "1               1                  0                  0                0   \n",
       "2               1                  0                  1                0   \n",
       "3               1                  0                  0                0   \n",
       "4               1                  0                  0                0   \n",
       "\n",
       "   FuelType_lpg  FuelType_other  FuelType_petrol  NotRepaired_yes  \n",
       "0             0               0                0                0  \n",
       "1             0               0                1                0  \n",
       "2             0               0                0                0  \n",
       "3             0               0                1                1  \n",
       "4             0               0                1                0  "
      ]
     },
     "execution_count": 45,
     "metadata": {},
     "output_type": "execute_result"
    }
   ],
   "source": [
    "df_edited = pd.get_dummies(df, columns=['VehicleType', 'Gearbox', 'FuelType', 'NotRepaired'], drop_first=True)\n",
    "df_edited.head()"
   ]
  },
  {
   "cell_type": "code",
   "execution_count": 46,
   "metadata": {},
   "outputs": [
    {
     "data": {
      "text/html": [
       "<div>\n",
       "<style scoped>\n",
       "    .dataframe tbody tr th:only-of-type {\n",
       "        vertical-align: middle;\n",
       "    }\n",
       "\n",
       "    .dataframe tbody tr th {\n",
       "        vertical-align: top;\n",
       "    }\n",
       "\n",
       "    .dataframe thead th {\n",
       "        text-align: right;\n",
       "    }\n",
       "</style>\n",
       "<table border=\"1\" class=\"dataframe\">\n",
       "  <thead>\n",
       "    <tr style=\"text-align: right;\">\n",
       "      <th></th>\n",
       "      <th>Model</th>\n",
       "      <th>Brand</th>\n",
       "    </tr>\n",
       "  </thead>\n",
       "  <tbody>\n",
       "    <tr>\n",
       "      <td>count</td>\n",
       "      <td>234633</td>\n",
       "      <td>234633</td>\n",
       "    </tr>\n",
       "    <tr>\n",
       "      <td>unique</td>\n",
       "      <td>249</td>\n",
       "      <td>39</td>\n",
       "    </tr>\n",
       "    <tr>\n",
       "      <td>top</td>\n",
       "      <td>golf</td>\n",
       "      <td>volkswagen</td>\n",
       "    </tr>\n",
       "    <tr>\n",
       "      <td>freq</td>\n",
       "      <td>19427</td>\n",
       "      <td>49615</td>\n",
       "    </tr>\n",
       "  </tbody>\n",
       "</table>\n",
       "</div>"
      ],
      "text/plain": [
       "         Model       Brand\n",
       "count   234633      234633\n",
       "unique     249          39\n",
       "top       golf  volkswagen\n",
       "freq     19427       49615"
      ]
     },
     "execution_count": 46,
     "metadata": {},
     "output_type": "execute_result"
    }
   ],
   "source": [
    "df_edited.describe(include='object')"
   ]
  },
  {
   "cell_type": "markdown",
   "metadata": {},
   "source": [
    "#### Деление данных на целевой признак и остальные\n",
    "\n",
    "Разделим исходные данные на признаки (фичи) и целевой признак (таргет)"
   ]
  },
  {
   "cell_type": "code",
   "execution_count": 47,
   "metadata": {},
   "outputs": [
    {
     "name": "stdout",
     "output_type": "stream",
     "text": [
      "Размер исходного датафрейма: (234633, 22) \n",
      "Размер features: (234633, 21) \n",
      "Размер target: (234633,)\n"
     ]
    }
   ],
   "source": [
    "features_lr = df_edited.drop(['Price'], axis = 1)\n",
    "target_lr = df_edited['Price']\n",
    "\n",
    "print('Размер исходного датафрейма:', df_edited.shape,\n",
    "      '\\nРазмер features:', features_lr.shape,\n",
    "      '\\nРазмер target:', target_lr.shape)"
   ]
  },
  {
   "cell_type": "markdown",
   "metadata": {},
   "source": [
    "#### Ordinal Encoding\n",
    "\n",
    "А для остальных категориальных столбцов с большим количеством значений применим порядковое кодирование (Ordinal Encoding):"
   ]
  },
  {
   "cell_type": "code",
   "execution_count": 48,
   "metadata": {},
   "outputs": [
    {
     "data": {
      "text/html": [
       "<div>\n",
       "<style scoped>\n",
       "    .dataframe tbody tr th:only-of-type {\n",
       "        vertical-align: middle;\n",
       "    }\n",
       "\n",
       "    .dataframe tbody tr th {\n",
       "        vertical-align: top;\n",
       "    }\n",
       "\n",
       "    .dataframe thead th {\n",
       "        text-align: right;\n",
       "    }\n",
       "</style>\n",
       "<table border=\"1\" class=\"dataframe\">\n",
       "  <thead>\n",
       "    <tr style=\"text-align: right;\">\n",
       "      <th></th>\n",
       "      <th>RegistrationYear</th>\n",
       "      <th>Power</th>\n",
       "      <th>Model</th>\n",
       "      <th>Kilometer</th>\n",
       "      <th>RegistrationMonth</th>\n",
       "      <th>Brand</th>\n",
       "      <th>VehicleType_convertible</th>\n",
       "      <th>VehicleType_coupe</th>\n",
       "      <th>VehicleType_other</th>\n",
       "      <th>VehicleType_sedan</th>\n",
       "      <th>VehicleType_small</th>\n",
       "      <th>VehicleType_suv</th>\n",
       "      <th>VehicleType_wagon</th>\n",
       "      <th>Gearbox_manual</th>\n",
       "      <th>FuelType_electric</th>\n",
       "      <th>FuelType_gasoline</th>\n",
       "      <th>FuelType_hybrid</th>\n",
       "      <th>FuelType_lpg</th>\n",
       "      <th>FuelType_other</th>\n",
       "      <th>FuelType_petrol</th>\n",
       "      <th>NotRepaired_yes</th>\n",
       "    </tr>\n",
       "  </thead>\n",
       "  <tbody>\n",
       "    <tr>\n",
       "      <td>0</td>\n",
       "      <td>2004</td>\n",
       "      <td>163</td>\n",
       "      <td>117.0</td>\n",
       "      <td>125000</td>\n",
       "      <td>8</td>\n",
       "      <td>14.0</td>\n",
       "      <td>0</td>\n",
       "      <td>0</td>\n",
       "      <td>0</td>\n",
       "      <td>0</td>\n",
       "      <td>0</td>\n",
       "      <td>1</td>\n",
       "      <td>0</td>\n",
       "      <td>0</td>\n",
       "      <td>0</td>\n",
       "      <td>1</td>\n",
       "      <td>0</td>\n",
       "      <td>0</td>\n",
       "      <td>0</td>\n",
       "      <td>0</td>\n",
       "      <td>0</td>\n",
       "    </tr>\n",
       "    <tr>\n",
       "      <td>1</td>\n",
       "      <td>2001</td>\n",
       "      <td>75</td>\n",
       "      <td>116.0</td>\n",
       "      <td>150000</td>\n",
       "      <td>6</td>\n",
       "      <td>37.0</td>\n",
       "      <td>0</td>\n",
       "      <td>0</td>\n",
       "      <td>0</td>\n",
       "      <td>0</td>\n",
       "      <td>1</td>\n",
       "      <td>0</td>\n",
       "      <td>0</td>\n",
       "      <td>1</td>\n",
       "      <td>0</td>\n",
       "      <td>0</td>\n",
       "      <td>0</td>\n",
       "      <td>0</td>\n",
       "      <td>0</td>\n",
       "      <td>1</td>\n",
       "      <td>0</td>\n",
       "    </tr>\n",
       "    <tr>\n",
       "      <td>2</td>\n",
       "      <td>2008</td>\n",
       "      <td>69</td>\n",
       "      <td>101.0</td>\n",
       "      <td>90000</td>\n",
       "      <td>7</td>\n",
       "      <td>31.0</td>\n",
       "      <td>0</td>\n",
       "      <td>0</td>\n",
       "      <td>0</td>\n",
       "      <td>0</td>\n",
       "      <td>1</td>\n",
       "      <td>0</td>\n",
       "      <td>0</td>\n",
       "      <td>1</td>\n",
       "      <td>0</td>\n",
       "      <td>1</td>\n",
       "      <td>0</td>\n",
       "      <td>0</td>\n",
       "      <td>0</td>\n",
       "      <td>0</td>\n",
       "      <td>0</td>\n",
       "    </tr>\n",
       "    <tr>\n",
       "      <td>3</td>\n",
       "      <td>1995</td>\n",
       "      <td>102</td>\n",
       "      <td>11.0</td>\n",
       "      <td>150000</td>\n",
       "      <td>10</td>\n",
       "      <td>2.0</td>\n",
       "      <td>0</td>\n",
       "      <td>0</td>\n",
       "      <td>0</td>\n",
       "      <td>1</td>\n",
       "      <td>0</td>\n",
       "      <td>0</td>\n",
       "      <td>0</td>\n",
       "      <td>1</td>\n",
       "      <td>0</td>\n",
       "      <td>0</td>\n",
       "      <td>0</td>\n",
       "      <td>0</td>\n",
       "      <td>0</td>\n",
       "      <td>1</td>\n",
       "      <td>1</td>\n",
       "    </tr>\n",
       "    <tr>\n",
       "      <td>4</td>\n",
       "      <td>2004</td>\n",
       "      <td>109</td>\n",
       "      <td>8.0</td>\n",
       "      <td>150000</td>\n",
       "      <td>8</td>\n",
       "      <td>25.0</td>\n",
       "      <td>1</td>\n",
       "      <td>0</td>\n",
       "      <td>0</td>\n",
       "      <td>0</td>\n",
       "      <td>0</td>\n",
       "      <td>0</td>\n",
       "      <td>0</td>\n",
       "      <td>1</td>\n",
       "      <td>0</td>\n",
       "      <td>0</td>\n",
       "      <td>0</td>\n",
       "      <td>0</td>\n",
       "      <td>0</td>\n",
       "      <td>1</td>\n",
       "      <td>0</td>\n",
       "    </tr>\n",
       "  </tbody>\n",
       "</table>\n",
       "</div>"
      ],
      "text/plain": [
       "   RegistrationYear  Power  Model  Kilometer  RegistrationMonth  Brand  \\\n",
       "0              2004    163  117.0     125000                  8   14.0   \n",
       "1              2001     75  116.0     150000                  6   37.0   \n",
       "2              2008     69  101.0      90000                  7   31.0   \n",
       "3              1995    102   11.0     150000                 10    2.0   \n",
       "4              2004    109    8.0     150000                  8   25.0   \n",
       "\n",
       "   VehicleType_convertible  VehicleType_coupe  VehicleType_other  \\\n",
       "0                        0                  0                  0   \n",
       "1                        0                  0                  0   \n",
       "2                        0                  0                  0   \n",
       "3                        0                  0                  0   \n",
       "4                        1                  0                  0   \n",
       "\n",
       "   VehicleType_sedan  VehicleType_small  VehicleType_suv  VehicleType_wagon  \\\n",
       "0                  0                  0                1                  0   \n",
       "1                  0                  1                0                  0   \n",
       "2                  0                  1                0                  0   \n",
       "3                  1                  0                0                  0   \n",
       "4                  0                  0                0                  0   \n",
       "\n",
       "   Gearbox_manual  FuelType_electric  FuelType_gasoline  FuelType_hybrid  \\\n",
       "0               0                  0                  1                0   \n",
       "1               1                  0                  0                0   \n",
       "2               1                  0                  1                0   \n",
       "3               1                  0                  0                0   \n",
       "4               1                  0                  0                0   \n",
       "\n",
       "   FuelType_lpg  FuelType_other  FuelType_petrol  NotRepaired_yes  \n",
       "0             0               0                0                0  \n",
       "1             0               0                1                0  \n",
       "2             0               0                0                0  \n",
       "3             0               0                1                1  \n",
       "4             0               0                1                0  "
      ]
     },
     "execution_count": 48,
     "metadata": {},
     "output_type": "execute_result"
    }
   ],
   "source": [
    "encoder = OrdinalEncoder()\n",
    "features_lr[['Model', 'Brand']] = pd.DataFrame(encoder.fit_transform(features_lr[['Model', 'Brand']]), \n",
    "                                               columns=['Model', 'Brand'])\n",
    "features_lr.head()"
   ]
  },
  {
   "cell_type": "markdown",
   "metadata": {},
   "source": [
    "#### Деление на тренировочную и тестовую выборки\n",
    "Объявим 4 переменные и запишем в них признаки и таргет обучающей выборки и тестовой выборки (для теста определим размер = 25%)"
   ]
  },
  {
   "cell_type": "code",
   "execution_count": 49,
   "metadata": {},
   "outputs": [
    {
     "name": "stdout",
     "output_type": "stream",
     "text": [
      "Размер train: (175974, 21) (175974,) \n",
      "Размер test: (58659, 21) (58659,)\n"
     ]
    }
   ],
   "source": [
    "features_train_lr, features_test_lr, target_train_lr, target_test_lr = train_test_split(\n",
    "    features_lr, target_lr, test_size=0.25, random_state=42)\n",
    "\n",
    "print('Размер train:', features_train_lr.shape, target_train_lr.shape,\n",
    "      '\\nРазмер test:', features_test_lr.shape, target_test_lr.shape)"
   ]
  },
  {
   "cell_type": "markdown",
   "metadata": {},
   "source": [
    "#### Стандартизация данных\n",
    "\n",
    "Мы видим, что данные имеют большой разброс, следовательно перед обучением модели линейной регрессии, нам необходимо отмасштабировать данные методом стандартизации. Для того, чтобы избежать переобучения, обучим стандартизатор на тренировочном датасете, а стандартизировать будем всё:"
   ]
  },
  {
   "cell_type": "code",
   "execution_count": 50,
   "metadata": {},
   "outputs": [
    {
     "data": {
      "text/plain": [
       "Index(['RegistrationYear', 'Power', 'Model', 'Kilometer', 'RegistrationMonth',\n",
       "       'Brand', 'VehicleType_convertible', 'VehicleType_coupe',\n",
       "       'VehicleType_other', 'VehicleType_sedan', 'VehicleType_small',\n",
       "       'VehicleType_suv', 'VehicleType_wagon', 'Gearbox_manual',\n",
       "       'FuelType_electric', 'FuelType_gasoline', 'FuelType_hybrid',\n",
       "       'FuelType_lpg', 'FuelType_other', 'FuelType_petrol', 'NotRepaired_yes'],\n",
       "      dtype='object')"
      ]
     },
     "execution_count": 50,
     "metadata": {},
     "output_type": "execute_result"
    }
   ],
   "source": [
    "features_train_lr.columns"
   ]
  },
  {
   "cell_type": "code",
   "execution_count": 51,
   "metadata": {},
   "outputs": [
    {
     "data": {
      "text/html": [
       "<div>\n",
       "<style scoped>\n",
       "    .dataframe tbody tr th:only-of-type {\n",
       "        vertical-align: middle;\n",
       "    }\n",
       "\n",
       "    .dataframe tbody tr th {\n",
       "        vertical-align: top;\n",
       "    }\n",
       "\n",
       "    .dataframe thead th {\n",
       "        text-align: right;\n",
       "    }\n",
       "</style>\n",
       "<table border=\"1\" class=\"dataframe\">\n",
       "  <thead>\n",
       "    <tr style=\"text-align: right;\">\n",
       "      <th></th>\n",
       "      <th>RegistrationYear</th>\n",
       "      <th>Power</th>\n",
       "      <th>Model</th>\n",
       "      <th>Kilometer</th>\n",
       "      <th>RegistrationMonth</th>\n",
       "      <th>Brand</th>\n",
       "      <th>VehicleType_convertible</th>\n",
       "      <th>VehicleType_coupe</th>\n",
       "      <th>VehicleType_other</th>\n",
       "      <th>VehicleType_sedan</th>\n",
       "      <th>VehicleType_small</th>\n",
       "      <th>VehicleType_suv</th>\n",
       "      <th>VehicleType_wagon</th>\n",
       "      <th>Gearbox_manual</th>\n",
       "      <th>FuelType_electric</th>\n",
       "      <th>FuelType_gasoline</th>\n",
       "      <th>FuelType_hybrid</th>\n",
       "      <th>FuelType_lpg</th>\n",
       "      <th>FuelType_other</th>\n",
       "      <th>FuelType_petrol</th>\n",
       "      <th>NotRepaired_yes</th>\n",
       "    </tr>\n",
       "  </thead>\n",
       "  <tbody>\n",
       "    <tr>\n",
       "      <td>0</td>\n",
       "      <td>0.680266</td>\n",
       "      <td>0.335220</td>\n",
       "      <td>-0.490921</td>\n",
       "      <td>-0.073201</td>\n",
       "      <td>0.485360</td>\n",
       "      <td>-0.702217</td>\n",
       "      <td>-0.266582</td>\n",
       "      <td>-0.231267</td>\n",
       "      <td>-0.089681</td>\n",
       "      <td>1.550383</td>\n",
       "      <td>-0.559599</td>\n",
       "      <td>-0.199535</td>\n",
       "      <td>-0.513402</td>\n",
       "      <td>0.510927</td>\n",
       "      <td>-0.013058</td>\n",
       "      <td>-0.685406</td>\n",
       "      <td>-0.02698</td>\n",
       "      <td>-0.128899</td>\n",
       "      <td>-0.015266</td>\n",
       "      <td>0.715941</td>\n",
       "      <td>3.102652</td>\n",
       "    </tr>\n",
       "    <tr>\n",
       "      <td>1</td>\n",
       "      <td>0.018885</td>\n",
       "      <td>1.799868</td>\n",
       "      <td>-1.308656</td>\n",
       "      <td>0.607368</td>\n",
       "      <td>0.485360</td>\n",
       "      <td>-1.390987</td>\n",
       "      <td>-0.266582</td>\n",
       "      <td>-0.231267</td>\n",
       "      <td>-0.089681</td>\n",
       "      <td>1.550383</td>\n",
       "      <td>-0.559599</td>\n",
       "      <td>-0.199535</td>\n",
       "      <td>-0.513402</td>\n",
       "      <td>-1.957226</td>\n",
       "      <td>-0.013058</td>\n",
       "      <td>1.458989</td>\n",
       "      <td>-0.02698</td>\n",
       "      <td>-0.128899</td>\n",
       "      <td>-0.015266</td>\n",
       "      <td>-1.396764</td>\n",
       "      <td>-0.322305</td>\n",
       "    </tr>\n",
       "    <tr>\n",
       "      <td>2</td>\n",
       "      <td>0.845611</td>\n",
       "      <td>-0.603656</td>\n",
       "      <td>-0.927986</td>\n",
       "      <td>0.607368</td>\n",
       "      <td>0.485360</td>\n",
       "      <td>0.292673</td>\n",
       "      <td>-0.266582</td>\n",
       "      <td>-0.231267</td>\n",
       "      <td>-0.089681</td>\n",
       "      <td>1.550383</td>\n",
       "      <td>-0.559599</td>\n",
       "      <td>-0.199535</td>\n",
       "      <td>-0.513402</td>\n",
       "      <td>0.510927</td>\n",
       "      <td>-0.013058</td>\n",
       "      <td>-0.685406</td>\n",
       "      <td>-0.02698</td>\n",
       "      <td>-0.128899</td>\n",
       "      <td>-0.015266</td>\n",
       "      <td>0.715941</td>\n",
       "      <td>-0.322305</td>\n",
       "    </tr>\n",
       "    <tr>\n",
       "      <td>3</td>\n",
       "      <td>-1.965257</td>\n",
       "      <td>-0.040330</td>\n",
       "      <td>-0.688305</td>\n",
       "      <td>0.607368</td>\n",
       "      <td>-1.605075</td>\n",
       "      <td>-0.013447</td>\n",
       "      <td>-0.266582</td>\n",
       "      <td>-0.231267</td>\n",
       "      <td>-0.089681</td>\n",
       "      <td>1.550383</td>\n",
       "      <td>-0.559599</td>\n",
       "      <td>-0.199535</td>\n",
       "      <td>-0.513402</td>\n",
       "      <td>0.510927</td>\n",
       "      <td>-0.013058</td>\n",
       "      <td>-0.685406</td>\n",
       "      <td>-0.02698</td>\n",
       "      <td>-0.128899</td>\n",
       "      <td>-0.015266</td>\n",
       "      <td>0.715941</td>\n",
       "      <td>-0.322305</td>\n",
       "    </tr>\n",
       "    <tr>\n",
       "      <td>4</td>\n",
       "      <td>1.176301</td>\n",
       "      <td>0.767104</td>\n",
       "      <td>-1.365052</td>\n",
       "      <td>-0.073201</td>\n",
       "      <td>1.082627</td>\n",
       "      <td>-1.390987</td>\n",
       "      <td>-0.266582</td>\n",
       "      <td>-0.231267</td>\n",
       "      <td>-0.089681</td>\n",
       "      <td>-0.645002</td>\n",
       "      <td>-0.559599</td>\n",
       "      <td>-0.199535</td>\n",
       "      <td>1.947790</td>\n",
       "      <td>0.510927</td>\n",
       "      <td>-0.013058</td>\n",
       "      <td>1.458989</td>\n",
       "      <td>-0.02698</td>\n",
       "      <td>-0.128899</td>\n",
       "      <td>-0.015266</td>\n",
       "      <td>-1.396764</td>\n",
       "      <td>-0.322305</td>\n",
       "    </tr>\n",
       "  </tbody>\n",
       "</table>\n",
       "</div>"
      ],
      "text/plain": [
       "   RegistrationYear     Power     Model  Kilometer  RegistrationMonth  \\\n",
       "0          0.680266  0.335220 -0.490921  -0.073201           0.485360   \n",
       "1          0.018885  1.799868 -1.308656   0.607368           0.485360   \n",
       "2          0.845611 -0.603656 -0.927986   0.607368           0.485360   \n",
       "3         -1.965257 -0.040330 -0.688305   0.607368          -1.605075   \n",
       "4          1.176301  0.767104 -1.365052  -0.073201           1.082627   \n",
       "\n",
       "      Brand  VehicleType_convertible  VehicleType_coupe  VehicleType_other  \\\n",
       "0 -0.702217                -0.266582          -0.231267          -0.089681   \n",
       "1 -1.390987                -0.266582          -0.231267          -0.089681   \n",
       "2  0.292673                -0.266582          -0.231267          -0.089681   \n",
       "3 -0.013447                -0.266582          -0.231267          -0.089681   \n",
       "4 -1.390987                -0.266582          -0.231267          -0.089681   \n",
       "\n",
       "   VehicleType_sedan  VehicleType_small  VehicleType_suv  VehicleType_wagon  \\\n",
       "0           1.550383          -0.559599        -0.199535          -0.513402   \n",
       "1           1.550383          -0.559599        -0.199535          -0.513402   \n",
       "2           1.550383          -0.559599        -0.199535          -0.513402   \n",
       "3           1.550383          -0.559599        -0.199535          -0.513402   \n",
       "4          -0.645002          -0.559599        -0.199535           1.947790   \n",
       "\n",
       "   Gearbox_manual  FuelType_electric  FuelType_gasoline  FuelType_hybrid  \\\n",
       "0        0.510927          -0.013058          -0.685406         -0.02698   \n",
       "1       -1.957226          -0.013058           1.458989         -0.02698   \n",
       "2        0.510927          -0.013058          -0.685406         -0.02698   \n",
       "3        0.510927          -0.013058          -0.685406         -0.02698   \n",
       "4        0.510927          -0.013058           1.458989         -0.02698   \n",
       "\n",
       "   FuelType_lpg  FuelType_other  FuelType_petrol  NotRepaired_yes  \n",
       "0     -0.128899       -0.015266         0.715941         3.102652  \n",
       "1     -0.128899       -0.015266        -1.396764        -0.322305  \n",
       "2     -0.128899       -0.015266         0.715941        -0.322305  \n",
       "3     -0.128899       -0.015266         0.715941        -0.322305  \n",
       "4     -0.128899       -0.015266        -1.396764        -0.322305  "
      ]
     },
     "execution_count": 51,
     "metadata": {},
     "output_type": "execute_result"
    }
   ],
   "source": [
    "scaler = StandardScaler()\n",
    "\n",
    "scaler.fit(features_train_lr) \n",
    "features_train_lr = pd.DataFrame(scaler.transform(features_train_lr), columns=features_train_lr.columns)\n",
    "features_test_lr = pd.DataFrame(scaler.transform(features_test_lr), columns=features_test_lr.columns)\n",
    "\n",
    "features_train_lr.head()"
   ]
  },
  {
   "cell_type": "markdown",
   "metadata": {},
   "source": [
    "#### Обучение модели ЛР, получение предсказаний и их оценка"
   ]
  },
  {
   "cell_type": "code",
   "execution_count": 53,
   "metadata": {},
   "outputs": [
    {
     "name": "stdout",
     "output_type": "stream",
     "text": [
      "rMSE: 2848.764144493187\n",
      "CPU times: user 274 ms, sys: 156 ms, total: 430 ms\n",
      "Wall time: 433 ms\n"
     ]
    }
   ],
   "source": [
    "%%time\n",
    "\n",
    "model_lr =  LinearRegression()\n",
    "model_lr.fit(features_train_lr, target_train_lr)\n",
    "prediction_lr = model_lr.predict(features_test_lr)\n",
    "\n",
    "mse_lr_1 = mean_squared_error(target_test_lr, prediction_lr).round(5)\n",
    "\n",
    "print('rMSE:', sqrt(mse_lr_1))"
   ]
  },
  {
   "cell_type": "markdown",
   "metadata": {},
   "source": [
    "#### ЛР (с зачищенными нулями в таргете)\n",
    "Проделаем все те же самые шаги но с удаленными из таргета нулями, чтобы посмотреть как изменятся показатели метрик качества в итоге.  \n",
    "1. Удаляем нули в таргете (столбец Price)"
   ]
  },
  {
   "cell_type": "code",
   "execution_count": 54,
   "metadata": {},
   "outputs": [
    {
     "data": {
      "text/plain": [
       "2951"
      ]
     },
     "execution_count": 54,
     "metadata": {},
     "output_type": "execute_result"
    }
   ],
   "source": [
    "df.query('Price == 0').Price.count()"
   ]
  },
  {
   "cell_type": "code",
   "execution_count": 55,
   "metadata": {},
   "outputs": [
    {
     "data": {
      "text/plain": [
       "0"
      ]
     },
     "execution_count": 55,
     "metadata": {},
     "output_type": "execute_result"
    }
   ],
   "source": [
    "df_clean = df.query('Price != 0')\n",
    "df_clean.query('Price == 0').Price.count()"
   ]
  },
  {
   "cell_type": "code",
   "execution_count": 56,
   "metadata": {},
   "outputs": [
    {
     "data": {
      "text/plain": [
       "0"
      ]
     },
     "execution_count": 56,
     "metadata": {},
     "output_type": "execute_result"
    }
   ],
   "source": [
    "df_clean.isna().sum().sum()"
   ]
  },
  {
   "cell_type": "markdown",
   "metadata": {},
   "source": [
    "2. Ohe-кодирование столбцов с малым кол-вом значений категорий:"
   ]
  },
  {
   "cell_type": "code",
   "execution_count": 57,
   "metadata": {},
   "outputs": [
    {
     "data": {
      "text/html": [
       "<div>\n",
       "<style scoped>\n",
       "    .dataframe tbody tr th:only-of-type {\n",
       "        vertical-align: middle;\n",
       "    }\n",
       "\n",
       "    .dataframe tbody tr th {\n",
       "        vertical-align: top;\n",
       "    }\n",
       "\n",
       "    .dataframe thead th {\n",
       "        text-align: right;\n",
       "    }\n",
       "</style>\n",
       "<table border=\"1\" class=\"dataframe\">\n",
       "  <thead>\n",
       "    <tr style=\"text-align: right;\">\n",
       "      <th></th>\n",
       "      <th>Price</th>\n",
       "      <th>RegistrationYear</th>\n",
       "      <th>Power</th>\n",
       "      <th>Model</th>\n",
       "      <th>Kilometer</th>\n",
       "      <th>RegistrationMonth</th>\n",
       "      <th>Brand</th>\n",
       "      <th>VehicleType_convertible</th>\n",
       "      <th>VehicleType_coupe</th>\n",
       "      <th>VehicleType_other</th>\n",
       "      <th>VehicleType_sedan</th>\n",
       "      <th>VehicleType_small</th>\n",
       "      <th>VehicleType_suv</th>\n",
       "      <th>VehicleType_wagon</th>\n",
       "      <th>Gearbox_manual</th>\n",
       "      <th>FuelType_electric</th>\n",
       "      <th>FuelType_gasoline</th>\n",
       "      <th>FuelType_hybrid</th>\n",
       "      <th>FuelType_lpg</th>\n",
       "      <th>FuelType_other</th>\n",
       "      <th>FuelType_petrol</th>\n",
       "      <th>NotRepaired_yes</th>\n",
       "    </tr>\n",
       "  </thead>\n",
       "  <tbody>\n",
       "    <tr>\n",
       "      <td>0</td>\n",
       "      <td>9800</td>\n",
       "      <td>2004</td>\n",
       "      <td>163</td>\n",
       "      <td>grand</td>\n",
       "      <td>125000</td>\n",
       "      <td>8</td>\n",
       "      <td>jeep</td>\n",
       "      <td>0</td>\n",
       "      <td>0</td>\n",
       "      <td>0</td>\n",
       "      <td>0</td>\n",
       "      <td>0</td>\n",
       "      <td>1</td>\n",
       "      <td>0</td>\n",
       "      <td>0</td>\n",
       "      <td>0</td>\n",
       "      <td>1</td>\n",
       "      <td>0</td>\n",
       "      <td>0</td>\n",
       "      <td>0</td>\n",
       "      <td>0</td>\n",
       "      <td>0</td>\n",
       "    </tr>\n",
       "    <tr>\n",
       "      <td>1</td>\n",
       "      <td>1500</td>\n",
       "      <td>2001</td>\n",
       "      <td>75</td>\n",
       "      <td>golf</td>\n",
       "      <td>150000</td>\n",
       "      <td>6</td>\n",
       "      <td>volkswagen</td>\n",
       "      <td>0</td>\n",
       "      <td>0</td>\n",
       "      <td>0</td>\n",
       "      <td>0</td>\n",
       "      <td>1</td>\n",
       "      <td>0</td>\n",
       "      <td>0</td>\n",
       "      <td>1</td>\n",
       "      <td>0</td>\n",
       "      <td>0</td>\n",
       "      <td>0</td>\n",
       "      <td>0</td>\n",
       "      <td>0</td>\n",
       "      <td>1</td>\n",
       "      <td>0</td>\n",
       "    </tr>\n",
       "    <tr>\n",
       "      <td>2</td>\n",
       "      <td>3600</td>\n",
       "      <td>2008</td>\n",
       "      <td>69</td>\n",
       "      <td>fabia</td>\n",
       "      <td>90000</td>\n",
       "      <td>7</td>\n",
       "      <td>skoda</td>\n",
       "      <td>0</td>\n",
       "      <td>0</td>\n",
       "      <td>0</td>\n",
       "      <td>0</td>\n",
       "      <td>1</td>\n",
       "      <td>0</td>\n",
       "      <td>0</td>\n",
       "      <td>1</td>\n",
       "      <td>0</td>\n",
       "      <td>1</td>\n",
       "      <td>0</td>\n",
       "      <td>0</td>\n",
       "      <td>0</td>\n",
       "      <td>0</td>\n",
       "      <td>0</td>\n",
       "    </tr>\n",
       "    <tr>\n",
       "      <td>3</td>\n",
       "      <td>650</td>\n",
       "      <td>1995</td>\n",
       "      <td>102</td>\n",
       "      <td>3er</td>\n",
       "      <td>150000</td>\n",
       "      <td>10</td>\n",
       "      <td>bmw</td>\n",
       "      <td>0</td>\n",
       "      <td>0</td>\n",
       "      <td>0</td>\n",
       "      <td>1</td>\n",
       "      <td>0</td>\n",
       "      <td>0</td>\n",
       "      <td>0</td>\n",
       "      <td>1</td>\n",
       "      <td>0</td>\n",
       "      <td>0</td>\n",
       "      <td>0</td>\n",
       "      <td>0</td>\n",
       "      <td>0</td>\n",
       "      <td>1</td>\n",
       "      <td>1</td>\n",
       "    </tr>\n",
       "    <tr>\n",
       "      <td>4</td>\n",
       "      <td>2200</td>\n",
       "      <td>2004</td>\n",
       "      <td>109</td>\n",
       "      <td>2_reihe</td>\n",
       "      <td>150000</td>\n",
       "      <td>8</td>\n",
       "      <td>peugeot</td>\n",
       "      <td>1</td>\n",
       "      <td>0</td>\n",
       "      <td>0</td>\n",
       "      <td>0</td>\n",
       "      <td>0</td>\n",
       "      <td>0</td>\n",
       "      <td>0</td>\n",
       "      <td>1</td>\n",
       "      <td>0</td>\n",
       "      <td>0</td>\n",
       "      <td>0</td>\n",
       "      <td>0</td>\n",
       "      <td>0</td>\n",
       "      <td>1</td>\n",
       "      <td>0</td>\n",
       "    </tr>\n",
       "  </tbody>\n",
       "</table>\n",
       "</div>"
      ],
      "text/plain": [
       "   Price  RegistrationYear  Power    Model  Kilometer  RegistrationMonth  \\\n",
       "0   9800              2004    163    grand     125000                  8   \n",
       "1   1500              2001     75     golf     150000                  6   \n",
       "2   3600              2008     69    fabia      90000                  7   \n",
       "3    650              1995    102      3er     150000                 10   \n",
       "4   2200              2004    109  2_reihe     150000                  8   \n",
       "\n",
       "        Brand  VehicleType_convertible  VehicleType_coupe  VehicleType_other  \\\n",
       "0        jeep                        0                  0                  0   \n",
       "1  volkswagen                        0                  0                  0   \n",
       "2       skoda                        0                  0                  0   \n",
       "3         bmw                        0                  0                  0   \n",
       "4     peugeot                        1                  0                  0   \n",
       "\n",
       "   VehicleType_sedan  VehicleType_small  VehicleType_suv  VehicleType_wagon  \\\n",
       "0                  0                  0                1                  0   \n",
       "1                  0                  1                0                  0   \n",
       "2                  0                  1                0                  0   \n",
       "3                  1                  0                0                  0   \n",
       "4                  0                  0                0                  0   \n",
       "\n",
       "   Gearbox_manual  FuelType_electric  FuelType_gasoline  FuelType_hybrid  \\\n",
       "0               0                  0                  1                0   \n",
       "1               1                  0                  0                0   \n",
       "2               1                  0                  1                0   \n",
       "3               1                  0                  0                0   \n",
       "4               1                  0                  0                0   \n",
       "\n",
       "   FuelType_lpg  FuelType_other  FuelType_petrol  NotRepaired_yes  \n",
       "0             0               0                0                0  \n",
       "1             0               0                1                0  \n",
       "2             0               0                0                0  \n",
       "3             0               0                1                1  \n",
       "4             0               0                1                0  "
      ]
     },
     "execution_count": 57,
     "metadata": {},
     "output_type": "execute_result"
    }
   ],
   "source": [
    "df_clean = pd.get_dummies(df_clean, columns=['VehicleType', 'Gearbox', 'FuelType', 'NotRepaired'], drop_first=True)\n",
    "df_clean.head()"
   ]
  },
  {
   "cell_type": "markdown",
   "metadata": {},
   "source": [
    "3. Деление датафрейма на тагрет и фичи"
   ]
  },
  {
   "cell_type": "code",
   "execution_count": 58,
   "metadata": {},
   "outputs": [
    {
     "name": "stdout",
     "output_type": "stream",
     "text": [
      "Размер исходного датафрейма: (231682, 22) \n",
      "Размер features: (231682, 21) \n",
      "Размер target: (231682,)\n"
     ]
    }
   ],
   "source": [
    "features_lr = df_clean.drop(['Price'], axis = 1)\n",
    "target_lr = df_clean['Price']\n",
    "\n",
    "print('Размер исходного датафрейма:', df_clean.shape,\n",
    "      '\\nРазмер features:', features_lr.shape,\n",
    "      '\\nРазмер target:', target_lr.shape)"
   ]
  },
  {
   "cell_type": "markdown",
   "metadata": {},
   "source": [
    "4. Порядковое кодирование остальных категориальных столбцов:"
   ]
  },
  {
   "cell_type": "code",
   "execution_count": 59,
   "metadata": {},
   "outputs": [
    {
     "data": {
      "text/html": [
       "<div>\n",
       "<style scoped>\n",
       "    .dataframe tbody tr th:only-of-type {\n",
       "        vertical-align: middle;\n",
       "    }\n",
       "\n",
       "    .dataframe tbody tr th {\n",
       "        vertical-align: top;\n",
       "    }\n",
       "\n",
       "    .dataframe thead th {\n",
       "        text-align: right;\n",
       "    }\n",
       "</style>\n",
       "<table border=\"1\" class=\"dataframe\">\n",
       "  <thead>\n",
       "    <tr style=\"text-align: right;\">\n",
       "      <th></th>\n",
       "      <th>RegistrationYear</th>\n",
       "      <th>Power</th>\n",
       "      <th>Model</th>\n",
       "      <th>Kilometer</th>\n",
       "      <th>RegistrationMonth</th>\n",
       "      <th>Brand</th>\n",
       "      <th>VehicleType_convertible</th>\n",
       "      <th>VehicleType_coupe</th>\n",
       "      <th>VehicleType_other</th>\n",
       "      <th>VehicleType_sedan</th>\n",
       "      <th>VehicleType_small</th>\n",
       "      <th>VehicleType_suv</th>\n",
       "      <th>VehicleType_wagon</th>\n",
       "      <th>Gearbox_manual</th>\n",
       "      <th>FuelType_electric</th>\n",
       "      <th>FuelType_gasoline</th>\n",
       "      <th>FuelType_hybrid</th>\n",
       "      <th>FuelType_lpg</th>\n",
       "      <th>FuelType_other</th>\n",
       "      <th>FuelType_petrol</th>\n",
       "      <th>NotRepaired_yes</th>\n",
       "    </tr>\n",
       "  </thead>\n",
       "  <tbody>\n",
       "    <tr>\n",
       "      <td>0</td>\n",
       "      <td>2004</td>\n",
       "      <td>163</td>\n",
       "      <td>117.0</td>\n",
       "      <td>125000</td>\n",
       "      <td>8</td>\n",
       "      <td>14.0</td>\n",
       "      <td>0</td>\n",
       "      <td>0</td>\n",
       "      <td>0</td>\n",
       "      <td>0</td>\n",
       "      <td>0</td>\n",
       "      <td>1</td>\n",
       "      <td>0</td>\n",
       "      <td>0</td>\n",
       "      <td>0</td>\n",
       "      <td>1</td>\n",
       "      <td>0</td>\n",
       "      <td>0</td>\n",
       "      <td>0</td>\n",
       "      <td>0</td>\n",
       "      <td>0</td>\n",
       "    </tr>\n",
       "    <tr>\n",
       "      <td>1</td>\n",
       "      <td>2001</td>\n",
       "      <td>75</td>\n",
       "      <td>116.0</td>\n",
       "      <td>150000</td>\n",
       "      <td>6</td>\n",
       "      <td>37.0</td>\n",
       "      <td>0</td>\n",
       "      <td>0</td>\n",
       "      <td>0</td>\n",
       "      <td>0</td>\n",
       "      <td>1</td>\n",
       "      <td>0</td>\n",
       "      <td>0</td>\n",
       "      <td>1</td>\n",
       "      <td>0</td>\n",
       "      <td>0</td>\n",
       "      <td>0</td>\n",
       "      <td>0</td>\n",
       "      <td>0</td>\n",
       "      <td>1</td>\n",
       "      <td>0</td>\n",
       "    </tr>\n",
       "    <tr>\n",
       "      <td>2</td>\n",
       "      <td>2008</td>\n",
       "      <td>69</td>\n",
       "      <td>101.0</td>\n",
       "      <td>90000</td>\n",
       "      <td>7</td>\n",
       "      <td>31.0</td>\n",
       "      <td>0</td>\n",
       "      <td>0</td>\n",
       "      <td>0</td>\n",
       "      <td>0</td>\n",
       "      <td>1</td>\n",
       "      <td>0</td>\n",
       "      <td>0</td>\n",
       "      <td>1</td>\n",
       "      <td>0</td>\n",
       "      <td>1</td>\n",
       "      <td>0</td>\n",
       "      <td>0</td>\n",
       "      <td>0</td>\n",
       "      <td>0</td>\n",
       "      <td>0</td>\n",
       "    </tr>\n",
       "    <tr>\n",
       "      <td>3</td>\n",
       "      <td>1995</td>\n",
       "      <td>102</td>\n",
       "      <td>11.0</td>\n",
       "      <td>150000</td>\n",
       "      <td>10</td>\n",
       "      <td>2.0</td>\n",
       "      <td>0</td>\n",
       "      <td>0</td>\n",
       "      <td>0</td>\n",
       "      <td>1</td>\n",
       "      <td>0</td>\n",
       "      <td>0</td>\n",
       "      <td>0</td>\n",
       "      <td>1</td>\n",
       "      <td>0</td>\n",
       "      <td>0</td>\n",
       "      <td>0</td>\n",
       "      <td>0</td>\n",
       "      <td>0</td>\n",
       "      <td>1</td>\n",
       "      <td>1</td>\n",
       "    </tr>\n",
       "    <tr>\n",
       "      <td>4</td>\n",
       "      <td>2004</td>\n",
       "      <td>109</td>\n",
       "      <td>8.0</td>\n",
       "      <td>150000</td>\n",
       "      <td>8</td>\n",
       "      <td>25.0</td>\n",
       "      <td>1</td>\n",
       "      <td>0</td>\n",
       "      <td>0</td>\n",
       "      <td>0</td>\n",
       "      <td>0</td>\n",
       "      <td>0</td>\n",
       "      <td>0</td>\n",
       "      <td>1</td>\n",
       "      <td>0</td>\n",
       "      <td>0</td>\n",
       "      <td>0</td>\n",
       "      <td>0</td>\n",
       "      <td>0</td>\n",
       "      <td>1</td>\n",
       "      <td>0</td>\n",
       "    </tr>\n",
       "  </tbody>\n",
       "</table>\n",
       "</div>"
      ],
      "text/plain": [
       "   RegistrationYear  Power  Model  Kilometer  RegistrationMonth  Brand  \\\n",
       "0              2004    163  117.0     125000                  8   14.0   \n",
       "1              2001     75  116.0     150000                  6   37.0   \n",
       "2              2008     69  101.0      90000                  7   31.0   \n",
       "3              1995    102   11.0     150000                 10    2.0   \n",
       "4              2004    109    8.0     150000                  8   25.0   \n",
       "\n",
       "   VehicleType_convertible  VehicleType_coupe  VehicleType_other  \\\n",
       "0                        0                  0                  0   \n",
       "1                        0                  0                  0   \n",
       "2                        0                  0                  0   \n",
       "3                        0                  0                  0   \n",
       "4                        1                  0                  0   \n",
       "\n",
       "   VehicleType_sedan  VehicleType_small  VehicleType_suv  VehicleType_wagon  \\\n",
       "0                  0                  0                1                  0   \n",
       "1                  0                  1                0                  0   \n",
       "2                  0                  1                0                  0   \n",
       "3                  1                  0                0                  0   \n",
       "4                  0                  0                0                  0   \n",
       "\n",
       "   Gearbox_manual  FuelType_electric  FuelType_gasoline  FuelType_hybrid  \\\n",
       "0               0                  0                  1                0   \n",
       "1               1                  0                  0                0   \n",
       "2               1                  0                  1                0   \n",
       "3               1                  0                  0                0   \n",
       "4               1                  0                  0                0   \n",
       "\n",
       "   FuelType_lpg  FuelType_other  FuelType_petrol  NotRepaired_yes  \n",
       "0             0               0                0                0  \n",
       "1             0               0                1                0  \n",
       "2             0               0                0                0  \n",
       "3             0               0                1                1  \n",
       "4             0               0                1                0  "
      ]
     },
     "execution_count": 59,
     "metadata": {},
     "output_type": "execute_result"
    }
   ],
   "source": [
    "encoder = OrdinalEncoder()\n",
    "encoder.fit(features_lr[['Model', 'Brand']])\n",
    "features_lr[['Model', 'Brand']] = encoder.transform(features_lr[['Model', 'Brand']])\n",
    "features_lr.head()"
   ]
  },
  {
   "cell_type": "markdown",
   "metadata": {},
   "source": [
    "5. Деление на тестовую и тренировочную выборки"
   ]
  },
  {
   "cell_type": "code",
   "execution_count": 60,
   "metadata": {},
   "outputs": [
    {
     "name": "stdout",
     "output_type": "stream",
     "text": [
      "Размер train: (173761, 21) (173761,) \n",
      "Размер test: (57921, 21) (57921,)\n"
     ]
    }
   ],
   "source": [
    "features_train_lr, features_test_lr, target_train_lr, target_test_lr = train_test_split(\n",
    "    features_lr, target_lr, test_size=0.25, random_state=42)\n",
    "\n",
    "print('Размер train:', features_train_lr.shape, target_train_lr.shape,\n",
    "      '\\nРазмер test:', features_test_lr.shape, target_test_lr.shape)"
   ]
  },
  {
   "cell_type": "markdown",
   "metadata": {},
   "source": [
    "6. Масштабирование признаков методом стандартизации:"
   ]
  },
  {
   "cell_type": "code",
   "execution_count": 61,
   "metadata": {
    "scrolled": true
   },
   "outputs": [
    {
     "data": {
      "text/html": [
       "<div>\n",
       "<style scoped>\n",
       "    .dataframe tbody tr th:only-of-type {\n",
       "        vertical-align: middle;\n",
       "    }\n",
       "\n",
       "    .dataframe tbody tr th {\n",
       "        vertical-align: top;\n",
       "    }\n",
       "\n",
       "    .dataframe thead th {\n",
       "        text-align: right;\n",
       "    }\n",
       "</style>\n",
       "<table border=\"1\" class=\"dataframe\">\n",
       "  <thead>\n",
       "    <tr style=\"text-align: right;\">\n",
       "      <th></th>\n",
       "      <th>RegistrationYear</th>\n",
       "      <th>Power</th>\n",
       "      <th>Model</th>\n",
       "      <th>Kilometer</th>\n",
       "      <th>RegistrationMonth</th>\n",
       "      <th>Brand</th>\n",
       "      <th>VehicleType_convertible</th>\n",
       "      <th>VehicleType_coupe</th>\n",
       "      <th>VehicleType_other</th>\n",
       "      <th>VehicleType_sedan</th>\n",
       "      <th>VehicleType_small</th>\n",
       "      <th>VehicleType_suv</th>\n",
       "      <th>VehicleType_wagon</th>\n",
       "      <th>Gearbox_manual</th>\n",
       "      <th>FuelType_electric</th>\n",
       "      <th>FuelType_gasoline</th>\n",
       "      <th>FuelType_hybrid</th>\n",
       "      <th>FuelType_lpg</th>\n",
       "      <th>FuelType_other</th>\n",
       "      <th>FuelType_petrol</th>\n",
       "      <th>NotRepaired_yes</th>\n",
       "    </tr>\n",
       "  </thead>\n",
       "  <tbody>\n",
       "    <tr>\n",
       "      <td>0</td>\n",
       "      <td>1.006817</td>\n",
       "      <td>-0.004056</td>\n",
       "      <td>0.117210</td>\n",
       "      <td>-2.661943</td>\n",
       "      <td>-0.409538</td>\n",
       "      <td>1.286533</td>\n",
       "      <td>-0.266729</td>\n",
       "      <td>-0.231147</td>\n",
       "      <td>-0.087023</td>\n",
       "      <td>-0.647142</td>\n",
       "      <td>-0.559605</td>\n",
       "      <td>-0.200635</td>\n",
       "      <td>-0.510946</td>\n",
       "      <td>-1.955543</td>\n",
       "      <td>-0.014194</td>\n",
       "      <td>-0.687024</td>\n",
       "      <td>-0.026507</td>\n",
       "      <td>-0.129685</td>\n",
       "      <td>-0.015733</td>\n",
       "      <td>0.717991</td>\n",
       "      <td>-0.318793</td>\n",
       "    </tr>\n",
       "    <tr>\n",
       "      <td>1</td>\n",
       "      <td>-1.476082</td>\n",
       "      <td>-1.356222</td>\n",
       "      <td>-0.080201</td>\n",
       "      <td>-0.071791</td>\n",
       "      <td>0.785242</td>\n",
       "      <td>-0.782041</td>\n",
       "      <td>-0.266729</td>\n",
       "      <td>-0.231147</td>\n",
       "      <td>-0.087023</td>\n",
       "      <td>-0.647142</td>\n",
       "      <td>1.786974</td>\n",
       "      <td>-0.200635</td>\n",
       "      <td>-0.510946</td>\n",
       "      <td>0.511367</td>\n",
       "      <td>-0.014194</td>\n",
       "      <td>-0.687024</td>\n",
       "      <td>-0.026507</td>\n",
       "      <td>-0.129685</td>\n",
       "      <td>-0.015733</td>\n",
       "      <td>0.717991</td>\n",
       "      <td>-0.318793</td>\n",
       "    </tr>\n",
       "    <tr>\n",
       "      <td>2</td>\n",
       "      <td>-0.648449</td>\n",
       "      <td>1.836393</td>\n",
       "      <td>1.188870</td>\n",
       "      <td>-0.753410</td>\n",
       "      <td>-1.305622</td>\n",
       "      <td>-0.015902</td>\n",
       "      <td>-0.266729</td>\n",
       "      <td>-0.231147</td>\n",
       "      <td>-0.087023</td>\n",
       "      <td>1.545255</td>\n",
       "      <td>-0.559605</td>\n",
       "      <td>-0.200635</td>\n",
       "      <td>-0.510946</td>\n",
       "      <td>-1.955543</td>\n",
       "      <td>-0.014194</td>\n",
       "      <td>-0.687024</td>\n",
       "      <td>-0.026507</td>\n",
       "      <td>-0.129685</td>\n",
       "      <td>-0.015733</td>\n",
       "      <td>0.717991</td>\n",
       "      <td>-0.318793</td>\n",
       "    </tr>\n",
       "    <tr>\n",
       "      <td>3</td>\n",
       "      <td>0.675764</td>\n",
       "      <td>2.662717</td>\n",
       "      <td>0.822249</td>\n",
       "      <td>-1.844000</td>\n",
       "      <td>-0.708232</td>\n",
       "      <td>0.290553</td>\n",
       "      <td>3.749130</td>\n",
       "      <td>-0.231147</td>\n",
       "      <td>-0.087023</td>\n",
       "      <td>-0.647142</td>\n",
       "      <td>-0.559605</td>\n",
       "      <td>-0.200635</td>\n",
       "      <td>-0.510946</td>\n",
       "      <td>0.511367</td>\n",
       "      <td>-0.014194</td>\n",
       "      <td>-0.687024</td>\n",
       "      <td>-0.026507</td>\n",
       "      <td>-0.129685</td>\n",
       "      <td>-0.015733</td>\n",
       "      <td>0.717991</td>\n",
       "      <td>-0.318793</td>\n",
       "    </tr>\n",
       "    <tr>\n",
       "      <td>4</td>\n",
       "      <td>-0.979502</td>\n",
       "      <td>-0.004056</td>\n",
       "      <td>-0.686536</td>\n",
       "      <td>-0.071791</td>\n",
       "      <td>-0.409538</td>\n",
       "      <td>-0.015902</td>\n",
       "      <td>-0.266729</td>\n",
       "      <td>-0.231147</td>\n",
       "      <td>-0.087023</td>\n",
       "      <td>1.545255</td>\n",
       "      <td>-0.559605</td>\n",
       "      <td>-0.200635</td>\n",
       "      <td>-0.510946</td>\n",
       "      <td>0.511367</td>\n",
       "      <td>-0.014194</td>\n",
       "      <td>-0.687024</td>\n",
       "      <td>-0.026507</td>\n",
       "      <td>-0.129685</td>\n",
       "      <td>-0.015733</td>\n",
       "      <td>0.717991</td>\n",
       "      <td>-0.318793</td>\n",
       "    </tr>\n",
       "  </tbody>\n",
       "</table>\n",
       "</div>"
      ],
      "text/plain": [
       "   RegistrationYear     Power     Model  Kilometer  RegistrationMonth  \\\n",
       "0          1.006817 -0.004056  0.117210  -2.661943          -0.409538   \n",
       "1         -1.476082 -1.356222 -0.080201  -0.071791           0.785242   \n",
       "2         -0.648449  1.836393  1.188870  -0.753410          -1.305622   \n",
       "3          0.675764  2.662717  0.822249  -1.844000          -0.708232   \n",
       "4         -0.979502 -0.004056 -0.686536  -0.071791          -0.409538   \n",
       "\n",
       "      Brand  VehicleType_convertible  VehicleType_coupe  VehicleType_other  \\\n",
       "0  1.286533                -0.266729          -0.231147          -0.087023   \n",
       "1 -0.782041                -0.266729          -0.231147          -0.087023   \n",
       "2 -0.015902                -0.266729          -0.231147          -0.087023   \n",
       "3  0.290553                 3.749130          -0.231147          -0.087023   \n",
       "4 -0.015902                -0.266729          -0.231147          -0.087023   \n",
       "\n",
       "   VehicleType_sedan  VehicleType_small  VehicleType_suv  VehicleType_wagon  \\\n",
       "0          -0.647142          -0.559605        -0.200635          -0.510946   \n",
       "1          -0.647142           1.786974        -0.200635          -0.510946   \n",
       "2           1.545255          -0.559605        -0.200635          -0.510946   \n",
       "3          -0.647142          -0.559605        -0.200635          -0.510946   \n",
       "4           1.545255          -0.559605        -0.200635          -0.510946   \n",
       "\n",
       "   Gearbox_manual  FuelType_electric  FuelType_gasoline  FuelType_hybrid  \\\n",
       "0       -1.955543          -0.014194          -0.687024        -0.026507   \n",
       "1        0.511367          -0.014194          -0.687024        -0.026507   \n",
       "2       -1.955543          -0.014194          -0.687024        -0.026507   \n",
       "3        0.511367          -0.014194          -0.687024        -0.026507   \n",
       "4        0.511367          -0.014194          -0.687024        -0.026507   \n",
       "\n",
       "   FuelType_lpg  FuelType_other  FuelType_petrol  NotRepaired_yes  \n",
       "0     -0.129685       -0.015733         0.717991        -0.318793  \n",
       "1     -0.129685       -0.015733         0.717991        -0.318793  \n",
       "2     -0.129685       -0.015733         0.717991        -0.318793  \n",
       "3     -0.129685       -0.015733         0.717991        -0.318793  \n",
       "4     -0.129685       -0.015733         0.717991        -0.318793  "
      ]
     },
     "execution_count": 61,
     "metadata": {},
     "output_type": "execute_result"
    }
   ],
   "source": [
    "scaler.fit(features_train_lr) \n",
    "features_train_lr = pd.DataFrame(scaler.transform(features_train_lr), columns=features_train_lr.columns)\n",
    "features_test_lr = pd.DataFrame(scaler.transform(features_test_lr), columns=features_test_lr.columns)\n",
    "\n",
    "features_train_lr.head()"
   ]
  },
  {
   "cell_type": "markdown",
   "metadata": {},
   "source": [
    "7. Обучение модели ЛР, получение и оценка предсказаний"
   ]
  },
  {
   "cell_type": "code",
   "execution_count": 62,
   "metadata": {},
   "outputs": [
    {
     "name": "stdout",
     "output_type": "stream",
     "text": [
      "rMSE: 2805.098406895915\n",
      "CPU times: user 220 ms, sys: 98.1 ms, total: 318 ms\n",
      "Wall time: 296 ms\n"
     ]
    }
   ],
   "source": [
    "%%time\n",
    "\n",
    "model_lr =  LinearRegression()\n",
    "model_lr.fit(features_train_lr, target_train_lr)\n",
    "prediction_lr = model_lr.predict(features_test_lr)\n",
    "\n",
    "mse_lr_2 = mean_squared_error(target_test_lr, prediction_lr).round(5)\n",
    "\n",
    "print('rMSE:', sqrt(mse_lr_2))"
   ]
  },
  {
   "cell_type": "markdown",
   "metadata": {},
   "source": [
    "После зачистки нулей в таргете качество предсказания модели немного улучшилось"
   ]
  },
  {
   "cell_type": "markdown",
   "metadata": {},
   "source": [
    "### CatBoost\n",
    "\n",
    "CatBoost — библиотека градиентного бустинга. Применяет различные техники кодирования категориальных признаков (LabelEncoding, One-Hot Encoding), поэтому кодировать заранее не придется. \n",
    "\n",
    "Столбцы со строковым типом данных конвертируем в категориальный тип:"
   ]
  },
  {
   "cell_type": "code",
   "execution_count": 63,
   "metadata": {},
   "outputs": [
    {
     "data": {
      "text/plain": [
       "Price                   int64\n",
       "VehicleType          category\n",
       "RegistrationYear        int64\n",
       "Gearbox              category\n",
       "Power                   int64\n",
       "Model                category\n",
       "Kilometer               int64\n",
       "RegistrationMonth       int64\n",
       "FuelType             category\n",
       "Brand                category\n",
       "NotRepaired          category\n",
       "dtype: object"
      ]
     },
     "execution_count": 63,
     "metadata": {},
     "output_type": "execute_result"
    }
   ],
   "source": [
    "cat_cols = df.select_dtypes(include='object').columns\n",
    "df[cat_cols] = df[cat_cols].astype('category')\n",
    "df.dtypes"
   ]
  },
  {
   "cell_type": "markdown",
   "metadata": {},
   "source": [
    "Определим список категориальных столбцов в отдельную переменную"
   ]
  },
  {
   "cell_type": "code",
   "execution_count": 64,
   "metadata": {},
   "outputs": [
    {
     "data": {
      "text/plain": [
       "Index(['VehicleType', 'Gearbox', 'Model', 'FuelType', 'Brand', 'NotRepaired'], dtype='object')"
      ]
     },
     "execution_count": 64,
     "metadata": {},
     "output_type": "execute_result"
    }
   ],
   "source": [
    "cat_cols = df.select_dtypes(include='category').columns\n",
    "cat_cols"
   ]
  },
  {
   "cell_type": "markdown",
   "metadata": {},
   "source": [
    "Разделим датафрейм на тренирвочный и тестовый:"
   ]
  },
  {
   "cell_type": "code",
   "execution_count": 65,
   "metadata": {},
   "outputs": [
    {
     "name": "stdout",
     "output_type": "stream",
     "text": [
      "Размер train: (175974, 10) (175974,) \n",
      "Размер test: (58659, 10) (58659,)\n"
     ]
    }
   ],
   "source": [
    "features_train_cb, features_test_cb, target_train_cb, target_test_cb = train_test_split(\n",
    "    df.drop('Price', axis=1), df.Price, test_size=0.25, random_state=12345)\n",
    "\n",
    "print('Размер train:', features_train_cb.shape, target_train_cb.shape,\n",
    "      '\\nРазмер test:', features_test_cb.shape, target_test_cb.shape)"
   ]
  },
  {
   "cell_type": "code",
   "execution_count": 66,
   "metadata": {},
   "outputs": [],
   "source": [
    "train_pool = Pool(features_train_cb, \n",
    "                  target_train_cb, \n",
    "                  cat_features=cat_cols)\n",
    "test_pool = Pool(features_test_cb, \n",
    "                 cat_features=cat_cols) "
   ]
  },
  {
   "cell_type": "markdown",
   "metadata": {},
   "source": [
    "Обучим модель CatBoost на тренировочных данных (всего итераций установим = 200 и будем выводить каждый 10й результат) и подсчитаем время выполнения операции:"
   ]
  },
  {
   "cell_type": "code",
   "execution_count": 67,
   "metadata": {},
   "outputs": [
    {
     "name": "stdout",
     "output_type": "stream",
     "text": [
      "0:\tlearn: 4617.3150864\ttotal: 455ms\tremaining: 1m 30s\n",
      "10:\tlearn: 3883.4847886\ttotal: 4.05s\tremaining: 1m 9s\n",
      "20:\tlearn: 3369.1277948\ttotal: 7.65s\tremaining: 1m 5s\n",
      "30:\tlearn: 3010.9166795\ttotal: 11.1s\tremaining: 1m\n",
      "40:\tlearn: 2747.1634751\ttotal: 14.4s\tremaining: 56s\n",
      "50:\tlearn: 2551.6203012\ttotal: 17.7s\tremaining: 51.8s\n",
      "60:\tlearn: 2412.4316685\ttotal: 20.9s\tremaining: 47.7s\n",
      "70:\tlearn: 2304.6356931\ttotal: 24.3s\tremaining: 44.2s\n",
      "80:\tlearn: 2224.7438618\ttotal: 27.7s\tremaining: 40.7s\n",
      "90:\tlearn: 2158.7647265\ttotal: 31.1s\tremaining: 37.2s\n",
      "100:\tlearn: 2108.6923232\ttotal: 33.9s\tremaining: 33.2s\n",
      "110:\tlearn: 2071.6516008\ttotal: 36.9s\tremaining: 29.6s\n",
      "120:\tlearn: 2042.8125747\ttotal: 39.8s\tremaining: 26s\n",
      "130:\tlearn: 2019.4116266\ttotal: 42.9s\tremaining: 22.6s\n",
      "140:\tlearn: 1999.0054778\ttotal: 46.3s\tremaining: 19.4s\n",
      "150:\tlearn: 1982.4144540\ttotal: 49.6s\tremaining: 16.1s\n",
      "160:\tlearn: 1966.6388086\ttotal: 53.3s\tremaining: 12.9s\n",
      "170:\tlearn: 1953.2137363\ttotal: 56.5s\tremaining: 9.59s\n",
      "180:\tlearn: 1941.5615225\ttotal: 59.9s\tremaining: 6.29s\n",
      "190:\tlearn: 1930.8231036\ttotal: 1m 3s\tremaining: 2.99s\n",
      "199:\tlearn: 1922.1536100\ttotal: 1m 6s\tremaining: 0us\n",
      "Время обучения:\n",
      "CPU times: user 57.3 s, sys: 9.3 s, total: 1min 6s\n",
      "Wall time: 1min 8s\n"
     ]
    }
   ],
   "source": [
    "%%time\n",
    "\n",
    "model_cb = CatBoostRegressor(loss_function=\"RMSE\", \n",
    "                          iterations=200, \n",
    "                          depth=4, \n",
    "                          verbose=10, \n",
    "                          random_seed=12345)\n",
    "\n",
    "model_cb.fit(train_pool)\n",
    "\n",
    "print('Время обучения:')"
   ]
  },
  {
   "cell_type": "markdown",
   "metadata": {},
   "source": [
    "Получим предсказания модели CatBoost и посмотрим на время выполнения и метрику качества rMSE:"
   ]
  },
  {
   "cell_type": "code",
   "execution_count": 68,
   "metadata": {},
   "outputs": [
    {
     "name": "stdout",
     "output_type": "stream",
     "text": [
      "rMSE: 1906.1613929308296 \n",
      "Время предсказания:\n",
      "CPU times: user 79.9 ms, sys: 653 µs, total: 80.5 ms\n",
      "Wall time: 20.7 ms\n"
     ]
    }
   ],
   "source": [
    "%%time\n",
    "\n",
    "preds_cb = model_cb.predict(test_pool)\n",
    "\n",
    "mse_cb = mean_squared_error(target_test_cb, preds_cb).round(5)\n",
    "\n",
    "print('rMSE:', sqrt(mse_cb),\n",
    "     '\\nВремя предсказания:')"
   ]
  },
  {
   "cell_type": "markdown",
   "metadata": {},
   "source": [
    "Результат оказался хуже чем у линейной регрессии, и процесс шел намного дольше"
   ]
  },
  {
   "cell_type": "code",
   "execution_count": 69,
   "metadata": {},
   "outputs": [
    {
     "data": {
      "text/html": [
       "<div>\n",
       "<style scoped>\n",
       "    .dataframe tbody tr th:only-of-type {\n",
       "        vertical-align: middle;\n",
       "    }\n",
       "\n",
       "    .dataframe tbody tr th {\n",
       "        vertical-align: top;\n",
       "    }\n",
       "\n",
       "    .dataframe thead th {\n",
       "        text-align: right;\n",
       "    }\n",
       "</style>\n",
       "<table border=\"1\" class=\"dataframe\">\n",
       "  <thead>\n",
       "    <tr style=\"text-align: right;\">\n",
       "      <th></th>\n",
       "      <th>Модель</th>\n",
       "      <th>rMSE</th>\n",
       "      <th>t обучения, сек</th>\n",
       "      <th>t предсказания, сек</th>\n",
       "    </tr>\n",
       "  </thead>\n",
       "  <tbody>\n",
       "    <tr>\n",
       "      <td>0</td>\n",
       "      <td>Linear Refression</td>\n",
       "      <td>2848.764144</td>\n",
       "      <td>&lt;1</td>\n",
       "      <td>&lt;1</td>\n",
       "    </tr>\n",
       "    <tr>\n",
       "      <td>1</td>\n",
       "      <td>CatBoost</td>\n",
       "      <td>1906.161393</td>\n",
       "      <td>65</td>\n",
       "      <td>&lt;1</td>\n",
       "    </tr>\n",
       "  </tbody>\n",
       "</table>\n",
       "</div>"
      ],
      "text/plain": [
       "              Модель         rMSE t обучения, сек t предсказания, сек\n",
       "0  Linear Refression  2848.764144              <1                  <1\n",
       "1           CatBoost  1906.161393              65                  <1"
      ]
     },
     "execution_count": 69,
     "metadata": {},
     "output_type": "execute_result"
    }
   ],
   "source": [
    "data = pd.DataFrame(\n",
    "    [['Linear Refression', sqrt(mse_lr_1), '<1', '<1'],\n",
    "    ['CatBoost', sqrt(mse_cb), '65', '<1']], \n",
    "    columns=['Модель', 'rMSE', 't обучения, сек', 't предсказания, сек'])\n",
    "data"
   ]
  },
  {
   "cell_type": "markdown",
   "metadata": {},
   "source": [
    "#### CatBoost (после зачистки нулей в таргете)\n",
    "\n",
    "Зачистим нули и переделаем всё еще раз, чтобы посмотреть как изменятся результаты:"
   ]
  },
  {
   "cell_type": "code",
   "execution_count": 70,
   "metadata": {},
   "outputs": [
    {
     "data": {
      "text/plain": [
       "0"
      ]
     },
     "execution_count": 70,
     "metadata": {},
     "output_type": "execute_result"
    }
   ],
   "source": [
    "df_clean = df.query('Price != 0')\n",
    "df_clean.query('Price == 0').Price.count()"
   ]
  },
  {
   "cell_type": "code",
   "execution_count": 71,
   "metadata": {},
   "outputs": [
    {
     "name": "stdout",
     "output_type": "stream",
     "text": [
      "Размер train: (173761, 10) (173761,) \n",
      "Размер test: (57921, 10) (57921,)\n"
     ]
    }
   ],
   "source": [
    "features_train_cb, features_test_cb, target_train_cb, target_test_cb = train_test_split(\n",
    "    df_clean.drop('Price', axis=1), df_clean.Price, test_size=0.25, random_state=12345)\n",
    "\n",
    "print('Размер train:', features_train_cb.shape, target_train_cb.shape,\n",
    "      '\\nРазмер test:', features_test_cb.shape, target_test_cb.shape)"
   ]
  },
  {
   "cell_type": "code",
   "execution_count": 72,
   "metadata": {},
   "outputs": [],
   "source": [
    "train_pool = Pool(features_train_cb, \n",
    "                  target_train_cb, \n",
    "                  cat_features=cat_cols)\n",
    "test_pool = Pool(features_test_cb, \n",
    "                 cat_features=cat_cols) "
   ]
  },
  {
   "cell_type": "code",
   "execution_count": 73,
   "metadata": {},
   "outputs": [
    {
     "name": "stdout",
     "output_type": "stream",
     "text": [
      "0:\tlearn: 4591.1319085\ttotal: 380ms\tremaining: 1m 15s\n",
      "10:\tlearn: 3851.3669286\ttotal: 3.98s\tremaining: 1m 8s\n",
      "20:\tlearn: 3336.7738091\ttotal: 7.57s\tremaining: 1m 4s\n",
      "30:\tlearn: 2970.5665777\ttotal: 11.3s\tremaining: 1m 1s\n",
      "40:\tlearn: 2706.2172522\ttotal: 14.5s\tremaining: 56.4s\n",
      "50:\tlearn: 2512.4053834\ttotal: 17.9s\tremaining: 52.4s\n",
      "60:\tlearn: 2366.1694657\ttotal: 21.3s\tremaining: 48.6s\n",
      "70:\tlearn: 2255.5791880\ttotal: 24.8s\tremaining: 45.1s\n",
      "80:\tlearn: 2172.2750951\ttotal: 28.4s\tremaining: 41.7s\n",
      "90:\tlearn: 2103.8396280\ttotal: 31.4s\tremaining: 37.6s\n",
      "100:\tlearn: 2052.3677229\ttotal: 34.2s\tremaining: 33.5s\n",
      "110:\tlearn: 2012.2957523\ttotal: 37.2s\tremaining: 29.8s\n",
      "120:\tlearn: 1982.2412409\ttotal: 40.5s\tremaining: 26.4s\n",
      "130:\tlearn: 1955.8969453\ttotal: 43.8s\tremaining: 23.1s\n",
      "140:\tlearn: 1936.3446124\ttotal: 47.2s\tremaining: 19.7s\n",
      "150:\tlearn: 1918.2143153\ttotal: 50.7s\tremaining: 16.4s\n",
      "160:\tlearn: 1902.7128051\ttotal: 54.1s\tremaining: 13.1s\n",
      "170:\tlearn: 1888.3828833\ttotal: 57.4s\tremaining: 9.73s\n",
      "180:\tlearn: 1875.5947901\ttotal: 1m\tremaining: 6.39s\n",
      "190:\tlearn: 1865.6455545\ttotal: 1m 4s\tremaining: 3.03s\n",
      "199:\tlearn: 1856.9536953\ttotal: 1m 7s\tremaining: 0us\n",
      "Время обучения:\n",
      "CPU times: user 57.9 s, sys: 9.88 s, total: 1min 7s\n",
      "Wall time: 1min 9s\n"
     ]
    }
   ],
   "source": [
    "%%time\n",
    "\n",
    "model_cb = CatBoostRegressor(loss_function=\"RMSE\", \n",
    "                          iterations=200, \n",
    "                          depth=4, \n",
    "                          verbose=10, \n",
    "                          random_seed=12345)\n",
    "\n",
    "model_cb.fit(train_pool)\n",
    "\n",
    "print('Время обучения:')"
   ]
  },
  {
   "cell_type": "code",
   "execution_count": 77,
   "metadata": {},
   "outputs": [
    {
     "name": "stdout",
     "output_type": "stream",
     "text": [
      "rMSE: 1860.7244631728795 \n",
      "Время предсказания:\n",
      "CPU times: user 74.3 ms, sys: 8.3 ms, total: 82.6 ms\n",
      "Wall time: 21.3 ms\n"
     ]
    }
   ],
   "source": [
    "%%time\n",
    "\n",
    "preds_cb_2 = model_cb.predict(test_pool)\n",
    "\n",
    "mse_cb_2 = mean_squared_error(target_test_cb, preds_cb_2).round(5)\n",
    "\n",
    "print('rMSE:', sqrt(mse_cb_2),\n",
    "     '\\nВремя предсказания:')"
   ]
  },
  {
   "cell_type": "markdown",
   "metadata": {},
   "source": [
    "Метрика по CatBoost улучшилась от зачистки нулей в таргете."
   ]
  },
  {
   "cell_type": "markdown",
   "metadata": {},
   "source": [
    "### Дерево решений\n",
    "\n",
    "Для подбора параметров лучшей модели дерева решений воспользуемся RandomizedSearchCV:"
   ]
  },
  {
   "cell_type": "code",
   "execution_count": 78,
   "metadata": {},
   "outputs": [],
   "source": [
    "def rmse(target, predict):\n",
    "    return mean_squared_error(target, predict) ** 0.5"
   ]
  },
  {
   "cell_type": "code",
   "execution_count": 83,
   "metadata": {},
   "outputs": [
    {
     "name": "stdout",
     "output_type": "stream",
     "text": [
      "\n",
      "\n",
      "Лучшие параметры дерева решений: {'min_samples_leaf': 21, 'max_depth': 19} \n",
      "\n",
      "Время выполнения кода:\n",
      "CPU times: user 33 s, sys: 0 ns, total: 33 s\n",
      "Wall time: 33.6 s\n"
     ]
    }
   ],
   "source": [
    "%%time\n",
    "\n",
    "rmse_score = make_scorer(rmse, greater_is_better = False)\n",
    "\n",
    "params = {\n",
    "    'max_depth' : range(1, 21, 1),\n",
    "    'min_samples_leaf' : [2, 21, 2]\n",
    "}\n",
    "\n",
    "grid_tree = RandomizedSearchCV(DecisionTreeRegressor(random_state = 12345), params, \n",
    "                                 cv = 5, n_iter=10, scoring=rmse_score)\n",
    "grid_tree.fit(features_train_lr, target_train_lr)\n",
    "\n",
    "print('\\n\\nЛучшие параметры дерева решений:', grid_tree.best_params_,\n",
    "     '\\n\\nВремя выполнения кода:')"
   ]
  },
  {
   "cell_type": "code",
   "execution_count": 84,
   "metadata": {},
   "outputs": [
    {
     "name": "stdout",
     "output_type": "stream",
     "text": [
      "rMSE: 1761.6016609370051 \n",
      "Время предсказания:\n",
      "CPU times: user 20.9 ms, sys: 0 ns, total: 20.9 ms\n",
      "Wall time: 18.8 ms\n"
     ]
    }
   ],
   "source": [
    "%%time\n",
    "\n",
    "preds_tree = grid_tree.predict(features_test_lr)\n",
    "\n",
    "rmse_tree = rmse(target_test_lr, preds_tree)\n",
    "\n",
    "print('rMSE:', rmse_tree,\n",
    "     '\\nВремя предсказания:')"
   ]
  },
  {
   "cell_type": "markdown",
   "metadata": {},
   "source": [
    "Результаты получились приемлемыми, а также модель дерева решений очень быстро обучилась и посчитала предсказания"
   ]
  },
  {
   "cell_type": "markdown",
   "metadata": {},
   "source": [
    "### LightGBM\n",
    "\n",
    "LightGBM — это фреймворк, который предоставляет реализацию деревьев принятия решений с градиентным бустингом. Работает с категориальными признаками напрямую."
   ]
  },
  {
   "cell_type": "markdown",
   "metadata": {},
   "source": [
    "Произведем деление датафрейма на обучающую и тестовую выборки:"
   ]
  },
  {
   "cell_type": "code",
   "execution_count": 85,
   "metadata": {},
   "outputs": [
    {
     "name": "stdout",
     "output_type": "stream",
     "text": [
      "Размер train: (175974, 10) (175974,) \n",
      "Размер test: (58659, 10) (58659,)\n"
     ]
    }
   ],
   "source": [
    "features_train_lgb, features_test_lgb, target_train_lgb, target_test_lgb = train_test_split(\n",
    "    df.drop('Price', axis=1), df.Price, test_size=0.25, random_state=12345)\n",
    "\n",
    "print('Размер train:', features_train_lgb.shape, target_train_lgb.shape,\n",
    "      '\\nРазмер test:', features_test_lgb.shape, target_test_lgb.shape)"
   ]
  },
  {
   "cell_type": "markdown",
   "metadata": {},
   "source": [
    "Определим в 2 переменных обучающий и тестовый наборы для передачи в качестве параметров в модель LightGBM:"
   ]
  },
  {
   "cell_type": "code",
   "execution_count": 86,
   "metadata": {},
   "outputs": [],
   "source": [
    "train_data = lgb.Dataset(features_train_lgb, target_train_lgb)\n",
    "test_data = lgb.Dataset(features_test_lgb, target_test_lgb)"
   ]
  },
  {
   "cell_type": "markdown",
   "metadata": {},
   "source": [
    "Обучим модель LightGBM и посмотрим на время выполнения ячейки:\n",
    "\n",
    "* gbdt - traditional Gradient Boosting Decision Tree\n",
    "* l1 - это mean_absolute_error, а l2 - mean_squared_error  \n",
    "* кол-во итераций num_boost_round установим в 200\n",
    "* будем выводить также как в кэтбусте каждый 10й результат (verbose_eval)"
   ]
  },
  {
   "cell_type": "code",
   "execution_count": 88,
   "metadata": {},
   "outputs": [
    {
     "name": "stdout",
     "output_type": "stream",
     "text": [
      "[10]\tvalid_0's l2: 1.11039e+07\tvalid_0's l1: 2584.22\n",
      "[20]\tvalid_0's l2: 6.59407e+06\tvalid_0's l1: 1916.79\n",
      "[30]\tvalid_0's l2: 4.64693e+06\tvalid_0's l1: 1538.1\n",
      "[40]\tvalid_0's l2: 3.7685e+06\tvalid_0's l1: 1328.87\n",
      "[50]\tvalid_0's l2: 3.33598e+06\tvalid_0's l1: 1211.04\n",
      "[60]\tvalid_0's l2: 3.10322e+06\tvalid_0's l1: 1143.84\n",
      "[70]\tvalid_0's l2: 2.975e+06\tvalid_0's l1: 1104.43\n",
      "[80]\tvalid_0's l2: 2.89824e+06\tvalid_0's l1: 1079.58\n",
      "[90]\tvalid_0's l2: 2.84904e+06\tvalid_0's l1: 1064.68\n",
      "[100]\tvalid_0's l2: 2.81409e+06\tvalid_0's l1: 1054.33\n",
      "CPU times: user 5min 6s, sys: 1.82 s, total: 5min 8s\n",
      "Wall time: 5min 11s\n"
     ]
    }
   ],
   "source": [
    "%%time\n",
    "\n",
    "params = {\n",
    "    'boosting_type': 'gbdt',\n",
    "    'objective': 'regression',\n",
    "    'metric': {'l2', 'l1'},\n",
    "    'num_leaves': 31,\n",
    "    'learning_rate': 0.05,\n",
    "    'feature_fraction': 0.9,\n",
    "    'bagging_fraction': 0.8,\n",
    "    'bagging_freq': 5\n",
    "}\n",
    "\n",
    "model_lgb = lgb.train(params,\n",
    "                train_data,\n",
    "                num_boost_round=100,\n",
    "                      verbose_eval=10,\n",
    "                valid_sets=test_data)"
   ]
  },
  {
   "cell_type": "markdown",
   "metadata": {},
   "source": [
    "Получим предсказания модели LightGBM и посмотрим на RMSE и время выполнения ячейки:"
   ]
  },
  {
   "cell_type": "code",
   "execution_count": 92,
   "metadata": {},
   "outputs": [
    {
     "name": "stdout",
     "output_type": "stream",
     "text": [
      "\n",
      "rMSE: 1677.525122858075\n",
      "CPU times: user 956 ms, sys: 0 ns, total: 956 ms\n",
      "Wall time: 859 ms\n"
     ]
    }
   ],
   "source": [
    "%%time\n",
    "\n",
    "preds_lgb = model_lgb.predict(features_test_lgb, num_iteration=model_lgb.best_iteration)\n",
    "\n",
    "mse_lgb = mean_squared_error(target_test_lgb, preds_lgb).round(5)\n",
    "\n",
    "print('\\nrMSE:', sqrt(mse_lgb))"
   ]
  },
  {
   "cell_type": "markdown",
   "metadata": {},
   "source": [
    "#### LightGBM (после зачистки нулей в таргете)\n",
    "\n",
    "Переделаем всё еще раз на зачищенных от нуля в таргете данных, чтобы посмотреть как изменятся результаты:"
   ]
  },
  {
   "cell_type": "code",
   "execution_count": 93,
   "metadata": {},
   "outputs": [],
   "source": [
    "train_data = lgb.Dataset(features_train_cb, target_train_cb)\n",
    "test_data = lgb.Dataset(features_test_cb, target_test_cb)"
   ]
  },
  {
   "cell_type": "code",
   "execution_count": 94,
   "metadata": {},
   "outputs": [
    {
     "name": "stdout",
     "output_type": "stream",
     "text": [
      "[10]\tvalid_0's l2: 1.12236e+07\tvalid_0's l1: 2595.75\n",
      "[20]\tvalid_0's l2: 6.58316e+06\tvalid_0's l1: 1917.03\n",
      "[30]\tvalid_0's l2: 4.56206e+06\tvalid_0's l1: 1529.72\n",
      "[40]\tvalid_0's l2: 3.64418e+06\tvalid_0's l1: 1316.91\n",
      "[50]\tvalid_0's l2: 3.18774e+06\tvalid_0's l1: 1197.59\n",
      "[60]\tvalid_0's l2: 2.94016e+06\tvalid_0's l1: 1128.83\n",
      "[70]\tvalid_0's l2: 2.79882e+06\tvalid_0's l1: 1087.55\n",
      "[80]\tvalid_0's l2: 2.71817e+06\tvalid_0's l1: 1062.98\n",
      "[90]\tvalid_0's l2: 2.66373e+06\tvalid_0's l1: 1046.46\n",
      "[100]\tvalid_0's l2: 2.62659e+06\tvalid_0's l1: 1036.06\n",
      "CPU times: user 12 s, sys: 78.3 ms, total: 12.1 s\n",
      "Wall time: 12.2 s\n"
     ]
    }
   ],
   "source": [
    "%%time\n",
    "\n",
    "params = {\n",
    "    'boosting_type': 'gbdt',\n",
    "    'objective': 'regression',\n",
    "    'metric': {'l2', 'l1'},\n",
    "    'num_leaves': 31,\n",
    "    'learning_rate': 0.05,\n",
    "    'feature_fraction': 0.9,\n",
    "    'bagging_fraction': 0.8,\n",
    "    'bagging_freq': 5\n",
    "}\n",
    "\n",
    "model_lgb = lgb.train(params,\n",
    "                train_data,\n",
    "                num_boost_round=100,\n",
    "                      verbose_eval=10,\n",
    "                valid_sets=test_data)"
   ]
  },
  {
   "cell_type": "code",
   "execution_count": 95,
   "metadata": {},
   "outputs": [
    {
     "name": "stdout",
     "output_type": "stream",
     "text": [
      "Best Interation: 0 \n",
      "rMSE: 1677.525122858075\n",
      "CPU times: user 977 ms, sys: 1.58 ms, total: 979 ms\n",
      "Wall time: 928 ms\n"
     ]
    }
   ],
   "source": [
    "%%time\n",
    "\n",
    "preds_lgb_2 = model_lgb.predict(features_test_lgb, num_iteration=model_lgb.best_iteration)\n",
    "\n",
    "mse_lgb_2 = mean_squared_error(target_test_lgb, preds_lgb).round(5)\n",
    "\n",
    "print('Best Interation:', model_lgb.best_iteration,\n",
    "     '\\nrMSE:', sqrt(mse_lgb))"
   ]
  },
  {
   "cell_type": "markdown",
   "metadata": {},
   "source": [
    "Время выполнения оказалось больше, чем у Catboost, но результат выполнения оказался самым приемлемым среди всех моделей"
   ]
  },
  {
   "cell_type": "markdown",
   "metadata": {},
   "source": [
    "## Анализ моделей"
   ]
  },
  {
   "cell_type": "markdown",
   "metadata": {},
   "source": [
    "Проверим адекватность полученных предсказаний моделей, сравнив их метрики RMSE с ошибкой на простой базисной модели:"
   ]
  },
  {
   "cell_type": "code",
   "execution_count": 96,
   "metadata": {},
   "outputs": [
    {
     "name": "stdout",
     "output_type": "stream",
     "text": [
      "Размер train: (173761, 10) (173761,) \n",
      "Размер test: (57921, 10) (57921,)\n"
     ]
    }
   ],
   "source": [
    "features_train, features_test, target_train, target_test = train_test_split(\n",
    "    df_clean.drop('Price', axis=1), df_clean.Price, test_size=0.25, random_state=12345)\n",
    "\n",
    "print('Размер train:', features_train.shape, target_train.shape,\n",
    "      '\\nРазмер test:', features_test.shape, target_test.shape)"
   ]
  },
  {
   "cell_type": "code",
   "execution_count": 97,
   "metadata": {},
   "outputs": [
    {
     "name": "stdout",
     "output_type": "stream",
     "text": [
      "rMSE: 5004.589561842067\n"
     ]
    }
   ],
   "source": [
    "dummy_model = DummyRegressor(strategy=\"median\")\n",
    "dummy_model.fit(features_train, target_train)\n",
    "dummy_predict = dummy_model.predict(features_test)\n",
    "\n",
    "rmse_dummy = mean_squared_error(target_test, dummy_predict) ** 0.5\n",
    "\n",
    "print('rMSE:', rmse_dummy)"
   ]
  },
  {
   "cell_type": "markdown",
   "metadata": {},
   "source": [
    "Все модели оказались лучше, чем простейший прогноз"
   ]
  },
  {
   "cell_type": "code",
   "execution_count": 99,
   "metadata": {},
   "outputs": [
    {
     "data": {
      "text/html": [
       "<div>\n",
       "<style scoped>\n",
       "    .dataframe tbody tr th:only-of-type {\n",
       "        vertical-align: middle;\n",
       "    }\n",
       "\n",
       "    .dataframe tbody tr th {\n",
       "        vertical-align: top;\n",
       "    }\n",
       "\n",
       "    .dataframe thead th {\n",
       "        text-align: right;\n",
       "    }\n",
       "</style>\n",
       "<table border=\"1\" class=\"dataframe\">\n",
       "  <thead>\n",
       "    <tr style=\"text-align: right;\">\n",
       "      <th></th>\n",
       "      <th>Модель</th>\n",
       "      <th>rMSE</th>\n",
       "      <th>t обучения, сек</th>\n",
       "      <th>t предсказания, сек</th>\n",
       "    </tr>\n",
       "  </thead>\n",
       "  <tbody>\n",
       "    <tr>\n",
       "      <td>0</td>\n",
       "      <td>Linear Refression</td>\n",
       "      <td>2848.764144</td>\n",
       "      <td>&lt;1</td>\n",
       "      <td>&lt;1</td>\n",
       "    </tr>\n",
       "    <tr>\n",
       "      <td>1</td>\n",
       "      <td>Desicion Tree</td>\n",
       "      <td>1761.601661</td>\n",
       "      <td>33</td>\n",
       "      <td>&lt;1</td>\n",
       "    </tr>\n",
       "    <tr>\n",
       "      <td>2</td>\n",
       "      <td>CatBoost</td>\n",
       "      <td>1860.724463</td>\n",
       "      <td>65</td>\n",
       "      <td>&lt;1</td>\n",
       "    </tr>\n",
       "    <tr>\n",
       "      <td>3</td>\n",
       "      <td>LightGBM</td>\n",
       "      <td>1677.525123</td>\n",
       "      <td>157</td>\n",
       "      <td>&lt;3</td>\n",
       "    </tr>\n",
       "    <tr>\n",
       "      <td>4</td>\n",
       "      <td>Dummy</td>\n",
       "      <td>5004.589562</td>\n",
       "      <td>-</td>\n",
       "      <td>-</td>\n",
       "    </tr>\n",
       "  </tbody>\n",
       "</table>\n",
       "</div>"
      ],
      "text/plain": [
       "              Модель         rMSE t обучения, сек t предсказания, сек\n",
       "0  Linear Refression  2848.764144              <1                  <1\n",
       "1      Desicion Tree  1761.601661              33                  <1\n",
       "2           CatBoost  1860.724463              65                  <1\n",
       "3           LightGBM  1677.525123             157                  <3\n",
       "4              Dummy  5004.589562               -                   -"
      ]
     },
     "execution_count": 99,
     "metadata": {},
     "output_type": "execute_result"
    }
   ],
   "source": [
    "data = pd.DataFrame(\n",
    "    [['Linear Refression', sqrt(mse_lr_1), '<1', '<1'],\n",
    "    ['Desicion Tree', rmse_tree, '33', '<1'],\n",
    "    ['CatBoost', sqrt(mse_cb_2), '65', '<1'],\n",
    "    ['LightGBM', sqrt(mse_lgb_2), '157', '<3'],\n",
    "    ['Dummy', rmse_dummy, '-', '-']], \n",
    "    columns=['Модель', 'rMSE', 't обучения, сек', 't предсказания, сек'])\n",
    "data                       "
   ]
  },
  {
   "cell_type": "markdown",
   "metadata": {},
   "source": [
    "## Вывод\n",
    "\n",
    "Самой быстрой и точной оказалась модель Дерево Решений. \n",
    "Она дала почти самый близкий к реальной цене автомобиля результат за совокупное время менее 33 секунды.\n",
    "\n",
    "Нужно все-таки отметить, что наиболее точный результат дали предсказания лучшей модели LightGBM, однако время ее обучения оставляет желать лучшего, а оно нам очень важно."
   ]
  }
 ],
 "metadata": {
  "ExecuteTimeLog": [
   {
    "duration": 1597,
    "start_time": "2021-06-30T10:55:09.949Z"
   },
   {
    "duration": 1109,
    "start_time": "2021-06-30T10:55:16.976Z"
   },
   {
    "duration": 155,
    "start_time": "2021-06-30T10:55:40.428Z"
   },
   {
    "duration": 118,
    "start_time": "2021-06-30T10:58:22.691Z"
   },
   {
    "duration": 1199,
    "start_time": "2021-06-30T10:59:22.214Z"
   },
   {
    "duration": 1191,
    "start_time": "2021-06-30T11:06:20.192Z"
   },
   {
    "duration": 143,
    "start_time": "2021-06-30T11:06:23.472Z"
   },
   {
    "duration": 117,
    "start_time": "2021-06-30T11:06:27.977Z"
   },
   {
    "duration": 768,
    "start_time": "2021-06-30T11:06:30.784Z"
   },
   {
    "duration": 26,
    "start_time": "2021-06-30T11:07:22.504Z"
   },
   {
    "duration": 6,
    "start_time": "2021-06-30T11:07:31.400Z"
   },
   {
    "duration": 517,
    "start_time": "2021-06-30T11:08:48.255Z"
   },
   {
    "duration": 512,
    "start_time": "2021-06-30T11:08:50.880Z"
   },
   {
    "duration": 527,
    "start_time": "2021-06-30T11:08:54.762Z"
   },
   {
    "duration": 485,
    "start_time": "2021-06-30T11:09:59.751Z"
   },
   {
    "duration": 330,
    "start_time": "2021-06-30T11:10:05.541Z"
   },
   {
    "duration": 710,
    "start_time": "2021-06-30T11:10:09.165Z"
   },
   {
    "duration": 725,
    "start_time": "2021-06-30T11:10:23.022Z"
   },
   {
    "duration": 1684,
    "start_time": "2021-06-30T11:12:26.582Z"
   },
   {
    "duration": 889,
    "start_time": "2021-06-30T11:13:14.030Z"
   },
   {
    "duration": 1571,
    "start_time": "2021-06-30T11:13:19.486Z"
   },
   {
    "duration": 1114,
    "start_time": "2021-06-30T11:13:25.893Z"
   },
   {
    "duration": 312,
    "start_time": "2021-06-30T11:15:57.508Z"
   },
   {
    "duration": 137,
    "start_time": "2021-06-30T11:16:03.005Z"
   },
   {
    "duration": 21,
    "start_time": "2021-06-30T11:18:43.042Z"
   },
   {
    "duration": 470,
    "start_time": "2021-07-01T11:37:54.511Z"
   },
   {
    "duration": -158,
    "start_time": "2021-07-01T11:37:55.141Z"
   },
   {
    "duration": 366,
    "start_time": "2021-07-01T11:37:55.069Z"
   },
   {
    "duration": -141,
    "start_time": "2021-07-01T11:37:55.578Z"
   },
   {
    "duration": 326,
    "start_time": "2021-07-01T11:37:55.598Z"
   },
   {
    "duration": 1656,
    "start_time": "2021-07-01T11:38:01.182Z"
   },
   {
    "duration": 1284,
    "start_time": "2021-07-01T11:38:02.840Z"
   },
   {
    "duration": 157,
    "start_time": "2021-07-01T11:38:04.127Z"
   },
   {
    "duration": 138,
    "start_time": "2021-07-01T11:38:04.286Z"
   },
   {
    "duration": 873,
    "start_time": "2021-07-01T11:38:04.427Z"
   },
   {
    "duration": 10,
    "start_time": "2021-07-01T11:38:05.303Z"
   },
   {
    "duration": 32,
    "start_time": "2021-07-01T11:38:05.316Z"
   },
   {
    "duration": 610,
    "start_time": "2021-07-01T11:38:05.351Z"
   },
   {
    "duration": 1287,
    "start_time": "2021-07-01T11:38:05.964Z"
   },
   {
    "duration": 170,
    "start_time": "2021-07-01T11:38:07.253Z"
   },
   {
    "duration": 1407,
    "start_time": "2021-07-01T12:01:22.789Z"
   },
   {
    "duration": 155,
    "start_time": "2021-07-01T12:01:24.200Z"
   },
   {
    "duration": 122,
    "start_time": "2021-07-01T12:01:25.441Z"
   },
   {
    "duration": 768,
    "start_time": "2021-07-01T12:01:26.725Z"
   },
   {
    "duration": 11,
    "start_time": "2021-07-01T12:06:54.868Z"
   },
   {
    "duration": 430,
    "start_time": "2021-07-01T12:09:09.081Z"
   },
   {
    "duration": 6,
    "start_time": "2021-07-01T12:09:11.565Z"
   },
   {
    "duration": 497,
    "start_time": "2021-07-01T12:09:16.181Z"
   },
   {
    "duration": 40,
    "start_time": "2021-07-01T12:09:26.026Z"
   },
   {
    "duration": 9,
    "start_time": "2021-07-01T12:32:35.580Z"
   },
   {
    "duration": 1464,
    "start_time": "2021-07-01T12:33:51.706Z"
   },
   {
    "duration": 130,
    "start_time": "2021-07-01T12:33:53.173Z"
   },
   {
    "duration": 129,
    "start_time": "2021-07-01T12:33:53.309Z"
   },
   {
    "duration": 12,
    "start_time": "2021-07-01T12:33:53.441Z"
   },
   {
    "duration": 7,
    "start_time": "2021-07-01T12:33:53.456Z"
   },
   {
    "duration": 40,
    "start_time": "2021-07-01T12:33:55.507Z"
   },
   {
    "duration": 409,
    "start_time": "2021-07-01T12:33:55.836Z"
   },
   {
    "duration": 420,
    "start_time": "2021-07-01T12:33:56.247Z"
   },
   {
    "duration": 922,
    "start_time": "2021-07-01T12:33:56.670Z"
   },
   {
    "duration": 4,
    "start_time": "2021-07-01T12:33:57.595Z"
   },
   {
    "duration": 12,
    "start_time": "2021-07-01T12:33:57.614Z"
   },
   {
    "duration": 116,
    "start_time": "2021-07-01T12:33:57.922Z"
   },
   {
    "duration": 45,
    "start_time": "2021-07-01T12:51:37.667Z"
   },
   {
    "duration": 51,
    "start_time": "2021-07-01T12:52:42.899Z"
   },
   {
    "duration": 8,
    "start_time": "2021-07-01T13:05:34.969Z"
   },
   {
    "duration": 17,
    "start_time": "2021-07-01T13:05:43.878Z"
   },
   {
    "duration": 1597,
    "start_time": "2021-07-02T11:31:22.522Z"
   },
   {
    "duration": 1541,
    "start_time": "2021-07-02T11:31:24.121Z"
   },
   {
    "duration": 7,
    "start_time": "2021-07-02T11:31:25.665Z"
   },
   {
    "duration": 147,
    "start_time": "2021-07-02T11:31:25.675Z"
   },
   {
    "duration": 138,
    "start_time": "2021-07-02T11:31:25.825Z"
   },
   {
    "duration": 12,
    "start_time": "2021-07-02T11:31:25.965Z"
   },
   {
    "duration": 5,
    "start_time": "2021-07-02T11:31:25.979Z"
   },
   {
    "duration": 57,
    "start_time": "2021-07-02T11:31:26.008Z"
   },
   {
    "duration": 443,
    "start_time": "2021-07-02T11:31:26.068Z"
   },
   {
    "duration": 52,
    "start_time": "2021-07-02T11:31:26.514Z"
   },
   {
    "duration": 74,
    "start_time": "2021-07-02T11:31:26.568Z"
   },
   {
    "duration": 506,
    "start_time": "2021-07-02T11:31:26.644Z"
   },
   {
    "duration": 1086,
    "start_time": "2021-07-02T11:31:27.153Z"
   },
   {
    "duration": 6,
    "start_time": "2021-07-02T11:31:28.242Z"
   },
   {
    "duration": 11,
    "start_time": "2021-07-02T11:31:28.251Z"
   },
   {
    "duration": 137,
    "start_time": "2021-07-02T11:31:28.265Z"
   },
   {
    "duration": 694,
    "start_time": "2021-07-02T11:36:09.064Z"
   },
   {
    "duration": 93,
    "start_time": "2021-07-02T11:36:19.239Z"
   },
   {
    "duration": 478,
    "start_time": "2021-07-02T11:36:30.964Z"
   },
   {
    "duration": 114,
    "start_time": "2021-07-02T11:36:42.326Z"
   },
   {
    "duration": 91,
    "start_time": "2021-07-02T11:36:48.959Z"
   },
   {
    "duration": 800,
    "start_time": "2021-07-02T11:37:15.062Z"
   },
   {
    "duration": 474,
    "start_time": "2021-07-02T11:37:18.388Z"
   },
   {
    "duration": 478,
    "start_time": "2021-07-02T11:37:28.812Z"
   },
   {
    "duration": 459,
    "start_time": "2021-07-02T11:37:33.411Z"
   },
   {
    "duration": 99,
    "start_time": "2021-07-02T11:40:22.678Z"
   },
   {
    "duration": 107,
    "start_time": "2021-07-02T11:41:09.140Z"
   },
   {
    "duration": 6,
    "start_time": "2021-07-02T11:53:48.001Z"
   },
   {
    "duration": 746,
    "start_time": "2021-07-02T12:12:38.960Z"
   },
   {
    "duration": 798,
    "start_time": "2021-07-02T12:13:13.538Z"
   },
   {
    "duration": 3569,
    "start_time": "2021-07-02T12:14:17.215Z"
   },
   {
    "duration": 802,
    "start_time": "2021-07-02T12:21:59.831Z"
   },
   {
    "duration": 4108,
    "start_time": "2021-07-02T12:22:04.737Z"
   },
   {
    "duration": 12,
    "start_time": "2021-07-02T12:23:01.009Z"
   },
   {
    "duration": 13,
    "start_time": "2021-07-02T12:23:36.370Z"
   },
   {
    "duration": 14,
    "start_time": "2021-07-02T12:24:26.560Z"
   },
   {
    "duration": 21,
    "start_time": "2021-07-02T12:24:54.472Z"
   },
   {
    "duration": 22,
    "start_time": "2021-07-02T12:27:08.968Z"
   },
   {
    "duration": 12,
    "start_time": "2021-07-02T12:27:47.967Z"
   },
   {
    "duration": 14,
    "start_time": "2021-07-02T12:27:56.738Z"
   },
   {
    "duration": 761,
    "start_time": "2021-07-02T12:28:55.061Z"
   },
   {
    "duration": 21,
    "start_time": "2021-07-02T12:47:14.240Z"
   },
   {
    "duration": 28,
    "start_time": "2021-07-02T12:47:15.159Z"
   },
   {
    "duration": 413,
    "start_time": "2021-07-02T12:49:23.639Z"
   },
   {
    "duration": 389,
    "start_time": "2021-07-02T12:49:53.919Z"
   },
   {
    "duration": 387,
    "start_time": "2021-07-02T12:50:01.223Z"
   },
   {
    "duration": 108,
    "start_time": "2021-07-02T12:50:07.012Z"
   },
   {
    "duration": 31,
    "start_time": "2021-07-02T12:51:10.357Z"
   },
   {
    "duration": 22,
    "start_time": "2021-07-02T12:51:32.302Z"
   },
   {
    "duration": 557,
    "start_time": "2021-07-02T12:51:55.916Z"
   },
   {
    "duration": 348,
    "start_time": "2021-07-02T12:52:29.429Z"
   },
   {
    "duration": 21,
    "start_time": "2021-07-02T12:52:36.542Z"
   },
   {
    "duration": 13,
    "start_time": "2021-07-02T12:54:01.589Z"
   },
   {
    "duration": 376,
    "start_time": "2021-07-02T12:54:40.106Z"
   },
   {
    "duration": 5,
    "start_time": "2021-07-02T12:54:43.780Z"
   },
   {
    "duration": 6,
    "start_time": "2021-07-02T12:54:59.980Z"
   },
   {
    "duration": 34,
    "start_time": "2021-07-02T12:57:21.867Z"
   },
   {
    "duration": 1989,
    "start_time": "2021-07-04T06:05:40.541Z"
   },
   {
    "duration": 1470,
    "start_time": "2021-07-04T06:05:42.532Z"
   },
   {
    "duration": 109,
    "start_time": "2021-07-04T06:05:44.005Z"
   },
   {
    "duration": 130,
    "start_time": "2021-07-04T06:05:44.117Z"
   },
   {
    "duration": 134,
    "start_time": "2021-07-04T06:05:44.249Z"
   },
   {
    "duration": 147,
    "start_time": "2021-07-04T06:05:44.385Z"
   },
   {
    "duration": 31,
    "start_time": "2021-07-04T06:05:44.535Z"
   },
   {
    "duration": 6,
    "start_time": "2021-07-04T06:05:44.571Z"
   },
   {
    "duration": 91,
    "start_time": "2021-07-04T06:05:44.581Z"
   },
   {
    "duration": 413,
    "start_time": "2021-07-04T06:05:44.674Z"
   },
   {
    "duration": 46,
    "start_time": "2021-07-04T06:05:45.090Z"
   },
   {
    "duration": 64,
    "start_time": "2021-07-04T06:05:45.138Z"
   },
   {
    "duration": 551,
    "start_time": "2021-07-04T06:05:45.205Z"
   },
   {
    "duration": 1109,
    "start_time": "2021-07-04T06:05:45.761Z"
   },
   {
    "duration": 5,
    "start_time": "2021-07-04T06:05:46.872Z"
   },
   {
    "duration": 11,
    "start_time": "2021-07-04T06:05:46.879Z"
   },
   {
    "duration": 137,
    "start_time": "2021-07-04T06:05:46.893Z"
   },
   {
    "duration": 40,
    "start_time": "2021-07-04T06:05:47.034Z"
   },
   {
    "duration": 26,
    "start_time": "2021-07-04T06:05:47.077Z"
   },
   {
    "duration": 27,
    "start_time": "2021-07-04T06:05:47.106Z"
   },
   {
    "duration": 50,
    "start_time": "2021-07-04T06:05:47.164Z"
   },
   {
    "duration": 193,
    "start_time": "2021-07-04T06:05:47.218Z"
   },
   {
    "duration": 1524,
    "start_time": "2021-07-04T06:05:47.414Z"
   },
   {
    "duration": 5544,
    "start_time": "2021-07-04T06:05:48.941Z"
   },
   {
    "duration": -184,
    "start_time": "2021-07-04T06:05:54.672Z"
   },
   {
    "duration": 22,
    "start_time": "2021-07-04T06:10:35.277Z"
   },
   {
    "duration": 21,
    "start_time": "2021-07-04T06:10:37.669Z"
   },
   {
    "duration": 771,
    "start_time": "2021-07-04T06:15:51.583Z"
   },
   {
    "duration": 48,
    "start_time": "2021-07-04T06:16:42.729Z"
   },
   {
    "duration": 48,
    "start_time": "2021-07-04T06:16:49.073Z"
   },
   {
    "duration": 48,
    "start_time": "2021-07-04T06:17:33.481Z"
   },
   {
    "duration": 89,
    "start_time": "2021-07-04T06:17:45.565Z"
   },
   {
    "duration": 48,
    "start_time": "2021-07-04T06:17:52.789Z"
   },
   {
    "duration": 132,
    "start_time": "2021-07-04T06:22:44.823Z"
   },
   {
    "duration": 130,
    "start_time": "2021-07-04T06:22:56.510Z"
   },
   {
    "duration": 132,
    "start_time": "2021-07-04T06:23:04.333Z"
   },
   {
    "duration": 48,
    "start_time": "2021-07-04T06:23:20.085Z"
   },
   {
    "duration": 90,
    "start_time": "2021-07-04T06:23:23.478Z"
   },
   {
    "duration": 23,
    "start_time": "2021-07-04T06:25:05.372Z"
   },
   {
    "duration": 18,
    "start_time": "2021-07-04T06:30:18.877Z"
   },
   {
    "duration": 5,
    "start_time": "2021-07-04T06:32:47.979Z"
   },
   {
    "duration": 5,
    "start_time": "2021-07-04T06:33:20.690Z"
   },
   {
    "duration": 6,
    "start_time": "2021-07-04T06:33:33.261Z"
   },
   {
    "duration": 22,
    "start_time": "2021-07-04T06:34:17.754Z"
   },
   {
    "duration": 6,
    "start_time": "2021-07-04T06:34:33.760Z"
   },
   {
    "duration": 27,
    "start_time": "2021-07-04T06:38:04.488Z"
   },
   {
    "duration": 12,
    "start_time": "2021-07-04T06:38:21.131Z"
   },
   {
    "duration": 10,
    "start_time": "2021-07-04T06:38:32.887Z"
   },
   {
    "duration": 12,
    "start_time": "2021-07-04T06:38:34.191Z"
   },
   {
    "duration": 10,
    "start_time": "2021-07-04T06:38:55.774Z"
   },
   {
    "duration": 10,
    "start_time": "2021-07-04T06:38:57.253Z"
   },
   {
    "duration": 12,
    "start_time": "2021-07-04T06:39:03.469Z"
   },
   {
    "duration": 5,
    "start_time": "2021-07-04T06:39:21.511Z"
   },
   {
    "duration": 1491,
    "start_time": "2021-07-04T06:39:31.683Z"
   },
   {
    "duration": 1437,
    "start_time": "2021-07-04T06:39:33.176Z"
   },
   {
    "duration": 109,
    "start_time": "2021-07-04T06:39:34.616Z"
   },
   {
    "duration": 107,
    "start_time": "2021-07-04T06:39:34.728Z"
   },
   {
    "duration": 121,
    "start_time": "2021-07-04T06:39:34.837Z"
   },
   {
    "duration": 135,
    "start_time": "2021-07-04T06:39:34.962Z"
   },
   {
    "duration": 17,
    "start_time": "2021-07-04T06:39:35.100Z"
   },
   {
    "duration": 73,
    "start_time": "2021-07-04T06:39:35.121Z"
   },
   {
    "duration": 104,
    "start_time": "2021-07-04T06:39:35.196Z"
   },
   {
    "duration": 23,
    "start_time": "2021-07-04T06:39:35.302Z"
   },
   {
    "duration": 6,
    "start_time": "2021-07-04T06:39:35.327Z"
   },
   {
    "duration": 70,
    "start_time": "2021-07-04T06:39:39.064Z"
   },
   {
    "duration": 26,
    "start_time": "2021-07-04T06:39:39.137Z"
   },
   {
    "duration": 4,
    "start_time": "2021-07-04T06:39:39.166Z"
   },
   {
    "duration": 21,
    "start_time": "2021-07-04T06:39:48.938Z"
   },
   {
    "duration": 21,
    "start_time": "2021-07-04T06:40:03.203Z"
   },
   {
    "duration": 20,
    "start_time": "2021-07-04T06:40:08.988Z"
   },
   {
    "duration": 23,
    "start_time": "2021-07-04T06:40:24.148Z"
   },
   {
    "duration": 21,
    "start_time": "2021-07-04T06:40:28.652Z"
   },
   {
    "duration": 20,
    "start_time": "2021-07-04T06:40:34.319Z"
   },
   {
    "duration": 38,
    "start_time": "2021-07-04T06:41:07.293Z"
   },
   {
    "duration": 4,
    "start_time": "2021-07-04T06:41:21.741Z"
   },
   {
    "duration": 13,
    "start_time": "2021-07-04T06:41:27.090Z"
   },
   {
    "duration": 9,
    "start_time": "2021-07-04T06:41:51.009Z"
   },
   {
    "duration": 8,
    "start_time": "2021-07-04T06:41:51.922Z"
   },
   {
    "duration": 5,
    "start_time": "2021-07-04T06:41:53.555Z"
   },
   {
    "duration": 1592,
    "start_time": "2021-07-04T06:42:01.166Z"
   },
   {
    "duration": 1418,
    "start_time": "2021-07-04T06:42:02.762Z"
   },
   {
    "duration": 106,
    "start_time": "2021-07-04T06:42:04.183Z"
   },
   {
    "duration": 107,
    "start_time": "2021-07-04T06:42:04.291Z"
   },
   {
    "duration": 120,
    "start_time": "2021-07-04T06:42:04.400Z"
   },
   {
    "duration": 130,
    "start_time": "2021-07-04T06:42:04.522Z"
   },
   {
    "duration": 22,
    "start_time": "2021-07-04T06:42:04.655Z"
   },
   {
    "duration": 48,
    "start_time": "2021-07-04T06:42:04.680Z"
   },
   {
    "duration": 114,
    "start_time": "2021-07-04T06:42:04.730Z"
   },
   {
    "duration": 34,
    "start_time": "2021-07-04T06:42:04.847Z"
   },
   {
    "duration": 5,
    "start_time": "2021-07-04T06:42:04.884Z"
   },
   {
    "duration": 87,
    "start_time": "2021-07-04T06:42:05.668Z"
   },
   {
    "duration": 10,
    "start_time": "2021-07-04T06:42:05.811Z"
   },
   {
    "duration": 5,
    "start_time": "2021-07-04T06:42:05.982Z"
   },
   {
    "duration": 20,
    "start_time": "2021-07-04T06:42:07.276Z"
   },
   {
    "duration": 61,
    "start_time": "2021-07-04T06:42:07.804Z"
   },
   {
    "duration": 10,
    "start_time": "2021-07-04T06:42:08.469Z"
   },
   {
    "duration": 6,
    "start_time": "2021-07-04T06:42:09.157Z"
   },
   {
    "duration": 14,
    "start_time": "2021-07-04T06:58:57.355Z"
   },
   {
    "duration": 18,
    "start_time": "2021-07-04T06:59:05.939Z"
   },
   {
    "duration": 24,
    "start_time": "2021-07-04T06:59:23.605Z"
   },
   {
    "duration": 23,
    "start_time": "2021-07-04T06:59:31.173Z"
   },
   {
    "duration": 65,
    "start_time": "2021-07-04T07:00:28.454Z"
   },
   {
    "duration": 496,
    "start_time": "2021-07-04T07:00:37.013Z"
   },
   {
    "duration": 301,
    "start_time": "2021-07-04T07:00:46.973Z"
   },
   {
    "duration": 1519,
    "start_time": "2021-07-04T07:00:59.014Z"
   },
   {
    "duration": 1401,
    "start_time": "2021-07-04T07:01:00.535Z"
   },
   {
    "duration": 108,
    "start_time": "2021-07-04T07:01:01.941Z"
   },
   {
    "duration": 103,
    "start_time": "2021-07-04T07:01:02.061Z"
   },
   {
    "duration": 121,
    "start_time": "2021-07-04T07:01:02.166Z"
   },
   {
    "duration": 127,
    "start_time": "2021-07-04T07:01:02.290Z"
   },
   {
    "duration": 17,
    "start_time": "2021-07-04T07:01:02.421Z"
   },
   {
    "duration": 63,
    "start_time": "2021-07-04T07:01:02.440Z"
   },
   {
    "duration": 105,
    "start_time": "2021-07-04T07:01:02.506Z"
   },
   {
    "duration": 21,
    "start_time": "2021-07-04T07:01:02.614Z"
   },
   {
    "duration": 25,
    "start_time": "2021-07-04T07:01:02.637Z"
   },
   {
    "duration": 73,
    "start_time": "2021-07-04T07:01:02.664Z"
   },
   {
    "duration": 23,
    "start_time": "2021-07-04T07:01:02.739Z"
   },
   {
    "duration": 5,
    "start_time": "2021-07-04T07:01:02.764Z"
   },
   {
    "duration": 23,
    "start_time": "2021-07-04T07:01:02.771Z"
   },
   {
    "duration": 81,
    "start_time": "2021-07-04T07:01:02.796Z"
   },
   {
    "duration": 8,
    "start_time": "2021-07-04T07:01:02.880Z"
   },
   {
    "duration": 13,
    "start_time": "2021-07-04T07:01:02.891Z"
   },
   {
    "duration": 42,
    "start_time": "2021-07-04T07:01:02.906Z"
   },
   {
    "duration": 71,
    "start_time": "2021-07-04T07:01:03.579Z"
   },
   {
    "duration": 5,
    "start_time": "2021-07-04T07:01:16.082Z"
   },
   {
    "duration": 11,
    "start_time": "2021-07-04T07:03:24.178Z"
   },
   {
    "duration": 5,
    "start_time": "2021-07-04T07:03:24.378Z"
   },
   {
    "duration": 33,
    "start_time": "2021-07-04T07:03:24.537Z"
   },
   {
    "duration": 34,
    "start_time": "2021-07-04T07:05:25.985Z"
   },
   {
    "duration": 314,
    "start_time": "2021-07-04T07:09:34.541Z"
   },
   {
    "duration": 40,
    "start_time": "2021-07-04T07:09:36.815Z"
   },
   {
    "duration": 39,
    "start_time": "2021-07-04T07:09:40.061Z"
   },
   {
    "duration": 388,
    "start_time": "2021-07-04T07:11:56.639Z"
   },
   {
    "duration": 301,
    "start_time": "2021-07-04T07:12:33.406Z"
   },
   {
    "duration": 309,
    "start_time": "2021-07-04T07:13:11.324Z"
   },
   {
    "duration": 36,
    "start_time": "2021-07-04T07:32:32.839Z"
   },
   {
    "duration": 467,
    "start_time": "2021-07-04T07:32:42.211Z"
   },
   {
    "duration": 5,
    "start_time": "2021-07-04T07:32:45.450Z"
   },
   {
    "duration": 10,
    "start_time": "2021-07-04T07:49:16.116Z"
   },
   {
    "duration": 43,
    "start_time": "2021-07-04T07:50:21.669Z"
   },
   {
    "duration": 44,
    "start_time": "2021-07-04T07:50:40.030Z"
   },
   {
    "duration": 7,
    "start_time": "2021-07-04T07:53:23.212Z"
   },
   {
    "duration": 3943,
    "start_time": "2021-07-04T07:56:40.906Z"
   },
   {
    "duration": 7,
    "start_time": "2021-07-04T07:56:45.682Z"
   },
   {
    "duration": 5,
    "start_time": "2021-07-04T07:57:20.778Z"
   },
   {
    "duration": 34,
    "start_time": "2021-07-04T07:58:31.126Z"
   },
   {
    "duration": 193,
    "start_time": "2021-07-04T07:58:39.608Z"
   },
   {
    "duration": 167,
    "start_time": "2021-07-04T07:59:32.258Z"
   },
   {
    "duration": 183,
    "start_time": "2021-07-04T07:59:37.358Z"
   },
   {
    "duration": 165,
    "start_time": "2021-07-04T08:00:11.424Z"
   },
   {
    "duration": 381,
    "start_time": "2021-07-04T08:00:16.993Z"
   },
   {
    "duration": 5,
    "start_time": "2021-07-04T08:00:18.910Z"
   },
   {
    "duration": 1614,
    "start_time": "2021-07-04T08:01:12.129Z"
   },
   {
    "duration": 1416,
    "start_time": "2021-07-04T08:01:13.746Z"
   },
   {
    "duration": 105,
    "start_time": "2021-07-04T08:01:15.165Z"
   },
   {
    "duration": 107,
    "start_time": "2021-07-04T08:01:15.273Z"
   },
   {
    "duration": 122,
    "start_time": "2021-07-04T08:01:15.382Z"
   },
   {
    "duration": 126,
    "start_time": "2021-07-04T08:01:15.506Z"
   },
   {
    "duration": 30,
    "start_time": "2021-07-04T08:01:15.634Z"
   },
   {
    "duration": 47,
    "start_time": "2021-07-04T08:01:15.668Z"
   },
   {
    "duration": 110,
    "start_time": "2021-07-04T08:01:15.718Z"
   },
   {
    "duration": 22,
    "start_time": "2021-07-04T08:01:16.200Z"
   },
   {
    "duration": 6,
    "start_time": "2021-07-04T08:01:16.505Z"
   },
   {
    "duration": 72,
    "start_time": "2021-07-04T08:01:17.168Z"
   },
   {
    "duration": 10,
    "start_time": "2021-07-04T08:01:17.450Z"
   },
   {
    "duration": 5,
    "start_time": "2021-07-04T08:01:17.875Z"
   },
   {
    "duration": 21,
    "start_time": "2021-07-04T08:01:21.621Z"
   },
   {
    "duration": 62,
    "start_time": "2021-07-04T08:01:22.137Z"
   },
   {
    "duration": 10,
    "start_time": "2021-07-04T08:01:22.521Z"
   },
   {
    "duration": 6,
    "start_time": "2021-07-04T08:01:23.026Z"
   },
   {
    "duration": 25,
    "start_time": "2021-07-04T08:01:38.835Z"
   },
   {
    "duration": 23,
    "start_time": "2021-07-04T08:01:43.647Z"
   },
   {
    "duration": 23,
    "start_time": "2021-07-04T08:01:50.145Z"
   },
   {
    "duration": 23,
    "start_time": "2021-07-04T08:01:53.605Z"
   },
   {
    "duration": 23,
    "start_time": "2021-07-04T08:01:59.304Z"
   },
   {
    "duration": 25,
    "start_time": "2021-07-04T08:02:03.121Z"
   },
   {
    "duration": 25,
    "start_time": "2021-07-04T08:02:06.430Z"
   },
   {
    "duration": 28,
    "start_time": "2021-07-04T08:02:10.418Z"
   },
   {
    "duration": 11,
    "start_time": "2021-07-04T08:02:17.683Z"
   },
   {
    "duration": 23,
    "start_time": "2021-07-04T08:02:34.074Z"
   },
   {
    "duration": 23,
    "start_time": "2021-07-04T08:02:37.703Z"
   },
   {
    "duration": 23,
    "start_time": "2021-07-04T08:02:41.009Z"
   },
   {
    "duration": 23,
    "start_time": "2021-07-04T08:02:49.522Z"
   },
   {
    "duration": 22,
    "start_time": "2021-07-04T08:03:06.364Z"
   },
   {
    "duration": 102,
    "start_time": "2021-07-04T08:03:52.646Z"
   },
   {
    "duration": 94,
    "start_time": "2021-07-04T08:03:56.923Z"
   },
   {
    "duration": 23,
    "start_time": "2021-07-04T08:04:29.375Z"
   },
   {
    "duration": 66,
    "start_time": "2021-07-04T08:04:30.186Z"
   },
   {
    "duration": 5,
    "start_time": "2021-07-04T08:04:31.594Z"
   },
   {
    "duration": 11,
    "start_time": "2021-07-04T08:04:33.864Z"
   },
   {
    "duration": 5,
    "start_time": "2021-07-04T08:04:34.673Z"
   },
   {
    "duration": 40,
    "start_time": "2021-07-04T08:04:35.059Z"
   },
   {
    "duration": 44,
    "start_time": "2021-07-04T08:04:38.242Z"
   },
   {
    "duration": 297,
    "start_time": "2021-07-04T08:04:39.790Z"
   },
   {
    "duration": 37,
    "start_time": "2021-07-04T08:04:40.375Z"
   },
   {
    "duration": 39,
    "start_time": "2021-07-04T08:04:41.096Z"
   },
   {
    "duration": 8,
    "start_time": "2021-07-04T08:04:42.029Z"
   },
   {
    "duration": 5,
    "start_time": "2021-07-04T08:04:42.585Z"
   },
   {
    "duration": 32,
    "start_time": "2021-07-04T08:04:42.931Z"
   },
   {
    "duration": 195,
    "start_time": "2021-07-04T08:04:44.320Z"
   },
   {
    "duration": 382,
    "start_time": "2021-07-04T08:04:45.488Z"
   },
   {
    "duration": 5,
    "start_time": "2021-07-04T08:04:46.096Z"
   },
   {
    "duration": 73,
    "start_time": "2021-07-04T08:04:48.609Z"
   },
   {
    "duration": 54,
    "start_time": "2021-07-04T08:05:07.804Z"
   },
   {
    "duration": 4,
    "start_time": "2021-07-04T08:05:08.251Z"
   },
   {
    "duration": 76,
    "start_time": "2021-07-04T08:06:05.899Z"
   },
   {
    "duration": 298,
    "start_time": "2021-07-04T08:18:23.804Z"
   },
   {
    "duration": 24,
    "start_time": "2021-07-04T08:22:49.908Z"
   },
   {
    "duration": 168,
    "start_time": "2021-07-04T08:55:24.422Z"
   },
   {
    "duration": 127,
    "start_time": "2021-07-04T08:56:30.940Z"
   },
   {
    "duration": 9,
    "start_time": "2021-07-04T08:59:05.826Z"
   },
   {
    "duration": 1783,
    "start_time": "2021-07-04T09:34:01.581Z"
   },
   {
    "duration": 2185,
    "start_time": "2021-07-04T09:34:03.368Z"
   },
   {
    "duration": 105,
    "start_time": "2021-07-04T09:34:05.561Z"
   },
   {
    "duration": 109,
    "start_time": "2021-07-04T09:34:05.669Z"
   },
   {
    "duration": 122,
    "start_time": "2021-07-04T09:34:05.781Z"
   },
   {
    "duration": 133,
    "start_time": "2021-07-04T09:34:05.906Z"
   },
   {
    "duration": 29,
    "start_time": "2021-07-04T09:34:06.041Z"
   },
   {
    "duration": 46,
    "start_time": "2021-07-04T09:34:06.073Z"
   },
   {
    "duration": 115,
    "start_time": "2021-07-04T09:34:06.121Z"
   },
   {
    "duration": 34,
    "start_time": "2021-07-04T09:34:06.238Z"
   },
   {
    "duration": 5,
    "start_time": "2021-07-04T09:34:06.274Z"
   },
   {
    "duration": 100,
    "start_time": "2021-07-04T09:34:06.282Z"
   },
   {
    "duration": 10,
    "start_time": "2021-07-04T09:34:06.384Z"
   },
   {
    "duration": 11,
    "start_time": "2021-07-04T09:34:06.396Z"
   },
   {
    "duration": 25,
    "start_time": "2021-07-04T09:34:06.409Z"
   },
   {
    "duration": 58,
    "start_time": "2021-07-04T09:34:06.462Z"
   },
   {
    "duration": 8,
    "start_time": "2021-07-04T09:34:06.522Z"
   },
   {
    "duration": 30,
    "start_time": "2021-07-04T09:34:06.532Z"
   },
   {
    "duration": 33,
    "start_time": "2021-07-04T09:34:06.564Z"
   },
   {
    "duration": 64,
    "start_time": "2021-07-04T09:34:06.603Z"
   },
   {
    "duration": 101,
    "start_time": "2021-07-04T09:34:06.670Z"
   },
   {
    "duration": 6,
    "start_time": "2021-07-04T09:34:06.775Z"
   },
   {
    "duration": 15,
    "start_time": "2021-07-04T09:34:06.785Z"
   },
   {
    "duration": 5,
    "start_time": "2021-07-04T09:34:06.920Z"
   },
   {
    "duration": 35,
    "start_time": "2021-07-04T09:34:07.057Z"
   },
   {
    "duration": 33,
    "start_time": "2021-07-04T09:34:07.385Z"
   },
   {
    "duration": 308,
    "start_time": "2021-07-04T09:34:07.826Z"
   },
   {
    "duration": 38,
    "start_time": "2021-07-04T09:34:08.136Z"
   },
   {
    "duration": 86,
    "start_time": "2021-07-04T09:34:08.178Z"
   },
   {
    "duration": 9,
    "start_time": "2021-07-04T09:34:09.096Z"
   },
   {
    "duration": 6,
    "start_time": "2021-07-04T09:34:10.057Z"
   },
   {
    "duration": 39,
    "start_time": "2021-07-04T09:34:11.172Z"
   },
   {
    "duration": 299,
    "start_time": "2021-07-04T09:34:11.538Z"
   },
   {
    "duration": 631,
    "start_time": "2021-07-04T09:34:11.841Z"
   },
   {
    "duration": 6,
    "start_time": "2021-07-04T09:34:12.475Z"
   },
   {
    "duration": 75,
    "start_time": "2021-07-04T09:34:12.656Z"
   },
   {
    "duration": 36,
    "start_time": "2021-07-04T09:34:13.103Z"
   },
   {
    "duration": 5,
    "start_time": "2021-07-04T09:34:13.625Z"
   },
   {
    "duration": 76,
    "start_time": "2021-07-04T09:34:14.489Z"
   },
   {
    "duration": 24,
    "start_time": "2021-07-04T09:34:16.303Z"
   },
   {
    "duration": 119,
    "start_time": "2021-07-04T09:34:17.248Z"
   },
   {
    "duration": 475,
    "start_time": "2021-07-04T09:34:22.881Z"
   },
   {
    "duration": 33,
    "start_time": "2021-07-04T09:34:59.449Z"
   },
   {
    "duration": 2277,
    "start_time": "2021-07-04T12:24:40.609Z"
   },
   {
    "duration": 2297,
    "start_time": "2021-07-04T12:24:42.889Z"
   },
   {
    "duration": 139,
    "start_time": "2021-07-04T12:24:45.190Z"
   },
   {
    "duration": 130,
    "start_time": "2021-07-04T12:24:45.333Z"
   },
   {
    "duration": 190,
    "start_time": "2021-07-04T12:24:45.467Z"
   },
   {
    "duration": 184,
    "start_time": "2021-07-04T12:24:45.659Z"
   },
   {
    "duration": 28,
    "start_time": "2021-07-04T12:24:45.846Z"
   },
   {
    "duration": 61,
    "start_time": "2021-07-04T12:24:45.880Z"
   },
   {
    "duration": 123,
    "start_time": "2021-07-04T12:24:45.965Z"
   },
   {
    "duration": 27,
    "start_time": "2021-07-04T12:24:46.090Z"
   },
   {
    "duration": 7,
    "start_time": "2021-07-04T12:24:46.120Z"
   },
   {
    "duration": 130,
    "start_time": "2021-07-04T12:24:46.130Z"
   },
   {
    "duration": 14,
    "start_time": "2021-07-04T12:24:46.264Z"
   },
   {
    "duration": 7,
    "start_time": "2021-07-04T12:24:46.281Z"
   },
   {
    "duration": 22,
    "start_time": "2021-07-04T12:24:46.291Z"
   },
   {
    "duration": 108,
    "start_time": "2021-07-04T12:24:46.316Z"
   },
   {
    "duration": 10,
    "start_time": "2021-07-04T12:24:46.427Z"
   },
   {
    "duration": 28,
    "start_time": "2021-07-04T12:24:46.439Z"
   },
   {
    "duration": 28,
    "start_time": "2021-07-04T12:24:46.470Z"
   },
   {
    "duration": 21,
    "start_time": "2021-07-04T12:24:46.500Z"
   },
   {
    "duration": 100,
    "start_time": "2021-07-04T12:24:46.524Z"
   },
   {
    "duration": 5,
    "start_time": "2021-07-04T12:24:46.627Z"
   },
   {
    "duration": 32,
    "start_time": "2021-07-04T12:24:46.637Z"
   },
   {
    "duration": 5,
    "start_time": "2021-07-04T12:24:46.672Z"
   },
   {
    "duration": 34,
    "start_time": "2021-07-04T12:24:46.680Z"
   },
   {
    "duration": 69,
    "start_time": "2021-07-04T12:24:46.716Z"
   },
   {
    "duration": 327,
    "start_time": "2021-07-04T12:24:46.788Z"
   },
   {
    "duration": 44,
    "start_time": "2021-07-04T12:24:47.117Z"
   },
   {
    "duration": 37,
    "start_time": "2021-07-04T12:24:47.164Z"
   },
   {
    "duration": 7,
    "start_time": "2021-07-04T12:24:48.687Z"
   },
   {
    "duration": 5,
    "start_time": "2021-07-04T12:24:49.006Z"
   },
   {
    "duration": 31,
    "start_time": "2021-07-04T12:24:49.327Z"
   },
   {
    "duration": 197,
    "start_time": "2021-07-04T12:24:49.855Z"
   },
   {
    "duration": 413,
    "start_time": "2021-07-04T12:24:50.056Z"
   },
   {
    "duration": 5,
    "start_time": "2021-07-04T12:24:50.472Z"
   },
   {
    "duration": 76,
    "start_time": "2021-07-04T12:24:50.503Z"
   },
   {
    "duration": 37,
    "start_time": "2021-07-04T12:24:51.183Z"
   },
   {
    "duration": 5,
    "start_time": "2021-07-04T12:24:51.396Z"
   },
   {
    "duration": 72,
    "start_time": "2021-07-04T12:24:51.750Z"
   },
   {
    "duration": 24,
    "start_time": "2021-07-04T12:24:53.798Z"
   },
   {
    "duration": 127,
    "start_time": "2021-07-04T12:24:55.006Z"
   },
   {
    "duration": 292,
    "start_time": "2021-07-04T12:25:19.281Z"
   },
   {
    "duration": 34,
    "start_time": "2021-07-04T12:25:33.093Z"
   },
   {
    "duration": 72,
    "start_time": "2021-07-04T12:27:25.455Z"
   },
   {
    "duration": 33,
    "start_time": "2021-07-04T12:27:29.749Z"
   },
   {
    "duration": 1502,
    "start_time": "2021-07-04T12:31:22.563Z"
   },
   {
    "duration": 1495,
    "start_time": "2021-07-04T12:31:24.068Z"
   },
   {
    "duration": 107,
    "start_time": "2021-07-04T12:31:25.565Z"
   },
   {
    "duration": 109,
    "start_time": "2021-07-04T12:31:25.675Z"
   },
   {
    "duration": 120,
    "start_time": "2021-07-04T12:31:25.786Z"
   },
   {
    "duration": 129,
    "start_time": "2021-07-04T12:31:25.909Z"
   },
   {
    "duration": 25,
    "start_time": "2021-07-04T12:31:26.040Z"
   },
   {
    "duration": 47,
    "start_time": "2021-07-04T12:31:26.068Z"
   },
   {
    "duration": 112,
    "start_time": "2021-07-04T12:31:26.118Z"
   },
   {
    "duration": 32,
    "start_time": "2021-07-04T12:31:26.233Z"
   },
   {
    "duration": 5,
    "start_time": "2021-07-04T12:31:26.268Z"
   },
   {
    "duration": 93,
    "start_time": "2021-07-04T12:31:26.275Z"
   },
   {
    "duration": 10,
    "start_time": "2021-07-04T12:31:26.370Z"
   },
   {
    "duration": 8,
    "start_time": "2021-07-04T12:31:26.382Z"
   },
   {
    "duration": 28,
    "start_time": "2021-07-04T12:31:26.392Z"
   },
   {
    "duration": 81,
    "start_time": "2021-07-04T12:31:26.422Z"
   },
   {
    "duration": 7,
    "start_time": "2021-07-04T12:31:26.506Z"
   },
   {
    "duration": 7,
    "start_time": "2021-07-04T12:31:26.515Z"
   },
   {
    "duration": 52,
    "start_time": "2021-07-04T12:31:26.525Z"
   },
   {
    "duration": 21,
    "start_time": "2021-07-04T12:31:26.579Z"
   },
   {
    "duration": 84,
    "start_time": "2021-07-04T12:31:26.602Z"
   },
   {
    "duration": 5,
    "start_time": "2021-07-04T12:31:26.688Z"
   },
   {
    "duration": 19,
    "start_time": "2021-07-04T12:31:26.696Z"
   },
   {
    "duration": 6,
    "start_time": "2021-07-04T12:31:26.717Z"
   },
   {
    "duration": 65,
    "start_time": "2021-07-04T12:31:26.726Z"
   },
   {
    "duration": 34,
    "start_time": "2021-07-04T12:31:26.797Z"
   },
   {
    "duration": 347,
    "start_time": "2021-07-04T12:31:26.833Z"
   },
   {
    "duration": 37,
    "start_time": "2021-07-04T12:31:27.182Z"
   },
   {
    "duration": 58,
    "start_time": "2021-07-04T12:31:27.221Z"
   },
   {
    "duration": 9,
    "start_time": "2021-07-04T12:31:27.282Z"
   },
   {
    "duration": 7,
    "start_time": "2021-07-04T12:31:27.293Z"
   },
   {
    "duration": 60,
    "start_time": "2021-07-04T12:31:27.303Z"
   },
   {
    "duration": 220,
    "start_time": "2021-07-04T12:31:27.366Z"
   },
   {
    "duration": 407,
    "start_time": "2021-07-04T12:31:27.588Z"
   },
   {
    "duration": 6,
    "start_time": "2021-07-04T12:31:27.997Z"
   },
   {
    "duration": 100,
    "start_time": "2021-07-04T12:31:28.005Z"
   },
   {
    "duration": 34,
    "start_time": "2021-07-04T12:31:28.108Z"
   },
   {
    "duration": 36,
    "start_time": "2021-07-04T12:31:28.162Z"
   },
   {
    "duration": 6,
    "start_time": "2021-07-04T12:31:36.191Z"
   },
   {
    "duration": 74,
    "start_time": "2021-07-04T12:31:38.940Z"
   },
   {
    "duration": 24,
    "start_time": "2021-07-04T12:31:39.016Z"
   },
   {
    "duration": 149,
    "start_time": "2021-07-04T12:31:39.043Z"
   },
   {
    "duration": 300,
    "start_time": "2021-07-04T12:31:39.194Z"
   },
   {
    "duration": 55,
    "start_time": "2021-07-04T12:31:42.440Z"
   },
   {
    "duration": 227,
    "start_time": "2021-07-04T12:32:08.511Z"
   },
   {
    "duration": 128,
    "start_time": "2021-07-04T12:33:34.351Z"
   },
   {
    "duration": 215,
    "start_time": "2021-07-04T12:35:42.391Z"
   },
   {
    "duration": 101,
    "start_time": "2021-07-04T12:35:46.710Z"
   },
   {
    "duration": 454,
    "start_time": "2021-07-04T12:53:10.896Z"
   },
   {
    "duration": 124,
    "start_time": "2021-07-04T12:55:10.197Z"
   },
   {
    "duration": 336,
    "start_time": "2021-07-04T12:56:08.213Z"
   },
   {
    "duration": 195,
    "start_time": "2021-07-04T12:56:17.445Z"
   },
   {
    "duration": 151,
    "start_time": "2021-07-04T12:56:20.876Z"
   },
   {
    "duration": 356,
    "start_time": "2021-07-04T12:56:22.612Z"
   },
   {
    "duration": 32,
    "start_time": "2021-07-04T12:56:46.404Z"
   },
   {
    "duration": 99,
    "start_time": "2021-07-04T12:57:28.436Z"
   },
   {
    "duration": 181,
    "start_time": "2021-07-04T12:57:32.556Z"
   },
   {
    "duration": 53,
    "start_time": "2021-07-04T12:57:38.771Z"
   },
   {
    "duration": 207,
    "start_time": "2021-07-04T12:57:44.733Z"
   },
   {
    "duration": 127,
    "start_time": "2021-07-04T12:58:00.268Z"
   },
   {
    "duration": 58,
    "start_time": "2021-07-04T12:58:17.195Z"
   },
   {
    "duration": 436,
    "start_time": "2021-07-04T13:01:46.880Z"
   },
   {
    "duration": 124,
    "start_time": "2021-07-04T13:01:52.577Z"
   },
   {
    "duration": 210,
    "start_time": "2021-07-04T13:01:53.522Z"
   },
   {
    "duration": 112,
    "start_time": "2021-07-04T13:01:54.650Z"
   },
   {
    "duration": 40,
    "start_time": "2021-07-04T13:01:56.074Z"
   },
   {
    "duration": 90,
    "start_time": "2021-07-04T13:02:03.917Z"
   },
   {
    "duration": 40,
    "start_time": "2021-07-04T13:02:19.768Z"
   },
   {
    "duration": 573,
    "start_time": "2021-07-04T13:02:23.817Z"
   },
   {
    "duration": 476,
    "start_time": "2021-07-04T13:06:18.332Z"
   },
   {
    "duration": 480,
    "start_time": "2021-07-04T13:06:26.752Z"
   },
   {
    "duration": 131,
    "start_time": "2021-07-04T13:07:24.502Z"
   },
   {
    "duration": 123,
    "start_time": "2021-07-04T13:07:44.182Z"
   },
   {
    "duration": 213,
    "start_time": "2021-07-04T13:07:45.320Z"
   },
   {
    "duration": 112,
    "start_time": "2021-07-04T13:07:47.486Z"
   },
   {
    "duration": 95,
    "start_time": "2021-07-04T13:07:48.097Z"
   },
   {
    "duration": 556,
    "start_time": "2021-07-04T13:07:50.607Z"
   },
   {
    "duration": 129,
    "start_time": "2021-07-04T13:08:10.589Z"
   },
   {
    "duration": 126,
    "start_time": "2021-07-04T13:13:25.908Z"
   },
   {
    "duration": 248,
    "start_time": "2021-07-04T13:13:26.972Z"
   },
   {
    "duration": 106,
    "start_time": "2021-07-04T13:13:27.356Z"
   },
   {
    "duration": 93,
    "start_time": "2021-07-04T13:13:28.004Z"
   },
   {
    "duration": 562,
    "start_time": "2021-07-04T13:13:29.595Z"
   },
   {
    "duration": 121,
    "start_time": "2021-07-04T13:13:31.803Z"
   },
   {
    "duration": 124,
    "start_time": "2021-07-04T13:16:32.203Z"
   },
   {
    "duration": 211,
    "start_time": "2021-07-04T13:16:32.498Z"
   },
   {
    "duration": 112,
    "start_time": "2021-07-04T13:16:32.712Z"
   },
   {
    "duration": 104,
    "start_time": "2021-07-04T13:16:32.827Z"
   },
   {
    "duration": 575,
    "start_time": "2021-07-04T13:16:33.041Z"
   },
   {
    "duration": 225,
    "start_time": "2021-07-04T13:16:34.583Z"
   },
   {
    "duration": 233,
    "start_time": "2021-07-04T13:16:42.241Z"
   },
   {
    "duration": 130,
    "start_time": "2021-07-04T13:18:03.674Z"
   },
   {
    "duration": 218,
    "start_time": "2021-07-04T13:18:03.979Z"
   },
   {
    "duration": 109,
    "start_time": "2021-07-04T13:18:04.199Z"
   },
   {
    "duration": 102,
    "start_time": "2021-07-04T13:18:04.361Z"
   },
   {
    "duration": 460,
    "start_time": "2021-07-04T13:18:06.595Z"
   },
   {
    "duration": 148,
    "start_time": "2021-07-04T13:18:10.186Z"
   },
   {
    "duration": 340,
    "start_time": "2021-07-04T13:19:31.169Z"
   },
   {
    "duration": 23,
    "start_time": "2021-07-04T13:20:01.353Z"
   },
   {
    "duration": 349,
    "start_time": "2021-07-04T13:20:07.394Z"
   },
   {
    "duration": 50,
    "start_time": "2021-07-04T13:20:40.384Z"
   },
   {
    "duration": 332,
    "start_time": "2021-07-04T13:20:44.456Z"
   },
   {
    "duration": 357,
    "start_time": "2021-07-04T13:21:32.361Z"
   },
   {
    "duration": 8,
    "start_time": "2021-07-05T06:25:20.506Z"
   },
   {
    "duration": 8,
    "start_time": "2021-07-05T06:25:21.245Z"
   },
   {
    "duration": 6736,
    "start_time": "2021-07-05T06:25:21.685Z"
   },
   {
    "duration": 108,
    "start_time": "2021-07-05T06:25:28.424Z"
   },
   {
    "duration": 135,
    "start_time": "2021-07-05T06:25:28.536Z"
   },
   {
    "duration": 213,
    "start_time": "2021-07-05T06:25:28.675Z"
   },
   {
    "duration": 187,
    "start_time": "2021-07-05T06:25:28.891Z"
   },
   {
    "duration": 22,
    "start_time": "2021-07-05T06:25:29.081Z"
   },
   {
    "duration": 70,
    "start_time": "2021-07-05T06:25:29.105Z"
   },
   {
    "duration": 98,
    "start_time": "2021-07-05T06:25:29.179Z"
   },
   {
    "duration": 20,
    "start_time": "2021-07-05T06:25:29.280Z"
   },
   {
    "duration": 5,
    "start_time": "2021-07-05T06:25:29.302Z"
   },
   {
    "duration": 108,
    "start_time": "2021-07-05T06:25:29.310Z"
   },
   {
    "duration": 12,
    "start_time": "2021-07-05T06:25:29.420Z"
   },
   {
    "duration": 27,
    "start_time": "2021-07-05T06:25:29.436Z"
   },
   {
    "duration": 18,
    "start_time": "2021-07-05T06:25:29.469Z"
   },
   {
    "duration": 76,
    "start_time": "2021-07-05T06:25:29.489Z"
   },
   {
    "duration": 8,
    "start_time": "2021-07-05T06:25:29.568Z"
   },
   {
    "duration": 15,
    "start_time": "2021-07-05T06:25:29.578Z"
   },
   {
    "duration": 29,
    "start_time": "2021-07-05T06:25:29.596Z"
   },
   {
    "duration": 44,
    "start_time": "2021-07-05T06:25:29.628Z"
   },
   {
    "duration": 89,
    "start_time": "2021-07-05T06:25:29.674Z"
   },
   {
    "duration": 5,
    "start_time": "2021-07-05T06:25:29.765Z"
   },
   {
    "duration": 13,
    "start_time": "2021-07-05T06:25:29.772Z"
   },
   {
    "duration": 6,
    "start_time": "2021-07-05T06:25:29.792Z"
   },
   {
    "duration": 87,
    "start_time": "2021-07-05T06:25:29.801Z"
   },
   {
    "duration": 36,
    "start_time": "2021-07-05T06:25:29.891Z"
   },
   {
    "duration": 519,
    "start_time": "2021-07-05T06:25:29.930Z"
   },
   {
    "duration": 64,
    "start_time": "2021-07-05T06:25:30.453Z"
   },
   {
    "duration": 56,
    "start_time": "2021-07-05T06:25:30.519Z"
   },
   {
    "duration": 17,
    "start_time": "2021-07-05T06:25:30.579Z"
   },
   {
    "duration": 9,
    "start_time": "2021-07-05T06:25:30.600Z"
   },
   {
    "duration": 72,
    "start_time": "2021-07-05T06:25:30.613Z"
   },
   {
    "duration": 208,
    "start_time": "2021-07-05T06:25:30.687Z"
   },
   {
    "duration": 439,
    "start_time": "2021-07-05T06:25:30.898Z"
   },
   {
    "duration": 5,
    "start_time": "2021-07-05T06:25:31.340Z"
   },
   {
    "duration": 82,
    "start_time": "2021-07-05T06:25:31.348Z"
   },
   {
    "duration": 60,
    "start_time": "2021-07-05T06:25:31.433Z"
   },
   {
    "duration": 46,
    "start_time": "2021-07-05T06:25:31.495Z"
   },
   {
    "duration": 5,
    "start_time": "2021-07-05T06:25:31.543Z"
   },
   {
    "duration": 71,
    "start_time": "2021-07-05T06:25:31.564Z"
   },
   {
    "duration": 23,
    "start_time": "2021-07-05T06:25:31.662Z"
   },
   {
    "duration": 161,
    "start_time": "2021-07-05T06:25:31.687Z"
   },
   {
    "duration": 144,
    "start_time": "2021-07-05T06:25:31.850Z"
   },
   {
    "duration": 72,
    "start_time": "2021-07-05T06:25:31.996Z"
   },
   {
    "duration": 230,
    "start_time": "2021-07-05T06:25:32.073Z"
   },
   {
    "duration": 124,
    "start_time": "2021-07-05T06:25:32.306Z"
   },
   {
    "duration": 99,
    "start_time": "2021-07-05T06:25:32.433Z"
   },
   {
    "duration": 497,
    "start_time": "2021-07-05T06:25:32.535Z"
   },
   {
    "duration": 172,
    "start_time": "2021-07-05T06:25:33.035Z"
   },
   {
    "duration": 515,
    "start_time": "2021-07-05T06:25:33.210Z"
   },
   {
    "duration": 1611,
    "start_time": "2021-07-05T06:29:09.598Z"
   },
   {
    "duration": 1455,
    "start_time": "2021-07-05T06:29:11.212Z"
   },
   {
    "duration": 114,
    "start_time": "2021-07-05T06:29:12.670Z"
   },
   {
    "duration": 112,
    "start_time": "2021-07-05T06:29:12.787Z"
   },
   {
    "duration": 132,
    "start_time": "2021-07-05T06:29:12.902Z"
   },
   {
    "duration": 145,
    "start_time": "2021-07-05T06:29:13.036Z"
   },
   {
    "duration": 18,
    "start_time": "2021-07-05T06:29:13.183Z"
   },
   {
    "duration": 81,
    "start_time": "2021-07-05T06:29:13.204Z"
   },
   {
    "duration": 108,
    "start_time": "2021-07-05T06:29:13.287Z"
   },
   {
    "duration": 22,
    "start_time": "2021-07-05T06:29:13.397Z"
   },
   {
    "duration": 5,
    "start_time": "2021-07-05T06:29:13.421Z"
   },
   {
    "duration": 97,
    "start_time": "2021-07-05T06:29:13.428Z"
   },
   {
    "duration": 37,
    "start_time": "2021-07-05T06:29:13.527Z"
   },
   {
    "duration": 6,
    "start_time": "2021-07-05T06:29:13.567Z"
   },
   {
    "duration": 21,
    "start_time": "2021-07-05T06:29:13.575Z"
   },
   {
    "duration": 93,
    "start_time": "2021-07-05T06:29:13.598Z"
   },
   {
    "duration": 7,
    "start_time": "2021-07-05T06:29:13.693Z"
   },
   {
    "duration": 10,
    "start_time": "2021-07-05T06:29:13.703Z"
   },
   {
    "duration": 48,
    "start_time": "2021-07-05T06:29:13.715Z"
   },
   {
    "duration": 24,
    "start_time": "2021-07-05T06:29:13.765Z"
   },
   {
    "duration": 100,
    "start_time": "2021-07-05T06:29:13.791Z"
   },
   {
    "duration": 5,
    "start_time": "2021-07-05T06:29:13.893Z"
   },
   {
    "duration": 12,
    "start_time": "2021-07-05T06:29:13.902Z"
   },
   {
    "duration": 5,
    "start_time": "2021-07-05T06:29:13.916Z"
   },
   {
    "duration": 70,
    "start_time": "2021-07-05T06:29:13.923Z"
   },
   {
    "duration": 32,
    "start_time": "2021-07-05T06:29:13.995Z"
   },
   {
    "duration": 347,
    "start_time": "2021-07-05T06:29:14.029Z"
   },
   {
    "duration": 41,
    "start_time": "2021-07-05T06:29:14.379Z"
   },
   {
    "duration": 64,
    "start_time": "2021-07-05T06:29:14.422Z"
   },
   {
    "duration": 9,
    "start_time": "2021-07-05T06:29:14.488Z"
   },
   {
    "duration": 7,
    "start_time": "2021-07-05T06:29:14.499Z"
   },
   {
    "duration": 57,
    "start_time": "2021-07-05T06:29:14.508Z"
   },
   {
    "duration": 203,
    "start_time": "2021-07-05T06:29:14.567Z"
   },
   {
    "duration": 414,
    "start_time": "2021-07-05T06:29:14.773Z"
   },
   {
    "duration": 5,
    "start_time": "2021-07-05T06:29:15.190Z"
   },
   {
    "duration": 100,
    "start_time": "2021-07-05T06:29:15.197Z"
   },
   {
    "duration": 33,
    "start_time": "2021-07-05T06:29:15.300Z"
   },
   {
    "duration": 58,
    "start_time": "2021-07-05T06:29:15.336Z"
   },
   {
    "duration": 5,
    "start_time": "2021-07-05T06:29:15.397Z"
   },
   {
    "duration": 96,
    "start_time": "2021-07-05T06:29:15.405Z"
   },
   {
    "duration": 25,
    "start_time": "2021-07-05T06:29:15.504Z"
   },
   {
    "duration": 155,
    "start_time": "2021-07-05T06:29:15.532Z"
   },
   {
    "duration": 179,
    "start_time": "2021-07-05T06:29:44.130Z"
   },
   {
    "duration": 74,
    "start_time": "2021-07-05T06:29:57.924Z"
   },
   {
    "duration": 30,
    "start_time": "2021-07-05T06:44:34.769Z"
   },
   {
    "duration": 121,
    "start_time": "2021-07-05T06:44:57.225Z"
   },
   {
    "duration": 114,
    "start_time": "2021-07-05T06:45:49.007Z"
   },
   {
    "duration": 100,
    "start_time": "2021-07-05T06:46:11.123Z"
   },
   {
    "duration": 2276,
    "start_time": "2021-07-05T06:46:12.155Z"
   },
   {
    "duration": 83,
    "start_time": "2021-07-05T06:46:38.068Z"
   },
   {
    "duration": 470,
    "start_time": "2021-07-05T06:46:52.711Z"
   },
   {
    "duration": 173,
    "start_time": "2021-07-05T06:47:09.861Z"
   },
   {
    "duration": 708,
    "start_time": "2021-07-05T06:50:23.545Z"
   },
   {
    "duration": 18,
    "start_time": "2021-07-05T06:51:14.842Z"
   },
   {
    "duration": 73,
    "start_time": "2021-07-05T06:52:41.683Z"
   },
   {
    "duration": 202,
    "start_time": "2021-07-05T06:52:42.394Z"
   },
   {
    "duration": 265,
    "start_time": "2021-07-05T06:53:37.226Z"
   },
   {
    "duration": 142,
    "start_time": "2021-07-05T06:53:51.562Z"
   },
   {
    "duration": 131,
    "start_time": "2021-07-05T06:53:56.144Z"
   },
   {
    "duration": 936,
    "start_time": "2021-07-05T06:54:07.566Z"
   },
   {
    "duration": 26,
    "start_time": "2021-07-05T06:54:18.316Z"
   },
   {
    "duration": 93,
    "start_time": "2021-07-05T06:54:20.500Z"
   },
   {
    "duration": 266,
    "start_time": "2021-07-05T06:54:45.274Z"
   },
   {
    "duration": 32,
    "start_time": "2021-07-05T06:54:48.617Z"
   },
   {
    "duration": 67,
    "start_time": "2021-07-05T06:54:56.699Z"
   },
   {
    "duration": 352,
    "start_time": "2021-07-05T06:55:05.120Z"
   },
   {
    "duration": 60,
    "start_time": "2021-07-05T07:00:46.441Z"
   },
   {
    "duration": 20,
    "start_time": "2021-07-05T07:00:55.976Z"
   },
   {
    "duration": 14,
    "start_time": "2021-07-05T07:01:33.397Z"
   },
   {
    "duration": 44,
    "start_time": "2021-07-05T07:01:58.700Z"
   },
   {
    "duration": 173,
    "start_time": "2021-07-05T07:02:24.741Z"
   },
   {
    "duration": 128,
    "start_time": "2021-07-05T07:02:48.475Z"
   },
   {
    "duration": 674,
    "start_time": "2021-07-05T07:03:02.902Z"
   },
   {
    "duration": 235,
    "start_time": "2021-07-05T07:03:26.078Z"
   },
   {
    "duration": 28,
    "start_time": "2021-07-05T07:03:37.141Z"
   },
   {
    "duration": 86,
    "start_time": "2021-07-05T07:03:48.566Z"
   },
   {
    "duration": 399,
    "start_time": "2021-07-05T07:03:59.372Z"
   },
   {
    "duration": 214,
    "start_time": "2021-07-05T07:12:06.161Z"
   },
   {
    "duration": 248,
    "start_time": "2021-07-05T07:12:06.962Z"
   },
   {
    "duration": 424,
    "start_time": "2021-07-05T07:12:07.995Z"
   },
   {
    "duration": 201,
    "start_time": "2021-07-05T07:12:08.422Z"
   },
   {
    "duration": 191,
    "start_time": "2021-07-05T07:12:08.627Z"
   },
   {
    "duration": 941,
    "start_time": "2021-07-05T07:12:09.308Z"
   },
   {
    "duration": 33,
    "start_time": "2021-07-05T07:12:11.658Z"
   },
   {
    "duration": 224,
    "start_time": "2021-07-05T07:12:17.312Z"
   },
   {
    "duration": 69,
    "start_time": "2021-07-05T07:12:28.819Z"
   },
   {
    "duration": 322,
    "start_time": "2021-07-05T07:12:31.449Z"
   },
   {
    "duration": 8,
    "start_time": "2021-07-05T07:20:40.454Z"
   },
   {
    "duration": 7,
    "start_time": "2021-07-05T07:20:53.725Z"
   },
   {
    "duration": 8,
    "start_time": "2021-07-05T07:21:22.822Z"
   },
   {
    "duration": 12,
    "start_time": "2021-07-05T07:21:29.527Z"
   },
   {
    "duration": 45,
    "start_time": "2021-07-05T07:22:35.977Z"
   },
   {
    "duration": 122,
    "start_time": "2021-07-05T07:22:37.941Z"
   },
   {
    "duration": 277,
    "start_time": "2021-07-05T07:22:38.406Z"
   },
   {
    "duration": 119,
    "start_time": "2021-07-05T07:22:51.126Z"
   },
   {
    "duration": 180,
    "start_time": "2021-07-05T07:22:51.749Z"
   },
   {
    "duration": 265,
    "start_time": "2021-07-05T07:22:52.766Z"
   },
   {
    "duration": 125,
    "start_time": "2021-07-05T07:22:53.198Z"
   },
   {
    "duration": 113,
    "start_time": "2021-07-05T07:22:53.605Z"
   },
   {
    "duration": 686,
    "start_time": "2021-07-05T07:22:54.853Z"
   },
   {
    "duration": 26,
    "start_time": "2021-07-05T07:22:56.019Z"
   },
   {
    "duration": 66,
    "start_time": "2021-07-05T07:22:56.860Z"
   },
   {
    "duration": 150,
    "start_time": "2021-07-05T07:22:57.948Z"
   },
   {
    "duration": 398,
    "start_time": "2021-07-05T07:22:59.866Z"
   },
   {
    "duration": 95,
    "start_time": "2021-07-05T07:23:12.429Z"
   },
   {
    "duration": 171,
    "start_time": "2021-07-05T07:23:12.552Z"
   },
   {
    "duration": 269,
    "start_time": "2021-07-05T07:23:12.869Z"
   },
   {
    "duration": 138,
    "start_time": "2021-07-05T07:23:13.141Z"
   },
   {
    "duration": 123,
    "start_time": "2021-07-05T07:23:13.282Z"
   },
   {
    "duration": 680,
    "start_time": "2021-07-05T07:23:13.941Z"
   },
   {
    "duration": 28,
    "start_time": "2021-07-05T07:23:15.125Z"
   },
   {
    "duration": 70,
    "start_time": "2021-07-05T07:23:17.541Z"
   },
   {
    "duration": 351,
    "start_time": "2021-07-05T07:23:24.613Z"
   },
   {
    "duration": 77,
    "start_time": "2021-07-05T07:34:07.128Z"
   },
   {
    "duration": 170,
    "start_time": "2021-07-05T07:34:07.706Z"
   },
   {
    "duration": 272,
    "start_time": "2021-07-05T07:34:08.601Z"
   },
   {
    "duration": 132,
    "start_time": "2021-07-05T07:34:09.705Z"
   },
   {
    "duration": 328,
    "start_time": "2021-07-05T07:34:13.689Z"
   },
   {
    "duration": 74,
    "start_time": "2021-07-05T07:34:18.055Z"
   },
   {
    "duration": 167,
    "start_time": "2021-07-05T07:34:18.641Z"
   },
   {
    "duration": 270,
    "start_time": "2021-07-05T07:34:19.464Z"
   },
   {
    "duration": 126,
    "start_time": "2021-07-05T07:34:20.030Z"
   },
   {
    "duration": 117,
    "start_time": "2021-07-05T07:34:21.001Z"
   },
   {
    "duration": 679,
    "start_time": "2021-07-05T07:34:24.400Z"
   },
   {
    "duration": 28,
    "start_time": "2021-07-05T07:34:49.904Z"
   },
   {
    "duration": 70,
    "start_time": "2021-07-05T07:34:56.475Z"
   },
   {
    "duration": 343,
    "start_time": "2021-07-05T07:36:53.485Z"
   },
   {
    "duration": 6,
    "start_time": "2021-07-05T07:36:59.243Z"
   },
   {
    "duration": 25,
    "start_time": "2021-07-05T07:37:19.960Z"
   },
   {
    "duration": 6,
    "start_time": "2021-07-05T07:37:25.831Z"
   },
   {
    "duration": 180,
    "start_time": "2021-07-05T07:40:53.957Z"
   },
   {
    "duration": 401,
    "start_time": "2021-07-05T07:41:16.373Z"
   },
   {
    "duration": 9,
    "start_time": "2021-07-05T07:43:27.296Z"
   },
   {
    "duration": 28,
    "start_time": "2021-07-05T07:48:03.276Z"
   },
   {
    "duration": 74,
    "start_time": "2021-07-05T07:50:55.280Z"
   },
   {
    "duration": 189,
    "start_time": "2021-07-05T07:50:55.459Z"
   },
   {
    "duration": 282,
    "start_time": "2021-07-05T07:50:55.913Z"
   },
   {
    "duration": 139,
    "start_time": "2021-07-05T07:50:56.964Z"
   },
   {
    "duration": 165,
    "start_time": "2021-07-05T07:50:57.129Z"
   },
   {
    "duration": 848,
    "start_time": "2021-07-05T07:50:57.450Z"
   },
   {
    "duration": 26,
    "start_time": "2021-07-05T07:50:58.301Z"
   },
   {
    "duration": 95,
    "start_time": "2021-07-05T07:50:58.331Z"
   },
   {
    "duration": 6,
    "start_time": "2021-07-05T07:50:58.657Z"
   },
   {
    "duration": 3,
    "start_time": "2021-07-05T07:50:59.943Z"
   },
   {
    "duration": 146,
    "start_time": "2021-07-05T07:51:00.511Z"
   },
   {
    "duration": 454,
    "start_time": "2021-07-05T07:51:04.432Z"
   },
   {
    "duration": 15,
    "start_time": "2021-07-05T07:52:25.993Z"
   },
   {
    "duration": 47,
    "start_time": "2021-07-05T07:52:26.440Z"
   },
   {
    "duration": 174,
    "start_time": "2021-07-05T07:52:26.761Z"
   },
   {
    "duration": 206,
    "start_time": "2021-07-05T07:52:27.065Z"
   },
   {
    "duration": 992,
    "start_time": "2021-07-05T07:52:27.362Z"
   },
   {
    "duration": 38,
    "start_time": "2021-07-05T07:52:28.363Z"
   },
   {
    "duration": 187,
    "start_time": "2021-07-05T07:52:28.405Z"
   },
   {
    "duration": 71,
    "start_time": "2021-07-05T07:52:29.113Z"
   },
   {
    "duration": 480,
    "start_time": "2021-07-05T07:52:30.184Z"
   },
   {
    "duration": 13,
    "start_time": "2021-07-05T07:55:11.791Z"
   },
   {
    "duration": 46,
    "start_time": "2021-07-05T07:55:11.935Z"
   },
   {
    "duration": 190,
    "start_time": "2021-07-05T07:55:12.256Z"
   },
   {
    "duration": 135,
    "start_time": "2021-07-05T07:55:12.559Z"
   },
   {
    "duration": 773,
    "start_time": "2021-07-05T07:55:12.824Z"
   },
   {
    "duration": 26,
    "start_time": "2021-07-05T07:55:13.600Z"
   },
   {
    "duration": 125,
    "start_time": "2021-07-05T07:55:13.990Z"
   },
   {
    "duration": 85,
    "start_time": "2021-07-05T07:55:15.119Z"
   },
   {
    "duration": 460,
    "start_time": "2021-07-05T07:55:16.101Z"
   },
   {
    "duration": 13,
    "start_time": "2021-07-05T07:55:27.783Z"
   },
   {
    "duration": 45,
    "start_time": "2021-07-05T07:55:27.967Z"
   },
   {
    "duration": 174,
    "start_time": "2021-07-05T07:55:28.248Z"
   },
   {
    "duration": 124,
    "start_time": "2021-07-05T07:55:28.509Z"
   },
   {
    "duration": 690,
    "start_time": "2021-07-05T07:55:28.791Z"
   },
   {
    "duration": 27,
    "start_time": "2021-07-05T07:55:29.484Z"
   },
   {
    "duration": 67,
    "start_time": "2021-07-05T07:55:40.680Z"
   },
   {
    "duration": 417,
    "start_time": "2021-07-05T07:55:41.846Z"
   },
   {
    "duration": 18,
    "start_time": "2021-07-05T07:55:53.135Z"
   },
   {
    "duration": 52,
    "start_time": "2021-07-05T07:55:53.784Z"
   },
   {
    "duration": 248,
    "start_time": "2021-07-05T07:56:04.495Z"
   },
   {
    "duration": 17,
    "start_time": "2021-07-05T07:56:10.039Z"
   },
   {
    "duration": 55,
    "start_time": "2021-07-05T07:56:10.263Z"
   },
   {
    "duration": 74,
    "start_time": "2021-07-05T07:56:16.159Z"
   },
   {
    "duration": 178,
    "start_time": "2021-07-05T07:56:16.823Z"
   },
   {
    "duration": 125,
    "start_time": "2021-07-05T07:56:20.037Z"
   },
   {
    "duration": 677,
    "start_time": "2021-07-05T07:56:23.672Z"
   },
   {
    "duration": 27,
    "start_time": "2021-07-05T07:56:29.639Z"
   },
   {
    "duration": 78,
    "start_time": "2021-07-05T07:56:44.683Z"
   },
   {
    "duration": 527,
    "start_time": "2021-07-05T07:56:46.445Z"
   },
   {
    "duration": 107,
    "start_time": "2021-07-05T07:57:11.071Z"
   },
   {
    "duration": 346,
    "start_time": "2021-07-05T07:57:14.430Z"
   },
   {
    "duration": 77,
    "start_time": "2021-07-05T08:15:26.701Z"
   },
   {
    "duration": 246,
    "start_time": "2021-07-05T08:15:26.889Z"
   },
   {
    "duration": 255,
    "start_time": "2021-07-05T08:15:27.415Z"
   },
   {
    "duration": 140,
    "start_time": "2021-07-05T08:15:27.672Z"
   },
   {
    "duration": 126,
    "start_time": "2021-07-05T08:15:27.814Z"
   },
   {
    "duration": 695,
    "start_time": "2021-07-05T08:15:27.942Z"
   },
   {
    "duration": 28,
    "start_time": "2021-07-05T08:15:28.640Z"
   },
   {
    "duration": 69,
    "start_time": "2021-07-05T08:15:28.671Z"
   },
   {
    "duration": 23,
    "start_time": "2021-07-05T08:15:28.742Z"
   },
   {
    "duration": 178,
    "start_time": "2021-07-05T08:15:28.828Z"
   },
   {
    "duration": 738,
    "start_time": "2021-07-05T08:15:29.069Z"
   },
   {
    "duration": 6,
    "start_time": "2021-07-05T08:15:45.816Z"
   },
   {
    "duration": 76,
    "start_time": "2021-07-05T08:15:52.535Z"
   },
   {
    "duration": 176,
    "start_time": "2021-07-05T08:15:52.653Z"
   },
   {
    "duration": 289,
    "start_time": "2021-07-05T08:15:52.902Z"
   },
   {
    "duration": 141,
    "start_time": "2021-07-05T08:15:53.193Z"
   },
   {
    "duration": 140,
    "start_time": "2021-07-05T08:15:53.337Z"
   },
   {
    "duration": 729,
    "start_time": "2021-07-05T08:15:53.480Z"
   },
   {
    "duration": 29,
    "start_time": "2021-07-05T08:15:54.212Z"
   },
   {
    "duration": 87,
    "start_time": "2021-07-05T08:15:54.243Z"
   },
   {
    "duration": 30,
    "start_time": "2021-07-05T08:15:54.333Z"
   },
   {
    "duration": 188,
    "start_time": "2021-07-05T08:15:54.366Z"
   },
   {
    "duration": 293,
    "start_time": "2021-07-05T08:15:55.293Z"
   },
   {
    "duration": 13,
    "start_time": "2021-07-05T08:15:57.694Z"
   },
   {
    "duration": 41,
    "start_time": "2021-07-05T08:15:58.214Z"
   },
   {
    "duration": 70,
    "start_time": "2021-07-05T08:15:58.967Z"
   },
   {
    "duration": 190,
    "start_time": "2021-07-05T08:15:59.206Z"
   },
   {
    "duration": 131,
    "start_time": "2021-07-05T08:16:00.179Z"
   },
   {
    "duration": 717,
    "start_time": "2021-07-05T08:16:00.535Z"
   },
   {
    "duration": 31,
    "start_time": "2021-07-05T08:16:01.263Z"
   },
   {
    "duration": 69,
    "start_time": "2021-07-05T08:16:01.340Z"
   },
   {
    "duration": 104,
    "start_time": "2021-07-05T08:16:01.902Z"
   },
   {
    "duration": 266,
    "start_time": "2021-07-05T08:16:02.207Z"
   },
   {
    "duration": 81,
    "start_time": "2021-07-05T08:30:09.151Z"
   },
   {
    "duration": 7,
    "start_time": "2021-07-05T08:31:07.120Z"
   },
   {
    "duration": 164,
    "start_time": "2021-07-05T08:35:35.686Z"
   },
   {
    "duration": 9,
    "start_time": "2021-07-05T08:41:41.391Z"
   },
   {
    "duration": 8116,
    "start_time": "2021-07-05T09:01:04.211Z"
   },
   {
    "duration": 17,
    "start_time": "2021-07-05T09:02:50.655Z"
   },
   {
    "duration": 7873,
    "start_time": "2021-07-05T09:04:02.134Z"
   },
   {
    "duration": 1566,
    "start_time": "2021-07-05T09:06:23.552Z"
   },
   {
    "duration": 1387,
    "start_time": "2021-07-05T09:06:25.121Z"
   },
   {
    "duration": 107,
    "start_time": "2021-07-05T09:06:26.511Z"
   },
   {
    "duration": 102,
    "start_time": "2021-07-05T09:06:26.620Z"
   },
   {
    "duration": 120,
    "start_time": "2021-07-05T09:06:26.725Z"
   },
   {
    "duration": 133,
    "start_time": "2021-07-05T09:06:26.847Z"
   },
   {
    "duration": 17,
    "start_time": "2021-07-05T09:06:26.982Z"
   },
   {
    "duration": 20,
    "start_time": "2021-07-05T09:06:27.002Z"
   },
   {
    "duration": 10887,
    "start_time": "2021-07-05T09:06:27.024Z"
   },
   {
    "duration": 60,
    "start_time": "2021-07-05T09:06:37.914Z"
   },
   {
    "duration": 102,
    "start_time": "2021-07-05T09:06:37.976Z"
   },
   {
    "duration": 22,
    "start_time": "2021-07-05T09:06:38.080Z"
   },
   {
    "duration": 5,
    "start_time": "2021-07-05T09:06:38.105Z"
   },
   {
    "duration": 114,
    "start_time": "2021-07-05T09:06:38.113Z"
   },
   {
    "duration": 13,
    "start_time": "2021-07-05T09:06:38.231Z"
   },
   {
    "duration": 20,
    "start_time": "2021-07-05T09:06:38.247Z"
   },
   {
    "duration": 37,
    "start_time": "2021-07-05T09:06:38.270Z"
   },
   {
    "duration": 80,
    "start_time": "2021-07-05T09:06:38.309Z"
   },
   {
    "duration": 9,
    "start_time": "2021-07-05T09:06:38.392Z"
   },
   {
    "duration": 8,
    "start_time": "2021-07-05T09:06:38.404Z"
   },
   {
    "duration": 50,
    "start_time": "2021-07-05T09:06:38.414Z"
   },
   {
    "duration": 24,
    "start_time": "2021-07-05T09:06:38.473Z"
   },
   {
    "duration": 95,
    "start_time": "2021-07-05T09:06:38.501Z"
   },
   {
    "duration": 6,
    "start_time": "2021-07-05T09:06:38.598Z"
   },
   {
    "duration": 15,
    "start_time": "2021-07-05T09:06:38.607Z"
   },
   {
    "duration": 38,
    "start_time": "2021-07-05T09:06:38.624Z"
   },
   {
    "duration": 39,
    "start_time": "2021-07-05T09:06:38.666Z"
   },
   {
    "duration": 66,
    "start_time": "2021-07-05T09:06:38.708Z"
   },
   {
    "duration": 412,
    "start_time": "2021-07-05T09:06:38.778Z"
   },
   {
    "duration": 39,
    "start_time": "2021-07-05T09:06:39.192Z"
   },
   {
    "duration": 80,
    "start_time": "2021-07-05T09:06:39.234Z"
   },
   {
    "duration": 9,
    "start_time": "2021-07-05T09:06:39.317Z"
   },
   {
    "duration": 32,
    "start_time": "2021-07-05T09:06:39.329Z"
   },
   {
    "duration": 37,
    "start_time": "2021-07-05T09:06:39.365Z"
   },
   {
    "duration": 225,
    "start_time": "2021-07-05T09:06:39.405Z"
   },
   {
    "duration": 423,
    "start_time": "2021-07-05T09:06:39.633Z"
   },
   {
    "duration": 6,
    "start_time": "2021-07-05T09:06:40.062Z"
   },
   {
    "duration": 93,
    "start_time": "2021-07-05T09:06:40.071Z"
   },
   {
    "duration": 36,
    "start_time": "2021-07-05T09:06:40.167Z"
   },
   {
    "duration": 57,
    "start_time": "2021-07-05T09:06:40.205Z"
   },
   {
    "duration": 5,
    "start_time": "2021-07-05T09:06:40.265Z"
   },
   {
    "duration": 94,
    "start_time": "2021-07-05T09:06:40.272Z"
   },
   {
    "duration": 75,
    "start_time": "2021-07-05T09:06:40.370Z"
   },
   {
    "duration": 185,
    "start_time": "2021-07-05T09:06:40.448Z"
   },
   {
    "duration": 266,
    "start_time": "2021-07-05T09:06:40.636Z"
   },
   {
    "duration": 140,
    "start_time": "2021-07-05T09:06:40.905Z"
   },
   {
    "duration": 124,
    "start_time": "2021-07-05T09:06:41.048Z"
   },
   {
    "duration": 688,
    "start_time": "2021-07-05T09:06:41.175Z"
   },
   {
    "duration": 26,
    "start_time": "2021-07-05T09:06:41.866Z"
   },
   {
    "duration": 91,
    "start_time": "2021-07-05T09:06:41.895Z"
   },
   {
    "duration": 6,
    "start_time": "2021-07-05T09:06:41.989Z"
   },
   {
    "duration": 229,
    "start_time": "2021-07-05T09:06:41.998Z"
   },
   {
    "duration": 449,
    "start_time": "2021-07-05T09:06:42.230Z"
   },
   {
    "duration": 14,
    "start_time": "2021-07-05T09:06:42.683Z"
   },
   {
    "duration": 113,
    "start_time": "2021-07-05T09:06:42.700Z"
   },
   {
    "duration": 106,
    "start_time": "2021-07-05T09:06:42.816Z"
   },
   {
    "duration": 190,
    "start_time": "2021-07-05T09:06:42.925Z"
   },
   {
    "duration": 124,
    "start_time": "2021-07-05T09:06:43.117Z"
   },
   {
    "duration": 726,
    "start_time": "2021-07-05T09:06:43.243Z"
   },
   {
    "duration": 27,
    "start_time": "2021-07-05T09:06:43.971Z"
   },
   {
    "duration": 171,
    "start_time": "2021-07-05T09:06:44.002Z"
   },
   {
    "duration": 119,
    "start_time": "2021-07-05T09:06:44.176Z"
   },
   {
    "duration": 467,
    "start_time": "2021-07-05T09:06:44.298Z"
   },
   {
    "duration": 271,
    "start_time": "2021-07-05T09:06:44.769Z"
   },
   {
    "duration": 54,
    "start_time": "2021-07-05T09:24:52.802Z"
   },
   {
    "duration": 56,
    "start_time": "2021-07-05T09:25:29.161Z"
   },
   {
    "duration": 5664,
    "start_time": "2021-07-05T09:27:28.110Z"
   },
   {
    "duration": 4699,
    "start_time": "2021-07-05T09:29:40.807Z"
   },
   {
    "duration": 66,
    "start_time": "2021-07-05T09:30:18.873Z"
   },
   {
    "duration": 196,
    "start_time": "2021-07-05T09:30:22.466Z"
   },
   {
    "duration": 7518,
    "start_time": "2021-07-05T09:30:23.474Z"
   },
   {
    "duration": 74,
    "start_time": "2021-07-05T09:31:45.431Z"
   },
   {
    "duration": 1540,
    "start_time": "2021-07-05T09:32:26.453Z"
   },
   {
    "duration": 1371,
    "start_time": "2021-07-05T09:32:27.996Z"
   },
   {
    "duration": 111,
    "start_time": "2021-07-05T09:32:29.370Z"
   },
   {
    "duration": 106,
    "start_time": "2021-07-05T09:32:29.483Z"
   },
   {
    "duration": 124,
    "start_time": "2021-07-05T09:32:29.591Z"
   },
   {
    "duration": 130,
    "start_time": "2021-07-05T09:32:29.718Z"
   },
   {
    "duration": 17,
    "start_time": "2021-07-05T09:32:29.861Z"
   },
   {
    "duration": 25,
    "start_time": "2021-07-05T09:32:29.881Z"
   },
   {
    "duration": 15023,
    "start_time": "2021-07-05T09:32:29.911Z"
   },
   {
    "duration": 65,
    "start_time": "2021-07-05T09:32:44.937Z"
   },
   {
    "duration": 103,
    "start_time": "2021-07-05T09:32:45.004Z"
   },
   {
    "duration": 20,
    "start_time": "2021-07-05T09:32:45.109Z"
   },
   {
    "duration": 5,
    "start_time": "2021-07-05T09:32:45.131Z"
   },
   {
    "duration": 55,
    "start_time": "2021-07-05T09:32:45.163Z"
   },
   {
    "duration": 42,
    "start_time": "2021-07-05T09:32:45.220Z"
   },
   {
    "duration": 5,
    "start_time": "2021-07-05T09:32:45.264Z"
   },
   {
    "duration": 28,
    "start_time": "2021-07-05T09:32:45.271Z"
   },
   {
    "duration": 85,
    "start_time": "2021-07-05T09:32:45.301Z"
   },
   {
    "duration": 7,
    "start_time": "2021-07-05T09:32:45.389Z"
   },
   {
    "duration": 6,
    "start_time": "2021-07-05T09:32:45.399Z"
   },
   {
    "duration": 22,
    "start_time": "2021-07-05T09:32:45.408Z"
   },
   {
    "duration": 20,
    "start_time": "2021-07-05T09:32:45.462Z"
   },
   {
    "duration": 90,
    "start_time": "2021-07-05T09:32:45.485Z"
   },
   {
    "duration": 4,
    "start_time": "2021-07-05T09:32:45.578Z"
   },
   {
    "duration": 14,
    "start_time": "2021-07-05T09:32:45.585Z"
   },
   {
    "duration": 5,
    "start_time": "2021-07-05T09:32:45.601Z"
   },
   {
    "duration": 75,
    "start_time": "2021-07-05T09:32:45.612Z"
   },
   {
    "duration": 32,
    "start_time": "2021-07-05T09:32:45.691Z"
   },
   {
    "duration": 340,
    "start_time": "2021-07-05T09:32:45.725Z"
   },
   {
    "duration": 38,
    "start_time": "2021-07-05T09:32:46.067Z"
   },
   {
    "duration": 66,
    "start_time": "2021-07-05T09:32:46.108Z"
   },
   {
    "duration": 9,
    "start_time": "2021-07-05T09:32:46.176Z"
   },
   {
    "duration": 9,
    "start_time": "2021-07-05T09:32:46.186Z"
   },
   {
    "duration": 68,
    "start_time": "2021-07-05T09:32:46.198Z"
   },
   {
    "duration": 199,
    "start_time": "2021-07-05T09:32:46.268Z"
   },
   {
    "duration": 397,
    "start_time": "2021-07-05T09:32:46.469Z"
   },
   {
    "duration": 5,
    "start_time": "2021-07-05T09:32:46.868Z"
   },
   {
    "duration": 99,
    "start_time": "2021-07-05T09:32:46.875Z"
   },
   {
    "duration": 35,
    "start_time": "2021-07-05T09:32:46.976Z"
   },
   {
    "duration": 61,
    "start_time": "2021-07-05T09:32:47.013Z"
   },
   {
    "duration": 4,
    "start_time": "2021-07-05T09:32:47.077Z"
   },
   {
    "duration": 97,
    "start_time": "2021-07-05T09:32:47.083Z"
   },
   {
    "duration": 92,
    "start_time": "2021-07-05T09:32:47.182Z"
   },
   {
    "duration": 175,
    "start_time": "2021-07-05T09:32:47.276Z"
   },
   {
    "duration": 380,
    "start_time": "2021-07-05T09:32:47.453Z"
   },
   {
    "duration": 140,
    "start_time": "2021-07-05T09:32:47.836Z"
   },
   {
    "duration": 129,
    "start_time": "2021-07-05T09:32:47.978Z"
   },
   {
    "duration": 793,
    "start_time": "2021-07-05T09:32:48.109Z"
   },
   {
    "duration": 26,
    "start_time": "2021-07-05T09:32:48.905Z"
   },
   {
    "duration": 91,
    "start_time": "2021-07-05T09:32:48.934Z"
   },
   {
    "duration": 6,
    "start_time": "2021-07-05T09:32:49.027Z"
   },
   {
    "duration": 208,
    "start_time": "2021-07-05T09:32:49.035Z"
   },
   {
    "duration": 322,
    "start_time": "2021-07-05T09:32:49.245Z"
   },
   {
    "duration": 96,
    "start_time": "2021-07-05T09:32:49.570Z"
   },
   {
    "duration": 128,
    "start_time": "2021-07-05T09:32:49.669Z"
   },
   {
    "duration": 80,
    "start_time": "2021-07-05T09:32:49.799Z"
   },
   {
    "duration": 185,
    "start_time": "2021-07-05T09:32:49.881Z"
   },
   {
    "duration": 138,
    "start_time": "2021-07-05T09:32:50.069Z"
   },
   {
    "duration": 692,
    "start_time": "2021-07-05T09:32:50.209Z"
   },
   {
    "duration": 27,
    "start_time": "2021-07-05T09:32:50.903Z"
   },
   {
    "duration": 88,
    "start_time": "2021-07-05T09:32:50.933Z"
   },
   {
    "duration": 121,
    "start_time": "2021-07-05T09:32:51.024Z"
   },
   {
    "duration": 322,
    "start_time": "2021-07-05T09:32:51.147Z"
   },
   {
    "duration": 3,
    "start_time": "2021-07-05T09:32:51.561Z"
   },
   {
    "duration": 683,
    "start_time": "2021-07-05T09:32:51.567Z"
   },
   {
    "duration": -257,
    "start_time": "2021-07-05T09:32:52.509Z"
   },
   {
    "duration": 25,
    "start_time": "2021-07-05T09:38:42.157Z"
   },
   {
    "duration": 144,
    "start_time": "2021-07-05T09:38:45.888Z"
   },
   {
    "duration": 24,
    "start_time": "2021-07-05T09:38:48.316Z"
   },
   {
    "duration": 6662,
    "start_time": "2021-07-05T09:41:07.004Z"
   },
   {
    "duration": 56,
    "start_time": "2021-07-05T09:48:03.192Z"
   },
   {
    "duration": 293,
    "start_time": "2021-07-05T09:48:41.879Z"
   },
   {
    "duration": 7,
    "start_time": "2021-07-05T09:48:46.151Z"
   },
   {
    "duration": 15,
    "start_time": "2021-07-05T09:48:58.775Z"
   },
   {
    "duration": 161,
    "start_time": "2021-07-05T09:52:18.185Z"
   },
   {
    "duration": 130,
    "start_time": "2021-07-05T09:52:31.438Z"
   },
   {
    "duration": 23,
    "start_time": "2021-07-05T09:52:34.437Z"
   },
   {
    "duration": 10070,
    "start_time": "2021-07-05T09:52:39.523Z"
   },
   {
    "duration": 180,
    "start_time": "2021-07-05T10:06:45.014Z"
   },
   {
    "duration": 1530,
    "start_time": "2021-07-05T10:07:39.397Z"
   },
   {
    "duration": 1350,
    "start_time": "2021-07-05T10:07:40.930Z"
   },
   {
    "duration": 108,
    "start_time": "2021-07-05T10:07:42.283Z"
   },
   {
    "duration": 116,
    "start_time": "2021-07-05T10:07:42.394Z"
   },
   {
    "duration": 128,
    "start_time": "2021-07-05T10:07:42.513Z"
   },
   {
    "duration": 125,
    "start_time": "2021-07-05T10:07:42.643Z"
   },
   {
    "duration": 18,
    "start_time": "2021-07-05T10:07:42.770Z"
   },
   {
    "duration": 19,
    "start_time": "2021-07-05T10:07:42.792Z"
   },
   {
    "duration": 10901,
    "start_time": "2021-07-05T10:07:42.814Z"
   },
   {
    "duration": 59,
    "start_time": "2021-07-05T10:07:53.718Z"
   },
   {
    "duration": 103,
    "start_time": "2021-07-05T10:07:53.780Z"
   },
   {
    "duration": 25,
    "start_time": "2021-07-05T10:07:53.885Z"
   },
   {
    "duration": 7,
    "start_time": "2021-07-05T10:07:53.913Z"
   },
   {
    "duration": 86,
    "start_time": "2021-07-05T10:07:53.923Z"
   },
   {
    "duration": 13,
    "start_time": "2021-07-05T10:07:54.011Z"
   },
   {
    "duration": 9,
    "start_time": "2021-07-05T10:07:54.026Z"
   },
   {
    "duration": 20,
    "start_time": "2021-07-05T10:07:54.063Z"
   },
   {
    "duration": 83,
    "start_time": "2021-07-05T10:07:54.086Z"
   },
   {
    "duration": 8,
    "start_time": "2021-07-05T10:07:54.172Z"
   },
   {
    "duration": 9,
    "start_time": "2021-07-05T10:07:54.182Z"
   },
   {
    "duration": 23,
    "start_time": "2021-07-05T10:07:54.194Z"
   },
   {
    "duration": 56,
    "start_time": "2021-07-05T10:07:54.220Z"
   },
   {
    "duration": 81,
    "start_time": "2021-07-05T10:07:54.282Z"
   },
   {
    "duration": 5,
    "start_time": "2021-07-05T10:07:54.366Z"
   },
   {
    "duration": 12,
    "start_time": "2021-07-05T10:07:54.375Z"
   },
   {
    "duration": 13,
    "start_time": "2021-07-05T10:07:54.391Z"
   },
   {
    "duration": 70,
    "start_time": "2021-07-05T10:07:54.407Z"
   },
   {
    "duration": 35,
    "start_time": "2021-07-05T10:07:54.480Z"
   },
   {
    "duration": 336,
    "start_time": "2021-07-05T10:07:54.518Z"
   },
   {
    "duration": 38,
    "start_time": "2021-07-05T10:07:54.861Z"
   },
   {
    "duration": 40,
    "start_time": "2021-07-05T10:07:54.902Z"
   },
   {
    "duration": 7,
    "start_time": "2021-07-05T10:07:54.962Z"
   },
   {
    "duration": 9,
    "start_time": "2021-07-05T10:07:54.972Z"
   },
   {
    "duration": 34,
    "start_time": "2021-07-05T10:07:54.983Z"
   },
   {
    "duration": 222,
    "start_time": "2021-07-05T10:07:55.019Z"
   },
   {
    "duration": 396,
    "start_time": "2021-07-05T10:07:55.243Z"
   },
   {
    "duration": 4,
    "start_time": "2021-07-05T10:07:55.642Z"
   },
   {
    "duration": 81,
    "start_time": "2021-07-05T10:07:55.648Z"
   },
   {
    "duration": 52,
    "start_time": "2021-07-05T10:07:55.732Z"
   },
   {
    "duration": 43,
    "start_time": "2021-07-05T10:07:55.787Z"
   },
   {
    "duration": 5,
    "start_time": "2021-07-05T10:07:55.832Z"
   },
   {
    "duration": 75,
    "start_time": "2021-07-05T10:07:55.863Z"
   },
   {
    "duration": 202,
    "start_time": "2021-07-05T10:07:55.940Z"
   },
   {
    "duration": 455,
    "start_time": "2021-07-05T10:07:56.144Z"
   },
   {
    "duration": -290,
    "start_time": "2021-07-05T10:07:56.892Z"
   },
   {
    "duration": -291,
    "start_time": "2021-07-05T10:07:56.895Z"
   },
   {
    "duration": -291,
    "start_time": "2021-07-05T10:07:56.897Z"
   },
   {
    "duration": -305,
    "start_time": "2021-07-05T10:07:56.913Z"
   },
   {
    "duration": -306,
    "start_time": "2021-07-05T10:07:56.916Z"
   },
   {
    "duration": -307,
    "start_time": "2021-07-05T10:07:56.918Z"
   },
   {
    "duration": -308,
    "start_time": "2021-07-05T10:07:56.920Z"
   },
   {
    "duration": -307,
    "start_time": "2021-07-05T10:07:56.921Z"
   },
   {
    "duration": -308,
    "start_time": "2021-07-05T10:07:56.923Z"
   },
   {
    "duration": -309,
    "start_time": "2021-07-05T10:07:56.925Z"
   },
   {
    "duration": -309,
    "start_time": "2021-07-05T10:07:56.927Z"
   },
   {
    "duration": -310,
    "start_time": "2021-07-05T10:07:56.929Z"
   },
   {
    "duration": -311,
    "start_time": "2021-07-05T10:07:56.931Z"
   },
   {
    "duration": -312,
    "start_time": "2021-07-05T10:07:56.933Z"
   },
   {
    "duration": -312,
    "start_time": "2021-07-05T10:07:56.935Z"
   },
   {
    "duration": -326,
    "start_time": "2021-07-05T10:07:56.950Z"
   },
   {
    "duration": -328,
    "start_time": "2021-07-05T10:07:56.953Z"
   },
   {
    "duration": -329,
    "start_time": "2021-07-05T10:07:56.955Z"
   },
   {
    "duration": -330,
    "start_time": "2021-07-05T10:07:56.958Z"
   },
   {
    "duration": -331,
    "start_time": "2021-07-05T10:07:56.960Z"
   },
   {
    "duration": -332,
    "start_time": "2021-07-05T10:07:56.962Z"
   },
   {
    "duration": 133,
    "start_time": "2021-07-05T10:09:39.500Z"
   },
   {
    "duration": 117,
    "start_time": "2021-07-05T10:09:45.222Z"
   },
   {
    "duration": 690,
    "start_time": "2021-07-05T10:09:58.531Z"
   },
   {
    "duration": 26,
    "start_time": "2021-07-05T10:10:12.693Z"
   },
   {
    "duration": 89,
    "start_time": "2021-07-05T10:10:22.126Z"
   },
   {
    "duration": 7,
    "start_time": "2021-07-05T10:10:27.550Z"
   },
   {
    "duration": 214,
    "start_time": "2021-07-05T10:10:28.819Z"
   },
   {
    "duration": 422,
    "start_time": "2021-07-05T10:10:36.453Z"
   },
   {
    "duration": 15,
    "start_time": "2021-07-05T10:10:38.487Z"
   },
   {
    "duration": 53,
    "start_time": "2021-07-05T10:10:38.973Z"
   },
   {
    "duration": 110,
    "start_time": "2021-07-05T10:10:39.853Z"
   },
   {
    "duration": 248,
    "start_time": "2021-07-05T10:10:40.197Z"
   },
   {
    "duration": 186,
    "start_time": "2021-07-05T10:10:40.846Z"
   },
   {
    "duration": 689,
    "start_time": "2021-07-05T10:10:41.909Z"
   },
   {
    "duration": 27,
    "start_time": "2021-07-05T10:10:45.450Z"
   },
   {
    "duration": 67,
    "start_time": "2021-07-05T10:10:46.207Z"
   },
   {
    "duration": 101,
    "start_time": "2021-07-05T10:11:48.517Z"
   },
   {
    "duration": 373,
    "start_time": "2021-07-05T10:11:50.388Z"
   },
   {
    "duration": 130,
    "start_time": "2021-07-05T10:12:41.061Z"
   },
   {
    "duration": 24,
    "start_time": "2021-07-05T10:12:54.836Z"
   },
   {
    "duration": 416,
    "start_time": "2021-07-05T10:13:19.740Z"
   },
   {
    "duration": 23008,
    "start_time": "2021-07-05T10:14:40.459Z"
   },
   {
    "duration": 398,
    "start_time": "2021-07-05T10:19:44.069Z"
   },
   {
    "duration": 6,
    "start_time": "2021-07-05T10:27:05.158Z"
   },
   {
    "duration": 6,
    "start_time": "2021-07-05T10:27:24.426Z"
   },
   {
    "duration": 20737,
    "start_time": "2021-07-05T10:30:04.525Z"
   },
   {
    "duration": 20727,
    "start_time": "2021-07-05T10:33:49.309Z"
   },
   {
    "duration": 68361,
    "start_time": "2021-07-05T10:40:31.936Z"
   },
   {
    "duration": 313,
    "start_time": "2021-07-05T10:49:36.317Z"
   },
   {
    "duration": 144,
    "start_time": "2021-07-05T10:50:00.660Z"
   },
   {
    "duration": 810,
    "start_time": "2021-07-05T10:50:36.476Z"
   },
   {
    "duration": 173,
    "start_time": "2021-07-05T10:57:35.645Z"
   },
   {
    "duration": 59,
    "start_time": "2021-07-05T10:57:40.407Z"
   },
   {
    "duration": 10,
    "start_time": "2021-07-05T10:57:41.286Z"
   },
   {
    "duration": 4174,
    "start_time": "2021-07-05T10:57:41.953Z"
   },
   {
    "duration": 12,
    "start_time": "2021-07-05T10:58:30.358Z"
   },
   {
    "duration": 67670,
    "start_time": "2021-07-05T10:58:32.848Z"
   },
   {
    "duration": 79689,
    "start_time": "2021-07-05T11:01:46.567Z"
   },
   {
    "duration": 121519,
    "start_time": "2021-07-05T11:04:19.781Z"
   },
   {
    "duration": 67718,
    "start_time": "2021-07-05T11:07:28.188Z"
   },
   {
    "duration": 7,
    "start_time": "2021-07-05T12:00:27.371Z"
   },
   {
    "duration": 73,
    "start_time": "2021-07-05T12:11:12.662Z"
   },
   {
    "duration": 347,
    "start_time": "2021-07-05T12:11:16.454Z"
   },
   {
    "duration": 10,
    "start_time": "2021-07-05T12:22:47.449Z"
   },
   {
    "duration": 9,
    "start_time": "2021-07-05T12:46:44.471Z"
   },
   {
    "duration": 4,
    "start_time": "2021-07-05T12:48:36.693Z"
   },
   {
    "duration": 9,
    "start_time": "2021-07-05T12:52:02.962Z"
   },
   {
    "duration": 24518,
    "start_time": "2021-07-05T12:53:40.660Z"
   },
   {
    "duration": 541,
    "start_time": "2021-07-05T12:54:08.944Z"
   },
   {
    "duration": 14,
    "start_time": "2021-07-05T13:01:08.750Z"
   },
   {
    "duration": 29,
    "start_time": "2021-07-05T13:01:09.317Z"
   },
   {
    "duration": 65,
    "start_time": "2021-07-05T13:01:10.153Z"
   },
   {
    "duration": 22,
    "start_time": "2021-07-05T13:01:14.103Z"
   },
   {
    "duration": 621,
    "start_time": "2021-07-05T13:01:37.671Z"
   },
   {
    "duration": 65,
    "start_time": "2021-07-05T13:01:51.926Z"
   },
   {
    "duration": 96,
    "start_time": "2021-07-05T13:01:55.440Z"
   },
   {
    "duration": 440,
    "start_time": "2021-07-05T13:02:08.647Z"
   },
   {
    "duration": 382,
    "start_time": "2021-07-05T13:04:02.586Z"
   },
   {
    "duration": 366,
    "start_time": "2021-07-05T13:06:38.880Z"
   },
   {
    "duration": 350,
    "start_time": "2021-07-05T13:06:44.076Z"
   },
   {
    "duration": 50,
    "start_time": "2021-07-05T13:06:54.935Z"
   },
   {
    "duration": 47,
    "start_time": "2021-07-05T13:07:03.371Z"
   },
   {
    "duration": 349,
    "start_time": "2021-07-05T13:07:04.405Z"
   },
   {
    "duration": 12,
    "start_time": "2021-07-05T13:07:04.965Z"
   },
   {
    "duration": 892,
    "start_time": "2021-07-05T13:07:07.125Z"
   },
   {
    "duration": 60,
    "start_time": "2021-07-05T13:07:08.852Z"
   },
   {
    "duration": 6,
    "start_time": "2021-07-05T13:07:09.940Z"
   },
   {
    "duration": 174,
    "start_time": "2021-07-05T13:07:11.373Z"
   },
   {
    "duration": 292,
    "start_time": "2021-07-05T13:07:13.284Z"
   },
   {
    "duration": 48,
    "start_time": "2021-07-05T13:08:06.382Z"
   },
   {
    "duration": 1617,
    "start_time": "2021-07-05T13:08:55.748Z"
   },
   {
    "duration": 1497,
    "start_time": "2021-07-05T13:08:57.368Z"
   },
   {
    "duration": 113,
    "start_time": "2021-07-05T13:08:58.868Z"
   },
   {
    "duration": 114,
    "start_time": "2021-07-05T13:08:58.984Z"
   },
   {
    "duration": 131,
    "start_time": "2021-07-05T13:08:59.101Z"
   },
   {
    "duration": 143,
    "start_time": "2021-07-05T13:08:59.235Z"
   },
   {
    "duration": 18,
    "start_time": "2021-07-05T13:08:59.380Z"
   },
   {
    "duration": 19,
    "start_time": "2021-07-05T13:08:59.402Z"
   },
   {
    "duration": 10894,
    "start_time": "2021-07-05T13:08:59.424Z"
   },
   {
    "duration": 61,
    "start_time": "2021-07-05T13:09:10.320Z"
   },
   {
    "duration": 102,
    "start_time": "2021-07-05T13:09:10.383Z"
   },
   {
    "duration": 22,
    "start_time": "2021-07-05T13:09:10.487Z"
   },
   {
    "duration": 5,
    "start_time": "2021-07-05T13:09:10.511Z"
   },
   {
    "duration": 88,
    "start_time": "2021-07-05T13:09:10.518Z"
   },
   {
    "duration": 10,
    "start_time": "2021-07-05T13:09:10.609Z"
   },
   {
    "duration": 6,
    "start_time": "2021-07-05T13:09:10.622Z"
   },
   {
    "duration": 44,
    "start_time": "2021-07-05T13:09:10.631Z"
   },
   {
    "duration": 63,
    "start_time": "2021-07-05T13:09:10.677Z"
   },
   {
    "duration": 25,
    "start_time": "2021-07-05T13:09:10.743Z"
   },
   {
    "duration": 13,
    "start_time": "2021-07-05T13:09:10.771Z"
   },
   {
    "duration": 25,
    "start_time": "2021-07-05T13:09:10.787Z"
   },
   {
    "duration": 50,
    "start_time": "2021-07-05T13:09:10.814Z"
   },
   {
    "duration": 62,
    "start_time": "2021-07-05T13:09:10.870Z"
   },
   {
    "duration": 6,
    "start_time": "2021-07-05T13:09:10.935Z"
   },
   {
    "duration": 14,
    "start_time": "2021-07-05T13:09:10.962Z"
   },
   {
    "duration": 6,
    "start_time": "2021-07-05T13:09:10.980Z"
   },
   {
    "duration": 39,
    "start_time": "2021-07-05T13:09:10.990Z"
   },
   {
    "duration": 37,
    "start_time": "2021-07-05T13:09:11.063Z"
   },
   {
    "duration": 344,
    "start_time": "2021-07-05T13:09:11.103Z"
   },
   {
    "duration": 46,
    "start_time": "2021-07-05T13:09:11.450Z"
   },
   {
    "duration": 41,
    "start_time": "2021-07-05T13:09:11.498Z"
   },
   {
    "duration": 8,
    "start_time": "2021-07-05T13:09:11.563Z"
   },
   {
    "duration": 6,
    "start_time": "2021-07-05T13:09:11.574Z"
   },
   {
    "duration": 37,
    "start_time": "2021-07-05T13:09:11.584Z"
   },
   {
    "duration": 240,
    "start_time": "2021-07-05T13:09:11.623Z"
   },
   {
    "duration": 629,
    "start_time": "2021-07-05T13:09:11.866Z"
   },
   {
    "duration": 7,
    "start_time": "2021-07-05T13:09:12.498Z"
   },
   {
    "duration": 149,
    "start_time": "2021-07-05T13:09:12.508Z"
   },
   {
    "duration": 38,
    "start_time": "2021-07-05T13:09:12.663Z"
   },
   {
    "duration": 59,
    "start_time": "2021-07-05T13:09:12.703Z"
   },
   {
    "duration": 5,
    "start_time": "2021-07-05T13:09:12.764Z"
   },
   {
    "duration": 93,
    "start_time": "2021-07-05T13:09:12.771Z"
   },
   {
    "duration": 187,
    "start_time": "2021-07-05T13:09:12.866Z"
   },
   {
    "duration": 288,
    "start_time": "2021-07-05T13:09:13.055Z"
   },
   {
    "duration": 151,
    "start_time": "2021-07-05T13:09:13.346Z"
   },
   {
    "duration": 135,
    "start_time": "2021-07-05T13:09:13.500Z"
   },
   {
    "duration": 27,
    "start_time": "2021-07-05T13:09:13.638Z"
   },
   {
    "duration": 631,
    "start_time": "2021-07-05T13:09:13.668Z"
   },
   {
    "duration": 78,
    "start_time": "2021-07-05T13:09:14.301Z"
   },
   {
    "duration": 5,
    "start_time": "2021-07-05T13:09:14.382Z"
   },
   {
    "duration": 201,
    "start_time": "2021-07-05T13:09:14.390Z"
   },
   {
    "duration": 834,
    "start_time": "2021-07-05T13:09:14.594Z"
   },
   {
    "duration": 15,
    "start_time": "2021-07-05T13:09:15.430Z"
   },
   {
    "duration": 43,
    "start_time": "2021-07-05T13:09:15.448Z"
   },
   {
    "duration": 155,
    "start_time": "2021-07-05T13:09:15.494Z"
   },
   {
    "duration": 37,
    "start_time": "2021-07-05T13:09:15.652Z"
   },
   {
    "duration": 644,
    "start_time": "2021-07-05T13:09:15.692Z"
   },
   {
    "duration": 67,
    "start_time": "2021-07-05T13:09:16.339Z"
   },
   {
    "duration": 126,
    "start_time": "2021-07-05T13:09:16.410Z"
   },
   {
    "duration": 536,
    "start_time": "2021-07-05T13:09:16.538Z"
   },
   {
    "duration": 180,
    "start_time": "2021-07-05T13:09:17.077Z"
   },
   {
    "duration": 56,
    "start_time": "2021-07-05T13:09:17.262Z"
   },
   {
    "duration": 27,
    "start_time": "2021-07-05T13:09:17.334Z"
   },
   {
    "duration": 62467,
    "start_time": "2021-07-05T13:09:17.574Z"
   },
   {
    "duration": 1803,
    "start_time": "2021-07-06T07:15:15.719Z"
   },
   {
    "duration": 1309,
    "start_time": "2021-07-06T07:15:17.525Z"
   },
   {
    "duration": 103,
    "start_time": "2021-07-06T07:15:18.838Z"
   },
   {
    "duration": 99,
    "start_time": "2021-07-06T07:15:18.944Z"
   },
   {
    "duration": 129,
    "start_time": "2021-07-06T07:15:19.046Z"
   },
   {
    "duration": 128,
    "start_time": "2021-07-06T07:15:19.178Z"
   },
   {
    "duration": 16,
    "start_time": "2021-07-06T07:15:19.309Z"
   },
   {
    "duration": 35,
    "start_time": "2021-07-06T07:15:19.329Z"
   },
   {
    "duration": 11605,
    "start_time": "2021-07-06T07:15:19.367Z"
   },
   {
    "duration": 55,
    "start_time": "2021-07-06T07:15:30.975Z"
   },
   {
    "duration": 130,
    "start_time": "2021-07-06T07:15:31.033Z"
   },
   {
    "duration": 21,
    "start_time": "2021-07-06T07:15:31.166Z"
   },
   {
    "duration": 5,
    "start_time": "2021-07-06T07:15:31.190Z"
   },
   {
    "duration": 82,
    "start_time": "2021-07-06T07:15:31.198Z"
   },
   {
    "duration": 10,
    "start_time": "2021-07-06T07:15:31.283Z"
   },
   {
    "duration": 18,
    "start_time": "2021-07-06T07:15:31.296Z"
   },
   {
    "duration": 40,
    "start_time": "2021-07-06T07:15:31.317Z"
   },
   {
    "duration": 63,
    "start_time": "2021-07-06T07:15:31.360Z"
   },
   {
    "duration": 30,
    "start_time": "2021-07-06T07:15:31.425Z"
   },
   {
    "duration": 6,
    "start_time": "2021-07-06T07:15:31.458Z"
   },
   {
    "duration": 21,
    "start_time": "2021-07-06T07:15:31.467Z"
   },
   {
    "duration": 20,
    "start_time": "2021-07-06T07:15:31.493Z"
   },
   {
    "duration": 95,
    "start_time": "2021-07-06T07:15:31.516Z"
   },
   {
    "duration": 5,
    "start_time": "2021-07-06T07:15:31.614Z"
   },
   {
    "duration": 39,
    "start_time": "2021-07-06T07:15:31.622Z"
   },
   {
    "duration": 6,
    "start_time": "2021-07-06T07:15:31.664Z"
   },
   {
    "duration": 35,
    "start_time": "2021-07-06T07:15:31.673Z"
   },
   {
    "duration": 66,
    "start_time": "2021-07-06T07:15:31.710Z"
   },
   {
    "duration": 293,
    "start_time": "2021-07-06T07:15:31.779Z"
   },
   {
    "duration": 53,
    "start_time": "2021-07-06T07:15:32.075Z"
   },
   {
    "duration": 73,
    "start_time": "2021-07-06T07:15:32.130Z"
   },
   {
    "duration": 10,
    "start_time": "2021-07-06T07:15:32.205Z"
   },
   {
    "duration": 10,
    "start_time": "2021-07-06T07:15:32.218Z"
   },
   {
    "duration": 56,
    "start_time": "2021-07-06T07:15:32.230Z"
   },
   {
    "duration": 202,
    "start_time": "2021-07-06T07:15:32.288Z"
   },
   {
    "duration": 392,
    "start_time": "2021-07-06T07:15:32.493Z"
   },
   {
    "duration": 5,
    "start_time": "2021-07-06T07:15:32.887Z"
   },
   {
    "duration": 94,
    "start_time": "2021-07-06T07:15:32.894Z"
   },
   {
    "duration": 33,
    "start_time": "2021-07-06T07:15:32.990Z"
   },
   {
    "duration": 59,
    "start_time": "2021-07-06T07:15:33.025Z"
   },
   {
    "duration": 5,
    "start_time": "2021-07-06T07:15:33.087Z"
   },
   {
    "duration": 97,
    "start_time": "2021-07-06T07:15:33.094Z"
   },
   {
    "duration": 179,
    "start_time": "2021-07-06T07:15:33.193Z"
   },
   {
    "duration": 262,
    "start_time": "2021-07-06T07:15:33.374Z"
   },
   {
    "duration": 133,
    "start_time": "2021-07-06T07:15:33.638Z"
   },
   {
    "duration": 124,
    "start_time": "2021-07-06T07:15:33.773Z"
   },
   {
    "duration": 16,
    "start_time": "2021-07-06T07:15:33.899Z"
   },
   {
    "duration": 615,
    "start_time": "2021-07-06T07:15:33.917Z"
   },
   {
    "duration": 77,
    "start_time": "2021-07-06T07:15:34.539Z"
   },
   {
    "duration": 5,
    "start_time": "2021-07-06T07:15:34.618Z"
   },
   {
    "duration": 191,
    "start_time": "2021-07-06T07:15:34.626Z"
   },
   {
    "duration": 717,
    "start_time": "2021-07-06T07:15:34.819Z"
   },
   {
    "duration": 6,
    "start_time": "2021-07-06T07:16:08.819Z"
   },
   {
    "duration": 277,
    "start_time": "2021-07-06T07:16:40.498Z"
   },
   {
    "duration": 169,
    "start_time": "2021-07-06T07:16:44.229Z"
   },
   {
    "duration": 58,
    "start_time": "2021-07-06T07:16:45.039Z"
   },
   {
    "duration": 13,
    "start_time": "2021-07-06T07:16:45.703Z"
   },
   {
    "duration": 63757,
    "start_time": "2021-07-06T07:16:45.926Z"
   },
   {
    "duration": 309,
    "start_time": "2021-07-06T07:22:33.452Z"
   },
   {
    "duration": 1410,
    "start_time": "2021-07-06T07:24:36.203Z"
   },
   {
    "duration": 1262,
    "start_time": "2021-07-06T07:24:37.616Z"
   },
   {
    "duration": 96,
    "start_time": "2021-07-06T07:24:38.881Z"
   },
   {
    "duration": 97,
    "start_time": "2021-07-06T07:24:38.980Z"
   },
   {
    "duration": 119,
    "start_time": "2021-07-06T07:24:39.080Z"
   },
   {
    "duration": 122,
    "start_time": "2021-07-06T07:24:39.202Z"
   },
   {
    "duration": 31,
    "start_time": "2021-07-06T07:24:39.327Z"
   },
   {
    "duration": 22,
    "start_time": "2021-07-06T07:24:39.363Z"
   },
   {
    "duration": 9924,
    "start_time": "2021-07-06T07:24:39.388Z"
   },
   {
    "duration": 52,
    "start_time": "2021-07-06T07:24:49.314Z"
   },
   {
    "duration": 96,
    "start_time": "2021-07-06T07:24:49.368Z"
   },
   {
    "duration": 20,
    "start_time": "2021-07-06T07:24:49.467Z"
   },
   {
    "duration": 5,
    "start_time": "2021-07-06T07:24:49.489Z"
   },
   {
    "duration": 88,
    "start_time": "2021-07-06T07:24:49.496Z"
   },
   {
    "duration": 10,
    "start_time": "2021-07-06T07:24:49.587Z"
   },
   {
    "duration": 15,
    "start_time": "2021-07-06T07:24:49.599Z"
   },
   {
    "duration": 27,
    "start_time": "2021-07-06T07:24:49.616Z"
   },
   {
    "duration": 59,
    "start_time": "2021-07-06T07:24:49.655Z"
   },
   {
    "duration": 7,
    "start_time": "2021-07-06T07:24:49.717Z"
   },
   {
    "duration": 4,
    "start_time": "2021-07-06T07:24:49.726Z"
   },
   {
    "duration": 19,
    "start_time": "2021-07-06T07:24:49.756Z"
   },
   {
    "duration": 20,
    "start_time": "2021-07-06T07:24:49.777Z"
   },
   {
    "duration": 90,
    "start_time": "2021-07-06T07:24:49.802Z"
   },
   {
    "duration": 5,
    "start_time": "2021-07-06T07:24:49.895Z"
   },
   {
    "duration": 18,
    "start_time": "2021-07-06T07:24:49.902Z"
   },
   {
    "duration": 5,
    "start_time": "2021-07-06T07:24:49.922Z"
   },
   {
    "duration": 60,
    "start_time": "2021-07-06T07:24:49.929Z"
   },
   {
    "duration": 31,
    "start_time": "2021-07-06T07:24:49.991Z"
   },
   {
    "duration": 306,
    "start_time": "2021-07-06T07:24:50.024Z"
   },
   {
    "duration": 44,
    "start_time": "2021-07-06T07:24:50.333Z"
   },
   {
    "duration": 47,
    "start_time": "2021-07-06T07:24:50.379Z"
   },
   {
    "duration": 11,
    "start_time": "2021-07-06T07:24:50.428Z"
   },
   {
    "duration": 16,
    "start_time": "2021-07-06T07:24:50.441Z"
   },
   {
    "duration": 37,
    "start_time": "2021-07-06T07:24:50.460Z"
   },
   {
    "duration": 198,
    "start_time": "2021-07-06T07:24:50.500Z"
   },
   {
    "duration": 369,
    "start_time": "2021-07-06T07:24:50.700Z"
   },
   {
    "duration": 6,
    "start_time": "2021-07-06T07:24:51.072Z"
   },
   {
    "duration": 97,
    "start_time": "2021-07-06T07:24:51.081Z"
   },
   {
    "duration": 33,
    "start_time": "2021-07-06T07:24:51.181Z"
   },
   {
    "duration": 58,
    "start_time": "2021-07-06T07:24:51.217Z"
   },
   {
    "duration": 5,
    "start_time": "2021-07-06T07:24:51.278Z"
   },
   {
    "duration": 89,
    "start_time": "2021-07-06T07:24:51.285Z"
   },
   {
    "duration": 166,
    "start_time": "2021-07-06T07:24:51.376Z"
   },
   {
    "duration": 246,
    "start_time": "2021-07-06T07:24:51.544Z"
   },
   {
    "duration": 132,
    "start_time": "2021-07-06T07:24:51.792Z"
   },
   {
    "duration": 123,
    "start_time": "2021-07-06T07:24:51.926Z"
   },
   {
    "duration": 15,
    "start_time": "2021-07-06T07:24:52.051Z"
   },
   {
    "duration": 601,
    "start_time": "2021-07-06T07:24:52.069Z"
   },
   {
    "duration": 61,
    "start_time": "2021-07-06T07:24:52.673Z"
   },
   {
    "duration": 21,
    "start_time": "2021-07-06T07:24:52.736Z"
   },
   {
    "duration": 182,
    "start_time": "2021-07-06T07:24:52.760Z"
   },
   {
    "duration": 316,
    "start_time": "2021-07-06T07:24:52.945Z"
   },
   {
    "duration": 100,
    "start_time": "2021-07-06T07:24:53.264Z"
   },
   {
    "duration": 98,
    "start_time": "2021-07-06T07:24:53.367Z"
   },
   {
    "duration": 141,
    "start_time": "2021-07-06T07:24:53.467Z"
   },
   {
    "duration": 28,
    "start_time": "2021-07-06T07:24:53.610Z"
   },
   {
    "duration": 573,
    "start_time": "2021-07-06T07:24:53.640Z"
   },
   {
    "duration": 72,
    "start_time": "2021-07-06T07:24:54.215Z"
   },
   {
    "duration": 106,
    "start_time": "2021-07-06T07:24:54.289Z"
   },
   {
    "duration": 266,
    "start_time": "2021-07-06T07:24:54.397Z"
   },
   {
    "duration": 339,
    "start_time": "2021-07-06T07:24:54.666Z"
   },
   {
    "duration": 62,
    "start_time": "2021-07-06T07:24:55.007Z"
   },
   {
    "duration": 12,
    "start_time": "2021-07-06T07:24:55.071Z"
   },
   {
    "duration": 62797,
    "start_time": "2021-07-06T07:24:55.085Z"
   },
   {
    "duration": 43,
    "start_time": "2021-07-06T07:29:05.545Z"
   },
   {
    "duration": 419,
    "start_time": "2021-07-06T07:29:11.869Z"
   },
   {
    "duration": 52,
    "start_time": "2021-07-06T07:29:12.238Z"
   },
   {
    "duration": 30,
    "start_time": "2021-07-06T07:29:12.261Z"
   },
   {
    "duration": 16,
    "start_time": "2021-07-06T07:29:12.556Z"
   },
   {
    "duration": 585,
    "start_time": "2021-07-06T07:29:19.181Z"
   },
   {
    "duration": 58,
    "start_time": "2021-07-06T07:29:19.769Z"
   },
   {
    "duration": 5,
    "start_time": "2021-07-06T07:29:20.988Z"
   },
   {
    "duration": 163,
    "start_time": "2021-07-06T07:29:21.214Z"
   },
   {
    "duration": 302,
    "start_time": "2021-07-06T07:29:22.764Z"
   },
   {
    "duration": 13,
    "start_time": "2021-07-06T07:29:24.091Z"
   },
   {
    "duration": 28,
    "start_time": "2021-07-06T07:29:25.140Z"
   },
   {
    "duration": 48,
    "start_time": "2021-07-06T07:29:25.781Z"
   },
   {
    "duration": 16,
    "start_time": "2021-07-06T07:29:26.813Z"
   },
   {
    "duration": 548,
    "start_time": "2021-07-06T07:29:27.197Z"
   },
   {
    "duration": 60,
    "start_time": "2021-07-06T07:29:27.789Z"
   },
   {
    "duration": 87,
    "start_time": "2021-07-06T07:29:28.604Z"
   },
   {
    "duration": 313,
    "start_time": "2021-07-06T07:29:29.651Z"
   },
   {
    "duration": 11,
    "start_time": "2021-07-06T07:30:45.331Z"
   },
   {
    "duration": 51,
    "start_time": "2021-07-06T07:31:43.249Z"
   },
   {
    "duration": 3,
    "start_time": "2021-07-06T07:33:01.755Z"
   },
   {
    "duration": 279,
    "start_time": "2021-07-06T07:33:09.226Z"
   },
   {
    "duration": 317,
    "start_time": "2021-07-06T07:34:25.905Z"
   },
   {
    "duration": 37,
    "start_time": "2021-07-06T07:40:48.245Z"
   },
   {
    "duration": 1174,
    "start_time": "2021-07-06T07:41:12.756Z"
   },
   {
    "duration": 16,
    "start_time": "2021-07-06T07:42:59.155Z"
   },
   {
    "duration": 273,
    "start_time": "2021-07-06T07:43:07.770Z"
   },
   {
    "duration": 271,
    "start_time": "2021-07-06T07:48:13.416Z"
   },
   {
    "duration": 342,
    "start_time": "2021-07-06T07:51:41.573Z"
   },
   {
    "duration": 269,
    "start_time": "2021-07-06T07:52:23.632Z"
   },
   {
    "duration": 286,
    "start_time": "2021-07-06T07:53:01.123Z"
   },
   {
    "duration": 285,
    "start_time": "2021-07-06T07:53:19.088Z"
   },
   {
    "duration": 268,
    "start_time": "2021-07-06T07:54:53.867Z"
   },
   {
    "duration": 91,
    "start_time": "2021-07-06T07:55:07.837Z"
   },
   {
    "duration": 260,
    "start_time": "2021-07-06T07:55:13.735Z"
   },
   {
    "duration": 616,
    "start_time": "2021-07-06T08:04:47.024Z"
   },
   {
    "duration": 282,
    "start_time": "2021-07-06T08:05:04.023Z"
   },
   {
    "duration": 3,
    "start_time": "2021-07-06T08:06:01.468Z"
   },
   {
    "duration": 136486,
    "start_time": "2021-07-06T08:06:02.882Z"
   },
   {
    "duration": 7492,
    "start_time": "2021-07-06T08:24:09.988Z"
   },
   {
    "duration": 6778,
    "start_time": "2021-07-06T08:24:56.048Z"
   },
   {
    "duration": 1622,
    "start_time": "2021-07-06T08:48:02.862Z"
   },
   {
    "duration": 1672,
    "start_time": "2021-07-06T08:48:04.487Z"
   },
   {
    "duration": 1543,
    "start_time": "2021-07-06T08:59:26.068Z"
   },
   {
    "duration": 1482,
    "start_time": "2021-07-06T08:59:27.614Z"
   },
   {
    "duration": 117,
    "start_time": "2021-07-06T08:59:29.099Z"
   },
   {
    "duration": 115,
    "start_time": "2021-07-06T08:59:29.220Z"
   },
   {
    "duration": 145,
    "start_time": "2021-07-06T08:59:29.338Z"
   },
   {
    "duration": 135,
    "start_time": "2021-07-06T08:59:29.486Z"
   },
   {
    "duration": 41,
    "start_time": "2021-07-06T08:59:29.624Z"
   },
   {
    "duration": 24,
    "start_time": "2021-07-06T08:59:29.669Z"
   },
   {
    "duration": 11482,
    "start_time": "2021-07-06T08:59:30.418Z"
   },
   {
    "duration": 56,
    "start_time": "2021-07-06T08:59:43.321Z"
   },
   {
    "duration": 94,
    "start_time": "2021-07-06T08:59:43.546Z"
   },
   {
    "duration": 21,
    "start_time": "2021-07-06T08:59:43.888Z"
   },
   {
    "duration": 6,
    "start_time": "2021-07-06T08:59:44.048Z"
   },
   {
    "duration": 75,
    "start_time": "2021-07-06T08:59:45.761Z"
   },
   {
    "duration": 11,
    "start_time": "2021-07-06T08:59:46.889Z"
   },
   {
    "duration": 5,
    "start_time": "2021-07-06T08:59:47.089Z"
   },
   {
    "duration": 21,
    "start_time": "2021-07-06T08:59:47.483Z"
   },
   {
    "duration": 63,
    "start_time": "2021-07-06T08:59:47.698Z"
   },
   {
    "duration": 10,
    "start_time": "2021-07-06T08:59:47.874Z"
   },
   {
    "duration": 7,
    "start_time": "2021-07-06T08:59:48.056Z"
   },
   {
    "duration": 22,
    "start_time": "2021-07-06T08:59:48.405Z"
   },
   {
    "duration": 42,
    "start_time": "2021-07-06T08:59:48.579Z"
   },
   {
    "duration": 64,
    "start_time": "2021-07-06T08:59:48.786Z"
   },
   {
    "duration": 5,
    "start_time": "2021-07-06T08:59:48.943Z"
   },
   {
    "duration": 14,
    "start_time": "2021-07-06T08:59:49.263Z"
   },
   {
    "duration": 8,
    "start_time": "2021-07-06T08:59:49.467Z"
   },
   {
    "duration": 39,
    "start_time": "2021-07-06T08:59:49.649Z"
   },
   {
    "duration": 35,
    "start_time": "2021-07-06T08:59:50.017Z"
   },
   {
    "duration": 341,
    "start_time": "2021-07-06T08:59:50.358Z"
   },
   {
    "duration": 42,
    "start_time": "2021-07-06T08:59:50.703Z"
   },
   {
    "duration": 42,
    "start_time": "2021-07-06T08:59:50.774Z"
   },
   {
    "duration": 8,
    "start_time": "2021-07-06T08:59:51.745Z"
   },
   {
    "duration": 7,
    "start_time": "2021-07-06T08:59:51.905Z"
   },
   {
    "duration": 38,
    "start_time": "2021-07-06T08:59:52.064Z"
   },
   {
    "duration": 224,
    "start_time": "2021-07-06T08:59:52.475Z"
   },
   {
    "duration": 457,
    "start_time": "2021-07-06T08:59:52.702Z"
   },
   {
    "duration": 9,
    "start_time": "2021-07-06T08:59:53.163Z"
   },
   {
    "duration": 108,
    "start_time": "2021-07-06T08:59:53.176Z"
   },
   {
    "duration": 42,
    "start_time": "2021-07-06T08:59:54.572Z"
   },
   {
    "duration": 41,
    "start_time": "2021-07-06T08:59:54.729Z"
   },
   {
    "duration": 7,
    "start_time": "2021-07-06T08:59:54.889Z"
   },
   {
    "duration": 90,
    "start_time": "2021-07-06T08:59:55.036Z"
   },
   {
    "duration": 190,
    "start_time": "2021-07-06T08:59:55.459Z"
   },
   {
    "duration": 293,
    "start_time": "2021-07-06T08:59:57.510Z"
   },
   {
    "duration": 140,
    "start_time": "2021-07-06T08:59:57.806Z"
   },
   {
    "duration": 140,
    "start_time": "2021-07-06T08:59:59.145Z"
   },
   {
    "duration": 16,
    "start_time": "2021-07-06T08:59:59.913Z"
   },
   {
    "duration": 8471,
    "start_time": "2021-07-06T09:00:00.357Z"
   },
   {
    "duration": 199,
    "start_time": "2021-07-06T09:02:57.040Z"
   },
   {
    "duration": 77,
    "start_time": "2021-07-06T09:03:13.791Z"
   },
   {
    "duration": 10,
    "start_time": "2021-07-06T09:03:14.864Z"
   },
   {
    "duration": 170,
    "start_time": "2021-07-06T09:03:15.144Z"
   },
   {
    "duration": 386,
    "start_time": "2021-07-06T09:03:16.488Z"
   },
   {
    "duration": 16,
    "start_time": "2021-07-06T09:03:16.959Z"
   },
   {
    "duration": 51,
    "start_time": "2021-07-06T09:03:17.944Z"
   },
   {
    "duration": 164,
    "start_time": "2021-07-06T09:03:23.665Z"
   },
   {
    "duration": 40,
    "start_time": "2021-07-06T09:03:23.941Z"
   },
   {
    "duration": 643,
    "start_time": "2021-07-06T09:03:24.370Z"
   },
   {
    "duration": 72,
    "start_time": "2021-07-06T09:03:25.166Z"
   },
   {
    "duration": 111,
    "start_time": "2021-07-06T09:03:25.958Z"
   },
   {
    "duration": 456,
    "start_time": "2021-07-06T09:03:27.104Z"
   },
   {
    "duration": 12,
    "start_time": "2021-07-06T09:04:24.839Z"
   },
   {
    "duration": 37,
    "start_time": "2021-07-06T09:04:25.286Z"
   },
   {
    "duration": 121,
    "start_time": "2021-07-06T09:04:25.927Z"
   },
   {
    "duration": 30,
    "start_time": "2021-07-06T09:04:26.575Z"
   },
   {
    "duration": 195,
    "start_time": "2021-07-06T09:04:27.423Z"
   },
   {
    "duration": 88,
    "start_time": "2021-07-06T09:04:28.845Z"
   },
   {
    "duration": 117,
    "start_time": "2021-07-06T09:04:29.973Z"
   },
   {
    "duration": 211,
    "start_time": "2021-07-06T09:04:31.526Z"
   },
   {
    "duration": 13,
    "start_time": "2021-07-06T09:04:51.543Z"
   },
   {
    "duration": 36,
    "start_time": "2021-07-06T09:04:51.720Z"
   },
   {
    "duration": 128,
    "start_time": "2021-07-06T09:04:52.063Z"
   },
   {
    "duration": 34,
    "start_time": "2021-07-06T09:04:52.350Z"
   },
   {
    "duration": 188,
    "start_time": "2021-07-06T09:04:52.631Z"
   },
   {
    "duration": 78,
    "start_time": "2021-07-06T09:04:52.909Z"
   },
   {
    "duration": 104,
    "start_time": "2021-07-06T09:04:53.433Z"
   },
   {
    "duration": 184,
    "start_time": "2021-07-06T09:04:54.502Z"
   },
   {
    "duration": 15,
    "start_time": "2021-07-06T09:06:07.695Z"
   },
   {
    "duration": 9,
    "start_time": "2021-07-06T09:06:13.233Z"
   },
   {
    "duration": 111,
    "start_time": "2021-07-06T09:06:47.855Z"
   },
   {
    "duration": 184,
    "start_time": "2021-07-06T09:06:48.959Z"
   },
   {
    "duration": 305,
    "start_time": "2021-07-06T09:06:52.118Z"
   },
   {
    "duration": 127,
    "start_time": "2021-07-06T09:06:53.188Z"
   },
   {
    "duration": 111,
    "start_time": "2021-07-06T09:06:57.590Z"
   },
   {
    "duration": 16,
    "start_time": "2021-07-06T09:06:58.703Z"
   },
   {
    "duration": 190,
    "start_time": "2021-07-06T09:06:59.934Z"
   },
   {
    "duration": 79,
    "start_time": "2021-07-06T09:07:01.300Z"
   },
   {
    "duration": 6,
    "start_time": "2021-07-06T09:07:02.205Z"
   },
   {
    "duration": 155,
    "start_time": "2021-07-06T09:07:02.685Z"
   },
   {
    "duration": 353,
    "start_time": "2021-07-06T09:07:03.816Z"
   },
   {
    "duration": 12,
    "start_time": "2021-07-06T09:07:09.709Z"
   },
   {
    "duration": 43,
    "start_time": "2021-07-06T09:07:10.453Z"
   },
   {
    "duration": 141,
    "start_time": "2021-07-06T09:07:16.166Z"
   },
   {
    "duration": 33,
    "start_time": "2021-07-06T09:07:40.383Z"
   },
   {
    "duration": 210,
    "start_time": "2021-07-06T09:07:41.507Z"
   },
   {
    "duration": 85,
    "start_time": "2021-07-06T09:07:49.547Z"
   },
   {
    "duration": 168,
    "start_time": "2021-07-06T09:08:23.894Z"
   },
   {
    "duration": 9,
    "start_time": "2021-07-06T09:08:30.680Z"
   },
   {
    "duration": 19,
    "start_time": "2021-07-06T09:08:59.268Z"
   },
   {
    "duration": 48,
    "start_time": "2021-07-06T09:08:59.429Z"
   },
   {
    "duration": 149,
    "start_time": "2021-07-06T09:08:59.836Z"
   },
   {
    "duration": 36,
    "start_time": "2021-07-06T09:09:00.159Z"
   },
   {
    "duration": 215,
    "start_time": "2021-07-06T09:09:01.443Z"
   },
   {
    "duration": 83,
    "start_time": "2021-07-06T09:09:18.502Z"
   },
   {
    "duration": 15,
    "start_time": "2021-07-06T09:09:36.024Z"
   },
   {
    "duration": 17,
    "start_time": "2021-07-06T09:09:53.685Z"
   },
   {
    "duration": 40,
    "start_time": "2021-07-06T09:09:54.109Z"
   },
   {
    "duration": 123,
    "start_time": "2021-07-06T09:10:07.197Z"
   },
   {
    "duration": 159,
    "start_time": "2021-07-06T09:10:19.086Z"
   },
   {
    "duration": 70,
    "start_time": "2021-07-06T09:10:23.564Z"
   },
   {
    "duration": 16,
    "start_time": "2021-07-06T09:10:34.925Z"
   },
   {
    "duration": 35,
    "start_time": "2021-07-06T09:10:45.988Z"
   },
   {
    "duration": 233,
    "start_time": "2021-07-06T09:11:03.883Z"
   },
   {
    "duration": 21,
    "start_time": "2021-07-06T09:11:11.685Z"
   },
   {
    "duration": 309,
    "start_time": "2021-07-06T09:11:46.908Z"
   },
   {
    "duration": 5,
    "start_time": "2021-07-06T09:11:49.700Z"
   },
   {
    "duration": 300,
    "start_time": "2021-07-06T09:13:02.973Z"
   },
   {
    "duration": 12,
    "start_time": "2021-07-06T09:13:11.274Z"
   },
   {
    "duration": 38,
    "start_time": "2021-07-06T09:13:11.779Z"
   },
   {
    "duration": 67,
    "start_time": "2021-07-06T09:13:12.427Z"
   },
   {
    "duration": 137,
    "start_time": "2021-07-06T09:13:13.357Z"
   },
   {
    "duration": 29,
    "start_time": "2021-07-06T09:13:16.011Z"
   },
   {
    "duration": 283,
    "start_time": "2021-07-06T09:13:17.097Z"
   },
   {
    "duration": 19,
    "start_time": "2021-07-06T09:13:34.818Z"
   },
   {
    "duration": 5,
    "start_time": "2021-07-06T09:13:41.647Z"
   },
   {
    "duration": 74,
    "start_time": "2021-07-06T09:13:46.003Z"
   },
   {
    "duration": 156,
    "start_time": "2021-07-06T09:13:47.379Z"
   },
   {
    "duration": 10,
    "start_time": "2021-07-06T09:13:51.482Z"
   },
   {
    "duration": 248,
    "start_time": "2021-07-06T09:13:59.916Z"
   },
   {
    "duration": 243,
    "start_time": "2021-07-06T09:15:38.323Z"
   },
   {
    "duration": 268,
    "start_time": "2021-07-06T09:15:57.943Z"
   },
   {
    "duration": 130,
    "start_time": "2021-07-06T09:15:58.213Z"
   },
   {
    "duration": 134,
    "start_time": "2021-07-06T09:15:58.346Z"
   },
   {
    "duration": 19,
    "start_time": "2021-07-06T09:15:58.550Z"
   },
   {
    "duration": 184,
    "start_time": "2021-07-06T09:15:58.786Z"
   },
   {
    "duration": 81,
    "start_time": "2021-07-06T09:15:59.210Z"
   },
   {
    "duration": 5,
    "start_time": "2021-07-06T09:15:59.634Z"
   },
   {
    "duration": 144,
    "start_time": "2021-07-06T09:15:59.835Z"
   },
   {
    "duration": 380,
    "start_time": "2021-07-06T09:16:00.178Z"
   },
   {
    "duration": 365,
    "start_time": "2021-07-06T09:16:07.898Z"
   },
   {
    "duration": 12,
    "start_time": "2021-07-06T09:16:14.200Z"
   },
   {
    "duration": 44,
    "start_time": "2021-07-06T09:16:14.386Z"
   },
   {
    "duration": 75,
    "start_time": "2021-07-06T09:16:14.544Z"
   },
   {
    "duration": 127,
    "start_time": "2021-07-06T09:16:14.826Z"
   },
   {
    "duration": 31,
    "start_time": "2021-07-06T09:16:15.088Z"
   },
   {
    "duration": 420,
    "start_time": "2021-07-06T09:16:15.394Z"
   },
   {
    "duration": 91,
    "start_time": "2021-07-06T09:16:15.817Z"
   },
   {
    "duration": 140,
    "start_time": "2021-07-06T09:16:16.075Z"
   },
   {
    "duration": 332,
    "start_time": "2021-07-06T09:16:17.345Z"
   },
   {
    "duration": 12,
    "start_time": "2021-07-06T09:16:29.888Z"
   },
   {
    "duration": 38,
    "start_time": "2021-07-06T09:16:30.114Z"
   },
   {
    "duration": 78,
    "start_time": "2021-07-06T09:16:30.251Z"
   },
   {
    "duration": 129,
    "start_time": "2021-07-06T09:16:30.572Z"
   },
   {
    "duration": 39,
    "start_time": "2021-07-06T09:16:30.857Z"
   },
   {
    "duration": 284,
    "start_time": "2021-07-06T09:16:31.137Z"
   },
   {
    "duration": 86,
    "start_time": "2021-07-06T09:16:31.424Z"
   },
   {
    "duration": 140,
    "start_time": "2021-07-06T09:16:31.641Z"
   },
   {
    "duration": 363,
    "start_time": "2021-07-06T09:16:33.011Z"
   },
   {
    "duration": 277,
    "start_time": "2021-07-06T09:17:43.155Z"
   },
   {
    "duration": 125,
    "start_time": "2021-07-06T09:17:44.121Z"
   },
   {
    "duration": 124,
    "start_time": "2021-07-06T09:17:44.868Z"
   },
   {
    "duration": 16,
    "start_time": "2021-07-06T09:17:46.393Z"
   },
   {
    "duration": 232,
    "start_time": "2021-07-06T09:17:47.107Z"
   },
   {
    "duration": 76,
    "start_time": "2021-07-06T09:17:47.866Z"
   },
   {
    "duration": 5,
    "start_time": "2021-07-06T09:17:48.687Z"
   },
   {
    "duration": 154,
    "start_time": "2021-07-06T09:17:48.835Z"
   },
   {
    "duration": 398,
    "start_time": "2021-07-06T09:17:50.160Z"
   },
   {
    "duration": 12,
    "start_time": "2021-07-06T09:17:51.793Z"
   },
   {
    "duration": 53,
    "start_time": "2021-07-06T09:17:52.521Z"
   },
   {
    "duration": 76,
    "start_time": "2021-07-06T09:17:52.745Z"
   },
   {
    "duration": 133,
    "start_time": "2021-07-06T09:17:55.529Z"
   },
   {
    "duration": 29,
    "start_time": "2021-07-06T09:17:56.489Z"
   },
   {
    "duration": 272,
    "start_time": "2021-07-06T09:17:57.578Z"
   },
   {
    "duration": 72,
    "start_time": "2021-07-06T09:17:58.585Z"
   },
   {
    "duration": 164,
    "start_time": "2021-07-06T09:17:59.410Z"
   },
   {
    "duration": 316,
    "start_time": "2021-07-06T09:18:00.242Z"
   },
   {
    "duration": 175,
    "start_time": "2021-07-06T09:18:03.370Z"
   },
   {
    "duration": 12,
    "start_time": "2021-07-06T09:18:05.603Z"
   },
   {
    "duration": 51,
    "start_time": "2021-07-06T09:18:09.497Z"
   },
   {
    "duration": 265,
    "start_time": "2021-07-06T09:18:10.321Z"
   },
   {
    "duration": 65247,
    "start_time": "2021-07-06T09:18:29.555Z"
   },
   {
    "duration": 100,
    "start_time": "2021-07-06T09:25:15.425Z"
   },
   {
    "duration": 320,
    "start_time": "2021-07-06T09:25:24.348Z"
   },
   {
    "duration": 32,
    "start_time": "2021-07-06T09:25:34.942Z"
   },
   {
    "duration": 103,
    "start_time": "2021-07-06T09:25:44.894Z"
   },
   {
    "duration": 5,
    "start_time": "2021-07-06T09:25:50.415Z"
   },
   {
    "duration": 12,
    "start_time": "2021-07-06T09:25:56.017Z"
   },
   {
    "duration": 13,
    "start_time": "2021-07-06T09:26:59.702Z"
   },
   {
    "duration": 58,
    "start_time": "2021-07-06T09:27:07.102Z"
   },
   {
    "duration": 10,
    "start_time": "2021-07-06T09:27:34.078Z"
   },
   {
    "duration": 5,
    "start_time": "2021-07-06T09:27:35.525Z"
   },
   {
    "duration": 176,
    "start_time": "2021-07-06T09:27:41.302Z"
   },
   {
    "duration": 303,
    "start_time": "2021-07-06T09:27:55.323Z"
   },
   {
    "duration": 85,
    "start_time": "2021-07-06T09:28:38.013Z"
   },
   {
    "duration": 97,
    "start_time": "2021-07-06T09:28:55.013Z"
   },
   {
    "duration": 94,
    "start_time": "2021-07-06T09:29:23.291Z"
   },
   {
    "duration": 99,
    "start_time": "2021-07-06T09:29:44.491Z"
   },
   {
    "duration": 183,
    "start_time": "2021-07-06T09:31:16.044Z"
   },
   {
    "duration": 64,
    "start_time": "2021-07-06T09:31:34.636Z"
   },
   {
    "duration": 4,
    "start_time": "2021-07-06T09:31:35.843Z"
   },
   {
    "duration": 191,
    "start_time": "2021-07-06T09:31:36.987Z"
   },
   {
    "duration": 200,
    "start_time": "2021-07-06T09:32:18.876Z"
   },
   {
    "duration": 177,
    "start_time": "2021-07-06T09:38:09.713Z"
   },
   {
    "duration": 181,
    "start_time": "2021-07-06T09:45:59.721Z"
   },
   {
    "duration": 4,
    "start_time": "2021-07-06T09:46:20.987Z"
   },
   {
    "duration": 11163,
    "start_time": "2021-07-06T09:46:25.989Z"
   },
   {
    "duration": 228,
    "start_time": "2021-07-06T09:49:18.981Z"
   },
   {
    "duration": 132847,
    "start_time": "2021-07-06T09:49:39.037Z"
   },
   {
    "duration": 16823,
    "start_time": "2021-07-06T09:51:59.523Z"
   },
   {
    "duration": 186,
    "start_time": "2021-07-06T09:53:02.240Z"
   },
   {
    "duration": 157815,
    "start_time": "2021-07-06T09:59:55.255Z"
   },
   {
    "duration": 5,
    "start_time": "2021-07-06T10:06:05.858Z"
   },
   {
    "duration": 2290,
    "start_time": "2021-07-06T10:06:09.045Z"
   },
   {
    "duration": 18,
    "start_time": "2021-07-06T10:12:26.679Z"
   },
   {
    "duration": 16,
    "start_time": "2021-07-06T10:12:48.676Z"
   },
   {
    "duration": 22,
    "start_time": "2021-07-06T10:12:52.839Z"
   },
   {
    "duration": 16,
    "start_time": "2021-07-06T10:13:00.272Z"
   },
   {
    "duration": 284,
    "start_time": "2021-07-06T10:13:16.855Z"
   },
   {
    "duration": 271,
    "start_time": "2021-07-06T10:13:45.370Z"
   },
   {
    "duration": 287,
    "start_time": "2021-07-06T10:14:08.633Z"
   },
   {
    "duration": 13,
    "start_time": "2021-07-06T10:14:18.830Z"
   },
   {
    "duration": 278,
    "start_time": "2021-07-06T10:14:22.945Z"
   },
   {
    "duration": 24,
    "start_time": "2021-07-06T10:15:16.297Z"
   },
   {
    "duration": 273,
    "start_time": "2021-07-06T10:15:26.175Z"
   },
   {
    "duration": 15,
    "start_time": "2021-07-06T10:15:29.745Z"
   },
   {
    "duration": 283,
    "start_time": "2021-07-06T10:15:33.456Z"
   },
   {
    "duration": 14,
    "start_time": "2021-07-06T10:17:23.329Z"
   },
   {
    "duration": 14,
    "start_time": "2021-07-06T10:17:49.829Z"
   },
   {
    "duration": 36,
    "start_time": "2021-07-06T10:21:46.438Z"
   },
   {
    "duration": 255,
    "start_time": "2021-07-06T10:22:05.763Z"
   },
   {
    "duration": 9,
    "start_time": "2021-07-06T10:22:07.965Z"
   },
   {
    "duration": 29,
    "start_time": "2021-07-06T10:23:08.670Z"
   },
   {
    "duration": 54,
    "start_time": "2021-07-06T10:23:09.256Z"
   },
   {
    "duration": 262,
    "start_time": "2021-07-06T10:23:09.954Z"
   },
   {
    "duration": 67084,
    "start_time": "2021-07-06T10:23:10.517Z"
   },
   {
    "duration": 95,
    "start_time": "2021-07-06T10:24:33.861Z"
   },
   {
    "duration": 25,
    "start_time": "2021-07-06T10:26:40.434Z"
   },
   {
    "duration": 14,
    "start_time": "2021-07-06T10:26:59.434Z"
   },
   {
    "duration": 10,
    "start_time": "2021-07-06T11:12:19.885Z"
   },
   {
    "duration": 57,
    "start_time": "2021-07-06T11:14:43.765Z"
   },
   {
    "duration": 10,
    "start_time": "2021-07-06T11:14:57.653Z"
   },
   {
    "duration": 368,
    "start_time": "2021-07-06T11:21:52.593Z"
   },
   {
    "duration": 294,
    "start_time": "2021-07-06T11:23:42.990Z"
   },
   {
    "duration": 294,
    "start_time": "2021-07-06T11:26:39.360Z"
   },
   {
    "duration": 18,
    "start_time": "2021-07-06T11:26:54.558Z"
   },
   {
    "duration": 15,
    "start_time": "2021-07-06T11:28:53.502Z"
   },
   {
    "duration": 4,
    "start_time": "2021-07-06T11:32:13.535Z"
   },
   {
    "duration": 1181854,
    "start_time": "2021-07-06T11:32:23.924Z"
   },
   {
    "duration": 4,
    "start_time": "2021-07-06T11:52:05.781Z"
   },
   {
    "duration": 2225,
    "start_time": "2021-07-06T11:54:14.649Z"
   },
   {
    "duration": 2159,
    "start_time": "2021-07-06T11:55:02.514Z"
   },
   {
    "duration": 4,
    "start_time": "2021-07-06T11:55:30.355Z"
   },
   {
    "duration": 194,
    "start_time": "2021-07-06T11:55:30.942Z"
   },
   {
    "duration": 192,
    "start_time": "2021-07-06T11:55:31.469Z"
   },
   {
    "duration": 7,
    "start_time": "2021-07-06T11:56:45.491Z"
   },
   {
    "duration": 178,
    "start_time": "2021-07-06T11:57:13.501Z"
   },
   {
    "duration": 17,
    "start_time": "2021-07-06T11:57:35.762Z"
   },
   {
    "duration": 191,
    "start_time": "2021-07-06T11:57:46.954Z"
   },
   {
    "duration": 25,
    "start_time": "2021-07-06T11:58:21.498Z"
   },
   {
    "duration": 199,
    "start_time": "2021-07-06T11:58:34.068Z"
   },
   {
    "duration": 295,
    "start_time": "2021-07-06T11:58:44.497Z"
   },
   {
    "duration": 7182,
    "start_time": "2021-07-06T11:59:21.786Z"
   },
   {
    "duration": 26417,
    "start_time": "2021-07-06T11:59:55.454Z"
   },
   {
    "duration": 26257,
    "start_time": "2021-07-06T12:00:38.416Z"
   },
   {
    "duration": 25884,
    "start_time": "2021-07-06T12:04:13.956Z"
   },
   {
    "duration": 220,
    "start_time": "2021-07-06T12:04:44.822Z"
   },
   {
    "duration": 23,
    "start_time": "2021-07-06T12:05:00.702Z"
   },
   {
    "duration": 30,
    "start_time": "2021-07-06T12:05:36.615Z"
   },
   {
    "duration": 15,
    "start_time": "2021-07-06T12:11:33.379Z"
   },
   {
    "duration": 22,
    "start_time": "2021-07-06T12:11:49.653Z"
   },
   {
    "duration": 15,
    "start_time": "2021-07-06T12:12:08.881Z"
   },
   {
    "duration": 1593,
    "start_time": "2021-07-06T12:16:02.079Z"
   },
   {
    "duration": 1522,
    "start_time": "2021-07-06T12:16:03.676Z"
   },
   {
    "duration": 107,
    "start_time": "2021-07-06T12:16:05.201Z"
   },
   {
    "duration": 110,
    "start_time": "2021-07-06T12:16:05.311Z"
   },
   {
    "duration": 137,
    "start_time": "2021-07-06T12:16:05.424Z"
   },
   {
    "duration": 143,
    "start_time": "2021-07-06T12:16:05.564Z"
   },
   {
    "duration": 19,
    "start_time": "2021-07-06T12:16:05.710Z"
   },
   {
    "duration": 47,
    "start_time": "2021-07-06T12:16:05.733Z"
   },
   {
    "duration": 12042,
    "start_time": "2021-07-06T12:16:05.784Z"
   },
   {
    "duration": 61,
    "start_time": "2021-07-06T12:16:17.828Z"
   },
   {
    "duration": 113,
    "start_time": "2021-07-06T12:16:17.892Z"
   },
   {
    "duration": 20,
    "start_time": "2021-07-06T12:16:18.007Z"
   },
   {
    "duration": 5,
    "start_time": "2021-07-06T12:16:18.029Z"
   },
   {
    "duration": 66,
    "start_time": "2021-07-06T12:16:18.057Z"
   },
   {
    "duration": 9,
    "start_time": "2021-07-06T12:16:18.125Z"
   },
   {
    "duration": 7,
    "start_time": "2021-07-06T12:16:18.157Z"
   },
   {
    "duration": 26,
    "start_time": "2021-07-06T12:16:18.168Z"
   },
   {
    "duration": 106,
    "start_time": "2021-07-06T12:16:18.198Z"
   },
   {
    "duration": 10,
    "start_time": "2021-07-06T12:16:18.307Z"
   },
   {
    "duration": 21,
    "start_time": "2021-07-06T12:16:18.319Z"
   },
   {
    "duration": 27,
    "start_time": "2021-07-06T12:16:18.343Z"
   },
   {
    "duration": 21,
    "start_time": "2021-07-06T12:16:18.373Z"
   },
   {
    "duration": 92,
    "start_time": "2021-07-06T12:16:18.400Z"
   },
   {
    "duration": 5,
    "start_time": "2021-07-06T12:16:18.496Z"
   },
   {
    "duration": 20,
    "start_time": "2021-07-06T12:16:18.504Z"
   },
   {
    "duration": 6,
    "start_time": "2021-07-06T12:16:18.536Z"
   },
   {
    "duration": 40,
    "start_time": "2021-07-06T12:16:18.557Z"
   },
   {
    "duration": 62,
    "start_time": "2021-07-06T12:16:18.601Z"
   },
   {
    "duration": 325,
    "start_time": "2021-07-06T12:16:18.666Z"
   },
   {
    "duration": 73,
    "start_time": "2021-07-06T12:16:18.994Z"
   },
   {
    "duration": 44,
    "start_time": "2021-07-06T12:16:19.070Z"
   },
   {
    "duration": 57,
    "start_time": "2021-07-06T12:16:19.117Z"
   },
   {
    "duration": 10,
    "start_time": "2021-07-06T12:16:19.176Z"
   },
   {
    "duration": 38,
    "start_time": "2021-07-06T12:16:19.189Z"
   },
   {
    "duration": 209,
    "start_time": "2021-07-06T12:16:19.230Z"
   },
   {
    "duration": 444,
    "start_time": "2021-07-06T12:16:19.441Z"
   },
   {
    "duration": 5,
    "start_time": "2021-07-06T12:16:19.888Z"
   },
   {
    "duration": 102,
    "start_time": "2021-07-06T12:16:19.895Z"
   },
   {
    "duration": 35,
    "start_time": "2021-07-06T12:16:19.999Z"
   },
   {
    "duration": 44,
    "start_time": "2021-07-06T12:16:20.056Z"
   },
   {
    "duration": 5,
    "start_time": "2021-07-06T12:16:20.102Z"
   },
   {
    "duration": 103,
    "start_time": "2021-07-06T12:16:20.110Z"
   },
   {
    "duration": 202,
    "start_time": "2021-07-06T12:16:20.215Z"
   },
   {
    "duration": 286,
    "start_time": "2021-07-06T12:16:20.419Z"
   },
   {
    "duration": 140,
    "start_time": "2021-07-06T12:16:20.708Z"
   },
   {
    "duration": 133,
    "start_time": "2021-07-06T12:16:20.850Z"
   },
   {
    "duration": 17,
    "start_time": "2021-07-06T12:16:20.986Z"
   },
   {
    "duration": 219,
    "start_time": "2021-07-06T12:16:21.006Z"
   },
   {
    "duration": 93,
    "start_time": "2021-07-06T12:16:21.228Z"
   },
   {
    "duration": 5,
    "start_time": "2021-07-06T12:16:21.324Z"
   },
   {
    "duration": 187,
    "start_time": "2021-07-06T12:16:21.331Z"
   },
   {
    "duration": 755,
    "start_time": "2021-07-06T12:16:21.521Z"
   },
   {
    "duration": 15,
    "start_time": "2021-07-06T12:16:22.282Z"
   },
   {
    "duration": 41,
    "start_time": "2021-07-06T12:16:22.300Z"
   },
   {
    "duration": 86,
    "start_time": "2021-07-06T12:16:22.343Z"
   },
   {
    "duration": 153,
    "start_time": "2021-07-06T12:16:22.431Z"
   },
   {
    "duration": 30,
    "start_time": "2021-07-06T12:16:22.587Z"
   },
   {
    "duration": 293,
    "start_time": "2021-07-06T12:16:22.619Z"
   },
   {
    "duration": 92,
    "start_time": "2021-07-06T12:16:22.915Z"
   },
   {
    "duration": 154,
    "start_time": "2021-07-06T12:16:23.009Z"
   },
   {
    "duration": 508,
    "start_time": "2021-07-06T12:16:23.166Z"
   },
   {
    "duration": 173,
    "start_time": "2021-07-06T12:16:23.676Z"
   },
   {
    "duration": 278,
    "start_time": "2021-07-06T12:16:34.897Z"
   },
   {
    "duration": 296,
    "start_time": "2021-07-06T12:16:36.835Z"
   },
   {
    "duration": 271,
    "start_time": "2021-07-06T12:16:51.075Z"
   },
   {
    "duration": 10,
    "start_time": "2021-07-06T12:17:13.099Z"
   },
   {
    "duration": 1551,
    "start_time": "2021-07-06T12:17:55.283Z"
   },
   {
    "duration": 1499,
    "start_time": "2021-07-06T12:17:56.836Z"
   },
   {
    "duration": 105,
    "start_time": "2021-07-06T12:17:58.338Z"
   },
   {
    "duration": 110,
    "start_time": "2021-07-06T12:17:58.445Z"
   },
   {
    "duration": 128,
    "start_time": "2021-07-06T12:17:58.559Z"
   },
   {
    "duration": 129,
    "start_time": "2021-07-06T12:17:58.689Z"
   },
   {
    "duration": 16,
    "start_time": "2021-07-06T12:17:58.820Z"
   },
   {
    "duration": 38,
    "start_time": "2021-07-06T12:17:58.839Z"
   },
   {
    "duration": 11354,
    "start_time": "2021-07-06T12:17:58.881Z"
   },
   {
    "duration": 59,
    "start_time": "2021-07-06T12:18:10.237Z"
   },
   {
    "duration": 109,
    "start_time": "2021-07-06T12:18:10.298Z"
   },
   {
    "duration": 20,
    "start_time": "2021-07-06T12:18:10.410Z"
   },
   {
    "duration": 23,
    "start_time": "2021-07-06T12:18:10.433Z"
   },
   {
    "duration": 62,
    "start_time": "2021-07-06T12:18:10.459Z"
   },
   {
    "duration": 10,
    "start_time": "2021-07-06T12:18:10.524Z"
   },
   {
    "duration": 6,
    "start_time": "2021-07-06T12:18:10.557Z"
   },
   {
    "duration": 32,
    "start_time": "2021-07-06T12:18:10.565Z"
   },
   {
    "duration": 85,
    "start_time": "2021-07-06T12:18:10.600Z"
   },
   {
    "duration": 9,
    "start_time": "2021-07-06T12:18:10.688Z"
   },
   {
    "duration": 18,
    "start_time": "2021-07-06T12:18:10.700Z"
   },
   {
    "duration": 43,
    "start_time": "2021-07-06T12:18:10.721Z"
   },
   {
    "duration": 28,
    "start_time": "2021-07-06T12:18:10.766Z"
   },
   {
    "duration": 91,
    "start_time": "2021-07-06T12:18:10.800Z"
   },
   {
    "duration": 6,
    "start_time": "2021-07-06T12:18:10.895Z"
   },
   {
    "duration": 25,
    "start_time": "2021-07-06T12:18:10.904Z"
   },
   {
    "duration": 25,
    "start_time": "2021-07-06T12:18:10.932Z"
   },
   {
    "duration": 38,
    "start_time": "2021-07-06T12:18:10.960Z"
   },
   {
    "duration": 59,
    "start_time": "2021-07-06T12:18:11.001Z"
   },
   {
    "duration": 505,
    "start_time": "2021-07-06T12:18:11.063Z"
   },
   {
    "duration": 39,
    "start_time": "2021-07-06T12:18:11.571Z"
   },
   {
    "duration": 61,
    "start_time": "2021-07-06T12:18:11.612Z"
   },
   {
    "duration": 9,
    "start_time": "2021-07-06T12:18:11.676Z"
   },
   {
    "duration": 9,
    "start_time": "2021-07-06T12:18:11.687Z"
   },
   {
    "duration": 61,
    "start_time": "2021-07-06T12:18:11.699Z"
   },
   {
    "duration": 215,
    "start_time": "2021-07-06T12:18:11.763Z"
   },
   {
    "duration": 620,
    "start_time": "2021-07-06T12:18:11.981Z"
   },
   {
    "duration": 6,
    "start_time": "2021-07-06T12:18:12.604Z"
   },
   {
    "duration": 139,
    "start_time": "2021-07-06T12:18:12.612Z"
   },
   {
    "duration": 42,
    "start_time": "2021-07-06T12:18:12.756Z"
   },
   {
    "duration": 74,
    "start_time": "2021-07-06T12:18:12.802Z"
   },
   {
    "duration": 6,
    "start_time": "2021-07-06T12:18:12.879Z"
   },
   {
    "duration": 140,
    "start_time": "2021-07-06T12:18:12.888Z"
   },
   {
    "duration": 292,
    "start_time": "2021-07-06T12:18:13.031Z"
   },
   {
    "duration": 441,
    "start_time": "2021-07-06T12:18:22.645Z"
   },
   {
    "duration": 131,
    "start_time": "2021-07-06T12:18:23.088Z"
   },
   {
    "duration": 133,
    "start_time": "2021-07-06T12:18:23.222Z"
   },
   {
    "duration": 15,
    "start_time": "2021-07-06T12:18:24.400Z"
   },
   {
    "duration": 190,
    "start_time": "2021-07-06T12:18:24.997Z"
   },
   {
    "duration": 85,
    "start_time": "2021-07-06T12:18:25.847Z"
   },
   {
    "duration": 6,
    "start_time": "2021-07-06T12:18:26.368Z"
   },
   {
    "duration": 161,
    "start_time": "2021-07-06T12:18:26.776Z"
   },
   {
    "duration": 725,
    "start_time": "2021-07-06T12:18:28.120Z"
   },
   {
    "duration": 445,
    "start_time": "2021-07-06T12:18:33.128Z"
   },
   {
    "duration": 13,
    "start_time": "2021-07-06T12:18:36.103Z"
   },
   {
    "duration": 45,
    "start_time": "2021-07-06T12:18:37.576Z"
   },
   {
    "duration": 79,
    "start_time": "2021-07-06T12:18:38.197Z"
   },
   {
    "duration": 144,
    "start_time": "2021-07-06T12:18:38.846Z"
   },
   {
    "duration": 34,
    "start_time": "2021-07-06T12:18:40.336Z"
   },
   {
    "duration": 291,
    "start_time": "2021-07-06T12:18:41.544Z"
   },
   {
    "duration": 85,
    "start_time": "2021-07-06T12:18:42.550Z"
   },
   {
    "duration": 147,
    "start_time": "2021-07-06T12:18:43.296Z"
   },
   {
    "duration": 301,
    "start_time": "2021-07-06T12:18:44.264Z"
   },
   {
    "duration": 191,
    "start_time": "2021-07-06T12:19:00.351Z"
   },
   {
    "duration": 12,
    "start_time": "2021-07-06T12:19:01.294Z"
   },
   {
    "duration": 61,
    "start_time": "2021-07-06T12:19:01.946Z"
   },
   {
    "duration": 337,
    "start_time": "2021-07-06T12:19:02.360Z"
   },
   {
    "duration": 68982,
    "start_time": "2021-07-06T12:19:03.527Z"
   },
   {
    "duration": 26,
    "start_time": "2021-07-06T12:20:19.189Z"
   },
   {
    "duration": 18,
    "start_time": "2021-07-06T12:20:20.546Z"
   },
   {
    "duration": 30,
    "start_time": "2021-07-06T12:20:21.990Z"
   },
   {
    "duration": 70,
    "start_time": "2021-07-06T12:20:22.490Z"
   },
   {
    "duration": 459,
    "start_time": "2021-07-06T12:20:22.839Z"
   },
   {
    "duration": 69860,
    "start_time": "2021-07-06T12:20:23.301Z"
   },
   {
    "duration": 309,
    "start_time": "2021-07-06T12:21:33.166Z"
   },
   {
    "duration": 209,
    "start_time": "2021-07-06T12:21:38.582Z"
   },
   {
    "duration": 224,
    "start_time": "2021-07-06T12:21:46.367Z"
   },
   {
    "duration": 26,
    "start_time": "2021-07-06T12:22:20.414Z"
   },
   {
    "duration": 4,
    "start_time": "2021-07-06T12:22:46.208Z"
   },
   {
    "duration": 27529,
    "start_time": "2021-07-06T12:22:46.589Z"
   },
   {
    "duration": 26,
    "start_time": "2021-07-06T12:23:28.788Z"
   },
   {
    "duration": 28674,
    "start_time": "2021-07-06T12:23:47.742Z"
   },
   {
    "duration": 14,
    "start_time": "2021-07-06T12:24:25.390Z"
   },
   {
    "duration": 33595,
    "start_time": "2021-07-06T12:24:50.365Z"
   },
   {
    "duration": 24,
    "start_time": "2021-07-06T12:35:56.616Z"
   },
   {
    "duration": 62,
    "start_time": "2021-07-06T12:36:02.433Z"
   },
   {
    "duration": 4,
    "start_time": "2021-07-06T12:36:03.320Z"
   },
   {
    "duration": 311187,
    "start_time": "2021-07-06T12:48:43.672Z"
   },
   {
    "duration": 194,
    "start_time": "2021-07-06T12:54:17.131Z"
   },
   {
    "duration": 279,
    "start_time": "2021-07-06T12:54:21.277Z"
   },
   {
    "duration": 890,
    "start_time": "2021-07-06T12:54:24.274Z"
   },
   {
    "duration": 863,
    "start_time": "2021-07-06T12:54:32.402Z"
   },
   {
    "duration": 5,
    "start_time": "2021-07-06T12:54:48.992Z"
   },
   {
    "duration": 12203,
    "start_time": "2021-07-06T12:54:49.863Z"
   },
   {
    "duration": 935,
    "start_time": "2021-07-06T12:58:34.015Z"
   },
   {
    "duration": 49,
    "start_time": "2021-07-06T13:01:28.492Z"
   },
   {
    "duration": 10,
    "start_time": "2021-07-06T13:01:28.996Z"
   },
   {
    "duration": 16,
    "start_time": "2021-07-06T13:01:30.069Z"
   },
   {
    "duration": 15,
    "start_time": "2021-07-06T13:01:54.921Z"
   }
  ],
  "kernelspec": {
   "display_name": "Python 3",
   "language": "python",
   "name": "python3"
  },
  "language_info": {
   "codemirror_mode": {
    "name": "ipython",
    "version": 3
   },
   "file_extension": ".py",
   "mimetype": "text/x-python",
   "name": "python",
   "nbconvert_exporter": "python",
   "pygments_lexer": "ipython3",
   "version": "3.8.3"
  },
  "toc": {
   "base_numbering": 1,
   "nav_menu": {},
   "number_sections": true,
   "sideBar": true,
   "skip_h1_title": true,
   "title_cell": "Table of Contents",
   "title_sidebar": "Contents",
   "toc_cell": false,
   "toc_position": {},
   "toc_section_display": true,
   "toc_window_display": false
  }
 },
 "nbformat": 4,
 "nbformat_minor": 2
}
