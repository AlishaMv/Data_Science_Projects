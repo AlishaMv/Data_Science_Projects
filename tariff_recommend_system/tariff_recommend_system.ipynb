{
 "cells": [
  {
   "cell_type": "markdown",
   "metadata": {},
   "source": [
    "# Рекомендация тарифов"
   ]
  },
  {
   "cell_type": "markdown",
   "metadata": {},
   "source": [
    "В нашем распоряжении данные о поведении клиентов, которые уже перешли на эти тарифы. \n",
    "\n",
    "Нужно построить модель для задачи классификации, которая выберет подходящий тариф. \n",
    "\n",
    "Предобработка данных не понадобится — мы её уже сделали **в рамках проекта по определению ВЫГОДНОГО ТАРИФА ДЛЯ ТЕЛЕКОМ КОМПАНИИ**."
   ]
  },
  {
   "cell_type": "code",
   "execution_count": 1,
   "metadata": {},
   "outputs": [],
   "source": [
    "import pandas as pd\n",
    "import numpy as np\n",
    "import matplotlib.pyplot as plt\n",
    "\n",
    "import warnings\n",
    "warnings.filterwarnings('ignore')\n",
    "\n",
    "from sklearn.model_selection import train_test_split\n",
    "\n",
    "from sklearn.tree import DecisionTreeClassifier\n",
    "from sklearn.ensemble import RandomForestClassifier\n",
    "from sklearn.linear_model import LogisticRegression\n",
    "\n",
    "from sklearn.metrics import accuracy_score"
   ]
  },
  {
   "cell_type": "markdown",
   "metadata": {},
   "source": [
    "## Загрузка и первичный осмотр данных"
   ]
  },
  {
   "cell_type": "code",
   "execution_count": 2,
   "metadata": {},
   "outputs": [
    {
     "data": {
      "text/html": [
       "<div>\n",
       "<style scoped>\n",
       "    .dataframe tbody tr th:only-of-type {\n",
       "        vertical-align: middle;\n",
       "    }\n",
       "\n",
       "    .dataframe tbody tr th {\n",
       "        vertical-align: top;\n",
       "    }\n",
       "\n",
       "    .dataframe thead th {\n",
       "        text-align: right;\n",
       "    }\n",
       "</style>\n",
       "<table border=\"1\" class=\"dataframe\">\n",
       "  <thead>\n",
       "    <tr style=\"text-align: right;\">\n",
       "      <th></th>\n",
       "      <th>calls</th>\n",
       "      <th>minutes</th>\n",
       "      <th>messages</th>\n",
       "      <th>mb_used</th>\n",
       "      <th>is_ultra</th>\n",
       "    </tr>\n",
       "  </thead>\n",
       "  <tbody>\n",
       "    <tr>\n",
       "      <td>0</td>\n",
       "      <td>40.0</td>\n",
       "      <td>311.90</td>\n",
       "      <td>83.0</td>\n",
       "      <td>19915.42</td>\n",
       "      <td>0</td>\n",
       "    </tr>\n",
       "    <tr>\n",
       "      <td>1</td>\n",
       "      <td>85.0</td>\n",
       "      <td>516.75</td>\n",
       "      <td>56.0</td>\n",
       "      <td>22696.96</td>\n",
       "      <td>0</td>\n",
       "    </tr>\n",
       "    <tr>\n",
       "      <td>2</td>\n",
       "      <td>77.0</td>\n",
       "      <td>467.66</td>\n",
       "      <td>86.0</td>\n",
       "      <td>21060.45</td>\n",
       "      <td>0</td>\n",
       "    </tr>\n",
       "    <tr>\n",
       "      <td>3</td>\n",
       "      <td>106.0</td>\n",
       "      <td>745.53</td>\n",
       "      <td>81.0</td>\n",
       "      <td>8437.39</td>\n",
       "      <td>1</td>\n",
       "    </tr>\n",
       "    <tr>\n",
       "      <td>4</td>\n",
       "      <td>66.0</td>\n",
       "      <td>418.74</td>\n",
       "      <td>1.0</td>\n",
       "      <td>14502.75</td>\n",
       "      <td>0</td>\n",
       "    </tr>\n",
       "  </tbody>\n",
       "</table>\n",
       "</div>"
      ],
      "text/plain": [
       "   calls  minutes  messages   mb_used  is_ultra\n",
       "0   40.0   311.90      83.0  19915.42         0\n",
       "1   85.0   516.75      56.0  22696.96         0\n",
       "2   77.0   467.66      86.0  21060.45         0\n",
       "3  106.0   745.53      81.0   8437.39         1\n",
       "4   66.0   418.74       1.0  14502.75         0"
      ]
     },
     "execution_count": 2,
     "metadata": {},
     "output_type": "execute_result"
    }
   ],
   "source": [
    "df = pd.read_csv('/datasets/users_behavior.csv')\n",
    "df.head()"
   ]
  },
  {
   "cell_type": "markdown",
   "metadata": {},
   "source": [
    "**Описание данных**\n",
    "\n",
    "* сalls — количество звонков,\n",
    "* minutes — суммарная длительность звонков в минутах,\n",
    "* messages — количество sms-сообщений,\n",
    "* mb_used — израсходованный интернет-трафик в Мб,\n",
    "* is_ultra — каким тарифом пользовался в течение месяца («Ультра» — 1, «Смарт» — 0)."
   ]
  },
  {
   "cell_type": "code",
   "execution_count": 3,
   "metadata": {},
   "outputs": [
    {
     "data": {
      "text/html": [
       "<div>\n",
       "<style scoped>\n",
       "    .dataframe tbody tr th:only-of-type {\n",
       "        vertical-align: middle;\n",
       "    }\n",
       "\n",
       "    .dataframe tbody tr th {\n",
       "        vertical-align: top;\n",
       "    }\n",
       "\n",
       "    .dataframe thead th {\n",
       "        text-align: right;\n",
       "    }\n",
       "</style>\n",
       "<table border=\"1\" class=\"dataframe\">\n",
       "  <thead>\n",
       "    <tr style=\"text-align: right;\">\n",
       "      <th></th>\n",
       "      <th>calls</th>\n",
       "      <th>minutes</th>\n",
       "      <th>messages</th>\n",
       "      <th>mb_used</th>\n",
       "      <th>is_ultra</th>\n",
       "    </tr>\n",
       "  </thead>\n",
       "  <tbody>\n",
       "    <tr>\n",
       "      <td>count</td>\n",
       "      <td>3214.000000</td>\n",
       "      <td>3214.000000</td>\n",
       "      <td>3214.000000</td>\n",
       "      <td>3214.000000</td>\n",
       "      <td>3214.000000</td>\n",
       "    </tr>\n",
       "    <tr>\n",
       "      <td>mean</td>\n",
       "      <td>63.038892</td>\n",
       "      <td>438.208787</td>\n",
       "      <td>38.281269</td>\n",
       "      <td>17207.673836</td>\n",
       "      <td>0.306472</td>\n",
       "    </tr>\n",
       "    <tr>\n",
       "      <td>std</td>\n",
       "      <td>33.236368</td>\n",
       "      <td>234.569872</td>\n",
       "      <td>36.148326</td>\n",
       "      <td>7570.968246</td>\n",
       "      <td>0.461100</td>\n",
       "    </tr>\n",
       "    <tr>\n",
       "      <td>min</td>\n",
       "      <td>0.000000</td>\n",
       "      <td>0.000000</td>\n",
       "      <td>0.000000</td>\n",
       "      <td>0.000000</td>\n",
       "      <td>0.000000</td>\n",
       "    </tr>\n",
       "    <tr>\n",
       "      <td>25%</td>\n",
       "      <td>40.000000</td>\n",
       "      <td>274.575000</td>\n",
       "      <td>9.000000</td>\n",
       "      <td>12491.902500</td>\n",
       "      <td>0.000000</td>\n",
       "    </tr>\n",
       "    <tr>\n",
       "      <td>50%</td>\n",
       "      <td>62.000000</td>\n",
       "      <td>430.600000</td>\n",
       "      <td>30.000000</td>\n",
       "      <td>16943.235000</td>\n",
       "      <td>0.000000</td>\n",
       "    </tr>\n",
       "    <tr>\n",
       "      <td>75%</td>\n",
       "      <td>82.000000</td>\n",
       "      <td>571.927500</td>\n",
       "      <td>57.000000</td>\n",
       "      <td>21424.700000</td>\n",
       "      <td>1.000000</td>\n",
       "    </tr>\n",
       "    <tr>\n",
       "      <td>max</td>\n",
       "      <td>244.000000</td>\n",
       "      <td>1632.060000</td>\n",
       "      <td>224.000000</td>\n",
       "      <td>49745.730000</td>\n",
       "      <td>1.000000</td>\n",
       "    </tr>\n",
       "  </tbody>\n",
       "</table>\n",
       "</div>"
      ],
      "text/plain": [
       "             calls      minutes     messages       mb_used     is_ultra\n",
       "count  3214.000000  3214.000000  3214.000000   3214.000000  3214.000000\n",
       "mean     63.038892   438.208787    38.281269  17207.673836     0.306472\n",
       "std      33.236368   234.569872    36.148326   7570.968246     0.461100\n",
       "min       0.000000     0.000000     0.000000      0.000000     0.000000\n",
       "25%      40.000000   274.575000     9.000000  12491.902500     0.000000\n",
       "50%      62.000000   430.600000    30.000000  16943.235000     0.000000\n",
       "75%      82.000000   571.927500    57.000000  21424.700000     1.000000\n",
       "max     244.000000  1632.060000   224.000000  49745.730000     1.000000"
      ]
     },
     "execution_count": 3,
     "metadata": {},
     "output_type": "execute_result"
    }
   ],
   "source": [
    "df.describe()"
   ]
  },
  {
   "cell_type": "code",
   "execution_count": 4,
   "metadata": {},
   "outputs": [
    {
     "data": {
      "text/plain": [
       "0    2229\n",
       "1     985\n",
       "Name: is_ultra, dtype: int64"
      ]
     },
     "execution_count": 4,
     "metadata": {},
     "output_type": "execute_result"
    }
   ],
   "source": [
    "df.is_ultra.value_counts()"
   ]
  },
  {
   "cell_type": "code",
   "execution_count": 5,
   "metadata": {},
   "outputs": [
    {
     "name": "stdout",
     "output_type": "stream",
     "text": [
      "<class 'pandas.core.frame.DataFrame'>\n",
      "RangeIndex: 3214 entries, 0 to 3213\n",
      "Data columns (total 5 columns):\n",
      "calls       3214 non-null float64\n",
      "minutes     3214 non-null float64\n",
      "messages    3214 non-null float64\n",
      "mb_used     3214 non-null float64\n",
      "is_ultra    3214 non-null int64\n",
      "dtypes: float64(4), int64(1)\n",
      "memory usage: 125.7 KB\n"
     ]
    }
   ],
   "source": [
    "df.info()"
   ]
  },
  {
   "cell_type": "markdown",
   "metadata": {},
   "source": [
    "Можно сделать вывод о том, что нам предоставлены данные без пропущенных значений и сильных выбросов, с корректными наименованиями столбцов, по которым к ним легко будет обращаться. Нет слишком больших, а также отрицательных значений, которые не вписались бы в логику по смыслу информации, хранящейся в столбцах. В столбце нет is_ultra (тариф) нет лишних тарифов, кроме имеющихся в описании: только «Ультра» — 1, «Смарт» — 0."
   ]
  },
  {
   "cell_type": "markdown",
   "metadata": {},
   "source": [
    "## Разбиение данных на выборки\n",
    "\n",
    "Перед нами стоит задача построить модель для задачи классификации, которая выберет подходящий тариф.\n",
    "Целевой признак в задаче классификации является категориальным. У нас целевой признак - это тариф (Ультра или Смарт) и он категориальный."
   ]
  },
  {
   "cell_type": "code",
   "execution_count": 6,
   "metadata": {},
   "outputs": [
    {
     "data": {
      "text/plain": [
       "(3214, 5)"
      ]
     },
     "execution_count": 6,
     "metadata": {},
     "output_type": "execute_result"
    }
   ],
   "source": [
    "df.shape"
   ]
  },
  {
   "cell_type": "markdown",
   "metadata": {},
   "source": [
    "Разобьем весь набор данных на 2 выборки: обучающую и другую (выделим на вторую выборку 40%, а параметр random_state приравняем к любому значению (кроме None) - чтобы зафиксировать псевдослучайность):"
   ]
  },
  {
   "cell_type": "code",
   "execution_count": 7,
   "metadata": {},
   "outputs": [
    {
     "name": "stdout",
     "output_type": "stream",
     "text": [
      "(1928, 5)\n",
      "(1286, 5)\n"
     ]
    }
   ],
   "source": [
    "df_train, df_test_valid = train_test_split(df, test_size=0.4, random_state=12345, stratify=df.is_ultra) \n",
    "\n",
    "print(df_train.shape)\n",
    "print(df_test_valid.shape)"
   ]
  },
  {
   "cell_type": "markdown",
   "metadata": {},
   "source": [
    "Разобьем вторую получившуюся выборку пополам еще на 2 выборки: тестовую и валидационную (укажем параметр test_size=0.5, чтобы определить размер валидационной выборки как 50%)"
   ]
  },
  {
   "cell_type": "code",
   "execution_count": 8,
   "metadata": {},
   "outputs": [
    {
     "name": "stdout",
     "output_type": "stream",
     "text": [
      "(643, 5)\n",
      "(643, 5)\n"
     ]
    }
   ],
   "source": [
    "df_test, df_valid = train_test_split(df_test_valid, test_size=0.5, random_state=12345, stratify=df_test_valid.is_ultra)\n",
    "\n",
    "print(df_test.shape)\n",
    "print(df_valid.shape)"
   ]
  },
  {
   "cell_type": "markdown",
   "metadata": {},
   "source": [
    "В итоге, мы получили 3 выборки:\n",
    "* тренировочную df_train (60%)\n",
    "* валидационную df_valid (20%)\n",
    "* тестовую df_test (20%)\n",
    "\n",
    "Объявим переменные с признаками для обучения:  \n",
    "target_train (цель для обучения) и  features_train (признаки для обучения):"
   ]
  },
  {
   "cell_type": "code",
   "execution_count": 9,
   "metadata": {},
   "outputs": [
    {
     "name": "stdout",
     "output_type": "stream",
     "text": [
      "(1928, 4)\n",
      "(1928,)\n"
     ]
    }
   ],
   "source": [
    "features_train = df_train.drop(['is_ultra'], axis=1)\n",
    "target_train = df_train['is_ultra']\n",
    "\n",
    "print(features_train.shape)\n",
    "print(target_train.shape)"
   ]
  },
  {
   "cell_type": "markdown",
   "metadata": {},
   "source": [
    "Создадим аналогичные переменные для проверки:  \n",
    "с целевым признаком — target_test и target_valid  \n",
    "с остальными признаками — features_test и features_valid"
   ]
  },
  {
   "cell_type": "code",
   "execution_count": 10,
   "metadata": {},
   "outputs": [
    {
     "name": "stdout",
     "output_type": "stream",
     "text": [
      "(643, 4)\n",
      "(643,)\n"
     ]
    }
   ],
   "source": [
    "features_test = df_test.drop(['is_ultra'], axis=1)\n",
    "target_test = df_test['is_ultra']\n",
    "\n",
    "print(features_test.shape)\n",
    "print(target_test.shape)"
   ]
  },
  {
   "cell_type": "code",
   "execution_count": 11,
   "metadata": {},
   "outputs": [
    {
     "name": "stdout",
     "output_type": "stream",
     "text": [
      "(643, 4)\n",
      "(643,)\n"
     ]
    }
   ],
   "source": [
    "features_valid = df_valid.drop(['is_ultra'], axis=1)\n",
    "target_valid = df_valid['is_ultra']\n",
    "\n",
    "print(features_valid.shape)\n",
    "print(target_valid.shape)"
   ]
  },
  {
   "cell_type": "markdown",
   "metadata": {},
   "source": [
    "По выводам размеров таблиц видим, что все поделено корректно.\n",
    "\n",
    "## Исследование моделей\n",
    "\n",
    "Для решения задачи классификации, мы изучили 3 модели: дерево решений, случайный лес и логистическая регрессия.  \n",
    "Исследуем перечисленные модели на наших данных.\n",
    "\n",
    "\n",
    "**Дерево решений**\n",
    "\n",
    "Воспользуемся DecisionTreeClassifier из библиотеки sklearn.tree.  \n",
    "\n",
    "* Чтобы найти лучшее значение гиперпараметра maх_depth, переберем в цикле разные его значения и сравним качество моделей\n",
    "* Запишем модель в переменной, указав гиперпараметры. Зафиксируем псевдослучайность параметром random_state\n",
    "* Чтобы управлять глубиной вложенности дерева регений, пропишем гиперпараметр max_depth\n",
    "* Обучим модель методом fit() на тренировочной выборке, в результате модель будет обучена и готова предсказывать\n",
    "* Вызовем метод predict() для предсказания результатов\n"
   ]
  },
  {
   "cell_type": "code",
   "execution_count": 12,
   "metadata": {},
   "outputs": [
    {
     "name": "stdout",
     "output_type": "stream",
     "text": [
      "Accuracy наилучшей модели на валидационной выборке: 0.7993779160186625\n",
      "Оптимальная глубина вложенности дерева решений: 3\n"
     ]
    }
   ],
   "source": [
    "best_model_tree = None\n",
    "best_result = 0\n",
    "\n",
    "for depth in range(1, 5):\n",
    "    model_tree = DecisionTreeClassifier(random_state=12345, max_depth=depth)\n",
    "    model_tree.fit(features_train, target_train)\n",
    "    predictions_valid = model_tree.predict(features_valid)\n",
    "    result = accuracy_score(target_valid, predictions_valid)\n",
    "    \n",
    "    if result > best_result:\n",
    "        best_model_tree = model_tree\n",
    "        best_result = result\n",
    "        best_depth = depth\n",
    "\n",
    "print(\"Accuracy наилучшей модели на валидационной выборке:\", best_result)\n",
    "print(\"Оптимальная глубина вложенности дерева решений:\", best_depth)    "
   ]
  },
  {
   "cell_type": "markdown",
   "metadata": {},
   "source": [
    "При использовании модели дерево решений, оптимальной глубиной дерева оказалась max_depth = 3, т.к. у нее самое высокое значение accuracy =  0.799, в сравнении с другими найденными в цикле.\n",
    "\n",
    "**Случайный лес**\n",
    "\n",
    "Используем алгоритм случайного леса RandomForestClassifier из библиотеки sklearn.ensemble.\n",
    "\n",
    "* Запишем модель в переменной, указав гиперпараметры. Зафиксируем псевдослучайность параметром random_state\n",
    "* Чтобы управлять количеством деревьев в лесу, пропишем гиперпараметр n_estimator\n",
    "* Обучим модель на тренировочной выборке методом .fit()\n",
    "* Проверим качество модели методом score(), который производит подсчет accuracy для всех алгоритмов классификации.\n",
    "* В best_model сохраним наилучшую модель\n",
    "* В best_result сохраним наилучшее значение метрики accuracy на валидационных данных и распечатаем его"
   ]
  },
  {
   "cell_type": "code",
   "execution_count": 13,
   "metadata": {},
   "outputs": [
    {
     "name": "stdout",
     "output_type": "stream",
     "text": [
      "Accuracy наилучшей модели на валидационной выборке: 0.7947122861586314\n",
      "Оптимальное количество деревьев в лесу: 9\n"
     ]
    }
   ],
   "source": [
    "best_model_forest = None\n",
    "best_result = 0\n",
    "\n",
    "for est in range(1, 11):\n",
    "    \n",
    "    model_forest = RandomForestClassifier(random_state=12345, n_estimators=est)\n",
    "    model_forest.fit(features_train, target_train)\n",
    "    result = model_forest.score(features_valid, target_valid)\n",
    "    \n",
    "    if result > best_result:\n",
    "        best_model_forest = model_forest\n",
    "        best_result = result\n",
    "        best_est = est\n",
    "\n",
    "print(\"Accuracy наилучшей модели на валидационной выборке:\", best_result)\n",
    "print(\"Оптимальное количество деревьев в лесу:\", best_est)"
   ]
  },
  {
   "cell_type": "markdown",
   "metadata": {},
   "source": [
    "Получившееся значение accuracy чуть меньше чем у дерева решений, значит модель \"случайный лес\" поможет нам получить менее точные предсказания на валидационной выборке, чем модель \"дерево решений\", однако значения почти равны (отличие на 5 тысячных).\n",
    "\n",
    "**Логистическая регрессия**\n",
    "\n",
    "Воспользуемся моделью LogisticRegression из модуля sklearn.linear_model\n",
    "\n",
    "* Запишем модель в переменной model, указав гиперпараметры. Для постоянства результата зададим random_state = 12345\n",
    "* Обучим модель на тренировочной выборке вызовом метода fit() с параметрами features_train, target_train\n",
    "* Вызовем функцию .score(), чтобы получить метрику качества предсказаний модели (accuracy) на валидационной выборке "
   ]
  },
  {
   "cell_type": "code",
   "execution_count": 14,
   "metadata": {},
   "outputs": [
    {
     "name": "stdout",
     "output_type": "stream",
     "text": [
      "Accuracy модели логистической регрессии на валидационной выборке: 0.7107309486780715\n"
     ]
    }
   ],
   "source": [
    "model_regr = LogisticRegression(random_state=12345)\n",
    "model_regr.fit(features_train, target_train)\n",
    "result = model_regr.score(features_valid, target_valid)\n",
    "\n",
    "print(\"Accuracy модели логистической регрессии на валидационной выборке:\", result)"
   ]
  },
  {
   "cell_type": "markdown",
   "metadata": {},
   "source": [
    "В результате применения логистической регрессии мы получили самое низкое значение метрики качества предсказаний на валидационной выборке, а значит данная модель предскажет хуже чем \"Случайный лес\" и \"Дерево решений\".\n",
    "\n",
    "## Тестирование моделей\n",
    "\n",
    "**Дерево решений**  \n",
    "Произведем предсказания на тестовой выборке и посмотрим на количество ошибок:"
   ]
  },
  {
   "cell_type": "code",
   "execution_count": 15,
   "metadata": {},
   "outputs": [
    {
     "name": "stdout",
     "output_type": "stream",
     "text": [
      "Ошибок: 143\n"
     ]
    }
   ],
   "source": [
    "predictions = list(best_model_tree.predict(features_test))\n",
    "answers = list(target_test)\n",
    "\n",
    "def error_count(answers, predictions):\n",
    "    n = 0\n",
    "    for i in range(len(answers)):\n",
    "        if answers[i] != predictions[i]:\n",
    "            n += 1\n",
    "    return n\n",
    "\n",
    "print(\"Ошибок:\", error_count(answers, predictions))"
   ]
  },
  {
   "cell_type": "code",
   "execution_count": 16,
   "metadata": {},
   "outputs": [
    {
     "data": {
      "text/plain": [
       "643"
      ]
     },
     "execution_count": 16,
     "metadata": {},
     "output_type": "execute_result"
    }
   ],
   "source": [
    "len(answers)"
   ]
  },
  {
   "cell_type": "markdown",
   "metadata": {},
   "source": [
    "Посмотрим на accuracy на тестовой выборке:"
   ]
  },
  {
   "cell_type": "code",
   "execution_count": 17,
   "metadata": {},
   "outputs": [
    {
     "name": "stdout",
     "output_type": "stream",
     "text": [
      "Accuracy на тестовой выборке (Дерево решений): 0.7776049766718507\n"
     ]
    }
   ],
   "source": [
    "test_predictions = best_model_tree.predict(features_test)\n",
    "accuracy_test = accuracy_score(target_test, test_predictions) \n",
    "\n",
    "print(\"Accuracy на тестовой выборке (Дерево решений):\", accuracy_test)"
   ]
  },
  {
   "cell_type": "markdown",
   "metadata": {},
   "source": [
    "На валидационной выборке модель предсказывает немного лучше, но, можно сказать, что почти одинаково.\n",
    "\n",
    "\n",
    "**Случайный лес**  \n",
    "Проверим то же самое на сохраненной модели случайного леса:"
   ]
  },
  {
   "cell_type": "code",
   "execution_count": 18,
   "metadata": {},
   "outputs": [
    {
     "name": "stdout",
     "output_type": "stream",
     "text": [
      "Accuracy на тестовой выборке (Случайный лес) 0.7698289269051322\n"
     ]
    }
   ],
   "source": [
    "test_predictions = best_model_forest.predict(features_test)\n",
    "accuracy_test = accuracy_score(target_test, test_predictions) \n",
    "\n",
    "print(\"Accuracy на тестовой выборке (Случайный лес)\", accuracy_test)"
   ]
  },
  {
   "cell_type": "markdown",
   "metadata": {},
   "source": [
    "Accuracy на тестовой выборке ниже, чем на валидационной, и почти равно предсказанию по модели Дерева решений.\n",
    "\n",
    "**Логистическая регрессия**"
   ]
  },
  {
   "cell_type": "code",
   "execution_count": 19,
   "metadata": {},
   "outputs": [
    {
     "name": "stdout",
     "output_type": "stream",
     "text": [
      "Accuracy на тестовой выборке (Логистическая регрессия) 0.71850699844479\n"
     ]
    }
   ],
   "source": [
    "test_predictions = model_regr.predict(features_test)\n",
    "accuracy_test = accuracy_score(target_test, test_predictions) \n",
    "\n",
    "print(\"Accuracy на тестовой выборке (Логистическая регрессия)\", accuracy_test)"
   ]
  },
  {
   "cell_type": "markdown",
   "metadata": {},
   "source": [
    "Предсказания на валидационной и тестовой выборках сильно похожи, но являются самыми отдаленными от реальности среди всех остальных способов: accuracy не достиг даже 0,75\n",
    "\n",
    "Можно сделать вывод о том, что алгоритмы случайного леса и дерева решений помогли сделать нам самые близкие к реальным показателям предсказания, но если учесть что скорость выполнения у алгоритмов разная, то решающее дерево выигрывает, т.к. оно выполняется быстрее.\n",
    "\n",
    "## Проверка модели на адекватность"
   ]
  },
  {
   "cell_type": "markdown",
   "metadata": {},
   "source": [
    "Результаты предыдущего пункта свидетельствуют о том, что мы можем применять модели машинного обучения такие как \"Дерево решений\" и \"Случайный лес\" для прогнозирования тарифа на основе доступных данных.  \n",
    "С помощью \"Дерева решений\" удалось на тестовых данных добиться погрешности в пределах 0.045. С учетом высокой скорости выполнения и относительно невысокой погрешности, данная модель может считаться самой адекватной.\n",
    "\n",
    "Исследуем модели на адекватность при помощи DummyClassifier из библиотеки sklearn.dummy:"
   ]
  },
  {
   "cell_type": "code",
   "execution_count": 26,
   "metadata": {},
   "outputs": [
    {
     "name": "stdout",
     "output_type": "stream",
     "text": [
      "accuracy на тестовом наборе: 0.6936236391912908\n"
     ]
    }
   ],
   "source": [
    "from sklearn.dummy import DummyClassifier\n",
    "\n",
    "dummy = DummyClassifier(strategy=\"most_frequent\").fit(features_train, target_train)\n",
    "dummy_pred = dummy.predict(target_test)\n",
    "dummy_score = accuracy_score(target_test, dummy_pred)\n",
    "\n",
    "print(\"accuracy на тестовом наборе:\", dummy_score)"
   ]
  },
  {
   "cell_type": "markdown",
   "metadata": {},
   "source": [
    "Accuracy всех рассматриваемых нами выше моделей оказался больше чем dummy_score = 0,69.  \n",
    "Таким образом, делаем вывод о том, что все вышеуказанные модели являются адекватными."
   ]
  }
 ],
 "metadata": {
  "kernelspec": {
   "display_name": "Python 3",
   "language": "python",
   "name": "python3"
  },
  "language_info": {
   "codemirror_mode": {
    "name": "ipython",
    "version": 3
   },
   "file_extension": ".py",
   "mimetype": "text/x-python",
   "name": "python",
   "nbconvert_exporter": "python",
   "pygments_lexer": "ipython3",
   "version": "3.8.3"
  },
  "toc": {
   "base_numbering": 1,
   "nav_menu": {},
   "number_sections": true,
   "sideBar": true,
   "skip_h1_title": true,
   "title_cell": "Table of Contents",
   "title_sidebar": "Contents",
   "toc_cell": false,
   "toc_position": {},
   "toc_section_display": true,
   "toc_window_display": false
  }
 },
 "nbformat": 4,
 "nbformat_minor": 2
}
